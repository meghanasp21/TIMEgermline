{
 "cells": [
  {
   "cell_type": "code",
   "execution_count": 1,
   "metadata": {},
   "outputs": [],
   "source": [
    "import pandas as pd\n",
    "import seaborn as sns\n",
    "from matplotlib import pyplot as plt\n",
    "import numpy as np"
   ]
  },
  {
   "cell_type": "code",
   "execution_count": 2,
   "metadata": {},
   "outputs": [],
   "source": [
    "import matplotlib\n",
    "matplotlib.rcParams['pdf.fonttype'] = 42\n",
    "matplotlib.rcParams['ps.fonttype'] = 42"
   ]
  },
  {
   "cell_type": "code",
   "execution_count": 3,
   "metadata": {},
   "outputs": [],
   "source": [
    "from scipy.stats import chi2_contingency\n",
    "import scipy.stats as stats"
   ]
  },
  {
   "cell_type": "markdown",
   "metadata": {},
   "source": [
    "## Check expression to RNA normalized data"
   ]
  },
  {
   "cell_type": "code",
   "execution_count": 4,
   "metadata": {},
   "outputs": [
    {
     "data": {
      "text/html": [
       "<div>\n",
       "<style scoped>\n",
       "    .dataframe tbody tr th:only-of-type {\n",
       "        vertical-align: middle;\n",
       "    }\n",
       "\n",
       "    .dataframe tbody tr th {\n",
       "        vertical-align: top;\n",
       "    }\n",
       "\n",
       "    .dataframe thead th {\n",
       "        text-align: right;\n",
       "    }\n",
       "</style>\n",
       "<table border=\"1\" class=\"dataframe\">\n",
       "  <thead>\n",
       "    <tr style=\"text-align: right;\">\n",
       "      <th></th>\n",
       "      <th>FID</th>\n",
       "      <th>IID</th>\n",
       "      <th>PAT</th>\n",
       "      <th>MAT</th>\n",
       "      <th>SEX</th>\n",
       "      <th>PHENOTYPE</th>\n",
       "      <th>6:26364628:A:C_C</th>\n",
       "      <th>6:26370605:T:C_C</th>\n",
       "      <th>6:27410422:G:A_A</th>\n",
       "      <th>6:28741734:C:A_A</th>\n",
       "      <th>...</th>\n",
       "      <th>6:32804570:G:A_A</th>\n",
       "      <th>6:32850839:C:T_T</th>\n",
       "      <th>6:32852448:C:T_T</th>\n",
       "      <th>6:32853511:G:A_A</th>\n",
       "      <th>6:32899485:G:A_A</th>\n",
       "      <th>6:32900718:G:A_A</th>\n",
       "      <th>6:33049074:G:T_T</th>\n",
       "      <th>6:33064393:G:A_A</th>\n",
       "      <th>6:33077271:A:G_G</th>\n",
       "      <th>6:29933439:T:C_T</th>\n",
       "    </tr>\n",
       "  </thead>\n",
       "  <tbody>\n",
       "    <tr>\n",
       "      <th>0</th>\n",
       "      <td>TCGA-01-0628</td>\n",
       "      <td>TCGA-01-0628</td>\n",
       "      <td>0</td>\n",
       "      <td>0</td>\n",
       "      <td>2</td>\n",
       "      <td>-9</td>\n",
       "      <td>0</td>\n",
       "      <td>1</td>\n",
       "      <td>0</td>\n",
       "      <td>0</td>\n",
       "      <td>...</td>\n",
       "      <td>0</td>\n",
       "      <td>0</td>\n",
       "      <td>0</td>\n",
       "      <td>0</td>\n",
       "      <td>2</td>\n",
       "      <td>0</td>\n",
       "      <td>0</td>\n",
       "      <td>0</td>\n",
       "      <td>0</td>\n",
       "      <td>2</td>\n",
       "    </tr>\n",
       "    <tr>\n",
       "      <th>1</th>\n",
       "      <td>TCGA-01-0630</td>\n",
       "      <td>TCGA-01-0630</td>\n",
       "      <td>0</td>\n",
       "      <td>0</td>\n",
       "      <td>2</td>\n",
       "      <td>-9</td>\n",
       "      <td>1</td>\n",
       "      <td>2</td>\n",
       "      <td>1</td>\n",
       "      <td>0</td>\n",
       "      <td>...</td>\n",
       "      <td>1</td>\n",
       "      <td>0</td>\n",
       "      <td>0</td>\n",
       "      <td>0</td>\n",
       "      <td>0</td>\n",
       "      <td>1</td>\n",
       "      <td>1</td>\n",
       "      <td>0</td>\n",
       "      <td>1</td>\n",
       "      <td>2</td>\n",
       "    </tr>\n",
       "    <tr>\n",
       "      <th>2</th>\n",
       "      <td>TCGA-01-0633</td>\n",
       "      <td>TCGA-01-0633</td>\n",
       "      <td>0</td>\n",
       "      <td>0</td>\n",
       "      <td>2</td>\n",
       "      <td>-9</td>\n",
       "      <td>0</td>\n",
       "      <td>2</td>\n",
       "      <td>0</td>\n",
       "      <td>0</td>\n",
       "      <td>...</td>\n",
       "      <td>1</td>\n",
       "      <td>0</td>\n",
       "      <td>0</td>\n",
       "      <td>0</td>\n",
       "      <td>1</td>\n",
       "      <td>0</td>\n",
       "      <td>0</td>\n",
       "      <td>0</td>\n",
       "      <td>0</td>\n",
       "      <td>1</td>\n",
       "    </tr>\n",
       "    <tr>\n",
       "      <th>3</th>\n",
       "      <td>TCGA-01-0636</td>\n",
       "      <td>TCGA-01-0636</td>\n",
       "      <td>0</td>\n",
       "      <td>0</td>\n",
       "      <td>2</td>\n",
       "      <td>-9</td>\n",
       "      <td>0</td>\n",
       "      <td>1</td>\n",
       "      <td>0</td>\n",
       "      <td>0</td>\n",
       "      <td>...</td>\n",
       "      <td>0</td>\n",
       "      <td>1</td>\n",
       "      <td>0</td>\n",
       "      <td>0</td>\n",
       "      <td>0</td>\n",
       "      <td>1</td>\n",
       "      <td>0</td>\n",
       "      <td>0</td>\n",
       "      <td>0</td>\n",
       "      <td>1</td>\n",
       "    </tr>\n",
       "    <tr>\n",
       "      <th>4</th>\n",
       "      <td>TCGA-01-0637</td>\n",
       "      <td>TCGA-01-0637</td>\n",
       "      <td>0</td>\n",
       "      <td>0</td>\n",
       "      <td>2</td>\n",
       "      <td>-9</td>\n",
       "      <td>0</td>\n",
       "      <td>2</td>\n",
       "      <td>0</td>\n",
       "      <td>0</td>\n",
       "      <td>...</td>\n",
       "      <td>1</td>\n",
       "      <td>0</td>\n",
       "      <td>0</td>\n",
       "      <td>0</td>\n",
       "      <td>0</td>\n",
       "      <td>0</td>\n",
       "      <td>0</td>\n",
       "      <td>0</td>\n",
       "      <td>2</td>\n",
       "      <td>1</td>\n",
       "    </tr>\n",
       "  </tbody>\n",
       "</table>\n",
       "<p>5 rows × 112 columns</p>\n",
       "</div>"
      ],
      "text/plain": [
       "            FID           IID  PAT  MAT  SEX  PHENOTYPE  6:26364628:A:C_C  \\\n",
       "0  TCGA-01-0628  TCGA-01-0628    0    0    2         -9                 0   \n",
       "1  TCGA-01-0630  TCGA-01-0630    0    0    2         -9                 1   \n",
       "2  TCGA-01-0633  TCGA-01-0633    0    0    2         -9                 0   \n",
       "3  TCGA-01-0636  TCGA-01-0636    0    0    2         -9                 0   \n",
       "4  TCGA-01-0637  TCGA-01-0637    0    0    2         -9                 0   \n",
       "\n",
       "   6:26370605:T:C_C  6:27410422:G:A_A  6:28741734:C:A_A  ...  \\\n",
       "0                 1                 0                 0  ...   \n",
       "1                 2                 1                 0  ...   \n",
       "2                 2                 0                 0  ...   \n",
       "3                 1                 0                 0  ...   \n",
       "4                 2                 0                 0  ...   \n",
       "\n",
       "   6:32804570:G:A_A  6:32850839:C:T_T  6:32852448:C:T_T  6:32853511:G:A_A  \\\n",
       "0                 0                 0                 0                 0   \n",
       "1                 1                 0                 0                 0   \n",
       "2                 1                 0                 0                 0   \n",
       "3                 0                 1                 0                 0   \n",
       "4                 1                 0                 0                 0   \n",
       "\n",
       "   6:32899485:G:A_A  6:32900718:G:A_A  6:33049074:G:T_T  6:33064393:G:A_A  \\\n",
       "0                 2                 0                 0                 0   \n",
       "1                 0                 1                 1                 0   \n",
       "2                 1                 0                 0                 0   \n",
       "3                 0                 1                 0                 0   \n",
       "4                 0                 0                 0                 0   \n",
       "\n",
       "   6:33077271:A:G_G  6:29933439:T:C_T  \n",
       "0                 0                 2  \n",
       "1                 1                 2  \n",
       "2                 0                 1  \n",
       "3                 0                 1  \n",
       "4                 2                 1  \n",
       "\n",
       "[5 rows x 112 columns]"
      ]
     },
     "execution_count": 4,
     "metadata": {},
     "output_type": "execute_result"
    }
   ],
   "source": [
    "raw = pd.read_csv('/nrnb/users/mpagadal/tcga-genotypes/germline-immune/hla.snp.raw',sep=' ')\n",
    "raw[\"6:29933439:T:C_T\"]=raw[\"6:29933439:T:C_C\"].map({2:0,1:1,0:2})\n",
    "raw.head()"
   ]
  },
  {
   "cell_type": "code",
   "execution_count": 5,
   "metadata": {},
   "outputs": [],
   "source": [
    "tpm=pd.read_csv(\"/cellar/users/mpagadal/Data2/projects/germline-immune/discovery/phenotypes/processed_phenos/tpm/tumor/pheno_all_zcancer\",delimiter=\"\\t\")\n",
    "firebrowse=pd.read_csv(\"/cellar/users/mpagadal/Data2/projects/germline-immune/discovery/phenotypes/processed_phenos/firebrowse/tumor/pheno_all_zcancer\",delimiter=\"\\t\")\n",
    "pancan=pd.read_csv(\"/cellar/users/mpagadal/Data2/projects/germline-immune/discovery/phenotypes/processed_phenos/pancanatlas/tumor/pheno_all_zcancer\",delimiter=\"\\t\")\n",
    "ase=pd.read_csv(\"/cellar/users/mpagadal/Data2/projects/germline-immune/hla-deep-dive/phenotypes/hla-ase/avg/pheno_all_zcancer\",delimiter=\"\\t\")"
   ]
  },
  {
   "cell_type": "code",
   "execution_count": 6,
   "metadata": {},
   "outputs": [],
   "source": [
    "canc = pd.read_csv(\"/nrnb/users/mpagadal/tcga-genotypes/birdseed-processing/gtype.meta\", delimiter=\"\\t\", header=None)\n",
    "mp = canc.set_index(2)[0].to_dict()\n",
    "\n",
    "tpm[\"cancer\"]=tpm[\"FID\"].map(mp)\n",
    "firebrowse[\"cancer\"]=firebrowse[\"FID\"].map(mp)\n",
    "pancan[\"cancer\"]=pancan[\"FID\"].map(mp)"
   ]
  },
  {
   "cell_type": "code",
   "execution_count": 7,
   "metadata": {},
   "outputs": [],
   "source": [
    "geno_immune=pd.merge(raw,pancan,on=[\"FID\",\"IID\"])"
   ]
  },
  {
   "cell_type": "code",
   "execution_count": 8,
   "metadata": {},
   "outputs": [],
   "source": [
    "snp=\"6:29933439\"\n",
    "snp=[x for x in geno_immune.columns if snp in x][0]\n",
    "gene=\"HLA.A\""
   ]
  },
  {
   "cell_type": "code",
   "execution_count": 9,
   "metadata": {},
   "outputs": [],
   "source": [
    "geno_immune_gene=geno_immune[~(geno_immune[gene]==-9)]"
   ]
  },
  {
   "cell_type": "code",
   "execution_count": 10,
   "metadata": {},
   "outputs": [
    {
     "data": {
      "image/png": "[encoded data removed]",
      "text/plain": [
       "<Figure size 1440x720 with 1 Axes>"
      ]
     },
     "metadata": {},
     "output_type": "display_data"
    }
   ],
   "source": [
    "sns.set(style=\"whitegrid\", font_scale = 1)\n",
    "plt.figure(figsize=(20,10))\n",
    "ax=sns.boxplot(x=\"cancer\",y=gene,data=geno_immune_gene,hue=snp)\n",
    "\n",
    "#labels = [item.get_text() for item in ax.get_xticklabels()]\n",
    "#labels=[x+\"\\nn=\"+str(len(geno_immune_gene[geno_immune_gene[snp]==int(x)])) for x in labels]\n",
    "\n",
    "#ax.set_xticklabels(labels)\n",
    "plt.ylabel(\"inverse rank \"+gene)\n",
    "\n",
    "plt.savefig(\"/cellar/users/mpagadal/Data/projects/germline-immune/investigation/plots/\"+snp+\".\"+gene+\".pdf\")"
   ]
  },
  {
   "cell_type": "code",
   "execution_count": 11,
   "metadata": {},
   "outputs": [],
   "source": [
    "ld=raw.groupby([\"6:29933439:T:C_C\",\"6:29910358:G:C_C\"]).size().reset_index()\n",
    "ld=ld.pivot(index=\"6:29933439:T:C_C\",columns=\"6:29910358:G:C_C\",values=0)"
   ]
  },
  {
   "cell_type": "code",
   "execution_count": 12,
   "metadata": {},
   "outputs": [
    {
     "data": {
      "text/html": [
       "<div>\n",
       "<style scoped>\n",
       "    .dataframe tbody tr th:only-of-type {\n",
       "        vertical-align: middle;\n",
       "    }\n",
       "\n",
       "    .dataframe tbody tr th {\n",
       "        vertical-align: top;\n",
       "    }\n",
       "\n",
       "    .dataframe thead th {\n",
       "        text-align: right;\n",
       "    }\n",
       "</style>\n",
       "<table border=\"1\" class=\"dataframe\">\n",
       "  <thead>\n",
       "    <tr style=\"text-align: right;\">\n",
       "      <th>6:29910358:G:C_C</th>\n",
       "      <th>0</th>\n",
       "      <th>1</th>\n",
       "      <th>2</th>\n",
       "    </tr>\n",
       "    <tr>\n",
       "      <th>6:29933439:T:C_C</th>\n",
       "      <th></th>\n",
       "      <th></th>\n",
       "      <th></th>\n",
       "    </tr>\n",
       "  </thead>\n",
       "  <tbody>\n",
       "    <tr>\n",
       "      <th>0</th>\n",
       "      <td>460</td>\n",
       "      <td>1141</td>\n",
       "      <td>748</td>\n",
       "    </tr>\n",
       "    <tr>\n",
       "      <th>1</th>\n",
       "      <td>1026</td>\n",
       "      <td>2092</td>\n",
       "      <td>930</td>\n",
       "    </tr>\n",
       "    <tr>\n",
       "      <th>2</th>\n",
       "      <td>578</td>\n",
       "      <td>917</td>\n",
       "      <td>325</td>\n",
       "    </tr>\n",
       "  </tbody>\n",
       "</table>\n",
       "</div>"
      ],
      "text/plain": [
       "6:29910358:G:C_C     0     1    2\n",
       "6:29933439:T:C_C                 \n",
       "0                  460  1141  748\n",
       "1                 1026  2092  930\n",
       "2                  578   917  325"
      ]
     },
     "execution_count": 12,
     "metadata": {},
     "output_type": "execute_result"
    }
   ],
   "source": [
    "ld"
   ]
  },
  {
   "cell_type": "code",
   "execution_count": 13,
   "metadata": {},
   "outputs": [
    {
     "data": {
      "text/plain": [
       "(152.25419279953582,\n",
       " 6.693127406642822e-32,\n",
       " 4,\n",
       " array([[ 590.03723987, 1186.36363636,  572.59912377],\n",
       "        [1016.80321285, 2044.44444444,  986.7523427 ],\n",
       "        [ 457.15954728,  919.19191919,  443.64853353]]))"
      ]
     },
     "execution_count": 13,
     "metadata": {},
     "output_type": "execute_result"
    }
   ],
   "source": [
    "chi2_contingency(ld.values)"
   ]
  },
  {
   "cell_type": "markdown",
   "metadata": {},
   "source": [
    "## See correlation of HLA-A genotypes"
   ]
  },
  {
   "cell_type": "code",
   "execution_count": 14,
   "metadata": {},
   "outputs": [],
   "source": [
    "polysolver_mhcI=pd.read_csv(\"/cellar/users/andreabc/Data/TCGA/hla_types/all_mhc_i_types.txt\",delimiter=\"\\t\")\n",
    "polysolver_mhcII=pd.read_csv(\"/cellar/users/andreabc/Data/TCGA/hla_types/all_mhc_ii_types.csv\",delimiter=\",\")\n",
    "polysolver_mhcI=polysolver_mhcI.rename(columns={\"Unnamed: 0\":\"FID\"})"
   ]
  },
  {
   "cell_type": "code",
   "execution_count": 15,
   "metadata": {},
   "outputs": [],
   "source": [
    "hla_types=set(polysolver_mhcI[\"HLA-A1\"].unique().tolist()+polysolver_mhcI[\"HLA-A2\"].unique().tolist())"
   ]
  },
  {
   "cell_type": "code",
   "execution_count": 16,
   "metadata": {},
   "outputs": [],
   "source": [
    "for x in hla_types:\n",
    "    polysolver_mhcI[x]=polysolver_mhcI[[\"HLA-A1\",\"HLA-A2\"]].isin([x]).sum(axis=1)"
   ]
  },
  {
   "cell_type": "code",
   "execution_count": 17,
   "metadata": {
    "scrolled": true
   },
   "outputs": [],
   "source": [
    "raw_hla=pd.merge(raw,polysolver_mhcI,on=\"FID\",how=\"left\")"
   ]
  },
  {
   "cell_type": "code",
   "execution_count": 74,
   "metadata": {
    "scrolled": true
   },
   "outputs": [],
   "source": [
    "def hla_type(snp):\n",
    "    typ=[]\n",
    "    pval=[]\n",
    "    chivalue=[]\n",
    "\n",
    "    for x in hla_types:\n",
    "        raw_hla=pd.merge(raw,polysolver_mhcI,on=\"FID\",how=\"left\")\n",
    "        raw_hla[snp]=raw_hla[snp].map({0:0,1:1,2:1})\n",
    "        raw_hla[x]=raw_hla[x].map({0:0,1:1,2:1})\n",
    "        chi=raw_hla.groupby([snp,x]).size().reset_index()\n",
    "        chi=chi.pivot(index=snp,columns=x,values=0)\n",
    "        try:\n",
    "            oddsratio, p = stats.fisher_exact(chi.values,alternative=\"greater\")\n",
    "            #chi2,p,dof,expected = chi2_contingency(chi.values)\n",
    "            typ.append(x)\n",
    "            pval.append(p)\n",
    "            chivalue.append(oddsratio)\n",
    "        except:\n",
    "            print(x)\n",
    "\n",
    "    assoc=pd.DataFrame({\"hla\":typ,\"pvalue\":pval,\"chi\":chivalue})\n",
    "    return(assoc)"
   ]
  },
  {
   "cell_type": "code",
   "execution_count": 75,
   "metadata": {
    "scrolled": true
   },
   "outputs": [
    {
     "name": "stdout",
     "output_type": "stream",
     "text": [
      "HLA-A24:10\n",
      "HLA-A43:01\n",
      "HLA-A11:10\n",
      "HLA-A02:10\n",
      "HLA-A29:01\n",
      "HLA-A33:01\n",
      "HLA-A66:02\n",
      "HLA-A02:06\n",
      "HLA-A02:03\n",
      "HLA-A66:03\n",
      "HLA-A03:02\n",
      "HLA-A34:01\n",
      "HLA-A74:03\n",
      "HLA-A24:07\n",
      "HLA-A02:07\n",
      "HLA-A34:02\n",
      "HLA-A02:04\n",
      "HLA-A69:01\n",
      "HLA-A11:03\n",
      "HLA-A80:01\n",
      "HLA-A11:02\n",
      "HLA-A29:02\n",
      "HLA-A33:03\n",
      "HLA-A11:12\n",
      "HLA-A24:20\n",
      "HLA-A26:02\n"
     ]
    }
   ],
   "source": [
    "df=hla_type(\"6:29933439:T:C_C\").sort_values(by=\"pvalue\")\n",
    "rs2844806 = df[df[\"pvalue\"]<.05][\"hla\"].tolist()"
   ]
  },
  {
   "cell_type": "code",
   "execution_count": 76,
   "metadata": {
    "scrolled": true
   },
   "outputs": [
    {
     "name": "stdout",
     "output_type": "stream",
     "text": [
      "HLA-A24:10\n",
      "HLA-A43:01\n",
      "HLA-A11:10\n",
      "HLA-A02:10\n",
      "HLA-A30:04\n",
      "HLA-A11:01\n",
      "HLA-A29:01\n",
      "HLA-A33:01\n",
      "HLA-A66:02\n",
      "HLA-A11:04\n",
      "HLA-A66:03\n",
      "HLA-A74:01\n",
      "HLA-A03:02\n",
      "HLA-A34:01\n",
      "HLA-A74:03\n",
      "HLA-A01:02\n",
      "HLA-A24:07\n",
      "HLA-A31:01\n",
      "HLA-A30:02\n",
      "HLA-A02:04\n",
      "HLA-A11:03\n",
      "HLA-A36:01\n",
      "HLA-A80:01\n",
      "HLA-A03:01\n",
      "HLA-A02:14\n",
      "HLA-A11:02\n",
      "HLA-A32:01\n",
      "HLA-A29:02\n",
      "HLA-A33:03\n",
      "HLA-A11:12\n",
      "HLA-A24:20\n",
      "HLA-A26:02\n"
     ]
    }
   ],
   "source": [
    "df2=hla_type(\"6:29910358:G:C_C\").sort_values(by=\"pvalue\")\n",
    "rs1143146 = df2[df2[\"pvalue\"]<.05][\"hla\"].tolist()"
   ]
  },
  {
   "cell_type": "code",
   "execution_count": 91,
   "metadata": {
    "scrolled": true
   },
   "outputs": [
    {
     "data": {
      "image/png": "[encoded data removed]",
      "text/plain": [
       "<Figure size 720x288 with 1 Axes>"
      ]
     },
     "metadata": {},
     "output_type": "display_data"
    }
   ],
   "source": [
    "fig, ax = plt.subplots(figsize=(10, 4))\n",
    "plt.errorbar(df2[\"hla\"],df2[\"chi\"],fmt='.', color='red',label=\"rs1143146\")\n",
    "plt.errorbar(df[\"hla\"],df[\"chi\"],fmt='.', color='blue',label=\"rs2844806\")\n",
    "plt.ylabel(\"odds ratio\")\n",
    "plt.xticks(rotation=90)\n",
    "plt.legend()\n",
    "plt.savefig(\"../hla.odds.ratio.pdf\")"
   ]
  },
  {
   "cell_type": "code",
   "execution_count": null,
   "metadata": {},
   "outputs": [],
   "source": []
  },
  {
   "cell_type": "code",
   "execution_count": null,
   "metadata": {},
   "outputs": [],
   "source": []
  },
  {
   "cell_type": "code",
   "execution_count": 25,
   "metadata": {},
   "outputs": [],
   "source": [
    "import matplotlib.pyplot as plt\n",
    "from matplotlib_venn import venn2\n",
    "from matplotlib_venn import venn3"
   ]
  },
  {
   "cell_type": "code",
   "execution_count": 29,
   "metadata": {},
   "outputs": [
    {
     "data": {
      "image/png": "[encoded data removed]",
      "text/plain": [
       "<Figure size 432x288 with 1 Axes>"
      ]
     },
     "metadata": {},
     "output_type": "display_data"
    }
   ],
   "source": [
    "venn2([set(rs2844806),set(rs1143146)],\n",
    "      set_labels=(\"rs2844806\",\"rs1143146\"), set_colors=[\"blue\",\"gray\"])\n",
    "plt.savefig(\"../plots/hla.a.types.pdf\")"
   ]
  },
  {
   "cell_type": "code",
   "execution_count": 30,
   "metadata": {},
   "outputs": [
    {
     "data": {
      "text/plain": [
       "['HLA-A01:01', 'HLA-A03:01', 'HLA-A01:03', 'HLA-A24:03']"
      ]
     },
     "execution_count": 30,
     "metadata": {},
     "output_type": "execute_result"
    }
   ],
   "source": [
    "rs2844806"
   ]
  },
  {
   "cell_type": "code",
   "execution_count": 31,
   "metadata": {},
   "outputs": [
    {
     "data": {
      "text/plain": [
       "['HLA-A01:01', 'HLA-A01:03']"
      ]
     },
     "execution_count": 31,
     "metadata": {},
     "output_type": "execute_result"
    }
   ],
   "source": [
    "rs1143146"
   ]
  },
  {
   "cell_type": "code",
   "execution_count": null,
   "metadata": {},
   "outputs": [],
   "source": []
  },
  {
   "cell_type": "code",
   "execution_count": 50,
   "metadata": {
    "scrolled": true
   },
   "outputs": [
    {
     "data": {
      "text/plain": [
       "22"
      ]
     },
     "execution_count": 50,
     "metadata": {},
     "output_type": "execute_result"
    }
   ],
   "source": [
    "len(assoc.sort_values(by=\"pvalue\"))"
   ]
  },
  {
   "cell_type": "code",
   "execution_count": null,
   "metadata": {},
   "outputs": [],
   "source": []
  },
  {
   "cell_type": "code",
   "execution_count": null,
   "metadata": {},
   "outputs": [],
   "source": []
  },
  {
   "cell_type": "code",
   "execution_count": null,
   "metadata": {},
   "outputs": [],
   "source": []
  },
  {
   "cell_type": "code",
   "execution_count": null,
   "metadata": {},
   "outputs": [],
   "source": []
  },
  {
   "cell_type": "code",
   "execution_count": null,
   "metadata": {},
   "outputs": [],
   "source": []
  },
  {
   "cell_type": "code",
   "execution_count": null,
   "metadata": {},
   "outputs": [],
   "source": []
  },
  {
   "cell_type": "code",
   "execution_count": null,
   "metadata": {},
   "outputs": [],
   "source": []
  },
  {
   "cell_type": "code",
   "execution_count": null,
   "metadata": {},
   "outputs": [],
   "source": []
  }
 ],
 "metadata": {
  "kernelspec": {
   "display_name": "Python 3",
   "language": "python",
   "name": "python3"
  },
  "language_info": {
   "codemirror_mode": {
    "name": "ipython",
    "version": 3
   },
   "file_extension": ".py",
   "mimetype": "text/x-python",
   "name": "python",
   "nbconvert_exporter": "python",
   "pygments_lexer": "ipython3",
   "version": "3.7.7"
  }
 },
 "nbformat": 4,
 "nbformat_minor": 4
}
