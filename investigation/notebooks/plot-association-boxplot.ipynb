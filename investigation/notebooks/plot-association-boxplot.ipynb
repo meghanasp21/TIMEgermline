{
 "cells": [
  {
   "cell_type": "code",
   "execution_count": 1,
   "metadata": {},
   "outputs": [],
   "source": [
    "import pandas as pd\n",
    "import seaborn as sns\n",
    "from matplotlib import pyplot as plt\n",
    "import numpy as np"
   ]
  },
  {
   "cell_type": "code",
   "execution_count": 2,
   "metadata": {},
   "outputs": [],
   "source": [
    "import matplotlib\n",
    "matplotlib.rcParams['pdf.fonttype'] = 42\n",
    "matplotlib.rcParams['ps.fonttype'] = 42"
   ]
  },
  {
   "cell_type": "markdown",
   "metadata": {},
   "source": [
    "## Check expression to RNA normalized data"
   ]
  },
  {
   "cell_type": "code",
   "execution_count": 3,
   "metadata": {},
   "outputs": [
    {
     "data": {
      "text/html": [
       "<div>\n",
       "<style scoped>\n",
       "    .dataframe tbody tr th:only-of-type {\n",
       "        vertical-align: middle;\n",
       "    }\n",
       "\n",
       "    .dataframe tbody tr th {\n",
       "        vertical-align: top;\n",
       "    }\n",
       "\n",
       "    .dataframe thead th {\n",
       "        text-align: right;\n",
       "    }\n",
       "</style>\n",
       "<table border=\"1\" class=\"dataframe\">\n",
       "  <thead>\n",
       "    <tr style=\"text-align: right;\">\n",
       "      <th></th>\n",
       "      <th>FID</th>\n",
       "      <th>IID</th>\n",
       "      <th>PAT</th>\n",
       "      <th>MAT</th>\n",
       "      <th>SEX</th>\n",
       "      <th>PHENOTYPE</th>\n",
       "      <th>1:1421752:G:A_A</th>\n",
       "      <th>1:7841330:G:A_A</th>\n",
       "      <th>1:7847836:C:T_T</th>\n",
       "      <th>1:7969014:G:A_A</th>\n",
       "      <th>...</th>\n",
       "      <th>19:55174498:T:C_C</th>\n",
       "      <th>19:55175740:C:T_T</th>\n",
       "      <th>19:55175983:T:A_A</th>\n",
       "      <th>19:55188593:G:C_C</th>\n",
       "      <th>19:55225076:C:A_A</th>\n",
       "      <th>20:8141433:G:T_T</th>\n",
       "      <th>20:50500689:T:A_A</th>\n",
       "      <th>20:50506724:G:C_C</th>\n",
       "      <th>20:59393575:C:T_T</th>\n",
       "      <th>21:46328099:C:T_T</th>\n",
       "    </tr>\n",
       "  </thead>\n",
       "  <tbody>\n",
       "    <tr>\n",
       "      <th>0</th>\n",
       "      <td>TCGA-01-0628</td>\n",
       "      <td>TCGA-01-0628</td>\n",
       "      <td>0</td>\n",
       "      <td>0</td>\n",
       "      <td>2</td>\n",
       "      <td>-9</td>\n",
       "      <td>0</td>\n",
       "      <td>0</td>\n",
       "      <td>2</td>\n",
       "      <td>0</td>\n",
       "      <td>...</td>\n",
       "      <td>0</td>\n",
       "      <td>2</td>\n",
       "      <td>0</td>\n",
       "      <td>2</td>\n",
       "      <td>0</td>\n",
       "      <td>2</td>\n",
       "      <td>0</td>\n",
       "      <td>0</td>\n",
       "      <td>0</td>\n",
       "      <td>2</td>\n",
       "    </tr>\n",
       "    <tr>\n",
       "      <th>1</th>\n",
       "      <td>TCGA-01-0630</td>\n",
       "      <td>TCGA-01-0630</td>\n",
       "      <td>0</td>\n",
       "      <td>0</td>\n",
       "      <td>2</td>\n",
       "      <td>-9</td>\n",
       "      <td>1</td>\n",
       "      <td>0</td>\n",
       "      <td>2</td>\n",
       "      <td>0</td>\n",
       "      <td>...</td>\n",
       "      <td>0</td>\n",
       "      <td>0</td>\n",
       "      <td>0</td>\n",
       "      <td>1</td>\n",
       "      <td>0</td>\n",
       "      <td>1</td>\n",
       "      <td>0</td>\n",
       "      <td>0</td>\n",
       "      <td>1</td>\n",
       "      <td>1</td>\n",
       "    </tr>\n",
       "    <tr>\n",
       "      <th>2</th>\n",
       "      <td>TCGA-01-0633</td>\n",
       "      <td>TCGA-01-0633</td>\n",
       "      <td>0</td>\n",
       "      <td>0</td>\n",
       "      <td>2</td>\n",
       "      <td>-9</td>\n",
       "      <td>1</td>\n",
       "      <td>0</td>\n",
       "      <td>1</td>\n",
       "      <td>1</td>\n",
       "      <td>...</td>\n",
       "      <td>1</td>\n",
       "      <td>1</td>\n",
       "      <td>1</td>\n",
       "      <td>0</td>\n",
       "      <td>1</td>\n",
       "      <td>0</td>\n",
       "      <td>0</td>\n",
       "      <td>0</td>\n",
       "      <td>0</td>\n",
       "      <td>1</td>\n",
       "    </tr>\n",
       "    <tr>\n",
       "      <th>3</th>\n",
       "      <td>TCGA-01-0636</td>\n",
       "      <td>TCGA-01-0636</td>\n",
       "      <td>0</td>\n",
       "      <td>0</td>\n",
       "      <td>2</td>\n",
       "      <td>-9</td>\n",
       "      <td>1</td>\n",
       "      <td>0</td>\n",
       "      <td>0</td>\n",
       "      <td>2</td>\n",
       "      <td>...</td>\n",
       "      <td>0</td>\n",
       "      <td>1</td>\n",
       "      <td>0</td>\n",
       "      <td>0</td>\n",
       "      <td>2</td>\n",
       "      <td>2</td>\n",
       "      <td>0</td>\n",
       "      <td>0</td>\n",
       "      <td>1</td>\n",
       "      <td>0</td>\n",
       "    </tr>\n",
       "    <tr>\n",
       "      <th>4</th>\n",
       "      <td>TCGA-01-0637</td>\n",
       "      <td>TCGA-01-0637</td>\n",
       "      <td>0</td>\n",
       "      <td>0</td>\n",
       "      <td>2</td>\n",
       "      <td>-9</td>\n",
       "      <td>2</td>\n",
       "      <td>0</td>\n",
       "      <td>0</td>\n",
       "      <td>1</td>\n",
       "      <td>...</td>\n",
       "      <td>0</td>\n",
       "      <td>1</td>\n",
       "      <td>0</td>\n",
       "      <td>0</td>\n",
       "      <td>0</td>\n",
       "      <td>2</td>\n",
       "      <td>0</td>\n",
       "      <td>0</td>\n",
       "      <td>0</td>\n",
       "      <td>1</td>\n",
       "    </tr>\n",
       "  </tbody>\n",
       "</table>\n",
       "<p>5 rows × 481 columns</p>\n",
       "</div>"
      ],
      "text/plain": [
       "            FID           IID  PAT  MAT  SEX  PHENOTYPE  1:1421752:G:A_A  \\\n",
       "0  TCGA-01-0628  TCGA-01-0628    0    0    2         -9                0   \n",
       "1  TCGA-01-0630  TCGA-01-0630    0    0    2         -9                1   \n",
       "2  TCGA-01-0633  TCGA-01-0633    0    0    2         -9                1   \n",
       "3  TCGA-01-0636  TCGA-01-0636    0    0    2         -9                1   \n",
       "4  TCGA-01-0637  TCGA-01-0637    0    0    2         -9                2   \n",
       "\n",
       "   1:7841330:G:A_A  1:7847836:C:T_T  1:7969014:G:A_A  ...  19:55174498:T:C_C  \\\n",
       "0                0                2                0  ...                  0   \n",
       "1                0                2                0  ...                  0   \n",
       "2                0                1                1  ...                  1   \n",
       "3                0                0                2  ...                  0   \n",
       "4                0                0                1  ...                  0   \n",
       "\n",
       "   19:55175740:C:T_T  19:55175983:T:A_A  19:55188593:G:C_C  19:55225076:C:A_A  \\\n",
       "0                  2                  0                  2                  0   \n",
       "1                  0                  0                  1                  0   \n",
       "2                  1                  1                  0                  1   \n",
       "3                  1                  0                  0                  2   \n",
       "4                  1                  0                  0                  0   \n",
       "\n",
       "   20:8141433:G:T_T  20:50500689:T:A_A  20:50506724:G:C_C  20:59393575:C:T_T  \\\n",
       "0                 2                  0                  0                  0   \n",
       "1                 1                  0                  0                  1   \n",
       "2                 0                  0                  0                  0   \n",
       "3                 2                  0                  0                  1   \n",
       "4                 2                  0                  0                  0   \n",
       "\n",
       "   21:46328099:C:T_T  \n",
       "0                  2  \n",
       "1                  1  \n",
       "2                  1  \n",
       "3                  0  \n",
       "4                  1  \n",
       "\n",
       "[5 rows x 481 columns]"
      ]
     },
     "execution_count": 3,
     "metadata": {},
     "output_type": "execute_result"
    }
   ],
   "source": [
    "raw = pd.read_csv('/nrnb/users/mpagadal/tcga-genotypes/germline-immune/immune.snp.raw',sep=' ')\n",
    "raw.head()"
   ]
  },
  {
   "cell_type": "code",
   "execution_count": 4,
   "metadata": {},
   "outputs": [],
   "source": [
    "tpm=pd.read_csv(\"/cellar/users/mpagadal/Data/projects/germline-immune/discovery/phenotypes/processed_phenos/tpm/tumor/pheno_all_zcancer\",delimiter=\"\\t\")\n",
    "firebrowse=pd.read_csv(\"/cellar/users/mpagadal/Data/projects/germline-immune/discovery/phenotypes/processed_phenos/firebrowse/tumor/pheno_all_zcancer\",delimiter=\"\\t\")\n",
    "pancan=pd.read_csv(\"/cellar/users/mpagadal/Data/projects/germline-immune/discovery/phenotypes/processed_phenos/pancanatlas/tumor/pheno_all_zcancer\",delimiter=\"\\t\")"
   ]
  },
  {
   "cell_type": "code",
   "execution_count": 5,
   "metadata": {},
   "outputs": [],
   "source": [
    "canc = pd.read_csv(\"/nrnb/users/mpagadal/tcga-genotypes/birdseed-processing/gtype.meta\", delimiter=\"\\t\", header=None)\n",
    "mp = canc.set_index(2)[0].to_dict()\n",
    "\n",
    "tpm[\"cancer\"]=tpm[\"FID\"].map(mp)\n",
    "firebrowse[\"cancer\"]=firebrowse[\"FID\"].map(mp)\n",
    "pancan[\"cancer\"]=pancan[\"FID\"].map(mp)"
   ]
  },
  {
   "cell_type": "code",
   "execution_count": 6,
   "metadata": {},
   "outputs": [],
   "source": [
    "geno_immune=pd.merge(raw,tpm,on=[\"FID\",\"IID\"])"
   ]
  },
  {
   "cell_type": "code",
   "execution_count": 7,
   "metadata": {},
   "outputs": [
    {
     "data": {
      "text/plain": [
       "['1:1421752:G:A_A']"
      ]
     },
     "execution_count": 7,
     "metadata": {},
     "output_type": "execute_result"
    }
   ],
   "source": [
    "[x for x in geno_immune.columns if \"1:1421752:G:A\" in x]"
   ]
  },
  {
   "cell_type": "code",
   "execution_count": 8,
   "metadata": {},
   "outputs": [],
   "source": [
    "snp=\"1:1421752:G:A\"\n",
    "snp=[x for x in geno_immune.columns if snp in x][0]\n",
    "gene=\"Macrophage.Regulation\""
   ]
  },
  {
   "cell_type": "code",
   "execution_count": 9,
   "metadata": {},
   "outputs": [],
   "source": [
    "geno_immune_gene=geno_immune[~(geno_immune[gene]==-9)]"
   ]
  },
  {
   "cell_type": "code",
   "execution_count": 10,
   "metadata": {},
   "outputs": [
    {
     "data": {
      "image/png": "[encoded data removed]",
      "text/plain": [
       "<Figure size 360x360 with 1 Axes>"
      ]
     },
     "metadata": {},
     "output_type": "display_data"
    }
   ],
   "source": [
    "sns.set(style=\"whitegrid\", font_scale = 1)\n",
    "plt.figure(figsize=(5,5))\n",
    "ax=sns.boxplot(x=snp,y=gene,data=geno_immune_gene)\n",
    "\n",
    "labels = [item.get_text() for item in ax.get_xticklabels()]\n",
    "labels=[x+\"\\nn=\"+str(len(geno_immune_gene[geno_immune_gene[snp]==int(x)])) for x in labels]\n",
    "\n",
    "ax.set_xticklabels(labels)\n",
    "plt.ylabel(\"inverse rank \"+gene)\n",
    "\n",
    "plt.savefig(\"/cellar/users/mpagadal/Data/projects/germline-immune/investigation/plots/\"+snp+\".\"+gene+\".pdf\")"
   ]
  },
  {
   "cell_type": "markdown",
   "metadata": {},
   "source": [
    "## Get HUGO FPKM"
   ]
  },
  {
   "cell_type": "code",
   "execution_count": 11,
   "metadata": {},
   "outputs": [],
   "source": [
    "fpkm=pd.read_csv(\"/cellar/users/mpagadal/Data/resources/tcga/fpkm-compile/tcga-hugo-fpkm-compiled\",delimiter=\"\\t\")"
   ]
  },
  {
   "cell_type": "code",
   "execution_count": 12,
   "metadata": {},
   "outputs": [],
   "source": [
    "mp_fpkm=pd.read_csv(\"/cellar/users/mpagadal/Data/resources/from-labmembers/andrea/uuid_barcode_map.txt\",delimiter=\"\\t\")"
   ]
  },
  {
   "cell_type": "code",
   "execution_count": 13,
   "metadata": {},
   "outputs": [],
   "source": [
    "mp_fpkm[\"file_name\"]=mp_fpkm[\"file_name\"].str.split(\".gz\").str[0]"
   ]
  },
  {
   "cell_type": "code",
   "execution_count": 14,
   "metadata": {},
   "outputs": [],
   "source": [
    "mp_fpkm=dict(zip(mp_fpkm[\"file_name\"],mp_fpkm[\"sample_barcode\"]))"
   ]
  },
  {
   "cell_type": "code",
   "execution_count": 15,
   "metadata": {},
   "outputs": [],
   "source": [
    "cols=[]\n",
    "\n",
    "for x in fpkm.columns:\n",
    "    try:\n",
    "        cols.append(mp_fpkm[x])\n",
    "    except:\n",
    "        cols.append(x)"
   ]
  },
  {
   "cell_type": "code",
   "execution_count": 16,
   "metadata": {},
   "outputs": [],
   "source": [
    "fpkm.columns=cols"
   ]
  },
  {
   "cell_type": "code",
   "execution_count": 17,
   "metadata": {},
   "outputs": [
    {
     "data": {
      "text/html": [
       "<div>\n",
       "<style scoped>\n",
       "    .dataframe tbody tr th:only-of-type {\n",
       "        vertical-align: middle;\n",
       "    }\n",
       "\n",
       "    .dataframe tbody tr th {\n",
       "        vertical-align: top;\n",
       "    }\n",
       "\n",
       "    .dataframe thead th {\n",
       "        text-align: right;\n",
       "    }\n",
       "</style>\n",
       "<table border=\"1\" class=\"dataframe\">\n",
       "  <thead>\n",
       "    <tr style=\"text-align: right;\">\n",
       "      <th></th>\n",
       "      <th>ENSEMBL</th>\n",
       "      <th>TCGA-BG-A0MC-01A</th>\n",
       "      <th>HUGO</th>\n",
       "      <th>TCGA-E9-A1RC-11A</th>\n",
       "      <th>TCGA-DK-A1AC-01A</th>\n",
       "      <th>TCGA-BJ-A192-01A</th>\n",
       "      <th>TCGA-CV-5439-01A</th>\n",
       "      <th>TCGA-EL-A3N2-11A</th>\n",
       "      <th>TCGA-AX-A1CJ-01A</th>\n",
       "      <th>TCGA-DM-A280-01A</th>\n",
       "      <th>...</th>\n",
       "      <th>TCGA-A5-A0R9-01A</th>\n",
       "      <th>TCGA-IG-A3I8-01A</th>\n",
       "      <th>TCGA-SX-A71V-01A</th>\n",
       "      <th>TCGA-SX-A7SQ-01A</th>\n",
       "      <th>TCGA-05-4418-01A</th>\n",
       "      <th>TCGA-A2-A0YJ-01A</th>\n",
       "      <th>TCGA-CK-6748-01A</th>\n",
       "      <th>TCGA-CR-7365-01A</th>\n",
       "      <th>TCGA-H2-A421-01A</th>\n",
       "      <th>TCGA-43-3394-01A</th>\n",
       "    </tr>\n",
       "  </thead>\n",
       "  <tbody>\n",
       "    <tr>\n",
       "      <th>0</th>\n",
       "      <td>ENSG00000242268.2</td>\n",
       "      <td>0.082829</td>\n",
       "      <td>RP11-368I23.2</td>\n",
       "      <td>1.001529</td>\n",
       "      <td>0.044982</td>\n",
       "      <td>0.000000</td>\n",
       "      <td>0.000000</td>\n",
       "      <td>0.000000</td>\n",
       "      <td>0.546947</td>\n",
       "      <td>0.000000</td>\n",
       "      <td>...</td>\n",
       "      <td>0.000000</td>\n",
       "      <td>0.016005</td>\n",
       "      <td>0.131952</td>\n",
       "      <td>0.676258</td>\n",
       "      <td>0.000000</td>\n",
       "      <td>0.000000</td>\n",
       "      <td>0.000000</td>\n",
       "      <td>0.000000</td>\n",
       "      <td>2.063867</td>\n",
       "      <td>0.000000</td>\n",
       "    </tr>\n",
       "    <tr>\n",
       "      <th>1</th>\n",
       "      <td>ENSG00000270112.3</td>\n",
       "      <td>0.000000</td>\n",
       "      <td>RP11-742D12.2</td>\n",
       "      <td>0.005053</td>\n",
       "      <td>0.000000</td>\n",
       "      <td>0.212113</td>\n",
       "      <td>0.000000</td>\n",
       "      <td>0.002555</td>\n",
       "      <td>0.000000</td>\n",
       "      <td>0.000000</td>\n",
       "      <td>...</td>\n",
       "      <td>0.000000</td>\n",
       "      <td>0.019986</td>\n",
       "      <td>0.000000</td>\n",
       "      <td>0.000000</td>\n",
       "      <td>0.000000</td>\n",
       "      <td>0.000000</td>\n",
       "      <td>0.003388</td>\n",
       "      <td>0.002720</td>\n",
       "      <td>0.010320</td>\n",
       "      <td>0.006392</td>\n",
       "    </tr>\n",
       "    <tr>\n",
       "      <th>2</th>\n",
       "      <td>ENSG00000167578.15</td>\n",
       "      <td>8.857925</td>\n",
       "      <td>RAB4B</td>\n",
       "      <td>1.799594</td>\n",
       "      <td>4.757692</td>\n",
       "      <td>3.900774</td>\n",
       "      <td>2.318098</td>\n",
       "      <td>1.574006</td>\n",
       "      <td>11.873389</td>\n",
       "      <td>2.995032</td>\n",
       "      <td>...</td>\n",
       "      <td>4.508456</td>\n",
       "      <td>2.814157</td>\n",
       "      <td>2.075035</td>\n",
       "      <td>2.595237</td>\n",
       "      <td>4.194652</td>\n",
       "      <td>1.874345</td>\n",
       "      <td>2.003841</td>\n",
       "      <td>1.279847</td>\n",
       "      <td>4.878818</td>\n",
       "      <td>2.251242</td>\n",
       "    </tr>\n",
       "    <tr>\n",
       "      <th>3</th>\n",
       "      <td>ENSG00000273842.1</td>\n",
       "      <td>0.000000</td>\n",
       "      <td>AC104183.2</td>\n",
       "      <td>0.000000</td>\n",
       "      <td>0.000000</td>\n",
       "      <td>0.000000</td>\n",
       "      <td>0.000000</td>\n",
       "      <td>0.000000</td>\n",
       "      <td>0.000000</td>\n",
       "      <td>0.000000</td>\n",
       "      <td>...</td>\n",
       "      <td>0.000000</td>\n",
       "      <td>0.000000</td>\n",
       "      <td>0.000000</td>\n",
       "      <td>0.000000</td>\n",
       "      <td>0.000000</td>\n",
       "      <td>0.000000</td>\n",
       "      <td>0.000000</td>\n",
       "      <td>0.000000</td>\n",
       "      <td>0.000000</td>\n",
       "      <td>0.000000</td>\n",
       "    </tr>\n",
       "    <tr>\n",
       "      <th>4</th>\n",
       "      <td>ENSG00000078237.5</td>\n",
       "      <td>1.128321</td>\n",
       "      <td>C12orf5</td>\n",
       "      <td>1.997276</td>\n",
       "      <td>5.578142</td>\n",
       "      <td>6.452027</td>\n",
       "      <td>7.492383</td>\n",
       "      <td>0.514639</td>\n",
       "      <td>1.525455</td>\n",
       "      <td>4.961469</td>\n",
       "      <td>...</td>\n",
       "      <td>1.936859</td>\n",
       "      <td>2.398235</td>\n",
       "      <td>5.913091</td>\n",
       "      <td>3.195661</td>\n",
       "      <td>10.157993</td>\n",
       "      <td>4.989331</td>\n",
       "      <td>3.045606</td>\n",
       "      <td>4.682713</td>\n",
       "      <td>3.144209</td>\n",
       "      <td>10.894560</td>\n",
       "    </tr>\n",
       "  </tbody>\n",
       "</table>\n",
       "<p>5 rows × 11095 columns</p>\n",
       "</div>"
      ],
      "text/plain": [
       "              ENSEMBL  TCGA-BG-A0MC-01A           HUGO  TCGA-E9-A1RC-11A  \\\n",
       "0   ENSG00000242268.2          0.082829  RP11-368I23.2          1.001529   \n",
       "1   ENSG00000270112.3          0.000000  RP11-742D12.2          0.005053   \n",
       "2  ENSG00000167578.15          8.857925          RAB4B          1.799594   \n",
       "3   ENSG00000273842.1          0.000000     AC104183.2          0.000000   \n",
       "4   ENSG00000078237.5          1.128321        C12orf5          1.997276   \n",
       "\n",
       "   TCGA-DK-A1AC-01A  TCGA-BJ-A192-01A  TCGA-CV-5439-01A  TCGA-EL-A3N2-11A  \\\n",
       "0          0.044982          0.000000          0.000000          0.000000   \n",
       "1          0.000000          0.212113          0.000000          0.002555   \n",
       "2          4.757692          3.900774          2.318098          1.574006   \n",
       "3          0.000000          0.000000          0.000000          0.000000   \n",
       "4          5.578142          6.452027          7.492383          0.514639   \n",
       "\n",
       "   TCGA-AX-A1CJ-01A  TCGA-DM-A280-01A  ...  TCGA-A5-A0R9-01A  \\\n",
       "0          0.546947          0.000000  ...          0.000000   \n",
       "1          0.000000          0.000000  ...          0.000000   \n",
       "2         11.873389          2.995032  ...          4.508456   \n",
       "3          0.000000          0.000000  ...          0.000000   \n",
       "4          1.525455          4.961469  ...          1.936859   \n",
       "\n",
       "   TCGA-IG-A3I8-01A  TCGA-SX-A71V-01A  TCGA-SX-A7SQ-01A  TCGA-05-4418-01A  \\\n",
       "0          0.016005          0.131952          0.676258          0.000000   \n",
       "1          0.019986          0.000000          0.000000          0.000000   \n",
       "2          2.814157          2.075035          2.595237          4.194652   \n",
       "3          0.000000          0.000000          0.000000          0.000000   \n",
       "4          2.398235          5.913091          3.195661         10.157993   \n",
       "\n",
       "   TCGA-A2-A0YJ-01A  TCGA-CK-6748-01A  TCGA-CR-7365-01A  TCGA-H2-A421-01A  \\\n",
       "0          0.000000          0.000000          0.000000          2.063867   \n",
       "1          0.000000          0.003388          0.002720          0.010320   \n",
       "2          1.874345          2.003841          1.279847          4.878818   \n",
       "3          0.000000          0.000000          0.000000          0.000000   \n",
       "4          4.989331          3.045606          4.682713          3.144209   \n",
       "\n",
       "   TCGA-43-3394-01A  \n",
       "0          0.000000  \n",
       "1          0.006392  \n",
       "2          2.251242  \n",
       "3          0.000000  \n",
       "4         10.894560  \n",
       "\n",
       "[5 rows x 11095 columns]"
      ]
     },
     "execution_count": 17,
     "metadata": {},
     "output_type": "execute_result"
    }
   ],
   "source": [
    "fpkm.head()"
   ]
  },
  {
   "cell_type": "code",
   "execution_count": 18,
   "metadata": {},
   "outputs": [],
   "source": [
    "keep_cols=[x for x in fpkm.columns if x[13:15]==\"01\"]"
   ]
  },
  {
   "cell_type": "code",
   "execution_count": 19,
   "metadata": {},
   "outputs": [],
   "source": [
    "fpkm=fpkm.set_index(\"HUGO\")\n",
    "fpkm_tumor=fpkm[keep_cols]"
   ]
  },
  {
   "cell_type": "code",
   "execution_count": 20,
   "metadata": {},
   "outputs": [],
   "source": [
    "fpkm_tumor=fpkm_tumor.T\n",
    "fpkm_tumor.index=fpkm_tumor.index.str[0:12]"
   ]
  },
  {
   "cell_type": "code",
   "execution_count": 21,
   "metadata": {},
   "outputs": [],
   "source": [
    "fpkm_tumor=fpkm_tumor.reset_index()"
   ]
  },
  {
   "cell_type": "code",
   "execution_count": 22,
   "metadata": {},
   "outputs": [],
   "source": [
    "fpkm_tumor=fpkm_tumor.rename(columns={\"index\":\"FID\"})"
   ]
  },
  {
   "cell_type": "code",
   "execution_count": 23,
   "metadata": {},
   "outputs": [],
   "source": [
    "fpkm_tumor=fpkm_tumor.groupby(\"FID\").mean()"
   ]
  },
  {
   "cell_type": "code",
   "execution_count": 24,
   "metadata": {},
   "outputs": [
    {
     "data": {
      "text/html": [
       "<div>\n",
       "<style scoped>\n",
       "    .dataframe tbody tr th:only-of-type {\n",
       "        vertical-align: middle;\n",
       "    }\n",
       "\n",
       "    .dataframe tbody tr th {\n",
       "        vertical-align: top;\n",
       "    }\n",
       "\n",
       "    .dataframe thead th {\n",
       "        text-align: right;\n",
       "    }\n",
       "</style>\n",
       "<table border=\"1\" class=\"dataframe\">\n",
       "  <thead>\n",
       "    <tr style=\"text-align: right;\">\n",
       "      <th>HUGO</th>\n",
       "      <th>RP11-368I23.2</th>\n",
       "      <th>RP11-742D12.2</th>\n",
       "      <th>RAB4B</th>\n",
       "      <th>AC104183.2</th>\n",
       "      <th>C12orf5</th>\n",
       "      <th>RNF44</th>\n",
       "      <th>NUP210P2</th>\n",
       "      <th>DNAH3</th>\n",
       "      <th>RPL23A</th>\n",
       "      <th>EHD4-AS1</th>\n",
       "      <th>...</th>\n",
       "      <th>GABARAPL3</th>\n",
       "      <th>CYP4F2</th>\n",
       "      <th>RP11-486E2.1</th>\n",
       "      <th>AC010525.4</th>\n",
       "      <th>RP11-713D19.1</th>\n",
       "      <th>PPP6R1</th>\n",
       "      <th>RP4-569M23.2</th>\n",
       "      <th>AC009260.1</th>\n",
       "      <th>BATF3</th>\n",
       "      <th>OR8D4</th>\n",
       "    </tr>\n",
       "    <tr>\n",
       "      <th>FID</th>\n",
       "      <th></th>\n",
       "      <th></th>\n",
       "      <th></th>\n",
       "      <th></th>\n",
       "      <th></th>\n",
       "      <th></th>\n",
       "      <th></th>\n",
       "      <th></th>\n",
       "      <th></th>\n",
       "      <th></th>\n",
       "      <th></th>\n",
       "      <th></th>\n",
       "      <th></th>\n",
       "      <th></th>\n",
       "      <th></th>\n",
       "      <th></th>\n",
       "      <th></th>\n",
       "      <th></th>\n",
       "      <th></th>\n",
       "      <th></th>\n",
       "      <th></th>\n",
       "    </tr>\n",
       "  </thead>\n",
       "  <tbody>\n",
       "    <tr>\n",
       "      <th>TCGA-02-0047</th>\n",
       "      <td>1.394336</td>\n",
       "      <td>0.120918</td>\n",
       "      <td>4.457040</td>\n",
       "      <td>0.0</td>\n",
       "      <td>5.608130</td>\n",
       "      <td>9.611185</td>\n",
       "      <td>0.0</td>\n",
       "      <td>0.003309</td>\n",
       "      <td>82.495270</td>\n",
       "      <td>0.096301</td>\n",
       "      <td>...</td>\n",
       "      <td>0.0</td>\n",
       "      <td>0.110278</td>\n",
       "      <td>0.018347</td>\n",
       "      <td>0.056121</td>\n",
       "      <td>0.232389</td>\n",
       "      <td>12.955587</td>\n",
       "      <td>0.574614</td>\n",
       "      <td>0.0</td>\n",
       "      <td>3.174645</td>\n",
       "      <td>0.0</td>\n",
       "    </tr>\n",
       "    <tr>\n",
       "      <th>TCGA-02-0055</th>\n",
       "      <td>0.000000</td>\n",
       "      <td>0.016449</td>\n",
       "      <td>3.816159</td>\n",
       "      <td>0.0</td>\n",
       "      <td>5.366732</td>\n",
       "      <td>5.208533</td>\n",
       "      <td>0.0</td>\n",
       "      <td>0.014066</td>\n",
       "      <td>208.344332</td>\n",
       "      <td>0.000000</td>\n",
       "      <td>...</td>\n",
       "      <td>0.0</td>\n",
       "      <td>0.006697</td>\n",
       "      <td>0.000000</td>\n",
       "      <td>0.238575</td>\n",
       "      <td>0.197580</td>\n",
       "      <td>10.583493</td>\n",
       "      <td>1.360946</td>\n",
       "      <td>0.0</td>\n",
       "      <td>5.258642</td>\n",
       "      <td>0.0</td>\n",
       "    </tr>\n",
       "    <tr>\n",
       "      <th>TCGA-02-2483</th>\n",
       "      <td>0.105521</td>\n",
       "      <td>0.014641</td>\n",
       "      <td>4.186546</td>\n",
       "      <td>0.0</td>\n",
       "      <td>6.592378</td>\n",
       "      <td>8.041341</td>\n",
       "      <td>0.0</td>\n",
       "      <td>0.002504</td>\n",
       "      <td>241.182395</td>\n",
       "      <td>0.145759</td>\n",
       "      <td>...</td>\n",
       "      <td>0.0</td>\n",
       "      <td>0.000000</td>\n",
       "      <td>0.000000</td>\n",
       "      <td>0.000000</td>\n",
       "      <td>0.087934</td>\n",
       "      <td>10.717918</td>\n",
       "      <td>0.072477</td>\n",
       "      <td>0.0</td>\n",
       "      <td>1.366954</td>\n",
       "      <td>0.0</td>\n",
       "    </tr>\n",
       "    <tr>\n",
       "      <th>TCGA-02-2485</th>\n",
       "      <td>0.747111</td>\n",
       "      <td>0.058052</td>\n",
       "      <td>7.431937</td>\n",
       "      <td>0.0</td>\n",
       "      <td>7.454003</td>\n",
       "      <td>9.499339</td>\n",
       "      <td>0.0</td>\n",
       "      <td>0.004255</td>\n",
       "      <td>155.047234</td>\n",
       "      <td>0.055040</td>\n",
       "      <td>...</td>\n",
       "      <td>0.0</td>\n",
       "      <td>0.020259</td>\n",
       "      <td>0.000000</td>\n",
       "      <td>0.000000</td>\n",
       "      <td>0.199229</td>\n",
       "      <td>14.397772</td>\n",
       "      <td>0.164207</td>\n",
       "      <td>0.0</td>\n",
       "      <td>2.666906</td>\n",
       "      <td>0.0</td>\n",
       "    </tr>\n",
       "    <tr>\n",
       "      <th>TCGA-02-2486</th>\n",
       "      <td>0.166204</td>\n",
       "      <td>0.000000</td>\n",
       "      <td>5.676945</td>\n",
       "      <td>0.0</td>\n",
       "      <td>9.009440</td>\n",
       "      <td>6.463168</td>\n",
       "      <td>0.0</td>\n",
       "      <td>0.015776</td>\n",
       "      <td>148.809904</td>\n",
       "      <td>0.061222</td>\n",
       "      <td>...</td>\n",
       "      <td>0.0</td>\n",
       "      <td>0.007511</td>\n",
       "      <td>0.000000</td>\n",
       "      <td>0.107034</td>\n",
       "      <td>0.055401</td>\n",
       "      <td>10.224824</td>\n",
       "      <td>0.756693</td>\n",
       "      <td>0.0</td>\n",
       "      <td>7.985885</td>\n",
       "      <td>0.0</td>\n",
       "    </tr>\n",
       "  </tbody>\n",
       "</table>\n",
       "<p>5 rows × 60483 columns</p>\n",
       "</div>"
      ],
      "text/plain": [
       "HUGO          RP11-368I23.2  RP11-742D12.2     RAB4B  AC104183.2   C12orf5  \\\n",
       "FID                                                                          \n",
       "TCGA-02-0047       1.394336       0.120918  4.457040         0.0  5.608130   \n",
       "TCGA-02-0055       0.000000       0.016449  3.816159         0.0  5.366732   \n",
       "TCGA-02-2483       0.105521       0.014641  4.186546         0.0  6.592378   \n",
       "TCGA-02-2485       0.747111       0.058052  7.431937         0.0  7.454003   \n",
       "TCGA-02-2486       0.166204       0.000000  5.676945         0.0  9.009440   \n",
       "\n",
       "HUGO             RNF44  NUP210P2     DNAH3      RPL23A  EHD4-AS1  ...  \\\n",
       "FID                                                               ...   \n",
       "TCGA-02-0047  9.611185       0.0  0.003309   82.495270  0.096301  ...   \n",
       "TCGA-02-0055  5.208533       0.0  0.014066  208.344332  0.000000  ...   \n",
       "TCGA-02-2483  8.041341       0.0  0.002504  241.182395  0.145759  ...   \n",
       "TCGA-02-2485  9.499339       0.0  0.004255  155.047234  0.055040  ...   \n",
       "TCGA-02-2486  6.463168       0.0  0.015776  148.809904  0.061222  ...   \n",
       "\n",
       "HUGO          GABARAPL3    CYP4F2  RP11-486E2.1  AC010525.4  RP11-713D19.1  \\\n",
       "FID                                                                          \n",
       "TCGA-02-0047        0.0  0.110278      0.018347    0.056121       0.232389   \n",
       "TCGA-02-0055        0.0  0.006697      0.000000    0.238575       0.197580   \n",
       "TCGA-02-2483        0.0  0.000000      0.000000    0.000000       0.087934   \n",
       "TCGA-02-2485        0.0  0.020259      0.000000    0.000000       0.199229   \n",
       "TCGA-02-2486        0.0  0.007511      0.000000    0.107034       0.055401   \n",
       "\n",
       "HUGO             PPP6R1  RP4-569M23.2  AC009260.1     BATF3  OR8D4  \n",
       "FID                                                                 \n",
       "TCGA-02-0047  12.955587      0.574614         0.0  3.174645    0.0  \n",
       "TCGA-02-0055  10.583493      1.360946         0.0  5.258642    0.0  \n",
       "TCGA-02-2483  10.717918      0.072477         0.0  1.366954    0.0  \n",
       "TCGA-02-2485  14.397772      0.164207         0.0  2.666906    0.0  \n",
       "TCGA-02-2486  10.224824      0.756693         0.0  7.985885    0.0  \n",
       "\n",
       "[5 rows x 60483 columns]"
      ]
     },
     "execution_count": 24,
     "metadata": {},
     "output_type": "execute_result"
    }
   ],
   "source": [
    "fpkm_tumor.head()"
   ]
  },
  {
   "cell_type": "code",
   "execution_count": 25,
   "metadata": {},
   "outputs": [],
   "source": [
    "fpkm_tumor+=1\n",
    "fpkm_tumor=np.log2(fpkm_tumor)"
   ]
  },
  {
   "cell_type": "code",
   "execution_count": 26,
   "metadata": {},
   "outputs": [],
   "source": [
    "geno_immune=pd.merge(raw,fpkm_tumor,on=\"FID\",how=\"left\")"
   ]
  },
  {
   "cell_type": "code",
   "execution_count": 27,
   "metadata": {},
   "outputs": [],
   "source": [
    "snp=[x for x in geno_immune.columns if \"6:58602122:A:G\" in x][0]\n",
    "gene=\"LINC00680\""
   ]
  },
  {
   "cell_type": "code",
   "execution_count": 28,
   "metadata": {},
   "outputs": [
    {
     "data": {
      "text/plain": [
       "Text(0, 0.5, 'log2 FPKM LINC00680')"
      ]
     },
     "execution_count": 28,
     "metadata": {},
     "output_type": "execute_result"
    },
    {
     "data": {
      "image/png": "[encoded data removed]",
      "text/plain": [
       "<Figure size 360x360 with 1 Axes>"
      ]
     },
     "metadata": {},
     "output_type": "display_data"
    }
   ],
   "source": [
    "sns.set(style=\"whitegrid\", font_scale = 1)\n",
    "plt.figure(figsize=(5,5))\n",
    "ax=sns.boxplot(x=snp,y=gene,data=geno_immune)\n",
    "\n",
    "labels = [item.get_text() for item in ax.get_xticklabels()]\n",
    "labels=[x+\"\\nn=\"+str(len(geno_immune[geno_immune[snp]==int(x)])) for x in labels]\n",
    "\n",
    "ax.set_xticklabels(labels)\n",
    "plt.ylabel(\"log2 FPKM \"+gene)\n"
   ]
  },
  {
   "cell_type": "markdown",
   "metadata": {},
   "source": [
    "## Get gtex trans dataframe"
   ]
  },
  {
   "cell_type": "code",
   "execution_count": 29,
   "metadata": {},
   "outputs": [
    {
     "ename": "FileNotFoundError",
     "evalue": "[Errno 2] File ../snp-tables/immune-microenvironment-sig.tsv does not exist: '../snp-tables/immune-microenvironment-sig.tsv'",
     "output_type": "error",
     "traceback": [
      "\u001b[0;31m---------------------------------------------------------------------------\u001b[0m",
      "\u001b[0;31mFileNotFoundError\u001b[0m                         Traceback (most recent call last)",
      "\u001b[0;32m<ipython-input-29-5c0d041c36cb>\u001b[0m in \u001b[0;36m<module>\u001b[0;34m\u001b[0m\n\u001b[0;32m----> 1\u001b[0;31m \u001b[0msnps\u001b[0m\u001b[0;34m=\u001b[0m\u001b[0mpd\u001b[0m\u001b[0;34m.\u001b[0m\u001b[0mread_csv\u001b[0m\u001b[0;34m(\u001b[0m\u001b[0;34m\"../snp-tables/immune-microenvironment-sig.tsv\"\u001b[0m\u001b[0;34m,\u001b[0m\u001b[0mdelimiter\u001b[0m\u001b[0;34m=\u001b[0m\u001b[0;34m\"\\t\"\u001b[0m\u001b[0;34m)\u001b[0m\u001b[0;34m\u001b[0m\u001b[0;34m\u001b[0m\u001b[0m\n\u001b[0m",
      "\u001b[0;32m/nrnb/opt/anaconda3.7/lib/python3.7/site-packages/pandas/io/parsers.py\u001b[0m in \u001b[0;36mparser_f\u001b[0;34m(filepath_or_buffer, sep, delimiter, header, names, index_col, usecols, squeeze, prefix, mangle_dupe_cols, dtype, engine, converters, true_values, false_values, skipinitialspace, skiprows, skipfooter, nrows, na_values, keep_default_na, na_filter, verbose, skip_blank_lines, parse_dates, infer_datetime_format, keep_date_col, date_parser, dayfirst, cache_dates, iterator, chunksize, compression, thousands, decimal, lineterminator, quotechar, quoting, doublequote, escapechar, comment, encoding, dialect, error_bad_lines, warn_bad_lines, delim_whitespace, low_memory, memory_map, float_precision)\u001b[0m\n\u001b[1;32m    674\u001b[0m         )\n\u001b[1;32m    675\u001b[0m \u001b[0;34m\u001b[0m\u001b[0m\n\u001b[0;32m--> 676\u001b[0;31m         \u001b[0;32mreturn\u001b[0m \u001b[0m_read\u001b[0m\u001b[0;34m(\u001b[0m\u001b[0mfilepath_or_buffer\u001b[0m\u001b[0;34m,\u001b[0m \u001b[0mkwds\u001b[0m\u001b[0;34m)\u001b[0m\u001b[0;34m\u001b[0m\u001b[0;34m\u001b[0m\u001b[0m\n\u001b[0m\u001b[1;32m    677\u001b[0m \u001b[0;34m\u001b[0m\u001b[0m\n\u001b[1;32m    678\u001b[0m     \u001b[0mparser_f\u001b[0m\u001b[0;34m.\u001b[0m\u001b[0m__name__\u001b[0m \u001b[0;34m=\u001b[0m \u001b[0mname\u001b[0m\u001b[0;34m\u001b[0m\u001b[0;34m\u001b[0m\u001b[0m\n",
      "\u001b[0;32m/nrnb/opt/anaconda3.7/lib/python3.7/site-packages/pandas/io/parsers.py\u001b[0m in \u001b[0;36m_read\u001b[0;34m(filepath_or_buffer, kwds)\u001b[0m\n\u001b[1;32m    446\u001b[0m \u001b[0;34m\u001b[0m\u001b[0m\n\u001b[1;32m    447\u001b[0m     \u001b[0;31m# Create the parser.\u001b[0m\u001b[0;34m\u001b[0m\u001b[0;34m\u001b[0m\u001b[0;34m\u001b[0m\u001b[0m\n\u001b[0;32m--> 448\u001b[0;31m     \u001b[0mparser\u001b[0m \u001b[0;34m=\u001b[0m \u001b[0mTextFileReader\u001b[0m\u001b[0;34m(\u001b[0m\u001b[0mfp_or_buf\u001b[0m\u001b[0;34m,\u001b[0m \u001b[0;34m**\u001b[0m\u001b[0mkwds\u001b[0m\u001b[0;34m)\u001b[0m\u001b[0;34m\u001b[0m\u001b[0;34m\u001b[0m\u001b[0m\n\u001b[0m\u001b[1;32m    449\u001b[0m \u001b[0;34m\u001b[0m\u001b[0m\n\u001b[1;32m    450\u001b[0m     \u001b[0;32mif\u001b[0m \u001b[0mchunksize\u001b[0m \u001b[0;32mor\u001b[0m \u001b[0miterator\u001b[0m\u001b[0;34m:\u001b[0m\u001b[0;34m\u001b[0m\u001b[0;34m\u001b[0m\u001b[0m\n",
      "\u001b[0;32m/nrnb/opt/anaconda3.7/lib/python3.7/site-packages/pandas/io/parsers.py\u001b[0m in \u001b[0;36m__init__\u001b[0;34m(self, f, engine, **kwds)\u001b[0m\n\u001b[1;32m    878\u001b[0m             \u001b[0mself\u001b[0m\u001b[0;34m.\u001b[0m\u001b[0moptions\u001b[0m\u001b[0;34m[\u001b[0m\u001b[0;34m\"has_index_names\"\u001b[0m\u001b[0;34m]\u001b[0m \u001b[0;34m=\u001b[0m \u001b[0mkwds\u001b[0m\u001b[0;34m[\u001b[0m\u001b[0;34m\"has_index_names\"\u001b[0m\u001b[0;34m]\u001b[0m\u001b[0;34m\u001b[0m\u001b[0;34m\u001b[0m\u001b[0m\n\u001b[1;32m    879\u001b[0m \u001b[0;34m\u001b[0m\u001b[0m\n\u001b[0;32m--> 880\u001b[0;31m         \u001b[0mself\u001b[0m\u001b[0;34m.\u001b[0m\u001b[0m_make_engine\u001b[0m\u001b[0;34m(\u001b[0m\u001b[0mself\u001b[0m\u001b[0;34m.\u001b[0m\u001b[0mengine\u001b[0m\u001b[0;34m)\u001b[0m\u001b[0;34m\u001b[0m\u001b[0;34m\u001b[0m\u001b[0m\n\u001b[0m\u001b[1;32m    881\u001b[0m \u001b[0;34m\u001b[0m\u001b[0m\n\u001b[1;32m    882\u001b[0m     \u001b[0;32mdef\u001b[0m \u001b[0mclose\u001b[0m\u001b[0;34m(\u001b[0m\u001b[0mself\u001b[0m\u001b[0;34m)\u001b[0m\u001b[0;34m:\u001b[0m\u001b[0;34m\u001b[0m\u001b[0;34m\u001b[0m\u001b[0m\n",
      "\u001b[0;32m/nrnb/opt/anaconda3.7/lib/python3.7/site-packages/pandas/io/parsers.py\u001b[0m in \u001b[0;36m_make_engine\u001b[0;34m(self, engine)\u001b[0m\n\u001b[1;32m   1112\u001b[0m     \u001b[0;32mdef\u001b[0m \u001b[0m_make_engine\u001b[0m\u001b[0;34m(\u001b[0m\u001b[0mself\u001b[0m\u001b[0;34m,\u001b[0m \u001b[0mengine\u001b[0m\u001b[0;34m=\u001b[0m\u001b[0;34m\"c\"\u001b[0m\u001b[0;34m)\u001b[0m\u001b[0;34m:\u001b[0m\u001b[0;34m\u001b[0m\u001b[0;34m\u001b[0m\u001b[0m\n\u001b[1;32m   1113\u001b[0m         \u001b[0;32mif\u001b[0m \u001b[0mengine\u001b[0m \u001b[0;34m==\u001b[0m \u001b[0;34m\"c\"\u001b[0m\u001b[0;34m:\u001b[0m\u001b[0;34m\u001b[0m\u001b[0;34m\u001b[0m\u001b[0m\n\u001b[0;32m-> 1114\u001b[0;31m             \u001b[0mself\u001b[0m\u001b[0;34m.\u001b[0m\u001b[0m_engine\u001b[0m \u001b[0;34m=\u001b[0m \u001b[0mCParserWrapper\u001b[0m\u001b[0;34m(\u001b[0m\u001b[0mself\u001b[0m\u001b[0;34m.\u001b[0m\u001b[0mf\u001b[0m\u001b[0;34m,\u001b[0m \u001b[0;34m**\u001b[0m\u001b[0mself\u001b[0m\u001b[0;34m.\u001b[0m\u001b[0moptions\u001b[0m\u001b[0;34m)\u001b[0m\u001b[0;34m\u001b[0m\u001b[0;34m\u001b[0m\u001b[0m\n\u001b[0m\u001b[1;32m   1115\u001b[0m         \u001b[0;32melse\u001b[0m\u001b[0;34m:\u001b[0m\u001b[0;34m\u001b[0m\u001b[0;34m\u001b[0m\u001b[0m\n\u001b[1;32m   1116\u001b[0m             \u001b[0;32mif\u001b[0m \u001b[0mengine\u001b[0m \u001b[0;34m==\u001b[0m \u001b[0;34m\"python\"\u001b[0m\u001b[0;34m:\u001b[0m\u001b[0;34m\u001b[0m\u001b[0;34m\u001b[0m\u001b[0m\n",
      "\u001b[0;32m/nrnb/opt/anaconda3.7/lib/python3.7/site-packages/pandas/io/parsers.py\u001b[0m in \u001b[0;36m__init__\u001b[0;34m(self, src, **kwds)\u001b[0m\n\u001b[1;32m   1889\u001b[0m         \u001b[0mkwds\u001b[0m\u001b[0;34m[\u001b[0m\u001b[0;34m\"usecols\"\u001b[0m\u001b[0;34m]\u001b[0m \u001b[0;34m=\u001b[0m \u001b[0mself\u001b[0m\u001b[0;34m.\u001b[0m\u001b[0musecols\u001b[0m\u001b[0;34m\u001b[0m\u001b[0;34m\u001b[0m\u001b[0m\n\u001b[1;32m   1890\u001b[0m \u001b[0;34m\u001b[0m\u001b[0m\n\u001b[0;32m-> 1891\u001b[0;31m         \u001b[0mself\u001b[0m\u001b[0;34m.\u001b[0m\u001b[0m_reader\u001b[0m \u001b[0;34m=\u001b[0m \u001b[0mparsers\u001b[0m\u001b[0;34m.\u001b[0m\u001b[0mTextReader\u001b[0m\u001b[0;34m(\u001b[0m\u001b[0msrc\u001b[0m\u001b[0;34m,\u001b[0m \u001b[0;34m**\u001b[0m\u001b[0mkwds\u001b[0m\u001b[0;34m)\u001b[0m\u001b[0;34m\u001b[0m\u001b[0;34m\u001b[0m\u001b[0m\n\u001b[0m\u001b[1;32m   1892\u001b[0m         \u001b[0mself\u001b[0m\u001b[0;34m.\u001b[0m\u001b[0munnamed_cols\u001b[0m \u001b[0;34m=\u001b[0m \u001b[0mself\u001b[0m\u001b[0;34m.\u001b[0m\u001b[0m_reader\u001b[0m\u001b[0;34m.\u001b[0m\u001b[0munnamed_cols\u001b[0m\u001b[0;34m\u001b[0m\u001b[0;34m\u001b[0m\u001b[0m\n\u001b[1;32m   1893\u001b[0m \u001b[0;34m\u001b[0m\u001b[0m\n",
      "\u001b[0;32mpandas/_libs/parsers.pyx\u001b[0m in \u001b[0;36mpandas._libs.parsers.TextReader.__cinit__\u001b[0;34m()\u001b[0m\n",
      "\u001b[0;32mpandas/_libs/parsers.pyx\u001b[0m in \u001b[0;36mpandas._libs.parsers.TextReader._setup_parser_source\u001b[0;34m()\u001b[0m\n",
      "\u001b[0;31mFileNotFoundError\u001b[0m: [Errno 2] File ../snp-tables/immune-microenvironment-sig.tsv does not exist: '../snp-tables/immune-microenvironment-sig.tsv'"
     ]
    }
   ],
   "source": [
    "snps=pd.read_csv(\"../snp-tables/immune-microenvironment-sig.tsv\",delimiter=\"\\t\")"
   ]
  },
  {
   "cell_type": "code",
   "execution_count": null,
   "metadata": {},
   "outputs": [],
   "source": [
    "snps[snps[\"snps\"]==\"6:58602122:A:G\"]"
   ]
  },
  {
   "cell_type": "code",
   "execution_count": null,
   "metadata": {},
   "outputs": [],
   "source": [
    "linc=linc[linc[\"assoc\"].str.contains(\"5:49507235:G:A\")]"
   ]
  },
  {
   "cell_type": "code",
   "execution_count": null,
   "metadata": {},
   "outputs": [],
   "source": [
    "genes=snps[snps[\"snps\"]==\"6:58602122:A:G\"][\"file\"].tolist()"
   ]
  },
  {
   "cell_type": "code",
   "execution_count": null,
   "metadata": {},
   "outputs": [],
   "source": [
    "snp=[\"6:58602122:A:G_G\"]"
   ]
  },
  {
   "cell_type": "code",
   "execution_count": null,
   "metadata": {},
   "outputs": [],
   "source": [
    "cols=[x for x in set(snp+genes+[\"LINC00680\"])]"
   ]
  },
  {
   "cell_type": "code",
   "execution_count": null,
   "metadata": {},
   "outputs": [],
   "source": [
    "linc_geno_immune=geno_immune[cols]"
   ]
  },
  {
   "cell_type": "code",
   "execution_count": null,
   "metadata": {},
   "outputs": [],
   "source": [
    "mean=linc_geno_immune.groupby(snp).mean()"
   ]
  },
  {
   "cell_type": "code",
   "execution_count": null,
   "metadata": {},
   "outputs": [],
   "source": [
    "std=linc_geno_immune.groupby(snp).std()"
   ]
  },
  {
   "cell_type": "code",
   "execution_count": null,
   "metadata": {},
   "outputs": [],
   "source": [
    "std=std/3"
   ]
  },
  {
   "cell_type": "code",
   "execution_count": null,
   "metadata": {},
   "outputs": [],
   "source": [
    "mean"
   ]
  },
  {
   "cell_type": "code",
   "execution_count": null,
   "metadata": {},
   "outputs": [],
   "source": [
    "plt.figure(figsize=(6,5))\n",
    "for i in mean.columns:\n",
    "    if i!= \"LINC00680\":\n",
    "        print(i)\n",
    "        plt.errorbar([0,1,2], mean[i].tolist(), yerr=std[i].tolist(),label=i) \n",
    "plt.legend()\n",
    "plt.grid(b=None)\n",
    "plt.ylabel(\"log2 FPKM\")\n",
    "plt.savefig(\"../plots/LINC00680.mac.pdf\", bbox_inches='tight')"
   ]
  },
  {
   "cell_type": "code",
   "execution_count": null,
   "metadata": {},
   "outputs": [],
   "source": [
    "plt.figure(figsize=(6,2))\n",
    "plt.errorbar([0,1,2], mean[\"LINC00680\"].tolist(), yerr=std[\"LINC00680\"].tolist(),label=\"LINC00680\") \n",
    "plt.legend()\n",
    "plt.ylabel(\"log2 FPKM\")\n",
    "plt.grid(b=None)\n",
    "plt.savefig(\"../plots/LINC00680.pdf\", bbox_inches='tight')"
   ]
  },
  {
   "cell_type": "markdown",
   "metadata": {},
   "source": [
    "## Make network of LINC00680 snps"
   ]
  },
  {
   "cell_type": "code",
   "execution_count": null,
   "metadata": {},
   "outputs": [],
   "source": []
  },
  {
   "cell_type": "code",
   "execution_count": null,
   "metadata": {},
   "outputs": [],
   "source": []
  },
  {
   "cell_type": "code",
   "execution_count": null,
   "metadata": {},
   "outputs": [],
   "source": []
  },
  {
   "cell_type": "code",
   "execution_count": null,
   "metadata": {},
   "outputs": [],
   "source": []
  },
  {
   "cell_type": "code",
   "execution_count": null,
   "metadata": {},
   "outputs": [],
   "source": []
  },
  {
   "cell_type": "code",
   "execution_count": null,
   "metadata": {},
   "outputs": [],
   "source": []
  },
  {
   "cell_type": "code",
   "execution_count": null,
   "metadata": {},
   "outputs": [],
   "source": []
  },
  {
   "cell_type": "code",
   "execution_count": null,
   "metadata": {},
   "outputs": [],
   "source": []
  },
  {
   "cell_type": "code",
   "execution_count": null,
   "metadata": {},
   "outputs": [],
   "source": []
  }
 ],
 "metadata": {
  "kernelspec": {
   "display_name": "Python 3",
   "language": "python",
   "name": "python3"
  },
  "language_info": {
   "codemirror_mode": {
    "name": "ipython",
    "version": 3
   },
   "file_extension": ".py",
   "mimetype": "text/x-python",
   "name": "python",
   "nbconvert_exporter": "python",
   "pygments_lexer": "ipython3",
   "version": "3.7.7"
  }
 },
 "nbformat": 4,
 "nbformat_minor": 4
}
