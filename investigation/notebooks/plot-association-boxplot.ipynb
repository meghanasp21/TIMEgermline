{
 "cells": [
  {
   "cell_type": "code",
   "execution_count": 1,
   "metadata": {},
   "outputs": [],
   "source": [
    "import pandas as pd\n",
    "import seaborn as sns\n",
    "from matplotlib import pyplot as plt\n",
    "import numpy as np"
   ]
  },
  {
   "cell_type": "code",
   "execution_count": 2,
   "metadata": {},
   "outputs": [],
   "source": [
    "import matplotlib\n",
    "matplotlib.rcParams['pdf.fonttype'] = 42\n",
    "matplotlib.rcParams['ps.fonttype'] = 42"
   ]
  },
  {
   "cell_type": "markdown",
   "metadata": {},
   "source": [
    "## Get genotype data"
   ]
  },
  {
   "cell_type": "code",
   "execution_count": 6,
   "metadata": {},
   "outputs": [],
   "source": [
    "df=pd.read_csv(\"../../snp-tables/immune-microenvironment-nonhla.tsv\",delimiter=\"\\t\")"
   ]
  },
  {
   "cell_type": "code",
   "execution_count": 10,
   "metadata": {},
   "outputs": [
    {
     "data": {
      "text/html": [
       "<div>\n",
       "<style scoped>\n",
       "    .dataframe tbody tr th:only-of-type {\n",
       "        vertical-align: middle;\n",
       "    }\n",
       "\n",
       "    .dataframe tbody tr th {\n",
       "        vertical-align: top;\n",
       "    }\n",
       "\n",
       "    .dataframe thead th {\n",
       "        text-align: right;\n",
       "    }\n",
       "</style>\n",
       "<table border=\"1\" class=\"dataframe\">\n",
       "  <thead>\n",
       "    <tr style=\"text-align: right;\">\n",
       "      <th></th>\n",
       "      <th>snps</th>\n",
       "      <th>file</th>\n",
       "      <th>category</th>\n",
       "      <th>maf</th>\n",
       "      <th>variant</th>\n",
       "      <th>rsid</th>\n",
       "      <th>tpm beta</th>\n",
       "      <th>tpm SE</th>\n",
       "      <th>tpm P</th>\n",
       "      <th>REF</th>\n",
       "      <th>ALT</th>\n",
       "      <th>firebrowse beta</th>\n",
       "      <th>firebrowse SE</th>\n",
       "      <th>firebrowse P</th>\n",
       "      <th>pancan beta</th>\n",
       "      <th>pancan SE</th>\n",
       "      <th>pancan P</th>\n",
       "      <th>p-value</th>\n",
       "      <th>cis tss</th>\n",
       "      <th>gwas</th>\n",
       "    </tr>\n",
       "  </thead>\n",
       "  <tbody>\n",
       "    <tr>\n",
       "      <th>2</th>\n",
       "      <td>19:55175740:C:T</td>\n",
       "      <td>LILRB4</td>\n",
       "      <td>immunomodulators</td>\n",
       "      <td>0.37430</td>\n",
       "      <td>chr19:g.55175740C&gt;T</td>\n",
       "      <td>rs3745871</td>\n",
       "      <td>0.552741</td>\n",
       "      <td>0.016038</td>\n",
       "      <td>7.971420e-241</td>\n",
       "      <td>C</td>\n",
       "      <td>T</td>\n",
       "      <td>-0.042462</td>\n",
       "      <td>0.017650</td>\n",
       "      <td>1.616310e-02</td>\n",
       "      <td>-0.048756</td>\n",
       "      <td>0.017292</td>\n",
       "      <td>4.823190e-03</td>\n",
       "      <td>7.971420e-241</td>\n",
       "      <td>-1470.0</td>\n",
       "      <td>NaN</td>\n",
       "    </tr>\n",
       "    <tr>\n",
       "      <th>3</th>\n",
       "      <td>19:55175983:T:A</td>\n",
       "      <td>LILRB4</td>\n",
       "      <td>immunomodulators</td>\n",
       "      <td>0.05939</td>\n",
       "      <td>chr19:g.55175983T&gt;A</td>\n",
       "      <td>rs7253814</td>\n",
       "      <td>-0.588260</td>\n",
       "      <td>0.035009</td>\n",
       "      <td>3.632880e-62</td>\n",
       "      <td>T</td>\n",
       "      <td>A</td>\n",
       "      <td>0.109191</td>\n",
       "      <td>0.036245</td>\n",
       "      <td>2.599720e-03</td>\n",
       "      <td>0.111202</td>\n",
       "      <td>0.035470</td>\n",
       "      <td>1.725110e-03</td>\n",
       "      <td>3.632880e-62</td>\n",
       "      <td>-1713.0</td>\n",
       "      <td>NaN</td>\n",
       "    </tr>\n",
       "    <tr>\n",
       "      <th>5</th>\n",
       "      <td>19:55174498:T:C</td>\n",
       "      <td>LILRB4</td>\n",
       "      <td>immunomodulators</td>\n",
       "      <td>0.19530</td>\n",
       "      <td>chr19:g.55174498T&gt;C</td>\n",
       "      <td>rs28366008</td>\n",
       "      <td>-0.208947</td>\n",
       "      <td>0.020648</td>\n",
       "      <td>6.571470e-24</td>\n",
       "      <td>T</td>\n",
       "      <td>C</td>\n",
       "      <td>0.033695</td>\n",
       "      <td>0.021151</td>\n",
       "      <td>1.111890e-01</td>\n",
       "      <td>0.035240</td>\n",
       "      <td>0.020771</td>\n",
       "      <td>8.982180e-02</td>\n",
       "      <td>6.571470e-24</td>\n",
       "      <td>-228.0</td>\n",
       "      <td>NaN</td>\n",
       "    </tr>\n",
       "    <tr>\n",
       "      <th>9</th>\n",
       "      <td>19:55173814:G:C</td>\n",
       "      <td>LILRB4</td>\n",
       "      <td>immunomodulators</td>\n",
       "      <td>0.49030</td>\n",
       "      <td>chr19:g.55173814G&gt;C</td>\n",
       "      <td>rs12609815</td>\n",
       "      <td>0.120665</td>\n",
       "      <td>0.016489</td>\n",
       "      <td>2.799120e-13</td>\n",
       "      <td>G</td>\n",
       "      <td>C</td>\n",
       "      <td>0.003134</td>\n",
       "      <td>0.016854</td>\n",
       "      <td>8.524960e-01</td>\n",
       "      <td>0.003552</td>\n",
       "      <td>0.016554</td>\n",
       "      <td>8.300930e-01</td>\n",
       "      <td>2.799120e-13</td>\n",
       "      <td>456.0</td>\n",
       "      <td>NaN</td>\n",
       "    </tr>\n",
       "    <tr>\n",
       "      <th>375</th>\n",
       "      <td>19:55172539:G:A</td>\n",
       "      <td>LILRB4</td>\n",
       "      <td>immunomodulators</td>\n",
       "      <td>0.11120</td>\n",
       "      <td>chr19:g.55172539G&gt;A</td>\n",
       "      <td>rs370156</td>\n",
       "      <td>-0.023649</td>\n",
       "      <td>0.026669</td>\n",
       "      <td>3.752420e-01</td>\n",
       "      <td>G</td>\n",
       "      <td>A</td>\n",
       "      <td>0.146009</td>\n",
       "      <td>0.027148</td>\n",
       "      <td>7.769390e-08</td>\n",
       "      <td>0.143096</td>\n",
       "      <td>0.026698</td>\n",
       "      <td>8.588390e-08</td>\n",
       "      <td>7.769390e-08</td>\n",
       "      <td>1731.0</td>\n",
       "      <td>['Clozapine-induced agranulocytosis']</td>\n",
       "    </tr>\n",
       "  </tbody>\n",
       "</table>\n",
       "</div>"
      ],
      "text/plain": [
       "                snps    file          category      maf              variant  \\\n",
       "2    19:55175740:C:T  LILRB4  immunomodulators  0.37430  chr19:g.55175740C>T   \n",
       "3    19:55175983:T:A  LILRB4  immunomodulators  0.05939  chr19:g.55175983T>A   \n",
       "5    19:55174498:T:C  LILRB4  immunomodulators  0.19530  chr19:g.55174498T>C   \n",
       "9    19:55173814:G:C  LILRB4  immunomodulators  0.49030  chr19:g.55173814G>C   \n",
       "375  19:55172539:G:A  LILRB4  immunomodulators  0.11120  chr19:g.55172539G>A   \n",
       "\n",
       "           rsid  tpm beta    tpm SE          tpm P REF ALT  firebrowse beta  \\\n",
       "2     rs3745871  0.552741  0.016038  7.971420e-241   C   T        -0.042462   \n",
       "3     rs7253814 -0.588260  0.035009   3.632880e-62   T   A         0.109191   \n",
       "5    rs28366008 -0.208947  0.020648   6.571470e-24   T   C         0.033695   \n",
       "9    rs12609815  0.120665  0.016489   2.799120e-13   G   C         0.003134   \n",
       "375    rs370156 -0.023649  0.026669   3.752420e-01   G   A         0.146009   \n",
       "\n",
       "     firebrowse SE  firebrowse P  pancan beta  pancan SE      pancan P  \\\n",
       "2         0.017650  1.616310e-02    -0.048756   0.017292  4.823190e-03   \n",
       "3         0.036245  2.599720e-03     0.111202   0.035470  1.725110e-03   \n",
       "5         0.021151  1.111890e-01     0.035240   0.020771  8.982180e-02   \n",
       "9         0.016854  8.524960e-01     0.003552   0.016554  8.300930e-01   \n",
       "375       0.027148  7.769390e-08     0.143096   0.026698  8.588390e-08   \n",
       "\n",
       "           p-value  cis tss                                   gwas  \n",
       "2    7.971420e-241  -1470.0                                    NaN  \n",
       "3     3.632880e-62  -1713.0                                    NaN  \n",
       "5     6.571470e-24   -228.0                                    NaN  \n",
       "9     2.799120e-13    456.0                                    NaN  \n",
       "375   7.769390e-08   1731.0  ['Clozapine-induced agranulocytosis']  "
      ]
     },
     "execution_count": 10,
     "metadata": {},
     "output_type": "execute_result"
    }
   ],
   "source": [
    "df[df[\"snps\"].str.contains(\"19:5517\")]"
   ]
  },
  {
   "cell_type": "code",
   "execution_count": 9,
   "metadata": {},
   "outputs": [],
   "source": [
    "raw = pd.read_csv('/nrnb/users/mpagadal/tcga-genotypes/germline-immune/immune.snp.raw',sep=' ')"
   ]
  },
  {
   "cell_type": "markdown",
   "metadata": {},
   "source": [
    "## Get expression data"
   ]
  },
  {
   "cell_type": "code",
   "execution_count": 10,
   "metadata": {},
   "outputs": [],
   "source": [
    "tpm=pd.read_csv(\"/cellar/users/mpagadal/Data/projects/germline-immune/discovery/phenotypes/processed_phenos/tpm/tumor/pheno_all_zcancer\",delimiter=\"\\t\")\n",
    "firebrowse=pd.read_csv(\"/cellar/users/mpagadal/Data/projects/germline-immune/discovery/phenotypes/processed_phenos/firebrowse/tumor/pheno_all_zcancer\",delimiter=\"\\t\")\n",
    "pancan=pd.read_csv(\"/cellar/users/mpagadal/Data/projects/germline-immune/discovery/phenotypes/processed_phenos/pancanatlas/tumor/pheno_all_zcancer\",delimiter=\"\\t\")"
   ]
  },
  {
   "cell_type": "markdown",
   "metadata": {},
   "source": [
    "## Map to cancer type"
   ]
  },
  {
   "cell_type": "code",
   "execution_count": 11,
   "metadata": {},
   "outputs": [],
   "source": [
    "canc = pd.read_csv(\"/nrnb/users/mpagadal/tcga-genotypes/birdseed-processing/gtype.meta\", delimiter=\"\\t\", header=None)\n",
    "mp = canc.set_index(2)[0].to_dict()\n",
    "\n",
    "tpm[\"cancer\"]=tpm[\"FID\"].map(mp)\n",
    "firebrowse[\"cancer\"]=firebrowse[\"FID\"].map(mp)\n",
    "pancan[\"cancer\"]=pancan[\"FID\"].map(mp)"
   ]
  },
  {
   "cell_type": "code",
   "execution_count": 12,
   "metadata": {},
   "outputs": [],
   "source": [
    "geno_immune=pd.merge(raw,tpm,on=[\"FID\",\"IID\"])"
   ]
  },
  {
   "cell_type": "markdown",
   "metadata": {},
   "source": [
    "### significant snps"
   ]
  },
  {
   "cell_type": "code",
   "execution_count": 13,
   "metadata": {},
   "outputs": [],
   "source": [
    "snps=pd.read_csv(\"../../snp-tables/immune-microenvironment-nonhla.tsv\",delimiter=\"\\t\")"
   ]
  },
  {
   "cell_type": "markdown",
   "metadata": {},
   "source": [
    "## Plot boxplot of genotype by expression"
   ]
  },
  {
   "cell_type": "code",
   "execution_count": 14,
   "metadata": {},
   "outputs": [],
   "source": [
    "snp=[x for x in geno_immune.columns if \"1:88665329\" in x][0]\n",
    "snp=[x for x in geno_immune.columns if snp in x][0]\n",
    "gene=\"CCBL2\""
   ]
  },
  {
   "cell_type": "code",
   "execution_count": 15,
   "metadata": {},
   "outputs": [],
   "source": [
    "geno_immune_gene=geno_immune[~(geno_immune[gene]==-9)]"
   ]
  },
  {
   "cell_type": "code",
   "execution_count": 16,
   "metadata": {
    "scrolled": true
   },
   "outputs": [],
   "source": [
    "geno_immune_gene=geno_immune_gene[geno_immune_gene[\"cancer\"]==\"STAD\"]"
   ]
  },
  {
   "cell_type": "code",
   "execution_count": 17,
   "metadata": {},
   "outputs": [
    {
     "data": {
      "image/png": "[encoded data removed]",
      "text/plain": [
       "<Figure size 144x360 with 1 Axes>"
      ]
     },
     "metadata": {},
     "output_type": "display_data"
    }
   ],
   "source": [
    "sns.set(style=\"whitegrid\", font_scale = 1)\n",
    "plt.figure(figsize=(2,5))\n",
    "ax=sns.boxplot(x=snp,y=gene,data=geno_immune_gene,color=\"white\")\n",
    "ax=sns.swarmplot(x=snp,y=gene,data=geno_immune_gene)\n",
    "\n",
    "labels = [item.get_text() for item in ax.get_xticklabels()]\n",
    "labels=[x+\"\\nn=\"+str(len(geno_immune_gene[geno_immune_gene[snp]==int(x)])) for x in labels]\n",
    "\n",
    "ax.set_xticklabels(labels)\n",
    "plt.ylabel(\"inverse rank \"+gene)\n",
    "\n",
    "\n",
    "plt.savefig(\"../plots/\"+snp+\".\"+gene+\".pdf\")"
   ]
  },
  {
   "cell_type": "markdown",
   "metadata": {},
   "source": [
    "## Get FPKM expression"
   ]
  },
  {
   "cell_type": "code",
   "execution_count": 18,
   "metadata": {},
   "outputs": [],
   "source": [
    "fpkm=pd.read_csv(\"/cellar/users/mpagadal/Data/resources/tcga/fpkm-compile/tcga-hugo-fpkm-compiled\",delimiter=\"\\t\")"
   ]
  },
  {
   "cell_type": "code",
   "execution_count": 20,
   "metadata": {},
   "outputs": [],
   "source": [
    "mp_fpkm=pd.read_csv(\"/cellar/users/mpagadal/Data/resources/from-labmembers/andrea/uuid_barcode_map.txt\",delimiter=\"\\t\")\n",
    "mp_fpkm[\"file_name\"]=mp_fpkm[\"file_name\"].str.split(\".gz\").str[0]\n",
    "mp_fpkm=dict(zip(mp_fpkm[\"file_name\"],mp_fpkm[\"sample_barcode\"]))"
   ]
  },
  {
   "cell_type": "code",
   "execution_count": 21,
   "metadata": {},
   "outputs": [],
   "source": [
    "cols=[]\n",
    "\n",
    "for x in fpkm.columns:\n",
    "    try:\n",
    "        cols.append(mp_fpkm[x])\n",
    "    except:\n",
    "        cols.append(x)"
   ]
  },
  {
   "cell_type": "code",
   "execution_count": 22,
   "metadata": {},
   "outputs": [],
   "source": [
    "fpkm.columns=cols"
   ]
  },
  {
   "cell_type": "code",
   "execution_count": 23,
   "metadata": {},
   "outputs": [],
   "source": [
    "#keep only primary tumor samples\n",
    "keep_cols=[x for x in fpkm.columns if x[13:15]==\"01\"]"
   ]
  },
  {
   "cell_type": "code",
   "execution_count": 24,
   "metadata": {},
   "outputs": [],
   "source": [
    "fpkm=fpkm.set_index(\"HUGO\")\n",
    "fpkm_tumor=fpkm[keep_cols]"
   ]
  },
  {
   "cell_type": "code",
   "execution_count": 25,
   "metadata": {},
   "outputs": [],
   "source": [
    "fpkm_tumor=fpkm_tumor.T\n",
    "fpkm_tumor.index=fpkm_tumor.index.str[0:12]"
   ]
  },
  {
   "cell_type": "code",
   "execution_count": 26,
   "metadata": {},
   "outputs": [],
   "source": [
    "fpkm_tumor=fpkm_tumor.reset_index()"
   ]
  },
  {
   "cell_type": "code",
   "execution_count": 27,
   "metadata": {},
   "outputs": [],
   "source": [
    "fpkm_tumor=fpkm_tumor.rename(columns={\"index\":\"FID\"})"
   ]
  },
  {
   "cell_type": "code",
   "execution_count": 28,
   "metadata": {},
   "outputs": [],
   "source": [
    "#take mean of duplicate samples\n",
    "fpkm_tumor=fpkm_tumor.groupby(\"FID\").mean()"
   ]
  },
  {
   "cell_type": "code",
   "execution_count": 29,
   "metadata": {},
   "outputs": [],
   "source": [
    "#normalized expression\n",
    "fpkm_tumor+=1\n",
    "fpkm_tumor=np.log2(fpkm_tumor)"
   ]
  },
  {
   "cell_type": "code",
   "execution_count": 30,
   "metadata": {},
   "outputs": [],
   "source": [
    "geno_immune=pd.merge(raw,fpkm_tumor,on=\"FID\",how=\"left\")"
   ]
  },
  {
   "cell_type": "code",
   "execution_count": 31,
   "metadata": {},
   "outputs": [],
   "source": [
    "snp=[x for x in geno_immune.columns if \"6:58602122:A:G\" in x][0]\n",
    "gene=\"LINC00680\""
   ]
  },
  {
   "cell_type": "code",
   "execution_count": 32,
   "metadata": {},
   "outputs": [
    {
     "data": {
      "text/plain": [
       "Text(0, 0.5, 'log2 FPKM LINC00680')"
      ]
     },
     "execution_count": 32,
     "metadata": {},
     "output_type": "execute_result"
    },
    {
     "data": {
      "image/png": "[encoded data removed]",
      "text/plain": [
       "<Figure size 360x360 with 1 Axes>"
      ]
     },
     "metadata": {},
     "output_type": "display_data"
    }
   ],
   "source": [
    "sns.set(style=\"whitegrid\", font_scale = 1)\n",
    "plt.figure(figsize=(5,5))\n",
    "ax=sns.boxplot(x=snp,y=gene,data=geno_immune)\n",
    "\n",
    "labels = [item.get_text() for item in ax.get_xticklabels()]\n",
    "labels=[x+\"\\nn=\"+str(len(geno_immune[geno_immune[snp]==int(x)])) for x in labels]\n",
    "\n",
    "ax.set_xticklabels(labels)\n",
    "plt.ylabel(\"log2 FPKM \"+gene)\n"
   ]
  },
  {
   "cell_type": "markdown",
   "metadata": {},
   "source": [
    "## Get gtex trans dataframe"
   ]
  },
  {
   "cell_type": "code",
   "execution_count": 33,
   "metadata": {},
   "outputs": [],
   "source": [
    "snps=pd.read_csv(\"../../snp-tables/immune-microenvironment-nonhla.tsv\",delimiter=\"\\t\")"
   ]
  },
  {
   "cell_type": "code",
   "execution_count": 34,
   "metadata": {},
   "outputs": [
    {
     "data": {
      "text/html": [
       "<div>\n",
       "<style scoped>\n",
       "    .dataframe tbody tr th:only-of-type {\n",
       "        vertical-align: middle;\n",
       "    }\n",
       "\n",
       "    .dataframe tbody tr th {\n",
       "        vertical-align: top;\n",
       "    }\n",
       "\n",
       "    .dataframe thead th {\n",
       "        text-align: right;\n",
       "    }\n",
       "</style>\n",
       "<table border=\"1\" class=\"dataframe\">\n",
       "  <thead>\n",
       "    <tr style=\"text-align: right;\">\n",
       "      <th></th>\n",
       "      <th>snps</th>\n",
       "      <th>file</th>\n",
       "      <th>category</th>\n",
       "      <th>maf</th>\n",
       "      <th>variant</th>\n",
       "      <th>rsid</th>\n",
       "      <th>tpm beta</th>\n",
       "      <th>tpm SE</th>\n",
       "      <th>tpm P</th>\n",
       "      <th>REF</th>\n",
       "      <th>ALT</th>\n",
       "      <th>firebrowse beta</th>\n",
       "      <th>firebrowse SE</th>\n",
       "      <th>firebrowse P</th>\n",
       "      <th>pancan beta</th>\n",
       "      <th>pancan SE</th>\n",
       "      <th>pancan P</th>\n",
       "      <th>p-value</th>\n",
       "      <th>cis tss</th>\n",
       "      <th>gwas</th>\n",
       "    </tr>\n",
       "  </thead>\n",
       "  <tbody>\n",
       "    <tr>\n",
       "      <th>272</th>\n",
       "      <td>6:58602122:A:G</td>\n",
       "      <td>CD14</td>\n",
       "      <td>immunomodulators</td>\n",
       "      <td>0.3742</td>\n",
       "      <td>chr6:g.58602122A&gt;G</td>\n",
       "      <td>rs2693076</td>\n",
       "      <td>-0.093316</td>\n",
       "      <td>0.017182</td>\n",
       "      <td>5.792990e-08</td>\n",
       "      <td>A</td>\n",
       "      <td>G</td>\n",
       "      <td>-0.091864</td>\n",
       "      <td>0.017469</td>\n",
       "      <td>1.495620e-07</td>\n",
       "      <td>-0.096153</td>\n",
       "      <td>0.017098</td>\n",
       "      <td>1.940020e-08</td>\n",
       "      <td>1.940020e-08</td>\n",
       "      <td>NaN</td>\n",
       "      <td>NaN</td>\n",
       "    </tr>\n",
       "    <tr>\n",
       "      <th>430</th>\n",
       "      <td>6:58602122:A:G</td>\n",
       "      <td>LILRB2</td>\n",
       "      <td>antigen present</td>\n",
       "      <td>0.3742</td>\n",
       "      <td>chr6:g.58602122A&gt;G</td>\n",
       "      <td>rs2693076</td>\n",
       "      <td>-0.075616</td>\n",
       "      <td>0.017100</td>\n",
       "      <td>9.929310e-06</td>\n",
       "      <td>A</td>\n",
       "      <td>G</td>\n",
       "      <td>-0.086076</td>\n",
       "      <td>0.017492</td>\n",
       "      <td>8.815400e-07</td>\n",
       "      <td>-0.093224</td>\n",
       "      <td>0.017121</td>\n",
       "      <td>5.355250e-08</td>\n",
       "      <td>5.355250e-08</td>\n",
       "      <td>NaN</td>\n",
       "      <td>NaN</td>\n",
       "    </tr>\n",
       "    <tr>\n",
       "      <th>440</th>\n",
       "      <td>6:58602122:A:G</td>\n",
       "      <td>PLEK</td>\n",
       "      <td>immunomodulators</td>\n",
       "      <td>0.3742</td>\n",
       "      <td>chr6:g.58602122A&gt;G</td>\n",
       "      <td>rs2693076</td>\n",
       "      <td>-0.080416</td>\n",
       "      <td>0.017210</td>\n",
       "      <td>3.029850e-06</td>\n",
       "      <td>A</td>\n",
       "      <td>G</td>\n",
       "      <td>-0.082619</td>\n",
       "      <td>0.017492</td>\n",
       "      <td>2.365900e-06</td>\n",
       "      <td>-0.093917</td>\n",
       "      <td>0.017121</td>\n",
       "      <td>4.264090e-08</td>\n",
       "      <td>4.264090e-08</td>\n",
       "      <td>NaN</td>\n",
       "      <td>NaN</td>\n",
       "    </tr>\n",
       "    <tr>\n",
       "      <th>449</th>\n",
       "      <td>6:58602122:A:G</td>\n",
       "      <td>MYO1F</td>\n",
       "      <td>immunomodulators</td>\n",
       "      <td>0.3742</td>\n",
       "      <td>chr6:g.58602122A&gt;G</td>\n",
       "      <td>rs2693076</td>\n",
       "      <td>-0.055857</td>\n",
       "      <td>0.017233</td>\n",
       "      <td>1.195190e-03</td>\n",
       "      <td>A</td>\n",
       "      <td>G</td>\n",
       "      <td>-0.090779</td>\n",
       "      <td>0.017493</td>\n",
       "      <td>2.169950e-07</td>\n",
       "      <td>-0.099323</td>\n",
       "      <td>0.017122</td>\n",
       "      <td>6.876240e-09</td>\n",
       "      <td>6.876240e-09</td>\n",
       "      <td>NaN</td>\n",
       "      <td>NaN</td>\n",
       "    </tr>\n",
       "    <tr>\n",
       "      <th>456</th>\n",
       "      <td>6:58602122:A:G</td>\n",
       "      <td>LAIR1</td>\n",
       "      <td>immunomodulators</td>\n",
       "      <td>0.3742</td>\n",
       "      <td>chr6:g.58602122A&gt;G</td>\n",
       "      <td>rs2693076</td>\n",
       "      <td>-0.065084</td>\n",
       "      <td>0.017203</td>\n",
       "      <td>1.560190e-04</td>\n",
       "      <td>A</td>\n",
       "      <td>G</td>\n",
       "      <td>-0.091273</td>\n",
       "      <td>0.017470</td>\n",
       "      <td>1.796370e-07</td>\n",
       "      <td>-0.098363</td>\n",
       "      <td>0.017102</td>\n",
       "      <td>9.204820e-09</td>\n",
       "      <td>9.204820e-09</td>\n",
       "      <td>NaN</td>\n",
       "      <td>NaN</td>\n",
       "    </tr>\n",
       "  </tbody>\n",
       "</table>\n",
       "</div>"
      ],
      "text/plain": [
       "               snps    file          category     maf             variant  \\\n",
       "272  6:58602122:A:G    CD14  immunomodulators  0.3742  chr6:g.58602122A>G   \n",
       "430  6:58602122:A:G  LILRB2   antigen present  0.3742  chr6:g.58602122A>G   \n",
       "440  6:58602122:A:G    PLEK  immunomodulators  0.3742  chr6:g.58602122A>G   \n",
       "449  6:58602122:A:G   MYO1F  immunomodulators  0.3742  chr6:g.58602122A>G   \n",
       "456  6:58602122:A:G   LAIR1  immunomodulators  0.3742  chr6:g.58602122A>G   \n",
       "\n",
       "          rsid  tpm beta    tpm SE         tpm P REF ALT  firebrowse beta  \\\n",
       "272  rs2693076 -0.093316  0.017182  5.792990e-08   A   G        -0.091864   \n",
       "430  rs2693076 -0.075616  0.017100  9.929310e-06   A   G        -0.086076   \n",
       "440  rs2693076 -0.080416  0.017210  3.029850e-06   A   G        -0.082619   \n",
       "449  rs2693076 -0.055857  0.017233  1.195190e-03   A   G        -0.090779   \n",
       "456  rs2693076 -0.065084  0.017203  1.560190e-04   A   G        -0.091273   \n",
       "\n",
       "     firebrowse SE  firebrowse P  pancan beta  pancan SE      pancan P  \\\n",
       "272       0.017469  1.495620e-07    -0.096153   0.017098  1.940020e-08   \n",
       "430       0.017492  8.815400e-07    -0.093224   0.017121  5.355250e-08   \n",
       "440       0.017492  2.365900e-06    -0.093917   0.017121  4.264090e-08   \n",
       "449       0.017493  2.169950e-07    -0.099323   0.017122  6.876240e-09   \n",
       "456       0.017470  1.796370e-07    -0.098363   0.017102  9.204820e-09   \n",
       "\n",
       "          p-value  cis tss gwas  \n",
       "272  1.940020e-08      NaN  NaN  \n",
       "430  5.355250e-08      NaN  NaN  \n",
       "440  4.264090e-08      NaN  NaN  \n",
       "449  6.876240e-09      NaN  NaN  \n",
       "456  9.204820e-09      NaN  NaN  "
      ]
     },
     "execution_count": 34,
     "metadata": {},
     "output_type": "execute_result"
    }
   ],
   "source": [
    "snps[snps[\"snps\"]==\"6:58602122:A:G\"]"
   ]
  },
  {
   "cell_type": "code",
   "execution_count": 38,
   "metadata": {},
   "outputs": [],
   "source": [
    "genes=snps[snps[\"snps\"]==\"6:58602122:A:G\"][\"file\"].tolist()"
   ]
  },
  {
   "cell_type": "code",
   "execution_count": 39,
   "metadata": {},
   "outputs": [],
   "source": [
    "snp=[\"6:58602122:A:G_G\"]"
   ]
  },
  {
   "cell_type": "code",
   "execution_count": 40,
   "metadata": {},
   "outputs": [],
   "source": [
    "cols=[x for x in set(snp+genes+[\"LINC00680\"])]"
   ]
  },
  {
   "cell_type": "code",
   "execution_count": 41,
   "metadata": {},
   "outputs": [],
   "source": [
    "linc_geno_immune=geno_immune[cols]"
   ]
  },
  {
   "cell_type": "code",
   "execution_count": 42,
   "metadata": {},
   "outputs": [],
   "source": [
    "mean=linc_geno_immune.groupby(snp).mean()"
   ]
  },
  {
   "cell_type": "code",
   "execution_count": 43,
   "metadata": {},
   "outputs": [],
   "source": [
    "std=linc_geno_immune.groupby(snp).std()"
   ]
  },
  {
   "cell_type": "code",
   "execution_count": 44,
   "metadata": {},
   "outputs": [],
   "source": [
    "std=std/3"
   ]
  },
  {
   "cell_type": "code",
   "execution_count": 45,
   "metadata": {},
   "outputs": [
    {
     "data": {
      "text/html": [
       "<div>\n",
       "<style scoped>\n",
       "    .dataframe tbody tr th:only-of-type {\n",
       "        vertical-align: middle;\n",
       "    }\n",
       "\n",
       "    .dataframe tbody tr th {\n",
       "        vertical-align: top;\n",
       "    }\n",
       "\n",
       "    .dataframe thead th {\n",
       "        text-align: right;\n",
       "    }\n",
       "</style>\n",
       "<table border=\"1\" class=\"dataframe\">\n",
       "  <thead>\n",
       "    <tr style=\"text-align: right;\">\n",
       "      <th></th>\n",
       "      <th>LAIR1</th>\n",
       "      <th>CD14</th>\n",
       "      <th>MYO1F</th>\n",
       "      <th>LILRB2</th>\n",
       "      <th>LINC00680</th>\n",
       "      <th>PLEK</th>\n",
       "    </tr>\n",
       "    <tr>\n",
       "      <th>6:58602122:A:G_G</th>\n",
       "      <th></th>\n",
       "      <th></th>\n",
       "      <th></th>\n",
       "      <th></th>\n",
       "      <th></th>\n",
       "      <th></th>\n",
       "    </tr>\n",
       "  </thead>\n",
       "  <tbody>\n",
       "    <tr>\n",
       "      <th>0</th>\n",
       "      <td>1.785180</td>\n",
       "      <td>5.089867</td>\n",
       "      <td>1.722445</td>\n",
       "      <td>1.308952</td>\n",
       "      <td>1.436832</td>\n",
       "      <td>2.601566</td>\n",
       "    </tr>\n",
       "    <tr>\n",
       "      <th>1</th>\n",
       "      <td>1.703170</td>\n",
       "      <td>4.962315</td>\n",
       "      <td>1.654841</td>\n",
       "      <td>1.245929</td>\n",
       "      <td>1.589918</td>\n",
       "      <td>2.511153</td>\n",
       "    </tr>\n",
       "    <tr>\n",
       "      <th>2</th>\n",
       "      <td>1.622372</td>\n",
       "      <td>4.842778</td>\n",
       "      <td>1.581670</td>\n",
       "      <td>1.183360</td>\n",
       "      <td>1.689108</td>\n",
       "      <td>2.383163</td>\n",
       "    </tr>\n",
       "  </tbody>\n",
       "</table>\n",
       "</div>"
      ],
      "text/plain": [
       "                     LAIR1      CD14     MYO1F    LILRB2  LINC00680      PLEK\n",
       "6:58602122:A:G_G                                                             \n",
       "0                 1.785180  5.089867  1.722445  1.308952   1.436832  2.601566\n",
       "1                 1.703170  4.962315  1.654841  1.245929   1.589918  2.511153\n",
       "2                 1.622372  4.842778  1.581670  1.183360   1.689108  2.383163"
      ]
     },
     "execution_count": 45,
     "metadata": {},
     "output_type": "execute_result"
    }
   ],
   "source": [
    "mean"
   ]
  },
  {
   "cell_type": "code",
   "execution_count": 46,
   "metadata": {},
   "outputs": [
    {
     "name": "stdout",
     "output_type": "stream",
     "text": [
      "LAIR1\n",
      "CD14\n",
      "MYO1F\n",
      "LILRB2\n",
      "PLEK\n"
     ]
    },
    {
     "data": {
      "image/png": "[encoded data removed]",
      "text/plain": [
       "<Figure size 432x360 with 1 Axes>"
      ]
     },
     "metadata": {},
     "output_type": "display_data"
    }
   ],
   "source": [
    "plt.figure(figsize=(6,5))\n",
    "for i in mean.columns:\n",
    "    if i!= \"LINC00680\":\n",
    "        print(i)\n",
    "        plt.errorbar([0,1,2], mean[i].tolist(), yerr=std[i].tolist(),label=i) \n",
    "plt.legend()\n",
    "plt.grid(b=None)\n",
    "plt.ylabel(\"log2 FPKM\")\n",
    "plt.savefig(\"../plots/LINC00680.mac.pdf\", bbox_inches='tight')"
   ]
  },
  {
   "cell_type": "code",
   "execution_count": 47,
   "metadata": {},
   "outputs": [
    {
     "data": {
      "image/png": "[encoded data removed]",
      "text/plain": [
       "<Figure size 432x144 with 1 Axes>"
      ]
     },
     "metadata": {},
     "output_type": "display_data"
    }
   ],
   "source": [
    "plt.figure(figsize=(6,2))\n",
    "plt.errorbar([0,1,2], mean[\"LINC00680\"].tolist(), yerr=std[\"LINC00680\"].tolist(),label=\"LINC00680\") \n",
    "plt.legend()\n",
    "plt.ylabel(\"log2 FPKM\")\n",
    "plt.grid(b=None)\n",
    "plt.savefig(\"../plots/LINC00680.pdf\", bbox_inches='tight')"
   ]
  },
  {
   "cell_type": "code",
   "execution_count": null,
   "metadata": {},
   "outputs": [],
   "source": []
  }
 ],
 "metadata": {
  "kernelspec": {
   "display_name": "Python 3",
   "language": "python",
   "name": "python3"
  },
  "language_info": {
   "codemirror_mode": {
    "name": "ipython",
    "version": 3
   },
   "file_extension": ".py",
   "mimetype": "text/x-python",
   "name": "python",
   "nbconvert_exporter": "python",
   "pygments_lexer": "ipython3",
   "version": "3.7.7"
  }
 },
 "nbformat": 4,
 "nbformat_minor": 4
}
