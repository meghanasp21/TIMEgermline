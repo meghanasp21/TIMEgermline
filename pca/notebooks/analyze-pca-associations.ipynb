{
 "cells": [
  {
   "cell_type": "code",
   "execution_count": 1,
   "metadata": {},
   "outputs": [],
   "source": [
    "import numpy as np\n",
    "import pandas as pd\n",
    "import os\n",
    "import statsmodels.stats.multitest as multi"
   ]
  },
  {
   "cell_type": "code",
   "execution_count": 2,
   "metadata": {},
   "outputs": [],
   "source": [
    "def fdr(df):\n",
    "    probabilities = df[\"P\"].to_numpy()\n",
    "    report = multi.multipletests(probabilities,\n",
    "                alpha=0.05,\n",
    "                method=\"fdr_bh\",\n",
    "                is_sorted=False,\n",
    "            )\n",
    "    discoveries = report[1]\n",
    "    df[\"fdr\"]=discoveries\n",
    "    df[\"fdr\"]=pd.to_numeric(df[\"fdr\"])\n",
    "    df[\"-log10(fdr)\"]=-np.log10(df[\"fdr\"])\n",
    "    \n",
    "    return(df)"
   ]
  },
  {
   "cell_type": "markdown",
   "metadata": {},
   "source": [
    "## Get principal component associations"
   ]
  },
  {
   "cell_type": "code",
   "execution_count": 10,
   "metadata": {},
   "outputs": [],
   "source": [
    "pc_assoc=\"../associations/\""
   ]
  },
  {
   "cell_type": "code",
   "execution_count": 11,
   "metadata": {},
   "outputs": [],
   "source": [
    "files=[x for x in os.listdir(pc_assoc) if \"linear\" in x]"
   ]
  },
  {
   "cell_type": "code",
   "execution_count": 12,
   "metadata": {},
   "outputs": [
    {
     "name": "stdout",
     "output_type": "stream",
     "text": [
      "(475, 13)\n",
      "(475, 13)\n",
      "(475, 13)\n",
      "(475, 13)\n",
      "(475, 13)\n",
      "(475, 13)\n",
      "(475, 13)\n",
      "(475, 13)\n",
      "(475, 13)\n",
      "(475, 13)\n"
     ]
    }
   ],
   "source": [
    "compiled_pc=pd.DataFrame()\n",
    "\n",
    "for x in files:\n",
    "    assoc=pd.read_csv(pc_assoc+x,delimiter=\"\\t\")\n",
    "    assoc=assoc[assoc[\"TEST\"]==\"ADD\"]\n",
    "    print(assoc.shape)\n",
    "    assoc=fdr(assoc)\n",
    "    #assoc_pc=assoc[assoc[\"-log10(fdr)\"]>-np.log10(0.1)]\n",
    "    assoc[\"pc\"]=x.split(\".\")[0]\n",
    "    compiled_pc=compiled_pc.append(assoc)\n"
   ]
  },
  {
   "cell_type": "code",
   "execution_count": 29,
   "metadata": {},
   "outputs": [],
   "source": [
    "compiled_pc.to_csv(\"../../snp-tables/immune-microenvironment-pc.tsv\",index=None,sep=\"\\t\")"
   ]
  },
  {
   "cell_type": "code",
   "execution_count": null,
   "metadata": {},
   "outputs": [],
   "source": []
  },
  {
   "cell_type": "code",
   "execution_count": null,
   "metadata": {},
   "outputs": [],
   "source": []
  }
 ],
 "metadata": {
  "kernelspec": {
   "display_name": "Python 3",
   "language": "python",
   "name": "python3"
  },
  "language_info": {
   "codemirror_mode": {
    "name": "ipython",
    "version": 3
   },
   "file_extension": ".py",
   "mimetype": "text/x-python",
   "name": "python",
   "nbconvert_exporter": "python",
   "pygments_lexer": "ipython3",
   "version": "3.7.7"
  }
 },
 "nbformat": 4,
 "nbformat_minor": 4
}
