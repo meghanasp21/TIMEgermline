{
 "cells": [
  {
   "cell_type": "code",
   "execution_count": 5,
   "metadata": {},
   "outputs": [],
   "source": [
    "import numpy as np\n",
    "import pandas as pd\n",
    "import os"
   ]
  },
  {
   "cell_type": "code",
   "execution_count": 6,
   "metadata": {},
   "outputs": [],
   "source": [
    "def fdr(df):\n",
    "    probabilities = df[\"P\"].to_numpy()\n",
    "    report = multi.multipletests(probabilities,\n",
    "                alpha=0.05,\n",
    "                method=\"fdr_bh\",\n",
    "                is_sorted=False,\n",
    "            )\n",
    "    discoveries = report[1]\n",
    "    df[\"fdr\"]=discoveries\n",
    "    df[\"fdr\"]=pd.to_numeric(df[\"fdr\"])\n",
    "    df[\"-log10(fdr)\"]=-np.log10(df[\"fdr\"])\n",
    "    \n",
    "    return(df)"
   ]
  },
  {
   "cell_type": "markdown",
   "metadata": {},
   "source": [
    "## Get principal component associations"
   ]
  },
  {
   "cell_type": "code",
   "execution_count": 7,
   "metadata": {},
   "outputs": [],
   "source": [
    "pc_assoc=\"../associations/raw/pca-heritable/\""
   ]
  },
  {
   "cell_type": "code",
   "execution_count": 8,
   "metadata": {},
   "outputs": [],
   "source": [
    "compiled_pc=pd.DataFrame()\n",
    "\n",
    "for x in [x for x in os.listdir(pc_assoc) if \"linear\" in x]:\n",
    "    assoc=pd.read_csv(pc_assoc+x,delimiter=\"\\t\")\n",
    "    assoc=assoc[assoc[\"TEST\"]==\"ADD\"]\n",
    "    print(assoc.shape)\n",
    "    assoc=fdr(assoc)\n",
    "    assoc_pc=assoc[assoc[\"-log10(fdr)\"]>-np.log10(0.1)]\n",
    "    assoc_pc[\"pc\"]=x.split(\".\")[0]\n",
    "    compiled_pc=compiled_pc.append(assoc_pc)\n"
   ]
  },
  {
   "cell_type": "code",
   "execution_count": null,
   "metadata": {},
   "outputs": [],
   "source": [
    "compiled_pc.to_csv(\"../snp-tables/pc-immune-microenvironment-associations.tsv\",index=None,sep=\"\\t\")"
   ]
  },
  {
   "cell_type": "code",
   "execution_count": null,
   "metadata": {},
   "outputs": [],
   "source": []
  }
 ],
 "metadata": {
  "kernelspec": {
   "display_name": "Python 3",
   "language": "python",
   "name": "python3"
  }
 },
 "nbformat": 4,
 "nbformat_minor": 4
}
