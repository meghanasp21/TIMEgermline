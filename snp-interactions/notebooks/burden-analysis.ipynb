{
 "cells": [
  {
   "cell_type": "code",
   "execution_count": 1,
   "metadata": {},
   "outputs": [],
   "source": [
    "import pandas as pd\n",
    "import seaborn as sns\n",
    "from matplotlib import pyplot as plt\n",
    "import numpy as np"
   ]
  },
  {
   "cell_type": "code",
   "execution_count": 2,
   "metadata": {},
   "outputs": [],
   "source": [
    "import matplotlib\n",
    "matplotlib.rcParams['pdf.fonttype'] = 42\n",
    "matplotlib.rcParams['ps.fonttype'] = 42"
   ]
  },
  {
   "cell_type": "code",
   "execution_count": 3,
   "metadata": {},
   "outputs": [],
   "source": [
    "import sys\n",
    "sys.path.insert(0, \"/cellar/users/mpagadal/Programs/anaconda3/lib/python3.7/site-packages\")\n",
    "from sklearn import linear_model\n",
    "from regressors import stats\n",
    "import statsmodels.api as sm"
   ]
  },
  {
   "cell_type": "markdown",
   "metadata": {},
   "source": [
    "## Get PCA associated SNPs"
   ]
  },
  {
   "cell_type": "code",
   "execution_count": 4,
   "metadata": {},
   "outputs": [],
   "source": [
    "snps=pd.read_csv(\"/cellar/users/mpagadal/Data2/projects/germline-immune/snp-tables/immune-microenvironment-pc.tsv\",delimiter=\"\\t\")"
   ]
  },
  {
   "cell_type": "code",
   "execution_count": 5,
   "metadata": {},
   "outputs": [],
   "source": [
    "pc1_snps=snps[snps[\"pc\"]==\"PC1\"][\"ID\"].tolist()\n",
    "pc2_snps=snps[snps[\"pc\"]==\"PC2\"][\"ID\"].tolist()"
   ]
  },
  {
   "cell_type": "markdown",
   "metadata": {},
   "source": [
    "## Burden analysis for Macrophage Regulation SNPs"
   ]
  },
  {
   "cell_type": "code",
   "execution_count": 19,
   "metadata": {},
   "outputs": [],
   "source": [
    "def make_burden(raw,snps,pheno):\n",
    "    #get genotype file\n",
    "    raw=pd.read_csv(raw,delim_whitespace=True)\n",
    "    raw=raw.set_index(\"FID\")\n",
    "    raw=raw.iloc[:,5:]\n",
    "    raw.columns=[x.split(\"_\")[0] for x in raw.columns]\n",
    "    \n",
    "    #switch alleles so all are in same direction\n",
    "    pheno=pd.read_csv(pheno,delimiter=\"\\t\")\n",
    "    pheno=pheno[pheno[\"TEST\"]==\"ADD\"]\n",
    "    pheno=pheno[pheno[\"ID\"].isin(snps)]\n",
    "    \n",
    "    print(len(snps))\n",
    "    \n",
    "    up=pheno[pheno[\"BETA\"]>0][\"ID\"].tolist()\n",
    "    down=pheno[pheno[\"BETA\"]<0][\"ID\"].tolist()\n",
    "    \n",
    "    for x in down:\n",
    "        mp={0:2,1:1,2:0}\n",
    "        raw[x]=raw[x].map(mp)\n",
    "    \n",
    "    raw_burden=raw[up+down]\n",
    "    raw_burden[\"score\"]=raw_burden.sum(axis=1)/(2*len(snps))\n",
    "    return(raw_burden)"
   ]
  },
  {
   "cell_type": "code",
   "execution_count": 20,
   "metadata": {},
   "outputs": [
    {
     "name": "stdout",
     "output_type": "stream",
     "text": [
      "28\n"
     ]
    },
    {
     "name": "stderr",
     "output_type": "stream",
     "text": [
      "/nrnb/opt/anaconda3.7/lib/python3.7/site-packages/ipykernel_launcher.py:23: SettingWithCopyWarning: \n",
      "A value is trying to be set on a copy of a slice from a DataFrame.\n",
      "Try using .loc[row_indexer,col_indexer] = value instead\n",
      "\n",
      "See the caveats in the documentation: https://pandas.pydata.org/pandas-docs/stable/user_guide/indexing.html#returning-a-view-versus-a-copy\n"
     ]
    }
   ],
   "source": [
    "mac_burden=make_burden(\"/nrnb/users/mpagadal/tcga-genotypes/germline-immune/immune.snp.raw\",pc1_snps,\"../associations/mac-reg/Macrophage.Regulation.Macrophage.Regulation.glm.linear\")"
   ]
  },
  {
   "cell_type": "code",
   "execution_count": 21,
   "metadata": {},
   "outputs": [],
   "source": [
    "pheno=pd.read_csv(\"/cellar/users/mpagadal/Data2/projects/germline-immune/discovery/phenotypes/processed_phenos/tpm/tumor/pheno_all_zcancer\",delimiter=\"\\t\")"
   ]
  },
  {
   "cell_type": "code",
   "execution_count": 22,
   "metadata": {},
   "outputs": [],
   "source": [
    "mac_burden=mac_burden.reset_index()\n",
    "raw_pheno=pd.merge(mac_burden,pheno,on=\"FID\",how=\"left\")"
   ]
  },
  {
   "cell_type": "code",
   "execution_count": 26,
   "metadata": {},
   "outputs": [],
   "source": [
    "raw_pheno=raw_pheno[raw_pheno[\"Macrophage.Regulation\"]!=-9]\n",
    "raw_pheno=raw_pheno[~(raw_pheno[\"Macrophage.Regulation\"].isnull())]"
   ]
  },
  {
   "cell_type": "code",
   "execution_count": 27,
   "metadata": {},
   "outputs": [
    {
     "data": {
      "image/png": "[encoded data removed]",
      "text/plain": [
       "<Figure size 360x360 with 1 Axes>"
      ]
     },
     "metadata": {
      "needs_background": "light"
     },
     "output_type": "display_data"
    }
   ],
   "source": [
    "f=plt.figure(figsize=(5,5))\n",
    "sns.regplot(x=\"score\",y=\"Macrophage.Regulation\",data=raw_pheno,color=\"blue\")\n",
    "plt.xlabel(\"burden of 28 Macrophage Regulation snps\")\n",
    "plt.ylabel(\"Macrophage Regulation\")\n",
    "plt.savefig(\"../plots/macrophage-burden.pdf\")"
   ]
  },
  {
   "cell_type": "code",
   "execution_count": 28,
   "metadata": {},
   "outputs": [
    {
     "name": "stdout",
     "output_type": "stream",
     "text": [
      "3.115723407410179e-50 3.509041434727349\n"
     ]
    }
   ],
   "source": [
    "ols = linear_model.LinearRegression()\n",
    "X=raw_pheno[\"score\"].values.reshape(-1, 1)\n",
    "y=raw_pheno[\"Macrophage.Regulation\"].values.reshape(-1, 1)\n",
    "        \n",
    "X = sm.add_constant(X)\n",
    "        \n",
    "model=sm.OLS(y,X)\n",
    "results=model.fit()\n",
    "\n",
    "print(results.pvalues[1],results.params[1])"
   ]
  },
  {
   "cell_type": "markdown",
   "metadata": {},
   "source": [
    "## Burden analysis for EP300 SNPs"
   ]
  },
  {
   "cell_type": "code",
   "execution_count": 30,
   "metadata": {},
   "outputs": [
    {
     "name": "stdout",
     "output_type": "stream",
     "text": [
      "13\n"
     ]
    },
    {
     "name": "stderr",
     "output_type": "stream",
     "text": [
      "/nrnb/opt/anaconda3.7/lib/python3.7/site-packages/ipykernel_launcher.py:23: SettingWithCopyWarning: \n",
      "A value is trying to be set on a copy of a slice from a DataFrame.\n",
      "Try using .loc[row_indexer,col_indexer] = value instead\n",
      "\n",
      "See the caveats in the documentation: https://pandas.pydata.org/pandas-docs/stable/user_guide/indexing.html#returning-a-view-versus-a-copy\n"
     ]
    }
   ],
   "source": [
    "ep300_burden=make_burden(\"/nrnb/users/mpagadal/tcga-genotypes/germline-immune/immune.snp.raw\",pc2_snps,\"../associations/ep300/EP300.EP300.glm.linear\")"
   ]
  },
  {
   "cell_type": "code",
   "execution_count": 31,
   "metadata": {},
   "outputs": [],
   "source": [
    "pheno=pd.read_csv(\"/cellar/users/mpagadal/Data2/projects/germline-immune/discovery/phenotypes/processed_phenos/tpm/tumor/pheno_all_zcancer\",delimiter=\"\\t\")"
   ]
  },
  {
   "cell_type": "code",
   "execution_count": 32,
   "metadata": {},
   "outputs": [],
   "source": [
    "ep300_burden=ep300_burden.reset_index()\n",
    "raw_pheno=pd.merge(ep300_burden,pheno,on=\"FID\",how=\"left\")"
   ]
  },
  {
   "cell_type": "code",
   "execution_count": 33,
   "metadata": {},
   "outputs": [],
   "source": [
    "raw_pheno=raw_pheno[raw_pheno[\"EP300\"]!=-9]\n",
    "raw_pheno=raw_pheno[~(raw_pheno[\"EP300\"].isnull())]"
   ]
  },
  {
   "cell_type": "code",
   "execution_count": 34,
   "metadata": {},
   "outputs": [
    {
     "data": {
      "image/png": "[encoded data removed]",
      "text/plain": [
       "<Figure size 360x360 with 1 Axes>"
      ]
     },
     "metadata": {
      "needs_background": "light"
     },
     "output_type": "display_data"
    }
   ],
   "source": [
    "f=plt.figure(figsize=(5,5))\n",
    "sns.regplot(x=\"score\",y=\"EP300\",data=raw_pheno,color=\"blue\")\n",
    "plt.xlabel(\"burden of 13 Macrophage Regulation snps\")\n",
    "plt.ylabel(\"inverse rank norm EP300\")\n",
    "plt.savefig(\"../plots/ep300-burden.pdf\")"
   ]
  },
  {
   "cell_type": "code",
   "execution_count": 35,
   "metadata": {},
   "outputs": [
    {
     "name": "stdout",
     "output_type": "stream",
     "text": [
      "2.4735582798651463e-21 1.4658659593492769\n"
     ]
    }
   ],
   "source": [
    "ols = linear_model.LinearRegression()\n",
    "X=raw_pheno[\"score\"].values.reshape(-1, 1)\n",
    "y=raw_pheno[\"EP300\"].values.reshape(-1, 1)\n",
    "        \n",
    "X = sm.add_constant(X)\n",
    "        \n",
    "model=sm.OLS(y,X)\n",
    "results=model.fit()\n",
    "\n",
    "print(results.pvalues[1],results.params[1])"
   ]
  },
  {
   "cell_type": "code",
   "execution_count": null,
   "metadata": {},
   "outputs": [],
   "source": []
  }
 ],
 "metadata": {
  "kernelspec": {
   "display_name": "Python 3",
   "language": "python",
   "name": "python3"
  },
  "language_info": {
   "codemirror_mode": {
    "name": "ipython",
    "version": 3
   },
   "file_extension": ".py",
   "mimetype": "text/x-python",
   "name": "python",
   "nbconvert_exporter": "python",
   "pygments_lexer": "ipython3",
   "version": "3.7.7"
  }
 },
 "nbformat": 4,
 "nbformat_minor": 4
}
