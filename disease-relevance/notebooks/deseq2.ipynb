{
 "cells": [
  {
   "cell_type": "code",
   "execution_count": 28,
   "metadata": {},
   "outputs": [],
   "source": [
    "library(\"DESeq2\")\n",
    "library(\"ggplot2\")\n",
    "library(\"RColorBrewer\")\n"
   ]
  },
  {
   "cell_type": "markdown",
   "metadata": {},
   "source": [
    "## Load dataframes"
   ]
  },
  {
   "cell_type": "code",
   "execution_count": 49,
   "metadata": {},
   "outputs": [
    {
     "name": "stdout",
     "output_type": "stream",
     "text": [
      "[1] 57773    44\n"
     ]
    },
    {
     "data": {
      "text/html": [
       "<table>\n",
       "<caption>A data.frame: 6 × 44</caption>\n",
       "<thead>\n",
       "\t<tr><th></th><th scope=col>SRR5088898.sra</th><th scope=col>SRR5088920.sra</th><th scope=col>SRR5088895.sra</th><th scope=col>SRR5088900.sra</th><th scope=col>SRR5088904.sra</th><th scope=col>SRR5088818.sra</th><th scope=col>SRR5088829.sra</th><th scope=col>SRR5088849.sra</th><th scope=col>SRR5088839.sra</th><th scope=col>SRR5088846.sra</th><th scope=col>⋯</th><th scope=col>SRR5088887.sra</th><th scope=col>SRR5088836.sra</th><th scope=col>SRR5088831.sra</th><th scope=col>SRR5088826.sra</th><th scope=col>SRR5088880.sra</th><th scope=col>SRR5088906.sra</th><th scope=col>SRR5088827.sra</th><th scope=col>SRR5088821.sra</th><th scope=col>SRR5088822.sra</th><th scope=col>SRR5088850.sra</th></tr>\n",
       "\t<tr><th></th><th scope=col>&lt;int&gt;</th><th scope=col>&lt;int&gt;</th><th scope=col>&lt;int&gt;</th><th scope=col>&lt;int&gt;</th><th scope=col>&lt;int&gt;</th><th scope=col>&lt;int&gt;</th><th scope=col>&lt;int&gt;</th><th scope=col>&lt;int&gt;</th><th scope=col>&lt;int&gt;</th><th scope=col>&lt;int&gt;</th><th scope=col>⋯</th><th scope=col>&lt;int&gt;</th><th scope=col>&lt;int&gt;</th><th scope=col>&lt;int&gt;</th><th scope=col>&lt;int&gt;</th><th scope=col>&lt;int&gt;</th><th scope=col>&lt;int&gt;</th><th scope=col>&lt;int&gt;</th><th scope=col>&lt;int&gt;</th><th scope=col>&lt;int&gt;</th><th scope=col>&lt;int&gt;</th></tr>\n",
       "</thead>\n",
       "<tbody>\n",
       "\t<tr><th scope=row>ENSG00000223972.4</th><td> 0</td><td> 0</td><td> 0</td><td>  0</td><td> 0</td><td> 0</td><td> 0</td><td>  7</td><td> 0</td><td> 0</td><td>⋯</td><td>  0</td><td> 0</td><td>  0</td><td>  0</td><td> 0</td><td> 0</td><td> 0</td><td> 0</td><td> 0</td><td> 0</td></tr>\n",
       "\t<tr><th scope=row>ENSG00000227232.4</th><td>40</td><td>37</td><td>78</td><td>243</td><td>98</td><td>61</td><td>80</td><td>102</td><td>68</td><td>56</td><td>⋯</td><td>184</td><td>84</td><td>104</td><td>176</td><td>91</td><td>16</td><td>71</td><td>83</td><td>46</td><td>96</td></tr>\n",
       "\t<tr><th scope=row>ENSG00000243485.2</th><td> 0</td><td> 0</td><td> 0</td><td>  0</td><td> 0</td><td> 0</td><td> 0</td><td>  0</td><td> 0</td><td> 0</td><td>⋯</td><td>  0</td><td> 0</td><td>  0</td><td>  2</td><td> 0</td><td> 0</td><td> 0</td><td> 0</td><td> 0</td><td> 0</td></tr>\n",
       "\t<tr><th scope=row>ENSG00000237613.2</th><td> 0</td><td> 0</td><td> 0</td><td>  0</td><td> 0</td><td> 0</td><td> 0</td><td>  0</td><td> 0</td><td> 0</td><td>⋯</td><td>  0</td><td> 0</td><td>  0</td><td>  0</td><td> 0</td><td> 0</td><td> 0</td><td> 0</td><td> 0</td><td> 0</td></tr>\n",
       "\t<tr><th scope=row>ENSG00000268020.2</th><td> 0</td><td> 0</td><td> 0</td><td>  0</td><td> 0</td><td> 0</td><td> 0</td><td>  0</td><td> 0</td><td> 1</td><td>⋯</td><td>  0</td><td> 0</td><td>  0</td><td>  0</td><td> 0</td><td> 0</td><td> 0</td><td> 0</td><td> 0</td><td> 0</td></tr>\n",
       "\t<tr><th scope=row>ENSG00000240361.1</th><td> 0</td><td> 0</td><td> 0</td><td>  0</td><td> 0</td><td> 0</td><td> 0</td><td>  0</td><td> 0</td><td> 0</td><td>⋯</td><td>  0</td><td> 0</td><td>  0</td><td>  0</td><td> 0</td><td> 0</td><td> 0</td><td> 0</td><td> 0</td><td> 0</td></tr>\n",
       "</tbody>\n",
       "</table>\n"
      ],
      "text/latex": [
       "A data.frame: 6 × 44\n",
       "\\begin{tabular}{r|lllllllllllllllllllll}\n",
       "  & SRR5088898.sra & SRR5088920.sra & SRR5088895.sra & SRR5088900.sra & SRR5088904.sra & SRR5088818.sra & SRR5088829.sra & SRR5088849.sra & SRR5088839.sra & SRR5088846.sra & ⋯ & SRR5088887.sra & SRR5088836.sra & SRR5088831.sra & SRR5088826.sra & SRR5088880.sra & SRR5088906.sra & SRR5088827.sra & SRR5088821.sra & SRR5088822.sra & SRR5088850.sra\\\\\n",
       "  & <int> & <int> & <int> & <int> & <int> & <int> & <int> & <int> & <int> & <int> & ⋯ & <int> & <int> & <int> & <int> & <int> & <int> & <int> & <int> & <int> & <int>\\\\\n",
       "\\hline\n",
       "\tENSG00000223972.4 &  0 &  0 &  0 &   0 &  0 &  0 &  0 &   7 &  0 &  0 & ⋯ &   0 &  0 &   0 &   0 &  0 &  0 &  0 &  0 &  0 &  0\\\\\n",
       "\tENSG00000227232.4 & 40 & 37 & 78 & 243 & 98 & 61 & 80 & 102 & 68 & 56 & ⋯ & 184 & 84 & 104 & 176 & 91 & 16 & 71 & 83 & 46 & 96\\\\\n",
       "\tENSG00000243485.2 &  0 &  0 &  0 &   0 &  0 &  0 &  0 &   0 &  0 &  0 & ⋯ &   0 &  0 &   0 &   2 &  0 &  0 &  0 &  0 &  0 &  0\\\\\n",
       "\tENSG00000237613.2 &  0 &  0 &  0 &   0 &  0 &  0 &  0 &   0 &  0 &  0 & ⋯ &   0 &  0 &   0 &   0 &  0 &  0 &  0 &  0 &  0 &  0\\\\\n",
       "\tENSG00000268020.2 &  0 &  0 &  0 &   0 &  0 &  0 &  0 &   0 &  0 &  1 & ⋯ &   0 &  0 &   0 &   0 &  0 &  0 &  0 &  0 &  0 &  0\\\\\n",
       "\tENSG00000240361.1 &  0 &  0 &  0 &   0 &  0 &  0 &  0 &   0 &  0 &  0 & ⋯ &   0 &  0 &   0 &   0 &  0 &  0 &  0 &  0 &  0 &  0\\\\\n",
       "\\end{tabular}\n"
      ],
      "text/markdown": [
       "\n",
       "A data.frame: 6 × 44\n",
       "\n",
       "| <!--/--> | SRR5088898.sra &lt;int&gt; | SRR5088920.sra &lt;int&gt; | SRR5088895.sra &lt;int&gt; | SRR5088900.sra &lt;int&gt; | SRR5088904.sra &lt;int&gt; | SRR5088818.sra &lt;int&gt; | SRR5088829.sra &lt;int&gt; | SRR5088849.sra &lt;int&gt; | SRR5088839.sra &lt;int&gt; | SRR5088846.sra &lt;int&gt; | ⋯ ⋯ | SRR5088887.sra &lt;int&gt; | SRR5088836.sra &lt;int&gt; | SRR5088831.sra &lt;int&gt; | SRR5088826.sra &lt;int&gt; | SRR5088880.sra &lt;int&gt; | SRR5088906.sra &lt;int&gt; | SRR5088827.sra &lt;int&gt; | SRR5088821.sra &lt;int&gt; | SRR5088822.sra &lt;int&gt; | SRR5088850.sra &lt;int&gt; |\n",
       "|---|---|---|---|---|---|---|---|---|---|---|---|---|---|---|---|---|---|---|---|---|---|\n",
       "| ENSG00000223972.4 |  0 |  0 |  0 |   0 |  0 |  0 |  0 |   7 |  0 |  0 | ⋯ |   0 |  0 |   0 |   0 |  0 |  0 |  0 |  0 |  0 |  0 |\n",
       "| ENSG00000227232.4 | 40 | 37 | 78 | 243 | 98 | 61 | 80 | 102 | 68 | 56 | ⋯ | 184 | 84 | 104 | 176 | 91 | 16 | 71 | 83 | 46 | 96 |\n",
       "| ENSG00000243485.2 |  0 |  0 |  0 |   0 |  0 |  0 |  0 |   0 |  0 |  0 | ⋯ |   0 |  0 |   0 |   2 |  0 |  0 |  0 |  0 |  0 |  0 |\n",
       "| ENSG00000237613.2 |  0 |  0 |  0 |   0 |  0 |  0 |  0 |   0 |  0 |  0 | ⋯ |   0 |  0 |   0 |   0 |  0 |  0 |  0 |  0 |  0 |  0 |\n",
       "| ENSG00000268020.2 |  0 |  0 |  0 |   0 |  0 |  0 |  0 |   0 |  0 |  1 | ⋯ |   0 |  0 |   0 |   0 |  0 |  0 |  0 |  0 |  0 |  0 |\n",
       "| ENSG00000240361.1 |  0 |  0 |  0 |   0 |  0 |  0 |  0 |   0 |  0 |  0 | ⋯ |   0 |  0 |   0 |   0 |  0 |  0 |  0 |  0 |  0 |  0 |\n",
       "\n"
      ],
      "text/plain": [
       "                  SRR5088898.sra SRR5088920.sra SRR5088895.sra SRR5088900.sra\n",
       "ENSG00000223972.4  0              0              0               0           \n",
       "ENSG00000227232.4 40             37             78             243           \n",
       "ENSG00000243485.2  0              0              0               0           \n",
       "ENSG00000237613.2  0              0              0               0           \n",
       "ENSG00000268020.2  0              0              0               0           \n",
       "ENSG00000240361.1  0              0              0               0           \n",
       "                  SRR5088904.sra SRR5088818.sra SRR5088829.sra SRR5088849.sra\n",
       "ENSG00000223972.4  0              0              0               7           \n",
       "ENSG00000227232.4 98             61             80             102           \n",
       "ENSG00000243485.2  0              0              0               0           \n",
       "ENSG00000237613.2  0              0              0               0           \n",
       "ENSG00000268020.2  0              0              0               0           \n",
       "ENSG00000240361.1  0              0              0               0           \n",
       "                  SRR5088839.sra SRR5088846.sra ⋯ SRR5088887.sra SRR5088836.sra\n",
       "ENSG00000223972.4  0              0             ⋯   0             0            \n",
       "ENSG00000227232.4 68             56             ⋯ 184            84            \n",
       "ENSG00000243485.2  0              0             ⋯   0             0            \n",
       "ENSG00000237613.2  0              0             ⋯   0             0            \n",
       "ENSG00000268020.2  0              1             ⋯   0             0            \n",
       "ENSG00000240361.1  0              0             ⋯   0             0            \n",
       "                  SRR5088831.sra SRR5088826.sra SRR5088880.sra SRR5088906.sra\n",
       "ENSG00000223972.4   0              0             0              0            \n",
       "ENSG00000227232.4 104            176            91             16            \n",
       "ENSG00000243485.2   0              2             0              0            \n",
       "ENSG00000237613.2   0              0             0              0            \n",
       "ENSG00000268020.2   0              0             0              0            \n",
       "ENSG00000240361.1   0              0             0              0            \n",
       "                  SRR5088827.sra SRR5088821.sra SRR5088822.sra SRR5088850.sra\n",
       "ENSG00000223972.4  0              0              0              0            \n",
       "ENSG00000227232.4 71             83             46             96            \n",
       "ENSG00000243485.2  0              0              0              0            \n",
       "ENSG00000237613.2  0              0              0              0            \n",
       "ENSG00000268020.2  0              0              0              0            \n",
       "ENSG00000240361.1  0              0              0              0            "
      ]
     },
     "metadata": {},
     "output_type": "display_data"
    },
    {
     "data": {
      "text/html": [
       "<style>\n",
       ".list-inline {list-style: none; margin:0; padding: 0}\n",
       ".list-inline>li {display: inline-block}\n",
       ".list-inline>li:not(:last-child)::after {content: \"\\00b7\"; padding: 0 .5ex}\n",
       "</style>\n",
       "<ol class=list-inline><li>57773</li><li>44</li></ol>\n"
      ],
      "text/latex": [
       "\\begin{enumerate*}\n",
       "\\item 57773\n",
       "\\item 44\n",
       "\\end{enumerate*}\n"
      ],
      "text/markdown": [
       "1. 57773\n",
       "2. 44\n",
       "\n",
       "\n"
      ],
      "text/plain": [
       "[1] 57773    44"
      ]
     },
     "metadata": {},
     "output_type": "display_data"
    },
    {
     "data": {
      "text/html": [
       "<table>\n",
       "<caption>A data.frame: 6 × 4</caption>\n",
       "<thead>\n",
       "\t<tr><th></th><th scope=col>study</th><th scope=col>time</th><th scope=col>nml.wxs</th><th scope=col>response</th></tr>\n",
       "\t<tr><th></th><th scope=col>&lt;fct&gt;</th><th scope=col>&lt;fct&gt;</th><th scope=col>&lt;fct&gt;</th><th scope=col>&lt;fct&gt;</th></tr>\n",
       "</thead>\n",
       "<tbody>\n",
       "\t<tr><th scope=row>SRR5088898.sra</th><td>riaz</td><td>Pre</td><td>SRR5134763.sra</td><td>RESPONDER   </td></tr>\n",
       "\t<tr><th scope=row>SRR5088920.sra</th><td>riaz</td><td>Pre</td><td>SRR5134760.sra</td><td>RESPONDER   </td></tr>\n",
       "\t<tr><th scope=row>SRR5088895.sra</th><td>riaz</td><td>Pre</td><td>SRR5134769.sra</td><td>RESPONDER   </td></tr>\n",
       "\t<tr><th scope=row>SRR5088900.sra</th><td>riaz</td><td>Pre</td><td>SRR5134919.sra</td><td>RESPONDER   </td></tr>\n",
       "\t<tr><th scope=row>SRR5088904.sra</th><td>riaz</td><td>Pre</td><td>SRR5134832.sra</td><td>NONRESPONDER</td></tr>\n",
       "\t<tr><th scope=row>SRR5088818.sra</th><td>riaz</td><td>Pre</td><td>SRR5134767.sra</td><td>NONRESPONDER</td></tr>\n",
       "</tbody>\n",
       "</table>\n"
      ],
      "text/latex": [
       "A data.frame: 6 × 4\n",
       "\\begin{tabular}{r|llll}\n",
       "  & study & time & nml.wxs & response\\\\\n",
       "  & <fct> & <fct> & <fct> & <fct>\\\\\n",
       "\\hline\n",
       "\tSRR5088898.sra & riaz & Pre & SRR5134763.sra & RESPONDER   \\\\\n",
       "\tSRR5088920.sra & riaz & Pre & SRR5134760.sra & RESPONDER   \\\\\n",
       "\tSRR5088895.sra & riaz & Pre & SRR5134769.sra & RESPONDER   \\\\\n",
       "\tSRR5088900.sra & riaz & Pre & SRR5134919.sra & RESPONDER   \\\\\n",
       "\tSRR5088904.sra & riaz & Pre & SRR5134832.sra & NONRESPONDER\\\\\n",
       "\tSRR5088818.sra & riaz & Pre & SRR5134767.sra & NONRESPONDER\\\\\n",
       "\\end{tabular}\n"
      ],
      "text/markdown": [
       "\n",
       "A data.frame: 6 × 4\n",
       "\n",
       "| <!--/--> | study &lt;fct&gt; | time &lt;fct&gt; | nml.wxs &lt;fct&gt; | response &lt;fct&gt; |\n",
       "|---|---|---|---|---|\n",
       "| SRR5088898.sra | riaz | Pre | SRR5134763.sra | RESPONDER    |\n",
       "| SRR5088920.sra | riaz | Pre | SRR5134760.sra | RESPONDER    |\n",
       "| SRR5088895.sra | riaz | Pre | SRR5134769.sra | RESPONDER    |\n",
       "| SRR5088900.sra | riaz | Pre | SRR5134919.sra | RESPONDER    |\n",
       "| SRR5088904.sra | riaz | Pre | SRR5134832.sra | NONRESPONDER |\n",
       "| SRR5088818.sra | riaz | Pre | SRR5134767.sra | NONRESPONDER |\n",
       "\n"
      ],
      "text/plain": [
       "               study time nml.wxs        response    \n",
       "SRR5088898.sra riaz  Pre  SRR5134763.sra RESPONDER   \n",
       "SRR5088920.sra riaz  Pre  SRR5134760.sra RESPONDER   \n",
       "SRR5088895.sra riaz  Pre  SRR5134769.sra RESPONDER   \n",
       "SRR5088900.sra riaz  Pre  SRR5134919.sra RESPONDER   \n",
       "SRR5088904.sra riaz  Pre  SRR5134832.sra NONRESPONDER\n",
       "SRR5088818.sra riaz  Pre  SRR5134767.sra NONRESPONDER"
      ]
     },
     "metadata": {},
     "output_type": "display_data"
    },
    {
     "data": {
      "text/html": [
       "<style>\n",
       ".list-inline {list-style: none; margin:0; padding: 0}\n",
       ".list-inline>li {display: inline-block}\n",
       ".list-inline>li:not(:last-child)::after {content: \"\\00b7\"; padding: 0 .5ex}\n",
       "</style>\n",
       "<ol class=list-inline><li>44</li><li>4</li></ol>\n"
      ],
      "text/latex": [
       "\\begin{enumerate*}\n",
       "\\item 44\n",
       "\\item 4\n",
       "\\end{enumerate*}\n"
      ],
      "text/markdown": [
       "1. 44\n",
       "2. 4\n",
       "\n",
       "\n"
      ],
      "text/plain": [
       "[1] 44  4"
      ]
     },
     "metadata": {},
     "output_type": "display_data"
    }
   ],
   "source": [
    "counts <- read.csv('../data/deseq2.counts.txt', header=TRUE,sep=\",\",row.names=1)\n",
    "print(dim(counts))\n",
    "head(counts)\n",
    "dim(counts)\n",
    "\n",
    "col_data <- read.csv('../data/deseq2.conditions.txt', header=TRUE,sep=\",\",row.names=1)\n",
    "head(col_data)\n",
    "dim(col_data)"
   ]
  },
  {
   "cell_type": "code",
   "execution_count": 50,
   "metadata": {},
   "outputs": [],
   "source": [
    "dds <- DESeqDataSetFromMatrix(countData = counts, colData = col_data, design = ~ response )"
   ]
  },
  {
   "cell_type": "code",
   "execution_count": 51,
   "metadata": {},
   "outputs": [],
   "source": [
    "dds <- dds[ rowSums(counts(dds)) > 4, ]"
   ]
  },
  {
   "cell_type": "code",
   "execution_count": 52,
   "metadata": {},
   "outputs": [
    {
     "name": "stderr",
     "output_type": "stream",
     "text": [
      "estimating size factors\n",
      "\n",
      "estimating dispersions\n",
      "\n",
      "gene-wise dispersion estimates\n",
      "\n",
      "mean-dispersion relationship\n",
      "\n",
      "final dispersion estimates\n",
      "\n",
      "fitting model and testing\n",
      "\n",
      "-- replacing outliers and refitting for 5307 genes\n",
      "-- DESeq argument 'minReplicatesForReplace' = 7 \n",
      "-- original counts are preserved in counts(dds)\n",
      "\n",
      "estimating dispersions\n",
      "\n",
      "fitting model and testing\n",
      "\n"
     ]
    }
   ],
   "source": [
    "dds <- DESeq(dds)"
   ]
  },
  {
   "cell_type": "code",
   "execution_count": 53,
   "metadata": {},
   "outputs": [],
   "source": [
    "res <- results(dds)\n",
    "write.csv(as.data.frame(res), file=\"../data/DESeq2.responder.notresponder.riaz.csv\")"
   ]
  },
  {
   "cell_type": "code",
   "execution_count": 54,
   "metadata": {},
   "outputs": [
    {
     "name": "stdout",
     "output_type": "stream",
     "text": [
      "\n",
      "out of 40667 with nonzero total read count\n",
      "adjusted p-value < 0.1\n",
      "LFC > 0 (up)       : 83, 0.2%\n",
      "LFC < 0 (down)     : 72, 0.18%\n",
      "outliers [1]       : 0, 0%\n",
      "low counts [2]     : 15100, 37%\n",
      "(mean count < 2)\n",
      "[1] see 'cooksCutoff' argument of ?results\n",
      "[2] see 'independentFiltering' argument of ?results\n",
      "\n"
     ]
    }
   ],
   "source": [
    "summary(res)"
   ]
  },
  {
   "cell_type": "code",
   "execution_count": null,
   "metadata": {},
   "outputs": [],
   "source": []
  }
 ],
 "metadata": {
  "kernelspec": {
   "display_name": "R",
   "language": "R",
   "name": "ir"
  },
  "language_info": {
   "codemirror_mode": "r",
   "file_extension": ".r",
   "mimetype": "text/x-r-source",
   "name": "R",
   "pygments_lexer": "r",
   "version": "3.6.2"
  }
 },
 "nbformat": 4,
 "nbformat_minor": 4
}
