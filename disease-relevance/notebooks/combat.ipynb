{
 "cells": [
  {
   "cell_type": "code",
   "execution_count": 1,
   "metadata": {},
   "outputs": [
    {
     "name": "stderr",
     "output_type": "stream",
     "text": [
      "Loading required package: usethis\n",
      "\n"
     ]
    }
   ],
   "source": [
    "library(devtools)"
   ]
  },
  {
   "cell_type": "code",
   "execution_count": 2,
   "metadata": {},
   "outputs": [
    {
     "name": "stderr",
     "output_type": "stream",
     "text": [
      "Loading required package: mgcv\n",
      "\n",
      "Loading required package: nlme\n",
      "\n",
      "This is mgcv 1.8-31. For overview type 'help(\"mgcv-package\")'.\n",
      "\n",
      "Loading required package: genefilter\n",
      "\n",
      "Loading required package: BiocParallel\n",
      "\n"
     ]
    }
   ],
   "source": [
    "library(sva)"
   ]
  },
  {
   "cell_type": "code",
   "execution_count": 3,
   "metadata": {},
   "outputs": [
    {
     "name": "stdout",
     "output_type": "stream",
     "text": [
      "[1] 57773   125\n"
     ]
    },
    {
     "data": {
      "text/html": [
       "<table>\n",
       "<caption>A data.frame: 6 × 125</caption>\n",
       "<thead>\n",
       "\t<tr><th></th><th scope=col>SRR5088898.sra</th><th scope=col>SRR6468318.sra</th><th scope=col>SRR5088920.sra</th><th scope=col>SRR3184293.sra</th><th scope=col>SRR5088895.sra</th><th scope=col>SRR2778609.sra</th><th scope=col>SRR3184287.sra</th><th scope=col>SRR3184302.sra</th><th scope=col>SRR6450190.sra</th><th scope=col>SRR5088900.sra</th><th scope=col>⋯</th><th scope=col>SRR5088880.sra</th><th scope=col>SRR5088906.sra</th><th scope=col>SRR3184279.sra</th><th scope=col>SRR3184281.sra</th><th scope=col>SRR5088827.sra</th><th scope=col>SRR5088821.sra</th><th scope=col>SRR7526866.sra</th><th scope=col>SRR5088822.sra</th><th scope=col>SRR5088850.sra</th><th scope=col>SRR3184304.sra</th></tr>\n",
       "\t<tr><th></th><th scope=col>&lt;int&gt;</th><th scope=col>&lt;int&gt;</th><th scope=col>&lt;int&gt;</th><th scope=col>&lt;int&gt;</th><th scope=col>&lt;int&gt;</th><th scope=col>&lt;int&gt;</th><th scope=col>&lt;int&gt;</th><th scope=col>&lt;int&gt;</th><th scope=col>&lt;int&gt;</th><th scope=col>&lt;int&gt;</th><th scope=col>⋯</th><th scope=col>&lt;int&gt;</th><th scope=col>&lt;int&gt;</th><th scope=col>&lt;int&gt;</th><th scope=col>&lt;int&gt;</th><th scope=col>&lt;int&gt;</th><th scope=col>&lt;int&gt;</th><th scope=col>&lt;int&gt;</th><th scope=col>&lt;int&gt;</th><th scope=col>&lt;int&gt;</th><th scope=col>&lt;int&gt;</th></tr>\n",
       "</thead>\n",
       "<tbody>\n",
       "\t<tr><th scope=row>ENSG00000223972.4</th><td> 0</td><td> 0</td><td> 0</td><td>  0</td><td> 0</td><td>  9</td><td>  1</td><td>  4</td><td>  6</td><td>  0</td><td>⋯</td><td> 0</td><td> 0</td><td>  0</td><td>  1</td><td> 0</td><td> 0</td><td> 0</td><td> 0</td><td> 0</td><td>  0</td></tr>\n",
       "\t<tr><th scope=row>ENSG00000227232.4</th><td>40</td><td>23</td><td>37</td><td>587</td><td>78</td><td>365</td><td>680</td><td>368</td><td>537</td><td>243</td><td>⋯</td><td>91</td><td>16</td><td>286</td><td>660</td><td>71</td><td>83</td><td>37</td><td>46</td><td>96</td><td>302</td></tr>\n",
       "\t<tr><th scope=row>ENSG00000243485.2</th><td> 0</td><td> 0</td><td> 0</td><td>  0</td><td> 0</td><td>  0</td><td>  0</td><td>  1</td><td>  0</td><td>  0</td><td>⋯</td><td> 0</td><td> 0</td><td>  0</td><td>  0</td><td> 0</td><td> 0</td><td> 0</td><td> 0</td><td> 0</td><td>  0</td></tr>\n",
       "\t<tr><th scope=row>ENSG00000237613.2</th><td> 0</td><td> 0</td><td> 0</td><td>  0</td><td> 0</td><td>  0</td><td>  0</td><td>  0</td><td>  0</td><td>  0</td><td>⋯</td><td> 0</td><td> 0</td><td>  0</td><td>  0</td><td> 0</td><td> 0</td><td> 0</td><td> 0</td><td> 0</td><td>  0</td></tr>\n",
       "\t<tr><th scope=row>ENSG00000268020.2</th><td> 0</td><td> 0</td><td> 0</td><td>  0</td><td> 0</td><td>  0</td><td>  1</td><td>  1</td><td>  0</td><td>  0</td><td>⋯</td><td> 0</td><td> 0</td><td>  0</td><td>  0</td><td> 0</td><td> 0</td><td> 0</td><td> 0</td><td> 0</td><td>  0</td></tr>\n",
       "\t<tr><th scope=row>ENSG00000240361.1</th><td> 0</td><td> 0</td><td> 0</td><td>  0</td><td> 0</td><td>  0</td><td>  0</td><td>  0</td><td>  0</td><td>  0</td><td>⋯</td><td> 0</td><td> 0</td><td>  1</td><td>  0</td><td> 0</td><td> 0</td><td> 0</td><td> 0</td><td> 0</td><td>  0</td></tr>\n",
       "</tbody>\n",
       "</table>\n"
      ],
      "text/latex": [
       "A data.frame: 6 × 125\n",
       "\\begin{tabular}{r|lllllllllllllllllllll}\n",
       "  & SRR5088898.sra & SRR6468318.sra & SRR5088920.sra & SRR3184293.sra & SRR5088895.sra & SRR2778609.sra & SRR3184287.sra & SRR3184302.sra & SRR6450190.sra & SRR5088900.sra & ⋯ & SRR5088880.sra & SRR5088906.sra & SRR3184279.sra & SRR3184281.sra & SRR5088827.sra & SRR5088821.sra & SRR7526866.sra & SRR5088822.sra & SRR5088850.sra & SRR3184304.sra\\\\\n",
       "  & <int> & <int> & <int> & <int> & <int> & <int> & <int> & <int> & <int> & <int> & ⋯ & <int> & <int> & <int> & <int> & <int> & <int> & <int> & <int> & <int> & <int>\\\\\n",
       "\\hline\n",
       "\tENSG00000223972.4 &  0 &  0 &  0 &   0 &  0 &   9 &   1 &   4 &   6 &   0 & ⋯ &  0 &  0 &   0 &   1 &  0 &  0 &  0 &  0 &  0 &   0\\\\\n",
       "\tENSG00000227232.4 & 40 & 23 & 37 & 587 & 78 & 365 & 680 & 368 & 537 & 243 & ⋯ & 91 & 16 & 286 & 660 & 71 & 83 & 37 & 46 & 96 & 302\\\\\n",
       "\tENSG00000243485.2 &  0 &  0 &  0 &   0 &  0 &   0 &   0 &   1 &   0 &   0 & ⋯ &  0 &  0 &   0 &   0 &  0 &  0 &  0 &  0 &  0 &   0\\\\\n",
       "\tENSG00000237613.2 &  0 &  0 &  0 &   0 &  0 &   0 &   0 &   0 &   0 &   0 & ⋯ &  0 &  0 &   0 &   0 &  0 &  0 &  0 &  0 &  0 &   0\\\\\n",
       "\tENSG00000268020.2 &  0 &  0 &  0 &   0 &  0 &   0 &   1 &   1 &   0 &   0 & ⋯ &  0 &  0 &   0 &   0 &  0 &  0 &  0 &  0 &  0 &   0\\\\\n",
       "\tENSG00000240361.1 &  0 &  0 &  0 &   0 &  0 &   0 &   0 &   0 &   0 &   0 & ⋯ &  0 &  0 &   1 &   0 &  0 &  0 &  0 &  0 &  0 &   0\\\\\n",
       "\\end{tabular}\n"
      ],
      "text/markdown": [
       "\n",
       "A data.frame: 6 × 125\n",
       "\n",
       "| <!--/--> | SRR5088898.sra &lt;int&gt; | SRR6468318.sra &lt;int&gt; | SRR5088920.sra &lt;int&gt; | SRR3184293.sra &lt;int&gt; | SRR5088895.sra &lt;int&gt; | SRR2778609.sra &lt;int&gt; | SRR3184287.sra &lt;int&gt; | SRR3184302.sra &lt;int&gt; | SRR6450190.sra &lt;int&gt; | SRR5088900.sra &lt;int&gt; | ⋯ ⋯ | SRR5088880.sra &lt;int&gt; | SRR5088906.sra &lt;int&gt; | SRR3184279.sra &lt;int&gt; | SRR3184281.sra &lt;int&gt; | SRR5088827.sra &lt;int&gt; | SRR5088821.sra &lt;int&gt; | SRR7526866.sra &lt;int&gt; | SRR5088822.sra &lt;int&gt; | SRR5088850.sra &lt;int&gt; | SRR3184304.sra &lt;int&gt; |\n",
       "|---|---|---|---|---|---|---|---|---|---|---|---|---|---|---|---|---|---|---|---|---|---|\n",
       "| ENSG00000223972.4 |  0 |  0 |  0 |   0 |  0 |   9 |   1 |   4 |   6 |   0 | ⋯ |  0 |  0 |   0 |   1 |  0 |  0 |  0 |  0 |  0 |   0 |\n",
       "| ENSG00000227232.4 | 40 | 23 | 37 | 587 | 78 | 365 | 680 | 368 | 537 | 243 | ⋯ | 91 | 16 | 286 | 660 | 71 | 83 | 37 | 46 | 96 | 302 |\n",
       "| ENSG00000243485.2 |  0 |  0 |  0 |   0 |  0 |   0 |   0 |   1 |   0 |   0 | ⋯ |  0 |  0 |   0 |   0 |  0 |  0 |  0 |  0 |  0 |   0 |\n",
       "| ENSG00000237613.2 |  0 |  0 |  0 |   0 |  0 |   0 |   0 |   0 |   0 |   0 | ⋯ |  0 |  0 |   0 |   0 |  0 |  0 |  0 |  0 |  0 |   0 |\n",
       "| ENSG00000268020.2 |  0 |  0 |  0 |   0 |  0 |   0 |   1 |   1 |   0 |   0 | ⋯ |  0 |  0 |   0 |   0 |  0 |  0 |  0 |  0 |  0 |   0 |\n",
       "| ENSG00000240361.1 |  0 |  0 |  0 |   0 |  0 |   0 |   0 |   0 |   0 |   0 | ⋯ |  0 |  0 |   1 |   0 |  0 |  0 |  0 |  0 |  0 |   0 |\n",
       "\n"
      ],
      "text/plain": [
       "                  SRR5088898.sra SRR6468318.sra SRR5088920.sra SRR3184293.sra\n",
       "ENSG00000223972.4  0              0              0               0           \n",
       "ENSG00000227232.4 40             23             37             587           \n",
       "ENSG00000243485.2  0              0              0               0           \n",
       "ENSG00000237613.2  0              0              0               0           \n",
       "ENSG00000268020.2  0              0              0               0           \n",
       "ENSG00000240361.1  0              0              0               0           \n",
       "                  SRR5088895.sra SRR2778609.sra SRR3184287.sra SRR3184302.sra\n",
       "ENSG00000223972.4  0               9              1              4           \n",
       "ENSG00000227232.4 78             365            680            368           \n",
       "ENSG00000243485.2  0               0              0              1           \n",
       "ENSG00000237613.2  0               0              0              0           \n",
       "ENSG00000268020.2  0               0              1              1           \n",
       "ENSG00000240361.1  0               0              0              0           \n",
       "                  SRR6450190.sra SRR5088900.sra ⋯ SRR5088880.sra SRR5088906.sra\n",
       "ENSG00000223972.4   6              0            ⋯  0              0            \n",
       "ENSG00000227232.4 537            243            ⋯ 91             16            \n",
       "ENSG00000243485.2   0              0            ⋯  0              0            \n",
       "ENSG00000237613.2   0              0            ⋯  0              0            \n",
       "ENSG00000268020.2   0              0            ⋯  0              0            \n",
       "ENSG00000240361.1   0              0            ⋯  0              0            \n",
       "                  SRR3184279.sra SRR3184281.sra SRR5088827.sra SRR5088821.sra\n",
       "ENSG00000223972.4   0              1             0              0            \n",
       "ENSG00000227232.4 286            660            71             83            \n",
       "ENSG00000243485.2   0              0             0              0            \n",
       "ENSG00000237613.2   0              0             0              0            \n",
       "ENSG00000268020.2   0              0             0              0            \n",
       "ENSG00000240361.1   1              0             0              0            \n",
       "                  SRR7526866.sra SRR5088822.sra SRR5088850.sra SRR3184304.sra\n",
       "ENSG00000223972.4  0              0              0               0           \n",
       "ENSG00000227232.4 37             46             96             302           \n",
       "ENSG00000243485.2  0              0              0               0           \n",
       "ENSG00000237613.2  0              0              0               0           \n",
       "ENSG00000268020.2  0              0              0               0           \n",
       "ENSG00000240361.1  0              0              0               0           "
      ]
     },
     "metadata": {},
     "output_type": "display_data"
    },
    {
     "data": {
      "text/html": [
       "<style>\n",
       ".list-inline {list-style: none; margin:0; padding: 0}\n",
       ".list-inline>li {display: inline-block}\n",
       ".list-inline>li:not(:last-child)::after {content: \"\\00b7\"; padding: 0 .5ex}\n",
       "</style>\n",
       "<ol class=list-inline><li>57773</li><li>125</li></ol>\n"
      ],
      "text/latex": [
       "\\begin{enumerate*}\n",
       "\\item 57773\n",
       "\\item 125\n",
       "\\end{enumerate*}\n"
      ],
      "text/markdown": [
       "1. 57773\n",
       "2. 125\n",
       "\n",
       "\n"
      ],
      "text/plain": [
       "[1] 57773   125"
      ]
     },
     "metadata": {},
     "output_type": "display_data"
    },
    {
     "data": {
      "text/html": [
       "<table>\n",
       "<caption>A data.frame: 6 × 4</caption>\n",
       "<thead>\n",
       "\t<tr><th></th><th scope=col>study</th><th scope=col>time</th><th scope=col>nml.wxs</th><th scope=col>response</th></tr>\n",
       "\t<tr><th></th><th scope=col>&lt;fct&gt;</th><th scope=col>&lt;fct&gt;</th><th scope=col>&lt;fct&gt;</th><th scope=col>&lt;fct&gt;</th></tr>\n",
       "</thead>\n",
       "<tbody>\n",
       "\t<tr><th scope=row>SRR5088898.sra</th><td>riaz    </td><td>Pre          </td><td>SRR5134763.sra</td><td>RESPONDER   </td></tr>\n",
       "\t<tr><th scope=row>SRR6468318.sra</th><td>miao    </td><td>             </td><td>SRR6504591.sra</td><td>NONRESPONDER</td></tr>\n",
       "\t<tr><th scope=row>SRR5088920.sra</th><td>riaz    </td><td>Pre          </td><td>SRR5134760.sra</td><td>RESPONDER   </td></tr>\n",
       "\t<tr><th scope=row>SRR3184293.sra</th><td>hugo    </td><td>pre-treatment</td><td>SRR3083848.sra</td><td>RESPONDER   </td></tr>\n",
       "\t<tr><th scope=row>SRR5088895.sra</th><td>riaz    </td><td>Pre          </td><td>SRR5134769.sra</td><td>RESPONDER   </td></tr>\n",
       "\t<tr><th scope=row>SRR2778609.sra</th><td>vanallen</td><td>             </td><td>SRR2718333.sra</td><td>NONRESPONDER</td></tr>\n",
       "</tbody>\n",
       "</table>\n"
      ],
      "text/latex": [
       "A data.frame: 6 × 4\n",
       "\\begin{tabular}{r|llll}\n",
       "  & study & time & nml.wxs & response\\\\\n",
       "  & <fct> & <fct> & <fct> & <fct>\\\\\n",
       "\\hline\n",
       "\tSRR5088898.sra & riaz     & Pre           & SRR5134763.sra & RESPONDER   \\\\\n",
       "\tSRR6468318.sra & miao     &               & SRR6504591.sra & NONRESPONDER\\\\\n",
       "\tSRR5088920.sra & riaz     & Pre           & SRR5134760.sra & RESPONDER   \\\\\n",
       "\tSRR3184293.sra & hugo     & pre-treatment & SRR3083848.sra & RESPONDER   \\\\\n",
       "\tSRR5088895.sra & riaz     & Pre           & SRR5134769.sra & RESPONDER   \\\\\n",
       "\tSRR2778609.sra & vanallen &               & SRR2718333.sra & NONRESPONDER\\\\\n",
       "\\end{tabular}\n"
      ],
      "text/markdown": [
       "\n",
       "A data.frame: 6 × 4\n",
       "\n",
       "| <!--/--> | study &lt;fct&gt; | time &lt;fct&gt; | nml.wxs &lt;fct&gt; | response &lt;fct&gt; |\n",
       "|---|---|---|---|---|\n",
       "| SRR5088898.sra | riaz     | Pre           | SRR5134763.sra | RESPONDER    |\n",
       "| SRR6468318.sra | miao     | <!----> | SRR6504591.sra | NONRESPONDER |\n",
       "| SRR5088920.sra | riaz     | Pre           | SRR5134760.sra | RESPONDER    |\n",
       "| SRR3184293.sra | hugo     | pre-treatment | SRR3083848.sra | RESPONDER    |\n",
       "| SRR5088895.sra | riaz     | Pre           | SRR5134769.sra | RESPONDER    |\n",
       "| SRR2778609.sra | vanallen | <!----> | SRR2718333.sra | NONRESPONDER |\n",
       "\n"
      ],
      "text/plain": [
       "               study    time          nml.wxs        response    \n",
       "SRR5088898.sra riaz     Pre           SRR5134763.sra RESPONDER   \n",
       "SRR6468318.sra miao                   SRR6504591.sra NONRESPONDER\n",
       "SRR5088920.sra riaz     Pre           SRR5134760.sra RESPONDER   \n",
       "SRR3184293.sra hugo     pre-treatment SRR3083848.sra RESPONDER   \n",
       "SRR5088895.sra riaz     Pre           SRR5134769.sra RESPONDER   \n",
       "SRR2778609.sra vanallen               SRR2718333.sra NONRESPONDER"
      ]
     },
     "metadata": {},
     "output_type": "display_data"
    },
    {
     "data": {
      "text/html": [
       "<style>\n",
       ".list-inline {list-style: none; margin:0; padding: 0}\n",
       ".list-inline>li {display: inline-block}\n",
       ".list-inline>li:not(:last-child)::after {content: \"\\00b7\"; padding: 0 .5ex}\n",
       "</style>\n",
       "<ol class=list-inline><li>125</li><li>4</li></ol>\n"
      ],
      "text/latex": [
       "\\begin{enumerate*}\n",
       "\\item 125\n",
       "\\item 4\n",
       "\\end{enumerate*}\n"
      ],
      "text/markdown": [
       "1. 125\n",
       "2. 4\n",
       "\n",
       "\n"
      ],
      "text/plain": [
       "[1] 125   4"
      ]
     },
     "metadata": {},
     "output_type": "display_data"
    }
   ],
   "source": [
    "counts <- read.csv('../data/deseq2.counts.txt', header=TRUE,sep=\",\",row.names=1)\n",
    "print(dim(counts))\n",
    "head(counts)\n",
    "dim(counts)\n",
    "\n",
    "col_data <- read.csv('../data/deseq2.conditions.txt', header=TRUE,sep=\",\",row.names=1)\n",
    "head(col_data)\n",
    "dim(col_data)"
   ]
  },
  {
   "cell_type": "code",
   "execution_count": 4,
   "metadata": {},
   "outputs": [
    {
     "name": "stdout",
     "output_type": "stream",
     "text": [
      "Found 4 batches\n",
      "Using full model in ComBat-seq.\n",
      "Adjusting for 1 covariate(s) or covariate level(s)\n",
      "Estimating dispersions\n",
      "Fitting the GLM model\n",
      "Shrinkage off - using GLM estimates for parameters\n",
      "Adjusting the data\n"
     ]
    }
   ],
   "source": [
    "adjusted <- ComBat_seq(as.matrix(counts),batch=col_data$study,group=col_data$response)"
   ]
  },
  {
   "cell_type": "code",
   "execution_count": 5,
   "metadata": {},
   "outputs": [],
   "source": [
    "write.table(adjusted,\"../data/combat.counts.txt\")"
   ]
  }
 ],
 "metadata": {
  "kernelspec": {
   "display_name": "R",
   "language": "R",
   "name": "ir"
  },
  "language_info": {
   "codemirror_mode": "r",
   "file_extension": ".r",
   "mimetype": "text/x-r-source",
   "name": "R",
   "pygments_lexer": "r",
   "version": "3.6.2"
  }
 },
 "nbformat": 4,
 "nbformat_minor": 4
}
