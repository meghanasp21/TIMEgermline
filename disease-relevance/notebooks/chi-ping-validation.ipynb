{
 "cells": [
  {
   "cell_type": "code",
   "execution_count": 19,
   "metadata": {},
   "outputs": [],
   "source": [
    "import pandas as pd\n",
    "import seaborn as sns\n",
    "import matplotlib.pyplot as plt\n",
    "import numpy as np"
   ]
  },
  {
   "cell_type": "code",
   "execution_count": 20,
   "metadata": {},
   "outputs": [],
   "source": [
    "import matplotlib\n",
    "matplotlib.rcParams['pdf.fonttype'] = 42\n",
    "matplotlib.rcParams['ps.fonttype'] = 42"
   ]
  },
  {
   "cell_type": "markdown",
   "metadata": {},
   "source": [
    "## Get responder mapping"
   ]
  },
  {
   "cell_type": "code",
   "execution_count": 21,
   "metadata": {},
   "outputs": [],
   "source": [
    "response=pd.read_csv(\"../data/M4_sample_mapping.csv\")"
   ]
  },
  {
   "cell_type": "code",
   "execution_count": 22,
   "metadata": {},
   "outputs": [],
   "source": [
    "mp_response=dict(zip(response[\"sample.id\"],response[\"class\"]))"
   ]
  },
  {
   "cell_type": "markdown",
   "metadata": {},
   "source": [
    "## Get RNA data"
   ]
  },
  {
   "cell_type": "code",
   "execution_count": 31,
   "metadata": {},
   "outputs": [],
   "source": [
    "rna=pd.read_csv(\"../data/M4_rna.csv\",skiprows=[0])"
   ]
  },
  {
   "cell_type": "code",
   "execution_count": 32,
   "metadata": {},
   "outputs": [],
   "source": [
    "rna=rna.set_index(\"SYMBOL\")"
   ]
  },
  {
   "cell_type": "code",
   "execution_count": 33,
   "metadata": {},
   "outputs": [],
   "source": [
    "for x in rna.columns:\n",
    "    rna[x]=rna[x]/rna[x].sum()"
   ]
  },
  {
   "cell_type": "code",
   "execution_count": 35,
   "metadata": {},
   "outputs": [],
   "source": [
    "rna=rna*1000000"
   ]
  },
  {
   "cell_type": "code",
   "execution_count": 36,
   "metadata": {},
   "outputs": [],
   "source": [
    "rna=rna.T"
   ]
  },
  {
   "cell_type": "code",
   "execution_count": 38,
   "metadata": {},
   "outputs": [],
   "source": [
    "rna+=1\n",
    "rna=np.log2(rna)"
   ]
  },
  {
   "cell_type": "code",
   "execution_count": 39,
   "metadata": {},
   "outputs": [],
   "source": [
    "rna[\"group\"]=rna.index.map(mp_response)"
   ]
  },
  {
   "cell_type": "markdown",
   "metadata": {},
   "source": [
    "## boxplots for gene expression"
   ]
  },
  {
   "cell_type": "code",
   "execution_count": 40,
   "metadata": {},
   "outputs": [],
   "source": [
    "mouse=pd.read_csv(\"../data/mart_export.txt\",delimiter=\"\\t\")"
   ]
  },
  {
   "cell_type": "code",
   "execution_count": 41,
   "metadata": {},
   "outputs": [],
   "source": [
    "mouse=mouse[~mouse[\"Gene name\"].duplicated()]"
   ]
  },
  {
   "cell_type": "code",
   "execution_count": 42,
   "metadata": {},
   "outputs": [
    {
     "data": {
      "text/html": [
       "<div>\n",
       "<style scoped>\n",
       "    .dataframe tbody tr th:only-of-type {\n",
       "        vertical-align: middle;\n",
       "    }\n",
       "\n",
       "    .dataframe tbody tr th {\n",
       "        vertical-align: top;\n",
       "    }\n",
       "\n",
       "    .dataframe thead th {\n",
       "        text-align: right;\n",
       "    }\n",
       "</style>\n",
       "<table border=\"1\" class=\"dataframe\">\n",
       "  <thead>\n",
       "    <tr style=\"text-align: right;\">\n",
       "      <th></th>\n",
       "      <th>Gene stable ID</th>\n",
       "      <th>Gene stable ID version</th>\n",
       "      <th>Transcript stable ID</th>\n",
       "      <th>Transcript stable ID version</th>\n",
       "      <th>Gene name</th>\n",
       "      <th>Mouse gene stable ID</th>\n",
       "      <th>Mouse gene name</th>\n",
       "      <th>Mouse chromosome/scaffold start (bp)</th>\n",
       "      <th>Mouse chromosome/scaffold end (bp)</th>\n",
       "      <th>Mouse chromosome/scaffold name</th>\n",
       "    </tr>\n",
       "  </thead>\n",
       "  <tbody>\n",
       "    <tr>\n",
       "      <th>0</th>\n",
       "      <td>ENSG00000152240</td>\n",
       "      <td>ENSG00000152240.13</td>\n",
       "      <td>ENST00000282058</td>\n",
       "      <td>ENST00000282058.11</td>\n",
       "      <td>HAUS1</td>\n",
       "      <td>ENSMUSG00000041840</td>\n",
       "      <td>Haus1</td>\n",
       "      <td>77757567</td>\n",
       "      <td>77773886</td>\n",
       "      <td>18</td>\n",
       "    </tr>\n",
       "    <tr>\n",
       "      <th>12</th>\n",
       "      <td>ENSG00000166710</td>\n",
       "      <td>ENSG00000166710.21</td>\n",
       "      <td>ENST00000559720</td>\n",
       "      <td>ENST00000559720.5</td>\n",
       "      <td>B2M</td>\n",
       "      <td>ENSMUSG00000060802</td>\n",
       "      <td>B2m</td>\n",
       "      <td>122147686</td>\n",
       "      <td>122153083</td>\n",
       "      <td>2</td>\n",
       "    </tr>\n",
       "    <tr>\n",
       "      <th>26</th>\n",
       "      <td>ENSG00000075303</td>\n",
       "      <td>ENSG00000075303.13</td>\n",
       "      <td>ENST00000341119</td>\n",
       "      <td>ENST00000341119.10</td>\n",
       "      <td>SLC25A40</td>\n",
       "      <td>ENSMUSG00000054099</td>\n",
       "      <td>Slc25a40</td>\n",
       "      <td>8422850</td>\n",
       "      <td>8454797</td>\n",
       "      <td>5</td>\n",
       "    </tr>\n",
       "    <tr>\n",
       "      <th>34</th>\n",
       "      <td>ENSG00000213689</td>\n",
       "      <td>ENSG00000213689.14</td>\n",
       "      <td>ENST00000433541</td>\n",
       "      <td>ENST00000433541.1</td>\n",
       "      <td>TREX1</td>\n",
       "      <td>ENSMUSG00000049734</td>\n",
       "      <td>Trex1</td>\n",
       "      <td>109057933</td>\n",
       "      <td>109059734</td>\n",
       "      <td>9</td>\n",
       "    </tr>\n",
       "    <tr>\n",
       "      <th>40</th>\n",
       "      <td>ENSG00000090382</td>\n",
       "      <td>ENSG00000090382.7</td>\n",
       "      <td>ENST00000261267</td>\n",
       "      <td>ENST00000261267.7</td>\n",
       "      <td>LYZ</td>\n",
       "      <td>ENSMUSG00000020177</td>\n",
       "      <td>9530003J23Rik</td>\n",
       "      <td>117232237</td>\n",
       "      <td>117238703</td>\n",
       "      <td>10</td>\n",
       "    </tr>\n",
       "  </tbody>\n",
       "</table>\n",
       "</div>"
      ],
      "text/plain": [
       "     Gene stable ID Gene stable ID version Transcript stable ID  \\\n",
       "0   ENSG00000152240     ENSG00000152240.13      ENST00000282058   \n",
       "12  ENSG00000166710     ENSG00000166710.21      ENST00000559720   \n",
       "26  ENSG00000075303     ENSG00000075303.13      ENST00000341119   \n",
       "34  ENSG00000213689     ENSG00000213689.14      ENST00000433541   \n",
       "40  ENSG00000090382      ENSG00000090382.7      ENST00000261267   \n",
       "\n",
       "   Transcript stable ID version Gene name Mouse gene stable ID  \\\n",
       "0            ENST00000282058.11     HAUS1   ENSMUSG00000041840   \n",
       "12            ENST00000559720.5       B2M   ENSMUSG00000060802   \n",
       "26           ENST00000341119.10  SLC25A40   ENSMUSG00000054099   \n",
       "34            ENST00000433541.1     TREX1   ENSMUSG00000049734   \n",
       "40            ENST00000261267.7       LYZ   ENSMUSG00000020177   \n",
       "\n",
       "   Mouse gene name  Mouse chromosome/scaffold start (bp)  \\\n",
       "0            Haus1                              77757567   \n",
       "12             B2m                             122147686   \n",
       "26        Slc25a40                               8422850   \n",
       "34           Trex1                             109057933   \n",
       "40   9530003J23Rik                             117232237   \n",
       "\n",
       "    Mouse chromosome/scaffold end (bp)  Mouse chromosome/scaffold name  \n",
       "0                             77773886                              18  \n",
       "12                           122153083                               2  \n",
       "26                             8454797                               5  \n",
       "34                           109059734                               9  \n",
       "40                           117238703                              10  "
      ]
     },
     "execution_count": 42,
     "metadata": {},
     "output_type": "execute_result"
    }
   ],
   "source": [
    "mouse.head()"
   ]
  },
  {
   "cell_type": "code",
   "execution_count": 48,
   "metadata": {
    "scrolled": true
   },
   "outputs": [
    {
     "name": "stdout",
     "output_type": "stream",
     "text": [
      "Haus1\n",
      "B2m\n",
      "Slc25a40\n",
      "Trex1\n",
      "9530003J23Rik\n",
      "Gm15448\n",
      "Lair1\n",
      "Psmd2\n"
     ]
    },
    {
     "data": {
      "text/plain": [
       "<Figure size 360x360 with 0 Axes>"
      ]
     },
     "metadata": {},
     "output_type": "display_data"
    },
    {
     "data": {
      "text/plain": [
       "<Figure size 360x360 with 0 Axes>"
      ]
     },
     "metadata": {},
     "output_type": "display_data"
    },
    {
     "data": {
      "text/plain": [
       "<Figure size 360x360 with 0 Axes>"
      ]
     },
     "metadata": {},
     "output_type": "display_data"
    },
    {
     "data": {
      "text/plain": [
       "<Figure size 360x360 with 0 Axes>"
      ]
     },
     "metadata": {},
     "output_type": "display_data"
    },
    {
     "data": {
      "text/plain": [
       "<Figure size 360x360 with 0 Axes>"
      ]
     },
     "metadata": {},
     "output_type": "display_data"
    },
    {
     "data": {
      "text/plain": [
       "<Figure size 360x360 with 0 Axes>"
      ]
     },
     "metadata": {},
     "output_type": "display_data"
    },
    {
     "data": {
      "text/plain": [
       "<Figure size 360x360 with 0 Axes>"
      ]
     },
     "metadata": {},
     "output_type": "display_data"
    },
    {
     "data": {
      "image/png": "[encoded data removed]",
      "text/plain": [
       "<Figure size 360x360 with 1 Axes>"
      ]
     },
     "metadata": {},
     "output_type": "display_data"
    },
    {
     "data": {
      "text/plain": [
       "<Figure size 360x360 with 0 Axes>"
      ]
     },
     "metadata": {},
     "output_type": "display_data"
    },
    {
     "data": {
      "image/png": "[encoded data removed]",
      "text/plain": [
       "<Figure size 360x360 with 1 Axes>"
      ]
     },
     "metadata": {},
     "output_type": "display_data"
    },
    {
     "data": {
      "image/png": "[encoded data removed]",
      "text/plain": [
       "<Figure size 360x360 with 1 Axes>"
      ]
     },
     "metadata": {},
     "output_type": "display_data"
    },
    {
     "data": {
      "image/png": "[encoded data removed]",
      "text/plain": [
       "<Figure size 360x360 with 1 Axes>"
      ]
     },
     "metadata": {},
     "output_type": "display_data"
    },
    {
     "data": {
      "image/png": "[encoded data removed]",
      "text/plain": [
       "<Figure size 360x360 with 1 Axes>"
      ]
     },
     "metadata": {},
     "output_type": "display_data"
    },
    {
     "data": {
      "image/png": "[encoded data removed]",
      "text/plain": [
       "<Figure size 360x360 with 1 Axes>"
      ]
     },
     "metadata": {},
     "output_type": "display_data"
    },
    {
     "data": {
      "image/png": "[encoded data removed]",
      "text/plain": [
       "<Figure size 360x360 with 1 Axes>"
      ]
     },
     "metadata": {},
     "output_type": "display_data"
    }
   ],
   "source": [
    "for x in mouse[\"Mouse gene name\"].tolist()+[\"Pirb\"]:\n",
    "    try:\n",
    "        sns.set(style=\"whitegrid\", font_scale = 1)\n",
    "        plt.figure(figsize=(5,5))\n",
    "        ax=sns.boxplot(x=\"group\", y=x,data=rna,color=\"gray\")\n",
    "        plt.ylabel(\"log2 TPM \"+x)\n",
    "    except:\n",
    "        print(x)\n",
    "    "
   ]
  },
  {
   "cell_type": "code",
   "execution_count": 49,
   "metadata": {},
   "outputs": [],
   "source": [
    "# for x in rna.columns.tolist()[0:100]:\n",
    "#     try:\n",
    "#         sns.set(style=\"whitegrid\", font_scale = 1)\n",
    "#         plt.figure(figsize=(5,5))\n",
    "#         ax=sns.boxplot(x=\"group\", y=x,data=rna,color=\"gray\")\n",
    "#         plt.ylabel(\"log2 TPM \"+x)\n",
    "#     except:\n",
    "#         print(x)\n",
    "    "
   ]
  }
 ],
 "metadata": {
  "kernelspec": {
   "display_name": "Python 3",
   "language": "python",
   "name": "python3"
  },
  "language_info": {
   "codemirror_mode": {
    "name": "ipython",
    "version": 3
   },
   "file_extension": ".py",
   "mimetype": "text/x-python",
   "name": "python",
   "nbconvert_exporter": "python",
   "pygments_lexer": "ipython3",
   "version": "3.7.7"
  }
 },
 "nbformat": 4,
 "nbformat_minor": 4
}
