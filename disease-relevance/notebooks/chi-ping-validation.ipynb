{
 "cells": [
  {
   "cell_type": "code",
   "execution_count": 23,
   "metadata": {},
   "outputs": [],
   "source": [
    "import pandas as pd\n",
    "import seaborn as sns\n",
    "import matplotlib.pyplot as plt\n",
    "import numpy as np"
   ]
  },
  {
   "cell_type": "code",
   "execution_count": 24,
   "metadata": {},
   "outputs": [],
   "source": [
    "import matplotlib\n",
    "matplotlib.rcParams['pdf.fonttype'] = 42\n",
    "matplotlib.rcParams['ps.fonttype'] = 42"
   ]
  },
  {
   "cell_type": "markdown",
   "metadata": {},
   "source": [
    "## Get responder mapping"
   ]
  },
  {
   "cell_type": "code",
   "execution_count": 25,
   "metadata": {},
   "outputs": [],
   "source": [
    "response=pd.read_csv(\"../data/M4_sample_mapping.csv\")"
   ]
  },
  {
   "cell_type": "code",
   "execution_count": 26,
   "metadata": {},
   "outputs": [],
   "source": [
    "mp_response=dict(zip(response[\"sample.id\"],response[\"class\"]))"
   ]
  },
  {
   "cell_type": "code",
   "execution_count": 27,
   "metadata": {},
   "outputs": [
    {
     "data": {
      "text/plain": [
       "No-response    11\n",
       "Responder       8\n",
       "Stable          6\n",
       "Name: class, dtype: int64"
      ]
     },
     "execution_count": 27,
     "metadata": {},
     "output_type": "execute_result"
    }
   ],
   "source": [
    "response[\"class\"].value_counts()"
   ]
  },
  {
   "cell_type": "markdown",
   "metadata": {},
   "source": [
    "## Get RNA data"
   ]
  },
  {
   "cell_type": "code",
   "execution_count": 28,
   "metadata": {},
   "outputs": [],
   "source": [
    "rna=pd.read_csv(\"../data/M4_rna.csv\",skiprows=[0])"
   ]
  },
  {
   "cell_type": "code",
   "execution_count": 29,
   "metadata": {},
   "outputs": [
    {
     "data": {
      "text/plain": [
       "(2977, 26)"
      ]
     },
     "execution_count": 29,
     "metadata": {},
     "output_type": "execute_result"
    }
   ],
   "source": [
    "rna.head()\n",
    "rna.shape"
   ]
  },
  {
   "cell_type": "code",
   "execution_count": 30,
   "metadata": {},
   "outputs": [],
   "source": [
    "rna=rna.set_index(\"SYMBOL\")"
   ]
  },
  {
   "cell_type": "code",
   "execution_count": 31,
   "metadata": {},
   "outputs": [],
   "source": [
    "for x in rna.columns:\n",
    "    rna[x]=rna[x]/rna[x].sum()"
   ]
  },
  {
   "cell_type": "code",
   "execution_count": 32,
   "metadata": {},
   "outputs": [],
   "source": [
    "rna=rna*1000000"
   ]
  },
  {
   "cell_type": "code",
   "execution_count": 33,
   "metadata": {},
   "outputs": [],
   "source": [
    "rna=rna.T"
   ]
  },
  {
   "cell_type": "code",
   "execution_count": 34,
   "metadata": {},
   "outputs": [],
   "source": [
    "rna+=1\n",
    "rna=np.log2(rna)"
   ]
  },
  {
   "cell_type": "code",
   "execution_count": 35,
   "metadata": {},
   "outputs": [],
   "source": [
    "rna[\"group\"]=rna.index.map(mp_response)"
   ]
  },
  {
   "cell_type": "markdown",
   "metadata": {},
   "source": [
    "## boxplots for gene expression"
   ]
  },
  {
   "cell_type": "code",
   "execution_count": 36,
   "metadata": {},
   "outputs": [],
   "source": [
    "mouse=pd.read_csv(\"../data/mart_export.txt\",delimiter=\"\\t\")"
   ]
  },
  {
   "cell_type": "code",
   "execution_count": 37,
   "metadata": {},
   "outputs": [],
   "source": [
    "mouse=mouse[~mouse[\"Gene name\"].duplicated()]"
   ]
  },
  {
   "cell_type": "code",
   "execution_count": 43,
   "metadata": {
    "scrolled": true
   },
   "outputs": [
    {
     "data": {
      "text/html": [
       "<div>\n",
       "<style scoped>\n",
       "    .dataframe tbody tr th:only-of-type {\n",
       "        vertical-align: middle;\n",
       "    }\n",
       "\n",
       "    .dataframe tbody tr th {\n",
       "        vertical-align: top;\n",
       "    }\n",
       "\n",
       "    .dataframe thead th {\n",
       "        text-align: right;\n",
       "    }\n",
       "</style>\n",
       "<table border=\"1\" class=\"dataframe\">\n",
       "  <thead>\n",
       "    <tr style=\"text-align: right;\">\n",
       "      <th>SYMBOL</th>\n",
       "      <th>Aanat</th>\n",
       "      <th>Abca1</th>\n",
       "      <th>Abcg1</th>\n",
       "      <th>Acadl</th>\n",
       "      <th>Acads</th>\n",
       "      <th>Aco2</th>\n",
       "      <th>Acp5</th>\n",
       "      <th>Actg2</th>\n",
       "      <th>Adam11</th>\n",
       "      <th>Adam12</th>\n",
       "      <th>...</th>\n",
       "      <th>Gm10639</th>\n",
       "      <th>Tigit</th>\n",
       "      <th>Zfp831</th>\n",
       "      <th>Ddx43</th>\n",
       "      <th>Gm17359</th>\n",
       "      <th>Gm17455</th>\n",
       "      <th>Hbb-bs</th>\n",
       "      <th>Micalcl</th>\n",
       "      <th>Gm11127</th>\n",
       "      <th>group</th>\n",
       "    </tr>\n",
       "  </thead>\n",
       "  <tbody>\n",
       "    <tr>\n",
       "      <th>1_145_EPG</th>\n",
       "      <td>0.834726</td>\n",
       "      <td>7.631199</td>\n",
       "      <td>5.161926</td>\n",
       "      <td>9.697721</td>\n",
       "      <td>8.542089</td>\n",
       "      <td>10.611301</td>\n",
       "      <td>4.505534</td>\n",
       "      <td>3.028138</td>\n",
       "      <td>3.119304</td>\n",
       "      <td>9.201518</td>\n",
       "      <td>...</td>\n",
       "      <td>7.438023</td>\n",
       "      <td>1.335431</td>\n",
       "      <td>0.506911</td>\n",
       "      <td>0.319943</td>\n",
       "      <td>0.000000</td>\n",
       "      <td>0.000000</td>\n",
       "      <td>10.237925</td>\n",
       "      <td>0.660096</td>\n",
       "      <td>4.758609</td>\n",
       "      <td>No-response</td>\n",
       "    </tr>\n",
       "    <tr>\n",
       "      <th>4_166_EPG</th>\n",
       "      <td>0.743433</td>\n",
       "      <td>7.835279</td>\n",
       "      <td>5.268386</td>\n",
       "      <td>9.662456</td>\n",
       "      <td>8.434436</td>\n",
       "      <td>10.719564</td>\n",
       "      <td>5.190500</td>\n",
       "      <td>3.105605</td>\n",
       "      <td>3.364384</td>\n",
       "      <td>9.505929</td>\n",
       "      <td>...</td>\n",
       "      <td>7.723283</td>\n",
       "      <td>2.377051</td>\n",
       "      <td>0.760684</td>\n",
       "      <td>1.256145</td>\n",
       "      <td>1.571205</td>\n",
       "      <td>0.000000</td>\n",
       "      <td>12.532658</td>\n",
       "      <td>1.483951</td>\n",
       "      <td>4.677185</td>\n",
       "      <td>No-response</td>\n",
       "    </tr>\n",
       "    <tr>\n",
       "      <th>5_168_EPG</th>\n",
       "      <td>2.055976</td>\n",
       "      <td>7.875106</td>\n",
       "      <td>5.922757</td>\n",
       "      <td>9.505065</td>\n",
       "      <td>8.386718</td>\n",
       "      <td>10.681289</td>\n",
       "      <td>5.498156</td>\n",
       "      <td>2.769498</td>\n",
       "      <td>3.656329</td>\n",
       "      <td>9.533529</td>\n",
       "      <td>...</td>\n",
       "      <td>7.788321</td>\n",
       "      <td>2.971382</td>\n",
       "      <td>1.669873</td>\n",
       "      <td>1.051211</td>\n",
       "      <td>0.730942</td>\n",
       "      <td>0.000000</td>\n",
       "      <td>9.510558</td>\n",
       "      <td>0.486366</td>\n",
       "      <td>5.674678</td>\n",
       "      <td>No-response</td>\n",
       "    </tr>\n",
       "    <tr>\n",
       "      <th>3_152_EPG</th>\n",
       "      <td>1.723407</td>\n",
       "      <td>8.223600</td>\n",
       "      <td>6.003007</td>\n",
       "      <td>9.755959</td>\n",
       "      <td>8.505405</td>\n",
       "      <td>10.585063</td>\n",
       "      <td>5.764969</td>\n",
       "      <td>3.672692</td>\n",
       "      <td>3.109881</td>\n",
       "      <td>9.651651</td>\n",
       "      <td>...</td>\n",
       "      <td>7.105241</td>\n",
       "      <td>1.881996</td>\n",
       "      <td>1.288756</td>\n",
       "      <td>0.629593</td>\n",
       "      <td>1.927979</td>\n",
       "      <td>0.684715</td>\n",
       "      <td>12.196990</td>\n",
       "      <td>3.326973</td>\n",
       "      <td>4.468665</td>\n",
       "      <td>No-response</td>\n",
       "    </tr>\n",
       "    <tr>\n",
       "      <th>2_146_EPG</th>\n",
       "      <td>0.434052</td>\n",
       "      <td>8.218466</td>\n",
       "      <td>5.732733</td>\n",
       "      <td>9.223516</td>\n",
       "      <td>8.246006</td>\n",
       "      <td>10.632422</td>\n",
       "      <td>5.774681</td>\n",
       "      <td>4.168030</td>\n",
       "      <td>3.285737</td>\n",
       "      <td>9.247660</td>\n",
       "      <td>...</td>\n",
       "      <td>6.598648</td>\n",
       "      <td>3.490334</td>\n",
       "      <td>1.727056</td>\n",
       "      <td>0.875181</td>\n",
       "      <td>1.834455</td>\n",
       "      <td>1.078157</td>\n",
       "      <td>10.247169</td>\n",
       "      <td>1.986662</td>\n",
       "      <td>5.300199</td>\n",
       "      <td>No-response</td>\n",
       "    </tr>\n",
       "    <tr>\n",
       "      <th>6_138_EPG</th>\n",
       "      <td>1.459353</td>\n",
       "      <td>7.533319</td>\n",
       "      <td>5.502610</td>\n",
       "      <td>9.458517</td>\n",
       "      <td>8.427106</td>\n",
       "      <td>10.337543</td>\n",
       "      <td>5.264978</td>\n",
       "      <td>3.242257</td>\n",
       "      <td>2.941813</td>\n",
       "      <td>9.751641</td>\n",
       "      <td>...</td>\n",
       "      <td>6.533029</td>\n",
       "      <td>2.224869</td>\n",
       "      <td>1.240832</td>\n",
       "      <td>0.221998</td>\n",
       "      <td>1.016830</td>\n",
       "      <td>0.635989</td>\n",
       "      <td>10.636423</td>\n",
       "      <td>0.950796</td>\n",
       "      <td>5.038224</td>\n",
       "      <td>No-response</td>\n",
       "    </tr>\n",
       "    <tr>\n",
       "      <th>11_172_EPG</th>\n",
       "      <td>1.829283</td>\n",
       "      <td>8.535032</td>\n",
       "      <td>6.472045</td>\n",
       "      <td>9.451725</td>\n",
       "      <td>8.338352</td>\n",
       "      <td>10.456977</td>\n",
       "      <td>6.610230</td>\n",
       "      <td>3.269769</td>\n",
       "      <td>3.835519</td>\n",
       "      <td>9.536849</td>\n",
       "      <td>...</td>\n",
       "      <td>7.504895</td>\n",
       "      <td>3.691178</td>\n",
       "      <td>2.910263</td>\n",
       "      <td>0.978943</td>\n",
       "      <td>1.696155</td>\n",
       "      <td>0.000000</td>\n",
       "      <td>9.881591</td>\n",
       "      <td>2.138701</td>\n",
       "      <td>5.384854</td>\n",
       "      <td>No-response</td>\n",
       "    </tr>\n",
       "    <tr>\n",
       "      <th>10_162_EPG</th>\n",
       "      <td>2.984864</td>\n",
       "      <td>8.443826</td>\n",
       "      <td>6.973583</td>\n",
       "      <td>9.370195</td>\n",
       "      <td>8.170190</td>\n",
       "      <td>10.463691</td>\n",
       "      <td>7.340267</td>\n",
       "      <td>3.286988</td>\n",
       "      <td>4.108477</td>\n",
       "      <td>9.712206</td>\n",
       "      <td>...</td>\n",
       "      <td>5.973131</td>\n",
       "      <td>4.841271</td>\n",
       "      <td>3.286900</td>\n",
       "      <td>2.385941</td>\n",
       "      <td>1.289706</td>\n",
       "      <td>1.358463</td>\n",
       "      <td>9.309259</td>\n",
       "      <td>2.543235</td>\n",
       "      <td>6.758978</td>\n",
       "      <td>No-response</td>\n",
       "    </tr>\n",
       "    <tr>\n",
       "      <th>9_150_EPG</th>\n",
       "      <td>2.135921</td>\n",
       "      <td>9.149516</td>\n",
       "      <td>7.783633</td>\n",
       "      <td>8.866912</td>\n",
       "      <td>8.123177</td>\n",
       "      <td>10.051958</td>\n",
       "      <td>9.066670</td>\n",
       "      <td>2.028124</td>\n",
       "      <td>3.338898</td>\n",
       "      <td>8.092596</td>\n",
       "      <td>...</td>\n",
       "      <td>2.555079</td>\n",
       "      <td>4.630303</td>\n",
       "      <td>3.813038</td>\n",
       "      <td>1.935134</td>\n",
       "      <td>0.696495</td>\n",
       "      <td>3.179804</td>\n",
       "      <td>9.478030</td>\n",
       "      <td>1.326801</td>\n",
       "      <td>7.628633</td>\n",
       "      <td>No-response</td>\n",
       "    </tr>\n",
       "    <tr>\n",
       "      <th>7_139_EPG</th>\n",
       "      <td>1.968740</td>\n",
       "      <td>9.440760</td>\n",
       "      <td>8.089498</td>\n",
       "      <td>9.225496</td>\n",
       "      <td>8.305452</td>\n",
       "      <td>10.076825</td>\n",
       "      <td>8.660026</td>\n",
       "      <td>3.008463</td>\n",
       "      <td>4.254630</td>\n",
       "      <td>8.822391</td>\n",
       "      <td>...</td>\n",
       "      <td>3.077604</td>\n",
       "      <td>5.211001</td>\n",
       "      <td>3.749423</td>\n",
       "      <td>1.555466</td>\n",
       "      <td>3.116088</td>\n",
       "      <td>0.943100</td>\n",
       "      <td>11.137218</td>\n",
       "      <td>1.352616</td>\n",
       "      <td>6.761751</td>\n",
       "      <td>No-response</td>\n",
       "    </tr>\n",
       "    <tr>\n",
       "      <th>8_143_EPG</th>\n",
       "      <td>3.292761</td>\n",
       "      <td>9.257610</td>\n",
       "      <td>7.378187</td>\n",
       "      <td>9.258023</td>\n",
       "      <td>8.391952</td>\n",
       "      <td>10.114861</td>\n",
       "      <td>8.107017</td>\n",
       "      <td>2.563301</td>\n",
       "      <td>5.219922</td>\n",
       "      <td>9.320584</td>\n",
       "      <td>...</td>\n",
       "      <td>2.817659</td>\n",
       "      <td>6.106785</td>\n",
       "      <td>4.435711</td>\n",
       "      <td>2.076386</td>\n",
       "      <td>3.308618</td>\n",
       "      <td>0.000000</td>\n",
       "      <td>10.382371</td>\n",
       "      <td>3.038780</td>\n",
       "      <td>6.681200</td>\n",
       "      <td>No-response</td>\n",
       "    </tr>\n",
       "    <tr>\n",
       "      <th>25_158_EPG</th>\n",
       "      <td>3.601332</td>\n",
       "      <td>9.601895</td>\n",
       "      <td>8.111930</td>\n",
       "      <td>9.202191</td>\n",
       "      <td>8.119670</td>\n",
       "      <td>10.177483</td>\n",
       "      <td>8.968655</td>\n",
       "      <td>2.544408</td>\n",
       "      <td>4.244259</td>\n",
       "      <td>8.179427</td>\n",
       "      <td>...</td>\n",
       "      <td>1.066162</td>\n",
       "      <td>5.613958</td>\n",
       "      <td>4.304367</td>\n",
       "      <td>1.602171</td>\n",
       "      <td>2.250355</td>\n",
       "      <td>3.992540</td>\n",
       "      <td>9.705428</td>\n",
       "      <td>2.016129</td>\n",
       "      <td>7.063026</td>\n",
       "      <td>Stable</td>\n",
       "    </tr>\n",
       "    <tr>\n",
       "      <th>24_167_EPG</th>\n",
       "      <td>2.939109</td>\n",
       "      <td>9.774292</td>\n",
       "      <td>8.010696</td>\n",
       "      <td>9.254703</td>\n",
       "      <td>7.807763</td>\n",
       "      <td>10.064117</td>\n",
       "      <td>8.929631</td>\n",
       "      <td>2.144362</td>\n",
       "      <td>2.955051</td>\n",
       "      <td>7.737517</td>\n",
       "      <td>...</td>\n",
       "      <td>0.000000</td>\n",
       "      <td>5.318487</td>\n",
       "      <td>3.899879</td>\n",
       "      <td>1.956760</td>\n",
       "      <td>1.471505</td>\n",
       "      <td>2.948318</td>\n",
       "      <td>8.980952</td>\n",
       "      <td>2.548145</td>\n",
       "      <td>7.148642</td>\n",
       "      <td>Stable</td>\n",
       "    </tr>\n",
       "    <tr>\n",
       "      <th>20_173_EPG</th>\n",
       "      <td>3.373686</td>\n",
       "      <td>9.783801</td>\n",
       "      <td>8.379205</td>\n",
       "      <td>9.015478</td>\n",
       "      <td>8.002503</td>\n",
       "      <td>10.010209</td>\n",
       "      <td>9.365885</td>\n",
       "      <td>2.536996</td>\n",
       "      <td>4.924012</td>\n",
       "      <td>8.060297</td>\n",
       "      <td>...</td>\n",
       "      <td>1.666384</td>\n",
       "      <td>6.098948</td>\n",
       "      <td>5.009997</td>\n",
       "      <td>3.247670</td>\n",
       "      <td>2.243291</td>\n",
       "      <td>4.211068</td>\n",
       "      <td>9.622013</td>\n",
       "      <td>2.138947</td>\n",
       "      <td>7.112011</td>\n",
       "      <td>Stable</td>\n",
       "    </tr>\n",
       "    <tr>\n",
       "      <th>23_155_EPG</th>\n",
       "      <td>3.041223</td>\n",
       "      <td>9.936852</td>\n",
       "      <td>8.667780</td>\n",
       "      <td>8.931376</td>\n",
       "      <td>7.750161</td>\n",
       "      <td>10.017432</td>\n",
       "      <td>8.902468</td>\n",
       "      <td>2.368412</td>\n",
       "      <td>3.204946</td>\n",
       "      <td>7.053164</td>\n",
       "      <td>...</td>\n",
       "      <td>1.574689</td>\n",
       "      <td>4.298833</td>\n",
       "      <td>3.494393</td>\n",
       "      <td>1.788821</td>\n",
       "      <td>2.467797</td>\n",
       "      <td>4.528473</td>\n",
       "      <td>8.984780</td>\n",
       "      <td>3.099919</td>\n",
       "      <td>6.879425</td>\n",
       "      <td>Stable</td>\n",
       "    </tr>\n",
       "    <tr>\n",
       "      <th>21_136_EPG</th>\n",
       "      <td>2.031441</td>\n",
       "      <td>9.740723</td>\n",
       "      <td>8.708245</td>\n",
       "      <td>8.863884</td>\n",
       "      <td>7.894951</td>\n",
       "      <td>9.990210</td>\n",
       "      <td>8.939926</td>\n",
       "      <td>3.242323</td>\n",
       "      <td>3.436904</td>\n",
       "      <td>7.269127</td>\n",
       "      <td>...</td>\n",
       "      <td>0.838840</td>\n",
       "      <td>5.394793</td>\n",
       "      <td>4.333802</td>\n",
       "      <td>2.582720</td>\n",
       "      <td>1.488625</td>\n",
       "      <td>3.969521</td>\n",
       "      <td>9.032520</td>\n",
       "      <td>3.248936</td>\n",
       "      <td>7.507834</td>\n",
       "      <td>Stable</td>\n",
       "    </tr>\n",
       "    <tr>\n",
       "      <th>22_137_EPG</th>\n",
       "      <td>3.580505</td>\n",
       "      <td>10.243413</td>\n",
       "      <td>9.510877</td>\n",
       "      <td>8.727734</td>\n",
       "      <td>8.028350</td>\n",
       "      <td>10.093413</td>\n",
       "      <td>8.904792</td>\n",
       "      <td>3.012445</td>\n",
       "      <td>3.939777</td>\n",
       "      <td>6.712393</td>\n",
       "      <td>...</td>\n",
       "      <td>0.000000</td>\n",
       "      <td>4.777838</td>\n",
       "      <td>4.373913</td>\n",
       "      <td>1.624973</td>\n",
       "      <td>2.665265</td>\n",
       "      <td>5.453105</td>\n",
       "      <td>9.695590</td>\n",
       "      <td>2.086510</td>\n",
       "      <td>8.354240</td>\n",
       "      <td>Stable</td>\n",
       "    </tr>\n",
       "    <tr>\n",
       "      <th>16_161_EPG</th>\n",
       "      <td>2.800466</td>\n",
       "      <td>9.474847</td>\n",
       "      <td>8.259910</td>\n",
       "      <td>8.746277</td>\n",
       "      <td>7.846431</td>\n",
       "      <td>9.973513</td>\n",
       "      <td>9.087363</td>\n",
       "      <td>1.458836</td>\n",
       "      <td>3.645041</td>\n",
       "      <td>7.253556</td>\n",
       "      <td>...</td>\n",
       "      <td>1.621884</td>\n",
       "      <td>4.717708</td>\n",
       "      <td>4.247739</td>\n",
       "      <td>1.194793</td>\n",
       "      <td>2.060937</td>\n",
       "      <td>4.433475</td>\n",
       "      <td>8.870090</td>\n",
       "      <td>1.290408</td>\n",
       "      <td>7.164966</td>\n",
       "      <td>Responder</td>\n",
       "    </tr>\n",
       "    <tr>\n",
       "      <th>17_163_EPG</th>\n",
       "      <td>3.930754</td>\n",
       "      <td>10.211723</td>\n",
       "      <td>8.407254</td>\n",
       "      <td>9.408400</td>\n",
       "      <td>8.039662</td>\n",
       "      <td>9.866266</td>\n",
       "      <td>8.859089</td>\n",
       "      <td>2.753419</td>\n",
       "      <td>6.345581</td>\n",
       "      <td>9.073490</td>\n",
       "      <td>...</td>\n",
       "      <td>2.472179</td>\n",
       "      <td>7.586389</td>\n",
       "      <td>6.472749</td>\n",
       "      <td>3.684080</td>\n",
       "      <td>3.513297</td>\n",
       "      <td>2.731076</td>\n",
       "      <td>9.242956</td>\n",
       "      <td>2.523175</td>\n",
       "      <td>8.506677</td>\n",
       "      <td>Responder</td>\n",
       "    </tr>\n",
       "    <tr>\n",
       "      <th>19_169_EPG</th>\n",
       "      <td>5.801500</td>\n",
       "      <td>10.147405</td>\n",
       "      <td>7.896850</td>\n",
       "      <td>9.069914</td>\n",
       "      <td>8.228465</td>\n",
       "      <td>9.853749</td>\n",
       "      <td>8.545421</td>\n",
       "      <td>1.806956</td>\n",
       "      <td>6.296045</td>\n",
       "      <td>8.793003</td>\n",
       "      <td>...</td>\n",
       "      <td>1.863591</td>\n",
       "      <td>7.035794</td>\n",
       "      <td>5.644013</td>\n",
       "      <td>4.261169</td>\n",
       "      <td>4.654108</td>\n",
       "      <td>2.915299</td>\n",
       "      <td>8.725441</td>\n",
       "      <td>4.342318</td>\n",
       "      <td>8.363931</td>\n",
       "      <td>Responder</td>\n",
       "    </tr>\n",
       "    <tr>\n",
       "      <th>15_160_EPG</th>\n",
       "      <td>3.613319</td>\n",
       "      <td>10.198058</td>\n",
       "      <td>8.177799</td>\n",
       "      <td>9.019643</td>\n",
       "      <td>8.239280</td>\n",
       "      <td>9.994940</td>\n",
       "      <td>8.906127</td>\n",
       "      <td>2.467081</td>\n",
       "      <td>6.007759</td>\n",
       "      <td>8.640987</td>\n",
       "      <td>...</td>\n",
       "      <td>2.197663</td>\n",
       "      <td>7.214332</td>\n",
       "      <td>5.612682</td>\n",
       "      <td>3.171943</td>\n",
       "      <td>3.204199</td>\n",
       "      <td>5.005966</td>\n",
       "      <td>9.408516</td>\n",
       "      <td>5.560284</td>\n",
       "      <td>8.491724</td>\n",
       "      <td>Responder</td>\n",
       "    </tr>\n",
       "    <tr>\n",
       "      <th>18_165_EPG</th>\n",
       "      <td>4.846310</td>\n",
       "      <td>10.379591</td>\n",
       "      <td>8.440282</td>\n",
       "      <td>9.282006</td>\n",
       "      <td>8.374463</td>\n",
       "      <td>9.855736</td>\n",
       "      <td>8.439283</td>\n",
       "      <td>1.377753</td>\n",
       "      <td>6.438797</td>\n",
       "      <td>8.896435</td>\n",
       "      <td>...</td>\n",
       "      <td>3.772084</td>\n",
       "      <td>7.002954</td>\n",
       "      <td>6.265473</td>\n",
       "      <td>3.507129</td>\n",
       "      <td>5.274281</td>\n",
       "      <td>2.863771</td>\n",
       "      <td>9.523068</td>\n",
       "      <td>3.158751</td>\n",
       "      <td>8.388763</td>\n",
       "      <td>Responder</td>\n",
       "    </tr>\n",
       "    <tr>\n",
       "      <th>14_149_EPG</th>\n",
       "      <td>4.298369</td>\n",
       "      <td>10.074343</td>\n",
       "      <td>8.060629</td>\n",
       "      <td>9.013604</td>\n",
       "      <td>8.031354</td>\n",
       "      <td>9.889990</td>\n",
       "      <td>8.931579</td>\n",
       "      <td>3.816618</td>\n",
       "      <td>5.057784</td>\n",
       "      <td>8.331793</td>\n",
       "      <td>...</td>\n",
       "      <td>0.000000</td>\n",
       "      <td>6.208379</td>\n",
       "      <td>4.434003</td>\n",
       "      <td>2.161450</td>\n",
       "      <td>4.139354</td>\n",
       "      <td>5.105191</td>\n",
       "      <td>7.579118</td>\n",
       "      <td>2.597115</td>\n",
       "      <td>7.532560</td>\n",
       "      <td>Responder</td>\n",
       "    </tr>\n",
       "    <tr>\n",
       "      <th>12_140_EPG</th>\n",
       "      <td>4.717768</td>\n",
       "      <td>10.300159</td>\n",
       "      <td>8.361675</td>\n",
       "      <td>9.157204</td>\n",
       "      <td>8.040391</td>\n",
       "      <td>9.755100</td>\n",
       "      <td>8.718494</td>\n",
       "      <td>2.137740</td>\n",
       "      <td>5.287232</td>\n",
       "      <td>7.811467</td>\n",
       "      <td>...</td>\n",
       "      <td>0.000000</td>\n",
       "      <td>7.352552</td>\n",
       "      <td>5.461819</td>\n",
       "      <td>3.173374</td>\n",
       "      <td>3.737505</td>\n",
       "      <td>0.000000</td>\n",
       "      <td>8.917947</td>\n",
       "      <td>5.400497</td>\n",
       "      <td>8.884693</td>\n",
       "      <td>Responder</td>\n",
       "    </tr>\n",
       "    <tr>\n",
       "      <th>13_142_EPG</th>\n",
       "      <td>4.231840</td>\n",
       "      <td>10.818999</td>\n",
       "      <td>8.907027</td>\n",
       "      <td>9.009836</td>\n",
       "      <td>7.610911</td>\n",
       "      <td>9.686835</td>\n",
       "      <td>9.246574</td>\n",
       "      <td>0.882422</td>\n",
       "      <td>4.352595</td>\n",
       "      <td>7.613497</td>\n",
       "      <td>...</td>\n",
       "      <td>0.000000</td>\n",
       "      <td>6.711095</td>\n",
       "      <td>4.931653</td>\n",
       "      <td>3.163210</td>\n",
       "      <td>2.831969</td>\n",
       "      <td>5.514925</td>\n",
       "      <td>7.965452</td>\n",
       "      <td>3.946039</td>\n",
       "      <td>7.273833</td>\n",
       "      <td>Responder</td>\n",
       "    </tr>\n",
       "  </tbody>\n",
       "</table>\n",
       "<p>25 rows × 2978 columns</p>\n",
       "</div>"
      ],
      "text/plain": [
       "SYMBOL         Aanat      Abca1     Abcg1     Acadl     Acads       Aco2  \\\n",
       "1_145_EPG   0.834726   7.631199  5.161926  9.697721  8.542089  10.611301   \n",
       "4_166_EPG   0.743433   7.835279  5.268386  9.662456  8.434436  10.719564   \n",
       "5_168_EPG   2.055976   7.875106  5.922757  9.505065  8.386718  10.681289   \n",
       "3_152_EPG   1.723407   8.223600  6.003007  9.755959  8.505405  10.585063   \n",
       "2_146_EPG   0.434052   8.218466  5.732733  9.223516  8.246006  10.632422   \n",
       "6_138_EPG   1.459353   7.533319  5.502610  9.458517  8.427106  10.337543   \n",
       "11_172_EPG  1.829283   8.535032  6.472045  9.451725  8.338352  10.456977   \n",
       "10_162_EPG  2.984864   8.443826  6.973583  9.370195  8.170190  10.463691   \n",
       "9_150_EPG   2.135921   9.149516  7.783633  8.866912  8.123177  10.051958   \n",
       "7_139_EPG   1.968740   9.440760  8.089498  9.225496  8.305452  10.076825   \n",
       "8_143_EPG   3.292761   9.257610  7.378187  9.258023  8.391952  10.114861   \n",
       "25_158_EPG  3.601332   9.601895  8.111930  9.202191  8.119670  10.177483   \n",
       "24_167_EPG  2.939109   9.774292  8.010696  9.254703  7.807763  10.064117   \n",
       "20_173_EPG  3.373686   9.783801  8.379205  9.015478  8.002503  10.010209   \n",
       "23_155_EPG  3.041223   9.936852  8.667780  8.931376  7.750161  10.017432   \n",
       "21_136_EPG  2.031441   9.740723  8.708245  8.863884  7.894951   9.990210   \n",
       "22_137_EPG  3.580505  10.243413  9.510877  8.727734  8.028350  10.093413   \n",
       "16_161_EPG  2.800466   9.474847  8.259910  8.746277  7.846431   9.973513   \n",
       "17_163_EPG  3.930754  10.211723  8.407254  9.408400  8.039662   9.866266   \n",
       "19_169_EPG  5.801500  10.147405  7.896850  9.069914  8.228465   9.853749   \n",
       "15_160_EPG  3.613319  10.198058  8.177799  9.019643  8.239280   9.994940   \n",
       "18_165_EPG  4.846310  10.379591  8.440282  9.282006  8.374463   9.855736   \n",
       "14_149_EPG  4.298369  10.074343  8.060629  9.013604  8.031354   9.889990   \n",
       "12_140_EPG  4.717768  10.300159  8.361675  9.157204  8.040391   9.755100   \n",
       "13_142_EPG  4.231840  10.818999  8.907027  9.009836  7.610911   9.686835   \n",
       "\n",
       "SYMBOL          Acp5     Actg2    Adam11    Adam12  ...   Gm10639     Tigit  \\\n",
       "1_145_EPG   4.505534  3.028138  3.119304  9.201518  ...  7.438023  1.335431   \n",
       "4_166_EPG   5.190500  3.105605  3.364384  9.505929  ...  7.723283  2.377051   \n",
       "5_168_EPG   5.498156  2.769498  3.656329  9.533529  ...  7.788321  2.971382   \n",
       "3_152_EPG   5.764969  3.672692  3.109881  9.651651  ...  7.105241  1.881996   \n",
       "2_146_EPG   5.774681  4.168030  3.285737  9.247660  ...  6.598648  3.490334   \n",
       "6_138_EPG   5.264978  3.242257  2.941813  9.751641  ...  6.533029  2.224869   \n",
       "11_172_EPG  6.610230  3.269769  3.835519  9.536849  ...  7.504895  3.691178   \n",
       "10_162_EPG  7.340267  3.286988  4.108477  9.712206  ...  5.973131  4.841271   \n",
       "9_150_EPG   9.066670  2.028124  3.338898  8.092596  ...  2.555079  4.630303   \n",
       "7_139_EPG   8.660026  3.008463  4.254630  8.822391  ...  3.077604  5.211001   \n",
       "8_143_EPG   8.107017  2.563301  5.219922  9.320584  ...  2.817659  6.106785   \n",
       "25_158_EPG  8.968655  2.544408  4.244259  8.179427  ...  1.066162  5.613958   \n",
       "24_167_EPG  8.929631  2.144362  2.955051  7.737517  ...  0.000000  5.318487   \n",
       "20_173_EPG  9.365885  2.536996  4.924012  8.060297  ...  1.666384  6.098948   \n",
       "23_155_EPG  8.902468  2.368412  3.204946  7.053164  ...  1.574689  4.298833   \n",
       "21_136_EPG  8.939926  3.242323  3.436904  7.269127  ...  0.838840  5.394793   \n",
       "22_137_EPG  8.904792  3.012445  3.939777  6.712393  ...  0.000000  4.777838   \n",
       "16_161_EPG  9.087363  1.458836  3.645041  7.253556  ...  1.621884  4.717708   \n",
       "17_163_EPG  8.859089  2.753419  6.345581  9.073490  ...  2.472179  7.586389   \n",
       "19_169_EPG  8.545421  1.806956  6.296045  8.793003  ...  1.863591  7.035794   \n",
       "15_160_EPG  8.906127  2.467081  6.007759  8.640987  ...  2.197663  7.214332   \n",
       "18_165_EPG  8.439283  1.377753  6.438797  8.896435  ...  3.772084  7.002954   \n",
       "14_149_EPG  8.931579  3.816618  5.057784  8.331793  ...  0.000000  6.208379   \n",
       "12_140_EPG  8.718494  2.137740  5.287232  7.811467  ...  0.000000  7.352552   \n",
       "13_142_EPG  9.246574  0.882422  4.352595  7.613497  ...  0.000000  6.711095   \n",
       "\n",
       "SYMBOL        Zfp831     Ddx43   Gm17359   Gm17455     Hbb-bs   Micalcl  \\\n",
       "1_145_EPG   0.506911  0.319943  0.000000  0.000000  10.237925  0.660096   \n",
       "4_166_EPG   0.760684  1.256145  1.571205  0.000000  12.532658  1.483951   \n",
       "5_168_EPG   1.669873  1.051211  0.730942  0.000000   9.510558  0.486366   \n",
       "3_152_EPG   1.288756  0.629593  1.927979  0.684715  12.196990  3.326973   \n",
       "2_146_EPG   1.727056  0.875181  1.834455  1.078157  10.247169  1.986662   \n",
       "6_138_EPG   1.240832  0.221998  1.016830  0.635989  10.636423  0.950796   \n",
       "11_172_EPG  2.910263  0.978943  1.696155  0.000000   9.881591  2.138701   \n",
       "10_162_EPG  3.286900  2.385941  1.289706  1.358463   9.309259  2.543235   \n",
       "9_150_EPG   3.813038  1.935134  0.696495  3.179804   9.478030  1.326801   \n",
       "7_139_EPG   3.749423  1.555466  3.116088  0.943100  11.137218  1.352616   \n",
       "8_143_EPG   4.435711  2.076386  3.308618  0.000000  10.382371  3.038780   \n",
       "25_158_EPG  4.304367  1.602171  2.250355  3.992540   9.705428  2.016129   \n",
       "24_167_EPG  3.899879  1.956760  1.471505  2.948318   8.980952  2.548145   \n",
       "20_173_EPG  5.009997  3.247670  2.243291  4.211068   9.622013  2.138947   \n",
       "23_155_EPG  3.494393  1.788821  2.467797  4.528473   8.984780  3.099919   \n",
       "21_136_EPG  4.333802  2.582720  1.488625  3.969521   9.032520  3.248936   \n",
       "22_137_EPG  4.373913  1.624973  2.665265  5.453105   9.695590  2.086510   \n",
       "16_161_EPG  4.247739  1.194793  2.060937  4.433475   8.870090  1.290408   \n",
       "17_163_EPG  6.472749  3.684080  3.513297  2.731076   9.242956  2.523175   \n",
       "19_169_EPG  5.644013  4.261169  4.654108  2.915299   8.725441  4.342318   \n",
       "15_160_EPG  5.612682  3.171943  3.204199  5.005966   9.408516  5.560284   \n",
       "18_165_EPG  6.265473  3.507129  5.274281  2.863771   9.523068  3.158751   \n",
       "14_149_EPG  4.434003  2.161450  4.139354  5.105191   7.579118  2.597115   \n",
       "12_140_EPG  5.461819  3.173374  3.737505  0.000000   8.917947  5.400497   \n",
       "13_142_EPG  4.931653  3.163210  2.831969  5.514925   7.965452  3.946039   \n",
       "\n",
       "SYMBOL       Gm11127        group  \n",
       "1_145_EPG   4.758609  No-response  \n",
       "4_166_EPG   4.677185  No-response  \n",
       "5_168_EPG   5.674678  No-response  \n",
       "3_152_EPG   4.468665  No-response  \n",
       "2_146_EPG   5.300199  No-response  \n",
       "6_138_EPG   5.038224  No-response  \n",
       "11_172_EPG  5.384854  No-response  \n",
       "10_162_EPG  6.758978  No-response  \n",
       "9_150_EPG   7.628633  No-response  \n",
       "7_139_EPG   6.761751  No-response  \n",
       "8_143_EPG   6.681200  No-response  \n",
       "25_158_EPG  7.063026       Stable  \n",
       "24_167_EPG  7.148642       Stable  \n",
       "20_173_EPG  7.112011       Stable  \n",
       "23_155_EPG  6.879425       Stable  \n",
       "21_136_EPG  7.507834       Stable  \n",
       "22_137_EPG  8.354240       Stable  \n",
       "16_161_EPG  7.164966    Responder  \n",
       "17_163_EPG  8.506677    Responder  \n",
       "19_169_EPG  8.363931    Responder  \n",
       "15_160_EPG  8.491724    Responder  \n",
       "18_165_EPG  8.388763    Responder  \n",
       "14_149_EPG  7.532560    Responder  \n",
       "12_140_EPG  8.884693    Responder  \n",
       "13_142_EPG  7.273833    Responder  \n",
       "\n",
       "[25 rows x 2978 columns]"
      ]
     },
     "execution_count": 43,
     "metadata": {},
     "output_type": "execute_result"
    }
   ],
   "source": [
    "rna"
   ]
  },
  {
   "cell_type": "code",
   "execution_count": 39,
   "metadata": {
    "scrolled": true
   },
   "outputs": [],
   "source": [
    "from scipy.stats import ttest_ind"
   ]
  },
  {
   "cell_type": "code",
   "execution_count": 40,
   "metadata": {},
   "outputs": [],
   "source": [
    "cat1 = rna[rna[\"group\"]==\"Responder\"]\n",
    "cat2 = rna[rna[\"group\"]==\"No-response\"]"
   ]
  },
  {
   "cell_type": "code",
   "execution_count": 44,
   "metadata": {
    "scrolled": false
   },
   "outputs": [
    {
     "name": "stdout",
     "output_type": "stream",
     "text": [
      "Haus1\n",
      "B2m\n",
      "Slc25a40\n",
      "Trex1\n",
      "9530003J23Rik\n",
      "Gm15448\n",
      "Lair1\n",
      "Ttest_indResult(statistic=4.9106065857038015, pvalue=0.00013217093351575325)\n",
      "Psmd2\n",
      "Ttest_indResult(statistic=5.139199162898392, pvalue=8.197651065326056e-05)\n",
      "Ttest_indResult(statistic=6.291078378050262, pvalue=8.12637285394906e-06)\n",
      "Ttest_indResult(statistic=4.964861860743424, pvalue=0.00011794569372251271)\n",
      "Ttest_indResult(statistic=4.951694261926699, pvalue=0.00012124736067619624)\n"
     ]
    },
    {
     "data": {
      "text/plain": [
       "<Figure size 144x360 with 0 Axes>"
      ]
     },
     "metadata": {},
     "output_type": "display_data"
    },
    {
     "data": {
      "text/plain": [
       "<Figure size 144x360 with 0 Axes>"
      ]
     },
     "metadata": {},
     "output_type": "display_data"
    },
    {
     "data": {
      "text/plain": [
       "<Figure size 144x360 with 0 Axes>"
      ]
     },
     "metadata": {},
     "output_type": "display_data"
    },
    {
     "data": {
      "text/plain": [
       "<Figure size 144x360 with 0 Axes>"
      ]
     },
     "metadata": {},
     "output_type": "display_data"
    },
    {
     "data": {
      "text/plain": [
       "<Figure size 144x360 with 0 Axes>"
      ]
     },
     "metadata": {},
     "output_type": "display_data"
    },
    {
     "data": {
      "text/plain": [
       "<Figure size 144x360 with 0 Axes>"
      ]
     },
     "metadata": {},
     "output_type": "display_data"
    },
    {
     "data": {
      "text/plain": [
       "<Figure size 144x360 with 0 Axes>"
      ]
     },
     "metadata": {},
     "output_type": "display_data"
    },
    {
     "data": {
      "image/png": "[encoded data removed]",
      "text/plain": [
       "<Figure size 144x360 with 1 Axes>"
      ]
     },
     "metadata": {},
     "output_type": "display_data"
    },
    {
     "data": {
      "text/plain": [
       "<Figure size 144x360 with 0 Axes>"
      ]
     },
     "metadata": {},
     "output_type": "display_data"
    },
    {
     "data": {
      "image/png": "[encoded data removed]",
      "text/plain": [
       "<Figure size 144x360 with 1 Axes>"
      ]
     },
     "metadata": {},
     "output_type": "display_data"
    },
    {
     "data": {
      "image/png": "[encoded data removed]",
      "text/plain": [
       "<Figure size 144x360 with 1 Axes>"
      ]
     },
     "metadata": {},
     "output_type": "display_data"
    },
    {
     "data": {
      "image/png": "[encoded data removed]",
      "text/plain": [
       "<Figure size 144x360 with 1 Axes>"
      ]
     },
     "metadata": {},
     "output_type": "display_data"
    },
    {
     "data": {
      "image/png": "[encoded data removed]",
      "text/plain": [
       "<Figure size 144x360 with 1 Axes>"
      ]
     },
     "metadata": {},
     "output_type": "display_data"
    }
   ],
   "source": [
    "for x in mouse[\"Mouse gene name\"].tolist()+[\"Pirb\"]:\n",
    "    try:\n",
    "        sns.set(style=\"whitegrid\", font_scale = 1)\n",
    "        plt.figure(figsize=(2,5))\n",
    "        ax=sns.boxplot(x=\"group\", y=x,data=rna,color=\"gray\")\n",
    "        plt.ylabel(\"log2 TPM \"+x)\n",
    "        \n",
    "        labels = [item.get_text() for item in ax.get_xticklabels()]\n",
    "        labels=[x+\"\\nn=\"+str(len(rna[rna[\"group\"]==x])) for x in labels]\n",
    "\n",
    "        ax.set_xticklabels(labels)\n",
    "        \n",
    "        plt.xticks(rotation=90)\n",
    "        plt.savefig(\"../plots/\"+x+\".pdf\")\n",
    "        print(ttest_ind(cat1[x], cat2[x]))\n",
    "    except:\n",
    "        print(x)\n",
    "    "
   ]
  },
  {
   "cell_type": "code",
   "execution_count": null,
   "metadata": {},
   "outputs": [],
   "source": []
  },
  {
   "cell_type": "code",
   "execution_count": 120,
   "metadata": {},
   "outputs": [],
   "source": [
    "# for x in rna.columns.tolist()[0:100]:\n",
    "#     try:\n",
    "#         sns.set(style=\"whitegrid\", font_scale = 1)\n",
    "#         plt.figure(figsize=(5,5))\n",
    "#         ax=sns.boxplot(x=\"group\", y=x,data=rna,color=\"gray\")\n",
    "#         plt.ylabel(\"log2 TPM \"+x)\n",
    "#     except:\n",
    "#         print(x)\n",
    "    "
   ]
  },
  {
   "cell_type": "code",
   "execution_count": 46,
   "metadata": {},
   "outputs": [],
   "source": [
    "df=pd.read_csv(\"../data/Exome summary- B2905 & tumors in aCTLA4 study (1).csv\")"
   ]
  },
  {
   "cell_type": "code",
   "execution_count": 47,
   "metadata": {},
   "outputs": [],
   "source": [
    "df=df.T\n",
    "df=df.reset_index()"
   ]
  },
  {
   "cell_type": "code",
   "execution_count": 48,
   "metadata": {},
   "outputs": [],
   "source": [
    "mp_df=dict(zip(df[\"index\"],df[0]))"
   ]
  },
  {
   "cell_type": "code",
   "execution_count": 49,
   "metadata": {},
   "outputs": [],
   "source": [
    "rna=pd.read_csv(\"../data/GSE144946_GEO_GlennRNAseq46_rpkm.txt\",delimiter=\"\\t\")"
   ]
  },
  {
   "cell_type": "code",
   "execution_count": 50,
   "metadata": {},
   "outputs": [],
   "source": [
    "rna=rna.set_index(\"SYMBOL\")"
   ]
  },
  {
   "cell_type": "code",
   "execution_count": 51,
   "metadata": {},
   "outputs": [],
   "source": [
    "cols=[x for x in rna.columns if x in [x for x in mp_df.keys()]]"
   ]
  },
  {
   "cell_type": "code",
   "execution_count": 52,
   "metadata": {},
   "outputs": [],
   "source": [
    "rna_filt=rna[cols]\n",
    "rna_filt=rna_filt.T"
   ]
  },
  {
   "cell_type": "code",
   "execution_count": 53,
   "metadata": {},
   "outputs": [],
   "source": [
    "rna_filt[\"status\"]=rna_filt.index.map(mp_df)"
   ]
  },
  {
   "cell_type": "code",
   "execution_count": 54,
   "metadata": {
    "scrolled": false
   },
   "outputs": [
    {
     "name": "stdout",
     "output_type": "stream",
     "text": [
      "Gm15448\n"
     ]
    },
    {
     "data": {
      "image/png": "[encoded data removed]",
      "text/plain": [
       "<Figure size 144x360 with 1 Axes>"
      ]
     },
     "metadata": {},
     "output_type": "display_data"
    },
    {
     "data": {
      "image/png": "[encoded data removed]",
      "text/plain": [
       "<Figure size 144x360 with 1 Axes>"
      ]
     },
     "metadata": {},
     "output_type": "display_data"
    },
    {
     "data": {
      "image/png": "[encoded data removed]",
      "text/plain": [
       "<Figure size 144x360 with 1 Axes>"
      ]
     },
     "metadata": {},
     "output_type": "display_data"
    },
    {
     "data": {
      "image/png": "[encoded data removed]",
      "text/plain": [
       "<Figure size 144x360 with 1 Axes>"
      ]
     },
     "metadata": {},
     "output_type": "display_data"
    },
    {
     "data": {
      "image/png": "[encoded data removed]",
      "text/plain": [
       "<Figure size 144x360 with 1 Axes>"
      ]
     },
     "metadata": {},
     "output_type": "display_data"
    },
    {
     "data": {
      "text/plain": [
       "<Figure size 144x360 with 0 Axes>"
      ]
     },
     "metadata": {},
     "output_type": "display_data"
    },
    {
     "data": {
      "image/png": "[encoded data removed]",
      "text/plain": [
       "<Figure size 144x360 with 1 Axes>"
      ]
     },
     "metadata": {},
     "output_type": "display_data"
    },
    {
     "data": {
      "image/png": "[encoded data removed]",
      "text/plain": [
       "<Figure size 144x360 with 1 Axes>"
      ]
     },
     "metadata": {},
     "output_type": "display_data"
    },
    {
     "data": {
      "image/png": "[encoded data removed]",
      "text/plain": [
       "<Figure size 144x360 with 1 Axes>"
      ]
     },
     "metadata": {},
     "output_type": "display_data"
    },
    {
     "data": {
      "image/png": "[encoded data removed]",
      "text/plain": [
       "<Figure size 144x360 with 1 Axes>"
      ]
     },
     "metadata": {},
     "output_type": "display_data"
    },
    {
     "data": {
      "image/png": "[encoded data removed]",
      "text/plain": [
       "<Figure size 144x360 with 1 Axes>"
      ]
     },
     "metadata": {},
     "output_type": "display_data"
    },
    {
     "data": {
      "image/png": "[encoded data removed]",
      "text/plain": [
       "<Figure size 144x360 with 1 Axes>"
      ]
     },
     "metadata": {},
     "output_type": "display_data"
    },
    {
     "data": {
      "image/png": "[encoded data removed]",
      "text/plain": [
       "<Figure size 144x360 with 1 Axes>"
      ]
     },
     "metadata": {},
     "output_type": "display_data"
    }
   ],
   "source": [
    "for x in mouse[\"Mouse gene name\"].tolist()+[\"Pirb\"]:\n",
    "    try:\n",
    "        sns.set(style=\"whitegrid\", font_scale = 1)\n",
    "        plt.figure(figsize=(2,5))\n",
    "        ax=sns.boxplot(x=\"status\", y=x,data=rna_filt,color=\"gray\")\n",
    "        plt.ylabel(\"log2 TPM \"+x)\n",
    "        plt.xticks(rotation=90)\n",
    "        \n",
    "        labels = [item.get_text() for item in ax.get_xticklabels()]\n",
    "        labels=[x+\"\\nn=\"+str(len(rna_filt[rna_filt[\"status\"]==x])) for x in labels]\n",
    "\n",
    "        ax.set_xticklabels(labels)\n",
    "        plt.savefig(\"../plots/\"+x+\".pdf\")\n",
    "    except:\n",
    "        print(x)\n",
    "    "
   ]
  },
  {
   "cell_type": "code",
   "execution_count": 131,
   "metadata": {},
   "outputs": [
    {
     "data": {
      "text/plain": [
       "NR    2\n",
       "RG    2\n",
       "R     1\n",
       "Name: status, dtype: int64"
      ]
     },
     "execution_count": 131,
     "metadata": {},
     "output_type": "execute_result"
    }
   ],
   "source": [
    "rna_filt[\"status\"].value_counts()"
   ]
  },
  {
   "cell_type": "code",
   "execution_count": null,
   "metadata": {},
   "outputs": [],
   "source": []
  },
  {
   "cell_type": "code",
   "execution_count": null,
   "metadata": {},
   "outputs": [],
   "source": []
  },
  {
   "cell_type": "code",
   "execution_count": null,
   "metadata": {},
   "outputs": [],
   "source": [
    "r"
   ]
  },
  {
   "cell_type": "code",
   "execution_count": null,
   "metadata": {},
   "outputs": [],
   "source": []
  }
 ],
 "metadata": {
  "kernelspec": {
   "display_name": "Python 3",
   "language": "python",
   "name": "python3"
  },
  "language_info": {
   "codemirror_mode": {
    "name": "ipython",
    "version": 3
   },
   "file_extension": ".py",
   "mimetype": "text/x-python",
   "name": "python",
   "nbconvert_exporter": "python",
   "pygments_lexer": "ipython3",
   "version": "3.7.7"
  }
 },
 "nbformat": 4,
 "nbformat_minor": 4
}
