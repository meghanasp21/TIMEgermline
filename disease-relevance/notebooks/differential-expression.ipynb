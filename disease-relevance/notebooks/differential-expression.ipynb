{
 "cells": [
  {
   "cell_type": "code",
   "execution_count": 165,
   "metadata": {},
   "outputs": [],
   "source": [
    "import pandas as pd\n",
    "import os\n",
    "import json\n",
    "import numpy as np"
   ]
  },
  {
   "cell_type": "code",
   "execution_count": 166,
   "metadata": {},
   "outputs": [],
   "source": [
    "import matplotlib.pyplot as plt\n",
    "import seaborn as sns\n",
    "sns.set_style('white')\n",
    "%matplotlib inline"
   ]
  },
  {
   "cell_type": "markdown",
   "metadata": {},
   "source": [
    "## Get bad apples"
   ]
  },
  {
   "cell_type": "code",
   "execution_count": 167,
   "metadata": {},
   "outputs": [],
   "source": [
    "err=pd.read_csv(\"/nrnb/users/mpagadal/immunotherapy-trials/scripts/err/featurecounts.err\",header=None)"
   ]
  },
  {
   "cell_type": "code",
   "execution_count": 168,
   "metadata": {},
   "outputs": [],
   "source": [
    "err[\"sample_id\"]=err[0].str.split(\".\").str[4]\n",
    "err[\"sample_id\"]=err[\"sample_id\"].astype(int)\n",
    "err[\"percent\"]=err[0].str.split(\"(\").str[1]\n",
    "err[\"percent\"]=err[\"percent\"].str.split(\"%\").str[0]\n",
    "err[\"percent\"]=err[\"percent\"].astype(float)"
   ]
  },
  {
   "cell_type": "code",
   "execution_count": 169,
   "metadata": {},
   "outputs": [],
   "source": [
    "ids=\"SRR2779596 SRR6468347 SRR6468265 SRR5088829 SRR6450206 SRR6468342 SRR6504589 SRR5088905 SRR3184301 SRR3184295 SRR6450230 SRR5088826 SRR6447681 SRR2661602 SRR5088894 SRR3184304 SRR6468304 SRR6461175 SRR6461161 SRR2660032 SRR5088871 SRR3184291 SRR6504590 SRR2757338 SRR2779183 SRR6468316 SRR6468320 SRR5088926 SRR2779097 SRR6461151 SRR5088816 SRR5088906 SRR6468343 SRR3184294 SRR6447677 SRR5088903 SRR5088909 SRR6461173 SRR3184300 SRR5088896 SRR5088814 SRR7475534 SRR6468330 SRR2679013 SRR2778361 SRR6461168 SRR5088915 SRR2712420 SRR6468313 SRR2775133 SRR2771617 SRR2665516 SRR5088813 SRR2669446 SRR2778056 SRR2717684 SRR6450222 SRR3184283 SRR5088841 SRR5088916 SRR5088877 SRR6468341 SRR5088885 SRR6504588 SRR6461171 SRR5088887 SRR6450189 SRR6468321 SRR5088854 SRR6447678 SRR5088918 SRR6504580 SRR6468314 SRR6461169 SRR5088872 SRR6450195 SRR6504841 SRR2674135 SRR6468325 SRR6450191 SRR5088819 SRR6504591 SRR5088836 SRR7475553 SRR5088882 SRR5088867 SRR2753064 SRR5088830 SRR5088878 SRR6461177 SRR5088892 SRR6461147 SRR5088924 SRR5088847 SRR6504584 SRR6468339 SRR5088880 SRR6468312 SRR5088920 SRR5088895 SRR2755094 SRR6468264 SRR5088929 SRR5088850 SRR2773626 SRR6504582 SRR5088851 SRR6461160 SRR5088856 SRR6461181 SRR7475532 SRR6468266 SRR5088904 SRR5088862 SRR6468306 SRR7526866 SRR6468346 SRR2780299 SRR6450228 SRR6468375 SRR5088857 SRR6468311 SRR6447676 SRR6511549 SRR6468344 SRR6461170 SRR5088822 SRR6491482 SRR6461157 SRR2771207 SRR6461165 SRR6461159 SRR5088835 SRR5088860 SRR2780275 SRR5088845 SRR7475545 SRR5088852 SRR6450232 SRR5088831 SRR6889242 SRR6504583 SRR5088853 SRR3184303 SRR6468328 SRR6468326 SRR6468319 SRR3184293 SRR2774280 SRR6447680 SRR2701663 SRR5088837 SRR7475552 SRR6504587 SRR6468335 SRR6468332 SRR2689710 SRR3184302 SRR6461179 SRR6450198 SRR7475519 SRR2777326 SRR6468317 SRR6461182 SRR3184281 SRR5088890 SRR6461166 SRR5088914 SRR5088828 SRR2703695 SRR6468301 SRR6461163 SRR3184285 SRR6468334 SRR5088839 SRR6468309 SRR7475518 SRR3184306 SRR3184297 SRR6450201 SRR7475533 SRR2751521 SRR6450202 SRR5088913 SRR2777217 SRR2727854 SRR6468318 SRR6461174 SRR2681702 SRR6468322 SRR6468324 SRR5088899 SRR5088900 SRR5088820 SRR6511548 SRR5088858 SRR6468373 SRR5088883 SRR6468374 SRR6450226 SRR6461152 SRR7475535 SRR5088886 SRR2757072 SRR6461167 SRR6450199 SRR6511553 SRR2700736 SRR6461180 SRR6468345 SRR5088922 SRR2778609 SRR3184305 SRR6468303 SRR6461143 SRR7475517 SRR5088865 SRR6461150 SRR5088833 SRR6504840 SRR6461153 SRR5088919 SRR6450205 SRR3184299 SRR6450194 SRR3083584 SRR6461172 SRR6450197 SRR6461145 SRR5088917 SRR2778466 SRR5088927 SRR6468310 SRR7475525 SRR5088842 SRR6468315 SRR5088840 SRR6468323 SRR5088823 SRR5088908 SRR5088879 SRR6450223 SRR3184290 SRR3184282 SRR6461178 SRR6468307 SRR6447690 SRR3184288 SRR3184284 SRR5088907 SRR3184296 SRR5088827 SRR5088864 SRR2774182 SRR6450231 SRR6504839 SRR6450225 SRR6461156 SRR5088893 SRR2771331 SRR2771286 SRR7475551 SRR2675767 SRR6447675 SRR6468300 SRR2777065 SRR6504838 SRR6461149 SRR6504837 SRR5088925 SRR5088846 SRR3184292 SRR5088855 SRR5088861 SRR6461146 SRR5088838 SRR5088930 SRR6450203 SRR5088874 SRR6461164 SRR5088859 SRR7526841 SRR6468337 SRR6450204 SRR5088817 SRR5088821 SRR5088891 SRR6468263 SRR3184279 SRR5088849 SRR6511552 SRR6461148 SRR5088911 SRR5088824 SRR5088834 SRR5088912 SRR6450224 SRR2774183 SRR6468267 SRR6450193 SRR2771707 SRR5088818 SRR5088888 SRR2770872 SRR5088843 SRR2778078 SRR5088928 SRR5088844 SRR6461176 SRR6504585 SRR6468305 SRR5088825 SRR3184298 SRR3184287 SRR7475531 SRR5088897 SRR5088898 SRR2780123 SRR3184286 SRR6511550 SRR6468348 SRR6461158 SRR6450190 SRR5088848 SRR6468336 SRR6468331 SRR2672095 SRR6468302 SRR6461144 SRR2661579 SRR6461142 SRR3083781 SRR6450200 SRR6468308 SRR6468338 SRR5088870 SRR6511551 SRR6450196 SRR6468333 SRR6468327 SRR2772780 SRR5088921 SRR5088923 SRR3184280 SRR6450192 SRR3184289 SRR2689711 SRR6461155 SRR5088866 SRR5088889 SRR6461162 SRR5088815 SRR6450227 SRR5088832 SRR2774418 SRR6450229 SRR5088910 SRR6468340 SRR6461154 SRR6504581 SRR6504586 SRR6468329 SRR5088873 SRR6504836 SRR2777976\""
   ]
  },
  {
   "cell_type": "code",
   "execution_count": 170,
   "metadata": {},
   "outputs": [],
   "source": [
    "dic={}\n",
    "\n",
    "for i,x in enumerate(ids.split(\" \")):\n",
    "    dic[i+1]=x"
   ]
  },
  {
   "cell_type": "code",
   "execution_count": 171,
   "metadata": {},
   "outputs": [],
   "source": [
    "err[\"id\"]=err[\"sample_id\"].map(dic)"
   ]
  },
  {
   "cell_type": "code",
   "execution_count": 172,
   "metadata": {},
   "outputs": [],
   "source": [
    "good_rna=err[err[\"percent\"]>50][\"id\"].tolist()"
   ]
  },
  {
   "cell_type": "markdown",
   "metadata": {},
   "source": [
    "## Get counts"
   ]
  },
  {
   "cell_type": "code",
   "execution_count": 173,
   "metadata": {},
   "outputs": [],
   "source": [
    "directory=\"/nrnb/users/mpagadal/immunotherapy-trials/rna/featurecounts2/\""
   ]
  },
  {
   "cell_type": "code",
   "execution_count": 174,
   "metadata": {},
   "outputs": [],
   "source": [
    "files=[x for x in os.listdir(directory) if x.endswith(\".counts\")]"
   ]
  },
  {
   "cell_type": "code",
   "execution_count": 175,
   "metadata": {
    "scrolled": true
   },
   "outputs": [
    {
     "name": "stdout",
     "output_type": "stream",
     "text": [
      "0\n",
      "10\n",
      "20\n",
      "30\n",
      "40\n",
      "50\n",
      "60\n",
      "70\n",
      "80\n",
      "90\n",
      "100\n",
      "110\n",
      "120\n",
      "130\n",
      "140\n",
      "150\n",
      "160\n",
      "170\n",
      "180\n",
      "190\n",
      "200\n",
      "210\n",
      "220\n",
      "230\n",
      "240\n",
      "250\n",
      "260\n",
      "270\n",
      "280\n",
      "290\n",
      "300\n",
      "310\n",
      "320\n",
      "330\n",
      "340\n",
      "350\n",
      "360\n"
     ]
    }
   ],
   "source": [
    "compiled=pd.read_csv(directory+files[0],delimiter=\"\\t\",comment=\"#\")\n",
    "\n",
    "for i,x in enumerate(files[1:]):\n",
    "    if i % 10 == 0:\n",
    "        print(i)\n",
    "    df=pd.read_csv(directory+x,delimiter=\"\\t\",comment=\"#\")\n",
    "    compiled=pd.merge(compiled,df,on=[\"Geneid\",\"Chr\",\"Start\",\"End\",\"Strand\",\"Length\"])\n",
    "    "
   ]
  },
  {
   "cell_type": "code",
   "execution_count": 176,
   "metadata": {},
   "outputs": [],
   "source": [
    "#extract gene length from featureCounts dataframe\n",
    "mp_length=dict(zip(compiled[\"Geneid\"],compiled[\"Length\"]))"
   ]
  },
  {
   "cell_type": "code",
   "execution_count": 177,
   "metadata": {},
   "outputs": [
    {
     "data": {
      "text/html": [
       "<div>\n",
       "<style scoped>\n",
       "    .dataframe tbody tr th:only-of-type {\n",
       "        vertical-align: middle;\n",
       "    }\n",
       "\n",
       "    .dataframe tbody tr th {\n",
       "        vertical-align: top;\n",
       "    }\n",
       "\n",
       "    .dataframe thead th {\n",
       "        text-align: right;\n",
       "    }\n",
       "</style>\n",
       "<table border=\"1\" class=\"dataframe\">\n",
       "  <thead>\n",
       "    <tr style=\"text-align: right;\">\n",
       "      <th></th>\n",
       "      <th>SRR7475535.sra</th>\n",
       "      <th>SRR6468263.sra</th>\n",
       "      <th>SRR5088877.sra</th>\n",
       "      <th>SRR5088874.sra</th>\n",
       "      <th>SRR5088898.sra</th>\n",
       "      <th>SRR5088840.sra</th>\n",
       "      <th>SRR5088854.sra</th>\n",
       "      <th>SRR6468307.sra</th>\n",
       "      <th>SRR6468344.sra</th>\n",
       "      <th>SRR6461154.sra</th>\n",
       "      <th>...</th>\n",
       "      <th>SRR5088822.sra</th>\n",
       "      <th>SRR6468316.sra</th>\n",
       "      <th>SRR6468302.sra</th>\n",
       "      <th>SRR5088896.sra</th>\n",
       "      <th>SRR3184299.sra</th>\n",
       "      <th>SRR6461181.sra</th>\n",
       "      <th>SRR5088850.sra</th>\n",
       "      <th>SRR3184304.sra</th>\n",
       "      <th>SRR2774183.sra</th>\n",
       "      <th>SRR2775133.sra</th>\n",
       "    </tr>\n",
       "    <tr>\n",
       "      <th>Geneid</th>\n",
       "      <th></th>\n",
       "      <th></th>\n",
       "      <th></th>\n",
       "      <th></th>\n",
       "      <th></th>\n",
       "      <th></th>\n",
       "      <th></th>\n",
       "      <th></th>\n",
       "      <th></th>\n",
       "      <th></th>\n",
       "      <th></th>\n",
       "      <th></th>\n",
       "      <th></th>\n",
       "      <th></th>\n",
       "      <th></th>\n",
       "      <th></th>\n",
       "      <th></th>\n",
       "      <th></th>\n",
       "      <th></th>\n",
       "      <th></th>\n",
       "      <th></th>\n",
       "    </tr>\n",
       "  </thead>\n",
       "  <tbody>\n",
       "    <tr>\n",
       "      <th>ENSG00000223972.4</th>\n",
       "      <td>0</td>\n",
       "      <td>465</td>\n",
       "      <td>1</td>\n",
       "      <td>0</td>\n",
       "      <td>0</td>\n",
       "      <td>0</td>\n",
       "      <td>0</td>\n",
       "      <td>0</td>\n",
       "      <td>673</td>\n",
       "      <td>428</td>\n",
       "      <td>...</td>\n",
       "      <td>0</td>\n",
       "      <td>830</td>\n",
       "      <td>683</td>\n",
       "      <td>0</td>\n",
       "      <td>0</td>\n",
       "      <td>777</td>\n",
       "      <td>0</td>\n",
       "      <td>0</td>\n",
       "      <td>32</td>\n",
       "      <td>3</td>\n",
       "    </tr>\n",
       "    <tr>\n",
       "      <th>ENSG00000227232.4</th>\n",
       "      <td>0</td>\n",
       "      <td>650</td>\n",
       "      <td>64</td>\n",
       "      <td>120</td>\n",
       "      <td>40</td>\n",
       "      <td>47</td>\n",
       "      <td>57</td>\n",
       "      <td>0</td>\n",
       "      <td>868</td>\n",
       "      <td>683</td>\n",
       "      <td>...</td>\n",
       "      <td>46</td>\n",
       "      <td>1296</td>\n",
       "      <td>948</td>\n",
       "      <td>64</td>\n",
       "      <td>426</td>\n",
       "      <td>1099</td>\n",
       "      <td>96</td>\n",
       "      <td>302</td>\n",
       "      <td>109</td>\n",
       "      <td>77</td>\n",
       "    </tr>\n",
       "    <tr>\n",
       "      <th>ENSG00000243485.2</th>\n",
       "      <td>0</td>\n",
       "      <td>4</td>\n",
       "      <td>0</td>\n",
       "      <td>0</td>\n",
       "      <td>0</td>\n",
       "      <td>0</td>\n",
       "      <td>0</td>\n",
       "      <td>0</td>\n",
       "      <td>3</td>\n",
       "      <td>4</td>\n",
       "      <td>...</td>\n",
       "      <td>0</td>\n",
       "      <td>2</td>\n",
       "      <td>3</td>\n",
       "      <td>0</td>\n",
       "      <td>0</td>\n",
       "      <td>6</td>\n",
       "      <td>0</td>\n",
       "      <td>0</td>\n",
       "      <td>25</td>\n",
       "      <td>0</td>\n",
       "    </tr>\n",
       "    <tr>\n",
       "      <th>ENSG00000237613.2</th>\n",
       "      <td>0</td>\n",
       "      <td>9</td>\n",
       "      <td>0</td>\n",
       "      <td>0</td>\n",
       "      <td>0</td>\n",
       "      <td>0</td>\n",
       "      <td>0</td>\n",
       "      <td>0</td>\n",
       "      <td>8</td>\n",
       "      <td>20</td>\n",
       "      <td>...</td>\n",
       "      <td>0</td>\n",
       "      <td>22</td>\n",
       "      <td>10</td>\n",
       "      <td>0</td>\n",
       "      <td>0</td>\n",
       "      <td>28</td>\n",
       "      <td>0</td>\n",
       "      <td>0</td>\n",
       "      <td>0</td>\n",
       "      <td>0</td>\n",
       "    </tr>\n",
       "    <tr>\n",
       "      <th>ENSG00000268020.2</th>\n",
       "      <td>0</td>\n",
       "      <td>0</td>\n",
       "      <td>0</td>\n",
       "      <td>0</td>\n",
       "      <td>0</td>\n",
       "      <td>0</td>\n",
       "      <td>0</td>\n",
       "      <td>0</td>\n",
       "      <td>0</td>\n",
       "      <td>1</td>\n",
       "      <td>...</td>\n",
       "      <td>0</td>\n",
       "      <td>0</td>\n",
       "      <td>0</td>\n",
       "      <td>0</td>\n",
       "      <td>0</td>\n",
       "      <td>1</td>\n",
       "      <td>0</td>\n",
       "      <td>0</td>\n",
       "      <td>0</td>\n",
       "      <td>0</td>\n",
       "    </tr>\n",
       "  </tbody>\n",
       "</table>\n",
       "<p>5 rows × 365 columns</p>\n",
       "</div>"
      ],
      "text/plain": [
       "                   SRR7475535.sra  SRR6468263.sra  SRR5088877.sra  \\\n",
       "Geneid                                                              \n",
       "ENSG00000223972.4               0             465               1   \n",
       "ENSG00000227232.4               0             650              64   \n",
       "ENSG00000243485.2               0               4               0   \n",
       "ENSG00000237613.2               0               9               0   \n",
       "ENSG00000268020.2               0               0               0   \n",
       "\n",
       "                   SRR5088874.sra  SRR5088898.sra  SRR5088840.sra  \\\n",
       "Geneid                                                              \n",
       "ENSG00000223972.4               0               0               0   \n",
       "ENSG00000227232.4             120              40              47   \n",
       "ENSG00000243485.2               0               0               0   \n",
       "ENSG00000237613.2               0               0               0   \n",
       "ENSG00000268020.2               0               0               0   \n",
       "\n",
       "                   SRR5088854.sra  SRR6468307.sra  SRR6468344.sra  \\\n",
       "Geneid                                                              \n",
       "ENSG00000223972.4               0               0             673   \n",
       "ENSG00000227232.4              57               0             868   \n",
       "ENSG00000243485.2               0               0               3   \n",
       "ENSG00000237613.2               0               0               8   \n",
       "ENSG00000268020.2               0               0               0   \n",
       "\n",
       "                   SRR6461154.sra  ...  SRR5088822.sra  SRR6468316.sra  \\\n",
       "Geneid                             ...                                   \n",
       "ENSG00000223972.4             428  ...               0             830   \n",
       "ENSG00000227232.4             683  ...              46            1296   \n",
       "ENSG00000243485.2               4  ...               0               2   \n",
       "ENSG00000237613.2              20  ...               0              22   \n",
       "ENSG00000268020.2               1  ...               0               0   \n",
       "\n",
       "                   SRR6468302.sra  SRR5088896.sra  SRR3184299.sra  \\\n",
       "Geneid                                                              \n",
       "ENSG00000223972.4             683               0               0   \n",
       "ENSG00000227232.4             948              64             426   \n",
       "ENSG00000243485.2               3               0               0   \n",
       "ENSG00000237613.2              10               0               0   \n",
       "ENSG00000268020.2               0               0               0   \n",
       "\n",
       "                   SRR6461181.sra  SRR5088850.sra  SRR3184304.sra  \\\n",
       "Geneid                                                              \n",
       "ENSG00000223972.4             777               0               0   \n",
       "ENSG00000227232.4            1099              96             302   \n",
       "ENSG00000243485.2               6               0               0   \n",
       "ENSG00000237613.2              28               0               0   \n",
       "ENSG00000268020.2               1               0               0   \n",
       "\n",
       "                   SRR2774183.sra  SRR2775133.sra  \n",
       "Geneid                                             \n",
       "ENSG00000223972.4              32               3  \n",
       "ENSG00000227232.4             109              77  \n",
       "ENSG00000243485.2              25               0  \n",
       "ENSG00000237613.2               0               0  \n",
       "ENSG00000268020.2               0               0  \n",
       "\n",
       "[5 rows x 365 columns]"
      ]
     },
     "execution_count": 177,
     "metadata": {},
     "output_type": "execute_result"
    }
   ],
   "source": [
    "compiled.columns=[x.split(\"/\")[-1].split(\"Aligned.sortedByCoord.out.bam\")[0] for x in compiled.columns] #reformat columns\n",
    "compiled.drop(['Chr','Start','End','Strand','Length'], \n",
    "           axis=1, inplace=True)\n",
    "compiled=compiled.set_index(\"Geneid\")\n",
    "compiled.head()"
   ]
  },
  {
   "cell_type": "markdown",
   "metadata": {},
   "source": [
    "### Get conditions and groups"
   ]
  },
  {
   "cell_type": "code",
   "execution_count": 137,
   "metadata": {},
   "outputs": [],
   "source": [
    "df=pd.DataFrame({\"ids\":compiled.columns.tolist()}) #get count dataframe columns\n",
    "df=df.set_index(\"ids\")\n",
    "df.index=df.index.str.split(\".\").str[0]"
   ]
  },
  {
   "cell_type": "code",
   "execution_count": 138,
   "metadata": {},
   "outputs": [],
   "source": [
    "#get mapping file\n",
    "mapping=pd.read_csv(\"/nrnb/users/carterlab/immunotherapy-trials/wxs_rna_mapping_table.tsv\",delimiter=\"\\t\")\n",
    "mapping=mapping[~(mapping[\"tumor RNA id\"].isnull())]\n",
    "mp_geno2rna=dict(zip(mapping[\"tumor RNA id\"],mapping[\"normal WXS id\"]))"
   ]
  },
  {
   "cell_type": "code",
   "execution_count": 139,
   "metadata": {},
   "outputs": [],
   "source": [
    "mp_study=dict(zip(mapping[\"tumor RNA id\"],mapping[\"study\"]))\n",
    "mp_time=dict(zip(mapping[\"tumor RNA id\"],mapping[\"Biopsy Time\"]))"
   ]
  },
  {
   "cell_type": "code",
   "execution_count": 140,
   "metadata": {},
   "outputs": [],
   "source": [
    "df[\"study\"]=df.index.map(mp_study)\n",
    "df[\"time\"]=df.index.map(mp_time)"
   ]
  },
  {
   "cell_type": "code",
   "execution_count": 141,
   "metadata": {},
   "outputs": [],
   "source": [
    "df_pre=df[~df[\"time\"].isin([\"On\",\"on-treatment\"])]"
   ]
  },
  {
   "cell_type": "code",
   "execution_count": 142,
   "metadata": {},
   "outputs": [
    {
     "name": "stderr",
     "output_type": "stream",
     "text": [
      "/nrnb/opt/anaconda3.7/lib/python3.7/site-packages/ipykernel_launcher.py:1: SettingWithCopyWarning: \n",
      "A value is trying to be set on a copy of a slice from a DataFrame.\n",
      "Try using .loc[row_indexer,col_indexer] = value instead\n",
      "\n",
      "See the caveats in the documentation: https://pandas.pydata.org/pandas-docs/stable/user_guide/indexing.html#returning-a-view-versus-a-copy\n",
      "  \"\"\"Entry point for launching an IPython kernel.\n"
     ]
    }
   ],
   "source": [
    "df_pre[\"nml wxs\"]=df_pre.index.map(mp_geno2rna)"
   ]
  },
  {
   "cell_type": "code",
   "execution_count": 143,
   "metadata": {},
   "outputs": [],
   "source": [
    "df_norm=df_pre[~df_pre[\"nml wxs\"].isnull()]"
   ]
  },
  {
   "cell_type": "code",
   "execution_count": 144,
   "metadata": {},
   "outputs": [],
   "source": [
    "mp_response=dict(zip(mapping[\"normal WXS id\"],mapping[\"partial.sd.coding\"]))"
   ]
  },
  {
   "cell_type": "code",
   "execution_count": 145,
   "metadata": {},
   "outputs": [
    {
     "name": "stderr",
     "output_type": "stream",
     "text": [
      "/nrnb/opt/anaconda3.7/lib/python3.7/site-packages/ipykernel_launcher.py:1: SettingWithCopyWarning: \n",
      "A value is trying to be set on a copy of a slice from a DataFrame.\n",
      "Try using .loc[row_indexer,col_indexer] = value instead\n",
      "\n",
      "See the caveats in the documentation: https://pandas.pydata.org/pandas-docs/stable/user_guide/indexing.html#returning-a-view-versus-a-copy\n",
      "  \"\"\"Entry point for launching an IPython kernel.\n",
      "/nrnb/opt/anaconda3.7/lib/python3.7/site-packages/ipykernel_launcher.py:3: SettingWithCopyWarning: \n",
      "A value is trying to be set on a copy of a slice from a DataFrame.\n",
      "Try using .loc[row_indexer,col_indexer] = value instead\n",
      "\n",
      "See the caveats in the documentation: https://pandas.pydata.org/pandas-docs/stable/user_guide/indexing.html#returning-a-view-versus-a-copy\n",
      "  This is separate from the ipykernel package so we can avoid doing imports until\n"
     ]
    }
   ],
   "source": [
    "df_norm[\"response\"]=df_norm[\"nml wxs\"].map(mp_response)\n",
    "mp={2:\"RESPONDER\",1:\"NONRESPONDER\"}\n",
    "df_norm[\"response\"]=df_norm[\"response\"].map(mp)"
   ]
  },
  {
   "cell_type": "code",
   "execution_count": 146,
   "metadata": {},
   "outputs": [],
   "source": [
    "df_norm.index=df_norm.index+\".sra\""
   ]
  },
  {
   "cell_type": "code",
   "execution_count": 147,
   "metadata": {},
   "outputs": [
    {
     "data": {
      "text/plain": [
       "riaz        46\n",
       "vanallen    40\n",
       "miao        33\n",
       "hugo        26\n",
       "Name: study, dtype: int64"
      ]
     },
     "execution_count": 147,
     "metadata": {},
     "output_type": "execute_result"
    }
   ],
   "source": [
    "df_norm[\"study\"].value_counts()"
   ]
  },
  {
   "cell_type": "code",
   "execution_count": 148,
   "metadata": {},
   "outputs": [],
   "source": [
    "df_norm=df_norm[(df_norm[\"study\"]==\"riaz\")]"
   ]
  },
  {
   "cell_type": "code",
   "execution_count": 149,
   "metadata": {},
   "outputs": [],
   "source": [
    "bad=[]\n",
    "\n",
    "for y in compiled_test.columns:\n",
    "    if y.split(\".\")[0] not in good_rna:\n",
    "        bad.append(y)"
   ]
  },
  {
   "cell_type": "code",
   "execution_count": 150,
   "metadata": {},
   "outputs": [],
   "source": [
    "df_norm_clean=df_norm[~(df_norm.index.isin(bad))]"
   ]
  },
  {
   "cell_type": "code",
   "execution_count": 152,
   "metadata": {},
   "outputs": [],
   "source": [
    "df_norm_clean.to_csv(\"../data/deseq2.conditions.txt\")"
   ]
  },
  {
   "cell_type": "code",
   "execution_count": 153,
   "metadata": {},
   "outputs": [],
   "source": [
    "compiled[df_norm_clean.index.tolist()].to_csv(\"../data/deseq2.counts.txt\")"
   ]
  },
  {
   "cell_type": "markdown",
   "metadata": {},
   "source": [
    "## Get DESeq2 results"
   ]
  },
  {
   "cell_type": "code",
   "execution_count": 154,
   "metadata": {},
   "outputs": [],
   "source": [
    "deseq2=pd.read_csv(\"../data/DESeq2.responder.notresponder.riaz.csv\")"
   ]
  },
  {
   "cell_type": "code",
   "execution_count": 155,
   "metadata": {},
   "outputs": [],
   "source": [
    "with open('/cellar/users/mpagadal/Data/resources/tcga/ensembl_map.json', 'r') as f:\n",
    "    ensembl = json.load(f)"
   ]
  },
  {
   "cell_type": "code",
   "execution_count": 156,
   "metadata": {},
   "outputs": [],
   "source": [
    "ensembl={k.split(\".\")[0]:v for k,v in ensembl.items()}"
   ]
  },
  {
   "cell_type": "code",
   "execution_count": 157,
   "metadata": {},
   "outputs": [],
   "source": [
    "deseq2[\"Unnamed: 0\"]=deseq2[\"Unnamed: 0\"].str.split(\".\").str[0]\n",
    "deseq2[\"gene name\"]=deseq2[\"Unnamed: 0\"].map(ensembl)"
   ]
  },
  {
   "cell_type": "code",
   "execution_count": 158,
   "metadata": {},
   "outputs": [],
   "source": [
    "deseq2[\"-log10p\"]=-np.log10(deseq2[\"padj\"])"
   ]
  },
  {
   "cell_type": "code",
   "execution_count": 159,
   "metadata": {},
   "outputs": [
    {
     "data": {
      "text/html": [
       "<div>\n",
       "<style scoped>\n",
       "    .dataframe tbody tr th:only-of-type {\n",
       "        vertical-align: middle;\n",
       "    }\n",
       "\n",
       "    .dataframe tbody tr th {\n",
       "        vertical-align: top;\n",
       "    }\n",
       "\n",
       "    .dataframe thead th {\n",
       "        text-align: right;\n",
       "    }\n",
       "</style>\n",
       "<table border=\"1\" class=\"dataframe\">\n",
       "  <thead>\n",
       "    <tr style=\"text-align: right;\">\n",
       "      <th></th>\n",
       "      <th>Unnamed: 0</th>\n",
       "      <th>baseMean</th>\n",
       "      <th>log2FoldChange</th>\n",
       "      <th>lfcSE</th>\n",
       "      <th>stat</th>\n",
       "      <th>pvalue</th>\n",
       "      <th>padj</th>\n",
       "      <th>gene name</th>\n",
       "      <th>-log10p</th>\n",
       "    </tr>\n",
       "  </thead>\n",
       "  <tbody>\n",
       "    <tr>\n",
       "      <th>0</th>\n",
       "      <td>ENSG00000223972</td>\n",
       "      <td>0.333932</td>\n",
       "      <td>-0.209140</td>\n",
       "      <td>2.962339</td>\n",
       "      <td>-0.070599</td>\n",
       "      <td>0.943717</td>\n",
       "      <td>NaN</td>\n",
       "      <td>DDX11L1</td>\n",
       "      <td>NaN</td>\n",
       "    </tr>\n",
       "    <tr>\n",
       "      <th>1</th>\n",
       "      <td>ENSG00000227232</td>\n",
       "      <td>84.692952</td>\n",
       "      <td>-0.148756</td>\n",
       "      <td>0.222867</td>\n",
       "      <td>-0.667464</td>\n",
       "      <td>0.504476</td>\n",
       "      <td>0.974525</td>\n",
       "      <td>WASH7P</td>\n",
       "      <td>0.011207</td>\n",
       "    </tr>\n",
       "    <tr>\n",
       "      <th>2</th>\n",
       "      <td>ENSG00000238009</td>\n",
       "      <td>3.065353</td>\n",
       "      <td>-0.589673</td>\n",
       "      <td>0.733822</td>\n",
       "      <td>-0.803564</td>\n",
       "      <td>0.421649</td>\n",
       "      <td>0.965466</td>\n",
       "      <td>RP11-34P13.7</td>\n",
       "      <td>0.015263</td>\n",
       "    </tr>\n",
       "    <tr>\n",
       "      <th>3</th>\n",
       "      <td>ENSG00000233750</td>\n",
       "      <td>0.305262</td>\n",
       "      <td>-0.066008</td>\n",
       "      <td>1.352826</td>\n",
       "      <td>-0.048793</td>\n",
       "      <td>0.961084</td>\n",
       "      <td>NaN</td>\n",
       "      <td>CICP27</td>\n",
       "      <td>NaN</td>\n",
       "    </tr>\n",
       "    <tr>\n",
       "      <th>4</th>\n",
       "      <td>ENSG00000237683</td>\n",
       "      <td>36.685130</td>\n",
       "      <td>-0.104531</td>\n",
       "      <td>0.384350</td>\n",
       "      <td>-0.271967</td>\n",
       "      <td>0.785647</td>\n",
       "      <td>0.987867</td>\n",
       "      <td>NaN</td>\n",
       "      <td>0.005301</td>\n",
       "    </tr>\n",
       "  </tbody>\n",
       "</table>\n",
       "</div>"
      ],
      "text/plain": [
       "        Unnamed: 0   baseMean  log2FoldChange     lfcSE      stat    pvalue  \\\n",
       "0  ENSG00000223972   0.333932       -0.209140  2.962339 -0.070599  0.943717   \n",
       "1  ENSG00000227232  84.692952       -0.148756  0.222867 -0.667464  0.504476   \n",
       "2  ENSG00000238009   3.065353       -0.589673  0.733822 -0.803564  0.421649   \n",
       "3  ENSG00000233750   0.305262       -0.066008  1.352826 -0.048793  0.961084   \n",
       "4  ENSG00000237683  36.685130       -0.104531  0.384350 -0.271967  0.785647   \n",
       "\n",
       "       padj     gene name   -log10p  \n",
       "0       NaN       DDX11L1       NaN  \n",
       "1  0.974525        WASH7P  0.011207  \n",
       "2  0.965466  RP11-34P13.7  0.015263  \n",
       "3       NaN        CICP27       NaN  \n",
       "4  0.987867           NaN  0.005301  "
      ]
     },
     "execution_count": 159,
     "metadata": {},
     "output_type": "execute_result"
    }
   ],
   "source": [
    "deseq2.head()"
   ]
  },
  {
   "cell_type": "code",
   "execution_count": 160,
   "metadata": {},
   "outputs": [],
   "source": [
    "icb=pd.read_csv(\"/cellar/users/mpagadal/Data2/projects/germline-immune/disease-relevance/data/icb-snps.tsv\",delimiter=\"\\t\")\n",
    "odds=pd.read_csv(\"/cellar/users/mpagadal/Data/projects/germline-immune/disease-relevance/data/TIME.icb.OR.tsv\",delimiter=\"\\t\",header=None,skiprows=[2])"
   ]
  },
  {
   "cell_type": "code",
   "execution_count": 161,
   "metadata": {},
   "outputs": [],
   "source": [
    "genes=icb[icb[\"-log10(fdr)\"]>1][\"file\"].tolist()"
   ]
  },
  {
   "cell_type": "code",
   "execution_count": 162,
   "metadata": {},
   "outputs": [],
   "source": [
    "df_label=deseq2[deseq2[\"gene name\"].isin(genes)].sort_values(by=\"padj\")"
   ]
  },
  {
   "cell_type": "code",
   "execution_count": 163,
   "metadata": {
    "scrolled": true
   },
   "outputs": [
    {
     "data": {
      "text/html": [
       "<div>\n",
       "<style scoped>\n",
       "    .dataframe tbody tr th:only-of-type {\n",
       "        vertical-align: middle;\n",
       "    }\n",
       "\n",
       "    .dataframe tbody tr th {\n",
       "        vertical-align: top;\n",
       "    }\n",
       "\n",
       "    .dataframe thead th {\n",
       "        text-align: right;\n",
       "    }\n",
       "</style>\n",
       "<table border=\"1\" class=\"dataframe\">\n",
       "  <thead>\n",
       "    <tr style=\"text-align: right;\">\n",
       "      <th></th>\n",
       "      <th>Unnamed: 0</th>\n",
       "      <th>baseMean</th>\n",
       "      <th>log2FoldChange</th>\n",
       "      <th>lfcSE</th>\n",
       "      <th>stat</th>\n",
       "      <th>pvalue</th>\n",
       "      <th>padj</th>\n",
       "      <th>gene name</th>\n",
       "      <th>-log10p</th>\n",
       "    </tr>\n",
       "  </thead>\n",
       "  <tbody>\n",
       "    <tr>\n",
       "      <th>6537</th>\n",
       "      <td>ENSG00000018280</td>\n",
       "      <td>712.271418</td>\n",
       "      <td>-1.372801</td>\n",
       "      <td>0.476145</td>\n",
       "      <td>-2.883156</td>\n",
       "      <td>0.003937</td>\n",
       "      <td>0.294912</td>\n",
       "      <td>SLC11A1</td>\n",
       "      <td>0.530308</td>\n",
       "    </tr>\n",
       "    <tr>\n",
       "      <th>11864</th>\n",
       "      <td>ENSG00000164308</td>\n",
       "      <td>3073.185583</td>\n",
       "      <td>1.222987</td>\n",
       "      <td>0.512533</td>\n",
       "      <td>2.386164</td>\n",
       "      <td>0.017025</td>\n",
       "      <td>0.506957</td>\n",
       "      <td>ERAP2</td>\n",
       "      <td>0.295029</td>\n",
       "    </tr>\n",
       "    <tr>\n",
       "      <th>36711</th>\n",
       "      <td>ENSG00000186818</td>\n",
       "      <td>60.260838</td>\n",
       "      <td>2.011194</td>\n",
       "      <td>0.931727</td>\n",
       "      <td>2.158565</td>\n",
       "      <td>0.030884</td>\n",
       "      <td>0.625692</td>\n",
       "      <td>LILRB4</td>\n",
       "      <td>0.203639</td>\n",
       "    </tr>\n",
       "    <tr>\n",
       "      <th>8937</th>\n",
       "      <td>ENSG00000175166</td>\n",
       "      <td>7987.976681</td>\n",
       "      <td>-0.166905</td>\n",
       "      <td>0.117252</td>\n",
       "      <td>-1.423472</td>\n",
       "      <td>0.154599</td>\n",
       "      <td>0.870057</td>\n",
       "      <td>PSMD2</td>\n",
       "      <td>0.060452</td>\n",
       "    </tr>\n",
       "    <tr>\n",
       "      <th>36701</th>\n",
       "      <td>ENSG00000131042</td>\n",
       "      <td>15.318300</td>\n",
       "      <td>0.979865</td>\n",
       "      <td>0.958780</td>\n",
       "      <td>1.021991</td>\n",
       "      <td>0.306785</td>\n",
       "      <td>0.946702</td>\n",
       "      <td>LILRB2</td>\n",
       "      <td>0.023787</td>\n",
       "    </tr>\n",
       "  </tbody>\n",
       "</table>\n",
       "</div>"
      ],
      "text/plain": [
       "            Unnamed: 0     baseMean  log2FoldChange     lfcSE      stat  \\\n",
       "6537   ENSG00000018280   712.271418       -1.372801  0.476145 -2.883156   \n",
       "11864  ENSG00000164308  3073.185583        1.222987  0.512533  2.386164   \n",
       "36711  ENSG00000186818    60.260838        2.011194  0.931727  2.158565   \n",
       "8937   ENSG00000175166  7987.976681       -0.166905  0.117252 -1.423472   \n",
       "36701  ENSG00000131042    15.318300        0.979865  0.958780  1.021991   \n",
       "\n",
       "         pvalue      padj gene name   -log10p  \n",
       "6537   0.003937  0.294912   SLC11A1  0.530308  \n",
       "11864  0.017025  0.506957     ERAP2  0.295029  \n",
       "36711  0.030884  0.625692    LILRB4  0.203639  \n",
       "8937   0.154599  0.870057     PSMD2  0.060452  \n",
       "36701  0.306785  0.946702    LILRB2  0.023787  "
      ]
     },
     "execution_count": 163,
     "metadata": {},
     "output_type": "execute_result"
    }
   ],
   "source": [
    "df_label.head()"
   ]
  },
  {
   "cell_type": "code",
   "execution_count": 164,
   "metadata": {},
   "outputs": [
    {
     "data": {
      "text/plain": [
       "Text(0.5, 1.0, 'riaz responder vs. nonresponder')"
      ]
     },
     "execution_count": 164,
     "metadata": {},
     "output_type": "execute_result"
    },
    {
     "data": {
      "image/png": "[encoded data removed]",
      "text/plain": [
       "<Figure size 720x720 with 1 Axes>"
      ]
     },
     "metadata": {
      "needs_background": "light"
     },
     "output_type": "display_data"
    }
   ],
   "source": [
    "f=plt.figure(figsize=(10,10))\n",
    "plt.scatter(deseq2[\"log2FoldChange\"],deseq2[\"-log10p\"],color=\"gray\")\n",
    "for i,row in df_label.iterrows():\n",
    "    plt.scatter(row[\"log2FoldChange\"],row[\"-log10p\"],color=\"red\")\n",
    "    plt.text(float(row[\"log2FoldChange\"]),float(row[\"-log10p\"]),row[\"gene name\"],color=\"black\")\n",
    "plt.ylabel(\"-log10 adj pvalue\",fontsize=15)\n",
    "plt.xlabel(\"log2 fold change\",fontsize=15)\n",
    "plt.title(\"riaz responder vs. nonresponder\")   \n",
    "    "
   ]
  }
 ],
 "metadata": {
  "kernelspec": {
   "display_name": "Python 3",
   "language": "python",
   "name": "python3"
  },
  "language_info": {
   "codemirror_mode": {
    "name": "ipython",
    "version": 3
   },
   "file_extension": ".py",
   "mimetype": "text/x-python",
   "name": "python",
   "nbconvert_exporter": "python",
   "pygments_lexer": "ipython3",
   "version": "3.7.7"
  }
 },
 "nbformat": 4,
 "nbformat_minor": 4
}
