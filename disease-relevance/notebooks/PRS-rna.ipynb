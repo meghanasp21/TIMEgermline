{
 "cells": [
  {
   "cell_type": "code",
   "execution_count": 1,
   "metadata": {},
   "outputs": [],
   "source": [
    "import pandas as pd\n",
    "from sklearn.model_selection import train_test_split\n",
    "from sklearn.model_selection import cross_val_score,cross_val_predict,  KFold,  LeaveOneOut, StratifiedKFold\n",
    "import numpy as np\n",
    "from sklearn.model_selection import GroupKFold\n",
    "import os\n",
    "from sklearn.svm import SVC\n",
    "from sklearn.metrics import roc_curve, auc"
   ]
  },
  {
   "cell_type": "code",
   "execution_count": 2,
   "metadata": {},
   "outputs": [],
   "source": [
    "import sys\n",
    "sys.path.insert(0, \"/cellar/users/mpagadal/Programs/anaconda3/lib/python3.7/site-packages\")\n",
    "from sklearn import linear_model\n",
    "from regressors import stats"
   ]
  },
  {
   "cell_type": "code",
   "execution_count": 3,
   "metadata": {},
   "outputs": [],
   "source": [
    "import numpy as np\n",
    "from sklearn import metrics\n",
    "import matplotlib.pyplot as plt\n",
    "import seaborn as sns\n",
    "import json"
   ]
  },
  {
   "cell_type": "code",
   "execution_count": 4,
   "metadata": {},
   "outputs": [],
   "source": [
    "import sys \n",
    "sys.path.append(\"/cellar/users/mpagadal/Programs/anaconda3/lib/python3.7/site-packages\")\n",
    "sys.path.insert(1, '/cellar/users/mpagadal/Data/scripts')"
   ]
  },
  {
   "cell_type": "code",
   "execution_count": 5,
   "metadata": {},
   "outputs": [],
   "source": [
    "from sklearn.decomposition import PCA\n",
    "from sklearn.preprocessing import StandardScaler\n",
    "#import statsmodels.api as sm"
   ]
  },
  {
   "cell_type": "code",
   "execution_count": 6,
   "metadata": {},
   "outputs": [],
   "source": [
    "import networkx as nx\n",
    "from ndex2.nice_cx_network import NiceCXNetwork \n",
    "import ndex2.client as nc\n",
    "import ndex2"
   ]
  },
  {
   "cell_type": "code",
   "execution_count": 7,
   "metadata": {},
   "outputs": [],
   "source": [
    "import matplotlib\n",
    "matplotlib.rcParams['pdf.fonttype'] = 42\n",
    "matplotlib.rcParams['ps.fonttype'] = 42"
   ]
  },
  {
   "cell_type": "markdown",
   "metadata": {},
   "source": [
    "## Load ICB RNA"
   ]
  },
  {
   "cell_type": "code",
   "execution_count": 8,
   "metadata": {},
   "outputs": [],
   "source": [
    "with open('/nrnb/users/carterlab/immunotherapy-trials/rna/all_immunotherapy_tpm.json', 'r') as f:\n",
    "    icb_tpm = json.load(f)\n",
    "rna=pd.DataFrame.from_dict(icb_tpm)"
   ]
  },
  {
   "cell_type": "code",
   "execution_count": 9,
   "metadata": {},
   "outputs": [],
   "source": [
    "#normalize\n",
    "rna+=1\n",
    "rna=np.log2(rna)"
   ]
  },
  {
   "cell_type": "code",
   "execution_count": 10,
   "metadata": {},
   "outputs": [],
   "source": [
    "rna.index=rna.index.str.split(\".\").str[0]"
   ]
  },
  {
   "cell_type": "code",
   "execution_count": 11,
   "metadata": {},
   "outputs": [],
   "source": [
    "with open('/cellar/users/mpagadal/Data/resources/tcga/ensembl_map.json', 'r') as f:\n",
    "    ensembl = json.load(f)"
   ]
  },
  {
   "cell_type": "code",
   "execution_count": 12,
   "metadata": {},
   "outputs": [],
   "source": [
    "ensembl={k.split(\".\")[0]:v for k,v in ensembl.items()}"
   ]
  },
  {
   "cell_type": "code",
   "execution_count": 13,
   "metadata": {},
   "outputs": [],
   "source": [
    "rna[\"gene name\"]=rna.index.map(ensembl)"
   ]
  },
  {
   "cell_type": "code",
   "execution_count": 14,
   "metadata": {},
   "outputs": [],
   "source": [
    "rna=rna[~(rna[\"gene name\"].isnull())]"
   ]
  },
  {
   "cell_type": "code",
   "execution_count": 15,
   "metadata": {},
   "outputs": [],
   "source": [
    "rna.index=rna[\"gene name\"]"
   ]
  },
  {
   "cell_type": "code",
   "execution_count": 16,
   "metadata": {},
   "outputs": [],
   "source": [
    "del rna[\"gene name\"]"
   ]
  },
  {
   "cell_type": "code",
   "execution_count": 17,
   "metadata": {},
   "outputs": [],
   "source": [
    "rna=rna.T"
   ]
  },
  {
   "cell_type": "code",
   "execution_count": 18,
   "metadata": {},
   "outputs": [],
   "source": [
    "rna.index=rna.index.str.split(\".sra\").str[0]"
   ]
  },
  {
   "cell_type": "code",
   "execution_count": 19,
   "metadata": {},
   "outputs": [],
   "source": [
    "rna=rna.reset_index()"
   ]
  },
  {
   "cell_type": "code",
   "execution_count": 20,
   "metadata": {},
   "outputs": [],
   "source": [
    "rna=rna.rename(columns={\"index\":\"FID\"})"
   ]
  },
  {
   "cell_type": "markdown",
   "metadata": {},
   "source": [
    "## CIBERSORTx data"
   ]
  },
  {
   "cell_type": "code",
   "execution_count": 21,
   "metadata": {},
   "outputs": [],
   "source": [
    "ciber=pd.read_csv(\"/cellar/users/mpagadal/Data2/cibersort/cibersortx-results/icb/LM22/CIBERSORTx_Results.txt\",delimiter=\"\\t\")\n",
    "ciber[\"Mixture\"]=ciber[\"Mixture\"].str.split(\".sra\").str[0]"
   ]
  },
  {
   "cell_type": "code",
   "execution_count": 22,
   "metadata": {},
   "outputs": [],
   "source": [
    "del ciber[\"P-value\"]\n",
    "del ciber[\"Correlation\"]\n",
    "del ciber[\"RMSE\"]"
   ]
  },
  {
   "cell_type": "code",
   "execution_count": 23,
   "metadata": {},
   "outputs": [],
   "source": [
    "ciber=ciber.rename(columns={\"Mixture\":\"FID\"})"
   ]
  },
  {
   "cell_type": "code",
   "execution_count": 24,
   "metadata": {},
   "outputs": [],
   "source": [
    "rna=pd.merge(rna,ciber,on=\"FID\")"
   ]
  },
  {
   "cell_type": "markdown",
   "metadata": {},
   "source": [
    "## Map to genotype ids"
   ]
  },
  {
   "cell_type": "code",
   "execution_count": 25,
   "metadata": {},
   "outputs": [],
   "source": [
    "#get mapping file\n",
    "mapping=pd.read_csv(\"/nrnb/users/carterlab/immunotherapy-trials/wxs_rna_mapping_table.tsv\",delimiter=\"\\t\")\n",
    "mapping=mapping[~(mapping[\"tumor RNA id\"].isnull())]\n",
    "mp_geno2rna=dict(zip(mapping[\"tumor RNA id\"],mapping[\"normal WXS id\"]))"
   ]
  },
  {
   "cell_type": "code",
   "execution_count": 26,
   "metadata": {},
   "outputs": [
    {
     "data": {
      "text/plain": [
       "192"
      ]
     },
     "execution_count": 26,
     "metadata": {},
     "output_type": "execute_result"
    }
   ],
   "source": [
    "len(mp_geno2rna)"
   ]
  },
  {
   "cell_type": "markdown",
   "metadata": {},
   "source": [
    "## Format RNA for analysis"
   ]
  },
  {
   "cell_type": "code",
   "execution_count": 27,
   "metadata": {},
   "outputs": [],
   "source": [
    "mp_study=dict(zip(mapping[\"tumor RNA id\"],mapping[\"study\"]))\n",
    "mp_time=dict(zip(mapping[\"tumor RNA id\"],mapping[\"Biopsy Time\"]))"
   ]
  },
  {
   "cell_type": "code",
   "execution_count": 28,
   "metadata": {},
   "outputs": [],
   "source": [
    "rna[\"study\"]=rna[\"FID\"].map(mp_study)\n",
    "rna[\"time\"]=rna[\"FID\"].map(mp_time)"
   ]
  },
  {
   "cell_type": "code",
   "execution_count": 29,
   "metadata": {},
   "outputs": [],
   "source": [
    "rna[\"FID\"]=rna[\"FID\"].map(mp_geno2rna)"
   ]
  },
  {
   "cell_type": "code",
   "execution_count": 30,
   "metadata": {},
   "outputs": [],
   "source": [
    "rna_filt=rna[~(rna[\"FID\"].isnull())]"
   ]
  },
  {
   "cell_type": "code",
   "execution_count": 31,
   "metadata": {},
   "outputs": [
    {
     "name": "stdout",
     "output_type": "stream",
     "text": [
      "(191, 54783)\n"
     ]
    },
    {
     "data": {
      "text/html": [
       "<div>\n",
       "<style scoped>\n",
       "    .dataframe tbody tr th:only-of-type {\n",
       "        vertical-align: middle;\n",
       "    }\n",
       "\n",
       "    .dataframe tbody tr th {\n",
       "        vertical-align: top;\n",
       "    }\n",
       "\n",
       "    .dataframe thead th {\n",
       "        text-align: right;\n",
       "    }\n",
       "</style>\n",
       "<table border=\"1\" class=\"dataframe\">\n",
       "  <thead>\n",
       "    <tr style=\"text-align: right;\">\n",
       "      <th></th>\n",
       "      <th>FID</th>\n",
       "      <th>TSPAN6</th>\n",
       "      <th>TNMD</th>\n",
       "      <th>DPM1</th>\n",
       "      <th>SCYL3</th>\n",
       "      <th>C1orf112</th>\n",
       "      <th>FGR</th>\n",
       "      <th>CFH</th>\n",
       "      <th>FUCA2</th>\n",
       "      <th>GCLC</th>\n",
       "      <th>...</th>\n",
       "      <th>Macrophages M1</th>\n",
       "      <th>Macrophages M2</th>\n",
       "      <th>Dendritic cells resting</th>\n",
       "      <th>Dendritic cells activated</th>\n",
       "      <th>Mast cells resting</th>\n",
       "      <th>Mast cells activated</th>\n",
       "      <th>Eosinophils</th>\n",
       "      <th>Neutrophils</th>\n",
       "      <th>study</th>\n",
       "      <th>time</th>\n",
       "    </tr>\n",
       "  </thead>\n",
       "  <tbody>\n",
       "    <tr>\n",
       "      <th>0</th>\n",
       "      <td>SRR5134823.sra</td>\n",
       "      <td>3.523562</td>\n",
       "      <td>2.454176</td>\n",
       "      <td>5.573799</td>\n",
       "      <td>2.720278</td>\n",
       "      <td>1.906891</td>\n",
       "      <td>3.528571</td>\n",
       "      <td>6.393176</td>\n",
       "      <td>5.484138</td>\n",
       "      <td>4.112700</td>\n",
       "      <td>...</td>\n",
       "      <td>0.108688</td>\n",
       "      <td>0.299984</td>\n",
       "      <td>0.011931</td>\n",
       "      <td>0.000000</td>\n",
       "      <td>0.033004</td>\n",
       "      <td>0.0</td>\n",
       "      <td>0.0</td>\n",
       "      <td>0.014174</td>\n",
       "      <td>riaz</td>\n",
       "      <td>Pre</td>\n",
       "    </tr>\n",
       "    <tr>\n",
       "      <th>4</th>\n",
       "      <td>SRR6504839.sra</td>\n",
       "      <td>2.963474</td>\n",
       "      <td>0.189034</td>\n",
       "      <td>4.379898</td>\n",
       "      <td>2.622930</td>\n",
       "      <td>3.450221</td>\n",
       "      <td>4.001802</td>\n",
       "      <td>4.394377</td>\n",
       "      <td>3.305971</td>\n",
       "      <td>4.775051</td>\n",
       "      <td>...</td>\n",
       "      <td>0.003920</td>\n",
       "      <td>0.106944</td>\n",
       "      <td>0.000000</td>\n",
       "      <td>0.012845</td>\n",
       "      <td>0.013077</td>\n",
       "      <td>0.0</td>\n",
       "      <td>0.0</td>\n",
       "      <td>0.048094</td>\n",
       "      <td>miao</td>\n",
       "      <td>NaN</td>\n",
       "    </tr>\n",
       "    <tr>\n",
       "      <th>5</th>\n",
       "      <td>SRR2724351.sra</td>\n",
       "      <td>2.910733</td>\n",
       "      <td>0.214125</td>\n",
       "      <td>5.054414</td>\n",
       "      <td>2.192194</td>\n",
       "      <td>3.877744</td>\n",
       "      <td>0.575312</td>\n",
       "      <td>3.276497</td>\n",
       "      <td>3.606442</td>\n",
       "      <td>5.234578</td>\n",
       "      <td>...</td>\n",
       "      <td>0.000000</td>\n",
       "      <td>0.163834</td>\n",
       "      <td>0.000000</td>\n",
       "      <td>0.000000</td>\n",
       "      <td>0.183785</td>\n",
       "      <td>0.0</td>\n",
       "      <td>0.0</td>\n",
       "      <td>0.000000</td>\n",
       "      <td>vanallen</td>\n",
       "      <td>NaN</td>\n",
       "    </tr>\n",
       "    <tr>\n",
       "      <th>6</th>\n",
       "      <td>SRR5134772.sra</td>\n",
       "      <td>5.523562</td>\n",
       "      <td>0.400538</td>\n",
       "      <td>6.285217</td>\n",
       "      <td>3.496974</td>\n",
       "      <td>3.292782</td>\n",
       "      <td>3.150560</td>\n",
       "      <td>6.692790</td>\n",
       "      <td>6.029453</td>\n",
       "      <td>4.710393</td>\n",
       "      <td>...</td>\n",
       "      <td>0.184764</td>\n",
       "      <td>0.230282</td>\n",
       "      <td>0.000000</td>\n",
       "      <td>0.000000</td>\n",
       "      <td>0.035843</td>\n",
       "      <td>0.0</td>\n",
       "      <td>0.0</td>\n",
       "      <td>0.002949</td>\n",
       "      <td>riaz</td>\n",
       "      <td>On</td>\n",
       "    </tr>\n",
       "    <tr>\n",
       "      <th>7</th>\n",
       "      <td>SRR6511550.sra</td>\n",
       "      <td>4.938756</td>\n",
       "      <td>0.000000</td>\n",
       "      <td>4.642124</td>\n",
       "      <td>1.448901</td>\n",
       "      <td>0.659925</td>\n",
       "      <td>4.427606</td>\n",
       "      <td>4.554589</td>\n",
       "      <td>4.929318</td>\n",
       "      <td>2.881665</td>\n",
       "      <td>...</td>\n",
       "      <td>0.047029</td>\n",
       "      <td>0.085136</td>\n",
       "      <td>0.000000</td>\n",
       "      <td>0.006823</td>\n",
       "      <td>0.071966</td>\n",
       "      <td>0.0</td>\n",
       "      <td>0.0</td>\n",
       "      <td>0.129841</td>\n",
       "      <td>miao</td>\n",
       "      <td>NaN</td>\n",
       "    </tr>\n",
       "  </tbody>\n",
       "</table>\n",
       "<p>5 rows × 54783 columns</p>\n",
       "</div>"
      ],
      "text/plain": [
       "              FID    TSPAN6      TNMD      DPM1     SCYL3  C1orf112       FGR  \\\n",
       "0  SRR5134823.sra  3.523562  2.454176  5.573799  2.720278  1.906891  3.528571   \n",
       "4  SRR6504839.sra  2.963474  0.189034  4.379898  2.622930  3.450221  4.001802   \n",
       "5  SRR2724351.sra  2.910733  0.214125  5.054414  2.192194  3.877744  0.575312   \n",
       "6  SRR5134772.sra  5.523562  0.400538  6.285217  3.496974  3.292782  3.150560   \n",
       "7  SRR6511550.sra  4.938756  0.000000  4.642124  1.448901  0.659925  4.427606   \n",
       "\n",
       "        CFH     FUCA2      GCLC  ...  Macrophages M1  Macrophages M2  \\\n",
       "0  6.393176  5.484138  4.112700  ...        0.108688        0.299984   \n",
       "4  4.394377  3.305971  4.775051  ...        0.003920        0.106944   \n",
       "5  3.276497  3.606442  5.234578  ...        0.000000        0.163834   \n",
       "6  6.692790  6.029453  4.710393  ...        0.184764        0.230282   \n",
       "7  4.554589  4.929318  2.881665  ...        0.047029        0.085136   \n",
       "\n",
       "   Dendritic cells resting  Dendritic cells activated  Mast cells resting  \\\n",
       "0                 0.011931                   0.000000            0.033004   \n",
       "4                 0.000000                   0.012845            0.013077   \n",
       "5                 0.000000                   0.000000            0.183785   \n",
       "6                 0.000000                   0.000000            0.035843   \n",
       "7                 0.000000                   0.006823            0.071966   \n",
       "\n",
       "   Mast cells activated  Eosinophils  Neutrophils     study  time  \n",
       "0                   0.0          0.0     0.014174      riaz   Pre  \n",
       "4                   0.0          0.0     0.048094      miao   NaN  \n",
       "5                   0.0          0.0     0.000000  vanallen   NaN  \n",
       "6                   0.0          0.0     0.002949      riaz    On  \n",
       "7                   0.0          0.0     0.129841      miao   NaN  \n",
       "\n",
       "[5 rows x 54783 columns]"
      ]
     },
     "execution_count": 31,
     "metadata": {},
     "output_type": "execute_result"
    }
   ],
   "source": [
    "print(rna_filt.shape)\n",
    "rna_filt.head()"
   ]
  },
  {
   "cell_type": "markdown",
   "metadata": {},
   "source": [
    "## Get ICB snps"
   ]
  },
  {
   "cell_type": "code",
   "execution_count": 32,
   "metadata": {},
   "outputs": [],
   "source": [
    "icb=pd.read_csv(\"/cellar/users/mpagadal/Data2/projects/germline-immune/disease-relevance/data/icb-snps.tsv\",delimiter=\"\\t\")\n",
    "odds=pd.read_csv(\"/cellar/users/mpagadal/Data/projects/germline-immune/disease-relevance/data/TIME.icb.OR.tsv\",delimiter=\"\\t\",header=None,skiprows=[2])"
   ]
  },
  {
   "cell_type": "code",
   "execution_count": 33,
   "metadata": {},
   "outputs": [],
   "source": [
    "odds.columns = (odds.iloc[0] + '_' + odds.iloc[1])\n",
    "odds.rename(columns={ odds.columns[0]: \"ID\" }, inplace = True)"
   ]
  },
  {
   "cell_type": "code",
   "execution_count": 34,
   "metadata": {},
   "outputs": [],
   "source": [
    "odds=odds.iloc[2:,:]"
   ]
  },
  {
   "cell_type": "code",
   "execution_count": 35,
   "metadata": {},
   "outputs": [],
   "source": [
    "odds[\"ID_noallele\"]=odds[\"ID\"].str.rsplit(\":\",2).str[0]\n",
    "icb[\"ID_noallele\"]=icb[\"MarkerName\"].str.rsplit(\":\",2).str[0]"
   ]
  },
  {
   "cell_type": "code",
   "execution_count": 36,
   "metadata": {},
   "outputs": [],
   "source": [
    "icb_odds=pd.merge(icb,odds,on=\"ID_noallele\",how=\"left\")"
   ]
  },
  {
   "cell_type": "code",
   "execution_count": 173,
   "metadata": {},
   "outputs": [],
   "source": [
    "genes=icb_odds[icb_odds[\"-log10(fdr)\"]>1][\"file\"].unique().tolist()"
   ]
  },
  {
   "cell_type": "markdown",
   "metadata": {},
   "source": [
    "### trained model for complete response prediction "
   ]
  },
  {
   "cell_type": "code",
   "execution_count": 38,
   "metadata": {},
   "outputs": [],
   "source": [
    "mp_response=dict(zip(mapping[\"normal WXS id\"],mapping[\"partial.sd.coding\"]))"
   ]
  },
  {
   "cell_type": "code",
   "execution_count": 39,
   "metadata": {},
   "outputs": [
    {
     "name": "stderr",
     "output_type": "stream",
     "text": [
      "/nrnb/opt/anaconda3.7/lib/python3.7/site-packages/ipykernel_launcher.py:1: SettingWithCopyWarning: \n",
      "A value is trying to be set on a copy of a slice from a DataFrame.\n",
      "Try using .loc[row_indexer,col_indexer] = value instead\n",
      "\n",
      "See the caveats in the documentation: https://pandas.pydata.org/pandas-docs/stable/user_guide/indexing.html#returning-a-view-versus-a-copy\n",
      "  \"\"\"Entry point for launching an IPython kernel.\n"
     ]
    }
   ],
   "source": [
    "rna_filt[\"response\"]=rna_filt[\"FID\"].map(mp_response)"
   ]
  },
  {
   "cell_type": "code",
   "execution_count": 134,
   "metadata": {},
   "outputs": [],
   "source": [
    "rna_pre=rna_filt[~rna_filt[\"time\"].isin([\"On\",\"on-treatment\"])]"
   ]
  },
  {
   "cell_type": "code",
   "execution_count": 149,
   "metadata": {},
   "outputs": [
    {
     "name": "stdout",
     "output_type": "stream",
     "text": [
      "riaz\n",
      "Area under the ROC curve : 0.561538\n",
      "miao\n",
      "Area under the ROC curve : 0.638889\n",
      "vanallen\n",
      "Area under the ROC curve : 0.506667\n",
      "hugo\n",
      "Area under the ROC curve : 0.571429\n"
     ]
    },
    {
     "data": {
      "image/png": "[encoded data removed]",
      "text/plain": [
       "<Figure size 432x432 with 1 Axes>"
      ]
     },
     "metadata": {
      "needs_background": "light"
     },
     "output_type": "display_data"
    }
   ],
   "source": [
    "for x in rna_pre[\"study\"].unique():\n",
    "    print(x)\n",
    "    rna_pre_study=rna_pre[(rna_pre[\"study\"]==x)]\n",
    "    \n",
    "    X_train, X_test, y_train, y_test = train_test_split(rna_pre_study[genes], rna_pre_study[\"response\"], test_size=.5,\n",
    "                                                    random_state=3)\n",
    "    \n",
    "    clf = SVC(kernel='poly',probability=True, random_state=0,degree=3)\n",
    "\n",
    "    probas_ = clf.fit(X_train, y_train).predict_proba(X_test)\n",
    "\n",
    "    fpr, tpr, thresholds = roc_curve(y_test, probas_[:, 1],pos_label=2)\n",
    "    roc_auc = auc(fpr, tpr)\n",
    "    print(\"Area under the ROC curve : %f\" % roc_auc)\n",
    "\n",
    "\n",
    "    plt.figure(1, figsize=(6,6))\n",
    "    plt.plot(fpr, tpr, lw=2, alpha=0.5, label=x+' ROC (AUC = %0.2f)' % (roc_auc))\n",
    "    plt.plot([0, 1], [0, 1], linestyle='--', lw=2, color='k', label='Chance level', alpha=.8)\n",
    "    plt.xlim([-0.05, 1.05])\n",
    "    plt.ylim([-0.05, 1.05])\n",
    "    plt.xlabel('False Positive Rate')\n",
    "    plt.ylabel('True Positive Rate')\n",
    "    plt.title('Receiver operating characteristic example')\n",
    "    plt.legend(loc=\"lower right\")\n",
    "        "
   ]
  },
  {
   "cell_type": "code",
   "execution_count": 177,
   "metadata": {},
   "outputs": [
    {
     "name": "stdout",
     "output_type": "stream",
     "text": [
      "Area under the ROC curve : 0.584516\n"
     ]
    },
    {
     "data": {
      "text/plain": [
       "<matplotlib.legend.Legend at 0x7fc6a2b14450>"
      ]
     },
     "execution_count": 177,
     "metadata": {},
     "output_type": "execute_result"
    },
    {
     "data": {
      "image/png": "[encoded data removed]",
      "text/plain": [
       "<Figure size 432x432 with 1 Axes>"
      ]
     },
     "metadata": {
      "needs_background": "light"
     },
     "output_type": "display_data"
    }
   ],
   "source": [
    "    rna_pre_study=rna_pre[~(rna_pre[\"study\"]==\"miao\")]\n",
    "    \n",
    "    X_train, X_test, y_train, y_test = train_test_split(rna_pre_study[genes], rna_pre_study[\"response\"], test_size=.5,\n",
    "                                                    random_state=3)\n",
    "    \n",
    "    clf = SVC(kernel='rbf',probability=True, random_state=0,degree=3)\n",
    "\n",
    "    probas_ = clf.fit(X_train, y_train).predict_proba(X_test)\n",
    "\n",
    "    fpr, tpr, thresholds = roc_curve(y_test, probas_[:, 1],pos_label=2)\n",
    "    roc_auc = auc(fpr, tpr)\n",
    "    print(\"Area under the ROC curve : %f\" % roc_auc)\n",
    "\n",
    "\n",
    "    plt.figure(1, figsize=(6,6))\n",
    "    plt.plot(fpr, tpr, lw=2, alpha=0.5, label='melanoma ROC (AUC = %0.2f)' % (roc_auc))\n",
    "    plt.plot([0, 1], [0, 1], linestyle='--', lw=2, color='k', label='Chance level', alpha=.8)\n",
    "    plt.xlim([-0.05, 1.05])\n",
    "    plt.ylim([-0.05, 1.05])\n",
    "    plt.xlabel('False Positive Rate')\n",
    "    plt.ylabel('True Positive Rate')\n",
    "    plt.title('Receiver operating characteristic example')\n",
    "    plt.legend(loc=\"lower right\")\n",
    "        "
   ]
  },
  {
   "cell_type": "code",
   "execution_count": 176,
   "metadata": {},
   "outputs": [
    {
     "name": "stdout",
     "output_type": "stream",
     "text": [
      "Area under the ROC curve : 0.638889\n"
     ]
    },
    {
     "data": {
      "text/plain": [
       "<matplotlib.legend.Legend at 0x7fc6a2f71910>"
      ]
     },
     "execution_count": 176,
     "metadata": {},
     "output_type": "execute_result"
    },
    {
     "data": {
      "image/png": "[encoded data removed]",
      "text/plain": [
       "<Figure size 432x432 with 1 Axes>"
      ]
     },
     "metadata": {
      "needs_background": "light"
     },
     "output_type": "display_data"
    }
   ],
   "source": [
    "    rna_pre_study=rna_pre[(rna_pre[\"study\"]==\"miao\")]\n",
    "    \n",
    "    X_train, X_test, y_train, y_test = train_test_split(rna_pre_study[genes], rna_pre_study[\"response\"], test_size=.5,\n",
    "                                                    random_state=3)\n",
    "    \n",
    "    clf = SVC(kernel='rbf',probability=True, random_state=0,degree=3)\n",
    "\n",
    "    probas_ = clf.fit(X_train, y_train).predict_proba(X_test)\n",
    "\n",
    "    fpr, tpr, thresholds = roc_curve(y_test, probas_[:, 1],pos_label=2)\n",
    "    roc_auc = auc(fpr, tpr)\n",
    "    print(\"Area under the ROC curve : %f\" % roc_auc)\n",
    "\n",
    "\n",
    "    plt.figure(1, figsize=(6,6))\n",
    "    plt.plot(fpr, tpr, lw=2, alpha=0.5, label='miao ROC (AUC = %0.2f)' % (roc_auc))\n",
    "    plt.plot([0, 1], [0, 1], linestyle='--', lw=2, color='k', label='Chance level', alpha=.8)\n",
    "    plt.xlim([-0.05, 1.05])\n",
    "    plt.ylim([-0.05, 1.05])\n",
    "    plt.xlabel('False Positive Rate')\n",
    "    plt.ylabel('True Positive Rate')\n",
    "    plt.title('Receiver operating characteristic example')\n",
    "    plt.legend(loc=\"lower right\")\n",
    "        "
   ]
  },
  {
   "cell_type": "code",
   "execution_count": 164,
   "metadata": {},
   "outputs": [],
   "source": [
    "genes=[\"LYZ\",\"B2M\"]"
   ]
  },
  {
   "cell_type": "code",
   "execution_count": 167,
   "metadata": {},
   "outputs": [
    {
     "name": "stdout",
     "output_type": "stream",
     "text": [
      "Area under the ROC curve : 0.405161\n"
     ]
    },
    {
     "data": {
      "text/plain": [
       "<matplotlib.legend.Legend at 0x7fc6a2ea7350>"
      ]
     },
     "execution_count": 167,
     "metadata": {},
     "output_type": "execute_result"
    },
    {
     "data": {
      "image/png": "[encoded data removed]",
      "text/plain": [
       "<Figure size 432x432 with 1 Axes>"
      ]
     },
     "metadata": {
      "needs_background": "light"
     },
     "output_type": "display_data"
    }
   ],
   "source": [
    "    rna_pre_study=rna_pre[~(rna_pre[\"study\"]==\"miao\")]\n",
    "    \n",
    "    X_train, X_test, y_train, y_test = train_test_split(rna_pre_study[genes], rna_pre_study[\"response\"], test_size=.5,\n",
    "                                                    random_state=3)\n",
    "    \n",
    "    clf = SVC(kernel='linear',probability=True, random_state=0,degree=3)\n",
    "\n",
    "    probas_ = clf.fit(X_train, y_train).predict_proba(X_test)\n",
    "\n",
    "    fpr, tpr, thresholds = roc_curve(y_test, probas_[:, 1],pos_label=2)\n",
    "    roc_auc = auc(fpr, tpr)\n",
    "    print(\"Area under the ROC curve : %f\" % roc_auc)\n",
    "\n",
    "\n",
    "    plt.figure(1, figsize=(6,6))\n",
    "    plt.plot(fpr, tpr, lw=2, alpha=0.5, label=x+' ROC (AUC = %0.2f)' % (roc_auc))\n",
    "    plt.plot([0, 1], [0, 1], linestyle='--', lw=2, color='k', label='Chance level', alpha=.8)\n",
    "    plt.xlim([-0.05, 1.05])\n",
    "    plt.ylim([-0.05, 1.05])\n",
    "    plt.xlabel('False Positive Rate')\n",
    "    plt.ylabel('True Positive Rate')\n",
    "    plt.title('Receiver operating characteristic example')\n",
    "    plt.legend(loc=\"lower right\")\n",
    "        "
   ]
  },
  {
   "cell_type": "code",
   "execution_count": null,
   "metadata": {},
   "outputs": [],
   "source": []
  },
  {
   "cell_type": "code",
   "execution_count": null,
   "metadata": {},
   "outputs": [],
   "source": []
  }
 ],
 "metadata": {
  "kernelspec": {
   "display_name": "Python 3",
   "language": "python",
   "name": "python3"
  },
  "language_info": {
   "codemirror_mode": {
    "name": "ipython",
    "version": 3
   },
   "file_extension": ".py",
   "mimetype": "text/x-python",
   "name": "python",
   "nbconvert_exporter": "python",
   "pygments_lexer": "ipython3",
   "version": "3.7.7"
  }
 },
 "nbformat": 4,
 "nbformat_minor": 4
}
