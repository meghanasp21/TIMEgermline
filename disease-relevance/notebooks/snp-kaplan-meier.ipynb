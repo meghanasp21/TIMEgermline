{
 "cells": [
  {
   "cell_type": "code",
   "execution_count": 1,
   "metadata": {},
   "outputs": [],
   "source": [
    "import pandas as pd\n",
    "import numpy as np\n",
    "import sys\n",
    "sys.path.insert(0, \"/cellar/users/mpagadal/Programs/anaconda3/lib/python3.7/site-packages\")\n",
    "import lifelines\n",
    "\n",
    "from lifelines import KaplanMeierFitter\n",
    "from lifelines.statistics import logrank_test\n",
    "from scipy.stats import pearsonr, spearmanr, mannwhitneyu\n",
    "\n",
    "import matplotlib.pyplot as plt\n",
    "import seaborn as sns\n",
    "sns.set_style('white')\n",
    "%matplotlib inline"
   ]
  },
  {
   "cell_type": "code",
   "execution_count": 80,
   "metadata": {},
   "outputs": [],
   "source": [
    "### STATS ###\n",
    "import statsmodels.stats.multitest as multi\n",
    "from matplotlib.collections import PatchCollection"
   ]
  },
  {
   "cell_type": "code",
   "execution_count": 3,
   "metadata": {},
   "outputs": [],
   "source": [
    "import matplotlib\n",
    "matplotlib.rcParams['pdf.fonttype'] = 42\n",
    "matplotlib.rcParams['ps.fonttype'] = 42"
   ]
  },
  {
   "cell_type": "markdown",
   "metadata": {},
   "source": [
    "## Get survival information"
   ]
  },
  {
   "cell_type": "code",
   "execution_count": 4,
   "metadata": {},
   "outputs": [],
   "source": [
    "def make_df(surv,surv_type,raw):\n",
    "    #get survival dataframe\n",
    "    surv=pd.read_csv(surv,index_col=0)\n",
    "    surv=surv.rename(columns={\"bcr_patient_barcode\":\"FID\"})\n",
    "    #get genotypes\n",
    "    snps=pd.read_csv(raw,delimiter=\" \")\n",
    "    cols=[x for x in snps.columns if x not in [\"IID\",\"PAT\",\"MAT\",\"SEX\",\"PHENOTYPE\"]]\n",
    "    snps=snps[cols]\n",
    "    #combine dataframes\n",
    "    full_surv=pd.merge(surv[[\"FID\",surv_type,surv_type+\".time\"]],snps,on=\"FID\")\n",
    "    print(full_surv.shape)\n",
    "    full_surv=full_surv[full_surv[surv_type+\".time\"]<1825]\n",
    "    return(full_surv)\n",
    "\n",
    "    \n",
    "    "
   ]
  },
  {
   "cell_type": "code",
   "execution_count": 5,
   "metadata": {},
   "outputs": [
    {
     "name": "stdout",
     "output_type": "stream",
     "text": [
      "(8183, 478)\n"
     ]
    }
   ],
   "source": [
    "os_surv=make_df(\"/cellar/users/mpagadal/Data/resources/from-labmembers/andrea/Liu2018.TCGA_survival.csv\",\"OS\",\"/nrnb/users/mpagadal/tcga-genotypes/germline-immune/immune.snp.raw\")"
   ]
  },
  {
   "cell_type": "markdown",
   "metadata": {},
   "source": [
    "## Map to cancer types"
   ]
  },
  {
   "cell_type": "code",
   "execution_count": 6,
   "metadata": {},
   "outputs": [],
   "source": [
    "# map to cancer type\n",
    "canc = pd.read_csv(\"/nrnb/users/mpagadal/tcga-genotypes/birdseed-processing/gtype.meta\", delimiter=\"\\t\", header=None)\n",
    "mp = canc.set_index(2)[0].to_dict()\n",
    "os_surv[\"cancer\"]=os_surv[\"FID\"].map(mp)"
   ]
  },
  {
   "cell_type": "code",
   "execution_count": 7,
   "metadata": {},
   "outputs": [],
   "source": [
    "rsid_lst=os_surv.columns[3:-1]"
   ]
  },
  {
   "cell_type": "code",
   "execution_count": 8,
   "metadata": {},
   "outputs": [],
   "source": [
    "# make list of cancer types\n",
    "cancers=os_surv[\"cancer\"].unique().tolist()"
   ]
  },
  {
   "cell_type": "markdown",
   "metadata": {},
   "source": [
    "## Run Kaplan-Meier analysis"
   ]
  },
  {
   "cell_type": "code",
   "execution_count": 9,
   "metadata": {
    "scrolled": true
   },
   "outputs": [],
   "source": [
    "def run_surv(df,surv_type,rsid,cancers):\n",
    "    snp=[]\n",
    "    logrank=[]\n",
    "    cancer=[]\n",
    "    min_group=[]\n",
    "    maj_group=[]\n",
    "\n",
    "    for y in cancers:\n",
    "        for x in rsid_lst:\n",
    "            try:\n",
    "                full_surv_canc=df[df[\"cancer\"]==y]\n",
    "            \n",
    "                rs=x.rsplit(\":\",2)[0]\n",
    "                allele=x.split(\":\")[3]\n",
    "                minor=allele.split(\"_\")[1]\n",
    "                major=allele.split(\"_\")[0]\n",
    "            \n",
    "                groups = full_surv_canc[x]\n",
    "                ix = (groups == 2)\n",
    "\n",
    "                results = logrank_test(full_surv_canc[surv_type+'.time'][ix], full_surv_canc[surv_type+'.time'][~ix], alpha=.95) \n",
    "        \n",
    "                snp.append(x)\n",
    "                logrank.append(results.p_value)\n",
    "                cancer.append(y)\n",
    "                min_group.append(len(full_surv_canc[surv_type+'.time'][ix]))\n",
    "                maj_group.append(len(full_surv_canc[surv_type+'.time'][~ix]))\n",
    "        \n",
    "            except:\n",
    "                pass\n",
    "        \n",
    "    os=pd.DataFrame({\"snps\":snp,\"os.time\":logrank,\"cancer\":cancer,\"min\":min_group,\"maj\":maj_group})\n",
    "    return(os)"
   ]
  },
  {
   "cell_type": "code",
   "execution_count": 10,
   "metadata": {},
   "outputs": [],
   "source": [
    "os=run_surv(os_surv,\"OS\",rsid_lst,cancers)"
   ]
  },
  {
   "cell_type": "markdown",
   "metadata": {},
   "source": [
    "### Filter for curves with at least 1 patient and frequency > 1%"
   ]
  },
  {
   "cell_type": "code",
   "execution_count": 33,
   "metadata": {},
   "outputs": [],
   "source": [
    "os[\"sum\"]=os[\"min\"]+os[\"maj\"]\n",
    "os[\"freq\"]=os[\"min\"]/os[\"sum\"]\n",
    "os_filt=os[(os[\"freq\"]>.01)&(os[\"min\"]>1)]"
   ]
  },
  {
   "cell_type": "code",
   "execution_count": 34,
   "metadata": {},
   "outputs": [],
   "source": [
    "def fdr(df,P):\n",
    "    probabilities = df[P].to_numpy()\n",
    "    report = multi.multipletests(probabilities,\n",
    "                alpha=0.05,\n",
    "                method=\"fdr_bh\",\n",
    "                is_sorted=False,\n",
    "            )\n",
    "    discoveries = report[1]\n",
    "    df[\"fdr\"]=discoveries\n",
    "    df[\"fdr\"]=pd.to_numeric(df[\"fdr\"])\n",
    "    df[\"-log10(fdr)\"]=-np.log10(df[\"fdr\"])\n",
    "    \n",
    "    return(df)"
   ]
  },
  {
   "cell_type": "code",
   "execution_count": 36,
   "metadata": {},
   "outputs": [
    {
     "name": "stderr",
     "output_type": "stream",
     "text": [
      "/nrnb/opt/anaconda3.7/lib/python3.7/site-packages/ipykernel_launcher.py:9: SettingWithCopyWarning: \n",
      "A value is trying to be set on a copy of a slice from a DataFrame.\n",
      "Try using .loc[row_indexer,col_indexer] = value instead\n",
      "\n",
      "See the caveats in the documentation: https://pandas.pydata.org/pandas-docs/stable/user_guide/indexing.html#returning-a-view-versus-a-copy\n",
      "  if __name__ == '__main__':\n",
      "/nrnb/opt/anaconda3.7/lib/python3.7/site-packages/ipykernel_launcher.py:10: SettingWithCopyWarning: \n",
      "A value is trying to be set on a copy of a slice from a DataFrame.\n",
      "Try using .loc[row_indexer,col_indexer] = value instead\n",
      "\n",
      "See the caveats in the documentation: https://pandas.pydata.org/pandas-docs/stable/user_guide/indexing.html#returning-a-view-versus-a-copy\n",
      "  # Remove the CWD from sys.path while we load stuff.\n",
      "/nrnb/opt/anaconda3.7/lib/python3.7/site-packages/ipykernel_launcher.py:11: SettingWithCopyWarning: \n",
      "A value is trying to be set on a copy of a slice from a DataFrame.\n",
      "Try using .loc[row_indexer,col_indexer] = value instead\n",
      "\n",
      "See the caveats in the documentation: https://pandas.pydata.org/pandas-docs/stable/user_guide/indexing.html#returning-a-view-versus-a-copy\n",
      "  # This is added back by InteractiveShellApp.init_path()\n"
     ]
    }
   ],
   "source": [
    "os_fdr=pd.DataFrame()\n",
    "\n",
    "for x in os_filt[\"cancer\"].unique().tolist():\n",
    "    os_cancer=os_filt[os_filt[\"cancer\"]==x]\n",
    "    os_fdr=os_fdr.append(fdr(os_cancer,\"os.time\"))"
   ]
  },
  {
   "cell_type": "code",
   "execution_count": 37,
   "metadata": {},
   "outputs": [
    {
     "name": "stderr",
     "output_type": "stream",
     "text": [
      "/nrnb/opt/anaconda3.7/lib/python3.7/site-packages/ipykernel_launcher.py:2: SettingWithCopyWarning: \n",
      "A value is trying to be set on a copy of a slice from a DataFrame.\n",
      "Try using .loc[row_indexer,col_indexer] = value instead\n",
      "\n",
      "See the caveats in the documentation: https://pandas.pydata.org/pandas-docs/stable/user_guide/indexing.html#returning-a-view-versus-a-copy\n",
      "  \n"
     ]
    }
   ],
   "source": [
    "os_sig=os_fdr[os_fdr[\"-log10(fdr)\"]>1]\n",
    "os_sig[\"snps\"]=os_sig[\"snps\"].str.split(\"_\").str[0]"
   ]
  },
  {
   "cell_type": "code",
   "execution_count": 38,
   "metadata": {},
   "outputs": [
    {
     "data": {
      "text/plain": [
       "(35, 9)"
      ]
     },
     "execution_count": 38,
     "metadata": {},
     "output_type": "execute_result"
    }
   ],
   "source": [
    "os_sig.shape"
   ]
  },
  {
   "cell_type": "markdown",
   "metadata": {},
   "source": [
    "## Annotate snps with phenotypes"
   ]
  },
  {
   "cell_type": "code",
   "execution_count": 31,
   "metadata": {},
   "outputs": [],
   "source": [
    "snps=pd.read_csv(\"/cellar/users/mpagadal/Data/projects/germline-immune/snp-tables/immune-microenvironment-nonhla.tsv\",delimiter=\"\\t\")\n",
    "os_sig_annot=pd.merge(os_sig,snps[[\"snps\",\"file\"]],on=\"snps\",how=\"left\")"
   ]
  },
  {
   "cell_type": "code",
   "execution_count": 29,
   "metadata": {},
   "outputs": [
    {
     "data": {
      "text/plain": [
       "'1:88868236:G:A_A'"
      ]
     },
     "execution_count": 29,
     "metadata": {},
     "output_type": "execute_result"
    }
   ],
   "source": [
    "[x for x in os_surv.columns if \"1:88868236:G:A\" in x][0]"
   ]
  },
  {
   "cell_type": "code",
   "execution_count": 41,
   "metadata": {},
   "outputs": [],
   "source": [
    "\n",
    "def run_surv_plot(df_annot,surv_df,surv_type,out):\n",
    "    for i,row in df_annot.iterrows():\n",
    "        try:\n",
    "            surv_df_canc=surv_df[surv_df[\"cancer\"]==row[\"cancer\"]]\n",
    "            x=[x for x in surv_df.columns if row[\"snps\"] in x][0]\n",
    "            rs=x.rsplit(\":\",2)[0]\n",
    "        \n",
    "            allele1=x.split(\":\")[2]\n",
    "            allele2=str(x.split(\"_\")[0]).split(\":\")[3]\n",
    "            minor=x.split(\"_\")[1]\n",
    "            if allele1 == minor:\n",
    "                major=allele2\n",
    "            else:\n",
    "                major=allele1\n",
    "            \n",
    "            fig=plt.figure(figsize=(12,5))\n",
    "            ax1 = plt.subplot(1,2,1)\n",
    "            \n",
    "            groups = surv_df_canc[x]\n",
    "            ix = (groups == 2)\n",
    "\n",
    "            kmf = KaplanMeierFitter()\n",
    "            kmf.fit(surv_df_canc[surv_type+'.time'][ix], label=minor+minor)\n",
    "            kmf.plot(color='blue', ci_show=False, ax=ax1)\n",
    "    \n",
    "            kmf.fit(surv_df_canc[surv_type+'.time'][~ix], label=major+minor+\"/\"+major+major)\n",
    "            kmf.plot(ax=ax1, color='red', ci_show=False)\n",
    "\n",
    "            results = logrank_test(surv_df_canc[surv_type+'.time'][ix], surv_df_canc[surv_type+'.time'][~ix], alpha=.95) \n",
    "            plt.title('{}.{}\\n{}\\nLog-rank test: p<{:.3}'.format(x,row[\"file\"],row[\"cancer\"],results.p_value))\n",
    "\n",
    "            plt.xlabel('Months')\n",
    "            plt.ylabel(surv_type+' time (days)')\n",
    "            plt.legend(frameon=False)\n",
    "\n",
    "            plt.tight_layout()\n",
    "\n",
    "            plt.savefig(out+x+'.'+row[\"file\"]+\".\"+row[\"cancer\"]+'.pdf')\n",
    "            plt.close()\n",
    "        \n",
    "        except:\n",
    "            pass"
   ]
  },
  {
   "cell_type": "code",
   "execution_count": 42,
   "metadata": {
    "scrolled": true
   },
   "outputs": [
    {
     "name": "stderr",
     "output_type": "stream",
     "text": [
      "/nrnb/opt/anaconda3.7/lib/python3.7/site-packages/pandas/plotting/_matplotlib/core.py:656: MatplotlibDeprecationWarning: Saw kwargs ['c', 'color'] which are all aliases for 'color'.  Kept value from 'color'.  Passing multiple aliases for the same property will raise a TypeError in 3.3.\n",
      "  return ax.plot(*args, **kwds)\n",
      "/nrnb/opt/anaconda3.7/lib/python3.7/site-packages/pandas/plotting/_matplotlib/core.py:656: MatplotlibDeprecationWarning: Saw kwargs ['c', 'color'] which are all aliases for 'color'.  Kept value from 'color'.  Passing multiple aliases for the same property will raise a TypeError in 3.3.\n",
      "  return ax.plot(*args, **kwds)\n",
      "/nrnb/opt/anaconda3.7/lib/python3.7/site-packages/pandas/plotting/_matplotlib/core.py:656: MatplotlibDeprecationWarning: Saw kwargs ['c', 'color'] which are all aliases for 'color'.  Kept value from 'color'.  Passing multiple aliases for the same property will raise a TypeError in 3.3.\n",
      "  return ax.plot(*args, **kwds)\n",
      "/nrnb/opt/anaconda3.7/lib/python3.7/site-packages/pandas/plotting/_matplotlib/core.py:656: MatplotlibDeprecationWarning: Saw kwargs ['c', 'color'] which are all aliases for 'color'.  Kept value from 'color'.  Passing multiple aliases for the same property will raise a TypeError in 3.3.\n",
      "  return ax.plot(*args, **kwds)\n",
      "/nrnb/opt/anaconda3.7/lib/python3.7/site-packages/pandas/plotting/_matplotlib/core.py:656: MatplotlibDeprecationWarning: Saw kwargs ['c', 'color'] which are all aliases for 'color'.  Kept value from 'color'.  Passing multiple aliases for the same property will raise a TypeError in 3.3.\n",
      "  return ax.plot(*args, **kwds)\n",
      "/nrnb/opt/anaconda3.7/lib/python3.7/site-packages/pandas/plotting/_matplotlib/core.py:656: MatplotlibDeprecationWarning: Saw kwargs ['c', 'color'] which are all aliases for 'color'.  Kept value from 'color'.  Passing multiple aliases for the same property will raise a TypeError in 3.3.\n",
      "  return ax.plot(*args, **kwds)\n",
      "/nrnb/opt/anaconda3.7/lib/python3.7/site-packages/pandas/plotting/_matplotlib/core.py:656: MatplotlibDeprecationWarning: Saw kwargs ['c', 'color'] which are all aliases for 'color'.  Kept value from 'color'.  Passing multiple aliases for the same property will raise a TypeError in 3.3.\n",
      "  return ax.plot(*args, **kwds)\n",
      "/nrnb/opt/anaconda3.7/lib/python3.7/site-packages/pandas/plotting/_matplotlib/core.py:656: MatplotlibDeprecationWarning: Saw kwargs ['c', 'color'] which are all aliases for 'color'.  Kept value from 'color'.  Passing multiple aliases for the same property will raise a TypeError in 3.3.\n",
      "  return ax.plot(*args, **kwds)\n",
      "/nrnb/opt/anaconda3.7/lib/python3.7/site-packages/pandas/plotting/_matplotlib/core.py:656: MatplotlibDeprecationWarning: Saw kwargs ['c', 'color'] which are all aliases for 'color'.  Kept value from 'color'.  Passing multiple aliases for the same property will raise a TypeError in 3.3.\n",
      "  return ax.plot(*args, **kwds)\n",
      "/nrnb/opt/anaconda3.7/lib/python3.7/site-packages/pandas/plotting/_matplotlib/core.py:656: MatplotlibDeprecationWarning: Saw kwargs ['c', 'color'] which are all aliases for 'color'.  Kept value from 'color'.  Passing multiple aliases for the same property will raise a TypeError in 3.3.\n",
      "  return ax.plot(*args, **kwds)\n",
      "/nrnb/opt/anaconda3.7/lib/python3.7/site-packages/pandas/plotting/_matplotlib/core.py:656: MatplotlibDeprecationWarning: Saw kwargs ['c', 'color'] which are all aliases for 'color'.  Kept value from 'color'.  Passing multiple aliases for the same property will raise a TypeError in 3.3.\n",
      "  return ax.plot(*args, **kwds)\n",
      "/nrnb/opt/anaconda3.7/lib/python3.7/site-packages/pandas/plotting/_matplotlib/core.py:656: MatplotlibDeprecationWarning: Saw kwargs ['c', 'color'] which are all aliases for 'color'.  Kept value from 'color'.  Passing multiple aliases for the same property will raise a TypeError in 3.3.\n",
      "  return ax.plot(*args, **kwds)\n",
      "/nrnb/opt/anaconda3.7/lib/python3.7/site-packages/pandas/plotting/_matplotlib/core.py:656: MatplotlibDeprecationWarning: Saw kwargs ['c', 'color'] which are all aliases for 'color'.  Kept value from 'color'.  Passing multiple aliases for the same property will raise a TypeError in 3.3.\n",
      "  return ax.plot(*args, **kwds)\n",
      "/nrnb/opt/anaconda3.7/lib/python3.7/site-packages/pandas/plotting/_matplotlib/core.py:656: MatplotlibDeprecationWarning: Saw kwargs ['c', 'color'] which are all aliases for 'color'.  Kept value from 'color'.  Passing multiple aliases for the same property will raise a TypeError in 3.3.\n",
      "  return ax.plot(*args, **kwds)\n",
      "/nrnb/opt/anaconda3.7/lib/python3.7/site-packages/pandas/plotting/_matplotlib/core.py:656: MatplotlibDeprecationWarning: Saw kwargs ['c', 'color'] which are all aliases for 'color'.  Kept value from 'color'.  Passing multiple aliases for the same property will raise a TypeError in 3.3.\n",
      "  return ax.plot(*args, **kwds)\n",
      "/nrnb/opt/anaconda3.7/lib/python3.7/site-packages/pandas/plotting/_matplotlib/core.py:656: MatplotlibDeprecationWarning: Saw kwargs ['c', 'color'] which are all aliases for 'color'.  Kept value from 'color'.  Passing multiple aliases for the same property will raise a TypeError in 3.3.\n",
      "  return ax.plot(*args, **kwds)\n",
      "/nrnb/opt/anaconda3.7/lib/python3.7/site-packages/pandas/plotting/_matplotlib/core.py:656: MatplotlibDeprecationWarning: Saw kwargs ['c', 'color'] which are all aliases for 'color'.  Kept value from 'color'.  Passing multiple aliases for the same property will raise a TypeError in 3.3.\n",
      "  return ax.plot(*args, **kwds)\n",
      "/nrnb/opt/anaconda3.7/lib/python3.7/site-packages/pandas/plotting/_matplotlib/core.py:656: MatplotlibDeprecationWarning: Saw kwargs ['c', 'color'] which are all aliases for 'color'.  Kept value from 'color'.  Passing multiple aliases for the same property will raise a TypeError in 3.3.\n",
      "  return ax.plot(*args, **kwds)\n",
      "/nrnb/opt/anaconda3.7/lib/python3.7/site-packages/pandas/plotting/_matplotlib/core.py:656: MatplotlibDeprecationWarning: Saw kwargs ['c', 'color'] which are all aliases for 'color'.  Kept value from 'color'.  Passing multiple aliases for the same property will raise a TypeError in 3.3.\n",
      "  return ax.plot(*args, **kwds)\n",
      "/nrnb/opt/anaconda3.7/lib/python3.7/site-packages/pandas/plotting/_matplotlib/core.py:656: MatplotlibDeprecationWarning: Saw kwargs ['c', 'color'] which are all aliases for 'color'.  Kept value from 'color'.  Passing multiple aliases for the same property will raise a TypeError in 3.3.\n",
      "  return ax.plot(*args, **kwds)\n",
      "/nrnb/opt/anaconda3.7/lib/python3.7/site-packages/pandas/plotting/_matplotlib/core.py:656: MatplotlibDeprecationWarning: Saw kwargs ['c', 'color'] which are all aliases for 'color'.  Kept value from 'color'.  Passing multiple aliases for the same property will raise a TypeError in 3.3.\n",
      "  return ax.plot(*args, **kwds)\n",
      "/nrnb/opt/anaconda3.7/lib/python3.7/site-packages/pandas/plotting/_matplotlib/core.py:656: MatplotlibDeprecationWarning: Saw kwargs ['c', 'color'] which are all aliases for 'color'.  Kept value from 'color'.  Passing multiple aliases for the same property will raise a TypeError in 3.3.\n",
      "  return ax.plot(*args, **kwds)\n",
      "/nrnb/opt/anaconda3.7/lib/python3.7/site-packages/pandas/plotting/_matplotlib/core.py:656: MatplotlibDeprecationWarning: Saw kwargs ['c', 'color'] which are all aliases for 'color'.  Kept value from 'color'.  Passing multiple aliases for the same property will raise a TypeError in 3.3.\n",
      "  return ax.plot(*args, **kwds)\n",
      "/nrnb/opt/anaconda3.7/lib/python3.7/site-packages/pandas/plotting/_matplotlib/core.py:656: MatplotlibDeprecationWarning: Saw kwargs ['c', 'color'] which are all aliases for 'color'.  Kept value from 'color'.  Passing multiple aliases for the same property will raise a TypeError in 3.3.\n",
      "  return ax.plot(*args, **kwds)\n",
      "/nrnb/opt/anaconda3.7/lib/python3.7/site-packages/pandas/plotting/_matplotlib/core.py:656: MatplotlibDeprecationWarning: Saw kwargs ['c', 'color'] which are all aliases for 'color'.  Kept value from 'color'.  Passing multiple aliases for the same property will raise a TypeError in 3.3.\n",
      "  return ax.plot(*args, **kwds)\n",
      "/nrnb/opt/anaconda3.7/lib/python3.7/site-packages/pandas/plotting/_matplotlib/core.py:656: MatplotlibDeprecationWarning: Saw kwargs ['c', 'color'] which are all aliases for 'color'.  Kept value from 'color'.  Passing multiple aliases for the same property will raise a TypeError in 3.3.\n",
      "  return ax.plot(*args, **kwds)\n"
     ]
    },
    {
     "name": "stderr",
     "output_type": "stream",
     "text": [
      "/nrnb/opt/anaconda3.7/lib/python3.7/site-packages/pandas/plotting/_matplotlib/core.py:656: MatplotlibDeprecationWarning: Saw kwargs ['c', 'color'] which are all aliases for 'color'.  Kept value from 'color'.  Passing multiple aliases for the same property will raise a TypeError in 3.3.\n",
      "  return ax.plot(*args, **kwds)\n",
      "/nrnb/opt/anaconda3.7/lib/python3.7/site-packages/pandas/plotting/_matplotlib/core.py:656: MatplotlibDeprecationWarning: Saw kwargs ['c', 'color'] which are all aliases for 'color'.  Kept value from 'color'.  Passing multiple aliases for the same property will raise a TypeError in 3.3.\n",
      "  return ax.plot(*args, **kwds)\n",
      "/nrnb/opt/anaconda3.7/lib/python3.7/site-packages/pandas/plotting/_matplotlib/core.py:656: MatplotlibDeprecationWarning: Saw kwargs ['c', 'color'] which are all aliases for 'color'.  Kept value from 'color'.  Passing multiple aliases for the same property will raise a TypeError in 3.3.\n",
      "  return ax.plot(*args, **kwds)\n",
      "/nrnb/opt/anaconda3.7/lib/python3.7/site-packages/pandas/plotting/_matplotlib/core.py:656: MatplotlibDeprecationWarning: Saw kwargs ['c', 'color'] which are all aliases for 'color'.  Kept value from 'color'.  Passing multiple aliases for the same property will raise a TypeError in 3.3.\n",
      "  return ax.plot(*args, **kwds)\n",
      "/nrnb/opt/anaconda3.7/lib/python3.7/site-packages/pandas/plotting/_matplotlib/core.py:656: MatplotlibDeprecationWarning: Saw kwargs ['c', 'color'] which are all aliases for 'color'.  Kept value from 'color'.  Passing multiple aliases for the same property will raise a TypeError in 3.3.\n",
      "  return ax.plot(*args, **kwds)\n",
      "/nrnb/opt/anaconda3.7/lib/python3.7/site-packages/pandas/plotting/_matplotlib/core.py:656: MatplotlibDeprecationWarning: Saw kwargs ['c', 'color'] which are all aliases for 'color'.  Kept value from 'color'.  Passing multiple aliases for the same property will raise a TypeError in 3.3.\n",
      "  return ax.plot(*args, **kwds)\n",
      "/nrnb/opt/anaconda3.7/lib/python3.7/site-packages/pandas/plotting/_matplotlib/core.py:656: MatplotlibDeprecationWarning: Saw kwargs ['c', 'color'] which are all aliases for 'color'.  Kept value from 'color'.  Passing multiple aliases for the same property will raise a TypeError in 3.3.\n",
      "  return ax.plot(*args, **kwds)\n",
      "/nrnb/opt/anaconda3.7/lib/python3.7/site-packages/pandas/plotting/_matplotlib/core.py:656: MatplotlibDeprecationWarning: Saw kwargs ['c', 'color'] which are all aliases for 'color'.  Kept value from 'color'.  Passing multiple aliases for the same property will raise a TypeError in 3.3.\n",
      "  return ax.plot(*args, **kwds)\n",
      "/nrnb/opt/anaconda3.7/lib/python3.7/site-packages/pandas/plotting/_matplotlib/core.py:656: MatplotlibDeprecationWarning: Saw kwargs ['c', 'color'] which are all aliases for 'color'.  Kept value from 'color'.  Passing multiple aliases for the same property will raise a TypeError in 3.3.\n",
      "  return ax.plot(*args, **kwds)\n",
      "/nrnb/opt/anaconda3.7/lib/python3.7/site-packages/pandas/plotting/_matplotlib/core.py:656: MatplotlibDeprecationWarning: Saw kwargs ['c', 'color'] which are all aliases for 'color'.  Kept value from 'color'.  Passing multiple aliases for the same property will raise a TypeError in 3.3.\n",
      "  return ax.plot(*args, **kwds)\n",
      "/nrnb/opt/anaconda3.7/lib/python3.7/site-packages/pandas/plotting/_matplotlib/core.py:656: MatplotlibDeprecationWarning: Saw kwargs ['c', 'color'] which are all aliases for 'color'.  Kept value from 'color'.  Passing multiple aliases for the same property will raise a TypeError in 3.3.\n",
      "  return ax.plot(*args, **kwds)\n",
      "/nrnb/opt/anaconda3.7/lib/python3.7/site-packages/pandas/plotting/_matplotlib/core.py:656: MatplotlibDeprecationWarning: Saw kwargs ['c', 'color'] which are all aliases for 'color'.  Kept value from 'color'.  Passing multiple aliases for the same property will raise a TypeError in 3.3.\n",
      "  return ax.plot(*args, **kwds)\n",
      "/nrnb/opt/anaconda3.7/lib/python3.7/site-packages/pandas/plotting/_matplotlib/core.py:656: MatplotlibDeprecationWarning: Saw kwargs ['c', 'color'] which are all aliases for 'color'.  Kept value from 'color'.  Passing multiple aliases for the same property will raise a TypeError in 3.3.\n",
      "  return ax.plot(*args, **kwds)\n",
      "/nrnb/opt/anaconda3.7/lib/python3.7/site-packages/pandas/plotting/_matplotlib/core.py:656: MatplotlibDeprecationWarning: Saw kwargs ['c', 'color'] which are all aliases for 'color'.  Kept value from 'color'.  Passing multiple aliases for the same property will raise a TypeError in 3.3.\n",
      "  return ax.plot(*args, **kwds)\n",
      "/nrnb/opt/anaconda3.7/lib/python3.7/site-packages/pandas/plotting/_matplotlib/core.py:656: MatplotlibDeprecationWarning: Saw kwargs ['c', 'color'] which are all aliases for 'color'.  Kept value from 'color'.  Passing multiple aliases for the same property will raise a TypeError in 3.3.\n",
      "  return ax.plot(*args, **kwds)\n",
      "/nrnb/opt/anaconda3.7/lib/python3.7/site-packages/pandas/plotting/_matplotlib/core.py:656: MatplotlibDeprecationWarning: Saw kwargs ['c', 'color'] which are all aliases for 'color'.  Kept value from 'color'.  Passing multiple aliases for the same property will raise a TypeError in 3.3.\n",
      "  return ax.plot(*args, **kwds)\n",
      "/nrnb/opt/anaconda3.7/lib/python3.7/site-packages/pandas/plotting/_matplotlib/core.py:656: MatplotlibDeprecationWarning: Saw kwargs ['c', 'color'] which are all aliases for 'color'.  Kept value from 'color'.  Passing multiple aliases for the same property will raise a TypeError in 3.3.\n",
      "  return ax.plot(*args, **kwds)\n",
      "/nrnb/opt/anaconda3.7/lib/python3.7/site-packages/pandas/plotting/_matplotlib/core.py:656: MatplotlibDeprecationWarning: Saw kwargs ['c', 'color'] which are all aliases for 'color'.  Kept value from 'color'.  Passing multiple aliases for the same property will raise a TypeError in 3.3.\n",
      "  return ax.plot(*args, **kwds)\n",
      "/nrnb/opt/anaconda3.7/lib/python3.7/site-packages/pandas/plotting/_matplotlib/core.py:656: MatplotlibDeprecationWarning: Saw kwargs ['c', 'color'] which are all aliases for 'color'.  Kept value from 'color'.  Passing multiple aliases for the same property will raise a TypeError in 3.3.\n",
      "  return ax.plot(*args, **kwds)\n",
      "/nrnb/opt/anaconda3.7/lib/python3.7/site-packages/pandas/plotting/_matplotlib/core.py:656: MatplotlibDeprecationWarning: Saw kwargs ['c', 'color'] which are all aliases for 'color'.  Kept value from 'color'.  Passing multiple aliases for the same property will raise a TypeError in 3.3.\n",
      "  return ax.plot(*args, **kwds)\n",
      "/nrnb/opt/anaconda3.7/lib/python3.7/site-packages/pandas/plotting/_matplotlib/core.py:656: MatplotlibDeprecationWarning: Saw kwargs ['c', 'color'] which are all aliases for 'color'.  Kept value from 'color'.  Passing multiple aliases for the same property will raise a TypeError in 3.3.\n",
      "  return ax.plot(*args, **kwds)\n",
      "/nrnb/opt/anaconda3.7/lib/python3.7/site-packages/pandas/plotting/_matplotlib/core.py:656: MatplotlibDeprecationWarning: Saw kwargs ['c', 'color'] which are all aliases for 'color'.  Kept value from 'color'.  Passing multiple aliases for the same property will raise a TypeError in 3.3.\n",
      "  return ax.plot(*args, **kwds)\n",
      "/nrnb/opt/anaconda3.7/lib/python3.7/site-packages/pandas/plotting/_matplotlib/core.py:656: MatplotlibDeprecationWarning: Saw kwargs ['c', 'color'] which are all aliases for 'color'.  Kept value from 'color'.  Passing multiple aliases for the same property will raise a TypeError in 3.3.\n",
      "  return ax.plot(*args, **kwds)\n",
      "/nrnb/opt/anaconda3.7/lib/python3.7/site-packages/pandas/plotting/_matplotlib/core.py:656: MatplotlibDeprecationWarning: Saw kwargs ['c', 'color'] which are all aliases for 'color'.  Kept value from 'color'.  Passing multiple aliases for the same property will raise a TypeError in 3.3.\n",
      "  return ax.plot(*args, **kwds)\n",
      "/nrnb/opt/anaconda3.7/lib/python3.7/site-packages/pandas/plotting/_matplotlib/core.py:656: MatplotlibDeprecationWarning: Saw kwargs ['c', 'color'] which are all aliases for 'color'.  Kept value from 'color'.  Passing multiple aliases for the same property will raise a TypeError in 3.3.\n",
      "  return ax.plot(*args, **kwds)\n",
      "/nrnb/opt/anaconda3.7/lib/python3.7/site-packages/pandas/plotting/_matplotlib/core.py:656: MatplotlibDeprecationWarning: Saw kwargs ['c', 'color'] which are all aliases for 'color'.  Kept value from 'color'.  Passing multiple aliases for the same property will raise a TypeError in 3.3.\n",
      "  return ax.plot(*args, **kwds)\n"
     ]
    },
    {
     "name": "stderr",
     "output_type": "stream",
     "text": [
      "/nrnb/opt/anaconda3.7/lib/python3.7/site-packages/pandas/plotting/_matplotlib/core.py:656: MatplotlibDeprecationWarning: Saw kwargs ['c', 'color'] which are all aliases for 'color'.  Kept value from 'color'.  Passing multiple aliases for the same property will raise a TypeError in 3.3.\n",
      "  return ax.plot(*args, **kwds)\n",
      "/nrnb/opt/anaconda3.7/lib/python3.7/site-packages/pandas/plotting/_matplotlib/core.py:656: MatplotlibDeprecationWarning: Saw kwargs ['c', 'color'] which are all aliases for 'color'.  Kept value from 'color'.  Passing multiple aliases for the same property will raise a TypeError in 3.3.\n",
      "  return ax.plot(*args, **kwds)\n",
      "/nrnb/opt/anaconda3.7/lib/python3.7/site-packages/pandas/plotting/_matplotlib/core.py:656: MatplotlibDeprecationWarning: Saw kwargs ['c', 'color'] which are all aliases for 'color'.  Kept value from 'color'.  Passing multiple aliases for the same property will raise a TypeError in 3.3.\n",
      "  return ax.plot(*args, **kwds)\n",
      "/nrnb/opt/anaconda3.7/lib/python3.7/site-packages/pandas/plotting/_matplotlib/core.py:656: MatplotlibDeprecationWarning: Saw kwargs ['c', 'color'] which are all aliases for 'color'.  Kept value from 'color'.  Passing multiple aliases for the same property will raise a TypeError in 3.3.\n",
      "  return ax.plot(*args, **kwds)\n",
      "/nrnb/opt/anaconda3.7/lib/python3.7/site-packages/pandas/plotting/_matplotlib/core.py:656: MatplotlibDeprecationWarning: Saw kwargs ['c', 'color'] which are all aliases for 'color'.  Kept value from 'color'.  Passing multiple aliases for the same property will raise a TypeError in 3.3.\n",
      "  return ax.plot(*args, **kwds)\n",
      "/nrnb/opt/anaconda3.7/lib/python3.7/site-packages/pandas/plotting/_matplotlib/core.py:656: MatplotlibDeprecationWarning: Saw kwargs ['c', 'color'] which are all aliases for 'color'.  Kept value from 'color'.  Passing multiple aliases for the same property will raise a TypeError in 3.3.\n",
      "  return ax.plot(*args, **kwds)\n",
      "/nrnb/opt/anaconda3.7/lib/python3.7/site-packages/pandas/plotting/_matplotlib/core.py:656: MatplotlibDeprecationWarning: Saw kwargs ['c', 'color'] which are all aliases for 'color'.  Kept value from 'color'.  Passing multiple aliases for the same property will raise a TypeError in 3.3.\n",
      "  return ax.plot(*args, **kwds)\n",
      "/nrnb/opt/anaconda3.7/lib/python3.7/site-packages/pandas/plotting/_matplotlib/core.py:656: MatplotlibDeprecationWarning: Saw kwargs ['c', 'color'] which are all aliases for 'color'.  Kept value from 'color'.  Passing multiple aliases for the same property will raise a TypeError in 3.3.\n",
      "  return ax.plot(*args, **kwds)\n",
      "/nrnb/opt/anaconda3.7/lib/python3.7/site-packages/pandas/plotting/_matplotlib/core.py:656: MatplotlibDeprecationWarning: Saw kwargs ['c', 'color'] which are all aliases for 'color'.  Kept value from 'color'.  Passing multiple aliases for the same property will raise a TypeError in 3.3.\n",
      "  return ax.plot(*args, **kwds)\n",
      "/nrnb/opt/anaconda3.7/lib/python3.7/site-packages/pandas/plotting/_matplotlib/core.py:656: MatplotlibDeprecationWarning: Saw kwargs ['c', 'color'] which are all aliases for 'color'.  Kept value from 'color'.  Passing multiple aliases for the same property will raise a TypeError in 3.3.\n",
      "  return ax.plot(*args, **kwds)\n",
      "/nrnb/opt/anaconda3.7/lib/python3.7/site-packages/pandas/plotting/_matplotlib/core.py:656: MatplotlibDeprecationWarning: Saw kwargs ['c', 'color'] which are all aliases for 'color'.  Kept value from 'color'.  Passing multiple aliases for the same property will raise a TypeError in 3.3.\n",
      "  return ax.plot(*args, **kwds)\n",
      "/nrnb/opt/anaconda3.7/lib/python3.7/site-packages/pandas/plotting/_matplotlib/core.py:656: MatplotlibDeprecationWarning: Saw kwargs ['c', 'color'] which are all aliases for 'color'.  Kept value from 'color'.  Passing multiple aliases for the same property will raise a TypeError in 3.3.\n",
      "  return ax.plot(*args, **kwds)\n",
      "/nrnb/opt/anaconda3.7/lib/python3.7/site-packages/pandas/plotting/_matplotlib/core.py:656: MatplotlibDeprecationWarning: Saw kwargs ['c', 'color'] which are all aliases for 'color'.  Kept value from 'color'.  Passing multiple aliases for the same property will raise a TypeError in 3.3.\n",
      "  return ax.plot(*args, **kwds)\n",
      "/nrnb/opt/anaconda3.7/lib/python3.7/site-packages/pandas/plotting/_matplotlib/core.py:656: MatplotlibDeprecationWarning: Saw kwargs ['c', 'color'] which are all aliases for 'color'.  Kept value from 'color'.  Passing multiple aliases for the same property will raise a TypeError in 3.3.\n",
      "  return ax.plot(*args, **kwds)\n",
      "/nrnb/opt/anaconda3.7/lib/python3.7/site-packages/pandas/plotting/_matplotlib/core.py:656: MatplotlibDeprecationWarning: Saw kwargs ['c', 'color'] which are all aliases for 'color'.  Kept value from 'color'.  Passing multiple aliases for the same property will raise a TypeError in 3.3.\n",
      "  return ax.plot(*args, **kwds)\n",
      "/nrnb/opt/anaconda3.7/lib/python3.7/site-packages/pandas/plotting/_matplotlib/core.py:656: MatplotlibDeprecationWarning: Saw kwargs ['c', 'color'] which are all aliases for 'color'.  Kept value from 'color'.  Passing multiple aliases for the same property will raise a TypeError in 3.3.\n",
      "  return ax.plot(*args, **kwds)\n",
      "/nrnb/opt/anaconda3.7/lib/python3.7/site-packages/pandas/plotting/_matplotlib/core.py:656: MatplotlibDeprecationWarning: Saw kwargs ['c', 'color'] which are all aliases for 'color'.  Kept value from 'color'.  Passing multiple aliases for the same property will raise a TypeError in 3.3.\n",
      "  return ax.plot(*args, **kwds)\n",
      "/nrnb/opt/anaconda3.7/lib/python3.7/site-packages/pandas/plotting/_matplotlib/core.py:656: MatplotlibDeprecationWarning: Saw kwargs ['c', 'color'] which are all aliases for 'color'.  Kept value from 'color'.  Passing multiple aliases for the same property will raise a TypeError in 3.3.\n",
      "  return ax.plot(*args, **kwds)\n",
      "/nrnb/opt/anaconda3.7/lib/python3.7/site-packages/pandas/plotting/_matplotlib/core.py:656: MatplotlibDeprecationWarning: Saw kwargs ['c', 'color'] which are all aliases for 'color'.  Kept value from 'color'.  Passing multiple aliases for the same property will raise a TypeError in 3.3.\n",
      "  return ax.plot(*args, **kwds)\n",
      "/nrnb/opt/anaconda3.7/lib/python3.7/site-packages/pandas/plotting/_matplotlib/core.py:656: MatplotlibDeprecationWarning: Saw kwargs ['c', 'color'] which are all aliases for 'color'.  Kept value from 'color'.  Passing multiple aliases for the same property will raise a TypeError in 3.3.\n",
      "  return ax.plot(*args, **kwds)\n"
     ]
    }
   ],
   "source": [
    "run_surv_plot(os_sig_annot,os_surv,\"OS\",\"../plots/kaplan-plots/\")"
   ]
  },
  {
   "cell_type": "markdown",
   "metadata": {},
   "source": [
    "## Progression-free survival"
   ]
  },
  {
   "cell_type": "code",
   "execution_count": 43,
   "metadata": {},
   "outputs": [
    {
     "name": "stdout",
     "output_type": "stream",
     "text": [
      "(8183, 478)\n"
     ]
    }
   ],
   "source": [
    "pfi_surv=make_df(\"/cellar/users/mpagadal/Data/resources/from-labmembers/andrea/Liu2018.TCGA_survival.csv\",\"PFI\",\"/nrnb/users/mpagadal/tcga-genotypes/germline-immune/immune.snp.raw\")"
   ]
  },
  {
   "cell_type": "code",
   "execution_count": 44,
   "metadata": {},
   "outputs": [],
   "source": [
    "pfi_surv[\"cancer\"]=pfi_surv[\"FID\"].map(mp)"
   ]
  },
  {
   "cell_type": "code",
   "execution_count": 45,
   "metadata": {},
   "outputs": [],
   "source": [
    "rsid_lst=pfi_surv.columns[3:-1]"
   ]
  },
  {
   "cell_type": "code",
   "execution_count": 47,
   "metadata": {},
   "outputs": [],
   "source": [
    "# make list of cancer types\n",
    "cancers=pfi_surv[\"cancer\"].unique().tolist()"
   ]
  },
  {
   "cell_type": "code",
   "execution_count": 48,
   "metadata": {},
   "outputs": [],
   "source": [
    "pfi=run_surv(pfi_surv,\"PFI\",rsid_lst,cancers)"
   ]
  },
  {
   "cell_type": "code",
   "execution_count": 51,
   "metadata": {},
   "outputs": [],
   "source": [
    "pfi[\"sum\"]=pfi[\"min\"]+pfi[\"maj\"]\n",
    "pfi[\"freq\"]=pfi[\"min\"]/pfi[\"sum\"]\n",
    "pfi_filt=pfi[(pfi[\"freq\"]>.01)&(pfi[\"min\"]>1)]"
   ]
  },
  {
   "cell_type": "code",
   "execution_count": 52,
   "metadata": {},
   "outputs": [
    {
     "name": "stderr",
     "output_type": "stream",
     "text": [
      "/nrnb/opt/anaconda3.7/lib/python3.7/site-packages/ipykernel_launcher.py:9: SettingWithCopyWarning: \n",
      "A value is trying to be set on a copy of a slice from a DataFrame.\n",
      "Try using .loc[row_indexer,col_indexer] = value instead\n",
      "\n",
      "See the caveats in the documentation: https://pandas.pydata.org/pandas-docs/stable/user_guide/indexing.html#returning-a-view-versus-a-copy\n",
      "  if __name__ == '__main__':\n",
      "/nrnb/opt/anaconda3.7/lib/python3.7/site-packages/ipykernel_launcher.py:10: SettingWithCopyWarning: \n",
      "A value is trying to be set on a copy of a slice from a DataFrame.\n",
      "Try using .loc[row_indexer,col_indexer] = value instead\n",
      "\n",
      "See the caveats in the documentation: https://pandas.pydata.org/pandas-docs/stable/user_guide/indexing.html#returning-a-view-versus-a-copy\n",
      "  # Remove the CWD from sys.path while we load stuff.\n",
      "/nrnb/opt/anaconda3.7/lib/python3.7/site-packages/ipykernel_launcher.py:11: SettingWithCopyWarning: \n",
      "A value is trying to be set on a copy of a slice from a DataFrame.\n",
      "Try using .loc[row_indexer,col_indexer] = value instead\n",
      "\n",
      "See the caveats in the documentation: https://pandas.pydata.org/pandas-docs/stable/user_guide/indexing.html#returning-a-view-versus-a-copy\n",
      "  # This is added back by InteractiveShellApp.init_path()\n"
     ]
    }
   ],
   "source": [
    "pfi_fdr=pd.DataFrame()\n",
    "\n",
    "for x in pfi_filt[\"cancer\"].unique().tolist():\n",
    "    pfi_cancer=pfi_filt[pfi_filt[\"cancer\"]==x]\n",
    "    pfi_fdr=pfi_fdr.append(fdr(pfi_cancer,\"os.time\"))"
   ]
  },
  {
   "cell_type": "code",
   "execution_count": 54,
   "metadata": {},
   "outputs": [
    {
     "name": "stderr",
     "output_type": "stream",
     "text": [
      "/nrnb/opt/anaconda3.7/lib/python3.7/site-packages/ipykernel_launcher.py:2: SettingWithCopyWarning: \n",
      "A value is trying to be set on a copy of a slice from a DataFrame.\n",
      "Try using .loc[row_indexer,col_indexer] = value instead\n",
      "\n",
      "See the caveats in the documentation: https://pandas.pydata.org/pandas-docs/stable/user_guide/indexing.html#returning-a-view-versus-a-copy\n",
      "  \n"
     ]
    }
   ],
   "source": [
    "pfi_sig=pfi_fdr[pfi_fdr[\"-log10(fdr)\"]>1]\n",
    "pfi_sig[\"snps\"]=pfi_sig[\"snps\"].str.split(\"_\").str[0]"
   ]
  },
  {
   "cell_type": "code",
   "execution_count": 56,
   "metadata": {},
   "outputs": [
    {
     "data": {
      "text/plain": [
       "(35, 9)"
      ]
     },
     "execution_count": 56,
     "metadata": {},
     "output_type": "execute_result"
    }
   ],
   "source": [
    "pfi_sig.shape"
   ]
  },
  {
   "cell_type": "code",
   "execution_count": 57,
   "metadata": {},
   "outputs": [],
   "source": [
    "pfi_sig_annot=pd.merge(pfi_sig,snps[[\"snps\",\"file\"]],on=\"snps\",how=\"left\")"
   ]
  },
  {
   "cell_type": "code",
   "execution_count": 61,
   "metadata": {},
   "outputs": [
    {
     "name": "stderr",
     "output_type": "stream",
     "text": [
      "/nrnb/opt/anaconda3.7/lib/python3.7/site-packages/pandas/plotting/_matplotlib/core.py:656: MatplotlibDeprecationWarning: Saw kwargs ['c', 'color'] which are all aliases for 'color'.  Kept value from 'color'.  Passing multiple aliases for the same property will raise a TypeError in 3.3.\n",
      "  return ax.plot(*args, **kwds)\n",
      "/nrnb/opt/anaconda3.7/lib/python3.7/site-packages/pandas/plotting/_matplotlib/core.py:656: MatplotlibDeprecationWarning: Saw kwargs ['c', 'color'] which are all aliases for 'color'.  Kept value from 'color'.  Passing multiple aliases for the same property will raise a TypeError in 3.3.\n",
      "  return ax.plot(*args, **kwds)\n",
      "/nrnb/opt/anaconda3.7/lib/python3.7/site-packages/pandas/plotting/_matplotlib/core.py:656: MatplotlibDeprecationWarning: Saw kwargs ['c', 'color'] which are all aliases for 'color'.  Kept value from 'color'.  Passing multiple aliases for the same property will raise a TypeError in 3.3.\n",
      "  return ax.plot(*args, **kwds)\n",
      "/nrnb/opt/anaconda3.7/lib/python3.7/site-packages/pandas/plotting/_matplotlib/core.py:656: MatplotlibDeprecationWarning: Saw kwargs ['c', 'color'] which are all aliases for 'color'.  Kept value from 'color'.  Passing multiple aliases for the same property will raise a TypeError in 3.3.\n",
      "  return ax.plot(*args, **kwds)\n",
      "/nrnb/opt/anaconda3.7/lib/python3.7/site-packages/pandas/plotting/_matplotlib/core.py:656: MatplotlibDeprecationWarning: Saw kwargs ['c', 'color'] which are all aliases for 'color'.  Kept value from 'color'.  Passing multiple aliases for the same property will raise a TypeError in 3.3.\n",
      "  return ax.plot(*args, **kwds)\n",
      "/nrnb/opt/anaconda3.7/lib/python3.7/site-packages/pandas/plotting/_matplotlib/core.py:656: MatplotlibDeprecationWarning: Saw kwargs ['c', 'color'] which are all aliases for 'color'.  Kept value from 'color'.  Passing multiple aliases for the same property will raise a TypeError in 3.3.\n",
      "  return ax.plot(*args, **kwds)\n",
      "/nrnb/opt/anaconda3.7/lib/python3.7/site-packages/pandas/plotting/_matplotlib/core.py:656: MatplotlibDeprecationWarning: Saw kwargs ['c', 'color'] which are all aliases for 'color'.  Kept value from 'color'.  Passing multiple aliases for the same property will raise a TypeError in 3.3.\n",
      "  return ax.plot(*args, **kwds)\n",
      "/nrnb/opt/anaconda3.7/lib/python3.7/site-packages/pandas/plotting/_matplotlib/core.py:656: MatplotlibDeprecationWarning: Saw kwargs ['c', 'color'] which are all aliases for 'color'.  Kept value from 'color'.  Passing multiple aliases for the same property will raise a TypeError in 3.3.\n",
      "  return ax.plot(*args, **kwds)\n",
      "/nrnb/opt/anaconda3.7/lib/python3.7/site-packages/pandas/plotting/_matplotlib/core.py:656: MatplotlibDeprecationWarning: Saw kwargs ['c', 'color'] which are all aliases for 'color'.  Kept value from 'color'.  Passing multiple aliases for the same property will raise a TypeError in 3.3.\n",
      "  return ax.plot(*args, **kwds)\n",
      "/nrnb/opt/anaconda3.7/lib/python3.7/site-packages/pandas/plotting/_matplotlib/core.py:656: MatplotlibDeprecationWarning: Saw kwargs ['c', 'color'] which are all aliases for 'color'.  Kept value from 'color'.  Passing multiple aliases for the same property will raise a TypeError in 3.3.\n",
      "  return ax.plot(*args, **kwds)\n",
      "/nrnb/opt/anaconda3.7/lib/python3.7/site-packages/pandas/plotting/_matplotlib/core.py:656: MatplotlibDeprecationWarning: Saw kwargs ['c', 'color'] which are all aliases for 'color'.  Kept value from 'color'.  Passing multiple aliases for the same property will raise a TypeError in 3.3.\n",
      "  return ax.plot(*args, **kwds)\n",
      "/nrnb/opt/anaconda3.7/lib/python3.7/site-packages/pandas/plotting/_matplotlib/core.py:656: MatplotlibDeprecationWarning: Saw kwargs ['c', 'color'] which are all aliases for 'color'.  Kept value from 'color'.  Passing multiple aliases for the same property will raise a TypeError in 3.3.\n",
      "  return ax.plot(*args, **kwds)\n",
      "/nrnb/opt/anaconda3.7/lib/python3.7/site-packages/pandas/plotting/_matplotlib/core.py:656: MatplotlibDeprecationWarning: Saw kwargs ['c', 'color'] which are all aliases for 'color'.  Kept value from 'color'.  Passing multiple aliases for the same property will raise a TypeError in 3.3.\n",
      "  return ax.plot(*args, **kwds)\n",
      "/nrnb/opt/anaconda3.7/lib/python3.7/site-packages/pandas/plotting/_matplotlib/core.py:656: MatplotlibDeprecationWarning: Saw kwargs ['c', 'color'] which are all aliases for 'color'.  Kept value from 'color'.  Passing multiple aliases for the same property will raise a TypeError in 3.3.\n",
      "  return ax.plot(*args, **kwds)\n",
      "/nrnb/opt/anaconda3.7/lib/python3.7/site-packages/pandas/plotting/_matplotlib/core.py:656: MatplotlibDeprecationWarning: Saw kwargs ['c', 'color'] which are all aliases for 'color'.  Kept value from 'color'.  Passing multiple aliases for the same property will raise a TypeError in 3.3.\n",
      "  return ax.plot(*args, **kwds)\n",
      "/nrnb/opt/anaconda3.7/lib/python3.7/site-packages/pandas/plotting/_matplotlib/core.py:656: MatplotlibDeprecationWarning: Saw kwargs ['c', 'color'] which are all aliases for 'color'.  Kept value from 'color'.  Passing multiple aliases for the same property will raise a TypeError in 3.3.\n",
      "  return ax.plot(*args, **kwds)\n",
      "/nrnb/opt/anaconda3.7/lib/python3.7/site-packages/pandas/plotting/_matplotlib/core.py:656: MatplotlibDeprecationWarning: Saw kwargs ['c', 'color'] which are all aliases for 'color'.  Kept value from 'color'.  Passing multiple aliases for the same property will raise a TypeError in 3.3.\n",
      "  return ax.plot(*args, **kwds)\n",
      "/nrnb/opt/anaconda3.7/lib/python3.7/site-packages/pandas/plotting/_matplotlib/core.py:656: MatplotlibDeprecationWarning: Saw kwargs ['c', 'color'] which are all aliases for 'color'.  Kept value from 'color'.  Passing multiple aliases for the same property will raise a TypeError in 3.3.\n",
      "  return ax.plot(*args, **kwds)\n",
      "/nrnb/opt/anaconda3.7/lib/python3.7/site-packages/pandas/plotting/_matplotlib/core.py:656: MatplotlibDeprecationWarning: Saw kwargs ['c', 'color'] which are all aliases for 'color'.  Kept value from 'color'.  Passing multiple aliases for the same property will raise a TypeError in 3.3.\n",
      "  return ax.plot(*args, **kwds)\n",
      "/nrnb/opt/anaconda3.7/lib/python3.7/site-packages/pandas/plotting/_matplotlib/core.py:656: MatplotlibDeprecationWarning: Saw kwargs ['c', 'color'] which are all aliases for 'color'.  Kept value from 'color'.  Passing multiple aliases for the same property will raise a TypeError in 3.3.\n",
      "  return ax.plot(*args, **kwds)\n",
      "/nrnb/opt/anaconda3.7/lib/python3.7/site-packages/pandas/plotting/_matplotlib/core.py:656: MatplotlibDeprecationWarning: Saw kwargs ['c', 'color'] which are all aliases for 'color'.  Kept value from 'color'.  Passing multiple aliases for the same property will raise a TypeError in 3.3.\n",
      "  return ax.plot(*args, **kwds)\n",
      "/nrnb/opt/anaconda3.7/lib/python3.7/site-packages/pandas/plotting/_matplotlib/core.py:656: MatplotlibDeprecationWarning: Saw kwargs ['c', 'color'] which are all aliases for 'color'.  Kept value from 'color'.  Passing multiple aliases for the same property will raise a TypeError in 3.3.\n",
      "  return ax.plot(*args, **kwds)\n",
      "/nrnb/opt/anaconda3.7/lib/python3.7/site-packages/pandas/plotting/_matplotlib/core.py:656: MatplotlibDeprecationWarning: Saw kwargs ['c', 'color'] which are all aliases for 'color'.  Kept value from 'color'.  Passing multiple aliases for the same property will raise a TypeError in 3.3.\n",
      "  return ax.plot(*args, **kwds)\n",
      "/nrnb/opt/anaconda3.7/lib/python3.7/site-packages/pandas/plotting/_matplotlib/core.py:656: MatplotlibDeprecationWarning: Saw kwargs ['c', 'color'] which are all aliases for 'color'.  Kept value from 'color'.  Passing multiple aliases for the same property will raise a TypeError in 3.3.\n",
      "  return ax.plot(*args, **kwds)\n",
      "/nrnb/opt/anaconda3.7/lib/python3.7/site-packages/pandas/plotting/_matplotlib/core.py:656: MatplotlibDeprecationWarning: Saw kwargs ['c', 'color'] which are all aliases for 'color'.  Kept value from 'color'.  Passing multiple aliases for the same property will raise a TypeError in 3.3.\n",
      "  return ax.plot(*args, **kwds)\n",
      "/nrnb/opt/anaconda3.7/lib/python3.7/site-packages/pandas/plotting/_matplotlib/core.py:656: MatplotlibDeprecationWarning: Saw kwargs ['c', 'color'] which are all aliases for 'color'.  Kept value from 'color'.  Passing multiple aliases for the same property will raise a TypeError in 3.3.\n",
      "  return ax.plot(*args, **kwds)\n"
     ]
    },
    {
     "name": "stderr",
     "output_type": "stream",
     "text": [
      "/nrnb/opt/anaconda3.7/lib/python3.7/site-packages/pandas/plotting/_matplotlib/core.py:656: MatplotlibDeprecationWarning: Saw kwargs ['c', 'color'] which are all aliases for 'color'.  Kept value from 'color'.  Passing multiple aliases for the same property will raise a TypeError in 3.3.\n",
      "  return ax.plot(*args, **kwds)\n",
      "/nrnb/opt/anaconda3.7/lib/python3.7/site-packages/pandas/plotting/_matplotlib/core.py:656: MatplotlibDeprecationWarning: Saw kwargs ['c', 'color'] which are all aliases for 'color'.  Kept value from 'color'.  Passing multiple aliases for the same property will raise a TypeError in 3.3.\n",
      "  return ax.plot(*args, **kwds)\n",
      "/nrnb/opt/anaconda3.7/lib/python3.7/site-packages/pandas/plotting/_matplotlib/core.py:656: MatplotlibDeprecationWarning: Saw kwargs ['c', 'color'] which are all aliases for 'color'.  Kept value from 'color'.  Passing multiple aliases for the same property will raise a TypeError in 3.3.\n",
      "  return ax.plot(*args, **kwds)\n",
      "/nrnb/opt/anaconda3.7/lib/python3.7/site-packages/pandas/plotting/_matplotlib/core.py:656: MatplotlibDeprecationWarning: Saw kwargs ['c', 'color'] which are all aliases for 'color'.  Kept value from 'color'.  Passing multiple aliases for the same property will raise a TypeError in 3.3.\n",
      "  return ax.plot(*args, **kwds)\n",
      "/nrnb/opt/anaconda3.7/lib/python3.7/site-packages/pandas/plotting/_matplotlib/core.py:656: MatplotlibDeprecationWarning: Saw kwargs ['c', 'color'] which are all aliases for 'color'.  Kept value from 'color'.  Passing multiple aliases for the same property will raise a TypeError in 3.3.\n",
      "  return ax.plot(*args, **kwds)\n",
      "/nrnb/opt/anaconda3.7/lib/python3.7/site-packages/pandas/plotting/_matplotlib/core.py:656: MatplotlibDeprecationWarning: Saw kwargs ['c', 'color'] which are all aliases for 'color'.  Kept value from 'color'.  Passing multiple aliases for the same property will raise a TypeError in 3.3.\n",
      "  return ax.plot(*args, **kwds)\n",
      "/nrnb/opt/anaconda3.7/lib/python3.7/site-packages/pandas/plotting/_matplotlib/core.py:656: MatplotlibDeprecationWarning: Saw kwargs ['c', 'color'] which are all aliases for 'color'.  Kept value from 'color'.  Passing multiple aliases for the same property will raise a TypeError in 3.3.\n",
      "  return ax.plot(*args, **kwds)\n",
      "/nrnb/opt/anaconda3.7/lib/python3.7/site-packages/pandas/plotting/_matplotlib/core.py:656: MatplotlibDeprecationWarning: Saw kwargs ['c', 'color'] which are all aliases for 'color'.  Kept value from 'color'.  Passing multiple aliases for the same property will raise a TypeError in 3.3.\n",
      "  return ax.plot(*args, **kwds)\n",
      "/nrnb/opt/anaconda3.7/lib/python3.7/site-packages/pandas/plotting/_matplotlib/core.py:656: MatplotlibDeprecationWarning: Saw kwargs ['c', 'color'] which are all aliases for 'color'.  Kept value from 'color'.  Passing multiple aliases for the same property will raise a TypeError in 3.3.\n",
      "  return ax.plot(*args, **kwds)\n",
      "/nrnb/opt/anaconda3.7/lib/python3.7/site-packages/pandas/plotting/_matplotlib/core.py:656: MatplotlibDeprecationWarning: Saw kwargs ['c', 'color'] which are all aliases for 'color'.  Kept value from 'color'.  Passing multiple aliases for the same property will raise a TypeError in 3.3.\n",
      "  return ax.plot(*args, **kwds)\n",
      "/nrnb/opt/anaconda3.7/lib/python3.7/site-packages/pandas/plotting/_matplotlib/core.py:656: MatplotlibDeprecationWarning: Saw kwargs ['c', 'color'] which are all aliases for 'color'.  Kept value from 'color'.  Passing multiple aliases for the same property will raise a TypeError in 3.3.\n",
      "  return ax.plot(*args, **kwds)\n",
      "/nrnb/opt/anaconda3.7/lib/python3.7/site-packages/pandas/plotting/_matplotlib/core.py:656: MatplotlibDeprecationWarning: Saw kwargs ['c', 'color'] which are all aliases for 'color'.  Kept value from 'color'.  Passing multiple aliases for the same property will raise a TypeError in 3.3.\n",
      "  return ax.plot(*args, **kwds)\n",
      "/nrnb/opt/anaconda3.7/lib/python3.7/site-packages/pandas/plotting/_matplotlib/core.py:656: MatplotlibDeprecationWarning: Saw kwargs ['c', 'color'] which are all aliases for 'color'.  Kept value from 'color'.  Passing multiple aliases for the same property will raise a TypeError in 3.3.\n",
      "  return ax.plot(*args, **kwds)\n",
      "/nrnb/opt/anaconda3.7/lib/python3.7/site-packages/pandas/plotting/_matplotlib/core.py:656: MatplotlibDeprecationWarning: Saw kwargs ['c', 'color'] which are all aliases for 'color'.  Kept value from 'color'.  Passing multiple aliases for the same property will raise a TypeError in 3.3.\n",
      "  return ax.plot(*args, **kwds)\n",
      "/nrnb/opt/anaconda3.7/lib/python3.7/site-packages/pandas/plotting/_matplotlib/core.py:656: MatplotlibDeprecationWarning: Saw kwargs ['c', 'color'] which are all aliases for 'color'.  Kept value from 'color'.  Passing multiple aliases for the same property will raise a TypeError in 3.3.\n",
      "  return ax.plot(*args, **kwds)\n",
      "/nrnb/opt/anaconda3.7/lib/python3.7/site-packages/pandas/plotting/_matplotlib/core.py:656: MatplotlibDeprecationWarning: Saw kwargs ['c', 'color'] which are all aliases for 'color'.  Kept value from 'color'.  Passing multiple aliases for the same property will raise a TypeError in 3.3.\n",
      "  return ax.plot(*args, **kwds)\n",
      "/nrnb/opt/anaconda3.7/lib/python3.7/site-packages/pandas/plotting/_matplotlib/core.py:656: MatplotlibDeprecationWarning: Saw kwargs ['c', 'color'] which are all aliases for 'color'.  Kept value from 'color'.  Passing multiple aliases for the same property will raise a TypeError in 3.3.\n",
      "  return ax.plot(*args, **kwds)\n",
      "/nrnb/opt/anaconda3.7/lib/python3.7/site-packages/pandas/plotting/_matplotlib/core.py:656: MatplotlibDeprecationWarning: Saw kwargs ['c', 'color'] which are all aliases for 'color'.  Kept value from 'color'.  Passing multiple aliases for the same property will raise a TypeError in 3.3.\n",
      "  return ax.plot(*args, **kwds)\n",
      "/nrnb/opt/anaconda3.7/lib/python3.7/site-packages/pandas/plotting/_matplotlib/core.py:656: MatplotlibDeprecationWarning: Saw kwargs ['c', 'color'] which are all aliases for 'color'.  Kept value from 'color'.  Passing multiple aliases for the same property will raise a TypeError in 3.3.\n",
      "  return ax.plot(*args, **kwds)\n",
      "/nrnb/opt/anaconda3.7/lib/python3.7/site-packages/pandas/plotting/_matplotlib/core.py:656: MatplotlibDeprecationWarning: Saw kwargs ['c', 'color'] which are all aliases for 'color'.  Kept value from 'color'.  Passing multiple aliases for the same property will raise a TypeError in 3.3.\n",
      "  return ax.plot(*args, **kwds)\n",
      "/nrnb/opt/anaconda3.7/lib/python3.7/site-packages/pandas/plotting/_matplotlib/core.py:656: MatplotlibDeprecationWarning: Saw kwargs ['c', 'color'] which are all aliases for 'color'.  Kept value from 'color'.  Passing multiple aliases for the same property will raise a TypeError in 3.3.\n",
      "  return ax.plot(*args, **kwds)\n",
      "/nrnb/opt/anaconda3.7/lib/python3.7/site-packages/pandas/plotting/_matplotlib/core.py:656: MatplotlibDeprecationWarning: Saw kwargs ['c', 'color'] which are all aliases for 'color'.  Kept value from 'color'.  Passing multiple aliases for the same property will raise a TypeError in 3.3.\n",
      "  return ax.plot(*args, **kwds)\n",
      "/nrnb/opt/anaconda3.7/lib/python3.7/site-packages/pandas/plotting/_matplotlib/core.py:656: MatplotlibDeprecationWarning: Saw kwargs ['c', 'color'] which are all aliases for 'color'.  Kept value from 'color'.  Passing multiple aliases for the same property will raise a TypeError in 3.3.\n",
      "  return ax.plot(*args, **kwds)\n",
      "/nrnb/opt/anaconda3.7/lib/python3.7/site-packages/pandas/plotting/_matplotlib/core.py:656: MatplotlibDeprecationWarning: Saw kwargs ['c', 'color'] which are all aliases for 'color'.  Kept value from 'color'.  Passing multiple aliases for the same property will raise a TypeError in 3.3.\n",
      "  return ax.plot(*args, **kwds)\n",
      "/nrnb/opt/anaconda3.7/lib/python3.7/site-packages/pandas/plotting/_matplotlib/core.py:656: MatplotlibDeprecationWarning: Saw kwargs ['c', 'color'] which are all aliases for 'color'.  Kept value from 'color'.  Passing multiple aliases for the same property will raise a TypeError in 3.3.\n",
      "  return ax.plot(*args, **kwds)\n",
      "/nrnb/opt/anaconda3.7/lib/python3.7/site-packages/pandas/plotting/_matplotlib/core.py:656: MatplotlibDeprecationWarning: Saw kwargs ['c', 'color'] which are all aliases for 'color'.  Kept value from 'color'.  Passing multiple aliases for the same property will raise a TypeError in 3.3.\n",
      "  return ax.plot(*args, **kwds)\n"
     ]
    },
    {
     "name": "stderr",
     "output_type": "stream",
     "text": [
      "/nrnb/opt/anaconda3.7/lib/python3.7/site-packages/pandas/plotting/_matplotlib/core.py:656: MatplotlibDeprecationWarning: Saw kwargs ['c', 'color'] which are all aliases for 'color'.  Kept value from 'color'.  Passing multiple aliases for the same property will raise a TypeError in 3.3.\n",
      "  return ax.plot(*args, **kwds)\n",
      "/nrnb/opt/anaconda3.7/lib/python3.7/site-packages/pandas/plotting/_matplotlib/core.py:656: MatplotlibDeprecationWarning: Saw kwargs ['c', 'color'] which are all aliases for 'color'.  Kept value from 'color'.  Passing multiple aliases for the same property will raise a TypeError in 3.3.\n",
      "  return ax.plot(*args, **kwds)\n",
      "/nrnb/opt/anaconda3.7/lib/python3.7/site-packages/pandas/plotting/_matplotlib/core.py:656: MatplotlibDeprecationWarning: Saw kwargs ['c', 'color'] which are all aliases for 'color'.  Kept value from 'color'.  Passing multiple aliases for the same property will raise a TypeError in 3.3.\n",
      "  return ax.plot(*args, **kwds)\n",
      "/nrnb/opt/anaconda3.7/lib/python3.7/site-packages/pandas/plotting/_matplotlib/core.py:656: MatplotlibDeprecationWarning: Saw kwargs ['c', 'color'] which are all aliases for 'color'.  Kept value from 'color'.  Passing multiple aliases for the same property will raise a TypeError in 3.3.\n",
      "  return ax.plot(*args, **kwds)\n",
      "/nrnb/opt/anaconda3.7/lib/python3.7/site-packages/pandas/plotting/_matplotlib/core.py:656: MatplotlibDeprecationWarning: Saw kwargs ['c', 'color'] which are all aliases for 'color'.  Kept value from 'color'.  Passing multiple aliases for the same property will raise a TypeError in 3.3.\n",
      "  return ax.plot(*args, **kwds)\n",
      "/nrnb/opt/anaconda3.7/lib/python3.7/site-packages/pandas/plotting/_matplotlib/core.py:656: MatplotlibDeprecationWarning: Saw kwargs ['c', 'color'] which are all aliases for 'color'.  Kept value from 'color'.  Passing multiple aliases for the same property will raise a TypeError in 3.3.\n",
      "  return ax.plot(*args, **kwds)\n",
      "/nrnb/opt/anaconda3.7/lib/python3.7/site-packages/pandas/plotting/_matplotlib/core.py:656: MatplotlibDeprecationWarning: Saw kwargs ['c', 'color'] which are all aliases for 'color'.  Kept value from 'color'.  Passing multiple aliases for the same property will raise a TypeError in 3.3.\n",
      "  return ax.plot(*args, **kwds)\n",
      "/nrnb/opt/anaconda3.7/lib/python3.7/site-packages/pandas/plotting/_matplotlib/core.py:656: MatplotlibDeprecationWarning: Saw kwargs ['c', 'color'] which are all aliases for 'color'.  Kept value from 'color'.  Passing multiple aliases for the same property will raise a TypeError in 3.3.\n",
      "  return ax.plot(*args, **kwds)\n",
      "/nrnb/opt/anaconda3.7/lib/python3.7/site-packages/pandas/plotting/_matplotlib/core.py:656: MatplotlibDeprecationWarning: Saw kwargs ['c', 'color'] which are all aliases for 'color'.  Kept value from 'color'.  Passing multiple aliases for the same property will raise a TypeError in 3.3.\n",
      "  return ax.plot(*args, **kwds)\n",
      "/nrnb/opt/anaconda3.7/lib/python3.7/site-packages/pandas/plotting/_matplotlib/core.py:656: MatplotlibDeprecationWarning: Saw kwargs ['c', 'color'] which are all aliases for 'color'.  Kept value from 'color'.  Passing multiple aliases for the same property will raise a TypeError in 3.3.\n",
      "  return ax.plot(*args, **kwds)\n",
      "/nrnb/opt/anaconda3.7/lib/python3.7/site-packages/pandas/plotting/_matplotlib/core.py:656: MatplotlibDeprecationWarning: Saw kwargs ['c', 'color'] which are all aliases for 'color'.  Kept value from 'color'.  Passing multiple aliases for the same property will raise a TypeError in 3.3.\n",
      "  return ax.plot(*args, **kwds)\n",
      "/nrnb/opt/anaconda3.7/lib/python3.7/site-packages/pandas/plotting/_matplotlib/core.py:656: MatplotlibDeprecationWarning: Saw kwargs ['c', 'color'] which are all aliases for 'color'.  Kept value from 'color'.  Passing multiple aliases for the same property will raise a TypeError in 3.3.\n",
      "  return ax.plot(*args, **kwds)\n",
      "/nrnb/opt/anaconda3.7/lib/python3.7/site-packages/pandas/plotting/_matplotlib/core.py:656: MatplotlibDeprecationWarning: Saw kwargs ['c', 'color'] which are all aliases for 'color'.  Kept value from 'color'.  Passing multiple aliases for the same property will raise a TypeError in 3.3.\n",
      "  return ax.plot(*args, **kwds)\n",
      "/nrnb/opt/anaconda3.7/lib/python3.7/site-packages/pandas/plotting/_matplotlib/core.py:656: MatplotlibDeprecationWarning: Saw kwargs ['c', 'color'] which are all aliases for 'color'.  Kept value from 'color'.  Passing multiple aliases for the same property will raise a TypeError in 3.3.\n",
      "  return ax.plot(*args, **kwds)\n",
      "/nrnb/opt/anaconda3.7/lib/python3.7/site-packages/pandas/plotting/_matplotlib/core.py:656: MatplotlibDeprecationWarning: Saw kwargs ['c', 'color'] which are all aliases for 'color'.  Kept value from 'color'.  Passing multiple aliases for the same property will raise a TypeError in 3.3.\n",
      "  return ax.plot(*args, **kwds)\n",
      "/nrnb/opt/anaconda3.7/lib/python3.7/site-packages/pandas/plotting/_matplotlib/core.py:656: MatplotlibDeprecationWarning: Saw kwargs ['c', 'color'] which are all aliases for 'color'.  Kept value from 'color'.  Passing multiple aliases for the same property will raise a TypeError in 3.3.\n",
      "  return ax.plot(*args, **kwds)\n",
      "/nrnb/opt/anaconda3.7/lib/python3.7/site-packages/pandas/plotting/_matplotlib/core.py:656: MatplotlibDeprecationWarning: Saw kwargs ['c', 'color'] which are all aliases for 'color'.  Kept value from 'color'.  Passing multiple aliases for the same property will raise a TypeError in 3.3.\n",
      "  return ax.plot(*args, **kwds)\n",
      "/nrnb/opt/anaconda3.7/lib/python3.7/site-packages/pandas/plotting/_matplotlib/core.py:656: MatplotlibDeprecationWarning: Saw kwargs ['c', 'color'] which are all aliases for 'color'.  Kept value from 'color'.  Passing multiple aliases for the same property will raise a TypeError in 3.3.\n",
      "  return ax.plot(*args, **kwds)\n"
     ]
    }
   ],
   "source": [
    "run_surv_plot(pfi_sig_annot,pfi_surv,\"PFI\",\"../plots/kaplan-plots/\")"
   ]
  },
  {
   "cell_type": "markdown",
   "metadata": {},
   "source": [
    "## Plot summary statistics"
   ]
  },
  {
   "cell_type": "code",
   "execution_count": 62,
   "metadata": {
    "scrolled": true
   },
   "outputs": [],
   "source": [
    "pfi_mean=pfi_sig_annot[[\"cancer\",\"-log10(fdr)\"]].groupby(\"cancer\").mean()\n",
    "pfi_count=pfi_sig_annot[[\"cancer\",\"-log10(fdr)\"]].groupby(\"cancer\").size().reset_index().set_index(\"cancer\")\n",
    "pfi_plot=pd.merge(pfi_mean,pfi_count,right_index=True,left_index=True)"
   ]
  },
  {
   "cell_type": "code",
   "execution_count": 63,
   "metadata": {},
   "outputs": [],
   "source": [
    "os_mean=os_sig_annot[[\"cancer\",\"-log10(fdr)\"]].groupby(\"cancer\").mean()\n",
    "os_count=os_sig_annot[[\"cancer\",\"-log10(fdr)\"]].groupby(\"cancer\").size().reset_index().set_index(\"cancer\")\n",
    "os_plot=pd.merge(os_mean,os_count,right_index=True,left_index=True)"
   ]
  },
  {
   "cell_type": "code",
   "execution_count": 64,
   "metadata": {},
   "outputs": [],
   "source": [
    "pfi_plot[\"cat\"]=\"pfi\"\n",
    "os_plot[\"cat\"]=\"os\""
   ]
  },
  {
   "cell_type": "code",
   "execution_count": 68,
   "metadata": {},
   "outputs": [],
   "source": [
    "total_plot=pfi_plot.append(os_plot)"
   ]
  },
  {
   "cell_type": "code",
   "execution_count": 69,
   "metadata": {},
   "outputs": [],
   "source": [
    "total_plot=total_plot.reset_index()"
   ]
  },
  {
   "cell_type": "code",
   "execution_count": 70,
   "metadata": {},
   "outputs": [],
   "source": [
    "total_plot.to_csv(\"../data/os.pfi.germline.variants.txt\",index=None,sep=\"\\t\")"
   ]
  },
  {
   "cell_type": "markdown",
   "metadata": {},
   "source": [
    "## Plot prognostic snps"
   ]
  },
  {
   "cell_type": "code",
   "execution_count": 81,
   "metadata": {},
   "outputs": [
    {
     "data": {
      "image/png": "[encoded data removed]",
      "text/plain": [
       "<Figure size 36x288 with 2 Axes>"
      ]
     },
     "metadata": {
      "needs_background": "light"
     },
     "output_type": "display_data"
    }
   ],
   "source": [
    "\n",
    "\n",
    "grid=total_plot.pivot(index=\"cancer\", columns=\"cat\",values=0)\n",
    "c=total_plot.pivot(index=\"cancer\", columns=\"cat\",values=\"-log10(fdr)\")\n",
    "\n",
    "grid=grid.fillna(0)\n",
    "c=c.fillna(0)\n",
    "\n",
    "for x in c.columns:\n",
    "    c[x]=pd.to_numeric(c[x])\n",
    "\n",
    "ylabels = grid.index.tolist()\n",
    "xlabels = grid.columns.tolist()\n",
    "N=len(ylabels)\n",
    "M=len(xlabels)\n",
    "\n",
    "x, y = np.meshgrid(np.arange(M), np.arange(N))\n",
    "s = grid.values\n",
    "c = c.values\n",
    "\n",
    "fig, ax = plt.subplots(figsize=(0.5, 4))\n",
    "\n",
    "R = s/s.max()/2\n",
    "circles = [plt.Circle((j,i), radius=r) for r, j, i in zip(R.flat, x.flat, y.flat)]\n",
    "col = PatchCollection(circles, array=c.flatten(), cmap=\"Reds\")\n",
    "ax.add_collection(col)\n",
    "\n",
    "ax.set(xticks=np.arange(len(xlabels)), yticks=np.arange(len(ylabels)),\n",
    "       xticklabels=xlabels, yticklabels=ylabels)\n",
    "ax.set_xticks(np.arange(M+1)-0.5, minor=True)\n",
    "ax.set_yticks(np.arange(N+1)-0.5, minor=True)\n",
    "ax.grid(which='minor')\n",
    "plt.xticks(rotation=90)\n",
    "\n",
    "fig.colorbar(col)\n",
    "plt.savefig(\"../plots/prognostic.snps.pdf\")\n"
   ]
  },
  {
   "cell_type": "code",
   "execution_count": null,
   "metadata": {},
   "outputs": [],
   "source": []
  },
  {
   "cell_type": "code",
   "execution_count": null,
   "metadata": {},
   "outputs": [],
   "source": []
  },
  {
   "cell_type": "code",
   "execution_count": null,
   "metadata": {},
   "outputs": [],
   "source": []
  },
  {
   "cell_type": "code",
   "execution_count": null,
   "metadata": {},
   "outputs": [],
   "source": []
  }
 ],
 "metadata": {
  "kernelspec": {
   "display_name": "Python 3",
   "language": "python",
   "name": "python3"
  },
  "language_info": {
   "codemirror_mode": {
    "name": "ipython",
    "version": 3
   },
   "file_extension": ".py",
   "mimetype": "text/x-python",
   "name": "python",
   "nbconvert_exporter": "python",
   "pygments_lexer": "ipython3",
   "version": "3.7.7"
  }
 },
 "nbformat": 4,
 "nbformat_minor": 2
}
