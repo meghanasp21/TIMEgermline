{
 "cells": [
  {
   "cell_type": "code",
   "execution_count": 27,
   "metadata": {},
   "outputs": [],
   "source": [
    "import pandas as pd\n",
    "from matplotlib import pyplot as plt\n",
    "import numpy as np\n",
    "import os\n",
    "import random"
   ]
  },
  {
   "cell_type": "markdown",
   "metadata": {},
   "source": [
    "## Get histone metadata"
   ]
  },
  {
   "cell_type": "code",
   "execution_count": 28,
   "metadata": {},
   "outputs": [
    {
     "name": "stdout",
     "output_type": "stream",
     "text": [
      "(1861, 56)\n"
     ]
    }
   ],
   "source": [
    "metadata=pd.read_csv(\"../encode-histone/metadata.tsv\",delimiter=\"\\t\")\n",
    "print(metadata.shape)"
   ]
  },
  {
   "cell_type": "code",
   "execution_count": 29,
   "metadata": {},
   "outputs": [
    {
     "data": {
      "text/plain": [
       "peaks               1314\n",
       "stable peaks         243\n",
       "replicated peaks     236\n",
       "hotspots              68\n",
       "Name: Output type, dtype: int64"
      ]
     },
     "execution_count": 29,
     "metadata": {},
     "output_type": "execute_result"
    }
   ],
   "source": [
    "metadata[\"Output type\"].value_counts()"
   ]
  },
  {
   "cell_type": "code",
   "execution_count": 30,
   "metadata": {},
   "outputs": [],
   "source": [
    "metadata_stable=metadata[metadata[\"Output type\"].isin([\"stable peaks\",\"replicated peaks\"])]"
   ]
  },
  {
   "cell_type": "code",
   "execution_count": 31,
   "metadata": {},
   "outputs": [],
   "source": [
    "metadata_stable_noaudits=metadata_stable[metadata_stable[\"Audit ERROR\"].isnull()]"
   ]
  },
  {
   "cell_type": "code",
   "execution_count": 32,
   "metadata": {},
   "outputs": [
    {
     "data": {
      "text/html": [
       "<div>\n",
       "<style scoped>\n",
       "    .dataframe tbody tr th:only-of-type {\n",
       "        vertical-align: middle;\n",
       "    }\n",
       "\n",
       "    .dataframe tbody tr th {\n",
       "        vertical-align: top;\n",
       "    }\n",
       "\n",
       "    .dataframe thead th {\n",
       "        text-align: right;\n",
       "    }\n",
       "</style>\n",
       "<table border=\"1\" class=\"dataframe\">\n",
       "  <thead>\n",
       "    <tr style=\"text-align: right;\">\n",
       "      <th></th>\n",
       "      <th>File accession</th>\n",
       "      <th>File format</th>\n",
       "      <th>File type</th>\n",
       "      <th>File format type</th>\n",
       "      <th>Output type</th>\n",
       "      <th>File assembly</th>\n",
       "      <th>Experiment accession</th>\n",
       "      <th>Assay</th>\n",
       "      <th>Biosample term id</th>\n",
       "      <th>Biosample term name</th>\n",
       "      <th>...</th>\n",
       "      <th>Assembly</th>\n",
       "      <th>Genome annotation</th>\n",
       "      <th>Platform</th>\n",
       "      <th>Controlled by</th>\n",
       "      <th>File Status</th>\n",
       "      <th>s3_uri</th>\n",
       "      <th>Audit WARNING</th>\n",
       "      <th>Audit INTERNAL_ACTION</th>\n",
       "      <th>Audit NOT_COMPLIANT</th>\n",
       "      <th>Audit ERROR</th>\n",
       "    </tr>\n",
       "  </thead>\n",
       "  <tbody>\n",
       "    <tr>\n",
       "      <th>3</th>\n",
       "      <td>ENCFF243QBZ</td>\n",
       "      <td>bed narrowPeak</td>\n",
       "      <td>bed</td>\n",
       "      <td>narrowPeak</td>\n",
       "      <td>replicated peaks</td>\n",
       "      <td>hg19</td>\n",
       "      <td>ENCSR692ICP</td>\n",
       "      <td>ChIP-seq</td>\n",
       "      <td>CL:0000624</td>\n",
       "      <td>CD4-positive, alpha-beta T cell</td>\n",
       "      <td>...</td>\n",
       "      <td>NaN</td>\n",
       "      <td>NaN</td>\n",
       "      <td>NaN</td>\n",
       "      <td>released</td>\n",
       "      <td>s3://encode-public/2018/01/20/34fb463a-0625-4e...</td>\n",
       "      <td>NaN</td>\n",
       "      <td>NaN</td>\n",
       "      <td>NaN</td>\n",
       "      <td>NaN</td>\n",
       "      <td>NaN</td>\n",
       "    </tr>\n",
       "    <tr>\n",
       "      <th>4</th>\n",
       "      <td>ENCFF660BIT</td>\n",
       "      <td>bed narrowPeak</td>\n",
       "      <td>bed</td>\n",
       "      <td>narrowPeak</td>\n",
       "      <td>stable peaks</td>\n",
       "      <td>hg19</td>\n",
       "      <td>ENCSR681OSD</td>\n",
       "      <td>ChIP-seq</td>\n",
       "      <td>CL:0000625</td>\n",
       "      <td>CD8-positive, alpha-beta T cell</td>\n",
       "      <td>...</td>\n",
       "      <td>NaN</td>\n",
       "      <td>NaN</td>\n",
       "      <td>NaN</td>\n",
       "      <td>released</td>\n",
       "      <td>s3://encode-public/2018/01/21/2590a4a6-cc7b-4a...</td>\n",
       "      <td>NaN</td>\n",
       "      <td>NaN</td>\n",
       "      <td>NaN</td>\n",
       "      <td>NaN</td>\n",
       "      <td>NaN</td>\n",
       "    </tr>\n",
       "    <tr>\n",
       "      <th>8</th>\n",
       "      <td>ENCFF912DJF</td>\n",
       "      <td>bed narrowPeak</td>\n",
       "      <td>bed</td>\n",
       "      <td>narrowPeak</td>\n",
       "      <td>replicated peaks</td>\n",
       "      <td>hg19</td>\n",
       "      <td>ENCSR161XBV</td>\n",
       "      <td>ChIP-seq</td>\n",
       "      <td>CL:0000895</td>\n",
       "      <td>naive thymus-derived CD4-positive, alpha-beta ...</td>\n",
       "      <td>...</td>\n",
       "      <td>NaN</td>\n",
       "      <td>NaN</td>\n",
       "      <td>NaN</td>\n",
       "      <td>released</td>\n",
       "      <td>s3://encode-public/2018/01/26/d9c2eb95-d7ff-47...</td>\n",
       "      <td>NaN</td>\n",
       "      <td>NaN</td>\n",
       "      <td>NaN</td>\n",
       "      <td>NaN</td>\n",
       "      <td>NaN</td>\n",
       "    </tr>\n",
       "    <tr>\n",
       "      <th>10</th>\n",
       "      <td>ENCFF277QQY</td>\n",
       "      <td>bed narrowPeak</td>\n",
       "      <td>bed</td>\n",
       "      <td>narrowPeak</td>\n",
       "      <td>stable peaks</td>\n",
       "      <td>hg19</td>\n",
       "      <td>ENCSR347HBG</td>\n",
       "      <td>ChIP-seq</td>\n",
       "      <td>NTR:0003079</td>\n",
       "      <td>fibroblast of breast</td>\n",
       "      <td>...</td>\n",
       "      <td>NaN</td>\n",
       "      <td>NaN</td>\n",
       "      <td>NaN</td>\n",
       "      <td>released</td>\n",
       "      <td>s3://encode-public/2018/01/21/8390eefe-b18e-4d...</td>\n",
       "      <td>NaN</td>\n",
       "      <td>NaN</td>\n",
       "      <td>NaN</td>\n",
       "      <td>NaN</td>\n",
       "      <td>NaN</td>\n",
       "    </tr>\n",
       "    <tr>\n",
       "      <th>13</th>\n",
       "      <td>ENCFF874WPQ</td>\n",
       "      <td>bed narrowPeak</td>\n",
       "      <td>bed</td>\n",
       "      <td>narrowPeak</td>\n",
       "      <td>stable peaks</td>\n",
       "      <td>hg19</td>\n",
       "      <td>ENCSR311XVL</td>\n",
       "      <td>ChIP-seq</td>\n",
       "      <td>NTR:0003079</td>\n",
       "      <td>fibroblast of breast</td>\n",
       "      <td>...</td>\n",
       "      <td>NaN</td>\n",
       "      <td>NaN</td>\n",
       "      <td>NaN</td>\n",
       "      <td>released</td>\n",
       "      <td>s3://encode-public/2018/01/21/337bb77b-8f78-4f...</td>\n",
       "      <td>NaN</td>\n",
       "      <td>NaN</td>\n",
       "      <td>NaN</td>\n",
       "      <td>NaN</td>\n",
       "      <td>NaN</td>\n",
       "    </tr>\n",
       "  </tbody>\n",
       "</table>\n",
       "<p>5 rows × 56 columns</p>\n",
       "</div>"
      ],
      "text/plain": [
       "   File accession     File format File type File format type  \\\n",
       "3     ENCFF243QBZ  bed narrowPeak       bed       narrowPeak   \n",
       "4     ENCFF660BIT  bed narrowPeak       bed       narrowPeak   \n",
       "8     ENCFF912DJF  bed narrowPeak       bed       narrowPeak   \n",
       "10    ENCFF277QQY  bed narrowPeak       bed       narrowPeak   \n",
       "13    ENCFF874WPQ  bed narrowPeak       bed       narrowPeak   \n",
       "\n",
       "         Output type File assembly Experiment accession     Assay  \\\n",
       "3   replicated peaks          hg19          ENCSR692ICP  ChIP-seq   \n",
       "4       stable peaks          hg19          ENCSR681OSD  ChIP-seq   \n",
       "8   replicated peaks          hg19          ENCSR161XBV  ChIP-seq   \n",
       "10      stable peaks          hg19          ENCSR347HBG  ChIP-seq   \n",
       "13      stable peaks          hg19          ENCSR311XVL  ChIP-seq   \n",
       "\n",
       "   Biosample term id                                Biosample term name  ...  \\\n",
       "3         CL:0000624                    CD4-positive, alpha-beta T cell  ...   \n",
       "4         CL:0000625                    CD8-positive, alpha-beta T cell  ...   \n",
       "8         CL:0000895  naive thymus-derived CD4-positive, alpha-beta ...  ...   \n",
       "10       NTR:0003079                               fibroblast of breast  ...   \n",
       "13       NTR:0003079                               fibroblast of breast  ...   \n",
       "\n",
       "   Assembly Genome annotation Platform Controlled by  \\\n",
       "3       NaN               NaN      NaN      released   \n",
       "4       NaN               NaN      NaN      released   \n",
       "8       NaN               NaN      NaN      released   \n",
       "10      NaN               NaN      NaN      released   \n",
       "13      NaN               NaN      NaN      released   \n",
       "\n",
       "                                          File Status  s3_uri  Audit WARNING  \\\n",
       "3   s3://encode-public/2018/01/20/34fb463a-0625-4e...     NaN            NaN   \n",
       "4   s3://encode-public/2018/01/21/2590a4a6-cc7b-4a...     NaN            NaN   \n",
       "8   s3://encode-public/2018/01/26/d9c2eb95-d7ff-47...     NaN            NaN   \n",
       "10  s3://encode-public/2018/01/21/8390eefe-b18e-4d...     NaN            NaN   \n",
       "13  s3://encode-public/2018/01/21/337bb77b-8f78-4f...     NaN            NaN   \n",
       "\n",
       "    Audit INTERNAL_ACTION  Audit NOT_COMPLIANT  Audit ERROR  \n",
       "3                     NaN                  NaN          NaN  \n",
       "4                     NaN                  NaN          NaN  \n",
       "8                     NaN                  NaN          NaN  \n",
       "10                    NaN                  NaN          NaN  \n",
       "13                    NaN                  NaN          NaN  \n",
       "\n",
       "[5 rows x 56 columns]"
      ]
     },
     "execution_count": 32,
     "metadata": {},
     "output_type": "execute_result"
    }
   ],
   "source": [
    "metadata_stable_noaudits.head()"
   ]
  },
  {
   "cell_type": "code",
   "execution_count": 33,
   "metadata": {},
   "outputs": [],
   "source": [
    "df_exp=metadata_stable_noaudits[[\"Biosample term name\",\"Experiment target\"]].groupby([\"Biosample term name\",\"Experiment target\"]).size().reset_index()"
   ]
  },
  {
   "cell_type": "code",
   "execution_count": 34,
   "metadata": {},
   "outputs": [
    {
     "data": {
      "text/plain": [
       "52"
      ]
     },
     "execution_count": 34,
     "metadata": {},
     "output_type": "execute_result"
    }
   ],
   "source": [
    "len(df_exp[\"Biosample term name\"].unique())"
   ]
  },
  {
   "cell_type": "code",
   "execution_count": 35,
   "metadata": {},
   "outputs": [
    {
     "data": {
      "text/plain": [
       "11"
      ]
     },
     "execution_count": 35,
     "metadata": {},
     "output_type": "execute_result"
    }
   ],
   "source": [
    "len(df_exp[\"Experiment target\"].unique())"
   ]
  },
  {
   "cell_type": "code",
   "execution_count": 36,
   "metadata": {},
   "outputs": [
    {
     "data": {
      "text/plain": [
       "479"
      ]
     },
     "execution_count": 36,
     "metadata": {},
     "output_type": "execute_result"
    }
   ],
   "source": [
    "df_exp[0].sum()"
   ]
  },
  {
   "cell_type": "code",
   "execution_count": 37,
   "metadata": {},
   "outputs": [],
   "source": [
    "def create_combine_script(metadata):\n",
    "    new_script_file = \"/cellar/users/mpagadal/Data/projects/germline-immune/epigenetic/scripts/combine-bed-no-gz.sh\"\n",
    "    with open(new_script_file, 'w') as out_file:\n",
    "        # header \n",
    "        out_file.write('#! /bin/bash\\n')\n",
    "        out_file.write('#SBATCH --mem=10G\\n')\n",
    "        out_file.write('#SBATCH -o ./out/%A.%x.%a.out # STDOUT\\n')\n",
    "        out_file.write('#SBATCH -e ./err/%A.%x.%a.err # STDERR\\n')\n",
    "        out_file.write(\"\\n\")\n",
    "        # list of genes\n",
    "        out_file.write(\"date\\n\")\n",
    "        out_file.write(\"\\n\")\n",
    "        for x in metadata[\"Biosample term name\"].unique():\n",
    "            df=metadata[metadata[\"Biosample term name\"]==x]\n",
    "            for y in df[\"Experiment target\"].unique():\n",
    "                files=df[df[\"Experiment target\"]==y][\"File accession\"].tolist()\n",
    "                files=[\"../encode-histone/\"+x+\".bed\" for x in files]\n",
    "                x=x.replace(\" \",\"\")\n",
    "                x=x.replace(\"'\",\"\")\n",
    "                x=x.replace(\",\",\"\")\n",
    "                y=y.split(\"-\")[0]\n",
    "                y=y.replace(\" \",\"\")\n",
    "                out_file.write(\"cat {} > ../combined-beds/histone/{}.{}.bed\".format(\" \".join(files),x,y))\n",
    "                out_file.write(\"\\n\")\n",
    "                out_file.write(\"\\n\")\n",
    "        \n",
    "        out_file.write(\"date\\n\")\n",
    "        #out_file.write(\"\\n\")"
   ]
  },
  {
   "cell_type": "code",
   "execution_count": 38,
   "metadata": {},
   "outputs": [],
   "source": [
    "create_combine_script(metadata_stable_noaudits)"
   ]
  },
  {
   "cell_type": "code",
   "execution_count": 41,
   "metadata": {},
   "outputs": [],
   "source": [
    "metadata_stable_noaudits[[\"Experiment accession\",\"File accession\",\"Experiment target\",\"Biosample term name\"]].to_csv(\"../data/encode.histone.tsv\",sep=\"\\t\",index=None)\n"
   ]
  },
  {
   "cell_type": "markdown",
   "metadata": {},
   "source": [
    "## Get TF metadata"
   ]
  },
  {
   "cell_type": "code",
   "execution_count": 42,
   "metadata": {},
   "outputs": [
    {
     "name": "stdout",
     "output_type": "stream",
     "text": [
      "(1357, 55)\n"
     ]
    }
   ],
   "source": [
    "metadata=pd.read_csv(\"../encode-tf/metadata.tsv\",delimiter=\"\\t\")\n",
    "print(metadata.shape)"
   ]
  },
  {
   "cell_type": "code",
   "execution_count": 43,
   "metadata": {},
   "outputs": [
    {
     "data": {
      "text/plain": [
       "peaks and background as input for IDR     621\n",
       "optimal IDR thresholded peaks             291\n",
       "peaks                                     180\n",
       "pseudoreplicated IDR thresholded peaks    141\n",
       "conservative IDR thresholded peaks        124\n",
       "Name: Output type, dtype: int64"
      ]
     },
     "execution_count": 43,
     "metadata": {},
     "output_type": "execute_result"
    }
   ],
   "source": [
    "metadata[\"Output type\"].value_counts()"
   ]
  },
  {
   "cell_type": "code",
   "execution_count": 44,
   "metadata": {},
   "outputs": [],
   "source": [
    "metadata_stable=metadata[metadata[\"Output type\"].isin([\"optimal IDR thresholded peaks\",\"conservative IDR thresholded peaks\"])]"
   ]
  },
  {
   "cell_type": "code",
   "execution_count": 45,
   "metadata": {},
   "outputs": [],
   "source": [
    "metadata_stable_noaudits=metadata_stable[metadata_stable[\"Audit ERROR\"].isnull()]"
   ]
  },
  {
   "cell_type": "code",
   "execution_count": 46,
   "metadata": {},
   "outputs": [],
   "source": [
    "df_exp=metadata_stable_noaudits[[\"Biosample term name\",\"Experiment target\"]].groupby([\"Biosample term name\",\"Experiment target\"]).size().reset_index()"
   ]
  },
  {
   "cell_type": "code",
   "execution_count": 47,
   "metadata": {},
   "outputs": [
    {
     "data": {
      "text/plain": [
       "84"
      ]
     },
     "execution_count": 47,
     "metadata": {},
     "output_type": "execute_result"
    }
   ],
   "source": [
    "len(df_exp[\"Biosample term name\"].unique())"
   ]
  },
  {
   "cell_type": "code",
   "execution_count": 48,
   "metadata": {},
   "outputs": [
    {
     "data": {
      "text/plain": [
       "12"
      ]
     },
     "execution_count": 48,
     "metadata": {},
     "output_type": "execute_result"
    }
   ],
   "source": [
    "len(df_exp[\"Experiment target\"].unique())"
   ]
  },
  {
   "cell_type": "code",
   "execution_count": 49,
   "metadata": {},
   "outputs": [
    {
     "data": {
      "text/plain": [
       "323"
      ]
     },
     "execution_count": 49,
     "metadata": {},
     "output_type": "execute_result"
    }
   ],
   "source": [
    "df_exp[0].sum()"
   ]
  },
  {
   "cell_type": "code",
   "execution_count": 50,
   "metadata": {},
   "outputs": [],
   "source": [
    "def create_combine_script(metadata):\n",
    "    new_script_file = \"/cellar/users/mpagadal/Data/projects/germline-immune/epigenetic/scripts/combine-bed-no-gz.sh\"\n",
    "    with open(new_script_file, 'w') as out_file:\n",
    "        # header \n",
    "        out_file.write('#! /bin/bash\\n')\n",
    "        out_file.write('#SBATCH --mem=10G\\n')\n",
    "        out_file.write('#SBATCH -o ./out/%A.%x.%a.out # STDOUT\\n')\n",
    "        out_file.write('#SBATCH -e ./err/%A.%x.%a.err # STDERR\\n')\n",
    "        out_file.write(\"\\n\")\n",
    "        # list of genes\n",
    "        out_file.write(\"date\\n\")\n",
    "        out_file.write(\"\\n\")\n",
    "        for x in metadata[\"Biosample term name\"].unique():\n",
    "            df=metadata[metadata[\"Biosample term name\"]==x]\n",
    "            for y in df[\"Experiment target\"].unique():\n",
    "                files=df[df[\"Experiment target\"]==y][\"File accession\"].tolist()\n",
    "                files=[\"../encode-tf/\"+x+\".bed\" for x in files]\n",
    "                x=x.replace(\" \",\"\")\n",
    "                x=x.replace(\"'\",\"\")\n",
    "                x=x.replace(\",\",\"\")\n",
    "                y=y.split(\"-\")[0]\n",
    "                y=y.replace(\" \",\"\")\n",
    "                out_file.write(\"cat {} > ../combined-beds/tf/{}.{}.bed\".format(\" \".join(files),x,y))\n",
    "                out_file.write(\"\\n\")\n",
    "                out_file.write(\"\\n\")\n",
    "        \n",
    "        out_file.write(\"date\\n\")\n"
   ]
  },
  {
   "cell_type": "code",
   "execution_count": 51,
   "metadata": {},
   "outputs": [],
   "source": [
    "create_combine_script(metadata_stable_noaudits)"
   ]
  },
  {
   "cell_type": "code",
   "execution_count": 52,
   "metadata": {},
   "outputs": [],
   "source": [
    "metadata_stable_noaudits[[\"Experiment accession\",\"File accession\",\"Experiment target\",\"Biosample term name\"]].to_csv(\"../data/encode.tf.tsv\",sep=\"\\t\",index=None)"
   ]
  }
 ],
 "metadata": {
  "kernelspec": {
   "display_name": "Python 3",
   "language": "python",
   "name": "python3"
  },
  "language_info": {
   "codemirror_mode": {
    "name": "ipython",
    "version": 3
   },
   "file_extension": ".py",
   "mimetype": "text/x-python",
   "name": "python",
   "nbconvert_exporter": "python",
   "pygments_lexer": "ipython3",
   "version": "3.7.7"
  }
 },
 "nbformat": 4,
 "nbformat_minor": 4
}
