{
 "cells": [
  {
   "cell_type": "code",
   "execution_count": 149,
   "metadata": {},
   "outputs": [],
   "source": [
    "import pandas as pd\n",
    "import seaborn as sns\n",
    "from matplotlib import pyplot as plt\n",
    "import numpy as np\n",
    "import os"
   ]
  },
  {
   "cell_type": "code",
   "execution_count": 150,
   "metadata": {},
   "outputs": [],
   "source": [
    "import matplotlib\n",
    "matplotlib.rcParams['pdf.fonttype'] = 42\n",
    "matplotlib.rcParams['ps.fonttype'] = 42"
   ]
  },
  {
   "cell_type": "markdown",
   "metadata": {},
   "source": [
    "## Make bed file index file"
   ]
  },
  {
   "cell_type": "code",
   "execution_count": 151,
   "metadata": {},
   "outputs": [],
   "source": [
    "def make_index_file(directory,out_file):\n",
    "    peaks=[x for x in os.listdir(directory) if \".bed\" in x]\n",
    "    with open(out_file,\"w\") as out_file:\n",
    "        for x in peaks:\n",
    "            out_file.write(directory+\"/\"+x+\"\\n\")"
   ]
  },
  {
   "cell_type": "markdown",
   "metadata": {},
   "source": [
    "## Get TF GREGOR output files"
   ]
  },
  {
   "cell_type": "code",
   "execution_count": 156,
   "metadata": {},
   "outputs": [],
   "source": [
    "def get_gregor(directory,exp):\n",
    "    \n",
    "    compiled=pd.DataFrame()\n",
    "\n",
    "    for x in exp:\n",
    "        df=pd.read_csv(directory+\"/\"+x+\"/StatisticSummaryFile.txt\",delimiter=\"\\t\")\n",
    "        df[\"type\"]=x\n",
    "        compiled=compiled.append(df)\n",
    "    \n",
    "    compiled[\"ratio\"]=(compiled[\"InBed_Index_SNP\"]-compiled[\"ExpectNum_of_InBed_SNP\"])/(compiled[\"ExpectNum_of_InBed_SNP\"])\n",
    "    return(compiled)\n",
    "    "
   ]
  },
  {
   "cell_type": "code",
   "execution_count": 163,
   "metadata": {},
   "outputs": [],
   "source": [
    "df=get_gregor(\"/cellar/users/mpagadal/Programs/GREGOR/histone\",[\"nonhla_sig\"])"
   ]
  },
  {
   "cell_type": "code",
   "execution_count": 164,
   "metadata": {},
   "outputs": [],
   "source": [
    "df[\"TF\"]=df[\"Bed_File\"].str.split(\".\").str[1]\n",
    "df[\"cell\"]=df[\"Bed_File\"].str.split(\".H\").str[0]"
   ]
  },
  {
   "cell_type": "markdown",
   "metadata": {},
   "source": [
    "### Get mean and standard error"
   ]
  },
  {
   "cell_type": "code",
   "execution_count": 168,
   "metadata": {},
   "outputs": [],
   "source": [
    "df_mean=df[[\"TF\",\"ratio\"]].groupby(\"TF\").mean()\n",
    "df_std=df[[\"TF\",\"ratio\"]].groupby(\"TF\").std()\n",
    "df_counts=df[\"TF\"].value_counts().reset_index()\n",
    "df_counts=df_counts.set_index(\"index\")"
   ]
  },
  {
   "cell_type": "code",
   "execution_count": 170,
   "metadata": {},
   "outputs": [],
   "source": [
    "df=pd.merge(df_mean, df_std, left_index=True, right_index=True)\n",
    "df=pd.merge(df, df_counts, left_index=True, right_index=True)\n",
    "df.columns=[\"mean\",\"std\",\"num\"]"
   ]
  },
  {
   "cell_type": "code",
   "execution_count": 171,
   "metadata": {},
   "outputs": [],
   "source": [
    "df[\"se\"]=df[\"std\"]/np.sqrt(df[\"num\"])"
   ]
  },
  {
   "cell_type": "code",
   "execution_count": 172,
   "metadata": {},
   "outputs": [],
   "source": [
    "df=df.sort_values(by=\"mean\",ascending=False)"
   ]
  },
  {
   "cell_type": "code",
   "execution_count": 173,
   "metadata": {},
   "outputs": [],
   "source": [
    "df.index=df.index.str.split(\"-\").str[0]"
   ]
  },
  {
   "cell_type": "code",
   "execution_count": 174,
   "metadata": {},
   "outputs": [
    {
     "data": {
      "text/html": [
       "<div>\n",
       "<style scoped>\n",
       "    .dataframe tbody tr th:only-of-type {\n",
       "        vertical-align: middle;\n",
       "    }\n",
       "\n",
       "    .dataframe tbody tr th {\n",
       "        vertical-align: top;\n",
       "    }\n",
       "\n",
       "    .dataframe thead th {\n",
       "        text-align: right;\n",
       "    }\n",
       "</style>\n",
       "<table border=\"1\" class=\"dataframe\">\n",
       "  <thead>\n",
       "    <tr style=\"text-align: right;\">\n",
       "      <th></th>\n",
       "      <th>mean</th>\n",
       "      <th>std</th>\n",
       "      <th>num</th>\n",
       "      <th>se</th>\n",
       "    </tr>\n",
       "  </thead>\n",
       "  <tbody>\n",
       "    <tr>\n",
       "      <th>H3K36me3</th>\n",
       "      <td>0.903164</td>\n",
       "      <td>0.278669</td>\n",
       "      <td>34</td>\n",
       "      <td>0.047791</td>\n",
       "    </tr>\n",
       "    <tr>\n",
       "      <th>H3K4me3</th>\n",
       "      <td>0.689922</td>\n",
       "      <td>0.163808</td>\n",
       "      <td>49</td>\n",
       "      <td>0.023401</td>\n",
       "    </tr>\n",
       "    <tr>\n",
       "      <th>H3K27ac</th>\n",
       "      <td>0.601989</td>\n",
       "      <td>0.289965</td>\n",
       "      <td>29</td>\n",
       "      <td>0.053845</td>\n",
       "    </tr>\n",
       "    <tr>\n",
       "      <th>H3K9ac</th>\n",
       "      <td>0.565153</td>\n",
       "      <td>0.209427</td>\n",
       "      <td>15</td>\n",
       "      <td>0.054074</td>\n",
       "    </tr>\n",
       "    <tr>\n",
       "      <th>H2AFZ</th>\n",
       "      <td>0.470296</td>\n",
       "      <td>0.138827</td>\n",
       "      <td>9</td>\n",
       "      <td>0.046276</td>\n",
       "    </tr>\n",
       "  </tbody>\n",
       "</table>\n",
       "</div>"
      ],
      "text/plain": [
       "              mean       std  num        se\n",
       "H3K36me3  0.903164  0.278669   34  0.047791\n",
       "H3K4me3   0.689922  0.163808   49  0.023401\n",
       "H3K27ac   0.601989  0.289965   29  0.053845\n",
       "H3K9ac    0.565153  0.209427   15  0.054074\n",
       "H2AFZ     0.470296  0.138827    9  0.046276"
      ]
     },
     "execution_count": 174,
     "metadata": {},
     "output_type": "execute_result"
    }
   ],
   "source": [
    "df.head()"
   ]
  },
  {
   "cell_type": "code",
   "execution_count": 175,
   "metadata": {},
   "outputs": [
    {
     "data": {
      "image/png": "[encoded data removed]",
      "text/plain": [
       "<Figure size 432x432 with 1 Axes>"
      ]
     },
     "metadata": {
      "needs_background": "light"
     },
     "output_type": "display_data"
    }
   ],
   "source": [
    "fig, ax = plt.subplots(figsize=(6, 6))\n",
    "plt.errorbar(df[\"mean\"].tolist(),df.index.tolist(), xerr=df[\"se\"].tolist(), fmt='.', color='black',\n",
    "             ecolor='gray', elinewidth=1);\n",
    "plt.axvline(0,linestyle=\"--\",color=\"lightgray\")\n",
    "plt.xlabel(\"enrichment ratio\")\n",
    "plt.savefig(\"histone.pdf\")"
   ]
  },
  {
   "cell_type": "markdown",
   "metadata": {},
   "source": [
    "### get cell types with at least 6 experiments"
   ]
  },
  {
   "cell_type": "code",
   "execution_count": 120,
   "metadata": {
    "scrolled": false
   },
   "outputs": [],
   "source": [
    "cell_counts=compiled[\"cell\"].value_counts().reset_index()\n",
    "cell_lst=cell_counts[cell_counts[\"cell\"]>6][\"index\"].tolist()"
   ]
  },
  {
   "cell_type": "code",
   "execution_count": 121,
   "metadata": {},
   "outputs": [],
   "source": [
    "compiled_filt=compiled[compiled[\"cell\"].isin(cell_lst)]"
   ]
  },
  {
   "cell_type": "code",
   "execution_count": 122,
   "metadata": {},
   "outputs": [],
   "source": [
    "df_plot_cell=compiled_filt.pivot(index=\"TF\",columns=\"cell\",values=\"ratio\")"
   ]
  },
  {
   "cell_type": "code",
   "execution_count": 123,
   "metadata": {},
   "outputs": [],
   "source": [
    "df_plot_cell=df_plot_cell.loc[df.index.tolist()]"
   ]
  },
  {
   "cell_type": "code",
   "execution_count": 124,
   "metadata": {},
   "outputs": [],
   "source": [
    "df_plot_cell=df_plot_cell.fillna(0)"
   ]
  },
  {
   "cell_type": "code",
   "execution_count": 125,
   "metadata": {},
   "outputs": [],
   "source": [
    "df_plot_cell=df_plot_cell.stack().reset_index()"
   ]
  },
  {
   "cell_type": "code",
   "execution_count": 126,
   "metadata": {},
   "outputs": [
    {
     "data": {
      "text/plain": [
       "H3K9ac      14\n",
       "H3K4me2     14\n",
       "H3K4me3     14\n",
       "H3K27ac     14\n",
       "H3K4me1     14\n",
       "H3K9me3     14\n",
       "H3K27me3    14\n",
       "H2AFZ       14\n",
       "H4K20me1    14\n",
       "H3K36me3    14\n",
       "H3K79me2    14\n",
       "Name: TF, dtype: int64"
      ]
     },
     "execution_count": 126,
     "metadata": {},
     "output_type": "execute_result"
    }
   ],
   "source": [
    "df_plot_cell[\"TF\"].value_counts()"
   ]
  },
  {
   "cell_type": "code",
   "execution_count": 127,
   "metadata": {},
   "outputs": [],
   "source": [
    "df_plot_cell[\"color\"]=np.where(df_plot_cell[0]>=0,1,-1)"
   ]
  },
  {
   "cell_type": "code",
   "execution_count": 128,
   "metadata": {},
   "outputs": [
    {
     "data": {
      "text/html": [
       "<div>\n",
       "<style scoped>\n",
       "    .dataframe tbody tr th:only-of-type {\n",
       "        vertical-align: middle;\n",
       "    }\n",
       "\n",
       "    .dataframe tbody tr th {\n",
       "        vertical-align: top;\n",
       "    }\n",
       "\n",
       "    .dataframe thead th {\n",
       "        text-align: right;\n",
       "    }\n",
       "</style>\n",
       "<table border=\"1\" class=\"dataframe\">\n",
       "  <thead>\n",
       "    <tr style=\"text-align: right;\">\n",
       "      <th></th>\n",
       "      <th>TF</th>\n",
       "      <th>cell</th>\n",
       "      <th>0</th>\n",
       "      <th>color</th>\n",
       "    </tr>\n",
       "  </thead>\n",
       "  <tbody>\n",
       "    <tr>\n",
       "      <th>0</th>\n",
       "      <td>H3K36me3</td>\n",
       "      <td>Bcell</td>\n",
       "      <td>1.020498</td>\n",
       "      <td>1</td>\n",
       "    </tr>\n",
       "    <tr>\n",
       "      <th>1</th>\n",
       "      <td>H3K36me3</td>\n",
       "      <td>CD14-positivemonocyte</td>\n",
       "      <td>1.174394</td>\n",
       "      <td>1</td>\n",
       "    </tr>\n",
       "    <tr>\n",
       "      <th>2</th>\n",
       "      <td>H3K36me3</td>\n",
       "      <td>CD8-positivealpha-betaTcell</td>\n",
       "      <td>1.099280</td>\n",
       "      <td>1</td>\n",
       "    </tr>\n",
       "    <tr>\n",
       "      <th>3</th>\n",
       "      <td>H3K36me3</td>\n",
       "      <td>endothelialcellofumbilicalvein</td>\n",
       "      <td>0.834134</td>\n",
       "      <td>1</td>\n",
       "    </tr>\n",
       "    <tr>\n",
       "      <th>4</th>\n",
       "      <td>H3K36me3</td>\n",
       "      <td>fibroblastofdermis</td>\n",
       "      <td>0.000000</td>\n",
       "      <td>1</td>\n",
       "    </tr>\n",
       "    <tr>\n",
       "      <th>...</th>\n",
       "      <td>...</td>\n",
       "      <td>...</td>\n",
       "      <td>...</td>\n",
       "      <td>...</td>\n",
       "    </tr>\n",
       "    <tr>\n",
       "      <th>149</th>\n",
       "      <td>H3K9me3</td>\n",
       "      <td>mammaryepithelialcell</td>\n",
       "      <td>-0.379267</td>\n",
       "      <td>-1</td>\n",
       "    </tr>\n",
       "    <tr>\n",
       "      <th>150</th>\n",
       "      <td>H3K9me3</td>\n",
       "      <td>osteoblast</td>\n",
       "      <td>-0.411557</td>\n",
       "      <td>-1</td>\n",
       "    </tr>\n",
       "    <tr>\n",
       "      <th>151</th>\n",
       "      <td>H3K9me3</td>\n",
       "      <td>peripheralbloodmononuclearcell</td>\n",
       "      <td>-0.098730</td>\n",
       "      <td>-1</td>\n",
       "    </tr>\n",
       "    <tr>\n",
       "      <th>152</th>\n",
       "      <td>H3K9me3</td>\n",
       "      <td>skeletalmusclemyoblast</td>\n",
       "      <td>-0.422136</td>\n",
       "      <td>-1</td>\n",
       "    </tr>\n",
       "    <tr>\n",
       "      <th>153</th>\n",
       "      <td>H3K9me3</td>\n",
       "      <td>skeletalmusclesatellitecell</td>\n",
       "      <td>-0.285209</td>\n",
       "      <td>-1</td>\n",
       "    </tr>\n",
       "  </tbody>\n",
       "</table>\n",
       "<p>154 rows × 4 columns</p>\n",
       "</div>"
      ],
      "text/plain": [
       "           TF                            cell         0  color\n",
       "0    H3K36me3                           Bcell  1.020498      1\n",
       "1    H3K36me3           CD14-positivemonocyte  1.174394      1\n",
       "2    H3K36me3     CD8-positivealpha-betaTcell  1.099280      1\n",
       "3    H3K36me3  endothelialcellofumbilicalvein  0.834134      1\n",
       "4    H3K36me3              fibroblastofdermis  0.000000      1\n",
       "..        ...                             ...       ...    ...\n",
       "149   H3K9me3           mammaryepithelialcell -0.379267     -1\n",
       "150   H3K9me3                      osteoblast -0.411557     -1\n",
       "151   H3K9me3  peripheralbloodmononuclearcell -0.098730     -1\n",
       "152   H3K9me3          skeletalmusclemyoblast -0.422136     -1\n",
       "153   H3K9me3     skeletalmusclesatellitecell -0.285209     -1\n",
       "\n",
       "[154 rows x 4 columns]"
      ]
     },
     "execution_count": 128,
     "metadata": {},
     "output_type": "execute_result"
    }
   ],
   "source": [
    "df_plot_cell"
   ]
  },
  {
   "cell_type": "code",
   "execution_count": 147,
   "metadata": {},
   "outputs": [],
   "source": [
    "n_colors = 256 # Use 256 colors for the diverging color palette\n",
    "palette = sns.diverging_palette(220, 20, n=n_colors) # Create the palette\n",
    "color_min, color_max = [-1, 1] # Range of values that will be mapped to the palette, i.e. min and max possible correlation\n",
    "\n",
    "def value_to_color(val):\n",
    "    val_position = float((val - color_min)) / (color_max - color_min) # position of value in the input range, relative to the length of the input range\n",
    "    ind = int(val_position * (n_colors - 1)) # target index in the color palette\n",
    "    return palette[ind]"
   ]
  },
  {
   "cell_type": "code",
   "execution_count": 148,
   "metadata": {},
   "outputs": [
    {
     "name": "stdout",
     "output_type": "stream",
     "text": [
      "-1\n"
     ]
    },
    {
     "data": {
      "image/png": "[encoded data removed]",
      "text/plain": [
       "<Figure size 432x432 with 1 Axes>"
      ]
     },
     "metadata": {
      "needs_background": "light"
     },
     "output_type": "display_data"
    }
   ],
   "source": [
    "def heatmap(x, y, size,color):\n",
    "    fig, ax = plt.subplots(figsize=(6, 6))\n",
    "    \n",
    "    # Mapping from column names to integer coordinates\n",
    "    x_labels = [v for v in x.unique()]\n",
    "    y_labels = [v for v in y.unique()]\n",
    "    x_to_num = {p[1]:p[0] for p in enumerate(x_labels)} \n",
    "    y_to_num = {p[1]:p[0] for p in enumerate(y_labels)} \n",
    "    \n",
    "    n_colors = 256 # Use 256 colors for the diverging color palette\n",
    "    palette = sns.diverging_palette(20, 220, n=n_colors) # Create the palette\n",
    "    color_min, color_max = [-1, 1] # Range of values that will be mapped to the palette, i.e. min and max possible correlation\n",
    "    \n",
    "    print(color_min)\n",
    "    size_scale = 500\n",
    "    ax.scatter(\n",
    "        x=x.map(x_to_num), # Use mapping for x\n",
    "        y=y.map(y_to_num), # Use mapping for y\n",
    "        s=size * size_scale, \n",
    "        c=color.apply(value_to_color)# Vector of square sizes, proportional to size parameter\n",
    "        # Use square as scatterplot marker\n",
    "    )\n",
    "    \n",
    "    # Show column labels on the axes\n",
    "    ax.set_xticks([x_to_num[v] for v in x_labels])\n",
    "    ax.set_xticklabels(x_labels, rotation=45, horizontalalignment='right')\n",
    "    ax.set_yticks([y_to_num[v] for v in y_labels])\n",
    "    ax.set_yticklabels(y_labels)\n",
    "    plt.xticks(rotation=90)\n",
    "    \n",
    "heatmap(\n",
    "    x=df_plot_cell['cell'],\n",
    "    y=df_plot_cell[\"TF\"],\n",
    "    size=df_plot_cell[0].abs(),\n",
    "    color=df_plot_cell[\"color\"]\n",
    ")\n",
    "plt.savefig(\"histone.epi.pdf\")"
   ]
  },
  {
   "cell_type": "code",
   "execution_count": 135,
   "metadata": {},
   "outputs": [
    {
     "data": {
      "text/plain": [
       "0      1\n",
       "1      1\n",
       "2      1\n",
       "3      1\n",
       "4      1\n",
       "      ..\n",
       "149   -1\n",
       "150   -1\n",
       "151   -1\n",
       "152   -1\n",
       "153   -1\n",
       "Name: color, Length: 154, dtype: int64"
      ]
     },
     "execution_count": 135,
     "metadata": {},
     "output_type": "execute_result"
    }
   ],
   "source": [
    "df_plot_cell[\"color\"]"
   ]
  },
  {
   "cell_type": "code",
   "execution_count": null,
   "metadata": {},
   "outputs": [],
   "source": []
  },
  {
   "cell_type": "code",
   "execution_count": null,
   "metadata": {},
   "outputs": [],
   "source": []
  },
  {
   "cell_type": "code",
   "execution_count": null,
   "metadata": {},
   "outputs": [],
   "source": []
  },
  {
   "cell_type": "code",
   "execution_count": null,
   "metadata": {},
   "outputs": [],
   "source": []
  }
 ],
 "metadata": {
  "kernelspec": {
   "display_name": "Python 3",
   "language": "python",
   "name": "python3"
  },
  "language_info": {
   "codemirror_mode": {
    "name": "ipython",
    "version": 3
   },
   "file_extension": ".py",
   "mimetype": "text/x-python",
   "name": "python",
   "nbconvert_exporter": "python",
   "pygments_lexer": "ipython3",
   "version": "3.7.7"
  }
 },
 "nbformat": 4,
 "nbformat_minor": 4
}
