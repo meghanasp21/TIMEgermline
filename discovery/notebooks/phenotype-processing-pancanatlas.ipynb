{
 "cells": [
  {
   "cell_type": "code",
   "execution_count": 98,
   "metadata": {},
   "outputs": [],
   "source": [
    "import pandas as pd\n",
    "import os\n",
    "import matplotlib.pyplot as plt\n",
    "import seaborn as sns\n",
    "import numpy as np\n",
    "import json"
   ]
  },
  {
   "cell_type": "markdown",
   "metadata": {},
   "source": [
    "## Process PanCanAtlas file"
   ]
  },
  {
   "cell_type": "code",
   "execution_count": 99,
   "metadata": {},
   "outputs": [
    {
     "data": {
      "text/html": [
       "<div>\n",
       "<style scoped>\n",
       "    .dataframe tbody tr th:only-of-type {\n",
       "        vertical-align: middle;\n",
       "    }\n",
       "\n",
       "    .dataframe tbody tr th {\n",
       "        vertical-align: top;\n",
       "    }\n",
       "\n",
       "    .dataframe thead th {\n",
       "        text-align: right;\n",
       "    }\n",
       "</style>\n",
       "<table border=\"1\" class=\"dataframe\">\n",
       "  <thead>\n",
       "    <tr style=\"text-align: right;\">\n",
       "      <th></th>\n",
       "      <th>0</th>\n",
       "      <th>1</th>\n",
       "    </tr>\n",
       "  </thead>\n",
       "  <tbody>\n",
       "    <tr>\n",
       "      <th>0</th>\n",
       "      <td>ACE</td>\n",
       "      <td>antigen present</td>\n",
       "    </tr>\n",
       "    <tr>\n",
       "      <th>1</th>\n",
       "      <td>ACTR10</td>\n",
       "      <td>antigen present</td>\n",
       "    </tr>\n",
       "    <tr>\n",
       "      <th>2</th>\n",
       "      <td>ACTR1A</td>\n",
       "      <td>antigen present</td>\n",
       "    </tr>\n",
       "    <tr>\n",
       "      <th>3</th>\n",
       "      <td>ACTR1B</td>\n",
       "      <td>antigen present</td>\n",
       "    </tr>\n",
       "    <tr>\n",
       "      <th>4</th>\n",
       "      <td>AP1B1</td>\n",
       "      <td>antigen present</td>\n",
       "    </tr>\n",
       "  </tbody>\n",
       "</table>\n",
       "</div>"
      ],
      "text/plain": [
       "        0                1\n",
       "0     ACE  antigen present\n",
       "1  ACTR10  antigen present\n",
       "2  ACTR1A  antigen present\n",
       "3  ACTR1B  antigen present\n",
       "4   AP1B1  antigen present"
      ]
     },
     "execution_count": 99,
     "metadata": {},
     "output_type": "execute_result"
    }
   ],
   "source": [
    "pheno=pd.read_csv(\"../data/phenotype.mapping.csv\",header=None)\n",
    "pheno.head()"
   ]
  },
  {
   "cell_type": "code",
   "execution_count": 101,
   "metadata": {},
   "outputs": [],
   "source": [
    "def filter_zeros(df,threshold):\n",
    "    '''\n",
    "    inputs:\n",
    "    df: dataframe of rna values\n",
    "    threshold: % of zero values by which to exclude phenotypes\n",
    "    \n",
    "    output:\n",
    "    dataframe with rna values < threshold of zero values\n",
    "    '''\n",
    "    \n",
    "    keep=[]\n",
    "    remove=[]\n",
    "    \n",
    "    for x in df.columns:\n",
    "        if len(df[df[x]==0])>threshold*len(df):\n",
    "            remove.append(x)\n",
    "        else:\n",
    "            keep.append(x)\n",
    "    \n",
    "    print(\"{} phenotypes with > {} zeroes were removed\".format(len(remove),threshold))\n",
    "    return(df[keep])"
   ]
  },
  {
   "cell_type": "code",
   "execution_count": 102,
   "metadata": {},
   "outputs": [],
   "source": [
    "def filter_genotyped(df,fam):\n",
    "    #get genotyped patients\n",
    "    geno=pd.read_csv(fam,header=None,sep=\" \")[0].tolist()\n",
    "    df=df[df.index.isin(geno)]\n",
    "    df=df.reset_index()\n",
    "    df=df.rename(columns={\"index\":\"FID\"})\n",
    "    return(df)"
   ]
  },
  {
   "cell_type": "code",
   "execution_count": 103,
   "metadata": {},
   "outputs": [],
   "source": [
    "def compile_pancanatlas(file,sample_type,phenos):\n",
    "    #get pancanatlas dataframe\n",
    "    rna=pd.read_csv(file,delimiter=\"\\t\")\n",
    "    rna=rna.set_index(\"gene_id\")\n",
    "    rna=rna.T\n",
    "    rna.columns=[x.split(\"|\")[0] for x in rna.columns]\n",
    "    #map to code\n",
    "    rna[\"code\"]=rna[\"code\"]=rna.index.str.split(\"-\").str[3]\n",
    "    rna.index=rna.index.str[0:12]\n",
    "    \n",
    "    cols=[x for x in rna.columns if x!=\"?\"]\n",
    "    rna=rna[cols]    \n",
    "    \n",
    "    #convert aliases\n",
    "    mp_ids={\"CMC2\":\"C16orf61\",\"ADGRE5\":\"CD97\",\"SPRYD7\":\"C13orf1\",\"JCHAIN\":\"IGJ\",\"CTSL\":\"CTSL1\",\"CTSV\":\"CTSL2\",\"TEX30\":\"C13orf27\",\"CENPU\":\"MLF1IP\",\"CMSS1\":\"C3orf26\",\"FAM216A\":\"C12orf24\",\"HACD2\":\"PTPLB\"}\n",
    "    mp_ids= {v: k for k, v in mp_ids.items()}\n",
    "    \n",
    "    rna=rna.rename(columns=mp_ids)\n",
    "    \n",
    "    rna.columns=[x.replace(\"-\",\".\") for x in rna.columns]\n",
    "    \n",
    "    if sample_type == \"tumor\":\n",
    "        rna=rna[rna[\"code\"].str.contains(\"01\")]\n",
    "        print(rna[\"code\"].value_counts())\n",
    "        del rna[\"code\"]\n",
    "        \n",
    "    if sample_type == \"normal\":\n",
    "        rna=rna[rna[\"code\"].str.startswith(\"1\")]\n",
    "        print(rna[\"code\"].value_counts())\n",
    "        del rna[\"code\"]\n",
    "        \n",
    "    rna=rna.groupby(rna.index).mean()\n",
    "        \n",
    "    final_genes=[x for x in set(phenos) if x in rna.columns]\n",
    "    rna=rna[final_genes]\n",
    "\n",
    "        \n",
    "    return(rna)\n",
    "    "
   ]
  },
  {
   "cell_type": "code",
   "execution_count": 104,
   "metadata": {},
   "outputs": [
    {
     "name": "stdout",
     "output_type": "stream",
     "text": [
      "01A    9572\n",
      "01B     129\n",
      "01C       4\n",
      "01R       1\n",
      "Name: code, dtype: int64\n"
     ]
    }
   ],
   "source": [
    "rna=compile_pancanatlas(\"/cellar/users/mpagadal/Data/resources/immune-landscape/EBPlusPlusAdjustPANCAN_IlluminaHiSeq_RNASeqV2.geneExp.tsv\",\"tumor\",pheno[0].tolist())"
   ]
  },
  {
   "cell_type": "code",
   "execution_count": 105,
   "metadata": {},
   "outputs": [
    {
     "name": "stdout",
     "output_type": "stream",
     "text": [
      "36 phenotypes with > 0.1 zeroes were removed\n"
     ]
    }
   ],
   "source": [
    "rna=filter_zeros(rna,0.1)"
   ]
  },
  {
   "cell_type": "code",
   "execution_count": 106,
   "metadata": {},
   "outputs": [],
   "source": [
    "rna=rna.reset_index().rename(columns={\"index\":\"FID\"})"
   ]
  },
  {
   "cell_type": "code",
   "execution_count": 107,
   "metadata": {},
   "outputs": [
    {
     "data": {
      "text/html": [
       "<div>\n",
       "<style scoped>\n",
       "    .dataframe tbody tr th:only-of-type {\n",
       "        vertical-align: middle;\n",
       "    }\n",
       "\n",
       "    .dataframe tbody tr th {\n",
       "        vertical-align: top;\n",
       "    }\n",
       "\n",
       "    .dataframe thead th {\n",
       "        text-align: right;\n",
       "    }\n",
       "</style>\n",
       "<table border=\"1\" class=\"dataframe\">\n",
       "  <thead>\n",
       "    <tr style=\"text-align: right;\">\n",
       "      <th></th>\n",
       "      <th>FID</th>\n",
       "      <th>PNN</th>\n",
       "      <th>KIF2A</th>\n",
       "      <th>CCR7</th>\n",
       "      <th>MICA</th>\n",
       "      <th>EZR</th>\n",
       "      <th>RND3</th>\n",
       "      <th>CASP1</th>\n",
       "      <th>NOD1</th>\n",
       "      <th>TGFB3</th>\n",
       "      <th>...</th>\n",
       "      <th>FARSB</th>\n",
       "      <th>GLRX3</th>\n",
       "      <th>HCK</th>\n",
       "      <th>NPC2</th>\n",
       "      <th>NRIP3</th>\n",
       "      <th>HERC6</th>\n",
       "      <th>COL16A1</th>\n",
       "      <th>CXCL10</th>\n",
       "      <th>RUVBL1</th>\n",
       "      <th>CD52</th>\n",
       "    </tr>\n",
       "  </thead>\n",
       "  <tbody>\n",
       "    <tr>\n",
       "      <th>0</th>\n",
       "      <td>TCGA-02-0047</td>\n",
       "      <td>1201.020</td>\n",
       "      <td>1217.620</td>\n",
       "      <td>9.2197</td>\n",
       "      <td>106.9490</td>\n",
       "      <td>5891.39</td>\n",
       "      <td>728.971</td>\n",
       "      <td>365.100</td>\n",
       "      <td>135.222</td>\n",
       "      <td>340.514</td>\n",
       "      <td>...</td>\n",
       "      <td>893.082</td>\n",
       "      <td>823.627</td>\n",
       "      <td>555.026</td>\n",
       "      <td>4890.13</td>\n",
       "      <td>330.680</td>\n",
       "      <td>411.199</td>\n",
       "      <td>430.253</td>\n",
       "      <td>122.3150</td>\n",
       "      <td>921.958</td>\n",
       "      <td>25.2005</td>\n",
       "    </tr>\n",
       "    <tr>\n",
       "      <th>1</th>\n",
       "      <td>TCGA-02-0055</td>\n",
       "      <td>1241.770</td>\n",
       "      <td>549.404</td>\n",
       "      <td>17.3791</td>\n",
       "      <td>571.8290</td>\n",
       "      <td>3784.16</td>\n",
       "      <td>2503.710</td>\n",
       "      <td>657.043</td>\n",
       "      <td>354.870</td>\n",
       "      <td>991.170</td>\n",
       "      <td>...</td>\n",
       "      <td>1404.910</td>\n",
       "      <td>1210.930</td>\n",
       "      <td>862.229</td>\n",
       "      <td>10278.30</td>\n",
       "      <td>454.660</td>\n",
       "      <td>281.430</td>\n",
       "      <td>1628.030</td>\n",
       "      <td>303.8540</td>\n",
       "      <td>896.101</td>\n",
       "      <td>74.5620</td>\n",
       "    </tr>\n",
       "    <tr>\n",
       "      <th>2</th>\n",
       "      <td>TCGA-02-2483</td>\n",
       "      <td>1824.590</td>\n",
       "      <td>874.723</td>\n",
       "      <td>16.8865</td>\n",
       "      <td>89.9208</td>\n",
       "      <td>2033.98</td>\n",
       "      <td>1722.850</td>\n",
       "      <td>219.103</td>\n",
       "      <td>161.267</td>\n",
       "      <td>319.156</td>\n",
       "      <td>...</td>\n",
       "      <td>1982.900</td>\n",
       "      <td>926.227</td>\n",
       "      <td>498.575</td>\n",
       "      <td>2918.84</td>\n",
       "      <td>197.150</td>\n",
       "      <td>175.620</td>\n",
       "      <td>196.728</td>\n",
       "      <td>78.9446</td>\n",
       "      <td>1855.250</td>\n",
       "      <td>64.5910</td>\n",
       "    </tr>\n",
       "    <tr>\n",
       "      <th>3</th>\n",
       "      <td>TCGA-02-2485</td>\n",
       "      <td>1758.100</td>\n",
       "      <td>1141.900</td>\n",
       "      <td>16.6667</td>\n",
       "      <td>35.2381</td>\n",
       "      <td>7132.38</td>\n",
       "      <td>2241.900</td>\n",
       "      <td>326.190</td>\n",
       "      <td>191.905</td>\n",
       "      <td>374.762</td>\n",
       "      <td>...</td>\n",
       "      <td>1564.290</td>\n",
       "      <td>580.000</td>\n",
       "      <td>214.762</td>\n",
       "      <td>2061.43</td>\n",
       "      <td>108.095</td>\n",
       "      <td>1340.950</td>\n",
       "      <td>411.905</td>\n",
       "      <td>1132.3800</td>\n",
       "      <td>1752.590</td>\n",
       "      <td>68.5714</td>\n",
       "    </tr>\n",
       "    <tr>\n",
       "      <th>4</th>\n",
       "      <td>TCGA-02-2486</td>\n",
       "      <td>756.707</td>\n",
       "      <td>680.488</td>\n",
       "      <td>21.3415</td>\n",
       "      <td>382.3170</td>\n",
       "      <td>4245.12</td>\n",
       "      <td>1513.410</td>\n",
       "      <td>1095.120</td>\n",
       "      <td>454.878</td>\n",
       "      <td>848.780</td>\n",
       "      <td>...</td>\n",
       "      <td>1309.760</td>\n",
       "      <td>747.561</td>\n",
       "      <td>1139.630</td>\n",
       "      <td>10815.20</td>\n",
       "      <td>154.268</td>\n",
       "      <td>3967.680</td>\n",
       "      <td>1024.390</td>\n",
       "      <td>2224.3900</td>\n",
       "      <td>1395.630</td>\n",
       "      <td>171.9510</td>\n",
       "    </tr>\n",
       "  </tbody>\n",
       "</table>\n",
       "<p>5 rows × 725 columns</p>\n",
       "</div>"
      ],
      "text/plain": [
       "            FID       PNN     KIF2A     CCR7      MICA      EZR      RND3  \\\n",
       "0  TCGA-02-0047  1201.020  1217.620   9.2197  106.9490  5891.39   728.971   \n",
       "1  TCGA-02-0055  1241.770   549.404  17.3791  571.8290  3784.16  2503.710   \n",
       "2  TCGA-02-2483  1824.590   874.723  16.8865   89.9208  2033.98  1722.850   \n",
       "3  TCGA-02-2485  1758.100  1141.900  16.6667   35.2381  7132.38  2241.900   \n",
       "4  TCGA-02-2486   756.707   680.488  21.3415  382.3170  4245.12  1513.410   \n",
       "\n",
       "      CASP1     NOD1    TGFB3  ...     FARSB     GLRX3       HCK      NPC2  \\\n",
       "0   365.100  135.222  340.514  ...   893.082   823.627   555.026   4890.13   \n",
       "1   657.043  354.870  991.170  ...  1404.910  1210.930   862.229  10278.30   \n",
       "2   219.103  161.267  319.156  ...  1982.900   926.227   498.575   2918.84   \n",
       "3   326.190  191.905  374.762  ...  1564.290   580.000   214.762   2061.43   \n",
       "4  1095.120  454.878  848.780  ...  1309.760   747.561  1139.630  10815.20   \n",
       "\n",
       "     NRIP3     HERC6   COL16A1     CXCL10    RUVBL1      CD52  \n",
       "0  330.680   411.199   430.253   122.3150   921.958   25.2005  \n",
       "1  454.660   281.430  1628.030   303.8540   896.101   74.5620  \n",
       "2  197.150   175.620   196.728    78.9446  1855.250   64.5910  \n",
       "3  108.095  1340.950   411.905  1132.3800  1752.590   68.5714  \n",
       "4  154.268  3967.680  1024.390  2224.3900  1395.630  171.9510  \n",
       "\n",
       "[5 rows x 725 columns]"
      ]
     },
     "execution_count": 107,
     "metadata": {},
     "output_type": "execute_result"
    }
   ],
   "source": [
    "rna.head()"
   ]
  },
  {
   "cell_type": "markdown",
   "metadata": {},
   "source": [
    "## Get CIBERSORTx values"
   ]
  },
  {
   "cell_type": "code",
   "execution_count": 108,
   "metadata": {},
   "outputs": [
    {
     "data": {
      "text/html": [
       "<div>\n",
       "<style scoped>\n",
       "    .dataframe tbody tr th:only-of-type {\n",
       "        vertical-align: middle;\n",
       "    }\n",
       "\n",
       "    .dataframe tbody tr th {\n",
       "        vertical-align: top;\n",
       "    }\n",
       "\n",
       "    .dataframe thead th {\n",
       "        text-align: right;\n",
       "    }\n",
       "</style>\n",
       "<table border=\"1\" class=\"dataframe\">\n",
       "  <thead>\n",
       "    <tr style=\"text-align: right;\">\n",
       "      <th></th>\n",
       "      <th>FID</th>\n",
       "      <th>dice.CD4_STIM</th>\n",
       "      <th>dice.CD4_NAIVE</th>\n",
       "      <th>dice.B_CELL_NAIVE</th>\n",
       "      <th>dice.TH2</th>\n",
       "      <th>dice.THSTAR</th>\n",
       "      <th>dice.NK</th>\n",
       "      <th>dice.MONOCYTES</th>\n",
       "      <th>dice.CD8_STIM</th>\n",
       "      <th>dice.CD8_NAIVE</th>\n",
       "      <th>...</th>\n",
       "      <th>melanoma.NK.cells</th>\n",
       "      <th>melanoma.Macrophages</th>\n",
       "      <th>melanoma.T.cells.CD4</th>\n",
       "      <th>melanoma.B.cells</th>\n",
       "      <th>NSCLC.Fig2ab.T.cells.CD8</th>\n",
       "      <th>NSCLC.Fig2ab.Monocytes</th>\n",
       "      <th>NSCLC.Fig2ab.T.cells.CD4</th>\n",
       "      <th>NSCLC.Fig2ab.NKT.cells</th>\n",
       "      <th>NSCLC.Fig2ab.B.cells</th>\n",
       "      <th>NSCLC.Fig2ab.NK.cells</th>\n",
       "    </tr>\n",
       "  </thead>\n",
       "  <tbody>\n",
       "    <tr>\n",
       "      <th>0</th>\n",
       "      <td>TCGA-02-0047</td>\n",
       "      <td>0.0</td>\n",
       "      <td>0.0</td>\n",
       "      <td>0.000000</td>\n",
       "      <td>0.087753</td>\n",
       "      <td>0.00000</td>\n",
       "      <td>0.000000</td>\n",
       "      <td>0.000000</td>\n",
       "      <td>0.036063</td>\n",
       "      <td>0.000000</td>\n",
       "      <td>...</td>\n",
       "      <td>0.0</td>\n",
       "      <td>0.247082</td>\n",
       "      <td>0.000000</td>\n",
       "      <td>0.067366</td>\n",
       "      <td>0.000000</td>\n",
       "      <td>0.012288</td>\n",
       "      <td>0.0</td>\n",
       "      <td>0.097632</td>\n",
       "      <td>0.890080</td>\n",
       "      <td>0.0</td>\n",
       "    </tr>\n",
       "    <tr>\n",
       "      <th>1</th>\n",
       "      <td>TCGA-02-0055</td>\n",
       "      <td>0.0</td>\n",
       "      <td>0.0</td>\n",
       "      <td>0.000000</td>\n",
       "      <td>0.380587</td>\n",
       "      <td>0.01712</td>\n",
       "      <td>0.000000</td>\n",
       "      <td>0.008117</td>\n",
       "      <td>0.188048</td>\n",
       "      <td>0.000000</td>\n",
       "      <td>...</td>\n",
       "      <td>0.0</td>\n",
       "      <td>0.181053</td>\n",
       "      <td>0.000000</td>\n",
       "      <td>0.000000</td>\n",
       "      <td>0.079581</td>\n",
       "      <td>0.048478</td>\n",
       "      <td>0.0</td>\n",
       "      <td>0.000000</td>\n",
       "      <td>0.871942</td>\n",
       "      <td>0.0</td>\n",
       "    </tr>\n",
       "    <tr>\n",
       "      <th>2</th>\n",
       "      <td>TCGA-02-2483</td>\n",
       "      <td>0.0</td>\n",
       "      <td>0.0</td>\n",
       "      <td>0.000397</td>\n",
       "      <td>0.141497</td>\n",
       "      <td>0.00000</td>\n",
       "      <td>0.001787</td>\n",
       "      <td>0.000000</td>\n",
       "      <td>0.058280</td>\n",
       "      <td>0.000000</td>\n",
       "      <td>...</td>\n",
       "      <td>0.0</td>\n",
       "      <td>0.270816</td>\n",
       "      <td>0.000000</td>\n",
       "      <td>0.000000</td>\n",
       "      <td>0.052034</td>\n",
       "      <td>0.059809</td>\n",
       "      <td>0.0</td>\n",
       "      <td>0.000000</td>\n",
       "      <td>0.888157</td>\n",
       "      <td>0.0</td>\n",
       "    </tr>\n",
       "    <tr>\n",
       "      <th>3</th>\n",
       "      <td>TCGA-02-2485</td>\n",
       "      <td>0.0</td>\n",
       "      <td>0.0</td>\n",
       "      <td>0.019888</td>\n",
       "      <td>0.082664</td>\n",
       "      <td>0.00000</td>\n",
       "      <td>0.000000</td>\n",
       "      <td>0.000000</td>\n",
       "      <td>0.031935</td>\n",
       "      <td>0.040701</td>\n",
       "      <td>...</td>\n",
       "      <td>0.0</td>\n",
       "      <td>0.165778</td>\n",
       "      <td>0.000000</td>\n",
       "      <td>0.000000</td>\n",
       "      <td>0.117404</td>\n",
       "      <td>0.037993</td>\n",
       "      <td>0.0</td>\n",
       "      <td>0.000000</td>\n",
       "      <td>0.844603</td>\n",
       "      <td>0.0</td>\n",
       "    </tr>\n",
       "    <tr>\n",
       "      <th>4</th>\n",
       "      <td>TCGA-02-2486</td>\n",
       "      <td>0.0</td>\n",
       "      <td>0.0</td>\n",
       "      <td>0.000000</td>\n",
       "      <td>0.081778</td>\n",
       "      <td>0.00000</td>\n",
       "      <td>0.000000</td>\n",
       "      <td>0.015551</td>\n",
       "      <td>0.059936</td>\n",
       "      <td>0.005295</td>\n",
       "      <td>...</td>\n",
       "      <td>0.0</td>\n",
       "      <td>0.350058</td>\n",
       "      <td>0.052021</td>\n",
       "      <td>0.000000</td>\n",
       "      <td>0.054945</td>\n",
       "      <td>0.045343</td>\n",
       "      <td>0.0</td>\n",
       "      <td>0.000000</td>\n",
       "      <td>0.899712</td>\n",
       "      <td>0.0</td>\n",
       "    </tr>\n",
       "  </tbody>\n",
       "</table>\n",
       "<p>5 rows × 62 columns</p>\n",
       "</div>"
      ],
      "text/plain": [
       "            FID  dice.CD4_STIM  dice.CD4_NAIVE  dice.B_CELL_NAIVE  dice.TH2  \\\n",
       "0  TCGA-02-0047            0.0             0.0           0.000000  0.087753   \n",
       "1  TCGA-02-0055            0.0             0.0           0.000000  0.380587   \n",
       "2  TCGA-02-2483            0.0             0.0           0.000397  0.141497   \n",
       "3  TCGA-02-2485            0.0             0.0           0.019888  0.082664   \n",
       "4  TCGA-02-2486            0.0             0.0           0.000000  0.081778   \n",
       "\n",
       "   dice.THSTAR   dice.NK  dice.MONOCYTES  dice.CD8_STIM  dice.CD8_NAIVE  ...  \\\n",
       "0      0.00000  0.000000        0.000000       0.036063        0.000000  ...   \n",
       "1      0.01712  0.000000        0.008117       0.188048        0.000000  ...   \n",
       "2      0.00000  0.001787        0.000000       0.058280        0.000000  ...   \n",
       "3      0.00000  0.000000        0.000000       0.031935        0.040701  ...   \n",
       "4      0.00000  0.000000        0.015551       0.059936        0.005295  ...   \n",
       "\n",
       "   melanoma.NK.cells  melanoma.Macrophages  melanoma.T.cells.CD4  \\\n",
       "0                0.0              0.247082              0.000000   \n",
       "1                0.0              0.181053              0.000000   \n",
       "2                0.0              0.270816              0.000000   \n",
       "3                0.0              0.165778              0.000000   \n",
       "4                0.0              0.350058              0.052021   \n",
       "\n",
       "   melanoma.B.cells  NSCLC.Fig2ab.T.cells.CD8  NSCLC.Fig2ab.Monocytes  \\\n",
       "0          0.067366                  0.000000                0.012288   \n",
       "1          0.000000                  0.079581                0.048478   \n",
       "2          0.000000                  0.052034                0.059809   \n",
       "3          0.000000                  0.117404                0.037993   \n",
       "4          0.000000                  0.054945                0.045343   \n",
       "\n",
       "   NSCLC.Fig2ab.T.cells.CD4  NSCLC.Fig2ab.NKT.cells  NSCLC.Fig2ab.B.cells  \\\n",
       "0                       0.0                0.097632              0.890080   \n",
       "1                       0.0                0.000000              0.871942   \n",
       "2                       0.0                0.000000              0.888157   \n",
       "3                       0.0                0.000000              0.844603   \n",
       "4                       0.0                0.000000              0.899712   \n",
       "\n",
       "   NSCLC.Fig2ab.NK.cells  \n",
       "0                    0.0  \n",
       "1                    0.0  \n",
       "2                    0.0  \n",
       "3                    0.0  \n",
       "4                    0.0  \n",
       "\n",
       "[5 rows x 62 columns]"
      ]
     },
     "execution_count": 108,
     "metadata": {},
     "output_type": "execute_result"
    }
   ],
   "source": [
    "ciber=pd.read_csv(\"/cellar/users/mpagadal/Data/cibersort/cibersortx-results/tcga/pancanatlas_cibersortx_compiled_allsig.tsv\",delimiter=\"\\t\")\n",
    "ciber.columns=[x.replace(\" \",\".\") for x in ciber.columns]\n",
    "ciber=ciber.rename(columns={\"Mixture\":\"FID\"})\n",
    "ciber.head()"
   ]
  },
  {
   "cell_type": "code",
   "execution_count": 109,
   "metadata": {},
   "outputs": [
    {
     "name": "stdout",
     "output_type": "stream",
     "text": [
      "50 phenotypes with > 0.1 zeroes were removed\n"
     ]
    }
   ],
   "source": [
    "ciber=filter_zeros(ciber,0.1)"
   ]
  },
  {
   "cell_type": "markdown",
   "metadata": {},
   "source": [
    "## Get immune landscape values"
   ]
  },
  {
   "cell_type": "code",
   "execution_count": 110,
   "metadata": {},
   "outputs": [
    {
     "data": {
      "text/html": [
       "<div>\n",
       "<style scoped>\n",
       "    .dataframe tbody tr th:only-of-type {\n",
       "        vertical-align: middle;\n",
       "    }\n",
       "\n",
       "    .dataframe tbody tr th {\n",
       "        vertical-align: top;\n",
       "    }\n",
       "\n",
       "    .dataframe thead th {\n",
       "        text-align: right;\n",
       "    }\n",
       "</style>\n",
       "<table border=\"1\" class=\"dataframe\">\n",
       "  <thead>\n",
       "    <tr style=\"text-align: right;\">\n",
       "      <th></th>\n",
       "      <th>FID</th>\n",
       "      <th>Proliferation</th>\n",
       "      <th>Wound.Healing</th>\n",
       "      <th>Macrophage.Regulation</th>\n",
       "      <th>Lymphocyte.Infiltration.Signature.Score</th>\n",
       "      <th>IFN.gamma.Response</th>\n",
       "      <th>TGF.beta.Response</th>\n",
       "    </tr>\n",
       "  </thead>\n",
       "  <tbody>\n",
       "    <tr>\n",
       "      <th>0</th>\n",
       "      <td>TCGA-01-0639</td>\n",
       "      <td>NaN</td>\n",
       "      <td>NaN</td>\n",
       "      <td>NaN</td>\n",
       "      <td>NaN</td>\n",
       "      <td>NaN</td>\n",
       "      <td>NaN</td>\n",
       "    </tr>\n",
       "    <tr>\n",
       "      <th>1</th>\n",
       "      <td>TCGA-02-0007</td>\n",
       "      <td>NaN</td>\n",
       "      <td>NaN</td>\n",
       "      <td>NaN</td>\n",
       "      <td>NaN</td>\n",
       "      <td>NaN</td>\n",
       "      <td>NaN</td>\n",
       "    </tr>\n",
       "    <tr>\n",
       "      <th>2</th>\n",
       "      <td>TCGA-02-0011</td>\n",
       "      <td>NaN</td>\n",
       "      <td>NaN</td>\n",
       "      <td>NaN</td>\n",
       "      <td>NaN</td>\n",
       "      <td>NaN</td>\n",
       "      <td>NaN</td>\n",
       "    </tr>\n",
       "    <tr>\n",
       "      <th>3</th>\n",
       "      <td>TCGA-02-0023</td>\n",
       "      <td>NaN</td>\n",
       "      <td>NaN</td>\n",
       "      <td>NaN</td>\n",
       "      <td>NaN</td>\n",
       "      <td>NaN</td>\n",
       "      <td>NaN</td>\n",
       "    </tr>\n",
       "    <tr>\n",
       "      <th>4</th>\n",
       "      <td>TCGA-02-0025</td>\n",
       "      <td>NaN</td>\n",
       "      <td>NaN</td>\n",
       "      <td>NaN</td>\n",
       "      <td>NaN</td>\n",
       "      <td>NaN</td>\n",
       "      <td>NaN</td>\n",
       "    </tr>\n",
       "  </tbody>\n",
       "</table>\n",
       "</div>"
      ],
      "text/plain": [
       "            FID  Proliferation  Wound.Healing  Macrophage.Regulation  \\\n",
       "0  TCGA-01-0639            NaN            NaN                    NaN   \n",
       "1  TCGA-02-0007            NaN            NaN                    NaN   \n",
       "2  TCGA-02-0011            NaN            NaN                    NaN   \n",
       "3  TCGA-02-0023            NaN            NaN                    NaN   \n",
       "4  TCGA-02-0025            NaN            NaN                    NaN   \n",
       "\n",
       "   Lymphocyte.Infiltration.Signature.Score  IFN.gamma.Response  \\\n",
       "0                                      NaN                 NaN   \n",
       "1                                      NaN                 NaN   \n",
       "2                                      NaN                 NaN   \n",
       "3                                      NaN                 NaN   \n",
       "4                                      NaN                 NaN   \n",
       "\n",
       "   TGF.beta.Response  \n",
       "0                NaN  \n",
       "1                NaN  \n",
       "2                NaN  \n",
       "3                NaN  \n",
       "4                NaN  "
      ]
     },
     "execution_count": 110,
     "metadata": {},
     "output_type": "execute_result"
    }
   ],
   "source": [
    "landscape=pd.read_csv(\"/cellar/users/mpagadal/Data/projects/germline-immune/discovery/phenotypes/downloaded_phenos/pheno-immune-landscape-comp\",delimiter=\"\\t\")\n",
    "landscape=landscape.replace(-9, np.nan)\n",
    "del landscape[\"IID\"]\n",
    "landscape.head()"
   ]
  },
  {
   "cell_type": "markdown",
   "metadata": {},
   "source": [
    "## Combine results"
   ]
  },
  {
   "cell_type": "code",
   "execution_count": 111,
   "metadata": {},
   "outputs": [],
   "source": [
    "total=pd.merge(rna,landscape,on=[\"FID\"],how=\"outer\")\n",
    "total=pd.merge(total, ciber,on=[\"FID\"],how=\"outer\")\n",
    "total=total.set_index(\"FID\")"
   ]
  },
  {
   "cell_type": "code",
   "execution_count": 112,
   "metadata": {},
   "outputs": [
    {
     "name": "stdout",
     "output_type": "stream",
     "text": [
      "(11185, 741)\n"
     ]
    },
    {
     "data": {
      "text/html": [
       "<div>\n",
       "<style scoped>\n",
       "    .dataframe tbody tr th:only-of-type {\n",
       "        vertical-align: middle;\n",
       "    }\n",
       "\n",
       "    .dataframe tbody tr th {\n",
       "        vertical-align: top;\n",
       "    }\n",
       "\n",
       "    .dataframe thead th {\n",
       "        text-align: right;\n",
       "    }\n",
       "</style>\n",
       "<table border=\"1\" class=\"dataframe\">\n",
       "  <thead>\n",
       "    <tr style=\"text-align: right;\">\n",
       "      <th></th>\n",
       "      <th>PNN</th>\n",
       "      <th>KIF2A</th>\n",
       "      <th>CCR7</th>\n",
       "      <th>MICA</th>\n",
       "      <th>EZR</th>\n",
       "      <th>RND3</th>\n",
       "      <th>CASP1</th>\n",
       "      <th>NOD1</th>\n",
       "      <th>TGFB3</th>\n",
       "      <th>ADORA2A</th>\n",
       "      <th>...</th>\n",
       "      <th>dice.M2</th>\n",
       "      <th>dice.TH1</th>\n",
       "      <th>LM22.T.cells.CD4.memory.resting</th>\n",
       "      <th>LM22.T.cells.follicular.helper</th>\n",
       "      <th>LM22.Macrophages.M2</th>\n",
       "      <th>HNSCC.Fibroblast</th>\n",
       "      <th>HNSCC.Endothelial</th>\n",
       "      <th>melanoma.CAF</th>\n",
       "      <th>melanoma.Macrophages</th>\n",
       "      <th>NSCLC.Fig2ab.B.cells</th>\n",
       "    </tr>\n",
       "    <tr>\n",
       "      <th>FID</th>\n",
       "      <th></th>\n",
       "      <th></th>\n",
       "      <th></th>\n",
       "      <th></th>\n",
       "      <th></th>\n",
       "      <th></th>\n",
       "      <th></th>\n",
       "      <th></th>\n",
       "      <th></th>\n",
       "      <th></th>\n",
       "      <th></th>\n",
       "      <th></th>\n",
       "      <th></th>\n",
       "      <th></th>\n",
       "      <th></th>\n",
       "      <th></th>\n",
       "      <th></th>\n",
       "      <th></th>\n",
       "      <th></th>\n",
       "      <th></th>\n",
       "      <th></th>\n",
       "    </tr>\n",
       "  </thead>\n",
       "  <tbody>\n",
       "    <tr>\n",
       "      <th>TCGA-02-0047</th>\n",
       "      <td>1201.020</td>\n",
       "      <td>1217.620</td>\n",
       "      <td>9.2197</td>\n",
       "      <td>106.9490</td>\n",
       "      <td>5891.39</td>\n",
       "      <td>728.971</td>\n",
       "      <td>365.100</td>\n",
       "      <td>135.222</td>\n",
       "      <td>340.514</td>\n",
       "      <td>54.7036</td>\n",
       "      <td>...</td>\n",
       "      <td>0.394753</td>\n",
       "      <td>0.131543</td>\n",
       "      <td>0.220653</td>\n",
       "      <td>0.022100</td>\n",
       "      <td>0.300378</td>\n",
       "      <td>0.513596</td>\n",
       "      <td>0.324371</td>\n",
       "      <td>0.335930</td>\n",
       "      <td>0.247082</td>\n",
       "      <td>0.890080</td>\n",
       "    </tr>\n",
       "    <tr>\n",
       "      <th>TCGA-02-0055</th>\n",
       "      <td>1241.770</td>\n",
       "      <td>549.404</td>\n",
       "      <td>17.3791</td>\n",
       "      <td>571.8290</td>\n",
       "      <td>3784.16</td>\n",
       "      <td>2503.710</td>\n",
       "      <td>657.043</td>\n",
       "      <td>354.870</td>\n",
       "      <td>991.170</td>\n",
       "      <td>57.1829</td>\n",
       "      <td>...</td>\n",
       "      <td>0.336683</td>\n",
       "      <td>0.055699</td>\n",
       "      <td>0.254034</td>\n",
       "      <td>0.104339</td>\n",
       "      <td>0.228286</td>\n",
       "      <td>0.679564</td>\n",
       "      <td>0.031077</td>\n",
       "      <td>0.799137</td>\n",
       "      <td>0.181053</td>\n",
       "      <td>0.871942</td>\n",
       "    </tr>\n",
       "    <tr>\n",
       "      <th>TCGA-02-2483</th>\n",
       "      <td>1824.590</td>\n",
       "      <td>874.723</td>\n",
       "      <td>16.8865</td>\n",
       "      <td>89.9208</td>\n",
       "      <td>2033.98</td>\n",
       "      <td>1722.850</td>\n",
       "      <td>219.103</td>\n",
       "      <td>161.267</td>\n",
       "      <td>319.156</td>\n",
       "      <td>93.7203</td>\n",
       "      <td>...</td>\n",
       "      <td>0.400904</td>\n",
       "      <td>0.000000</td>\n",
       "      <td>0.252846</td>\n",
       "      <td>0.021372</td>\n",
       "      <td>0.333468</td>\n",
       "      <td>0.371056</td>\n",
       "      <td>0.401335</td>\n",
       "      <td>0.296509</td>\n",
       "      <td>0.270816</td>\n",
       "      <td>0.888157</td>\n",
       "    </tr>\n",
       "    <tr>\n",
       "      <th>TCGA-02-2485</th>\n",
       "      <td>1758.100</td>\n",
       "      <td>1141.900</td>\n",
       "      <td>16.6667</td>\n",
       "      <td>35.2381</td>\n",
       "      <td>7132.38</td>\n",
       "      <td>2241.900</td>\n",
       "      <td>326.190</td>\n",
       "      <td>191.905</td>\n",
       "      <td>374.762</td>\n",
       "      <td>108.5670</td>\n",
       "      <td>...</td>\n",
       "      <td>0.246473</td>\n",
       "      <td>0.174376</td>\n",
       "      <td>0.039196</td>\n",
       "      <td>0.072461</td>\n",
       "      <td>0.383618</td>\n",
       "      <td>0.374810</td>\n",
       "      <td>0.582110</td>\n",
       "      <td>0.262455</td>\n",
       "      <td>0.165778</td>\n",
       "      <td>0.844603</td>\n",
       "    </tr>\n",
       "    <tr>\n",
       "      <th>TCGA-02-2486</th>\n",
       "      <td>756.707</td>\n",
       "      <td>680.488</td>\n",
       "      <td>21.3415</td>\n",
       "      <td>382.3170</td>\n",
       "      <td>4245.12</td>\n",
       "      <td>1513.410</td>\n",
       "      <td>1095.120</td>\n",
       "      <td>454.878</td>\n",
       "      <td>848.780</td>\n",
       "      <td>35.3659</td>\n",
       "      <td>...</td>\n",
       "      <td>0.400024</td>\n",
       "      <td>0.163527</td>\n",
       "      <td>0.120351</td>\n",
       "      <td>0.024661</td>\n",
       "      <td>0.550307</td>\n",
       "      <td>0.519750</td>\n",
       "      <td>0.134848</td>\n",
       "      <td>0.273583</td>\n",
       "      <td>0.350058</td>\n",
       "      <td>0.899712</td>\n",
       "    </tr>\n",
       "  </tbody>\n",
       "</table>\n",
       "<p>5 rows × 741 columns</p>\n",
       "</div>"
      ],
      "text/plain": [
       "                   PNN     KIF2A     CCR7      MICA      EZR      RND3  \\\n",
       "FID                                                                      \n",
       "TCGA-02-0047  1201.020  1217.620   9.2197  106.9490  5891.39   728.971   \n",
       "TCGA-02-0055  1241.770   549.404  17.3791  571.8290  3784.16  2503.710   \n",
       "TCGA-02-2483  1824.590   874.723  16.8865   89.9208  2033.98  1722.850   \n",
       "TCGA-02-2485  1758.100  1141.900  16.6667   35.2381  7132.38  2241.900   \n",
       "TCGA-02-2486   756.707   680.488  21.3415  382.3170  4245.12  1513.410   \n",
       "\n",
       "                 CASP1     NOD1    TGFB3   ADORA2A  ...   dice.M2  dice.TH1  \\\n",
       "FID                                                 ...                       \n",
       "TCGA-02-0047   365.100  135.222  340.514   54.7036  ...  0.394753  0.131543   \n",
       "TCGA-02-0055   657.043  354.870  991.170   57.1829  ...  0.336683  0.055699   \n",
       "TCGA-02-2483   219.103  161.267  319.156   93.7203  ...  0.400904  0.000000   \n",
       "TCGA-02-2485   326.190  191.905  374.762  108.5670  ...  0.246473  0.174376   \n",
       "TCGA-02-2486  1095.120  454.878  848.780   35.3659  ...  0.400024  0.163527   \n",
       "\n",
       "              LM22.T.cells.CD4.memory.resting  LM22.T.cells.follicular.helper  \\\n",
       "FID                                                                             \n",
       "TCGA-02-0047                         0.220653                        0.022100   \n",
       "TCGA-02-0055                         0.254034                        0.104339   \n",
       "TCGA-02-2483                         0.252846                        0.021372   \n",
       "TCGA-02-2485                         0.039196                        0.072461   \n",
       "TCGA-02-2486                         0.120351                        0.024661   \n",
       "\n",
       "              LM22.Macrophages.M2  HNSCC.Fibroblast  HNSCC.Endothelial  \\\n",
       "FID                                                                      \n",
       "TCGA-02-0047             0.300378          0.513596           0.324371   \n",
       "TCGA-02-0055             0.228286          0.679564           0.031077   \n",
       "TCGA-02-2483             0.333468          0.371056           0.401335   \n",
       "TCGA-02-2485             0.383618          0.374810           0.582110   \n",
       "TCGA-02-2486             0.550307          0.519750           0.134848   \n",
       "\n",
       "              melanoma.CAF  melanoma.Macrophages  NSCLC.Fig2ab.B.cells  \n",
       "FID                                                                     \n",
       "TCGA-02-0047      0.335930              0.247082              0.890080  \n",
       "TCGA-02-0055      0.799137              0.181053              0.871942  \n",
       "TCGA-02-2483      0.296509              0.270816              0.888157  \n",
       "TCGA-02-2485      0.262455              0.165778              0.844603  \n",
       "TCGA-02-2486      0.273583              0.350058              0.899712  \n",
       "\n",
       "[5 rows x 741 columns]"
      ]
     },
     "execution_count": 112,
     "metadata": {},
     "output_type": "execute_result"
    }
   ],
   "source": [
    "print(total.shape)\n",
    "total.head()"
   ]
  },
  {
   "cell_type": "code",
   "execution_count": 113,
   "metadata": {},
   "outputs": [],
   "source": [
    "tcga_df=filter_genotyped(total,\"/nrnb/users/mpagadal/tcga-genotypes/imputation/michigan-imputation/HRC/european.final.noimmunecancers.clean.fam\")"
   ]
  },
  {
   "cell_type": "code",
   "execution_count": 118,
   "metadata": {},
   "outputs": [
    {
     "name": "stdout",
     "output_type": "stream",
     "text": [
      "(8189, 743)\n"
     ]
    }
   ],
   "source": [
    "print(tcga_df.shape)"
   ]
  },
  {
   "cell_type": "markdown",
   "metadata": {},
   "source": [
    "## Submit cancer-specific phenos for rank normalization"
   ]
  },
  {
   "cell_type": "code",
   "execution_count": 119,
   "metadata": {},
   "outputs": [],
   "source": [
    "canc = pd.read_csv(\"/nrnb/users/mpagadal/tcga-genotypes/birdseed-processing/gtype.meta\", delimiter=\"\\t\", header=None)\n",
    "mp = canc.set_index(2)[0].to_dict()\n",
    "tcga_df[\"cancer\"]=tcga_df[\"FID\"].map(mp)"
   ]
  },
  {
   "cell_type": "code",
   "execution_count": 115,
   "metadata": {},
   "outputs": [],
   "source": [
    "pheno_dir=\"/cellar/users/mpagadal/Data/projects/germline-immune/discovery/phenotypes/processed_phenos/pancanatlas/tumor/\""
   ]
  },
  {
   "cell_type": "code",
   "execution_count": 116,
   "metadata": {},
   "outputs": [],
   "source": [
    "for x in tcga_df[\"cancer\"].unique():\n",
    "    try:\n",
    "        tumor=tcga_df[tcga_df[\"cancer\"]==x]\n",
    "        del tumor[\"cancer\"]\n",
    "        tumor.to_csv(pheno_dir+\"pheno_\"+x+\".unnorm.csv\",index=None,sep=\"\\t\")\n",
    "    except:\n",
    "        pass"
   ]
  },
  {
   "cell_type": "code",
   "execution_count": 122,
   "metadata": {},
   "outputs": [],
   "source": [
    "compiled=pd.DataFrame()\n",
    "for x in tcga_df[\"cancer\"].unique().tolist():\n",
    "    try:\n",
    "        df=pd.read_csv(pheno_dir+\"pheno_\"+x+\".rank.csv\",delimiter=\"\\t\")\n",
    "        df[\"cancer\"]=x\n",
    "        compiled=compiled.append(df)\n",
    "    except:\n",
    "        pass"
   ]
  },
  {
   "cell_type": "markdown",
   "metadata": {},
   "source": [
    "### Confirm rank norm by cancer"
   ]
  },
  {
   "cell_type": "code",
   "execution_count": 123,
   "metadata": {},
   "outputs": [
    {
     "data": {
      "text/plain": [
       "Text(0.5, 1.0, 'FGR')"
      ]
     },
     "execution_count": 123,
     "metadata": {},
     "output_type": "execute_result"
    },
    {
     "data": {
      "image/png": "[encoded data removed]",
      "text/plain": [
       "<Figure size 1440x360 with 1 Axes>"
      ]
     },
     "metadata": {},
     "output_type": "display_data"
    }
   ],
   "source": [
    "x=\"FGR\"\n",
    "#plot rna expression by cancer type\n",
    "sns.set(style=\"whitegrid\", font_scale = 1)\n",
    "plt.figure(figsize=(20,5))\n",
    "sns.set_style(\"whitegrid\", {'axes.grid' : False})\n",
    "ax = sns.boxplot(x=\"cancer\", y=x, data=compiled)\n",
    "ax.set(xlabel=\"cancer\", ylabel='rank norm FGR')\n",
    "plt.xticks(rotation=30)\n",
    "plt.title(x)"
   ]
  },
  {
   "cell_type": "code",
   "execution_count": 124,
   "metadata": {},
   "outputs": [],
   "source": [
    "del compiled[\"cancer\"]\n",
    "compiled[\"IID\"]=compiled[\"FID\"]\n",
    "cols=[\"FID\",\"IID\"]+compiled.columns.tolist()[1:-1]\n",
    "compiled=compiled[cols]\n",
    "compiled.columns=[x.replace(\"-\",\".\") for x in compiled.columns]\n",
    "compiled=compiled.fillna(-9)"
   ]
  },
  {
   "cell_type": "code",
   "execution_count": 126,
   "metadata": {},
   "outputs": [],
   "source": [
    "compiled.to_csv(pheno_dir+\"pheno_all_zcancer\",index=None,sep=\"\\t\")"
   ]
  },
  {
   "cell_type": "code",
   "execution_count": 125,
   "metadata": {},
   "outputs": [
    {
     "name": "stdout",
     "output_type": "stream",
     "text": [
      "(8189, 743)\n"
     ]
    }
   ],
   "source": [
    "print(compiled.shape)"
   ]
  },
  {
   "cell_type": "markdown",
   "metadata": {},
   "source": [
    "## Get normal phenotype"
   ]
  },
  {
   "cell_type": "code",
   "execution_count": 73,
   "metadata": {},
   "outputs": [
    {
     "name": "stdout",
     "output_type": "stream",
     "text": [
      "11A    719\n",
      "11B     17\n",
      "11C      1\n",
      "Name: code, dtype: int64\n"
     ]
    }
   ],
   "source": [
    "rna=compile_pancanatlas(\"/cellar/users/mpagadal/Data/resources/immune-landscape/EBPlusPlusAdjustPANCAN_IlluminaHiSeq_RNASeqV2.geneExp.tsv\",\"normal\",pheno[0].tolist())"
   ]
  },
  {
   "cell_type": "code",
   "execution_count": 77,
   "metadata": {},
   "outputs": [
    {
     "name": "stdout",
     "output_type": "stream",
     "text": [
      "32 phenotypes with > 0.1 zeroes were removed\n"
     ]
    }
   ],
   "source": [
    "rna=filter_zeros(rna,0.1)"
   ]
  },
  {
   "cell_type": "code",
   "execution_count": 78,
   "metadata": {},
   "outputs": [
    {
     "name": "stdout",
     "output_type": "stream",
     "text": [
      "(737, 728)\n"
     ]
    }
   ],
   "source": [
    "print(rna.shape)"
   ]
  },
  {
   "cell_type": "code",
   "execution_count": 79,
   "metadata": {},
   "outputs": [],
   "source": [
    "tcga_df=filter_genotyped(rna,\"/nrnb/users/mpagadal/tcga-genotypes/imputation/michigan-imputation/HRC/european.final.noimmunecancers.clean.fam\")"
   ]
  },
  {
   "cell_type": "code",
   "execution_count": 80,
   "metadata": {},
   "outputs": [
    {
     "data": {
      "text/html": [
       "<div>\n",
       "<style scoped>\n",
       "    .dataframe tbody tr th:only-of-type {\n",
       "        vertical-align: middle;\n",
       "    }\n",
       "\n",
       "    .dataframe tbody tr th {\n",
       "        vertical-align: top;\n",
       "    }\n",
       "\n",
       "    .dataframe thead th {\n",
       "        text-align: right;\n",
       "    }\n",
       "</style>\n",
       "<table border=\"1\" class=\"dataframe\">\n",
       "  <thead>\n",
       "    <tr style=\"text-align: right;\">\n",
       "      <th></th>\n",
       "      <th>FID</th>\n",
       "      <th>PNN</th>\n",
       "      <th>KIF2A</th>\n",
       "      <th>CCR7</th>\n",
       "      <th>MICA</th>\n",
       "      <th>EZR</th>\n",
       "      <th>RND3</th>\n",
       "      <th>CASP1</th>\n",
       "      <th>NOD1</th>\n",
       "      <th>TGFB3</th>\n",
       "      <th>...</th>\n",
       "      <th>FARSB</th>\n",
       "      <th>GLRX3</th>\n",
       "      <th>HCK</th>\n",
       "      <th>NPC2</th>\n",
       "      <th>NRIP3</th>\n",
       "      <th>HERC6</th>\n",
       "      <th>COL16A1</th>\n",
       "      <th>CXCL10</th>\n",
       "      <th>RUVBL1</th>\n",
       "      <th>CD52</th>\n",
       "    </tr>\n",
       "  </thead>\n",
       "  <tbody>\n",
       "    <tr>\n",
       "      <th>0</th>\n",
       "      <td>TCGA-22-4593</td>\n",
       "      <td>803.165</td>\n",
       "      <td>381.743</td>\n",
       "      <td>133.5580</td>\n",
       "      <td>376.557</td>\n",
       "      <td>15622.4</td>\n",
       "      <td>1190.610</td>\n",
       "      <td>1096.220</td>\n",
       "      <td>589.213</td>\n",
       "      <td>837.139</td>\n",
       "      <td>...</td>\n",
       "      <td>891.340</td>\n",
       "      <td>905.863</td>\n",
       "      <td>3508.05</td>\n",
       "      <td>28585.1</td>\n",
       "      <td>120.3320</td>\n",
       "      <td>508.818</td>\n",
       "      <td>674.275</td>\n",
       "      <td>385.3740</td>\n",
       "      <td>874.369</td>\n",
       "      <td>3833.51</td>\n",
       "    </tr>\n",
       "    <tr>\n",
       "      <th>1</th>\n",
       "      <td>TCGA-22-4609</td>\n",
       "      <td>1473.110</td>\n",
       "      <td>422.486</td>\n",
       "      <td>122.9050</td>\n",
       "      <td>527.235</td>\n",
       "      <td>20938.9</td>\n",
       "      <td>1022.700</td>\n",
       "      <td>873.952</td>\n",
       "      <td>852.654</td>\n",
       "      <td>318.785</td>\n",
       "      <td>...</td>\n",
       "      <td>491.271</td>\n",
       "      <td>513.268</td>\n",
       "      <td>1098.81</td>\n",
       "      <td>13635.1</td>\n",
       "      <td>22.6955</td>\n",
       "      <td>581.704</td>\n",
       "      <td>579.260</td>\n",
       "      <td>546.4380</td>\n",
       "      <td>465.136</td>\n",
       "      <td>1582.40</td>\n",
       "    </tr>\n",
       "    <tr>\n",
       "      <th>2</th>\n",
       "      <td>TCGA-22-5471</td>\n",
       "      <td>1023.970</td>\n",
       "      <td>360.445</td>\n",
       "      <td>62.9281</td>\n",
       "      <td>445.634</td>\n",
       "      <td>21336.9</td>\n",
       "      <td>1565.070</td>\n",
       "      <td>908.390</td>\n",
       "      <td>904.538</td>\n",
       "      <td>405.394</td>\n",
       "      <td>...</td>\n",
       "      <td>478.168</td>\n",
       "      <td>514.127</td>\n",
       "      <td>3162.67</td>\n",
       "      <td>14360.9</td>\n",
       "      <td>28.6815</td>\n",
       "      <td>424.229</td>\n",
       "      <td>428.938</td>\n",
       "      <td>70.6336</td>\n",
       "      <td>891.712</td>\n",
       "      <td>4798.80</td>\n",
       "    </tr>\n",
       "    <tr>\n",
       "      <th>3</th>\n",
       "      <td>TCGA-22-5472</td>\n",
       "      <td>1055.590</td>\n",
       "      <td>571.236</td>\n",
       "      <td>70.7317</td>\n",
       "      <td>287.540</td>\n",
       "      <td>13716.1</td>\n",
       "      <td>874.664</td>\n",
       "      <td>1052.260</td>\n",
       "      <td>680.409</td>\n",
       "      <td>1002.550</td>\n",
       "      <td>...</td>\n",
       "      <td>621.722</td>\n",
       "      <td>648.374</td>\n",
       "      <td>3123.73</td>\n",
       "      <td>16557.6</td>\n",
       "      <td>64.5811</td>\n",
       "      <td>554.322</td>\n",
       "      <td>1337.750</td>\n",
       "      <td>186.5680</td>\n",
       "      <td>726.940</td>\n",
       "      <td>3535.56</td>\n",
       "    </tr>\n",
       "    <tr>\n",
       "      <th>4</th>\n",
       "      <td>TCGA-22-5478</td>\n",
       "      <td>999.511</td>\n",
       "      <td>486.442</td>\n",
       "      <td>225.3770</td>\n",
       "      <td>183.376</td>\n",
       "      <td>14730.2</td>\n",
       "      <td>1481.560</td>\n",
       "      <td>1154.610</td>\n",
       "      <td>1035.750</td>\n",
       "      <td>224.005</td>\n",
       "      <td>...</td>\n",
       "      <td>459.814</td>\n",
       "      <td>436.205</td>\n",
       "      <td>2334.48</td>\n",
       "      <td>10882.9</td>\n",
       "      <td>26.0790</td>\n",
       "      <td>637.425</td>\n",
       "      <td>393.930</td>\n",
       "      <td>368.6750</td>\n",
       "      <td>486.700</td>\n",
       "      <td>4337.35</td>\n",
       "    </tr>\n",
       "  </tbody>\n",
       "</table>\n",
       "<p>5 rows × 729 columns</p>\n",
       "</div>"
      ],
      "text/plain": [
       "            FID       PNN    KIF2A      CCR7     MICA      EZR      RND3  \\\n",
       "0  TCGA-22-4593   803.165  381.743  133.5580  376.557  15622.4  1190.610   \n",
       "1  TCGA-22-4609  1473.110  422.486  122.9050  527.235  20938.9  1022.700   \n",
       "2  TCGA-22-5471  1023.970  360.445   62.9281  445.634  21336.9  1565.070   \n",
       "3  TCGA-22-5472  1055.590  571.236   70.7317  287.540  13716.1   874.664   \n",
       "4  TCGA-22-5478   999.511  486.442  225.3770  183.376  14730.2  1481.560   \n",
       "\n",
       "      CASP1      NOD1     TGFB3  ...    FARSB    GLRX3      HCK     NPC2  \\\n",
       "0  1096.220   589.213   837.139  ...  891.340  905.863  3508.05  28585.1   \n",
       "1   873.952   852.654   318.785  ...  491.271  513.268  1098.81  13635.1   \n",
       "2   908.390   904.538   405.394  ...  478.168  514.127  3162.67  14360.9   \n",
       "3  1052.260   680.409  1002.550  ...  621.722  648.374  3123.73  16557.6   \n",
       "4  1154.610  1035.750   224.005  ...  459.814  436.205  2334.48  10882.9   \n",
       "\n",
       "      NRIP3    HERC6   COL16A1    CXCL10   RUVBL1     CD52  \n",
       "0  120.3320  508.818   674.275  385.3740  874.369  3833.51  \n",
       "1   22.6955  581.704   579.260  546.4380  465.136  1582.40  \n",
       "2   28.6815  424.229   428.938   70.6336  891.712  4798.80  \n",
       "3   64.5811  554.322  1337.750  186.5680  726.940  3535.56  \n",
       "4   26.0790  637.425   393.930  368.6750  486.700  4337.35  \n",
       "\n",
       "[5 rows x 729 columns]"
      ]
     },
     "execution_count": 80,
     "metadata": {},
     "output_type": "execute_result"
    }
   ],
   "source": [
    "tcga_df.head()"
   ]
  },
  {
   "cell_type": "markdown",
   "metadata": {},
   "source": [
    "### Submit cancer-specific phenos for rank normalizations"
   ]
  },
  {
   "cell_type": "code",
   "execution_count": 81,
   "metadata": {},
   "outputs": [],
   "source": [
    "canc = pd.read_csv(\"/nrnb/users/mpagadal/tcga-genotypes/birdseed-processing/gtype.meta\", delimiter=\"\\t\", header=None)\n",
    "mp = canc.set_index(2)[0].to_dict()\n",
    "tcga_df[\"cancer\"]=tcga_df[\"FID\"].map(mp)"
   ]
  },
  {
   "cell_type": "code",
   "execution_count": 82,
   "metadata": {},
   "outputs": [],
   "source": [
    "pheno_dir=\"/cellar/users/mpagadal/Data/projects/germline-immune/discovery/phenotypes/processed_phenos/pancanatlas/normal/\""
   ]
  },
  {
   "cell_type": "code",
   "execution_count": 83,
   "metadata": {},
   "outputs": [],
   "source": [
    "for x in tcga_df[\"cancer\"].unique():\n",
    "    try:\n",
    "        nml=tcga_df[tcga_df[\"cancer\"]==x]\n",
    "        del nml[\"cancer\"]\n",
    "        nml.to_csv(pheno_dir+\"pheno_\"+x+\".unnorm.csv\",index=None,sep=\"\\t\")\n",
    "    except:\n",
    "        pass"
   ]
  },
  {
   "cell_type": "code",
   "execution_count": 84,
   "metadata": {},
   "outputs": [],
   "source": [
    "compiled=pd.DataFrame()\n",
    "for x in tcga_df[\"cancer\"].unique().tolist():\n",
    "    try:\n",
    "        df=pd.read_csv(pheno_dir+\"pheno_\"+x+\".rank.csv\",delimiter=\"\\t\")\n",
    "        df[\"cancer\"]=x\n",
    "        compiled=compiled.append(df)\n",
    "    except:\n",
    "        pass"
   ]
  },
  {
   "cell_type": "markdown",
   "metadata": {},
   "source": [
    "### Confirm rank normalization"
   ]
  },
  {
   "cell_type": "code",
   "execution_count": 85,
   "metadata": {},
   "outputs": [
    {
     "data": {
      "text/plain": [
       "Text(0.5, 1.0, 'FGR')"
      ]
     },
     "execution_count": 85,
     "metadata": {},
     "output_type": "execute_result"
    },
    {
     "data": {
      "image/png": "[encoded data removed]",
      "text/plain": [
       "<Figure size 1440x360 with 1 Axes>"
      ]
     },
     "metadata": {},
     "output_type": "display_data"
    }
   ],
   "source": [
    "x=\"FGR\"\n",
    "#plot rna expression by cancer type\n",
    "sns.set(style=\"whitegrid\", font_scale = 1)\n",
    "plt.figure(figsize=(20,5))\n",
    "sns.set_style(\"whitegrid\", {'axes.grid' : False})\n",
    "ax = sns.boxplot(x=\"cancer\", y=x, data=compiled)\n",
    "ax.set(xlabel=\"cancer\", ylabel='rank norm FGR')\n",
    "plt.xticks(rotation=30)\n",
    "plt.title(x)"
   ]
  },
  {
   "cell_type": "code",
   "execution_count": 86,
   "metadata": {},
   "outputs": [],
   "source": [
    "del compiled[\"cancer\"]\n",
    "compiled[\"IID\"]=compiled[\"FID\"]\n",
    "cols=[\"FID\",\"IID\"]+compiled.columns.tolist()[1:-1]\n",
    "compiled=compiled[cols]\n",
    "compiled.columns=[x.replace(\"-\",\".\") for x in compiled.columns]\n",
    "compiled=compiled.fillna(-9)"
   ]
  },
  {
   "cell_type": "code",
   "execution_count": 87,
   "metadata": {},
   "outputs": [],
   "source": [
    "compiled.to_csv(pheno_dir+\"pheno_all_zcancer\",index=None,sep=\"\\t\")"
   ]
  },
  {
   "cell_type": "code",
   "execution_count": null,
   "metadata": {},
   "outputs": [],
   "source": []
  },
  {
   "cell_type": "markdown",
   "metadata": {},
   "source": [
    "## Get Pearson correlation"
   ]
  },
  {
   "cell_type": "code",
   "execution_count": 106,
   "metadata": {},
   "outputs": [],
   "source": [
    "fam=pd.read_csv(\"/nrnb/users/mpagadal/tcga-genotypes/imputation/michigan-imputation/HRC/european.final.noimmunecancers.clean.fam\",header=None,sep=\" \")"
   ]
  },
  {
   "cell_type": "code",
   "execution_count": 107,
   "metadata": {},
   "outputs": [],
   "source": [
    "del pheno[\"IID\"]"
   ]
  },
  {
   "cell_type": "code",
   "execution_count": 108,
   "metadata": {},
   "outputs": [],
   "source": [
    "pheno=pheno.replace(-9, np.nan)"
   ]
  },
  {
   "cell_type": "code",
   "execution_count": 109,
   "metadata": {},
   "outputs": [],
   "source": [
    "pheno_corr=pheno.corr(method=\"pearson\")"
   ]
  },
  {
   "cell_type": "code",
   "execution_count": 110,
   "metadata": {},
   "outputs": [],
   "source": [
    "pheno_corr.to_csv(\"/cellar/users/mpagadal/Data/projects/germline-immune/immune-phenotype-pearson/pancan.immune.phenotypes.pearson.csv\")"
   ]
  },
  {
   "cell_type": "code",
   "execution_count": null,
   "metadata": {},
   "outputs": [],
   "source": []
  },
  {
   "cell_type": "code",
   "execution_count": null,
   "metadata": {},
   "outputs": [],
   "source": []
  },
  {
   "cell_type": "code",
   "execution_count": null,
   "metadata": {},
   "outputs": [],
   "source": []
  }
 ],
 "metadata": {
  "kernelspec": {
   "display_name": "Python 3",
   "language": "python",
   "name": "python3"
  },
  "language_info": {
   "codemirror_mode": {
    "name": "ipython",
    "version": 3
   },
   "file_extension": ".py",
   "mimetype": "text/x-python",
   "name": "python",
   "nbconvert_exporter": "python",
   "pygments_lexer": "ipython3",
   "version": "3.7.7"
  }
 },
 "nbformat": 4,
 "nbformat_minor": 4
}
