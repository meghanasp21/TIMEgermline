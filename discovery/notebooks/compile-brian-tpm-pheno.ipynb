{
 "cells": [
  {
   "cell_type": "code",
   "execution_count": 1,
   "metadata": {},
   "outputs": [],
   "source": [
    "import sys \n",
    "sys.path.append(\"/cellar/users/mpagadal/Programs/anaconda3/lib/python3.7/site-packages\")\n",
    "sys.path.insert(1, '/cellar/users/mpagadal/Data/scripts')\n",
    "import json"
   ]
  },
  {
   "cell_type": "code",
   "execution_count": 2,
   "metadata": {},
   "outputs": [],
   "source": [
    "import pandas as pd\n",
    "import os\n",
    "import matplotlib.pyplot as plt\n",
    "import matplotlib as mpl\n",
    "from itertools import product\n",
    "import seaborn as sns\n",
    "import networkx as nx\n",
    "from ndex2.nice_cx_network import NiceCXNetwork \n",
    "import ndex2.client as nc\n",
    "import ndex2"
   ]
  },
  {
   "cell_type": "code",
   "execution_count": 3,
   "metadata": {},
   "outputs": [],
   "source": [
    "import matplotlib\n",
    "matplotlib.rcParams['pdf.fonttype'] = 42\n",
    "matplotlib.rcParams['ps.fonttype'] = 42"
   ]
  },
  {
   "cell_type": "code",
   "execution_count": 4,
   "metadata": {},
   "outputs": [],
   "source": [
    "from get_brian_rna import *"
   ]
  },
  {
   "cell_type": "code",
   "execution_count": 5,
   "metadata": {},
   "outputs": [],
   "source": [
    "from upsetplot import generate_counts\n",
    "from upsetplot import plot\n",
    "from matplotlib import pyplot"
   ]
  },
  {
   "cell_type": "markdown",
   "metadata": {},
   "source": [
    "## Collect phenotype IDs"
   ]
  },
  {
   "cell_type": "markdown",
   "metadata": {},
   "source": [
    "Our goal was to collect central phenotypes that shape the tumor immune microenvironment. These phenotypes include measures of immune states, immune infiltration and gene expression collected from a variety of sources, including gene sets, literature, and results of tool calculations"
   ]
  },
  {
   "cell_type": "code",
   "execution_count": 6,
   "metadata": {},
   "outputs": [],
   "source": [
    "def filter_zeros(df,threshold):\n",
    "    '''\n",
    "    inputs:\n",
    "    df: dataframe of rna values\n",
    "    threshold: % of zero values by which to exclude phenotypes\n",
    "    \n",
    "    output:\n",
    "    dataframe with rna values < threshold of zero values\n",
    "    '''\n",
    "    \n",
    "    keep=[]\n",
    "    remove=[]\n",
    "    \n",
    "    for x in df.columns:\n",
    "        if len(df[df[x]==0])>threshold*len(df):\n",
    "            remove.append(x)\n",
    "        else:\n",
    "            keep.append(x)\n",
    "    \n",
    "    print(\"{} phenotypes with > {} zeroes were removed\".format(len(remove),threshold))\n",
    "    return(df[keep])\n",
    "        "
   ]
  },
  {
   "cell_type": "code",
   "execution_count": 7,
   "metadata": {},
   "outputs": [],
   "source": [
    "antigen_present=pd.read_csv(\"../downloaded_phenos/antigen_present_geneset.txt\",skiprows=[1])\n",
    "antigen_present_list=antigen_present[\"GO_ANTIGEN_PROCESSING_AND_PRESENTATION\"].tolist()\n",
    "antigen_present_list.append(\"MARCH1\")"
   ]
  },
  {
   "cell_type": "code",
   "execution_count": 8,
   "metadata": {},
   "outputs": [],
   "source": [
    "im_landscape=pd.read_csv(\"../downloaded_phenos/im-landscape-markers.txt\",header=None)\n",
    "im_landscape_list=im_landscape[0].tolist()"
   ]
  },
  {
   "cell_type": "code",
   "execution_count": 9,
   "metadata": {},
   "outputs": [],
   "source": [
    "danaher=pd.read_csv(\"../downloaded_phenos/danaher_markers.csv\")\n",
    "danaher_list=danaher[\"Gene\"].tolist()"
   ]
  },
  {
   "cell_type": "code",
   "execution_count": 10,
   "metadata": {},
   "outputs": [],
   "source": [
    "im_checkpoint=pd.read_csv(\"../downloaded_phenos/immune-checkpoint.csv\")\n",
    "im_checkpoint_list=im_checkpoint[\"HGNC Symbol\"].tolist()\n",
    "im_checkpoint_list=[x for x in im_checkpoint_list if str(x) != \"nan\"]"
   ]
  },
  {
   "cell_type": "code",
   "execution_count": 11,
   "metadata": {},
   "outputs": [],
   "source": [
    "landscape=pd.read_csv(\"../downloaded_phenos/pheno-immune-landscape-comp\",delimiter=\"\\t\")\n",
    "landscape_comps=landscape.columns[2:]"
   ]
  },
  {
   "cell_type": "code",
   "execution_count": 12,
   "metadata": {},
   "outputs": [
    {
     "data": {
      "text/plain": [
       "Index(['Proliferation', 'Wound.Healing', 'Macrophage.Regulation',\n",
       "       'Lymphocyte.Infiltration.Signature.Score', 'IFN.gamma.Response',\n",
       "       'TGF.beta.Response'],\n",
       "      dtype='object')"
      ]
     },
     "execution_count": 12,
     "metadata": {},
     "output_type": "execute_result"
    }
   ],
   "source": [
    "landscape_comps"
   ]
  },
  {
   "cell_type": "code",
   "execution_count": 13,
   "metadata": {},
   "outputs": [],
   "source": [
    "ifng=pd.read_csv(\"../downloaded_phenos/ifng-markers.txt\",header=None)\n",
    "ifng_list=ifng[0].tolist()"
   ]
  },
  {
   "cell_type": "code",
   "execution_count": 14,
   "metadata": {},
   "outputs": [],
   "source": [
    "tgfbeta=pd.read_csv(\"../downloaded_phenos/tgf-beta-markers.txt\",header=None)\n",
    "tgfbeta_list=tgfbeta[0].tolist()"
   ]
  },
  {
   "cell_type": "code",
   "execution_count": 15,
   "metadata": {},
   "outputs": [],
   "source": [
    "cibersortx=pd.read_csv(\"/cellar/users/mpagadal/Data/cibersort/cibersortx_compiled_allsig.tsv\",delimiter=\"\\t\")\n",
    "cibersortx_list=[x.replace(\" \",\".\") for x in cibersortx.columns[1:]]"
   ]
  },
  {
   "cell_type": "code",
   "execution_count": 16,
   "metadata": {},
   "outputs": [
    {
     "name": "stdout",
     "output_type": "stream",
     "text": [
      "228\n",
      "436\n",
      "60\n",
      "78\n",
      "6\n",
      "6\n",
      "19\n",
      "61\n"
     ]
    }
   ],
   "source": [
    "print(len(antigen_present_list))\n",
    "print(len(im_landscape_list))\n",
    "print(len(danaher_list))\n",
    "print(len(im_checkpoint_list))\n",
    "print(len(landscape_comps))\n",
    "print(len(ifng_list))\n",
    "print(len(tgfbeta_list))\n",
    "print(len(cibersortx_list))\n"
   ]
  },
  {
   "cell_type": "markdown",
   "metadata": {},
   "source": [
    "### Create phenotype dictionary"
   ]
  },
  {
   "cell_type": "code",
   "execution_count": 17,
   "metadata": {},
   "outputs": [],
   "source": [
    "pheno_dict={}\n",
    "\n",
    "for x in antigen_present_list:\n",
    "    x=x.replace(\"-\",\".\")\n",
    "    pheno_dict[x]=\"antigen present\"\n",
    "for x in im_landscape_list:\n",
    "    x=x.replace(\"-\",\".\")\n",
    "    pheno_dict[x]=\"immunomodulators\"\n",
    "for x in danaher_list:\n",
    "    x=x.replace(\"-\",\".\")\n",
    "    pheno_dict[x]=\"cell type\"\n",
    "for x in im_checkpoint_list:\n",
    "    x=x.replace(\"-\",\".\")\n",
    "    pheno_dict[x]=\"immune checkpoint\"\n",
    "for x in landscape_comps:\n",
    "    x=x.replace(\"-\",\".\")\n",
    "    pheno_dict[x]=\"landscape components\"\n",
    "for x in ifng_list:\n",
    "    x=x.replace(\"-\",\".\")\n",
    "    pheno_dict[x]=\"IFNG\"    \n",
    "for x in tgfbeta_list:\n",
    "    x=x.replace(\"-\",\".\")\n",
    "    pheno_dict[x]=\"TGFbeta\"\n",
    "for x in cibersortx_list:\n",
    "    x=x.replace(\"-\",\".\")\n",
    "    pheno_dict[x]=\"immune infiltration\""
   ]
  },
  {
   "cell_type": "code",
   "execution_count": 18,
   "metadata": {},
   "outputs": [],
   "source": [
    "for x in pheno_dict.keys():\n",
    "    if \"HLA\" in x:\n",
    "        pheno_dict[x]=\"antigen present\""
   ]
  },
  {
   "cell_type": "code",
   "execution_count": 19,
   "metadata": {},
   "outputs": [
    {
     "name": "stdout",
     "output_type": "stream",
     "text": [
      "833\n"
     ]
    }
   ],
   "source": [
    "print(len(pheno_dict))"
   ]
  },
  {
   "cell_type": "code",
   "execution_count": 20,
   "metadata": {},
   "outputs": [],
   "source": [
    "import json\n",
    "with open('pheno_dictionary.json', 'w') as json_file:\n",
    "    json.dump(pheno_dict, json_file)"
   ]
  },
  {
   "cell_type": "code",
   "execution_count": 21,
   "metadata": {},
   "outputs": [],
   "source": [
    "with open('pheno_dictionary.json', 'r') as f:\n",
    "    pheno_dict = json.load(f)"
   ]
  },
  {
   "cell_type": "code",
   "execution_count": 22,
   "metadata": {},
   "outputs": [
    {
     "data": {
      "text/plain": [
       "'immunomodulators'"
      ]
     },
     "execution_count": 22,
     "metadata": {},
     "output_type": "execute_result"
    }
   ],
   "source": [
    "pheno_dict[\"BRCA2\"]"
   ]
  },
  {
   "cell_type": "code",
   "execution_count": 23,
   "metadata": {},
   "outputs": [],
   "source": [
    "pheno_map=pd.DataFrame(pheno_dict,index=[0])"
   ]
  },
  {
   "cell_type": "code",
   "execution_count": 24,
   "metadata": {},
   "outputs": [],
   "source": [
    "pheno_map=pheno_map.T"
   ]
  },
  {
   "cell_type": "code",
   "execution_count": 25,
   "metadata": {},
   "outputs": [],
   "source": [
    "pheno_map.to_csv(\"phenotype.mapping.csv\",header=None)"
   ]
  },
  {
   "cell_type": "markdown",
   "metadata": {},
   "source": [
    "## Make phenotype file for PLINK"
   ]
  },
  {
   "cell_type": "markdown",
   "metadata": {},
   "source": [
    "### Collect RNA phenotypes from TPM data"
   ]
  },
  {
   "cell_type": "code",
   "execution_count": 26,
   "metadata": {},
   "outputs": [],
   "source": [
    "def brian_tpm_filter(lst):\n",
    "    #load brian's rna dataframe\n",
    "    colnames = np.loadtxt('/cellar/users/btsui/Data/nrnb01_nobackup/Data/SRA/MATRIX/DATA/hgGRC38/TCGAmatrix.realign.gene.hgnc.columns.txt', dtype=str)\n",
    "    rownames = np.loadtxt('/cellar/users/btsui/Data/nrnb01_nobackup/Data/SRA/MATRIX/DATA/hgGRC38/TCGAmatrix.realign.gene.hgnc.index.txt', dtype=str)\n",
    "    tcga_df = pd.DataFrame(np.load('/cellar/users/btsui/Data/nrnb01_nobackup/Data/SRA/MATRIX/DATA/hgGRC38/TCGAmatrix.realign.gene.hgnc.npy'), index=rownames, columns=colnames)\n",
    "\n",
    "    #get legacy mapping data\n",
    "    legacy_df = pd.read_csv('/cellar/users/andreabc/Data/GDC_barcodes/LEGACY_uuid_barcode_map.txt', \n",
    "                        sep='\\t', index_col='submitter_uuid')\n",
    "    legacy_df = legacy_df.reset_index()\n",
    "    legacy_df = legacy_df[legacy_df.submitter_uuid.notnull()] #get rid of null submitter uuid\n",
    "    \n",
    "    #filter dataframe for genes in list\n",
    "    filt = tcga_df.loc[tcga_df.index.isin(lst),:]\n",
    "    filt =  filt.T\n",
    "    \n",
    "    #map ids to TCGA barcode\n",
    "    dic = dict(zip(legacy_df.submitter_uuid, legacy_df.sample_barcode))\n",
    "    filt.index=filt.index.map(dic)\n",
    "    filt=filt[filt.index.notnull()]\n",
    "\n",
    "    return(filt)"
   ]
  },
  {
   "cell_type": "code",
   "execution_count": 27,
   "metadata": {},
   "outputs": [],
   "source": [
    "all_pheno=antigen_present_list+im_landscape_list+danaher_list+im_checkpoint_list+ifng_list+tgfbeta_list\n",
    "rna=brian_tpm_filter(all_pheno)"
   ]
  },
  {
   "cell_type": "code",
   "execution_count": 28,
   "metadata": {},
   "outputs": [
    {
     "data": {
      "text/html": [
       "<div>\n",
       "<style scoped>\n",
       "    .dataframe tbody tr th:only-of-type {\n",
       "        vertical-align: middle;\n",
       "    }\n",
       "\n",
       "    .dataframe tbody tr th {\n",
       "        vertical-align: top;\n",
       "    }\n",
       "\n",
       "    .dataframe thead th {\n",
       "        text-align: right;\n",
       "    }\n",
       "</style>\n",
       "<table border=\"1\" class=\"dataframe\">\n",
       "  <thead>\n",
       "    <tr style=\"text-align: right;\">\n",
       "      <th></th>\n",
       "      <th>FGR</th>\n",
       "      <th>SEMA3F</th>\n",
       "      <th>DBNDD1</th>\n",
       "      <th>SLC25A5</th>\n",
       "      <th>CREBBP</th>\n",
       "      <th>WDR54</th>\n",
       "      <th>ITGA3</th>\n",
       "      <th>AP2B1</th>\n",
       "      <th>CX3CL1</th>\n",
       "      <th>TNFRSF12A</th>\n",
       "      <th>...</th>\n",
       "      <th>PSMB3</th>\n",
       "      <th>NCF4</th>\n",
       "      <th>LILRB2</th>\n",
       "      <th>KIR3DL2</th>\n",
       "      <th>PDCD1</th>\n",
       "      <th>HLA-DRA</th>\n",
       "      <th>KIR2DL2</th>\n",
       "      <th>LAIR1</th>\n",
       "      <th>FCAR</th>\n",
       "      <th>KIR2DL1</th>\n",
       "    </tr>\n",
       "  </thead>\n",
       "  <tbody>\n",
       "    <tr>\n",
       "      <th>TCGA-ZA-A8F6-01A</th>\n",
       "      <td>17.131453</td>\n",
       "      <td>7.566690</td>\n",
       "      <td>4.347806</td>\n",
       "      <td>480.936279</td>\n",
       "      <td>33.470673</td>\n",
       "      <td>8.454793</td>\n",
       "      <td>62.722713</td>\n",
       "      <td>58.418682</td>\n",
       "      <td>16.266356</td>\n",
       "      <td>62.108425</td>\n",
       "      <td>...</td>\n",
       "      <td>4.246390</td>\n",
       "      <td>1.784200</td>\n",
       "      <td>3.988425</td>\n",
       "      <td>0.00000</td>\n",
       "      <td>0.000000</td>\n",
       "      <td>0.43908</td>\n",
       "      <td>0.0</td>\n",
       "      <td>20.833727</td>\n",
       "      <td>0.007162</td>\n",
       "      <td>0.0</td>\n",
       "    </tr>\n",
       "    <tr>\n",
       "      <th>TCGA-BB-4223-01A</th>\n",
       "      <td>5.577954</td>\n",
       "      <td>86.989151</td>\n",
       "      <td>14.501068</td>\n",
       "      <td>576.514771</td>\n",
       "      <td>25.219648</td>\n",
       "      <td>20.179363</td>\n",
       "      <td>62.558010</td>\n",
       "      <td>48.558121</td>\n",
       "      <td>19.415529</td>\n",
       "      <td>20.282911</td>\n",
       "      <td>...</td>\n",
       "      <td>2.108560</td>\n",
       "      <td>1.004730</td>\n",
       "      <td>1.625378</td>\n",
       "      <td>0.03362</td>\n",
       "      <td>0.008088</td>\n",
       "      <td>28.93940</td>\n",
       "      <td>0.0</td>\n",
       "      <td>7.617002</td>\n",
       "      <td>0.000184</td>\n",
       "      <td>0.0</td>\n",
       "    </tr>\n",
       "    <tr>\n",
       "      <th>TCGA-G9-6348-11A</th>\n",
       "      <td>2.645121</td>\n",
       "      <td>16.762747</td>\n",
       "      <td>10.261188</td>\n",
       "      <td>98.547859</td>\n",
       "      <td>9.569573</td>\n",
       "      <td>15.200922</td>\n",
       "      <td>35.604427</td>\n",
       "      <td>32.050564</td>\n",
       "      <td>47.053909</td>\n",
       "      <td>24.141825</td>\n",
       "      <td>...</td>\n",
       "      <td>0.000000</td>\n",
       "      <td>0.174259</td>\n",
       "      <td>0.328162</td>\n",
       "      <td>0.00000</td>\n",
       "      <td>0.604971</td>\n",
       "      <td>13.50390</td>\n",
       "      <td>0.0</td>\n",
       "      <td>1.423922</td>\n",
       "      <td>0.363611</td>\n",
       "      <td>0.0</td>\n",
       "    </tr>\n",
       "    <tr>\n",
       "      <th>TCGA-R5-A7ZE-01B</th>\n",
       "      <td>0.762767</td>\n",
       "      <td>39.868507</td>\n",
       "      <td>37.553936</td>\n",
       "      <td>400.342499</td>\n",
       "      <td>10.433505</td>\n",
       "      <td>12.851951</td>\n",
       "      <td>58.131935</td>\n",
       "      <td>41.090664</td>\n",
       "      <td>2.107088</td>\n",
       "      <td>40.535870</td>\n",
       "      <td>...</td>\n",
       "      <td>0.619157</td>\n",
       "      <td>0.178445</td>\n",
       "      <td>0.130744</td>\n",
       "      <td>0.00000</td>\n",
       "      <td>0.000000</td>\n",
       "      <td>0.00000</td>\n",
       "      <td>0.0</td>\n",
       "      <td>0.215687</td>\n",
       "      <td>0.216500</td>\n",
       "      <td>0.0</td>\n",
       "    </tr>\n",
       "    <tr>\n",
       "      <th>TCGA-DD-A4NQ-01A</th>\n",
       "      <td>3.994697</td>\n",
       "      <td>2.809687</td>\n",
       "      <td>12.413517</td>\n",
       "      <td>298.211700</td>\n",
       "      <td>3.915368</td>\n",
       "      <td>12.721095</td>\n",
       "      <td>10.358677</td>\n",
       "      <td>19.138075</td>\n",
       "      <td>1.455972</td>\n",
       "      <td>101.450882</td>\n",
       "      <td>...</td>\n",
       "      <td>1.048170</td>\n",
       "      <td>0.207225</td>\n",
       "      <td>0.679936</td>\n",
       "      <td>0.00000</td>\n",
       "      <td>0.198545</td>\n",
       "      <td>0.00000</td>\n",
       "      <td>0.0</td>\n",
       "      <td>0.960103</td>\n",
       "      <td>0.000013</td>\n",
       "      <td>0.0</td>\n",
       "    </tr>\n",
       "  </tbody>\n",
       "</table>\n",
       "<p>5 rows × 764 columns</p>\n",
       "</div>"
      ],
      "text/plain": [
       "                        FGR     SEMA3F     DBNDD1     SLC25A5     CREBBP  \\\n",
       "TCGA-ZA-A8F6-01A  17.131453   7.566690   4.347806  480.936279  33.470673   \n",
       "TCGA-BB-4223-01A   5.577954  86.989151  14.501068  576.514771  25.219648   \n",
       "TCGA-G9-6348-11A   2.645121  16.762747  10.261188   98.547859   9.569573   \n",
       "TCGA-R5-A7ZE-01B   0.762767  39.868507  37.553936  400.342499  10.433505   \n",
       "TCGA-DD-A4NQ-01A   3.994697   2.809687  12.413517  298.211700   3.915368   \n",
       "\n",
       "                      WDR54      ITGA3      AP2B1     CX3CL1   TNFRSF12A  ...  \\\n",
       "TCGA-ZA-A8F6-01A   8.454793  62.722713  58.418682  16.266356   62.108425  ...   \n",
       "TCGA-BB-4223-01A  20.179363  62.558010  48.558121  19.415529   20.282911  ...   \n",
       "TCGA-G9-6348-11A  15.200922  35.604427  32.050564  47.053909   24.141825  ...   \n",
       "TCGA-R5-A7ZE-01B  12.851951  58.131935  41.090664   2.107088   40.535870  ...   \n",
       "TCGA-DD-A4NQ-01A  12.721095  10.358677  19.138075   1.455972  101.450882  ...   \n",
       "\n",
       "                     PSMB3      NCF4    LILRB2  KIR3DL2     PDCD1   HLA-DRA  \\\n",
       "TCGA-ZA-A8F6-01A  4.246390  1.784200  3.988425  0.00000  0.000000   0.43908   \n",
       "TCGA-BB-4223-01A  2.108560  1.004730  1.625378  0.03362  0.008088  28.93940   \n",
       "TCGA-G9-6348-11A  0.000000  0.174259  0.328162  0.00000  0.604971  13.50390   \n",
       "TCGA-R5-A7ZE-01B  0.619157  0.178445  0.130744  0.00000  0.000000   0.00000   \n",
       "TCGA-DD-A4NQ-01A  1.048170  0.207225  0.679936  0.00000  0.198545   0.00000   \n",
       "\n",
       "                  KIR2DL2      LAIR1      FCAR  KIR2DL1  \n",
       "TCGA-ZA-A8F6-01A      0.0  20.833727  0.007162      0.0  \n",
       "TCGA-BB-4223-01A      0.0   7.617002  0.000184      0.0  \n",
       "TCGA-G9-6348-11A      0.0   1.423922  0.363611      0.0  \n",
       "TCGA-R5-A7ZE-01B      0.0   0.215687  0.216500      0.0  \n",
       "TCGA-DD-A4NQ-01A      0.0   0.960103  0.000013      0.0  \n",
       "\n",
       "[5 rows x 764 columns]"
      ]
     },
     "execution_count": 28,
     "metadata": {},
     "output_type": "execute_result"
    }
   ],
   "source": [
    "rna.head()"
   ]
  },
  {
   "cell_type": "code",
   "execution_count": 29,
   "metadata": {},
   "outputs": [],
   "source": [
    "rna[\"code\"]=rna.index.str.split(\"-\").str[-1]\n",
    "rna[\"barcode\"]=rna.index.str[0:12]"
   ]
  },
  {
   "cell_type": "code",
   "execution_count": 30,
   "metadata": {},
   "outputs": [],
   "source": [
    "canc = pd.read_csv(\"/nrnb/users/mpagadal/tcga-genotypes/birdseed-processing/gtype.meta\", delimiter=\"\\t\", header=None)\n",
    "mp = canc.set_index(2)[0].to_dict()\n",
    "rna[\"cancer\"]=rna[\"barcode\"].map(mp)"
   ]
  },
  {
   "cell_type": "code",
   "execution_count": 31,
   "metadata": {},
   "outputs": [],
   "source": [
    "rna_tumor=rna[rna[\"code\"].str.contains(\"01\")]"
   ]
  },
  {
   "cell_type": "code",
   "execution_count": 32,
   "metadata": {},
   "outputs": [
    {
     "data": {
      "text/plain": [
       "01A    9503\n",
       "01B     200\n",
       "01C      10\n",
       "Name: code, dtype: int64"
      ]
     },
     "execution_count": 32,
     "metadata": {},
     "output_type": "execute_result"
    }
   ],
   "source": [
    "rna_tumor[\"code\"].value_counts()"
   ]
  },
  {
   "cell_type": "code",
   "execution_count": 33,
   "metadata": {},
   "outputs": [],
   "source": [
    "#convert index to short barcodes\n",
    "del rna_tumor[\"code\"]\n",
    "del rna_tumor[\"cancer\"]\n",
    "rna_tumor.index=rna_tumor[\"barcode\"]\n",
    "del rna_tumor[\"barcode\"]"
   ]
  },
  {
   "cell_type": "code",
   "execution_count": 34,
   "metadata": {},
   "outputs": [],
   "source": [
    "#take mean for individuals with multiple samples\n",
    "rna=rna_tumor\n",
    "rna=rna.groupby(rna.index).mean()"
   ]
  },
  {
   "cell_type": "code",
   "execution_count": 35,
   "metadata": {},
   "outputs": [
    {
     "name": "stdout",
     "output_type": "stream",
     "text": [
      "36 phenotypes with > 0.1 zeroes were removed\n"
     ]
    }
   ],
   "source": [
    "#filter out phenotypes with > 10% zero values\n",
    "rna=filter_zeros(rna,0.1)"
   ]
  },
  {
   "cell_type": "code",
   "execution_count": 36,
   "metadata": {},
   "outputs": [
    {
     "name": "stdout",
     "output_type": "stream",
     "text": [
      "(9561, 728)\n"
     ]
    }
   ],
   "source": [
    "print(rna.shape)"
   ]
  },
  {
   "cell_type": "code",
   "execution_count": 37,
   "metadata": {},
   "outputs": [],
   "source": [
    "rna=rna.reset_index().rename(columns={\"barcode\":\"FID\"}).set_index(\"FID\")"
   ]
  },
  {
   "cell_type": "markdown",
   "metadata": {},
   "source": [
    "### Collect CIBERSORTX data"
   ]
  },
  {
   "cell_type": "code",
   "execution_count": 40,
   "metadata": {},
   "outputs": [],
   "source": [
    "ciber=pd.read_csv(\"/cellar/users/mpagadal/Data/cibersort/cibersortx_compiled_allsig.tsv\",delimiter=\"\\t\")\n",
    "ciber.columns=[x.replace(\" \",\".\") for x in ciber.columns]\n",
    "ciber=ciber.rename(columns={\"Mixture\":\"FID\"})\n",
    "ciber=ciber.set_index(\"FID\")"
   ]
  },
  {
   "cell_type": "code",
   "execution_count": 39,
   "metadata": {},
   "outputs": [
    {
     "name": "stdout",
     "output_type": "stream",
     "text": [
      "49 phenotypes with > 0.1 zeroes were removed\n"
     ]
    }
   ],
   "source": [
    "ciber=filter_zeros(ciber,0.1)"
   ]
  },
  {
   "cell_type": "code",
   "execution_count": 42,
   "metadata": {},
   "outputs": [
    {
     "name": "stdout",
     "output_type": "stream",
     "text": [
      "(9561, 61)\n"
     ]
    }
   ],
   "source": [
    "print(ciber.shape)"
   ]
  },
  {
   "cell_type": "code",
   "execution_count": 44,
   "metadata": {},
   "outputs": [],
   "source": [
    "ciber=ciber.reset_index()"
   ]
  },
  {
   "cell_type": "code",
   "execution_count": 46,
   "metadata": {},
   "outputs": [],
   "source": [
    "canc = pd.read_csv(\"/nrnb/users/mpagadal/tcga-genotypes/birdseed-processing/gtype.meta\", delimiter=\"\\t\", header=None)\n",
    "mp = canc.set_index(2)[0].to_dict()\n",
    "#total['cancer'] = total[\"FID\"].map(mp)\n",
    "ciber[\"cancer\"]=ciber[\"FID\"].map(mp)"
   ]
  },
  {
   "cell_type": "code",
   "execution_count": 47,
   "metadata": {},
   "outputs": [],
   "source": [
    "for x in ciber[\"cancer\"].unique():\n",
    "    try:\n",
    "        tumor=ciber[ciber[\"cancer\"]==x]\n",
    "        del tumor[\"cancer\"]\n",
    "        tumor.to_csv(\"/cellar/users/mpagadal/Data/projects/germline-immune/processed_phenos/brian-tpm/tumor/ciber/pheno_\"+x+\".unnorm.csv\",index=None,sep=\"\\t\")\n",
    "    except:\n",
    "        pass"
   ]
  },
  {
   "cell_type": "code",
   "execution_count": 49,
   "metadata": {},
   "outputs": [],
   "source": [
    "compiled=pd.DataFrame()\n",
    "for x in ciber[\"cancer\"].unique().tolist():\n",
    "    try:\n",
    "        df=pd.read_csv(\"/cellar/users/mpagadal/Data/projects/germline-immune/processed_phenos/brian-tpm/tumor/ciber/pheno_\"+x+\".rank.csv\",delimiter=\"\\t\")\n",
    "        df[\"cancer\"]=x\n",
    "        compiled=compiled.append(df)\n",
    "    except:\n",
    "        pass"
   ]
  },
  {
   "cell_type": "code",
   "execution_count": 51,
   "metadata": {},
   "outputs": [],
   "source": [
    "del compiled[\"cancer\"]\n",
    "compiled[\"IID\"]=compiled[\"FID\"]\n",
    "cols=[\"FID\",\"IID\"]+compiled.columns.tolist()[1:-1]\n",
    "compiled=compiled[cols]\n",
    "compiled.columns=[x.replace(\"-\",\".\") for x in compiled.columns]\n",
    "compiled=compiled.fillna(-9)"
   ]
  },
  {
   "cell_type": "code",
   "execution_count": 53,
   "metadata": {},
   "outputs": [],
   "source": [
    "compiled.to_csv(\"/cellar/users/mpagadal/Data/projects/germline-immune/processed_phenos/brian-tpm/tumor/ciber/pheno_all_zcancer\",index=None,sep=\"\\t\")"
   ]
  },
  {
   "cell_type": "markdown",
   "metadata": {},
   "source": [
    "### Collect Thorsson et al. immune state scores file"
   ]
  },
  {
   "cell_type": "code",
   "execution_count": 40,
   "metadata": {},
   "outputs": [
    {
     "data": {
      "text/html": [
       "<div>\n",
       "<style scoped>\n",
       "    .dataframe tbody tr th:only-of-type {\n",
       "        vertical-align: middle;\n",
       "    }\n",
       "\n",
       "    .dataframe tbody tr th {\n",
       "        vertical-align: top;\n",
       "    }\n",
       "\n",
       "    .dataframe thead th {\n",
       "        text-align: right;\n",
       "    }\n",
       "</style>\n",
       "<table border=\"1\" class=\"dataframe\">\n",
       "  <thead>\n",
       "    <tr style=\"text-align: right;\">\n",
       "      <th></th>\n",
       "      <th>Proliferation</th>\n",
       "      <th>Wound.Healing</th>\n",
       "      <th>Macrophage.Regulation</th>\n",
       "      <th>Lymphocyte.Infiltration.Signature.Score</th>\n",
       "      <th>IFN.gamma.Response</th>\n",
       "      <th>TGF.beta.Response</th>\n",
       "    </tr>\n",
       "    <tr>\n",
       "      <th>FID</th>\n",
       "      <th></th>\n",
       "      <th></th>\n",
       "      <th></th>\n",
       "      <th></th>\n",
       "      <th></th>\n",
       "      <th></th>\n",
       "    </tr>\n",
       "  </thead>\n",
       "  <tbody>\n",
       "    <tr>\n",
       "      <th>TCGA-01-0639</th>\n",
       "      <td>NaN</td>\n",
       "      <td>NaN</td>\n",
       "      <td>NaN</td>\n",
       "      <td>NaN</td>\n",
       "      <td>NaN</td>\n",
       "      <td>NaN</td>\n",
       "    </tr>\n",
       "    <tr>\n",
       "      <th>TCGA-02-0007</th>\n",
       "      <td>NaN</td>\n",
       "      <td>NaN</td>\n",
       "      <td>NaN</td>\n",
       "      <td>NaN</td>\n",
       "      <td>NaN</td>\n",
       "      <td>NaN</td>\n",
       "    </tr>\n",
       "    <tr>\n",
       "      <th>TCGA-02-0011</th>\n",
       "      <td>NaN</td>\n",
       "      <td>NaN</td>\n",
       "      <td>NaN</td>\n",
       "      <td>NaN</td>\n",
       "      <td>NaN</td>\n",
       "      <td>NaN</td>\n",
       "    </tr>\n",
       "    <tr>\n",
       "      <th>TCGA-02-0023</th>\n",
       "      <td>NaN</td>\n",
       "      <td>NaN</td>\n",
       "      <td>NaN</td>\n",
       "      <td>NaN</td>\n",
       "      <td>NaN</td>\n",
       "      <td>NaN</td>\n",
       "    </tr>\n",
       "    <tr>\n",
       "      <th>TCGA-02-0025</th>\n",
       "      <td>NaN</td>\n",
       "      <td>NaN</td>\n",
       "      <td>NaN</td>\n",
       "      <td>NaN</td>\n",
       "      <td>NaN</td>\n",
       "      <td>NaN</td>\n",
       "    </tr>\n",
       "  </tbody>\n",
       "</table>\n",
       "</div>"
      ],
      "text/plain": [
       "              Proliferation  Wound.Healing  Macrophage.Regulation  \\\n",
       "FID                                                                 \n",
       "TCGA-01-0639            NaN            NaN                    NaN   \n",
       "TCGA-02-0007            NaN            NaN                    NaN   \n",
       "TCGA-02-0011            NaN            NaN                    NaN   \n",
       "TCGA-02-0023            NaN            NaN                    NaN   \n",
       "TCGA-02-0025            NaN            NaN                    NaN   \n",
       "\n",
       "              Lymphocyte.Infiltration.Signature.Score  IFN.gamma.Response  \\\n",
       "FID                                                                         \n",
       "TCGA-01-0639                                      NaN                 NaN   \n",
       "TCGA-02-0007                                      NaN                 NaN   \n",
       "TCGA-02-0011                                      NaN                 NaN   \n",
       "TCGA-02-0023                                      NaN                 NaN   \n",
       "TCGA-02-0025                                      NaN                 NaN   \n",
       "\n",
       "              TGF.beta.Response  \n",
       "FID                              \n",
       "TCGA-01-0639                NaN  \n",
       "TCGA-02-0007                NaN  \n",
       "TCGA-02-0011                NaN  \n",
       "TCGA-02-0023                NaN  \n",
       "TCGA-02-0025                NaN  "
      ]
     },
     "execution_count": 40,
     "metadata": {},
     "output_type": "execute_result"
    }
   ],
   "source": [
    "landscape=pd.read_csv(\"/cellar/users/mpagadal/Data/projects/germline-immune/downloaded_phenos/pheno-immune-landscape-comp\",delimiter=\"\\t\")\n",
    "landscape=landscape.replace(-9, np.nan)\n",
    "del landscape[\"IID\"]\n",
    "landscape=landscape.set_index(\"FID\")\n",
    "landscape.head()"
   ]
  },
  {
   "cell_type": "markdown",
   "metadata": {},
   "source": [
    "### Combine all immune phenotypes"
   ]
  },
  {
   "cell_type": "code",
   "execution_count": 41,
   "metadata": {},
   "outputs": [],
   "source": [
    "total=pd.merge(rna,landscape,on=[\"FID\"],how=\"outer\")\n",
    "total=pd.merge(total, ciber,on=[\"FID\"],how=\"outer\")"
   ]
  },
  {
   "cell_type": "code",
   "execution_count": 42,
   "metadata": {},
   "outputs": [],
   "source": [
    "total = total.apply(pd.to_numeric,errors=\"coerce\")"
   ]
  },
  {
   "cell_type": "code",
   "execution_count": 43,
   "metadata": {},
   "outputs": [
    {
     "name": "stdout",
     "output_type": "stream",
     "text": [
      "(11206, 746)\n"
     ]
    },
    {
     "data": {
      "text/html": [
       "<div>\n",
       "<style scoped>\n",
       "    .dataframe tbody tr th:only-of-type {\n",
       "        vertical-align: middle;\n",
       "    }\n",
       "\n",
       "    .dataframe tbody tr th {\n",
       "        vertical-align: top;\n",
       "    }\n",
       "\n",
       "    .dataframe thead th {\n",
       "        text-align: right;\n",
       "    }\n",
       "</style>\n",
       "<table border=\"1\" class=\"dataframe\">\n",
       "  <thead>\n",
       "    <tr style=\"text-align: right;\">\n",
       "      <th></th>\n",
       "      <th>FGR</th>\n",
       "      <th>SEMA3F</th>\n",
       "      <th>DBNDD1</th>\n",
       "      <th>SLC25A5</th>\n",
       "      <th>CREBBP</th>\n",
       "      <th>WDR54</th>\n",
       "      <th>ITGA3</th>\n",
       "      <th>AP2B1</th>\n",
       "      <th>CX3CL1</th>\n",
       "      <th>TNFRSF12A</th>\n",
       "      <th>...</th>\n",
       "      <th>LM22.Macrophages.M2</th>\n",
       "      <th>NSCLC.Fig2ab.B.cells</th>\n",
       "      <th>dice.CD8_STIM</th>\n",
       "      <th>dice.M2</th>\n",
       "      <th>dice.TH1</th>\n",
       "      <th>dice.TH17</th>\n",
       "      <th>HNSCC.Fibroblast</th>\n",
       "      <th>HNSCC.Endothelial</th>\n",
       "      <th>melanoma.CAF</th>\n",
       "      <th>melanoma.Macrophages</th>\n",
       "    </tr>\n",
       "    <tr>\n",
       "      <th>FID</th>\n",
       "      <th></th>\n",
       "      <th></th>\n",
       "      <th></th>\n",
       "      <th></th>\n",
       "      <th></th>\n",
       "      <th></th>\n",
       "      <th></th>\n",
       "      <th></th>\n",
       "      <th></th>\n",
       "      <th></th>\n",
       "      <th></th>\n",
       "      <th></th>\n",
       "      <th></th>\n",
       "      <th></th>\n",
       "      <th></th>\n",
       "      <th></th>\n",
       "      <th></th>\n",
       "      <th></th>\n",
       "      <th></th>\n",
       "      <th></th>\n",
       "      <th></th>\n",
       "    </tr>\n",
       "  </thead>\n",
       "  <tbody>\n",
       "    <tr>\n",
       "      <th>TCGA-02-0047</th>\n",
       "      <td>10.462351</td>\n",
       "      <td>11.120751</td>\n",
       "      <td>64.943344</td>\n",
       "      <td>222.796921</td>\n",
       "      <td>19.143368</td>\n",
       "      <td>32.310970</td>\n",
       "      <td>68.991638</td>\n",
       "      <td>160.023560</td>\n",
       "      <td>76.170135</td>\n",
       "      <td>84.221405</td>\n",
       "      <td>...</td>\n",
       "      <td>0.324123</td>\n",
       "      <td>0.687473</td>\n",
       "      <td>0.043183</td>\n",
       "      <td>0.443866</td>\n",
       "      <td>0.069350</td>\n",
       "      <td>0.161311</td>\n",
       "      <td>0.498600</td>\n",
       "      <td>0.247231</td>\n",
       "      <td>0.302062</td>\n",
       "      <td>0.320460</td>\n",
       "    </tr>\n",
       "    <tr>\n",
       "      <th>TCGA-02-0055</th>\n",
       "      <td>12.997394</td>\n",
       "      <td>3.542931</td>\n",
       "      <td>12.078923</td>\n",
       "      <td>340.213165</td>\n",
       "      <td>8.614352</td>\n",
       "      <td>39.206337</td>\n",
       "      <td>61.047665</td>\n",
       "      <td>45.648369</td>\n",
       "      <td>25.906631</td>\n",
       "      <td>264.725098</td>\n",
       "      <td>...</td>\n",
       "      <td>0.289852</td>\n",
       "      <td>0.488191</td>\n",
       "      <td>0.062705</td>\n",
       "      <td>0.361803</td>\n",
       "      <td>0.072963</td>\n",
       "      <td>0.187417</td>\n",
       "      <td>0.666249</td>\n",
       "      <td>0.005093</td>\n",
       "      <td>0.704929</td>\n",
       "      <td>0.232990</td>\n",
       "    </tr>\n",
       "    <tr>\n",
       "      <th>TCGA-02-2483</th>\n",
       "      <td>9.448974</td>\n",
       "      <td>6.983698</td>\n",
       "      <td>18.041054</td>\n",
       "      <td>338.070496</td>\n",
       "      <td>13.141633</td>\n",
       "      <td>46.284431</td>\n",
       "      <td>24.381243</td>\n",
       "      <td>84.151978</td>\n",
       "      <td>20.013517</td>\n",
       "      <td>40.882793</td>\n",
       "      <td>...</td>\n",
       "      <td>0.468067</td>\n",
       "      <td>0.634741</td>\n",
       "      <td>0.096529</td>\n",
       "      <td>0.326827</td>\n",
       "      <td>0.054753</td>\n",
       "      <td>0.158911</td>\n",
       "      <td>0.392754</td>\n",
       "      <td>0.284847</td>\n",
       "      <td>0.262851</td>\n",
       "      <td>0.330924</td>\n",
       "    </tr>\n",
       "    <tr>\n",
       "      <th>TCGA-02-2485</th>\n",
       "      <td>7.011187</td>\n",
       "      <td>3.265420</td>\n",
       "      <td>29.600166</td>\n",
       "      <td>360.969116</td>\n",
       "      <td>19.037817</td>\n",
       "      <td>42.300026</td>\n",
       "      <td>7.119283</td>\n",
       "      <td>91.086723</td>\n",
       "      <td>20.380697</td>\n",
       "      <td>80.461861</td>\n",
       "      <td>...</td>\n",
       "      <td>0.294261</td>\n",
       "      <td>0.910478</td>\n",
       "      <td>0.112156</td>\n",
       "      <td>0.225340</td>\n",
       "      <td>0.069608</td>\n",
       "      <td>0.136810</td>\n",
       "      <td>0.439758</td>\n",
       "      <td>0.503177</td>\n",
       "      <td>0.225134</td>\n",
       "      <td>0.212266</td>\n",
       "    </tr>\n",
       "    <tr>\n",
       "      <th>TCGA-02-2486</th>\n",
       "      <td>13.871422</td>\n",
       "      <td>2.507942</td>\n",
       "      <td>12.292249</td>\n",
       "      <td>229.997849</td>\n",
       "      <td>4.587289</td>\n",
       "      <td>45.148750</td>\n",
       "      <td>146.060394</td>\n",
       "      <td>63.454029</td>\n",
       "      <td>10.426679</td>\n",
       "      <td>135.188126</td>\n",
       "      <td>...</td>\n",
       "      <td>0.426537</td>\n",
       "      <td>0.715499</td>\n",
       "      <td>0.030492</td>\n",
       "      <td>0.351950</td>\n",
       "      <td>0.150781</td>\n",
       "      <td>0.364722</td>\n",
       "      <td>0.671309</td>\n",
       "      <td>0.080076</td>\n",
       "      <td>0.311433</td>\n",
       "      <td>0.413945</td>\n",
       "    </tr>\n",
       "  </tbody>\n",
       "</table>\n",
       "<p>5 rows × 746 columns</p>\n",
       "</div>"
      ],
      "text/plain": [
       "                    FGR     SEMA3F     DBNDD1     SLC25A5     CREBBP  \\\n",
       "FID                                                                    \n",
       "TCGA-02-0047  10.462351  11.120751  64.943344  222.796921  19.143368   \n",
       "TCGA-02-0055  12.997394   3.542931  12.078923  340.213165   8.614352   \n",
       "TCGA-02-2483   9.448974   6.983698  18.041054  338.070496  13.141633   \n",
       "TCGA-02-2485   7.011187   3.265420  29.600166  360.969116  19.037817   \n",
       "TCGA-02-2486  13.871422   2.507942  12.292249  229.997849   4.587289   \n",
       "\n",
       "                  WDR54       ITGA3       AP2B1     CX3CL1   TNFRSF12A  ...  \\\n",
       "FID                                                                     ...   \n",
       "TCGA-02-0047  32.310970   68.991638  160.023560  76.170135   84.221405  ...   \n",
       "TCGA-02-0055  39.206337   61.047665   45.648369  25.906631  264.725098  ...   \n",
       "TCGA-02-2483  46.284431   24.381243   84.151978  20.013517   40.882793  ...   \n",
       "TCGA-02-2485  42.300026    7.119283   91.086723  20.380697   80.461861  ...   \n",
       "TCGA-02-2486  45.148750  146.060394   63.454029  10.426679  135.188126  ...   \n",
       "\n",
       "              LM22.Macrophages.M2  NSCLC.Fig2ab.B.cells  dice.CD8_STIM  \\\n",
       "FID                                                                      \n",
       "TCGA-02-0047             0.324123              0.687473       0.043183   \n",
       "TCGA-02-0055             0.289852              0.488191       0.062705   \n",
       "TCGA-02-2483             0.468067              0.634741       0.096529   \n",
       "TCGA-02-2485             0.294261              0.910478       0.112156   \n",
       "TCGA-02-2486             0.426537              0.715499       0.030492   \n",
       "\n",
       "               dice.M2  dice.TH1  dice.TH17  HNSCC.Fibroblast  \\\n",
       "FID                                                             \n",
       "TCGA-02-0047  0.443866  0.069350   0.161311          0.498600   \n",
       "TCGA-02-0055  0.361803  0.072963   0.187417          0.666249   \n",
       "TCGA-02-2483  0.326827  0.054753   0.158911          0.392754   \n",
       "TCGA-02-2485  0.225340  0.069608   0.136810          0.439758   \n",
       "TCGA-02-2486  0.351950  0.150781   0.364722          0.671309   \n",
       "\n",
       "              HNSCC.Endothelial  melanoma.CAF  melanoma.Macrophages  \n",
       "FID                                                                  \n",
       "TCGA-02-0047           0.247231      0.302062              0.320460  \n",
       "TCGA-02-0055           0.005093      0.704929              0.232990  \n",
       "TCGA-02-2483           0.284847      0.262851              0.330924  \n",
       "TCGA-02-2485           0.503177      0.225134              0.212266  \n",
       "TCGA-02-2486           0.080076      0.311433              0.413945  \n",
       "\n",
       "[5 rows x 746 columns]"
      ]
     },
     "execution_count": 43,
     "metadata": {},
     "output_type": "execute_result"
    }
   ],
   "source": [
    "print(total.shape)\n",
    "total.head()"
   ]
  },
  {
   "cell_type": "code",
   "execution_count": 44,
   "metadata": {},
   "outputs": [
    {
     "data": {
      "text/html": [
       "<div>\n",
       "<style scoped>\n",
       "    .dataframe tbody tr th:only-of-type {\n",
       "        vertical-align: middle;\n",
       "    }\n",
       "\n",
       "    .dataframe tbody tr th {\n",
       "        vertical-align: top;\n",
       "    }\n",
       "\n",
       "    .dataframe thead th {\n",
       "        text-align: right;\n",
       "    }\n",
       "</style>\n",
       "<table border=\"1\" class=\"dataframe\">\n",
       "  <thead>\n",
       "    <tr style=\"text-align: right;\">\n",
       "      <th></th>\n",
       "      <th>FGR</th>\n",
       "      <th>SEMA3F</th>\n",
       "      <th>DBNDD1</th>\n",
       "      <th>SLC25A5</th>\n",
       "      <th>CREBBP</th>\n",
       "      <th>WDR54</th>\n",
       "      <th>ITGA3</th>\n",
       "      <th>AP2B1</th>\n",
       "      <th>CX3CL1</th>\n",
       "      <th>TNFRSF12A</th>\n",
       "      <th>...</th>\n",
       "      <th>LM22.Macrophages.M2</th>\n",
       "      <th>NSCLC.Fig2ab.B.cells</th>\n",
       "      <th>dice.CD8_STIM</th>\n",
       "      <th>dice.M2</th>\n",
       "      <th>dice.TH1</th>\n",
       "      <th>dice.TH17</th>\n",
       "      <th>HNSCC.Fibroblast</th>\n",
       "      <th>HNSCC.Endothelial</th>\n",
       "      <th>melanoma.CAF</th>\n",
       "      <th>melanoma.Macrophages</th>\n",
       "    </tr>\n",
       "    <tr>\n",
       "      <th>FID</th>\n",
       "      <th></th>\n",
       "      <th></th>\n",
       "      <th></th>\n",
       "      <th></th>\n",
       "      <th></th>\n",
       "      <th></th>\n",
       "      <th></th>\n",
       "      <th></th>\n",
       "      <th></th>\n",
       "      <th></th>\n",
       "      <th></th>\n",
       "      <th></th>\n",
       "      <th></th>\n",
       "      <th></th>\n",
       "      <th></th>\n",
       "      <th></th>\n",
       "      <th></th>\n",
       "      <th></th>\n",
       "      <th></th>\n",
       "      <th></th>\n",
       "      <th></th>\n",
       "    </tr>\n",
       "  </thead>\n",
       "  <tbody>\n",
       "  </tbody>\n",
       "</table>\n",
       "<p>0 rows × 746 columns</p>\n",
       "</div>"
      ],
      "text/plain": [
       "Empty DataFrame\n",
       "Columns: [FGR, SEMA3F, DBNDD1, SLC25A5, CREBBP, WDR54, ITGA3, AP2B1, CX3CL1, TNFRSF12A, CD79B, PSMB1, VTA1, BTK, HFE, PLAUR, PSMC4, CD6, WAS, SLC11A1, CD74, MNAT1, RUNX3, CD44, SLAMF7, BTN3A1, IFNGR1, TNFRSF1B, VCAN, CDH1, PSMA4, TNC, AP2S1, LCP2, CTNNA1, NOP16, TNFRSF17, CELF2, VAMP3, TNFRSF9, FOXP3, CYBA, MRTO4, DCBLD2, ATG5, TBXAS1, AP3D1, CD84, LRRC40, KIF26A, PFKP, NEO1, TNFRSF1A, RHOA, KIF2A, PSME4, RAB27A, OSBPL3, FCGR2B, AP1M1, TBX21, ENO1, SLC25A40, RAB7A, ARHGAP15, KIFAP3, SNRPA, DYNC1I2, CAPZB, SLC1A3, SP140, SAR1A, KIF22, DNM2, PTPRC, HSPB11, FYB, ITGB5, COL16A1, KIF3C, RAB10, CD59, EIF2AK1, PSMC5, MMP2, MT3, DYNLL1, OAS1, PXN, LAG3, ICAM1, LYZ, CD209, KIF4A, LAMB1, ITGA6, PSME1, SNAP23, EZR, MYL6, ...]\n",
       "Index: []\n",
       "\n",
       "[0 rows x 746 columns]"
      ]
     },
     "execution_count": 44,
     "metadata": {},
     "output_type": "execute_result"
    }
   ],
   "source": [
    "total[total.index.duplicated()]"
   ]
  },
  {
   "cell_type": "markdown",
   "metadata": {},
   "source": [
    "### Filter for only genotyped patients"
   ]
  },
  {
   "cell_type": "code",
   "execution_count": 45,
   "metadata": {},
   "outputs": [],
   "source": [
    "#get genotyped patients\n",
    "fam=pd.read_csv(\"/nrnb/users/mpagadal/tcga-genotypes/imputation/michigan-imputation/HRC/european.final.noimmunecancers.clean.fam\",header=None,sep=\" \")[0].tolist()"
   ]
  },
  {
   "cell_type": "code",
   "execution_count": 46,
   "metadata": {},
   "outputs": [],
   "source": [
    "tcga_df=total[total.index.isin(fam)]"
   ]
  },
  {
   "cell_type": "code",
   "execution_count": 47,
   "metadata": {},
   "outputs": [],
   "source": [
    "tcga_df=tcga_df.reset_index()"
   ]
  },
  {
   "cell_type": "code",
   "execution_count": 48,
   "metadata": {},
   "outputs": [],
   "source": [
    "tcga_df=tcga_df.rename(columns={\"index\":\"FID\"})"
   ]
  },
  {
   "cell_type": "code",
   "execution_count": 49,
   "metadata": {},
   "outputs": [
    {
     "name": "stdout",
     "output_type": "stream",
     "text": [
      "(8207, 747)\n"
     ]
    },
    {
     "data": {
      "text/html": [
       "<div>\n",
       "<style scoped>\n",
       "    .dataframe tbody tr th:only-of-type {\n",
       "        vertical-align: middle;\n",
       "    }\n",
       "\n",
       "    .dataframe tbody tr th {\n",
       "        vertical-align: top;\n",
       "    }\n",
       "\n",
       "    .dataframe thead th {\n",
       "        text-align: right;\n",
       "    }\n",
       "</style>\n",
       "<table border=\"1\" class=\"dataframe\">\n",
       "  <thead>\n",
       "    <tr style=\"text-align: right;\">\n",
       "      <th></th>\n",
       "      <th>FID</th>\n",
       "      <th>FGR</th>\n",
       "      <th>SEMA3F</th>\n",
       "      <th>DBNDD1</th>\n",
       "      <th>SLC25A5</th>\n",
       "      <th>CREBBP</th>\n",
       "      <th>WDR54</th>\n",
       "      <th>ITGA3</th>\n",
       "      <th>AP2B1</th>\n",
       "      <th>CX3CL1</th>\n",
       "      <th>...</th>\n",
       "      <th>LM22.Macrophages.M2</th>\n",
       "      <th>NSCLC.Fig2ab.B.cells</th>\n",
       "      <th>dice.CD8_STIM</th>\n",
       "      <th>dice.M2</th>\n",
       "      <th>dice.TH1</th>\n",
       "      <th>dice.TH17</th>\n",
       "      <th>HNSCC.Fibroblast</th>\n",
       "      <th>HNSCC.Endothelial</th>\n",
       "      <th>melanoma.CAF</th>\n",
       "      <th>melanoma.Macrophages</th>\n",
       "    </tr>\n",
       "  </thead>\n",
       "  <tbody>\n",
       "    <tr>\n",
       "      <th>0</th>\n",
       "      <td>TCGA-02-0047</td>\n",
       "      <td>10.462351</td>\n",
       "      <td>11.120751</td>\n",
       "      <td>64.943344</td>\n",
       "      <td>222.796921</td>\n",
       "      <td>19.143368</td>\n",
       "      <td>32.310970</td>\n",
       "      <td>68.991638</td>\n",
       "      <td>160.023560</td>\n",
       "      <td>76.170135</td>\n",
       "      <td>...</td>\n",
       "      <td>0.324123</td>\n",
       "      <td>0.687473</td>\n",
       "      <td>0.043183</td>\n",
       "      <td>0.443866</td>\n",
       "      <td>0.069350</td>\n",
       "      <td>0.161311</td>\n",
       "      <td>0.498600</td>\n",
       "      <td>0.247231</td>\n",
       "      <td>0.302062</td>\n",
       "      <td>0.320460</td>\n",
       "    </tr>\n",
       "    <tr>\n",
       "      <th>1</th>\n",
       "      <td>TCGA-02-0055</td>\n",
       "      <td>12.997394</td>\n",
       "      <td>3.542931</td>\n",
       "      <td>12.078923</td>\n",
       "      <td>340.213165</td>\n",
       "      <td>8.614352</td>\n",
       "      <td>39.206337</td>\n",
       "      <td>61.047665</td>\n",
       "      <td>45.648369</td>\n",
       "      <td>25.906631</td>\n",
       "      <td>...</td>\n",
       "      <td>0.289852</td>\n",
       "      <td>0.488191</td>\n",
       "      <td>0.062705</td>\n",
       "      <td>0.361803</td>\n",
       "      <td>0.072963</td>\n",
       "      <td>0.187417</td>\n",
       "      <td>0.666249</td>\n",
       "      <td>0.005093</td>\n",
       "      <td>0.704929</td>\n",
       "      <td>0.232990</td>\n",
       "    </tr>\n",
       "    <tr>\n",
       "      <th>2</th>\n",
       "      <td>TCGA-02-2486</td>\n",
       "      <td>13.871422</td>\n",
       "      <td>2.507942</td>\n",
       "      <td>12.292249</td>\n",
       "      <td>229.997849</td>\n",
       "      <td>4.587289</td>\n",
       "      <td>45.148750</td>\n",
       "      <td>146.060394</td>\n",
       "      <td>63.454029</td>\n",
       "      <td>10.426679</td>\n",
       "      <td>...</td>\n",
       "      <td>0.426537</td>\n",
       "      <td>0.715499</td>\n",
       "      <td>0.030492</td>\n",
       "      <td>0.351950</td>\n",
       "      <td>0.150781</td>\n",
       "      <td>0.364722</td>\n",
       "      <td>0.671309</td>\n",
       "      <td>0.080076</td>\n",
       "      <td>0.311433</td>\n",
       "      <td>0.413945</td>\n",
       "    </tr>\n",
       "    <tr>\n",
       "      <th>3</th>\n",
       "      <td>TCGA-04-1332</td>\n",
       "      <td>1.587327</td>\n",
       "      <td>18.889095</td>\n",
       "      <td>21.084179</td>\n",
       "      <td>72.480659</td>\n",
       "      <td>20.600607</td>\n",
       "      <td>10.533038</td>\n",
       "      <td>26.183832</td>\n",
       "      <td>12.907973</td>\n",
       "      <td>23.363880</td>\n",
       "      <td>...</td>\n",
       "      <td>0.212655</td>\n",
       "      <td>0.839303</td>\n",
       "      <td>0.035891</td>\n",
       "      <td>0.206038</td>\n",
       "      <td>0.196037</td>\n",
       "      <td>0.486295</td>\n",
       "      <td>0.777307</td>\n",
       "      <td>0.186912</td>\n",
       "      <td>0.752511</td>\n",
       "      <td>0.131154</td>\n",
       "    </tr>\n",
       "    <tr>\n",
       "      <th>4</th>\n",
       "      <td>TCGA-04-1338</td>\n",
       "      <td>2.084633</td>\n",
       "      <td>6.618918</td>\n",
       "      <td>10.275887</td>\n",
       "      <td>80.976318</td>\n",
       "      <td>8.162801</td>\n",
       "      <td>14.475409</td>\n",
       "      <td>47.023655</td>\n",
       "      <td>12.441605</td>\n",
       "      <td>6.865872</td>\n",
       "      <td>...</td>\n",
       "      <td>0.192444</td>\n",
       "      <td>0.642535</td>\n",
       "      <td>0.069717</td>\n",
       "      <td>0.228317</td>\n",
       "      <td>0.114303</td>\n",
       "      <td>0.388767</td>\n",
       "      <td>0.731318</td>\n",
       "      <td>0.063031</td>\n",
       "      <td>0.735070</td>\n",
       "      <td>0.240005</td>\n",
       "    </tr>\n",
       "  </tbody>\n",
       "</table>\n",
       "<p>5 rows × 747 columns</p>\n",
       "</div>"
      ],
      "text/plain": [
       "            FID        FGR     SEMA3F     DBNDD1     SLC25A5     CREBBP  \\\n",
       "0  TCGA-02-0047  10.462351  11.120751  64.943344  222.796921  19.143368   \n",
       "1  TCGA-02-0055  12.997394   3.542931  12.078923  340.213165   8.614352   \n",
       "2  TCGA-02-2486  13.871422   2.507942  12.292249  229.997849   4.587289   \n",
       "3  TCGA-04-1332   1.587327  18.889095  21.084179   72.480659  20.600607   \n",
       "4  TCGA-04-1338   2.084633   6.618918  10.275887   80.976318   8.162801   \n",
       "\n",
       "       WDR54       ITGA3       AP2B1     CX3CL1  ...  LM22.Macrophages.M2  \\\n",
       "0  32.310970   68.991638  160.023560  76.170135  ...             0.324123   \n",
       "1  39.206337   61.047665   45.648369  25.906631  ...             0.289852   \n",
       "2  45.148750  146.060394   63.454029  10.426679  ...             0.426537   \n",
       "3  10.533038   26.183832   12.907973  23.363880  ...             0.212655   \n",
       "4  14.475409   47.023655   12.441605   6.865872  ...             0.192444   \n",
       "\n",
       "   NSCLC.Fig2ab.B.cells  dice.CD8_STIM   dice.M2  dice.TH1  dice.TH17  \\\n",
       "0              0.687473       0.043183  0.443866  0.069350   0.161311   \n",
       "1              0.488191       0.062705  0.361803  0.072963   0.187417   \n",
       "2              0.715499       0.030492  0.351950  0.150781   0.364722   \n",
       "3              0.839303       0.035891  0.206038  0.196037   0.486295   \n",
       "4              0.642535       0.069717  0.228317  0.114303   0.388767   \n",
       "\n",
       "   HNSCC.Fibroblast  HNSCC.Endothelial  melanoma.CAF  melanoma.Macrophages  \n",
       "0          0.498600           0.247231      0.302062              0.320460  \n",
       "1          0.666249           0.005093      0.704929              0.232990  \n",
       "2          0.671309           0.080076      0.311433              0.413945  \n",
       "3          0.777307           0.186912      0.752511              0.131154  \n",
       "4          0.731318           0.063031      0.735070              0.240005  \n",
       "\n",
       "[5 rows x 747 columns]"
      ]
     },
     "execution_count": 49,
     "metadata": {},
     "output_type": "execute_result"
    }
   ],
   "source": [
    "print(tcga_df.shape)\n",
    "tcga_df.head()"
   ]
  },
  {
   "cell_type": "markdown",
   "metadata": {},
   "source": [
    "## Submit cancer-specific phenos for rank normalization"
   ]
  },
  {
   "cell_type": "code",
   "execution_count": 50,
   "metadata": {},
   "outputs": [],
   "source": [
    "canc = pd.read_csv(\"/nrnb/users/mpagadal/tcga-genotypes/birdseed-processing/gtype.meta\", delimiter=\"\\t\", header=None)\n",
    "mp = canc.set_index(2)[0].to_dict()\n",
    "#total['cancer'] = total[\"FID\"].map(mp)\n",
    "tcga_df[\"cancer\"]=tcga_df[\"FID\"].map(mp)"
   ]
  },
  {
   "cell_type": "code",
   "execution_count": 51,
   "metadata": {},
   "outputs": [],
   "source": [
    "for x in tcga_df[\"cancer\"].unique():\n",
    "    try:\n",
    "        tumor=tcga_df[tcga_df[\"cancer\"]==x]\n",
    "        del tumor[\"cancer\"]\n",
    "        tumor.to_csv(\"/cellar/users/mpagadal/Data/projects/germline-immune/processed_phenos/brian-tpm/tumor/pheno_\"+x+\".unnorm.csv\",index=None,sep=\"\\t\")\n",
    "    except:\n",
    "        pass\n",
    "    \n",
    "    "
   ]
  },
  {
   "cell_type": "code",
   "execution_count": 53,
   "metadata": {},
   "outputs": [],
   "source": [
    "compiled=pd.DataFrame()\n",
    "for x in tcga_df[\"cancer\"].unique().tolist():\n",
    "    try:\n",
    "        df=pd.read_csv(\"/cellar/users/mpagadal/Data/projects/germline-immune/processed_phenos/brian-tpm/tumor/pheno_\"+x+\".rank.csv\",delimiter=\"\\t\")\n",
    "        df[\"cancer\"]=x\n",
    "        compiled=compiled.append(df)\n",
    "    except:\n",
    "        pass"
   ]
  },
  {
   "cell_type": "markdown",
   "metadata": {},
   "source": [
    "### Confirm rank norm by cancer"
   ]
  },
  {
   "cell_type": "code",
   "execution_count": 54,
   "metadata": {},
   "outputs": [
    {
     "data": {
      "text/plain": [
       "Text(0.5, 1.0, 'FGR')"
      ]
     },
     "execution_count": 54,
     "metadata": {},
     "output_type": "execute_result"
    },
    {
     "data": {
      "image/png": "[encoded data removed]",
      "text/plain": [
       "<Figure size 1440x360 with 1 Axes>"
      ]
     },
     "metadata": {},
     "output_type": "display_data"
    }
   ],
   "source": [
    "x=\"FGR\"\n",
    "#plot rna expression by cancer type\n",
    "sns.set(style=\"whitegrid\", font_scale = 1)\n",
    "plt.figure(figsize=(20,5))\n",
    "sns.set_style(\"whitegrid\", {'axes.grid' : False})\n",
    "ax = sns.boxplot(x=\"cancer\", y=x, data=compiled)\n",
    "ax.set(xlabel=\"cancer\", ylabel='rank norm FGR')\n",
    "plt.xticks(rotation=30)\n",
    "plt.title(x)"
   ]
  },
  {
   "cell_type": "code",
   "execution_count": 55,
   "metadata": {},
   "outputs": [],
   "source": [
    "del compiled[\"cancer\"]\n",
    "compiled[\"IID\"]=compiled[\"FID\"]\n",
    "cols=[\"FID\",\"IID\"]+compiled.columns.tolist()[1:-1]\n",
    "compiled=compiled[cols]\n",
    "compiled.columns=[x.replace(\"-\",\".\") for x in compiled.columns]\n",
    "compiled=compiled.fillna(-9)"
   ]
  },
  {
   "cell_type": "code",
   "execution_count": 56,
   "metadata": {},
   "outputs": [],
   "source": [
    "compiled.to_csv(\"/cellar/users/mpagadal/Data/projects/germline-immune/processed_phenos/brian-tpm/tumor/pheno_all_zcancer\",index=None,sep=\"\\t\")"
   ]
  },
  {
   "cell_type": "code",
   "execution_count": 57,
   "metadata": {},
   "outputs": [
    {
     "name": "stdout",
     "output_type": "stream",
     "text": [
      "(8207, 748)\n"
     ]
    },
    {
     "data": {
      "text/html": [
       "<div>\n",
       "<style scoped>\n",
       "    .dataframe tbody tr th:only-of-type {\n",
       "        vertical-align: middle;\n",
       "    }\n",
       "\n",
       "    .dataframe tbody tr th {\n",
       "        vertical-align: top;\n",
       "    }\n",
       "\n",
       "    .dataframe thead th {\n",
       "        text-align: right;\n",
       "    }\n",
       "</style>\n",
       "<table border=\"1\" class=\"dataframe\">\n",
       "  <thead>\n",
       "    <tr style=\"text-align: right;\">\n",
       "      <th></th>\n",
       "      <th>FID</th>\n",
       "      <th>IID</th>\n",
       "      <th>FGR</th>\n",
       "      <th>SEMA3F</th>\n",
       "      <th>DBNDD1</th>\n",
       "      <th>SLC25A5</th>\n",
       "      <th>CREBBP</th>\n",
       "      <th>WDR54</th>\n",
       "      <th>ITGA3</th>\n",
       "      <th>AP2B1</th>\n",
       "      <th>...</th>\n",
       "      <th>LM22.Macrophages.M2</th>\n",
       "      <th>NSCLC.Fig2ab.B.cells</th>\n",
       "      <th>dice.CD8_STIM</th>\n",
       "      <th>dice.M2</th>\n",
       "      <th>dice.TH1</th>\n",
       "      <th>dice.TH17</th>\n",
       "      <th>HNSCC.Fibroblast</th>\n",
       "      <th>HNSCC.Endothelial</th>\n",
       "      <th>melanoma.CAF</th>\n",
       "      <th>melanoma.Macrophages</th>\n",
       "    </tr>\n",
       "  </thead>\n",
       "  <tbody>\n",
       "    <tr>\n",
       "      <th>1</th>\n",
       "      <td>TCGA-02-0047</td>\n",
       "      <td>TCGA-02-0047</td>\n",
       "      <td>0.574582</td>\n",
       "      <td>0.995132</td>\n",
       "      <td>1.478237</td>\n",
       "      <td>-1.267664</td>\n",
       "      <td>0.809839</td>\n",
       "      <td>-0.838697</td>\n",
       "      <td>0.868271</td>\n",
       "      <td>2.043696</td>\n",
       "      <td>...</td>\n",
       "      <td>-0.674490</td>\n",
       "      <td>-0.367676</td>\n",
       "      <td>-0.175539</td>\n",
       "      <td>1.478237</td>\n",
       "      <td>-0.781640</td>\n",
       "      <td>-0.503299</td>\n",
       "      <td>0.030824</td>\n",
       "      <td>-0.259717</td>\n",
       "      <td>0.281029</td>\n",
       "      <td>0.503299</td>\n",
       "    </tr>\n",
       "    <tr>\n",
       "      <th>2</th>\n",
       "      <td>TCGA-02-0055</td>\n",
       "      <td>TCGA-02-0055</td>\n",
       "      <td>0.995132</td>\n",
       "      <td>-0.598989</td>\n",
       "      <td>-1.223048</td>\n",
       "      <td>0.281029</td>\n",
       "      <td>-0.674490</td>\n",
       "      <td>-0.217436</td>\n",
       "      <td>0.754049</td>\n",
       "      <td>-1.542505</td>\n",
       "      <td>...</td>\n",
       "      <td>-0.929830</td>\n",
       "      <td>-1.788034</td>\n",
       "      <td>0.345780</td>\n",
       "      <td>0.457181</td>\n",
       "      <td>-0.674490</td>\n",
       "      <td>-0.259717</td>\n",
       "      <td>1.694534</td>\n",
       "      <td>-2.643857</td>\n",
       "      <td>2.643857</td>\n",
       "      <td>-0.154711</td>\n",
       "    </tr>\n",
       "    <tr>\n",
       "      <th>3</th>\n",
       "      <td>TCGA-02-2486</td>\n",
       "      <td>TCGA-02-2486</td>\n",
       "      <td>1.180743</td>\n",
       "      <td>-0.898625</td>\n",
       "      <td>-1.140451</td>\n",
       "      <td>-1.101931</td>\n",
       "      <td>-1.542505</td>\n",
       "      <td>0.217436</td>\n",
       "      <td>1.900427</td>\n",
       "      <td>-0.700514</td>\n",
       "      <td>...</td>\n",
       "      <td>0.196444</td>\n",
       "      <td>-0.051388</td>\n",
       "      <td>-0.648915</td>\n",
       "      <td>0.345780</td>\n",
       "      <td>1.064979</td>\n",
       "      <td>0.781640</td>\n",
       "      <td>1.900427</td>\n",
       "      <td>-1.788034</td>\n",
       "      <td>0.367676</td>\n",
       "      <td>1.314956</td>\n",
       "    </tr>\n",
       "    <tr>\n",
       "      <th>4</th>\n",
       "      <td>TCGA-06-0129</td>\n",
       "      <td>TCGA-06-0129</td>\n",
       "      <td>1.419554</td>\n",
       "      <td>-1.900427</td>\n",
       "      <td>-1.613862</td>\n",
       "      <td>-0.574582</td>\n",
       "      <td>2.643857</td>\n",
       "      <td>2.247781</td>\n",
       "      <td>-1.542505</td>\n",
       "      <td>0.781640</td>\n",
       "      <td>...</td>\n",
       "      <td>2.247781</td>\n",
       "      <td>2.247781</td>\n",
       "      <td>-0.389750</td>\n",
       "      <td>0.868271</td>\n",
       "      <td>-1.967025</td>\n",
       "      <td>-2.400036</td>\n",
       "      <td>-2.643857</td>\n",
       "      <td>-0.868271</td>\n",
       "      <td>-2.643857</td>\n",
       "      <td>2.643857</td>\n",
       "    </tr>\n",
       "    <tr>\n",
       "      <th>5</th>\n",
       "      <td>TCGA-06-0130</td>\n",
       "      <td>TCGA-06-0130</td>\n",
       "      <td>1.694534</td>\n",
       "      <td>-0.503299</td>\n",
       "      <td>-0.929830</td>\n",
       "      <td>0.324048</td>\n",
       "      <td>-0.480112</td>\n",
       "      <td>-0.995132</td>\n",
       "      <td>-0.457181</td>\n",
       "      <td>-1.613862</td>\n",
       "      <td>...</td>\n",
       "      <td>0.550514</td>\n",
       "      <td>0.781640</td>\n",
       "      <td>-0.929830</td>\n",
       "      <td>0.324048</td>\n",
       "      <td>1.613862</td>\n",
       "      <td>0.898625</td>\n",
       "      <td>0.324048</td>\n",
       "      <td>-1.900427</td>\n",
       "      <td>1.788034</td>\n",
       "      <td>1.900427</td>\n",
       "    </tr>\n",
       "  </tbody>\n",
       "</table>\n",
       "<p>5 rows × 748 columns</p>\n",
       "</div>"
      ],
      "text/plain": [
       "            FID           IID       FGR    SEMA3F    DBNDD1   SLC25A5  \\\n",
       "1  TCGA-02-0047  TCGA-02-0047  0.574582  0.995132  1.478237 -1.267664   \n",
       "2  TCGA-02-0055  TCGA-02-0055  0.995132 -0.598989 -1.223048  0.281029   \n",
       "3  TCGA-02-2486  TCGA-02-2486  1.180743 -0.898625 -1.140451 -1.101931   \n",
       "4  TCGA-06-0129  TCGA-06-0129  1.419554 -1.900427 -1.613862 -0.574582   \n",
       "5  TCGA-06-0130  TCGA-06-0130  1.694534 -0.503299 -0.929830  0.324048   \n",
       "\n",
       "     CREBBP     WDR54     ITGA3     AP2B1  ...  LM22.Macrophages.M2  \\\n",
       "1  0.809839 -0.838697  0.868271  2.043696  ...            -0.674490   \n",
       "2 -0.674490 -0.217436  0.754049 -1.542505  ...            -0.929830   \n",
       "3 -1.542505  0.217436  1.900427 -0.700514  ...             0.196444   \n",
       "4  2.643857  2.247781 -1.542505  0.781640  ...             2.247781   \n",
       "5 -0.480112 -0.995132 -0.457181 -1.613862  ...             0.550514   \n",
       "\n",
       "   NSCLC.Fig2ab.B.cells  dice.CD8_STIM   dice.M2  dice.TH1  dice.TH17  \\\n",
       "1             -0.367676      -0.175539  1.478237 -0.781640  -0.503299   \n",
       "2             -1.788034       0.345780  0.457181 -0.674490  -0.259717   \n",
       "3             -0.051388      -0.648915  0.345780  1.064979   0.781640   \n",
       "4              2.247781      -0.389750  0.868271 -1.967025  -2.400036   \n",
       "5              0.781640      -0.929830  0.324048  1.613862   0.898625   \n",
       "\n",
       "   HNSCC.Fibroblast  HNSCC.Endothelial  melanoma.CAF  melanoma.Macrophages  \n",
       "1          0.030824          -0.259717      0.281029              0.503299  \n",
       "2          1.694534          -2.643857      2.643857             -0.154711  \n",
       "3          1.900427          -1.788034      0.367676              1.314956  \n",
       "4         -2.643857          -0.868271     -2.643857              2.643857  \n",
       "5          0.324048          -1.900427      1.788034              1.900427  \n",
       "\n",
       "[5 rows x 748 columns]"
      ]
     },
     "execution_count": 57,
     "metadata": {},
     "output_type": "execute_result"
    }
   ],
   "source": [
    "print(compiled.shape)\n",
    "compiled.head()"
   ]
  },
  {
   "cell_type": "code",
   "execution_count": 58,
   "metadata": {},
   "outputs": [
    {
     "data": {
      "text/html": [
       "<div>\n",
       "<style scoped>\n",
       "    .dataframe tbody tr th:only-of-type {\n",
       "        vertical-align: middle;\n",
       "    }\n",
       "\n",
       "    .dataframe tbody tr th {\n",
       "        vertical-align: top;\n",
       "    }\n",
       "\n",
       "    .dataframe thead th {\n",
       "        text-align: right;\n",
       "    }\n",
       "</style>\n",
       "<table border=\"1\" class=\"dataframe\">\n",
       "  <thead>\n",
       "    <tr style=\"text-align: right;\">\n",
       "      <th></th>\n",
       "      <th>FID</th>\n",
       "      <th>IID</th>\n",
       "      <th>FGR</th>\n",
       "      <th>SEMA3F</th>\n",
       "      <th>DBNDD1</th>\n",
       "      <th>SLC25A5</th>\n",
       "      <th>CREBBP</th>\n",
       "      <th>WDR54</th>\n",
       "      <th>ITGA3</th>\n",
       "      <th>AP2B1</th>\n",
       "      <th>...</th>\n",
       "      <th>LM22.Macrophages.M2</th>\n",
       "      <th>NSCLC.Fig2ab.B.cells</th>\n",
       "      <th>dice.CD8_STIM</th>\n",
       "      <th>dice.M2</th>\n",
       "      <th>dice.TH1</th>\n",
       "      <th>dice.TH17</th>\n",
       "      <th>HNSCC.Fibroblast</th>\n",
       "      <th>HNSCC.Endothelial</th>\n",
       "      <th>melanoma.CAF</th>\n",
       "      <th>melanoma.Macrophages</th>\n",
       "    </tr>\n",
       "  </thead>\n",
       "  <tbody>\n",
       "  </tbody>\n",
       "</table>\n",
       "<p>0 rows × 748 columns</p>\n",
       "</div>"
      ],
      "text/plain": [
       "Empty DataFrame\n",
       "Columns: [FID, IID, FGR, SEMA3F, DBNDD1, SLC25A5, CREBBP, WDR54, ITGA3, AP2B1, CX3CL1, TNFRSF12A, CD79B, PSMB1, VTA1, BTK, HFE, PLAUR, PSMC4, CD6, WAS, SLC11A1, CD74, MNAT1, RUNX3, CD44, SLAMF7, BTN3A1, IFNGR1, TNFRSF1B, VCAN, CDH1, PSMA4, TNC, AP2S1, LCP2, CTNNA1, NOP16, TNFRSF17, CELF2, VAMP3, TNFRSF9, FOXP3, CYBA, MRTO4, DCBLD2, ATG5, TBXAS1, AP3D1, CD84, LRRC40, KIF26A, PFKP, NEO1, TNFRSF1A, RHOA, KIF2A, PSME4, RAB27A, OSBPL3, FCGR2B, AP1M1, TBX21, ENO1, SLC25A40, RAB7A, ARHGAP15, KIFAP3, SNRPA, DYNC1I2, CAPZB, SLC1A3, SP140, SAR1A, KIF22, DNM2, PTPRC, HSPB11, FYB, ITGB5, COL16A1, KIF3C, RAB10, CD59, EIF2AK1, PSMC5, MMP2, MT3, DYNLL1, OAS1, PXN, LAG3, ICAM1, LYZ, CD209, KIF4A, LAMB1, ITGA6, PSME1, SNAP23, ...]\n",
       "Index: []\n",
       "\n",
       "[0 rows x 748 columns]"
      ]
     },
     "execution_count": 58,
     "metadata": {},
     "output_type": "execute_result"
    }
   ],
   "source": [
    "compiled[compiled[\"FID\"].duplicated()]"
   ]
  },
  {
   "cell_type": "markdown",
   "metadata": {},
   "source": [
    "## Confirm phenotypes are normally distributed"
   ]
  },
  {
   "cell_type": "code",
   "execution_count": 54,
   "metadata": {},
   "outputs": [],
   "source": [
    "pheno=pd.read_csv(\"/cellar/users/mpagadal/Data/projects/germline-immune/processed_phenos/brian-tpm/tumor/pheno_all_zcancer\",delimiter=\"\\t\")\n"
   ]
  },
  {
   "cell_type": "markdown",
   "metadata": {},
   "source": [
    "## Pearson correlation of phenos"
   ]
  },
  {
   "cell_type": "markdown",
   "metadata": {},
   "source": [
    "We wanted to determine whether our phenotypes were strongly correlated or anti-correlated with each other."
   ]
  },
  {
   "cell_type": "code",
   "execution_count": 55,
   "metadata": {},
   "outputs": [],
   "source": [
    "del pheno[\"IID\"]"
   ]
  },
  {
   "cell_type": "code",
   "execution_count": 56,
   "metadata": {},
   "outputs": [],
   "source": [
    "pheno=pheno.replace(-9, np.nan)"
   ]
  },
  {
   "cell_type": "code",
   "execution_count": 57,
   "metadata": {},
   "outputs": [],
   "source": [
    "pheno_corr=pheno.corr(method=\"pearson\")"
   ]
  },
  {
   "cell_type": "code",
   "execution_count": 58,
   "metadata": {},
   "outputs": [],
   "source": [
    "pheno_corr.to_csv(\"/cellar/users/mpagadal/Data/projects/germline-immune/immune-phenotype-pearson/brian.tpm.immune.phenotypes.pearson.csv\")"
   ]
  },
  {
   "cell_type": "code",
   "execution_count": null,
   "metadata": {},
   "outputs": [],
   "source": []
  },
  {
   "cell_type": "code",
   "execution_count": null,
   "metadata": {},
   "outputs": [],
   "source": []
  },
  {
   "cell_type": "code",
   "execution_count": null,
   "metadata": {},
   "outputs": [],
   "source": []
  },
  {
   "cell_type": "code",
   "execution_count": null,
   "metadata": {},
   "outputs": [],
   "source": []
  }
 ],
 "metadata": {
  "kernelspec": {
   "display_name": "Python 3",
   "language": "python",
   "name": "python3"
  },
  "language_info": {
   "codemirror_mode": {
    "name": "ipython",
    "version": 3
   },
   "file_extension": ".py",
   "mimetype": "text/x-python",
   "name": "python",
   "nbconvert_exporter": "python",
   "pygments_lexer": "ipython3",
   "version": "3.7.7"
  }
 },
 "nbformat": 4,
 "nbformat_minor": 2
}
