{
 "cells": [
  {
   "cell_type": "code",
   "execution_count": 199,
   "metadata": {},
   "outputs": [],
   "source": [
    "import sys \n",
    "sys.path.append(\"/cellar/users/mpagadal/Programs/anaconda3/lib/python3.7/site-packages\")\n",
    "sys.path.insert(1, '/cellar/users/mpagadal/Data/scripts')\n",
    "import json"
   ]
  },
  {
   "cell_type": "code",
   "execution_count": 200,
   "metadata": {},
   "outputs": [],
   "source": [
    "import pandas as pd\n",
    "import os\n",
    "import matplotlib.pyplot as plt\n",
    "import matplotlib as mpl\n",
    "from itertools import product\n",
    "import seaborn as sns\n",
    "import networkx as nx\n",
    "from ndex2.nice_cx_network import NiceCXNetwork \n",
    "import ndex2.client as nc\n",
    "import ndex2"
   ]
  },
  {
   "cell_type": "code",
   "execution_count": 201,
   "metadata": {},
   "outputs": [],
   "source": [
    "import matplotlib\n",
    "matplotlib.rcParams['pdf.fonttype'] = 42\n",
    "matplotlib.rcParams['ps.fonttype'] = 42"
   ]
  },
  {
   "cell_type": "code",
   "execution_count": 202,
   "metadata": {},
   "outputs": [],
   "source": [
    "from get_brian_rna import *"
   ]
  },
  {
   "cell_type": "code",
   "execution_count": 203,
   "metadata": {},
   "outputs": [],
   "source": [
    "from upsetplot import generate_counts\n",
    "from upsetplot import plot\n",
    "from matplotlib import pyplot"
   ]
  },
  {
   "cell_type": "markdown",
   "metadata": {},
   "source": [
    "## Make phenotype file for PLINK"
   ]
  },
  {
   "cell_type": "code",
   "execution_count": 204,
   "metadata": {},
   "outputs": [],
   "source": [
    "def filter_zeros(df,threshold):\n",
    "    '''\n",
    "    inputs:\n",
    "    df: dataframe of rna values\n",
    "    threshold: % of zero values by which to exclude phenotypes\n",
    "    \n",
    "    output:\n",
    "    dataframe with rna values < threshold of zero values\n",
    "    '''\n",
    "    \n",
    "    keep=[]\n",
    "    remove=[]\n",
    "    \n",
    "    for x in df.columns:\n",
    "        if len(df[df[x]==0])>threshold*len(df):\n",
    "            remove.append(x)\n",
    "        else:\n",
    "            keep.append(x)\n",
    "    \n",
    "    print(\"{} phenotypes with > {} zeroes were removed\".format(len(remove),threshold))\n",
    "    return(df[keep])\n",
    "        "
   ]
  },
  {
   "cell_type": "markdown",
   "metadata": {},
   "source": [
    "### Collect RNA phenotypes from TPM data"
   ]
  },
  {
   "cell_type": "code",
   "execution_count": 205,
   "metadata": {},
   "outputs": [],
   "source": [
    "def brian_tpm_filter(lst,sample_type):\n",
    "    #load brian's rna dataframe\n",
    "    colnames = np.loadtxt('/cellar/users/btsui/Data/nrnb01_nobackup/Data/SRA/MATRIX/DATA/hgGRC38/TCGAmatrix.realign.gene.hgnc.columns.txt', dtype=str)\n",
    "    rownames = np.loadtxt('/cellar/users/btsui/Data/nrnb01_nobackup/Data/SRA/MATRIX/DATA/hgGRC38/TCGAmatrix.realign.gene.hgnc.index.txt', dtype=str)\n",
    "    tcga_df = pd.DataFrame(np.load('/cellar/users/btsui/Data/nrnb01_nobackup/Data/SRA/MATRIX/DATA/hgGRC38/TCGAmatrix.realign.gene.hgnc.npy'), index=rownames, columns=colnames)\n",
    "\n",
    "    #get legacy mapping data\n",
    "    legacy_df = pd.read_csv('/cellar/users/andreabc/Data/GDC_barcodes/LEGACY_uuid_barcode_map.txt', \n",
    "                        sep='\\t', index_col='submitter_uuid')\n",
    "    legacy_df = legacy_df.reset_index()\n",
    "    legacy_df = legacy_df[legacy_df.submitter_uuid.notnull()] #get rid of null submitter uuid\n",
    "    \n",
    "    #filter dataframe for genes in list\n",
    "    tcga_df.index=tcga_df.index.str.replace(\"-\",\".\")\n",
    "    filt = tcga_df.loc[tcga_df.index.isin(lst),:]\n",
    "    filt =  filt.T\n",
    "    \n",
    "    #map ids to TCGA barcode\n",
    "    dic = dict(zip(legacy_df.submitter_uuid, legacy_df.sample_barcode))\n",
    "    filt.index=filt.index.map(dic)\n",
    "    filt=filt[filt.index.notnull()]\n",
    "    \n",
    "    filt[\"code\"]=filt.index.str.split(\"-\").str[-1]\n",
    "    filt.index=filt.index.str[0:12]\n",
    "    \n",
    "    if sample_type == \"tumor\":\n",
    "        filt=filt[filt[\"code\"].str.contains(\"01\")]\n",
    "        print(filt[\"code\"].value_counts())\n",
    "        del filt[\"code\"]\n",
    "        filt=filt.groupby(filt.index).mean()\n",
    "    \n",
    "    if sample_type == \"normal\":\n",
    "        filt=filt[filt[\"code\"].str.startswith(\"1\")]\n",
    "        print(filt[\"code\"].value_counts())\n",
    "        del filt[\"code\"]\n",
    "        filt=filt.groupby(filt.index).mean()\n",
    "\n",
    "    return(filt)"
   ]
  },
  {
   "cell_type": "code",
   "execution_count": 206,
   "metadata": {},
   "outputs": [],
   "source": [
    "def filter_genotyped(df,fam):\n",
    "    #get genotyped patients\n",
    "    geno=pd.read_csv(fam,header=None,sep=\" \")[0].tolist()\n",
    "    df=df[df.index.isin(geno)]\n",
    "    df=df.reset_index()\n",
    "    df=df.rename(columns={\"index\":\"FID\"})\n",
    "    return(df)"
   ]
  },
  {
   "cell_type": "code",
   "execution_count": 207,
   "metadata": {},
   "outputs": [
    {
     "data": {
      "text/html": [
       "<div>\n",
       "<style scoped>\n",
       "    .dataframe tbody tr th:only-of-type {\n",
       "        vertical-align: middle;\n",
       "    }\n",
       "\n",
       "    .dataframe tbody tr th {\n",
       "        vertical-align: top;\n",
       "    }\n",
       "\n",
       "    .dataframe thead th {\n",
       "        text-align: right;\n",
       "    }\n",
       "</style>\n",
       "<table border=\"1\" class=\"dataframe\">\n",
       "  <thead>\n",
       "    <tr style=\"text-align: right;\">\n",
       "      <th></th>\n",
       "      <th>0</th>\n",
       "      <th>1</th>\n",
       "    </tr>\n",
       "  </thead>\n",
       "  <tbody>\n",
       "    <tr>\n",
       "      <th>0</th>\n",
       "      <td>ACE</td>\n",
       "      <td>antigen present</td>\n",
       "    </tr>\n",
       "    <tr>\n",
       "      <th>1</th>\n",
       "      <td>ACTR10</td>\n",
       "      <td>antigen present</td>\n",
       "    </tr>\n",
       "    <tr>\n",
       "      <th>2</th>\n",
       "      <td>ACTR1A</td>\n",
       "      <td>antigen present</td>\n",
       "    </tr>\n",
       "    <tr>\n",
       "      <th>3</th>\n",
       "      <td>ACTR1B</td>\n",
       "      <td>antigen present</td>\n",
       "    </tr>\n",
       "    <tr>\n",
       "      <th>4</th>\n",
       "      <td>AP1B1</td>\n",
       "      <td>antigen present</td>\n",
       "    </tr>\n",
       "  </tbody>\n",
       "</table>\n",
       "</div>"
      ],
      "text/plain": [
       "        0                1\n",
       "0     ACE  antigen present\n",
       "1  ACTR10  antigen present\n",
       "2  ACTR1A  antigen present\n",
       "3  ACTR1B  antigen present\n",
       "4   AP1B1  antigen present"
      ]
     },
     "execution_count": 207,
     "metadata": {},
     "output_type": "execute_result"
    }
   ],
   "source": [
    "pheno=pd.read_csv(\"../data/phenotype.mapping.csv\",header=None)\n",
    "pheno.head()"
   ]
  },
  {
   "cell_type": "code",
   "execution_count": 208,
   "metadata": {},
   "outputs": [
    {
     "name": "stdout",
     "output_type": "stream",
     "text": [
      "01A    9503\n",
      "01B     200\n",
      "01C      10\n",
      "Name: code, dtype: int64\n"
     ]
    }
   ],
   "source": [
    "rna=brian_tpm_filter(pheno[0].tolist(),\"tumor\")"
   ]
  },
  {
   "cell_type": "code",
   "execution_count": 209,
   "metadata": {},
   "outputs": [
    {
     "name": "stdout",
     "output_type": "stream",
     "text": [
      "36 phenotypes with > 0.1 zeroes were removed\n"
     ]
    }
   ],
   "source": [
    "#filter out phenotypes with > 10% zero values\n",
    "rna=filter_zeros(rna,0.1)"
   ]
  },
  {
   "cell_type": "code",
   "execution_count": 210,
   "metadata": {},
   "outputs": [
    {
     "name": "stdout",
     "output_type": "stream",
     "text": [
      "(9561, 728)\n"
     ]
    }
   ],
   "source": [
    "print(rna.shape)"
   ]
  },
  {
   "cell_type": "code",
   "execution_count": 211,
   "metadata": {},
   "outputs": [],
   "source": [
    "rna=rna.reset_index().rename(columns={\"index\":\"FID\"})"
   ]
  },
  {
   "cell_type": "markdown",
   "metadata": {},
   "source": [
    "### Collect CIBERSORTX data"
   ]
  },
  {
   "cell_type": "code",
   "execution_count": 212,
   "metadata": {},
   "outputs": [],
   "source": [
    "ciber=pd.read_csv(\"/cellar/users/mpagadal/Data/cibersort/cibersortx-results/tcga/tpm_cibersortx_compiled_allsig.tsv\",delimiter=\"\\t\")\n",
    "ciber.columns=[x.replace(\" \",\".\") for x in ciber.columns]\n",
    "ciber=ciber.rename(columns={\"Mixture\":\"FID\"})\n",
    "ciber=ciber.set_index(\"FID\")"
   ]
  },
  {
   "cell_type": "code",
   "execution_count": 213,
   "metadata": {},
   "outputs": [
    {
     "name": "stdout",
     "output_type": "stream",
     "text": [
      "49 phenotypes with > 0.1 zeroes were removed\n"
     ]
    }
   ],
   "source": [
    "ciber=filter_zeros(ciber,0.1)"
   ]
  },
  {
   "cell_type": "code",
   "execution_count": 214,
   "metadata": {},
   "outputs": [
    {
     "name": "stdout",
     "output_type": "stream",
     "text": [
      "(9561, 12)\n"
     ]
    }
   ],
   "source": [
    "print(ciber.shape)"
   ]
  },
  {
   "cell_type": "code",
   "execution_count": 215,
   "metadata": {},
   "outputs": [],
   "source": [
    "ciber=ciber.reset_index()"
   ]
  },
  {
   "cell_type": "code",
   "execution_count": 216,
   "metadata": {},
   "outputs": [
    {
     "data": {
      "text/html": [
       "<div>\n",
       "<style scoped>\n",
       "    .dataframe tbody tr th:only-of-type {\n",
       "        vertical-align: middle;\n",
       "    }\n",
       "\n",
       "    .dataframe tbody tr th {\n",
       "        vertical-align: top;\n",
       "    }\n",
       "\n",
       "    .dataframe thead th {\n",
       "        text-align: right;\n",
       "    }\n",
       "</style>\n",
       "<table border=\"1\" class=\"dataframe\">\n",
       "  <thead>\n",
       "    <tr style=\"text-align: right;\">\n",
       "      <th></th>\n",
       "      <th>FID</th>\n",
       "      <th>LM22.T.cells.CD8</th>\n",
       "      <th>LM22.T.cells.follicular.helper</th>\n",
       "      <th>LM22.Macrophages.M2</th>\n",
       "      <th>NSCLC.Fig2ab.B.cells</th>\n",
       "      <th>dice.CD8_STIM</th>\n",
       "      <th>dice.M2</th>\n",
       "      <th>dice.TH1</th>\n",
       "      <th>dice.TH17</th>\n",
       "      <th>HNSCC.Fibroblast</th>\n",
       "      <th>HNSCC.Endothelial</th>\n",
       "      <th>melanoma.CAF</th>\n",
       "      <th>melanoma.Macrophages</th>\n",
       "    </tr>\n",
       "  </thead>\n",
       "  <tbody>\n",
       "    <tr>\n",
       "      <th>0</th>\n",
       "      <td>TCGA-02-0047</td>\n",
       "      <td>0.001917</td>\n",
       "      <td>0.015500</td>\n",
       "      <td>0.324123</td>\n",
       "      <td>0.687473</td>\n",
       "      <td>0.043183</td>\n",
       "      <td>0.443866</td>\n",
       "      <td>0.069350</td>\n",
       "      <td>0.161311</td>\n",
       "      <td>0.498600</td>\n",
       "      <td>0.247231</td>\n",
       "      <td>0.302062</td>\n",
       "      <td>0.320460</td>\n",
       "    </tr>\n",
       "    <tr>\n",
       "      <th>1</th>\n",
       "      <td>TCGA-02-0055</td>\n",
       "      <td>0.031480</td>\n",
       "      <td>0.022601</td>\n",
       "      <td>0.289852</td>\n",
       "      <td>0.488191</td>\n",
       "      <td>0.062705</td>\n",
       "      <td>0.361803</td>\n",
       "      <td>0.072963</td>\n",
       "      <td>0.187417</td>\n",
       "      <td>0.666249</td>\n",
       "      <td>0.005093</td>\n",
       "      <td>0.704929</td>\n",
       "      <td>0.232990</td>\n",
       "    </tr>\n",
       "    <tr>\n",
       "      <th>2</th>\n",
       "      <td>TCGA-02-2483</td>\n",
       "      <td>0.034159</td>\n",
       "      <td>0.056436</td>\n",
       "      <td>0.468067</td>\n",
       "      <td>0.634741</td>\n",
       "      <td>0.096529</td>\n",
       "      <td>0.326827</td>\n",
       "      <td>0.054753</td>\n",
       "      <td>0.158911</td>\n",
       "      <td>0.392754</td>\n",
       "      <td>0.284847</td>\n",
       "      <td>0.262851</td>\n",
       "      <td>0.330924</td>\n",
       "    </tr>\n",
       "    <tr>\n",
       "      <th>3</th>\n",
       "      <td>TCGA-02-2485</td>\n",
       "      <td>0.007989</td>\n",
       "      <td>0.226252</td>\n",
       "      <td>0.294261</td>\n",
       "      <td>0.910478</td>\n",
       "      <td>0.112156</td>\n",
       "      <td>0.225340</td>\n",
       "      <td>0.069608</td>\n",
       "      <td>0.136810</td>\n",
       "      <td>0.439758</td>\n",
       "      <td>0.503177</td>\n",
       "      <td>0.225134</td>\n",
       "      <td>0.212266</td>\n",
       "    </tr>\n",
       "    <tr>\n",
       "      <th>4</th>\n",
       "      <td>TCGA-02-2486</td>\n",
       "      <td>0.135433</td>\n",
       "      <td>0.024709</td>\n",
       "      <td>0.426537</td>\n",
       "      <td>0.715499</td>\n",
       "      <td>0.030492</td>\n",
       "      <td>0.351950</td>\n",
       "      <td>0.150781</td>\n",
       "      <td>0.364722</td>\n",
       "      <td>0.671309</td>\n",
       "      <td>0.080076</td>\n",
       "      <td>0.311433</td>\n",
       "      <td>0.413945</td>\n",
       "    </tr>\n",
       "  </tbody>\n",
       "</table>\n",
       "</div>"
      ],
      "text/plain": [
       "            FID  LM22.T.cells.CD8  LM22.T.cells.follicular.helper  \\\n",
       "0  TCGA-02-0047          0.001917                        0.015500   \n",
       "1  TCGA-02-0055          0.031480                        0.022601   \n",
       "2  TCGA-02-2483          0.034159                        0.056436   \n",
       "3  TCGA-02-2485          0.007989                        0.226252   \n",
       "4  TCGA-02-2486          0.135433                        0.024709   \n",
       "\n",
       "   LM22.Macrophages.M2  NSCLC.Fig2ab.B.cells  dice.CD8_STIM   dice.M2  \\\n",
       "0             0.324123              0.687473       0.043183  0.443866   \n",
       "1             0.289852              0.488191       0.062705  0.361803   \n",
       "2             0.468067              0.634741       0.096529  0.326827   \n",
       "3             0.294261              0.910478       0.112156  0.225340   \n",
       "4             0.426537              0.715499       0.030492  0.351950   \n",
       "\n",
       "   dice.TH1  dice.TH17  HNSCC.Fibroblast  HNSCC.Endothelial  melanoma.CAF  \\\n",
       "0  0.069350   0.161311          0.498600           0.247231      0.302062   \n",
       "1  0.072963   0.187417          0.666249           0.005093      0.704929   \n",
       "2  0.054753   0.158911          0.392754           0.284847      0.262851   \n",
       "3  0.069608   0.136810          0.439758           0.503177      0.225134   \n",
       "4  0.150781   0.364722          0.671309           0.080076      0.311433   \n",
       "\n",
       "   melanoma.Macrophages  \n",
       "0              0.320460  \n",
       "1              0.232990  \n",
       "2              0.330924  \n",
       "3              0.212266  \n",
       "4              0.413945  "
      ]
     },
     "execution_count": 216,
     "metadata": {},
     "output_type": "execute_result"
    }
   ],
   "source": [
    "ciber.head()"
   ]
  },
  {
   "cell_type": "markdown",
   "metadata": {},
   "source": [
    "### Collect Thorsson et al. immune state scores file"
   ]
  },
  {
   "cell_type": "code",
   "execution_count": 217,
   "metadata": {},
   "outputs": [
    {
     "data": {
      "text/html": [
       "<div>\n",
       "<style scoped>\n",
       "    .dataframe tbody tr th:only-of-type {\n",
       "        vertical-align: middle;\n",
       "    }\n",
       "\n",
       "    .dataframe tbody tr th {\n",
       "        vertical-align: top;\n",
       "    }\n",
       "\n",
       "    .dataframe thead th {\n",
       "        text-align: right;\n",
       "    }\n",
       "</style>\n",
       "<table border=\"1\" class=\"dataframe\">\n",
       "  <thead>\n",
       "    <tr style=\"text-align: right;\">\n",
       "      <th></th>\n",
       "      <th>FID</th>\n",
       "      <th>Proliferation</th>\n",
       "      <th>Wound.Healing</th>\n",
       "      <th>Macrophage.Regulation</th>\n",
       "      <th>Lymphocyte.Infiltration.Signature.Score</th>\n",
       "      <th>IFN.gamma.Response</th>\n",
       "      <th>TGF.beta.Response</th>\n",
       "    </tr>\n",
       "  </thead>\n",
       "  <tbody>\n",
       "    <tr>\n",
       "      <th>0</th>\n",
       "      <td>TCGA-01-0639</td>\n",
       "      <td>NaN</td>\n",
       "      <td>NaN</td>\n",
       "      <td>NaN</td>\n",
       "      <td>NaN</td>\n",
       "      <td>NaN</td>\n",
       "      <td>NaN</td>\n",
       "    </tr>\n",
       "    <tr>\n",
       "      <th>1</th>\n",
       "      <td>TCGA-02-0007</td>\n",
       "      <td>NaN</td>\n",
       "      <td>NaN</td>\n",
       "      <td>NaN</td>\n",
       "      <td>NaN</td>\n",
       "      <td>NaN</td>\n",
       "      <td>NaN</td>\n",
       "    </tr>\n",
       "    <tr>\n",
       "      <th>2</th>\n",
       "      <td>TCGA-02-0011</td>\n",
       "      <td>NaN</td>\n",
       "      <td>NaN</td>\n",
       "      <td>NaN</td>\n",
       "      <td>NaN</td>\n",
       "      <td>NaN</td>\n",
       "      <td>NaN</td>\n",
       "    </tr>\n",
       "    <tr>\n",
       "      <th>3</th>\n",
       "      <td>TCGA-02-0023</td>\n",
       "      <td>NaN</td>\n",
       "      <td>NaN</td>\n",
       "      <td>NaN</td>\n",
       "      <td>NaN</td>\n",
       "      <td>NaN</td>\n",
       "      <td>NaN</td>\n",
       "    </tr>\n",
       "    <tr>\n",
       "      <th>4</th>\n",
       "      <td>TCGA-02-0025</td>\n",
       "      <td>NaN</td>\n",
       "      <td>NaN</td>\n",
       "      <td>NaN</td>\n",
       "      <td>NaN</td>\n",
       "      <td>NaN</td>\n",
       "      <td>NaN</td>\n",
       "    </tr>\n",
       "  </tbody>\n",
       "</table>\n",
       "</div>"
      ],
      "text/plain": [
       "            FID  Proliferation  Wound.Healing  Macrophage.Regulation  \\\n",
       "0  TCGA-01-0639            NaN            NaN                    NaN   \n",
       "1  TCGA-02-0007            NaN            NaN                    NaN   \n",
       "2  TCGA-02-0011            NaN            NaN                    NaN   \n",
       "3  TCGA-02-0023            NaN            NaN                    NaN   \n",
       "4  TCGA-02-0025            NaN            NaN                    NaN   \n",
       "\n",
       "   Lymphocyte.Infiltration.Signature.Score  IFN.gamma.Response  \\\n",
       "0                                      NaN                 NaN   \n",
       "1                                      NaN                 NaN   \n",
       "2                                      NaN                 NaN   \n",
       "3                                      NaN                 NaN   \n",
       "4                                      NaN                 NaN   \n",
       "\n",
       "   TGF.beta.Response  \n",
       "0                NaN  \n",
       "1                NaN  \n",
       "2                NaN  \n",
       "3                NaN  \n",
       "4                NaN  "
      ]
     },
     "execution_count": 217,
     "metadata": {},
     "output_type": "execute_result"
    }
   ],
   "source": [
    "landscape=pd.read_csv(\"/cellar/users/mpagadal/Data/projects/germline-immune/discovery/phenotypes/downloaded_phenos/pheno-immune-landscape-comp\",delimiter=\"\\t\")\n",
    "landscape=landscape.replace(-9, np.nan)\n",
    "del landscape[\"IID\"]\n",
    "landscape.head()"
   ]
  },
  {
   "cell_type": "markdown",
   "metadata": {},
   "source": [
    "### Combine all immune phenotypes"
   ]
  },
  {
   "cell_type": "code",
   "execution_count": 218,
   "metadata": {},
   "outputs": [],
   "source": [
    "total=pd.merge(rna,landscape,on=[\"FID\"],how=\"outer\")\n",
    "total=pd.merge(total, ciber,on=[\"FID\"],how=\"outer\")\n",
    "total=total.set_index(\"FID\")"
   ]
  },
  {
   "cell_type": "code",
   "execution_count": 219,
   "metadata": {},
   "outputs": [],
   "source": [
    "total = total.apply(pd.to_numeric,errors=\"coerce\")"
   ]
  },
  {
   "cell_type": "code",
   "execution_count": 220,
   "metadata": {},
   "outputs": [
    {
     "name": "stdout",
     "output_type": "stream",
     "text": [
      "(11206, 746)\n"
     ]
    },
    {
     "data": {
      "text/html": [
       "<div>\n",
       "<style scoped>\n",
       "    .dataframe tbody tr th:only-of-type {\n",
       "        vertical-align: middle;\n",
       "    }\n",
       "\n",
       "    .dataframe tbody tr th {\n",
       "        vertical-align: top;\n",
       "    }\n",
       "\n",
       "    .dataframe thead th {\n",
       "        text-align: right;\n",
       "    }\n",
       "</style>\n",
       "<table border=\"1\" class=\"dataframe\">\n",
       "  <thead>\n",
       "    <tr style=\"text-align: right;\">\n",
       "      <th></th>\n",
       "      <th>FGR</th>\n",
       "      <th>SEMA3F</th>\n",
       "      <th>DBNDD1</th>\n",
       "      <th>SLC25A5</th>\n",
       "      <th>CREBBP</th>\n",
       "      <th>WDR54</th>\n",
       "      <th>ITGA3</th>\n",
       "      <th>AP2B1</th>\n",
       "      <th>CX3CL1</th>\n",
       "      <th>TNFRSF12A</th>\n",
       "      <th>...</th>\n",
       "      <th>LM22.Macrophages.M2</th>\n",
       "      <th>NSCLC.Fig2ab.B.cells</th>\n",
       "      <th>dice.CD8_STIM</th>\n",
       "      <th>dice.M2</th>\n",
       "      <th>dice.TH1</th>\n",
       "      <th>dice.TH17</th>\n",
       "      <th>HNSCC.Fibroblast</th>\n",
       "      <th>HNSCC.Endothelial</th>\n",
       "      <th>melanoma.CAF</th>\n",
       "      <th>melanoma.Macrophages</th>\n",
       "    </tr>\n",
       "    <tr>\n",
       "      <th>FID</th>\n",
       "      <th></th>\n",
       "      <th></th>\n",
       "      <th></th>\n",
       "      <th></th>\n",
       "      <th></th>\n",
       "      <th></th>\n",
       "      <th></th>\n",
       "      <th></th>\n",
       "      <th></th>\n",
       "      <th></th>\n",
       "      <th></th>\n",
       "      <th></th>\n",
       "      <th></th>\n",
       "      <th></th>\n",
       "      <th></th>\n",
       "      <th></th>\n",
       "      <th></th>\n",
       "      <th></th>\n",
       "      <th></th>\n",
       "      <th></th>\n",
       "      <th></th>\n",
       "    </tr>\n",
       "  </thead>\n",
       "  <tbody>\n",
       "    <tr>\n",
       "      <th>TCGA-02-0047</th>\n",
       "      <td>10.462351</td>\n",
       "      <td>11.120751</td>\n",
       "      <td>64.943344</td>\n",
       "      <td>222.796921</td>\n",
       "      <td>19.143368</td>\n",
       "      <td>32.310970</td>\n",
       "      <td>68.991638</td>\n",
       "      <td>160.023560</td>\n",
       "      <td>76.170135</td>\n",
       "      <td>84.221405</td>\n",
       "      <td>...</td>\n",
       "      <td>0.324123</td>\n",
       "      <td>0.687473</td>\n",
       "      <td>0.043183</td>\n",
       "      <td>0.443866</td>\n",
       "      <td>0.069350</td>\n",
       "      <td>0.161311</td>\n",
       "      <td>0.498600</td>\n",
       "      <td>0.247231</td>\n",
       "      <td>0.302062</td>\n",
       "      <td>0.320460</td>\n",
       "    </tr>\n",
       "    <tr>\n",
       "      <th>TCGA-02-0055</th>\n",
       "      <td>12.997394</td>\n",
       "      <td>3.542931</td>\n",
       "      <td>12.078923</td>\n",
       "      <td>340.213165</td>\n",
       "      <td>8.614352</td>\n",
       "      <td>39.206337</td>\n",
       "      <td>61.047665</td>\n",
       "      <td>45.648369</td>\n",
       "      <td>25.906631</td>\n",
       "      <td>264.725098</td>\n",
       "      <td>...</td>\n",
       "      <td>0.289852</td>\n",
       "      <td>0.488191</td>\n",
       "      <td>0.062705</td>\n",
       "      <td>0.361803</td>\n",
       "      <td>0.072963</td>\n",
       "      <td>0.187417</td>\n",
       "      <td>0.666249</td>\n",
       "      <td>0.005093</td>\n",
       "      <td>0.704929</td>\n",
       "      <td>0.232990</td>\n",
       "    </tr>\n",
       "    <tr>\n",
       "      <th>TCGA-02-2483</th>\n",
       "      <td>9.448974</td>\n",
       "      <td>6.983698</td>\n",
       "      <td>18.041054</td>\n",
       "      <td>338.070496</td>\n",
       "      <td>13.141633</td>\n",
       "      <td>46.284431</td>\n",
       "      <td>24.381243</td>\n",
       "      <td>84.151978</td>\n",
       "      <td>20.013517</td>\n",
       "      <td>40.882793</td>\n",
       "      <td>...</td>\n",
       "      <td>0.468067</td>\n",
       "      <td>0.634741</td>\n",
       "      <td>0.096529</td>\n",
       "      <td>0.326827</td>\n",
       "      <td>0.054753</td>\n",
       "      <td>0.158911</td>\n",
       "      <td>0.392754</td>\n",
       "      <td>0.284847</td>\n",
       "      <td>0.262851</td>\n",
       "      <td>0.330924</td>\n",
       "    </tr>\n",
       "    <tr>\n",
       "      <th>TCGA-02-2485</th>\n",
       "      <td>7.011187</td>\n",
       "      <td>3.265420</td>\n",
       "      <td>29.600166</td>\n",
       "      <td>360.969116</td>\n",
       "      <td>19.037817</td>\n",
       "      <td>42.300026</td>\n",
       "      <td>7.119283</td>\n",
       "      <td>91.086723</td>\n",
       "      <td>20.380697</td>\n",
       "      <td>80.461861</td>\n",
       "      <td>...</td>\n",
       "      <td>0.294261</td>\n",
       "      <td>0.910478</td>\n",
       "      <td>0.112156</td>\n",
       "      <td>0.225340</td>\n",
       "      <td>0.069608</td>\n",
       "      <td>0.136810</td>\n",
       "      <td>0.439758</td>\n",
       "      <td>0.503177</td>\n",
       "      <td>0.225134</td>\n",
       "      <td>0.212266</td>\n",
       "    </tr>\n",
       "    <tr>\n",
       "      <th>TCGA-02-2486</th>\n",
       "      <td>13.871422</td>\n",
       "      <td>2.507942</td>\n",
       "      <td>12.292249</td>\n",
       "      <td>229.997849</td>\n",
       "      <td>4.587289</td>\n",
       "      <td>45.148750</td>\n",
       "      <td>146.060394</td>\n",
       "      <td>63.454029</td>\n",
       "      <td>10.426679</td>\n",
       "      <td>135.188126</td>\n",
       "      <td>...</td>\n",
       "      <td>0.426537</td>\n",
       "      <td>0.715499</td>\n",
       "      <td>0.030492</td>\n",
       "      <td>0.351950</td>\n",
       "      <td>0.150781</td>\n",
       "      <td>0.364722</td>\n",
       "      <td>0.671309</td>\n",
       "      <td>0.080076</td>\n",
       "      <td>0.311433</td>\n",
       "      <td>0.413945</td>\n",
       "    </tr>\n",
       "  </tbody>\n",
       "</table>\n",
       "<p>5 rows × 746 columns</p>\n",
       "</div>"
      ],
      "text/plain": [
       "                    FGR     SEMA3F     DBNDD1     SLC25A5     CREBBP  \\\n",
       "FID                                                                    \n",
       "TCGA-02-0047  10.462351  11.120751  64.943344  222.796921  19.143368   \n",
       "TCGA-02-0055  12.997394   3.542931  12.078923  340.213165   8.614352   \n",
       "TCGA-02-2483   9.448974   6.983698  18.041054  338.070496  13.141633   \n",
       "TCGA-02-2485   7.011187   3.265420  29.600166  360.969116  19.037817   \n",
       "TCGA-02-2486  13.871422   2.507942  12.292249  229.997849   4.587289   \n",
       "\n",
       "                  WDR54       ITGA3       AP2B1     CX3CL1   TNFRSF12A  ...  \\\n",
       "FID                                                                     ...   \n",
       "TCGA-02-0047  32.310970   68.991638  160.023560  76.170135   84.221405  ...   \n",
       "TCGA-02-0055  39.206337   61.047665   45.648369  25.906631  264.725098  ...   \n",
       "TCGA-02-2483  46.284431   24.381243   84.151978  20.013517   40.882793  ...   \n",
       "TCGA-02-2485  42.300026    7.119283   91.086723  20.380697   80.461861  ...   \n",
       "TCGA-02-2486  45.148750  146.060394   63.454029  10.426679  135.188126  ...   \n",
       "\n",
       "              LM22.Macrophages.M2  NSCLC.Fig2ab.B.cells  dice.CD8_STIM  \\\n",
       "FID                                                                      \n",
       "TCGA-02-0047             0.324123              0.687473       0.043183   \n",
       "TCGA-02-0055             0.289852              0.488191       0.062705   \n",
       "TCGA-02-2483             0.468067              0.634741       0.096529   \n",
       "TCGA-02-2485             0.294261              0.910478       0.112156   \n",
       "TCGA-02-2486             0.426537              0.715499       0.030492   \n",
       "\n",
       "               dice.M2  dice.TH1  dice.TH17  HNSCC.Fibroblast  \\\n",
       "FID                                                             \n",
       "TCGA-02-0047  0.443866  0.069350   0.161311          0.498600   \n",
       "TCGA-02-0055  0.361803  0.072963   0.187417          0.666249   \n",
       "TCGA-02-2483  0.326827  0.054753   0.158911          0.392754   \n",
       "TCGA-02-2485  0.225340  0.069608   0.136810          0.439758   \n",
       "TCGA-02-2486  0.351950  0.150781   0.364722          0.671309   \n",
       "\n",
       "              HNSCC.Endothelial  melanoma.CAF  melanoma.Macrophages  \n",
       "FID                                                                  \n",
       "TCGA-02-0047           0.247231      0.302062              0.320460  \n",
       "TCGA-02-0055           0.005093      0.704929              0.232990  \n",
       "TCGA-02-2483           0.284847      0.262851              0.330924  \n",
       "TCGA-02-2485           0.503177      0.225134              0.212266  \n",
       "TCGA-02-2486           0.080076      0.311433              0.413945  \n",
       "\n",
       "[5 rows x 746 columns]"
      ]
     },
     "execution_count": 220,
     "metadata": {},
     "output_type": "execute_result"
    }
   ],
   "source": [
    "print(total.shape)\n",
    "total.head()"
   ]
  },
  {
   "cell_type": "markdown",
   "metadata": {},
   "source": [
    "### Filter for only genotyped patients"
   ]
  },
  {
   "cell_type": "code",
   "execution_count": 221,
   "metadata": {},
   "outputs": [],
   "source": [
    "tcga_df=filter_genotyped(total,\"/nrnb/users/mpagadal/tcga-genotypes/imputation/michigan-imputation/HRC/european.final.noimmunecancers.clean.fam\")"
   ]
  },
  {
   "cell_type": "code",
   "execution_count": 222,
   "metadata": {},
   "outputs": [
    {
     "name": "stdout",
     "output_type": "stream",
     "text": [
      "(8207, 747)\n"
     ]
    },
    {
     "data": {
      "text/html": [
       "<div>\n",
       "<style scoped>\n",
       "    .dataframe tbody tr th:only-of-type {\n",
       "        vertical-align: middle;\n",
       "    }\n",
       "\n",
       "    .dataframe tbody tr th {\n",
       "        vertical-align: top;\n",
       "    }\n",
       "\n",
       "    .dataframe thead th {\n",
       "        text-align: right;\n",
       "    }\n",
       "</style>\n",
       "<table border=\"1\" class=\"dataframe\">\n",
       "  <thead>\n",
       "    <tr style=\"text-align: right;\">\n",
       "      <th></th>\n",
       "      <th>FID</th>\n",
       "      <th>FGR</th>\n",
       "      <th>SEMA3F</th>\n",
       "      <th>DBNDD1</th>\n",
       "      <th>SLC25A5</th>\n",
       "      <th>CREBBP</th>\n",
       "      <th>WDR54</th>\n",
       "      <th>ITGA3</th>\n",
       "      <th>AP2B1</th>\n",
       "      <th>CX3CL1</th>\n",
       "      <th>...</th>\n",
       "      <th>LM22.Macrophages.M2</th>\n",
       "      <th>NSCLC.Fig2ab.B.cells</th>\n",
       "      <th>dice.CD8_STIM</th>\n",
       "      <th>dice.M2</th>\n",
       "      <th>dice.TH1</th>\n",
       "      <th>dice.TH17</th>\n",
       "      <th>HNSCC.Fibroblast</th>\n",
       "      <th>HNSCC.Endothelial</th>\n",
       "      <th>melanoma.CAF</th>\n",
       "      <th>melanoma.Macrophages</th>\n",
       "    </tr>\n",
       "  </thead>\n",
       "  <tbody>\n",
       "    <tr>\n",
       "      <th>0</th>\n",
       "      <td>TCGA-02-0047</td>\n",
       "      <td>10.462351</td>\n",
       "      <td>11.120751</td>\n",
       "      <td>64.943344</td>\n",
       "      <td>222.796921</td>\n",
       "      <td>19.143368</td>\n",
       "      <td>32.310970</td>\n",
       "      <td>68.991638</td>\n",
       "      <td>160.023560</td>\n",
       "      <td>76.170135</td>\n",
       "      <td>...</td>\n",
       "      <td>0.324123</td>\n",
       "      <td>0.687473</td>\n",
       "      <td>0.043183</td>\n",
       "      <td>0.443866</td>\n",
       "      <td>0.069350</td>\n",
       "      <td>0.161311</td>\n",
       "      <td>0.498600</td>\n",
       "      <td>0.247231</td>\n",
       "      <td>0.302062</td>\n",
       "      <td>0.320460</td>\n",
       "    </tr>\n",
       "    <tr>\n",
       "      <th>1</th>\n",
       "      <td>TCGA-02-0055</td>\n",
       "      <td>12.997394</td>\n",
       "      <td>3.542931</td>\n",
       "      <td>12.078923</td>\n",
       "      <td>340.213165</td>\n",
       "      <td>8.614352</td>\n",
       "      <td>39.206337</td>\n",
       "      <td>61.047665</td>\n",
       "      <td>45.648369</td>\n",
       "      <td>25.906631</td>\n",
       "      <td>...</td>\n",
       "      <td>0.289852</td>\n",
       "      <td>0.488191</td>\n",
       "      <td>0.062705</td>\n",
       "      <td>0.361803</td>\n",
       "      <td>0.072963</td>\n",
       "      <td>0.187417</td>\n",
       "      <td>0.666249</td>\n",
       "      <td>0.005093</td>\n",
       "      <td>0.704929</td>\n",
       "      <td>0.232990</td>\n",
       "    </tr>\n",
       "    <tr>\n",
       "      <th>2</th>\n",
       "      <td>TCGA-02-2486</td>\n",
       "      <td>13.871422</td>\n",
       "      <td>2.507942</td>\n",
       "      <td>12.292249</td>\n",
       "      <td>229.997849</td>\n",
       "      <td>4.587289</td>\n",
       "      <td>45.148750</td>\n",
       "      <td>146.060394</td>\n",
       "      <td>63.454029</td>\n",
       "      <td>10.426679</td>\n",
       "      <td>...</td>\n",
       "      <td>0.426537</td>\n",
       "      <td>0.715499</td>\n",
       "      <td>0.030492</td>\n",
       "      <td>0.351950</td>\n",
       "      <td>0.150781</td>\n",
       "      <td>0.364722</td>\n",
       "      <td>0.671309</td>\n",
       "      <td>0.080076</td>\n",
       "      <td>0.311433</td>\n",
       "      <td>0.413945</td>\n",
       "    </tr>\n",
       "    <tr>\n",
       "      <th>3</th>\n",
       "      <td>TCGA-04-1332</td>\n",
       "      <td>1.587327</td>\n",
       "      <td>18.889095</td>\n",
       "      <td>21.084179</td>\n",
       "      <td>72.480659</td>\n",
       "      <td>20.600607</td>\n",
       "      <td>10.533038</td>\n",
       "      <td>26.183832</td>\n",
       "      <td>12.907973</td>\n",
       "      <td>23.363880</td>\n",
       "      <td>...</td>\n",
       "      <td>0.212655</td>\n",
       "      <td>0.839303</td>\n",
       "      <td>0.035891</td>\n",
       "      <td>0.206038</td>\n",
       "      <td>0.196037</td>\n",
       "      <td>0.486295</td>\n",
       "      <td>0.777307</td>\n",
       "      <td>0.186912</td>\n",
       "      <td>0.752511</td>\n",
       "      <td>0.131154</td>\n",
       "    </tr>\n",
       "    <tr>\n",
       "      <th>4</th>\n",
       "      <td>TCGA-04-1338</td>\n",
       "      <td>2.084633</td>\n",
       "      <td>6.618918</td>\n",
       "      <td>10.275887</td>\n",
       "      <td>80.976318</td>\n",
       "      <td>8.162801</td>\n",
       "      <td>14.475409</td>\n",
       "      <td>47.023655</td>\n",
       "      <td>12.441605</td>\n",
       "      <td>6.865872</td>\n",
       "      <td>...</td>\n",
       "      <td>0.192444</td>\n",
       "      <td>0.642535</td>\n",
       "      <td>0.069717</td>\n",
       "      <td>0.228317</td>\n",
       "      <td>0.114303</td>\n",
       "      <td>0.388767</td>\n",
       "      <td>0.731318</td>\n",
       "      <td>0.063031</td>\n",
       "      <td>0.735070</td>\n",
       "      <td>0.240005</td>\n",
       "    </tr>\n",
       "  </tbody>\n",
       "</table>\n",
       "<p>5 rows × 747 columns</p>\n",
       "</div>"
      ],
      "text/plain": [
       "            FID        FGR     SEMA3F     DBNDD1     SLC25A5     CREBBP  \\\n",
       "0  TCGA-02-0047  10.462351  11.120751  64.943344  222.796921  19.143368   \n",
       "1  TCGA-02-0055  12.997394   3.542931  12.078923  340.213165   8.614352   \n",
       "2  TCGA-02-2486  13.871422   2.507942  12.292249  229.997849   4.587289   \n",
       "3  TCGA-04-1332   1.587327  18.889095  21.084179   72.480659  20.600607   \n",
       "4  TCGA-04-1338   2.084633   6.618918  10.275887   80.976318   8.162801   \n",
       "\n",
       "       WDR54       ITGA3       AP2B1     CX3CL1  ...  LM22.Macrophages.M2  \\\n",
       "0  32.310970   68.991638  160.023560  76.170135  ...             0.324123   \n",
       "1  39.206337   61.047665   45.648369  25.906631  ...             0.289852   \n",
       "2  45.148750  146.060394   63.454029  10.426679  ...             0.426537   \n",
       "3  10.533038   26.183832   12.907973  23.363880  ...             0.212655   \n",
       "4  14.475409   47.023655   12.441605   6.865872  ...             0.192444   \n",
       "\n",
       "   NSCLC.Fig2ab.B.cells  dice.CD8_STIM   dice.M2  dice.TH1  dice.TH17  \\\n",
       "0              0.687473       0.043183  0.443866  0.069350   0.161311   \n",
       "1              0.488191       0.062705  0.361803  0.072963   0.187417   \n",
       "2              0.715499       0.030492  0.351950  0.150781   0.364722   \n",
       "3              0.839303       0.035891  0.206038  0.196037   0.486295   \n",
       "4              0.642535       0.069717  0.228317  0.114303   0.388767   \n",
       "\n",
       "   HNSCC.Fibroblast  HNSCC.Endothelial  melanoma.CAF  melanoma.Macrophages  \n",
       "0          0.498600           0.247231      0.302062              0.320460  \n",
       "1          0.666249           0.005093      0.704929              0.232990  \n",
       "2          0.671309           0.080076      0.311433              0.413945  \n",
       "3          0.777307           0.186912      0.752511              0.131154  \n",
       "4          0.731318           0.063031      0.735070              0.240005  \n",
       "\n",
       "[5 rows x 747 columns]"
      ]
     },
     "execution_count": 222,
     "metadata": {},
     "output_type": "execute_result"
    }
   ],
   "source": [
    "print(tcga_df.shape)\n",
    "tcga_df.head()"
   ]
  },
  {
   "cell_type": "markdown",
   "metadata": {},
   "source": [
    "## Submit cancer-specific phenos for rank normalization"
   ]
  },
  {
   "cell_type": "code",
   "execution_count": 223,
   "metadata": {},
   "outputs": [],
   "source": [
    "canc = pd.read_csv(\"/nrnb/users/mpagadal/tcga-genotypes/birdseed-processing/gtype.meta\", delimiter=\"\\t\", header=None)\n",
    "mp = canc.set_index(2)[0].to_dict()\n",
    "tcga_df[\"cancer\"]=tcga_df[\"FID\"].map(mp)"
   ]
  },
  {
   "cell_type": "code",
   "execution_count": 224,
   "metadata": {},
   "outputs": [],
   "source": [
    "pheno_dir=\"/cellar/users/mpagadal/Data/projects/germline-immune/discovery/phenotypes/processed_phenos/tpm/tumor/\""
   ]
  },
  {
   "cell_type": "code",
   "execution_count": 225,
   "metadata": {},
   "outputs": [],
   "source": [
    "for x in tcga_df[\"cancer\"].unique():\n",
    "    try:\n",
    "        tumor=tcga_df[tcga_df[\"cancer\"]==x]\n",
    "        del tumor[\"cancer\"]\n",
    "        tumor.to_csv(pheno_dir+\"pheno_\"+x+\".unnorm.csv\",index=None,sep=\"\\t\")\n",
    "    except:\n",
    "        pass"
   ]
  },
  {
   "cell_type": "code",
   "execution_count": 226,
   "metadata": {},
   "outputs": [],
   "source": [
    "compiled=pd.DataFrame()\n",
    "for x in tcga_df[\"cancer\"].unique().tolist():\n",
    "    try:\n",
    "        df=pd.read_csv(pheno_dir+\"pheno_\"+x+\".rank.csv\",delimiter=\"\\t\")\n",
    "        df[\"cancer\"]=x\n",
    "        compiled=compiled.append(df)\n",
    "    except:\n",
    "        pass"
   ]
  },
  {
   "cell_type": "markdown",
   "metadata": {},
   "source": [
    "### Confirm rank norm by cancer"
   ]
  },
  {
   "cell_type": "code",
   "execution_count": 234,
   "metadata": {},
   "outputs": [
    {
     "data": {
      "text/plain": [
       "Text(0.5, 1.0, 'FGR')"
      ]
     },
     "execution_count": 234,
     "metadata": {},
     "output_type": "execute_result"
    },
    {
     "data": {
      "image/png": "[encoded data removed]",
      "text/plain": [
       "<Figure size 1440x360 with 1 Axes>"
      ]
     },
     "metadata": {},
     "output_type": "display_data"
    }
   ],
   "source": [
    "x=\"FGR\"\n",
    "#plot rna expression by cancer type\n",
    "sns.set(style=\"whitegrid\", font_scale = 1)\n",
    "plt.figure(figsize=(20,5))\n",
    "sns.set_style(\"whitegrid\", {'axes.grid' : False})\n",
    "ax = sns.boxplot(x=\"cancer\", y=x, data=compiled)\n",
    "ax.set(xlabel=\"cancer\", ylabel='rank norm FGR')\n",
    "plt.xticks(rotation=30)\n",
    "plt.title(x)"
   ]
  },
  {
   "cell_type": "code",
   "execution_count": 235,
   "metadata": {},
   "outputs": [],
   "source": [
    "del compiled[\"cancer\"]\n",
    "compiled[\"IID\"]=compiled[\"FID\"]\n",
    "cols=[\"FID\",\"IID\"]+compiled.columns.tolist()[1:-1]\n",
    "compiled=compiled[cols]\n",
    "compiled.columns=[x.replace(\"-\",\".\") for x in compiled.columns]\n",
    "compiled=compiled.fillna(-9)"
   ]
  },
  {
   "cell_type": "code",
   "execution_count": 236,
   "metadata": {},
   "outputs": [],
   "source": [
    "compiled.to_csv(pheno_dir+\"pheno_all_zcancer\",index=None,sep=\"\\t\")"
   ]
  },
  {
   "cell_type": "code",
   "execution_count": 237,
   "metadata": {},
   "outputs": [
    {
     "name": "stdout",
     "output_type": "stream",
     "text": [
      "(8207, 748)\n"
     ]
    }
   ],
   "source": [
    "print(compiled.shape)"
   ]
  },
  {
   "cell_type": "markdown",
   "metadata": {},
   "source": [
    "## Get normal phenotype"
   ]
  },
  {
   "cell_type": "code",
   "execution_count": 172,
   "metadata": {},
   "outputs": [
    {
     "name": "stdout",
     "output_type": "stream",
     "text": [
      "11A    714\n",
      "11B     17\n",
      "11C      1\n",
      "Name: code, dtype: int64\n"
     ]
    }
   ],
   "source": [
    "rna=brian_tpm_filter(pheno[0].tolist(),\"normal\")"
   ]
  },
  {
   "cell_type": "code",
   "execution_count": 173,
   "metadata": {},
   "outputs": [
    {
     "name": "stdout",
     "output_type": "stream",
     "text": [
      "33 phenotypes with > 0.1 zeroes were removed\n"
     ]
    }
   ],
   "source": [
    "rna=filter_zeros(rna,0.1)"
   ]
  },
  {
   "cell_type": "code",
   "execution_count": 174,
   "metadata": {},
   "outputs": [
    {
     "name": "stdout",
     "output_type": "stream",
     "text": [
      "(731, 731)\n"
     ]
    }
   ],
   "source": [
    "print(rna.shape)"
   ]
  },
  {
   "cell_type": "code",
   "execution_count": 175,
   "metadata": {},
   "outputs": [],
   "source": [
    "tcga_df=filter_genotyped(rna,\"/nrnb/users/mpagadal/tcga-genotypes/imputation/michigan-imputation/HRC/european.final.noimmunecancers.clean.fam\")"
   ]
  },
  {
   "cell_type": "code",
   "execution_count": 177,
   "metadata": {},
   "outputs": [
    {
     "data": {
      "text/html": [
       "<div>\n",
       "<style scoped>\n",
       "    .dataframe tbody tr th:only-of-type {\n",
       "        vertical-align: middle;\n",
       "    }\n",
       "\n",
       "    .dataframe tbody tr th {\n",
       "        vertical-align: top;\n",
       "    }\n",
       "\n",
       "    .dataframe thead th {\n",
       "        text-align: right;\n",
       "    }\n",
       "</style>\n",
       "<table border=\"1\" class=\"dataframe\">\n",
       "  <thead>\n",
       "    <tr style=\"text-align: right;\">\n",
       "      <th></th>\n",
       "      <th>FID</th>\n",
       "      <th>FGR</th>\n",
       "      <th>SEMA3F</th>\n",
       "      <th>DBNDD1</th>\n",
       "      <th>SLC25A5</th>\n",
       "      <th>CREBBP</th>\n",
       "      <th>WDR54</th>\n",
       "      <th>ITGA3</th>\n",
       "      <th>AP2B1</th>\n",
       "      <th>CX3CL1</th>\n",
       "      <th>...</th>\n",
       "      <th>DYNLL2</th>\n",
       "      <th>SEC22B</th>\n",
       "      <th>IKBKG</th>\n",
       "      <th>SPIB</th>\n",
       "      <th>CCL5</th>\n",
       "      <th>B2M</th>\n",
       "      <th>IFI27</th>\n",
       "      <th>LILRB2</th>\n",
       "      <th>PDCD1</th>\n",
       "      <th>LAIR1</th>\n",
       "    </tr>\n",
       "  </thead>\n",
       "  <tbody>\n",
       "    <tr>\n",
       "      <th>0</th>\n",
       "      <td>TCGA-22-4593</td>\n",
       "      <td>52.741341</td>\n",
       "      <td>15.020543</td>\n",
       "      <td>4.582214</td>\n",
       "      <td>429.171570</td>\n",
       "      <td>9.122368</td>\n",
       "      <td>11.910508</td>\n",
       "      <td>160.098160</td>\n",
       "      <td>63.754631</td>\n",
       "      <td>27.899931</td>\n",
       "      <td>...</td>\n",
       "      <td>22.742100</td>\n",
       "      <td>16.280651</td>\n",
       "      <td>18.326183</td>\n",
       "      <td>1.704765</td>\n",
       "      <td>13.366350</td>\n",
       "      <td>1116.949951</td>\n",
       "      <td>9.388349</td>\n",
       "      <td>11.580532</td>\n",
       "      <td>0.684606</td>\n",
       "      <td>72.930031</td>\n",
       "    </tr>\n",
       "    <tr>\n",
       "      <th>1</th>\n",
       "      <td>TCGA-22-4609</td>\n",
       "      <td>33.633781</td>\n",
       "      <td>16.718197</td>\n",
       "      <td>3.968237</td>\n",
       "      <td>213.296768</td>\n",
       "      <td>24.401106</td>\n",
       "      <td>10.205466</td>\n",
       "      <td>140.817017</td>\n",
       "      <td>61.474487</td>\n",
       "      <td>171.599884</td>\n",
       "      <td>...</td>\n",
       "      <td>25.734800</td>\n",
       "      <td>16.778450</td>\n",
       "      <td>16.744671</td>\n",
       "      <td>1.920931</td>\n",
       "      <td>11.640704</td>\n",
       "      <td>1341.969971</td>\n",
       "      <td>31.000149</td>\n",
       "      <td>5.172295</td>\n",
       "      <td>1.269880</td>\n",
       "      <td>2.152551</td>\n",
       "    </tr>\n",
       "    <tr>\n",
       "      <th>2</th>\n",
       "      <td>TCGA-22-5471</td>\n",
       "      <td>44.874718</td>\n",
       "      <td>9.870248</td>\n",
       "      <td>7.872812</td>\n",
       "      <td>273.032104</td>\n",
       "      <td>16.605223</td>\n",
       "      <td>35.272629</td>\n",
       "      <td>170.285492</td>\n",
       "      <td>63.103294</td>\n",
       "      <td>58.130230</td>\n",
       "      <td>...</td>\n",
       "      <td>21.632900</td>\n",
       "      <td>13.636040</td>\n",
       "      <td>20.903175</td>\n",
       "      <td>0.799475</td>\n",
       "      <td>4.631590</td>\n",
       "      <td>882.776001</td>\n",
       "      <td>26.662445</td>\n",
       "      <td>3.884185</td>\n",
       "      <td>0.263936</td>\n",
       "      <td>37.160728</td>\n",
       "    </tr>\n",
       "    <tr>\n",
       "      <th>3</th>\n",
       "      <td>TCGA-22-5472</td>\n",
       "      <td>44.056370</td>\n",
       "      <td>20.890659</td>\n",
       "      <td>6.082714</td>\n",
       "      <td>254.809647</td>\n",
       "      <td>21.647938</td>\n",
       "      <td>21.475487</td>\n",
       "      <td>138.442764</td>\n",
       "      <td>89.757324</td>\n",
       "      <td>54.630062</td>\n",
       "      <td>...</td>\n",
       "      <td>28.040199</td>\n",
       "      <td>18.620789</td>\n",
       "      <td>17.859312</td>\n",
       "      <td>1.321082</td>\n",
       "      <td>7.909300</td>\n",
       "      <td>1024.579956</td>\n",
       "      <td>16.930290</td>\n",
       "      <td>11.225962</td>\n",
       "      <td>1.485900</td>\n",
       "      <td>26.772093</td>\n",
       "    </tr>\n",
       "    <tr>\n",
       "      <th>4</th>\n",
       "      <td>TCGA-22-5478</td>\n",
       "      <td>55.746078</td>\n",
       "      <td>20.647762</td>\n",
       "      <td>5.458734</td>\n",
       "      <td>235.072891</td>\n",
       "      <td>24.435022</td>\n",
       "      <td>13.300381</td>\n",
       "      <td>180.409561</td>\n",
       "      <td>76.275681</td>\n",
       "      <td>100.485710</td>\n",
       "      <td>...</td>\n",
       "      <td>27.382500</td>\n",
       "      <td>15.759120</td>\n",
       "      <td>19.987007</td>\n",
       "      <td>3.526640</td>\n",
       "      <td>14.037420</td>\n",
       "      <td>1105.920044</td>\n",
       "      <td>33.454338</td>\n",
       "      <td>10.710560</td>\n",
       "      <td>0.734698</td>\n",
       "      <td>29.996195</td>\n",
       "    </tr>\n",
       "  </tbody>\n",
       "</table>\n",
       "<p>5 rows × 732 columns</p>\n",
       "</div>"
      ],
      "text/plain": [
       "            FID        FGR     SEMA3F    DBNDD1     SLC25A5     CREBBP  \\\n",
       "0  TCGA-22-4593  52.741341  15.020543  4.582214  429.171570   9.122368   \n",
       "1  TCGA-22-4609  33.633781  16.718197  3.968237  213.296768  24.401106   \n",
       "2  TCGA-22-5471  44.874718   9.870248  7.872812  273.032104  16.605223   \n",
       "3  TCGA-22-5472  44.056370  20.890659  6.082714  254.809647  21.647938   \n",
       "4  TCGA-22-5478  55.746078  20.647762  5.458734  235.072891  24.435022   \n",
       "\n",
       "       WDR54       ITGA3      AP2B1      CX3CL1  ...     DYNLL2     SEC22B  \\\n",
       "0  11.910508  160.098160  63.754631   27.899931  ...  22.742100  16.280651   \n",
       "1  10.205466  140.817017  61.474487  171.599884  ...  25.734800  16.778450   \n",
       "2  35.272629  170.285492  63.103294   58.130230  ...  21.632900  13.636040   \n",
       "3  21.475487  138.442764  89.757324   54.630062  ...  28.040199  18.620789   \n",
       "4  13.300381  180.409561  76.275681  100.485710  ...  27.382500  15.759120   \n",
       "\n",
       "       IKBKG      SPIB       CCL5          B2M      IFI27     LILRB2  \\\n",
       "0  18.326183  1.704765  13.366350  1116.949951   9.388349  11.580532   \n",
       "1  16.744671  1.920931  11.640704  1341.969971  31.000149   5.172295   \n",
       "2  20.903175  0.799475   4.631590   882.776001  26.662445   3.884185   \n",
       "3  17.859312  1.321082   7.909300  1024.579956  16.930290  11.225962   \n",
       "4  19.987007  3.526640  14.037420  1105.920044  33.454338  10.710560   \n",
       "\n",
       "      PDCD1      LAIR1  \n",
       "0  0.684606  72.930031  \n",
       "1  1.269880   2.152551  \n",
       "2  0.263936  37.160728  \n",
       "3  1.485900  26.772093  \n",
       "4  0.734698  29.996195  \n",
       "\n",
       "[5 rows x 732 columns]"
      ]
     },
     "execution_count": 177,
     "metadata": {},
     "output_type": "execute_result"
    }
   ],
   "source": [
    "tcga_df.head()"
   ]
  },
  {
   "cell_type": "markdown",
   "metadata": {},
   "source": [
    "### Submit cancer-specific phenos for rank normalization"
   ]
  },
  {
   "cell_type": "code",
   "execution_count": 178,
   "metadata": {},
   "outputs": [],
   "source": [
    "canc = pd.read_csv(\"/nrnb/users/mpagadal/tcga-genotypes/birdseed-processing/gtype.meta\", delimiter=\"\\t\", header=None)\n",
    "mp = canc.set_index(2)[0].to_dict()\n",
    "tcga_df[\"cancer\"]=tcga_df[\"FID\"].map(mp)"
   ]
  },
  {
   "cell_type": "code",
   "execution_count": 179,
   "metadata": {},
   "outputs": [],
   "source": [
    "pheno_dir=\"/cellar/users/mpagadal/Data/projects/germline-immune/discovery/phenotypes/processed_phenos/tpm/normal/\""
   ]
  },
  {
   "cell_type": "code",
   "execution_count": 180,
   "metadata": {},
   "outputs": [],
   "source": [
    "for x in tcga_df[\"cancer\"].unique():\n",
    "    try:\n",
    "        nml=tcga_df[tcga_df[\"cancer\"]==x]\n",
    "        del nml[\"cancer\"]\n",
    "        nml.to_csv(pheno_dir+\"pheno_\"+x+\".unnorm.csv\",index=None,sep=\"\\t\")\n",
    "    except:\n",
    "        pass\n",
    "    "
   ]
  },
  {
   "cell_type": "code",
   "execution_count": 181,
   "metadata": {},
   "outputs": [],
   "source": [
    "compiled=pd.DataFrame()\n",
    "for x in tcga_df[\"cancer\"].unique().tolist():\n",
    "    try:\n",
    "        df=pd.read_csv(pheno_dir+\"pheno_\"+x+\".rank.csv\",delimiter=\"\\t\")\n",
    "        df[\"cancer\"]=x\n",
    "        compiled=compiled.append(df)\n",
    "    except:\n",
    "        pass"
   ]
  },
  {
   "cell_type": "markdown",
   "metadata": {},
   "source": [
    "### Confirm rank norm"
   ]
  },
  {
   "cell_type": "code",
   "execution_count": 182,
   "metadata": {},
   "outputs": [
    {
     "data": {
      "text/plain": [
       "Text(0.5, 1.0, 'FGR')"
      ]
     },
     "execution_count": 182,
     "metadata": {},
     "output_type": "execute_result"
    },
    {
     "data": {
      "image/png": "[encoded data removed]",
      "text/plain": [
       "<Figure size 1440x360 with 1 Axes>"
      ]
     },
     "metadata": {},
     "output_type": "display_data"
    }
   ],
   "source": [
    "x=\"FGR\"\n",
    "#plot rna expression by cancer type\n",
    "sns.set(style=\"whitegrid\", font_scale = 1)\n",
    "plt.figure(figsize=(20,5))\n",
    "sns.set_style(\"whitegrid\", {'axes.grid' : False})\n",
    "ax = sns.boxplot(x=\"cancer\", y=x, data=compiled)\n",
    "ax.set(xlabel=\"cancer\", ylabel='rank norm FGR')\n",
    "plt.xticks(rotation=30)\n",
    "plt.title(x)"
   ]
  },
  {
   "cell_type": "code",
   "execution_count": 183,
   "metadata": {},
   "outputs": [],
   "source": [
    "del compiled[\"cancer\"]\n",
    "compiled[\"IID\"]=compiled[\"FID\"]\n",
    "cols=[\"FID\",\"IID\"]+compiled.columns.tolist()[1:-1]\n",
    "compiled=compiled[cols]\n",
    "compiled.columns=[x.replace(\"-\",\".\") for x in compiled.columns]\n",
    "compiled=compiled.fillna(-9)"
   ]
  },
  {
   "cell_type": "code",
   "execution_count": 184,
   "metadata": {},
   "outputs": [],
   "source": [
    "compiled.to_csv(pheno_dir+\"pheno_all_zcancer\",index=None,sep=\"\\t\")"
   ]
  },
  {
   "cell_type": "markdown",
   "metadata": {},
   "source": [
    "## Confirm phenotypes are normally distributed"
   ]
  },
  {
   "cell_type": "code",
   "execution_count": 54,
   "metadata": {},
   "outputs": [],
   "source": [
    "pheno=pd.read_csv(\"/cellar/users/mpagadal/Data/projects/germline-immune/processed_phenos/brian-tpm/tumor/pheno_all_zcancer\",delimiter=\"\\t\")\n"
   ]
  },
  {
   "cell_type": "markdown",
   "metadata": {},
   "source": [
    "## Pearson correlation of phenos"
   ]
  },
  {
   "cell_type": "markdown",
   "metadata": {},
   "source": [
    "We wanted to determine whether our phenotypes were strongly correlated or anti-correlated with each other."
   ]
  },
  {
   "cell_type": "code",
   "execution_count": 55,
   "metadata": {},
   "outputs": [],
   "source": [
    "del pheno[\"IID\"]"
   ]
  },
  {
   "cell_type": "code",
   "execution_count": 56,
   "metadata": {},
   "outputs": [],
   "source": [
    "pheno=pheno.replace(-9, np.nan)"
   ]
  },
  {
   "cell_type": "code",
   "execution_count": 57,
   "metadata": {},
   "outputs": [],
   "source": [
    "pheno_corr=pheno.corr(method=\"pearson\")"
   ]
  },
  {
   "cell_type": "code",
   "execution_count": 58,
   "metadata": {},
   "outputs": [],
   "source": [
    "pheno_corr.to_csv(\"/cellar/users/mpagadal/Data/projects/germline-immune/immune-phenotype-pearson/brian.tpm.immune.phenotypes.pearson.csv\")"
   ]
  },
  {
   "cell_type": "code",
   "execution_count": null,
   "metadata": {},
   "outputs": [],
   "source": []
  },
  {
   "cell_type": "code",
   "execution_count": null,
   "metadata": {},
   "outputs": [],
   "source": []
  },
  {
   "cell_type": "code",
   "execution_count": null,
   "metadata": {},
   "outputs": [],
   "source": []
  },
  {
   "cell_type": "code",
   "execution_count": null,
   "metadata": {},
   "outputs": [],
   "source": []
  }
 ],
 "metadata": {
  "kernelspec": {
   "display_name": "Python 3",
   "language": "python",
   "name": "python3"
  },
  "language_info": {
   "codemirror_mode": {
    "name": "ipython",
    "version": 3
   },
   "file_extension": ".py",
   "mimetype": "text/x-python",
   "name": "python",
   "nbconvert_exporter": "python",
   "pygments_lexer": "ipython3",
   "version": "3.7.7"
  }
 },
 "nbformat": 4,
 "nbformat_minor": 2
}
