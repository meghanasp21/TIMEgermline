{
 "cells": [
  {
   "cell_type": "code",
   "execution_count": 1,
   "metadata": {},
   "outputs": [],
   "source": [
    "import pandas as pd\n",
    "import os\n",
    "import matplotlib.pyplot as plt\n",
    "import seaborn as sns\n",
    "import numpy as np\n",
    "import json"
   ]
  },
  {
   "cell_type": "markdown",
   "metadata": {},
   "source": [
    "## Process PanCanAtlas file"
   ]
  },
  {
   "cell_type": "code",
   "execution_count": 2,
   "metadata": {
    "scrolled": true
   },
   "outputs": [],
   "source": [
    "rna=pd.read_csv(\"/cellar/users/mpagadal/Data/resources/immune-landscape/EBPlusPlusAdjustPANCAN_IlluminaHiSeq_RNASeqV2.geneExp.tsv\",delimiter=\"\\t\")\n",
    "rna=rna.set_index(\"gene_id\")\n",
    "rna=rna.T\n",
    "rna.columns=[x.split(\"|\")[0] for x in rna.columns]"
   ]
  },
  {
   "cell_type": "code",
   "execution_count": 3,
   "metadata": {},
   "outputs": [
    {
     "name": "stdout",
     "output_type": "stream",
     "text": [
      "(11069, 20531)\n"
     ]
    }
   ],
   "source": [
    "print(rna.shape)"
   ]
  },
  {
   "cell_type": "code",
   "execution_count": 4,
   "metadata": {},
   "outputs": [],
   "source": [
    "rna[\"code\"]=rna.index.str.split(\"-\").str[3]\n",
    "rna[\"barcode\"]=rna.index.str[0:12]"
   ]
  },
  {
   "cell_type": "code",
   "execution_count": 5,
   "metadata": {},
   "outputs": [],
   "source": [
    "canc = pd.read_csv(\"/nrnb/users/mpagadal/tcga-genotypes/birdseed-processing/gtype.meta\", delimiter=\"\\t\", header=None)\n",
    "mp = canc.set_index(2)[0].to_dict()\n",
    "rna[\"cancer\"]=rna[\"barcode\"].map(mp)"
   ]
  },
  {
   "cell_type": "code",
   "execution_count": 6,
   "metadata": {},
   "outputs": [],
   "source": [
    "# rna_skcm=rna[(rna[\"cancer\"]==\"SKCM\")&(rna[\"code\"].isin([\"06A\",\"06B\",\"01A\"]))]\n",
    "# rna_other=rna[(rna[\"cancer\"]!=\"SKCM\")&(rna[\"code\"].str.contains(\"01\"))]\n",
    "# rna_tumor=rna_skcm.append(rna_other)"
   ]
  },
  {
   "cell_type": "code",
   "execution_count": 7,
   "metadata": {},
   "outputs": [],
   "source": [
    "rna_tumor=rna[rna[\"code\"].str.contains(\"01\")]"
   ]
  },
  {
   "cell_type": "code",
   "execution_count": 8,
   "metadata": {},
   "outputs": [
    {
     "data": {
      "text/plain": [
       "01A    9572\n",
       "01B     129\n",
       "01C       4\n",
       "01R       1\n",
       "Name: code, dtype: int64"
      ]
     },
     "execution_count": 8,
     "metadata": {},
     "output_type": "execute_result"
    }
   ],
   "source": [
    "rna_tumor[\"code\"].value_counts()"
   ]
  },
  {
   "cell_type": "code",
   "execution_count": 9,
   "metadata": {},
   "outputs": [],
   "source": [
    "#convert index to short barcodes\n",
    "del rna_tumor[\"code\"]\n",
    "del rna_tumor[\"cancer\"]\n",
    "rna_tumor.index=rna_tumor[\"barcode\"]\n",
    "del rna_tumor[\"barcode\"]"
   ]
  },
  {
   "cell_type": "code",
   "execution_count": 10,
   "metadata": {},
   "outputs": [
    {
     "name": "stdout",
     "output_type": "stream",
     "text": [
      "(9706, 20531)\n"
     ]
    }
   ],
   "source": [
    "print(rna_tumor.shape)"
   ]
  },
  {
   "cell_type": "code",
   "execution_count": 11,
   "metadata": {},
   "outputs": [],
   "source": [
    "cols=[x for x in rna_tumor.columns if x!=\"?\"]\n",
    "rna_tumor=rna_tumor[cols]"
   ]
  },
  {
   "cell_type": "code",
   "execution_count": 12,
   "metadata": {},
   "outputs": [],
   "source": [
    "#take mean for individuals with multiple samples\n",
    "rna=rna_tumor\n",
    "rna=rna.groupby(rna.index).mean()"
   ]
  },
  {
   "cell_type": "code",
   "execution_count": 13,
   "metadata": {},
   "outputs": [],
   "source": [
    "rna = rna.apply(pd.to_numeric,errors=\"coerce\")"
   ]
  },
  {
   "cell_type": "code",
   "execution_count": 14,
   "metadata": {},
   "outputs": [],
   "source": [
    "rna=rna.fillna(0.0)"
   ]
  },
  {
   "cell_type": "code",
   "execution_count": 15,
   "metadata": {},
   "outputs": [],
   "source": [
    "rna.to_csv(\"/cellar/users/mpagadal/Data/resources/tcga/pancanatlas-rna-clean.tsv\",sep=\"\\t\")"
   ]
  },
  {
   "cell_type": "markdown",
   "metadata": {},
   "source": [
    "### process file for cibersortx input"
   ]
  },
  {
   "cell_type": "code",
   "execution_count": 71,
   "metadata": {},
   "outputs": [],
   "source": [
    "ciber=rna.T"
   ]
  },
  {
   "cell_type": "code",
   "execution_count": 72,
   "metadata": {},
   "outputs": [],
   "source": [
    "ciber=ciber.reset_index()"
   ]
  },
  {
   "cell_type": "code",
   "execution_count": 73,
   "metadata": {},
   "outputs": [],
   "source": [
    "ciber=ciber.rename(columns={\"index\":\"Gene\"})"
   ]
  },
  {
   "cell_type": "code",
   "execution_count": 74,
   "metadata": {},
   "outputs": [],
   "source": [
    "ciber=ciber.set_index(\"Gene\")"
   ]
  },
  {
   "cell_type": "code",
   "execution_count": 75,
   "metadata": {},
   "outputs": [],
   "source": [
    "ciber.to_csv(\"/cellar/users/mpagadal/Data/cibersort/cibersortx-inputs/pancanatlas_mixture.tsv\",sep=\"\\t\")"
   ]
  },
  {
   "cell_type": "markdown",
   "metadata": {},
   "source": [
    "## Retrieve immune microenvironment phenotypes"
   ]
  },
  {
   "cell_type": "code",
   "execution_count": 17,
   "metadata": {},
   "outputs": [],
   "source": [
    "genes=pd.read_csv(\"/cellar/users/mpagadal/Data/projects/germline-immune/downloaded_phenos/all_rna_lst.txt\",delimiter=\"\\t\",header=None)[0].tolist()\n",
    "#genes=pd.read_csv(\"/cellar/users/mpagadal/Data/gtex/gtex_rand_genes.txt\")\n"
   ]
  },
  {
   "cell_type": "code",
   "execution_count": 20,
   "metadata": {},
   "outputs": [],
   "source": [
    "#map to alternative ids\n",
    "mp_ids={\"CMC2\":\"C16orf61\",\n",
    "    \"ADGRE5\":\"CD97\",\n",
    "    \"SPRYD7\":\"C13orf1\",\n",
    "    \"JCHAIN\":\"IGJ\",\n",
    "    \"CTSL\":\"CTSL1\",\n",
    "    \"CTSV\":\"CTSL2\",\n",
    "     \"TEX30\":\"C13orf27\",\n",
    "     \"CENPU\":\"MLF1IP\",\n",
    "     \"CMSS1\":\"C3orf26\",\n",
    "     \"FAM216A\":\"C12orf24\",\n",
    "     \"HACD2\":\"PTPLB\",\n",
    "    \"MARCHF1\":\"MARCH1\"}\n",
    "\n",
    "final_genes=[]\n",
    "for x in genes:\n",
    "    if x in [x for x in mp_ids.keys()]:\n",
    "        final_genes.append(mp_ids[x])\n",
    "    else:\n",
    "        final_genes.append(x)"
   ]
  },
  {
   "cell_type": "markdown",
   "metadata": {},
   "source": [
    "### update phenotype dictionary"
   ]
  },
  {
   "cell_type": "code",
   "execution_count": 21,
   "metadata": {},
   "outputs": [],
   "source": [
    "with open('pheno_dictionary.json', 'r') as f:\n",
    "    pheno_dict = json.load(f)"
   ]
  },
  {
   "cell_type": "code",
   "execution_count": 22,
   "metadata": {},
   "outputs": [],
   "source": [
    "for x in mp_ids.keys():\n",
    "    pheno_dict[mp_ids[x]]=pheno_dict[x]"
   ]
  },
  {
   "cell_type": "code",
   "execution_count": 23,
   "metadata": {},
   "outputs": [
    {
     "name": "stdout",
     "output_type": "stream",
     "text": [
      "These genes are missing\n"
     ]
    },
    {
     "data": {
      "text/plain": [
       "5"
      ]
     },
     "execution_count": 23,
     "metadata": {},
     "output_type": "execute_result"
    }
   ],
   "source": [
    "print(\"These genes are missing\")\n",
    "len([x for x in set(final_genes) if x not in rna.columns])"
   ]
  },
  {
   "cell_type": "code",
   "execution_count": 24,
   "metadata": {},
   "outputs": [],
   "source": [
    "final_genes=[x for x in set(final_genes) if x in rna.columns]"
   ]
  },
  {
   "cell_type": "code",
   "execution_count": 25,
   "metadata": {},
   "outputs": [],
   "source": [
    "#filter for immune genes\n",
    "rna_immune=rna[final_genes]"
   ]
  },
  {
   "cell_type": "code",
   "execution_count": 26,
   "metadata": {},
   "outputs": [],
   "source": [
    "rna_immune_final=rna_immune.reset_index().rename(columns={\"barcode\":\"FID\"}).set_index(\"FID\")"
   ]
  },
  {
   "cell_type": "markdown",
   "metadata": {},
   "source": [
    "### Get only phenotypes with less than 10% zero values"
   ]
  },
  {
   "cell_type": "code",
   "execution_count": 27,
   "metadata": {},
   "outputs": [],
   "source": [
    "def filter_zeros(df,threshold):\n",
    "    '''\n",
    "    inputs:\n",
    "    df: dataframe of rna values\n",
    "    threshold: % of zero values by which to exclude phenotypes\n",
    "    \n",
    "    output:\n",
    "    dataframe with rna values < threshold of zero values\n",
    "    '''\n",
    "    \n",
    "    keep=[]\n",
    "    remove=[]\n",
    "    \n",
    "    for x in df.columns:\n",
    "        if len(df[df[x]==0])>threshold*len(df):\n",
    "            remove.append(x)\n",
    "        else:\n",
    "            keep.append(x)\n",
    "    \n",
    "    print(\"{} phenotypes with > {} zeroes were removed\".format(len(remove),threshold))\n",
    "    return(df[keep])\n",
    "        "
   ]
  },
  {
   "cell_type": "code",
   "execution_count": 28,
   "metadata": {},
   "outputs": [
    {
     "name": "stdout",
     "output_type": "stream",
     "text": [
      "36 phenotypes with > 0.1 zeroes were removed\n"
     ]
    }
   ],
   "source": [
    "rna_immune_final=filter_zeros(rna_immune_final,0.1)"
   ]
  },
  {
   "cell_type": "markdown",
   "metadata": {},
   "source": [
    "## Get CIBERSORTx values"
   ]
  },
  {
   "cell_type": "code",
   "execution_count": 29,
   "metadata": {},
   "outputs": [
    {
     "data": {
      "text/html": [
       "<div>\n",
       "<style scoped>\n",
       "    .dataframe tbody tr th:only-of-type {\n",
       "        vertical-align: middle;\n",
       "    }\n",
       "\n",
       "    .dataframe tbody tr th {\n",
       "        vertical-align: top;\n",
       "    }\n",
       "\n",
       "    .dataframe thead th {\n",
       "        text-align: right;\n",
       "    }\n",
       "</style>\n",
       "<table border=\"1\" class=\"dataframe\">\n",
       "  <thead>\n",
       "    <tr style=\"text-align: right;\">\n",
       "      <th></th>\n",
       "      <th>FID</th>\n",
       "      <th>dice.CD4_STIM</th>\n",
       "      <th>dice.CD4_NAIVE</th>\n",
       "      <th>dice.B_CELL_NAIVE</th>\n",
       "      <th>dice.TH2</th>\n",
       "      <th>dice.THSTAR</th>\n",
       "      <th>dice.NK</th>\n",
       "      <th>dice.MONOCYTES</th>\n",
       "      <th>dice.CD8_STIM</th>\n",
       "      <th>dice.CD8_NAIVE</th>\n",
       "      <th>...</th>\n",
       "      <th>melanoma.NK.cells</th>\n",
       "      <th>melanoma.Macrophages</th>\n",
       "      <th>melanoma.T.cells.CD4</th>\n",
       "      <th>melanoma.B.cells</th>\n",
       "      <th>NSCLC.Fig2ab.T.cells.CD8</th>\n",
       "      <th>NSCLC.Fig2ab.Monocytes</th>\n",
       "      <th>NSCLC.Fig2ab.T.cells.CD4</th>\n",
       "      <th>NSCLC.Fig2ab.NKT.cells</th>\n",
       "      <th>NSCLC.Fig2ab.B.cells</th>\n",
       "      <th>NSCLC.Fig2ab.NK.cells</th>\n",
       "    </tr>\n",
       "  </thead>\n",
       "  <tbody>\n",
       "    <tr>\n",
       "      <th>0</th>\n",
       "      <td>TCGA-02-0047</td>\n",
       "      <td>0.0</td>\n",
       "      <td>0.0</td>\n",
       "      <td>0.000000</td>\n",
       "      <td>0.087753</td>\n",
       "      <td>0.00000</td>\n",
       "      <td>0.000000</td>\n",
       "      <td>0.000000</td>\n",
       "      <td>0.036063</td>\n",
       "      <td>0.000000</td>\n",
       "      <td>...</td>\n",
       "      <td>0.0</td>\n",
       "      <td>0.247082</td>\n",
       "      <td>0.000000</td>\n",
       "      <td>0.067366</td>\n",
       "      <td>0.000000</td>\n",
       "      <td>0.012288</td>\n",
       "      <td>0.0</td>\n",
       "      <td>0.097632</td>\n",
       "      <td>0.890080</td>\n",
       "      <td>0.0</td>\n",
       "    </tr>\n",
       "    <tr>\n",
       "      <th>1</th>\n",
       "      <td>TCGA-02-0055</td>\n",
       "      <td>0.0</td>\n",
       "      <td>0.0</td>\n",
       "      <td>0.000000</td>\n",
       "      <td>0.380587</td>\n",
       "      <td>0.01712</td>\n",
       "      <td>0.000000</td>\n",
       "      <td>0.008117</td>\n",
       "      <td>0.188048</td>\n",
       "      <td>0.000000</td>\n",
       "      <td>...</td>\n",
       "      <td>0.0</td>\n",
       "      <td>0.181053</td>\n",
       "      <td>0.000000</td>\n",
       "      <td>0.000000</td>\n",
       "      <td>0.079581</td>\n",
       "      <td>0.048478</td>\n",
       "      <td>0.0</td>\n",
       "      <td>0.000000</td>\n",
       "      <td>0.871942</td>\n",
       "      <td>0.0</td>\n",
       "    </tr>\n",
       "    <tr>\n",
       "      <th>2</th>\n",
       "      <td>TCGA-02-2483</td>\n",
       "      <td>0.0</td>\n",
       "      <td>0.0</td>\n",
       "      <td>0.000397</td>\n",
       "      <td>0.141497</td>\n",
       "      <td>0.00000</td>\n",
       "      <td>0.001787</td>\n",
       "      <td>0.000000</td>\n",
       "      <td>0.058280</td>\n",
       "      <td>0.000000</td>\n",
       "      <td>...</td>\n",
       "      <td>0.0</td>\n",
       "      <td>0.270816</td>\n",
       "      <td>0.000000</td>\n",
       "      <td>0.000000</td>\n",
       "      <td>0.052034</td>\n",
       "      <td>0.059809</td>\n",
       "      <td>0.0</td>\n",
       "      <td>0.000000</td>\n",
       "      <td>0.888157</td>\n",
       "      <td>0.0</td>\n",
       "    </tr>\n",
       "    <tr>\n",
       "      <th>3</th>\n",
       "      <td>TCGA-02-2485</td>\n",
       "      <td>0.0</td>\n",
       "      <td>0.0</td>\n",
       "      <td>0.019888</td>\n",
       "      <td>0.082664</td>\n",
       "      <td>0.00000</td>\n",
       "      <td>0.000000</td>\n",
       "      <td>0.000000</td>\n",
       "      <td>0.031935</td>\n",
       "      <td>0.040701</td>\n",
       "      <td>...</td>\n",
       "      <td>0.0</td>\n",
       "      <td>0.165778</td>\n",
       "      <td>0.000000</td>\n",
       "      <td>0.000000</td>\n",
       "      <td>0.117404</td>\n",
       "      <td>0.037993</td>\n",
       "      <td>0.0</td>\n",
       "      <td>0.000000</td>\n",
       "      <td>0.844603</td>\n",
       "      <td>0.0</td>\n",
       "    </tr>\n",
       "    <tr>\n",
       "      <th>4</th>\n",
       "      <td>TCGA-02-2486</td>\n",
       "      <td>0.0</td>\n",
       "      <td>0.0</td>\n",
       "      <td>0.000000</td>\n",
       "      <td>0.081778</td>\n",
       "      <td>0.00000</td>\n",
       "      <td>0.000000</td>\n",
       "      <td>0.015551</td>\n",
       "      <td>0.059936</td>\n",
       "      <td>0.005295</td>\n",
       "      <td>...</td>\n",
       "      <td>0.0</td>\n",
       "      <td>0.350058</td>\n",
       "      <td>0.052021</td>\n",
       "      <td>0.000000</td>\n",
       "      <td>0.054945</td>\n",
       "      <td>0.045343</td>\n",
       "      <td>0.0</td>\n",
       "      <td>0.000000</td>\n",
       "      <td>0.899712</td>\n",
       "      <td>0.0</td>\n",
       "    </tr>\n",
       "  </tbody>\n",
       "</table>\n",
       "<p>5 rows × 62 columns</p>\n",
       "</div>"
      ],
      "text/plain": [
       "            FID  dice.CD4_STIM  dice.CD4_NAIVE  dice.B_CELL_NAIVE  dice.TH2  \\\n",
       "0  TCGA-02-0047            0.0             0.0           0.000000  0.087753   \n",
       "1  TCGA-02-0055            0.0             0.0           0.000000  0.380587   \n",
       "2  TCGA-02-2483            0.0             0.0           0.000397  0.141497   \n",
       "3  TCGA-02-2485            0.0             0.0           0.019888  0.082664   \n",
       "4  TCGA-02-2486            0.0             0.0           0.000000  0.081778   \n",
       "\n",
       "   dice.THSTAR   dice.NK  dice.MONOCYTES  dice.CD8_STIM  dice.CD8_NAIVE  ...  \\\n",
       "0      0.00000  0.000000        0.000000       0.036063        0.000000  ...   \n",
       "1      0.01712  0.000000        0.008117       0.188048        0.000000  ...   \n",
       "2      0.00000  0.001787        0.000000       0.058280        0.000000  ...   \n",
       "3      0.00000  0.000000        0.000000       0.031935        0.040701  ...   \n",
       "4      0.00000  0.000000        0.015551       0.059936        0.005295  ...   \n",
       "\n",
       "   melanoma.NK.cells  melanoma.Macrophages  melanoma.T.cells.CD4  \\\n",
       "0                0.0              0.247082              0.000000   \n",
       "1                0.0              0.181053              0.000000   \n",
       "2                0.0              0.270816              0.000000   \n",
       "3                0.0              0.165778              0.000000   \n",
       "4                0.0              0.350058              0.052021   \n",
       "\n",
       "   melanoma.B.cells  NSCLC.Fig2ab.T.cells.CD8  NSCLC.Fig2ab.Monocytes  \\\n",
       "0          0.067366                  0.000000                0.012288   \n",
       "1          0.000000                  0.079581                0.048478   \n",
       "2          0.000000                  0.052034                0.059809   \n",
       "3          0.000000                  0.117404                0.037993   \n",
       "4          0.000000                  0.054945                0.045343   \n",
       "\n",
       "   NSCLC.Fig2ab.T.cells.CD4  NSCLC.Fig2ab.NKT.cells  NSCLC.Fig2ab.B.cells  \\\n",
       "0                       0.0                0.097632              0.890080   \n",
       "1                       0.0                0.000000              0.871942   \n",
       "2                       0.0                0.000000              0.888157   \n",
       "3                       0.0                0.000000              0.844603   \n",
       "4                       0.0                0.000000              0.899712   \n",
       "\n",
       "   NSCLC.Fig2ab.NK.cells  \n",
       "0                    0.0  \n",
       "1                    0.0  \n",
       "2                    0.0  \n",
       "3                    0.0  \n",
       "4                    0.0  \n",
       "\n",
       "[5 rows x 62 columns]"
      ]
     },
     "execution_count": 29,
     "metadata": {},
     "output_type": "execute_result"
    }
   ],
   "source": [
    "ciber=pd.read_csv(\"/cellar/users/mpagadal/Data/cibersort/pancanatlas_cibersortx_compiled_allsig.tsv\",delimiter=\"\\t\")\n",
    "ciber.columns=[x.replace(\" \",\".\") for x in ciber.columns]\n",
    "ciber=ciber.rename(columns={\"Mixture\":\"FID\"})\n",
    "ciber.head()"
   ]
  },
  {
   "cell_type": "code",
   "execution_count": 30,
   "metadata": {},
   "outputs": [
    {
     "name": "stdout",
     "output_type": "stream",
     "text": [
      "50 phenotypes with > 0.1 zeroes were removed\n"
     ]
    }
   ],
   "source": [
    "ciber=filter_zeros(ciber,0.1)"
   ]
  },
  {
   "cell_type": "markdown",
   "metadata": {},
   "source": [
    "## Get Immune Landscape Values"
   ]
  },
  {
   "cell_type": "code",
   "execution_count": 31,
   "metadata": {},
   "outputs": [
    {
     "data": {
      "text/html": [
       "<div>\n",
       "<style scoped>\n",
       "    .dataframe tbody tr th:only-of-type {\n",
       "        vertical-align: middle;\n",
       "    }\n",
       "\n",
       "    .dataframe tbody tr th {\n",
       "        vertical-align: top;\n",
       "    }\n",
       "\n",
       "    .dataframe thead th {\n",
       "        text-align: right;\n",
       "    }\n",
       "</style>\n",
       "<table border=\"1\" class=\"dataframe\">\n",
       "  <thead>\n",
       "    <tr style=\"text-align: right;\">\n",
       "      <th></th>\n",
       "      <th>FID</th>\n",
       "      <th>Proliferation</th>\n",
       "      <th>Wound.Healing</th>\n",
       "      <th>Macrophage.Regulation</th>\n",
       "      <th>Lymphocyte.Infiltration.Signature.Score</th>\n",
       "      <th>IFN.gamma.Response</th>\n",
       "      <th>TGF.beta.Response</th>\n",
       "    </tr>\n",
       "  </thead>\n",
       "  <tbody>\n",
       "    <tr>\n",
       "      <th>0</th>\n",
       "      <td>TCGA-01-0639</td>\n",
       "      <td>NaN</td>\n",
       "      <td>NaN</td>\n",
       "      <td>NaN</td>\n",
       "      <td>NaN</td>\n",
       "      <td>NaN</td>\n",
       "      <td>NaN</td>\n",
       "    </tr>\n",
       "    <tr>\n",
       "      <th>1</th>\n",
       "      <td>TCGA-02-0007</td>\n",
       "      <td>NaN</td>\n",
       "      <td>NaN</td>\n",
       "      <td>NaN</td>\n",
       "      <td>NaN</td>\n",
       "      <td>NaN</td>\n",
       "      <td>NaN</td>\n",
       "    </tr>\n",
       "    <tr>\n",
       "      <th>2</th>\n",
       "      <td>TCGA-02-0011</td>\n",
       "      <td>NaN</td>\n",
       "      <td>NaN</td>\n",
       "      <td>NaN</td>\n",
       "      <td>NaN</td>\n",
       "      <td>NaN</td>\n",
       "      <td>NaN</td>\n",
       "    </tr>\n",
       "    <tr>\n",
       "      <th>3</th>\n",
       "      <td>TCGA-02-0023</td>\n",
       "      <td>NaN</td>\n",
       "      <td>NaN</td>\n",
       "      <td>NaN</td>\n",
       "      <td>NaN</td>\n",
       "      <td>NaN</td>\n",
       "      <td>NaN</td>\n",
       "    </tr>\n",
       "    <tr>\n",
       "      <th>4</th>\n",
       "      <td>TCGA-02-0025</td>\n",
       "      <td>NaN</td>\n",
       "      <td>NaN</td>\n",
       "      <td>NaN</td>\n",
       "      <td>NaN</td>\n",
       "      <td>NaN</td>\n",
       "      <td>NaN</td>\n",
       "    </tr>\n",
       "  </tbody>\n",
       "</table>\n",
       "</div>"
      ],
      "text/plain": [
       "            FID  Proliferation  Wound.Healing  Macrophage.Regulation  \\\n",
       "0  TCGA-01-0639            NaN            NaN                    NaN   \n",
       "1  TCGA-02-0007            NaN            NaN                    NaN   \n",
       "2  TCGA-02-0011            NaN            NaN                    NaN   \n",
       "3  TCGA-02-0023            NaN            NaN                    NaN   \n",
       "4  TCGA-02-0025            NaN            NaN                    NaN   \n",
       "\n",
       "   Lymphocyte.Infiltration.Signature.Score  IFN.gamma.Response  \\\n",
       "0                                      NaN                 NaN   \n",
       "1                                      NaN                 NaN   \n",
       "2                                      NaN                 NaN   \n",
       "3                                      NaN                 NaN   \n",
       "4                                      NaN                 NaN   \n",
       "\n",
       "   TGF.beta.Response  \n",
       "0                NaN  \n",
       "1                NaN  \n",
       "2                NaN  \n",
       "3                NaN  \n",
       "4                NaN  "
      ]
     },
     "execution_count": 31,
     "metadata": {},
     "output_type": "execute_result"
    }
   ],
   "source": [
    "landscape=pd.read_csv(\"/cellar/users/mpagadal/Data/projects/germline-immune/downloaded_phenos/pheno-immune-landscape-comp\",delimiter=\"\\t\")\n",
    "landscape=landscape.replace(-9, np.nan)\n",
    "del landscape[\"IID\"]\n",
    "landscape.head()"
   ]
  },
  {
   "cell_type": "code",
   "execution_count": 32,
   "metadata": {},
   "outputs": [],
   "source": [
    "total=pd.merge(rna_immune_final,landscape,on=[\"FID\"],how=\"outer\")\n",
    "total=pd.merge(total, ciber,on=[\"FID\"],how=\"outer\")"
   ]
  },
  {
   "cell_type": "code",
   "execution_count": 33,
   "metadata": {},
   "outputs": [
    {
     "name": "stdout",
     "output_type": "stream",
     "text": [
      "(11185, 742)\n"
     ]
    },
    {
     "data": {
      "text/html": [
       "<div>\n",
       "<style scoped>\n",
       "    .dataframe tbody tr th:only-of-type {\n",
       "        vertical-align: middle;\n",
       "    }\n",
       "\n",
       "    .dataframe tbody tr th {\n",
       "        vertical-align: top;\n",
       "    }\n",
       "\n",
       "    .dataframe thead th {\n",
       "        text-align: right;\n",
       "    }\n",
       "</style>\n",
       "<table border=\"1\" class=\"dataframe\">\n",
       "  <thead>\n",
       "    <tr style=\"text-align: right;\">\n",
       "      <th></th>\n",
       "      <th>FID</th>\n",
       "      <th>RAB34</th>\n",
       "      <th>ZYX</th>\n",
       "      <th>CCL13</th>\n",
       "      <th>UMPS</th>\n",
       "      <th>MCM3</th>\n",
       "      <th>HLA-G</th>\n",
       "      <th>PSMB5</th>\n",
       "      <th>MTA1</th>\n",
       "      <th>HMGN2</th>\n",
       "      <th>...</th>\n",
       "      <th>dice.M2</th>\n",
       "      <th>dice.TH1</th>\n",
       "      <th>LM22.T.cells.CD4.memory.resting</th>\n",
       "      <th>LM22.T.cells.follicular.helper</th>\n",
       "      <th>LM22.Macrophages.M2</th>\n",
       "      <th>HNSCC.Fibroblast</th>\n",
       "      <th>HNSCC.Endothelial</th>\n",
       "      <th>melanoma.CAF</th>\n",
       "      <th>melanoma.Macrophages</th>\n",
       "      <th>NSCLC.Fig2ab.B.cells</th>\n",
       "    </tr>\n",
       "  </thead>\n",
       "  <tbody>\n",
       "    <tr>\n",
       "      <th>0</th>\n",
       "      <td>TCGA-02-0047</td>\n",
       "      <td>424.106</td>\n",
       "      <td>3867.97</td>\n",
       "      <td>0.6146</td>\n",
       "      <td>440.087</td>\n",
       "      <td>1215.160</td>\n",
       "      <td>6.1280</td>\n",
       "      <td>1593.78</td>\n",
       "      <td>986.509</td>\n",
       "      <td>4714.96</td>\n",
       "      <td>...</td>\n",
       "      <td>0.394753</td>\n",
       "      <td>0.131543</td>\n",
       "      <td>0.220653</td>\n",
       "      <td>0.022100</td>\n",
       "      <td>0.300378</td>\n",
       "      <td>0.513596</td>\n",
       "      <td>0.324371</td>\n",
       "      <td>0.335930</td>\n",
       "      <td>0.247082</td>\n",
       "      <td>0.890080</td>\n",
       "    </tr>\n",
       "    <tr>\n",
       "      <th>1</th>\n",
       "      <td>TCGA-02-0055</td>\n",
       "      <td>1987.390</td>\n",
       "      <td>11481.40</td>\n",
       "      <td>62.2285</td>\n",
       "      <td>465.873</td>\n",
       "      <td>1490.120</td>\n",
       "      <td>136.7740</td>\n",
       "      <td>2654.52</td>\n",
       "      <td>612.754</td>\n",
       "      <td>6988.65</td>\n",
       "      <td>...</td>\n",
       "      <td>0.336683</td>\n",
       "      <td>0.055699</td>\n",
       "      <td>0.254034</td>\n",
       "      <td>0.104339</td>\n",
       "      <td>0.228286</td>\n",
       "      <td>0.679564</td>\n",
       "      <td>0.031077</td>\n",
       "      <td>0.799137</td>\n",
       "      <td>0.181053</td>\n",
       "      <td>0.871942</td>\n",
       "    </tr>\n",
       "    <tr>\n",
       "      <th>2</th>\n",
       "      <td>TCGA-02-2483</td>\n",
       "      <td>293.404</td>\n",
       "      <td>5066.81</td>\n",
       "      <td>0.0000</td>\n",
       "      <td>737.520</td>\n",
       "      <td>2713.670</td>\n",
       "      <td>13.7583</td>\n",
       "      <td>3078.84</td>\n",
       "      <td>1652.770</td>\n",
       "      <td>16686.40</td>\n",
       "      <td>...</td>\n",
       "      <td>0.400904</td>\n",
       "      <td>0.000000</td>\n",
       "      <td>0.252846</td>\n",
       "      <td>0.021372</td>\n",
       "      <td>0.333468</td>\n",
       "      <td>0.371056</td>\n",
       "      <td>0.401335</td>\n",
       "      <td>0.296509</td>\n",
       "      <td>0.270816</td>\n",
       "      <td>0.888157</td>\n",
       "    </tr>\n",
       "    <tr>\n",
       "      <th>3</th>\n",
       "      <td>TCGA-02-2485</td>\n",
       "      <td>1070.950</td>\n",
       "      <td>5090.95</td>\n",
       "      <td>0.0000</td>\n",
       "      <td>533.333</td>\n",
       "      <td>2458.100</td>\n",
       "      <td>2.3810</td>\n",
       "      <td>2555.71</td>\n",
       "      <td>1721.430</td>\n",
       "      <td>9975.24</td>\n",
       "      <td>...</td>\n",
       "      <td>0.246473</td>\n",
       "      <td>0.174376</td>\n",
       "      <td>0.039196</td>\n",
       "      <td>0.072461</td>\n",
       "      <td>0.383618</td>\n",
       "      <td>0.374810</td>\n",
       "      <td>0.582110</td>\n",
       "      <td>0.262455</td>\n",
       "      <td>0.165778</td>\n",
       "      <td>0.844603</td>\n",
       "    </tr>\n",
       "    <tr>\n",
       "      <th>4</th>\n",
       "      <td>TCGA-02-2486</td>\n",
       "      <td>2387.800</td>\n",
       "      <td>7800.00</td>\n",
       "      <td>1.8293</td>\n",
       "      <td>557.927</td>\n",
       "      <td>868.293</td>\n",
       "      <td>11.1829</td>\n",
       "      <td>2007.93</td>\n",
       "      <td>825.610</td>\n",
       "      <td>5520.73</td>\n",
       "      <td>...</td>\n",
       "      <td>0.400024</td>\n",
       "      <td>0.163527</td>\n",
       "      <td>0.120351</td>\n",
       "      <td>0.024661</td>\n",
       "      <td>0.550307</td>\n",
       "      <td>0.519750</td>\n",
       "      <td>0.134848</td>\n",
       "      <td>0.273583</td>\n",
       "      <td>0.350058</td>\n",
       "      <td>0.899712</td>\n",
       "    </tr>\n",
       "  </tbody>\n",
       "</table>\n",
       "<p>5 rows × 742 columns</p>\n",
       "</div>"
      ],
      "text/plain": [
       "            FID     RAB34       ZYX    CCL13     UMPS      MCM3     HLA-G  \\\n",
       "0  TCGA-02-0047   424.106   3867.97   0.6146  440.087  1215.160    6.1280   \n",
       "1  TCGA-02-0055  1987.390  11481.40  62.2285  465.873  1490.120  136.7740   \n",
       "2  TCGA-02-2483   293.404   5066.81   0.0000  737.520  2713.670   13.7583   \n",
       "3  TCGA-02-2485  1070.950   5090.95   0.0000  533.333  2458.100    2.3810   \n",
       "4  TCGA-02-2486  2387.800   7800.00   1.8293  557.927   868.293   11.1829   \n",
       "\n",
       "     PSMB5      MTA1     HMGN2  ...   dice.M2  dice.TH1  \\\n",
       "0  1593.78   986.509   4714.96  ...  0.394753  0.131543   \n",
       "1  2654.52   612.754   6988.65  ...  0.336683  0.055699   \n",
       "2  3078.84  1652.770  16686.40  ...  0.400904  0.000000   \n",
       "3  2555.71  1721.430   9975.24  ...  0.246473  0.174376   \n",
       "4  2007.93   825.610   5520.73  ...  0.400024  0.163527   \n",
       "\n",
       "   LM22.T.cells.CD4.memory.resting  LM22.T.cells.follicular.helper  \\\n",
       "0                         0.220653                        0.022100   \n",
       "1                         0.254034                        0.104339   \n",
       "2                         0.252846                        0.021372   \n",
       "3                         0.039196                        0.072461   \n",
       "4                         0.120351                        0.024661   \n",
       "\n",
       "   LM22.Macrophages.M2  HNSCC.Fibroblast  HNSCC.Endothelial  melanoma.CAF  \\\n",
       "0             0.300378          0.513596           0.324371      0.335930   \n",
       "1             0.228286          0.679564           0.031077      0.799137   \n",
       "2             0.333468          0.371056           0.401335      0.296509   \n",
       "3             0.383618          0.374810           0.582110      0.262455   \n",
       "4             0.550307          0.519750           0.134848      0.273583   \n",
       "\n",
       "   melanoma.Macrophages  NSCLC.Fig2ab.B.cells  \n",
       "0              0.247082              0.890080  \n",
       "1              0.181053              0.871942  \n",
       "2              0.270816              0.888157  \n",
       "3              0.165778              0.844603  \n",
       "4              0.350058              0.899712  \n",
       "\n",
       "[5 rows x 742 columns]"
      ]
     },
     "execution_count": 33,
     "metadata": {},
     "output_type": "execute_result"
    }
   ],
   "source": [
    "print(total.shape)\n",
    "total.head()"
   ]
  },
  {
   "cell_type": "code",
   "execution_count": 34,
   "metadata": {},
   "outputs": [],
   "source": [
    "total=total.reset_index()"
   ]
  },
  {
   "cell_type": "markdown",
   "metadata": {},
   "source": [
    "### filter for genotyped individuals"
   ]
  },
  {
   "cell_type": "code",
   "execution_count": 35,
   "metadata": {},
   "outputs": [],
   "source": [
    "#get genotyped patients\n",
    "fam=pd.read_csv(\"/nrnb/users/mpagadal/tcga-genotypes/imputation/michigan-imputation/HRC/european.final.noimmunecancers.clean.fam\",header=None,sep=\" \")[0].tolist()"
   ]
  },
  {
   "cell_type": "code",
   "execution_count": 36,
   "metadata": {},
   "outputs": [],
   "source": [
    "tcga_df=total[total.FID.isin(fam)]"
   ]
  },
  {
   "cell_type": "code",
   "execution_count": 37,
   "metadata": {},
   "outputs": [
    {
     "name": "stdout",
     "output_type": "stream",
     "text": [
      "(8189, 743)\n"
     ]
    },
    {
     "data": {
      "text/html": [
       "<div>\n",
       "<style scoped>\n",
       "    .dataframe tbody tr th:only-of-type {\n",
       "        vertical-align: middle;\n",
       "    }\n",
       "\n",
       "    .dataframe tbody tr th {\n",
       "        vertical-align: top;\n",
       "    }\n",
       "\n",
       "    .dataframe thead th {\n",
       "        text-align: right;\n",
       "    }\n",
       "</style>\n",
       "<table border=\"1\" class=\"dataframe\">\n",
       "  <thead>\n",
       "    <tr style=\"text-align: right;\">\n",
       "      <th></th>\n",
       "      <th>index</th>\n",
       "      <th>FID</th>\n",
       "      <th>RAB34</th>\n",
       "      <th>ZYX</th>\n",
       "      <th>CCL13</th>\n",
       "      <th>UMPS</th>\n",
       "      <th>MCM3</th>\n",
       "      <th>HLA-G</th>\n",
       "      <th>PSMB5</th>\n",
       "      <th>MTA1</th>\n",
       "      <th>...</th>\n",
       "      <th>dice.M2</th>\n",
       "      <th>dice.TH1</th>\n",
       "      <th>LM22.T.cells.CD4.memory.resting</th>\n",
       "      <th>LM22.T.cells.follicular.helper</th>\n",
       "      <th>LM22.Macrophages.M2</th>\n",
       "      <th>HNSCC.Fibroblast</th>\n",
       "      <th>HNSCC.Endothelial</th>\n",
       "      <th>melanoma.CAF</th>\n",
       "      <th>melanoma.Macrophages</th>\n",
       "      <th>NSCLC.Fig2ab.B.cells</th>\n",
       "    </tr>\n",
       "  </thead>\n",
       "  <tbody>\n",
       "    <tr>\n",
       "      <th>0</th>\n",
       "      <td>0</td>\n",
       "      <td>TCGA-02-0047</td>\n",
       "      <td>424.106000</td>\n",
       "      <td>3867.970000</td>\n",
       "      <td>0.614600</td>\n",
       "      <td>440.087000</td>\n",
       "      <td>1215.160000</td>\n",
       "      <td>6.12800</td>\n",
       "      <td>1593.780000</td>\n",
       "      <td>986.509000</td>\n",
       "      <td>...</td>\n",
       "      <td>0.394753</td>\n",
       "      <td>0.131543</td>\n",
       "      <td>0.220653</td>\n",
       "      <td>0.022100</td>\n",
       "      <td>0.300378</td>\n",
       "      <td>0.513596</td>\n",
       "      <td>0.324371</td>\n",
       "      <td>0.335930</td>\n",
       "      <td>0.247082</td>\n",
       "      <td>0.890080</td>\n",
       "    </tr>\n",
       "    <tr>\n",
       "      <th>1</th>\n",
       "      <td>1</td>\n",
       "      <td>TCGA-02-0055</td>\n",
       "      <td>1987.390000</td>\n",
       "      <td>11481.400000</td>\n",
       "      <td>62.228500</td>\n",
       "      <td>465.873000</td>\n",
       "      <td>1490.120000</td>\n",
       "      <td>136.77400</td>\n",
       "      <td>2654.520000</td>\n",
       "      <td>612.754000</td>\n",
       "      <td>...</td>\n",
       "      <td>0.336683</td>\n",
       "      <td>0.055699</td>\n",
       "      <td>0.254034</td>\n",
       "      <td>0.104339</td>\n",
       "      <td>0.228286</td>\n",
       "      <td>0.679564</td>\n",
       "      <td>0.031077</td>\n",
       "      <td>0.799137</td>\n",
       "      <td>0.181053</td>\n",
       "      <td>0.871942</td>\n",
       "    </tr>\n",
       "    <tr>\n",
       "      <th>4</th>\n",
       "      <td>4</td>\n",
       "      <td>TCGA-02-2486</td>\n",
       "      <td>2387.800000</td>\n",
       "      <td>7800.000000</td>\n",
       "      <td>1.829300</td>\n",
       "      <td>557.927000</td>\n",
       "      <td>868.293000</td>\n",
       "      <td>11.18290</td>\n",
       "      <td>2007.930000</td>\n",
       "      <td>825.610000</td>\n",
       "      <td>...</td>\n",
       "      <td>0.400024</td>\n",
       "      <td>0.163527</td>\n",
       "      <td>0.120351</td>\n",
       "      <td>0.024661</td>\n",
       "      <td>0.550307</td>\n",
       "      <td>0.519750</td>\n",
       "      <td>0.134848</td>\n",
       "      <td>0.273583</td>\n",
       "      <td>0.350058</td>\n",
       "      <td>0.899712</td>\n",
       "    </tr>\n",
       "    <tr>\n",
       "      <th>6</th>\n",
       "      <td>6</td>\n",
       "      <td>TCGA-04-1357</td>\n",
       "      <td>983.982428</td>\n",
       "      <td>3284.754545</td>\n",
       "      <td>10.636229</td>\n",
       "      <td>802.633551</td>\n",
       "      <td>1380.589227</td>\n",
       "      <td>132.89256</td>\n",
       "      <td>3416.254870</td>\n",
       "      <td>1639.085679</td>\n",
       "      <td>...</td>\n",
       "      <td>0.143543</td>\n",
       "      <td>0.393192</td>\n",
       "      <td>0.186436</td>\n",
       "      <td>0.082638</td>\n",
       "      <td>0.152219</td>\n",
       "      <td>0.428190</td>\n",
       "      <td>0.060116</td>\n",
       "      <td>0.154576</td>\n",
       "      <td>0.397849</td>\n",
       "      <td>0.900281</td>\n",
       "    </tr>\n",
       "    <tr>\n",
       "      <th>7</th>\n",
       "      <td>7</td>\n",
       "      <td>TCGA-04-1362</td>\n",
       "      <td>2007.040302</td>\n",
       "      <td>3747.937644</td>\n",
       "      <td>0.823273</td>\n",
       "      <td>1222.854511</td>\n",
       "      <td>3955.755455</td>\n",
       "      <td>26.53889</td>\n",
       "      <td>2234.594093</td>\n",
       "      <td>1312.474358</td>\n",
       "      <td>...</td>\n",
       "      <td>0.199769</td>\n",
       "      <td>0.195251</td>\n",
       "      <td>0.235363</td>\n",
       "      <td>0.071900</td>\n",
       "      <td>0.272240</td>\n",
       "      <td>0.271329</td>\n",
       "      <td>0.272688</td>\n",
       "      <td>0.348677</td>\n",
       "      <td>0.211550</td>\n",
       "      <td>0.855725</td>\n",
       "    </tr>\n",
       "  </tbody>\n",
       "</table>\n",
       "<p>5 rows × 743 columns</p>\n",
       "</div>"
      ],
      "text/plain": [
       "   index           FID        RAB34           ZYX      CCL13         UMPS  \\\n",
       "0      0  TCGA-02-0047   424.106000   3867.970000   0.614600   440.087000   \n",
       "1      1  TCGA-02-0055  1987.390000  11481.400000  62.228500   465.873000   \n",
       "4      4  TCGA-02-2486  2387.800000   7800.000000   1.829300   557.927000   \n",
       "6      6  TCGA-04-1357   983.982428   3284.754545  10.636229   802.633551   \n",
       "7      7  TCGA-04-1362  2007.040302   3747.937644   0.823273  1222.854511   \n",
       "\n",
       "          MCM3      HLA-G        PSMB5         MTA1  ...   dice.M2  dice.TH1  \\\n",
       "0  1215.160000    6.12800  1593.780000   986.509000  ...  0.394753  0.131543   \n",
       "1  1490.120000  136.77400  2654.520000   612.754000  ...  0.336683  0.055699   \n",
       "4   868.293000   11.18290  2007.930000   825.610000  ...  0.400024  0.163527   \n",
       "6  1380.589227  132.89256  3416.254870  1639.085679  ...  0.143543  0.393192   \n",
       "7  3955.755455   26.53889  2234.594093  1312.474358  ...  0.199769  0.195251   \n",
       "\n",
       "   LM22.T.cells.CD4.memory.resting  LM22.T.cells.follicular.helper  \\\n",
       "0                         0.220653                        0.022100   \n",
       "1                         0.254034                        0.104339   \n",
       "4                         0.120351                        0.024661   \n",
       "6                         0.186436                        0.082638   \n",
       "7                         0.235363                        0.071900   \n",
       "\n",
       "   LM22.Macrophages.M2  HNSCC.Fibroblast  HNSCC.Endothelial  melanoma.CAF  \\\n",
       "0             0.300378          0.513596           0.324371      0.335930   \n",
       "1             0.228286          0.679564           0.031077      0.799137   \n",
       "4             0.550307          0.519750           0.134848      0.273583   \n",
       "6             0.152219          0.428190           0.060116      0.154576   \n",
       "7             0.272240          0.271329           0.272688      0.348677   \n",
       "\n",
       "   melanoma.Macrophages  NSCLC.Fig2ab.B.cells  \n",
       "0              0.247082              0.890080  \n",
       "1              0.181053              0.871942  \n",
       "4              0.350058              0.899712  \n",
       "6              0.397849              0.900281  \n",
       "7              0.211550              0.855725  \n",
       "\n",
       "[5 rows x 743 columns]"
      ]
     },
     "execution_count": 37,
     "metadata": {},
     "output_type": "execute_result"
    }
   ],
   "source": [
    "print(tcga_df.shape)\n",
    "tcga_df.head()"
   ]
  },
  {
   "cell_type": "code",
   "execution_count": null,
   "metadata": {},
   "outputs": [],
   "source": []
  },
  {
   "cell_type": "markdown",
   "metadata": {},
   "source": [
    "## Zscore by cancer"
   ]
  },
  {
   "cell_type": "code",
   "execution_count": 38,
   "metadata": {},
   "outputs": [
    {
     "name": "stderr",
     "output_type": "stream",
     "text": [
      "/nrnb/opt/anaconda3.7/lib/python3.7/site-packages/ipykernel_launcher.py:4: SettingWithCopyWarning: \n",
      "A value is trying to be set on a copy of a slice from a DataFrame.\n",
      "Try using .loc[row_indexer,col_indexer] = value instead\n",
      "\n",
      "See the caveats in the documentation: https://pandas.pydata.org/pandas-docs/stable/user_guide/indexing.html#returning-a-view-versus-a-copy\n",
      "  after removing the cwd from sys.path.\n"
     ]
    }
   ],
   "source": [
    "canc = pd.read_csv(\"/nrnb/users/mpagadal/tcga-genotypes/birdseed-processing/gtype.meta\", delimiter=\"\\t\", header=None)\n",
    "mp = canc.set_index(2)[0].to_dict()\n",
    "#total['cancer'] = total[\"FID\"].map(mp)\n",
    "tcga_df[\"cancer\"]=tcga_df[\"FID\"].map(mp)"
   ]
  },
  {
   "cell_type": "code",
   "execution_count": 39,
   "metadata": {},
   "outputs": [],
   "source": [
    "for x in tcga_df[\"cancer\"].unique():\n",
    "    try:\n",
    "        tumor=tcga_df[tcga_df[\"cancer\"]==x]\n",
    "        del tumor[\"cancer\"]\n",
    "        tumor.to_csv(\"/cellar/users/mpagadal/Data/projects/germline-immune/processed_phenos/pancanatlas/pheno_\"+x+\".unnorm.csv\",index=None,sep=\"\\t\")\n",
    "    except:\n",
    "        print(x)\n",
    "    \n",
    "    "
   ]
  },
  {
   "cell_type": "markdown",
   "metadata": {},
   "source": [
    "### To get inverse rank normalized phenos"
   ]
  },
  {
   "cell_type": "markdown",
   "metadata": {},
   "source": [
    "Rscript run-rank-norm.R rna_phenos"
   ]
  },
  {
   "cell_type": "code",
   "execution_count": 40,
   "metadata": {},
   "outputs": [],
   "source": [
    "cancers=tcga_df[\"cancer\"].unique().tolist()"
   ]
  },
  {
   "cell_type": "code",
   "execution_count": 41,
   "metadata": {},
   "outputs": [],
   "source": [
    "compiled=pd.DataFrame()\n",
    "for x in cancers:\n",
    "    df=pd.read_csv(\"/cellar/users/mpagadal/Data/projects/germline-immune/processed_phenos/pancanatlas/pheno_\"+x+\".rank.csv\",delimiter=\"\\t\")\n",
    "    df[\"cancer\"]=x\n",
    "    compiled=compiled.append(df)"
   ]
  },
  {
   "cell_type": "markdown",
   "metadata": {},
   "source": [
    "### Confirm phenos are z-scored by cancer"
   ]
  },
  {
   "cell_type": "code",
   "execution_count": 42,
   "metadata": {},
   "outputs": [
    {
     "data": {
      "text/plain": [
       "Text(0.5, 1.0, 'FGR')"
      ]
     },
     "execution_count": 42,
     "metadata": {},
     "output_type": "execute_result"
    },
    {
     "data": {
      "image/png": "[encoded data removed]",
      "text/plain": [
       "<Figure size 1440x360 with 1 Axes>"
      ]
     },
     "metadata": {},
     "output_type": "display_data"
    }
   ],
   "source": [
    "x=\"FGR\"\n",
    "#plot rna expression by cancer type\n",
    "sns.set(style=\"whitegrid\", font_scale = 1)\n",
    "plt.figure(figsize=(20,5))\n",
    "sns.set_style(\"whitegrid\", {'axes.grid' : False})\n",
    "ax = sns.boxplot(x=\"cancer\", y=x, data=compiled)\n",
    "ax.set(xlabel=\"cancer\", ylabel='rank norm FGR')\n",
    "plt.xticks(rotation=30)\n",
    "plt.title(x)"
   ]
  },
  {
   "cell_type": "markdown",
   "metadata": {},
   "source": [
    "## Format for plink"
   ]
  },
  {
   "cell_type": "code",
   "execution_count": 43,
   "metadata": {},
   "outputs": [],
   "source": [
    "del compiled[\"cancer\"]"
   ]
  },
  {
   "cell_type": "code",
   "execution_count": 44,
   "metadata": {},
   "outputs": [],
   "source": [
    "compiled[\"IID\"]=compiled[\"FID\"]\n",
    "cols=[\"FID\",\"IID\"]+compiled.columns.tolist()[1:-1]\n",
    "compiled=compiled[cols]\n",
    "compiled.columns=[x.replace(\"-\",\".\") for x in compiled.columns]\n",
    "compiled=compiled.fillna(-9)"
   ]
  },
  {
   "cell_type": "code",
   "execution_count": 45,
   "metadata": {},
   "outputs": [],
   "source": [
    "compiled.to_csv(\"/cellar/users/mpagadal/Data/projects/germline-immune/processed_phenos/pancanatlas/pheno_all_zcancer\",index=None,sep=\"\\t\")"
   ]
  },
  {
   "cell_type": "code",
   "execution_count": 46,
   "metadata": {},
   "outputs": [
    {
     "name": "stdout",
     "output_type": "stream",
     "text": [
      "(8189, 743)\n"
     ]
    },
    {
     "data": {
      "text/html": [
       "<div>\n",
       "<style scoped>\n",
       "    .dataframe tbody tr th:only-of-type {\n",
       "        vertical-align: middle;\n",
       "    }\n",
       "\n",
       "    .dataframe tbody tr th {\n",
       "        vertical-align: top;\n",
       "    }\n",
       "\n",
       "    .dataframe thead th {\n",
       "        text-align: right;\n",
       "    }\n",
       "</style>\n",
       "<table border=\"1\" class=\"dataframe\">\n",
       "  <thead>\n",
       "    <tr style=\"text-align: right;\">\n",
       "      <th></th>\n",
       "      <th>FID</th>\n",
       "      <th>IID</th>\n",
       "      <th>ID2</th>\n",
       "      <th>ERAP2</th>\n",
       "      <th>VAMP8</th>\n",
       "      <th>FAM89B</th>\n",
       "      <th>RASSF4</th>\n",
       "      <th>MYBL2</th>\n",
       "      <th>MYCBP</th>\n",
       "      <th>LYN</th>\n",
       "      <th>...</th>\n",
       "      <th>dice.M2</th>\n",
       "      <th>dice.TH1</th>\n",
       "      <th>LM22.T.cells.CD4.memory.resting</th>\n",
       "      <th>LM22.T.cells.follicular.helper</th>\n",
       "      <th>LM22.Macrophages.M2</th>\n",
       "      <th>HNSCC.Fibroblast</th>\n",
       "      <th>HNSCC.Endothelial</th>\n",
       "      <th>melanoma.CAF</th>\n",
       "      <th>melanoma.Macrophages</th>\n",
       "      <th>NSCLC.Fig2ab.B.cells</th>\n",
       "    </tr>\n",
       "  </thead>\n",
       "  <tbody>\n",
       "    <tr>\n",
       "      <th>1</th>\n",
       "      <td>TCGA-02-0047</td>\n",
       "      <td>TCGA-02-0047</td>\n",
       "      <td>-0.832798</td>\n",
       "      <td>0.208664</td>\n",
       "      <td>-0.381976</td>\n",
       "      <td>-0.124617</td>\n",
       "      <td>1.135422</td>\n",
       "      <td>-0.041444</td>\n",
       "      <td>-0.208664</td>\n",
       "      <td>0.472789</td>\n",
       "      <td>...</td>\n",
       "      <td>0.892918</td>\n",
       "      <td>0.720732</td>\n",
       "      <td>0.449747</td>\n",
       "      <td>-0.426942</td>\n",
       "      <td>-0.124617</td>\n",
       "      <td>0.315916</td>\n",
       "      <td>-0.103766</td>\n",
       "      <td>0.404357</td>\n",
       "      <td>0.496085</td>\n",
       "      <td>0.592197</td>\n",
       "    </tr>\n",
       "    <tr>\n",
       "      <th>2</th>\n",
       "      <td>TCGA-02-0055</td>\n",
       "      <td>TCGA-02-0055</td>\n",
       "      <td>-1.415149</td>\n",
       "      <td>-0.924220</td>\n",
       "      <td>0.989714</td>\n",
       "      <td>0.832798</td>\n",
       "      <td>-1.310335</td>\n",
       "      <td>-0.862469</td>\n",
       "      <td>1.135422</td>\n",
       "      <td>0.803843</td>\n",
       "      <td>...</td>\n",
       "      <td>0.315916</td>\n",
       "      <td>-0.519653</td>\n",
       "      <td>0.803843</td>\n",
       "      <td>1.609816</td>\n",
       "      <td>-0.775547</td>\n",
       "      <td>1.896823</td>\n",
       "      <td>-2.641070</td>\n",
       "      <td>2.244607</td>\n",
       "      <td>-0.062188</td>\n",
       "      <td>0.166494</td>\n",
       "    </tr>\n",
       "    <tr>\n",
       "      <th>3</th>\n",
       "      <td>TCGA-02-2486</td>\n",
       "      <td>TCGA-02-2486</td>\n",
       "      <td>-0.592197</td>\n",
       "      <td>0.989714</td>\n",
       "      <td>1.609816</td>\n",
       "      <td>0.617068</td>\n",
       "      <td>-0.208664</td>\n",
       "      <td>-2.641070</td>\n",
       "      <td>0.862469</td>\n",
       "      <td>1.415149</td>\n",
       "      <td>...</td>\n",
       "      <td>0.989714</td>\n",
       "      <td>1.218220</td>\n",
       "      <td>-0.803843</td>\n",
       "      <td>-0.294213</td>\n",
       "      <td>1.310335</td>\n",
       "      <td>0.381976</td>\n",
       "      <td>-1.473947</td>\n",
       "      <td>0.020717</td>\n",
       "      <td>1.415149</td>\n",
       "      <td>0.694126</td>\n",
       "    </tr>\n",
       "    <tr>\n",
       "      <th>4</th>\n",
       "      <td>TCGA-06-0129</td>\n",
       "      <td>TCGA-06-0129</td>\n",
       "      <td>-0.803843</td>\n",
       "      <td>0.694126</td>\n",
       "      <td>-0.272648</td>\n",
       "      <td>-0.519653</td>\n",
       "      <td>2.641070</td>\n",
       "      <td>1.096804</td>\n",
       "      <td>-0.747859</td>\n",
       "      <td>0.989714</td>\n",
       "      <td>...</td>\n",
       "      <td>-0.208664</td>\n",
       "      <td>-1.024106</td>\n",
       "      <td>-0.567686</td>\n",
       "      <td>0.519653</td>\n",
       "      <td>1.538334</td>\n",
       "      <td>-2.641070</td>\n",
       "      <td>-0.404357</td>\n",
       "      <td>-2.244607</td>\n",
       "      <td>2.641070</td>\n",
       "      <td>0.187537</td>\n",
       "    </tr>\n",
       "    <tr>\n",
       "      <th>5</th>\n",
       "      <td>TCGA-06-0130</td>\n",
       "      <td>TCGA-06-0130</td>\n",
       "      <td>-0.956454</td>\n",
       "      <td>2.040281</td>\n",
       "      <td>1.310335</td>\n",
       "      <td>1.896823</td>\n",
       "      <td>0.642327</td>\n",
       "      <td>-0.062188</td>\n",
       "      <td>1.784268</td>\n",
       "      <td>1.784268</td>\n",
       "      <td>...</td>\n",
       "      <td>2.040281</td>\n",
       "      <td>-0.082959</td>\n",
       "      <td>-0.617068</td>\n",
       "      <td>-0.103766</td>\n",
       "      <td>1.096804</td>\n",
       "      <td>0.000000</td>\n",
       "      <td>-1.896823</td>\n",
       "      <td>1.609816</td>\n",
       "      <td>1.609816</td>\n",
       "      <td>2.641070</td>\n",
       "    </tr>\n",
       "  </tbody>\n",
       "</table>\n",
       "<p>5 rows × 743 columns</p>\n",
       "</div>"
      ],
      "text/plain": [
       "            FID           IID       ID2     ERAP2     VAMP8    FAM89B  \\\n",
       "1  TCGA-02-0047  TCGA-02-0047 -0.832798  0.208664 -0.381976 -0.124617   \n",
       "2  TCGA-02-0055  TCGA-02-0055 -1.415149 -0.924220  0.989714  0.832798   \n",
       "3  TCGA-02-2486  TCGA-02-2486 -0.592197  0.989714  1.609816  0.617068   \n",
       "4  TCGA-06-0129  TCGA-06-0129 -0.803843  0.694126 -0.272648 -0.519653   \n",
       "5  TCGA-06-0130  TCGA-06-0130 -0.956454  2.040281  1.310335  1.896823   \n",
       "\n",
       "     RASSF4     MYBL2     MYCBP       LYN  ...   dice.M2  dice.TH1  \\\n",
       "1  1.135422 -0.041444 -0.208664  0.472789  ...  0.892918  0.720732   \n",
       "2 -1.310335 -0.862469  1.135422  0.803843  ...  0.315916 -0.519653   \n",
       "3 -0.208664 -2.641070  0.862469  1.415149  ...  0.989714  1.218220   \n",
       "4  2.641070  1.096804 -0.747859  0.989714  ... -0.208664 -1.024106   \n",
       "5  0.642327 -0.062188  1.784268  1.784268  ...  2.040281 -0.082959   \n",
       "\n",
       "   LM22.T.cells.CD4.memory.resting  LM22.T.cells.follicular.helper  \\\n",
       "1                         0.449747                       -0.426942   \n",
       "2                         0.803843                        1.609816   \n",
       "3                        -0.803843                       -0.294213   \n",
       "4                        -0.567686                        0.519653   \n",
       "5                        -0.617068                       -0.103766   \n",
       "\n",
       "   LM22.Macrophages.M2  HNSCC.Fibroblast  HNSCC.Endothelial  melanoma.CAF  \\\n",
       "1            -0.124617          0.315916          -0.103766      0.404357   \n",
       "2            -0.775547          1.896823          -2.641070      2.244607   \n",
       "3             1.310335          0.381976          -1.473947      0.020717   \n",
       "4             1.538334         -2.641070          -0.404357     -2.244607   \n",
       "5             1.096804          0.000000          -1.896823      1.609816   \n",
       "\n",
       "   melanoma.Macrophages  NSCLC.Fig2ab.B.cells  \n",
       "1              0.496085              0.592197  \n",
       "2             -0.062188              0.166494  \n",
       "3              1.415149              0.694126  \n",
       "4              2.641070              0.187537  \n",
       "5              1.609816              2.641070  \n",
       "\n",
       "[5 rows x 743 columns]"
      ]
     },
     "execution_count": 46,
     "metadata": {},
     "output_type": "execute_result"
    }
   ],
   "source": [
    "print(compiled.shape)\n",
    "compiled.head()"
   ]
  },
  {
   "cell_type": "code",
   "execution_count": 47,
   "metadata": {},
   "outputs": [
    {
     "data": {
      "text/html": [
       "<div>\n",
       "<style scoped>\n",
       "    .dataframe tbody tr th:only-of-type {\n",
       "        vertical-align: middle;\n",
       "    }\n",
       "\n",
       "    .dataframe tbody tr th {\n",
       "        vertical-align: top;\n",
       "    }\n",
       "\n",
       "    .dataframe thead th {\n",
       "        text-align: right;\n",
       "    }\n",
       "</style>\n",
       "<table border=\"1\" class=\"dataframe\">\n",
       "  <thead>\n",
       "    <tr style=\"text-align: right;\">\n",
       "      <th></th>\n",
       "      <th>FID</th>\n",
       "      <th>IID</th>\n",
       "      <th>ID2</th>\n",
       "      <th>ERAP2</th>\n",
       "      <th>VAMP8</th>\n",
       "      <th>FAM89B</th>\n",
       "      <th>RASSF4</th>\n",
       "      <th>MYBL2</th>\n",
       "      <th>MYCBP</th>\n",
       "      <th>LYN</th>\n",
       "      <th>...</th>\n",
       "      <th>dice.M2</th>\n",
       "      <th>dice.TH1</th>\n",
       "      <th>LM22.T.cells.CD4.memory.resting</th>\n",
       "      <th>LM22.T.cells.follicular.helper</th>\n",
       "      <th>LM22.Macrophages.M2</th>\n",
       "      <th>HNSCC.Fibroblast</th>\n",
       "      <th>HNSCC.Endothelial</th>\n",
       "      <th>melanoma.CAF</th>\n",
       "      <th>melanoma.Macrophages</th>\n",
       "      <th>NSCLC.Fig2ab.B.cells</th>\n",
       "    </tr>\n",
       "  </thead>\n",
       "  <tbody>\n",
       "  </tbody>\n",
       "</table>\n",
       "<p>0 rows × 743 columns</p>\n",
       "</div>"
      ],
      "text/plain": [
       "Empty DataFrame\n",
       "Columns: [FID, IID, ID2, ERAP2, VAMP8, FAM89B, RASSF4, MYBL2, MYCBP, LYN, DDX60, CD68, TCF7L2, CX3CL1, LYAR, PSMD12, PYCARD, GLRX3, MSN, ITGAV, PSMB4, BCCIP, MRPL12, CD40, SAMD9, PSMD9, PNO1, SPARC, JAK2, IMP4, MRPS28, HLA.C, SIGLEC5, PSMC4, FPR3, VAMP3, TNC, MNAT1, RNF138, SELP, HLA.DMB, HLA.F, MLF1IP, LRP1, PSMB3, WAS, CD97, CANX, STRA13, HLA.A, IFI27, OAS2, TNFSF9, HFE, ZYX, FYB, CAPZB, CALR, SNAP23, MS4A4A, CD27, AP1B1, CD1D, TNFRSF12A, CD3G, MMP11, TNFSF4, AP1M1, ALKBH7, PSMD10, RUNX3, CTNNA1, PSME3, DLEU1, THBS2, DHFR, SMAD2, TGFB3, HYLS1, BCAP31, TAGLN, NUTF2, ZFYVE9, MARCH1, PSMB2, HMGB1, CD33, IGFBP4, DCLRE1B, CD28, DAPK1, DCTN2, HMHA1, HN1L, GZMA, SNX17, IGJ, TAPBPL, AP2S1, HCLS1, ...]\n",
       "Index: []\n",
       "\n",
       "[0 rows x 743 columns]"
      ]
     },
     "execution_count": 47,
     "metadata": {},
     "output_type": "execute_result"
    }
   ],
   "source": [
    "compiled[compiled[\"FID\"].duplicated()]"
   ]
  },
  {
   "cell_type": "markdown",
   "metadata": {},
   "source": [
    "## Confirm phenotypes are normally distributed"
   ]
  },
  {
   "cell_type": "code",
   "execution_count": 104,
   "metadata": {},
   "outputs": [
    {
     "data": {
      "text/html": [
       "<div>\n",
       "<style scoped>\n",
       "    .dataframe tbody tr th:only-of-type {\n",
       "        vertical-align: middle;\n",
       "    }\n",
       "\n",
       "    .dataframe tbody tr th {\n",
       "        vertical-align: top;\n",
       "    }\n",
       "\n",
       "    .dataframe thead th {\n",
       "        text-align: right;\n",
       "    }\n",
       "</style>\n",
       "<table border=\"1\" class=\"dataframe\">\n",
       "  <thead>\n",
       "    <tr style=\"text-align: right;\">\n",
       "      <th></th>\n",
       "      <th>FID</th>\n",
       "      <th>IID</th>\n",
       "      <th>ID2</th>\n",
       "      <th>ERAP2</th>\n",
       "      <th>VAMP8</th>\n",
       "      <th>FAM89B</th>\n",
       "      <th>RASSF4</th>\n",
       "      <th>MYBL2</th>\n",
       "      <th>MYCBP</th>\n",
       "      <th>LYN</th>\n",
       "      <th>...</th>\n",
       "      <th>dice.M2</th>\n",
       "      <th>dice.TH1</th>\n",
       "      <th>LM22.T.cells.CD4.memory.resting</th>\n",
       "      <th>LM22.T.cells.follicular.helper</th>\n",
       "      <th>LM22.Macrophages.M2</th>\n",
       "      <th>HNSCC.Fibroblast</th>\n",
       "      <th>HNSCC.Endothelial</th>\n",
       "      <th>melanoma.CAF</th>\n",
       "      <th>melanoma.Macrophages</th>\n",
       "      <th>NSCLC.Fig2ab.B.cells</th>\n",
       "    </tr>\n",
       "  </thead>\n",
       "  <tbody>\n",
       "    <tr>\n",
       "      <th>0</th>\n",
       "      <td>TCGA-02-0047</td>\n",
       "      <td>TCGA-02-0047</td>\n",
       "      <td>-0.832798</td>\n",
       "      <td>0.208664</td>\n",
       "      <td>-0.381976</td>\n",
       "      <td>-0.124617</td>\n",
       "      <td>1.135422</td>\n",
       "      <td>-0.041444</td>\n",
       "      <td>-0.208664</td>\n",
       "      <td>0.472789</td>\n",
       "      <td>...</td>\n",
       "      <td>0.892918</td>\n",
       "      <td>0.720732</td>\n",
       "      <td>0.449747</td>\n",
       "      <td>-0.426942</td>\n",
       "      <td>-0.124617</td>\n",
       "      <td>0.315916</td>\n",
       "      <td>-0.103766</td>\n",
       "      <td>0.404357</td>\n",
       "      <td>0.496085</td>\n",
       "      <td>0.592197</td>\n",
       "    </tr>\n",
       "    <tr>\n",
       "      <th>1</th>\n",
       "      <td>TCGA-02-0055</td>\n",
       "      <td>TCGA-02-0055</td>\n",
       "      <td>-1.415149</td>\n",
       "      <td>-0.924220</td>\n",
       "      <td>0.989714</td>\n",
       "      <td>0.832798</td>\n",
       "      <td>-1.310335</td>\n",
       "      <td>-0.862469</td>\n",
       "      <td>1.135422</td>\n",
       "      <td>0.803843</td>\n",
       "      <td>...</td>\n",
       "      <td>0.315916</td>\n",
       "      <td>-0.519653</td>\n",
       "      <td>0.803843</td>\n",
       "      <td>1.609816</td>\n",
       "      <td>-0.775547</td>\n",
       "      <td>1.896823</td>\n",
       "      <td>-2.641070</td>\n",
       "      <td>2.244607</td>\n",
       "      <td>-0.062188</td>\n",
       "      <td>0.166494</td>\n",
       "    </tr>\n",
       "    <tr>\n",
       "      <th>2</th>\n",
       "      <td>TCGA-02-2486</td>\n",
       "      <td>TCGA-02-2486</td>\n",
       "      <td>-0.592197</td>\n",
       "      <td>0.989714</td>\n",
       "      <td>1.609816</td>\n",
       "      <td>0.617068</td>\n",
       "      <td>-0.208664</td>\n",
       "      <td>-2.641070</td>\n",
       "      <td>0.862469</td>\n",
       "      <td>1.415149</td>\n",
       "      <td>...</td>\n",
       "      <td>0.989714</td>\n",
       "      <td>1.218220</td>\n",
       "      <td>-0.803843</td>\n",
       "      <td>-0.294213</td>\n",
       "      <td>1.310335</td>\n",
       "      <td>0.381976</td>\n",
       "      <td>-1.473947</td>\n",
       "      <td>0.020717</td>\n",
       "      <td>1.415149</td>\n",
       "      <td>0.694126</td>\n",
       "    </tr>\n",
       "    <tr>\n",
       "      <th>3</th>\n",
       "      <td>TCGA-06-0129</td>\n",
       "      <td>TCGA-06-0129</td>\n",
       "      <td>-0.803843</td>\n",
       "      <td>0.694126</td>\n",
       "      <td>-0.272648</td>\n",
       "      <td>-0.519653</td>\n",
       "      <td>2.641070</td>\n",
       "      <td>1.096804</td>\n",
       "      <td>-0.747859</td>\n",
       "      <td>0.989714</td>\n",
       "      <td>...</td>\n",
       "      <td>-0.208664</td>\n",
       "      <td>-1.024106</td>\n",
       "      <td>-0.567686</td>\n",
       "      <td>0.519653</td>\n",
       "      <td>1.538334</td>\n",
       "      <td>-2.641070</td>\n",
       "      <td>-0.404357</td>\n",
       "      <td>-2.244607</td>\n",
       "      <td>2.641070</td>\n",
       "      <td>0.187537</td>\n",
       "    </tr>\n",
       "    <tr>\n",
       "      <th>4</th>\n",
       "      <td>TCGA-06-0130</td>\n",
       "      <td>TCGA-06-0130</td>\n",
       "      <td>-0.956454</td>\n",
       "      <td>2.040281</td>\n",
       "      <td>1.310335</td>\n",
       "      <td>1.896823</td>\n",
       "      <td>0.642327</td>\n",
       "      <td>-0.062188</td>\n",
       "      <td>1.784268</td>\n",
       "      <td>1.784268</td>\n",
       "      <td>...</td>\n",
       "      <td>2.040281</td>\n",
       "      <td>-0.082959</td>\n",
       "      <td>-0.617068</td>\n",
       "      <td>-0.103766</td>\n",
       "      <td>1.096804</td>\n",
       "      <td>0.000000</td>\n",
       "      <td>-1.896823</td>\n",
       "      <td>1.609816</td>\n",
       "      <td>1.609816</td>\n",
       "      <td>2.641070</td>\n",
       "    </tr>\n",
       "  </tbody>\n",
       "</table>\n",
       "<p>5 rows × 743 columns</p>\n",
       "</div>"
      ],
      "text/plain": [
       "            FID           IID       ID2     ERAP2     VAMP8    FAM89B  \\\n",
       "0  TCGA-02-0047  TCGA-02-0047 -0.832798  0.208664 -0.381976 -0.124617   \n",
       "1  TCGA-02-0055  TCGA-02-0055 -1.415149 -0.924220  0.989714  0.832798   \n",
       "2  TCGA-02-2486  TCGA-02-2486 -0.592197  0.989714  1.609816  0.617068   \n",
       "3  TCGA-06-0129  TCGA-06-0129 -0.803843  0.694126 -0.272648 -0.519653   \n",
       "4  TCGA-06-0130  TCGA-06-0130 -0.956454  2.040281  1.310335  1.896823   \n",
       "\n",
       "     RASSF4     MYBL2     MYCBP       LYN  ...   dice.M2  dice.TH1  \\\n",
       "0  1.135422 -0.041444 -0.208664  0.472789  ...  0.892918  0.720732   \n",
       "1 -1.310335 -0.862469  1.135422  0.803843  ...  0.315916 -0.519653   \n",
       "2 -0.208664 -2.641070  0.862469  1.415149  ...  0.989714  1.218220   \n",
       "3  2.641070  1.096804 -0.747859  0.989714  ... -0.208664 -1.024106   \n",
       "4  0.642327 -0.062188  1.784268  1.784268  ...  2.040281 -0.082959   \n",
       "\n",
       "   LM22.T.cells.CD4.memory.resting  LM22.T.cells.follicular.helper  \\\n",
       "0                         0.449747                       -0.426942   \n",
       "1                         0.803843                        1.609816   \n",
       "2                        -0.803843                       -0.294213   \n",
       "3                        -0.567686                        0.519653   \n",
       "4                        -0.617068                       -0.103766   \n",
       "\n",
       "   LM22.Macrophages.M2  HNSCC.Fibroblast  HNSCC.Endothelial  melanoma.CAF  \\\n",
       "0            -0.124617          0.315916          -0.103766      0.404357   \n",
       "1            -0.775547          1.896823          -2.641070      2.244607   \n",
       "2             1.310335          0.381976          -1.473947      0.020717   \n",
       "3             1.538334         -2.641070          -0.404357     -2.244607   \n",
       "4             1.096804          0.000000          -1.896823      1.609816   \n",
       "\n",
       "   melanoma.Macrophages  NSCLC.Fig2ab.B.cells  \n",
       "0              0.496085              0.592197  \n",
       "1             -0.062188              0.166494  \n",
       "2              1.415149              0.694126  \n",
       "3              2.641070              0.187537  \n",
       "4              1.609816              2.641070  \n",
       "\n",
       "[5 rows x 743 columns]"
      ]
     },
     "execution_count": 104,
     "metadata": {},
     "output_type": "execute_result"
    }
   ],
   "source": [
    "pheno=pd.read_csv(\"/cellar/users/mpagadal/Data/projects/germline-immune/processed_phenos/pancanatlas/pheno_all_zcancer\",delimiter=\"\\t\")\n",
    "pheno.head()"
   ]
  },
  {
   "cell_type": "code",
   "execution_count": 105,
   "metadata": {},
   "outputs": [
    {
     "data": {
      "text/plain": [
       "(array([ 962.,    0.,    0.,    0.,   13.,  332., 2030., 3280., 1407.,\n",
       "         165.]),\n",
       " array([-9.        , -7.777602  , -6.55520401, -5.33280601, -4.11040802,\n",
       "        -2.88801002, -1.66561203, -0.44321403,  0.77918396,  2.00158196,\n",
       "         3.22397995]),\n",
       " <a list of 10 Patch objects>)"
      ]
     },
     "execution_count": 105,
     "metadata": {},
     "output_type": "execute_result"
    },
    {
     "data": {
      "image/png": "[encoded data removed]",
      "text/plain": [
       "<Figure size 432x288 with 1 Axes>"
      ]
     },
     "metadata": {},
     "output_type": "display_data"
    }
   ],
   "source": [
    "plt.hist(pheno[\"KIF3B\"])"
   ]
  },
  {
   "cell_type": "markdown",
   "metadata": {},
   "source": [
    "## Get Pearson correlation"
   ]
  },
  {
   "cell_type": "code",
   "execution_count": 106,
   "metadata": {},
   "outputs": [],
   "source": [
    "fam=pd.read_csv(\"/nrnb/users/mpagadal/tcga-genotypes/imputation/michigan-imputation/HRC/european.final.noimmunecancers.clean.fam\",header=None,sep=\" \")"
   ]
  },
  {
   "cell_type": "code",
   "execution_count": 107,
   "metadata": {},
   "outputs": [],
   "source": [
    "del pheno[\"IID\"]"
   ]
  },
  {
   "cell_type": "code",
   "execution_count": 108,
   "metadata": {},
   "outputs": [],
   "source": [
    "pheno=pheno.replace(-9, np.nan)"
   ]
  },
  {
   "cell_type": "code",
   "execution_count": 109,
   "metadata": {},
   "outputs": [],
   "source": [
    "pheno_corr=pheno.corr(method=\"pearson\")"
   ]
  },
  {
   "cell_type": "code",
   "execution_count": 110,
   "metadata": {},
   "outputs": [],
   "source": [
    "pheno_corr.to_csv(\"/cellar/users/mpagadal/Data/projects/germline-immune/immune-phenotype-pearson/pancan.immune.phenotypes.pearson.csv\")"
   ]
  },
  {
   "cell_type": "code",
   "execution_count": null,
   "metadata": {},
   "outputs": [],
   "source": []
  },
  {
   "cell_type": "code",
   "execution_count": null,
   "metadata": {},
   "outputs": [],
   "source": []
  },
  {
   "cell_type": "code",
   "execution_count": null,
   "metadata": {},
   "outputs": [],
   "source": []
  }
 ],
 "metadata": {
  "kernelspec": {
   "display_name": "Python 3",
   "language": "python",
   "name": "python3"
  },
  "language_info": {
   "codemirror_mode": {
    "name": "ipython",
    "version": 3
   },
   "file_extension": ".py",
   "mimetype": "text/x-python",
   "name": "python",
   "nbconvert_exporter": "python",
   "pygments_lexer": "ipython3",
   "version": "3.7.7"
  }
 },
 "nbformat": 4,
 "nbformat_minor": 4
}
