{
 "cells": [
  {
   "cell_type": "code",
   "execution_count": 1,
   "metadata": {},
   "outputs": [],
   "source": [
    "import pandas as pd\n",
    "import os\n",
    "import matplotlib.pyplot as plt\n",
    "import seaborn as sns\n",
    "import numpy as np\n",
    "import json"
   ]
  },
  {
   "cell_type": "markdown",
   "metadata": {},
   "source": [
    "## Process PanCanAtlas file"
   ]
  },
  {
   "cell_type": "code",
   "execution_count": 2,
   "metadata": {
    "scrolled": true
   },
   "outputs": [],
   "source": [
    "rna=pd.read_csv(\"/cellar/users/mpagadal/Data/resources/immune-landscape/EBPlusPlusAdjustPANCAN_IlluminaHiSeq_RNASeqV2.geneExp.tsv\",delimiter=\"\\t\")\n",
    "rna=rna.set_index(\"gene_id\")\n",
    "rna=rna.T\n",
    "rna.columns=[x.split(\"|\")[0] for x in rna.columns]"
   ]
  },
  {
   "cell_type": "code",
   "execution_count": 3,
   "metadata": {},
   "outputs": [
    {
     "name": "stdout",
     "output_type": "stream",
     "text": [
      "(11069, 20531)\n"
     ]
    }
   ],
   "source": [
    "print(rna.shape)"
   ]
  },
  {
   "cell_type": "code",
   "execution_count": 4,
   "metadata": {},
   "outputs": [],
   "source": [
    "rna[\"code\"]=rna.index.str.split(\"-\").str[3]\n",
    "rna[\"barcode\"]=rna.index.str[0:12]"
   ]
  },
  {
   "cell_type": "code",
   "execution_count": 5,
   "metadata": {},
   "outputs": [],
   "source": [
    "canc = pd.read_csv(\"/nrnb/users/mpagadal/tcga-genotypes/birdseed-processing/gtype.meta\", delimiter=\"\\t\", header=None)\n",
    "mp = canc.set_index(2)[0].to_dict()\n",
    "rna[\"cancer\"]=rna[\"barcode\"].map(mp)"
   ]
  },
  {
   "cell_type": "code",
   "execution_count": 6,
   "metadata": {},
   "outputs": [],
   "source": [
    "rna_normal=rna[rna[\"code\"].str.startswith(\"1\")]"
   ]
  },
  {
   "cell_type": "code",
   "execution_count": 7,
   "metadata": {},
   "outputs": [
    {
     "data": {
      "text/plain": [
       "11A    719\n",
       "11B     17\n",
       "11C      1\n",
       "Name: code, dtype: int64"
      ]
     },
     "execution_count": 7,
     "metadata": {},
     "output_type": "execute_result"
    }
   ],
   "source": [
    "rna_normal[\"code\"].value_counts()"
   ]
  },
  {
   "cell_type": "code",
   "execution_count": 8,
   "metadata": {},
   "outputs": [],
   "source": [
    "#convert index to short barcodes\n",
    "del rna_normal[\"code\"]\n",
    "del rna_normal[\"cancer\"]\n",
    "rna_normal.index=rna_normal[\"barcode\"]\n",
    "del rna_normal[\"barcode\"]"
   ]
  },
  {
   "cell_type": "code",
   "execution_count": 9,
   "metadata": {},
   "outputs": [
    {
     "name": "stdout",
     "output_type": "stream",
     "text": [
      "(737, 20531)\n"
     ]
    }
   ],
   "source": [
    "print(rna_normal.shape)"
   ]
  },
  {
   "cell_type": "code",
   "execution_count": 10,
   "metadata": {},
   "outputs": [],
   "source": [
    "cols=[x for x in rna_normal.columns if x!=\"?\"]\n",
    "rna_normal=rna_normal[cols]"
   ]
  },
  {
   "cell_type": "code",
   "execution_count": 11,
   "metadata": {},
   "outputs": [],
   "source": [
    "#take mean for individuals with multiple samples\n",
    "rna=rna_normal\n",
    "rna=rna.groupby(rna.index).mean()"
   ]
  },
  {
   "cell_type": "code",
   "execution_count": 12,
   "metadata": {},
   "outputs": [],
   "source": [
    "rna = rna.apply(pd.to_numeric,errors=\"coerce\")"
   ]
  },
  {
   "cell_type": "markdown",
   "metadata": {},
   "source": [
    "## Retrieve immune microenvironment phenotypes"
   ]
  },
  {
   "cell_type": "code",
   "execution_count": 13,
   "metadata": {},
   "outputs": [],
   "source": [
    "genes=pd.read_csv(\"/cellar/users/mpagadal/Data/projects/germline-immune/downloaded_phenos/all_rna_lst.txt\",delimiter=\"\\t\",header=None)[0].tolist()"
   ]
  },
  {
   "cell_type": "code",
   "execution_count": 14,
   "metadata": {},
   "outputs": [],
   "source": [
    "#map to alternative ids\n",
    "mp_ids={\"CMC2\":\"C16orf61\",\n",
    "    \"ADGRE5\":\"CD97\",\n",
    "    \"SPRYD7\":\"C13orf1\",\n",
    "    \"JCHAIN\":\"IGJ\",\n",
    "    \"CTSL\":\"CTSL1\",\n",
    "    \"CTSV\":\"CTSL2\",\n",
    "     \"TEX30\":\"C13orf27\",\n",
    "     \"CENPU\":\"MLF1IP\",\n",
    "     \"CMSS1\":\"C3orf26\",\n",
    "     \"FAM216A\":\"C12orf24\",\n",
    "     \"HACD2\":\"PTPLB\",\n",
    "    \"MARCHF1\":\"MARCH1\"}\n",
    "\n",
    "final_genes=[]\n",
    "for x in genes:\n",
    "    if x in [x for x in mp_ids.keys()]:\n",
    "        final_genes.append(mp_ids[x])\n",
    "    else:\n",
    "        final_genes.append(x)"
   ]
  },
  {
   "cell_type": "markdown",
   "metadata": {},
   "source": [
    "### update phenotype dictionary"
   ]
  },
  {
   "cell_type": "code",
   "execution_count": 15,
   "metadata": {},
   "outputs": [],
   "source": [
    "with open('pheno_dictionary.json', 'r') as f:\n",
    "    pheno_dict = json.load(f)"
   ]
  },
  {
   "cell_type": "code",
   "execution_count": 16,
   "metadata": {},
   "outputs": [],
   "source": [
    "for x in mp_ids.keys():\n",
    "    pheno_dict[mp_ids[x]]=pheno_dict[x]"
   ]
  },
  {
   "cell_type": "code",
   "execution_count": 17,
   "metadata": {},
   "outputs": [
    {
     "name": "stdout",
     "output_type": "stream",
     "text": [
      "These genes are missing\n"
     ]
    },
    {
     "data": {
      "text/plain": [
       "['IGLC1', 'HLA-DRB3', 'KIR2DL2', 'IGHG3', 'HLA-DRB4']"
      ]
     },
     "execution_count": 17,
     "metadata": {},
     "output_type": "execute_result"
    }
   ],
   "source": [
    "print(\"These genes are missing\")\n",
    "[x for x in set(final_genes) if x not in rna.columns]"
   ]
  },
  {
   "cell_type": "code",
   "execution_count": 18,
   "metadata": {},
   "outputs": [],
   "source": [
    "final_genes=[x for x in set(final_genes) if x in rna.columns]"
   ]
  },
  {
   "cell_type": "code",
   "execution_count": 19,
   "metadata": {},
   "outputs": [],
   "source": [
    "#filter for immune genes\n",
    "rna_immune=rna[final_genes]"
   ]
  },
  {
   "cell_type": "code",
   "execution_count": 20,
   "metadata": {},
   "outputs": [],
   "source": [
    "rna_immune_final=rna_immune.reset_index().rename(columns={\"barcode\":\"FID\"}).set_index(\"FID\")"
   ]
  },
  {
   "cell_type": "markdown",
   "metadata": {},
   "source": [
    "### Get only phenotypes with less than 10% zero values"
   ]
  },
  {
   "cell_type": "code",
   "execution_count": 21,
   "metadata": {},
   "outputs": [],
   "source": [
    "def filter_zeros(df,threshold):\n",
    "    '''\n",
    "    inputs:\n",
    "    df: dataframe of rna values\n",
    "    threshold: % of zero values by which to exclude phenotypes\n",
    "    \n",
    "    output:\n",
    "    dataframe with rna values < threshold of zero values\n",
    "    '''\n",
    "    \n",
    "    keep=[]\n",
    "    remove=[]\n",
    "    \n",
    "    for x in df.columns:\n",
    "        if len(df[df[x]==0])>threshold*len(df):\n",
    "            remove.append(x)\n",
    "        else:\n",
    "            keep.append(x)\n",
    "    \n",
    "    print(\"{} phenotypes with > {} zeroes were removed\".format(len(remove),threshold))\n",
    "    return(df[keep])\n",
    "        "
   ]
  },
  {
   "cell_type": "code",
   "execution_count": 22,
   "metadata": {},
   "outputs": [
    {
     "name": "stdout",
     "output_type": "stream",
     "text": [
      "32 phenotypes with > 0.1 zeroes were removed\n"
     ]
    }
   ],
   "source": [
    "rna_immune_final=filter_zeros(rna_immune_final,0.1)"
   ]
  },
  {
   "cell_type": "markdown",
   "metadata": {},
   "source": [
    "### filter for genotyped individuals"
   ]
  },
  {
   "cell_type": "code",
   "execution_count": 26,
   "metadata": {},
   "outputs": [],
   "source": [
    "#get genotyped patients\n",
    "fam=pd.read_csv(\"/nrnb/users/mpagadal/tcga-genotypes/imputation/michigan-imputation/HRC/european.final.noimmunecancers.clean.fam\",header=None,sep=\" \")[0].tolist()"
   ]
  },
  {
   "cell_type": "code",
   "execution_count": 40,
   "metadata": {},
   "outputs": [],
   "source": [
    "tcga_df=rna_immune_final[rna_immune_final.index.isin(fam)]"
   ]
  },
  {
   "cell_type": "code",
   "execution_count": 41,
   "metadata": {},
   "outputs": [
    {
     "name": "stdout",
     "output_type": "stream",
     "text": [
      "(615, 728)\n"
     ]
    },
    {
     "data": {
      "text/html": [
       "<div>\n",
       "<style scoped>\n",
       "    .dataframe tbody tr th:only-of-type {\n",
       "        vertical-align: middle;\n",
       "    }\n",
       "\n",
       "    .dataframe tbody tr th {\n",
       "        vertical-align: top;\n",
       "    }\n",
       "\n",
       "    .dataframe thead th {\n",
       "        text-align: right;\n",
       "    }\n",
       "</style>\n",
       "<table border=\"1\" class=\"dataframe\">\n",
       "  <thead>\n",
       "    <tr style=\"text-align: right;\">\n",
       "      <th></th>\n",
       "      <th>FCGR2B</th>\n",
       "      <th>CREBBP</th>\n",
       "      <th>IGJ</th>\n",
       "      <th>SEC24B</th>\n",
       "      <th>RUVBL1</th>\n",
       "      <th>TPM2</th>\n",
       "      <th>CXCL9</th>\n",
       "      <th>PSMC4</th>\n",
       "      <th>RAB3C</th>\n",
       "      <th>CD68</th>\n",
       "      <th>...</th>\n",
       "      <th>AP1B1</th>\n",
       "      <th>ITGA6</th>\n",
       "      <th>CSF1R</th>\n",
       "      <th>VSIG4</th>\n",
       "      <th>TAPBP</th>\n",
       "      <th>PSMD5</th>\n",
       "      <th>CD80</th>\n",
       "      <th>CTSF</th>\n",
       "      <th>CD70</th>\n",
       "      <th>MAGOHB</th>\n",
       "    </tr>\n",
       "    <tr>\n",
       "      <th>FID</th>\n",
       "      <th></th>\n",
       "      <th></th>\n",
       "      <th></th>\n",
       "      <th></th>\n",
       "      <th></th>\n",
       "      <th></th>\n",
       "      <th></th>\n",
       "      <th></th>\n",
       "      <th></th>\n",
       "      <th></th>\n",
       "      <th></th>\n",
       "      <th></th>\n",
       "      <th></th>\n",
       "      <th></th>\n",
       "      <th></th>\n",
       "      <th></th>\n",
       "      <th></th>\n",
       "      <th></th>\n",
       "      <th></th>\n",
       "      <th></th>\n",
       "      <th></th>\n",
       "    </tr>\n",
       "  </thead>\n",
       "  <tbody>\n",
       "    <tr>\n",
       "      <th>TCGA-22-4593</th>\n",
       "      <td>421.422</td>\n",
       "      <td>1350.88</td>\n",
       "      <td>10413.90</td>\n",
       "      <td>976.143</td>\n",
       "      <td>874.369</td>\n",
       "      <td>1957.21</td>\n",
       "      <td>679.981</td>\n",
       "      <td>1743.52</td>\n",
       "      <td>3.8900</td>\n",
       "      <td>19709.30</td>\n",
       "      <td>...</td>\n",
       "      <td>4618.78</td>\n",
       "      <td>2876.82</td>\n",
       "      <td>6321.07</td>\n",
       "      <td>6944.00</td>\n",
       "      <td>7424.29</td>\n",
       "      <td>996.112</td>\n",
       "      <td>73.6516</td>\n",
       "      <td>1179.72</td>\n",
       "      <td>14.5228</td>\n",
       "      <td>191.131</td>\n",
       "    </tr>\n",
       "    <tr>\n",
       "      <th>TCGA-22-4609</th>\n",
       "      <td>542.598</td>\n",
       "      <td>3030.73</td>\n",
       "      <td>21814.60</td>\n",
       "      <td>984.288</td>\n",
       "      <td>465.136</td>\n",
       "      <td>2194.13</td>\n",
       "      <td>1565.290</td>\n",
       "      <td>1082.75</td>\n",
       "      <td>1.0475</td>\n",
       "      <td>9368.02</td>\n",
       "      <td>...</td>\n",
       "      <td>2841.48</td>\n",
       "      <td>2506.98</td>\n",
       "      <td>1948.67</td>\n",
       "      <td>2263.97</td>\n",
       "      <td>5972.77</td>\n",
       "      <td>791.899</td>\n",
       "      <td>65.2933</td>\n",
       "      <td>1265.36</td>\n",
       "      <td>16.0615</td>\n",
       "      <td>203.212</td>\n",
       "    </tr>\n",
       "    <tr>\n",
       "      <th>TCGA-22-5471</th>\n",
       "      <td>185.360</td>\n",
       "      <td>2641.27</td>\n",
       "      <td>11806.90</td>\n",
       "      <td>1042.380</td>\n",
       "      <td>891.712</td>\n",
       "      <td>1502.14</td>\n",
       "      <td>182.791</td>\n",
       "      <td>1196.92</td>\n",
       "      <td>0.4281</td>\n",
       "      <td>22016.70</td>\n",
       "      <td>...</td>\n",
       "      <td>3683.65</td>\n",
       "      <td>1818.07</td>\n",
       "      <td>3003.85</td>\n",
       "      <td>8972.17</td>\n",
       "      <td>7131.42</td>\n",
       "      <td>803.082</td>\n",
       "      <td>86.0445</td>\n",
       "      <td>1205.48</td>\n",
       "      <td>2.5685</td>\n",
       "      <td>106.593</td>\n",
       "    </tr>\n",
       "    <tr>\n",
       "      <th>TCGA-22-5472</th>\n",
       "      <td>396.713</td>\n",
       "      <td>2901.54</td>\n",
       "      <td>11446.00</td>\n",
       "      <td>1319.300</td>\n",
       "      <td>726.940</td>\n",
       "      <td>3869.23</td>\n",
       "      <td>404.145</td>\n",
       "      <td>1161.69</td>\n",
       "      <td>0.7688</td>\n",
       "      <td>18407.20</td>\n",
       "      <td>...</td>\n",
       "      <td>3880.25</td>\n",
       "      <td>2342.09</td>\n",
       "      <td>4179.07</td>\n",
       "      <td>4731.85</td>\n",
       "      <td>8000.89</td>\n",
       "      <td>847.499</td>\n",
       "      <td>129.4190</td>\n",
       "      <td>1154.00</td>\n",
       "      <td>4.8692</td>\n",
       "      <td>130.187</td>\n",
       "    </tr>\n",
       "    <tr>\n",
       "      <th>TCGA-22-5478</th>\n",
       "      <td>377.459</td>\n",
       "      <td>3436.39</td>\n",
       "      <td>4201.46</td>\n",
       "      <td>1180.690</td>\n",
       "      <td>486.700</td>\n",
       "      <td>1086.53</td>\n",
       "      <td>1535.090</td>\n",
       "      <td>1022.02</td>\n",
       "      <td>0.2745</td>\n",
       "      <td>19590.00</td>\n",
       "      <td>...</td>\n",
       "      <td>3211.56</td>\n",
       "      <td>2451.97</td>\n",
       "      <td>2932.10</td>\n",
       "      <td>7374.86</td>\n",
       "      <td>7523.65</td>\n",
       "      <td>949.275</td>\n",
       "      <td>94.4334</td>\n",
       "      <td>1324.81</td>\n",
       "      <td>10.4316</td>\n",
       "      <td>130.120</td>\n",
       "    </tr>\n",
       "  </tbody>\n",
       "</table>\n",
       "<p>5 rows × 728 columns</p>\n",
       "</div>"
      ],
      "text/plain": [
       "               FCGR2B   CREBBP       IGJ    SEC24B   RUVBL1     TPM2  \\\n",
       "FID                                                                    \n",
       "TCGA-22-4593  421.422  1350.88  10413.90   976.143  874.369  1957.21   \n",
       "TCGA-22-4609  542.598  3030.73  21814.60   984.288  465.136  2194.13   \n",
       "TCGA-22-5471  185.360  2641.27  11806.90  1042.380  891.712  1502.14   \n",
       "TCGA-22-5472  396.713  2901.54  11446.00  1319.300  726.940  3869.23   \n",
       "TCGA-22-5478  377.459  3436.39   4201.46  1180.690  486.700  1086.53   \n",
       "\n",
       "                 CXCL9    PSMC4   RAB3C      CD68  ...    AP1B1    ITGA6  \\\n",
       "FID                                                ...                     \n",
       "TCGA-22-4593   679.981  1743.52  3.8900  19709.30  ...  4618.78  2876.82   \n",
       "TCGA-22-4609  1565.290  1082.75  1.0475   9368.02  ...  2841.48  2506.98   \n",
       "TCGA-22-5471   182.791  1196.92  0.4281  22016.70  ...  3683.65  1818.07   \n",
       "TCGA-22-5472   404.145  1161.69  0.7688  18407.20  ...  3880.25  2342.09   \n",
       "TCGA-22-5478  1535.090  1022.02  0.2745  19590.00  ...  3211.56  2451.97   \n",
       "\n",
       "                CSF1R    VSIG4    TAPBP    PSMD5      CD80     CTSF     CD70  \\\n",
       "FID                                                                            \n",
       "TCGA-22-4593  6321.07  6944.00  7424.29  996.112   73.6516  1179.72  14.5228   \n",
       "TCGA-22-4609  1948.67  2263.97  5972.77  791.899   65.2933  1265.36  16.0615   \n",
       "TCGA-22-5471  3003.85  8972.17  7131.42  803.082   86.0445  1205.48   2.5685   \n",
       "TCGA-22-5472  4179.07  4731.85  8000.89  847.499  129.4190  1154.00   4.8692   \n",
       "TCGA-22-5478  2932.10  7374.86  7523.65  949.275   94.4334  1324.81  10.4316   \n",
       "\n",
       "               MAGOHB  \n",
       "FID                    \n",
       "TCGA-22-4593  191.131  \n",
       "TCGA-22-4609  203.212  \n",
       "TCGA-22-5471  106.593  \n",
       "TCGA-22-5472  130.187  \n",
       "TCGA-22-5478  130.120  \n",
       "\n",
       "[5 rows x 728 columns]"
      ]
     },
     "execution_count": 41,
     "metadata": {},
     "output_type": "execute_result"
    }
   ],
   "source": [
    "print(tcga_df.shape)\n",
    "tcga_df.head()"
   ]
  },
  {
   "cell_type": "markdown",
   "metadata": {},
   "source": [
    "## Zscore by cancer"
   ]
  },
  {
   "cell_type": "code",
   "execution_count": 43,
   "metadata": {},
   "outputs": [],
   "source": [
    "tcga_df=tcga_df.reset_index()"
   ]
  },
  {
   "cell_type": "code",
   "execution_count": 44,
   "metadata": {},
   "outputs": [],
   "source": [
    "canc = pd.read_csv(\"/nrnb/users/mpagadal/tcga-genotypes/birdseed-processing/gtype.meta\", delimiter=\"\\t\", header=None)\n",
    "mp = canc.set_index(2)[0].to_dict()\n",
    "#total['cancer'] = total[\"FID\"].map(mp)\n",
    "tcga_df[\"cancer\"]=tcga_df.FID.map(mp)"
   ]
  },
  {
   "cell_type": "code",
   "execution_count": 45,
   "metadata": {},
   "outputs": [],
   "source": [
    "for x in tcga_df[\"cancer\"].unique():\n",
    "    try:\n",
    "        tumor=tcga_df[tcga_df[\"cancer\"]==x]\n",
    "        del tumor[\"cancer\"]\n",
    "        tumor.to_csv(\"/cellar/users/mpagadal/Data/projects/germline-immune/processed_phenos/pancanatlas/normal/pheno_\"+x+\".unnorm.csv\",index=None,sep=\"\\t\")\n",
    "    except:\n",
    "        print(x)\n",
    "    \n",
    "    "
   ]
  },
  {
   "cell_type": "markdown",
   "metadata": {},
   "source": [
    "### To get inverse rank normalized phenos"
   ]
  },
  {
   "cell_type": "markdown",
   "metadata": {},
   "source": [
    "Rscript run-rank-norm.R rna_phenos"
   ]
  },
  {
   "cell_type": "code",
   "execution_count": 46,
   "metadata": {},
   "outputs": [],
   "source": [
    "cancers=tcga_df[\"cancer\"].unique().tolist()"
   ]
  },
  {
   "cell_type": "code",
   "execution_count": 47,
   "metadata": {},
   "outputs": [],
   "source": [
    "compiled=pd.DataFrame()\n",
    "for x in cancers:\n",
    "    df=pd.read_csv(\"/cellar/users/mpagadal/Data/projects/germline-immune/processed_phenos/pancanatlas/normal/pheno_\"+x+\".rank.csv\",delimiter=\"\\t\")\n",
    "    df[\"cancer\"]=x\n",
    "    compiled=compiled.append(df)"
   ]
  },
  {
   "cell_type": "markdown",
   "metadata": {},
   "source": [
    "### Confirm phenos are z-scored by cancer"
   ]
  },
  {
   "cell_type": "code",
   "execution_count": 48,
   "metadata": {},
   "outputs": [
    {
     "data": {
      "text/plain": [
       "Text(0.5, 1.0, 'FGR')"
      ]
     },
     "execution_count": 48,
     "metadata": {},
     "output_type": "execute_result"
    },
    {
     "data": {
      "image/png": "[encoded data removed]",
      "text/plain": [
       "<Figure size 1440x360 with 1 Axes>"
      ]
     },
     "metadata": {},
     "output_type": "display_data"
    }
   ],
   "source": [
    "x=\"FGR\"\n",
    "#plot rna expression by cancer type\n",
    "sns.set(style=\"whitegrid\", font_scale = 1)\n",
    "plt.figure(figsize=(20,5))\n",
    "sns.set_style(\"whitegrid\", {'axes.grid' : False})\n",
    "ax = sns.boxplot(x=\"cancer\", y=x, data=compiled)\n",
    "ax.set(xlabel=\"cancer\", ylabel='rank norm FGR')\n",
    "plt.xticks(rotation=30)\n",
    "plt.title(x)"
   ]
  },
  {
   "cell_type": "markdown",
   "metadata": {},
   "source": [
    "## Format for plink"
   ]
  },
  {
   "cell_type": "code",
   "execution_count": 49,
   "metadata": {},
   "outputs": [],
   "source": [
    "del compiled[\"cancer\"]"
   ]
  },
  {
   "cell_type": "code",
   "execution_count": 51,
   "metadata": {},
   "outputs": [],
   "source": [
    "compiled[\"IID\"]=compiled[\"FID\"]\n",
    "cols=[\"FID\",\"IID\"]+compiled.columns.tolist()[1:-1]\n",
    "compiled=compiled[cols]\n",
    "compiled.columns=[x.replace(\"-\",\".\") for x in compiled.columns]\n",
    "compiled=compiled.fillna(-9)"
   ]
  },
  {
   "cell_type": "code",
   "execution_count": 52,
   "metadata": {},
   "outputs": [],
   "source": [
    "compiled.to_csv(\"/cellar/users/mpagadal/Data/projects/germline-immune/processed_phenos/pancanatlas/normal/pheno_all_zcancer\",index=None,sep=\"\\t\")"
   ]
  },
  {
   "cell_type": "code",
   "execution_count": null,
   "metadata": {},
   "outputs": [],
   "source": []
  },
  {
   "cell_type": "code",
   "execution_count": null,
   "metadata": {},
   "outputs": [],
   "source": []
  },
  {
   "cell_type": "code",
   "execution_count": null,
   "metadata": {},
   "outputs": [],
   "source": []
  }
 ],
 "metadata": {
  "kernelspec": {
   "display_name": "Python 3",
   "language": "python",
   "name": "python3"
  },
  "language_info": {
   "codemirror_mode": {
    "name": "ipython",
    "version": 3
   },
   "file_extension": ".py",
   "mimetype": "text/x-python",
   "name": "python",
   "nbconvert_exporter": "python",
   "pygments_lexer": "ipython3",
   "version": "3.7.7"
  }
 },
 "nbformat": 4,
 "nbformat_minor": 4
}
