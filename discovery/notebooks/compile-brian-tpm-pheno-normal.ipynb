{
 "cells": [
  {
   "cell_type": "code",
   "execution_count": 1,
   "metadata": {},
   "outputs": [],
   "source": [
    "import sys \n",
    "sys.path.append(\"/cellar/users/mpagadal/Programs/anaconda3/lib/python3.7/site-packages\")\n",
    "sys.path.insert(1, '/cellar/users/mpagadal/Data/scripts')\n",
    "import json"
   ]
  },
  {
   "cell_type": "code",
   "execution_count": 2,
   "metadata": {},
   "outputs": [],
   "source": [
    "import pandas as pd\n",
    "import os\n",
    "import matplotlib.pyplot as plt\n",
    "import matplotlib as mpl\n",
    "from itertools import product\n",
    "import seaborn as sns\n",
    "import networkx as nx\n",
    "from ndex2.nice_cx_network import NiceCXNetwork \n",
    "import ndex2.client as nc\n",
    "import ndex2"
   ]
  },
  {
   "cell_type": "code",
   "execution_count": 3,
   "metadata": {},
   "outputs": [],
   "source": [
    "import matplotlib\n",
    "matplotlib.rcParams['pdf.fonttype'] = 42\n",
    "matplotlib.rcParams['ps.fonttype'] = 42"
   ]
  },
  {
   "cell_type": "code",
   "execution_count": 4,
   "metadata": {},
   "outputs": [],
   "source": [
    "from get_brian_rna import *"
   ]
  },
  {
   "cell_type": "code",
   "execution_count": 5,
   "metadata": {},
   "outputs": [],
   "source": [
    "from upsetplot import generate_counts\n",
    "from upsetplot import plot\n",
    "from matplotlib import pyplot"
   ]
  },
  {
   "cell_type": "markdown",
   "metadata": {},
   "source": [
    "## Collect phenotype IDs"
   ]
  },
  {
   "cell_type": "markdown",
   "metadata": {},
   "source": [
    "Our goal was to collect central phenotypes that shape the tumor immune microenvironment. These phenotypes include measures of immune states, immune infiltration and gene expression collected from a variety of sources, including gene sets, literature, and results of tool calculations"
   ]
  },
  {
   "cell_type": "code",
   "execution_count": 6,
   "metadata": {},
   "outputs": [],
   "source": [
    "def filter_zeros(df,threshold):\n",
    "    '''\n",
    "    inputs:\n",
    "    df: dataframe of rna values\n",
    "    threshold: % of zero values by which to exclude phenotypes\n",
    "    \n",
    "    output:\n",
    "    dataframe with rna values < threshold of zero values\n",
    "    '''\n",
    "    \n",
    "    keep=[]\n",
    "    remove=[]\n",
    "    \n",
    "    for x in df.columns:\n",
    "        if len(df[df[x]==0])>threshold*len(df):\n",
    "            remove.append(x)\n",
    "        else:\n",
    "            keep.append(x)\n",
    "    \n",
    "    print(\"{} phenotypes with > {} zeroes were removed\".format(len(remove),threshold))\n",
    "    return(df[keep])\n",
    "        "
   ]
  },
  {
   "cell_type": "code",
   "execution_count": 7,
   "metadata": {},
   "outputs": [],
   "source": [
    "antigen_present=pd.read_csv(\"../downloaded_phenos/antigen_present_geneset.txt\",skiprows=[1])\n",
    "antigen_present_list=antigen_present[\"GO_ANTIGEN_PROCESSING_AND_PRESENTATION\"].tolist()\n",
    "antigen_present_list.append(\"MARCH1\")"
   ]
  },
  {
   "cell_type": "code",
   "execution_count": 8,
   "metadata": {},
   "outputs": [],
   "source": [
    "im_landscape=pd.read_csv(\"../downloaded_phenos/im-landscape-markers.txt\",header=None)\n",
    "im_landscape_list=im_landscape[0].tolist()"
   ]
  },
  {
   "cell_type": "code",
   "execution_count": 9,
   "metadata": {},
   "outputs": [],
   "source": [
    "danaher=pd.read_csv(\"../downloaded_phenos/danaher_markers.csv\")\n",
    "danaher_list=danaher[\"Gene\"].tolist()"
   ]
  },
  {
   "cell_type": "code",
   "execution_count": 10,
   "metadata": {},
   "outputs": [],
   "source": [
    "im_checkpoint=pd.read_csv(\"../downloaded_phenos/immune-checkpoint.csv\")\n",
    "im_checkpoint_list=im_checkpoint[\"HGNC Symbol\"].tolist()\n",
    "im_checkpoint_list=[x for x in im_checkpoint_list if str(x) != \"nan\"]"
   ]
  },
  {
   "cell_type": "code",
   "execution_count": 11,
   "metadata": {},
   "outputs": [],
   "source": [
    "landscape=pd.read_csv(\"../downloaded_phenos/pheno-immune-landscape-comp\",delimiter=\"\\t\")\n",
    "landscape_comps=landscape.columns[2:]"
   ]
  },
  {
   "cell_type": "code",
   "execution_count": 12,
   "metadata": {},
   "outputs": [],
   "source": [
    "ifng=pd.read_csv(\"../downloaded_phenos/ifng-markers.txt\",header=None)\n",
    "ifng_list=ifng[0].tolist()"
   ]
  },
  {
   "cell_type": "code",
   "execution_count": 13,
   "metadata": {},
   "outputs": [],
   "source": [
    "tgfbeta=pd.read_csv(\"../downloaded_phenos/tgf-beta-markers.txt\",header=None)\n",
    "tgfbeta_list=tgfbeta[0].tolist()"
   ]
  },
  {
   "cell_type": "code",
   "execution_count": 14,
   "metadata": {},
   "outputs": [],
   "source": [
    "cibersortx=pd.read_csv(\"/cellar/users/mpagadal/Data/cibersort/cibersortx_compiled_allsig.tsv\",delimiter=\"\\t\")\n",
    "cibersortx_list=[x.replace(\" \",\".\") for x in cibersortx.columns[1:]]"
   ]
  },
  {
   "cell_type": "code",
   "execution_count": 15,
   "metadata": {},
   "outputs": [
    {
     "name": "stdout",
     "output_type": "stream",
     "text": [
      "228\n",
      "436\n",
      "60\n",
      "78\n",
      "6\n",
      "6\n",
      "19\n",
      "61\n"
     ]
    }
   ],
   "source": [
    "print(len(antigen_present_list))\n",
    "print(len(im_landscape_list))\n",
    "print(len(danaher_list))\n",
    "print(len(im_checkpoint_list))\n",
    "print(len(landscape_comps))\n",
    "print(len(ifng_list))\n",
    "print(len(tgfbeta_list))\n",
    "print(len(cibersortx_list))\n"
   ]
  },
  {
   "cell_type": "markdown",
   "metadata": {},
   "source": [
    "### Create phenotype dictionary"
   ]
  },
  {
   "cell_type": "code",
   "execution_count": 16,
   "metadata": {},
   "outputs": [],
   "source": [
    "pheno_dict={}\n",
    "\n",
    "for x in antigen_present_list:\n",
    "    x=x.replace(\"-\",\".\")\n",
    "    pheno_dict[x]=\"antigen present\"\n",
    "for x in im_landscape_list:\n",
    "    x=x.replace(\"-\",\".\")\n",
    "    pheno_dict[x]=\"immunomodulators\"\n",
    "for x in danaher_list:\n",
    "    x=x.replace(\"-\",\".\")\n",
    "    pheno_dict[x]=\"cell type\"\n",
    "for x in im_checkpoint_list:\n",
    "    x=x.replace(\"-\",\".\")\n",
    "    pheno_dict[x]=\"immune checkpoint\"\n",
    "for x in landscape_comps:\n",
    "    x=x.replace(\"-\",\".\")\n",
    "    pheno_dict[x]=\"landscape components\"\n",
    "for x in ifng_list:\n",
    "    x=x.replace(\"-\",\".\")\n",
    "    pheno_dict[x]=\"IFNG\"    \n",
    "for x in tgfbeta_list:\n",
    "    x=x.replace(\"-\",\".\")\n",
    "    pheno_dict[x]=\"TGFbeta\"\n",
    "for x in cibersortx_list:\n",
    "    x=x.replace(\"-\",\".\")\n",
    "    pheno_dict[x]=\"immune infiltration\""
   ]
  },
  {
   "cell_type": "code",
   "execution_count": 17,
   "metadata": {},
   "outputs": [],
   "source": [
    "for x in pheno_dict.keys():\n",
    "    if \"HLA\" in x:\n",
    "        pheno_dict[x]=\"antigen present\""
   ]
  },
  {
   "cell_type": "code",
   "execution_count": 18,
   "metadata": {},
   "outputs": [
    {
     "name": "stdout",
     "output_type": "stream",
     "text": [
      "833\n"
     ]
    }
   ],
   "source": [
    "print(len(pheno_dict))"
   ]
  },
  {
   "cell_type": "code",
   "execution_count": 19,
   "metadata": {},
   "outputs": [],
   "source": [
    "import json\n",
    "with open('pheno_dictionary.json', 'w') as json_file:\n",
    "    json.dump(pheno_dict, json_file)"
   ]
  },
  {
   "cell_type": "code",
   "execution_count": 20,
   "metadata": {},
   "outputs": [],
   "source": [
    "with open('pheno_dictionary.json', 'r') as f:\n",
    "    pheno_dict = json.load(f)"
   ]
  },
  {
   "cell_type": "code",
   "execution_count": 21,
   "metadata": {},
   "outputs": [
    {
     "data": {
      "text/plain": [
       "'immunomodulators'"
      ]
     },
     "execution_count": 21,
     "metadata": {},
     "output_type": "execute_result"
    }
   ],
   "source": [
    "pheno_dict[\"BRCA2\"]"
   ]
  },
  {
   "cell_type": "markdown",
   "metadata": {},
   "source": [
    "## Make phenotype file for PLINK"
   ]
  },
  {
   "cell_type": "markdown",
   "metadata": {},
   "source": [
    "### Collect RNA phenotypes from TPM data"
   ]
  },
  {
   "cell_type": "code",
   "execution_count": 22,
   "metadata": {},
   "outputs": [],
   "source": [
    "def brian_tpm_filter(lst):\n",
    "    #load brian's rna dataframe\n",
    "    colnames = np.loadtxt('/cellar/users/btsui/Data/nrnb01_nobackup/Data/SRA/MATRIX/DATA/hgGRC38/TCGAmatrix.realign.gene.hgnc.columns.txt', dtype=str)\n",
    "    rownames = np.loadtxt('/cellar/users/btsui/Data/nrnb01_nobackup/Data/SRA/MATRIX/DATA/hgGRC38/TCGAmatrix.realign.gene.hgnc.index.txt', dtype=str)\n",
    "    tcga_df = pd.DataFrame(np.load('/cellar/users/btsui/Data/nrnb01_nobackup/Data/SRA/MATRIX/DATA/hgGRC38/TCGAmatrix.realign.gene.hgnc.npy'), index=rownames, columns=colnames)\n",
    "\n",
    "    #get legacy mapping data\n",
    "    legacy_df = pd.read_csv('/cellar/users/andreabc/Data/GDC_barcodes/LEGACY_uuid_barcode_map.txt', \n",
    "                        sep='\\t', index_col='submitter_uuid')\n",
    "    legacy_df = legacy_df.reset_index()\n",
    "    legacy_df = legacy_df[legacy_df.submitter_uuid.notnull()] #get rid of null submitter uuid\n",
    "    \n",
    "    #filter dataframe for genes in list\n",
    "    filt = tcga_df.loc[tcga_df.index.isin(lst),:]\n",
    "    filt =  filt.T\n",
    "    \n",
    "    #map ids to TCGA barcode\n",
    "    dic = dict(zip(legacy_df.submitter_uuid, legacy_df.sample_barcode))\n",
    "    filt.index=filt.index.map(dic)\n",
    "    filt=filt[filt.index.notnull()]\n",
    "\n",
    "    return(filt)"
   ]
  },
  {
   "cell_type": "code",
   "execution_count": 23,
   "metadata": {},
   "outputs": [],
   "source": [
    "all_pheno=antigen_present_list+im_landscape_list+danaher_list+im_checkpoint_list+ifng_list+tgfbeta_list\n",
    "rna=brian_tpm_filter(all_pheno)"
   ]
  },
  {
   "cell_type": "code",
   "execution_count": 24,
   "metadata": {},
   "outputs": [],
   "source": [
    "rna[\"code\"]=rna.index.str.split(\"-\").str[-1]\n",
    "rna[\"barcode\"]=rna.index.str[0:12]"
   ]
  },
  {
   "cell_type": "code",
   "execution_count": 25,
   "metadata": {},
   "outputs": [],
   "source": [
    "canc = pd.read_csv(\"/nrnb/users/mpagadal/tcga-genotypes/birdseed-processing/gtype.meta\", delimiter=\"\\t\", header=None)\n",
    "mp = canc.set_index(2)[0].to_dict()\n",
    "rna[\"cancer\"]=rna[\"barcode\"].map(mp)"
   ]
  },
  {
   "cell_type": "code",
   "execution_count": 34,
   "metadata": {},
   "outputs": [],
   "source": [
    "rna_normal=rna[rna[\"code\"].str.startswith(\"1\")]"
   ]
  },
  {
   "cell_type": "code",
   "execution_count": 35,
   "metadata": {},
   "outputs": [
    {
     "data": {
      "text/plain": [
       "11A    714\n",
       "11B     17\n",
       "11C      1\n",
       "Name: code, dtype: int64"
      ]
     },
     "execution_count": 35,
     "metadata": {},
     "output_type": "execute_result"
    }
   ],
   "source": [
    "rna_normal[\"code\"].value_counts()"
   ]
  },
  {
   "cell_type": "code",
   "execution_count": 36,
   "metadata": {},
   "outputs": [],
   "source": [
    "#convert index to short barcodes\n",
    "del rna_normal[\"code\"]\n",
    "del rna_normal[\"cancer\"]\n",
    "rna_normal.index=rna_normal[\"barcode\"]\n",
    "del rna_normal[\"barcode\"]"
   ]
  },
  {
   "cell_type": "code",
   "execution_count": 37,
   "metadata": {},
   "outputs": [],
   "source": [
    "#take mean for individuals with multiple samples\n",
    "rna=rna_normal\n",
    "rna=rna.groupby(rna.index).mean()"
   ]
  },
  {
   "cell_type": "code",
   "execution_count": 38,
   "metadata": {},
   "outputs": [
    {
     "name": "stdout",
     "output_type": "stream",
     "text": [
      "33 phenotypes with > 0.1 zeroes were removed\n"
     ]
    }
   ],
   "source": [
    "#filter out phenotypes with > 10% zero values\n",
    "rna=filter_zeros(rna,0.1)"
   ]
  },
  {
   "cell_type": "code",
   "execution_count": 39,
   "metadata": {},
   "outputs": [
    {
     "name": "stdout",
     "output_type": "stream",
     "text": [
      "(731, 731)\n"
     ]
    }
   ],
   "source": [
    "print(rna.shape)"
   ]
  },
  {
   "cell_type": "code",
   "execution_count": 40,
   "metadata": {},
   "outputs": [],
   "source": [
    "rna=rna.reset_index().rename(columns={\"barcode\":\"FID\"}).set_index(\"FID\")"
   ]
  },
  {
   "cell_type": "markdown",
   "metadata": {},
   "source": [
    "### Filter for only genotyped patients"
   ]
  },
  {
   "cell_type": "code",
   "execution_count": 45,
   "metadata": {},
   "outputs": [],
   "source": [
    "#get genotyped patients\n",
    "fam=pd.read_csv(\"/nrnb/users/mpagadal/tcga-genotypes/imputation/michigan-imputation/HRC/european.final.noimmunecancers.clean.fam\",header=None,sep=\" \")[0].tolist()"
   ]
  },
  {
   "cell_type": "code",
   "execution_count": 46,
   "metadata": {},
   "outputs": [],
   "source": [
    "tcga_df=rna[rna.index.isin(fam)]"
   ]
  },
  {
   "cell_type": "code",
   "execution_count": 47,
   "metadata": {},
   "outputs": [],
   "source": [
    "tcga_df=tcga_df.reset_index()"
   ]
  },
  {
   "cell_type": "code",
   "execution_count": 48,
   "metadata": {},
   "outputs": [],
   "source": [
    "tcga_df=tcga_df.rename(columns={\"index\":\"FID\"})"
   ]
  },
  {
   "cell_type": "code",
   "execution_count": 49,
   "metadata": {},
   "outputs": [
    {
     "name": "stdout",
     "output_type": "stream",
     "text": [
      "(611, 732)\n"
     ]
    },
    {
     "data": {
      "text/html": [
       "<div>\n",
       "<style scoped>\n",
       "    .dataframe tbody tr th:only-of-type {\n",
       "        vertical-align: middle;\n",
       "    }\n",
       "\n",
       "    .dataframe tbody tr th {\n",
       "        vertical-align: top;\n",
       "    }\n",
       "\n",
       "    .dataframe thead th {\n",
       "        text-align: right;\n",
       "    }\n",
       "</style>\n",
       "<table border=\"1\" class=\"dataframe\">\n",
       "  <thead>\n",
       "    <tr style=\"text-align: right;\">\n",
       "      <th></th>\n",
       "      <th>FID</th>\n",
       "      <th>FGR</th>\n",
       "      <th>SEMA3F</th>\n",
       "      <th>DBNDD1</th>\n",
       "      <th>SLC25A5</th>\n",
       "      <th>CREBBP</th>\n",
       "      <th>WDR54</th>\n",
       "      <th>ITGA3</th>\n",
       "      <th>AP2B1</th>\n",
       "      <th>CX3CL1</th>\n",
       "      <th>...</th>\n",
       "      <th>DYNLL2</th>\n",
       "      <th>SEC22B</th>\n",
       "      <th>IKBKG</th>\n",
       "      <th>SPIB</th>\n",
       "      <th>CCL5</th>\n",
       "      <th>B2M</th>\n",
       "      <th>IFI27</th>\n",
       "      <th>LILRB2</th>\n",
       "      <th>PDCD1</th>\n",
       "      <th>LAIR1</th>\n",
       "    </tr>\n",
       "  </thead>\n",
       "  <tbody>\n",
       "    <tr>\n",
       "      <th>0</th>\n",
       "      <td>TCGA-22-4593</td>\n",
       "      <td>52.741341</td>\n",
       "      <td>15.020543</td>\n",
       "      <td>4.582214</td>\n",
       "      <td>429.171570</td>\n",
       "      <td>9.122368</td>\n",
       "      <td>11.910508</td>\n",
       "      <td>160.098160</td>\n",
       "      <td>63.754631</td>\n",
       "      <td>27.899931</td>\n",
       "      <td>...</td>\n",
       "      <td>22.742100</td>\n",
       "      <td>16.280651</td>\n",
       "      <td>18.326183</td>\n",
       "      <td>1.704765</td>\n",
       "      <td>13.366350</td>\n",
       "      <td>1116.949951</td>\n",
       "      <td>9.388349</td>\n",
       "      <td>11.580532</td>\n",
       "      <td>0.684606</td>\n",
       "      <td>72.930031</td>\n",
       "    </tr>\n",
       "    <tr>\n",
       "      <th>1</th>\n",
       "      <td>TCGA-22-4609</td>\n",
       "      <td>33.633781</td>\n",
       "      <td>16.718197</td>\n",
       "      <td>3.968237</td>\n",
       "      <td>213.296768</td>\n",
       "      <td>24.401106</td>\n",
       "      <td>10.205466</td>\n",
       "      <td>140.817017</td>\n",
       "      <td>61.474487</td>\n",
       "      <td>171.599884</td>\n",
       "      <td>...</td>\n",
       "      <td>25.734800</td>\n",
       "      <td>16.778450</td>\n",
       "      <td>16.744671</td>\n",
       "      <td>1.920931</td>\n",
       "      <td>11.640704</td>\n",
       "      <td>1341.969971</td>\n",
       "      <td>31.000149</td>\n",
       "      <td>5.172295</td>\n",
       "      <td>1.269880</td>\n",
       "      <td>2.152551</td>\n",
       "    </tr>\n",
       "    <tr>\n",
       "      <th>2</th>\n",
       "      <td>TCGA-22-5471</td>\n",
       "      <td>44.874718</td>\n",
       "      <td>9.870248</td>\n",
       "      <td>7.872812</td>\n",
       "      <td>273.032104</td>\n",
       "      <td>16.605223</td>\n",
       "      <td>35.272629</td>\n",
       "      <td>170.285492</td>\n",
       "      <td>63.103294</td>\n",
       "      <td>58.130230</td>\n",
       "      <td>...</td>\n",
       "      <td>21.632900</td>\n",
       "      <td>13.636040</td>\n",
       "      <td>20.903175</td>\n",
       "      <td>0.799475</td>\n",
       "      <td>4.631590</td>\n",
       "      <td>882.776001</td>\n",
       "      <td>26.662445</td>\n",
       "      <td>3.884185</td>\n",
       "      <td>0.263936</td>\n",
       "      <td>37.160728</td>\n",
       "    </tr>\n",
       "    <tr>\n",
       "      <th>3</th>\n",
       "      <td>TCGA-22-5472</td>\n",
       "      <td>44.056370</td>\n",
       "      <td>20.890659</td>\n",
       "      <td>6.082714</td>\n",
       "      <td>254.809647</td>\n",
       "      <td>21.647938</td>\n",
       "      <td>21.475487</td>\n",
       "      <td>138.442764</td>\n",
       "      <td>89.757324</td>\n",
       "      <td>54.630062</td>\n",
       "      <td>...</td>\n",
       "      <td>28.040199</td>\n",
       "      <td>18.620789</td>\n",
       "      <td>17.859312</td>\n",
       "      <td>1.321082</td>\n",
       "      <td>7.909300</td>\n",
       "      <td>1024.579956</td>\n",
       "      <td>16.930290</td>\n",
       "      <td>11.225962</td>\n",
       "      <td>1.485900</td>\n",
       "      <td>26.772093</td>\n",
       "    </tr>\n",
       "    <tr>\n",
       "      <th>4</th>\n",
       "      <td>TCGA-22-5478</td>\n",
       "      <td>55.746078</td>\n",
       "      <td>20.647762</td>\n",
       "      <td>5.458734</td>\n",
       "      <td>235.072891</td>\n",
       "      <td>24.435022</td>\n",
       "      <td>13.300381</td>\n",
       "      <td>180.409561</td>\n",
       "      <td>76.275681</td>\n",
       "      <td>100.485710</td>\n",
       "      <td>...</td>\n",
       "      <td>27.382500</td>\n",
       "      <td>15.759120</td>\n",
       "      <td>19.987007</td>\n",
       "      <td>3.526640</td>\n",
       "      <td>14.037420</td>\n",
       "      <td>1105.920044</td>\n",
       "      <td>33.454338</td>\n",
       "      <td>10.710560</td>\n",
       "      <td>0.734698</td>\n",
       "      <td>29.996195</td>\n",
       "    </tr>\n",
       "  </tbody>\n",
       "</table>\n",
       "<p>5 rows × 732 columns</p>\n",
       "</div>"
      ],
      "text/plain": [
       "            FID        FGR     SEMA3F    DBNDD1     SLC25A5     CREBBP  \\\n",
       "0  TCGA-22-4593  52.741341  15.020543  4.582214  429.171570   9.122368   \n",
       "1  TCGA-22-4609  33.633781  16.718197  3.968237  213.296768  24.401106   \n",
       "2  TCGA-22-5471  44.874718   9.870248  7.872812  273.032104  16.605223   \n",
       "3  TCGA-22-5472  44.056370  20.890659  6.082714  254.809647  21.647938   \n",
       "4  TCGA-22-5478  55.746078  20.647762  5.458734  235.072891  24.435022   \n",
       "\n",
       "       WDR54       ITGA3      AP2B1      CX3CL1  ...     DYNLL2     SEC22B  \\\n",
       "0  11.910508  160.098160  63.754631   27.899931  ...  22.742100  16.280651   \n",
       "1  10.205466  140.817017  61.474487  171.599884  ...  25.734800  16.778450   \n",
       "2  35.272629  170.285492  63.103294   58.130230  ...  21.632900  13.636040   \n",
       "3  21.475487  138.442764  89.757324   54.630062  ...  28.040199  18.620789   \n",
       "4  13.300381  180.409561  76.275681  100.485710  ...  27.382500  15.759120   \n",
       "\n",
       "       IKBKG      SPIB       CCL5          B2M      IFI27     LILRB2  \\\n",
       "0  18.326183  1.704765  13.366350  1116.949951   9.388349  11.580532   \n",
       "1  16.744671  1.920931  11.640704  1341.969971  31.000149   5.172295   \n",
       "2  20.903175  0.799475   4.631590   882.776001  26.662445   3.884185   \n",
       "3  17.859312  1.321082   7.909300  1024.579956  16.930290  11.225962   \n",
       "4  19.987007  3.526640  14.037420  1105.920044  33.454338  10.710560   \n",
       "\n",
       "      PDCD1      LAIR1  \n",
       "0  0.684606  72.930031  \n",
       "1  1.269880   2.152551  \n",
       "2  0.263936  37.160728  \n",
       "3  1.485900  26.772093  \n",
       "4  0.734698  29.996195  \n",
       "\n",
       "[5 rows x 732 columns]"
      ]
     },
     "execution_count": 49,
     "metadata": {},
     "output_type": "execute_result"
    }
   ],
   "source": [
    "print(tcga_df.shape)\n",
    "tcga_df.head()"
   ]
  },
  {
   "cell_type": "markdown",
   "metadata": {},
   "source": [
    "## Submit cancer-specific phenos for rank normalization"
   ]
  },
  {
   "cell_type": "code",
   "execution_count": 50,
   "metadata": {},
   "outputs": [],
   "source": [
    "canc = pd.read_csv(\"/nrnb/users/mpagadal/tcga-genotypes/birdseed-processing/gtype.meta\", delimiter=\"\\t\", header=None)\n",
    "mp = canc.set_index(2)[0].to_dict()\n",
    "#total['cancer'] = total[\"FID\"].map(mp)\n",
    "tcga_df[\"cancer\"]=tcga_df[\"FID\"].map(mp)"
   ]
  },
  {
   "cell_type": "code",
   "execution_count": 51,
   "metadata": {},
   "outputs": [],
   "source": [
    "for x in tcga_df[\"cancer\"].unique():\n",
    "    try:\n",
    "        tumor=tcga_df[tcga_df[\"cancer\"]==x]\n",
    "        del tumor[\"cancer\"]\n",
    "        tumor.to_csv(\"/cellar/users/mpagadal/Data/projects/germline-immune/processed_phenos/brian-tpm/normal/pheno_\"+x+\".unnorm.csv\",index=None,sep=\"\\t\")\n",
    "    except:\n",
    "        pass\n",
    "    \n",
    "    "
   ]
  },
  {
   "cell_type": "code",
   "execution_count": 52,
   "metadata": {},
   "outputs": [],
   "source": [
    "compiled=pd.DataFrame()\n",
    "for x in tcga_df[\"cancer\"].unique().tolist():\n",
    "    try:\n",
    "        df=pd.read_csv(\"/cellar/users/mpagadal/Data/projects/germline-immune/processed_phenos/brian-tpm/normal/pheno_\"+x+\".rank.csv\",delimiter=\"\\t\")\n",
    "        df[\"cancer\"]=x\n",
    "        compiled=compiled.append(df)\n",
    "    except:\n",
    "        pass"
   ]
  },
  {
   "cell_type": "markdown",
   "metadata": {},
   "source": [
    "### Confirm rank norm by cancer"
   ]
  },
  {
   "cell_type": "code",
   "execution_count": 53,
   "metadata": {},
   "outputs": [
    {
     "data": {
      "text/plain": [
       "Text(0.5, 1.0, 'FGR')"
      ]
     },
     "execution_count": 53,
     "metadata": {},
     "output_type": "execute_result"
    },
    {
     "data": {
      "image/png": "[encoded data removed]",
      "text/plain": [
       "<Figure size 1440x360 with 1 Axes>"
      ]
     },
     "metadata": {},
     "output_type": "display_data"
    }
   ],
   "source": [
    "x=\"FGR\"\n",
    "#plot rna expression by cancer type\n",
    "sns.set(style=\"whitegrid\", font_scale = 1)\n",
    "plt.figure(figsize=(20,5))\n",
    "sns.set_style(\"whitegrid\", {'axes.grid' : False})\n",
    "ax = sns.boxplot(x=\"cancer\", y=x, data=compiled)\n",
    "ax.set(xlabel=\"cancer\", ylabel='rank norm FGR')\n",
    "plt.xticks(rotation=30)\n",
    "plt.title(x)"
   ]
  },
  {
   "cell_type": "code",
   "execution_count": 54,
   "metadata": {},
   "outputs": [],
   "source": [
    "del compiled[\"cancer\"]\n",
    "compiled[\"IID\"]=compiled[\"FID\"]\n",
    "cols=[\"FID\",\"IID\"]+compiled.columns.tolist()[1:-1]\n",
    "compiled=compiled[cols]\n",
    "compiled.columns=[x.replace(\"-\",\".\") for x in compiled.columns]\n",
    "compiled=compiled.fillna(-9)"
   ]
  },
  {
   "cell_type": "code",
   "execution_count": 55,
   "metadata": {},
   "outputs": [],
   "source": [
    "compiled.to_csv(\"/cellar/users/mpagadal/Data/projects/germline-immune/processed_phenos/brian-tpm/normal/pheno_all_zcancer\",index=None,sep=\"\\t\")"
   ]
  },
  {
   "cell_type": "code",
   "execution_count": null,
   "metadata": {},
   "outputs": [],
   "source": []
  },
  {
   "cell_type": "code",
   "execution_count": null,
   "metadata": {},
   "outputs": [],
   "source": []
  },
  {
   "cell_type": "code",
   "execution_count": null,
   "metadata": {},
   "outputs": [],
   "source": []
  },
  {
   "cell_type": "code",
   "execution_count": null,
   "metadata": {},
   "outputs": [],
   "source": []
  }
 ],
 "metadata": {
  "kernelspec": {
   "display_name": "Python 3",
   "language": "python",
   "name": "python3"
  },
  "language_info": {
   "codemirror_mode": {
    "name": "ipython",
    "version": 3
   },
   "file_extension": ".py",
   "mimetype": "text/x-python",
   "name": "python",
   "nbconvert_exporter": "python",
   "pygments_lexer": "ipython3",
   "version": "3.7.7"
  }
 },
 "nbformat": 4,
 "nbformat_minor": 2
}
