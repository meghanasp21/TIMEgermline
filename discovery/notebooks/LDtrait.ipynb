{
 "cells": [
  {
   "cell_type": "code",
   "execution_count": 1,
   "metadata": {},
   "outputs": [],
   "source": [
    "import pandas as pd\n",
    "import os\n",
    "from matplotlib import pyplot as plt\n",
    "import numpy as np\n",
    "import seaborn as sns"
   ]
  },
  {
   "cell_type": "code",
   "execution_count": 2,
   "metadata": {},
   "outputs": [],
   "source": [
    "import matplotlib as mpl\n",
    "mpl.rcParams['pdf.fonttype'] = 42\n",
    "mpl.rcParams['ps.fonttype'] = 42"
   ]
  },
  {
   "cell_type": "markdown",
   "metadata": {},
   "source": [
    "## Prepare for LDtrait analysis"
   ]
  },
  {
   "cell_type": "code",
   "execution_count": 3,
   "metadata": {},
   "outputs": [
    {
     "data": {
      "text/html": [
       "<div>\n",
       "<style scoped>\n",
       "    .dataframe tbody tr th:only-of-type {\n",
       "        vertical-align: middle;\n",
       "    }\n",
       "\n",
       "    .dataframe tbody tr th {\n",
       "        vertical-align: top;\n",
       "    }\n",
       "\n",
       "    .dataframe thead th {\n",
       "        text-align: right;\n",
       "    }\n",
       "</style>\n",
       "<table border=\"1\" class=\"dataframe\">\n",
       "  <thead>\n",
       "    <tr style=\"text-align: right;\">\n",
       "      <th></th>\n",
       "      <th>snps</th>\n",
       "      <th>file</th>\n",
       "      <th>category</th>\n",
       "      <th>maf</th>\n",
       "      <th>variant</th>\n",
       "      <th>rsid</th>\n",
       "      <th>tpm beta</th>\n",
       "      <th>tpm SE</th>\n",
       "      <th>tpm P</th>\n",
       "      <th>REF</th>\n",
       "      <th>ALT</th>\n",
       "      <th>firebrowse beta</th>\n",
       "      <th>firebrowse SE</th>\n",
       "      <th>firebrowse P</th>\n",
       "      <th>pancan beta</th>\n",
       "      <th>pancan SE</th>\n",
       "      <th>pancan P</th>\n",
       "      <th>p-value</th>\n",
       "      <th>cis tss</th>\n",
       "    </tr>\n",
       "  </thead>\n",
       "  <tbody>\n",
       "    <tr>\n",
       "      <th>0</th>\n",
       "      <td>1:249111684:T:C</td>\n",
       "      <td>SH3BP5L</td>\n",
       "      <td>immunomodulators</td>\n",
       "      <td>0.13030</td>\n",
       "      <td>chr1:g.249111684T&gt;C</td>\n",
       "      <td>rs7419176</td>\n",
       "      <td>-0.138887</td>\n",
       "      <td>0.024709</td>\n",
       "      <td>1.971340e-08</td>\n",
       "      <td>T</td>\n",
       "      <td>C</td>\n",
       "      <td>-0.156999</td>\n",
       "      <td>0.024937</td>\n",
       "      <td>3.244430e-10</td>\n",
       "      <td>-0.153749</td>\n",
       "      <td>0.024547</td>\n",
       "      <td>3.982010e-10</td>\n",
       "      <td>3.244430e-10</td>\n",
       "      <td>-7034.0</td>\n",
       "    </tr>\n",
       "    <tr>\n",
       "      <th>1</th>\n",
       "      <td>13:108991004:A:G</td>\n",
       "      <td>TNFSF13B</td>\n",
       "      <td>immunomodulators</td>\n",
       "      <td>0.49380</td>\n",
       "      <td>chr13:g.108991004A&gt;G</td>\n",
       "      <td>rs9520845</td>\n",
       "      <td>0.094528</td>\n",
       "      <td>0.016543</td>\n",
       "      <td>1.148140e-08</td>\n",
       "      <td>A</td>\n",
       "      <td>G</td>\n",
       "      <td>0.108154</td>\n",
       "      <td>0.016762</td>\n",
       "      <td>1.177210e-10</td>\n",
       "      <td>0.108267</td>\n",
       "      <td>0.016466</td>\n",
       "      <td>5.204390e-11</td>\n",
       "      <td>5.204390e-11</td>\n",
       "      <td>-69028.0</td>\n",
       "    </tr>\n",
       "    <tr>\n",
       "      <th>2</th>\n",
       "      <td>19:55175740:C:T</td>\n",
       "      <td>LILRB4</td>\n",
       "      <td>immunomodulators</td>\n",
       "      <td>0.37430</td>\n",
       "      <td>chr19:g.55175740C&gt;T</td>\n",
       "      <td>rs3745871</td>\n",
       "      <td>0.552741</td>\n",
       "      <td>0.016038</td>\n",
       "      <td>7.971420e-241</td>\n",
       "      <td>C</td>\n",
       "      <td>T</td>\n",
       "      <td>-0.042462</td>\n",
       "      <td>0.017650</td>\n",
       "      <td>1.616310e-02</td>\n",
       "      <td>-0.048756</td>\n",
       "      <td>0.017292</td>\n",
       "      <td>4.823190e-03</td>\n",
       "      <td>7.971420e-241</td>\n",
       "      <td>-1470.0</td>\n",
       "    </tr>\n",
       "    <tr>\n",
       "      <th>3</th>\n",
       "      <td>19:55175983:T:A</td>\n",
       "      <td>LILRB4</td>\n",
       "      <td>immunomodulators</td>\n",
       "      <td>0.05939</td>\n",
       "      <td>chr19:g.55175983T&gt;A</td>\n",
       "      <td>rs7253814</td>\n",
       "      <td>-0.588260</td>\n",
       "      <td>0.035009</td>\n",
       "      <td>3.632880e-62</td>\n",
       "      <td>T</td>\n",
       "      <td>A</td>\n",
       "      <td>0.109191</td>\n",
       "      <td>0.036245</td>\n",
       "      <td>2.599720e-03</td>\n",
       "      <td>0.111202</td>\n",
       "      <td>0.035470</td>\n",
       "      <td>1.725110e-03</td>\n",
       "      <td>3.632880e-62</td>\n",
       "      <td>-1713.0</td>\n",
       "    </tr>\n",
       "    <tr>\n",
       "      <th>4</th>\n",
       "      <td>19:55145546:T:G</td>\n",
       "      <td>LILRB4</td>\n",
       "      <td>immunomodulators</td>\n",
       "      <td>0.11450</td>\n",
       "      <td>chr19:g.55145546T&gt;G</td>\n",
       "      <td>rs2098952</td>\n",
       "      <td>-0.288007</td>\n",
       "      <td>0.025738</td>\n",
       "      <td>7.953270e-29</td>\n",
       "      <td>T</td>\n",
       "      <td>G</td>\n",
       "      <td>-0.057270</td>\n",
       "      <td>0.026471</td>\n",
       "      <td>3.053910e-02</td>\n",
       "      <td>-0.052444</td>\n",
       "      <td>0.025963</td>\n",
       "      <td>4.342880e-02</td>\n",
       "      <td>7.953270e-29</td>\n",
       "      <td>28724.0</td>\n",
       "    </tr>\n",
       "  </tbody>\n",
       "</table>\n",
       "</div>"
      ],
      "text/plain": [
       "               snps      file          category      maf  \\\n",
       "0   1:249111684:T:C   SH3BP5L  immunomodulators  0.13030   \n",
       "1  13:108991004:A:G  TNFSF13B  immunomodulators  0.49380   \n",
       "2   19:55175740:C:T    LILRB4  immunomodulators  0.37430   \n",
       "3   19:55175983:T:A    LILRB4  immunomodulators  0.05939   \n",
       "4   19:55145546:T:G    LILRB4  immunomodulators  0.11450   \n",
       "\n",
       "                variant       rsid  tpm beta    tpm SE          tpm P REF ALT  \\\n",
       "0   chr1:g.249111684T>C  rs7419176 -0.138887  0.024709   1.971340e-08   T   C   \n",
       "1  chr13:g.108991004A>G  rs9520845  0.094528  0.016543   1.148140e-08   A   G   \n",
       "2   chr19:g.55175740C>T  rs3745871  0.552741  0.016038  7.971420e-241   C   T   \n",
       "3   chr19:g.55175983T>A  rs7253814 -0.588260  0.035009   3.632880e-62   T   A   \n",
       "4   chr19:g.55145546T>G  rs2098952 -0.288007  0.025738   7.953270e-29   T   G   \n",
       "\n",
       "   firebrowse beta  firebrowse SE  firebrowse P  pancan beta  pancan SE  \\\n",
       "0        -0.156999       0.024937  3.244430e-10    -0.153749   0.024547   \n",
       "1         0.108154       0.016762  1.177210e-10     0.108267   0.016466   \n",
       "2        -0.042462       0.017650  1.616310e-02    -0.048756   0.017292   \n",
       "3         0.109191       0.036245  2.599720e-03     0.111202   0.035470   \n",
       "4        -0.057270       0.026471  3.053910e-02    -0.052444   0.025963   \n",
       "\n",
       "       pancan P        p-value  cis tss  \n",
       "0  3.982010e-10   3.244430e-10  -7034.0  \n",
       "1  5.204390e-11   5.204390e-11 -69028.0  \n",
       "2  4.823190e-03  7.971420e-241  -1470.0  \n",
       "3  1.725110e-03   3.632880e-62  -1713.0  \n",
       "4  4.342880e-02   7.953270e-29  28724.0  "
      ]
     },
     "execution_count": 3,
     "metadata": {},
     "output_type": "execute_result"
    }
   ],
   "source": [
    "snps=pd.read_csv(\"../../snp-tables/immune-microenvironment-nonhla.tsv\",delimiter=\"\\t\")\n",
    "snps.head()"
   ]
  },
  {
   "cell_type": "code",
   "execution_count": 4,
   "metadata": {},
   "outputs": [
    {
     "name": "stdout",
     "output_type": "stream",
     "text": [
      "49\n",
      "49\n",
      "48\n",
      "48\n",
      "48\n",
      "48\n",
      "48\n",
      "48\n",
      "48\n",
      "48\n"
     ]
    }
   ],
   "source": [
    "for num,data in enumerate(np.array_split(snps[\"rsid\"], 10)):\n",
    "    print(len(data))\n",
    "    data.to_csv(\"../LDtrait/LDlink_input_\"+str(num)+\".tsv\",header=None,index=None,sep=\"\\t\")"
   ]
  },
  {
   "cell_type": "markdown",
   "metadata": {},
   "source": [
    "## Get LDtrait output"
   ]
  },
  {
   "cell_type": "code",
   "execution_count": 5,
   "metadata": {},
   "outputs": [],
   "source": [
    "files=[x for x in os.listdir(\"../LDtrait\") if x.startswith(\"LDlink_output_\")]"
   ]
  },
  {
   "cell_type": "code",
   "execution_count": 6,
   "metadata": {},
   "outputs": [],
   "source": [
    "total_gwas=pd.DataFrame()\n",
    "\n",
    "for x in files:\n",
    "    gwas=pd.read_csv(\"../LDtrait/\"+x,delimiter=\"\\t\")\n",
    "    total_gwas=total_gwas.append(gwas)"
   ]
  },
  {
   "cell_type": "code",
   "execution_count": 7,
   "metadata": {},
   "outputs": [],
   "source": [
    "mp_trait={}\n",
    "\n",
    "for x in total_gwas[\"Query\"].unique():\n",
    "    mp_trait[x]=total_gwas[total_gwas[\"Query\"]==x][\"GWAS Trait\"].unique().tolist()\n",
    "    \n",
    "    "
   ]
  },
  {
   "cell_type": "markdown",
   "metadata": {},
   "source": [
    "## Merge with associations"
   ]
  },
  {
   "cell_type": "code",
   "execution_count": 8,
   "metadata": {},
   "outputs": [],
   "source": [
    "snps[\"gwas\"]=snps[\"rsid\"].map(mp_trait)"
   ]
  },
  {
   "cell_type": "code",
   "execution_count": 12,
   "metadata": {},
   "outputs": [],
   "source": [
    "snps.to_csv(\"../../snp-tables/immune-microenvironment-nonhla.tsv\",sep=\"\\t\",index=None)"
   ]
  },
  {
   "cell_type": "code",
   "execution_count": 13,
   "metadata": {
    "scrolled": true
   },
   "outputs": [],
   "source": [
    "# immune_snps=snps[snps[\"Category\"]==\"Immune\"][\"snps\"].unique().tolist()\n",
    "# cancer_snps=snps[snps[\"Category\"]==\"Cancer\"][\"snps\"].unique().tolist()\n",
    "# other_snps=[x for x in snps[\"snps\"].unique() if x not in immune_snps+cancer_snps]\n",
    "# total=len(other_snps)+len(immune_snps)+len(cancer_snps)"
   ]
  },
  {
   "cell_type": "code",
   "execution_count": 14,
   "metadata": {},
   "outputs": [],
   "source": [
    "# f=plt.figure(figsize=(5,5))\n",
    "# labels = 'other', 'immune', 'cancer'\n",
    "# sizes = [len(other_snps)/total,len(immune_snps)/total,len(cancer_snps)/total]\n",
    "# colors = ['gray', 'orange',\"blue\"]\n",
    "# explode = (0.0, 0.0, 0.1)  # explode 1st slice\n",
    "# # Plot\n",
    "# plt.pie(sizes, explode=explode, labels=labels, colors=colors, autopct='%1.1f%%', shadow=False, startangle=140)\n",
    "# plt.axis('equal')\n",
    "# f.savefig(\"gwas.category.pdf\")"
   ]
  },
  {
   "cell_type": "markdown",
   "metadata": {},
   "source": [
    "## Get highest associated traits"
   ]
  },
  {
   "cell_type": "code",
   "execution_count": 15,
   "metadata": {},
   "outputs": [],
   "source": [
    "g=[]\n",
    "c=[]\n",
    "\n",
    "for x in total_gwas[\"GWAS Trait\"].unique():\n",
    "    g.append(x)\n",
    "    c.append(len(total_gwas[total_gwas[\"GWAS Trait\"]==x][\"Query\"].unique()))"
   ]
  },
  {
   "cell_type": "code",
   "execution_count": 16,
   "metadata": {},
   "outputs": [],
   "source": [
    "gwas_counts=pd.DataFrame({\"gwas\":g,\"counts\":c})\n",
    "gwas_counts=gwas_counts.sort_values(by=\"counts\",ascending=False)"
   ]
  },
  {
   "cell_type": "code",
   "execution_count": 17,
   "metadata": {},
   "outputs": [],
   "source": [
    "gwas_counts[\"counts\"]=gwas_counts[\"counts\"]"
   ]
  },
  {
   "cell_type": "code",
   "execution_count": 18,
   "metadata": {},
   "outputs": [],
   "source": [
    "gwas_counts_filt=gwas_counts[gwas_counts[\"counts\"]>5]"
   ]
  },
  {
   "cell_type": "code",
   "execution_count": 19,
   "metadata": {},
   "outputs": [
    {
     "name": "stderr",
     "output_type": "stream",
     "text": [
      "/nrnb/opt/anaconda3.7/lib/python3.7/site-packages/ipykernel_launcher.py:1: SettingWithCopyWarning: \n",
      "A value is trying to be set on a copy of a slice from a DataFrame.\n",
      "Try using .loc[row_indexer,col_indexer] = value instead\n",
      "\n",
      "See the caveats in the documentation: https://pandas.pydata.org/pandas-docs/stable/user_guide/indexing.html#returning-a-view-versus-a-copy\n",
      "  \"\"\"Entry point for launching an IPython kernel.\n"
     ]
    }
   ],
   "source": [
    "gwas_counts_filt[\"gwas\"]=gwas_counts_filt[\"gwas\"].str.split(\"(\").str[0]"
   ]
  },
  {
   "cell_type": "code",
   "execution_count": 20,
   "metadata": {},
   "outputs": [],
   "source": [
    "mp={\"Asthma \":\"Asthma\"}"
   ]
  },
  {
   "cell_type": "code",
   "execution_count": 21,
   "metadata": {},
   "outputs": [
    {
     "name": "stderr",
     "output_type": "stream",
     "text": [
      "/nrnb/opt/anaconda3.7/lib/python3.7/site-packages/ipykernel_launcher.py:1: SettingWithCopyWarning: \n",
      "A value is trying to be set on a copy of a slice from a DataFrame.\n",
      "Try using .loc[row_indexer,col_indexer] = value instead\n",
      "\n",
      "See the caveats in the documentation: https://pandas.pydata.org/pandas-docs/stable/user_guide/indexing.html#returning-a-view-versus-a-copy\n",
      "  \"\"\"Entry point for launching an IPython kernel.\n"
     ]
    }
   ],
   "source": [
    "gwas_counts_filt[\"gwas\"]=gwas_counts_filt[\"gwas\"].map(mp).fillna(gwas_counts_filt[\"gwas\"])"
   ]
  },
  {
   "cell_type": "code",
   "execution_count": 23,
   "metadata": {
    "scrolled": false
   },
   "outputs": [
    {
     "data": {
      "image/png": "[encoded data removed]",
      "text/plain": [
       "<Figure size 720x360 with 1 Axes>"
      ]
     },
     "metadata": {
      "needs_background": "light"
     },
     "output_type": "display_data"
    }
   ],
   "source": [
    "f=plt.figure(figsize=(10,5))\n",
    "ax = sns.barplot(x=\"gwas\", y=\"counts\", data=gwas_counts_filt)\n",
    "plt.xlabel(\"\")\n",
    "plt.ylabel(\"number of snps\")\n",
    "plt.xticks(rotation=90)\n",
    "f.savefig(\"../plots/gwas.pdf\")"
   ]
  },
  {
   "cell_type": "markdown",
   "metadata": {},
   "source": [
    "## Get Chat et al. autoimmune snps"
   ]
  },
  {
   "cell_type": "code",
   "execution_count": 104,
   "metadata": {},
   "outputs": [],
   "source": [
    "chat=pd.read_csv(\"Chatetal2019_supplementaltable1.csv\")"
   ]
  },
  {
   "cell_type": "code",
   "execution_count": 105,
   "metadata": {},
   "outputs": [
    {
     "data": {
      "text/html": [
       "<div>\n",
       "<style scoped>\n",
       "    .dataframe tbody tr th:only-of-type {\n",
       "        vertical-align: middle;\n",
       "    }\n",
       "\n",
       "    .dataframe tbody tr th {\n",
       "        vertical-align: top;\n",
       "    }\n",
       "\n",
       "    .dataframe thead th {\n",
       "        text-align: right;\n",
       "    }\n",
       "</style>\n",
       "<table border=\"1\" class=\"dataframe\">\n",
       "  <thead>\n",
       "    <tr style=\"text-align: right;\">\n",
       "      <th></th>\n",
       "      <th>SNP</th>\n",
       "      <th>Mapped Genes</th>\n",
       "      <th>Chromosome Position</th>\n",
       "      <th>Associated Diseases</th>\n",
       "      <th>Maximum reported p-value</th>\n",
       "      <th>References</th>\n",
       "    </tr>\n",
       "  </thead>\n",
       "  <tbody>\n",
       "    <tr>\n",
       "      <th>0</th>\n",
       "      <td>rs10488631</td>\n",
       "      <td>TNPO3, IRF5</td>\n",
       "      <td>chr7:128954129</td>\n",
       "      <td>Lupus, rheumatoid arthritis, systemic sclerosis</td>\n",
       "      <td>1.860000e-13</td>\n",
       "      <td>[1]</td>\n",
       "    </tr>\n",
       "    <tr>\n",
       "      <th>1</th>\n",
       "      <td>rs11203203</td>\n",
       "      <td>UBASH3A</td>\n",
       "      <td>chr21:42416077</td>\n",
       "      <td>Celiac disease, rheumatoid arthritis, type 1 d...</td>\n",
       "      <td>3.600000e-04</td>\n",
       "      <td>[2]</td>\n",
       "    </tr>\n",
       "    <tr>\n",
       "      <th>2</th>\n",
       "      <td>rs11209026</td>\n",
       "      <td>IL12RB2, IL23R</td>\n",
       "      <td>chr1:67240275</td>\n",
       "      <td>Ankylosing spondylitis, colitis, inflammatory ...</td>\n",
       "      <td>1.730000e-10</td>\n",
       "      <td>[3]</td>\n",
       "    </tr>\n",
       "    <tr>\n",
       "      <th>3</th>\n",
       "      <td>rs12720356</td>\n",
       "      <td>TYK2</td>\n",
       "      <td>chr19:10359299</td>\n",
       "      <td>Colitis, inflammatory bowel, cutaneous psoriasis</td>\n",
       "      <td>3.900000e-06</td>\n",
       "      <td>[4]</td>\n",
       "    </tr>\n",
       "    <tr>\n",
       "      <th>4</th>\n",
       "      <td>rs1295686</td>\n",
       "      <td>RAD50, IL13, IL4, KIF3A</td>\n",
       "      <td>chr5:132660151</td>\n",
       "      <td>Allergy, asthma, cutaneous psoriasis</td>\n",
       "      <td>1.400000e-07</td>\n",
       "      <td>[5]</td>\n",
       "    </tr>\n",
       "  </tbody>\n",
       "</table>\n",
       "</div>"
      ],
      "text/plain": [
       "          SNP             Mapped Genes Chromosome Position  \\\n",
       "0  rs10488631              TNPO3, IRF5      chr7:128954129   \n",
       "1  rs11203203                  UBASH3A      chr21:42416077   \n",
       "2  rs11209026           IL12RB2, IL23R       chr1:67240275   \n",
       "3  rs12720356                     TYK2      chr19:10359299   \n",
       "4   rs1295686  RAD50, IL13, IL4, KIF3A      chr5:132660151   \n",
       "\n",
       "                                 Associated Diseases  \\\n",
       "0    Lupus, rheumatoid arthritis, systemic sclerosis   \n",
       "1  Celiac disease, rheumatoid arthritis, type 1 d...   \n",
       "2  Ankylosing spondylitis, colitis, inflammatory ...   \n",
       "3   Colitis, inflammatory bowel, cutaneous psoriasis   \n",
       "4               Allergy, asthma, cutaneous psoriasis   \n",
       "\n",
       "   Maximum reported p-value References  \n",
       "0              1.860000e-13        [1]  \n",
       "1              3.600000e-04        [2]  \n",
       "2              1.730000e-10        [3]  \n",
       "3              3.900000e-06        [4]  \n",
       "4              1.400000e-07        [5]  "
      ]
     },
     "execution_count": 105,
     "metadata": {},
     "output_type": "execute_result"
    }
   ],
   "source": [
    "chat.head()"
   ]
  },
  {
   "cell_type": "code",
   "execution_count": 106,
   "metadata": {},
   "outputs": [],
   "source": [
    "snps=pd.read_csv(\"../snp-tables/immune-microenvironment-snps-all.tsv\",delimiter=\"\\t\")"
   ]
  },
  {
   "cell_type": "code",
   "execution_count": 107,
   "metadata": {},
   "outputs": [],
   "source": [
    "snps[\"variant\"]=snps[\"snps\"].str.rsplit(\":\",2).str[0]\n",
    "snps[\"variant\"]=\"chr\"+snps[\"variant\"]"
   ]
  },
  {
   "cell_type": "code",
   "execution_count": 108,
   "metadata": {},
   "outputs": [
    {
     "data": {
      "text/html": [
       "<div>\n",
       "<style scoped>\n",
       "    .dataframe tbody tr th:only-of-type {\n",
       "        vertical-align: middle;\n",
       "    }\n",
       "\n",
       "    .dataframe tbody tr th {\n",
       "        vertical-align: top;\n",
       "    }\n",
       "\n",
       "    .dataframe thead th {\n",
       "        text-align: right;\n",
       "    }\n",
       "</style>\n",
       "<table border=\"1\" class=\"dataframe\">\n",
       "  <thead>\n",
       "    <tr style=\"text-align: right;\">\n",
       "      <th></th>\n",
       "      <th>indexsnps</th>\n",
       "      <th>snps</th>\n",
       "      <th>file</th>\n",
       "      <th>p-value</th>\n",
       "      <th>variant</th>\n",
       "    </tr>\n",
       "  </thead>\n",
       "  <tbody>\n",
       "  </tbody>\n",
       "</table>\n",
       "</div>"
      ],
      "text/plain": [
       "Empty DataFrame\n",
       "Columns: [indexsnps, snps, file, p-value, variant]\n",
       "Index: []"
      ]
     },
     "execution_count": 108,
     "metadata": {},
     "output_type": "execute_result"
    }
   ],
   "source": [
    "snps[snps[\"variant\"].isin(chat[\"Chromosome Position\"].tolist())]"
   ]
  },
  {
   "cell_type": "code",
   "execution_count": null,
   "metadata": {},
   "outputs": [],
   "source": []
  }
 ],
 "metadata": {
  "kernelspec": {
   "display_name": "Python 3",
   "language": "python",
   "name": "python3"
  },
  "language_info": {
   "codemirror_mode": {
    "name": "ipython",
    "version": 3
   },
   "file_extension": ".py",
   "mimetype": "text/x-python",
   "name": "python",
   "nbconvert_exporter": "python",
   "pygments_lexer": "ipython3",
   "version": "3.7.7"
  }
 },
 "nbformat": 4,
 "nbformat_minor": 4
}
