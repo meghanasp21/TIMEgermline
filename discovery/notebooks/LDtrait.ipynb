{
 "cells": [
  {
   "cell_type": "code",
   "execution_count": 1,
   "metadata": {},
   "outputs": [],
   "source": [
    "import pandas as pd\n",
    "import os\n",
    "from matplotlib import pyplot as plt\n",
    "import numpy as np\n",
    "import seaborn as sns"
   ]
  },
  {
   "cell_type": "code",
   "execution_count": 2,
   "metadata": {},
   "outputs": [],
   "source": [
    "import matplotlib as mpl\n",
    "mpl.rcParams['pdf.fonttype'] = 42\n",
    "mpl.rcParams['ps.fonttype'] = 42"
   ]
  },
  {
   "cell_type": "markdown",
   "metadata": {},
   "source": [
    "## Prepare for LDtrait analysis"
   ]
  },
  {
   "cell_type": "code",
   "execution_count": 3,
   "metadata": {},
   "outputs": [
    {
     "data": {
      "text/html": [
       "<div>\n",
       "<style scoped>\n",
       "    .dataframe tbody tr th:only-of-type {\n",
       "        vertical-align: middle;\n",
       "    }\n",
       "\n",
       "    .dataframe tbody tr th {\n",
       "        vertical-align: top;\n",
       "    }\n",
       "\n",
       "    .dataframe thead th {\n",
       "        text-align: right;\n",
       "    }\n",
       "</style>\n",
       "<table border=\"1\" class=\"dataframe\">\n",
       "  <thead>\n",
       "    <tr style=\"text-align: right;\">\n",
       "      <th></th>\n",
       "      <th>snps</th>\n",
       "      <th>file</th>\n",
       "      <th>category</th>\n",
       "      <th>maf</th>\n",
       "      <th>variant</th>\n",
       "      <th>rsid</th>\n",
       "      <th>tpm beta</th>\n",
       "      <th>tpm SE</th>\n",
       "      <th>tpm P</th>\n",
       "      <th>REF</th>\n",
       "      <th>ALT</th>\n",
       "      <th>firebrowse beta</th>\n",
       "      <th>firebrowse SE</th>\n",
       "      <th>firebrowse P</th>\n",
       "      <th>pancan beta</th>\n",
       "      <th>pancan SE</th>\n",
       "      <th>pancan P</th>\n",
       "      <th>p-value</th>\n",
       "      <th>cis tss</th>\n",
       "    </tr>\n",
       "  </thead>\n",
       "  <tbody>\n",
       "    <tr>\n",
       "      <th>0</th>\n",
       "      <td>19:7789796:T:C</td>\n",
       "      <td>CD209</td>\n",
       "      <td>cell type</td>\n",
       "      <td>0.25930</td>\n",
       "      <td>chr19:g.7789796T&gt;C</td>\n",
       "      <td>rs10422720</td>\n",
       "      <td>-0.153826</td>\n",
       "      <td>0.018988</td>\n",
       "      <td>6.358100e-16</td>\n",
       "      <td>T</td>\n",
       "      <td>C</td>\n",
       "      <td>-0.174974</td>\n",
       "      <td>0.019221</td>\n",
       "      <td>1.126740e-19</td>\n",
       "      <td>-0.178179</td>\n",
       "      <td>0.018876</td>\n",
       "      <td>4.971470e-21</td>\n",
       "      <td>4.971470e-21</td>\n",
       "      <td>15084.0</td>\n",
       "    </tr>\n",
       "    <tr>\n",
       "      <th>1</th>\n",
       "      <td>19:7768298:A:G</td>\n",
       "      <td>CD209</td>\n",
       "      <td>cell type</td>\n",
       "      <td>0.15010</td>\n",
       "      <td>chr19:g.7768298A&gt;G</td>\n",
       "      <td>rs58901714</td>\n",
       "      <td>-0.143563</td>\n",
       "      <td>0.023409</td>\n",
       "      <td>9.105090e-10</td>\n",
       "      <td>A</td>\n",
       "      <td>G</td>\n",
       "      <td>-0.157023</td>\n",
       "      <td>0.023889</td>\n",
       "      <td>5.293960e-11</td>\n",
       "      <td>-0.151253</td>\n",
       "      <td>0.023379</td>\n",
       "      <td>1.047650e-10</td>\n",
       "      <td>5.293960e-11</td>\n",
       "      <td>36582.0</td>\n",
       "    </tr>\n",
       "    <tr>\n",
       "      <th>2</th>\n",
       "      <td>3:159633885:T:C</td>\n",
       "      <td>CD209</td>\n",
       "      <td>cell type</td>\n",
       "      <td>0.01491</td>\n",
       "      <td>chr3:g.159633885T&gt;C</td>\n",
       "      <td>rs76992466</td>\n",
       "      <td>-0.374997</td>\n",
       "      <td>0.068493</td>\n",
       "      <td>4.525630e-08</td>\n",
       "      <td>T</td>\n",
       "      <td>C</td>\n",
       "      <td>-0.340604</td>\n",
       "      <td>0.070042</td>\n",
       "      <td>1.182550e-06</td>\n",
       "      <td>-0.353152</td>\n",
       "      <td>0.068943</td>\n",
       "      <td>3.096210e-07</td>\n",
       "      <td>4.525630e-08</td>\n",
       "      <td>NaN</td>\n",
       "    </tr>\n",
       "    <tr>\n",
       "      <th>3</th>\n",
       "      <td>1:161508763:T:C</td>\n",
       "      <td>FCGR3B</td>\n",
       "      <td>cell type</td>\n",
       "      <td>0.36810</td>\n",
       "      <td>chr1:g.161508763T&gt;C</td>\n",
       "      <td>rs10919544</td>\n",
       "      <td>0.166431</td>\n",
       "      <td>0.017210</td>\n",
       "      <td>5.489110e-22</td>\n",
       "      <td>T</td>\n",
       "      <td>C</td>\n",
       "      <td>0.237579</td>\n",
       "      <td>0.017299</td>\n",
       "      <td>2.300510e-42</td>\n",
       "      <td>0.236799</td>\n",
       "      <td>0.016959</td>\n",
       "      <td>9.737500e-44</td>\n",
       "      <td>9.737500e-44</td>\n",
       "      <td>84224.0</td>\n",
       "    </tr>\n",
       "    <tr>\n",
       "      <th>4</th>\n",
       "      <td>1:161572353:T:C</td>\n",
       "      <td>FCGR3B</td>\n",
       "      <td>cell type</td>\n",
       "      <td>0.14500</td>\n",
       "      <td>chr1:g.161572353T&gt;C</td>\n",
       "      <td>rs67775399</td>\n",
       "      <td>-0.136145</td>\n",
       "      <td>0.023202</td>\n",
       "      <td>4.615400e-09</td>\n",
       "      <td>T</td>\n",
       "      <td>C</td>\n",
       "      <td>-0.166241</td>\n",
       "      <td>0.023540</td>\n",
       "      <td>1.799250e-12</td>\n",
       "      <td>-0.163998</td>\n",
       "      <td>0.023030</td>\n",
       "      <td>1.174700e-12</td>\n",
       "      <td>1.174700e-12</td>\n",
       "      <td>20634.0</td>\n",
       "    </tr>\n",
       "  </tbody>\n",
       "</table>\n",
       "</div>"
      ],
      "text/plain": [
       "              snps    file   category      maf              variant  \\\n",
       "0   19:7789796:T:C   CD209  cell type  0.25930   chr19:g.7789796T>C   \n",
       "1   19:7768298:A:G   CD209  cell type  0.15010   chr19:g.7768298A>G   \n",
       "2  3:159633885:T:C   CD209  cell type  0.01491  chr3:g.159633885T>C   \n",
       "3  1:161508763:T:C  FCGR3B  cell type  0.36810  chr1:g.161508763T>C   \n",
       "4  1:161572353:T:C  FCGR3B  cell type  0.14500  chr1:g.161572353T>C   \n",
       "\n",
       "         rsid  tpm beta    tpm SE         tpm P REF ALT  firebrowse beta  \\\n",
       "0  rs10422720 -0.153826  0.018988  6.358100e-16   T   C        -0.174974   \n",
       "1  rs58901714 -0.143563  0.023409  9.105090e-10   A   G        -0.157023   \n",
       "2  rs76992466 -0.374997  0.068493  4.525630e-08   T   C        -0.340604   \n",
       "3  rs10919544  0.166431  0.017210  5.489110e-22   T   C         0.237579   \n",
       "4  rs67775399 -0.136145  0.023202  4.615400e-09   T   C        -0.166241   \n",
       "\n",
       "   firebrowse SE  firebrowse P  pancan beta  pancan SE      pancan P  \\\n",
       "0       0.019221  1.126740e-19    -0.178179   0.018876  4.971470e-21   \n",
       "1       0.023889  5.293960e-11    -0.151253   0.023379  1.047650e-10   \n",
       "2       0.070042  1.182550e-06    -0.353152   0.068943  3.096210e-07   \n",
       "3       0.017299  2.300510e-42     0.236799   0.016959  9.737500e-44   \n",
       "4       0.023540  1.799250e-12    -0.163998   0.023030  1.174700e-12   \n",
       "\n",
       "        p-value  cis tss  \n",
       "0  4.971470e-21  15084.0  \n",
       "1  5.293960e-11  36582.0  \n",
       "2  4.525630e-08      NaN  \n",
       "3  9.737500e-44  84224.0  \n",
       "4  1.174700e-12  20634.0  "
      ]
     },
     "execution_count": 3,
     "metadata": {},
     "output_type": "execute_result"
    }
   ],
   "source": [
    "snps=pd.read_csv(\"/cellar/users/mpagadal/Data/projects/germline-immune/snp-tables/immune-microenvironment-nonhla.tsv\",delimiter=\"\\t\")\n",
    "snps.head()"
   ]
  },
  {
   "cell_type": "code",
   "execution_count": 5,
   "metadata": {},
   "outputs": [
    {
     "name": "stdout",
     "output_type": "stream",
     "text": [
      "(49, 19)\n",
      "(49, 19)\n",
      "(48, 19)\n",
      "(48, 19)\n",
      "(48, 19)\n",
      "(48, 19)\n",
      "(48, 19)\n",
      "(48, 19)\n",
      "(48, 19)\n",
      "(48, 19)\n"
     ]
    }
   ],
   "source": [
    "for num,data in enumerate(np.array_split(snps, 10)):\n",
    "    print(data.shape)"
   ]
  },
  {
   "cell_type": "code",
   "execution_count": 4,
   "metadata": {},
   "outputs": [
    {
     "name": "stdout",
     "output_type": "stream",
     "text": [
      "49\n",
      "49\n",
      "48\n",
      "48\n",
      "48\n",
      "48\n",
      "48\n",
      "48\n",
      "48\n",
      "48\n"
     ]
    }
   ],
   "source": [
    "for num,data in enumerate(np.array_split(snps[\"rsid\"], 10)):\n",
    "    print(len(data))\n",
    "    data.to_csv(\"../LDtrait/LDlink_input_\"+str(num)+\".tsv\",header=None,index=None,sep=\"\\t\")"
   ]
  },
  {
   "cell_type": "markdown",
   "metadata": {},
   "source": [
    "## Get LDtrait output"
   ]
  },
  {
   "cell_type": "code",
   "execution_count": 5,
   "metadata": {},
   "outputs": [],
   "source": [
    "files=[x for x in os.listdir(\"../LDtrait\") if x.startswith(\"LDlink_output_\")]"
   ]
  },
  {
   "cell_type": "code",
   "execution_count": 6,
   "metadata": {},
   "outputs": [],
   "source": [
    "total_gwas=pd.DataFrame()\n",
    "\n",
    "for x in files:\n",
    "    gwas=pd.read_csv(\"../LDtrait/\"+x,delimiter=\"\\t\")\n",
    "    total_gwas=total_gwas.append(gwas)"
   ]
  },
  {
   "cell_type": "code",
   "execution_count": 7,
   "metadata": {},
   "outputs": [],
   "source": [
    "mp_trait={}\n",
    "\n",
    "for x in total_gwas[\"Query\"].unique():\n",
    "    mp_trait[x]=total_gwas[total_gwas[\"Query\"]==x][\"GWAS Trait\"].unique().tolist()\n",
    "    \n",
    "    "
   ]
  },
  {
   "cell_type": "markdown",
   "metadata": {},
   "source": [
    "## Merge with associations"
   ]
  },
  {
   "cell_type": "code",
   "execution_count": 8,
   "metadata": {},
   "outputs": [],
   "source": [
    "snps[\"gwas\"]=snps[\"rsid\"].map(mp_trait)"
   ]
  },
  {
   "cell_type": "code",
   "execution_count": 9,
   "metadata": {},
   "outputs": [],
   "source": [
    "snps.to_csv(\"/cellar/users/mpagadal/Data/projects/germline-immune/snp-tables/immune-microenvironment-nonhla.tsv\",sep=\"\\t\",index=None)"
   ]
  },
  {
   "cell_type": "code",
   "execution_count": 13,
   "metadata": {
    "scrolled": true
   },
   "outputs": [],
   "source": [
    "# immune_snps=snps[snps[\"Category\"]==\"Immune\"][\"snps\"].unique().tolist()\n",
    "# cancer_snps=snps[snps[\"Category\"]==\"Cancer\"][\"snps\"].unique().tolist()\n",
    "# other_snps=[x for x in snps[\"snps\"].unique() if x not in immune_snps+cancer_snps]\n",
    "# total=len(other_snps)+len(immune_snps)+len(cancer_snps)"
   ]
  },
  {
   "cell_type": "code",
   "execution_count": 14,
   "metadata": {},
   "outputs": [],
   "source": [
    "# f=plt.figure(figsize=(5,5))\n",
    "# labels = 'other', 'immune', 'cancer'\n",
    "# sizes = [len(other_snps)/total,len(immune_snps)/total,len(cancer_snps)/total]\n",
    "# colors = ['gray', 'orange',\"blue\"]\n",
    "# explode = (0.0, 0.0, 0.1)  # explode 1st slice\n",
    "# # Plot\n",
    "# plt.pie(sizes, explode=explode, labels=labels, colors=colors, autopct='%1.1f%%', shadow=False, startangle=140)\n",
    "# plt.axis('equal')\n",
    "# f.savefig(\"gwas.category.pdf\")"
   ]
  },
  {
   "cell_type": "markdown",
   "metadata": {},
   "source": [
    "## Get highest associated traits"
   ]
  },
  {
   "cell_type": "code",
   "execution_count": 33,
   "metadata": {},
   "outputs": [],
   "source": [
    "g=[]\n",
    "c=[]\n",
    "\n",
    "for x in total_gwas[\"GWAS Trait\"].unique():\n",
    "    g.append(x)\n",
    "    c.append(len(total_gwas[total_gwas[\"GWAS Trait\"]==x][\"Query\"].unique()))"
   ]
  },
  {
   "cell_type": "code",
   "execution_count": 34,
   "metadata": {},
   "outputs": [],
   "source": [
    "gwas_counts=pd.DataFrame({\"gwas\":g,\"counts\":c})\n",
    "gwas_counts=gwas_counts.sort_values(by=\"counts\",ascending=False)"
   ]
  },
  {
   "cell_type": "code",
   "execution_count": 35,
   "metadata": {},
   "outputs": [],
   "source": [
    "gwas_counts[\"counts\"]=gwas_counts[\"counts\"]"
   ]
  },
  {
   "cell_type": "code",
   "execution_count": 36,
   "metadata": {},
   "outputs": [],
   "source": [
    "gwas_counts_filt=gwas_counts[gwas_counts[\"counts\"]>5]"
   ]
  },
  {
   "cell_type": "code",
   "execution_count": 37,
   "metadata": {},
   "outputs": [
    {
     "name": "stderr",
     "output_type": "stream",
     "text": [
      "/nrnb/opt/anaconda3.7/lib/python3.7/site-packages/ipykernel_launcher.py:1: SettingWithCopyWarning: \n",
      "A value is trying to be set on a copy of a slice from a DataFrame.\n",
      "Try using .loc[row_indexer,col_indexer] = value instead\n",
      "\n",
      "See the caveats in the documentation: https://pandas.pydata.org/pandas-docs/stable/user_guide/indexing.html#returning-a-view-versus-a-copy\n",
      "  \"\"\"Entry point for launching an IPython kernel.\n"
     ]
    }
   ],
   "source": [
    "gwas_counts_filt[\"gwas\"]=gwas_counts_filt[\"gwas\"].str.split(\"(\").str[0]"
   ]
  },
  {
   "cell_type": "code",
   "execution_count": 38,
   "metadata": {},
   "outputs": [],
   "source": [
    "mp={\"Asthma \":\"Asthma\"}"
   ]
  },
  {
   "cell_type": "code",
   "execution_count": 39,
   "metadata": {},
   "outputs": [
    {
     "name": "stderr",
     "output_type": "stream",
     "text": [
      "/nrnb/opt/anaconda3.7/lib/python3.7/site-packages/ipykernel_launcher.py:1: SettingWithCopyWarning: \n",
      "A value is trying to be set on a copy of a slice from a DataFrame.\n",
      "Try using .loc[row_indexer,col_indexer] = value instead\n",
      "\n",
      "See the caveats in the documentation: https://pandas.pydata.org/pandas-docs/stable/user_guide/indexing.html#returning-a-view-versus-a-copy\n",
      "  \"\"\"Entry point for launching an IPython kernel.\n"
     ]
    }
   ],
   "source": [
    "gwas_counts_filt[\"gwas\"]=gwas_counts_filt[\"gwas\"].map(mp).fillna(gwas_counts_filt[\"gwas\"])"
   ]
  },
  {
   "cell_type": "code",
   "execution_count": 40,
   "metadata": {
    "scrolled": false
   },
   "outputs": [
    {
     "data": {
      "image/png": "[encoded data removed]",
      "text/plain": [
       "<Figure size 720x360 with 1 Axes>"
      ]
     },
     "metadata": {
      "needs_background": "light"
     },
     "output_type": "display_data"
    }
   ],
   "source": [
    "f=plt.figure(figsize=(10,5))\n",
    "ax = sns.barplot(x=\"gwas\", y=\"counts\", data=gwas_counts_filt)\n",
    "plt.xlabel(\"\")\n",
    "plt.ylabel(\"number of snps\")\n",
    "plt.xticks(rotation=90)\n",
    "f.savefig(\"../plots/gwas.pdf\")"
   ]
  },
  {
   "cell_type": "markdown",
   "metadata": {},
   "source": [
    "## Get Chat et al. autoimmune snps"
   ]
  },
  {
   "cell_type": "code",
   "execution_count": 104,
   "metadata": {},
   "outputs": [],
   "source": [
    "chat=pd.read_csv(\"Chatetal2019_supplementaltable1.csv\")"
   ]
  },
  {
   "cell_type": "code",
   "execution_count": 105,
   "metadata": {},
   "outputs": [
    {
     "data": {
      "text/html": [
       "<div>\n",
       "<style scoped>\n",
       "    .dataframe tbody tr th:only-of-type {\n",
       "        vertical-align: middle;\n",
       "    }\n",
       "\n",
       "    .dataframe tbody tr th {\n",
       "        vertical-align: top;\n",
       "    }\n",
       "\n",
       "    .dataframe thead th {\n",
       "        text-align: right;\n",
       "    }\n",
       "</style>\n",
       "<table border=\"1\" class=\"dataframe\">\n",
       "  <thead>\n",
       "    <tr style=\"text-align: right;\">\n",
       "      <th></th>\n",
       "      <th>SNP</th>\n",
       "      <th>Mapped Genes</th>\n",
       "      <th>Chromosome Position</th>\n",
       "      <th>Associated Diseases</th>\n",
       "      <th>Maximum reported p-value</th>\n",
       "      <th>References</th>\n",
       "    </tr>\n",
       "  </thead>\n",
       "  <tbody>\n",
       "    <tr>\n",
       "      <th>0</th>\n",
       "      <td>rs10488631</td>\n",
       "      <td>TNPO3, IRF5</td>\n",
       "      <td>chr7:128954129</td>\n",
       "      <td>Lupus, rheumatoid arthritis, systemic sclerosis</td>\n",
       "      <td>1.860000e-13</td>\n",
       "      <td>[1]</td>\n",
       "    </tr>\n",
       "    <tr>\n",
       "      <th>1</th>\n",
       "      <td>rs11203203</td>\n",
       "      <td>UBASH3A</td>\n",
       "      <td>chr21:42416077</td>\n",
       "      <td>Celiac disease, rheumatoid arthritis, type 1 d...</td>\n",
       "      <td>3.600000e-04</td>\n",
       "      <td>[2]</td>\n",
       "    </tr>\n",
       "    <tr>\n",
       "      <th>2</th>\n",
       "      <td>rs11209026</td>\n",
       "      <td>IL12RB2, IL23R</td>\n",
       "      <td>chr1:67240275</td>\n",
       "      <td>Ankylosing spondylitis, colitis, inflammatory ...</td>\n",
       "      <td>1.730000e-10</td>\n",
       "      <td>[3]</td>\n",
       "    </tr>\n",
       "    <tr>\n",
       "      <th>3</th>\n",
       "      <td>rs12720356</td>\n",
       "      <td>TYK2</td>\n",
       "      <td>chr19:10359299</td>\n",
       "      <td>Colitis, inflammatory bowel, cutaneous psoriasis</td>\n",
       "      <td>3.900000e-06</td>\n",
       "      <td>[4]</td>\n",
       "    </tr>\n",
       "    <tr>\n",
       "      <th>4</th>\n",
       "      <td>rs1295686</td>\n",
       "      <td>RAD50, IL13, IL4, KIF3A</td>\n",
       "      <td>chr5:132660151</td>\n",
       "      <td>Allergy, asthma, cutaneous psoriasis</td>\n",
       "      <td>1.400000e-07</td>\n",
       "      <td>[5]</td>\n",
       "    </tr>\n",
       "  </tbody>\n",
       "</table>\n",
       "</div>"
      ],
      "text/plain": [
       "          SNP             Mapped Genes Chromosome Position  \\\n",
       "0  rs10488631              TNPO3, IRF5      chr7:128954129   \n",
       "1  rs11203203                  UBASH3A      chr21:42416077   \n",
       "2  rs11209026           IL12RB2, IL23R       chr1:67240275   \n",
       "3  rs12720356                     TYK2      chr19:10359299   \n",
       "4   rs1295686  RAD50, IL13, IL4, KIF3A      chr5:132660151   \n",
       "\n",
       "                                 Associated Diseases  \\\n",
       "0    Lupus, rheumatoid arthritis, systemic sclerosis   \n",
       "1  Celiac disease, rheumatoid arthritis, type 1 d...   \n",
       "2  Ankylosing spondylitis, colitis, inflammatory ...   \n",
       "3   Colitis, inflammatory bowel, cutaneous psoriasis   \n",
       "4               Allergy, asthma, cutaneous psoriasis   \n",
       "\n",
       "   Maximum reported p-value References  \n",
       "0              1.860000e-13        [1]  \n",
       "1              3.600000e-04        [2]  \n",
       "2              1.730000e-10        [3]  \n",
       "3              3.900000e-06        [4]  \n",
       "4              1.400000e-07        [5]  "
      ]
     },
     "execution_count": 105,
     "metadata": {},
     "output_type": "execute_result"
    }
   ],
   "source": [
    "chat.head()"
   ]
  },
  {
   "cell_type": "code",
   "execution_count": 106,
   "metadata": {},
   "outputs": [],
   "source": [
    "snps=pd.read_csv(\"../snp-tables/immune-microenvironment-snps-all.tsv\",delimiter=\"\\t\")"
   ]
  },
  {
   "cell_type": "code",
   "execution_count": 107,
   "metadata": {},
   "outputs": [],
   "source": [
    "snps[\"variant\"]=snps[\"snps\"].str.rsplit(\":\",2).str[0]\n",
    "snps[\"variant\"]=\"chr\"+snps[\"variant\"]"
   ]
  },
  {
   "cell_type": "code",
   "execution_count": 108,
   "metadata": {},
   "outputs": [
    {
     "data": {
      "text/html": [
       "<div>\n",
       "<style scoped>\n",
       "    .dataframe tbody tr th:only-of-type {\n",
       "        vertical-align: middle;\n",
       "    }\n",
       "\n",
       "    .dataframe tbody tr th {\n",
       "        vertical-align: top;\n",
       "    }\n",
       "\n",
       "    .dataframe thead th {\n",
       "        text-align: right;\n",
       "    }\n",
       "</style>\n",
       "<table border=\"1\" class=\"dataframe\">\n",
       "  <thead>\n",
       "    <tr style=\"text-align: right;\">\n",
       "      <th></th>\n",
       "      <th>indexsnps</th>\n",
       "      <th>snps</th>\n",
       "      <th>file</th>\n",
       "      <th>p-value</th>\n",
       "      <th>variant</th>\n",
       "    </tr>\n",
       "  </thead>\n",
       "  <tbody>\n",
       "  </tbody>\n",
       "</table>\n",
       "</div>"
      ],
      "text/plain": [
       "Empty DataFrame\n",
       "Columns: [indexsnps, snps, file, p-value, variant]\n",
       "Index: []"
      ]
     },
     "execution_count": 108,
     "metadata": {},
     "output_type": "execute_result"
    }
   ],
   "source": [
    "snps[snps[\"variant\"].isin(chat[\"Chromosome Position\"].tolist())]"
   ]
  },
  {
   "cell_type": "code",
   "execution_count": null,
   "metadata": {},
   "outputs": [],
   "source": []
  }
 ],
 "metadata": {
  "kernelspec": {
   "display_name": "Python 3",
   "language": "python",
   "name": "python3"
  },
  "language_info": {
   "codemirror_mode": {
    "name": "ipython",
    "version": 3
   },
   "file_extension": ".py",
   "mimetype": "text/x-python",
   "name": "python",
   "nbconvert_exporter": "python",
   "pygments_lexer": "ipython3",
   "version": "3.7.7"
  }
 },
 "nbformat": 4,
 "nbformat_minor": 4
}
