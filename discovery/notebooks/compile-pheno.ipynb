{
 "cells": [
  {
   "cell_type": "code",
   "execution_count": 1,
   "metadata": {},
   "outputs": [],
   "source": [
    "import sys \n",
    "sys.path.append(\"/cellar/users/mpagadal/Programs/anaconda3/lib/python3.7/site-packages\")\n",
    "sys.path.insert(1, '/cellar/users/mpagadal/Data/scripts')\n",
    "import json"
   ]
  },
  {
   "cell_type": "code",
   "execution_count": 2,
   "metadata": {},
   "outputs": [],
   "source": [
    "import pandas as pd\n",
    "import os\n",
    "import matplotlib.pyplot as plt\n",
    "import matplotlib as mpl\n",
    "from itertools import product\n",
    "import seaborn as sns\n",
    "import networkx as nx\n",
    "from ndex2.nice_cx_network import NiceCXNetwork \n",
    "import ndex2.client as nc\n",
    "import ndex2"
   ]
  },
  {
   "cell_type": "code",
   "execution_count": 3,
   "metadata": {},
   "outputs": [],
   "source": [
    "import matplotlib\n",
    "matplotlib.rcParams['pdf.fonttype'] = 42\n",
    "matplotlib.rcParams['ps.fonttype'] = 42"
   ]
  },
  {
   "cell_type": "code",
   "execution_count": 4,
   "metadata": {},
   "outputs": [],
   "source": [
    "from get_brian_rna import *"
   ]
  },
  {
   "cell_type": "code",
   "execution_count": 5,
   "metadata": {},
   "outputs": [],
   "source": [
    "from upsetplot import generate_counts\n",
    "from upsetplot import plot\n",
    "from matplotlib import pyplot"
   ]
  },
  {
   "cell_type": "markdown",
   "metadata": {},
   "source": [
    "## Collect phenotype IDs"
   ]
  },
  {
   "cell_type": "markdown",
   "metadata": {},
   "source": [
    "Our goal was to collect central phenotypes that shape the tumor immune microenvironment. These phenotypes include measures of immune states, immune infiltration and gene expression collected from a variety of sources, including gene sets, literature, and results of tool calculations"
   ]
  },
  {
   "cell_type": "code",
   "execution_count": 6,
   "metadata": {},
   "outputs": [],
   "source": [
    "def filter_zeros(df,threshold):\n",
    "    '''\n",
    "    inputs:\n",
    "    df: dataframe of rna values\n",
    "    threshold: % of zero values by which to exclude phenotypes\n",
    "    \n",
    "    output:\n",
    "    dataframe with rna values < threshold of zero values\n",
    "    '''\n",
    "    \n",
    "    keep=[]\n",
    "    remove=[]\n",
    "    \n",
    "    for x in df.columns:\n",
    "        if len(df[df[x]==0])>threshold*len(df):\n",
    "            remove.append(x)\n",
    "        else:\n",
    "            keep.append(x)\n",
    "    \n",
    "    print(\"{} phenotypes with > {} zeroes were removed\".format(len(remove),threshold))\n",
    "    return(df[keep])\n",
    "        "
   ]
  },
  {
   "cell_type": "code",
   "execution_count": 12,
   "metadata": {},
   "outputs": [],
   "source": [
    "pheno_folder=\"/cellar/users/mpagadal/Data/projects/germline-immune/discovery/phenotypes/downloaded_phenos/\""
   ]
  },
  {
   "cell_type": "code",
   "execution_count": 13,
   "metadata": {},
   "outputs": [],
   "source": [
    "antigen_present=pd.read_csv(pheno_folder+\"antigen_present_geneset.txt\",skiprows=[1])\n",
    "antigen_present_list=antigen_present[\"GO_ANTIGEN_PROCESSING_AND_PRESENTATION\"].tolist()\n",
    "antigen_present_list.append(\"MARCH1\")"
   ]
  },
  {
   "cell_type": "code",
   "execution_count": 14,
   "metadata": {},
   "outputs": [],
   "source": [
    "im_landscape=pd.read_csv(pheno_folder+\"im-landscape-markers.txt\",header=None)\n",
    "im_landscape_list=im_landscape[0].tolist()"
   ]
  },
  {
   "cell_type": "code",
   "execution_count": 19,
   "metadata": {},
   "outputs": [],
   "source": [
    "danaher=pd.read_csv(pheno_folder+\"danaher_markers.csv\")\n",
    "danaher_list=danaher[\"Gene\"].tolist()"
   ]
  },
  {
   "cell_type": "code",
   "execution_count": 20,
   "metadata": {},
   "outputs": [],
   "source": [
    "im_checkpoint=pd.read_csv(pheno_folder+\"immune-checkpoint.csv\")\n",
    "im_checkpoint_list=im_checkpoint[\"HGNC Symbol\"].tolist()\n",
    "im_checkpoint_list=[x for x in im_checkpoint_list if str(x) != \"nan\"]"
   ]
  },
  {
   "cell_type": "code",
   "execution_count": 21,
   "metadata": {},
   "outputs": [],
   "source": [
    "landscape=pd.read_csv(pheno_folder+\"pheno-immune-landscape-comp\",delimiter=\"\\t\")\n",
    "landscape_comps=landscape.columns[2:]"
   ]
  },
  {
   "cell_type": "code",
   "execution_count": 22,
   "metadata": {},
   "outputs": [],
   "source": [
    "ifng=pd.read_csv(pheno_folder+\"ifng-markers.txt\",header=None)\n",
    "ifng_list=ifng[0].tolist()"
   ]
  },
  {
   "cell_type": "code",
   "execution_count": 23,
   "metadata": {},
   "outputs": [],
   "source": [
    "tgfbeta=pd.read_csv(pheno_folder+\"tgf-beta-markers.txt\",header=None)\n",
    "tgfbeta_list=tgfbeta[0].tolist()"
   ]
  },
  {
   "cell_type": "code",
   "execution_count": 24,
   "metadata": {},
   "outputs": [],
   "source": [
    "cibersortx=pd.read_csv(\"/cellar/users/mpagadal/Data/cibersort/cibersortx-results/tcga/tpm_cibersortx_compiled_allsig.tsv\",delimiter=\"\\t\")\n",
    "cibersortx_list=[x.replace(\" \",\".\") for x in cibersortx.columns[1:]]"
   ]
  },
  {
   "cell_type": "code",
   "execution_count": 25,
   "metadata": {},
   "outputs": [
    {
     "name": "stdout",
     "output_type": "stream",
     "text": [
      "228\n",
      "436\n",
      "60\n",
      "78\n",
      "6\n",
      "6\n",
      "19\n",
      "61\n"
     ]
    }
   ],
   "source": [
    "print(len(antigen_present_list))\n",
    "print(len(im_landscape_list))\n",
    "print(len(danaher_list))\n",
    "print(len(im_checkpoint_list))\n",
    "print(len(landscape_comps))\n",
    "print(len(ifng_list))\n",
    "print(len(tgfbeta_list))\n",
    "print(len(cibersortx_list))\n"
   ]
  },
  {
   "cell_type": "markdown",
   "metadata": {},
   "source": [
    "### Create phenotype dictionary"
   ]
  },
  {
   "cell_type": "code",
   "execution_count": 26,
   "metadata": {},
   "outputs": [],
   "source": [
    "pheno_dict={}\n",
    "\n",
    "for x in antigen_present_list:\n",
    "    x=x.replace(\"-\",\".\")\n",
    "    pheno_dict[x]=\"antigen present\"\n",
    "for x in im_landscape_list:\n",
    "    x=x.replace(\"-\",\".\")\n",
    "    pheno_dict[x]=\"immunomodulators\"\n",
    "for x in danaher_list:\n",
    "    x=x.replace(\"-\",\".\")\n",
    "    pheno_dict[x]=\"cell type\"\n",
    "for x in im_checkpoint_list:\n",
    "    x=x.replace(\"-\",\".\")\n",
    "    pheno_dict[x]=\"immune checkpoint\"\n",
    "for x in landscape_comps:\n",
    "    x=x.replace(\"-\",\".\")\n",
    "    pheno_dict[x]=\"landscape components\"\n",
    "for x in ifng_list:\n",
    "    x=x.replace(\"-\",\".\")\n",
    "    pheno_dict[x]=\"IFNG\"    \n",
    "for x in tgfbeta_list:\n",
    "    x=x.replace(\"-\",\".\")\n",
    "    pheno_dict[x]=\"TGFbeta\"\n",
    "for x in cibersortx_list:\n",
    "    x=x.replace(\"-\",\".\")\n",
    "    pheno_dict[x]=\"immune infiltration\""
   ]
  },
  {
   "cell_type": "code",
   "execution_count": 27,
   "metadata": {},
   "outputs": [],
   "source": [
    "for x in pheno_dict.keys():\n",
    "    if \"HLA\" in x:\n",
    "        pheno_dict[x]=\"antigen present\""
   ]
  },
  {
   "cell_type": "code",
   "execution_count": 28,
   "metadata": {},
   "outputs": [
    {
     "name": "stdout",
     "output_type": "stream",
     "text": [
      "833\n"
     ]
    }
   ],
   "source": [
    "print(len(pheno_dict))"
   ]
  },
  {
   "cell_type": "code",
   "execution_count": 36,
   "metadata": {},
   "outputs": [],
   "source": [
    "import json\n",
    "with open('../data/pheno_dictionary.json', 'w') as json_file:\n",
    "    json.dump(pheno_dict, json_file)"
   ]
  },
  {
   "cell_type": "code",
   "execution_count": 37,
   "metadata": {},
   "outputs": [],
   "source": [
    "with open('../data/pheno_dictionary.json', 'r') as f:\n",
    "    pheno_dict = json.load(f)"
   ]
  },
  {
   "cell_type": "code",
   "execution_count": 38,
   "metadata": {},
   "outputs": [
    {
     "data": {
      "text/plain": [
       "'immunomodulators'"
      ]
     },
     "execution_count": 38,
     "metadata": {},
     "output_type": "execute_result"
    }
   ],
   "source": [
    "pheno_dict[\"BRCA2\"]"
   ]
  },
  {
   "cell_type": "code",
   "execution_count": 39,
   "metadata": {},
   "outputs": [],
   "source": [
    "pheno_map=pd.DataFrame(pheno_dict,index=[0])"
   ]
  },
  {
   "cell_type": "code",
   "execution_count": 40,
   "metadata": {},
   "outputs": [],
   "source": [
    "pheno_map=pheno_map.T"
   ]
  },
  {
   "cell_type": "code",
   "execution_count": 41,
   "metadata": {},
   "outputs": [],
   "source": [
    "pheno_map.to_csv(\"../data/phenotype.mapping.csv\",header=None)"
   ]
  },
  {
   "cell_type": "code",
   "execution_count": null,
   "metadata": {},
   "outputs": [],
   "source": []
  },
  {
   "cell_type": "code",
   "execution_count": null,
   "metadata": {},
   "outputs": [],
   "source": []
  },
  {
   "cell_type": "code",
   "execution_count": null,
   "metadata": {},
   "outputs": [],
   "source": []
  },
  {
   "cell_type": "code",
   "execution_count": null,
   "metadata": {},
   "outputs": [],
   "source": []
  }
 ],
 "metadata": {
  "kernelspec": {
   "display_name": "Python 3",
   "language": "python",
   "name": "python3"
  },
  "language_info": {
   "codemirror_mode": {
    "name": "ipython",
    "version": 3
   },
   "file_extension": ".py",
   "mimetype": "text/x-python",
   "name": "python",
   "nbconvert_exporter": "python",
   "pygments_lexer": "ipython3",
   "version": "3.7.7"
  }
 },
 "nbformat": 4,
 "nbformat_minor": 2
}
