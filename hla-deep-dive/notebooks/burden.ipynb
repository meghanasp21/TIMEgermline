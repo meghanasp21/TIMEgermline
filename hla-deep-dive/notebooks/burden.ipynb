{
 "cells": [
  {
   "cell_type": "code",
   "execution_count": 30,
   "metadata": {},
   "outputs": [],
   "source": [
    "import pandas as pd\n",
    "import seaborn as sns\n",
    "from matplotlib import pyplot as plt\n",
    "import numpy as np"
   ]
  },
  {
   "cell_type": "code",
   "execution_count": 31,
   "metadata": {},
   "outputs": [],
   "source": [
    "import matplotlib\n",
    "matplotlib.rcParams['pdf.fonttype'] = 42\n",
    "matplotlib.rcParams['ps.fonttype'] = 42"
   ]
  },
  {
   "cell_type": "markdown",
   "metadata": {},
   "source": [
    "## Get genotypes"
   ]
  },
  {
   "cell_type": "code",
   "execution_count": 32,
   "metadata": {},
   "outputs": [],
   "source": [
    "raw=pd.read_csv(\"/nrnb/users/mpagadal/tcga-genotypes/germline-immune/hla.snp.raw\",delim_whitespace=True)\n",
    "raw=raw.set_index(\"FID\")\n",
    "raw=raw.iloc[:,5:]"
   ]
  },
  {
   "cell_type": "code",
   "execution_count": 33,
   "metadata": {},
   "outputs": [
    {
     "data": {
      "text/plain": [
       "['6:29933439:T:C_C']"
      ]
     },
     "execution_count": 33,
     "metadata": {},
     "output_type": "execute_result"
    }
   ],
   "source": [
    "[x for x in raw if \"6:29933439:T:C\" in x]"
   ]
  },
  {
   "cell_type": "code",
   "execution_count": 34,
   "metadata": {},
   "outputs": [],
   "source": [
    "raw.columns=[x.split(\"_\")[0] for x in raw.columns]"
   ]
  },
  {
   "cell_type": "code",
   "execution_count": 35,
   "metadata": {},
   "outputs": [
    {
     "data": {
      "text/html": [
       "<div>\n",
       "<style scoped>\n",
       "    .dataframe tbody tr th:only-of-type {\n",
       "        vertical-align: middle;\n",
       "    }\n",
       "\n",
       "    .dataframe tbody tr th {\n",
       "        vertical-align: top;\n",
       "    }\n",
       "\n",
       "    .dataframe thead th {\n",
       "        text-align: right;\n",
       "    }\n",
       "</style>\n",
       "<table border=\"1\" class=\"dataframe\">\n",
       "  <thead>\n",
       "    <tr style=\"text-align: right;\">\n",
       "      <th></th>\n",
       "      <th>6:26364628:A:C</th>\n",
       "      <th>6:26370605:T:C</th>\n",
       "      <th>6:27410422:G:A</th>\n",
       "      <th>6:28741734:C:A</th>\n",
       "      <th>6:29592532:C:A</th>\n",
       "      <th>6:29697517:G:A</th>\n",
       "      <th>6:29752808:A:G</th>\n",
       "      <th>6:29782027:C:T</th>\n",
       "      <th>6:29816371:T:G</th>\n",
       "      <th>6:29893626:C:A</th>\n",
       "      <th>...</th>\n",
       "      <th>6:32796793:G:A</th>\n",
       "      <th>6:32804570:G:A</th>\n",
       "      <th>6:32850839:C:T</th>\n",
       "      <th>6:32852448:C:T</th>\n",
       "      <th>6:32853511:G:A</th>\n",
       "      <th>6:32899485:G:A</th>\n",
       "      <th>6:32900718:G:A</th>\n",
       "      <th>6:33049074:G:T</th>\n",
       "      <th>6:33064393:G:A</th>\n",
       "      <th>6:33077271:A:G</th>\n",
       "    </tr>\n",
       "    <tr>\n",
       "      <th>FID</th>\n",
       "      <th></th>\n",
       "      <th></th>\n",
       "      <th></th>\n",
       "      <th></th>\n",
       "      <th></th>\n",
       "      <th></th>\n",
       "      <th></th>\n",
       "      <th></th>\n",
       "      <th></th>\n",
       "      <th></th>\n",
       "      <th></th>\n",
       "      <th></th>\n",
       "      <th></th>\n",
       "      <th></th>\n",
       "      <th></th>\n",
       "      <th></th>\n",
       "      <th></th>\n",
       "      <th></th>\n",
       "      <th></th>\n",
       "      <th></th>\n",
       "      <th></th>\n",
       "    </tr>\n",
       "  </thead>\n",
       "  <tbody>\n",
       "    <tr>\n",
       "      <th>TCGA-01-0628</th>\n",
       "      <td>0</td>\n",
       "      <td>1</td>\n",
       "      <td>0</td>\n",
       "      <td>0</td>\n",
       "      <td>0</td>\n",
       "      <td>1</td>\n",
       "      <td>0</td>\n",
       "      <td>0</td>\n",
       "      <td>0</td>\n",
       "      <td>0</td>\n",
       "      <td>...</td>\n",
       "      <td>0</td>\n",
       "      <td>0</td>\n",
       "      <td>0</td>\n",
       "      <td>0</td>\n",
       "      <td>0</td>\n",
       "      <td>2</td>\n",
       "      <td>0</td>\n",
       "      <td>0</td>\n",
       "      <td>0</td>\n",
       "      <td>0</td>\n",
       "    </tr>\n",
       "    <tr>\n",
       "      <th>TCGA-01-0630</th>\n",
       "      <td>1</td>\n",
       "      <td>2</td>\n",
       "      <td>1</td>\n",
       "      <td>0</td>\n",
       "      <td>0</td>\n",
       "      <td>1</td>\n",
       "      <td>0</td>\n",
       "      <td>2</td>\n",
       "      <td>0</td>\n",
       "      <td>0</td>\n",
       "      <td>...</td>\n",
       "      <td>0</td>\n",
       "      <td>1</td>\n",
       "      <td>0</td>\n",
       "      <td>0</td>\n",
       "      <td>0</td>\n",
       "      <td>0</td>\n",
       "      <td>1</td>\n",
       "      <td>1</td>\n",
       "      <td>0</td>\n",
       "      <td>1</td>\n",
       "    </tr>\n",
       "    <tr>\n",
       "      <th>TCGA-01-0633</th>\n",
       "      <td>0</td>\n",
       "      <td>2</td>\n",
       "      <td>0</td>\n",
       "      <td>0</td>\n",
       "      <td>0</td>\n",
       "      <td>0</td>\n",
       "      <td>0</td>\n",
       "      <td>1</td>\n",
       "      <td>0</td>\n",
       "      <td>1</td>\n",
       "      <td>...</td>\n",
       "      <td>0</td>\n",
       "      <td>1</td>\n",
       "      <td>0</td>\n",
       "      <td>0</td>\n",
       "      <td>0</td>\n",
       "      <td>1</td>\n",
       "      <td>0</td>\n",
       "      <td>0</td>\n",
       "      <td>0</td>\n",
       "      <td>0</td>\n",
       "    </tr>\n",
       "    <tr>\n",
       "      <th>TCGA-01-0636</th>\n",
       "      <td>0</td>\n",
       "      <td>1</td>\n",
       "      <td>0</td>\n",
       "      <td>0</td>\n",
       "      <td>0</td>\n",
       "      <td>1</td>\n",
       "      <td>0</td>\n",
       "      <td>1</td>\n",
       "      <td>0</td>\n",
       "      <td>0</td>\n",
       "      <td>...</td>\n",
       "      <td>0</td>\n",
       "      <td>0</td>\n",
       "      <td>1</td>\n",
       "      <td>0</td>\n",
       "      <td>0</td>\n",
       "      <td>0</td>\n",
       "      <td>1</td>\n",
       "      <td>0</td>\n",
       "      <td>0</td>\n",
       "      <td>0</td>\n",
       "    </tr>\n",
       "    <tr>\n",
       "      <th>TCGA-01-0637</th>\n",
       "      <td>0</td>\n",
       "      <td>2</td>\n",
       "      <td>0</td>\n",
       "      <td>0</td>\n",
       "      <td>0</td>\n",
       "      <td>0</td>\n",
       "      <td>0</td>\n",
       "      <td>1</td>\n",
       "      <td>0</td>\n",
       "      <td>0</td>\n",
       "      <td>...</td>\n",
       "      <td>1</td>\n",
       "      <td>1</td>\n",
       "      <td>0</td>\n",
       "      <td>0</td>\n",
       "      <td>0</td>\n",
       "      <td>0</td>\n",
       "      <td>0</td>\n",
       "      <td>0</td>\n",
       "      <td>0</td>\n",
       "      <td>2</td>\n",
       "    </tr>\n",
       "  </tbody>\n",
       "</table>\n",
       "<p>5 rows × 105 columns</p>\n",
       "</div>"
      ],
      "text/plain": [
       "              6:26364628:A:C  6:26370605:T:C  6:27410422:G:A  6:28741734:C:A  \\\n",
       "FID                                                                            \n",
       "TCGA-01-0628               0               1               0               0   \n",
       "TCGA-01-0630               1               2               1               0   \n",
       "TCGA-01-0633               0               2               0               0   \n",
       "TCGA-01-0636               0               1               0               0   \n",
       "TCGA-01-0637               0               2               0               0   \n",
       "\n",
       "              6:29592532:C:A  6:29697517:G:A  6:29752808:A:G  6:29782027:C:T  \\\n",
       "FID                                                                            \n",
       "TCGA-01-0628               0               1               0               0   \n",
       "TCGA-01-0630               0               1               0               2   \n",
       "TCGA-01-0633               0               0               0               1   \n",
       "TCGA-01-0636               0               1               0               1   \n",
       "TCGA-01-0637               0               0               0               1   \n",
       "\n",
       "              6:29816371:T:G  6:29893626:C:A  ...  6:32796793:G:A  \\\n",
       "FID                                           ...                   \n",
       "TCGA-01-0628               0               0  ...               0   \n",
       "TCGA-01-0630               0               0  ...               0   \n",
       "TCGA-01-0633               0               1  ...               0   \n",
       "TCGA-01-0636               0               0  ...               0   \n",
       "TCGA-01-0637               0               0  ...               1   \n",
       "\n",
       "              6:32804570:G:A  6:32850839:C:T  6:32852448:C:T  6:32853511:G:A  \\\n",
       "FID                                                                            \n",
       "TCGA-01-0628               0               0               0               0   \n",
       "TCGA-01-0630               1               0               0               0   \n",
       "TCGA-01-0633               1               0               0               0   \n",
       "TCGA-01-0636               0               1               0               0   \n",
       "TCGA-01-0637               1               0               0               0   \n",
       "\n",
       "              6:32899485:G:A  6:32900718:G:A  6:33049074:G:T  6:33064393:G:A  \\\n",
       "FID                                                                            \n",
       "TCGA-01-0628               2               0               0               0   \n",
       "TCGA-01-0630               0               1               1               0   \n",
       "TCGA-01-0633               1               0               0               0   \n",
       "TCGA-01-0636               0               1               0               0   \n",
       "TCGA-01-0637               0               0               0               0   \n",
       "\n",
       "              6:33077271:A:G  \n",
       "FID                           \n",
       "TCGA-01-0628               0  \n",
       "TCGA-01-0630               1  \n",
       "TCGA-01-0633               0  \n",
       "TCGA-01-0636               0  \n",
       "TCGA-01-0637               2  \n",
       "\n",
       "[5 rows x 105 columns]"
      ]
     },
     "execution_count": 35,
     "metadata": {},
     "output_type": "execute_result"
    }
   ],
   "source": [
    "raw.head()"
   ]
  },
  {
   "cell_type": "code",
   "execution_count": 52,
   "metadata": {},
   "outputs": [],
   "source": [
    "tpm=pd.read_csv(\"/cellar/users/mpagadal/Data/projects/germline-immune/discovery/phenotypes/processed_phenos/tpm/tumor/pheno_all_zcancer\",delimiter=\"\\t\")\n",
    "firebrowse=pd.read_csv(\"/cellar/users/mpagadal/Data/projects/germline-immune/discovery/phenotypes/processed_phenos/firebrowse/tumor/pheno_all_zcancer\",delimiter=\"\\t\")\n",
    "pancan=pd.read_csv(\"/cellar/users/mpagadal/Data/projects/germline-immune/discovery/phenotypes/processed_phenos/pancanatlas/tumor/pheno_all_zcancer\",delimiter=\"\\t\")"
   ]
  },
  {
   "cell_type": "code",
   "execution_count": 53,
   "metadata": {},
   "outputs": [],
   "source": [
    "ase=pd.read_csv(\"/cellar/users/mpagadal/Data/projects/germline-immune/hla-deep-dive/phenotypes/hla-ase/avg/pheno_all_zcancer\",delimiter=\"\\t\")"
   ]
  },
  {
   "cell_type": "markdown",
   "metadata": {},
   "source": [
    "### map to cancer types"
   ]
  },
  {
   "cell_type": "code",
   "execution_count": 37,
   "metadata": {},
   "outputs": [],
   "source": [
    "canc = pd.read_csv(\"/nrnb/users/mpagadal/tcga-genotypes/birdseed-processing/gtype.meta\", delimiter=\"\\t\", header=None)\n",
    "mp = canc.set_index(2)[0].to_dict()\n",
    "\n",
    "tpm[\"cancer\"]=tpm[\"FID\"].map(mp)\n",
    "firebrowse[\"cancer\"]=firebrowse[\"FID\"].map(mp)\n",
    "pancan[\"cancer\"]=pancan[\"FID\"].map(mp)"
   ]
  },
  {
   "cell_type": "code",
   "execution_count": 54,
   "metadata": {},
   "outputs": [],
   "source": [
    "geno_immune=pd.merge(raw,ase,on=[\"FID\"])"
   ]
  },
  {
   "cell_type": "code",
   "execution_count": 55,
   "metadata": {},
   "outputs": [],
   "source": [
    "snp=\"6:29910358:G:C\"\n",
    "gene=\"HLA.A\""
   ]
  },
  {
   "cell_type": "code",
   "execution_count": 56,
   "metadata": {},
   "outputs": [],
   "source": [
    "geno_immune_gene=geno_immune[~(geno_immune[gene]==-9)]"
   ]
  },
  {
   "cell_type": "code",
   "execution_count": 57,
   "metadata": {},
   "outputs": [
    {
     "data": {
      "image/png": "[encoded data removed]",
      "text/plain": [
       "<Figure size 360x360 with 1 Axes>"
      ]
     },
     "metadata": {},
     "output_type": "display_data"
    }
   ],
   "source": [
    "sns.set(style=\"whitegrid\", font_scale = 1)\n",
    "plt.figure(figsize=(5,5))\n",
    "ax=sns.boxplot(x=snp,y=gene,data=geno_immune_gene)\n",
    "\n",
    "labels = [item.get_text() for item in ax.get_xticklabels()]\n",
    "labels=[x+\"\\nn=\"+str(len(geno_immune_gene[geno_immune_gene[snp]==int(x)])) for x in labels]\n",
    "\n",
    "ax.set_xticklabels(labels)\n",
    "plt.ylabel(\"inverse rank \"+gene)\n",
    "\n",
    "plt.savefig(\"../plots/\"+snp+\".\"+gene+\".pdf\")"
   ]
  },
  {
   "cell_type": "markdown",
   "metadata": {},
   "source": [
    "## Filter for genotypes"
   ]
  },
  {
   "cell_type": "code",
   "execution_count": 17,
   "metadata": {},
   "outputs": [],
   "source": [
    "snps=pd.read_csv(\"/cellar/users/mpagadal/Data/projects/germline-immune/snp-tables/immune-microenvironment-hla.tsv\",delimiter=\"\\t\")"
   ]
  },
  {
   "cell_type": "code",
   "execution_count": 19,
   "metadata": {},
   "outputs": [],
   "source": [
    "raw=raw[snps[\"snp\"].unique().tolist()]"
   ]
  },
  {
   "cell_type": "code",
   "execution_count": 20,
   "metadata": {},
   "outputs": [],
   "source": [
    "down=snps[snps[\"beta\"]<0][\"snp\"].tolist()"
   ]
  },
  {
   "cell_type": "code",
   "execution_count": 22,
   "metadata": {
    "scrolled": true
   },
   "outputs": [
    {
     "name": "stdout",
     "output_type": "stream",
     "text": [
      "6:32596635:A:C\n",
      "6:31239896:T:C\n",
      "6:31227823:A:G\n",
      "6:31347644:G:A\n",
      "6:29910358:G:C\n",
      "6:30141350:G:A\n",
      "6:29592532:C:A\n",
      "6:33077271:A:G\n",
      "6:32634243:G:A\n",
      "6:32422191:G:A\n",
      "6:32615950:T:C\n",
      "6:32682664:C:T\n",
      "6:31602967:G:A\n",
      "6:31154493:G:A\n",
      "6:32645906:A:G\n",
      "6:32596036:C:A\n",
      "6:32208673:G:A\n",
      "6:32804570:G:A\n",
      "6:32615945:A:T\n",
      "6:29752808:A:G\n",
      "6:32074804:T:C\n",
      "6:32751236:T:C\n",
      "6:31351887:C:A\n",
      "6:32625369:G:A\n",
      "6:32681992:T:C\n",
      "6:31009508:C:G\n",
      "6:33064393:G:A\n",
      "6:32624128:C:T\n",
      "6:32619229:C:T\n",
      "6:32628103:C:T\n",
      "6:28741734:C:A\n",
      "6:27410422:G:A\n",
      "6:31298890:C:T\n",
      "6:32395000:C:A\n",
      "6:30769726:C:T\n",
      "6:31347069:C:T\n",
      "6:31141612:T:A\n",
      "6:29697517:G:A\n",
      "6:31458936:A:T\n",
      "6:32403119:G:A\n",
      "6:32796793:G:A\n",
      "6:32634243:G:A\n",
      "6:32636351:T:C\n",
      "6:32603936:A:G\n",
      "6:31322980:C:T\n",
      "6:31238053:C:G\n",
      "6:29921773:C:T\n",
      "6:31409102:T:G\n",
      "6:31364076:C:T\n",
      "6:31329494:T:C\n",
      "6:29910371:C:T\n",
      "6:26364628:A:C\n",
      "6:32614080:C:T\n",
      "6:29909372:G:C\n",
      "6:29921927:T:C\n",
      "6:32605295:C:T\n"
     ]
    }
   ],
   "source": [
    "for x in down:\n",
    "    print(x)\n",
    "    mp={0:2,1:1,2:0}\n",
    "    raw[x]=raw[x].map(mp)"
   ]
  },
  {
   "cell_type": "code",
   "execution_count": 23,
   "metadata": {},
   "outputs": [
    {
     "data": {
      "text/html": [
       "<div>\n",
       "<style scoped>\n",
       "    .dataframe tbody tr th:only-of-type {\n",
       "        vertical-align: middle;\n",
       "    }\n",
       "\n",
       "    .dataframe tbody tr th {\n",
       "        vertical-align: top;\n",
       "    }\n",
       "\n",
       "    .dataframe thead th {\n",
       "        text-align: right;\n",
       "    }\n",
       "</style>\n",
       "<table border=\"1\" class=\"dataframe\">\n",
       "  <thead>\n",
       "    <tr style=\"text-align: right;\">\n",
       "      <th></th>\n",
       "      <th>6:32580657:T:C</th>\n",
       "      <th>6:32609106:T:C</th>\n",
       "      <th>6:32602396:T:C</th>\n",
       "      <th>6:32596635:A:C</th>\n",
       "      <th>6:32633130:G:A</th>\n",
       "      <th>6:32664117:A:G</th>\n",
       "      <th>6:32517646:T:G</th>\n",
       "      <th>6:32853511:G:A</th>\n",
       "      <th>6:31239896:T:C</th>\n",
       "      <th>6:31243767:G:C</th>\n",
       "      <th>...</th>\n",
       "      <th>6:32614080:C:T</th>\n",
       "      <th>6:32731258:A:G</th>\n",
       "      <th>6:32626696:C:G</th>\n",
       "      <th>6:31461771:T:A</th>\n",
       "      <th>6:31462248:T:G</th>\n",
       "      <th>6:29910276:G:T</th>\n",
       "      <th>6:29909372:G:C</th>\n",
       "      <th>6:29921927:T:C</th>\n",
       "      <th>6:32610059:G:T</th>\n",
       "      <th>6:32605295:C:T</th>\n",
       "    </tr>\n",
       "    <tr>\n",
       "      <th>FID</th>\n",
       "      <th></th>\n",
       "      <th></th>\n",
       "      <th></th>\n",
       "      <th></th>\n",
       "      <th></th>\n",
       "      <th></th>\n",
       "      <th></th>\n",
       "      <th></th>\n",
       "      <th></th>\n",
       "      <th></th>\n",
       "      <th></th>\n",
       "      <th></th>\n",
       "      <th></th>\n",
       "      <th></th>\n",
       "      <th></th>\n",
       "      <th></th>\n",
       "      <th></th>\n",
       "      <th></th>\n",
       "      <th></th>\n",
       "      <th></th>\n",
       "      <th></th>\n",
       "    </tr>\n",
       "  </thead>\n",
       "  <tbody>\n",
       "    <tr>\n",
       "      <th>TCGA-01-0628</th>\n",
       "      <td>0</td>\n",
       "      <td>0</td>\n",
       "      <td>0</td>\n",
       "      <td>0</td>\n",
       "      <td>0</td>\n",
       "      <td>0</td>\n",
       "      <td>0</td>\n",
       "      <td>0</td>\n",
       "      <td>2</td>\n",
       "      <td>1</td>\n",
       "      <td>...</td>\n",
       "      <td>0</td>\n",
       "      <td>0</td>\n",
       "      <td>0</td>\n",
       "      <td>1</td>\n",
       "      <td>1</td>\n",
       "      <td>1</td>\n",
       "      <td>0</td>\n",
       "      <td>2</td>\n",
       "      <td>2</td>\n",
       "      <td>2</td>\n",
       "    </tr>\n",
       "    <tr>\n",
       "      <th>TCGA-01-0630</th>\n",
       "      <td>0</td>\n",
       "      <td>1</td>\n",
       "      <td>1</td>\n",
       "      <td>2</td>\n",
       "      <td>0</td>\n",
       "      <td>2</td>\n",
       "      <td>0</td>\n",
       "      <td>0</td>\n",
       "      <td>2</td>\n",
       "      <td>0</td>\n",
       "      <td>...</td>\n",
       "      <td>2</td>\n",
       "      <td>1</td>\n",
       "      <td>1</td>\n",
       "      <td>1</td>\n",
       "      <td>1</td>\n",
       "      <td>1</td>\n",
       "      <td>2</td>\n",
       "      <td>2</td>\n",
       "      <td>0</td>\n",
       "      <td>1</td>\n",
       "    </tr>\n",
       "    <tr>\n",
       "      <th>TCGA-01-0633</th>\n",
       "      <td>0</td>\n",
       "      <td>1</td>\n",
       "      <td>0</td>\n",
       "      <td>1</td>\n",
       "      <td>0</td>\n",
       "      <td>1</td>\n",
       "      <td>0</td>\n",
       "      <td>0</td>\n",
       "      <td>2</td>\n",
       "      <td>1</td>\n",
       "      <td>...</td>\n",
       "      <td>1</td>\n",
       "      <td>1</td>\n",
       "      <td>0</td>\n",
       "      <td>1</td>\n",
       "      <td>1</td>\n",
       "      <td>1</td>\n",
       "      <td>2</td>\n",
       "      <td>2</td>\n",
       "      <td>1</td>\n",
       "      <td>0</td>\n",
       "    </tr>\n",
       "    <tr>\n",
       "      <th>TCGA-01-0636</th>\n",
       "      <td>1</td>\n",
       "      <td>1</td>\n",
       "      <td>1</td>\n",
       "      <td>2</td>\n",
       "      <td>1</td>\n",
       "      <td>2</td>\n",
       "      <td>1</td>\n",
       "      <td>0</td>\n",
       "      <td>2</td>\n",
       "      <td>0</td>\n",
       "      <td>...</td>\n",
       "      <td>1</td>\n",
       "      <td>0</td>\n",
       "      <td>2</td>\n",
       "      <td>1</td>\n",
       "      <td>1</td>\n",
       "      <td>0</td>\n",
       "      <td>1</td>\n",
       "      <td>2</td>\n",
       "      <td>0</td>\n",
       "      <td>1</td>\n",
       "    </tr>\n",
       "    <tr>\n",
       "      <th>TCGA-01-0637</th>\n",
       "      <td>1</td>\n",
       "      <td>2</td>\n",
       "      <td>1</td>\n",
       "      <td>2</td>\n",
       "      <td>0</td>\n",
       "      <td>1</td>\n",
       "      <td>0</td>\n",
       "      <td>0</td>\n",
       "      <td>2</td>\n",
       "      <td>1</td>\n",
       "      <td>...</td>\n",
       "      <td>2</td>\n",
       "      <td>1</td>\n",
       "      <td>0</td>\n",
       "      <td>1</td>\n",
       "      <td>1</td>\n",
       "      <td>0</td>\n",
       "      <td>2</td>\n",
       "      <td>2</td>\n",
       "      <td>0</td>\n",
       "      <td>0</td>\n",
       "    </tr>\n",
       "  </tbody>\n",
       "</table>\n",
       "<p>5 rows × 105 columns</p>\n",
       "</div>"
      ],
      "text/plain": [
       "              6:32580657:T:C  6:32609106:T:C  6:32602396:T:C  6:32596635:A:C  \\\n",
       "FID                                                                            \n",
       "TCGA-01-0628               0               0               0               0   \n",
       "TCGA-01-0630               0               1               1               2   \n",
       "TCGA-01-0633               0               1               0               1   \n",
       "TCGA-01-0636               1               1               1               2   \n",
       "TCGA-01-0637               1               2               1               2   \n",
       "\n",
       "              6:32633130:G:A  6:32664117:A:G  6:32517646:T:G  6:32853511:G:A  \\\n",
       "FID                                                                            \n",
       "TCGA-01-0628               0               0               0               0   \n",
       "TCGA-01-0630               0               2               0               0   \n",
       "TCGA-01-0633               0               1               0               0   \n",
       "TCGA-01-0636               1               2               1               0   \n",
       "TCGA-01-0637               0               1               0               0   \n",
       "\n",
       "              6:31239896:T:C  6:31243767:G:C  ...  6:32614080:C:T  \\\n",
       "FID                                           ...                   \n",
       "TCGA-01-0628               2               1  ...               0   \n",
       "TCGA-01-0630               2               0  ...               2   \n",
       "TCGA-01-0633               2               1  ...               1   \n",
       "TCGA-01-0636               2               0  ...               1   \n",
       "TCGA-01-0637               2               1  ...               2   \n",
       "\n",
       "              6:32731258:A:G  6:32626696:C:G  6:31461771:T:A  6:31462248:T:G  \\\n",
       "FID                                                                            \n",
       "TCGA-01-0628               0               0               1               1   \n",
       "TCGA-01-0630               1               1               1               1   \n",
       "TCGA-01-0633               1               0               1               1   \n",
       "TCGA-01-0636               0               2               1               1   \n",
       "TCGA-01-0637               1               0               1               1   \n",
       "\n",
       "              6:29910276:G:T  6:29909372:G:C  6:29921927:T:C  6:32610059:G:T  \\\n",
       "FID                                                                            \n",
       "TCGA-01-0628               1               0               2               2   \n",
       "TCGA-01-0630               1               2               2               0   \n",
       "TCGA-01-0633               1               2               2               1   \n",
       "TCGA-01-0636               0               1               2               0   \n",
       "TCGA-01-0637               0               2               2               0   \n",
       "\n",
       "              6:32605295:C:T  \n",
       "FID                           \n",
       "TCGA-01-0628               2  \n",
       "TCGA-01-0630               1  \n",
       "TCGA-01-0633               0  \n",
       "TCGA-01-0636               1  \n",
       "TCGA-01-0637               0  \n",
       "\n",
       "[5 rows x 105 columns]"
      ]
     },
     "execution_count": 23,
     "metadata": {},
     "output_type": "execute_result"
    }
   ],
   "source": [
    "raw.head()"
   ]
  },
  {
   "cell_type": "code",
   "execution_count": 24,
   "metadata": {},
   "outputs": [],
   "source": [
    "raw[\"score\"]=raw.sum(axis=1)/(2*len(df))"
   ]
  },
  {
   "cell_type": "code",
   "execution_count": 25,
   "metadata": {},
   "outputs": [],
   "source": [
    "raw[\"score\"].to_csv(\"../data/hla-conditional-burden.tsv\",sep=\"\\t\")"
   ]
  },
  {
   "cell_type": "code",
   "execution_count": null,
   "metadata": {},
   "outputs": [],
   "source": []
  },
  {
   "cell_type": "code",
   "execution_count": null,
   "metadata": {},
   "outputs": [],
   "source": []
  },
  {
   "cell_type": "code",
   "execution_count": null,
   "metadata": {},
   "outputs": [],
   "source": []
  },
  {
   "cell_type": "code",
   "execution_count": null,
   "metadata": {},
   "outputs": [],
   "source": []
  },
  {
   "cell_type": "code",
   "execution_count": null,
   "metadata": {},
   "outputs": [],
   "source": []
  },
  {
   "cell_type": "code",
   "execution_count": null,
   "metadata": {},
   "outputs": [],
   "source": []
  },
  {
   "cell_type": "code",
   "execution_count": null,
   "metadata": {},
   "outputs": [],
   "source": []
  },
  {
   "cell_type": "code",
   "execution_count": null,
   "metadata": {},
   "outputs": [],
   "source": []
  },
  {
   "cell_type": "code",
   "execution_count": null,
   "metadata": {},
   "outputs": [],
   "source": []
  },
  {
   "cell_type": "markdown",
   "metadata": {},
   "source": [
    "## Get phenotype"
   ]
  },
  {
   "cell_type": "code",
   "execution_count": 82,
   "metadata": {},
   "outputs": [],
   "source": [
    "pheno=pd.read_csv(\"../processed_phenos/firebrowse/pheno_all_zcancer\",delimiter=\"\\t\")"
   ]
  },
  {
   "cell_type": "code",
   "execution_count": 83,
   "metadata": {},
   "outputs": [],
   "source": [
    "raw=raw.reset_index()"
   ]
  },
  {
   "cell_type": "code",
   "execution_count": 84,
   "metadata": {},
   "outputs": [],
   "source": [
    "raw_pheno=pd.merge(raw,pheno,on=\"FID\",how=\"left\")"
   ]
  },
  {
   "cell_type": "markdown",
   "metadata": {},
   "source": [
    "## plot burden"
   ]
  },
  {
   "cell_type": "code",
   "execution_count": 93,
   "metadata": {
    "scrolled": true
   },
   "outputs": [],
   "source": [
    "gene=\"HLA.B\""
   ]
  },
  {
   "cell_type": "code",
   "execution_count": 94,
   "metadata": {},
   "outputs": [],
   "source": [
    "raw_pheno_filt=raw_pheno[raw_pheno[gene]!=-9]"
   ]
  },
  {
   "cell_type": "code",
   "execution_count": 95,
   "metadata": {},
   "outputs": [
    {
     "data": {
      "image/png": "[encoded data removed]",
      "text/plain": [
       "<Figure size 360x360 with 1 Axes>"
      ]
     },
     "metadata": {
      "needs_background": "light"
     },
     "output_type": "display_data"
    }
   ],
   "source": [
    "f=plt.figure(figsize=(5,5))\n",
    "sns.regplot(x=\"score\",y=\"HLA.A\",data=raw_pheno_filt,color=\"blue\")\n",
    "plt.xlabel(\"burden of HLA snps\")\n",
    "plt.ylabel(\"Macrophage Regulation\")\n",
    "plt.savefig(\"burden.pdf\")"
   ]
  },
  {
   "cell_type": "markdown",
   "metadata": {},
   "source": [
    "## Get age of diagnosis"
   ]
  },
  {
   "cell_type": "code",
   "execution_count": 104,
   "metadata": {},
   "outputs": [],
   "source": [
    "cov=pd.read_csv(\"/cellar/users/mpagadal/Data/plink-associations/covs/immune.filt.cov\",delimiter=\" \")"
   ]
  },
  {
   "cell_type": "code",
   "execution_count": 109,
   "metadata": {},
   "outputs": [],
   "source": [
    "age=pd.merge(raw_pheno_filt,cov,on=\"FID\",how=\"left\")"
   ]
  },
  {
   "cell_type": "code",
   "execution_count": 111,
   "metadata": {},
   "outputs": [],
   "source": [
    "age_filt=age[age[\"age\"]!=-9]"
   ]
  },
  {
   "cell_type": "code",
   "execution_count": 113,
   "metadata": {},
   "outputs": [
    {
     "data": {
      "image/png": "[encoded data removed]",
      "text/plain": [
       "<Figure size 360x360 with 1 Axes>"
      ]
     },
     "metadata": {
      "needs_background": "light"
     },
     "output_type": "display_data"
    }
   ],
   "source": [
    "f=plt.figure(figsize=(5,5))\n",
    "sns.regplot(x=\"score\",y=\"age\",data=age_filt,color=\"blue\")\n",
    "plt.xlabel(\"burden of HLA snps\")\n",
    "plt.ylabel(\"Macrophage Regulation\")\n",
    "plt.savefig(\"burden.pdf\")"
   ]
  },
  {
   "cell_type": "code",
   "execution_count": null,
   "metadata": {},
   "outputs": [],
   "source": []
  },
  {
   "cell_type": "code",
   "execution_count": null,
   "metadata": {},
   "outputs": [],
   "source": []
  },
  {
   "cell_type": "code",
   "execution_count": 108,
   "metadata": {},
   "outputs": [
    {
     "data": {
      "text/plain": [
       "0       -9\n",
       "1       -9\n",
       "2       -9\n",
       "3       -9\n",
       "4       -9\n",
       "        ..\n",
       "8277    79\n",
       "8278    64\n",
       "8279    55\n",
       "8280    52\n",
       "8281    64\n",
       "Name: age, Length: 8282, dtype: int64"
      ]
     },
     "execution_count": 108,
     "metadata": {},
     "output_type": "execute_result"
    }
   ],
   "source": [
    "cov[\"age\"]"
   ]
  },
  {
   "cell_type": "code",
   "execution_count": null,
   "metadata": {},
   "outputs": [],
   "source": []
  },
  {
   "cell_type": "code",
   "execution_count": null,
   "metadata": {},
   "outputs": [],
   "source": []
  }
 ],
 "metadata": {
  "kernelspec": {
   "display_name": "Python 3",
   "language": "python",
   "name": "python3"
  },
  "language_info": {
   "codemirror_mode": {
    "name": "ipython",
    "version": 3
   },
   "file_extension": ".py",
   "mimetype": "text/x-python",
   "name": "python",
   "nbconvert_exporter": "python",
   "pygments_lexer": "ipython3",
   "version": "3.7.7"
  }
 },
 "nbformat": 4,
 "nbformat_minor": 4
}
