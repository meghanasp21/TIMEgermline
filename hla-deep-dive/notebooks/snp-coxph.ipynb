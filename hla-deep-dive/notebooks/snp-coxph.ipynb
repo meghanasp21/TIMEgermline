{
 "cells": [
  {
   "cell_type": "code",
   "execution_count": 26,
   "metadata": {},
   "outputs": [],
   "source": [
    "import pandas as pd\n",
    "import numpy as np\n",
    "import sys\n",
    "sys.path.insert(0, \"/cellar/users/mpagadal/Programs/anaconda3/lib/python3.7/site-packages\")\n",
    "import lifelines\n",
    "\n",
    "from lifelines import CoxPHFitter\n",
    "from lifelines.statistics import logrank_test\n",
    "from scipy.stats import pearsonr, spearmanr, mannwhitneyu\n",
    "\n",
    "import matplotlib.pyplot as plt\n",
    "import seaborn as sns\n",
    "sns.set_style('white')\n",
    "%matplotlib inline"
   ]
  },
  {
   "cell_type": "code",
   "execution_count": 27,
   "metadata": {},
   "outputs": [],
   "source": [
    "### STATS ###\n",
    "import statsmodels.stats.multitest as multi\n",
    "from matplotlib.collections import PatchCollection"
   ]
  },
  {
   "cell_type": "code",
   "execution_count": 28,
   "metadata": {},
   "outputs": [],
   "source": [
    "import matplotlib\n",
    "matplotlib.rcParams['pdf.fonttype'] = 42\n",
    "matplotlib.rcParams['ps.fonttype'] = 42"
   ]
  },
  {
   "cell_type": "markdown",
   "metadata": {},
   "source": [
    "## Get survival information"
   ]
  },
  {
   "cell_type": "code",
   "execution_count": 29,
   "metadata": {},
   "outputs": [],
   "source": [
    "def make_df(surv,surv_type,raw):\n",
    "    #get survival dataframe\n",
    "    surv=pd.read_csv(surv,index_col=0)\n",
    "    surv=surv.rename(columns={\"bcr_patient_barcode\":\"FID\"})\n",
    "    #get genotypes\n",
    "    snps=pd.read_csv(raw,delimiter=\" \")\n",
    "    cols=[x for x in snps.columns if x not in [\"IID\",\"PAT\",\"MAT\",\"SEX\",\"PHENOTYPE\"]]\n",
    "    snps=snps[cols]\n",
    "    #combine dataframes\n",
    "    full_surv=pd.merge(surv[[\"FID\",surv_type,surv_type+\".time\",\"age_at_initial_pathologic_diagnosis\",\"race\",\"gender\",\"ajcc_pathologic_tumor_stage\"]],snps,on=\"FID\")\n",
    "    #full_surv=full_surv[full_surv[surv_type+\".time\"]<1825] #censor at 5 years\n",
    "    print(full_surv.shape)\n",
    "    return(full_surv)"
   ]
  },
  {
   "cell_type": "code",
   "execution_count": 30,
   "metadata": {},
   "outputs": [
    {
     "name": "stdout",
     "output_type": "stream",
     "text": [
      "(8183, 112)\n"
     ]
    }
   ],
   "source": [
    "os_surv=make_df(\"/cellar/users/mpagadal/Data/resources/from-labmembers/andrea/Liu2018.TCGA_survival.csv\",\"OS\",\"/nrnb/users/mpagadal/tcga-genotypes/germline-immune/hla.snp.raw\")"
   ]
  },
  {
   "cell_type": "markdown",
   "metadata": {},
   "source": [
    "## Get cancer mapping"
   ]
  },
  {
   "cell_type": "code",
   "execution_count": 31,
   "metadata": {},
   "outputs": [],
   "source": [
    "# map to cancer type\n",
    "canc = pd.read_csv(\"/nrnb/users/mpagadal/tcga-genotypes/birdseed-processing/gtype.meta\", delimiter=\"\\t\", header=None)\n",
    "mp = canc.set_index(2)[0].to_dict()\n",
    "os_surv[\"cancer\"]=os_surv[\"FID\"].map(mp)"
   ]
  },
  {
   "cell_type": "markdown",
   "metadata": {},
   "source": [
    "## Get stage information"
   ]
  },
  {
   "cell_type": "code",
   "execution_count": 32,
   "metadata": {},
   "outputs": [],
   "source": [
    "#get patients with Stage designations\n",
    "comb_surv_pheno=os_surv[os_surv[\"ajcc_pathologic_tumor_stage\"].str.contains(\"Stage\")]\n",
    "comb_surv_pheno=comb_surv_pheno[~(comb_surv_pheno[\"ajcc_pathologic_tumor_stage\"].isin([\"Stage X\"]))]\n",
    "\n",
    "#split A,B,C from stage designations\n",
    "comb_surv_pheno[\"ajcc_pathologic_tumor_stage\"]=comb_surv_pheno[\"ajcc_pathologic_tumor_stage\"].str.split(\"A\").str[0]\n",
    "comb_surv_pheno[\"ajcc_pathologic_tumor_stage\"]=comb_surv_pheno[\"ajcc_pathologic_tumor_stage\"].str.split(\"B\").str[0]\n",
    "comb_surv_pheno[\"ajcc_pathologic_tumor_stage\"]=comb_surv_pheno[\"ajcc_pathologic_tumor_stage\"].str.split(\"C\").str[0]\n",
    "\n",
    "comb_surv_pheno=comb_surv_pheno.join(pd.get_dummies(comb_surv_pheno[\"ajcc_pathologic_tumor_stage\"]))"
   ]
  },
  {
   "cell_type": "code",
   "execution_count": 33,
   "metadata": {},
   "outputs": [],
   "source": [
    "comb_surv_pheno['ajcc_pathologic_tumor_stage'] = comb_surv_pheno['ajcc_pathologic_tumor_stage'].replace({'Stage 0':0,'Stage I': 1,'Stage II': 2,'Stage III': 3,'Stage IV': 4})"
   ]
  },
  {
   "cell_type": "markdown",
   "metadata": {},
   "source": [
    "## Get HLA-A combinations"
   ]
  },
  {
   "cell_type": "code",
   "execution_count": 34,
   "metadata": {},
   "outputs": [],
   "source": [
    "comb_surv_pheno[\"6:29933439:T:C_T\"]=comb_surv_pheno[\"6:29933439:T:C_C\"].map({2:0,1:1,0:2})"
   ]
  },
  {
   "cell_type": "code",
   "execution_count": 35,
   "metadata": {},
   "outputs": [],
   "source": [
    "combo=[]\n",
    "\n",
    "for i,row in comb_surv_pheno.iterrows():\n",
    "    if (row[\"6:29933439:T:C_T\"]>0) & (row[\"6:29910358:G:C_C\"]>0):\n",
    "        combo.append(2)\n",
    "    elif row[\"6:29933439:T:C_T\"]>0:\n",
    "        combo.append(1)\n",
    "    elif row[\"6:29910358:G:C_C\"]>0:\n",
    "        combo.append(1)\n",
    "    else:\n",
    "        combo.append(0)\n",
    "        \n",
    "comb_surv_pheno[\"combo\"]=combo "
   ]
  },
  {
   "cell_type": "markdown",
   "metadata": {},
   "source": [
    "## Get sex mapping"
   ]
  },
  {
   "cell_type": "code",
   "execution_count": 36,
   "metadata": {},
   "outputs": [],
   "source": [
    "comb_surv_pheno[\"gender\"]= comb_surv_pheno['gender'].replace({'MALE': 0,'FEMALE':1})"
   ]
  },
  {
   "cell_type": "code",
   "execution_count": 38,
   "metadata": {
    "scrolled": true
   },
   "outputs": [
    {
     "data": {
      "text/plain": [
       "2    1652\n",
       "1    1543\n",
       "3    1346\n",
       "4     663\n",
       "0       6\n",
       "Name: ajcc_pathologic_tumor_stage, dtype: int64"
      ]
     },
     "execution_count": 38,
     "metadata": {},
     "output_type": "execute_result"
    }
   ],
   "source": [
    "comb_surv_pheno[\"ajcc_pathologic_tumor_stage\"].value_counts()"
   ]
  },
  {
   "cell_type": "code",
   "execution_count": 44,
   "metadata": {},
   "outputs": [],
   "source": [
    "comb_surv_pheno=comb_surv_pheno[~comb_surv_pheno[\"age_at_initial_pathologic_diagnosis\"].isnull()]\n",
    "comb_surv_pheno=comb_surv_pheno[~comb_surv_pheno[\"OS\"].isnull()]\n",
    "comb_surv_pheno=comb_surv_pheno[~comb_surv_pheno[\"OS.time\"].isnull()]"
   ]
  },
  {
   "cell_type": "code",
   "execution_count": 56,
   "metadata": {},
   "outputs": [],
   "source": [
    "cancers=[x for x in comb_surv_pheno[\"cancer\"].unique().tolist() if x!=\"TGCT\"]"
   ]
  },
  {
   "cell_type": "code",
   "execution_count": 57,
   "metadata": {
    "scrolled": true
   },
   "outputs": [
    {
     "name": "stdout",
     "output_type": "stream",
     "text": [
      "ACC\n",
      "BLCA\n",
      "BRCA\n",
      "CHOL\n",
      "COAD\n",
      "ESCA\n",
      "HNSC\n",
      "KICH\n",
      "KIRC\n",
      "KIRP\n",
      "LIHC\n",
      "LUAD\n",
      "LUSC\n",
      "MESO\n",
      "PAAD\n",
      "READ\n",
      "SKCM\n",
      "STAD\n",
      "THCA\n",
      "UVM\n"
     ]
    }
   ],
   "source": [
    "disease_df = pd.DataFrame()\n",
    "\n",
    "for disease in cancers:\n",
    "    print(disease)\n",
    "    #if disease in [\"BRCA\",\"TGCT\",\"PRAD\",\"OV\"]:\n",
    "    if disease in [\"x\"]:\n",
    "        temp_df = comb_surv_pheno[comb_surv_pheno['cancer']==disease]\n",
    "        temp_df = temp_df[['age_at_initial_pathologic_diagnosis','ajcc_pathologic_tumor_stage','combo','OS','OS.time']]\n",
    "        cph = CoxPHFitter()\n",
    "        cph.fit(temp_df, event_col='OS', duration_col='OS.time')\n",
    "        cph.summary[\"cancer\"]=disease\n",
    "        disease_df = disease_df.append(cph.summary.loc[[\"combo\"]])\n",
    "        \n",
    "    else:\n",
    "        temp_df = comb_surv_pheno[comb_surv_pheno['cancer']==disease]\n",
    "        temp_df = temp_df[['age_at_initial_pathologic_diagnosis','gender','ajcc_pathologic_tumor_stage','combo','OS','OS.time']]\n",
    "        cph = CoxPHFitter()\n",
    "        cph.fit(temp_df, event_col='OS', duration_col='OS.time')\n",
    "        cph.summary[\"cancer\"]=disease\n",
    "        disease_df = disease_df.append(cph.summary.loc[[\"combo\"]])\n",
    "\n",
    "disease_df[\"cancer\"]=cancers\n"
   ]
  },
  {
   "cell_type": "code",
   "execution_count": 58,
   "metadata": {},
   "outputs": [],
   "source": [
    "disease_df[\"neg\"]=disease_df[\"exp(coef)\"]-disease_df[\"exp(coef) lower 95%\"]\n",
    "disease_df[\"pos\"]=disease_df[\"exp(coef) upper 95%\"]-disease_df[\"exp(coef)\"]"
   ]
  },
  {
   "cell_type": "code",
   "execution_count": 51,
   "metadata": {
    "scrolled": true
   },
   "outputs": [],
   "source": [
    "disease_df=disease_df[disease_df[\"cancer\"]!=\"TGCT\"]"
   ]
  },
  {
   "cell_type": "code",
   "execution_count": 59,
   "metadata": {},
   "outputs": [],
   "source": [
    "disease_df=disease_df.sort_values(by=\"exp(coef)\")"
   ]
  },
  {
   "cell_type": "code",
   "execution_count": 61,
   "metadata": {},
   "outputs": [
    {
     "data": {
      "image/png": "[encoded data removed]",
      "text/plain": [
       "<Figure size 216x432 with 1 Axes>"
      ]
     },
     "metadata": {
      "needs_background": "light"
     },
     "output_type": "display_data"
    }
   ],
   "source": [
    "fig, ax = plt.subplots(figsize=(3, 6))\n",
    "plt.errorbar(disease_df[\"exp(coef)\"].tolist(),disease_df[\"cancer\"].tolist(),xerr=disease_df[[\"neg\",\"pos\"]].T.values, fmt='.', color='black',\n",
    "             ecolor='gray', elinewidth=1);\n",
    "plt.axvline(1,linestyle=\"--\",color=\"lightgray\")\n",
    "plt.xlabel(\"hazards ratio\")\n",
    "plt.xlim([-3,10])\n",
    "plt.savefig(\"../plots/hazards.ratio.pdf\")"
   ]
  },
  {
   "cell_type": "code",
   "execution_count": 65,
   "metadata": {},
   "outputs": [
    {
     "data": {
      "text/plain": [
       "['UVM',\n",
       " 'KIRP',\n",
       " 'STAD',\n",
       " 'ESCA',\n",
       " 'LIHC',\n",
       " 'READ',\n",
       " 'CHOL',\n",
       " 'BRCA',\n",
       " 'SKCM',\n",
       " 'HNSC',\n",
       " 'COAD',\n",
       " 'LUSC',\n",
       " 'MESO',\n",
       " 'KIRC',\n",
       " 'BLCA',\n",
       " 'LUAD',\n",
       " 'KICH',\n",
       " 'PAAD',\n",
       " 'ACC',\n",
       " 'THCA']"
      ]
     },
     "execution_count": 65,
     "metadata": {},
     "output_type": "execute_result"
    }
   ],
   "source": [
    "disease_df[\"cancer\"].tolist()"
   ]
  }
 ],
 "metadata": {
  "kernelspec": {
   "display_name": "Python 3",
   "language": "python",
   "name": "python3"
  },
  "language_info": {
   "codemirror_mode": {
    "name": "ipython",
    "version": 3
   },
   "file_extension": ".py",
   "mimetype": "text/x-python",
   "name": "python",
   "nbconvert_exporter": "python",
   "pygments_lexer": "ipython3",
   "version": "3.7.7"
  }
 },
 "nbformat": 4,
 "nbformat_minor": 2
}
