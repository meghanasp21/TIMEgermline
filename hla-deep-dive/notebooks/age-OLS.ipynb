{
 "cells": [
  {
   "cell_type": "code",
   "execution_count": 1,
   "metadata": {},
   "outputs": [],
   "source": [
    "import statsmodels.stats.multitest as multi\n",
    "import statsmodels.api as sm"
   ]
  },
  {
   "cell_type": "code",
   "execution_count": 2,
   "metadata": {},
   "outputs": [],
   "source": [
    "import seaborn as sns"
   ]
  },
  {
   "cell_type": "code",
   "execution_count": 3,
   "metadata": {},
   "outputs": [],
   "source": [
    "import sys\n",
    "sys.path.insert(0, \"/cellar/users/mpagadal/Programs/anaconda3/lib/python3.7/site-packages\")\n",
    "from sklearn import linear_model\n",
    "from regressors import stats"
   ]
  },
  {
   "cell_type": "code",
   "execution_count": 36,
   "metadata": {},
   "outputs": [],
   "source": [
    "import numpy as np\n",
    "import matplotlib.pyplot as plt\n",
    "import pandas as pd"
   ]
  },
  {
   "cell_type": "code",
   "execution_count": 37,
   "metadata": {},
   "outputs": [],
   "source": [
    "import matplotlib\n",
    "matplotlib.rcParams['pdf.fonttype'] = 42\n",
    "matplotlib.rcParams['ps.fonttype'] = 42"
   ]
  },
  {
   "cell_type": "markdown",
   "metadata": {},
   "source": [
    "## Get data"
   ]
  },
  {
   "cell_type": "code",
   "execution_count": 8,
   "metadata": {},
   "outputs": [],
   "source": [
    "raw=pd.read_csv(\"/nrnb/users/mpagadal/tcga-genotypes/germline-immune/hla.snp.raw\",delim_whitespace=True)"
   ]
  },
  {
   "cell_type": "code",
   "execution_count": 9,
   "metadata": {},
   "outputs": [],
   "source": [
    "cov=pd.read_csv(\"/cellar/users/mpagadal/Data/plink-associations/covs/immune.filt.cov\",delimiter=\" \")"
   ]
  },
  {
   "cell_type": "code",
   "execution_count": 10,
   "metadata": {},
   "outputs": [],
   "source": [
    "combo_age=pd.merge(raw,cov,on=\"FID\")"
   ]
  },
  {
   "cell_type": "code",
   "execution_count": 11,
   "metadata": {},
   "outputs": [],
   "source": [
    "combo_age[\"6:29933439:T:C_T\"]=combo_age[\"6:29933439:T:C_C\"].map({2:0,1:1,0:2})"
   ]
  },
  {
   "cell_type": "code",
   "execution_count": 12,
   "metadata": {},
   "outputs": [],
   "source": [
    "combo=[]\n",
    "\n",
    "for i,row in combo_age.iterrows():\n",
    "    if (row[\"6:29933439:T:C_T\"]>0) & (row[\"6:29910358:G:C_C\"]>0):\n",
    "        combo.append(2)\n",
    "    elif row[\"6:29933439:T:C_T\"]>0:\n",
    "        combo.append(1)\n",
    "    elif row[\"6:29910358:G:C_C\"]>0:\n",
    "        combo.append(1)\n",
    "    else:\n",
    "        combo.append(0)\n",
    "        \n",
    "combo_age[\"combo\"]=combo  "
   ]
  },
  {
   "cell_type": "code",
   "execution_count": 13,
   "metadata": {},
   "outputs": [],
   "source": [
    "# map to cancer type\n",
    "canc = pd.read_csv(\"/nrnb/users/mpagadal/tcga-genotypes/birdseed-processing/gtype.meta\", delimiter=\"\\t\", header=None)\n",
    "mp = canc.set_index(2)[0].to_dict()\n",
    "combo_age[\"cancer\"]=combo_age[\"FID\"].map(mp)"
   ]
  },
  {
   "cell_type": "code",
   "execution_count": 14,
   "metadata": {},
   "outputs": [],
   "source": [
    "combo_age=combo_age[combo_age[\"age\"]!=-9]"
   ]
  },
  {
   "cell_type": "code",
   "execution_count": 15,
   "metadata": {},
   "outputs": [],
   "source": [
    "cancers=combo_age[\"cancer\"].unique()"
   ]
  },
  {
   "cell_type": "code",
   "execution_count": 16,
   "metadata": {},
   "outputs": [],
   "source": [
    "pval=[]\n",
    "canc=[]\n",
    "beta=[]\n",
    "\n",
    "for x in cancers:\n",
    "    combo_age_cancer=combo_age[combo_age[\"cancer\"]==x]\n",
    "    ols = linear_model.LinearRegression()\n",
    "    X=combo_age_cancer[\"combo\"].values.reshape(-1, 1)\n",
    "    y=combo_age_cancer[\"age\"].values.reshape(-1, 1)\n",
    "        \n",
    "    X = sm.add_constant(X)\n",
    "        \n",
    "    model=sm.OLS(y,X)\n",
    "    results=model.fit()\n",
    "        \n",
    "    canc.append(x)\n",
    "    pval.append(results.pvalues[1])\n",
    "    beta.append(results.params[1])"
   ]
  },
  {
   "cell_type": "code",
   "execution_count": 38,
   "metadata": {},
   "outputs": [],
   "source": [
    "df=pd.DataFrame({\"cancer\":canc,\"pval\":pval,\"beta\":beta})"
   ]
  },
  {
   "cell_type": "code",
   "execution_count": 39,
   "metadata": {},
   "outputs": [],
   "source": [
    "df=df.set_index(\"cancer\")"
   ]
  },
  {
   "cell_type": "code",
   "execution_count": 40,
   "metadata": {},
   "outputs": [],
   "source": [
    "order=['UVM',\n",
    " 'LIHC',\n",
    " 'READ',\n",
    " 'ESCA',\n",
    " 'STAD',\n",
    " 'KIRP',\n",
    " 'SKCM',\n",
    " 'BRCA',\n",
    " 'CHOL',\n",
    " 'HNSC',\n",
    " 'COAD',\n",
    " 'LUSC',\n",
    " 'KIRC',\n",
    " 'MESO',\n",
    " 'BLCA',\n",
    " 'LUAD',\n",
    " 'ACC',\n",
    " 'PAAD',\n",
    " 'THCA',\n",
    " 'KICH']"
   ]
  },
  {
   "cell_type": "code",
   "execution_count": 42,
   "metadata": {},
   "outputs": [],
   "source": [
    "df=df.loc[order]"
   ]
  },
  {
   "cell_type": "code",
   "execution_count": 46,
   "metadata": {},
   "outputs": [],
   "source": [
    "df[\"age\"]=\"age\""
   ]
  },
  {
   "cell_type": "code",
   "execution_count": 47,
   "metadata": {},
   "outputs": [],
   "source": [
    "df[\"pval\"]=-np.log10(df[\"pval\"])"
   ]
  },
  {
   "cell_type": "code",
   "execution_count": 50,
   "metadata": {},
   "outputs": [],
   "source": [
    "df=df.reset_index()"
   ]
  },
  {
   "cell_type": "code",
   "execution_count": 54,
   "metadata": {},
   "outputs": [
    {
     "data": {
      "text/html": [
       "<div>\n",
       "<style scoped>\n",
       "    .dataframe tbody tr th:only-of-type {\n",
       "        vertical-align: middle;\n",
       "    }\n",
       "\n",
       "    .dataframe tbody tr th {\n",
       "        vertical-align: top;\n",
       "    }\n",
       "\n",
       "    .dataframe thead th {\n",
       "        text-align: right;\n",
       "    }\n",
       "</style>\n",
       "<table border=\"1\" class=\"dataframe\">\n",
       "  <thead>\n",
       "    <tr style=\"text-align: right;\">\n",
       "      <th></th>\n",
       "      <th>cancer</th>\n",
       "      <th>pval</th>\n",
       "      <th>beta</th>\n",
       "      <th>age</th>\n",
       "    </tr>\n",
       "  </thead>\n",
       "  <tbody>\n",
       "    <tr>\n",
       "      <th>0</th>\n",
       "      <td>UVM</td>\n",
       "      <td>0.054766</td>\n",
       "      <td>-0.422187</td>\n",
       "      <td>age</td>\n",
       "    </tr>\n",
       "    <tr>\n",
       "      <th>1</th>\n",
       "      <td>LIHC</td>\n",
       "      <td>0.075909</td>\n",
       "      <td>0.360656</td>\n",
       "      <td>age</td>\n",
       "    </tr>\n",
       "    <tr>\n",
       "      <th>2</th>\n",
       "      <td>READ</td>\n",
       "      <td>0.177687</td>\n",
       "      <td>-0.672358</td>\n",
       "      <td>age</td>\n",
       "    </tr>\n",
       "    <tr>\n",
       "      <th>3</th>\n",
       "      <td>ESCA</td>\n",
       "      <td>0.445968</td>\n",
       "      <td>-1.707010</td>\n",
       "      <td>age</td>\n",
       "    </tr>\n",
       "    <tr>\n",
       "      <th>4</th>\n",
       "      <td>STAD</td>\n",
       "      <td>0.064312</td>\n",
       "      <td>-0.173776</td>\n",
       "      <td>age</td>\n",
       "    </tr>\n",
       "    <tr>\n",
       "      <th>5</th>\n",
       "      <td>KIRP</td>\n",
       "      <td>0.095735</td>\n",
       "      <td>0.300175</td>\n",
       "      <td>age</td>\n",
       "    </tr>\n",
       "    <tr>\n",
       "      <th>6</th>\n",
       "      <td>SKCM</td>\n",
       "      <td>1.705817</td>\n",
       "      <td>2.805398</td>\n",
       "      <td>age</td>\n",
       "    </tr>\n",
       "    <tr>\n",
       "      <th>7</th>\n",
       "      <td>BRCA</td>\n",
       "      <td>0.632200</td>\n",
       "      <td>-0.896137</td>\n",
       "      <td>age</td>\n",
       "    </tr>\n",
       "    <tr>\n",
       "      <th>8</th>\n",
       "      <td>CHOL</td>\n",
       "      <td>0.486863</td>\n",
       "      <td>4.176056</td>\n",
       "      <td>age</td>\n",
       "    </tr>\n",
       "    <tr>\n",
       "      <th>9</th>\n",
       "      <td>HNSC</td>\n",
       "      <td>0.366265</td>\n",
       "      <td>0.762588</td>\n",
       "      <td>age</td>\n",
       "    </tr>\n",
       "    <tr>\n",
       "      <th>10</th>\n",
       "      <td>COAD</td>\n",
       "      <td>0.552100</td>\n",
       "      <td>-1.261558</td>\n",
       "      <td>age</td>\n",
       "    </tr>\n",
       "    <tr>\n",
       "      <th>11</th>\n",
       "      <td>LUSC</td>\n",
       "      <td>0.248804</td>\n",
       "      <td>-0.396708</td>\n",
       "      <td>age</td>\n",
       "    </tr>\n",
       "    <tr>\n",
       "      <th>12</th>\n",
       "      <td>KIRC</td>\n",
       "      <td>0.091587</td>\n",
       "      <td>0.227108</td>\n",
       "      <td>age</td>\n",
       "    </tr>\n",
       "    <tr>\n",
       "      <th>13</th>\n",
       "      <td>MESO</td>\n",
       "      <td>0.127037</td>\n",
       "      <td>-0.517555</td>\n",
       "      <td>age</td>\n",
       "    </tr>\n",
       "    <tr>\n",
       "      <th>14</th>\n",
       "      <td>BLCA</td>\n",
       "      <td>0.572803</td>\n",
       "      <td>0.967456</td>\n",
       "      <td>age</td>\n",
       "    </tr>\n",
       "    <tr>\n",
       "      <th>15</th>\n",
       "      <td>LUAD</td>\n",
       "      <td>0.800115</td>\n",
       "      <td>1.058663</td>\n",
       "      <td>age</td>\n",
       "    </tr>\n",
       "    <tr>\n",
       "      <th>16</th>\n",
       "      <td>ACC</td>\n",
       "      <td>0.254656</td>\n",
       "      <td>1.653750</td>\n",
       "      <td>age</td>\n",
       "    </tr>\n",
       "    <tr>\n",
       "      <th>17</th>\n",
       "      <td>PAAD</td>\n",
       "      <td>0.456004</td>\n",
       "      <td>-1.322333</td>\n",
       "      <td>age</td>\n",
       "    </tr>\n",
       "    <tr>\n",
       "      <th>18</th>\n",
       "      <td>THCA</td>\n",
       "      <td>0.430106</td>\n",
       "      <td>1.229795</td>\n",
       "      <td>age</td>\n",
       "    </tr>\n",
       "    <tr>\n",
       "      <th>19</th>\n",
       "      <td>KICH</td>\n",
       "      <td>0.312875</td>\n",
       "      <td>-1.930921</td>\n",
       "      <td>age</td>\n",
       "    </tr>\n",
       "  </tbody>\n",
       "</table>\n",
       "</div>"
      ],
      "text/plain": [
       "   cancer      pval      beta  age\n",
       "0     UVM  0.054766 -0.422187  age\n",
       "1    LIHC  0.075909  0.360656  age\n",
       "2    READ  0.177687 -0.672358  age\n",
       "3    ESCA  0.445968 -1.707010  age\n",
       "4    STAD  0.064312 -0.173776  age\n",
       "5    KIRP  0.095735  0.300175  age\n",
       "6    SKCM  1.705817  2.805398  age\n",
       "7    BRCA  0.632200 -0.896137  age\n",
       "8    CHOL  0.486863  4.176056  age\n",
       "9    HNSC  0.366265  0.762588  age\n",
       "10   COAD  0.552100 -1.261558  age\n",
       "11   LUSC  0.248804 -0.396708  age\n",
       "12   KIRC  0.091587  0.227108  age\n",
       "13   MESO  0.127037 -0.517555  age\n",
       "14   BLCA  0.572803  0.967456  age\n",
       "15   LUAD  0.800115  1.058663  age\n",
       "16    ACC  0.254656  1.653750  age\n",
       "17   PAAD  0.456004 -1.322333  age\n",
       "18   THCA  0.430106  1.229795  age\n",
       "19   KICH  0.312875 -1.930921  age"
      ]
     },
     "execution_count": 54,
     "metadata": {},
     "output_type": "execute_result"
    }
   ],
   "source": [
    "df"
   ]
  },
  {
   "cell_type": "code",
   "execution_count": 52,
   "metadata": {},
   "outputs": [],
   "source": [
    "n_colors = 256 # Use 256 colors for the diverging color palette\n",
    "palette = sns.diverging_palette(220, 20, n=n_colors) # Create the palette\n",
    "color_min, color_max = [-10, 10] # Range of values that will be mapped to the palette, i.e. min and max possible correlation\n",
    "\n",
    "def value_to_color(val):\n",
    "    val_position = float((val - color_min)) / (color_max - color_min) # position of value in the input range, relative to the length of the input range\n",
    "    ind = int(val_position * (n_colors - 1)) # target index in the color palette\n",
    "    return palette[ind]"
   ]
  },
  {
   "cell_type": "code",
   "execution_count": 53,
   "metadata": {},
   "outputs": [
    {
     "name": "stdout",
     "output_type": "stream",
     "text": [
      "-10\n"
     ]
    },
    {
     "data": {
      "image/png": "[encoded data removed]",
      "text/plain": [
       "<Figure size 144x432 with 1 Axes>"
      ]
     },
     "metadata": {
      "needs_background": "light"
     },
     "output_type": "display_data"
    }
   ],
   "source": [
    "def heatmap(x, y, size,color):\n",
    "    fig, ax = plt.subplots(figsize=(2, 6))\n",
    "    \n",
    "    # Mapping from column names to integer coordinates\n",
    "    x_labels = [v for v in x.unique()]\n",
    "    y_labels = [v for v in y.unique()]\n",
    "    x_to_num = {p[1]:p[0] for p in enumerate(x_labels)} \n",
    "    y_to_num = {p[1]:p[0] for p in enumerate(y_labels)} \n",
    "    \n",
    "    n_colors = 256 # Use 256 colors for the diverging color palette\n",
    "    palette = sns.diverging_palette(20, 220, n=n_colors) # Create the palette\n",
    "    color_min, color_max = [-10, 10] # Range of values that will be mapped to the palette, i.e. min and max possible correlation\n",
    "    \n",
    "    print(color_min)\n",
    "    size_scale = 100\n",
    "    ax.scatter(\n",
    "        x=x.map(x_to_num), # Use mapping for x\n",
    "        y=y.map(y_to_num), # Use mapping for y\n",
    "        s=size * size_scale, \n",
    "        c=color.apply(value_to_color)# Vector of square sizes, proportional to size parameter\n",
    "        # Use square as scatterplot marker\n",
    "    )\n",
    "    \n",
    "    # Show column labels on the axes\n",
    "    ax.set_xticks([x_to_num[v] for v in x_labels])\n",
    "    ax.set_xticklabels(x_labels, rotation=45, horizontalalignment='right')\n",
    "    ax.set_yticks([y_to_num[v] for v in y_labels])\n",
    "    ax.set_yticklabels(y_labels)\n",
    "    plt.xticks(rotation=90)\n",
    "    \n",
    "heatmap(\n",
    "    x=df['age'],\n",
    "    y=df[\"cancer\"],\n",
    "    size=df[\"pval\"].abs(),\n",
    "    color=df[\"beta\"]\n",
    ")\n",
    "plt.savefig(\"../plots/ols.age.pdf\")"
   ]
  }
 ],
 "metadata": {
  "kernelspec": {
   "display_name": "Python 3",
   "language": "python",
   "name": "python3"
  },
  "language_info": {
   "codemirror_mode": {
    "name": "ipython",
    "version": 3
   },
   "file_extension": ".py",
   "mimetype": "text/x-python",
   "name": "python",
   "nbconvert_exporter": "python",
   "pygments_lexer": "ipython3",
   "version": "3.7.7"
  }
 },
 "nbformat": 4,
 "nbformat_minor": 4
}
