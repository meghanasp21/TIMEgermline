{
 "cells": [
  {
   "cell_type": "code",
   "execution_count": 1,
   "metadata": {},
   "outputs": [],
   "source": [
    "import pandas as pd\n",
    "import os\n",
    "from matplotlib import pyplot as plt\n",
    "import random\n",
    "import numpy as np\n",
    "import json\n",
    "import seaborn as sns"
   ]
  },
  {
   "cell_type": "code",
   "execution_count": 2,
   "metadata": {},
   "outputs": [],
   "source": [
    "import matplotlib\n",
    "matplotlib.rcParams['pdf.fonttype'] = 42\n",
    "matplotlib.rcParams['ps.fonttype'] = 42"
   ]
  },
  {
   "cell_type": "code",
   "execution_count": 3,
   "metadata": {},
   "outputs": [],
   "source": [
    "def get_clumps(directory,snp_type):\n",
    "    '''\n",
    "    Input: directory with all plink .clumped files to be aggregated\n",
    "    Output: dataframe with INDEX SNP, p-value, association paramter\n",
    "    '''\n",
    "    #get clumped files\n",
    "    files=os.listdir(directory)\n",
    "    file_lst=[x for x in files if \".clumped\" in x]\n",
    "    \n",
    "    if snp_type == \"index\":\n",
    "    \n",
    "        #iterate through all clumped files and extract index snps\n",
    "        snps=[]\n",
    "        assoc=[]\n",
    "        p=[]\n",
    "\n",
    "        for x in file_lst:\n",
    "            file=pd.read_csv(directory+\"/\"+x, delim_whitespace=True)\n",
    "            for i,row in file.iterrows():\n",
    "                snps.append(row[\"SNP\"])\n",
    "                p.append(row[\"P\"])\n",
    "                assoc.append(x.split(\".clump.clumped\")[0])\n",
    "    \n",
    "        df=pd.DataFrame({\"snps\":snps,\"file\":assoc,\"p-value\":p})\n",
    "        return(df)\n",
    "    \n",
    "    if snp_type == \"all\":\n",
    "        snps=[]\n",
    "        indexsnp=[]\n",
    "        assoc=[]\n",
    "        p=[]\n",
    "\n",
    "        for x in file_lst:\n",
    "            file=pd.read_csv(directory+\"/\"+x, delim_whitespace=True)\n",
    "            for i,row in file.iterrows():\n",
    "                for y in row[\"SP2\"].split(\"(1),\"):\n",
    "                    snps.append(y)\n",
    "                    indexsnp.append(row[\"SNP\"])\n",
    "                    p.append(row[\"P\"])\n",
    "                    assoc.append(x.split(\".clump.clumped\")[0])\n",
    "                \n",
    "        df=pd.DataFrame({\"indexsnps\":indexsnp,\"snps\":snps,\"file\":assoc,\"p-value\":p})\n",
    "        df=df[~(df[\"snps\"]==\"\")]\n",
    "        df=df[~(df[\"snps\"]==\"NONE\")]\n",
    "        df[\"snps\"]=df[\"snps\"].str.split(\"(\").str[0]\n",
    "        return(df)"
   ]
  },
  {
   "cell_type": "code",
   "execution_count": 4,
   "metadata": {},
   "outputs": [],
   "source": [
    "def map_rsid(x):\n",
    "    '''\n",
    "    Input: SNP format (chr:bp:minor:major)\n",
    "    Output: tuple (variant,rsid)\n",
    "    '''\n",
    "    try:\n",
    "        var=\"chr\"+x.split(\":\")[0]+\":g.\"+x.split(\":\")[1]+x.split(\":\")[2]+\">\"+x.split(\":\")[3]\n",
    "        rs=mv.getvariants(var,fields='dbsnp.rsid')[0][\"dbsnp\"][\"rsid\"]\n",
    "    except:\n",
    "        try:\n",
    "            var=\"chr\"+x.split(\":\")[0]+\":g.\"+x.split(\":\")[1]+x.split(\":\")[3]+\">\"+x.split(\":\")[2]\n",
    "            rs=mv.getvariants(var,fields='dbsnp.rsid')[0][\"dbsnp\"][\"rsid\"]\n",
    "        except:\n",
    "            var=\"chr\"+x.split(\":\")[0]+\":g.\"+x.split(\":\")[1]+x.split(\":\")[3]+\">\"+x.split(\":\")[2]\n",
    "            rs=\"\"\n",
    "    \n",
    "    return (var,rs)"
   ]
  },
  {
   "cell_type": "code",
   "execution_count": 5,
   "metadata": {},
   "outputs": [],
   "source": [
    "#get index snps from TPM association analysis\n",
    "tpm_snps=get_clumps(\"/cellar/users/mpagadal/Data2/projects/germline-immune/hla-deep-dive/clump/hla/tpm\",\"all\")\n",
    "firebrowse_snps=get_clumps(\"/cellar/users/mpagadal/Data2/projects/germline-immune/hla-deep-dive/clump/hla/firebrowse\",\"all\")\n",
    "pancan_snps=get_clumps(\"/cellar/users/mpagadal/Data2/projects/germline-immune/hla-deep-dive/clump/hla/pancanatlas\",\"all\")"
   ]
  },
  {
   "cell_type": "code",
   "execution_count": 6,
   "metadata": {},
   "outputs": [],
   "source": [
    "def intersection(lst1, lst2): \n",
    "    return list(set(lst1) & set(lst2))"
   ]
  },
  {
   "cell_type": "code",
   "execution_count": 7,
   "metadata": {},
   "outputs": [],
   "source": [
    "genes=tpm_snps[\"file\"].unique()\n",
    "hla=tpm_snps"
   ]
  },
  {
   "cell_type": "code",
   "execution_count": 8,
   "metadata": {},
   "outputs": [],
   "source": [
    "values=[]\n",
    "assoc=[]\n",
    "\n",
    "for z in genes:\n",
    "    lst=[]\n",
    "    for y in genes:\n",
    "        lst.append(len(set(intersection(hla[hla[\"file\"]==z][\"snps\"].tolist(),hla[hla[\"file\"]==y][\"snps\"].tolist())))/len(hla[\"snps\"].unique()))\n",
    "    assoc.append(z)\n",
    "    values.append(lst)"
   ]
  },
  {
   "cell_type": "code",
   "execution_count": 9,
   "metadata": {},
   "outputs": [],
   "source": [
    "df=pd.DataFrame({\"assoc\":assoc,\"values\":values})\n",
    "df_expand = df['values'].apply(pd.Series)\n",
    "df_expand.index=df.assoc.tolist()\n",
    "df_expand.columns=df.assoc.tolist()"
   ]
  },
  {
   "cell_type": "code",
   "execution_count": 10,
   "metadata": {},
   "outputs": [
    {
     "data": {
      "text/plain": [
       "<Figure size 720x720 with 0 Axes>"
      ]
     },
     "metadata": {},
     "output_type": "display_data"
    },
    {
     "data": {
      "image/png": "[encoded data removed]",
      "text/plain": [
       "<Figure size 720x720 with 4 Axes>"
      ]
     },
     "metadata": {
      "needs_background": "light"
     },
     "output_type": "display_data"
    }
   ],
   "source": [
    "f=plt.figure(figsize=(10,10))\n",
    "sns.clustermap(df_expand,cmap=\"Blues\")\n",
    "plt.savefig('../plots/hla.confusion.matrix.pdf')"
   ]
  },
  {
   "cell_type": "code",
   "execution_count": null,
   "metadata": {},
   "outputs": [],
   "source": []
  },
  {
   "cell_type": "code",
   "execution_count": null,
   "metadata": {},
   "outputs": [],
   "source": []
  }
 ],
 "metadata": {
  "kernelspec": {
   "display_name": "Python 3",
   "language": "python",
   "name": "python3"
  },
  "language_info": {
   "codemirror_mode": {
    "name": "ipython",
    "version": 3
   },
   "file_extension": ".py",
   "mimetype": "text/x-python",
   "name": "python",
   "nbconvert_exporter": "python",
   "pygments_lexer": "ipython3",
   "version": "3.7.7"
  }
 },
 "nbformat": 4,
 "nbformat_minor": 2
}
