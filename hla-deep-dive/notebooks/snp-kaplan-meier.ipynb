{
 "cells": [
  {
   "cell_type": "code",
   "execution_count": 1,
   "metadata": {},
   "outputs": [],
   "source": [
    "import pandas as pd\n",
    "import numpy as np\n",
    "import sys\n",
    "sys.path.insert(0, \"/cellar/users/mpagadal/Programs/anaconda3/lib/python3.7/site-packages\")\n",
    "import lifelines\n",
    "\n",
    "from lifelines import KaplanMeierFitter\n",
    "from lifelines.statistics import logrank_test\n",
    "from scipy.stats import pearsonr, spearmanr, mannwhitneyu\n",
    "\n",
    "import matplotlib.pyplot as plt\n",
    "import seaborn as sns\n",
    "sns.set_style('white')\n",
    "%matplotlib inline"
   ]
  },
  {
   "cell_type": "code",
   "execution_count": 2,
   "metadata": {},
   "outputs": [],
   "source": [
    "### STATS ###\n",
    "import statsmodels.stats.multitest as multi\n",
    "from matplotlib.collections import PatchCollection"
   ]
  },
  {
   "cell_type": "code",
   "execution_count": 3,
   "metadata": {},
   "outputs": [],
   "source": [
    "import matplotlib\n",
    "matplotlib.rcParams['pdf.fonttype'] = 42\n",
    "matplotlib.rcParams['ps.fonttype'] = 42"
   ]
  },
  {
   "cell_type": "markdown",
   "metadata": {},
   "source": [
    "## Get survival information"
   ]
  },
  {
   "cell_type": "code",
   "execution_count": 4,
   "metadata": {},
   "outputs": [],
   "source": [
    "def make_df(surv,surv_type,raw):\n",
    "    #get survival dataframe\n",
    "    surv=pd.read_csv(surv,index_col=0)\n",
    "    surv=surv.rename(columns={\"bcr_patient_barcode\":\"FID\"})\n",
    "    #get genotypes\n",
    "    snps=pd.read_csv(raw,delimiter=\" \")\n",
    "    cols=[x for x in snps.columns if x not in [\"IID\",\"PAT\",\"MAT\",\"SEX\",\"PHENOTYPE\"]]\n",
    "    snps=snps[cols]\n",
    "    #combine dataframes\n",
    "    full_surv=pd.merge(surv[[\"FID\",surv_type,surv_type+\".time\"]],snps,on=\"FID\")\n",
    "    print(full_surv.shape)\n",
    "    full_surv=full_surv[full_surv[surv_type+\".time\"]<1825]\n",
    "    return(full_surv)"
   ]
  },
  {
   "cell_type": "code",
   "execution_count": 5,
   "metadata": {},
   "outputs": [
    {
     "name": "stdout",
     "output_type": "stream",
     "text": [
      "(8183, 108)\n"
     ]
    }
   ],
   "source": [
    "os_surv=make_df(\"/cellar/users/mpagadal/Data/resources/from-labmembers/andrea/Liu2018.TCGA_survival.csv\",\"OS\",\"/nrnb/users/mpagadal/tcga-genotypes/germline-immune/hla.snp.raw\")"
   ]
  },
  {
   "cell_type": "code",
   "execution_count": 6,
   "metadata": {},
   "outputs": [
    {
     "data": {
      "text/plain": [
       "0.0    4373\n",
       "1.0    2374\n",
       "Name: OS, dtype: int64"
      ]
     },
     "execution_count": 6,
     "metadata": {},
     "output_type": "execute_result"
    }
   ],
   "source": [
    "os_surv[\"OS\"].value_counts()"
   ]
  },
  {
   "cell_type": "code",
   "execution_count": 7,
   "metadata": {},
   "outputs": [
    {
     "data": {
      "text/plain": [
       "<matplotlib.axes._subplots.AxesSubplot at 0x7f6438be8b90>"
      ]
     },
     "execution_count": 7,
     "metadata": {},
     "output_type": "execute_result"
    },
    {
     "data": {
      "image/png": "[encoded data removed]",
      "text/plain": [
       "<Figure size 432x288 with 1 Axes>"
      ]
     },
     "metadata": {
      "needs_background": "light"
     },
     "output_type": "display_data"
    }
   ],
   "source": [
    "os_surv[\"OS.time\"].hist()"
   ]
  },
  {
   "cell_type": "markdown",
   "metadata": {},
   "source": [
    "## Map to cancer types"
   ]
  },
  {
   "cell_type": "code",
   "execution_count": 8,
   "metadata": {},
   "outputs": [],
   "source": [
    "# map to cancer type\n",
    "canc = pd.read_csv(\"/nrnb/users/mpagadal/tcga-genotypes/birdseed-processing/gtype.meta\", delimiter=\"\\t\", header=None)\n",
    "mp = canc.set_index(2)[0].to_dict()\n",
    "os_surv[\"cancer\"]=os_surv[\"FID\"].map(mp)"
   ]
  },
  {
   "cell_type": "code",
   "execution_count": 9,
   "metadata": {},
   "outputs": [],
   "source": [
    "rsid_lst=os_surv.columns[3:-1]"
   ]
  },
  {
   "cell_type": "code",
   "execution_count": 10,
   "metadata": {},
   "outputs": [],
   "source": [
    "# make list of cancer types\n",
    "cancers=os_surv[\"cancer\"].unique().tolist()"
   ]
  },
  {
   "cell_type": "markdown",
   "metadata": {},
   "source": [
    "## Run Kaplan-Meier analysis"
   ]
  },
  {
   "cell_type": "code",
   "execution_count": 11,
   "metadata": {
    "scrolled": true
   },
   "outputs": [],
   "source": [
    "def run_surv(df,surv_type,rsid,cancers):\n",
    "    snp=[]\n",
    "    logrank=[]\n",
    "    cancer=[]\n",
    "    min_group=[]\n",
    "    maj_group=[]\n",
    "\n",
    "    for y in cancers:\n",
    "        for x in rsid_lst:\n",
    "            try:\n",
    "                full_surv_canc=df[df[\"cancer\"]==y]\n",
    "            \n",
    "                rs=x.rsplit(\":\",2)[0]\n",
    "                allele=x.split(\":\")[3]\n",
    "                minor=allele.split(\"_\")[1]\n",
    "                major=allele.split(\"_\")[0]\n",
    "            \n",
    "                groups = full_surv_canc[x]\n",
    "                ix = (groups == 2)\n",
    "\n",
    "                results = logrank_test(full_surv_canc[surv_type+'.time'][ix], full_surv_canc[surv_type+'.time'][~ix],event_observed_A=full_surv_canc[surv_type][ix], event_observed_B=full_surv_canc[surv_type][~ix], alpha=.95) \n",
    "        \n",
    "                snp.append(x)\n",
    "                logrank.append(results.p_value)\n",
    "                cancer.append(y)\n",
    "                min_group.append(len(full_surv_canc[surv_type+'.time'][ix]))\n",
    "                maj_group.append(len(full_surv_canc[surv_type+'.time'][~ix]))\n",
    "        \n",
    "            except:\n",
    "                pass\n",
    "        \n",
    "    os=pd.DataFrame({\"snps\":snp,\"os.time\":logrank,\"cancer\":cancer,\"min\":min_group,\"maj\":maj_group})\n",
    "    return(os)"
   ]
  },
  {
   "cell_type": "code",
   "execution_count": null,
   "metadata": {},
   "outputs": [],
   "source": [
    "os=run_surv(os_surv,\"OS\",rsid_lst,cancers)"
   ]
  },
  {
   "cell_type": "markdown",
   "metadata": {},
   "source": [
    "### Filter for curves with at least 1 patient and frequency > 1%"
   ]
  },
  {
   "cell_type": "code",
   "execution_count": null,
   "metadata": {},
   "outputs": [],
   "source": [
    "os[\"sum\"]=os[\"min\"]+os[\"maj\"]\n",
    "os[\"freq\"]=os[\"min\"]/os[\"sum\"]\n",
    "os_filt=os[(os[\"freq\"]>.01)&(os[\"min\"]>1)]"
   ]
  },
  {
   "cell_type": "code",
   "execution_count": null,
   "metadata": {},
   "outputs": [],
   "source": [
    "def fdr(df,P):\n",
    "    probabilities = df[P].to_numpy()\n",
    "    report = multi.multipletests(probabilities,\n",
    "                alpha=0.05,\n",
    "                method=\"fdr_bh\",\n",
    "                is_sorted=False,\n",
    "            )\n",
    "    discoveries = report[1]\n",
    "    df[\"fdr\"]=discoveries\n",
    "    df[\"fdr\"]=pd.to_numeric(df[\"fdr\"])\n",
    "    df[\"-log10(fdr)\"]=-np.log10(df[\"fdr\"])\n",
    "    \n",
    "    return(df)"
   ]
  },
  {
   "cell_type": "code",
   "execution_count": null,
   "metadata": {},
   "outputs": [],
   "source": [
    "os_fdr=pd.DataFrame()\n",
    "\n",
    "for x in os_filt[\"cancer\"].unique().tolist():\n",
    "    os_cancer=os_filt[os_filt[\"cancer\"]==x]\n",
    "    os_fdr=os_fdr.append(fdr(os_cancer,\"os.time\"))"
   ]
  },
  {
   "cell_type": "code",
   "execution_count": null,
   "metadata": {},
   "outputs": [],
   "source": [
    "os_sig=os_fdr[os_fdr[\"-log10(fdr)\"]>1]\n",
    "os_sig[\"snps\"]=os_sig[\"snps\"].str.split(\"_\").str[0]"
   ]
  },
  {
   "cell_type": "markdown",
   "metadata": {},
   "source": [
    "## Annotate snps with phenotypes"
   ]
  },
  {
   "cell_type": "code",
   "execution_count": null,
   "metadata": {},
   "outputs": [],
   "source": [
    "snps=pd.read_csv(\"/cellar/users/mpagadal/Data/projects/germline-immune/snp-tables/immune-microenvironment-hla.tsv\",delimiter=\"\\t\")\n",
    "snps=snps.rename(columns={\"snp\":\"snps\"})\n",
    "os_sig_annot=pd.merge(os_sig,snps[[\"snps\",\"file\"]],on=\"snps\",how=\"left\")"
   ]
  },
  {
   "cell_type": "code",
   "execution_count": null,
   "metadata": {},
   "outputs": [],
   "source": [
    "\n",
    "def run_surv_plot(df_annot,surv_df,surv_type,out):\n",
    "    for i,row in df_annot.iterrows():\n",
    "        try:\n",
    "            surv_df_canc=surv_df[surv_df[\"cancer\"]==row[\"cancer\"]]\n",
    "            x=[x for x in surv_df.columns if row[\"snps\"] in x][0]\n",
    "            rs=x.rsplit(\":\",2)[0]\n",
    "        \n",
    "            allele1=x.split(\":\")[2]\n",
    "            allele2=str(x.split(\"_\")[0]).split(\":\")[3]\n",
    "            minor=x.split(\"_\")[1]\n",
    "            if allele1 == minor:\n",
    "                major=allele2\n",
    "            else:\n",
    "                major=allele1\n",
    "            \n",
    "            fig=plt.figure(figsize=(12,5))\n",
    "            ax1 = plt.subplot(1,2,1)\n",
    "            \n",
    "            groups = surv_df_canc[x]\n",
    "            ix = (groups == 2)\n",
    "\n",
    "            kmf = KaplanMeierFitter()\n",
    "            kmf.fit(surv_df_canc[surv_type+'.time'][ix], surv_df_canc[surv_type][ix],label=minor+minor)\n",
    "            kmf.plot(color='blue', ci_show=False, ax=ax1)\n",
    "    \n",
    "            kmf.fit(surv_df_canc[surv_type+'.time'][~ix], surv_df_canc[surv_type][~ix],label=major+minor+\"/\"+major+major)\n",
    "            kmf.plot(ax=ax1, color='red', ci_show=False)\n",
    "\n",
    "            results = logrank_test(surv_df_canc[surv_type+'.time'][ix], surv_df_canc[surv_type+'.time'][~ix],event_observed_A=surv_df_canc[surv_type][ix], event_observed_B=surv_df_canc[surv_type][~ix], alpha=.95) \n",
    "            plt.title('{}.{}\\n{}\\nLog-rank test: p<{:.3}'.format(x,row[\"file\"],row[\"cancer\"],results.p_value))\n",
    "\n",
    "            plt.xlabel('Months')\n",
    "            plt.ylabel(surv_type+' time (days)')\n",
    "            plt.legend(frameon=False)\n",
    "\n",
    "            plt.tight_layout()\n",
    "\n",
    "            plt.savefig(out+x+'.'+row[\"file\"]+\".\"+row[\"cancer\"]+'.pdf')\n",
    "            plt.close()\n",
    "        \n",
    "        except:\n",
    "            pass"
   ]
  },
  {
   "cell_type": "code",
   "execution_count": null,
   "metadata": {
    "scrolled": true
   },
   "outputs": [],
   "source": [
    "run_surv_plot(os_sig_annot,os_surv,\"OS\",\"../plots/kaplan-plots/\")"
   ]
  },
  {
   "cell_type": "markdown",
   "metadata": {},
   "source": [
    "## Progression-free survival"
   ]
  },
  {
   "cell_type": "code",
   "execution_count": null,
   "metadata": {},
   "outputs": [],
   "source": [
    "pfi_surv=make_df(\"/cellar/users/mpagadal/Data/resources/from-labmembers/andrea/Liu2018.TCGA_survival.csv\",\"PFI\",\"/nrnb/users/mpagadal/tcga-genotypes/germline-immune/hla.snp.raw\")"
   ]
  },
  {
   "cell_type": "code",
   "execution_count": null,
   "metadata": {},
   "outputs": [],
   "source": [
    "pfi_surv[\"cancer\"]=pfi_surv[\"FID\"].map(mp)"
   ]
  },
  {
   "cell_type": "code",
   "execution_count": null,
   "metadata": {},
   "outputs": [],
   "source": [
    "rsid_lst=pfi_surv.columns[3:-1]"
   ]
  },
  {
   "cell_type": "code",
   "execution_count": null,
   "metadata": {},
   "outputs": [],
   "source": [
    "# make list of cancer types\n",
    "cancers=pfi_surv[\"cancer\"].unique().tolist()"
   ]
  },
  {
   "cell_type": "code",
   "execution_count": null,
   "metadata": {},
   "outputs": [],
   "source": [
    "pfi=run_surv(pfi_surv,\"PFI\",rsid_lst,cancers)"
   ]
  },
  {
   "cell_type": "code",
   "execution_count": null,
   "metadata": {},
   "outputs": [],
   "source": [
    "pfi[\"sum\"]=pfi[\"min\"]+pfi[\"maj\"]\n",
    "pfi[\"freq\"]=pfi[\"min\"]/pfi[\"sum\"]\n",
    "pfi_filt=pfi[(pfi[\"freq\"]>.01)&(pfi[\"min\"]>1)]"
   ]
  },
  {
   "cell_type": "code",
   "execution_count": null,
   "metadata": {},
   "outputs": [],
   "source": [
    "pfi_fdr=pd.DataFrame()\n",
    "\n",
    "for x in pfi_filt[\"cancer\"].unique().tolist():\n",
    "    pfi_cancer=pfi_filt[pfi_filt[\"cancer\"]==x]\n",
    "    pfi_fdr=pfi_fdr.append(fdr(pfi_cancer,\"os.time\"))"
   ]
  },
  {
   "cell_type": "code",
   "execution_count": null,
   "metadata": {},
   "outputs": [],
   "source": [
    "pfi_sig=pfi_fdr[pfi_fdr[\"-log10(fdr)\"]>1]\n",
    "pfi_sig[\"snps\"]=pfi_sig[\"snps\"].str.split(\"_\").str[0]"
   ]
  },
  {
   "cell_type": "code",
   "execution_count": null,
   "metadata": {},
   "outputs": [],
   "source": [
    "pfi_sig.shape"
   ]
  },
  {
   "cell_type": "code",
   "execution_count": null,
   "metadata": {},
   "outputs": [],
   "source": [
    "pfi_sig_annot=pd.merge(pfi_sig,snps[[\"snps\",\"file\"]],on=\"snps\",how=\"left\")"
   ]
  },
  {
   "cell_type": "code",
   "execution_count": null,
   "metadata": {
    "scrolled": true
   },
   "outputs": [],
   "source": [
    "run_surv_plot(pfi_sig_annot,pfi_surv,\"PFI\",\"../plots/kaplan-plots/\")"
   ]
  },
  {
   "cell_type": "markdown",
   "metadata": {},
   "source": [
    "## Plot summary statistics"
   ]
  },
  {
   "cell_type": "code",
   "execution_count": null,
   "metadata": {
    "scrolled": true
   },
   "outputs": [],
   "source": [
    "pfi_mean=pfi_sig_annot[[\"cancer\",\"-log10(fdr)\"]].groupby(\"cancer\").mean()\n",
    "pfi_count=pfi_sig_annot[[\"cancer\",\"-log10(fdr)\"]].groupby(\"cancer\").size().reset_index().set_index(\"cancer\")\n",
    "pfi_plot=pd.merge(pfi_mean,pfi_count,right_index=True,left_index=True)"
   ]
  },
  {
   "cell_type": "code",
   "execution_count": null,
   "metadata": {},
   "outputs": [],
   "source": [
    "os_mean=os_sig_annot[[\"cancer\",\"-log10(fdr)\"]].groupby(\"cancer\").mean()\n",
    "os_count=os_sig_annot[[\"cancer\",\"-log10(fdr)\"]].groupby(\"cancer\").size().reset_index().set_index(\"cancer\")\n",
    "os_plot=pd.merge(os_mean,os_count,right_index=True,left_index=True)"
   ]
  },
  {
   "cell_type": "code",
   "execution_count": null,
   "metadata": {},
   "outputs": [],
   "source": [
    "pfi_plot[\"cat\"]=\"pfi\"\n",
    "os_plot[\"cat\"]=\"os\""
   ]
  },
  {
   "cell_type": "code",
   "execution_count": null,
   "metadata": {},
   "outputs": [],
   "source": [
    "total_plot=pfi_plot.append(os_plot)"
   ]
  },
  {
   "cell_type": "code",
   "execution_count": null,
   "metadata": {},
   "outputs": [],
   "source": [
    "total_plot=total_plot.reset_index()"
   ]
  },
  {
   "cell_type": "code",
   "execution_count": null,
   "metadata": {},
   "outputs": [],
   "source": [
    "total_plot.to_csv(\"../data/os.pfi.germline.variants.txt\",index=None,sep=\"\\t\")"
   ]
  },
  {
   "cell_type": "markdown",
   "metadata": {},
   "source": [
    "## Plot prognostic snps"
   ]
  },
  {
   "cell_type": "code",
   "execution_count": null,
   "metadata": {},
   "outputs": [],
   "source": [
    "total_plot=total_plot.pivot(index=\"cancer\",columns=\"cat\",values=0)"
   ]
  },
  {
   "cell_type": "code",
   "execution_count": null,
   "metadata": {},
   "outputs": [],
   "source": [
    "plt.figure(figsize=(2,10))\n",
    "sns.heatmap(total_plot,cmap=\"Reds\",annot=True)\n",
    "plt.savefig(\"../plots/prognostic.snps.pdf\")"
   ]
  },
  {
   "cell_type": "code",
   "execution_count": null,
   "metadata": {},
   "outputs": [],
   "source": []
  },
  {
   "cell_type": "code",
   "execution_count": null,
   "metadata": {},
   "outputs": [],
   "source": []
  },
  {
   "cell_type": "code",
   "execution_count": null,
   "metadata": {},
   "outputs": [],
   "source": []
  }
 ],
 "metadata": {
  "kernelspec": {
   "display_name": "Python 3",
   "language": "python",
   "name": "python3"
  },
  "language_info": {
   "codemirror_mode": {
    "name": "ipython",
    "version": 3
   },
   "file_extension": ".py",
   "mimetype": "text/x-python",
   "name": "python",
   "nbconvert_exporter": "python",
   "pygments_lexer": "ipython3",
   "version": "3.7.7"
  }
 },
 "nbformat": 4,
 "nbformat_minor": 2
}
