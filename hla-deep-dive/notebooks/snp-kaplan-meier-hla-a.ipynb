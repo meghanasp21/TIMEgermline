{
 "cells": [
  {
   "cell_type": "code",
   "execution_count": 1,
   "metadata": {},
   "outputs": [],
   "source": [
    "import pandas as pd\n",
    "import numpy as np\n",
    "import sys\n",
    "sys.path.insert(0, \"/cellar/users/mpagadal/Programs/anaconda3/lib/python3.7/site-packages\")\n",
    "import lifelines\n"
   ]
  },
  {
   "cell_type": "code",
   "execution_count": 2,
   "metadata": {},
   "outputs": [],
   "source": [
    "### STATS ###\n",
    "import statsmodels.stats.multitest as multi\n",
    "from matplotlib.collections import PatchCollection"
   ]
  },
  {
   "cell_type": "code",
   "execution_count": 3,
   "metadata": {},
   "outputs": [],
   "source": [
    "import matplotlib\n",
    "matplotlib.rcParams['pdf.fonttype'] = 42\n",
    "matplotlib.rcParams['ps.fonttype'] = 42"
   ]
  },
  {
   "cell_type": "code",
   "execution_count": 4,
   "metadata": {},
   "outputs": [],
   "source": [
    "import scipy.stats"
   ]
  },
  {
   "cell_type": "code",
   "execution_count": 5,
   "metadata": {},
   "outputs": [],
   "source": [
    "from matplotlib import pyplot as plt\n",
    "import numpy as np\n",
    "import seaborn as sns"
   ]
  },
  {
   "cell_type": "code",
   "execution_count": 6,
   "metadata": {},
   "outputs": [],
   "source": [
    "from lifelines import KaplanMeierFitter\n",
    "from lifelines.statistics import logrank_test\n",
    "from scipy.stats import pearsonr, spearmanr, mannwhitneyu"
   ]
  },
  {
   "cell_type": "markdown",
   "metadata": {},
   "source": [
    "## Get survival information"
   ]
  },
  {
   "cell_type": "code",
   "execution_count": 7,
   "metadata": {},
   "outputs": [],
   "source": [
    "def make_df(surv,surv_type,raw):\n",
    "    #get survival dataframe\n",
    "    surv=pd.read_csv(surv,index_col=0)\n",
    "    surv=surv.rename(columns={\"bcr_patient_barcode\":\"FID\"})\n",
    "    #get genotypes\n",
    "    snps=pd.read_csv(raw,delimiter=\" \")\n",
    "    cols=[x for x in snps.columns if x not in [\"IID\",\"PAT\",\"MAT\",\"SEX\",\"PHENOTYPE\"]]\n",
    "    snps=snps[cols]\n",
    "    #combine dataframes\n",
    "    full_surv=pd.merge(surv[[\"FID\",surv_type,surv_type+\".time\"]],snps,on=\"FID\")\n",
    "    print(full_surv.shape)\n",
    "    full_surv=full_surv[full_surv[surv_type+\".time\"]<1825]\n",
    "    return(full_surv)"
   ]
  },
  {
   "cell_type": "code",
   "execution_count": 8,
   "metadata": {},
   "outputs": [
    {
     "name": "stdout",
     "output_type": "stream",
     "text": [
      "(8183, 108)\n"
     ]
    }
   ],
   "source": [
    "os_surv=make_df(\"/cellar/users/mpagadal/Data/resources/from-labmembers/andrea/Liu2018.TCGA_survival.csv\",\"OS\",\"/nrnb/users/mpagadal/tcga-genotypes/germline-immune/hla.snp.raw\")"
   ]
  },
  {
   "cell_type": "code",
   "execution_count": 9,
   "metadata": {},
   "outputs": [
    {
     "data": {
      "text/plain": [
       "0.0    4373\n",
       "1.0    2374\n",
       "Name: OS, dtype: int64"
      ]
     },
     "execution_count": 9,
     "metadata": {},
     "output_type": "execute_result"
    }
   ],
   "source": [
    "os_surv[\"OS\"].value_counts()"
   ]
  },
  {
   "cell_type": "code",
   "execution_count": 10,
   "metadata": {},
   "outputs": [
    {
     "data": {
      "text/plain": [
       "<matplotlib.axes._subplots.AxesSubplot at 0x7f5ec03cd550>"
      ]
     },
     "execution_count": 10,
     "metadata": {},
     "output_type": "execute_result"
    },
    {
     "data": {
      "image/png": "[encoded data removed]",
      "text/plain": [
       "<Figure size 432x288 with 1 Axes>"
      ]
     },
     "metadata": {
      "needs_background": "light"
     },
     "output_type": "display_data"
    }
   ],
   "source": [
    "os_surv[\"OS.time\"].hist()"
   ]
  },
  {
   "cell_type": "markdown",
   "metadata": {},
   "source": [
    "## Map to cancer types"
   ]
  },
  {
   "cell_type": "code",
   "execution_count": 11,
   "metadata": {},
   "outputs": [],
   "source": [
    "# map to cancer type\n",
    "canc = pd.read_csv(\"/nrnb/users/mpagadal/tcga-genotypes/birdseed-processing/gtype.meta\", delimiter=\"\\t\", header=None)\n",
    "mp = canc.set_index(2)[0].to_dict()\n",
    "os_surv[\"cancer\"]=os_surv[\"FID\"].map(mp)"
   ]
  },
  {
   "cell_type": "code",
   "execution_count": 12,
   "metadata": {},
   "outputs": [],
   "source": [
    "# make list of cancer types\n",
    "cancers=os_surv[\"cancer\"].unique().tolist()"
   ]
  },
  {
   "cell_type": "markdown",
   "metadata": {},
   "source": [
    "## Make combo of 2 HLA-A variants"
   ]
  },
  {
   "cell_type": "code",
   "execution_count": 13,
   "metadata": {},
   "outputs": [],
   "source": [
    "os_surv[\"6:29933439:T:C_T\"]=os_surv[\"6:29933439:T:C_C\"].map({2:0,1:1,0:2})"
   ]
  },
  {
   "cell_type": "code",
   "execution_count": 14,
   "metadata": {},
   "outputs": [],
   "source": [
    "combo=[]\n",
    "\n",
    "for i,row in os_surv.iterrows():\n",
    "    if (row[\"6:29933439:T:C_T\"]>0) & (row[\"6:29910358:G:C_C\"]>0):\n",
    "        combo.append(2)\n",
    "    elif row[\"6:29933439:T:C_T\"]>0:\n",
    "        combo.append(1)\n",
    "    elif row[\"6:29910358:G:C_C\"]>0:\n",
    "        combo.append(1)\n",
    "    else:\n",
    "        combo.append(0)\n",
    "        \n",
    "os_surv[\"combo\"]=combo  "
   ]
  },
  {
   "cell_type": "markdown",
   "metadata": {},
   "source": [
    "## Map to RNA"
   ]
  },
  {
   "cell_type": "code",
   "execution_count": 15,
   "metadata": {},
   "outputs": [],
   "source": [
    "firebrowse=pd.read_csv(\"/cellar/users/mpagadal/Data2/projects/germline-immune/discovery/phenotypes/processed_phenos/firebrowse/tumor/pheno_all_zcancer\",delimiter=\"\\t\")"
   ]
  },
  {
   "cell_type": "code",
   "execution_count": 16,
   "metadata": {},
   "outputs": [],
   "source": [
    "os_surv=pd.merge(os_surv,firebrowse[[\"FID\",\"HLA.A\"]], on=\"FID\",how=\"left\")"
   ]
  },
  {
   "cell_type": "markdown",
   "metadata": {},
   "source": [
    "## Run Kaplan-Meier analysis"
   ]
  },
  {
   "cell_type": "code",
   "execution_count": 17,
   "metadata": {
    "scrolled": true
   },
   "outputs": [
    {
     "name": "stderr",
     "output_type": "stream",
     "text": [
      "/nrnb/opt/anaconda3.7/lib/python3.7/site-packages/pandas/plotting/_matplotlib/core.py:656: MatplotlibDeprecationWarning: Saw kwargs ['c', 'color'] which are all aliases for 'color'.  Kept value from 'color'.  Passing multiple aliases for the same property will raise a TypeError in 3.3.\n",
      "  return ax.plot(*args, **kwds)\n",
      "/nrnb/opt/anaconda3.7/lib/python3.7/site-packages/pandas/plotting/_matplotlib/core.py:656: MatplotlibDeprecationWarning: Saw kwargs ['c', 'color'] which are all aliases for 'color'.  Kept value from 'color'.  Passing multiple aliases for the same property will raise a TypeError in 3.3.\n",
      "  return ax.plot(*args, **kwds)\n",
      "/nrnb/opt/anaconda3.7/lib/python3.7/site-packages/pandas/plotting/_matplotlib/core.py:656: MatplotlibDeprecationWarning: Saw kwargs ['c', 'color'] which are all aliases for 'color'.  Kept value from 'color'.  Passing multiple aliases for the same property will raise a TypeError in 3.3.\n",
      "  return ax.plot(*args, **kwds)\n",
      "/nrnb/opt/anaconda3.7/lib/python3.7/site-packages/pandas/plotting/_matplotlib/core.py:656: MatplotlibDeprecationWarning: Saw kwargs ['c', 'color'] which are all aliases for 'color'.  Kept value from 'color'.  Passing multiple aliases for the same property will raise a TypeError in 3.3.\n",
      "  return ax.plot(*args, **kwds)\n",
      "/nrnb/opt/anaconda3.7/lib/python3.7/site-packages/pandas/plotting/_matplotlib/core.py:656: MatplotlibDeprecationWarning: Saw kwargs ['c', 'color'] which are all aliases for 'color'.  Kept value from 'color'.  Passing multiple aliases for the same property will raise a TypeError in 3.3.\n",
      "  return ax.plot(*args, **kwds)\n",
      "/nrnb/opt/anaconda3.7/lib/python3.7/site-packages/pandas/plotting/_matplotlib/core.py:656: MatplotlibDeprecationWarning: Saw kwargs ['c', 'color'] which are all aliases for 'color'.  Kept value from 'color'.  Passing multiple aliases for the same property will raise a TypeError in 3.3.\n",
      "  return ax.plot(*args, **kwds)\n",
      "/nrnb/opt/anaconda3.7/lib/python3.7/site-packages/pandas/plotting/_matplotlib/core.py:656: MatplotlibDeprecationWarning: Saw kwargs ['c', 'color'] which are all aliases for 'color'.  Kept value from 'color'.  Passing multiple aliases for the same property will raise a TypeError in 3.3.\n",
      "  return ax.plot(*args, **kwds)\n",
      "/nrnb/opt/anaconda3.7/lib/python3.7/site-packages/pandas/plotting/_matplotlib/core.py:656: MatplotlibDeprecationWarning: Saw kwargs ['c', 'color'] which are all aliases for 'color'.  Kept value from 'color'.  Passing multiple aliases for the same property will raise a TypeError in 3.3.\n",
      "  return ax.plot(*args, **kwds)\n",
      "/nrnb/opt/anaconda3.7/lib/python3.7/site-packages/pandas/plotting/_matplotlib/core.py:656: MatplotlibDeprecationWarning: Saw kwargs ['c', 'color'] which are all aliases for 'color'.  Kept value from 'color'.  Passing multiple aliases for the same property will raise a TypeError in 3.3.\n",
      "  return ax.plot(*args, **kwds)\n",
      "/nrnb/opt/anaconda3.7/lib/python3.7/site-packages/pandas/plotting/_matplotlib/core.py:656: MatplotlibDeprecationWarning: Saw kwargs ['c', 'color'] which are all aliases for 'color'.  Kept value from 'color'.  Passing multiple aliases for the same property will raise a TypeError in 3.3.\n",
      "  return ax.plot(*args, **kwds)\n",
      "/nrnb/opt/anaconda3.7/lib/python3.7/site-packages/pandas/plotting/_matplotlib/core.py:656: MatplotlibDeprecationWarning: Saw kwargs ['c', 'color'] which are all aliases for 'color'.  Kept value from 'color'.  Passing multiple aliases for the same property will raise a TypeError in 3.3.\n",
      "  return ax.plot(*args, **kwds)\n",
      "/nrnb/opt/anaconda3.7/lib/python3.7/site-packages/pandas/plotting/_matplotlib/core.py:656: MatplotlibDeprecationWarning: Saw kwargs ['c', 'color'] which are all aliases for 'color'.  Kept value from 'color'.  Passing multiple aliases for the same property will raise a TypeError in 3.3.\n",
      "  return ax.plot(*args, **kwds)\n",
      "/nrnb/opt/anaconda3.7/lib/python3.7/site-packages/pandas/plotting/_matplotlib/core.py:656: MatplotlibDeprecationWarning: Saw kwargs ['c', 'color'] which are all aliases for 'color'.  Kept value from 'color'.  Passing multiple aliases for the same property will raise a TypeError in 3.3.\n",
      "  return ax.plot(*args, **kwds)\n",
      "/nrnb/opt/anaconda3.7/lib/python3.7/site-packages/pandas/plotting/_matplotlib/core.py:656: MatplotlibDeprecationWarning: Saw kwargs ['c', 'color'] which are all aliases for 'color'.  Kept value from 'color'.  Passing multiple aliases for the same property will raise a TypeError in 3.3.\n",
      "  return ax.plot(*args, **kwds)\n",
      "/nrnb/opt/anaconda3.7/lib/python3.7/site-packages/pandas/plotting/_matplotlib/core.py:656: MatplotlibDeprecationWarning: Saw kwargs ['c', 'color'] which are all aliases for 'color'.  Kept value from 'color'.  Passing multiple aliases for the same property will raise a TypeError in 3.3.\n",
      "  return ax.plot(*args, **kwds)\n",
      "/nrnb/opt/anaconda3.7/lib/python3.7/site-packages/pandas/plotting/_matplotlib/core.py:656: MatplotlibDeprecationWarning: Saw kwargs ['c', 'color'] which are all aliases for 'color'.  Kept value from 'color'.  Passing multiple aliases for the same property will raise a TypeError in 3.3.\n",
      "  return ax.plot(*args, **kwds)\n",
      "/nrnb/opt/anaconda3.7/lib/python3.7/site-packages/pandas/plotting/_matplotlib/core.py:656: MatplotlibDeprecationWarning: Saw kwargs ['c', 'color'] which are all aliases for 'color'.  Kept value from 'color'.  Passing multiple aliases for the same property will raise a TypeError in 3.3.\n",
      "  return ax.plot(*args, **kwds)\n",
      "/nrnb/opt/anaconda3.7/lib/python3.7/site-packages/pandas/plotting/_matplotlib/core.py:656: MatplotlibDeprecationWarning: Saw kwargs ['c', 'color'] which are all aliases for 'color'.  Kept value from 'color'.  Passing multiple aliases for the same property will raise a TypeError in 3.3.\n",
      "  return ax.plot(*args, **kwds)\n",
      "/nrnb/opt/anaconda3.7/lib/python3.7/site-packages/pandas/plotting/_matplotlib/core.py:656: MatplotlibDeprecationWarning: Saw kwargs ['c', 'color'] which are all aliases for 'color'.  Kept value from 'color'.  Passing multiple aliases for the same property will raise a TypeError in 3.3.\n",
      "  return ax.plot(*args, **kwds)\n",
      "/nrnb/opt/anaconda3.7/lib/python3.7/site-packages/pandas/plotting/_matplotlib/core.py:656: MatplotlibDeprecationWarning: Saw kwargs ['c', 'color'] which are all aliases for 'color'.  Kept value from 'color'.  Passing multiple aliases for the same property will raise a TypeError in 3.3.\n",
      "  return ax.plot(*args, **kwds)\n",
      "/nrnb/opt/anaconda3.7/lib/python3.7/site-packages/pandas/plotting/_matplotlib/core.py:656: MatplotlibDeprecationWarning: Saw kwargs ['c', 'color'] which are all aliases for 'color'.  Kept value from 'color'.  Passing multiple aliases for the same property will raise a TypeError in 3.3.\n",
      "  return ax.plot(*args, **kwds)\n",
      "/nrnb/opt/anaconda3.7/lib/python3.7/site-packages/pandas/plotting/_matplotlib/core.py:656: MatplotlibDeprecationWarning: Saw kwargs ['c', 'color'] which are all aliases for 'color'.  Kept value from 'color'.  Passing multiple aliases for the same property will raise a TypeError in 3.3.\n",
      "  return ax.plot(*args, **kwds)\n",
      "/nrnb/opt/anaconda3.7/lib/python3.7/site-packages/pandas/plotting/_matplotlib/core.py:656: MatplotlibDeprecationWarning: Saw kwargs ['c', 'color'] which are all aliases for 'color'.  Kept value from 'color'.  Passing multiple aliases for the same property will raise a TypeError in 3.3.\n",
      "  return ax.plot(*args, **kwds)\n",
      "/nrnb/opt/anaconda3.7/lib/python3.7/site-packages/pandas/plotting/_matplotlib/core.py:656: MatplotlibDeprecationWarning: Saw kwargs ['c', 'color'] which are all aliases for 'color'.  Kept value from 'color'.  Passing multiple aliases for the same property will raise a TypeError in 3.3.\n",
      "  return ax.plot(*args, **kwds)\n",
      "/nrnb/opt/anaconda3.7/lib/python3.7/site-packages/pandas/plotting/_matplotlib/core.py:656: MatplotlibDeprecationWarning: Saw kwargs ['c', 'color'] which are all aliases for 'color'.  Kept value from 'color'.  Passing multiple aliases for the same property will raise a TypeError in 3.3.\n",
      "  return ax.plot(*args, **kwds)\n",
      "/nrnb/opt/anaconda3.7/lib/python3.7/site-packages/pandas/plotting/_matplotlib/core.py:656: MatplotlibDeprecationWarning: Saw kwargs ['c', 'color'] which are all aliases for 'color'.  Kept value from 'color'.  Passing multiple aliases for the same property will raise a TypeError in 3.3.\n",
      "  return ax.plot(*args, **kwds)\n",
      "/nrnb/opt/anaconda3.7/lib/python3.7/site-packages/pandas/plotting/_matplotlib/core.py:656: MatplotlibDeprecationWarning: Saw kwargs ['c', 'color'] which are all aliases for 'color'.  Kept value from 'color'.  Passing multiple aliases for the same property will raise a TypeError in 3.3.\n",
      "  return ax.plot(*args, **kwds)\n"
     ]
    },
    {
     "name": "stderr",
     "output_type": "stream",
     "text": [
      "/nrnb/opt/anaconda3.7/lib/python3.7/site-packages/pandas/plotting/_matplotlib/core.py:656: MatplotlibDeprecationWarning: Saw kwargs ['c', 'color'] which are all aliases for 'color'.  Kept value from 'color'.  Passing multiple aliases for the same property will raise a TypeError in 3.3.\n",
      "  return ax.plot(*args, **kwds)\n",
      "/nrnb/opt/anaconda3.7/lib/python3.7/site-packages/pandas/plotting/_matplotlib/core.py:656: MatplotlibDeprecationWarning: Saw kwargs ['c', 'color'] which are all aliases for 'color'.  Kept value from 'color'.  Passing multiple aliases for the same property will raise a TypeError in 3.3.\n",
      "  return ax.plot(*args, **kwds)\n",
      "/nrnb/opt/anaconda3.7/lib/python3.7/site-packages/pandas/plotting/_matplotlib/core.py:656: MatplotlibDeprecationWarning: Saw kwargs ['c', 'color'] which are all aliases for 'color'.  Kept value from 'color'.  Passing multiple aliases for the same property will raise a TypeError in 3.3.\n",
      "  return ax.plot(*args, **kwds)\n",
      "/nrnb/opt/anaconda3.7/lib/python3.7/site-packages/pandas/plotting/_matplotlib/core.py:656: MatplotlibDeprecationWarning: Saw kwargs ['c', 'color'] which are all aliases for 'color'.  Kept value from 'color'.  Passing multiple aliases for the same property will raise a TypeError in 3.3.\n",
      "  return ax.plot(*args, **kwds)\n",
      "/nrnb/opt/anaconda3.7/lib/python3.7/site-packages/pandas/plotting/_matplotlib/core.py:656: MatplotlibDeprecationWarning: Saw kwargs ['c', 'color'] which are all aliases for 'color'.  Kept value from 'color'.  Passing multiple aliases for the same property will raise a TypeError in 3.3.\n",
      "  return ax.plot(*args, **kwds)\n",
      "/nrnb/opt/anaconda3.7/lib/python3.7/site-packages/pandas/plotting/_matplotlib/core.py:656: MatplotlibDeprecationWarning: Saw kwargs ['c', 'color'] which are all aliases for 'color'.  Kept value from 'color'.  Passing multiple aliases for the same property will raise a TypeError in 3.3.\n",
      "  return ax.plot(*args, **kwds)\n",
      "/nrnb/opt/anaconda3.7/lib/python3.7/site-packages/pandas/plotting/_matplotlib/core.py:656: MatplotlibDeprecationWarning: Saw kwargs ['c', 'color'] which are all aliases for 'color'.  Kept value from 'color'.  Passing multiple aliases for the same property will raise a TypeError in 3.3.\n",
      "  return ax.plot(*args, **kwds)\n",
      "/nrnb/opt/anaconda3.7/lib/python3.7/site-packages/pandas/plotting/_matplotlib/core.py:656: MatplotlibDeprecationWarning: Saw kwargs ['c', 'color'] which are all aliases for 'color'.  Kept value from 'color'.  Passing multiple aliases for the same property will raise a TypeError in 3.3.\n",
      "  return ax.plot(*args, **kwds)\n",
      "/nrnb/opt/anaconda3.7/lib/python3.7/site-packages/pandas/plotting/_matplotlib/core.py:656: MatplotlibDeprecationWarning: Saw kwargs ['c', 'color'] which are all aliases for 'color'.  Kept value from 'color'.  Passing multiple aliases for the same property will raise a TypeError in 3.3.\n",
      "  return ax.plot(*args, **kwds)\n",
      "/nrnb/opt/anaconda3.7/lib/python3.7/site-packages/pandas/plotting/_matplotlib/core.py:656: MatplotlibDeprecationWarning: Saw kwargs ['c', 'color'] which are all aliases for 'color'.  Kept value from 'color'.  Passing multiple aliases for the same property will raise a TypeError in 3.3.\n",
      "  return ax.plot(*args, **kwds)\n",
      "/nrnb/opt/anaconda3.7/lib/python3.7/site-packages/pandas/plotting/_matplotlib/core.py:656: MatplotlibDeprecationWarning: Saw kwargs ['c', 'color'] which are all aliases for 'color'.  Kept value from 'color'.  Passing multiple aliases for the same property will raise a TypeError in 3.3.\n",
      "  return ax.plot(*args, **kwds)\n",
      "/nrnb/opt/anaconda3.7/lib/python3.7/site-packages/pandas/plotting/_matplotlib/core.py:656: MatplotlibDeprecationWarning: Saw kwargs ['c', 'color'] which are all aliases for 'color'.  Kept value from 'color'.  Passing multiple aliases for the same property will raise a TypeError in 3.3.\n",
      "  return ax.plot(*args, **kwds)\n",
      "/nrnb/opt/anaconda3.7/lib/python3.7/site-packages/pandas/plotting/_matplotlib/core.py:656: MatplotlibDeprecationWarning: Saw kwargs ['c', 'color'] which are all aliases for 'color'.  Kept value from 'color'.  Passing multiple aliases for the same property will raise a TypeError in 3.3.\n",
      "  return ax.plot(*args, **kwds)\n",
      "/nrnb/opt/anaconda3.7/lib/python3.7/site-packages/pandas/plotting/_matplotlib/core.py:656: MatplotlibDeprecationWarning: Saw kwargs ['c', 'color'] which are all aliases for 'color'.  Kept value from 'color'.  Passing multiple aliases for the same property will raise a TypeError in 3.3.\n",
      "  return ax.plot(*args, **kwds)\n",
      "/nrnb/opt/anaconda3.7/lib/python3.7/site-packages/pandas/plotting/_matplotlib/core.py:656: MatplotlibDeprecationWarning: Saw kwargs ['c', 'color'] which are all aliases for 'color'.  Kept value from 'color'.  Passing multiple aliases for the same property will raise a TypeError in 3.3.\n",
      "  return ax.plot(*args, **kwds)\n",
      "/nrnb/opt/anaconda3.7/lib/python3.7/site-packages/pandas/plotting/_matplotlib/core.py:656: MatplotlibDeprecationWarning: Saw kwargs ['c', 'color'] which are all aliases for 'color'.  Kept value from 'color'.  Passing multiple aliases for the same property will raise a TypeError in 3.3.\n",
      "  return ax.plot(*args, **kwds)\n",
      "/nrnb/opt/anaconda3.7/lib/python3.7/site-packages/pandas/plotting/_matplotlib/core.py:656: MatplotlibDeprecationWarning: Saw kwargs ['c', 'color'] which are all aliases for 'color'.  Kept value from 'color'.  Passing multiple aliases for the same property will raise a TypeError in 3.3.\n",
      "  return ax.plot(*args, **kwds)\n",
      "/nrnb/opt/anaconda3.7/lib/python3.7/site-packages/pandas/plotting/_matplotlib/core.py:656: MatplotlibDeprecationWarning: Saw kwargs ['c', 'color'] which are all aliases for 'color'.  Kept value from 'color'.  Passing multiple aliases for the same property will raise a TypeError in 3.3.\n",
      "  return ax.plot(*args, **kwds)\n",
      "/nrnb/opt/anaconda3.7/lib/python3.7/site-packages/pandas/plotting/_matplotlib/core.py:656: MatplotlibDeprecationWarning: Saw kwargs ['c', 'color'] which are all aliases for 'color'.  Kept value from 'color'.  Passing multiple aliases for the same property will raise a TypeError in 3.3.\n",
      "  return ax.plot(*args, **kwds)\n",
      "/nrnb/opt/anaconda3.7/lib/python3.7/site-packages/pandas/plotting/_matplotlib/core.py:656: MatplotlibDeprecationWarning: Saw kwargs ['c', 'color'] which are all aliases for 'color'.  Kept value from 'color'.  Passing multiple aliases for the same property will raise a TypeError in 3.3.\n",
      "  return ax.plot(*args, **kwds)\n",
      "/nrnb/opt/anaconda3.7/lib/python3.7/site-packages/pandas/plotting/_matplotlib/core.py:656: MatplotlibDeprecationWarning: Saw kwargs ['c', 'color'] which are all aliases for 'color'.  Kept value from 'color'.  Passing multiple aliases for the same property will raise a TypeError in 3.3.\n",
      "  return ax.plot(*args, **kwds)\n",
      "/nrnb/opt/anaconda3.7/lib/python3.7/site-packages/pandas/plotting/_matplotlib/core.py:656: MatplotlibDeprecationWarning: Saw kwargs ['c', 'color'] which are all aliases for 'color'.  Kept value from 'color'.  Passing multiple aliases for the same property will raise a TypeError in 3.3.\n",
      "  return ax.plot(*args, **kwds)\n",
      "/nrnb/opt/anaconda3.7/lib/python3.7/site-packages/pandas/plotting/_matplotlib/core.py:656: MatplotlibDeprecationWarning: Saw kwargs ['c', 'color'] which are all aliases for 'color'.  Kept value from 'color'.  Passing multiple aliases for the same property will raise a TypeError in 3.3.\n",
      "  return ax.plot(*args, **kwds)\n",
      "/nrnb/opt/anaconda3.7/lib/python3.7/site-packages/pandas/plotting/_matplotlib/core.py:656: MatplotlibDeprecationWarning: Saw kwargs ['c', 'color'] which are all aliases for 'color'.  Kept value from 'color'.  Passing multiple aliases for the same property will raise a TypeError in 3.3.\n",
      "  return ax.plot(*args, **kwds)\n",
      "/nrnb/opt/anaconda3.7/lib/python3.7/site-packages/pandas/plotting/_matplotlib/core.py:656: MatplotlibDeprecationWarning: Saw kwargs ['c', 'color'] which are all aliases for 'color'.  Kept value from 'color'.  Passing multiple aliases for the same property will raise a TypeError in 3.3.\n",
      "  return ax.plot(*args, **kwds)\n",
      "/nrnb/opt/anaconda3.7/lib/python3.7/site-packages/pandas/plotting/_matplotlib/core.py:656: MatplotlibDeprecationWarning: Saw kwargs ['c', 'color'] which are all aliases for 'color'.  Kept value from 'color'.  Passing multiple aliases for the same property will raise a TypeError in 3.3.\n",
      "  return ax.plot(*args, **kwds)\n"
     ]
    },
    {
     "name": "stderr",
     "output_type": "stream",
     "text": [
      "/nrnb/opt/anaconda3.7/lib/python3.7/site-packages/pandas/plotting/_matplotlib/core.py:656: MatplotlibDeprecationWarning: Saw kwargs ['c', 'color'] which are all aliases for 'color'.  Kept value from 'color'.  Passing multiple aliases for the same property will raise a TypeError in 3.3.\n",
      "  return ax.plot(*args, **kwds)\n",
      "/nrnb/opt/anaconda3.7/lib/python3.7/site-packages/pandas/plotting/_matplotlib/core.py:656: MatplotlibDeprecationWarning: Saw kwargs ['c', 'color'] which are all aliases for 'color'.  Kept value from 'color'.  Passing multiple aliases for the same property will raise a TypeError in 3.3.\n",
      "  return ax.plot(*args, **kwds)\n",
      "/nrnb/opt/anaconda3.7/lib/python3.7/site-packages/pandas/plotting/_matplotlib/core.py:656: MatplotlibDeprecationWarning: Saw kwargs ['c', 'color'] which are all aliases for 'color'.  Kept value from 'color'.  Passing multiple aliases for the same property will raise a TypeError in 3.3.\n",
      "  return ax.plot(*args, **kwds)\n",
      "/nrnb/opt/anaconda3.7/lib/python3.7/site-packages/pandas/plotting/_matplotlib/core.py:656: MatplotlibDeprecationWarning: Saw kwargs ['c', 'color'] which are all aliases for 'color'.  Kept value from 'color'.  Passing multiple aliases for the same property will raise a TypeError in 3.3.\n",
      "  return ax.plot(*args, **kwds)\n",
      "/nrnb/opt/anaconda3.7/lib/python3.7/site-packages/pandas/plotting/_matplotlib/core.py:656: MatplotlibDeprecationWarning: Saw kwargs ['c', 'color'] which are all aliases for 'color'.  Kept value from 'color'.  Passing multiple aliases for the same property will raise a TypeError in 3.3.\n",
      "  return ax.plot(*args, **kwds)\n",
      "/nrnb/opt/anaconda3.7/lib/python3.7/site-packages/pandas/plotting/_matplotlib/core.py:656: MatplotlibDeprecationWarning: Saw kwargs ['c', 'color'] which are all aliases for 'color'.  Kept value from 'color'.  Passing multiple aliases for the same property will raise a TypeError in 3.3.\n",
      "  return ax.plot(*args, **kwds)\n",
      "/nrnb/opt/anaconda3.7/lib/python3.7/site-packages/pandas/plotting/_matplotlib/core.py:656: MatplotlibDeprecationWarning: Saw kwargs ['c', 'color'] which are all aliases for 'color'.  Kept value from 'color'.  Passing multiple aliases for the same property will raise a TypeError in 3.3.\n",
      "  return ax.plot(*args, **kwds)\n",
      "/nrnb/opt/anaconda3.7/lib/python3.7/site-packages/pandas/plotting/_matplotlib/core.py:656: MatplotlibDeprecationWarning: Saw kwargs ['c', 'color'] which are all aliases for 'color'.  Kept value from 'color'.  Passing multiple aliases for the same property will raise a TypeError in 3.3.\n",
      "  return ax.plot(*args, **kwds)\n",
      "/nrnb/opt/anaconda3.7/lib/python3.7/site-packages/pandas/plotting/_matplotlib/core.py:656: MatplotlibDeprecationWarning: Saw kwargs ['c', 'color'] which are all aliases for 'color'.  Kept value from 'color'.  Passing multiple aliases for the same property will raise a TypeError in 3.3.\n",
      "  return ax.plot(*args, **kwds)\n",
      "/nrnb/opt/anaconda3.7/lib/python3.7/site-packages/pandas/plotting/_matplotlib/core.py:656: MatplotlibDeprecationWarning: Saw kwargs ['c', 'color'] which are all aliases for 'color'.  Kept value from 'color'.  Passing multiple aliases for the same property will raise a TypeError in 3.3.\n",
      "  return ax.plot(*args, **kwds)\n",
      "/nrnb/opt/anaconda3.7/lib/python3.7/site-packages/pandas/plotting/_matplotlib/core.py:656: MatplotlibDeprecationWarning: Saw kwargs ['c', 'color'] which are all aliases for 'color'.  Kept value from 'color'.  Passing multiple aliases for the same property will raise a TypeError in 3.3.\n",
      "  return ax.plot(*args, **kwds)\n",
      "/nrnb/opt/anaconda3.7/lib/python3.7/site-packages/pandas/plotting/_matplotlib/core.py:656: MatplotlibDeprecationWarning: Saw kwargs ['c', 'color'] which are all aliases for 'color'.  Kept value from 'color'.  Passing multiple aliases for the same property will raise a TypeError in 3.3.\n",
      "  return ax.plot(*args, **kwds)\n",
      "/nrnb/opt/anaconda3.7/lib/python3.7/site-packages/pandas/plotting/_matplotlib/core.py:656: MatplotlibDeprecationWarning: Saw kwargs ['c', 'color'] which are all aliases for 'color'.  Kept value from 'color'.  Passing multiple aliases for the same property will raise a TypeError in 3.3.\n",
      "  return ax.plot(*args, **kwds)\n",
      "/nrnb/opt/anaconda3.7/lib/python3.7/site-packages/pandas/plotting/_matplotlib/core.py:656: MatplotlibDeprecationWarning: Saw kwargs ['c', 'color'] which are all aliases for 'color'.  Kept value from 'color'.  Passing multiple aliases for the same property will raise a TypeError in 3.3.\n",
      "  return ax.plot(*args, **kwds)\n",
      "/nrnb/opt/anaconda3.7/lib/python3.7/site-packages/pandas/plotting/_matplotlib/core.py:656: MatplotlibDeprecationWarning: Saw kwargs ['c', 'color'] which are all aliases for 'color'.  Kept value from 'color'.  Passing multiple aliases for the same property will raise a TypeError in 3.3.\n",
      "  return ax.plot(*args, **kwds)\n",
      "/nrnb/opt/anaconda3.7/lib/python3.7/site-packages/pandas/plotting/_matplotlib/core.py:656: MatplotlibDeprecationWarning: Saw kwargs ['c', 'color'] which are all aliases for 'color'.  Kept value from 'color'.  Passing multiple aliases for the same property will raise a TypeError in 3.3.\n",
      "  return ax.plot(*args, **kwds)\n",
      "/nrnb/opt/anaconda3.7/lib/python3.7/site-packages/pandas/plotting/_matplotlib/core.py:656: MatplotlibDeprecationWarning: Saw kwargs ['c', 'color'] which are all aliases for 'color'.  Kept value from 'color'.  Passing multiple aliases for the same property will raise a TypeError in 3.3.\n",
      "  return ax.plot(*args, **kwds)\n",
      "/nrnb/opt/anaconda3.7/lib/python3.7/site-packages/pandas/plotting/_matplotlib/core.py:656: MatplotlibDeprecationWarning: Saw kwargs ['c', 'color'] which are all aliases for 'color'.  Kept value from 'color'.  Passing multiple aliases for the same property will raise a TypeError in 3.3.\n",
      "  return ax.plot(*args, **kwds)\n",
      "/nrnb/opt/anaconda3.7/lib/python3.7/site-packages/pandas/plotting/_matplotlib/core.py:656: MatplotlibDeprecationWarning: Saw kwargs ['c', 'color'] which are all aliases for 'color'.  Kept value from 'color'.  Passing multiple aliases for the same property will raise a TypeError in 3.3.\n",
      "  return ax.plot(*args, **kwds)\n",
      "/nrnb/opt/anaconda3.7/lib/python3.7/site-packages/pandas/plotting/_matplotlib/core.py:656: MatplotlibDeprecationWarning: Saw kwargs ['c', 'color'] which are all aliases for 'color'.  Kept value from 'color'.  Passing multiple aliases for the same property will raise a TypeError in 3.3.\n",
      "  return ax.plot(*args, **kwds)\n",
      "/nrnb/opt/anaconda3.7/lib/python3.7/site-packages/pandas/plotting/_matplotlib/core.py:656: MatplotlibDeprecationWarning: Saw kwargs ['c', 'color'] which are all aliases for 'color'.  Kept value from 'color'.  Passing multiple aliases for the same property will raise a TypeError in 3.3.\n",
      "  return ax.plot(*args, **kwds)\n",
      "/nrnb/opt/anaconda3.7/lib/python3.7/site-packages/pandas/plotting/_matplotlib/core.py:656: MatplotlibDeprecationWarning: Saw kwargs ['c', 'color'] which are all aliases for 'color'.  Kept value from 'color'.  Passing multiple aliases for the same property will raise a TypeError in 3.3.\n",
      "  return ax.plot(*args, **kwds)\n",
      "/nrnb/opt/anaconda3.7/lib/python3.7/site-packages/pandas/plotting/_matplotlib/core.py:656: MatplotlibDeprecationWarning: Saw kwargs ['c', 'color'] which are all aliases for 'color'.  Kept value from 'color'.  Passing multiple aliases for the same property will raise a TypeError in 3.3.\n",
      "  return ax.plot(*args, **kwds)\n",
      "/nrnb/opt/anaconda3.7/lib/python3.7/site-packages/pandas/plotting/_matplotlib/core.py:656: MatplotlibDeprecationWarning: Saw kwargs ['c', 'color'] which are all aliases for 'color'.  Kept value from 'color'.  Passing multiple aliases for the same property will raise a TypeError in 3.3.\n",
      "  return ax.plot(*args, **kwds)\n",
      "/nrnb/opt/anaconda3.7/lib/python3.7/site-packages/pandas/plotting/_matplotlib/core.py:656: MatplotlibDeprecationWarning: Saw kwargs ['c', 'color'] which are all aliases for 'color'.  Kept value from 'color'.  Passing multiple aliases for the same property will raise a TypeError in 3.3.\n",
      "  return ax.plot(*args, **kwds)\n",
      "/nrnb/opt/anaconda3.7/lib/python3.7/site-packages/pandas/plotting/_matplotlib/core.py:656: MatplotlibDeprecationWarning: Saw kwargs ['c', 'color'] which are all aliases for 'color'.  Kept value from 'color'.  Passing multiple aliases for the same property will raise a TypeError in 3.3.\n",
      "  return ax.plot(*args, **kwds)\n"
     ]
    },
    {
     "name": "stderr",
     "output_type": "stream",
     "text": [
      "/nrnb/opt/anaconda3.7/lib/python3.7/site-packages/pandas/plotting/_matplotlib/core.py:656: MatplotlibDeprecationWarning: Saw kwargs ['c', 'color'] which are all aliases for 'color'.  Kept value from 'color'.  Passing multiple aliases for the same property will raise a TypeError in 3.3.\n",
      "  return ax.plot(*args, **kwds)\n",
      "/nrnb/opt/anaconda3.7/lib/python3.7/site-packages/pandas/plotting/_matplotlib/core.py:656: MatplotlibDeprecationWarning: Saw kwargs ['c', 'color'] which are all aliases for 'color'.  Kept value from 'color'.  Passing multiple aliases for the same property will raise a TypeError in 3.3.\n",
      "  return ax.plot(*args, **kwds)\n",
      "/nrnb/opt/anaconda3.7/lib/python3.7/site-packages/pandas/plotting/_matplotlib/core.py:656: MatplotlibDeprecationWarning: Saw kwargs ['c', 'color'] which are all aliases for 'color'.  Kept value from 'color'.  Passing multiple aliases for the same property will raise a TypeError in 3.3.\n",
      "  return ax.plot(*args, **kwds)\n",
      "/nrnb/opt/anaconda3.7/lib/python3.7/site-packages/pandas/plotting/_matplotlib/core.py:656: MatplotlibDeprecationWarning: Saw kwargs ['c', 'color'] which are all aliases for 'color'.  Kept value from 'color'.  Passing multiple aliases for the same property will raise a TypeError in 3.3.\n",
      "  return ax.plot(*args, **kwds)\n",
      "/nrnb/opt/anaconda3.7/lib/python3.7/site-packages/pandas/plotting/_matplotlib/core.py:656: MatplotlibDeprecationWarning: Saw kwargs ['c', 'color'] which are all aliases for 'color'.  Kept value from 'color'.  Passing multiple aliases for the same property will raise a TypeError in 3.3.\n",
      "  return ax.plot(*args, **kwds)\n",
      "/nrnb/opt/anaconda3.7/lib/python3.7/site-packages/pandas/plotting/_matplotlib/core.py:656: MatplotlibDeprecationWarning: Saw kwargs ['c', 'color'] which are all aliases for 'color'.  Kept value from 'color'.  Passing multiple aliases for the same property will raise a TypeError in 3.3.\n",
      "  return ax.plot(*args, **kwds)\n",
      "/nrnb/opt/anaconda3.7/lib/python3.7/site-packages/pandas/plotting/_matplotlib/core.py:656: MatplotlibDeprecationWarning: Saw kwargs ['c', 'color'] which are all aliases for 'color'.  Kept value from 'color'.  Passing multiple aliases for the same property will raise a TypeError in 3.3.\n",
      "  return ax.plot(*args, **kwds)\n",
      "/nrnb/opt/anaconda3.7/lib/python3.7/site-packages/pandas/plotting/_matplotlib/core.py:656: MatplotlibDeprecationWarning: Saw kwargs ['c', 'color'] which are all aliases for 'color'.  Kept value from 'color'.  Passing multiple aliases for the same property will raise a TypeError in 3.3.\n",
      "  return ax.plot(*args, **kwds)\n"
     ]
    },
    {
     "name": "stdout",
     "output_type": "stream",
     "text": [
      "UCS\n"
     ]
    },
    {
     "name": "stderr",
     "output_type": "stream",
     "text": [
      "/nrnb/opt/anaconda3.7/lib/python3.7/site-packages/pandas/plotting/_matplotlib/core.py:656: MatplotlibDeprecationWarning: Saw kwargs ['c', 'color'] which are all aliases for 'color'.  Kept value from 'color'.  Passing multiple aliases for the same property will raise a TypeError in 3.3.\n",
      "  return ax.plot(*args, **kwds)\n",
      "/nrnb/opt/anaconda3.7/lib/python3.7/site-packages/pandas/plotting/_matplotlib/core.py:656: MatplotlibDeprecationWarning: Saw kwargs ['c', 'color'] which are all aliases for 'color'.  Kept value from 'color'.  Passing multiple aliases for the same property will raise a TypeError in 3.3.\n",
      "  return ax.plot(*args, **kwds)\n"
     ]
    },
    {
     "data": {
      "image/png": "[encoded data removed]",
      "text/plain": [
       "<Figure size 1440x720 with 30 Axes>"
      ]
     },
     "metadata": {
      "needs_background": "light"
     },
     "output_type": "display_data"
    }
   ],
   "source": [
    "\n",
    "fig, axs = plt.subplots(5, 6, sharey=True, figsize=(20, 10))\n",
    "axli = axs.flatten()\n",
    "\n",
    "cancer=[]\n",
    "logrank=[]\n",
    "\n",
    "for i,x in enumerate(cancers):\n",
    "    try:\n",
    "        surv_type=\"OS\"\n",
    "        surv_df_canc=os_surv[os_surv[\"cancer\"]==x]\n",
    "        groups = surv_df_canc[\"combo\"]\n",
    "    \n",
    "        ix0 = (groups == 0)\n",
    "        ix1 = (groups == 1)\n",
    "        ix2 = (groups == 2)\n",
    "        ix01 = (groups > 1)\n",
    "\n",
    "        results = logrank_test(surv_df_canc[surv_type+'.time'][ix0], surv_df_canc[surv_type+'.time'][ix01],event_observed_A=surv_df_canc[surv_type][ix0], event_observed_B=surv_df_canc[surv_type][ix01], alpha=.95) \n",
    "        cancer.append(x)\n",
    "        logrank.append(results.p_value)\n",
    "        kmf = KaplanMeierFitter()\n",
    "        kmf.fit(surv_df_canc[surv_type+'.time'][ix2], surv_df_canc[surv_type][ix2],label=\"2 of 2 HLA-A variants\")\n",
    "        kmf.plot(ax=axli[i-1],color='blue', ci_show=False)\n",
    "    \n",
    "        kmf.fit(surv_df_canc[surv_type+'.time'][ix1], surv_df_canc[surv_type][ix1],label=\"1 of 2 HLA-A variants\")\n",
    "        kmf.plot(ax=axli[i-1], color='red', ci_show=False)\n",
    "    \n",
    "        kmf.fit(surv_df_canc[surv_type+'.time'][ix0], surv_df_canc[surv_type][ix0],label=\"0 of 2 HLA-A variants\")\n",
    "        kmf.plot(ax=axli[i-1], color='green', ci_show=False)\n",
    "        axli[i-1].set_title(\"{}\\n{}\".format(x,results.p_value))\n",
    "    except:\n",
    "        print(x)\n",
    "\n",
    "\n",
    "fig.savefig(\"os.survival.hla.a.variants.pdf\")\n",
    "\n",
    "        "
   ]
  },
  {
   "cell_type": "code",
   "execution_count": 18,
   "metadata": {},
   "outputs": [],
   "source": [
    "df=pd.DataFrame({\"cancer\":cancer,\"logrank\":logrank})"
   ]
  },
  {
   "cell_type": "code",
   "execution_count": 20,
   "metadata": {},
   "outputs": [
    {
     "data": {
      "text/html": [
       "<div>\n",
       "<style scoped>\n",
       "    .dataframe tbody tr th:only-of-type {\n",
       "        vertical-align: middle;\n",
       "    }\n",
       "\n",
       "    .dataframe tbody tr th {\n",
       "        vertical-align: top;\n",
       "    }\n",
       "\n",
       "    .dataframe thead th {\n",
       "        text-align: right;\n",
       "    }\n",
       "</style>\n",
       "<table border=\"1\" class=\"dataframe\">\n",
       "  <thead>\n",
       "    <tr style=\"text-align: right;\">\n",
       "      <th></th>\n",
       "      <th>cancer</th>\n",
       "      <th>logrank</th>\n",
       "    </tr>\n",
       "  </thead>\n",
       "  <tbody>\n",
       "    <tr>\n",
       "      <th>3</th>\n",
       "      <td>CESC</td>\n",
       "      <td>0.006573</td>\n",
       "    </tr>\n",
       "    <tr>\n",
       "      <th>13</th>\n",
       "      <td>LIHC</td>\n",
       "      <td>0.018341</td>\n",
       "    </tr>\n",
       "    <tr>\n",
       "      <th>29</th>\n",
       "      <td>UVM</td>\n",
       "      <td>0.025706</td>\n",
       "    </tr>\n",
       "    <tr>\n",
       "      <th>27</th>\n",
       "      <td>UCEC</td>\n",
       "      <td>0.053912</td>\n",
       "    </tr>\n",
       "    <tr>\n",
       "      <th>6</th>\n",
       "      <td>ESCA</td>\n",
       "      <td>0.080076</td>\n",
       "    </tr>\n",
       "    <tr>\n",
       "      <th>25</th>\n",
       "      <td>TGCT</td>\n",
       "      <td>0.172423</td>\n",
       "    </tr>\n",
       "    <tr>\n",
       "      <th>14</th>\n",
       "      <td>LUAD</td>\n",
       "      <td>0.178081</td>\n",
       "    </tr>\n",
       "    <tr>\n",
       "      <th>9</th>\n",
       "      <td>KICH</td>\n",
       "      <td>0.224978</td>\n",
       "    </tr>\n",
       "    <tr>\n",
       "      <th>4</th>\n",
       "      <td>CHOL</td>\n",
       "      <td>0.285886</td>\n",
       "    </tr>\n",
       "    <tr>\n",
       "      <th>5</th>\n",
       "      <td>COAD</td>\n",
       "      <td>0.298159</td>\n",
       "    </tr>\n",
       "    <tr>\n",
       "      <th>10</th>\n",
       "      <td>KIRC</td>\n",
       "      <td>0.299620</td>\n",
       "    </tr>\n",
       "    <tr>\n",
       "      <th>8</th>\n",
       "      <td>HNSC</td>\n",
       "      <td>0.383845</td>\n",
       "    </tr>\n",
       "    <tr>\n",
       "      <th>26</th>\n",
       "      <td>THCA</td>\n",
       "      <td>0.443240</td>\n",
       "    </tr>\n",
       "    <tr>\n",
       "      <th>7</th>\n",
       "      <td>GBM</td>\n",
       "      <td>0.445530</td>\n",
       "    </tr>\n",
       "    <tr>\n",
       "      <th>20</th>\n",
       "      <td>PRAD</td>\n",
       "      <td>0.468920</td>\n",
       "    </tr>\n",
       "    <tr>\n",
       "      <th>2</th>\n",
       "      <td>BRCA</td>\n",
       "      <td>0.502479</td>\n",
       "    </tr>\n",
       "    <tr>\n",
       "      <th>11</th>\n",
       "      <td>KIRP</td>\n",
       "      <td>0.510801</td>\n",
       "    </tr>\n",
       "    <tr>\n",
       "      <th>17</th>\n",
       "      <td>OV</td>\n",
       "      <td>0.516368</td>\n",
       "    </tr>\n",
       "    <tr>\n",
       "      <th>18</th>\n",
       "      <td>PAAD</td>\n",
       "      <td>0.542491</td>\n",
       "    </tr>\n",
       "    <tr>\n",
       "      <th>23</th>\n",
       "      <td>SKCM</td>\n",
       "      <td>0.577212</td>\n",
       "    </tr>\n",
       "    <tr>\n",
       "      <th>16</th>\n",
       "      <td>MESO</td>\n",
       "      <td>0.620343</td>\n",
       "    </tr>\n",
       "    <tr>\n",
       "      <th>0</th>\n",
       "      <td>ACC</td>\n",
       "      <td>0.640517</td>\n",
       "    </tr>\n",
       "    <tr>\n",
       "      <th>1</th>\n",
       "      <td>BLCA</td>\n",
       "      <td>0.659402</td>\n",
       "    </tr>\n",
       "    <tr>\n",
       "      <th>19</th>\n",
       "      <td>PCPG</td>\n",
       "      <td>0.661563</td>\n",
       "    </tr>\n",
       "    <tr>\n",
       "      <th>24</th>\n",
       "      <td>STAD</td>\n",
       "      <td>0.766446</td>\n",
       "    </tr>\n",
       "    <tr>\n",
       "      <th>21</th>\n",
       "      <td>READ</td>\n",
       "      <td>0.780375</td>\n",
       "    </tr>\n",
       "    <tr>\n",
       "      <th>15</th>\n",
       "      <td>LUSC</td>\n",
       "      <td>0.808651</td>\n",
       "    </tr>\n",
       "    <tr>\n",
       "      <th>22</th>\n",
       "      <td>SARC</td>\n",
       "      <td>0.823906</td>\n",
       "    </tr>\n",
       "    <tr>\n",
       "      <th>12</th>\n",
       "      <td>LGG</td>\n",
       "      <td>0.847668</td>\n",
       "    </tr>\n",
       "    <tr>\n",
       "      <th>28</th>\n",
       "      <td>UCS</td>\n",
       "      <td>NaN</td>\n",
       "    </tr>\n",
       "  </tbody>\n",
       "</table>\n",
       "</div>"
      ],
      "text/plain": [
       "   cancer   logrank\n",
       "3    CESC  0.006573\n",
       "13   LIHC  0.018341\n",
       "29    UVM  0.025706\n",
       "27   UCEC  0.053912\n",
       "6    ESCA  0.080076\n",
       "25   TGCT  0.172423\n",
       "14   LUAD  0.178081\n",
       "9    KICH  0.224978\n",
       "4    CHOL  0.285886\n",
       "5    COAD  0.298159\n",
       "10   KIRC  0.299620\n",
       "8    HNSC  0.383845\n",
       "26   THCA  0.443240\n",
       "7     GBM  0.445530\n",
       "20   PRAD  0.468920\n",
       "2    BRCA  0.502479\n",
       "11   KIRP  0.510801\n",
       "17     OV  0.516368\n",
       "18   PAAD  0.542491\n",
       "23   SKCM  0.577212\n",
       "16   MESO  0.620343\n",
       "0     ACC  0.640517\n",
       "1    BLCA  0.659402\n",
       "19   PCPG  0.661563\n",
       "24   STAD  0.766446\n",
       "21   READ  0.780375\n",
       "15   LUSC  0.808651\n",
       "22   SARC  0.823906\n",
       "12    LGG  0.847668\n",
       "28    UCS       NaN"
      ]
     },
     "execution_count": 20,
     "metadata": {},
     "output_type": "execute_result"
    }
   ],
   "source": [
    "df.sort_values(by=\"logrank\")"
   ]
  },
  {
   "cell_type": "code",
   "execution_count": null,
   "metadata": {},
   "outputs": [],
   "source": []
  },
  {
   "cell_type": "code",
   "execution_count": null,
   "metadata": {},
   "outputs": [],
   "source": []
  },
  {
   "cell_type": "code",
   "execution_count": 228,
   "metadata": {},
   "outputs": [],
   "source": [
    "os=run_surv(os_surv,\"OS\",rsid_lst,cancers)"
   ]
  },
  {
   "cell_type": "markdown",
   "metadata": {},
   "source": [
    "### Filter for curves with at least 1 patient and frequency > 1%"
   ]
  },
  {
   "cell_type": "code",
   "execution_count": 229,
   "metadata": {},
   "outputs": [],
   "source": [
    "os[\"sum\"]=os[\"min\"]+os[\"maj\"]\n",
    "os[\"freq\"]=os[\"min\"]/os[\"sum\"]\n",
    "os_filt=os[(os[\"freq\"]>.01)&(os[\"min\"]>1)]"
   ]
  },
  {
   "cell_type": "code",
   "execution_count": 230,
   "metadata": {},
   "outputs": [],
   "source": [
    "def fdr(df,P):\n",
    "    probabilities = df[P].to_numpy()\n",
    "    report = multi.multipletests(probabilities,\n",
    "                alpha=0.05,\n",
    "                method=\"fdr_bh\",\n",
    "                is_sorted=False,\n",
    "            )\n",
    "    discoveries = report[1]\n",
    "    df[\"fdr\"]=discoveries\n",
    "    df[\"fdr\"]=pd.to_numeric(df[\"fdr\"])\n",
    "    df[\"-log10(fdr)\"]=-np.log10(df[\"fdr\"])\n",
    "    \n",
    "    return(df)"
   ]
  },
  {
   "cell_type": "code",
   "execution_count": 231,
   "metadata": {},
   "outputs": [
    {
     "name": "stderr",
     "output_type": "stream",
     "text": [
      "/nrnb/opt/anaconda3.7/lib/python3.7/site-packages/ipykernel_launcher.py:9: SettingWithCopyWarning: \n",
      "A value is trying to be set on a copy of a slice from a DataFrame.\n",
      "Try using .loc[row_indexer,col_indexer] = value instead\n",
      "\n",
      "See the caveats in the documentation: https://pandas.pydata.org/pandas-docs/stable/user_guide/indexing.html#returning-a-view-versus-a-copy\n",
      "  if __name__ == '__main__':\n",
      "/nrnb/opt/anaconda3.7/lib/python3.7/site-packages/ipykernel_launcher.py:10: SettingWithCopyWarning: \n",
      "A value is trying to be set on a copy of a slice from a DataFrame.\n",
      "Try using .loc[row_indexer,col_indexer] = value instead\n",
      "\n",
      "See the caveats in the documentation: https://pandas.pydata.org/pandas-docs/stable/user_guide/indexing.html#returning-a-view-versus-a-copy\n",
      "  # Remove the CWD from sys.path while we load stuff.\n",
      "/nrnb/opt/anaconda3.7/lib/python3.7/site-packages/ipykernel_launcher.py:11: SettingWithCopyWarning: \n",
      "A value is trying to be set on a copy of a slice from a DataFrame.\n",
      "Try using .loc[row_indexer,col_indexer] = value instead\n",
      "\n",
      "See the caveats in the documentation: https://pandas.pydata.org/pandas-docs/stable/user_guide/indexing.html#returning-a-view-versus-a-copy\n",
      "  # This is added back by InteractiveShellApp.init_path()\n"
     ]
    }
   ],
   "source": [
    "os_fdr=pd.DataFrame()\n",
    "\n",
    "for x in os_filt[\"cancer\"].unique().tolist():\n",
    "    os_cancer=os_filt[os_filt[\"cancer\"]==x]\n",
    "    os_fdr=os_fdr.append(fdr(os_cancer,\"os.time\"))"
   ]
  },
  {
   "cell_type": "code",
   "execution_count": 232,
   "metadata": {},
   "outputs": [
    {
     "name": "stderr",
     "output_type": "stream",
     "text": [
      "/nrnb/opt/anaconda3.7/lib/python3.7/site-packages/ipykernel_launcher.py:2: SettingWithCopyWarning: \n",
      "A value is trying to be set on a copy of a slice from a DataFrame.\n",
      "Try using .loc[row_indexer,col_indexer] = value instead\n",
      "\n",
      "See the caveats in the documentation: https://pandas.pydata.org/pandas-docs/stable/user_guide/indexing.html#returning-a-view-versus-a-copy\n",
      "  \n"
     ]
    }
   ],
   "source": [
    "os_sig=os_fdr[os_fdr[\"-log10(fdr)\"]>1]\n",
    "os_sig[\"snps\"]=os_sig[\"snps\"].str.split(\"_\").str[0]"
   ]
  },
  {
   "cell_type": "code",
   "execution_count": 233,
   "metadata": {},
   "outputs": [
    {
     "data": {
      "text/html": [
       "<div>\n",
       "<style scoped>\n",
       "    .dataframe tbody tr th:only-of-type {\n",
       "        vertical-align: middle;\n",
       "    }\n",
       "\n",
       "    .dataframe tbody tr th {\n",
       "        vertical-align: top;\n",
       "    }\n",
       "\n",
       "    .dataframe thead th {\n",
       "        text-align: right;\n",
       "    }\n",
       "</style>\n",
       "<table border=\"1\" class=\"dataframe\">\n",
       "  <thead>\n",
       "    <tr style=\"text-align: right;\">\n",
       "      <th></th>\n",
       "      <th>snps</th>\n",
       "      <th>os.time</th>\n",
       "      <th>cancer</th>\n",
       "      <th>min</th>\n",
       "      <th>maj</th>\n",
       "      <th>sum</th>\n",
       "      <th>freq</th>\n",
       "      <th>fdr</th>\n",
       "      <th>-log10(fdr)</th>\n",
       "    </tr>\n",
       "  </thead>\n",
       "  <tbody>\n",
       "    <tr>\n",
       "      <th>111</th>\n",
       "      <td>6:29752808:A:G</td>\n",
       "      <td>3.805249e-14</td>\n",
       "      <td>BLCA</td>\n",
       "      <td>3</td>\n",
       "      <td>284</td>\n",
       "      <td>287</td>\n",
       "      <td>0.010453</td>\n",
       "      <td>2.968094e-12</td>\n",
       "      <td>11.527522</td>\n",
       "    </tr>\n",
       "    <tr>\n",
       "      <th>1050</th>\n",
       "      <td>6:26364628:A:C</td>\n",
       "      <td>4.337832e-04</td>\n",
       "      <td>KIRC</td>\n",
       "      <td>4</td>\n",
       "      <td>289</td>\n",
       "      <td>293</td>\n",
       "      <td>0.013652</td>\n",
       "      <td>3.426887e-02</td>\n",
       "      <td>1.465100</td>\n",
       "    </tr>\n",
       "    <tr>\n",
       "      <th>1946</th>\n",
       "      <td>6:32422191:G:A</td>\n",
       "      <td>1.922326e-04</td>\n",
       "      <td>PAAD</td>\n",
       "      <td>11</td>\n",
       "      <td>139</td>\n",
       "      <td>150</td>\n",
       "      <td>0.073333</td>\n",
       "      <td>1.441744e-02</td>\n",
       "      <td>1.841112</td>\n",
       "    </tr>\n",
       "    <tr>\n",
       "      <th>2175</th>\n",
       "      <td>6:32615945:A:T</td>\n",
       "      <td>1.175012e-03</td>\n",
       "      <td>PRAD</td>\n",
       "      <td>7</td>\n",
       "      <td>332</td>\n",
       "      <td>339</td>\n",
       "      <td>0.020649</td>\n",
       "      <td>9.282592e-02</td>\n",
       "      <td>1.032331</td>\n",
       "    </tr>\n",
       "    <tr>\n",
       "      <th>2251</th>\n",
       "      <td>6:31586094:T:C</td>\n",
       "      <td>5.421047e-04</td>\n",
       "      <td>READ</td>\n",
       "      <td>2</td>\n",
       "      <td>128</td>\n",
       "      <td>130</td>\n",
       "      <td>0.015385</td>\n",
       "      <td>4.011575e-02</td>\n",
       "      <td>1.396685</td>\n",
       "    </tr>\n",
       "    <tr>\n",
       "      <th>2775</th>\n",
       "      <td>6:31561639:G:A</td>\n",
       "      <td>7.789553e-04</td>\n",
       "      <td>THCA</td>\n",
       "      <td>7</td>\n",
       "      <td>282</td>\n",
       "      <td>289</td>\n",
       "      <td>0.024221</td>\n",
       "      <td>6.309538e-02</td>\n",
       "      <td>1.200002</td>\n",
       "    </tr>\n",
       "  </tbody>\n",
       "</table>\n",
       "</div>"
      ],
      "text/plain": [
       "                snps       os.time cancer  min  maj  sum      freq  \\\n",
       "111   6:29752808:A:G  3.805249e-14   BLCA    3  284  287  0.010453   \n",
       "1050  6:26364628:A:C  4.337832e-04   KIRC    4  289  293  0.013652   \n",
       "1946  6:32422191:G:A  1.922326e-04   PAAD   11  139  150  0.073333   \n",
       "2175  6:32615945:A:T  1.175012e-03   PRAD    7  332  339  0.020649   \n",
       "2251  6:31586094:T:C  5.421047e-04   READ    2  128  130  0.015385   \n",
       "2775  6:31561639:G:A  7.789553e-04   THCA    7  282  289  0.024221   \n",
       "\n",
       "               fdr  -log10(fdr)  \n",
       "111   2.968094e-12    11.527522  \n",
       "1050  3.426887e-02     1.465100  \n",
       "1946  1.441744e-02     1.841112  \n",
       "2175  9.282592e-02     1.032331  \n",
       "2251  4.011575e-02     1.396685  \n",
       "2775  6.309538e-02     1.200002  "
      ]
     },
     "execution_count": 233,
     "metadata": {},
     "output_type": "execute_result"
    }
   ],
   "source": [
    "os_sig"
   ]
  },
  {
   "cell_type": "markdown",
   "metadata": {},
   "source": [
    "## Annotate snps with phenotypes"
   ]
  },
  {
   "cell_type": "code",
   "execution_count": 234,
   "metadata": {},
   "outputs": [],
   "source": [
    "snps=pd.read_csv(\"/cellar/users/mpagadal/Data/projects/germline-immune/snp-tables/immune-microenvironment-hla.tsv\",delimiter=\"\\t\")\n",
    "snps=snps.rename(columns={\"snp\":\"snps\"})\n",
    "os_sig_annot=pd.merge(os_sig,snps[[\"snps\",\"file\"]],on=\"snps\",how=\"left\")"
   ]
  },
  {
   "cell_type": "code",
   "execution_count": 235,
   "metadata": {},
   "outputs": [],
   "source": [
    "\n",
    "def run_surv_plot(df_annot,surv_df,surv_type,out):\n",
    "    for i,row in df_annot.iterrows():\n",
    "        try:\n",
    "            surv_df_canc=surv_df[surv_df[\"cancer\"]==row[\"cancer\"]]\n",
    "            x=[x for x in surv_df.columns if row[\"snps\"] in x][0]\n",
    "            rs=x.rsplit(\":\",2)[0]\n",
    "        \n",
    "            allele1=x.split(\":\")[2]\n",
    "            allele2=str(x.split(\"_\")[0]).split(\":\")[3]\n",
    "            minor=x.split(\"_\")[1]\n",
    "            if allele1 == minor:\n",
    "                major=allele2\n",
    "            else:\n",
    "                major=allele1\n",
    "            \n",
    "            fig=plt.figure(figsize=(12,5))\n",
    "            ax1 = plt.subplot(1,2,1)\n",
    "            \n",
    "            groups = surv_df_canc[x]\n",
    "            ix = (groups == 2)\n",
    "\n",
    "            kmf = KaplanMeierFitter()\n",
    "            kmf.fit(surv_df_canc[surv_type+'.time'][ix], surv_df_canc[surv_type][ix],label=minor+minor)\n",
    "            kmf.plot(color='blue', ci_show=False, ax=ax1)\n",
    "    \n",
    "            kmf.fit(surv_df_canc[surv_type+'.time'][~ix], surv_df_canc[surv_type][~ix],label=major+minor+\"/\"+major+major)\n",
    "            kmf.plot(ax=ax1, color='red', ci_show=False)\n",
    "\n",
    "            results = logrank_test(surv_df_canc[surv_type+'.time'][ix], surv_df_canc[surv_type+'.time'][~ix],event_observed_A=surv_df_canc[surv_type][ix], event_observed_B=surv_df_canc[surv_type][~ix], alpha=.95) \n",
    "            plt.title('{}.{}\\n{}\\nLog-rank test: p<{:.3}'.format(x,row[\"file\"],row[\"cancer\"],results.p_value))\n",
    "\n",
    "            plt.xlabel('Months')\n",
    "            plt.ylabel(surv_type+' time (days)')\n",
    "            plt.legend(frameon=False)\n",
    "\n",
    "            plt.tight_layout()\n",
    "\n",
    "            plt.savefig(out+x+'.'+row[\"file\"]+\".\"+row[\"cancer\"]+'.pdf')\n",
    "            plt.close()\n",
    "        \n",
    "        except:\n",
    "            pass"
   ]
  },
  {
   "cell_type": "code",
   "execution_count": 236,
   "metadata": {
    "scrolled": true
   },
   "outputs": [
    {
     "name": "stderr",
     "output_type": "stream",
     "text": [
      "/nrnb/opt/anaconda3.7/lib/python3.7/site-packages/pandas/plotting/_matplotlib/core.py:656: MatplotlibDeprecationWarning: Saw kwargs ['c', 'color'] which are all aliases for 'color'.  Kept value from 'color'.  Passing multiple aliases for the same property will raise a TypeError in 3.3.\n",
      "  return ax.plot(*args, **kwds)\n",
      "/nrnb/opt/anaconda3.7/lib/python3.7/site-packages/pandas/plotting/_matplotlib/core.py:656: MatplotlibDeprecationWarning: Saw kwargs ['c', 'color'] which are all aliases for 'color'.  Kept value from 'color'.  Passing multiple aliases for the same property will raise a TypeError in 3.3.\n",
      "  return ax.plot(*args, **kwds)\n",
      "/nrnb/opt/anaconda3.7/lib/python3.7/site-packages/pandas/plotting/_matplotlib/core.py:656: MatplotlibDeprecationWarning: Saw kwargs ['c', 'color'] which are all aliases for 'color'.  Kept value from 'color'.  Passing multiple aliases for the same property will raise a TypeError in 3.3.\n",
      "  return ax.plot(*args, **kwds)\n",
      "/nrnb/opt/anaconda3.7/lib/python3.7/site-packages/pandas/plotting/_matplotlib/core.py:656: MatplotlibDeprecationWarning: Saw kwargs ['c', 'color'] which are all aliases for 'color'.  Kept value from 'color'.  Passing multiple aliases for the same property will raise a TypeError in 3.3.\n",
      "  return ax.plot(*args, **kwds)\n",
      "/nrnb/opt/anaconda3.7/lib/python3.7/site-packages/pandas/plotting/_matplotlib/core.py:656: MatplotlibDeprecationWarning: Saw kwargs ['c', 'color'] which are all aliases for 'color'.  Kept value from 'color'.  Passing multiple aliases for the same property will raise a TypeError in 3.3.\n",
      "  return ax.plot(*args, **kwds)\n",
      "/nrnb/opt/anaconda3.7/lib/python3.7/site-packages/pandas/plotting/_matplotlib/core.py:656: MatplotlibDeprecationWarning: Saw kwargs ['c', 'color'] which are all aliases for 'color'.  Kept value from 'color'.  Passing multiple aliases for the same property will raise a TypeError in 3.3.\n",
      "  return ax.plot(*args, **kwds)\n",
      "/nrnb/opt/anaconda3.7/lib/python3.7/site-packages/pandas/plotting/_matplotlib/core.py:656: MatplotlibDeprecationWarning: Saw kwargs ['c', 'color'] which are all aliases for 'color'.  Kept value from 'color'.  Passing multiple aliases for the same property will raise a TypeError in 3.3.\n",
      "  return ax.plot(*args, **kwds)\n",
      "/nrnb/opt/anaconda3.7/lib/python3.7/site-packages/pandas/plotting/_matplotlib/core.py:656: MatplotlibDeprecationWarning: Saw kwargs ['c', 'color'] which are all aliases for 'color'.  Kept value from 'color'.  Passing multiple aliases for the same property will raise a TypeError in 3.3.\n",
      "  return ax.plot(*args, **kwds)\n",
      "/nrnb/opt/anaconda3.7/lib/python3.7/site-packages/pandas/plotting/_matplotlib/core.py:656: MatplotlibDeprecationWarning: Saw kwargs ['c', 'color'] which are all aliases for 'color'.  Kept value from 'color'.  Passing multiple aliases for the same property will raise a TypeError in 3.3.\n",
      "  return ax.plot(*args, **kwds)\n",
      "/nrnb/opt/anaconda3.7/lib/python3.7/site-packages/pandas/plotting/_matplotlib/core.py:656: MatplotlibDeprecationWarning: Saw kwargs ['c', 'color'] which are all aliases for 'color'.  Kept value from 'color'.  Passing multiple aliases for the same property will raise a TypeError in 3.3.\n",
      "  return ax.plot(*args, **kwds)\n",
      "/nrnb/opt/anaconda3.7/lib/python3.7/site-packages/pandas/plotting/_matplotlib/core.py:656: MatplotlibDeprecationWarning: Saw kwargs ['c', 'color'] which are all aliases for 'color'.  Kept value from 'color'.  Passing multiple aliases for the same property will raise a TypeError in 3.3.\n",
      "  return ax.plot(*args, **kwds)\n",
      "/nrnb/opt/anaconda3.7/lib/python3.7/site-packages/pandas/plotting/_matplotlib/core.py:656: MatplotlibDeprecationWarning: Saw kwargs ['c', 'color'] which are all aliases for 'color'.  Kept value from 'color'.  Passing multiple aliases for the same property will raise a TypeError in 3.3.\n",
      "  return ax.plot(*args, **kwds)\n"
     ]
    },
    {
     "data": {
      "image/png": "[encoded data removed]",
      "text/plain": [
       "<Figure size 864x360 with 1 Axes>"
      ]
     },
     "metadata": {
      "needs_background": "light"
     },
     "output_type": "display_data"
    },
    {
     "data": {
      "image/png": "[encoded data removed]",
      "text/plain": [
       "<Figure size 864x360 with 1 Axes>"
      ]
     },
     "metadata": {
      "needs_background": "light"
     },
     "output_type": "display_data"
    },
    {
     "data": {
      "image/png": "[encoded data removed]",
      "text/plain": [
       "<Figure size 864x360 with 1 Axes>"
      ]
     },
     "metadata": {
      "needs_background": "light"
     },
     "output_type": "display_data"
    },
    {
     "data": {
      "image/png": "[encoded data removed]",
      "text/plain": [
       "<Figure size 864x360 with 1 Axes>"
      ]
     },
     "metadata": {
      "needs_background": "light"
     },
     "output_type": "display_data"
    }
   ],
   "source": [
    "run_surv_plot(os_sig_annot,os_surv,\"OS\",\"../plots/kaplan-plots/\")"
   ]
  },
  {
   "cell_type": "markdown",
   "metadata": {},
   "source": [
    "## Progression-free survival"
   ]
  },
  {
   "cell_type": "code",
   "execution_count": 237,
   "metadata": {},
   "outputs": [
    {
     "name": "stdout",
     "output_type": "stream",
     "text": [
      "(8183, 108)\n"
     ]
    }
   ],
   "source": [
    "pfi_surv=make_df(\"/cellar/users/mpagadal/Data/resources/from-labmembers/andrea/Liu2018.TCGA_survival.csv\",\"PFI\",\"/nrnb/users/mpagadal/tcga-genotypes/germline-immune/hla.snp.raw\")"
   ]
  },
  {
   "cell_type": "code",
   "execution_count": 238,
   "metadata": {},
   "outputs": [],
   "source": [
    "pfi_surv[\"cancer\"]=pfi_surv[\"FID\"].map(mp)"
   ]
  },
  {
   "cell_type": "code",
   "execution_count": 239,
   "metadata": {},
   "outputs": [],
   "source": [
    "rsid_lst=pfi_surv.columns[3:-1]"
   ]
  },
  {
   "cell_type": "code",
   "execution_count": 240,
   "metadata": {},
   "outputs": [],
   "source": [
    "# make list of cancer types\n",
    "cancers=pfi_surv[\"cancer\"].unique().tolist()"
   ]
  },
  {
   "cell_type": "code",
   "execution_count": 241,
   "metadata": {},
   "outputs": [],
   "source": [
    "pfi=run_surv(pfi_surv,\"PFI\",rsid_lst,cancers)"
   ]
  },
  {
   "cell_type": "code",
   "execution_count": 201,
   "metadata": {},
   "outputs": [],
   "source": [
    "pfi[\"sum\"]=pfi[\"min\"]+pfi[\"maj\"]\n",
    "pfi[\"freq\"]=pfi[\"min\"]/pfi[\"sum\"]\n",
    "pfi_filt=pfi[(pfi[\"freq\"]>.01)&(pfi[\"min\"]>1)]"
   ]
  },
  {
   "cell_type": "code",
   "execution_count": 202,
   "metadata": {},
   "outputs": [
    {
     "name": "stderr",
     "output_type": "stream",
     "text": [
      "/nrnb/opt/anaconda3.7/lib/python3.7/site-packages/ipykernel_launcher.py:9: SettingWithCopyWarning: \n",
      "A value is trying to be set on a copy of a slice from a DataFrame.\n",
      "Try using .loc[row_indexer,col_indexer] = value instead\n",
      "\n",
      "See the caveats in the documentation: https://pandas.pydata.org/pandas-docs/stable/user_guide/indexing.html#returning-a-view-versus-a-copy\n",
      "  if __name__ == '__main__':\n",
      "/nrnb/opt/anaconda3.7/lib/python3.7/site-packages/ipykernel_launcher.py:10: SettingWithCopyWarning: \n",
      "A value is trying to be set on a copy of a slice from a DataFrame.\n",
      "Try using .loc[row_indexer,col_indexer] = value instead\n",
      "\n",
      "See the caveats in the documentation: https://pandas.pydata.org/pandas-docs/stable/user_guide/indexing.html#returning-a-view-versus-a-copy\n",
      "  # Remove the CWD from sys.path while we load stuff.\n",
      "/nrnb/opt/anaconda3.7/lib/python3.7/site-packages/ipykernel_launcher.py:11: SettingWithCopyWarning: \n",
      "A value is trying to be set on a copy of a slice from a DataFrame.\n",
      "Try using .loc[row_indexer,col_indexer] = value instead\n",
      "\n",
      "See the caveats in the documentation: https://pandas.pydata.org/pandas-docs/stable/user_guide/indexing.html#returning-a-view-versus-a-copy\n",
      "  # This is added back by InteractiveShellApp.init_path()\n"
     ]
    }
   ],
   "source": [
    "pfi_fdr=pd.DataFrame()\n",
    "\n",
    "for x in pfi_filt[\"cancer\"].unique().tolist():\n",
    "    pfi_cancer=pfi_filt[pfi_filt[\"cancer\"]==x]\n",
    "    pfi_fdr=pfi_fdr.append(fdr(pfi_cancer,\"os.time\"))"
   ]
  },
  {
   "cell_type": "code",
   "execution_count": 203,
   "metadata": {},
   "outputs": [
    {
     "name": "stderr",
     "output_type": "stream",
     "text": [
      "/nrnb/opt/anaconda3.7/lib/python3.7/site-packages/ipykernel_launcher.py:2: SettingWithCopyWarning: \n",
      "A value is trying to be set on a copy of a slice from a DataFrame.\n",
      "Try using .loc[row_indexer,col_indexer] = value instead\n",
      "\n",
      "See the caveats in the documentation: https://pandas.pydata.org/pandas-docs/stable/user_guide/indexing.html#returning-a-view-versus-a-copy\n",
      "  \n"
     ]
    }
   ],
   "source": [
    "pfi_sig=pfi_fdr[pfi_fdr[\"-log10(fdr)\"]>1]\n",
    "pfi_sig[\"snps\"]=pfi_sig[\"snps\"].str.split(\"_\").str[0]"
   ]
  },
  {
   "cell_type": "code",
   "execution_count": 204,
   "metadata": {},
   "outputs": [
    {
     "data": {
      "text/plain": [
       "(19, 9)"
      ]
     },
     "execution_count": 204,
     "metadata": {},
     "output_type": "execute_result"
    }
   ],
   "source": [
    "pfi_sig.shape"
   ]
  },
  {
   "cell_type": "code",
   "execution_count": 205,
   "metadata": {},
   "outputs": [
    {
     "data": {
      "text/html": [
       "<div>\n",
       "<style scoped>\n",
       "    .dataframe tbody tr th:only-of-type {\n",
       "        vertical-align: middle;\n",
       "    }\n",
       "\n",
       "    .dataframe tbody tr th {\n",
       "        vertical-align: top;\n",
       "    }\n",
       "\n",
       "    .dataframe thead th {\n",
       "        text-align: right;\n",
       "    }\n",
       "</style>\n",
       "<table border=\"1\" class=\"dataframe\">\n",
       "  <thead>\n",
       "    <tr style=\"text-align: right;\">\n",
       "      <th></th>\n",
       "      <th>snps</th>\n",
       "      <th>os.time</th>\n",
       "      <th>cancer</th>\n",
       "      <th>min</th>\n",
       "      <th>maj</th>\n",
       "      <th>sum</th>\n",
       "      <th>freq</th>\n",
       "      <th>fdr</th>\n",
       "      <th>-log10(fdr)</th>\n",
       "    </tr>\n",
       "  </thead>\n",
       "  <tbody>\n",
       "    <tr>\n",
       "      <th>25</th>\n",
       "      <td>6:31238053:C:G</td>\n",
       "      <td>0.000910</td>\n",
       "      <td>ACC</td>\n",
       "      <td>7</td>\n",
       "      <td>57</td>\n",
       "      <td>64</td>\n",
       "      <td>0.109375</td>\n",
       "      <td>0.033201</td>\n",
       "      <td>1.478851</td>\n",
       "    </tr>\n",
       "    <tr>\n",
       "      <th>26</th>\n",
       "      <td>6:31239205:T:C</td>\n",
       "      <td>0.000910</td>\n",
       "      <td>ACC</td>\n",
       "      <td>7</td>\n",
       "      <td>57</td>\n",
       "      <td>64</td>\n",
       "      <td>0.109375</td>\n",
       "      <td>0.033201</td>\n",
       "      <td>1.478851</td>\n",
       "    </tr>\n",
       "    <tr>\n",
       "      <th>111</th>\n",
       "      <td>6:29752808:A:G</td>\n",
       "      <td>0.000004</td>\n",
       "      <td>BLCA</td>\n",
       "      <td>3</td>\n",
       "      <td>295</td>\n",
       "      <td>298</td>\n",
       "      <td>0.010067</td>\n",
       "      <td>0.000303</td>\n",
       "      <td>3.518637</td>\n",
       "    </tr>\n",
       "    <tr>\n",
       "      <th>885</th>\n",
       "      <td>6:31561639:G:A</td>\n",
       "      <td>0.003839</td>\n",
       "      <td>HNSC</td>\n",
       "      <td>7</td>\n",
       "      <td>375</td>\n",
       "      <td>382</td>\n",
       "      <td>0.018325</td>\n",
       "      <td>0.080355</td>\n",
       "      <td>1.094984</td>\n",
       "    </tr>\n",
       "    <tr>\n",
       "      <th>907</th>\n",
       "      <td>6:32596635:A:C</td>\n",
       "      <td>0.003132</td>\n",
       "      <td>HNSC</td>\n",
       "      <td>9</td>\n",
       "      <td>373</td>\n",
       "      <td>382</td>\n",
       "      <td>0.023560</td>\n",
       "      <td>0.080355</td>\n",
       "      <td>1.094984</td>\n",
       "    </tr>\n",
       "  </tbody>\n",
       "</table>\n",
       "</div>"
      ],
      "text/plain": [
       "               snps   os.time cancer  min  maj  sum      freq       fdr  \\\n",
       "25   6:31238053:C:G  0.000910    ACC    7   57   64  0.109375  0.033201   \n",
       "26   6:31239205:T:C  0.000910    ACC    7   57   64  0.109375  0.033201   \n",
       "111  6:29752808:A:G  0.000004   BLCA    3  295  298  0.010067  0.000303   \n",
       "885  6:31561639:G:A  0.003839   HNSC    7  375  382  0.018325  0.080355   \n",
       "907  6:32596635:A:C  0.003132   HNSC    9  373  382  0.023560  0.080355   \n",
       "\n",
       "     -log10(fdr)  \n",
       "25      1.478851  \n",
       "26      1.478851  \n",
       "111     3.518637  \n",
       "885     1.094984  \n",
       "907     1.094984  "
      ]
     },
     "execution_count": 205,
     "metadata": {},
     "output_type": "execute_result"
    }
   ],
   "source": [
    "pfi_sig.head()"
   ]
  },
  {
   "cell_type": "code",
   "execution_count": 206,
   "metadata": {},
   "outputs": [],
   "source": [
    "pfi_sig_annot=pd.merge(pfi_sig,snps[[\"snps\",\"file\"]],on=\"snps\",how=\"left\")"
   ]
  },
  {
   "cell_type": "code",
   "execution_count": 207,
   "metadata": {
    "scrolled": true
   },
   "outputs": [
    {
     "name": "stderr",
     "output_type": "stream",
     "text": [
      "/nrnb/opt/anaconda3.7/lib/python3.7/site-packages/pandas/plotting/_matplotlib/core.py:656: MatplotlibDeprecationWarning: Saw kwargs ['c', 'color'] which are all aliases for 'color'.  Kept value from 'color'.  Passing multiple aliases for the same property will raise a TypeError in 3.3.\n",
      "  return ax.plot(*args, **kwds)\n",
      "/nrnb/opt/anaconda3.7/lib/python3.7/site-packages/pandas/plotting/_matplotlib/core.py:656: MatplotlibDeprecationWarning: Saw kwargs ['c', 'color'] which are all aliases for 'color'.  Kept value from 'color'.  Passing multiple aliases for the same property will raise a TypeError in 3.3.\n",
      "  return ax.plot(*args, **kwds)\n",
      "/nrnb/opt/anaconda3.7/lib/python3.7/site-packages/pandas/plotting/_matplotlib/core.py:656: MatplotlibDeprecationWarning: Saw kwargs ['c', 'color'] which are all aliases for 'color'.  Kept value from 'color'.  Passing multiple aliases for the same property will raise a TypeError in 3.3.\n",
      "  return ax.plot(*args, **kwds)\n",
      "/nrnb/opt/anaconda3.7/lib/python3.7/site-packages/pandas/plotting/_matplotlib/core.py:656: MatplotlibDeprecationWarning: Saw kwargs ['c', 'color'] which are all aliases for 'color'.  Kept value from 'color'.  Passing multiple aliases for the same property will raise a TypeError in 3.3.\n",
      "  return ax.plot(*args, **kwds)\n",
      "/nrnb/opt/anaconda3.7/lib/python3.7/site-packages/pandas/plotting/_matplotlib/core.py:656: MatplotlibDeprecationWarning: Saw kwargs ['c', 'color'] which are all aliases for 'color'.  Kept value from 'color'.  Passing multiple aliases for the same property will raise a TypeError in 3.3.\n",
      "  return ax.plot(*args, **kwds)\n",
      "/nrnb/opt/anaconda3.7/lib/python3.7/site-packages/pandas/plotting/_matplotlib/core.py:656: MatplotlibDeprecationWarning: Saw kwargs ['c', 'color'] which are all aliases for 'color'.  Kept value from 'color'.  Passing multiple aliases for the same property will raise a TypeError in 3.3.\n",
      "  return ax.plot(*args, **kwds)\n",
      "/nrnb/opt/anaconda3.7/lib/python3.7/site-packages/pandas/plotting/_matplotlib/core.py:656: MatplotlibDeprecationWarning: Saw kwargs ['c', 'color'] which are all aliases for 'color'.  Kept value from 'color'.  Passing multiple aliases for the same property will raise a TypeError in 3.3.\n",
      "  return ax.plot(*args, **kwds)\n",
      "/nrnb/opt/anaconda3.7/lib/python3.7/site-packages/pandas/plotting/_matplotlib/core.py:656: MatplotlibDeprecationWarning: Saw kwargs ['c', 'color'] which are all aliases for 'color'.  Kept value from 'color'.  Passing multiple aliases for the same property will raise a TypeError in 3.3.\n",
      "  return ax.plot(*args, **kwds)\n",
      "/nrnb/opt/anaconda3.7/lib/python3.7/site-packages/pandas/plotting/_matplotlib/core.py:656: MatplotlibDeprecationWarning: Saw kwargs ['c', 'color'] which are all aliases for 'color'.  Kept value from 'color'.  Passing multiple aliases for the same property will raise a TypeError in 3.3.\n",
      "  return ax.plot(*args, **kwds)\n",
      "/nrnb/opt/anaconda3.7/lib/python3.7/site-packages/pandas/plotting/_matplotlib/core.py:656: MatplotlibDeprecationWarning: Saw kwargs ['c', 'color'] which are all aliases for 'color'.  Kept value from 'color'.  Passing multiple aliases for the same property will raise a TypeError in 3.3.\n",
      "  return ax.plot(*args, **kwds)\n",
      "/nrnb/opt/anaconda3.7/lib/python3.7/site-packages/pandas/plotting/_matplotlib/core.py:656: MatplotlibDeprecationWarning: Saw kwargs ['c', 'color'] which are all aliases for 'color'.  Kept value from 'color'.  Passing multiple aliases for the same property will raise a TypeError in 3.3.\n",
      "  return ax.plot(*args, **kwds)\n",
      "/nrnb/opt/anaconda3.7/lib/python3.7/site-packages/pandas/plotting/_matplotlib/core.py:656: MatplotlibDeprecationWarning: Saw kwargs ['c', 'color'] which are all aliases for 'color'.  Kept value from 'color'.  Passing multiple aliases for the same property will raise a TypeError in 3.3.\n",
      "  return ax.plot(*args, **kwds)\n",
      "/nrnb/opt/anaconda3.7/lib/python3.7/site-packages/pandas/plotting/_matplotlib/core.py:656: MatplotlibDeprecationWarning: Saw kwargs ['c', 'color'] which are all aliases for 'color'.  Kept value from 'color'.  Passing multiple aliases for the same property will raise a TypeError in 3.3.\n",
      "  return ax.plot(*args, **kwds)\n",
      "/nrnb/opt/anaconda3.7/lib/python3.7/site-packages/pandas/plotting/_matplotlib/core.py:656: MatplotlibDeprecationWarning: Saw kwargs ['c', 'color'] which are all aliases for 'color'.  Kept value from 'color'.  Passing multiple aliases for the same property will raise a TypeError in 3.3.\n",
      "  return ax.plot(*args, **kwds)\n",
      "/nrnb/opt/anaconda3.7/lib/python3.7/site-packages/pandas/plotting/_matplotlib/core.py:656: MatplotlibDeprecationWarning: Saw kwargs ['c', 'color'] which are all aliases for 'color'.  Kept value from 'color'.  Passing multiple aliases for the same property will raise a TypeError in 3.3.\n",
      "  return ax.plot(*args, **kwds)\n",
      "/nrnb/opt/anaconda3.7/lib/python3.7/site-packages/pandas/plotting/_matplotlib/core.py:656: MatplotlibDeprecationWarning: Saw kwargs ['c', 'color'] which are all aliases for 'color'.  Kept value from 'color'.  Passing multiple aliases for the same property will raise a TypeError in 3.3.\n",
      "  return ax.plot(*args, **kwds)\n",
      "/nrnb/opt/anaconda3.7/lib/python3.7/site-packages/pandas/plotting/_matplotlib/core.py:656: MatplotlibDeprecationWarning: Saw kwargs ['c', 'color'] which are all aliases for 'color'.  Kept value from 'color'.  Passing multiple aliases for the same property will raise a TypeError in 3.3.\n",
      "  return ax.plot(*args, **kwds)\n",
      "/nrnb/opt/anaconda3.7/lib/python3.7/site-packages/pandas/plotting/_matplotlib/core.py:656: MatplotlibDeprecationWarning: Saw kwargs ['c', 'color'] which are all aliases for 'color'.  Kept value from 'color'.  Passing multiple aliases for the same property will raise a TypeError in 3.3.\n",
      "  return ax.plot(*args, **kwds)\n",
      "/nrnb/opt/anaconda3.7/lib/python3.7/site-packages/pandas/plotting/_matplotlib/core.py:656: MatplotlibDeprecationWarning: Saw kwargs ['c', 'color'] which are all aliases for 'color'.  Kept value from 'color'.  Passing multiple aliases for the same property will raise a TypeError in 3.3.\n",
      "  return ax.plot(*args, **kwds)\n",
      "/nrnb/opt/anaconda3.7/lib/python3.7/site-packages/pandas/plotting/_matplotlib/core.py:656: MatplotlibDeprecationWarning: Saw kwargs ['c', 'color'] which are all aliases for 'color'.  Kept value from 'color'.  Passing multiple aliases for the same property will raise a TypeError in 3.3.\n",
      "  return ax.plot(*args, **kwds)\n",
      "/nrnb/opt/anaconda3.7/lib/python3.7/site-packages/pandas/plotting/_matplotlib/core.py:656: MatplotlibDeprecationWarning: Saw kwargs ['c', 'color'] which are all aliases for 'color'.  Kept value from 'color'.  Passing multiple aliases for the same property will raise a TypeError in 3.3.\n",
      "  return ax.plot(*args, **kwds)\n",
      "/nrnb/opt/anaconda3.7/lib/python3.7/site-packages/pandas/plotting/_matplotlib/core.py:656: MatplotlibDeprecationWarning: Saw kwargs ['c', 'color'] which are all aliases for 'color'.  Kept value from 'color'.  Passing multiple aliases for the same property will raise a TypeError in 3.3.\n",
      "  return ax.plot(*args, **kwds)\n",
      "/nrnb/opt/anaconda3.7/lib/python3.7/site-packages/pandas/plotting/_matplotlib/core.py:656: MatplotlibDeprecationWarning: Saw kwargs ['c', 'color'] which are all aliases for 'color'.  Kept value from 'color'.  Passing multiple aliases for the same property will raise a TypeError in 3.3.\n",
      "  return ax.plot(*args, **kwds)\n",
      "/nrnb/opt/anaconda3.7/lib/python3.7/site-packages/pandas/plotting/_matplotlib/core.py:656: MatplotlibDeprecationWarning: Saw kwargs ['c', 'color'] which are all aliases for 'color'.  Kept value from 'color'.  Passing multiple aliases for the same property will raise a TypeError in 3.3.\n",
      "  return ax.plot(*args, **kwds)\n",
      "/nrnb/opt/anaconda3.7/lib/python3.7/site-packages/pandas/plotting/_matplotlib/core.py:656: MatplotlibDeprecationWarning: Saw kwargs ['c', 'color'] which are all aliases for 'color'.  Kept value from 'color'.  Passing multiple aliases for the same property will raise a TypeError in 3.3.\n",
      "  return ax.plot(*args, **kwds)\n",
      "/nrnb/opt/anaconda3.7/lib/python3.7/site-packages/pandas/plotting/_matplotlib/core.py:656: MatplotlibDeprecationWarning: Saw kwargs ['c', 'color'] which are all aliases for 'color'.  Kept value from 'color'.  Passing multiple aliases for the same property will raise a TypeError in 3.3.\n",
      "  return ax.plot(*args, **kwds)\n"
     ]
    },
    {
     "name": "stderr",
     "output_type": "stream",
     "text": [
      "/nrnb/opt/anaconda3.7/lib/python3.7/site-packages/pandas/plotting/_matplotlib/core.py:656: MatplotlibDeprecationWarning: Saw kwargs ['c', 'color'] which are all aliases for 'color'.  Kept value from 'color'.  Passing multiple aliases for the same property will raise a TypeError in 3.3.\n",
      "  return ax.plot(*args, **kwds)\n",
      "/nrnb/opt/anaconda3.7/lib/python3.7/site-packages/pandas/plotting/_matplotlib/core.py:656: MatplotlibDeprecationWarning: Saw kwargs ['c', 'color'] which are all aliases for 'color'.  Kept value from 'color'.  Passing multiple aliases for the same property will raise a TypeError in 3.3.\n",
      "  return ax.plot(*args, **kwds)\n",
      "/nrnb/opt/anaconda3.7/lib/python3.7/site-packages/pandas/plotting/_matplotlib/core.py:656: MatplotlibDeprecationWarning: Saw kwargs ['c', 'color'] which are all aliases for 'color'.  Kept value from 'color'.  Passing multiple aliases for the same property will raise a TypeError in 3.3.\n",
      "  return ax.plot(*args, **kwds)\n",
      "/nrnb/opt/anaconda3.7/lib/python3.7/site-packages/pandas/plotting/_matplotlib/core.py:656: MatplotlibDeprecationWarning: Saw kwargs ['c', 'color'] which are all aliases for 'color'.  Kept value from 'color'.  Passing multiple aliases for the same property will raise a TypeError in 3.3.\n",
      "  return ax.plot(*args, **kwds)\n",
      "/nrnb/opt/anaconda3.7/lib/python3.7/site-packages/pandas/plotting/_matplotlib/core.py:656: MatplotlibDeprecationWarning: Saw kwargs ['c', 'color'] which are all aliases for 'color'.  Kept value from 'color'.  Passing multiple aliases for the same property will raise a TypeError in 3.3.\n",
      "  return ax.plot(*args, **kwds)\n",
      "/nrnb/opt/anaconda3.7/lib/python3.7/site-packages/pandas/plotting/_matplotlib/core.py:656: MatplotlibDeprecationWarning: Saw kwargs ['c', 'color'] which are all aliases for 'color'.  Kept value from 'color'.  Passing multiple aliases for the same property will raise a TypeError in 3.3.\n",
      "  return ax.plot(*args, **kwds)\n",
      "/nrnb/opt/anaconda3.7/lib/python3.7/site-packages/pandas/plotting/_matplotlib/core.py:656: MatplotlibDeprecationWarning: Saw kwargs ['c', 'color'] which are all aliases for 'color'.  Kept value from 'color'.  Passing multiple aliases for the same property will raise a TypeError in 3.3.\n",
      "  return ax.plot(*args, **kwds)\n",
      "/nrnb/opt/anaconda3.7/lib/python3.7/site-packages/pandas/plotting/_matplotlib/core.py:656: MatplotlibDeprecationWarning: Saw kwargs ['c', 'color'] which are all aliases for 'color'.  Kept value from 'color'.  Passing multiple aliases for the same property will raise a TypeError in 3.3.\n",
      "  return ax.plot(*args, **kwds)\n",
      "/nrnb/opt/anaconda3.7/lib/python3.7/site-packages/pandas/plotting/_matplotlib/core.py:656: MatplotlibDeprecationWarning: Saw kwargs ['c', 'color'] which are all aliases for 'color'.  Kept value from 'color'.  Passing multiple aliases for the same property will raise a TypeError in 3.3.\n",
      "  return ax.plot(*args, **kwds)\n",
      "/nrnb/opt/anaconda3.7/lib/python3.7/site-packages/pandas/plotting/_matplotlib/core.py:656: MatplotlibDeprecationWarning: Saw kwargs ['c', 'color'] which are all aliases for 'color'.  Kept value from 'color'.  Passing multiple aliases for the same property will raise a TypeError in 3.3.\n",
      "  return ax.plot(*args, **kwds)\n",
      "/nrnb/opt/anaconda3.7/lib/python3.7/site-packages/pandas/plotting/_matplotlib/core.py:656: MatplotlibDeprecationWarning: Saw kwargs ['c', 'color'] which are all aliases for 'color'.  Kept value from 'color'.  Passing multiple aliases for the same property will raise a TypeError in 3.3.\n",
      "  return ax.plot(*args, **kwds)\n",
      "/nrnb/opt/anaconda3.7/lib/python3.7/site-packages/pandas/plotting/_matplotlib/core.py:656: MatplotlibDeprecationWarning: Saw kwargs ['c', 'color'] which are all aliases for 'color'.  Kept value from 'color'.  Passing multiple aliases for the same property will raise a TypeError in 3.3.\n",
      "  return ax.plot(*args, **kwds)\n",
      "/nrnb/opt/anaconda3.7/lib/python3.7/site-packages/pandas/plotting/_matplotlib/core.py:656: MatplotlibDeprecationWarning: Saw kwargs ['c', 'color'] which are all aliases for 'color'.  Kept value from 'color'.  Passing multiple aliases for the same property will raise a TypeError in 3.3.\n",
      "  return ax.plot(*args, **kwds)\n",
      "/nrnb/opt/anaconda3.7/lib/python3.7/site-packages/pandas/plotting/_matplotlib/core.py:656: MatplotlibDeprecationWarning: Saw kwargs ['c', 'color'] which are all aliases for 'color'.  Kept value from 'color'.  Passing multiple aliases for the same property will raise a TypeError in 3.3.\n",
      "  return ax.plot(*args, **kwds)\n"
     ]
    }
   ],
   "source": [
    "run_surv_plot(pfi_sig_annot,pfi_surv,\"PFI\",\"../plots/kaplan-plots/\")"
   ]
  },
  {
   "cell_type": "markdown",
   "metadata": {},
   "source": [
    "## Plot summary statistics"
   ]
  },
  {
   "cell_type": "code",
   "execution_count": 208,
   "metadata": {
    "scrolled": true
   },
   "outputs": [],
   "source": [
    "pfi_mean=pfi_sig_annot[[\"cancer\",\"-log10(fdr)\"]].groupby(\"cancer\").mean()\n",
    "pfi_count=pfi_sig_annot[[\"cancer\",\"-log10(fdr)\"]].groupby(\"cancer\").size().reset_index().set_index(\"cancer\")\n",
    "pfi_plot=pd.merge(pfi_mean,pfi_count,right_index=True,left_index=True)"
   ]
  },
  {
   "cell_type": "code",
   "execution_count": 209,
   "metadata": {},
   "outputs": [],
   "source": [
    "os_mean=os_sig_annot[[\"cancer\",\"-log10(fdr)\"]].groupby(\"cancer\").mean()\n",
    "os_count=os_sig_annot[[\"cancer\",\"-log10(fdr)\"]].groupby(\"cancer\").size().reset_index().set_index(\"cancer\")\n",
    "os_plot=pd.merge(os_mean,os_count,right_index=True,left_index=True)"
   ]
  },
  {
   "cell_type": "code",
   "execution_count": 210,
   "metadata": {},
   "outputs": [],
   "source": [
    "pfi_plot[\"cat\"]=\"pfi\"\n",
    "os_plot[\"cat\"]=\"os\""
   ]
  },
  {
   "cell_type": "code",
   "execution_count": 211,
   "metadata": {},
   "outputs": [],
   "source": [
    "total_plot=pfi_plot.append(os_plot)"
   ]
  },
  {
   "cell_type": "code",
   "execution_count": 212,
   "metadata": {},
   "outputs": [],
   "source": [
    "total_plot=total_plot.reset_index()"
   ]
  },
  {
   "cell_type": "code",
   "execution_count": 213,
   "metadata": {},
   "outputs": [],
   "source": [
    "total_plot.to_csv(\"../data/os.pfi.germline.variants.txt\",index=None,sep=\"\\t\")"
   ]
  },
  {
   "cell_type": "code",
   "execution_count": 214,
   "metadata": {},
   "outputs": [],
   "source": [
    "df=pfi_sig_annot.groupby([\"cancer\",\"file\"]).size().reset_index()"
   ]
  },
  {
   "cell_type": "code",
   "execution_count": 215,
   "metadata": {},
   "outputs": [],
   "source": [
    "df.columns=[\"cancer\",\"file\",\"PFI snps\"]"
   ]
  },
  {
   "cell_type": "code",
   "execution_count": 216,
   "metadata": {},
   "outputs": [
    {
     "data": {
      "text/html": [
       "<div>\n",
       "<style scoped>\n",
       "    .dataframe tbody tr th:only-of-type {\n",
       "        vertical-align: middle;\n",
       "    }\n",
       "\n",
       "    .dataframe tbody tr th {\n",
       "        vertical-align: top;\n",
       "    }\n",
       "\n",
       "    .dataframe thead th {\n",
       "        text-align: right;\n",
       "    }\n",
       "</style>\n",
       "<table border=\"1\" class=\"dataframe\">\n",
       "  <thead>\n",
       "    <tr style=\"text-align: right;\">\n",
       "      <th></th>\n",
       "      <th>cancer</th>\n",
       "      <th>file</th>\n",
       "      <th>PFI snps</th>\n",
       "    </tr>\n",
       "  </thead>\n",
       "  <tbody>\n",
       "    <tr>\n",
       "      <th>0</th>\n",
       "      <td>ACC</td>\n",
       "      <td>HLA.C</td>\n",
       "      <td>1</td>\n",
       "    </tr>\n",
       "    <tr>\n",
       "      <th>1</th>\n",
       "      <td>ACC</td>\n",
       "      <td>HLA.G</td>\n",
       "      <td>1</td>\n",
       "    </tr>\n",
       "    <tr>\n",
       "      <th>2</th>\n",
       "      <td>BLCA</td>\n",
       "      <td>HLA.DQB1</td>\n",
       "      <td>1</td>\n",
       "    </tr>\n",
       "    <tr>\n",
       "      <th>3</th>\n",
       "      <td>HNSC</td>\n",
       "      <td>HLA.DQA1</td>\n",
       "      <td>2</td>\n",
       "    </tr>\n",
       "    <tr>\n",
       "      <th>4</th>\n",
       "      <td>HNSC</td>\n",
       "      <td>HLA.DQB1</td>\n",
       "      <td>2</td>\n",
       "    </tr>\n",
       "    <tr>\n",
       "      <th>5</th>\n",
       "      <td>HNSC</td>\n",
       "      <td>MICA</td>\n",
       "      <td>1</td>\n",
       "    </tr>\n",
       "    <tr>\n",
       "      <th>6</th>\n",
       "      <td>KICH</td>\n",
       "      <td>HLA.C</td>\n",
       "      <td>1</td>\n",
       "    </tr>\n",
       "    <tr>\n",
       "      <th>7</th>\n",
       "      <td>KICH</td>\n",
       "      <td>HLA.DQA1</td>\n",
       "      <td>1</td>\n",
       "    </tr>\n",
       "    <tr>\n",
       "      <th>8</th>\n",
       "      <td>KICH</td>\n",
       "      <td>HLA.DQB1</td>\n",
       "      <td>1</td>\n",
       "    </tr>\n",
       "    <tr>\n",
       "      <th>9</th>\n",
       "      <td>MESO</td>\n",
       "      <td>HLA.C</td>\n",
       "      <td>1</td>\n",
       "    </tr>\n",
       "    <tr>\n",
       "      <th>10</th>\n",
       "      <td>MESO</td>\n",
       "      <td>HLA.DQB1</td>\n",
       "      <td>3</td>\n",
       "    </tr>\n",
       "    <tr>\n",
       "      <th>11</th>\n",
       "      <td>MESO</td>\n",
       "      <td>HLA.G</td>\n",
       "      <td>1</td>\n",
       "    </tr>\n",
       "    <tr>\n",
       "      <th>12</th>\n",
       "      <td>MESO</td>\n",
       "      <td>PSMB9</td>\n",
       "      <td>1</td>\n",
       "    </tr>\n",
       "    <tr>\n",
       "      <th>13</th>\n",
       "      <td>PCPG</td>\n",
       "      <td>HLA.A</td>\n",
       "      <td>1</td>\n",
       "    </tr>\n",
       "    <tr>\n",
       "      <th>14</th>\n",
       "      <td>TGCT</td>\n",
       "      <td>HLA.C</td>\n",
       "      <td>1</td>\n",
       "    </tr>\n",
       "    <tr>\n",
       "      <th>15</th>\n",
       "      <td>THCA</td>\n",
       "      <td>HLA.A</td>\n",
       "      <td>1</td>\n",
       "    </tr>\n",
       "  </tbody>\n",
       "</table>\n",
       "</div>"
      ],
      "text/plain": [
       "   cancer      file  PFI snps\n",
       "0     ACC     HLA.C         1\n",
       "1     ACC     HLA.G         1\n",
       "2    BLCA  HLA.DQB1         1\n",
       "3    HNSC  HLA.DQA1         2\n",
       "4    HNSC  HLA.DQB1         2\n",
       "5    HNSC      MICA         1\n",
       "6    KICH     HLA.C         1\n",
       "7    KICH  HLA.DQA1         1\n",
       "8    KICH  HLA.DQB1         1\n",
       "9    MESO     HLA.C         1\n",
       "10   MESO  HLA.DQB1         3\n",
       "11   MESO     HLA.G         1\n",
       "12   MESO     PSMB9         1\n",
       "13   PCPG     HLA.A         1\n",
       "14   TGCT     HLA.C         1\n",
       "15   THCA     HLA.A         1"
      ]
     },
     "execution_count": 216,
     "metadata": {},
     "output_type": "execute_result"
    }
   ],
   "source": [
    "df"
   ]
  },
  {
   "cell_type": "markdown",
   "metadata": {},
   "source": [
    "## Plot prognostic snps"
   ]
  },
  {
   "cell_type": "code",
   "execution_count": 174,
   "metadata": {},
   "outputs": [
    {
     "data": {
      "image/png": "[encoded data removed]",
      "text/plain": [
       "<Figure size 36x288 with 2 Axes>"
      ]
     },
     "metadata": {
      "needs_background": "light"
     },
     "output_type": "display_data"
    }
   ],
   "source": [
    "grid=total_plot.pivot(index=\"cancer\", columns=\"cat\",values=0)\n",
    "c=total_plot.pivot(index=\"cancer\", columns=\"cat\",values=\"-log10(fdr)\")\n",
    "\n",
    "grid=grid.fillna(0)\n",
    "c=c.fillna(0)\n",
    "\n",
    "for x in c.columns:\n",
    "    c[x]=pd.to_numeric(c[x])\n",
    "\n",
    "ylabels = grid.index.tolist()\n",
    "xlabels = grid.columns.tolist()\n",
    "N=len(ylabels)\n",
    "M=len(xlabels)\n",
    "\n",
    "x, y = np.meshgrid(np.arange(M), np.arange(N))\n",
    "s = grid.values\n",
    "c = c.values\n",
    "\n",
    "fig, ax = plt.subplots(figsize=(0.5, 4))\n",
    "\n",
    "R = s/s.max()/2\n",
    "circles = [plt.Circle((j,i), radius=r) for r, j, i in zip(R.flat, x.flat, y.flat)]\n",
    "col = PatchCollection(circles, array=c.flatten(), cmap=\"Reds\")\n",
    "ax.add_collection(col)\n",
    "\n",
    "ax.set(xticks=np.arange(len(xlabels)), yticks=np.arange(len(ylabels)),\n",
    "       xticklabels=xlabels, yticklabels=ylabels)\n",
    "ax.set_xticks(np.arange(M+1)-0.5, minor=True)\n",
    "ax.set_yticks(np.arange(N+1)-0.5, minor=True)\n",
    "ax.grid(which='minor')\n",
    "plt.xticks(rotation=90)\n",
    "\n",
    "fig.colorbar(col)\n",
    "plt.savefig(\"../plots/prognostic.snps.pdf\")\n"
   ]
  },
  {
   "cell_type": "code",
   "execution_count": 175,
   "metadata": {},
   "outputs": [
    {
     "data": {
      "text/html": [
       "<div>\n",
       "<style scoped>\n",
       "    .dataframe tbody tr th:only-of-type {\n",
       "        vertical-align: middle;\n",
       "    }\n",
       "\n",
       "    .dataframe tbody tr th {\n",
       "        vertical-align: top;\n",
       "    }\n",
       "\n",
       "    .dataframe thead th {\n",
       "        text-align: right;\n",
       "    }\n",
       "</style>\n",
       "<table border=\"1\" class=\"dataframe\">\n",
       "  <thead>\n",
       "    <tr style=\"text-align: right;\">\n",
       "      <th></th>\n",
       "      <th>cancer</th>\n",
       "      <th>-log10(fdr)</th>\n",
       "      <th>0</th>\n",
       "      <th>cat</th>\n",
       "    </tr>\n",
       "  </thead>\n",
       "  <tbody>\n",
       "    <tr>\n",
       "      <th>0</th>\n",
       "      <td>ACC</td>\n",
       "      <td>1.478851</td>\n",
       "      <td>2</td>\n",
       "      <td>pfi</td>\n",
       "    </tr>\n",
       "    <tr>\n",
       "      <th>1</th>\n",
       "      <td>BLCA</td>\n",
       "      <td>3.518637</td>\n",
       "      <td>1</td>\n",
       "      <td>pfi</td>\n",
       "    </tr>\n",
       "    <tr>\n",
       "      <th>2</th>\n",
       "      <td>HNSC</td>\n",
       "      <td>1.228315</td>\n",
       "      <td>5</td>\n",
       "      <td>pfi</td>\n",
       "    </tr>\n",
       "    <tr>\n",
       "      <th>3</th>\n",
       "      <td>KICH</td>\n",
       "      <td>3.959526</td>\n",
       "      <td>3</td>\n",
       "      <td>pfi</td>\n",
       "    </tr>\n",
       "    <tr>\n",
       "      <th>4</th>\n",
       "      <td>MESO</td>\n",
       "      <td>1.408907</td>\n",
       "      <td>6</td>\n",
       "      <td>pfi</td>\n",
       "    </tr>\n",
       "    <tr>\n",
       "      <th>5</th>\n",
       "      <td>PCPG</td>\n",
       "      <td>1.974432</td>\n",
       "      <td>1</td>\n",
       "      <td>pfi</td>\n",
       "    </tr>\n",
       "    <tr>\n",
       "      <th>6</th>\n",
       "      <td>TGCT</td>\n",
       "      <td>2.687928</td>\n",
       "      <td>1</td>\n",
       "      <td>pfi</td>\n",
       "    </tr>\n",
       "    <tr>\n",
       "      <th>7</th>\n",
       "      <td>THCA</td>\n",
       "      <td>2.467671</td>\n",
       "      <td>1</td>\n",
       "      <td>pfi</td>\n",
       "    </tr>\n",
       "    <tr>\n",
       "      <th>8</th>\n",
       "      <td>BLCA</td>\n",
       "      <td>11.527522</td>\n",
       "      <td>1</td>\n",
       "      <td>os</td>\n",
       "    </tr>\n",
       "    <tr>\n",
       "      <th>9</th>\n",
       "      <td>KIRC</td>\n",
       "      <td>1.465100</td>\n",
       "      <td>1</td>\n",
       "      <td>os</td>\n",
       "    </tr>\n",
       "    <tr>\n",
       "      <th>10</th>\n",
       "      <td>PAAD</td>\n",
       "      <td>1.841112</td>\n",
       "      <td>1</td>\n",
       "      <td>os</td>\n",
       "    </tr>\n",
       "    <tr>\n",
       "      <th>11</th>\n",
       "      <td>PRAD</td>\n",
       "      <td>1.032331</td>\n",
       "      <td>1</td>\n",
       "      <td>os</td>\n",
       "    </tr>\n",
       "    <tr>\n",
       "      <th>12</th>\n",
       "      <td>READ</td>\n",
       "      <td>1.396685</td>\n",
       "      <td>1</td>\n",
       "      <td>os</td>\n",
       "    </tr>\n",
       "    <tr>\n",
       "      <th>13</th>\n",
       "      <td>THCA</td>\n",
       "      <td>1.200002</td>\n",
       "      <td>1</td>\n",
       "      <td>os</td>\n",
       "    </tr>\n",
       "  </tbody>\n",
       "</table>\n",
       "</div>"
      ],
      "text/plain": [
       "   cancer  -log10(fdr)  0  cat\n",
       "0     ACC     1.478851  2  pfi\n",
       "1    BLCA     3.518637  1  pfi\n",
       "2    HNSC     1.228315  5  pfi\n",
       "3    KICH     3.959526  3  pfi\n",
       "4    MESO     1.408907  6  pfi\n",
       "5    PCPG     1.974432  1  pfi\n",
       "6    TGCT     2.687928  1  pfi\n",
       "7    THCA     2.467671  1  pfi\n",
       "8    BLCA    11.527522  1   os\n",
       "9    KIRC     1.465100  1   os\n",
       "10   PAAD     1.841112  1   os\n",
       "11   PRAD     1.032331  1   os\n",
       "12   READ     1.396685  1   os\n",
       "13   THCA     1.200002  1   os"
      ]
     },
     "execution_count": 175,
     "metadata": {},
     "output_type": "execute_result"
    }
   ],
   "source": [
    "total_plot"
   ]
  },
  {
   "cell_type": "code",
   "execution_count": null,
   "metadata": {},
   "outputs": [],
   "source": []
  },
  {
   "cell_type": "code",
   "execution_count": null,
   "metadata": {},
   "outputs": [],
   "source": []
  },
  {
   "cell_type": "code",
   "execution_count": null,
   "metadata": {},
   "outputs": [],
   "source": []
  }
 ],
 "metadata": {
  "kernelspec": {
   "display_name": "Python 3",
   "language": "python",
   "name": "python3"
  },
  "language_info": {
   "codemirror_mode": {
    "name": "ipython",
    "version": 3
   },
   "file_extension": ".py",
   "mimetype": "text/x-python",
   "name": "python",
   "nbconvert_exporter": "python",
   "pygments_lexer": "ipython3",
   "version": "3.7.7"
  }
 },
 "nbformat": 4,
 "nbformat_minor": 2
}
