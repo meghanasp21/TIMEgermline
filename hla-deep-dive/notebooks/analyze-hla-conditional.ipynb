{
 "cells": [
  {
   "cell_type": "code",
   "execution_count": 1,
   "metadata": {},
   "outputs": [],
   "source": [
    "import pandas as pd\n",
    "import os\n",
    "import numpy as np"
   ]
  },
  {
   "cell_type": "code",
   "execution_count": 2,
   "metadata": {},
   "outputs": [],
   "source": [
    "from matplotlib import pyplot as plt\n",
    "from matplotlib.pyplot import cm\n",
    "import seaborn as sns"
   ]
  },
  {
   "cell_type": "code",
   "execution_count": 3,
   "metadata": {},
   "outputs": [],
   "source": [
    "import matplotlib\n",
    "matplotlib.rcParams['pdf.fonttype'] = 42\n",
    "matplotlib.rcParams['ps.fonttype'] = 42"
   ]
  },
  {
   "cell_type": "code",
   "execution_count": 4,
   "metadata": {},
   "outputs": [],
   "source": [
    "import sys\n",
    "sys.path.append(\"/cellar/users/mpagadal/Programs/anaconda3/lib/python3.7/site-packages\")\n",
    "sys.path.insert(1, '/cellar/users/mpagadal/Data/scripts')"
   ]
  },
  {
   "cell_type": "code",
   "execution_count": 5,
   "metadata": {},
   "outputs": [],
   "source": [
    "import myvariant\n",
    "mv = myvariant.MyVariantInfo()"
   ]
  },
  {
   "cell_type": "code",
   "execution_count": 6,
   "metadata": {},
   "outputs": [],
   "source": [
    "def process_data(file,analysis_type):\n",
    "    if analysis_type==\"linear\":\n",
    "        df=pd.read_csv(file,delimiter=\"\\t\",header=None)\n",
    "        df.columns=[\"#CHROM\",\"POS\",\"ID\",\"REF\",\"ALT\",\"A1\",\"TEST\",\"OBS_CT\",\"BETA\",\"SE\",\"T_STAT\",\"P\",\"ERRCODE\"]\n",
    "        df[\"P\"]=df[\"P\"].astype(float)\n",
    "        df['minuslog10pvalue'] = -np.log10(df[\"P\"])\n",
    "        df[\"#CHROM\"]=df[\"#CHROM\"].replace(\"X\",23)\n",
    "        df[\"#CHROM\"]=pd.to_numeric(df[\"#CHROM\"])\n",
    "        df[\"#CHROM\"] = df[\"#CHROM\"].astype('category')\n",
    "        df = df.sort_values('#CHROM')\n",
    "        df['ind'] = range(len(df))\n",
    "        return df\n",
    "    if analysis_type==\"logistic\":\n",
    "        df=pd.read_csv(file,delimiter=\"\\t\")\n",
    "        df['minuslog10pvalue'] = -np.log10(df[\"P\"])\n",
    "        df[\"#CHROM\"]=df[\"#CHROM\"].replace(\"X\",23)\n",
    "        df[\"#CHROM\"]=pd.to_numeric(df[\"#CHROM\"])\n",
    "        df[\"#CHROM\"] = df[\"#CHROM\"].astype('category')\n",
    "        df = df.sort_values('#CHROM')\n",
    "        df['ind'] = range(len(df))\n",
    "        return df"
   ]
  },
  {
   "cell_type": "code",
   "execution_count": 7,
   "metadata": {},
   "outputs": [],
   "source": [
    "def plot_manhattan_annotate(processed_data,title,color_list,files_known_snps,colors_known_snps):\n",
    "    '''\n",
    "    Input: dataframe with P values\n",
    "    Output: Manhattan plot\n",
    "    '''\n",
    "    df=processed_data\n",
    "    df_grouped = df.groupby(('#CHROM'))\n",
    "    fig = plt.figure(figsize=(20,10))\n",
    "    ax = fig.add_subplot(111)\n",
    "    colors = color_list\n",
    "    x_labels = []\n",
    "    x_labels_pos = []\n",
    "    for num, (name, group) in enumerate(df_grouped):\n",
    "        group.plot(kind='scatter', x='ind', y='minuslog10pvalue',color=colors[num % len(colors)],ax=ax,rasterized=True)\n",
    "        x_labels.append(name)\n",
    "        x_labels_pos.append((group['ind'].iloc[-1] - (group['ind'].iloc[-1] - group['ind'].iloc[0])/2))\n",
    "\n",
    "    \n",
    "    for num,file in enumerate(files_known_snps):\n",
    "        snps=pd.read_csv(file,header=None)\n",
    "        snps=snps[0].tolist()\n",
    "        df_label=df[df[\"ID\"].isin(snps)]\n",
    "        print(df_label.shape)\n",
    "        for i,row in df_label.iterrows():\n",
    "            ax.scatter(row[\"ind\"],row[\"minuslog10pvalue\"],color=colors_known_snps[num],rasterized=True)\n",
    "            \n",
    "    ax.axhline(y=7.30, color='r', linestyle='-')\n",
    "    ax.set_xticks(x_labels_pos)\n",
    "    ax.set_xticklabels(x_labels)\n",
    "    ax.set_xlim([0, len(df)])\n",
    "    ax.set_xlabel('Chromosome')\n",
    "    ax.set_ylabel('-log10 P value')\n",
    "    ax.set_title(title+' GWAS Manhattan plot')\n",
    "    fig.savefig(title+'.manhattan.labeled.pdf')\n",
    "    #plt.close()"
   ]
  },
  {
   "cell_type": "markdown",
   "metadata": {},
   "source": [
    "## Get conditional snps"
   ]
  },
  {
   "cell_type": "code",
   "execution_count": 8,
   "metadata": {},
   "outputs": [],
   "source": [
    "def extract(directory):\n",
    "    df_hla_cond=pd.DataFrame()\n",
    "    files=[x for x in os.listdir(directory) if \"assoc\" in x]\n",
    "    print(len(files))\n",
    "    for x in files:\n",
    "        df=pd.read_csv(directory+x,header=None,delimiter=\"\\t\")\n",
    "        df[\"pheno\"]=x.split(\".assoc\")[0]\n",
    "        df[\"iteration\"]=df.index\n",
    "        df_hla_cond=df_hla_cond.append(df)\n",
    "    df_hla_cond.columns=[\"snp\",\"beta\",\"p\",\"file\",\"iteration\"]\n",
    "    return(df_hla_cond)\n",
    "    "
   ]
  },
  {
   "cell_type": "code",
   "execution_count": 9,
   "metadata": {},
   "outputs": [],
   "source": [
    "def extract_beta(hla_df,betas):\n",
    "    beta_values=[]\n",
    "    p_values=[]\n",
    "\n",
    "    for i,row in hla_df.iterrows():\n",
    "        file=row[\"file\"]+\".\"+str(row[\"iteration\"])+\".GWAS.ADD.filtered\"\n",
    "        try:\n",
    "            df=pd.read_csv(betas+\"/\"+file,header=None,sep=\"\\t\")\n",
    "            beta=df[(df[2]==row[\"snp\"])&(df[6]==\"ADD\")][8].values[0]\n",
    "            beta_values.append(beta)\n",
    "            p=df[(df[2]==row[\"snp\"])&(df[6]==\"ADD\")][11].values[0]\n",
    "            p_values.append(p)\n",
    "        except:\n",
    "            beta=np.nan\n",
    "            beta_values.append(beta)\n",
    "            p=np.nan\n",
    "            p_values.append(p)\n",
    "            \n",
    "    hla_df[\"beta\"]=beta_values\n",
    "    hla_df[\"p\"]=p_values\n",
    "    return(hla_df)\n",
    "    "
   ]
  },
  {
   "cell_type": "markdown",
   "metadata": {},
   "source": [
    "## Get HLA-conditional variants from all 3 pipelines"
   ]
  },
  {
   "cell_type": "code",
   "execution_count": 10,
   "metadata": {},
   "outputs": [],
   "source": [
    "files=[x for x in os.listdir(\"/cellar/users/mpagadal/Data/projects/germline-immune/hla-deep-dive/associations/raw/hla-conditional/firebrowse\") if \"assoc\" in x]\n",
    "\n"
   ]
  },
  {
   "cell_type": "code",
   "execution_count": 11,
   "metadata": {},
   "outputs": [],
   "source": [
    "compiled=pd.DataFrame()\n",
    "\n",
    "for x in files:\n",
    "    df=pd.read_csv(\"/cellar/users/mpagadal/Data/projects/germline-immune/hla-deep-dive/associations/raw/hla-conditional/firebrowse/\"+x,header=None,delimiter=\"\\t\")\n",
    "    compiled=compiled.append(df)\n",
    "    "
   ]
  },
  {
   "cell_type": "code",
   "execution_count": 12,
   "metadata": {},
   "outputs": [
    {
     "data": {
      "text/html": [
       "<div>\n",
       "<style scoped>\n",
       "    .dataframe tbody tr th:only-of-type {\n",
       "        vertical-align: middle;\n",
       "    }\n",
       "\n",
       "    .dataframe tbody tr th {\n",
       "        vertical-align: top;\n",
       "    }\n",
       "\n",
       "    .dataframe thead th {\n",
       "        text-align: right;\n",
       "    }\n",
       "</style>\n",
       "<table border=\"1\" class=\"dataframe\">\n",
       "  <thead>\n",
       "    <tr style=\"text-align: right;\">\n",
       "      <th></th>\n",
       "      <th>0</th>\n",
       "      <th>1</th>\n",
       "      <th>2</th>\n",
       "    </tr>\n",
       "  </thead>\n",
       "  <tbody>\n",
       "    <tr>\n",
       "      <th>0</th>\n",
       "      <td>6:29910371:C:T</td>\n",
       "      <td>-0.324122</td>\n",
       "      <td>4.131110e-33</td>\n",
       "    </tr>\n",
       "    <tr>\n",
       "      <th>1</th>\n",
       "      <td>6:29933439:T:C</td>\n",
       "      <td>0.113406</td>\n",
       "      <td>2.407130e-11</td>\n",
       "    </tr>\n",
       "    <tr>\n",
       "      <th>2</th>\n",
       "      <td>4:25466475:G:A</td>\n",
       "      <td>0.086680</td>\n",
       "      <td>2.539800e-07</td>\n",
       "    </tr>\n",
       "    <tr>\n",
       "      <th>3</th>\n",
       "      <td>X:25038156:C:T</td>\n",
       "      <td>0.095716</td>\n",
       "      <td>2.859360e-07</td>\n",
       "    </tr>\n",
       "    <tr>\n",
       "      <th>4</th>\n",
       "      <td>3:144824898:T:C</td>\n",
       "      <td>0.179215</td>\n",
       "      <td>9.158960e-07</td>\n",
       "    </tr>\n",
       "  </tbody>\n",
       "</table>\n",
       "</div>"
      ],
      "text/plain": [
       "                 0         1             2\n",
       "0   6:29910371:C:T -0.324122  4.131110e-33\n",
       "1   6:29933439:T:C  0.113406  2.407130e-11\n",
       "2   4:25466475:G:A  0.086680  2.539800e-07\n",
       "3   X:25038156:C:T  0.095716  2.859360e-07\n",
       "4  3:144824898:T:C  0.179215  9.158960e-07"
      ]
     },
     "execution_count": 12,
     "metadata": {},
     "output_type": "execute_result"
    }
   ],
   "source": [
    "compiled.head()"
   ]
  },
  {
   "cell_type": "code",
   "execution_count": 13,
   "metadata": {},
   "outputs": [
    {
     "name": "stdout",
     "output_type": "stream",
     "text": [
      "14\n",
      "17\n",
      "17\n"
     ]
    }
   ],
   "source": [
    "tpm=extract(\"/cellar/users/mpagadal/Data/projects/germline-immune/hla-deep-dive/associations/raw/hla-conditional/tpm/\")\n",
    "firebrowse=extract(\"/cellar/users/mpagadal/Data/projects/germline-immune/hla-deep-dive/associations/raw/hla-conditional/firebrowse/\")\n",
    "pancan=extract(\"/cellar/users/mpagadal/Data/projects/germline-immune/hla-deep-dive/associations/raw/hla-conditional/pancanatlas/\")"
   ]
  },
  {
   "cell_type": "markdown",
   "metadata": {},
   "source": [
    "# Get variants that are called by at least 2 RNA-sequencing pipelines"
   ]
  },
  {
   "cell_type": "code",
   "execution_count": 14,
   "metadata": {
    "scrolled": true
   },
   "outputs": [],
   "source": [
    "hla=tpm[[\"snp\",\"file\"]].append(firebrowse[[\"snp\",\"file\"]])\n",
    "hla=hla.append(pancan[[\"snp\",\"file\"]])"
   ]
  },
  {
   "cell_type": "code",
   "execution_count": 15,
   "metadata": {},
   "outputs": [],
   "source": [
    "#get conditional snps identified in at least 2 RNA pipelines\n",
    "hla_counts=hla.groupby([\"snp\",\"file\"]).size().reset_index()\n",
    "hla_consensus=hla_counts[hla_counts[0]>1][\"snp\"].tolist()"
   ]
  },
  {
   "cell_type": "code",
   "execution_count": 16,
   "metadata": {},
   "outputs": [],
   "source": [
    "hla_sig=hla[hla[\"snp\"].isin(hla_consensus)]"
   ]
  },
  {
   "cell_type": "code",
   "execution_count": 17,
   "metadata": {},
   "outputs": [
    {
     "data": {
      "text/html": [
       "<div>\n",
       "<style scoped>\n",
       "    .dataframe tbody tr th:only-of-type {\n",
       "        vertical-align: middle;\n",
       "    }\n",
       "\n",
       "    .dataframe tbody tr th {\n",
       "        vertical-align: top;\n",
       "    }\n",
       "\n",
       "    .dataframe thead th {\n",
       "        text-align: right;\n",
       "    }\n",
       "</style>\n",
       "<table border=\"1\" class=\"dataframe\">\n",
       "  <thead>\n",
       "    <tr style=\"text-align: right;\">\n",
       "      <th></th>\n",
       "      <th>snp</th>\n",
       "      <th>file</th>\n",
       "    </tr>\n",
       "  </thead>\n",
       "  <tbody>\n",
       "    <tr>\n",
       "      <th>8</th>\n",
       "      <td>6:31364076:C:T</td>\n",
       "      <td>HLA.B</td>\n",
       "    </tr>\n",
       "    <tr>\n",
       "      <th>4</th>\n",
       "      <td>6:32789480:A:G</td>\n",
       "      <td>TAP2</td>\n",
       "    </tr>\n",
       "    <tr>\n",
       "      <th>5</th>\n",
       "      <td>6:32796793:G:A</td>\n",
       "      <td>TAP2</td>\n",
       "    </tr>\n",
       "    <tr>\n",
       "      <th>9</th>\n",
       "      <td>3:183987074:C:T</td>\n",
       "      <td>TAP2</td>\n",
       "    </tr>\n",
       "    <tr>\n",
       "      <th>9</th>\n",
       "      <td>6:31322980:C:T</td>\n",
       "      <td>HLA.C</td>\n",
       "    </tr>\n",
       "  </tbody>\n",
       "</table>\n",
       "</div>"
      ],
      "text/plain": [
       "               snp   file\n",
       "8   6:31364076:C:T  HLA.B\n",
       "4   6:32789480:A:G   TAP2\n",
       "5   6:32796793:G:A   TAP2\n",
       "9  3:183987074:C:T   TAP2\n",
       "9   6:31322980:C:T  HLA.C"
      ]
     },
     "execution_count": 17,
     "metadata": {},
     "output_type": "execute_result"
    }
   ],
   "source": [
    "hla_sig.head()"
   ]
  },
  {
   "cell_type": "markdown",
   "metadata": {},
   "source": [
    "## Get only chromosome 6"
   ]
  },
  {
   "cell_type": "code",
   "execution_count": 18,
   "metadata": {},
   "outputs": [
    {
     "name": "stderr",
     "output_type": "stream",
     "text": [
      "/nrnb/opt/anaconda3.7/lib/python3.7/site-packages/ipykernel_launcher.py:1: SettingWithCopyWarning: \n",
      "A value is trying to be set on a copy of a slice from a DataFrame.\n",
      "Try using .loc[row_indexer,col_indexer] = value instead\n",
      "\n",
      "See the caveats in the documentation: https://pandas.pydata.org/pandas-docs/stable/user_guide/indexing.html#returning-a-view-versus-a-copy\n",
      "  \"\"\"Entry point for launching an IPython kernel.\n"
     ]
    }
   ],
   "source": [
    "hla_sig[\"chr\"]=hla_sig[\"snp\"].str.split(\":\").str[0]\n",
    "hla_sig6=hla_sig[hla_sig[\"chr\"]==\"6\"]"
   ]
  },
  {
   "cell_type": "code",
   "execution_count": 19,
   "metadata": {},
   "outputs": [
    {
     "name": "stdout",
     "output_type": "stream",
     "text": [
      "(82, 3)\n"
     ]
    },
    {
     "data": {
      "text/html": [
       "<div>\n",
       "<style scoped>\n",
       "    .dataframe tbody tr th:only-of-type {\n",
       "        vertical-align: middle;\n",
       "    }\n",
       "\n",
       "    .dataframe tbody tr th {\n",
       "        vertical-align: top;\n",
       "    }\n",
       "\n",
       "    .dataframe thead th {\n",
       "        text-align: right;\n",
       "    }\n",
       "</style>\n",
       "<table border=\"1\" class=\"dataframe\">\n",
       "  <thead>\n",
       "    <tr style=\"text-align: right;\">\n",
       "      <th></th>\n",
       "      <th>snp</th>\n",
       "      <th>file</th>\n",
       "      <th>chr</th>\n",
       "    </tr>\n",
       "  </thead>\n",
       "  <tbody>\n",
       "    <tr>\n",
       "      <th>8</th>\n",
       "      <td>6:31364076:C:T</td>\n",
       "      <td>HLA.B</td>\n",
       "      <td>6</td>\n",
       "    </tr>\n",
       "    <tr>\n",
       "      <th>4</th>\n",
       "      <td>6:32789480:A:G</td>\n",
       "      <td>TAP2</td>\n",
       "      <td>6</td>\n",
       "    </tr>\n",
       "    <tr>\n",
       "      <th>5</th>\n",
       "      <td>6:32796793:G:A</td>\n",
       "      <td>TAP2</td>\n",
       "      <td>6</td>\n",
       "    </tr>\n",
       "    <tr>\n",
       "      <th>9</th>\n",
       "      <td>6:31322980:C:T</td>\n",
       "      <td>HLA.C</td>\n",
       "      <td>6</td>\n",
       "    </tr>\n",
       "    <tr>\n",
       "      <th>5</th>\n",
       "      <td>6:32403119:G:A</td>\n",
       "      <td>HLA.DRB5</td>\n",
       "      <td>6</td>\n",
       "    </tr>\n",
       "  </tbody>\n",
       "</table>\n",
       "</div>"
      ],
      "text/plain": [
       "              snp      file chr\n",
       "8  6:31364076:C:T     HLA.B   6\n",
       "4  6:32789480:A:G      TAP2   6\n",
       "5  6:32796793:G:A      TAP2   6\n",
       "9  6:31322980:C:T     HLA.C   6\n",
       "5  6:32403119:G:A  HLA.DRB5   6"
      ]
     },
     "execution_count": 19,
     "metadata": {},
     "output_type": "execute_result"
    }
   ],
   "source": [
    "print(hla_sig6.shape)\n",
    "hla_sig6.head()"
   ]
  },
  {
   "cell_type": "markdown",
   "metadata": {},
   "source": [
    "## Get p and beta values of consensus variants"
   ]
  },
  {
   "cell_type": "code",
   "execution_count": 20,
   "metadata": {},
   "outputs": [],
   "source": [
    "hla_merge=pd.merge(hla_sig6,tpm,on=[\"snp\",\"file\"],how=\"left\",suffixes=('', '_tpm'))\n",
    "hla_merge=pd.merge(hla_merge,firebrowse,on=[\"snp\",\"file\"],how=\"left\",suffixes=('', '_firebrowse'))\n",
    "hla_merge=pd.merge(hla_merge,pancan,on=[\"snp\",\"file\"],how=\"left\",suffixes=('', '_pancan'))"
   ]
  },
  {
   "cell_type": "code",
   "execution_count": 21,
   "metadata": {},
   "outputs": [],
   "source": [
    "hla_merge[\"beta mean\"]=hla_merge[[\"beta\", \"beta_firebrowse\",\"beta_pancan\"]].mean(axis=1)"
   ]
  },
  {
   "cell_type": "code",
   "execution_count": 22,
   "metadata": {},
   "outputs": [],
   "source": [
    "hla_merge[\"consensus p-value\"]=hla_merge[[\"p\", \"p_firebrowse\",\"p_pancan\"]].min(axis=1)"
   ]
  },
  {
   "cell_type": "code",
   "execution_count": 23,
   "metadata": {},
   "outputs": [
    {
     "data": {
      "text/html": [
       "<div>\n",
       "<style scoped>\n",
       "    .dataframe tbody tr th:only-of-type {\n",
       "        vertical-align: middle;\n",
       "    }\n",
       "\n",
       "    .dataframe tbody tr th {\n",
       "        vertical-align: top;\n",
       "    }\n",
       "\n",
       "    .dataframe thead th {\n",
       "        text-align: right;\n",
       "    }\n",
       "</style>\n",
       "<table border=\"1\" class=\"dataframe\">\n",
       "  <thead>\n",
       "    <tr style=\"text-align: right;\">\n",
       "      <th></th>\n",
       "      <th>snp</th>\n",
       "      <th>file</th>\n",
       "      <th>chr</th>\n",
       "      <th>beta</th>\n",
       "      <th>p</th>\n",
       "      <th>iteration</th>\n",
       "      <th>beta_firebrowse</th>\n",
       "      <th>p_firebrowse</th>\n",
       "      <th>iteration_firebrowse</th>\n",
       "      <th>beta_pancan</th>\n",
       "      <th>p_pancan</th>\n",
       "      <th>iteration_pancan</th>\n",
       "      <th>beta mean</th>\n",
       "      <th>consensus p-value</th>\n",
       "    </tr>\n",
       "  </thead>\n",
       "  <tbody>\n",
       "    <tr>\n",
       "      <th>0</th>\n",
       "      <td>6:31364076:C:T</td>\n",
       "      <td>HLA.B</td>\n",
       "      <td>6</td>\n",
       "      <td>0.094710</td>\n",
       "      <td>4.980910e-18</td>\n",
       "      <td>8.0</td>\n",
       "      <td>NaN</td>\n",
       "      <td>NaN</td>\n",
       "      <td>NaN</td>\n",
       "      <td>NaN</td>\n",
       "      <td>NaN</td>\n",
       "      <td>NaN</td>\n",
       "      <td>0.094710</td>\n",
       "      <td>4.980910e-18</td>\n",
       "    </tr>\n",
       "    <tr>\n",
       "      <th>1</th>\n",
       "      <td>6:32789480:A:G</td>\n",
       "      <td>TAP2</td>\n",
       "      <td>6</td>\n",
       "      <td>0.597560</td>\n",
       "      <td>5.918920e-21</td>\n",
       "      <td>4.0</td>\n",
       "      <td>0.132922</td>\n",
       "      <td>7.146760e-12</td>\n",
       "      <td>1.0</td>\n",
       "      <td>0.132970</td>\n",
       "      <td>2.695510e-12</td>\n",
       "      <td>1.0</td>\n",
       "      <td>0.287817</td>\n",
       "      <td>5.918920e-21</td>\n",
       "    </tr>\n",
       "    <tr>\n",
       "      <th>2</th>\n",
       "      <td>6:32796793:G:A</td>\n",
       "      <td>TAP2</td>\n",
       "      <td>6</td>\n",
       "      <td>-0.147194</td>\n",
       "      <td>4.220380e-11</td>\n",
       "      <td>5.0</td>\n",
       "      <td>-0.379908</td>\n",
       "      <td>7.175220e-32</td>\n",
       "      <td>0.0</td>\n",
       "      <td>-0.382238</td>\n",
       "      <td>2.281790e-33</td>\n",
       "      <td>0.0</td>\n",
       "      <td>-0.303113</td>\n",
       "      <td>2.281790e-33</td>\n",
       "    </tr>\n",
       "    <tr>\n",
       "      <th>3</th>\n",
       "      <td>6:31322980:C:T</td>\n",
       "      <td>HLA.C</td>\n",
       "      <td>6</td>\n",
       "      <td>0.057450</td>\n",
       "      <td>8.952920e-08</td>\n",
       "      <td>9.0</td>\n",
       "      <td>NaN</td>\n",
       "      <td>NaN</td>\n",
       "      <td>NaN</td>\n",
       "      <td>NaN</td>\n",
       "      <td>NaN</td>\n",
       "      <td>NaN</td>\n",
       "      <td>0.057450</td>\n",
       "      <td>8.952920e-08</td>\n",
       "    </tr>\n",
       "    <tr>\n",
       "      <th>4</th>\n",
       "      <td>6:32403119:G:A</td>\n",
       "      <td>HLA.DRB5</td>\n",
       "      <td>6</td>\n",
       "      <td>-0.385607</td>\n",
       "      <td>1.408260e-46</td>\n",
       "      <td>5.0</td>\n",
       "      <td>NaN</td>\n",
       "      <td>NaN</td>\n",
       "      <td>NaN</td>\n",
       "      <td>-0.254001</td>\n",
       "      <td>3.540090e-11</td>\n",
       "      <td>4.0</td>\n",
       "      <td>-0.319804</td>\n",
       "      <td>1.408260e-46</td>\n",
       "    </tr>\n",
       "  </tbody>\n",
       "</table>\n",
       "</div>"
      ],
      "text/plain": [
       "              snp      file chr      beta             p  iteration  \\\n",
       "0  6:31364076:C:T     HLA.B   6  0.094710  4.980910e-18        8.0   \n",
       "1  6:32789480:A:G      TAP2   6  0.597560  5.918920e-21        4.0   \n",
       "2  6:32796793:G:A      TAP2   6 -0.147194  4.220380e-11        5.0   \n",
       "3  6:31322980:C:T     HLA.C   6  0.057450  8.952920e-08        9.0   \n",
       "4  6:32403119:G:A  HLA.DRB5   6 -0.385607  1.408260e-46        5.0   \n",
       "\n",
       "   beta_firebrowse  p_firebrowse  iteration_firebrowse  beta_pancan  \\\n",
       "0              NaN           NaN                   NaN          NaN   \n",
       "1         0.132922  7.146760e-12                   1.0     0.132970   \n",
       "2        -0.379908  7.175220e-32                   0.0    -0.382238   \n",
       "3              NaN           NaN                   NaN          NaN   \n",
       "4              NaN           NaN                   NaN    -0.254001   \n",
       "\n",
       "       p_pancan  iteration_pancan  beta mean  consensus p-value  \n",
       "0           NaN               NaN   0.094710       4.980910e-18  \n",
       "1  2.695510e-12               1.0   0.287817       5.918920e-21  \n",
       "2  2.281790e-33               0.0  -0.303113       2.281790e-33  \n",
       "3           NaN               NaN   0.057450       8.952920e-08  \n",
       "4  3.540090e-11               4.0  -0.319804       1.408260e-46  "
      ]
     },
     "execution_count": 23,
     "metadata": {},
     "output_type": "execute_result"
    }
   ],
   "source": [
    "hla_merge.head()"
   ]
  },
  {
   "cell_type": "markdown",
   "metadata": {},
   "source": [
    "## Plot manhattan"
   ]
  },
  {
   "cell_type": "code",
   "execution_count": 24,
   "metadata": {},
   "outputs": [
    {
     "name": "stderr",
     "output_type": "stream",
     "text": [
      "/nrnb/opt/anaconda3.7/lib/python3.7/site-packages/IPython/core/interactiveshell.py:3254: DtypeWarning: Columns (0) have mixed types.Specify dtype option on import or set low_memory=False.\n",
      "  if (await self.run_code(code, result,  async_=asy)):\n"
     ]
    }
   ],
   "source": [
    "df=process_data(\"/cellar/users/mpagadal/Data/projects/germline-immune/hla-deep-dive/associations/raw/hla-conditional/tpm/TAP2.4.GWAS.ADD\",\"linear\")"
   ]
  },
  {
   "cell_type": "code",
   "execution_count": 25,
   "metadata": {},
   "outputs": [],
   "source": [
    "df=df[df[\"#CHROM\"]==6]\n",
    "df=df[df[\"POS\"]>32700000]\n",
    "df=df[df[\"POS\"]<32800000]"
   ]
  },
  {
   "cell_type": "code",
   "execution_count": 26,
   "metadata": {},
   "outputs": [],
   "source": [
    "snps=[\"6:32789480:A:G\",\"6:32796793:G:A\"]"
   ]
  },
  {
   "cell_type": "code",
   "execution_count": 27,
   "metadata": {},
   "outputs": [
    {
     "data": {
      "text/html": [
       "<div>\n",
       "<style scoped>\n",
       "    .dataframe tbody tr th:only-of-type {\n",
       "        vertical-align: middle;\n",
       "    }\n",
       "\n",
       "    .dataframe tbody tr th {\n",
       "        vertical-align: top;\n",
       "    }\n",
       "\n",
       "    .dataframe thead th {\n",
       "        text-align: right;\n",
       "    }\n",
       "</style>\n",
       "<table border=\"1\" class=\"dataframe\">\n",
       "  <thead>\n",
       "    <tr style=\"text-align: right;\">\n",
       "      <th></th>\n",
       "      <th>#CHROM</th>\n",
       "      <th>POS</th>\n",
       "      <th>ID</th>\n",
       "      <th>REF</th>\n",
       "      <th>ALT</th>\n",
       "      <th>A1</th>\n",
       "      <th>TEST</th>\n",
       "      <th>OBS_CT</th>\n",
       "      <th>BETA</th>\n",
       "      <th>SE</th>\n",
       "      <th>T_STAT</th>\n",
       "      <th>P</th>\n",
       "      <th>ERRCODE</th>\n",
       "      <th>minuslog10pvalue</th>\n",
       "      <th>ind</th>\n",
       "    </tr>\n",
       "  </thead>\n",
       "  <tbody>\n",
       "    <tr>\n",
       "      <th>2949444</th>\n",
       "      <td>6</td>\n",
       "      <td>32789480</td>\n",
       "      <td>6:32789480:A:G</td>\n",
       "      <td>A</td>\n",
       "      <td>G</td>\n",
       "      <td>G</td>\n",
       "      <td>ADD</td>\n",
       "      <td>7113</td>\n",
       "      <td>0.597560</td>\n",
       "      <td>0.063428</td>\n",
       "      <td>9.42103</td>\n",
       "      <td>5.918920e-21</td>\n",
       "      <td>.</td>\n",
       "      <td>20.227758</td>\n",
       "      <td>3127959</td>\n",
       "    </tr>\n",
       "    <tr>\n",
       "      <th>2949522</th>\n",
       "      <td>6</td>\n",
       "      <td>32796793</td>\n",
       "      <td>6:32796793:G:A</td>\n",
       "      <td>G</td>\n",
       "      <td>A</td>\n",
       "      <td>A</td>\n",
       "      <td>ADD</td>\n",
       "      <td>7113</td>\n",
       "      <td>-0.142052</td>\n",
       "      <td>0.022416</td>\n",
       "      <td>-6.33691</td>\n",
       "      <td>2.487700e-10</td>\n",
       "      <td>.</td>\n",
       "      <td>9.604202</td>\n",
       "      <td>3128129</td>\n",
       "    </tr>\n",
       "  </tbody>\n",
       "</table>\n",
       "</div>"
      ],
      "text/plain": [
       "        #CHROM       POS              ID REF ALT A1 TEST  OBS_CT      BETA  \\\n",
       "2949444      6  32789480  6:32789480:A:G   A   G  G  ADD    7113  0.597560   \n",
       "2949522      6  32796793  6:32796793:G:A   G   A  A  ADD    7113 -0.142052   \n",
       "\n",
       "               SE   T_STAT             P ERRCODE  minuslog10pvalue      ind  \n",
       "2949444  0.063428  9.42103  5.918920e-21       .         20.227758  3127959  \n",
       "2949522  0.022416 -6.33691  2.487700e-10       .          9.604202  3128129  "
      ]
     },
     "execution_count": 27,
     "metadata": {},
     "output_type": "execute_result"
    }
   ],
   "source": [
    "df[df[\"ID\"].isin(snps)]"
   ]
  },
  {
   "cell_type": "code",
   "execution_count": 28,
   "metadata": {
    "scrolled": true
   },
   "outputs": [
    {
     "data": {
      "image/png": "[encoded data removed]",
      "text/plain": [
       "<Figure size 720x360 with 1 Axes>"
      ]
     },
     "metadata": {
      "needs_background": "light"
     },
     "output_type": "display_data"
    }
   ],
   "source": [
    "f=plt.figure(figsize=(10,5))\n",
    "plt.scatter(df[\"POS\"],df[\"minuslog10pvalue\"])\n",
    "plt.scatter(32789480,20.227758,color=\"red\",rasterized=True)\n",
    "plt.scatter(32796793,9.604202,color=\"green\",rasterized=True)\n",
    "plt.ylabel(\"inverse ranked TAP2 TPM\")\n",
    "plt.ylim([0, 22])\n",
    "plt.savefig(\"../plots/tap2.iteration4.pdf\")"
   ]
  },
  {
   "cell_type": "code",
   "execution_count": 29,
   "metadata": {},
   "outputs": [
    {
     "name": "stderr",
     "output_type": "stream",
     "text": [
      "/nrnb/opt/anaconda3.7/lib/python3.7/site-packages/IPython/core/interactiveshell.py:3254: DtypeWarning: Columns (0) have mixed types.Specify dtype option on import or set low_memory=False.\n",
      "  if (await self.run_code(code, result,  async_=asy)):\n"
     ]
    }
   ],
   "source": [
    "df=process_data(\"/cellar/users/mpagadal/Data2/projects/germline-immune/hla-deep-dive/associations/raw/hla-conditional/tpm/TAP2.5.GWAS.ADD\",\"linear\")"
   ]
  },
  {
   "cell_type": "code",
   "execution_count": 30,
   "metadata": {},
   "outputs": [],
   "source": [
    "df=df[df[\"#CHROM\"]==6]\n",
    "df=df[df[\"POS\"]>32700000]\n",
    "df=df[df[\"POS\"]<32800000]"
   ]
  },
  {
   "cell_type": "code",
   "execution_count": 31,
   "metadata": {},
   "outputs": [
    {
     "data": {
      "text/html": [
       "<div>\n",
       "<style scoped>\n",
       "    .dataframe tbody tr th:only-of-type {\n",
       "        vertical-align: middle;\n",
       "    }\n",
       "\n",
       "    .dataframe tbody tr th {\n",
       "        vertical-align: top;\n",
       "    }\n",
       "\n",
       "    .dataframe thead th {\n",
       "        text-align: right;\n",
       "    }\n",
       "</style>\n",
       "<table border=\"1\" class=\"dataframe\">\n",
       "  <thead>\n",
       "    <tr style=\"text-align: right;\">\n",
       "      <th></th>\n",
       "      <th>#CHROM</th>\n",
       "      <th>POS</th>\n",
       "      <th>ID</th>\n",
       "      <th>REF</th>\n",
       "      <th>ALT</th>\n",
       "      <th>A1</th>\n",
       "      <th>TEST</th>\n",
       "      <th>OBS_CT</th>\n",
       "      <th>BETA</th>\n",
       "      <th>SE</th>\n",
       "      <th>T_STAT</th>\n",
       "      <th>P</th>\n",
       "      <th>ERRCODE</th>\n",
       "      <th>minuslog10pvalue</th>\n",
       "      <th>ind</th>\n",
       "    </tr>\n",
       "  </thead>\n",
       "  <tbody>\n",
       "    <tr>\n",
       "      <th>2949444</th>\n",
       "      <td>6</td>\n",
       "      <td>32789480</td>\n",
       "      <td>6:32789480:A:G</td>\n",
       "      <td>A</td>\n",
       "      <td>G</td>\n",
       "      <td>G</td>\n",
       "      <td>ADD</td>\n",
       "      <td>7113</td>\n",
       "      <td>NaN</td>\n",
       "      <td>NaN</td>\n",
       "      <td>NaN</td>\n",
       "      <td>NaN</td>\n",
       "      <td>CORR_TOO_HIGH</td>\n",
       "      <td>NaN</td>\n",
       "      <td>3127959</td>\n",
       "    </tr>\n",
       "    <tr>\n",
       "      <th>2949522</th>\n",
       "      <td>6</td>\n",
       "      <td>32796793</td>\n",
       "      <td>6:32796793:G:A</td>\n",
       "      <td>G</td>\n",
       "      <td>A</td>\n",
       "      <td>A</td>\n",
       "      <td>ADD</td>\n",
       "      <td>7113</td>\n",
       "      <td>-0.147194</td>\n",
       "      <td>0.02228</td>\n",
       "      <td>-6.60649</td>\n",
       "      <td>4.220380e-11</td>\n",
       "      <td>.</td>\n",
       "      <td>10.374648</td>\n",
       "      <td>3128129</td>\n",
       "    </tr>\n",
       "  </tbody>\n",
       "</table>\n",
       "</div>"
      ],
      "text/plain": [
       "        #CHROM       POS              ID REF ALT A1 TEST  OBS_CT      BETA  \\\n",
       "2949444      6  32789480  6:32789480:A:G   A   G  G  ADD    7113       NaN   \n",
       "2949522      6  32796793  6:32796793:G:A   G   A  A  ADD    7113 -0.147194   \n",
       "\n",
       "              SE   T_STAT             P        ERRCODE  minuslog10pvalue  \\\n",
       "2949444      NaN      NaN           NaN  CORR_TOO_HIGH               NaN   \n",
       "2949522  0.02228 -6.60649  4.220380e-11              .         10.374648   \n",
       "\n",
       "             ind  \n",
       "2949444  3127959  \n",
       "2949522  3128129  "
      ]
     },
     "execution_count": 31,
     "metadata": {},
     "output_type": "execute_result"
    }
   ],
   "source": [
    "df[df[\"ID\"].isin(snps)]"
   ]
  },
  {
   "cell_type": "code",
   "execution_count": 32,
   "metadata": {},
   "outputs": [
    {
     "data": {
      "image/png": "[encoded data removed]",
      "text/plain": [
       "<Figure size 720x360 with 1 Axes>"
      ]
     },
     "metadata": {
      "needs_background": "light"
     },
     "output_type": "display_data"
    }
   ],
   "source": [
    "f=plt.figure(figsize=(10,5))\n",
    "plt.scatter(df[\"POS\"],df[\"minuslog10pvalue\"])\n",
    "plt.scatter(32796793,10.374648,color=\"green\",rasterized=True)\n",
    "plt.ylabel(\"inverse ranked TAP2 TPM\")\n",
    "plt.ylim([0, 22])\n",
    "plt.savefig(\"../plots/tap2.iteration5.pdf\")"
   ]
  },
  {
   "cell_type": "markdown",
   "metadata": {},
   "source": [
    "## make conditional plot"
   ]
  },
  {
   "cell_type": "code",
   "execution_count": 33,
   "metadata": {
    "scrolled": true
   },
   "outputs": [],
   "source": [
    "hla_merge[\"bp1\"]=hla_merge[\"snp\"].str.split(\":\").str[1]\n",
    "hla_merge[\"bp1\"]=pd.to_numeric(hla_merge[\"bp1\"])"
   ]
  },
  {
   "cell_type": "code",
   "execution_count": 34,
   "metadata": {},
   "outputs": [
    {
     "name": "stderr",
     "output_type": "stream",
     "text": [
      "/nrnb/opt/anaconda3.7/lib/python3.7/site-packages/pandas/core/series.py:679: RuntimeWarning: divide by zero encountered in log10\n",
      "  result = getattr(ufunc, method)(*inputs, **kwargs)\n"
     ]
    }
   ],
   "source": [
    "hla_merge[\"-log10p\"]=-np.log10(hla_merge[\"consensus p-value\"])"
   ]
  },
  {
   "cell_type": "code",
   "execution_count": 35,
   "metadata": {},
   "outputs": [],
   "source": [
    "hla_merge[\"-log10p\"]=hla_merge[\"-log10p\"].replace(np.inf, np.nan)\n",
    "hla_merge[\"-log10p\"]=hla_merge[\"-log10p\"].fillna(hla_merge[\"-log10p\"].max())"
   ]
  },
  {
   "cell_type": "markdown",
   "metadata": {},
   "source": [
    "## Get allele-specific HLA snps"
   ]
  },
  {
   "cell_type": "code",
   "execution_count": 36,
   "metadata": {},
   "outputs": [
    {
     "name": "stdout",
     "output_type": "stream",
     "text": [
      "8\n"
     ]
    }
   ],
   "source": [
    "ase=extract(\"/cellar/users/mpagadal/Data2/projects/germline-immune/hla-deep-dive/associations/raw/hla-conditional/ase/\")"
   ]
  },
  {
   "cell_type": "code",
   "execution_count": 37,
   "metadata": {},
   "outputs": [
    {
     "data": {
      "text/html": [
       "<div>\n",
       "<style scoped>\n",
       "    .dataframe tbody tr th:only-of-type {\n",
       "        vertical-align: middle;\n",
       "    }\n",
       "\n",
       "    .dataframe tbody tr th {\n",
       "        vertical-align: top;\n",
       "    }\n",
       "\n",
       "    .dataframe thead th {\n",
       "        text-align: right;\n",
       "    }\n",
       "</style>\n",
       "<table border=\"1\" class=\"dataframe\">\n",
       "  <thead>\n",
       "    <tr style=\"text-align: right;\">\n",
       "      <th></th>\n",
       "      <th>snp</th>\n",
       "      <th>beta</th>\n",
       "      <th>p</th>\n",
       "      <th>file</th>\n",
       "      <th>iteration</th>\n",
       "    </tr>\n",
       "  </thead>\n",
       "  <tbody>\n",
       "    <tr>\n",
       "      <th>0</th>\n",
       "      <td>5:148346443:G:A</td>\n",
       "      <td>0.117256</td>\n",
       "      <td>1.057200e-07</td>\n",
       "      <td>HLA.DRB1</td>\n",
       "      <td>0</td>\n",
       "    </tr>\n",
       "    <tr>\n",
       "      <th>1</th>\n",
       "      <td>X:153709976:C:T</td>\n",
       "      <td>-0.108363</td>\n",
       "      <td>2.895240e-07</td>\n",
       "      <td>HLA.DRB1</td>\n",
       "      <td>1</td>\n",
       "    </tr>\n",
       "    <tr>\n",
       "      <th>2</th>\n",
       "      <td>16:14909621:C:T</td>\n",
       "      <td>0.293905</td>\n",
       "      <td>4.478530e-07</td>\n",
       "      <td>HLA.DRB1</td>\n",
       "      <td>2</td>\n",
       "    </tr>\n",
       "    <tr>\n",
       "      <th>3</th>\n",
       "      <td>2:169198105:T:C</td>\n",
       "      <td>0.090081</td>\n",
       "      <td>7.703280e-07</td>\n",
       "      <td>HLA.DRB1</td>\n",
       "      <td>3</td>\n",
       "    </tr>\n",
       "    <tr>\n",
       "      <th>4</th>\n",
       "      <td>12:48302860:T:C</td>\n",
       "      <td>-0.184518</td>\n",
       "      <td>1.257360e-06</td>\n",
       "      <td>HLA.DRB1</td>\n",
       "      <td>4</td>\n",
       "    </tr>\n",
       "  </tbody>\n",
       "</table>\n",
       "</div>"
      ],
      "text/plain": [
       "               snp      beta             p      file  iteration\n",
       "0  5:148346443:G:A  0.117256  1.057200e-07  HLA.DRB1          0\n",
       "1  X:153709976:C:T -0.108363  2.895240e-07  HLA.DRB1          1\n",
       "2  16:14909621:C:T  0.293905  4.478530e-07  HLA.DRB1          2\n",
       "3  2:169198105:T:C  0.090081  7.703280e-07  HLA.DRB1          3\n",
       "4  12:48302860:T:C -0.184518  1.257360e-06  HLA.DRB1          4"
      ]
     },
     "execution_count": 37,
     "metadata": {},
     "output_type": "execute_result"
    }
   ],
   "source": [
    "ase.head()"
   ]
  },
  {
   "cell_type": "code",
   "execution_count": 38,
   "metadata": {},
   "outputs": [],
   "source": [
    "# def get_clumps(directory,snp_type):\n",
    "#     '''\n",
    "#     Input: directory with all plink .clumped files to be aggregated\n",
    "#     Output: dataframe with INDEX SNP, p-value, association paramter\n",
    "#     '''\n",
    "#     #get clumped files\n",
    "#     files=os.listdir(directory)\n",
    "#     file_lst=[x for x in files if \".clumped\" in x]\n",
    "    \n",
    "#     if snp_type == \"index\":\n",
    "    \n",
    "#         #iterate through all clumped files and extract index snps\n",
    "#         snps=[]\n",
    "#         assoc=[]\n",
    "#         p=[]\n",
    "\n",
    "#         for x in file_lst:\n",
    "#             file=pd.read_csv(directory+\"/\"+x, delim_whitespace=True)\n",
    "#             for i,row in file.iterrows():\n",
    "#                 snps.append(row[\"SNP\"])\n",
    "#                 p.append(row[\"P\"])\n",
    "#                 assoc.append(x.split(\".clump.clumped\")[0])\n",
    "    \n",
    "#         df=pd.DataFrame({\"snps\":snps,\"file\":assoc,\"p-value\":p})\n",
    "#         return(df)\n",
    "    \n",
    "#     if snp_type == \"all\":\n",
    "#         snps=[]\n",
    "#         indexsnp=[]\n",
    "#         assoc=[]\n",
    "#         p=[]\n",
    "\n",
    "#         for x in file_lst:\n",
    "#             file=pd.read_csv(directory+\"/\"+x, delim_whitespace=True)\n",
    "#             for i,row in file.iterrows():\n",
    "#                 for y in row[\"SP2\"].split(\"(1),\"):\n",
    "#                     snps.append(y)\n",
    "#                     indexsnp.append(row[\"SNP\"])\n",
    "#                     p.append(row[\"P\"])\n",
    "#                     assoc.append(x.split(\".clump.clumped\")[0])\n",
    "                \n",
    "#         df=pd.DataFrame({\"indexsnps\":indexsnp,\"snps\":snps,\"file\":assoc,\"p-value\":p})\n",
    "#         df=df[~(df[\"snps\"]==\"\")]\n",
    "#         df=df[~(df[\"snps\"]==\"NONE\")]\n",
    "#         df[\"snps\"]=df[\"snps\"].str.split(\"(\").str[0]\n",
    "#         return(df)"
   ]
  },
  {
   "cell_type": "code",
   "execution_count": 39,
   "metadata": {},
   "outputs": [],
   "source": [
    "# def compiled(directory):\n",
    "#     files=os.listdir(directory)\n",
    "    \n",
    "#     compiled=pd.DataFrame()\n",
    "    \n",
    "#     for x in files:\n",
    "#         try:\n",
    "#             df=pd.read_csv(directory+\"/\"+x,delimiter=\"\\t\",header=None)\n",
    "#             df_filt=df[df[6]==\"ADD\"]\n",
    "#             df_filt[\"file\"]=x.split(\".sig.snps\")[0]\n",
    "#             compiled=compiled.append(df_filt)\n",
    "#         except:\n",
    "#             print(x)\n",
    "    \n",
    "#     return(compiled)"
   ]
  },
  {
   "cell_type": "code",
   "execution_count": 40,
   "metadata": {},
   "outputs": [],
   "source": [
    "def map_rsid(x):\n",
    "    '''\n",
    "    Input: SNP format (chr:bp:minor:major)\n",
    "    Output: tuple (variant,rsid)\n",
    "    '''\n",
    "    try:\n",
    "        var=\"chr\"+x.split(\":\")[0]+\":g.\"+x.split(\":\")[1]+x.split(\":\")[2]+\">\"+x.split(\":\")[3]\n",
    "        rs=mv.getvariants(var,fields='dbsnp.rsid')[0][\"dbsnp\"][\"rsid\"]\n",
    "    except:\n",
    "        try:\n",
    "            var=\"chr\"+x.split(\":\")[0]+\":g.\"+x.split(\":\")[1]+x.split(\":\")[3]+\">\"+x.split(\":\")[2]\n",
    "            rs=mv.getvariants(var,fields='dbsnp.rsid')[0][\"dbsnp\"][\"rsid\"]\n",
    "        except:\n",
    "            var=\"chr\"+x.split(\":\")[0]+\":g.\"+x.split(\":\")[1]+x.split(\":\")[3]+\">\"+x.split(\":\")[2]\n",
    "            rs=\"\"\n",
    "    \n",
    "    return (var,rs)"
   ]
  },
  {
   "cell_type": "code",
   "execution_count": 41,
   "metadata": {},
   "outputs": [],
   "source": [
    "# ase=get_clumps(\"/cellar/users/mpagadal/Data/projects/germline-immune/hla-deep-dive/clump/hla-ase\",\"index\")"
   ]
  },
  {
   "cell_type": "code",
   "execution_count": 42,
   "metadata": {},
   "outputs": [],
   "source": [
    "ase[\"chr\"]=ase[\"snp\"].str.split(\":\").str[0]\n",
    "ase[\"bp1\"]=ase[\"snp\"].str.split(\":\").str[1]\n",
    "ase[\"bp1\"]=pd.to_numeric(ase[\"bp1\"])\n",
    "ase[\"-log10\"]=-np.log10(ase[\"p\"])\n",
    "ase[\"-log10\"]=pd.to_numeric(ase[\"-log10\"])"
   ]
  },
  {
   "cell_type": "code",
   "execution_count": 43,
   "metadata": {},
   "outputs": [],
   "source": [
    "#get chromosome 6 variants\n",
    "ase6=ase[ase[\"chr\"]==\"6\"]"
   ]
  },
  {
   "cell_type": "code",
   "execution_count": 44,
   "metadata": {},
   "outputs": [
    {
     "data": {
      "text/html": [
       "<div>\n",
       "<style scoped>\n",
       "    .dataframe tbody tr th:only-of-type {\n",
       "        vertical-align: middle;\n",
       "    }\n",
       "\n",
       "    .dataframe tbody tr th {\n",
       "        vertical-align: top;\n",
       "    }\n",
       "\n",
       "    .dataframe thead th {\n",
       "        text-align: right;\n",
       "    }\n",
       "</style>\n",
       "<table border=\"1\" class=\"dataframe\">\n",
       "  <thead>\n",
       "    <tr style=\"text-align: right;\">\n",
       "      <th></th>\n",
       "      <th>snp</th>\n",
       "      <th>beta</th>\n",
       "      <th>p</th>\n",
       "      <th>file</th>\n",
       "      <th>iteration</th>\n",
       "      <th>chr</th>\n",
       "      <th>bp1</th>\n",
       "      <th>-log10</th>\n",
       "    </tr>\n",
       "  </thead>\n",
       "  <tbody>\n",
       "    <tr>\n",
       "      <th>0</th>\n",
       "      <td>6:32580657:T:C</td>\n",
       "      <td>0.261701</td>\n",
       "      <td>2.299240e-36</td>\n",
       "      <td>HLA.DQA1</td>\n",
       "      <td>0</td>\n",
       "      <td>6</td>\n",
       "      <td>32580657</td>\n",
       "      <td>35.638416</td>\n",
       "    </tr>\n",
       "    <tr>\n",
       "      <th>0</th>\n",
       "      <td>6:31239896:T:C</td>\n",
       "      <td>-0.281165</td>\n",
       "      <td>6.027040e-24</td>\n",
       "      <td>HLA.C</td>\n",
       "      <td>0</td>\n",
       "      <td>6</td>\n",
       "      <td>31239896</td>\n",
       "      <td>23.219896</td>\n",
       "    </tr>\n",
       "    <tr>\n",
       "      <th>1</th>\n",
       "      <td>6:31243767:G:C</td>\n",
       "      <td>0.146062</td>\n",
       "      <td>5.002100e-11</td>\n",
       "      <td>HLA.C</td>\n",
       "      <td>1</td>\n",
       "      <td>6</td>\n",
       "      <td>31243767</td>\n",
       "      <td>10.300848</td>\n",
       "    </tr>\n",
       "    <tr>\n",
       "      <th>5</th>\n",
       "      <td>6:7933211:G:A</td>\n",
       "      <td>0.375120</td>\n",
       "      <td>7.672040e-07</td>\n",
       "      <td>HLA.C</td>\n",
       "      <td>5</td>\n",
       "      <td>6</td>\n",
       "      <td>7933211</td>\n",
       "      <td>6.115089</td>\n",
       "    </tr>\n",
       "    <tr>\n",
       "      <th>0</th>\n",
       "      <td>6:32620572:A:G</td>\n",
       "      <td>0.488599</td>\n",
       "      <td>2.578730e-111</td>\n",
       "      <td>HLA.DQB1</td>\n",
       "      <td>0</td>\n",
       "      <td>6</td>\n",
       "      <td>32620572</td>\n",
       "      <td>110.588594</td>\n",
       "    </tr>\n",
       "    <tr>\n",
       "      <th>1</th>\n",
       "      <td>6:32651641:G:T</td>\n",
       "      <td>-0.274820</td>\n",
       "      <td>9.728810e-20</td>\n",
       "      <td>HLA.DQB1</td>\n",
       "      <td>1</td>\n",
       "      <td>6</td>\n",
       "      <td>32651641</td>\n",
       "      <td>19.011940</td>\n",
       "    </tr>\n",
       "    <tr>\n",
       "      <th>2</th>\n",
       "      <td>6:32681161:T:G</td>\n",
       "      <td>0.166554</td>\n",
       "      <td>4.317680e-12</td>\n",
       "      <td>HLA.DQB1</td>\n",
       "      <td>2</td>\n",
       "      <td>6</td>\n",
       "      <td>32681161</td>\n",
       "      <td>11.364750</td>\n",
       "    </tr>\n",
       "    <tr>\n",
       "      <th>0</th>\n",
       "      <td>6:31931137:T:C</td>\n",
       "      <td>0.126899</td>\n",
       "      <td>2.565020e-07</td>\n",
       "      <td>HLA.B</td>\n",
       "      <td>0</td>\n",
       "      <td>6</td>\n",
       "      <td>31931137</td>\n",
       "      <td>6.590909</td>\n",
       "    </tr>\n",
       "    <tr>\n",
       "      <th>0</th>\n",
       "      <td>6:33077271:A:G</td>\n",
       "      <td>-0.183482</td>\n",
       "      <td>4.143040e-12</td>\n",
       "      <td>HLA.DPB1</td>\n",
       "      <td>0</td>\n",
       "      <td>6</td>\n",
       "      <td>33077271</td>\n",
       "      <td>11.382681</td>\n",
       "    </tr>\n",
       "    <tr>\n",
       "      <th>0</th>\n",
       "      <td>6:29910358:G:C</td>\n",
       "      <td>-0.235401</td>\n",
       "      <td>1.523340e-31</td>\n",
       "      <td>HLA.A</td>\n",
       "      <td>0</td>\n",
       "      <td>6</td>\n",
       "      <td>29910358</td>\n",
       "      <td>30.817203</td>\n",
       "    </tr>\n",
       "  </tbody>\n",
       "</table>\n",
       "</div>"
      ],
      "text/plain": [
       "              snp      beta              p      file  iteration chr       bp1  \\\n",
       "0  6:32580657:T:C  0.261701   2.299240e-36  HLA.DQA1          0   6  32580657   \n",
       "0  6:31239896:T:C -0.281165   6.027040e-24     HLA.C          0   6  31239896   \n",
       "1  6:31243767:G:C  0.146062   5.002100e-11     HLA.C          1   6  31243767   \n",
       "5   6:7933211:G:A  0.375120   7.672040e-07     HLA.C          5   6   7933211   \n",
       "0  6:32620572:A:G  0.488599  2.578730e-111  HLA.DQB1          0   6  32620572   \n",
       "1  6:32651641:G:T -0.274820   9.728810e-20  HLA.DQB1          1   6  32651641   \n",
       "2  6:32681161:T:G  0.166554   4.317680e-12  HLA.DQB1          2   6  32681161   \n",
       "0  6:31931137:T:C  0.126899   2.565020e-07     HLA.B          0   6  31931137   \n",
       "0  6:33077271:A:G -0.183482   4.143040e-12  HLA.DPB1          0   6  33077271   \n",
       "0  6:29910358:G:C -0.235401   1.523340e-31     HLA.A          0   6  29910358   \n",
       "\n",
       "       -log10  \n",
       "0   35.638416  \n",
       "0   23.219896  \n",
       "1   10.300848  \n",
       "5    6.115089  \n",
       "0  110.588594  \n",
       "1   19.011940  \n",
       "2   11.364750  \n",
       "0    6.590909  \n",
       "0   11.382681  \n",
       "0   30.817203  "
      ]
     },
     "execution_count": 44,
     "metadata": {},
     "output_type": "execute_result"
    }
   ],
   "source": [
    "ase6"
   ]
  },
  {
   "cell_type": "code",
   "execution_count": 45,
   "metadata": {},
   "outputs": [],
   "source": [
    "# ase_compiled=compiled(\"/cellar/users/mpagadal/Data/projects/germline-immune/hla-deep-dive/associations/filtered/hla-ase\")"
   ]
  },
  {
   "cell_type": "code",
   "execution_count": 46,
   "metadata": {},
   "outputs": [],
   "source": [
    "# ase_compiled=ase_compiled.rename(columns={2:\"snps\",8:\"beta\",9:\"SE\",11:\"P\",3:\"REF\",4:\"ALT\"})"
   ]
  },
  {
   "cell_type": "code",
   "execution_count": 47,
   "metadata": {},
   "outputs": [],
   "source": [
    "# ase6=pd.merge(ase6,ase_compiled[[\"snps\",\"beta\",\"SE\",\"P\",\"file\",\"REF\",\"ALT\"]],on=[\"snps\",\"file\"],how=\"left\")"
   ]
  },
  {
   "cell_type": "code",
   "execution_count": 48,
   "metadata": {},
   "outputs": [],
   "source": [
    "# ase6.head()"
   ]
  },
  {
   "cell_type": "code",
   "execution_count": 49,
   "metadata": {},
   "outputs": [],
   "source": [
    "n=ase6.file.unique().tolist()+hla_merge.file.unique().tolist()\n",
    "color=iter(cm.rainbow(np.linspace(0,1,len(n))))\n",
    "\n",
    "color_dict={}\n",
    "for t, c in zip(n, color):\n",
    "    color_dict[t]=c"
   ]
  },
  {
   "cell_type": "code",
   "execution_count": 50,
   "metadata": {},
   "outputs": [
    {
     "data": {
      "image/png": "[encoded data removed]",
      "text/plain": [
       "<Figure size 720x360 with 1 Axes>"
      ]
     },
     "metadata": {
      "needs_background": "light"
     },
     "output_type": "display_data"
    }
   ],
   "source": [
    "f=plt.figure(figsize=(10,5))\n",
    "for t in hla_merge.file.unique():\n",
    "    plt.scatter(hla_merge[hla_merge.file==t][\"bp1\"], hla_merge[hla_merge.file==t][\"-log10p\"],label=t,color=color_dict[t])\n",
    "    plt.vlines(x=hla_merge[hla_merge.file==t][\"bp1\"], ymin=0,ymax=hla_merge[hla_merge.file==t][\"-log10p\"], color=color_dict[t], alpha=0.7, linewidth=2)\n",
    "plt.legend()\n",
    "plt.ylim([0, 300])\n",
    "plt.xlim([26000000, 33000000])\n",
    "plt.ylabel(\"-log10 p value\")\n",
    "plt.xlabel(\"chromosome 6\")\n",
    "plt.savefig(\"../plots/hla.cond.pdf\")"
   ]
  },
  {
   "cell_type": "code",
   "execution_count": 51,
   "metadata": {},
   "outputs": [
    {
     "data": {
      "image/png": "[encoded data removed]",
      "text/plain": [
       "<Figure size 720x360 with 1 Axes>"
      ]
     },
     "metadata": {
      "needs_background": "light"
     },
     "output_type": "display_data"
    }
   ],
   "source": [
    "f=plt.figure(figsize=(10,5))\n",
    "for t in ase6.file.unique():\n",
    "    plt.scatter(ase6[ase6.file==t][\"bp1\"], ase6[ase6.file==t][\"-log10\"],label=t,color=color_dict[t])\n",
    "    plt.vlines(x=ase6[ase6.file==t][\"bp1\"], ymin=0,ymax=ase6[ase6.file==t][\"-log10\"], color=color_dict[t], alpha=0.7, linewidth=2)\n",
    "plt.legend()\n",
    "plt.ylim([0, 300])\n",
    "plt.xlim([26000000, 33000000])\n",
    "plt.ylabel(\"-log10 p value\")\n",
    "plt.savefig(\"../plots/hla.ase.pdf\")"
   ]
  },
  {
   "cell_type": "markdown",
   "metadata": {},
   "source": [
    "## Make dataframes"
   ]
  },
  {
   "cell_type": "code",
   "execution_count": 52,
   "metadata": {},
   "outputs": [
    {
     "name": "stderr",
     "output_type": "stream",
     "text": [
      "/nrnb/opt/anaconda3.7/lib/python3.7/site-packages/ipykernel_launcher.py:3: SettingWithCopyWarning: \n",
      "A value is trying to be set on a copy of a slice from a DataFrame.\n",
      "Try using .loc[row_indexer,col_indexer] = value instead\n",
      "\n",
      "See the caveats in the documentation: https://pandas.pydata.org/pandas-docs/stable/user_guide/indexing.html#returning-a-view-versus-a-copy\n",
      "  This is separate from the ipykernel package so we can avoid doing imports until\n"
     ]
    }
   ],
   "source": [
    "ase6_filt=ase6[[\"snp\",\"file\",\"beta\",\"p\"]]\n",
    "ase6_filt.columns=[\"snps\",\"file\",\"beta\",\"p-value\"]\n",
    "ase6_filt[\"method\"]=\"ase\""
   ]
  },
  {
   "cell_type": "code",
   "execution_count": 53,
   "metadata": {},
   "outputs": [
    {
     "name": "stderr",
     "output_type": "stream",
     "text": [
      "/nrnb/opt/anaconda3.7/lib/python3.7/site-packages/ipykernel_launcher.py:3: SettingWithCopyWarning: \n",
      "A value is trying to be set on a copy of a slice from a DataFrame.\n",
      "Try using .loc[row_indexer,col_indexer] = value instead\n",
      "\n",
      "See the caveats in the documentation: https://pandas.pydata.org/pandas-docs/stable/user_guide/indexing.html#returning-a-view-versus-a-copy\n",
      "  This is separate from the ipykernel package so we can avoid doing imports until\n"
     ]
    }
   ],
   "source": [
    "cond_filt=hla_merge[[\"snp\",\"file\",\"beta mean\",\"consensus p-value\"]]\n",
    "cond_filt.columns=[\"snps\",\"file\",\"beta\",\"p-value\"]\n",
    "cond_filt[\"method\"]=\"conditional\""
   ]
  },
  {
   "cell_type": "code",
   "execution_count": 54,
   "metadata": {},
   "outputs": [],
   "source": [
    "total_hla=ase6_filt.append(cond_filt)"
   ]
  },
  {
   "cell_type": "code",
   "execution_count": 55,
   "metadata": {},
   "outputs": [],
   "source": [
    "total_hla=total_hla.drop_duplicates()"
   ]
  },
  {
   "cell_type": "code",
   "execution_count": 56,
   "metadata": {
    "scrolled": true
   },
   "outputs": [
    {
     "name": "stdout",
     "output_type": "stream",
     "text": [
      "querying 1-1...done.\n",
      "querying 1-1...done.\n",
      "querying 1-1...done.\n",
      "querying 1-1...done.\n",
      "querying 1-1...done.\n",
      "querying 1-1...done.\n",
      "querying 1-1...done.\n",
      "querying 1-1...done.\n",
      "querying 1-1...done.\n",
      "querying 1-1...done.\n",
      "querying 1-1...done.\n",
      "querying 1-1...done.\n",
      "querying 1-1...done.\n",
      "querying 1-1...done.\n",
      "querying 1-1...done.\n",
      "querying 1-1...done.\n",
      "querying 1-1...done.\n",
      "querying 1-1...done.\n",
      "querying 1-1...done.\n",
      "querying 1-1...done.\n",
      "querying 1-1...done.\n",
      "querying 1-1...done.\n",
      "querying 1-1...done.\n",
      "querying 1-1...done.\n",
      "querying 1-1...done.\n",
      "querying 1-1...done.\n",
      "querying 1-1...done.\n",
      "querying 1-1...done.\n",
      "querying 1-1...done.\n",
      "querying 1-1...done.\n",
      "querying 1-1...done.\n",
      "querying 1-1...done.\n",
      "querying 1-1...done.\n",
      "querying 1-1...done.\n",
      "querying 1-1...done.\n",
      "querying 1-1...done.\n",
      "querying 1-1...done.\n",
      "querying 1-1...done.\n",
      "querying 1-1...done.\n",
      "querying 1-1...done.\n",
      "querying 1-1...done.\n",
      "querying 1-1...done.\n",
      "querying 1-1...done.\n",
      "querying 1-1...done.\n",
      "querying 1-1...done.\n",
      "querying 1-1...done.\n",
      "querying 1-1...done.\n",
      "querying 1-1...done.\n",
      "querying 1-1...done.\n",
      "querying 1-1...done.\n",
      "querying 1-1...done.\n",
      "querying 1-1...done.\n",
      "querying 1-1...done.\n",
      "querying 1-1...done.\n",
      "querying 1-1...done.\n",
      "querying 1-1...done.\n",
      "querying 1-1...done.\n",
      "querying 1-1...done.\n",
      "querying 1-1...done.\n",
      "querying 1-1...done.\n",
      "querying 1-1...done.\n",
      "querying 1-1...done.\n",
      "querying 1-1...done.\n",
      "querying 1-1...done.\n",
      "querying 1-1...done.\n",
      "querying 1-1...done.\n",
      "querying 1-1...done.\n",
      "querying 1-1...done.\n",
      "querying 1-1...done.\n",
      "querying 1-1...done.\n",
      "querying 1-1...done.\n",
      "querying 1-1...done.\n",
      "querying 1-1...done.\n",
      "querying 1-1...done.\n",
      "querying 1-1...done.\n",
      "querying 1-1...done.\n",
      "querying 1-1...done.\n",
      "querying 1-1...done.\n",
      "querying 1-1...done.\n",
      "querying 1-1...done.\n",
      "querying 1-1...done.\n",
      "querying 1-1...done.\n",
      "querying 1-1...done.\n",
      "querying 1-1...done.\n",
      "querying 1-1...done.\n",
      "querying 1-1...done.\n",
      "querying 1-1...done.\n",
      "querying 1-1...done.\n",
      "querying 1-1...done.\n",
      "querying 1-1...done.\n",
      "querying 1-1...done.\n",
      "querying 1-1...done.\n",
      "querying 1-1...done.\n",
      "querying 1-1...done.\n",
      "querying 1-1...done.\n",
      "querying 1-1...done.\n",
      "querying 1-1...done.\n",
      "querying 1-1...done.\n",
      "querying 1-1...done.\n",
      "querying 1-1...done.\n",
      "querying 1-1...done.\n",
      "querying 1-1...done.\n",
      "querying 1-1...done.\n",
      "querying 1-1...done.\n",
      "querying 1-1...done.\n",
      "querying 1-1...done.\n",
      "querying 1-1...done.\n",
      "querying 1-1...done.\n",
      "querying 1-1...done.\n",
      "querying 1-1...done.\n",
      "querying 1-1...done.\n",
      "querying 1-1...done.\n",
      "querying 1-1...done.\n",
      "querying 1-1...done.\n",
      "querying 1-1...done.\n",
      "querying 1-1...done.\n",
      "querying 1-1...done.\n",
      "querying 1-1...done.\n",
      "querying 1-1...done.\n",
      "querying 1-1...done.\n",
      "querying 1-1...done.\n",
      "querying 1-1...done.\n",
      "querying 1-1...done.\n",
      "querying 1-1...done.\n",
      "querying 1-1...done.\n",
      "querying 1-1...done.\n",
      "querying 1-1...done.\n",
      "querying 1-1...done.\n",
      "querying 1-1...done.\n",
      "querying 1-1...done.\n",
      "querying 1-1...done.\n",
      "querying 1-1...done.\n",
      "querying 1-1...done.\n",
      "querying 1-1...done.\n",
      "querying 1-1...done.\n",
      "querying 1-1...done.\n",
      "querying 1-1...done.\n",
      "querying 1-1...done.\n",
      "querying 1-1...done.\n",
      "querying 1-1...done.\n",
      "querying 1-1...done.\n",
      "querying 1-1...done.\n"
     ]
    }
   ],
   "source": [
    "#map to rsid\n",
    "total_hla['variant'] = total_hla['snps'].apply(lambda x: map_rsid(x)[0])\n",
    "total_hla['rsid'] = total_hla['snps'].apply(lambda x: map_rsid(x)[1])"
   ]
  },
  {
   "cell_type": "code",
   "execution_count": 57,
   "metadata": {},
   "outputs": [
    {
     "data": {
      "text/plain": [
       "40"
      ]
     },
     "execution_count": 57,
     "metadata": {},
     "output_type": "execute_result"
    }
   ],
   "source": [
    "len(cond_filt.drop_duplicates())"
   ]
  },
  {
   "cell_type": "code",
   "execution_count": 58,
   "metadata": {},
   "outputs": [
    {
     "data": {
      "text/plain": [
       "10"
      ]
     },
     "execution_count": 58,
     "metadata": {},
     "output_type": "execute_result"
    }
   ],
   "source": [
    "len(ase6_filt.drop_duplicates())"
   ]
  },
  {
   "cell_type": "code",
   "execution_count": 59,
   "metadata": {},
   "outputs": [],
   "source": [
    "total_hla.to_csv(\"/cellar/users/mpagadal/Data/projects/germline-immune/snp-tables/immune-microenvironment-hla.tsv\",index=None,sep=\"\\t\")"
   ]
  },
  {
   "cell_type": "markdown",
   "metadata": {},
   "source": [
    "## Extract file"
   ]
  },
  {
   "cell_type": "code",
   "execution_count": 60,
   "metadata": {},
   "outputs": [],
   "source": [
    "snps=total_hla[\"snps\"].tolist()+[x.rsplit(\":\",2)[0]+\":\"+x.split(\":\")[3]+\":\"+x.split(\":\")[2] for x in total_hla[\"snps\"].tolist()]"
   ]
  },
  {
   "cell_type": "code",
   "execution_count": 61,
   "metadata": {},
   "outputs": [],
   "source": [
    "extract=pd.DataFrame({\"snps\":snps})"
   ]
  },
  {
   "cell_type": "code",
   "execution_count": 62,
   "metadata": {},
   "outputs": [],
   "source": [
    "extract.to_csv(\"/cellar/users/mpagadal/Data/projects/germline-immune/snp-tables/extract-hla-variants.txt\",header=None,sep=\"\\t\",index=None)"
   ]
  },
  {
   "cell_type": "markdown",
   "metadata": {},
   "source": [
    "## Export for LDtrait"
   ]
  },
  {
   "cell_type": "code",
   "execution_count": 63,
   "metadata": {},
   "outputs": [
    {
     "name": "stdout",
     "output_type": "stream",
     "text": [
      "10\n",
      "10\n",
      "10\n",
      "10\n",
      "10\n"
     ]
    }
   ],
   "source": [
    "for num,data in enumerate(np.array_split(total_hla[\"rsid\"], 5)):\n",
    "    print(len(data))\n",
    "    data.to_csv(\"/cellar/users/mpagadal/Data/projects/germline-immune/hla-deep-dive/LDtrait/hla.LDlink_input_\"+str(num)+\".tsv\",header=None,index=None,sep=\"\\t\")"
   ]
  },
  {
   "cell_type": "markdown",
   "metadata": {},
   "source": [
    "## Get LDtrait output"
   ]
  },
  {
   "cell_type": "code",
   "execution_count": 64,
   "metadata": {},
   "outputs": [],
   "source": [
    "directory=\"/cellar/users/mpagadal/Data/projects/germline-immune/hla-deep-dive/LDtrait/\""
   ]
  },
  {
   "cell_type": "code",
   "execution_count": 65,
   "metadata": {},
   "outputs": [],
   "source": [
    "files=[x for x in os.listdir(directory) if \"hla_LDlink_output_\" in x]"
   ]
  },
  {
   "cell_type": "code",
   "execution_count": 66,
   "metadata": {},
   "outputs": [],
   "source": [
    "total_gwas=pd.DataFrame()\n",
    "\n",
    "for x in files:\n",
    "    gwas=pd.read_csv(directory+x,delimiter=\"\\t\")\n",
    "    total_gwas=total_gwas.append(gwas)"
   ]
  },
  {
   "cell_type": "code",
   "execution_count": 67,
   "metadata": {},
   "outputs": [],
   "source": [
    "mp_trait={}\n",
    "\n",
    "for x in total_gwas[\"Query\"].unique():\n",
    "    mp_trait[x]=total_gwas[total_gwas[\"Query\"]==x][\"GWAS Trait\"].unique().tolist()\n",
    "    \n",
    "    "
   ]
  },
  {
   "cell_type": "code",
   "execution_count": 79,
   "metadata": {},
   "outputs": [
    {
     "data": {
      "text/html": [
       "<div>\n",
       "<style scoped>\n",
       "    .dataframe tbody tr th:only-of-type {\n",
       "        vertical-align: middle;\n",
       "    }\n",
       "\n",
       "    .dataframe tbody tr th {\n",
       "        vertical-align: top;\n",
       "    }\n",
       "\n",
       "    .dataframe thead th {\n",
       "        text-align: right;\n",
       "    }\n",
       "</style>\n",
       "<table border=\"1\" class=\"dataframe\">\n",
       "  <thead>\n",
       "    <tr style=\"text-align: right;\">\n",
       "      <th></th>\n",
       "      <th>Query</th>\n",
       "      <th>GWAS Trait</th>\n",
       "      <th>RS Number</th>\n",
       "      <th>Position (GRCh37)</th>\n",
       "      <th>Alleles</th>\n",
       "      <th>R2</th>\n",
       "      <th>D'</th>\n",
       "      <th>Risk Allele</th>\n",
       "      <th>Effect Size (95% CI)</th>\n",
       "      <th>Beta or OR</th>\n",
       "      <th>P-value</th>\n",
       "    </tr>\n",
       "  </thead>\n",
       "  <tbody>\n",
       "    <tr>\n",
       "      <th>0</th>\n",
       "      <td>rs3130510</td>\n",
       "      <td>Idiopathic membranous nephropathy</td>\n",
       "      <td>rs2233956</td>\n",
       "      <td>chr6:31081205</td>\n",
       "      <td>C=0.152, T=0.848</td>\n",
       "      <td>0.575574</td>\n",
       "      <td>0.878388</td>\n",
       "      <td>0.1813</td>\n",
       "      <td>2.770000</td>\n",
       "      <td>NaN</td>\n",
       "      <td>6.000000e-48</td>\n",
       "    </tr>\n",
       "    <tr>\n",
       "      <th>1</th>\n",
       "      <td>rs3130510</td>\n",
       "      <td>Lung cancer in ever smokers</td>\n",
       "      <td>rs2233956</td>\n",
       "      <td>chr6:31081205</td>\n",
       "      <td>C=0.152, T=0.848</td>\n",
       "      <td>0.575574</td>\n",
       "      <td>0.878388</td>\n",
       "      <td>0.167124691</td>\n",
       "      <td>1.173029</td>\n",
       "      <td>1.128692308-1.219106364</td>\n",
       "      <td>5.000000e-16</td>\n",
       "    </tr>\n",
       "    <tr>\n",
       "      <th>2</th>\n",
       "      <td>rs3130510</td>\n",
       "      <td>Psoriasis</td>\n",
       "      <td>rs1576</td>\n",
       "      <td>chr6:31110391</td>\n",
       "      <td>C=0.314, G=0.686</td>\n",
       "      <td>0.501731</td>\n",
       "      <td>0.977570</td>\n",
       "      <td>NR</td>\n",
       "      <td>1.670000</td>\n",
       "      <td>1.41‐1.99</td>\n",
       "      <td>2.000000e-07</td>\n",
       "    </tr>\n",
       "    <tr>\n",
       "      <th>3</th>\n",
       "      <td>rs3130510</td>\n",
       "      <td>Nevirapine-induced rash</td>\n",
       "      <td>rs1265112</td>\n",
       "      <td>chr6:31118019</td>\n",
       "      <td>C=0.314, T=0.686</td>\n",
       "      <td>0.501731</td>\n",
       "      <td>0.977570</td>\n",
       "      <td>0.06</td>\n",
       "      <td>4.360000</td>\n",
       "      <td>2.58-7.36</td>\n",
       "      <td>1.000000e-08</td>\n",
       "    </tr>\n",
       "    <tr>\n",
       "      <th>4</th>\n",
       "      <td>rs3130510</td>\n",
       "      <td>Epstein-Barr virus copy number in lymphoblasto...</td>\n",
       "      <td>rs1062630</td>\n",
       "      <td>chr6:31138107</td>\n",
       "      <td>A=0.201, G=0.799</td>\n",
       "      <td>0.957014</td>\n",
       "      <td>1.000000</td>\n",
       "      <td>NR</td>\n",
       "      <td>NaN</td>\n",
       "      <td>NaN</td>\n",
       "      <td>1.000000e-06</td>\n",
       "    </tr>\n",
       "    <tr>\n",
       "      <th>...</th>\n",
       "      <td>...</td>\n",
       "      <td>...</td>\n",
       "      <td>...</td>\n",
       "      <td>...</td>\n",
       "      <td>...</td>\n",
       "      <td>...</td>\n",
       "      <td>...</td>\n",
       "      <td>...</td>\n",
       "      <td>...</td>\n",
       "      <td>...</td>\n",
       "      <td>...</td>\n",
       "    </tr>\n",
       "    <tr>\n",
       "      <th>161</th>\n",
       "      <td>rs9260555</td>\n",
       "      <td>Heel bone mineral density</td>\n",
       "      <td>rs9260426</td>\n",
       "      <td>chr6:29919109</td>\n",
       "      <td>A=0.448, G=0.552</td>\n",
       "      <td>0.668722</td>\n",
       "      <td>0.934258</td>\n",
       "      <td>NR</td>\n",
       "      <td>0.022923</td>\n",
       "      <td>0.019-0.027</td>\n",
       "      <td>6.000000e-27</td>\n",
       "    </tr>\n",
       "    <tr>\n",
       "      <th>162</th>\n",
       "      <td>rs9260555</td>\n",
       "      <td>Heel bone mineral density</td>\n",
       "      <td>rs7747253</td>\n",
       "      <td>chr6:29919779</td>\n",
       "      <td>A=0.557, C=0.443</td>\n",
       "      <td>0.676383</td>\n",
       "      <td>0.930191</td>\n",
       "      <td>0.499099</td>\n",
       "      <td>0.022146</td>\n",
       "      <td>0.019-0.026</td>\n",
       "      <td>1.000000e-33</td>\n",
       "    </tr>\n",
       "    <tr>\n",
       "      <th>163</th>\n",
       "      <td>rs9260555</td>\n",
       "      <td>Multiple sclerosis</td>\n",
       "      <td>rs9260489</td>\n",
       "      <td>chr6:29920332</td>\n",
       "      <td>G=0.626, T=0.374</td>\n",
       "      <td>0.917709</td>\n",
       "      <td>0.978423</td>\n",
       "      <td>0.45</td>\n",
       "      <td>1.210000</td>\n",
       "      <td>NaN</td>\n",
       "      <td>1.000000e-11</td>\n",
       "    </tr>\n",
       "    <tr>\n",
       "      <th>164</th>\n",
       "      <td>rs9260555</td>\n",
       "      <td>Beta-2 microglubulin plasma levels</td>\n",
       "      <td>rs9260489</td>\n",
       "      <td>chr6:29920332</td>\n",
       "      <td>G=0.626, T=0.374</td>\n",
       "      <td>0.917709</td>\n",
       "      <td>0.978423</td>\n",
       "      <td>0.58</td>\n",
       "      <td>0.040000</td>\n",
       "      <td>0.032-0.048</td>\n",
       "      <td>2.000000e-22</td>\n",
       "    </tr>\n",
       "    <tr>\n",
       "      <th>165</th>\n",
       "      <td>rs9260555</td>\n",
       "      <td>Heel bone mineral density</td>\n",
       "      <td>rs7768235</td>\n",
       "      <td>chr6:29923248</td>\n",
       "      <td>C=0.568, G=0.432</td>\n",
       "      <td>0.589582</td>\n",
       "      <td>0.849378</td>\n",
       "      <td>NR</td>\n",
       "      <td>0.021926</td>\n",
       "      <td>0.018-0.026</td>\n",
       "      <td>7.000000e-25</td>\n",
       "    </tr>\n",
       "  </tbody>\n",
       "</table>\n",
       "<p>1174 rows × 11 columns</p>\n",
       "</div>"
      ],
      "text/plain": [
       "         Query                                         GWAS Trait  RS Number  \\\n",
       "0    rs3130510                  Idiopathic membranous nephropathy  rs2233956   \n",
       "1    rs3130510                        Lung cancer in ever smokers  rs2233956   \n",
       "2    rs3130510                                          Psoriasis     rs1576   \n",
       "3    rs3130510                            Nevirapine-induced rash  rs1265112   \n",
       "4    rs3130510  Epstein-Barr virus copy number in lymphoblasto...  rs1062630   \n",
       "..         ...                                                ...        ...   \n",
       "161  rs9260555                          Heel bone mineral density  rs9260426   \n",
       "162  rs9260555                          Heel bone mineral density  rs7747253   \n",
       "163  rs9260555                                 Multiple sclerosis  rs9260489   \n",
       "164  rs9260555                 Beta-2 microglubulin plasma levels  rs9260489   \n",
       "165  rs9260555                          Heel bone mineral density  rs7768235   \n",
       "\n",
       "    Position (GRCh37)           Alleles        R2        D'  Risk Allele  \\\n",
       "0       chr6:31081205  C=0.152, T=0.848  0.575574  0.878388       0.1813   \n",
       "1       chr6:31081205  C=0.152, T=0.848  0.575574  0.878388  0.167124691   \n",
       "2       chr6:31110391  C=0.314, G=0.686  0.501731  0.977570           NR   \n",
       "3       chr6:31118019  C=0.314, T=0.686  0.501731  0.977570         0.06   \n",
       "4       chr6:31138107  A=0.201, G=0.799  0.957014  1.000000           NR   \n",
       "..                ...               ...       ...       ...          ...   \n",
       "161     chr6:29919109  A=0.448, G=0.552  0.668722  0.934258           NR   \n",
       "162     chr6:29919779  A=0.557, C=0.443  0.676383  0.930191     0.499099   \n",
       "163     chr6:29920332  G=0.626, T=0.374  0.917709  0.978423         0.45   \n",
       "164     chr6:29920332  G=0.626, T=0.374  0.917709  0.978423         0.58   \n",
       "165     chr6:29923248  C=0.568, G=0.432  0.589582  0.849378           NR   \n",
       "\n",
       "     Effect Size (95% CI)               Beta or OR       P-value  \n",
       "0                2.770000                      NaN  6.000000e-48  \n",
       "1                1.173029  1.128692308-1.219106364  5.000000e-16  \n",
       "2                1.670000                1.41‐1.99  2.000000e-07  \n",
       "3                4.360000                2.58-7.36  1.000000e-08  \n",
       "4                     NaN                      NaN  1.000000e-06  \n",
       "..                    ...                      ...           ...  \n",
       "161              0.022923              0.019-0.027  6.000000e-27  \n",
       "162              0.022146              0.019-0.026  1.000000e-33  \n",
       "163              1.210000                      NaN  1.000000e-11  \n",
       "164              0.040000              0.032-0.048  2.000000e-22  \n",
       "165              0.021926              0.018-0.026  7.000000e-25  \n",
       "\n",
       "[1174 rows x 11 columns]"
      ]
     },
     "execution_count": 79,
     "metadata": {},
     "output_type": "execute_result"
    }
   ],
   "source": [
    "total_gwas"
   ]
  },
  {
   "cell_type": "markdown",
   "metadata": {},
   "source": [
    "## Plot GWAS traits"
   ]
  },
  {
   "cell_type": "code",
   "execution_count": 69,
   "metadata": {},
   "outputs": [],
   "source": [
    "g=[]\n",
    "c=[]\n",
    "\n",
    "for x in total_gwas[\"GWAS Trait\"].unique():\n",
    "    g.append(x)\n",
    "    c.append(len(total_gwas[total_gwas[\"GWAS Trait\"]==x][\"Query\"].unique()))"
   ]
  },
  {
   "cell_type": "code",
   "execution_count": 70,
   "metadata": {},
   "outputs": [],
   "source": [
    "gwas_counts=pd.DataFrame({\"gwas\":g,\"counts\":c})\n",
    "gwas_counts=gwas_counts.sort_values(by=\"counts\",ascending=False)"
   ]
  },
  {
   "cell_type": "code",
   "execution_count": 71,
   "metadata": {},
   "outputs": [],
   "source": [
    "gwas_counts[\"counts\"]=gwas_counts[\"counts\"]"
   ]
  },
  {
   "cell_type": "code",
   "execution_count": 72,
   "metadata": {},
   "outputs": [],
   "source": [
    "gwas_counts_filt=gwas_counts[gwas_counts[\"counts\"]>5]"
   ]
  },
  {
   "cell_type": "code",
   "execution_count": 73,
   "metadata": {},
   "outputs": [
    {
     "name": "stderr",
     "output_type": "stream",
     "text": [
      "/nrnb/opt/anaconda3.7/lib/python3.7/site-packages/ipykernel_launcher.py:1: SettingWithCopyWarning: \n",
      "A value is trying to be set on a copy of a slice from a DataFrame.\n",
      "Try using .loc[row_indexer,col_indexer] = value instead\n",
      "\n",
      "See the caveats in the documentation: https://pandas.pydata.org/pandas-docs/stable/user_guide/indexing.html#returning-a-view-versus-a-copy\n",
      "  \"\"\"Entry point for launching an IPython kernel.\n"
     ]
    }
   ],
   "source": [
    "gwas_counts_filt[\"gwas\"]=gwas_counts_filt[\"gwas\"].str.split(\"(\").str[0]\n",
    "mp={\"Asthma \":\"Asthma\"}"
   ]
  },
  {
   "cell_type": "code",
   "execution_count": 74,
   "metadata": {},
   "outputs": [
    {
     "name": "stderr",
     "output_type": "stream",
     "text": [
      "/nrnb/opt/anaconda3.7/lib/python3.7/site-packages/ipykernel_launcher.py:1: SettingWithCopyWarning: \n",
      "A value is trying to be set on a copy of a slice from a DataFrame.\n",
      "Try using .loc[row_indexer,col_indexer] = value instead\n",
      "\n",
      "See the caveats in the documentation: https://pandas.pydata.org/pandas-docs/stable/user_guide/indexing.html#returning-a-view-versus-a-copy\n",
      "  \"\"\"Entry point for launching an IPython kernel.\n"
     ]
    }
   ],
   "source": [
    "gwas_counts_filt[\"gwas\"]=gwas_counts_filt[\"gwas\"].map(mp).fillna(gwas_counts_filt[\"gwas\"])"
   ]
  },
  {
   "cell_type": "code",
   "execution_count": 75,
   "metadata": {},
   "outputs": [
    {
     "data": {
      "image/png": "[encoded data removed]",
      "text/plain": [
       "<Figure size 720x360 with 1 Axes>"
      ]
     },
     "metadata": {
      "needs_background": "light"
     },
     "output_type": "display_data"
    }
   ],
   "source": [
    "f=plt.figure(figsize=(10,5))\n",
    "ax = sns.barplot(x=\"gwas\", y=\"counts\", data=gwas_counts_filt)\n",
    "plt.xlabel(\"\")\n",
    "plt.ylabel(\"number of snps\")\n",
    "plt.xticks(rotation=90)\n",
    "f.savefig(\"../plots/gwas.pdf\")"
   ]
  },
  {
   "cell_type": "code",
   "execution_count": 76,
   "metadata": {},
   "outputs": [],
   "source": [
    "df=pd.read_csv(\"/cellar/users/mpagadal/Data/projects/germline-immune/snp-tables/immune-microenvironment-hla.tsv\",delimiter=\"\\t\")"
   ]
  },
  {
   "cell_type": "code",
   "execution_count": 77,
   "metadata": {},
   "outputs": [
    {
     "data": {
      "text/html": [
       "<div>\n",
       "<style scoped>\n",
       "    .dataframe tbody tr th:only-of-type {\n",
       "        vertical-align: middle;\n",
       "    }\n",
       "\n",
       "    .dataframe tbody tr th {\n",
       "        vertical-align: top;\n",
       "    }\n",
       "\n",
       "    .dataframe thead th {\n",
       "        text-align: right;\n",
       "    }\n",
       "</style>\n",
       "<table border=\"1\" class=\"dataframe\">\n",
       "  <thead>\n",
       "    <tr style=\"text-align: right;\">\n",
       "      <th></th>\n",
       "      <th>snps</th>\n",
       "      <th>file</th>\n",
       "      <th>beta</th>\n",
       "      <th>p-value</th>\n",
       "      <th>method</th>\n",
       "      <th>variant</th>\n",
       "      <th>rsid</th>\n",
       "    </tr>\n",
       "  </thead>\n",
       "  <tbody>\n",
       "    <tr>\n",
       "      <th>19</th>\n",
       "      <td>6:29933439:T:C</td>\n",
       "      <td>HLA.A</td>\n",
       "      <td>0.116323</td>\n",
       "      <td>9.748700e-13</td>\n",
       "      <td>conditional</td>\n",
       "      <td>chr6:g.29933439C&gt;T</td>\n",
       "      <td>rs2844806</td>\n",
       "    </tr>\n",
       "  </tbody>\n",
       "</table>\n",
       "</div>"
      ],
      "text/plain": [
       "              snps   file      beta       p-value       method  \\\n",
       "19  6:29933439:T:C  HLA.A  0.116323  9.748700e-13  conditional   \n",
       "\n",
       "               variant       rsid  \n",
       "19  chr6:g.29933439C>T  rs2844806  "
      ]
     },
     "execution_count": 77,
     "metadata": {},
     "output_type": "execute_result"
    }
   ],
   "source": [
    "df[df[\"rsid\"]==\"rs2844806\"]"
   ]
  },
  {
   "cell_type": "code",
   "execution_count": 78,
   "metadata": {},
   "outputs": [
    {
     "data": {
      "text/html": [
       "<div>\n",
       "<style scoped>\n",
       "    .dataframe tbody tr th:only-of-type {\n",
       "        vertical-align: middle;\n",
       "    }\n",
       "\n",
       "    .dataframe tbody tr th {\n",
       "        vertical-align: top;\n",
       "    }\n",
       "\n",
       "    .dataframe thead th {\n",
       "        text-align: right;\n",
       "    }\n",
       "</style>\n",
       "<table border=\"1\" class=\"dataframe\">\n",
       "  <thead>\n",
       "    <tr style=\"text-align: right;\">\n",
       "      <th></th>\n",
       "      <th>snps</th>\n",
       "      <th>file</th>\n",
       "      <th>beta</th>\n",
       "      <th>p-value</th>\n",
       "      <th>method</th>\n",
       "      <th>variant</th>\n",
       "      <th>rsid</th>\n",
       "    </tr>\n",
       "  </thead>\n",
       "  <tbody>\n",
       "    <tr>\n",
       "      <th>9</th>\n",
       "      <td>6:29910358:G:C</td>\n",
       "      <td>HLA.A</td>\n",
       "      <td>-0.235401</td>\n",
       "      <td>1.523340e-31</td>\n",
       "      <td>ase</td>\n",
       "      <td>chr6:g.29910358C&gt;G</td>\n",
       "      <td>rs1143146</td>\n",
       "    </tr>\n",
       "  </tbody>\n",
       "</table>\n",
       "</div>"
      ],
      "text/plain": [
       "             snps   file      beta       p-value method             variant  \\\n",
       "9  6:29910358:G:C  HLA.A -0.235401  1.523340e-31    ase  chr6:g.29910358C>G   \n",
       "\n",
       "        rsid  \n",
       "9  rs1143146  "
      ]
     },
     "execution_count": 78,
     "metadata": {},
     "output_type": "execute_result"
    }
   ],
   "source": [
    "df[df[\"rsid\"]==\"rs1143146\"]"
   ]
  },
  {
   "cell_type": "code",
   "execution_count": null,
   "metadata": {},
   "outputs": [],
   "source": []
  }
 ],
 "metadata": {
  "kernelspec": {
   "display_name": "Python 3",
   "language": "python",
   "name": "python3"
  },
  "language_info": {
   "codemirror_mode": {
    "name": "ipython",
    "version": 3
   },
   "file_extension": ".py",
   "mimetype": "text/x-python",
   "name": "python",
   "nbconvert_exporter": "python",
   "pygments_lexer": "ipython3",
   "version": "3.7.7"
  }
 },
 "nbformat": 4,
 "nbformat_minor": 2
}
