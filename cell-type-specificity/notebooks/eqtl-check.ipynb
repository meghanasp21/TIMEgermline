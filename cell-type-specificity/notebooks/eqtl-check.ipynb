{
 "cells": [
  {
   "cell_type": "code",
   "execution_count": 1,
   "metadata": {},
   "outputs": [],
   "source": [
    "import pandas as pd\n",
    "import os\n",
    "import json\n",
    "import matplotlib.pyplot as plt\n",
    "import numpy as np"
   ]
  },
  {
   "cell_type": "code",
   "execution_count": 2,
   "metadata": {},
   "outputs": [],
   "source": [
    "import matplotlib as mpl\n",
    "from matplotlib.pyplot import cm"
   ]
  },
  {
   "cell_type": "code",
   "execution_count": 3,
   "metadata": {},
   "outputs": [],
   "source": [
    "import matplotlib\n",
    "matplotlib.rcParams['pdf.fonttype'] = 42\n",
    "matplotlib.rcParams['ps.fonttype'] = 42"
   ]
  },
  {
   "cell_type": "code",
   "execution_count": 4,
   "metadata": {},
   "outputs": [],
   "source": [
    "import matplotlib.pyplot as plt\n",
    "from matplotlib_venn import venn2\n",
    "from matplotlib_venn import venn3"
   ]
  },
  {
   "cell_type": "markdown",
   "metadata": {},
   "source": [
    "## Get GTEx eQTLs"
   ]
  },
  {
   "cell_type": "code",
   "execution_count": 5,
   "metadata": {},
   "outputs": [],
   "source": [
    "sig_eqtl=\"/cellar/users/mpagadal/Data/gtex/GTEx_Analysis_v8_eQTL_EUR\"\n",
    "files=[x for x in os.listdir(sig_eqtl) if \"pairs\" in x]"
   ]
  },
  {
   "cell_type": "code",
   "execution_count": 6,
   "metadata": {},
   "outputs": [],
   "source": [
    "mapping=pd.read_csv(\"/cellar/users/mpagadal/Data/gtex/GTEx_Analysis_2017-06-05_v8_WholeGenomeSeq_838Indiv_Analysis_Freeze.lookup_table.txt\",delimiter=\"\\t\")\n",
    "mp_b38_b37=dict(zip(mapping.variant_id,mapping.variant_id_b37))"
   ]
  },
  {
   "cell_type": "code",
   "execution_count": 7,
   "metadata": {},
   "outputs": [],
   "source": [
    "#get snp lst\n",
    "snps=pd.read_csv(\"/cellar/users/mpagadal/Data2/projects/germline-immune/snp-tables/immune-microenvironment-nonhla.tsv\",delimiter=\"\\t\")\n",
    "snps[\"assoc\"]=snps[\"snps\"]+\"_\"+snps[\"file\"]\n",
    "snp_lst=snps[\"snps\"].tolist()+[x.rsplit(\":\",2)[0]+\":\"+x.split(\":\")[3]+\":\"+x.split(\":\")[2] for x in snps[\"snps\"].tolist()]"
   ]
  },
  {
   "cell_type": "code",
   "execution_count": 8,
   "metadata": {},
   "outputs": [
    {
     "name": "stdout",
     "output_type": "stream",
     "text": [
      "Spleen.v8.EUR.signif_pairs.txt\n",
      "Uterus.v8.EUR.signif_pairs.txt\n",
      "Lung.v8.EUR.signif_pairs.txt\n",
      "Artery_Coronary.v8.EUR.signif_pairs.txt\n",
      "Pancreas.v8.EUR.signif_pairs.txt\n",
      "Brain_Hippocampus.v8.EUR.signif_pairs.txt\n",
      "Artery_Tibial.v8.EUR.signif_pairs.txt\n",
      "Brain_Spinal_cord_cervical_c-1.v8.EUR.signif_pairs.txt\n",
      "Skin_Not_Sun_Exposed_Suprapubic.v8.EUR.signif_pairs.txt\n",
      "Muscle_Skeletal.v8.EUR.signif_pairs.txt\n",
      "Colon_Sigmoid.v8.EUR.signif_pairs.txt\n",
      "Brain_Caudate_basal_ganglia.v8.EUR.signif_pairs.txt\n",
      "Prostate.v8.EUR.signif_pairs.txt\n",
      "Vagina.v8.EUR.signif_pairs.txt\n",
      "Cells_EBV-transformed_lymphocytes.v8.EUR.signif_pairs.txt\n",
      "Adipose_Subcutaneous.v8.EUR.signif_pairs.txt\n",
      "Minor_Salivary_Gland.v8.EUR.signif_pairs.txt\n",
      "Heart_Left_Ventricle.v8.EUR.signif_pairs.txt\n",
      "Brain_Frontal_Cortex_BA9.v8.EUR.signif_pairs.txt\n",
      "Brain_Cortex.v8.EUR.signif_pairs.txt\n",
      "Esophagus_Mucosa.v8.EUR.signif_pairs.txt\n",
      "Adrenal_Gland.v8.EUR.signif_pairs.txt\n",
      "Brain_Nucleus_accumbens_basal_ganglia.v8.EUR.signif_pairs.txt\n",
      "Skin_Sun_Exposed_Lower_leg.v8.EUR.signif_pairs.txt\n",
      "Brain_Amygdala.v8.EUR.signif_pairs.txt\n",
      "Pituitary.v8.EUR.signif_pairs.txt\n",
      "Ovary.v8.EUR.signif_pairs.txt\n",
      "Breast_Mammary_Tissue.v8.EUR.signif_pairs.txt\n",
      "Heart_Atrial_Appendage.v8.EUR.signif_pairs.txt\n",
      "Nerve_Tibial.v8.EUR.signif_pairs.txt\n",
      "Thyroid.v8.EUR.signif_pairs.txt\n",
      "Liver.v8.EUR.signif_pairs.txt\n",
      "Brain_Hypothalamus.v8.EUR.signif_pairs.txt\n",
      "Brain_Anterior_cingulate_cortex_BA24.v8.EUR.signif_pairs.txt\n",
      "Brain_Substantia_nigra.v8.EUR.signif_pairs.txt\n",
      "Adipose_Visceral_Omentum.v8.EUR.signif_pairs.txt\n",
      "Brain_Cerebellum.v8.EUR.signif_pairs.txt\n",
      "Colon_Transverse.v8.EUR.signif_pairs.txt\n",
      "Esophagus_Gastroesophageal_Junction.v8.EUR.signif_pairs.txt\n",
      "Cells_Cultured_fibroblasts.v8.EUR.signif_pairs.txt\n",
      "Whole_Blood.v8.EUR.signif_pairs.txt\n",
      "Stomach.v8.EUR.signif_pairs.txt\n",
      "Small_Intestine_Terminal_Ileum.v8.EUR.signif_pairs.txt\n",
      "Brain_Cerebellar_Hemisphere.v8.EUR.signif_pairs.txt\n",
      "Kidney_Cortex.v8.EUR.signif_pairs.txt\n",
      "Esophagus_Muscularis.v8.EUR.signif_pairs.txt\n",
      "Testis.v8.EUR.signif_pairs.txt\n",
      "Brain_Putamen_basal_ganglia.v8.EUR.signif_pairs.txt\n",
      "Artery_Aorta.v8.EUR.signif_pairs.txt\n"
     ]
    }
   ],
   "source": [
    "compiled_cis=pd.DataFrame()\n",
    "\n",
    "for x in files:\n",
    "    print(x)\n",
    "    eqtl=pd.read_csv(sig_eqtl+\"/\"+x,delimiter=\"\\t\")\n",
    "    eqtl[\"variant_b37\"] = eqtl[\"variant_id\"].map(mp_b38_b37)\n",
    "    eqtl[\"variant\"] = eqtl[\"variant_b37\"].str.split(\"_\").str[0]+\":\"+eqtl[\"variant_b37\"].str.split(\"_\").str[1]+\":\"+eqtl[\"variant_b37\"].str.split(\"_\").str[2]+\":\"+eqtl[\"variant_b37\"].str.split(\"_\").str[3]\n",
    "    eqtl[\"cell\"]=x.split(\".v8\")[0]\n",
    "    eqtl_filt=eqtl[eqtl[\"variant\"].isin(snp_lst)]\n",
    "    compiled_cis=compiled_cis.append(eqtl_filt)"
   ]
  },
  {
   "cell_type": "code",
   "execution_count": null,
   "metadata": {},
   "outputs": [],
   "source": [
    "compiled_cis[\"gene_id\"]=compiled_cis[\"phenotype_id\"].str.split(\".\").str[0]"
   ]
  },
  {
   "cell_type": "code",
   "execution_count": null,
   "metadata": {},
   "outputs": [],
   "source": [
    "with open('/cellar/users/mpagadal/Data/resources/tcga/ensembl_map.json', 'r') as f:\n",
    "    ensembl_dict = json.load(f)"
   ]
  },
  {
   "cell_type": "code",
   "execution_count": null,
   "metadata": {},
   "outputs": [],
   "source": [
    "ensembl_dict={k.split(\".\")[0]:v for k,v in ensembl_dict.items()}"
   ]
  },
  {
   "cell_type": "code",
   "execution_count": null,
   "metadata": {},
   "outputs": [],
   "source": [
    "compiled_cis[\"gtex gene\"]=compiled_cis[\"gene_id\"].map(ensembl_dict)"
   ]
  },
  {
   "cell_type": "code",
   "execution_count": null,
   "metadata": {},
   "outputs": [],
   "source": [
    "compiled_cis=compiled_cis.rename(columns={\"variant\":\"snps\"})"
   ]
  },
  {
   "cell_type": "code",
   "execution_count": null,
   "metadata": {},
   "outputs": [],
   "source": [
    "compiled_cis[\"assoc\"]=compiled_cis[\"snps\"]+\"_\"+compiled_cis[\"gtex gene\"]"
   ]
  },
  {
   "cell_type": "markdown",
   "metadata": {},
   "source": [
    "## combine gtex and tcga data frame"
   ]
  },
  {
   "cell_type": "code",
   "execution_count": null,
   "metadata": {},
   "outputs": [],
   "source": [
    "gtex_assoc=pd.merge(snps,compiled_cis[[\"snps\",\"gtex gene\",\"cell\",\"gene_id\"]],on=\"snps\",how=\"left\")"
   ]
  },
  {
   "cell_type": "code",
   "execution_count": null,
   "metadata": {},
   "outputs": [],
   "source": [
    "cis=gtex_assoc[~(gtex_assoc[\"cis tss\"].isnull())][\"assoc\"].unique()\n",
    "trans=gtex_assoc[gtex_assoc[\"cis tss\"].isnull()][\"assoc\"].unique()"
   ]
  },
  {
   "cell_type": "code",
   "execution_count": null,
   "metadata": {},
   "outputs": [],
   "source": [
    "len(trans)"
   ]
  },
  {
   "cell_type": "code",
   "execution_count": null,
   "metadata": {},
   "outputs": [],
   "source": [
    "gtex_cis=gtex_assoc[gtex_assoc[\"assoc\"].isin(cis)]\n",
    "gtex_cis=gtex_cis[gtex_cis[\"gtex gene\"]==gtex_cis[\"file\"]][\"assoc\"].unique().tolist()"
   ]
  },
  {
   "cell_type": "code",
   "execution_count": null,
   "metadata": {},
   "outputs": [],
   "source": [
    "len(gtex_cis)"
   ]
  },
  {
   "cell_type": "code",
   "execution_count": null,
   "metadata": {},
   "outputs": [],
   "source": [
    "gtex_trans=gtex_assoc[gtex_assoc[\"assoc\"].isin(trans)]\n",
    "gtex_trans=gtex_trans[~(gtex_trans[\"gtex gene\"].isnull())][\"assoc\"].unique().tolist()"
   ]
  },
  {
   "cell_type": "code",
   "execution_count": null,
   "metadata": {},
   "outputs": [],
   "source": [
    "len(gtex_trans)"
   ]
  },
  {
   "cell_type": "code",
   "execution_count": null,
   "metadata": {},
   "outputs": [],
   "source": [
    "f=plt.figure(figsize=(5,5))\n",
    "plt.bar([\"cis\",\"trans\"],[len(cis),len(trans)])\n",
    "plt.bar([\"cis\",\"trans\"],[len(gtex_cis),len(gtex_trans)],label=\"gtex eQTL\")\n",
    "plt.ylabel(\"number of associations\")\n",
    "plt.xlabel(\"type of association\")\n",
    "plt.legend()\n",
    "plt.savefig(\"../plots/gtex.eqtl.pdf\")"
   ]
  },
  {
   "cell_type": "code",
   "execution_count": null,
   "metadata": {},
   "outputs": [],
   "source": [
    "len(trans)"
   ]
  },
  {
   "cell_type": "markdown",
   "metadata": {},
   "source": [
    "## Compare Whole Blood eQTLs and Tissue-type eQTLs"
   ]
  },
  {
   "cell_type": "code",
   "execution_count": null,
   "metadata": {},
   "outputs": [],
   "source": [
    "combos=['Kidney_Cortex.KICH',\n",
    " 'Kidney_Cortex.KIRC',\n",
    " 'Kidney_Cortex.KIRP',\n",
    " 'Testis.TGCT',\n",
    " 'Brain_Hippocampus.GBM',\n",
    " 'Skin_Sun_Exposed_Lower_leg.SKCM',\n",
    " 'Ovary.OV',\n",
    " 'Colon_Transverse.COAD',\n",
    " 'Adrenal_Gland.ACC',\n",
    " 'Pancreas.PAAD',\n",
    " 'Esophagus_Muscularis.ESCA',\n",
    " 'Stomach.STAD',\n",
    " 'Thyroid.THCA',\n",
    " 'Breast_Mammary_Tissue.BRCA',\n",
    " 'Minor_Salivary_Gland.HNSC',\n",
    " 'Brain_Anterior_cingulate_cortex_BA24.LGG',\n",
    " 'Liver.LIHC',\n",
    " 'Prostate.PRAD',\n",
    " 'Uterus.UCEC',\n",
    " 'Lung.LUAD',\n",
    " 'Lung.LUSC']\n",
    "gtex_tissues=[x.split(\".\")[0] for x in combos]"
   ]
  },
  {
   "cell_type": "code",
   "execution_count": null,
   "metadata": {},
   "outputs": [],
   "source": [
    "overlap=compiled_cis[compiled_cis[\"cell\"].isin(gtex_tissues+[\"Whole_Blood\"])]"
   ]
  },
  {
   "cell_type": "code",
   "execution_count": null,
   "metadata": {},
   "outputs": [],
   "source": [
    "fig, axs = plt.subplots(3, 6, sharey=True, tight_layout=True, figsize=(15, 10))\n",
    "axli = axs.flatten()\n",
    "\n",
    "for i,y in enumerate([x for x in set(gtex_tissues)]):\n",
    "    print(y)\n",
    "    venn2([set(overlap[overlap[\"cell\"]==y][\"assoc\"].tolist()),set(overlap[overlap[\"cell\"]==\"Whole_Blood\"][\"assoc\"].tolist())],\n",
    "     set_labels=(\"\",\"\"), set_colors=[\"green\",\"gray\"],ax=axli[i])\n",
    "    axli[i].title.set_text(y)\n",
    "plt.show()"
   ]
  },
  {
   "cell_type": "code",
   "execution_count": null,
   "metadata": {},
   "outputs": [],
   "source": [
    "snps=pd.read_csv(\"/cellar/users/mpagadal/Data/projects/germline-immune/snp-tables/immune-microenvironment-nonhla.tsv\",delimiter=\"\\t\")"
   ]
  },
  {
   "cell_type": "code",
   "execution_count": null,
   "metadata": {},
   "outputs": [],
   "source": [
    "blood_snps=compiled_cis[(compiled_cis[\"cell\"]==\"Whole_Blood\")&(compiled_cis[\"gtex gene\"].isin(snps[\"file\"].tolist()))]"
   ]
  },
  {
   "cell_type": "code",
   "execution_count": null,
   "metadata": {},
   "outputs": [],
   "source": [
    "brca_snps=compiled_cis[(compiled_cis[\"cell\"]==\"Breast_Mammary_Tissue\")&(compiled_cis[\"gtex gene\"].isin(snps[\"file\"].tolist()))]"
   ]
  },
  {
   "cell_type": "code",
   "execution_count": null,
   "metadata": {
    "scrolled": true
   },
   "outputs": [],
   "source": [
    "set([x for x in blood_snps[\"gtex gene\"] if x not in brca_snps[\"gtex gene\"].tolist()])"
   ]
  },
  {
   "cell_type": "code",
   "execution_count": null,
   "metadata": {},
   "outputs": [],
   "source": [
    "set([x for x in brca_snps[\"gtex gene\"] if x not in blood_snps[\"gtex gene\"].tolist()])"
   ]
  },
  {
   "cell_type": "markdown",
   "metadata": {},
   "source": [
    "## Get QQ plot of GTEx cis snps"
   ]
  },
  {
   "cell_type": "code",
   "execution_count": null,
   "metadata": {},
   "outputs": [],
   "source": [
    "def compile_gtex(directory,file_name,mapping):\n",
    "    gtex_files=[x for x in os.listdir(directory)]\n",
    "    total_gtex=pd.DataFrame()\n",
    "\n",
    "    for x in gtex_files:\n",
    "        cis=pd.read_csv(directory+x)\n",
    "        cis[\"file\"]=x.split(file_name)[0]\n",
    "        total_gtex=total_gtex.append(cis)\n",
    "    \n",
    "    #format variant2 and gene\n",
    "    total_gtex[\"variant2\"]=total_gtex[\"variant_b37\"].str.split(\"_\").str[0]+\":\"+total_gtex[\"variant_b37\"].str.split(\"_\").str[1]+\":\"+total_gtex[\"variant_b37\"].str.split(\"_\").str[3]+\":\"+total_gtex[\"variant_b37\"].str.split(\"_\").str[2]\n",
    "    #get gene ids for mapping\n",
    "    total_gtex[\"gene_id\"]=total_gtex[\"phenotype_id\"].str.split(\".\").str[0]\n",
    "    \n",
    "    total_gtex[\"ref\"]=total_gtex[\"variant_id\"].str.split(\"_\").str[2]\n",
    "    total_gtex[\"alt\"]=total_gtex[\"variant_id\"].str.split(\"_\").str[3]\n",
    "    \n",
    "    total_gtex_melt=pd.melt(total_gtex, id_vars=([\"gene_id\",\"slope\",\"slope_se\",\"ref\",\"alt\",\"file\",\"pval_nominal\",\"maf\",\"tss_distance\",\"variant_b37\"]),value_vars=([\"variant\",\"variant2\"]))\n",
    "    \n",
    "    total_gtex_melt[\"gene_name\"]=total_gtex_melt[\"gene_id\"].map(mapping)\n",
    "    \n",
    "    total_gtex_melt[\"assoc\"]=total_gtex_melt[\"value\"]+\"_\"+total_gtex_melt[\"gene_name\"]\n",
    "    \n",
    "    return(total_gtex_melt)"
   ]
  },
  {
   "cell_type": "code",
   "execution_count": null,
   "metadata": {},
   "outputs": [],
   "source": [
    "gtex=compile_gtex(\"/cellar/users/mpagadal/Data/gtex/extracted_snps/\",\".gtex.cis.eur.snps.csv\",ensembl_dict)"
   ]
  },
  {
   "cell_type": "code",
   "execution_count": null,
   "metadata": {},
   "outputs": [],
   "source": [
    "df_gtex_cis=gtex[gtex[\"assoc\"].isin(gtex_cis)]"
   ]
  },
  {
   "cell_type": "code",
   "execution_count": null,
   "metadata": {},
   "outputs": [],
   "source": [
    "len(df_gtex_cis[\"assoc\"].unique())"
   ]
  },
  {
   "cell_type": "code",
   "execution_count": null,
   "metadata": {},
   "outputs": [],
   "source": [
    "tpm_cancer=pd.read_csv(\"/cellar/users/mpagadal/Data/projects/germline-immune/snp-tables/brian-cancer-type-beta-se.tsv\",delimiter=\"\\t\")\n",
    "firebrowse_cancer=pd.read_csv(\"/cellar/users/mpagadal/Data/projects/germline-immune/snp-tables/firebrowse-cancer-type-beta-se.tsv\",delimiter=\"\\t\")\n",
    "pancanatlas_cancer=pd.read_csv(\"/cellar/users/mpagadal/Data/projects/germline-immune/snp-tables/pancanatlas-cancer-type-beta-se.tsv\",delimiter=\"\\t\")"
   ]
  },
  {
   "cell_type": "code",
   "execution_count": null,
   "metadata": {},
   "outputs": [],
   "source": [
    "compare_beta=pd.merge(df_gtex_cis,tpm_cancer,on=\"assoc\")\n",
    "compare_beta[\"combo\"]=compare_beta[\"file\"]+\".\"+compare_beta[\"file_name\"]"
   ]
  },
  {
   "cell_type": "code",
   "execution_count": null,
   "metadata": {},
   "outputs": [],
   "source": [
    "combos=['Kidney_Cortex.KICH',\n",
    " 'Kidney_Cortex.KIRC',\n",
    " 'Kidney_Cortex.KIRP',\n",
    " 'Testis.TGCT',\n",
    " 'Brain_Hippocampus.GBM',\n",
    " 'Skin_Sun_Exposed_Lower_leg.SKCM',\n",
    " 'Ovary.OV',\n",
    " 'Colon_Transverse.COAD',\n",
    " 'Adrenal_Gland.ACC',\n",
    " 'Pancreas.PAAD',\n",
    " 'Esophagus_Muscularis.ESCA',\n",
    " 'Stomach.STAD',\n",
    " 'Thyroid.THCA',\n",
    " 'Breast_Mammary_Tissue.BRCA',\n",
    " 'Minor_Salivary_Gland.HNSC',\n",
    " 'Brain_Anterior_cingulate_cortex_BA24.LGG',\n",
    " 'Liver.LIHC',\n",
    " 'Prostate.PRAD',\n",
    " 'Uterus.UCEC',\n",
    " 'Lung.LUAD',\n",
    " 'Lung.LUSC']"
   ]
  },
  {
   "cell_type": "code",
   "execution_count": null,
   "metadata": {},
   "outputs": [],
   "source": [
    "compare_beta=compare_beta[compare_beta[\"combo\"].isin(combos)]"
   ]
  },
  {
   "cell_type": "code",
   "execution_count": null,
   "metadata": {},
   "outputs": [],
   "source": [
    "compare_beta.head()"
   ]
  },
  {
   "cell_type": "code",
   "execution_count": null,
   "metadata": {},
   "outputs": [],
   "source": [
    "fig = plt.figure(figsize=(10,10))\n",
    "ax = fig.add_subplot(111)\n",
    "\n",
    "n=compare_beta[\"file_name\"].unique()\n",
    "color=iter(cm.rainbow(np.linspace(0,1,len(n))))\n",
    "\n",
    "for x in n:\n",
    "    c=next(color)\n",
    "    canc_filt_dev=compare_beta[compare_beta[\"file_name\"]==x]\n",
    "    plt.scatter(canc_filt_dev[\"slope\"],canc_filt_dev[\"BETA\"],color=c,marker=\".\",label=x)\n",
    "\n",
    "\n",
    "ax.set_xlabel(\"gtex beta\")\n",
    "ax.plot([ax.get_xlim()[0],ax.get_xlim()[1]], [ax.get_xlim()[0],ax.get_xlim()[1]], ls=\"--\", c=\"k\")\n",
    "ax.set_ylabel(\"tcga beta\")\n",
    "plt.legend()\n",
    "fig.savefig('../plots/gtex.beta.pdf')"
   ]
  },
  {
   "cell_type": "markdown",
   "metadata": {},
   "source": [
    "## Get gene types of trans associations"
   ]
  },
  {
   "cell_type": "code",
   "execution_count": null,
   "metadata": {},
   "outputs": [],
   "source": [
    "gff3=pd.read_csv(\"/cellar/users/mpagadal/Data/resources/annotations/gencode.v19.annotation.gff3\",delimiter=\"\\t\",header=None,comment=\"#\")\n",
    "gff3.head()"
   ]
  },
  {
   "cell_type": "code",
   "execution_count": null,
   "metadata": {},
   "outputs": [],
   "source": [
    "gff3[\"ID\"]=gff3[8].str.split(\"gene_id=\").str[1].str.split(\";\").str[0]\n",
    "gff3[\"type\"]=gff3[8].str.split(\"gene_type=\").str[1].str.split(\";\").str[0]"
   ]
  },
  {
   "cell_type": "code",
   "execution_count": null,
   "metadata": {},
   "outputs": [],
   "source": [
    "gff3[\"ID\"]=gff3[\"ID\"].str.split(\".\").str[0]"
   ]
  },
  {
   "cell_type": "code",
   "execution_count": null,
   "metadata": {},
   "outputs": [],
   "source": [
    "mp_type=dict(zip(gff3[\"ID\"],gff3[\"type\"]))"
   ]
  },
  {
   "cell_type": "code",
   "execution_count": null,
   "metadata": {},
   "outputs": [],
   "source": [
    "gtex_trans=gtex_assoc[gtex_assoc[\"assoc\"].isin(trans)]"
   ]
  },
  {
   "cell_type": "code",
   "execution_count": null,
   "metadata": {},
   "outputs": [],
   "source": [
    "gtex_trans[\"type\"]=gtex_trans[\"gene_id\"].map(mp_type)"
   ]
  },
  {
   "cell_type": "code",
   "execution_count": null,
   "metadata": {},
   "outputs": [],
   "source": [
    "gtex_trans=gtex_trans[~(gtex_trans[\"gtex gene\"].isnull())]"
   ]
  },
  {
   "cell_type": "code",
   "execution_count": null,
   "metadata": {},
   "outputs": [],
   "source": [
    "gtex_trans=gtex_trans[~gtex_trans[\"gtex gene\"].isnull()]"
   ]
  },
  {
   "cell_type": "code",
   "execution_count": null,
   "metadata": {},
   "outputs": [],
   "source": [
    "len(gtex_trans[\"assoc\"].unique())"
   ]
  },
  {
   "cell_type": "code",
   "execution_count": null,
   "metadata": {},
   "outputs": [],
   "source": [
    "df_pie=gtex_trans[[\"assoc\",\"gene_id\",\"type\"]].drop_duplicates()[\"type\"].value_counts()"
   ]
  },
  {
   "cell_type": "code",
   "execution_count": null,
   "metadata": {},
   "outputs": [],
   "source": [
    "df_pie=df_pie.reset_index()\n",
    "df_pie"
   ]
  },
  {
   "cell_type": "code",
   "execution_count": null,
   "metadata": {},
   "outputs": [],
   "source": [
    "f=plt.figure(figsize=(3,3))\n",
    "labels = df_pie[\"index\"].tolist()\n",
    "sizes = df_pie[\"type\"].tolist()\n",
    "plt.pie(sizes,labels=labels,autopct='%1.1f%%')\n",
    "f.savefig(\"../plots/pie.type.pdf\")"
   ]
  },
  {
   "cell_type": "code",
   "execution_count": null,
   "metadata": {},
   "outputs": [],
   "source": []
  }
 ],
 "metadata": {
  "kernelspec": {
   "display_name": "Python 3",
   "language": "python",
   "name": "python3"
  },
  "language_info": {
   "codemirror_mode": {
    "name": "ipython",
    "version": 3
   },
   "file_extension": ".py",
   "mimetype": "text/x-python",
   "name": "python",
   "nbconvert_exporter": "python",
   "pygments_lexer": "ipython3",
   "version": "3.7.7"
  }
 },
 "nbformat": 4,
 "nbformat_minor": 4
}
