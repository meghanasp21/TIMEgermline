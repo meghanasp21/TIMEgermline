{
 "cells": [
  {
   "cell_type": "code",
   "execution_count": 1,
   "metadata": {},
   "outputs": [],
   "source": [
    "import pandas as pd\n",
    "import os\n",
    "import json\n",
    "import matplotlib.pyplot as plt\n",
    "import numpy as np"
   ]
  },
  {
   "cell_type": "code",
   "execution_count": 2,
   "metadata": {},
   "outputs": [],
   "source": [
    "import matplotlib as mpl\n",
    "from matplotlib.pyplot import cm"
   ]
  },
  {
   "cell_type": "code",
   "execution_count": 3,
   "metadata": {},
   "outputs": [],
   "source": [
    "import matplotlib\n",
    "matplotlib.rcParams['pdf.fonttype'] = 42\n",
    "matplotlib.rcParams['ps.fonttype'] = 42"
   ]
  },
  {
   "cell_type": "code",
   "execution_count": 4,
   "metadata": {},
   "outputs": [],
   "source": [
    "import matplotlib.pyplot as plt\n",
    "from matplotlib_venn import venn2\n",
    "from matplotlib_venn import venn3"
   ]
  },
  {
   "cell_type": "markdown",
   "metadata": {},
   "source": [
    "## Get GTEx significant associations"
   ]
  },
  {
   "cell_type": "code",
   "execution_count": 5,
   "metadata": {},
   "outputs": [],
   "source": [
    "sig_eqtl=\"/cellar/users/mpagadal/Data/gtex/GTEx_Analysis_v8_eQTL_EUR\"\n",
    "files=[x for x in os.listdir(sig_eqtl) if \"pairs\" in x]"
   ]
  },
  {
   "cell_type": "code",
   "execution_count": 6,
   "metadata": {},
   "outputs": [],
   "source": [
    "mapping=pd.read_csv(\"/cellar/users/mpagadal/Data/gtex/GTEx_Analysis_2017-06-05_v8_WholeGenomeSeq_838Indiv_Analysis_Freeze.lookup_table.txt\",delimiter=\"\\t\")\n",
    "mp_b38_b37=dict(zip(mapping.variant_id,mapping.variant_id_b37))"
   ]
  },
  {
   "cell_type": "code",
   "execution_count": 7,
   "metadata": {},
   "outputs": [],
   "source": [
    "#get snp lst\n",
    "snps=pd.read_csv(\"/cellar/users/mpagadal/Data/projects/germline-immune/snp-tables/immune-microenvironment-nonhla.tsv\",delimiter=\"\\t\")\n",
    "snps[\"assoc\"]=snps[\"snps\"]+\"_\"+snps[\"file\"]\n",
    "snp_lst=snps[\"snps\"].tolist()+[x.rsplit(\":\",2)[0]+\":\"+x.split(\":\")[3]+\":\"+x.split(\":\")[2] for x in snps[\"snps\"].tolist()]\n"
   ]
  },
  {
   "cell_type": "code",
   "execution_count": 7,
   "metadata": {},
   "outputs": [],
   "source": [
    "compiled_cis=pd.DataFrame()\n",
    "\n",
    "for x in files:\n",
    "    eqtl=pd.read_csv(sig_eqtl+\"/\"+x,delimiter=\"\\t\")\n",
    "    eqtl[\"variant_b37\"] = eqtl[\"variant_id\"].map(mp_b38_b37)\n",
    "    eqtl[\"variant\"] = eqtl[\"variant_b37\"].str.split(\"_\").str[0]+\":\"+eqtl[\"variant_b37\"].str.split(\"_\").str[1]+\":\"+eqtl[\"variant_b37\"].str.split(\"_\").str[2]+\":\"+eqtl[\"variant_b37\"].str.split(\"_\").str[3]\n",
    "    eqtl[\"cell\"]=x.split(\".v8\")[0]\n",
    "    eqtl_filt=eqtl[eqtl[\"variant\"].isin(snp_lst)]\n",
    "    compiled_cis=compiled_cis.append(eqtl_filt)"
   ]
  },
  {
   "cell_type": "code",
   "execution_count": 8,
   "metadata": {},
   "outputs": [],
   "source": [
    "compiled_cis[\"gene_id\"]=compiled_cis[\"phenotype_id\"].str.split(\".\").str[0]"
   ]
  },
  {
   "cell_type": "code",
   "execution_count": 9,
   "metadata": {},
   "outputs": [],
   "source": [
    "with open('/cellar/users/mpagadal/Data/resources/tcga/ensembl_map.json', 'r') as f:\n",
    "    ensembl_dict = json.load(f)"
   ]
  },
  {
   "cell_type": "code",
   "execution_count": 10,
   "metadata": {},
   "outputs": [],
   "source": [
    "ensembl_dict={k.split(\".\")[0]:v for k,v in ensembl_dict.items()}"
   ]
  },
  {
   "cell_type": "code",
   "execution_count": 11,
   "metadata": {},
   "outputs": [],
   "source": [
    "compiled_cis[\"gtex gene\"]=compiled_cis[\"gene_id\"].map(ensembl_dict)"
   ]
  },
  {
   "cell_type": "code",
   "execution_count": 12,
   "metadata": {},
   "outputs": [],
   "source": [
    "compiled_cis=compiled_cis.rename(columns={\"variant\":\"snps\"})"
   ]
  },
  {
   "cell_type": "code",
   "execution_count": 13,
   "metadata": {},
   "outputs": [],
   "source": [
    "compiled_cis[\"assoc\"]=compiled_cis[\"snps\"]+\"_\"+compiled_cis[\"gtex gene\"]"
   ]
  },
  {
   "cell_type": "markdown",
   "metadata": {},
   "source": [
    "## combine gtex and tcga data frame"
   ]
  },
  {
   "cell_type": "code",
   "execution_count": 14,
   "metadata": {},
   "outputs": [],
   "source": [
    "gtex_assoc=pd.merge(snps,compiled_cis[[\"snps\",\"gtex gene\",\"cell\",\"gene_id\"]],on=\"snps\",how=\"left\")"
   ]
  },
  {
   "cell_type": "code",
   "execution_count": 15,
   "metadata": {},
   "outputs": [],
   "source": [
    "cis=gtex_assoc[~(gtex_assoc[\"cis tss\"].isnull())][\"assoc\"].unique()\n",
    "trans=gtex_assoc[gtex_assoc[\"cis tss\"].isnull()][\"assoc\"].unique()"
   ]
  },
  {
   "cell_type": "code",
   "execution_count": 16,
   "metadata": {},
   "outputs": [
    {
     "data": {
      "text/plain": [
       "389"
      ]
     },
     "execution_count": 16,
     "metadata": {},
     "output_type": "execute_result"
    }
   ],
   "source": [
    "len(cis)"
   ]
  },
  {
   "cell_type": "code",
   "execution_count": 17,
   "metadata": {},
   "outputs": [
    {
     "data": {
      "text/plain": [
       "93"
      ]
     },
     "execution_count": 17,
     "metadata": {},
     "output_type": "execute_result"
    }
   ],
   "source": [
    "len(trans)"
   ]
  },
  {
   "cell_type": "code",
   "execution_count": 18,
   "metadata": {},
   "outputs": [],
   "source": [
    "gtex_cis=gtex_assoc[gtex_assoc[\"assoc\"].isin(cis)]\n",
    "gtex_cis=gtex_cis[gtex_cis[\"gtex gene\"]==gtex_cis[\"file\"]][\"assoc\"].unique().tolist()"
   ]
  },
  {
   "cell_type": "code",
   "execution_count": 19,
   "metadata": {},
   "outputs": [
    {
     "data": {
      "text/plain": [
       "171"
      ]
     },
     "execution_count": 19,
     "metadata": {},
     "output_type": "execute_result"
    }
   ],
   "source": [
    "len(gtex_cis)"
   ]
  },
  {
   "cell_type": "code",
   "execution_count": 20,
   "metadata": {},
   "outputs": [],
   "source": [
    "gtex_trans=gtex_assoc[gtex_assoc[\"assoc\"].isin(trans)]\n",
    "gtex_trans=gtex_trans[~(gtex_trans[\"gtex gene\"].isnull())][\"assoc\"].unique().tolist()"
   ]
  },
  {
   "cell_type": "code",
   "execution_count": 21,
   "metadata": {},
   "outputs": [
    {
     "data": {
      "text/plain": [
       "42"
      ]
     },
     "execution_count": 21,
     "metadata": {},
     "output_type": "execute_result"
    }
   ],
   "source": [
    "len(gtex_trans)"
   ]
  },
  {
   "cell_type": "code",
   "execution_count": 22,
   "metadata": {},
   "outputs": [
    {
     "data": {
      "image/png": "[encoded data removed]",
      "text/plain": [
       "<Figure size 360x360 with 1 Axes>"
      ]
     },
     "metadata": {
      "needs_background": "light"
     },
     "output_type": "display_data"
    }
   ],
   "source": [
    "f=plt.figure(figsize=(5,5))\n",
    "plt.bar([\"cis\",\"trans\"],[len(cis),len(trans)])\n",
    "plt.bar([\"cis\",\"trans\"],[len(gtex_cis),len(gtex_trans)],label=\"gtex eQTL\")\n",
    "plt.ylabel(\"number of associations\")\n",
    "plt.xlabel(\"type of association\")\n",
    "plt.legend()\n",
    "plt.savefig(\"gtex.eqtl.pdf\")"
   ]
  },
  {
   "cell_type": "code",
   "execution_count": 27,
   "metadata": {},
   "outputs": [
    {
     "data": {
      "text/plain": [
       "93"
      ]
     },
     "execution_count": 27,
     "metadata": {},
     "output_type": "execute_result"
    }
   ],
   "source": [
    "len(trans)"
   ]
  },
  {
   "cell_type": "code",
   "execution_count": 28,
   "metadata": {},
   "outputs": [],
   "source": [
    "combos=['Kidney_Cortex.KICH',\n",
    " 'Kidney_Cortex.KIRC',\n",
    " 'Kidney_Cortex.KIRP',\n",
    " 'Testis.TGCT',\n",
    " 'Brain_Hippocampus.GBM',\n",
    " 'Skin_Sun_Exposed_Lower_leg.SKCM',\n",
    " 'Ovary.OV',\n",
    " 'Colon_Transverse.COAD',\n",
    " 'Adrenal_Gland.ACC',\n",
    " 'Pancreas.PAAD',\n",
    " 'Esophagus_Muscularis.ESCA',\n",
    " 'Stomach.STAD',\n",
    " 'Thyroid.THCA',\n",
    " 'Breast_Mammary_Tissue.BRCA',\n",
    " 'Minor_Salivary_Gland.HNSC',\n",
    " 'Brain_Anterior_cingulate_cortex_BA24.LGG',\n",
    " 'Liver.LIHC',\n",
    " 'Prostate.PRAD',\n",
    " 'Uterus.UCEC',\n",
    " 'Lung.LUAD',\n",
    " 'Lung.LUSC']\n",
    "gtex_tissues=[x.split(\".\")[0] for x in combos]"
   ]
  },
  {
   "cell_type": "code",
   "execution_count": 35,
   "metadata": {},
   "outputs": [],
   "source": [
    "overlap=compiled_cis[compiled_cis[\"cell\"].isin(gtex_tissues+[\"Whole_Blood\"])]"
   ]
  },
  {
   "cell_type": "code",
   "execution_count": 36,
   "metadata": {},
   "outputs": [
    {
     "data": {
      "text/html": [
       "<div>\n",
       "<style scoped>\n",
       "    .dataframe tbody tr th:only-of-type {\n",
       "        vertical-align: middle;\n",
       "    }\n",
       "\n",
       "    .dataframe tbody tr th {\n",
       "        vertical-align: top;\n",
       "    }\n",
       "\n",
       "    .dataframe thead th {\n",
       "        text-align: right;\n",
       "    }\n",
       "</style>\n",
       "<table border=\"1\" class=\"dataframe\">\n",
       "  <thead>\n",
       "    <tr style=\"text-align: right;\">\n",
       "      <th></th>\n",
       "      <th>phenotype_id</th>\n",
       "      <th>variant_id</th>\n",
       "      <th>tss_distance</th>\n",
       "      <th>maf</th>\n",
       "      <th>ma_samples</th>\n",
       "      <th>ma_count</th>\n",
       "      <th>pval_nominal</th>\n",
       "      <th>slope</th>\n",
       "      <th>slope_se</th>\n",
       "      <th>pval_nominal_threshold</th>\n",
       "      <th>min_pval_nominal</th>\n",
       "      <th>pval_beta</th>\n",
       "      <th>variant_b37</th>\n",
       "      <th>snps</th>\n",
       "      <th>cell</th>\n",
       "      <th>gene_id</th>\n",
       "      <th>gtex gene</th>\n",
       "      <th>assoc</th>\n",
       "    </tr>\n",
       "  </thead>\n",
       "  <tbody>\n",
       "    <tr>\n",
       "      <th>12951</th>\n",
       "      <td>ENSG00000137944.17</td>\n",
       "      <td>chr1_88970498_T_C_b38</td>\n",
       "      <td>-17857</td>\n",
       "      <td>0.492754</td>\n",
       "      <td>105</td>\n",
       "      <td>136</td>\n",
       "      <td>5.149730e-16</td>\n",
       "      <td>-0.685658</td>\n",
       "      <td>0.072510</td>\n",
       "      <td>0.000040</td>\n",
       "      <td>5.149730e-16</td>\n",
       "      <td>1.320690e-12</td>\n",
       "      <td>1_89436181_T_C_b37</td>\n",
       "      <td>1:89436181:T:C</td>\n",
       "      <td>Ovary</td>\n",
       "      <td>ENSG00000137944</td>\n",
       "      <td>CCBL2</td>\n",
       "      <td>1:89436181:T:C_CCBL2</td>\n",
       "    </tr>\n",
       "    <tr>\n",
       "      <th>12977</th>\n",
       "      <td>ENSG00000117226.11</td>\n",
       "      <td>chr1_89007941_G_A_b38</td>\n",
       "      <td>-14953</td>\n",
       "      <td>0.217391</td>\n",
       "      <td>54</td>\n",
       "      <td>60</td>\n",
       "      <td>2.270330e-14</td>\n",
       "      <td>-0.849128</td>\n",
       "      <td>0.097089</td>\n",
       "      <td>0.000035</td>\n",
       "      <td>1.970530e-23</td>\n",
       "      <td>5.584150e-20</td>\n",
       "      <td>1_89473624_G_A_b37</td>\n",
       "      <td>1:89473624:G:A</td>\n",
       "      <td>Ovary</td>\n",
       "      <td>ENSG00000117226</td>\n",
       "      <td>GBP3</td>\n",
       "      <td>1:89473624:G:A_GBP3</td>\n",
       "    </tr>\n",
       "    <tr>\n",
       "      <th>13215</th>\n",
       "      <td>ENSG00000213512.1</td>\n",
       "      <td>chr1_89013185_G_A_b38</td>\n",
       "      <td>-162855</td>\n",
       "      <td>0.213768</td>\n",
       "      <td>51</td>\n",
       "      <td>59</td>\n",
       "      <td>1.097480e-07</td>\n",
       "      <td>0.690733</td>\n",
       "      <td>0.121836</td>\n",
       "      <td>0.000037</td>\n",
       "      <td>2.009080e-23</td>\n",
       "      <td>6.199130e-20</td>\n",
       "      <td>1_89478868_G_A_b37</td>\n",
       "      <td>1:89478868:G:A</td>\n",
       "      <td>Ovary</td>\n",
       "      <td>ENSG00000213512</td>\n",
       "      <td>GBP7</td>\n",
       "      <td>1:89478868:G:A_GBP7</td>\n",
       "    </tr>\n",
       "    <tr>\n",
       "      <th>13581</th>\n",
       "      <td>ENSG00000213512.1</td>\n",
       "      <td>chr1_89269631_G_A_b38</td>\n",
       "      <td>93591</td>\n",
       "      <td>0.159420</td>\n",
       "      <td>39</td>\n",
       "      <td>44</td>\n",
       "      <td>2.537890e-07</td>\n",
       "      <td>0.730051</td>\n",
       "      <td>0.133134</td>\n",
       "      <td>0.000037</td>\n",
       "      <td>2.009080e-23</td>\n",
       "      <td>6.199130e-20</td>\n",
       "      <td>1_89735314_G_A_b37</td>\n",
       "      <td>1:89735314:G:A</td>\n",
       "      <td>Ovary</td>\n",
       "      <td>ENSG00000213512</td>\n",
       "      <td>GBP7</td>\n",
       "      <td>1:89735314:G:A_GBP7</td>\n",
       "    </tr>\n",
       "    <tr>\n",
       "      <th>20685</th>\n",
       "      <td>ENSG00000163131.10</td>\n",
       "      <td>chr1_150662590_C_T_b38</td>\n",
       "      <td>-103367</td>\n",
       "      <td>0.373188</td>\n",
       "      <td>84</td>\n",
       "      <td>103</td>\n",
       "      <td>1.111700e-05</td>\n",
       "      <td>0.250100</td>\n",
       "      <td>0.054395</td>\n",
       "      <td>0.000053</td>\n",
       "      <td>2.878820e-06</td>\n",
       "      <td>1.898220e-03</td>\n",
       "      <td>1_150635066_C_T_b37</td>\n",
       "      <td>1:150635066:C:T</td>\n",
       "      <td>Ovary</td>\n",
       "      <td>ENSG00000163131</td>\n",
       "      <td>CTSS</td>\n",
       "      <td>1:150635066:C:T_CTSS</td>\n",
       "    </tr>\n",
       "    <tr>\n",
       "      <th>...</th>\n",
       "      <td>...</td>\n",
       "      <td>...</td>\n",
       "      <td>...</td>\n",
       "      <td>...</td>\n",
       "      <td>...</td>\n",
       "      <td>...</td>\n",
       "      <td>...</td>\n",
       "      <td>...</td>\n",
       "      <td>...</td>\n",
       "      <td>...</td>\n",
       "      <td>...</td>\n",
       "      <td>...</td>\n",
       "      <td>...</td>\n",
       "      <td>...</td>\n",
       "      <td>...</td>\n",
       "      <td>...</td>\n",
       "      <td>...</td>\n",
       "      <td>...</td>\n",
       "    </tr>\n",
       "    <tr>\n",
       "      <th>267972</th>\n",
       "      <td>ENSG00000172543.7</td>\n",
       "      <td>chr11_65877883_A_G_b38</td>\n",
       "      <td>-1926</td>\n",
       "      <td>0.235507</td>\n",
       "      <td>54</td>\n",
       "      <td>65</td>\n",
       "      <td>2.438390e-07</td>\n",
       "      <td>0.565823</td>\n",
       "      <td>0.103017</td>\n",
       "      <td>0.000059</td>\n",
       "      <td>2.438390e-07</td>\n",
       "      <td>2.249600e-04</td>\n",
       "      <td>11_65645354_A_G_b37</td>\n",
       "      <td>11:65645354:A:G</td>\n",
       "      <td>Ovary</td>\n",
       "      <td>ENSG00000172543</td>\n",
       "      <td>CTSW</td>\n",
       "      <td>11:65645354:A:G_CTSW</td>\n",
       "    </tr>\n",
       "    <tr>\n",
       "      <th>267974</th>\n",
       "      <td>ENSG00000172543.7</td>\n",
       "      <td>chr11_65879086_C_A_b38</td>\n",
       "      <td>-723</td>\n",
       "      <td>0.235507</td>\n",
       "      <td>54</td>\n",
       "      <td>65</td>\n",
       "      <td>2.438390e-07</td>\n",
       "      <td>0.565823</td>\n",
       "      <td>0.103017</td>\n",
       "      <td>0.000059</td>\n",
       "      <td>2.438390e-07</td>\n",
       "      <td>2.249600e-04</td>\n",
       "      <td>11_65646557_C_A_b37</td>\n",
       "      <td>11:65646557:C:A</td>\n",
       "      <td>Ovary</td>\n",
       "      <td>ENSG00000172543</td>\n",
       "      <td>CTSW</td>\n",
       "      <td>11:65646557:C:A_CTSW</td>\n",
       "    </tr>\n",
       "    <tr>\n",
       "      <th>268171</th>\n",
       "      <td>ENSG00000254461.1</td>\n",
       "      <td>chr11_65793898_G_A_b38</td>\n",
       "      <td>-465944</td>\n",
       "      <td>0.188406</td>\n",
       "      <td>43</td>\n",
       "      <td>52</td>\n",
       "      <td>2.534050e-05</td>\n",
       "      <td>-0.317499</td>\n",
       "      <td>0.072302</td>\n",
       "      <td>0.000063</td>\n",
       "      <td>1.253940e-05</td>\n",
       "      <td>8.323480e-03</td>\n",
       "      <td>11_65561369_G_A_b37</td>\n",
       "      <td>11:65561369:G:A</td>\n",
       "      <td>Ovary</td>\n",
       "      <td>ENSG00000254461</td>\n",
       "      <td>RP11-755F10.3</td>\n",
       "      <td>11:65561369:G:A_RP11-755F10.3</td>\n",
       "    </tr>\n",
       "    <tr>\n",
       "      <th>291881</th>\n",
       "      <td>ENSG00000127337.6</td>\n",
       "      <td>chr12_69338325_T_C_b38</td>\n",
       "      <td>-21378</td>\n",
       "      <td>0.438406</td>\n",
       "      <td>94</td>\n",
       "      <td>121</td>\n",
       "      <td>1.200480e-10</td>\n",
       "      <td>-0.488782</td>\n",
       "      <td>0.068943</td>\n",
       "      <td>0.000033</td>\n",
       "      <td>2.780670e-11</td>\n",
       "      <td>1.211150e-07</td>\n",
       "      <td>12_69732105_T_C_b37</td>\n",
       "      <td>12:69732105:T:C</td>\n",
       "      <td>Ovary</td>\n",
       "      <td>ENSG00000127337</td>\n",
       "      <td>YEATS4</td>\n",
       "      <td>12:69732105:T:C_YEATS4</td>\n",
       "    </tr>\n",
       "    <tr>\n",
       "      <th>428546</th>\n",
       "      <td>ENSG00000254415.3</td>\n",
       "      <td>chr19_51627385_C_A_b38</td>\n",
       "      <td>-19416</td>\n",
       "      <td>0.090580</td>\n",
       "      <td>25</td>\n",
       "      <td>25</td>\n",
       "      <td>5.213880e-07</td>\n",
       "      <td>-0.613529</td>\n",
       "      <td>0.115296</td>\n",
       "      <td>0.000013</td>\n",
       "      <td>5.213880e-07</td>\n",
       "      <td>1.395510e-03</td>\n",
       "      <td>19_52130638_C_A_b37</td>\n",
       "      <td>19:52130638:C:A</td>\n",
       "      <td>Ovary</td>\n",
       "      <td>ENSG00000254415</td>\n",
       "      <td>SIGLEC14</td>\n",
       "      <td>19:52130638:C:A_SIGLEC14</td>\n",
       "    </tr>\n",
       "  </tbody>\n",
       "</table>\n",
       "<p>67 rows × 18 columns</p>\n",
       "</div>"
      ],
      "text/plain": [
       "              phenotype_id              variant_id  tss_distance       maf  \\\n",
       "12951   ENSG00000137944.17   chr1_88970498_T_C_b38        -17857  0.492754   \n",
       "12977   ENSG00000117226.11   chr1_89007941_G_A_b38        -14953  0.217391   \n",
       "13215    ENSG00000213512.1   chr1_89013185_G_A_b38       -162855  0.213768   \n",
       "13581    ENSG00000213512.1   chr1_89269631_G_A_b38         93591  0.159420   \n",
       "20685   ENSG00000163131.10  chr1_150662590_C_T_b38       -103367  0.373188   \n",
       "...                    ...                     ...           ...       ...   \n",
       "267972   ENSG00000172543.7  chr11_65877883_A_G_b38         -1926  0.235507   \n",
       "267974   ENSG00000172543.7  chr11_65879086_C_A_b38          -723  0.235507   \n",
       "268171   ENSG00000254461.1  chr11_65793898_G_A_b38       -465944  0.188406   \n",
       "291881   ENSG00000127337.6  chr12_69338325_T_C_b38        -21378  0.438406   \n",
       "428546   ENSG00000254415.3  chr19_51627385_C_A_b38        -19416  0.090580   \n",
       "\n",
       "        ma_samples  ma_count  pval_nominal     slope  slope_se  \\\n",
       "12951          105       136  5.149730e-16 -0.685658  0.072510   \n",
       "12977           54        60  2.270330e-14 -0.849128  0.097089   \n",
       "13215           51        59  1.097480e-07  0.690733  0.121836   \n",
       "13581           39        44  2.537890e-07  0.730051  0.133134   \n",
       "20685           84       103  1.111700e-05  0.250100  0.054395   \n",
       "...            ...       ...           ...       ...       ...   \n",
       "267972          54        65  2.438390e-07  0.565823  0.103017   \n",
       "267974          54        65  2.438390e-07  0.565823  0.103017   \n",
       "268171          43        52  2.534050e-05 -0.317499  0.072302   \n",
       "291881          94       121  1.200480e-10 -0.488782  0.068943   \n",
       "428546          25        25  5.213880e-07 -0.613529  0.115296   \n",
       "\n",
       "        pval_nominal_threshold  min_pval_nominal     pval_beta  \\\n",
       "12951                 0.000040      5.149730e-16  1.320690e-12   \n",
       "12977                 0.000035      1.970530e-23  5.584150e-20   \n",
       "13215                 0.000037      2.009080e-23  6.199130e-20   \n",
       "13581                 0.000037      2.009080e-23  6.199130e-20   \n",
       "20685                 0.000053      2.878820e-06  1.898220e-03   \n",
       "...                        ...               ...           ...   \n",
       "267972                0.000059      2.438390e-07  2.249600e-04   \n",
       "267974                0.000059      2.438390e-07  2.249600e-04   \n",
       "268171                0.000063      1.253940e-05  8.323480e-03   \n",
       "291881                0.000033      2.780670e-11  1.211150e-07   \n",
       "428546                0.000013      5.213880e-07  1.395510e-03   \n",
       "\n",
       "                variant_b37             snps   cell          gene_id  \\\n",
       "12951    1_89436181_T_C_b37   1:89436181:T:C  Ovary  ENSG00000137944   \n",
       "12977    1_89473624_G_A_b37   1:89473624:G:A  Ovary  ENSG00000117226   \n",
       "13215    1_89478868_G_A_b37   1:89478868:G:A  Ovary  ENSG00000213512   \n",
       "13581    1_89735314_G_A_b37   1:89735314:G:A  Ovary  ENSG00000213512   \n",
       "20685   1_150635066_C_T_b37  1:150635066:C:T  Ovary  ENSG00000163131   \n",
       "...                     ...              ...    ...              ...   \n",
       "267972  11_65645354_A_G_b37  11:65645354:A:G  Ovary  ENSG00000172543   \n",
       "267974  11_65646557_C_A_b37  11:65646557:C:A  Ovary  ENSG00000172543   \n",
       "268171  11_65561369_G_A_b37  11:65561369:G:A  Ovary  ENSG00000254461   \n",
       "291881  12_69732105_T_C_b37  12:69732105:T:C  Ovary  ENSG00000127337   \n",
       "428546  19_52130638_C_A_b37  19:52130638:C:A  Ovary  ENSG00000254415   \n",
       "\n",
       "            gtex gene                          assoc  \n",
       "12951           CCBL2           1:89436181:T:C_CCBL2  \n",
       "12977            GBP3            1:89473624:G:A_GBP3  \n",
       "13215            GBP7            1:89478868:G:A_GBP7  \n",
       "13581            GBP7            1:89735314:G:A_GBP7  \n",
       "20685            CTSS           1:150635066:C:T_CTSS  \n",
       "...               ...                            ...  \n",
       "267972           CTSW           11:65645354:A:G_CTSW  \n",
       "267974           CTSW           11:65646557:C:A_CTSW  \n",
       "268171  RP11-755F10.3  11:65561369:G:A_RP11-755F10.3  \n",
       "291881         YEATS4         12:69732105:T:C_YEATS4  \n",
       "428546       SIGLEC14       19:52130638:C:A_SIGLEC14  \n",
       "\n",
       "[67 rows x 18 columns]"
      ]
     },
     "execution_count": 36,
     "metadata": {},
     "output_type": "execute_result"
    }
   ],
   "source": [
    "overlap[overlap[\"cell\"]==\"Ovary\"]"
   ]
  },
  {
   "cell_type": "code",
   "execution_count": 43,
   "metadata": {},
   "outputs": [
    {
     "name": "stdout",
     "output_type": "stream",
     "text": [
      "Kidney_Cortex\n",
      "Kidney_Cortex\n",
      "Kidney_Cortex\n",
      "Testis\n",
      "Brain_Hippocampus\n",
      "Skin_Sun_Exposed_Lower_leg\n",
      "Ovary\n",
      "Colon_Transverse\n",
      "Adrenal_Gland\n",
      "Pancreas\n",
      "Esophagus_Muscularis\n",
      "Stomach\n",
      "Thyroid\n",
      "Breast_Mammary_Tissue\n",
      "Minor_Salivary_Gland\n",
      "Brain_Anterior_cingulate_cortex_BA24\n",
      "Liver\n",
      "Prostate\n",
      "Uterus\n",
      "Lung\n",
      "Lung\n"
     ]
    },
    {
     "name": "stderr",
     "output_type": "stream",
     "text": [
      "/nrnb/opt/anaconda3.7/lib/python3.7/site-packages/IPython/core/pylabtools.py:132: UserWarning: Tight layout not applied. tight_layout cannot make axes width small enough to accommodate all axes decorations\n",
      "  fig.canvas.print_figure(bytes_io, **kw)\n"
     ]
    },
    {
     "data": {
      "image/png": "[encoded data removed]",
      "text/plain": [
       "<Figure size 720x720 with 24 Axes>"
      ]
     },
     "metadata": {
      "needs_background": "light"
     },
     "output_type": "display_data"
    }
   ],
   "source": [
    "fig, axs = plt.subplots(4, 6, sharey=True, tight_layout=True, figsize=(10, 10))\n",
    "axli = axs.flatten()\n",
    "\n",
    "for i,y in enumerate(gtex_tissues):\n",
    "    print(y)\n",
    "    venn2([set(overlap[overlap[\"cell\"]==y][\"assoc\"].tolist()),set(overlap[overlap[\"cell\"]==\"Whole_Blood\"][\"assoc\"].tolist())],\n",
    "     set_labels=(y,\"Whole_blood\"), set_colors=[\"green\",\"gray\"],ax=axli[i])\n",
    "    axli[i].title.set_text(y)\n",
    "plt.show()"
   ]
  },
  {
   "cell_type": "code",
   "execution_count": 33,
   "metadata": {},
   "outputs": [
    {
     "data": {
      "text/plain": [
       "Thyroid                                 561\n",
       "Whole_Blood                             522\n",
       "Skin_Sun_Exposed_Lower_leg              508\n",
       "Esophagus_Muscularis                    436\n",
       "Lung                                    431\n",
       "Testis                                  343\n",
       "Breast_Mammary_Tissue                   293\n",
       "Colon_Transverse                        244\n",
       "Pancreas                                212\n",
       "Stomach                                 186\n",
       "Adrenal_Gland                           151\n",
       "Prostate                                131\n",
       "Liver                                    87\n",
       "Ovary                                    67\n",
       "Brain_Anterior_cingulate_cortex_BA24     66\n",
       "Brain_Hippocampus                        65\n",
       "Minor_Salivary_Gland                     55\n",
       "Uterus                                   52\n",
       "Kidney_Cortex                            11\n",
       "Name: cell, dtype: int64"
      ]
     },
     "execution_count": 33,
     "metadata": {},
     "output_type": "execute_result"
    }
   ],
   "source": [
    "overlap"
   ]
  },
  {
   "cell_type": "markdown",
   "metadata": {},
   "source": [
    "## Get QQ plot of GTEx cis snps"
   ]
  },
  {
   "cell_type": "code",
   "execution_count": 74,
   "metadata": {},
   "outputs": [],
   "source": [
    "def compile_gtex(directory,file_name,mapping):\n",
    "    gtex_files=[x for x in os.listdir(directory)]\n",
    "    total_gtex=pd.DataFrame()\n",
    "\n",
    "    for x in gtex_files:\n",
    "        cis=pd.read_csv(directory+x)\n",
    "        cis[\"file\"]=x.split(file_name)[0]\n",
    "        total_gtex=total_gtex.append(cis)\n",
    "    \n",
    "    #format variant2 and gene\n",
    "    total_gtex[\"variant2\"]=total_gtex[\"variant_b37\"].str.split(\"_\").str[0]+\":\"+total_gtex[\"variant_b37\"].str.split(\"_\").str[1]+\":\"+total_gtex[\"variant_b37\"].str.split(\"_\").str[3]+\":\"+total_gtex[\"variant_b37\"].str.split(\"_\").str[2]\n",
    "    #get gene ids for mapping\n",
    "    total_gtex[\"gene_id\"]=total_gtex[\"phenotype_id\"].str.split(\".\").str[0]\n",
    "    \n",
    "    total_gtex[\"ref\"]=total_gtex[\"variant_id\"].str.split(\"_\").str[2]\n",
    "    total_gtex[\"alt\"]=total_gtex[\"variant_id\"].str.split(\"_\").str[3]\n",
    "    \n",
    "    total_gtex_melt=pd.melt(total_gtex, id_vars=([\"gene_id\",\"slope\",\"slope_se\",\"ref\",\"alt\",\"file\",\"pval_nominal\",\"maf\",\"tss_distance\",\"variant_b37\"]),value_vars=([\"variant\",\"variant2\"]))\n",
    "    \n",
    "    total_gtex_melt[\"gene_name\"]=total_gtex_melt[\"gene_id\"].map(mapping)\n",
    "    \n",
    "    total_gtex_melt[\"assoc\"]=total_gtex_melt[\"value\"]+\"_\"+total_gtex_melt[\"gene_name\"]\n",
    "    \n",
    "    return(total_gtex_melt)"
   ]
  },
  {
   "cell_type": "code",
   "execution_count": 75,
   "metadata": {},
   "outputs": [],
   "source": [
    "gtex=compile_gtex(\"./extracted_snps/\",\".gtex.cis.eur.snps.csv\",ensembl_dict)"
   ]
  },
  {
   "cell_type": "code",
   "execution_count": 76,
   "metadata": {},
   "outputs": [],
   "source": [
    "df_gtex_cis=gtex[gtex[\"assoc\"].isin(gtex_cis)]"
   ]
  },
  {
   "cell_type": "code",
   "execution_count": 77,
   "metadata": {},
   "outputs": [
    {
     "data": {
      "text/plain": [
       "171"
      ]
     },
     "execution_count": 77,
     "metadata": {},
     "output_type": "execute_result"
    }
   ],
   "source": [
    "len(df_gtex_cis[\"assoc\"].unique())"
   ]
  },
  {
   "cell_type": "code",
   "execution_count": 78,
   "metadata": {},
   "outputs": [],
   "source": [
    "tpm_cancer=pd.read_csv(\"/cellar/users/mpagadal/Data/projects/germline-immune/snp-tables/brian-cancer-type-beta-se.tsv\",delimiter=\"\\t\")\n",
    "firebrowse_cancer=pd.read_csv(\"/cellar/users/mpagadal/Data/projects/germline-immune/snp-tables/firebrowse-cancer-type-beta-se.tsv\",delimiter=\"\\t\")\n",
    "pancanatlas_cancer=pd.read_csv(\"/cellar/users/mpagadal/Data/projects/germline-immune/snp-tables/pancanatlas-cancer-type-beta-se.tsv\",delimiter=\"\\t\")"
   ]
  },
  {
   "cell_type": "code",
   "execution_count": 79,
   "metadata": {},
   "outputs": [],
   "source": [
    "compare_beta=pd.merge(df_gtex_cis,tpm_cancer,on=\"assoc\")\n",
    "compare_beta[\"combo\"]=compare_beta[\"file\"]+\".\"+compare_beta[\"file_name\"]"
   ]
  },
  {
   "cell_type": "code",
   "execution_count": 80,
   "metadata": {},
   "outputs": [],
   "source": [
    "combos=['Kidney_Cortex.KICH',\n",
    " 'Kidney_Cortex.KIRC',\n",
    " 'Kidney_Cortex.KIRP',\n",
    " 'Testis.TGCT',\n",
    " 'Brain_Hippocampus.GBM',\n",
    " 'Skin_Sun_Exposed_Lower_leg.SKCM',\n",
    " 'Ovary.OV',\n",
    " 'Colon_Transverse.COAD',\n",
    " 'Adrenal_Gland.ACC',\n",
    " 'Pancreas.PAAD',\n",
    " 'Esophagus_Muscularis.ESCA',\n",
    " 'Stomach.STAD',\n",
    " 'Thyroid.THCA',\n",
    " 'Breast_Mammary_Tissue.BRCA',\n",
    " 'Minor_Salivary_Gland.HNSC',\n",
    " 'Brain_Anterior_cingulate_cortex_BA24.LGG',\n",
    " 'Liver.LIHC',\n",
    " 'Prostate.PRAD',\n",
    " 'Uterus.UCEC',\n",
    " 'Lung.LUAD',\n",
    " 'Lung.LUSC']"
   ]
  },
  {
   "cell_type": "code",
   "execution_count": 81,
   "metadata": {},
   "outputs": [],
   "source": [
    "compare_beta=compare_beta[compare_beta[\"combo\"].isin(combos)]"
   ]
  },
  {
   "cell_type": "code",
   "execution_count": 82,
   "metadata": {},
   "outputs": [
    {
     "data": {
      "text/html": [
       "<div>\n",
       "<style scoped>\n",
       "    .dataframe tbody tr th:only-of-type {\n",
       "        vertical-align: middle;\n",
       "    }\n",
       "\n",
       "    .dataframe tbody tr th {\n",
       "        vertical-align: top;\n",
       "    }\n",
       "\n",
       "    .dataframe thead th {\n",
       "        text-align: right;\n",
       "    }\n",
       "</style>\n",
       "<table border=\"1\" class=\"dataframe\">\n",
       "  <thead>\n",
       "    <tr style=\"text-align: right;\">\n",
       "      <th></th>\n",
       "      <th>gene_id</th>\n",
       "      <th>slope</th>\n",
       "      <th>slope_se</th>\n",
       "      <th>ref</th>\n",
       "      <th>alt</th>\n",
       "      <th>file</th>\n",
       "      <th>pval_nominal</th>\n",
       "      <th>maf</th>\n",
       "      <th>tss_distance</th>\n",
       "      <th>variant_b37</th>\n",
       "      <th>...</th>\n",
       "      <th>A1</th>\n",
       "      <th>TEST</th>\n",
       "      <th>OBS_CT</th>\n",
       "      <th>BETA</th>\n",
       "      <th>SE</th>\n",
       "      <th>T_STAT</th>\n",
       "      <th>P</th>\n",
       "      <th>ERRCODE</th>\n",
       "      <th>pheno</th>\n",
       "      <th>combo</th>\n",
       "    </tr>\n",
       "  </thead>\n",
       "  <tbody>\n",
       "    <tr>\n",
       "      <th>99</th>\n",
       "      <td>ENSG00000049245</td>\n",
       "      <td>0.230936</td>\n",
       "      <td>0.103450</td>\n",
       "      <td>G</td>\n",
       "      <td>A</td>\n",
       "      <td>Kidney_Cortex</td>\n",
       "      <td>3.061431e-02</td>\n",
       "      <td>0.176923</td>\n",
       "      <td>10001</td>\n",
       "      <td>1_7841330_G_A_b37</td>\n",
       "      <td>...</td>\n",
       "      <td>A</td>\n",
       "      <td>ADD</td>\n",
       "      <td>55</td>\n",
       "      <td>-0.078666</td>\n",
       "      <td>0.366049</td>\n",
       "      <td>-0.214906</td>\n",
       "      <td>0.830906</td>\n",
       "      <td>.</td>\n",
       "      <td>VAMP3</td>\n",
       "      <td>Kidney_Cortex.KICH</td>\n",
       "    </tr>\n",
       "    <tr>\n",
       "      <th>100</th>\n",
       "      <td>ENSG00000049245</td>\n",
       "      <td>0.230936</td>\n",
       "      <td>0.103450</td>\n",
       "      <td>G</td>\n",
       "      <td>A</td>\n",
       "      <td>Kidney_Cortex</td>\n",
       "      <td>3.061431e-02</td>\n",
       "      <td>0.176923</td>\n",
       "      <td>10001</td>\n",
       "      <td>1_7841330_G_A_b37</td>\n",
       "      <td>...</td>\n",
       "      <td>A</td>\n",
       "      <td>ADD</td>\n",
       "      <td>418</td>\n",
       "      <td>0.182127</td>\n",
       "      <td>0.111590</td>\n",
       "      <td>1.632110</td>\n",
       "      <td>0.103436</td>\n",
       "      <td>.</td>\n",
       "      <td>VAMP3</td>\n",
       "      <td>Kidney_Cortex.KIRC</td>\n",
       "    </tr>\n",
       "    <tr>\n",
       "      <th>101</th>\n",
       "      <td>ENSG00000049245</td>\n",
       "      <td>0.230936</td>\n",
       "      <td>0.103450</td>\n",
       "      <td>G</td>\n",
       "      <td>A</td>\n",
       "      <td>Kidney_Cortex</td>\n",
       "      <td>3.061431e-02</td>\n",
       "      <td>0.176923</td>\n",
       "      <td>10001</td>\n",
       "      <td>1_7841330_G_A_b37</td>\n",
       "      <td>...</td>\n",
       "      <td>A</td>\n",
       "      <td>ADD</td>\n",
       "      <td>204</td>\n",
       "      <td>0.194364</td>\n",
       "      <td>0.156992</td>\n",
       "      <td>1.238050</td>\n",
       "      <td>0.217225</td>\n",
       "      <td>.</td>\n",
       "      <td>VAMP3</td>\n",
       "      <td>Kidney_Cortex.KIRP</td>\n",
       "    </tr>\n",
       "    <tr>\n",
       "      <th>145</th>\n",
       "      <td>ENSG00000049245</td>\n",
       "      <td>0.154947</td>\n",
       "      <td>0.031240</td>\n",
       "      <td>G</td>\n",
       "      <td>A</td>\n",
       "      <td>Testis</td>\n",
       "      <td>1.417909e-06</td>\n",
       "      <td>0.132353</td>\n",
       "      <td>10001</td>\n",
       "      <td>1_7841330_G_A_b37</td>\n",
       "      <td>...</td>\n",
       "      <td>A</td>\n",
       "      <td>ADD</td>\n",
       "      <td>108</td>\n",
       "      <td>0.112593</td>\n",
       "      <td>0.223966</td>\n",
       "      <td>0.502725</td>\n",
       "      <td>0.616321</td>\n",
       "      <td>.</td>\n",
       "      <td>VAMP3</td>\n",
       "      <td>Testis.TGCT</td>\n",
       "    </tr>\n",
       "    <tr>\n",
       "      <th>247</th>\n",
       "      <td>ENSG00000049245</td>\n",
       "      <td>0.289008</td>\n",
       "      <td>0.037165</td>\n",
       "      <td>G</td>\n",
       "      <td>A</td>\n",
       "      <td>Brain_Hippocampus</td>\n",
       "      <td>4.309925e-12</td>\n",
       "      <td>0.130000</td>\n",
       "      <td>10001</td>\n",
       "      <td>1_7841330_G_A_b37</td>\n",
       "      <td>...</td>\n",
       "      <td>A</td>\n",
       "      <td>ADD</td>\n",
       "      <td>121</td>\n",
       "      <td>0.465647</td>\n",
       "      <td>0.233285</td>\n",
       "      <td>1.996050</td>\n",
       "      <td>0.048469</td>\n",
       "      <td>.</td>\n",
       "      <td>VAMP3</td>\n",
       "      <td>Brain_Hippocampus.GBM</td>\n",
       "    </tr>\n",
       "  </tbody>\n",
       "</table>\n",
       "<p>5 rows × 29 columns</p>\n",
       "</div>"
      ],
      "text/plain": [
       "             gene_id     slope  slope_se ref alt               file  \\\n",
       "99   ENSG00000049245  0.230936  0.103450   G   A      Kidney_Cortex   \n",
       "100  ENSG00000049245  0.230936  0.103450   G   A      Kidney_Cortex   \n",
       "101  ENSG00000049245  0.230936  0.103450   G   A      Kidney_Cortex   \n",
       "145  ENSG00000049245  0.154947  0.031240   G   A             Testis   \n",
       "247  ENSG00000049245  0.289008  0.037165   G   A  Brain_Hippocampus   \n",
       "\n",
       "     pval_nominal       maf  tss_distance        variant_b37  ... A1 TEST  \\\n",
       "99   3.061431e-02  0.176923         10001  1_7841330_G_A_b37  ...  A  ADD   \n",
       "100  3.061431e-02  0.176923         10001  1_7841330_G_A_b37  ...  A  ADD   \n",
       "101  3.061431e-02  0.176923         10001  1_7841330_G_A_b37  ...  A  ADD   \n",
       "145  1.417909e-06  0.132353         10001  1_7841330_G_A_b37  ...  A  ADD   \n",
       "247  4.309925e-12  0.130000         10001  1_7841330_G_A_b37  ...  A  ADD   \n",
       "\n",
       "    OBS_CT      BETA        SE    T_STAT         P ERRCODE  pheno  \\\n",
       "99      55 -0.078666  0.366049 -0.214906  0.830906       .  VAMP3   \n",
       "100    418  0.182127  0.111590  1.632110  0.103436       .  VAMP3   \n",
       "101    204  0.194364  0.156992  1.238050  0.217225       .  VAMP3   \n",
       "145    108  0.112593  0.223966  0.502725  0.616321       .  VAMP3   \n",
       "247    121  0.465647  0.233285  1.996050  0.048469       .  VAMP3   \n",
       "\n",
       "                     combo  \n",
       "99      Kidney_Cortex.KICH  \n",
       "100     Kidney_Cortex.KIRC  \n",
       "101     Kidney_Cortex.KIRP  \n",
       "145            Testis.TGCT  \n",
       "247  Brain_Hippocampus.GBM  \n",
       "\n",
       "[5 rows x 29 columns]"
      ]
     },
     "execution_count": 82,
     "metadata": {},
     "output_type": "execute_result"
    }
   ],
   "source": [
    "compare_beta.head()"
   ]
  },
  {
   "cell_type": "code",
   "execution_count": 83,
   "metadata": {},
   "outputs": [
    {
     "data": {
      "image/png": "[encoded data removed]",
      "text/plain": [
       "<Figure size 720x720 with 1 Axes>"
      ]
     },
     "metadata": {
      "needs_background": "light"
     },
     "output_type": "display_data"
    }
   ],
   "source": [
    "fig = plt.figure(figsize=(10,10))\n",
    "ax = fig.add_subplot(111)\n",
    "\n",
    "n=compare_beta[\"file_name\"].unique()\n",
    "color=iter(cm.rainbow(np.linspace(0,1,len(n))))\n",
    "\n",
    "for x in n:\n",
    "    c=next(color)\n",
    "    canc_filt_dev=compare_beta[compare_beta[\"file_name\"]==x]\n",
    "    plt.scatter(canc_filt_dev[\"slope\"],canc_filt_dev[\"BETA\"],color=c,marker=\".\",label=x)\n",
    "\n",
    "\n",
    "ax.set_xlabel(\"gtex beta\")\n",
    "ax.plot([ax.get_xlim()[0],ax.get_xlim()[1]], [ax.get_xlim()[0],ax.get_xlim()[1]], ls=\"--\", c=\"k\")\n",
    "ax.set_ylabel(\"tcga beta\")\n",
    "plt.legend()\n",
    "fig.savefig('gtex.beta.pdf')"
   ]
  },
  {
   "cell_type": "markdown",
   "metadata": {},
   "source": [
    "## Get cell types of trans associations"
   ]
  },
  {
   "cell_type": "code",
   "execution_count": 120,
   "metadata": {},
   "outputs": [
    {
     "data": {
      "text/html": [
       "<div>\n",
       "<style scoped>\n",
       "    .dataframe tbody tr th:only-of-type {\n",
       "        vertical-align: middle;\n",
       "    }\n",
       "\n",
       "    .dataframe tbody tr th {\n",
       "        vertical-align: top;\n",
       "    }\n",
       "\n",
       "    .dataframe thead th {\n",
       "        text-align: right;\n",
       "    }\n",
       "</style>\n",
       "<table border=\"1\" class=\"dataframe\">\n",
       "  <thead>\n",
       "    <tr style=\"text-align: right;\">\n",
       "      <th></th>\n",
       "      <th>0</th>\n",
       "      <th>1</th>\n",
       "      <th>2</th>\n",
       "      <th>3</th>\n",
       "      <th>4</th>\n",
       "      <th>5</th>\n",
       "      <th>6</th>\n",
       "      <th>7</th>\n",
       "      <th>8</th>\n",
       "    </tr>\n",
       "  </thead>\n",
       "  <tbody>\n",
       "    <tr>\n",
       "      <th>0</th>\n",
       "      <td>chr1</td>\n",
       "      <td>HAVANA</td>\n",
       "      <td>gene</td>\n",
       "      <td>11869</td>\n",
       "      <td>14412</td>\n",
       "      <td>.</td>\n",
       "      <td>+</td>\n",
       "      <td>.</td>\n",
       "      <td>ID=ENSG00000223972.4;gene_id=ENSG00000223972.4...</td>\n",
       "    </tr>\n",
       "    <tr>\n",
       "      <th>1</th>\n",
       "      <td>chr1</td>\n",
       "      <td>HAVANA</td>\n",
       "      <td>transcript</td>\n",
       "      <td>11869</td>\n",
       "      <td>14409</td>\n",
       "      <td>.</td>\n",
       "      <td>+</td>\n",
       "      <td>.</td>\n",
       "      <td>ID=ENST00000456328.2;Parent=ENSG00000223972.4;...</td>\n",
       "    </tr>\n",
       "    <tr>\n",
       "      <th>2</th>\n",
       "      <td>chr1</td>\n",
       "      <td>HAVANA</td>\n",
       "      <td>exon</td>\n",
       "      <td>11869</td>\n",
       "      <td>12227</td>\n",
       "      <td>.</td>\n",
       "      <td>+</td>\n",
       "      <td>.</td>\n",
       "      <td>ID=exon:ENST00000456328.2:1;Parent=ENST0000045...</td>\n",
       "    </tr>\n",
       "    <tr>\n",
       "      <th>3</th>\n",
       "      <td>chr1</td>\n",
       "      <td>HAVANA</td>\n",
       "      <td>exon</td>\n",
       "      <td>12613</td>\n",
       "      <td>12721</td>\n",
       "      <td>.</td>\n",
       "      <td>+</td>\n",
       "      <td>.</td>\n",
       "      <td>ID=exon:ENST00000456328.2:2;Parent=ENST0000045...</td>\n",
       "    </tr>\n",
       "    <tr>\n",
       "      <th>4</th>\n",
       "      <td>chr1</td>\n",
       "      <td>HAVANA</td>\n",
       "      <td>exon</td>\n",
       "      <td>13221</td>\n",
       "      <td>14409</td>\n",
       "      <td>.</td>\n",
       "      <td>+</td>\n",
       "      <td>.</td>\n",
       "      <td>ID=exon:ENST00000456328.2:3;Parent=ENST0000045...</td>\n",
       "    </tr>\n",
       "  </tbody>\n",
       "</table>\n",
       "</div>"
      ],
      "text/plain": [
       "      0       1           2      3      4  5  6  7  \\\n",
       "0  chr1  HAVANA        gene  11869  14412  .  +  .   \n",
       "1  chr1  HAVANA  transcript  11869  14409  .  +  .   \n",
       "2  chr1  HAVANA        exon  11869  12227  .  +  .   \n",
       "3  chr1  HAVANA        exon  12613  12721  .  +  .   \n",
       "4  chr1  HAVANA        exon  13221  14409  .  +  .   \n",
       "\n",
       "                                                   8  \n",
       "0  ID=ENSG00000223972.4;gene_id=ENSG00000223972.4...  \n",
       "1  ID=ENST00000456328.2;Parent=ENSG00000223972.4;...  \n",
       "2  ID=exon:ENST00000456328.2:1;Parent=ENST0000045...  \n",
       "3  ID=exon:ENST00000456328.2:2;Parent=ENST0000045...  \n",
       "4  ID=exon:ENST00000456328.2:3;Parent=ENST0000045...  "
      ]
     },
     "execution_count": 120,
     "metadata": {},
     "output_type": "execute_result"
    }
   ],
   "source": [
    "gff3=pd.read_csv(\"/cellar/users/mpagadal/Data/resources/annotations/gencode.v19.annotation.gff3\",delimiter=\"\\t\",header=None,comment=\"#\")\n",
    "gff3.head()"
   ]
  },
  {
   "cell_type": "code",
   "execution_count": 121,
   "metadata": {},
   "outputs": [],
   "source": [
    "gff3[\"ID\"]=gff3[8].str.split(\"gene_id=\").str[1].str.split(\";\").str[0]\n",
    "gff3[\"type\"]=gff3[8].str.split(\"gene_type=\").str[1].str.split(\";\").str[0]"
   ]
  },
  {
   "cell_type": "code",
   "execution_count": 122,
   "metadata": {},
   "outputs": [],
   "source": [
    "gff3[\"ID\"]=gff3[\"ID\"].str.split(\".\").str[0]"
   ]
  },
  {
   "cell_type": "code",
   "execution_count": 123,
   "metadata": {},
   "outputs": [],
   "source": [
    "mp_type=dict(zip(gff3[\"ID\"],gff3[\"type\"]))"
   ]
  },
  {
   "cell_type": "code",
   "execution_count": 124,
   "metadata": {},
   "outputs": [],
   "source": [
    "gtex_trans=gtex_assoc[gtex_assoc[\"assoc\"].isin(trans)]"
   ]
  },
  {
   "cell_type": "code",
   "execution_count": 127,
   "metadata": {},
   "outputs": [
    {
     "name": "stderr",
     "output_type": "stream",
     "text": [
      "/nrnb/opt/anaconda3.7/lib/python3.7/site-packages/ipykernel_launcher.py:1: SettingWithCopyWarning: \n",
      "A value is trying to be set on a copy of a slice from a DataFrame.\n",
      "Try using .loc[row_indexer,col_indexer] = value instead\n",
      "\n",
      "See the caveats in the documentation: https://pandas.pydata.org/pandas-docs/stable/user_guide/indexing.html#returning-a-view-versus-a-copy\n",
      "  \"\"\"Entry point for launching an IPython kernel.\n"
     ]
    }
   ],
   "source": [
    "gtex_trans[\"type\"]=gtex_trans[\"gene_id\"].map(mp_type)"
   ]
  },
  {
   "cell_type": "code",
   "execution_count": 128,
   "metadata": {},
   "outputs": [],
   "source": [
    "gtex_trans=gtex_trans[~(gtex_trans[\"gtex gene\"].isnull())]"
   ]
  },
  {
   "cell_type": "code",
   "execution_count": 131,
   "metadata": {},
   "outputs": [],
   "source": [
    "gtex_trans=gtex_trans[~gtex_trans[\"gtex gene\"].isnull()]"
   ]
  },
  {
   "cell_type": "code",
   "execution_count": 132,
   "metadata": {},
   "outputs": [
    {
     "data": {
      "text/plain": [
       "42"
      ]
     },
     "execution_count": 132,
     "metadata": {},
     "output_type": "execute_result"
    }
   ],
   "source": [
    "len(gtex_trans[\"assoc\"].unique())"
   ]
  },
  {
   "cell_type": "code",
   "execution_count": 133,
   "metadata": {},
   "outputs": [],
   "source": [
    "df_pie=gtex_trans[[\"assoc\",\"gene_id\",\"type\"]].drop_duplicates()[\"type\"].value_counts()"
   ]
  },
  {
   "cell_type": "code",
   "execution_count": 134,
   "metadata": {},
   "outputs": [
    {
     "data": {
      "text/html": [
       "<div>\n",
       "<style scoped>\n",
       "    .dataframe tbody tr th:only-of-type {\n",
       "        vertical-align: middle;\n",
       "    }\n",
       "\n",
       "    .dataframe tbody tr th {\n",
       "        vertical-align: top;\n",
       "    }\n",
       "\n",
       "    .dataframe thead th {\n",
       "        text-align: right;\n",
       "    }\n",
       "</style>\n",
       "<table border=\"1\" class=\"dataframe\">\n",
       "  <thead>\n",
       "    <tr style=\"text-align: right;\">\n",
       "      <th></th>\n",
       "      <th>index</th>\n",
       "      <th>type</th>\n",
       "    </tr>\n",
       "  </thead>\n",
       "  <tbody>\n",
       "    <tr>\n",
       "      <th>0</th>\n",
       "      <td>protein_coding</td>\n",
       "      <td>142</td>\n",
       "    </tr>\n",
       "    <tr>\n",
       "      <th>1</th>\n",
       "      <td>pseudogene</td>\n",
       "      <td>44</td>\n",
       "    </tr>\n",
       "    <tr>\n",
       "      <th>2</th>\n",
       "      <td>lincRNA</td>\n",
       "      <td>38</td>\n",
       "    </tr>\n",
       "    <tr>\n",
       "      <th>3</th>\n",
       "      <td>processed_transcript</td>\n",
       "      <td>7</td>\n",
       "    </tr>\n",
       "    <tr>\n",
       "      <th>4</th>\n",
       "      <td>antisense</td>\n",
       "      <td>7</td>\n",
       "    </tr>\n",
       "    <tr>\n",
       "      <th>5</th>\n",
       "      <td>sense_intronic</td>\n",
       "      <td>2</td>\n",
       "    </tr>\n",
       "    <tr>\n",
       "      <th>6</th>\n",
       "      <td>sense_overlapping</td>\n",
       "      <td>1</td>\n",
       "    </tr>\n",
       "  </tbody>\n",
       "</table>\n",
       "</div>"
      ],
      "text/plain": [
       "                  index  type\n",
       "0        protein_coding   142\n",
       "1            pseudogene    44\n",
       "2               lincRNA    38\n",
       "3  processed_transcript     7\n",
       "4             antisense     7\n",
       "5        sense_intronic     2\n",
       "6     sense_overlapping     1"
      ]
     },
     "execution_count": 134,
     "metadata": {},
     "output_type": "execute_result"
    }
   ],
   "source": [
    "df_pie=df_pie.reset_index()\n",
    "df_pie"
   ]
  },
  {
   "cell_type": "code",
   "execution_count": 135,
   "metadata": {},
   "outputs": [
    {
     "data": {
      "image/png": "[encoded data removed]",
      "text/plain": [
       "<Figure size 216x216 with 1 Axes>"
      ]
     },
     "metadata": {},
     "output_type": "display_data"
    }
   ],
   "source": [
    "f=plt.figure(figsize=(3,3))\n",
    "labels = df_pie[\"index\"].tolist()\n",
    "sizes = df_pie[\"type\"].tolist()\n",
    "plt.pie(sizes,labels=labels,autopct='%1.1f%%')\n",
    "f.savefig(\"./plots/pie.type.pdf\")"
   ]
  },
  {
   "cell_type": "code",
   "execution_count": null,
   "metadata": {},
   "outputs": [],
   "source": []
  }
 ],
 "metadata": {
  "kernelspec": {
   "display_name": "Python 3",
   "language": "python",
   "name": "python3"
  },
  "language_info": {
   "codemirror_mode": {
    "name": "ipython",
    "version": 3
   },
   "file_extension": ".py",
   "mimetype": "text/x-python",
   "name": "python",
   "nbconvert_exporter": "python",
   "pygments_lexer": "ipython3",
   "version": "3.7.7"
  }
 },
 "nbformat": 4,
 "nbformat_minor": 4
}
