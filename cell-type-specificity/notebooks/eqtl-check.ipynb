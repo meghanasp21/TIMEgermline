{
 "cells": [
  {
   "cell_type": "code",
   "execution_count": 1,
   "metadata": {},
   "outputs": [],
   "source": [
    "import pandas as pd\n",
    "import os\n",
    "import json\n",
    "import matplotlib.pyplot as plt\n",
    "import numpy as np"
   ]
  },
  {
   "cell_type": "code",
   "execution_count": 2,
   "metadata": {},
   "outputs": [],
   "source": [
    "import matplotlib as mpl\n",
    "from matplotlib.pyplot import cm"
   ]
  },
  {
   "cell_type": "code",
   "execution_count": 3,
   "metadata": {},
   "outputs": [],
   "source": [
    "import matplotlib\n",
    "matplotlib.rcParams['pdf.fonttype'] = 42\n",
    "matplotlib.rcParams['ps.fonttype'] = 42"
   ]
  },
  {
   "cell_type": "code",
   "execution_count": 4,
   "metadata": {},
   "outputs": [],
   "source": [
    "import matplotlib.pyplot as plt\n",
    "from matplotlib_venn import venn2\n",
    "from matplotlib_venn import venn3"
   ]
  },
  {
   "cell_type": "markdown",
   "metadata": {},
   "source": [
    "## Get GTEx significant associations"
   ]
  },
  {
   "cell_type": "code",
   "execution_count": 5,
   "metadata": {},
   "outputs": [],
   "source": [
    "sig_eqtl=\"/cellar/users/mpagadal/Data/gtex/GTEx_Analysis_v8_eQTL_EUR\"\n",
    "files=[x for x in os.listdir(sig_eqtl) if \"pairs\" in x]"
   ]
  },
  {
   "cell_type": "code",
   "execution_count": 6,
   "metadata": {},
   "outputs": [],
   "source": [
    "mapping=pd.read_csv(\"/cellar/users/mpagadal/Data/gtex/GTEx_Analysis_2017-06-05_v8_WholeGenomeSeq_838Indiv_Analysis_Freeze.lookup_table.txt\",delimiter=\"\\t\")\n",
    "mp_b38_b37=dict(zip(mapping.variant_id,mapping.variant_id_b37))"
   ]
  },
  {
   "cell_type": "code",
   "execution_count": 7,
   "metadata": {},
   "outputs": [],
   "source": [
    "#get snp lst\n",
    "snps=pd.read_csv(\"/cellar/users/mpagadal/Data/projects/germline-immune/snp-tables/immune-microenvironment-nonhla.tsv\",delimiter=\"\\t\")\n",
    "snps[\"assoc\"]=snps[\"snps\"]+\"_\"+snps[\"file\"]\n",
    "snp_lst=snps[\"snps\"].tolist()+[x.rsplit(\":\",2)[0]+\":\"+x.split(\":\")[3]+\":\"+x.split(\":\")[2] for x in snps[\"snps\"].tolist()]\n"
   ]
  },
  {
   "cell_type": "code",
   "execution_count": 8,
   "metadata": {},
   "outputs": [],
   "source": [
    "compiled_cis=pd.DataFrame()\n",
    "\n",
    "for x in files:\n",
    "    eqtl=pd.read_csv(sig_eqtl+\"/\"+x,delimiter=\"\\t\")\n",
    "    eqtl[\"variant_b37\"] = eqtl[\"variant_id\"].map(mp_b38_b37)\n",
    "    eqtl[\"variant\"] = eqtl[\"variant_b37\"].str.split(\"_\").str[0]+\":\"+eqtl[\"variant_b37\"].str.split(\"_\").str[1]+\":\"+eqtl[\"variant_b37\"].str.split(\"_\").str[2]+\":\"+eqtl[\"variant_b37\"].str.split(\"_\").str[3]\n",
    "    eqtl[\"cell\"]=x.split(\".v8\")[0]\n",
    "    eqtl_filt=eqtl[eqtl[\"variant\"].isin(snp_lst)]\n",
    "    compiled_cis=compiled_cis.append(eqtl_filt)"
   ]
  },
  {
   "cell_type": "code",
   "execution_count": 9,
   "metadata": {},
   "outputs": [],
   "source": [
    "compiled_cis[\"gene_id\"]=compiled_cis[\"phenotype_id\"].str.split(\".\").str[0]"
   ]
  },
  {
   "cell_type": "code",
   "execution_count": 10,
   "metadata": {},
   "outputs": [],
   "source": [
    "with open('/cellar/users/mpagadal/Data/resources/tcga/ensembl_map.json', 'r') as f:\n",
    "    ensembl_dict = json.load(f)"
   ]
  },
  {
   "cell_type": "code",
   "execution_count": 11,
   "metadata": {},
   "outputs": [],
   "source": [
    "ensembl_dict={k.split(\".\")[0]:v for k,v in ensembl_dict.items()}"
   ]
  },
  {
   "cell_type": "code",
   "execution_count": 12,
   "metadata": {},
   "outputs": [],
   "source": [
    "compiled_cis[\"gtex gene\"]=compiled_cis[\"gene_id\"].map(ensembl_dict)"
   ]
  },
  {
   "cell_type": "code",
   "execution_count": 13,
   "metadata": {},
   "outputs": [],
   "source": [
    "compiled_cis=compiled_cis.rename(columns={\"variant\":\"snps\"})"
   ]
  },
  {
   "cell_type": "code",
   "execution_count": 14,
   "metadata": {},
   "outputs": [],
   "source": [
    "compiled_cis[\"assoc\"]=compiled_cis[\"snps\"]+\"_\"+compiled_cis[\"gtex gene\"]"
   ]
  },
  {
   "cell_type": "markdown",
   "metadata": {},
   "source": [
    "## combine gtex and tcga data frame"
   ]
  },
  {
   "cell_type": "code",
   "execution_count": 16,
   "metadata": {},
   "outputs": [],
   "source": [
    "gtex_assoc=pd.merge(snps,compiled_cis[[\"snps\",\"gtex gene\",\"cell\",\"gene_id\"]],on=\"snps\",how=\"left\")"
   ]
  },
  {
   "cell_type": "code",
   "execution_count": 17,
   "metadata": {},
   "outputs": [],
   "source": [
    "cis=gtex_assoc[~(gtex_assoc[\"cis tss\"].isnull())][\"assoc\"].unique()\n",
    "trans=gtex_assoc[gtex_assoc[\"cis tss\"].isnull()][\"assoc\"].unique()"
   ]
  },
  {
   "cell_type": "code",
   "execution_count": 18,
   "metadata": {},
   "outputs": [
    {
     "data": {
      "text/plain": [
       "389"
      ]
     },
     "execution_count": 18,
     "metadata": {},
     "output_type": "execute_result"
    }
   ],
   "source": [
    "len(cis)"
   ]
  },
  {
   "cell_type": "code",
   "execution_count": 19,
   "metadata": {},
   "outputs": [
    {
     "data": {
      "text/plain": [
       "93"
      ]
     },
     "execution_count": 19,
     "metadata": {},
     "output_type": "execute_result"
    }
   ],
   "source": [
    "len(trans)"
   ]
  },
  {
   "cell_type": "code",
   "execution_count": 20,
   "metadata": {},
   "outputs": [],
   "source": [
    "gtex_cis=gtex_assoc[gtex_assoc[\"assoc\"].isin(cis)]\n",
    "gtex_cis=gtex_cis[gtex_cis[\"gtex gene\"]==gtex_cis[\"file\"]][\"assoc\"].unique().tolist()"
   ]
  },
  {
   "cell_type": "code",
   "execution_count": 21,
   "metadata": {},
   "outputs": [
    {
     "data": {
      "text/plain": [
       "171"
      ]
     },
     "execution_count": 21,
     "metadata": {},
     "output_type": "execute_result"
    }
   ],
   "source": [
    "len(gtex_cis)"
   ]
  },
  {
   "cell_type": "code",
   "execution_count": 22,
   "metadata": {},
   "outputs": [],
   "source": [
    "gtex_trans=gtex_assoc[gtex_assoc[\"assoc\"].isin(trans)]\n",
    "gtex_trans=gtex_trans[~(gtex_trans[\"gtex gene\"].isnull())][\"assoc\"].unique().tolist()"
   ]
  },
  {
   "cell_type": "code",
   "execution_count": 23,
   "metadata": {},
   "outputs": [
    {
     "data": {
      "text/plain": [
       "42"
      ]
     },
     "execution_count": 23,
     "metadata": {},
     "output_type": "execute_result"
    }
   ],
   "source": [
    "len(gtex_trans)"
   ]
  },
  {
   "cell_type": "code",
   "execution_count": 24,
   "metadata": {},
   "outputs": [
    {
     "data": {
      "image/png": "[encoded data removed]",
      "text/plain": [
       "<Figure size 360x360 with 1 Axes>"
      ]
     },
     "metadata": {
      "needs_background": "light"
     },
     "output_type": "display_data"
    }
   ],
   "source": [
    "f=plt.figure(figsize=(5,5))\n",
    "plt.bar([\"cis\",\"trans\"],[len(cis),len(trans)])\n",
    "plt.bar([\"cis\",\"trans\"],[len(gtex_cis),len(gtex_trans)],label=\"gtex eQTL\")\n",
    "plt.ylabel(\"number of associations\")\n",
    "plt.xlabel(\"type of association\")\n",
    "plt.legend()\n",
    "plt.savefig(\"gtex.eqtl.pdf\")"
   ]
  },
  {
   "cell_type": "code",
   "execution_count": 25,
   "metadata": {},
   "outputs": [
    {
     "data": {
      "text/plain": [
       "93"
      ]
     },
     "execution_count": 25,
     "metadata": {},
     "output_type": "execute_result"
    }
   ],
   "source": [
    "len(trans)"
   ]
  },
  {
   "cell_type": "code",
   "execution_count": 26,
   "metadata": {},
   "outputs": [],
   "source": [
    "combos=['Kidney_Cortex.KICH',\n",
    " 'Kidney_Cortex.KIRC',\n",
    " 'Kidney_Cortex.KIRP',\n",
    " 'Testis.TGCT',\n",
    " 'Brain_Hippocampus.GBM',\n",
    " 'Skin_Sun_Exposed_Lower_leg.SKCM',\n",
    " 'Ovary.OV',\n",
    " 'Colon_Transverse.COAD',\n",
    " 'Adrenal_Gland.ACC',\n",
    " 'Pancreas.PAAD',\n",
    " 'Esophagus_Muscularis.ESCA',\n",
    " 'Stomach.STAD',\n",
    " 'Thyroid.THCA',\n",
    " 'Breast_Mammary_Tissue.BRCA',\n",
    " 'Minor_Salivary_Gland.HNSC',\n",
    " 'Brain_Anterior_cingulate_cortex_BA24.LGG',\n",
    " 'Liver.LIHC',\n",
    " 'Prostate.PRAD',\n",
    " 'Uterus.UCEC',\n",
    " 'Lung.LUAD',\n",
    " 'Lung.LUSC']\n",
    "gtex_tissues=[x.split(\".\")[0] for x in combos]"
   ]
  },
  {
   "cell_type": "code",
   "execution_count": 27,
   "metadata": {},
   "outputs": [],
   "source": [
    "overlap=compiled_cis[compiled_cis[\"cell\"].isin(gtex_tissues+[\"Whole_Blood\"])]"
   ]
  },
  {
   "cell_type": "code",
   "execution_count": 37,
   "metadata": {},
   "outputs": [
    {
     "data": {
      "text/plain": [
       "['Kidney_Cortex',\n",
       " 'Kidney_Cortex',\n",
       " 'Kidney_Cortex',\n",
       " 'Testis',\n",
       " 'Brain_Hippocampus',\n",
       " 'Skin_Sun_Exposed_Lower_leg',\n",
       " 'Ovary',\n",
       " 'Colon_Transverse',\n",
       " 'Adrenal_Gland',\n",
       " 'Pancreas',\n",
       " 'Esophagus_Muscularis',\n",
       " 'Stomach',\n",
       " 'Thyroid',\n",
       " 'Breast_Mammary_Tissue',\n",
       " 'Minor_Salivary_Gland',\n",
       " 'Brain_Anterior_cingulate_cortex_BA24',\n",
       " 'Liver',\n",
       " 'Prostate',\n",
       " 'Uterus',\n",
       " 'Lung',\n",
       " 'Lung']"
      ]
     },
     "execution_count": 37,
     "metadata": {},
     "output_type": "execute_result"
    }
   ],
   "source": [
    "gtex_tissues"
   ]
  },
  {
   "cell_type": "code",
   "execution_count": 61,
   "metadata": {},
   "outputs": [
    {
     "name": "stdout",
     "output_type": "stream",
     "text": [
      "Pancreas\n",
      "Kidney_Cortex\n",
      "Minor_Salivary_Gland\n",
      "Skin_Sun_Exposed_Lower_leg\n",
      "Liver\n",
      "Colon_Transverse\n",
      "Prostate\n",
      "Stomach\n",
      "Adrenal_Gland\n",
      "Brain_Anterior_cingulate_cortex_BA24\n",
      "Breast_Mammary_Tissue\n",
      "Lung\n",
      "Ovary\n",
      "Uterus\n",
      "Thyroid\n",
      "Testis\n",
      "Esophagus_Muscularis\n",
      "Brain_Hippocampus\n"
     ]
    },
    {
     "data": {
      "image/png": "[encoded data removed]",
      "text/plain": [
       "<Figure size 1080x720 with 18 Axes>"
      ]
     },
     "metadata": {},
     "output_type": "display_data"
    }
   ],
   "source": [
    "fig, axs = plt.subplots(3, 6, sharey=True, tight_layout=True, figsize=(15, 10))\n",
    "axli = axs.flatten()\n",
    "\n",
    "for i,y in enumerate([x for x in set(gtex_tissues)]):\n",
    "    print(y)\n",
    "    venn2([set(overlap[overlap[\"cell\"]==y][\"assoc\"].tolist()),set(overlap[overlap[\"cell\"]==\"Whole_Blood\"][\"assoc\"].tolist())],\n",
    "     set_labels=(\"\",\"\"), set_colors=[\"green\",\"gray\"],ax=axli[i])\n",
    "    axli[i].title.set_text(y)\n",
    "plt.show()"
   ]
  },
  {
   "cell_type": "code",
   "execution_count": 63,
   "metadata": {},
   "outputs": [],
   "source": [
    "snps=pd.read_csv(\"/cellar/users/mpagadal/Data/projects/germline-immune/snp-tables/immune-microenvironment-nonhla.tsv\",delimiter=\"\\t\")"
   ]
  },
  {
   "cell_type": "code",
   "execution_count": 64,
   "metadata": {
    "scrolled": true
   },
   "outputs": [
    {
     "data": {
      "text/html": [
       "<div>\n",
       "<style scoped>\n",
       "    .dataframe tbody tr th:only-of-type {\n",
       "        vertical-align: middle;\n",
       "    }\n",
       "\n",
       "    .dataframe tbody tr th {\n",
       "        vertical-align: top;\n",
       "    }\n",
       "\n",
       "    .dataframe thead th {\n",
       "        text-align: right;\n",
       "    }\n",
       "</style>\n",
       "<table border=\"1\" class=\"dataframe\">\n",
       "  <thead>\n",
       "    <tr style=\"text-align: right;\">\n",
       "      <th></th>\n",
       "      <th>snps</th>\n",
       "      <th>file</th>\n",
       "      <th>category</th>\n",
       "      <th>maf</th>\n",
       "      <th>variant</th>\n",
       "      <th>rsid</th>\n",
       "      <th>tpm beta</th>\n",
       "      <th>tpm SE</th>\n",
       "      <th>tpm P</th>\n",
       "      <th>REF</th>\n",
       "      <th>ALT</th>\n",
       "      <th>firebrowse beta</th>\n",
       "      <th>firebrowse SE</th>\n",
       "      <th>firebrowse P</th>\n",
       "      <th>pancan beta</th>\n",
       "      <th>pancan SE</th>\n",
       "      <th>pancan P</th>\n",
       "      <th>p-value</th>\n",
       "      <th>cis tss</th>\n",
       "      <th>gwas</th>\n",
       "    </tr>\n",
       "  </thead>\n",
       "  <tbody>\n",
       "    <tr>\n",
       "      <th>0</th>\n",
       "      <td>19:7789796:T:C</td>\n",
       "      <td>CD209</td>\n",
       "      <td>cell type</td>\n",
       "      <td>0.25930</td>\n",
       "      <td>chr19:g.7789796T&gt;C</td>\n",
       "      <td>rs10422720</td>\n",
       "      <td>-0.153826</td>\n",
       "      <td>0.018988</td>\n",
       "      <td>6.358100e-16</td>\n",
       "      <td>T</td>\n",
       "      <td>C</td>\n",
       "      <td>-0.174974</td>\n",
       "      <td>0.019221</td>\n",
       "      <td>1.126740e-19</td>\n",
       "      <td>-0.178179</td>\n",
       "      <td>0.018876</td>\n",
       "      <td>4.971470e-21</td>\n",
       "      <td>4.971470e-21</td>\n",
       "      <td>15084.0</td>\n",
       "      <td>['Blood protein levels']</td>\n",
       "    </tr>\n",
       "    <tr>\n",
       "      <th>1</th>\n",
       "      <td>19:7768298:A:G</td>\n",
       "      <td>CD209</td>\n",
       "      <td>cell type</td>\n",
       "      <td>0.15010</td>\n",
       "      <td>chr19:g.7768298A&gt;G</td>\n",
       "      <td>rs58901714</td>\n",
       "      <td>-0.143563</td>\n",
       "      <td>0.023409</td>\n",
       "      <td>9.105090e-10</td>\n",
       "      <td>A</td>\n",
       "      <td>G</td>\n",
       "      <td>-0.157023</td>\n",
       "      <td>0.023889</td>\n",
       "      <td>5.293960e-11</td>\n",
       "      <td>-0.151253</td>\n",
       "      <td>0.023379</td>\n",
       "      <td>1.047650e-10</td>\n",
       "      <td>5.293960e-11</td>\n",
       "      <td>36582.0</td>\n",
       "      <td>NaN</td>\n",
       "    </tr>\n",
       "    <tr>\n",
       "      <th>2</th>\n",
       "      <td>3:159633885:T:C</td>\n",
       "      <td>CD209</td>\n",
       "      <td>cell type</td>\n",
       "      <td>0.01491</td>\n",
       "      <td>chr3:g.159633885T&gt;C</td>\n",
       "      <td>rs76992466</td>\n",
       "      <td>-0.374997</td>\n",
       "      <td>0.068493</td>\n",
       "      <td>4.525630e-08</td>\n",
       "      <td>T</td>\n",
       "      <td>C</td>\n",
       "      <td>-0.340604</td>\n",
       "      <td>0.070042</td>\n",
       "      <td>1.182550e-06</td>\n",
       "      <td>-0.353152</td>\n",
       "      <td>0.068943</td>\n",
       "      <td>3.096210e-07</td>\n",
       "      <td>4.525630e-08</td>\n",
       "      <td>NaN</td>\n",
       "      <td>NaN</td>\n",
       "    </tr>\n",
       "    <tr>\n",
       "      <th>3</th>\n",
       "      <td>1:161508763:T:C</td>\n",
       "      <td>FCGR3B</td>\n",
       "      <td>cell type</td>\n",
       "      <td>0.36810</td>\n",
       "      <td>chr1:g.161508763T&gt;C</td>\n",
       "      <td>rs10919544</td>\n",
       "      <td>0.166431</td>\n",
       "      <td>0.017210</td>\n",
       "      <td>5.489110e-22</td>\n",
       "      <td>T</td>\n",
       "      <td>C</td>\n",
       "      <td>0.237579</td>\n",
       "      <td>0.017299</td>\n",
       "      <td>2.300510e-42</td>\n",
       "      <td>0.236799</td>\n",
       "      <td>0.016959</td>\n",
       "      <td>9.737500e-44</td>\n",
       "      <td>9.737500e-44</td>\n",
       "      <td>84224.0</td>\n",
       "      <td>['Takayasu arteritis', 'Blood protein levels']</td>\n",
       "    </tr>\n",
       "    <tr>\n",
       "      <th>4</th>\n",
       "      <td>1:161572353:T:C</td>\n",
       "      <td>FCGR3B</td>\n",
       "      <td>cell type</td>\n",
       "      <td>0.14500</td>\n",
       "      <td>chr1:g.161572353T&gt;C</td>\n",
       "      <td>rs67775399</td>\n",
       "      <td>-0.136145</td>\n",
       "      <td>0.023202</td>\n",
       "      <td>4.615400e-09</td>\n",
       "      <td>T</td>\n",
       "      <td>C</td>\n",
       "      <td>-0.166241</td>\n",
       "      <td>0.023540</td>\n",
       "      <td>1.799250e-12</td>\n",
       "      <td>-0.163998</td>\n",
       "      <td>0.023030</td>\n",
       "      <td>1.174700e-12</td>\n",
       "      <td>1.174700e-12</td>\n",
       "      <td>20634.0</td>\n",
       "      <td>['Blood protein levels', 'Offspring birth weig...</td>\n",
       "    </tr>\n",
       "    <tr>\n",
       "      <th>...</th>\n",
       "      <td>...</td>\n",
       "      <td>...</td>\n",
       "      <td>...</td>\n",
       "      <td>...</td>\n",
       "      <td>...</td>\n",
       "      <td>...</td>\n",
       "      <td>...</td>\n",
       "      <td>...</td>\n",
       "      <td>...</td>\n",
       "      <td>...</td>\n",
       "      <td>...</td>\n",
       "      <td>...</td>\n",
       "      <td>...</td>\n",
       "      <td>...</td>\n",
       "      <td>...</td>\n",
       "      <td>...</td>\n",
       "      <td>...</td>\n",
       "      <td>...</td>\n",
       "      <td>...</td>\n",
       "      <td>...</td>\n",
       "    </tr>\n",
       "    <tr>\n",
       "      <th>477</th>\n",
       "      <td>5:96228072:C:T</td>\n",
       "      <td>ERAP1</td>\n",
       "      <td>antigen present</td>\n",
       "      <td>0.03280</td>\n",
       "      <td>chr5:g.96228072C&gt;T</td>\n",
       "      <td>rs75263594</td>\n",
       "      <td>0.314825</td>\n",
       "      <td>0.046740</td>\n",
       "      <td>1.759080e-11</td>\n",
       "      <td>C</td>\n",
       "      <td>T</td>\n",
       "      <td>0.415443</td>\n",
       "      <td>0.047087</td>\n",
       "      <td>1.394430e-18</td>\n",
       "      <td>0.441081</td>\n",
       "      <td>0.045959</td>\n",
       "      <td>1.108240e-21</td>\n",
       "      <td>1.108240e-21</td>\n",
       "      <td>-117885.0</td>\n",
       "      <td>NaN</td>\n",
       "    </tr>\n",
       "    <tr>\n",
       "      <th>478</th>\n",
       "      <td>19:52151750:C:T</td>\n",
       "      <td>SIGLEC5</td>\n",
       "      <td>cell type</td>\n",
       "      <td>0.02647</td>\n",
       "      <td>chr19:g.52151750C&gt;T</td>\n",
       "      <td>rs138816179</td>\n",
       "      <td>-0.426090</td>\n",
       "      <td>0.051681</td>\n",
       "      <td>1.955820e-16</td>\n",
       "      <td>C</td>\n",
       "      <td>T</td>\n",
       "      <td>-0.271523</td>\n",
       "      <td>0.053179</td>\n",
       "      <td>3.382250e-07</td>\n",
       "      <td>-0.282401</td>\n",
       "      <td>0.051787</td>\n",
       "      <td>5.115210e-08</td>\n",
       "      <td>1.955820e-16</td>\n",
       "      <td>-36995.0</td>\n",
       "      <td>NaN</td>\n",
       "    </tr>\n",
       "    <tr>\n",
       "      <th>479</th>\n",
       "      <td>3:47672891:T:C</td>\n",
       "      <td>TREX1</td>\n",
       "      <td>antigen present</td>\n",
       "      <td>0.34310</td>\n",
       "      <td>chr3:g.47672891T&gt;C</td>\n",
       "      <td>rs1568691</td>\n",
       "      <td>0.108833</td>\n",
       "      <td>0.017492</td>\n",
       "      <td>5.189550e-10</td>\n",
       "      <td>T</td>\n",
       "      <td>C</td>\n",
       "      <td>0.101138</td>\n",
       "      <td>0.017753</td>\n",
       "      <td>1.268690e-08</td>\n",
       "      <td>0.108484</td>\n",
       "      <td>0.017414</td>\n",
       "      <td>4.936200e-10</td>\n",
       "      <td>4.936200e-10</td>\n",
       "      <td>834027.0</td>\n",
       "      <td>NaN</td>\n",
       "    </tr>\n",
       "    <tr>\n",
       "      <th>480</th>\n",
       "      <td>3:48343261:G:A</td>\n",
       "      <td>TREX1</td>\n",
       "      <td>antigen present</td>\n",
       "      <td>0.29480</td>\n",
       "      <td>chr3:g.48343261G&gt;A</td>\n",
       "      <td>rs34630841</td>\n",
       "      <td>-0.124618</td>\n",
       "      <td>0.018304</td>\n",
       "      <td>1.068290e-11</td>\n",
       "      <td>G</td>\n",
       "      <td>A</td>\n",
       "      <td>-0.106043</td>\n",
       "      <td>0.018541</td>\n",
       "      <td>1.112900e-08</td>\n",
       "      <td>-0.106346</td>\n",
       "      <td>0.018229</td>\n",
       "      <td>5.646740e-09</td>\n",
       "      <td>1.068290e-11</td>\n",
       "      <td>163657.0</td>\n",
       "      <td>['Medication use (agents acting on the renin-a...</td>\n",
       "    </tr>\n",
       "    <tr>\n",
       "      <th>481</th>\n",
       "      <td>12:50298535:T:C</td>\n",
       "      <td>TREX1</td>\n",
       "      <td>antigen present</td>\n",
       "      <td>0.42330</td>\n",
       "      <td>chr12:g.50298535C&gt;T</td>\n",
       "      <td>rs2655060</td>\n",
       "      <td>0.084835</td>\n",
       "      <td>0.017087</td>\n",
       "      <td>7.034090e-07</td>\n",
       "      <td>T</td>\n",
       "      <td>C</td>\n",
       "      <td>0.088010</td>\n",
       "      <td>0.017329</td>\n",
       "      <td>3.899120e-07</td>\n",
       "      <td>0.092714</td>\n",
       "      <td>0.016986</td>\n",
       "      <td>4.973040e-08</td>\n",
       "      <td>4.973040e-08</td>\n",
       "      <td>NaN</td>\n",
       "      <td>NaN</td>\n",
       "    </tr>\n",
       "  </tbody>\n",
       "</table>\n",
       "<p>482 rows × 20 columns</p>\n",
       "</div>"
      ],
      "text/plain": [
       "                snps     file         category      maf              variant  \\\n",
       "0     19:7789796:T:C    CD209        cell type  0.25930   chr19:g.7789796T>C   \n",
       "1     19:7768298:A:G    CD209        cell type  0.15010   chr19:g.7768298A>G   \n",
       "2    3:159633885:T:C    CD209        cell type  0.01491  chr3:g.159633885T>C   \n",
       "3    1:161508763:T:C   FCGR3B        cell type  0.36810  chr1:g.161508763T>C   \n",
       "4    1:161572353:T:C   FCGR3B        cell type  0.14500  chr1:g.161572353T>C   \n",
       "..               ...      ...              ...      ...                  ...   \n",
       "477   5:96228072:C:T    ERAP1  antigen present  0.03280   chr5:g.96228072C>T   \n",
       "478  19:52151750:C:T  SIGLEC5        cell type  0.02647  chr19:g.52151750C>T   \n",
       "479   3:47672891:T:C    TREX1  antigen present  0.34310   chr3:g.47672891T>C   \n",
       "480   3:48343261:G:A    TREX1  antigen present  0.29480   chr3:g.48343261G>A   \n",
       "481  12:50298535:T:C    TREX1  antigen present  0.42330  chr12:g.50298535C>T   \n",
       "\n",
       "            rsid  tpm beta    tpm SE         tpm P REF ALT  firebrowse beta  \\\n",
       "0     rs10422720 -0.153826  0.018988  6.358100e-16   T   C        -0.174974   \n",
       "1     rs58901714 -0.143563  0.023409  9.105090e-10   A   G        -0.157023   \n",
       "2     rs76992466 -0.374997  0.068493  4.525630e-08   T   C        -0.340604   \n",
       "3     rs10919544  0.166431  0.017210  5.489110e-22   T   C         0.237579   \n",
       "4     rs67775399 -0.136145  0.023202  4.615400e-09   T   C        -0.166241   \n",
       "..           ...       ...       ...           ...  ..  ..              ...   \n",
       "477   rs75263594  0.314825  0.046740  1.759080e-11   C   T         0.415443   \n",
       "478  rs138816179 -0.426090  0.051681  1.955820e-16   C   T        -0.271523   \n",
       "479    rs1568691  0.108833  0.017492  5.189550e-10   T   C         0.101138   \n",
       "480   rs34630841 -0.124618  0.018304  1.068290e-11   G   A        -0.106043   \n",
       "481    rs2655060  0.084835  0.017087  7.034090e-07   T   C         0.088010   \n",
       "\n",
       "     firebrowse SE  firebrowse P  pancan beta  pancan SE      pancan P  \\\n",
       "0         0.019221  1.126740e-19    -0.178179   0.018876  4.971470e-21   \n",
       "1         0.023889  5.293960e-11    -0.151253   0.023379  1.047650e-10   \n",
       "2         0.070042  1.182550e-06    -0.353152   0.068943  3.096210e-07   \n",
       "3         0.017299  2.300510e-42     0.236799   0.016959  9.737500e-44   \n",
       "4         0.023540  1.799250e-12    -0.163998   0.023030  1.174700e-12   \n",
       "..             ...           ...          ...        ...           ...   \n",
       "477       0.047087  1.394430e-18     0.441081   0.045959  1.108240e-21   \n",
       "478       0.053179  3.382250e-07    -0.282401   0.051787  5.115210e-08   \n",
       "479       0.017753  1.268690e-08     0.108484   0.017414  4.936200e-10   \n",
       "480       0.018541  1.112900e-08    -0.106346   0.018229  5.646740e-09   \n",
       "481       0.017329  3.899120e-07     0.092714   0.016986  4.973040e-08   \n",
       "\n",
       "          p-value   cis tss                                               gwas  \n",
       "0    4.971470e-21   15084.0                           ['Blood protein levels']  \n",
       "1    5.293960e-11   36582.0                                                NaN  \n",
       "2    4.525630e-08       NaN                                                NaN  \n",
       "3    9.737500e-44   84224.0     ['Takayasu arteritis', 'Blood protein levels']  \n",
       "4    1.174700e-12   20634.0  ['Blood protein levels', 'Offspring birth weig...  \n",
       "..            ...       ...                                                ...  \n",
       "477  1.108240e-21 -117885.0                                                NaN  \n",
       "478  1.955820e-16  -36995.0                                                NaN  \n",
       "479  4.936200e-10  834027.0                                                NaN  \n",
       "480  1.068290e-11  163657.0  ['Medication use (agents acting on the renin-a...  \n",
       "481  4.973040e-08       NaN                                                NaN  \n",
       "\n",
       "[482 rows x 20 columns]"
      ]
     },
     "execution_count": 64,
     "metadata": {},
     "output_type": "execute_result"
    }
   ],
   "source": [
    "snps"
   ]
  },
  {
   "cell_type": "code",
   "execution_count": 65,
   "metadata": {},
   "outputs": [],
   "source": [
    "blood_snps=compiled_cis[(compiled_cis[\"cell\"]==\"Whole_Blood\")&(compiled_cis[\"gtex gene\"].isin(snps[\"file\"].tolist()))]"
   ]
  },
  {
   "cell_type": "code",
   "execution_count": 67,
   "metadata": {},
   "outputs": [],
   "source": [
    "brca_snps=compiled_cis[(compiled_cis[\"cell\"]==\"Breast_Mammary_Tissue\")&(compiled_cis[\"gtex gene\"].isin(snps[\"file\"].tolist()))]"
   ]
  },
  {
   "cell_type": "code",
   "execution_count": 70,
   "metadata": {
    "scrolled": true
   },
   "outputs": [
    {
     "data": {
      "text/plain": [
       "{'ALOX5AP',\n",
       " 'B2M',\n",
       " 'FAM167A',\n",
       " 'FCGR2B',\n",
       " 'ITGB2',\n",
       " 'LILRB2',\n",
       " 'LILRB4',\n",
       " 'LNPEP',\n",
       " 'MNDA',\n",
       " 'OAS1',\n",
       " 'OAS3',\n",
       " 'SH3BP5L',\n",
       " 'VAMP3'}"
      ]
     },
     "execution_count": 70,
     "metadata": {},
     "output_type": "execute_result"
    }
   ],
   "source": [
    "set([x for x in blood_snps[\"gtex gene\"] if x not in brca_snps[\"gtex gene\"].tolist()])"
   ]
  },
  {
   "cell_type": "code",
   "execution_count": 71,
   "metadata": {},
   "outputs": [
    {
     "data": {
      "text/plain": [
       "{'AMPD3', 'COX17', 'DBNDD1', 'GPLD1', 'HAUS1', 'IL2RA', 'MARCH1', 'TLR2'}"
      ]
     },
     "execution_count": 71,
     "metadata": {},
     "output_type": "execute_result"
    }
   ],
   "source": [
    "set([x for x in brca_snps[\"gtex gene\"] if x not in blood_snps[\"gtex gene\"].tolist()])"
   ]
  },
  {
   "cell_type": "code",
   "execution_count": null,
   "metadata": {},
   "outputs": [],
   "source": []
  },
  {
   "cell_type": "markdown",
   "metadata": {},
   "source": [
    "## Get QQ plot of GTEx cis snps"
   ]
  },
  {
   "cell_type": "code",
   "execution_count": 74,
   "metadata": {},
   "outputs": [],
   "source": [
    "def compile_gtex(directory,file_name,mapping):\n",
    "    gtex_files=[x for x in os.listdir(directory)]\n",
    "    total_gtex=pd.DataFrame()\n",
    "\n",
    "    for x in gtex_files:\n",
    "        cis=pd.read_csv(directory+x)\n",
    "        cis[\"file\"]=x.split(file_name)[0]\n",
    "        total_gtex=total_gtex.append(cis)\n",
    "    \n",
    "    #format variant2 and gene\n",
    "    total_gtex[\"variant2\"]=total_gtex[\"variant_b37\"].str.split(\"_\").str[0]+\":\"+total_gtex[\"variant_b37\"].str.split(\"_\").str[1]+\":\"+total_gtex[\"variant_b37\"].str.split(\"_\").str[3]+\":\"+total_gtex[\"variant_b37\"].str.split(\"_\").str[2]\n",
    "    #get gene ids for mapping\n",
    "    total_gtex[\"gene_id\"]=total_gtex[\"phenotype_id\"].str.split(\".\").str[0]\n",
    "    \n",
    "    total_gtex[\"ref\"]=total_gtex[\"variant_id\"].str.split(\"_\").str[2]\n",
    "    total_gtex[\"alt\"]=total_gtex[\"variant_id\"].str.split(\"_\").str[3]\n",
    "    \n",
    "    total_gtex_melt=pd.melt(total_gtex, id_vars=([\"gene_id\",\"slope\",\"slope_se\",\"ref\",\"alt\",\"file\",\"pval_nominal\",\"maf\",\"tss_distance\",\"variant_b37\"]),value_vars=([\"variant\",\"variant2\"]))\n",
    "    \n",
    "    total_gtex_melt[\"gene_name\"]=total_gtex_melt[\"gene_id\"].map(mapping)\n",
    "    \n",
    "    total_gtex_melt[\"assoc\"]=total_gtex_melt[\"value\"]+\"_\"+total_gtex_melt[\"gene_name\"]\n",
    "    \n",
    "    return(total_gtex_melt)"
   ]
  },
  {
   "cell_type": "code",
   "execution_count": 75,
   "metadata": {},
   "outputs": [],
   "source": [
    "gtex=compile_gtex(\"./extracted_snps/\",\".gtex.cis.eur.snps.csv\",ensembl_dict)"
   ]
  },
  {
   "cell_type": "code",
   "execution_count": 76,
   "metadata": {},
   "outputs": [],
   "source": [
    "df_gtex_cis=gtex[gtex[\"assoc\"].isin(gtex_cis)]"
   ]
  },
  {
   "cell_type": "code",
   "execution_count": 77,
   "metadata": {},
   "outputs": [
    {
     "data": {
      "text/plain": [
       "171"
      ]
     },
     "execution_count": 77,
     "metadata": {},
     "output_type": "execute_result"
    }
   ],
   "source": [
    "len(df_gtex_cis[\"assoc\"].unique())"
   ]
  },
  {
   "cell_type": "code",
   "execution_count": 78,
   "metadata": {},
   "outputs": [],
   "source": [
    "tpm_cancer=pd.read_csv(\"/cellar/users/mpagadal/Data/projects/germline-immune/snp-tables/brian-cancer-type-beta-se.tsv\",delimiter=\"\\t\")\n",
    "firebrowse_cancer=pd.read_csv(\"/cellar/users/mpagadal/Data/projects/germline-immune/snp-tables/firebrowse-cancer-type-beta-se.tsv\",delimiter=\"\\t\")\n",
    "pancanatlas_cancer=pd.read_csv(\"/cellar/users/mpagadal/Data/projects/germline-immune/snp-tables/pancanatlas-cancer-type-beta-se.tsv\",delimiter=\"\\t\")"
   ]
  },
  {
   "cell_type": "code",
   "execution_count": 79,
   "metadata": {},
   "outputs": [],
   "source": [
    "compare_beta=pd.merge(df_gtex_cis,tpm_cancer,on=\"assoc\")\n",
    "compare_beta[\"combo\"]=compare_beta[\"file\"]+\".\"+compare_beta[\"file_name\"]"
   ]
  },
  {
   "cell_type": "code",
   "execution_count": 80,
   "metadata": {},
   "outputs": [],
   "source": [
    "combos=['Kidney_Cortex.KICH',\n",
    " 'Kidney_Cortex.KIRC',\n",
    " 'Kidney_Cortex.KIRP',\n",
    " 'Testis.TGCT',\n",
    " 'Brain_Hippocampus.GBM',\n",
    " 'Skin_Sun_Exposed_Lower_leg.SKCM',\n",
    " 'Ovary.OV',\n",
    " 'Colon_Transverse.COAD',\n",
    " 'Adrenal_Gland.ACC',\n",
    " 'Pancreas.PAAD',\n",
    " 'Esophagus_Muscularis.ESCA',\n",
    " 'Stomach.STAD',\n",
    " 'Thyroid.THCA',\n",
    " 'Breast_Mammary_Tissue.BRCA',\n",
    " 'Minor_Salivary_Gland.HNSC',\n",
    " 'Brain_Anterior_cingulate_cortex_BA24.LGG',\n",
    " 'Liver.LIHC',\n",
    " 'Prostate.PRAD',\n",
    " 'Uterus.UCEC',\n",
    " 'Lung.LUAD',\n",
    " 'Lung.LUSC']"
   ]
  },
  {
   "cell_type": "code",
   "execution_count": 81,
   "metadata": {},
   "outputs": [],
   "source": [
    "compare_beta=compare_beta[compare_beta[\"combo\"].isin(combos)]"
   ]
  },
  {
   "cell_type": "code",
   "execution_count": 82,
   "metadata": {},
   "outputs": [
    {
     "data": {
      "text/html": [
       "<div>\n",
       "<style scoped>\n",
       "    .dataframe tbody tr th:only-of-type {\n",
       "        vertical-align: middle;\n",
       "    }\n",
       "\n",
       "    .dataframe tbody tr th {\n",
       "        vertical-align: top;\n",
       "    }\n",
       "\n",
       "    .dataframe thead th {\n",
       "        text-align: right;\n",
       "    }\n",
       "</style>\n",
       "<table border=\"1\" class=\"dataframe\">\n",
       "  <thead>\n",
       "    <tr style=\"text-align: right;\">\n",
       "      <th></th>\n",
       "      <th>gene_id</th>\n",
       "      <th>slope</th>\n",
       "      <th>slope_se</th>\n",
       "      <th>ref</th>\n",
       "      <th>alt</th>\n",
       "      <th>file</th>\n",
       "      <th>pval_nominal</th>\n",
       "      <th>maf</th>\n",
       "      <th>tss_distance</th>\n",
       "      <th>variant_b37</th>\n",
       "      <th>...</th>\n",
       "      <th>A1</th>\n",
       "      <th>TEST</th>\n",
       "      <th>OBS_CT</th>\n",
       "      <th>BETA</th>\n",
       "      <th>SE</th>\n",
       "      <th>T_STAT</th>\n",
       "      <th>P</th>\n",
       "      <th>ERRCODE</th>\n",
       "      <th>pheno</th>\n",
       "      <th>combo</th>\n",
       "    </tr>\n",
       "  </thead>\n",
       "  <tbody>\n",
       "    <tr>\n",
       "      <th>99</th>\n",
       "      <td>ENSG00000049245</td>\n",
       "      <td>0.230936</td>\n",
       "      <td>0.103450</td>\n",
       "      <td>G</td>\n",
       "      <td>A</td>\n",
       "      <td>Kidney_Cortex</td>\n",
       "      <td>3.061431e-02</td>\n",
       "      <td>0.176923</td>\n",
       "      <td>10001</td>\n",
       "      <td>1_7841330_G_A_b37</td>\n",
       "      <td>...</td>\n",
       "      <td>A</td>\n",
       "      <td>ADD</td>\n",
       "      <td>55</td>\n",
       "      <td>-0.078666</td>\n",
       "      <td>0.366049</td>\n",
       "      <td>-0.214906</td>\n",
       "      <td>0.830906</td>\n",
       "      <td>.</td>\n",
       "      <td>VAMP3</td>\n",
       "      <td>Kidney_Cortex.KICH</td>\n",
       "    </tr>\n",
       "    <tr>\n",
       "      <th>100</th>\n",
       "      <td>ENSG00000049245</td>\n",
       "      <td>0.230936</td>\n",
       "      <td>0.103450</td>\n",
       "      <td>G</td>\n",
       "      <td>A</td>\n",
       "      <td>Kidney_Cortex</td>\n",
       "      <td>3.061431e-02</td>\n",
       "      <td>0.176923</td>\n",
       "      <td>10001</td>\n",
       "      <td>1_7841330_G_A_b37</td>\n",
       "      <td>...</td>\n",
       "      <td>A</td>\n",
       "      <td>ADD</td>\n",
       "      <td>418</td>\n",
       "      <td>0.182127</td>\n",
       "      <td>0.111590</td>\n",
       "      <td>1.632110</td>\n",
       "      <td>0.103436</td>\n",
       "      <td>.</td>\n",
       "      <td>VAMP3</td>\n",
       "      <td>Kidney_Cortex.KIRC</td>\n",
       "    </tr>\n",
       "    <tr>\n",
       "      <th>101</th>\n",
       "      <td>ENSG00000049245</td>\n",
       "      <td>0.230936</td>\n",
       "      <td>0.103450</td>\n",
       "      <td>G</td>\n",
       "      <td>A</td>\n",
       "      <td>Kidney_Cortex</td>\n",
       "      <td>3.061431e-02</td>\n",
       "      <td>0.176923</td>\n",
       "      <td>10001</td>\n",
       "      <td>1_7841330_G_A_b37</td>\n",
       "      <td>...</td>\n",
       "      <td>A</td>\n",
       "      <td>ADD</td>\n",
       "      <td>204</td>\n",
       "      <td>0.194364</td>\n",
       "      <td>0.156992</td>\n",
       "      <td>1.238050</td>\n",
       "      <td>0.217225</td>\n",
       "      <td>.</td>\n",
       "      <td>VAMP3</td>\n",
       "      <td>Kidney_Cortex.KIRP</td>\n",
       "    </tr>\n",
       "    <tr>\n",
       "      <th>145</th>\n",
       "      <td>ENSG00000049245</td>\n",
       "      <td>0.154947</td>\n",
       "      <td>0.031240</td>\n",
       "      <td>G</td>\n",
       "      <td>A</td>\n",
       "      <td>Testis</td>\n",
       "      <td>1.417909e-06</td>\n",
       "      <td>0.132353</td>\n",
       "      <td>10001</td>\n",
       "      <td>1_7841330_G_A_b37</td>\n",
       "      <td>...</td>\n",
       "      <td>A</td>\n",
       "      <td>ADD</td>\n",
       "      <td>108</td>\n",
       "      <td>0.112593</td>\n",
       "      <td>0.223966</td>\n",
       "      <td>0.502725</td>\n",
       "      <td>0.616321</td>\n",
       "      <td>.</td>\n",
       "      <td>VAMP3</td>\n",
       "      <td>Testis.TGCT</td>\n",
       "    </tr>\n",
       "    <tr>\n",
       "      <th>247</th>\n",
       "      <td>ENSG00000049245</td>\n",
       "      <td>0.289008</td>\n",
       "      <td>0.037165</td>\n",
       "      <td>G</td>\n",
       "      <td>A</td>\n",
       "      <td>Brain_Hippocampus</td>\n",
       "      <td>4.309925e-12</td>\n",
       "      <td>0.130000</td>\n",
       "      <td>10001</td>\n",
       "      <td>1_7841330_G_A_b37</td>\n",
       "      <td>...</td>\n",
       "      <td>A</td>\n",
       "      <td>ADD</td>\n",
       "      <td>121</td>\n",
       "      <td>0.465647</td>\n",
       "      <td>0.233285</td>\n",
       "      <td>1.996050</td>\n",
       "      <td>0.048469</td>\n",
       "      <td>.</td>\n",
       "      <td>VAMP3</td>\n",
       "      <td>Brain_Hippocampus.GBM</td>\n",
       "    </tr>\n",
       "  </tbody>\n",
       "</table>\n",
       "<p>5 rows × 29 columns</p>\n",
       "</div>"
      ],
      "text/plain": [
       "             gene_id     slope  slope_se ref alt               file  \\\n",
       "99   ENSG00000049245  0.230936  0.103450   G   A      Kidney_Cortex   \n",
       "100  ENSG00000049245  0.230936  0.103450   G   A      Kidney_Cortex   \n",
       "101  ENSG00000049245  0.230936  0.103450   G   A      Kidney_Cortex   \n",
       "145  ENSG00000049245  0.154947  0.031240   G   A             Testis   \n",
       "247  ENSG00000049245  0.289008  0.037165   G   A  Brain_Hippocampus   \n",
       "\n",
       "     pval_nominal       maf  tss_distance        variant_b37  ... A1 TEST  \\\n",
       "99   3.061431e-02  0.176923         10001  1_7841330_G_A_b37  ...  A  ADD   \n",
       "100  3.061431e-02  0.176923         10001  1_7841330_G_A_b37  ...  A  ADD   \n",
       "101  3.061431e-02  0.176923         10001  1_7841330_G_A_b37  ...  A  ADD   \n",
       "145  1.417909e-06  0.132353         10001  1_7841330_G_A_b37  ...  A  ADD   \n",
       "247  4.309925e-12  0.130000         10001  1_7841330_G_A_b37  ...  A  ADD   \n",
       "\n",
       "    OBS_CT      BETA        SE    T_STAT         P ERRCODE  pheno  \\\n",
       "99      55 -0.078666  0.366049 -0.214906  0.830906       .  VAMP3   \n",
       "100    418  0.182127  0.111590  1.632110  0.103436       .  VAMP3   \n",
       "101    204  0.194364  0.156992  1.238050  0.217225       .  VAMP3   \n",
       "145    108  0.112593  0.223966  0.502725  0.616321       .  VAMP3   \n",
       "247    121  0.465647  0.233285  1.996050  0.048469       .  VAMP3   \n",
       "\n",
       "                     combo  \n",
       "99      Kidney_Cortex.KICH  \n",
       "100     Kidney_Cortex.KIRC  \n",
       "101     Kidney_Cortex.KIRP  \n",
       "145            Testis.TGCT  \n",
       "247  Brain_Hippocampus.GBM  \n",
       "\n",
       "[5 rows x 29 columns]"
      ]
     },
     "execution_count": 82,
     "metadata": {},
     "output_type": "execute_result"
    }
   ],
   "source": [
    "compare_beta.head()"
   ]
  },
  {
   "cell_type": "code",
   "execution_count": 83,
   "metadata": {},
   "outputs": [
    {
     "data": {
      "image/png": "[encoded data removed]",
      "text/plain": [
       "<Figure size 720x720 with 1 Axes>"
      ]
     },
     "metadata": {
      "needs_background": "light"
     },
     "output_type": "display_data"
    }
   ],
   "source": [
    "fig = plt.figure(figsize=(10,10))\n",
    "ax = fig.add_subplot(111)\n",
    "\n",
    "n=compare_beta[\"file_name\"].unique()\n",
    "color=iter(cm.rainbow(np.linspace(0,1,len(n))))\n",
    "\n",
    "for x in n:\n",
    "    c=next(color)\n",
    "    canc_filt_dev=compare_beta[compare_beta[\"file_name\"]==x]\n",
    "    plt.scatter(canc_filt_dev[\"slope\"],canc_filt_dev[\"BETA\"],color=c,marker=\".\",label=x)\n",
    "\n",
    "\n",
    "ax.set_xlabel(\"gtex beta\")\n",
    "ax.plot([ax.get_xlim()[0],ax.get_xlim()[1]], [ax.get_xlim()[0],ax.get_xlim()[1]], ls=\"--\", c=\"k\")\n",
    "ax.set_ylabel(\"tcga beta\")\n",
    "plt.legend()\n",
    "fig.savefig('gtex.beta.pdf')"
   ]
  },
  {
   "cell_type": "markdown",
   "metadata": {},
   "source": [
    "## Get cell types of trans associations"
   ]
  },
  {
   "cell_type": "code",
   "execution_count": 120,
   "metadata": {},
   "outputs": [
    {
     "data": {
      "text/html": [
       "<div>\n",
       "<style scoped>\n",
       "    .dataframe tbody tr th:only-of-type {\n",
       "        vertical-align: middle;\n",
       "    }\n",
       "\n",
       "    .dataframe tbody tr th {\n",
       "        vertical-align: top;\n",
       "    }\n",
       "\n",
       "    .dataframe thead th {\n",
       "        text-align: right;\n",
       "    }\n",
       "</style>\n",
       "<table border=\"1\" class=\"dataframe\">\n",
       "  <thead>\n",
       "    <tr style=\"text-align: right;\">\n",
       "      <th></th>\n",
       "      <th>0</th>\n",
       "      <th>1</th>\n",
       "      <th>2</th>\n",
       "      <th>3</th>\n",
       "      <th>4</th>\n",
       "      <th>5</th>\n",
       "      <th>6</th>\n",
       "      <th>7</th>\n",
       "      <th>8</th>\n",
       "    </tr>\n",
       "  </thead>\n",
       "  <tbody>\n",
       "    <tr>\n",
       "      <th>0</th>\n",
       "      <td>chr1</td>\n",
       "      <td>HAVANA</td>\n",
       "      <td>gene</td>\n",
       "      <td>11869</td>\n",
       "      <td>14412</td>\n",
       "      <td>.</td>\n",
       "      <td>+</td>\n",
       "      <td>.</td>\n",
       "      <td>ID=ENSG00000223972.4;gene_id=ENSG00000223972.4...</td>\n",
       "    </tr>\n",
       "    <tr>\n",
       "      <th>1</th>\n",
       "      <td>chr1</td>\n",
       "      <td>HAVANA</td>\n",
       "      <td>transcript</td>\n",
       "      <td>11869</td>\n",
       "      <td>14409</td>\n",
       "      <td>.</td>\n",
       "      <td>+</td>\n",
       "      <td>.</td>\n",
       "      <td>ID=ENST00000456328.2;Parent=ENSG00000223972.4;...</td>\n",
       "    </tr>\n",
       "    <tr>\n",
       "      <th>2</th>\n",
       "      <td>chr1</td>\n",
       "      <td>HAVANA</td>\n",
       "      <td>exon</td>\n",
       "      <td>11869</td>\n",
       "      <td>12227</td>\n",
       "      <td>.</td>\n",
       "      <td>+</td>\n",
       "      <td>.</td>\n",
       "      <td>ID=exon:ENST00000456328.2:1;Parent=ENST0000045...</td>\n",
       "    </tr>\n",
       "    <tr>\n",
       "      <th>3</th>\n",
       "      <td>chr1</td>\n",
       "      <td>HAVANA</td>\n",
       "      <td>exon</td>\n",
       "      <td>12613</td>\n",
       "      <td>12721</td>\n",
       "      <td>.</td>\n",
       "      <td>+</td>\n",
       "      <td>.</td>\n",
       "      <td>ID=exon:ENST00000456328.2:2;Parent=ENST0000045...</td>\n",
       "    </tr>\n",
       "    <tr>\n",
       "      <th>4</th>\n",
       "      <td>chr1</td>\n",
       "      <td>HAVANA</td>\n",
       "      <td>exon</td>\n",
       "      <td>13221</td>\n",
       "      <td>14409</td>\n",
       "      <td>.</td>\n",
       "      <td>+</td>\n",
       "      <td>.</td>\n",
       "      <td>ID=exon:ENST00000456328.2:3;Parent=ENST0000045...</td>\n",
       "    </tr>\n",
       "  </tbody>\n",
       "</table>\n",
       "</div>"
      ],
      "text/plain": [
       "      0       1           2      3      4  5  6  7  \\\n",
       "0  chr1  HAVANA        gene  11869  14412  .  +  .   \n",
       "1  chr1  HAVANA  transcript  11869  14409  .  +  .   \n",
       "2  chr1  HAVANA        exon  11869  12227  .  +  .   \n",
       "3  chr1  HAVANA        exon  12613  12721  .  +  .   \n",
       "4  chr1  HAVANA        exon  13221  14409  .  +  .   \n",
       "\n",
       "                                                   8  \n",
       "0  ID=ENSG00000223972.4;gene_id=ENSG00000223972.4...  \n",
       "1  ID=ENST00000456328.2;Parent=ENSG00000223972.4;...  \n",
       "2  ID=exon:ENST00000456328.2:1;Parent=ENST0000045...  \n",
       "3  ID=exon:ENST00000456328.2:2;Parent=ENST0000045...  \n",
       "4  ID=exon:ENST00000456328.2:3;Parent=ENST0000045...  "
      ]
     },
     "execution_count": 120,
     "metadata": {},
     "output_type": "execute_result"
    }
   ],
   "source": [
    "gff3=pd.read_csv(\"/cellar/users/mpagadal/Data/resources/annotations/gencode.v19.annotation.gff3\",delimiter=\"\\t\",header=None,comment=\"#\")\n",
    "gff3.head()"
   ]
  },
  {
   "cell_type": "code",
   "execution_count": 121,
   "metadata": {},
   "outputs": [],
   "source": [
    "gff3[\"ID\"]=gff3[8].str.split(\"gene_id=\").str[1].str.split(\";\").str[0]\n",
    "gff3[\"type\"]=gff3[8].str.split(\"gene_type=\").str[1].str.split(\";\").str[0]"
   ]
  },
  {
   "cell_type": "code",
   "execution_count": 122,
   "metadata": {},
   "outputs": [],
   "source": [
    "gff3[\"ID\"]=gff3[\"ID\"].str.split(\".\").str[0]"
   ]
  },
  {
   "cell_type": "code",
   "execution_count": 123,
   "metadata": {},
   "outputs": [],
   "source": [
    "mp_type=dict(zip(gff3[\"ID\"],gff3[\"type\"]))"
   ]
  },
  {
   "cell_type": "code",
   "execution_count": 124,
   "metadata": {},
   "outputs": [],
   "source": [
    "gtex_trans=gtex_assoc[gtex_assoc[\"assoc\"].isin(trans)]"
   ]
  },
  {
   "cell_type": "code",
   "execution_count": 127,
   "metadata": {},
   "outputs": [
    {
     "name": "stderr",
     "output_type": "stream",
     "text": [
      "/nrnb/opt/anaconda3.7/lib/python3.7/site-packages/ipykernel_launcher.py:1: SettingWithCopyWarning: \n",
      "A value is trying to be set on a copy of a slice from a DataFrame.\n",
      "Try using .loc[row_indexer,col_indexer] = value instead\n",
      "\n",
      "See the caveats in the documentation: https://pandas.pydata.org/pandas-docs/stable/user_guide/indexing.html#returning-a-view-versus-a-copy\n",
      "  \"\"\"Entry point for launching an IPython kernel.\n"
     ]
    }
   ],
   "source": [
    "gtex_trans[\"type\"]=gtex_trans[\"gene_id\"].map(mp_type)"
   ]
  },
  {
   "cell_type": "code",
   "execution_count": 128,
   "metadata": {},
   "outputs": [],
   "source": [
    "gtex_trans=gtex_trans[~(gtex_trans[\"gtex gene\"].isnull())]"
   ]
  },
  {
   "cell_type": "code",
   "execution_count": 131,
   "metadata": {},
   "outputs": [],
   "source": [
    "gtex_trans=gtex_trans[~gtex_trans[\"gtex gene\"].isnull()]"
   ]
  },
  {
   "cell_type": "code",
   "execution_count": 132,
   "metadata": {},
   "outputs": [
    {
     "data": {
      "text/plain": [
       "42"
      ]
     },
     "execution_count": 132,
     "metadata": {},
     "output_type": "execute_result"
    }
   ],
   "source": [
    "len(gtex_trans[\"assoc\"].unique())"
   ]
  },
  {
   "cell_type": "code",
   "execution_count": 133,
   "metadata": {},
   "outputs": [],
   "source": [
    "df_pie=gtex_trans[[\"assoc\",\"gene_id\",\"type\"]].drop_duplicates()[\"type\"].value_counts()"
   ]
  },
  {
   "cell_type": "code",
   "execution_count": 134,
   "metadata": {},
   "outputs": [
    {
     "data": {
      "text/html": [
       "<div>\n",
       "<style scoped>\n",
       "    .dataframe tbody tr th:only-of-type {\n",
       "        vertical-align: middle;\n",
       "    }\n",
       "\n",
       "    .dataframe tbody tr th {\n",
       "        vertical-align: top;\n",
       "    }\n",
       "\n",
       "    .dataframe thead th {\n",
       "        text-align: right;\n",
       "    }\n",
       "</style>\n",
       "<table border=\"1\" class=\"dataframe\">\n",
       "  <thead>\n",
       "    <tr style=\"text-align: right;\">\n",
       "      <th></th>\n",
       "      <th>index</th>\n",
       "      <th>type</th>\n",
       "    </tr>\n",
       "  </thead>\n",
       "  <tbody>\n",
       "    <tr>\n",
       "      <th>0</th>\n",
       "      <td>protein_coding</td>\n",
       "      <td>142</td>\n",
       "    </tr>\n",
       "    <tr>\n",
       "      <th>1</th>\n",
       "      <td>pseudogene</td>\n",
       "      <td>44</td>\n",
       "    </tr>\n",
       "    <tr>\n",
       "      <th>2</th>\n",
       "      <td>lincRNA</td>\n",
       "      <td>38</td>\n",
       "    </tr>\n",
       "    <tr>\n",
       "      <th>3</th>\n",
       "      <td>processed_transcript</td>\n",
       "      <td>7</td>\n",
       "    </tr>\n",
       "    <tr>\n",
       "      <th>4</th>\n",
       "      <td>antisense</td>\n",
       "      <td>7</td>\n",
       "    </tr>\n",
       "    <tr>\n",
       "      <th>5</th>\n",
       "      <td>sense_intronic</td>\n",
       "      <td>2</td>\n",
       "    </tr>\n",
       "    <tr>\n",
       "      <th>6</th>\n",
       "      <td>sense_overlapping</td>\n",
       "      <td>1</td>\n",
       "    </tr>\n",
       "  </tbody>\n",
       "</table>\n",
       "</div>"
      ],
      "text/plain": [
       "                  index  type\n",
       "0        protein_coding   142\n",
       "1            pseudogene    44\n",
       "2               lincRNA    38\n",
       "3  processed_transcript     7\n",
       "4             antisense     7\n",
       "5        sense_intronic     2\n",
       "6     sense_overlapping     1"
      ]
     },
     "execution_count": 134,
     "metadata": {},
     "output_type": "execute_result"
    }
   ],
   "source": [
    "df_pie=df_pie.reset_index()\n",
    "df_pie"
   ]
  },
  {
   "cell_type": "code",
   "execution_count": 135,
   "metadata": {},
   "outputs": [
    {
     "data": {
      "image/png": "[encoded data removed]",
      "text/plain": [
       "<Figure size 216x216 with 1 Axes>"
      ]
     },
     "metadata": {},
     "output_type": "display_data"
    }
   ],
   "source": [
    "f=plt.figure(figsize=(3,3))\n",
    "labels = df_pie[\"index\"].tolist()\n",
    "sizes = df_pie[\"type\"].tolist()\n",
    "plt.pie(sizes,labels=labels,autopct='%1.1f%%')\n",
    "f.savefig(\"./plots/pie.type.pdf\")"
   ]
  },
  {
   "cell_type": "code",
   "execution_count": null,
   "metadata": {},
   "outputs": [],
   "source": []
  }
 ],
 "metadata": {
  "kernelspec": {
   "display_name": "Python 3",
   "language": "python",
   "name": "python3"
  },
  "language_info": {
   "codemirror_mode": {
    "name": "ipython",
    "version": 3
   },
   "file_extension": ".py",
   "mimetype": "text/x-python",
   "name": "python",
   "nbconvert_exporter": "python",
   "pygments_lexer": "ipython3",
   "version": "3.7.7"
  }
 },
 "nbformat": 4,
 "nbformat_minor": 4
}
