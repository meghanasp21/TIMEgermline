{
 "cells": [
  {
   "cell_type": "code",
   "execution_count": 1,
   "metadata": {},
   "outputs": [],
   "source": [
    "import pandas as pd\n",
    "import os\n",
    "from matplotlib import pyplot as plt\n",
    "import numpy as np\n",
    "import seaborn as sns\n",
    "import matplotlib as mpl\n",
    "from matplotlib.pyplot import cm\n",
    "import json"
   ]
  },
  {
   "cell_type": "code",
   "execution_count": 2,
   "metadata": {},
   "outputs": [
    {
     "name": "stdout",
     "output_type": "stream",
     "text": [
      "['/data/cellardata2/users/mpagadal/projects/germline-immune/cell-type-specificity/notebooks', '/nrnb/opt/anaconda3.7/lib/python37.zip', '/nrnb/opt/anaconda3.7/lib/python3.7', '/nrnb/opt/anaconda3.7/lib/python3.7/lib-dynload', '', '/cellar/users/mpagadal/.local/lib/python3.7/site-packages', '/nrnb/opt/anaconda3.7/lib/python3.7/site-packages', '/nrnb/opt/anaconda3.7/lib/python3.7/site-packages/IPython/extensions', '/cellar/users/mpagadal/.ipython']\n"
     ]
    }
   ],
   "source": [
    "import sys\n",
    "print(sys.path) \n",
    "sys.path.append(\"/cellar/users/mpagadal/Programs/anaconda3/lib/python3.7/site-packages\")\n",
    "sys.path.insert(1, '/cellar/users/mpagadal/Data/gcta/scripts')"
   ]
  },
  {
   "cell_type": "code",
   "execution_count": 3,
   "metadata": {},
   "outputs": [],
   "source": [
    "import matplotlib\n",
    "matplotlib.rcParams['pdf.fonttype'] = 42\n",
    "matplotlib.rcParams['ps.fonttype'] = 42"
   ]
  },
  {
   "cell_type": "markdown",
   "metadata": {},
   "source": [
    "## make random snps dataframe"
   ]
  },
  {
   "cell_type": "markdown",
   "metadata": {},
   "source": [
    "### get genes that are found in tcga"
   ]
  },
  {
   "cell_type": "code",
   "execution_count": 4,
   "metadata": {},
   "outputs": [],
   "source": [
    "genes=pd.read_csv(\"/cellar/users/mpagadal/Data/projects/germline-immune/discovery/phenotypes/processed_phenos/tpm/all.rna.tsv\",delimiter=\"\\t\",usecols=[0])\n",
    "genes2=pd.read_csv(\"/cellar/users/mpagadal/Data/projects/germline-immune/discovery/phenotypes/processed_phenos/pancanatlas/all.rna.tsv\",delimiter=\"\\t\",usecols=[0])\n",
    "genes3=pd.read_csv(\"/cellar/users/mpagadal/Data/projects/germline-immune/discovery/phenotypes/processed_phenos/firebrowse/all.rna.tsv\",delimiter=\"\\t\",usecols=[0])"
   ]
  },
  {
   "cell_type": "code",
   "execution_count": 5,
   "metadata": {},
   "outputs": [],
   "source": [
    "genes=[x for x in genes[\"Gene\"].tolist() if x in genes2[\"Gene\"].tolist()]\n",
    "genes=[x for x in genes if x in genes3[\"Gene\"].tolist()]"
   ]
  },
  {
   "cell_type": "code",
   "execution_count": 6,
   "metadata": {},
   "outputs": [],
   "source": [
    "with open('/cellar/users/mpagadal/Data/resources/tcga/ensembl_map.json', 'r') as f:\n",
    "    ensembl_dict = json.load(f)"
   ]
  },
  {
   "cell_type": "code",
   "execution_count": 7,
   "metadata": {},
   "outputs": [],
   "source": [
    "ensembl_dict={v:k.split(\".\")[0] for k,v in ensembl_dict.items()}"
   ]
  },
  {
   "cell_type": "code",
   "execution_count": 8,
   "metadata": {},
   "outputs": [],
   "source": [
    "ids=[]\n",
    "\n",
    "for x in genes:\n",
    "    try:\n",
    "        ids.append(ensembl_dict[x])\n",
    "    except:\n",
    "        pass"
   ]
  },
  {
   "cell_type": "code",
   "execution_count": 9,
   "metadata": {},
   "outputs": [
    {
     "data": {
      "text/plain": [
       "17579"
      ]
     },
     "execution_count": 9,
     "metadata": {},
     "output_type": "execute_result"
    }
   ],
   "source": [
    "len(genes)"
   ]
  },
  {
   "cell_type": "code",
   "execution_count": 10,
   "metadata": {},
   "outputs": [],
   "source": [
    "mp=pd.read_csv(\"/cellar/users/mpagadal/Data/gtex/GTEx_Analysis_2017-06-05_v8_WholeGenomeSeq_838Indiv_Analysis_Freeze.lookup_table.txt\",delimiter=\"\\t\")\n",
    "mp_b38_b37=dict(zip(mp.variant_id,mp.variant_id_b37))"
   ]
  },
  {
   "cell_type": "code",
   "execution_count": 11,
   "metadata": {},
   "outputs": [
    {
     "name": "stdout",
     "output_type": "stream",
     "text": [
      "1\n",
      "2\n",
      "3\n",
      "4\n",
      "5\n",
      "6\n",
      "7\n",
      "8\n",
      "9\n",
      "10\n",
      "11\n",
      "12\n",
      "13\n",
      "14\n",
      "15\n",
      "16\n",
      "17\n",
      "18\n",
      "19\n",
      "20\n",
      "21\n",
      "22\n",
      "X\n"
     ]
    }
   ],
   "source": [
    "compiled=pd.DataFrame()\n",
    "\n",
    "for x in [x for x in range(1,23)]+[\"X\"]:\n",
    "    print(x)\n",
    "    eqtl=pd.read_parquet(\"/cellar/users/mpagadal/Data/gtex/GTEx_Analysis_v8_QTLs/GTEx_Analysis_v8_EUR_eQTL_all_associations/Breast_Mammary_Tissue.v8.EUR.allpairs.chr\"+str(x)+\".parquet\",engine=\"pyarrow\")\n",
    "    eqtl[\"gene_id\"]=eqtl[\"phenotype_id\"].str.split(\".\").str[0]\n",
    "    eqtl_filt=eqtl[eqtl[\"gene_id\"].isin(ids)]\n",
    "    compiled=compiled.append(eqtl_filt)"
   ]
  },
  {
   "cell_type": "code",
   "execution_count": 12,
   "metadata": {},
   "outputs": [
    {
     "data": {
      "text/html": [
       "<div>\n",
       "<style scoped>\n",
       "    .dataframe tbody tr th:only-of-type {\n",
       "        vertical-align: middle;\n",
       "    }\n",
       "\n",
       "    .dataframe tbody tr th {\n",
       "        vertical-align: top;\n",
       "    }\n",
       "\n",
       "    .dataframe thead th {\n",
       "        text-align: right;\n",
       "    }\n",
       "</style>\n",
       "<table border=\"1\" class=\"dataframe\">\n",
       "  <thead>\n",
       "    <tr style=\"text-align: right;\">\n",
       "      <th></th>\n",
       "      <th>phenotype_id</th>\n",
       "      <th>variant_id</th>\n",
       "      <th>tss_distance</th>\n",
       "      <th>maf</th>\n",
       "      <th>ma_samples</th>\n",
       "      <th>ma_count</th>\n",
       "      <th>pval_nominal</th>\n",
       "      <th>slope</th>\n",
       "      <th>slope_se</th>\n",
       "      <th>gene_id</th>\n",
       "    </tr>\n",
       "  </thead>\n",
       "  <tbody>\n",
       "    <tr>\n",
       "      <th>0</th>\n",
       "      <td>ENSG00000187634.11</td>\n",
       "      <td>chr1_13550_G_A_b38</td>\n",
       "      <td>-910378</td>\n",
       "      <td>0.012158</td>\n",
       "      <td>8</td>\n",
       "      <td>8</td>\n",
       "      <td>0.443292</td>\n",
       "      <td>-0.169791</td>\n",
       "      <td>0.221152</td>\n",
       "      <td>ENSG00000187634</td>\n",
       "    </tr>\n",
       "    <tr>\n",
       "      <th>1</th>\n",
       "      <td>ENSG00000187634.11</td>\n",
       "      <td>chr1_14671_G_C_b38</td>\n",
       "      <td>-909257</td>\n",
       "      <td>0.010638</td>\n",
       "      <td>7</td>\n",
       "      <td>7</td>\n",
       "      <td>0.955603</td>\n",
       "      <td>0.012550</td>\n",
       "      <td>0.225210</td>\n",
       "      <td>ENSG00000187634</td>\n",
       "    </tr>\n",
       "    <tr>\n",
       "      <th>2</th>\n",
       "      <td>ENSG00000187634.11</td>\n",
       "      <td>chr1_14677_G_A_b38</td>\n",
       "      <td>-909251</td>\n",
       "      <td>0.048632</td>\n",
       "      <td>32</td>\n",
       "      <td>32</td>\n",
       "      <td>0.795417</td>\n",
       "      <td>0.027932</td>\n",
       "      <td>0.107624</td>\n",
       "      <td>ENSG00000187634</td>\n",
       "    </tr>\n",
       "    <tr>\n",
       "      <th>3</th>\n",
       "      <td>ENSG00000187634.11</td>\n",
       "      <td>chr1_16841_G_T_b38</td>\n",
       "      <td>-907087</td>\n",
       "      <td>0.048632</td>\n",
       "      <td>32</td>\n",
       "      <td>32</td>\n",
       "      <td>0.313947</td>\n",
       "      <td>-0.107930</td>\n",
       "      <td>0.106985</td>\n",
       "      <td>ENSG00000187634</td>\n",
       "    </tr>\n",
       "    <tr>\n",
       "      <th>4</th>\n",
       "      <td>ENSG00000187634.11</td>\n",
       "      <td>chr1_17005_A_G_b38</td>\n",
       "      <td>-906923</td>\n",
       "      <td>0.025836</td>\n",
       "      <td>17</td>\n",
       "      <td>17</td>\n",
       "      <td>0.281260</td>\n",
       "      <td>0.163689</td>\n",
       "      <td>0.151617</td>\n",
       "      <td>ENSG00000187634</td>\n",
       "    </tr>\n",
       "  </tbody>\n",
       "</table>\n",
       "</div>"
      ],
      "text/plain": [
       "         phenotype_id          variant_id  tss_distance       maf  ma_samples  \\\n",
       "0  ENSG00000187634.11  chr1_13550_G_A_b38       -910378  0.012158           8   \n",
       "1  ENSG00000187634.11  chr1_14671_G_C_b38       -909257  0.010638           7   \n",
       "2  ENSG00000187634.11  chr1_14677_G_A_b38       -909251  0.048632          32   \n",
       "3  ENSG00000187634.11  chr1_16841_G_T_b38       -907087  0.048632          32   \n",
       "4  ENSG00000187634.11  chr1_17005_A_G_b38       -906923  0.025836          17   \n",
       "\n",
       "   ma_count  pval_nominal     slope  slope_se          gene_id  \n",
       "0         8      0.443292 -0.169791  0.221152  ENSG00000187634  \n",
       "1         7      0.955603  0.012550  0.225210  ENSG00000187634  \n",
       "2        32      0.795417  0.027932  0.107624  ENSG00000187634  \n",
       "3        32      0.313947 -0.107930  0.106985  ENSG00000187634  \n",
       "4        17      0.281260  0.163689  0.151617  ENSG00000187634  "
      ]
     },
     "execution_count": 12,
     "metadata": {},
     "output_type": "execute_result"
    }
   ],
   "source": [
    "compiled.head()"
   ]
  },
  {
   "cell_type": "code",
   "execution_count": 13,
   "metadata": {},
   "outputs": [],
   "source": [
    "compiled[\"variant_b37\"] = compiled[\"variant_id\"].map(mp_b38_b37)\n",
    "compiled[\"variant\"] = compiled[\"variant_b37\"].str.split(\"_\").str[0]+\":\"+compiled[\"variant_b37\"].str.split(\"_\").str[1]+\":\"+compiled[\"variant_b37\"].str.split(\"_\").str[2]+\":\"+compiled[\"variant_b37\"].str.split(\"_\").str[3]"
   ]
  },
  {
   "cell_type": "markdown",
   "metadata": {},
   "source": [
    "### ensure snps are found in tcga"
   ]
  },
  {
   "cell_type": "code",
   "execution_count": 14,
   "metadata": {},
   "outputs": [],
   "source": [
    "bim=pd.read_csv(\"/nrnb/users/mpagadal/tcga-genotypes/imputation/michigan-imputation/HRC/european.final.noimmunecancers.clean.bim\",delimiter=\"\\t\",header=None)"
   ]
  },
  {
   "cell_type": "code",
   "execution_count": 15,
   "metadata": {},
   "outputs": [],
   "source": [
    "snps=bim[1].tolist()+[x.rsplit(\":\",2)[0]+\":\"+x.split(\":\")[3]+\":\"+x.split(\":\")[2] for x in bim[1].tolist()]"
   ]
  },
  {
   "cell_type": "code",
   "execution_count": 16,
   "metadata": {},
   "outputs": [],
   "source": [
    "compiled_filt=compiled[compiled[\"variant\"].isin(snps)]"
   ]
  },
  {
   "cell_type": "code",
   "execution_count": 17,
   "metadata": {},
   "outputs": [
    {
     "data": {
      "text/html": [
       "<div>\n",
       "<style scoped>\n",
       "    .dataframe tbody tr th:only-of-type {\n",
       "        vertical-align: middle;\n",
       "    }\n",
       "\n",
       "    .dataframe tbody tr th {\n",
       "        vertical-align: top;\n",
       "    }\n",
       "\n",
       "    .dataframe thead th {\n",
       "        text-align: right;\n",
       "    }\n",
       "</style>\n",
       "<table border=\"1\" class=\"dataframe\">\n",
       "  <thead>\n",
       "    <tr style=\"text-align: right;\">\n",
       "      <th></th>\n",
       "      <th>phenotype_id</th>\n",
       "      <th>variant_id</th>\n",
       "      <th>tss_distance</th>\n",
       "      <th>maf</th>\n",
       "      <th>ma_samples</th>\n",
       "      <th>ma_count</th>\n",
       "      <th>pval_nominal</th>\n",
       "      <th>slope</th>\n",
       "      <th>slope_se</th>\n",
       "      <th>gene_id</th>\n",
       "      <th>variant_b37</th>\n",
       "      <th>variant</th>\n",
       "    </tr>\n",
       "  </thead>\n",
       "  <tbody>\n",
       "    <tr>\n",
       "      <th>146</th>\n",
       "      <td>ENSG00000187634.11</td>\n",
       "      <td>chr1_758351_A_G_b38</td>\n",
       "      <td>-165577</td>\n",
       "      <td>0.107903</td>\n",
       "      <td>65</td>\n",
       "      <td>71</td>\n",
       "      <td>0.238529</td>\n",
       "      <td>0.082620</td>\n",
       "      <td>0.069943</td>\n",
       "      <td>ENSG00000187634</td>\n",
       "      <td>1_693731_A_G_b37</td>\n",
       "      <td>1:693731:A:G</td>\n",
       "    </tr>\n",
       "    <tr>\n",
       "      <th>154</th>\n",
       "      <td>ENSG00000187634.11</td>\n",
       "      <td>chr1_770988_A_G_b38</td>\n",
       "      <td>-152940</td>\n",
       "      <td>0.455927</td>\n",
       "      <td>240</td>\n",
       "      <td>300</td>\n",
       "      <td>0.127656</td>\n",
       "      <td>-0.072567</td>\n",
       "      <td>0.047490</td>\n",
       "      <td>ENSG00000187634</td>\n",
       "      <td>1_706368_A_G_b37</td>\n",
       "      <td>1:706368:A:G</td>\n",
       "    </tr>\n",
       "    <tr>\n",
       "      <th>170</th>\n",
       "      <td>ENSG00000187634.11</td>\n",
       "      <td>chr1_779216_T_C_b38</td>\n",
       "      <td>-144712</td>\n",
       "      <td>0.066869</td>\n",
       "      <td>44</td>\n",
       "      <td>44</td>\n",
       "      <td>0.439378</td>\n",
       "      <td>-0.073659</td>\n",
       "      <td>0.095121</td>\n",
       "      <td>ENSG00000187634</td>\n",
       "      <td>1_714596_T_C_b37</td>\n",
       "      <td>1:714596:T:C</td>\n",
       "    </tr>\n",
       "    <tr>\n",
       "      <th>172</th>\n",
       "      <td>ENSG00000187634.11</td>\n",
       "      <td>chr1_779885_C_T_b38</td>\n",
       "      <td>-144043</td>\n",
       "      <td>0.068389</td>\n",
       "      <td>45</td>\n",
       "      <td>45</td>\n",
       "      <td>0.459901</td>\n",
       "      <td>-0.069646</td>\n",
       "      <td>0.094109</td>\n",
       "      <td>ENSG00000187634</td>\n",
       "      <td>1_715265_C_T_b37</td>\n",
       "      <td>1:715265:C:T</td>\n",
       "    </tr>\n",
       "    <tr>\n",
       "      <th>173</th>\n",
       "      <td>ENSG00000187634.11</td>\n",
       "      <td>chr1_779987_A_G_b38</td>\n",
       "      <td>-143941</td>\n",
       "      <td>0.068389</td>\n",
       "      <td>45</td>\n",
       "      <td>45</td>\n",
       "      <td>0.459901</td>\n",
       "      <td>-0.069646</td>\n",
       "      <td>0.094109</td>\n",
       "      <td>ENSG00000187634</td>\n",
       "      <td>1_715367_A_G_b37</td>\n",
       "      <td>1:715367:A:G</td>\n",
       "    </tr>\n",
       "  </tbody>\n",
       "</table>\n",
       "</div>"
      ],
      "text/plain": [
       "           phenotype_id           variant_id  tss_distance       maf  \\\n",
       "146  ENSG00000187634.11  chr1_758351_A_G_b38       -165577  0.107903   \n",
       "154  ENSG00000187634.11  chr1_770988_A_G_b38       -152940  0.455927   \n",
       "170  ENSG00000187634.11  chr1_779216_T_C_b38       -144712  0.066869   \n",
       "172  ENSG00000187634.11  chr1_779885_C_T_b38       -144043  0.068389   \n",
       "173  ENSG00000187634.11  chr1_779987_A_G_b38       -143941  0.068389   \n",
       "\n",
       "     ma_samples  ma_count  pval_nominal     slope  slope_se          gene_id  \\\n",
       "146          65        71      0.238529  0.082620  0.069943  ENSG00000187634   \n",
       "154         240       300      0.127656 -0.072567  0.047490  ENSG00000187634   \n",
       "170          44        44      0.439378 -0.073659  0.095121  ENSG00000187634   \n",
       "172          45        45      0.459901 -0.069646  0.094109  ENSG00000187634   \n",
       "173          45        45      0.459901 -0.069646  0.094109  ENSG00000187634   \n",
       "\n",
       "          variant_b37       variant  \n",
       "146  1_693731_A_G_b37  1:693731:A:G  \n",
       "154  1_706368_A_G_b37  1:706368:A:G  \n",
       "170  1_714596_T_C_b37  1:714596:T:C  \n",
       "172  1_715265_C_T_b37  1:715265:C:T  \n",
       "173  1_715367_A_G_b37  1:715367:A:G  "
      ]
     },
     "execution_count": 17,
     "metadata": {},
     "output_type": "execute_result"
    }
   ],
   "source": [
    "compiled_filt.head()"
   ]
  },
  {
   "cell_type": "code",
   "execution_count": 18,
   "metadata": {},
   "outputs": [
    {
     "data": {
      "text/plain": [
       "(77006529, 12)"
      ]
     },
     "execution_count": 18,
     "metadata": {},
     "output_type": "execute_result"
    }
   ],
   "source": [
    "compiled_filt.shape"
   ]
  },
  {
   "cell_type": "markdown",
   "metadata": {},
   "source": [
    "### randomization"
   ]
  },
  {
   "cell_type": "code",
   "execution_count": 19,
   "metadata": {},
   "outputs": [],
   "source": [
    "gtex_rand=compiled_filt.sample(n=1000)"
   ]
  },
  {
   "cell_type": "code",
   "execution_count": 20,
   "metadata": {},
   "outputs": [],
   "source": [
    "gtex_rand.to_csv(\"gtex_rand.csv\",index=None,sep=\"\\t\")"
   ]
  },
  {
   "cell_type": "markdown",
   "metadata": {},
   "source": [
    "### make snps dataframe"
   ]
  },
  {
   "cell_type": "code",
   "execution_count": 21,
   "metadata": {},
   "outputs": [],
   "source": [
    "gtex_rand=pd.read_csv(\"gtex_rand.csv\",delimiter=\"\\t\")"
   ]
  },
  {
   "cell_type": "code",
   "execution_count": 22,
   "metadata": {},
   "outputs": [],
   "source": [
    "gtex_rand_snps=gtex_rand[\"variant\"].tolist()+[x.rsplit(\":\",2)[0]+\":\"+x.split(\":\")[3]+\":\"+x.split(\":\")[2] for x in gtex_rand[\"variant\"].tolist()]"
   ]
  },
  {
   "cell_type": "code",
   "execution_count": 23,
   "metadata": {},
   "outputs": [
    {
     "data": {
      "text/plain": [
       "1000"
      ]
     },
     "execution_count": 23,
     "metadata": {},
     "output_type": "execute_result"
    }
   ],
   "source": [
    "len(gtex_rand)"
   ]
  },
  {
   "cell_type": "code",
   "execution_count": 24,
   "metadata": {},
   "outputs": [],
   "source": [
    "rand=pd.DataFrame({\"snps\":gtex_rand_snps})"
   ]
  },
  {
   "cell_type": "code",
   "execution_count": 25,
   "metadata": {},
   "outputs": [],
   "source": [
    "rand.to_csv(\"extract_gtex_rand_snps.txt\",header=None,index=None)"
   ]
  },
  {
   "cell_type": "code",
   "execution_count": 26,
   "metadata": {},
   "outputs": [],
   "source": [
    "with open('/cellar/users/mpagadal/Data/resources/tcga/ensembl_map.json', 'r') as f:\n",
    "    ensembl_dict = json.load(f)"
   ]
  },
  {
   "cell_type": "code",
   "execution_count": 27,
   "metadata": {},
   "outputs": [],
   "source": [
    "ensembl_dict={k.split(\".\")[0]:v for k,v in ensembl_dict.items()}"
   ]
  },
  {
   "cell_type": "code",
   "execution_count": 28,
   "metadata": {},
   "outputs": [],
   "source": [
    "gtex_rand[\"gene\"]=gtex_rand[\"gene_id\"].map(ensembl_dict)"
   ]
  },
  {
   "cell_type": "code",
   "execution_count": 29,
   "metadata": {},
   "outputs": [
    {
     "data": {
      "text/plain": [
       "974"
      ]
     },
     "execution_count": 29,
     "metadata": {},
     "output_type": "execute_result"
    }
   ],
   "source": [
    "len(gtex_rand[\"gene\"].unique())"
   ]
  },
  {
   "cell_type": "code",
   "execution_count": 30,
   "metadata": {},
   "outputs": [],
   "source": [
    "rand_genes=pd.DataFrame({\"genes\":gtex_rand[\"gene\"].unique().tolist()})"
   ]
  },
  {
   "cell_type": "code",
   "execution_count": 31,
   "metadata": {},
   "outputs": [],
   "source": [
    "rand_genes.to_csv(\"gtex_rand_genes.txt\",index=None,sep=\"\\t\")"
   ]
  },
  {
   "cell_type": "code",
   "execution_count": 32,
   "metadata": {},
   "outputs": [
    {
     "data": {
      "text/plain": [
       "974"
      ]
     },
     "execution_count": 32,
     "metadata": {},
     "output_type": "execute_result"
    }
   ],
   "source": [
    "len(rand_genes[\"genes\"].tolist())"
   ]
  },
  {
   "cell_type": "markdown",
   "metadata": {},
   "source": [
    "## Get random snps"
   ]
  },
  {
   "cell_type": "code",
   "execution_count": 21,
   "metadata": {},
   "outputs": [],
   "source": [
    "#directory with snps extracted from gtex parquet files\n",
    "directory='./rand_extracted_snps/'\n",
    "gtex_files=[x for x in os.listdir(directory) if x.endswith(\"gtex.cis.eur.snps.csv\")]"
   ]
  },
  {
   "cell_type": "code",
   "execution_count": 22,
   "metadata": {},
   "outputs": [],
   "source": [
    "#compiled snps from all gtex tissues\n",
    "total_gtex=pd.DataFrame()\n",
    "\n",
    "for x in gtex_files:\n",
    "    cis=pd.read_csv(directory+x)\n",
    "    cis[\"file\"]=x.split(\".gtex.cis.eur.snps.csv\")[0]\n",
    "    total_gtex=total_gtex.append(cis)"
   ]
  },
  {
   "cell_type": "code",
   "execution_count": 23,
   "metadata": {},
   "outputs": [
    {
     "data": {
      "text/html": [
       "<div>\n",
       "<style scoped>\n",
       "    .dataframe tbody tr th:only-of-type {\n",
       "        vertical-align: middle;\n",
       "    }\n",
       "\n",
       "    .dataframe tbody tr th {\n",
       "        vertical-align: top;\n",
       "    }\n",
       "\n",
       "    .dataframe thead th {\n",
       "        text-align: right;\n",
       "    }\n",
       "</style>\n",
       "<table border=\"1\" class=\"dataframe\">\n",
       "  <thead>\n",
       "    <tr style=\"text-align: right;\">\n",
       "      <th></th>\n",
       "      <th>Unnamed: 0</th>\n",
       "      <th>phenotype_id</th>\n",
       "      <th>variant_id</th>\n",
       "      <th>tss_distance</th>\n",
       "      <th>maf</th>\n",
       "      <th>ma_samples</th>\n",
       "      <th>ma_count</th>\n",
       "      <th>pval_nominal</th>\n",
       "      <th>slope</th>\n",
       "      <th>slope_se</th>\n",
       "      <th>variant_b37</th>\n",
       "      <th>variant</th>\n",
       "      <th>file</th>\n",
       "      <th>variant2</th>\n",
       "      <th>gene_id</th>\n",
       "    </tr>\n",
       "  </thead>\n",
       "  <tbody>\n",
       "    <tr>\n",
       "      <th>0</th>\n",
       "      <td>2323</td>\n",
       "      <td>ENSG00000237094.11</td>\n",
       "      <td>chr1_1352965_A_G_b38</td>\n",
       "      <td>851348</td>\n",
       "      <td>0.028846</td>\n",
       "      <td>15</td>\n",
       "      <td>15</td>\n",
       "      <td>0.895738</td>\n",
       "      <td>-0.036855</td>\n",
       "      <td>0.280882</td>\n",
       "      <td>1_1288345_A_G_b37</td>\n",
       "      <td>1:1288345:A:G</td>\n",
       "      <td>Stomach</td>\n",
       "      <td>1:1288345:G:A</td>\n",
       "      <td>ENSG00000237094</td>\n",
       "    </tr>\n",
       "    <tr>\n",
       "      <th>1</th>\n",
       "      <td>2323</td>\n",
       "      <td>ENSG00000225972.1</td>\n",
       "      <td>chr1_1352965_A_G_b38</td>\n",
       "      <td>723903</td>\n",
       "      <td>0.028846</td>\n",
       "      <td>15</td>\n",
       "      <td>15</td>\n",
       "      <td>0.848214</td>\n",
       "      <td>0.032457</td>\n",
       "      <td>0.169367</td>\n",
       "      <td>1_1288345_A_G_b37</td>\n",
       "      <td>1:1288345:A:G</td>\n",
       "      <td>Stomach</td>\n",
       "      <td>1:1288345:G:A</td>\n",
       "      <td>ENSG00000225972</td>\n",
       "    </tr>\n",
       "    <tr>\n",
       "      <th>2</th>\n",
       "      <td>2323</td>\n",
       "      <td>ENSG00000225630.1</td>\n",
       "      <td>chr1_1352965_A_G_b38</td>\n",
       "      <td>723325</td>\n",
       "      <td>0.028846</td>\n",
       "      <td>15</td>\n",
       "      <td>15</td>\n",
       "      <td>0.921226</td>\n",
       "      <td>-0.021156</td>\n",
       "      <td>0.213673</td>\n",
       "      <td>1_1288345_A_G_b37</td>\n",
       "      <td>1:1288345:A:G</td>\n",
       "      <td>Stomach</td>\n",
       "      <td>1:1288345:G:A</td>\n",
       "      <td>ENSG00000225630</td>\n",
       "    </tr>\n",
       "    <tr>\n",
       "      <th>3</th>\n",
       "      <td>2323</td>\n",
       "      <td>ENSG00000237973.1</td>\n",
       "      <td>chr1_1352965_A_G_b38</td>\n",
       "      <td>721891</td>\n",
       "      <td>0.028846</td>\n",
       "      <td>15</td>\n",
       "      <td>15</td>\n",
       "      <td>0.729151</td>\n",
       "      <td>0.060864</td>\n",
       "      <td>0.175537</td>\n",
       "      <td>1_1288345_A_G_b37</td>\n",
       "      <td>1:1288345:A:G</td>\n",
       "      <td>Stomach</td>\n",
       "      <td>1:1288345:G:A</td>\n",
       "      <td>ENSG00000237973</td>\n",
       "    </tr>\n",
       "    <tr>\n",
       "      <th>4</th>\n",
       "      <td>2323</td>\n",
       "      <td>ENSG00000229344.1</td>\n",
       "      <td>chr1_1352965_A_G_b38</td>\n",
       "      <td>720208</td>\n",
       "      <td>0.028846</td>\n",
       "      <td>15</td>\n",
       "      <td>15</td>\n",
       "      <td>0.054454</td>\n",
       "      <td>0.324285</td>\n",
       "      <td>0.167650</td>\n",
       "      <td>1_1288345_A_G_b37</td>\n",
       "      <td>1:1288345:A:G</td>\n",
       "      <td>Stomach</td>\n",
       "      <td>1:1288345:G:A</td>\n",
       "      <td>ENSG00000229344</td>\n",
       "    </tr>\n",
       "  </tbody>\n",
       "</table>\n",
       "</div>"
      ],
      "text/plain": [
       "   Unnamed: 0        phenotype_id            variant_id  tss_distance  \\\n",
       "0        2323  ENSG00000237094.11  chr1_1352965_A_G_b38        851348   \n",
       "1        2323   ENSG00000225972.1  chr1_1352965_A_G_b38        723903   \n",
       "2        2323   ENSG00000225630.1  chr1_1352965_A_G_b38        723325   \n",
       "3        2323   ENSG00000237973.1  chr1_1352965_A_G_b38        721891   \n",
       "4        2323   ENSG00000229344.1  chr1_1352965_A_G_b38        720208   \n",
       "\n",
       "        maf  ma_samples  ma_count  pval_nominal     slope  slope_se  \\\n",
       "0  0.028846          15        15      0.895738 -0.036855  0.280882   \n",
       "1  0.028846          15        15      0.848214  0.032457  0.169367   \n",
       "2  0.028846          15        15      0.921226 -0.021156  0.213673   \n",
       "3  0.028846          15        15      0.729151  0.060864  0.175537   \n",
       "4  0.028846          15        15      0.054454  0.324285  0.167650   \n",
       "\n",
       "         variant_b37        variant     file       variant2          gene_id  \n",
       "0  1_1288345_A_G_b37  1:1288345:A:G  Stomach  1:1288345:G:A  ENSG00000237094  \n",
       "1  1_1288345_A_G_b37  1:1288345:A:G  Stomach  1:1288345:G:A  ENSG00000225972  \n",
       "2  1_1288345_A_G_b37  1:1288345:A:G  Stomach  1:1288345:G:A  ENSG00000225630  \n",
       "3  1_1288345_A_G_b37  1:1288345:A:G  Stomach  1:1288345:G:A  ENSG00000237973  \n",
       "4  1_1288345_A_G_b37  1:1288345:A:G  Stomach  1:1288345:G:A  ENSG00000229344  "
      ]
     },
     "execution_count": 23,
     "metadata": {},
     "output_type": "execute_result"
    }
   ],
   "source": [
    "#grab snps for which ref/alt order is reversed\n",
    "total_gtex[\"variant2\"]=total_gtex[\"variant_b37\"].str.split(\"_\").str[0]+\":\"+total_gtex[\"variant_b37\"].str.split(\"_\").str[1]+\":\"+total_gtex[\"variant_b37\"].str.split(\"_\").str[3]+\":\"+total_gtex[\"variant_b37\"].str.split(\"_\").str[2]\n",
    "#get gene ids for mapping\n",
    "total_gtex[\"gene_id\"]=total_gtex[\"phenotype_id\"].str.split(\".\").str[0]\n",
    "total_gtex.head()"
   ]
  },
  {
   "cell_type": "code",
   "execution_count": 24,
   "metadata": {},
   "outputs": [],
   "source": [
    "#extract reference and alternate alleles\n",
    "#according to gtex guide reference is first in variant id followed by alternate allele\n",
    "total_gtex[\"ref\"]=total_gtex[\"variant_id\"].str.split(\"_\").str[2]\n",
    "total_gtex[\"alt\"]=total_gtex[\"variant_id\"].str.split(\"_\").str[3]"
   ]
  },
  {
   "cell_type": "code",
   "execution_count": 25,
   "metadata": {},
   "outputs": [],
   "source": [
    "total_gtex_melt=pd.melt(total_gtex, id_vars=([\"gene_id\",\"slope\",\"slope_se\",\"ref\",\"alt\",\"file\",\"pval_nominal\",\"maf\",\"tss_distance\",\"variant_id\"]),value_vars=([\"variant\",\"variant2\"]))"
   ]
  },
  {
   "cell_type": "code",
   "execution_count": 28,
   "metadata": {},
   "outputs": [],
   "source": [
    "with open('/cellar/users/mpagadal/Data/resources/tcga/ensembl_map.json', 'r') as f:\n",
    "    ensembl_dict = json.load(f)"
   ]
  },
  {
   "cell_type": "code",
   "execution_count": 29,
   "metadata": {},
   "outputs": [],
   "source": [
    "ensembl_dict={k.split(\".\")[0]:v for k,v in ensembl_dict.items()}"
   ]
  },
  {
   "cell_type": "code",
   "execution_count": 30,
   "metadata": {},
   "outputs": [],
   "source": [
    "total_gtex[\"gene_name\"]=total_gtex[\"gene_id\"].map(ensembl_dict)"
   ]
  },
  {
   "cell_type": "code",
   "execution_count": 34,
   "metadata": {},
   "outputs": [
    {
     "data": {
      "text/plain": [
       "19859"
      ]
     },
     "execution_count": 34,
     "metadata": {},
     "output_type": "execute_result"
    }
   ],
   "source": [
    "len(total_gtex[\"gene_name\"].unique())"
   ]
  },
  {
   "cell_type": "code",
   "execution_count": 35,
   "metadata": {},
   "outputs": [
    {
     "data": {
      "text/html": [
       "<div>\n",
       "<style scoped>\n",
       "    .dataframe tbody tr th:only-of-type {\n",
       "        vertical-align: middle;\n",
       "    }\n",
       "\n",
       "    .dataframe tbody tr th {\n",
       "        vertical-align: top;\n",
       "    }\n",
       "\n",
       "    .dataframe thead th {\n",
       "        text-align: right;\n",
       "    }\n",
       "</style>\n",
       "<table border=\"1\" class=\"dataframe\">\n",
       "  <thead>\n",
       "    <tr style=\"text-align: right;\">\n",
       "      <th></th>\n",
       "      <th>Unnamed: 0</th>\n",
       "      <th>phenotype_id</th>\n",
       "      <th>variant_id</th>\n",
       "      <th>tss_distance</th>\n",
       "      <th>maf</th>\n",
       "      <th>ma_samples</th>\n",
       "      <th>ma_count</th>\n",
       "      <th>pval_nominal</th>\n",
       "      <th>slope</th>\n",
       "      <th>slope_se</th>\n",
       "      <th>variant_b37</th>\n",
       "      <th>variant</th>\n",
       "      <th>file</th>\n",
       "      <th>variant2</th>\n",
       "      <th>gene_id</th>\n",
       "      <th>ref</th>\n",
       "      <th>alt</th>\n",
       "      <th>gene_name</th>\n",
       "    </tr>\n",
       "  </thead>\n",
       "  <tbody>\n",
       "    <tr>\n",
       "      <th>0</th>\n",
       "      <td>2323</td>\n",
       "      <td>ENSG00000237094.11</td>\n",
       "      <td>chr1_1352965_A_G_b38</td>\n",
       "      <td>851348</td>\n",
       "      <td>0.028846</td>\n",
       "      <td>15</td>\n",
       "      <td>15</td>\n",
       "      <td>0.895738</td>\n",
       "      <td>-0.036855</td>\n",
       "      <td>0.280882</td>\n",
       "      <td>1_1288345_A_G_b37</td>\n",
       "      <td>1:1288345:A:G</td>\n",
       "      <td>Stomach</td>\n",
       "      <td>1:1288345:G:A</td>\n",
       "      <td>ENSG00000237094</td>\n",
       "      <td>A</td>\n",
       "      <td>G</td>\n",
       "      <td>RP4-669L17.10</td>\n",
       "    </tr>\n",
       "    <tr>\n",
       "      <th>1</th>\n",
       "      <td>2323</td>\n",
       "      <td>ENSG00000225972.1</td>\n",
       "      <td>chr1_1352965_A_G_b38</td>\n",
       "      <td>723903</td>\n",
       "      <td>0.028846</td>\n",
       "      <td>15</td>\n",
       "      <td>15</td>\n",
       "      <td>0.848214</td>\n",
       "      <td>0.032457</td>\n",
       "      <td>0.169367</td>\n",
       "      <td>1_1288345_A_G_b37</td>\n",
       "      <td>1:1288345:A:G</td>\n",
       "      <td>Stomach</td>\n",
       "      <td>1:1288345:G:A</td>\n",
       "      <td>ENSG00000225972</td>\n",
       "      <td>A</td>\n",
       "      <td>G</td>\n",
       "      <td>MTND1P23</td>\n",
       "    </tr>\n",
       "    <tr>\n",
       "      <th>2</th>\n",
       "      <td>2323</td>\n",
       "      <td>ENSG00000225630.1</td>\n",
       "      <td>chr1_1352965_A_G_b38</td>\n",
       "      <td>723325</td>\n",
       "      <td>0.028846</td>\n",
       "      <td>15</td>\n",
       "      <td>15</td>\n",
       "      <td>0.921226</td>\n",
       "      <td>-0.021156</td>\n",
       "      <td>0.213673</td>\n",
       "      <td>1_1288345_A_G_b37</td>\n",
       "      <td>1:1288345:A:G</td>\n",
       "      <td>Stomach</td>\n",
       "      <td>1:1288345:G:A</td>\n",
       "      <td>ENSG00000225630</td>\n",
       "      <td>A</td>\n",
       "      <td>G</td>\n",
       "      <td>MTND2P28</td>\n",
       "    </tr>\n",
       "    <tr>\n",
       "      <th>3</th>\n",
       "      <td>2323</td>\n",
       "      <td>ENSG00000237973.1</td>\n",
       "      <td>chr1_1352965_A_G_b38</td>\n",
       "      <td>721891</td>\n",
       "      <td>0.028846</td>\n",
       "      <td>15</td>\n",
       "      <td>15</td>\n",
       "      <td>0.729151</td>\n",
       "      <td>0.060864</td>\n",
       "      <td>0.175537</td>\n",
       "      <td>1_1288345_A_G_b37</td>\n",
       "      <td>1:1288345:A:G</td>\n",
       "      <td>Stomach</td>\n",
       "      <td>1:1288345:G:A</td>\n",
       "      <td>ENSG00000237973</td>\n",
       "      <td>A</td>\n",
       "      <td>G</td>\n",
       "      <td>RP5-857K21.6</td>\n",
       "    </tr>\n",
       "    <tr>\n",
       "      <th>4</th>\n",
       "      <td>2323</td>\n",
       "      <td>ENSG00000229344.1</td>\n",
       "      <td>chr1_1352965_A_G_b38</td>\n",
       "      <td>720208</td>\n",
       "      <td>0.028846</td>\n",
       "      <td>15</td>\n",
       "      <td>15</td>\n",
       "      <td>0.054454</td>\n",
       "      <td>0.324285</td>\n",
       "      <td>0.167650</td>\n",
       "      <td>1_1288345_A_G_b37</td>\n",
       "      <td>1:1288345:A:G</td>\n",
       "      <td>Stomach</td>\n",
       "      <td>1:1288345:G:A</td>\n",
       "      <td>ENSG00000229344</td>\n",
       "      <td>A</td>\n",
       "      <td>G</td>\n",
       "      <td>RP5-857K21.7</td>\n",
       "    </tr>\n",
       "  </tbody>\n",
       "</table>\n",
       "</div>"
      ],
      "text/plain": [
       "   Unnamed: 0        phenotype_id            variant_id  tss_distance  \\\n",
       "0        2323  ENSG00000237094.11  chr1_1352965_A_G_b38        851348   \n",
       "1        2323   ENSG00000225972.1  chr1_1352965_A_G_b38        723903   \n",
       "2        2323   ENSG00000225630.1  chr1_1352965_A_G_b38        723325   \n",
       "3        2323   ENSG00000237973.1  chr1_1352965_A_G_b38        721891   \n",
       "4        2323   ENSG00000229344.1  chr1_1352965_A_G_b38        720208   \n",
       "\n",
       "        maf  ma_samples  ma_count  pval_nominal     slope  slope_se  \\\n",
       "0  0.028846          15        15      0.895738 -0.036855  0.280882   \n",
       "1  0.028846          15        15      0.848214  0.032457  0.169367   \n",
       "2  0.028846          15        15      0.921226 -0.021156  0.213673   \n",
       "3  0.028846          15        15      0.729151  0.060864  0.175537   \n",
       "4  0.028846          15        15      0.054454  0.324285  0.167650   \n",
       "\n",
       "         variant_b37        variant     file       variant2          gene_id  \\\n",
       "0  1_1288345_A_G_b37  1:1288345:A:G  Stomach  1:1288345:G:A  ENSG00000237094   \n",
       "1  1_1288345_A_G_b37  1:1288345:A:G  Stomach  1:1288345:G:A  ENSG00000225972   \n",
       "2  1_1288345_A_G_b37  1:1288345:A:G  Stomach  1:1288345:G:A  ENSG00000225630   \n",
       "3  1_1288345_A_G_b37  1:1288345:A:G  Stomach  1:1288345:G:A  ENSG00000237973   \n",
       "4  1_1288345_A_G_b37  1:1288345:A:G  Stomach  1:1288345:G:A  ENSG00000229344   \n",
       "\n",
       "  ref alt      gene_name  \n",
       "0   A   G  RP4-669L17.10  \n",
       "1   A   G       MTND1P23  \n",
       "2   A   G       MTND2P28  \n",
       "3   A   G   RP5-857K21.6  \n",
       "4   A   G   RP5-857K21.7  "
      ]
     },
     "execution_count": 35,
     "metadata": {},
     "output_type": "execute_result"
    }
   ],
   "source": [
    "total_gtex.head()"
   ]
  },
  {
   "cell_type": "code",
   "execution_count": null,
   "metadata": {},
   "outputs": [],
   "source": []
  }
 ],
 "metadata": {
  "kernelspec": {
   "display_name": "Python 3",
   "language": "python",
   "name": "python3"
  },
  "language_info": {
   "codemirror_mode": {
    "name": "ipython",
    "version": 3
   },
   "file_extension": ".py",
   "mimetype": "text/x-python",
   "name": "python",
   "nbconvert_exporter": "python",
   "pygments_lexer": "ipython3",
   "version": "3.7.7"
  }
 },
 "nbformat": 4,
 "nbformat_minor": 4
}
