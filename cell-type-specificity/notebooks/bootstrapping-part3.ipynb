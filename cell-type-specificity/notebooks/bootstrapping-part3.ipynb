{
 "cells": [
  {
   "cell_type": "code",
   "execution_count": 1,
   "metadata": {},
   "outputs": [],
   "source": [
    "import pandas as pd\n",
    "import os\n",
    "from matplotlib import pyplot as plt\n",
    "import numpy as np\n",
    "import seaborn as sns\n",
    "import matplotlib as mpl\n",
    "from matplotlib.pyplot import cm"
   ]
  },
  {
   "cell_type": "code",
   "execution_count": 2,
   "metadata": {},
   "outputs": [
    {
     "name": "stdout",
     "output_type": "stream",
     "text": [
      "['/data/cellardata2/users/mpagadal/projects/germline-immune/cell-type-specificity/notebooks', '/nrnb/opt/anaconda3.7/lib/python37.zip', '/nrnb/opt/anaconda3.7/lib/python3.7', '/nrnb/opt/anaconda3.7/lib/python3.7/lib-dynload', '', '/cellar/users/mpagadal/.local/lib/python3.7/site-packages', '/nrnb/opt/anaconda3.7/lib/python3.7/site-packages', '/nrnb/opt/anaconda3.7/lib/python3.7/site-packages/IPython/extensions', '/cellar/users/mpagadal/.ipython']\n"
     ]
    }
   ],
   "source": [
    "import sys\n",
    "print(sys.path) \n",
    "sys.path.append(\"/cellar/users/mpagadal/Programs/anaconda3/lib/python3.7/site-packages\")\n",
    "sys.path.insert(1, '/cellar/users/mpagadal/Data/gcta/scripts')"
   ]
  },
  {
   "cell_type": "code",
   "execution_count": 3,
   "metadata": {},
   "outputs": [],
   "source": [
    "import networkx as nx\n",
    "from ndex2.nice_cx_network import NiceCXNetwork \n",
    "import ndex2.client as nc\n",
    "import ndex2"
   ]
  },
  {
   "cell_type": "code",
   "execution_count": 4,
   "metadata": {},
   "outputs": [],
   "source": [
    "import matplotlib\n",
    "matplotlib.rcParams['pdf.fonttype'] = 42\n",
    "matplotlib.rcParams['ps.fonttype'] = 42"
   ]
  },
  {
   "cell_type": "code",
   "execution_count": 5,
   "metadata": {},
   "outputs": [],
   "source": [
    "import matplotlib.pyplot as plt\n",
    "from matplotlib_venn import venn2\n",
    "from matplotlib_venn import venn3"
   ]
  },
  {
   "cell_type": "code",
   "execution_count": 6,
   "metadata": {},
   "outputs": [],
   "source": [
    "import statsmodels.stats.multitest as multi\n",
    "from adjustText import adjust_text"
   ]
  },
  {
   "cell_type": "code",
   "execution_count": 7,
   "metadata": {},
   "outputs": [],
   "source": [
    "import numpy as np\n",
    "from sklearn.decomposition import PCA\n",
    "from sklearn.preprocessing import StandardScaler\n",
    "import json"
   ]
  },
  {
   "cell_type": "markdown",
   "metadata": {},
   "source": [
    "## Get GTEx summary statistics for immune microenvironment SNPs from all tissue types"
   ]
  },
  {
   "cell_type": "code",
   "execution_count": 8,
   "metadata": {},
   "outputs": [],
   "source": [
    "with open('/cellar/users/mpagadal/Data/resources/tcga/ensembl_map.json', 'r') as f:\n",
    "    ensembl_dict = json.load(f)"
   ]
  },
  {
   "cell_type": "code",
   "execution_count": 9,
   "metadata": {},
   "outputs": [],
   "source": [
    "ensembl_dict={k.split(\".\")[0]:v for k,v in ensembl_dict.items()}"
   ]
  },
  {
   "cell_type": "code",
   "execution_count": 10,
   "metadata": {},
   "outputs": [],
   "source": [
    "def compile_gtex(directory,file_name,mapping):\n",
    "    gtex_files=[x for x in os.listdir(directory)]\n",
    "    total_gtex=pd.DataFrame()\n",
    "\n",
    "    for x in gtex_files:\n",
    "        cis=pd.read_csv(directory+x)\n",
    "        cis[\"file\"]=x.split(file_name)[0]\n",
    "        total_gtex=total_gtex.append(cis)\n",
    "    \n",
    "    #format variant2 and gene\n",
    "    total_gtex[\"variant2\"]=total_gtex[\"variant_b37\"].str.split(\"_\").str[0]+\":\"+total_gtex[\"variant_b37\"].str.split(\"_\").str[1]+\":\"+total_gtex[\"variant_b37\"].str.split(\"_\").str[3]+\":\"+total_gtex[\"variant_b37\"].str.split(\"_\").str[2]\n",
    "    #get gene ids for mapping\n",
    "    total_gtex[\"gene_id\"]=total_gtex[\"phenotype_id\"].str.split(\".\").str[0]\n",
    "    \n",
    "    total_gtex[\"ref\"]=total_gtex[\"variant_id\"].str.split(\"_\").str[2]\n",
    "    total_gtex[\"alt\"]=total_gtex[\"variant_id\"].str.split(\"_\").str[3]\n",
    "    \n",
    "    total_gtex_melt=pd.melt(total_gtex, id_vars=([\"gene_id\",\"slope\",\"slope_se\",\"ref\",\"alt\",\"file\",\"pval_nominal\",\"maf\",\"tss_distance\",\"variant_b37\"]),value_vars=([\"variant\",\"variant2\"]))\n",
    "    \n",
    "    total_gtex_melt[\"gene_name\"]=total_gtex_melt[\"gene_id\"].map(mapping)\n",
    "    \n",
    "    total_gtex_melt[\"assoc\"]=total_gtex_melt[\"value\"]+\"_\"+total_gtex_melt[\"gene_name\"]\n",
    "    \n",
    "    return(total_gtex_melt)\n",
    "    "
   ]
  },
  {
   "cell_type": "code",
   "execution_count": 11,
   "metadata": {},
   "outputs": [],
   "source": [
    "gtex=compile_gtex(\"../data/rand_extracted_snps/\",\".snps.csv\",ensembl_dict)"
   ]
  },
  {
   "cell_type": "code",
   "execution_count": 12,
   "metadata": {},
   "outputs": [
    {
     "name": "stdout",
     "output_type": "stream",
     "text": [
      "(3406716, 14)\n"
     ]
    },
    {
     "data": {
      "text/html": [
       "<div>\n",
       "<style scoped>\n",
       "    .dataframe tbody tr th:only-of-type {\n",
       "        vertical-align: middle;\n",
       "    }\n",
       "\n",
       "    .dataframe tbody tr th {\n",
       "        vertical-align: top;\n",
       "    }\n",
       "\n",
       "    .dataframe thead th {\n",
       "        text-align: right;\n",
       "    }\n",
       "</style>\n",
       "<table border=\"1\" class=\"dataframe\">\n",
       "  <thead>\n",
       "    <tr style=\"text-align: right;\">\n",
       "      <th></th>\n",
       "      <th>gene_id</th>\n",
       "      <th>slope</th>\n",
       "      <th>slope_se</th>\n",
       "      <th>ref</th>\n",
       "      <th>alt</th>\n",
       "      <th>file</th>\n",
       "      <th>pval_nominal</th>\n",
       "      <th>maf</th>\n",
       "      <th>tss_distance</th>\n",
       "      <th>variant_b37</th>\n",
       "      <th>variable</th>\n",
       "      <th>value</th>\n",
       "      <th>gene_name</th>\n",
       "      <th>assoc</th>\n",
       "    </tr>\n",
       "  </thead>\n",
       "  <tbody>\n",
       "    <tr>\n",
       "      <th>0</th>\n",
       "      <td>ENSG00000228463</td>\n",
       "      <td>-0.737765</td>\n",
       "      <td>0.396619</td>\n",
       "      <td>A</td>\n",
       "      <td>T</td>\n",
       "      <td>Brain_Cerebellum</td>\n",
       "      <td>0.064851</td>\n",
       "      <td>0.018617</td>\n",
       "      <td>917556</td>\n",
       "      <td>1_1150438_A_T_b37</td>\n",
       "      <td>variant</td>\n",
       "      <td>1:1150438:A:T</td>\n",
       "      <td>AP006222.2</td>\n",
       "      <td>1:1150438:A:T_AP006222.2</td>\n",
       "    </tr>\n",
       "    <tr>\n",
       "      <th>1</th>\n",
       "      <td>ENSG00000237094</td>\n",
       "      <td>0.930358</td>\n",
       "      <td>0.374408</td>\n",
       "      <td>A</td>\n",
       "      <td>T</td>\n",
       "      <td>Brain_Cerebellum</td>\n",
       "      <td>0.014073</td>\n",
       "      <td>0.018617</td>\n",
       "      <td>713441</td>\n",
       "      <td>1_1150438_A_T_b37</td>\n",
       "      <td>variant</td>\n",
       "      <td>1:1150438:A:T</td>\n",
       "      <td>RP4-669L17.10</td>\n",
       "      <td>1:1150438:A:T_RP4-669L17.10</td>\n",
       "    </tr>\n",
       "    <tr>\n",
       "      <th>2</th>\n",
       "      <td>ENSG00000237094</td>\n",
       "      <td>0.852446</td>\n",
       "      <td>0.449281</td>\n",
       "      <td>C</td>\n",
       "      <td>T</td>\n",
       "      <td>Brain_Cerebellum</td>\n",
       "      <td>0.059729</td>\n",
       "      <td>0.013298</td>\n",
       "      <td>833254</td>\n",
       "      <td>1_1270251_C_T_b37</td>\n",
       "      <td>variant</td>\n",
       "      <td>1:1270251:C:T</td>\n",
       "      <td>RP4-669L17.10</td>\n",
       "      <td>1:1270251:C:T_RP4-669L17.10</td>\n",
       "    </tr>\n",
       "    <tr>\n",
       "      <th>3</th>\n",
       "      <td>ENSG00000237094</td>\n",
       "      <td>0.063429</td>\n",
       "      <td>0.142695</td>\n",
       "      <td>A</td>\n",
       "      <td>G</td>\n",
       "      <td>Brain_Cerebellum</td>\n",
       "      <td>0.657328</td>\n",
       "      <td>0.159574</td>\n",
       "      <td>872888</td>\n",
       "      <td>1_1309885_A_G_b37</td>\n",
       "      <td>variant</td>\n",
       "      <td>1:1309885:A:G</td>\n",
       "      <td>RP4-669L17.10</td>\n",
       "      <td>1:1309885:A:G_RP4-669L17.10</td>\n",
       "    </tr>\n",
       "    <tr>\n",
       "      <th>4</th>\n",
       "      <td>ENSG00000225972</td>\n",
       "      <td>-0.016371</td>\n",
       "      <td>0.250645</td>\n",
       "      <td>A</td>\n",
       "      <td>T</td>\n",
       "      <td>Brain_Cerebellum</td>\n",
       "      <td>0.948010</td>\n",
       "      <td>0.018617</td>\n",
       "      <td>585996</td>\n",
       "      <td>1_1150438_A_T_b37</td>\n",
       "      <td>variant</td>\n",
       "      <td>1:1150438:A:T</td>\n",
       "      <td>MTND1P23</td>\n",
       "      <td>1:1150438:A:T_MTND1P23</td>\n",
       "    </tr>\n",
       "  </tbody>\n",
       "</table>\n",
       "</div>"
      ],
      "text/plain": [
       "           gene_id     slope  slope_se ref alt              file  \\\n",
       "0  ENSG00000228463 -0.737765  0.396619   A   T  Brain_Cerebellum   \n",
       "1  ENSG00000237094  0.930358  0.374408   A   T  Brain_Cerebellum   \n",
       "2  ENSG00000237094  0.852446  0.449281   C   T  Brain_Cerebellum   \n",
       "3  ENSG00000237094  0.063429  0.142695   A   G  Brain_Cerebellum   \n",
       "4  ENSG00000225972 -0.016371  0.250645   A   T  Brain_Cerebellum   \n",
       "\n",
       "   pval_nominal       maf  tss_distance        variant_b37 variable  \\\n",
       "0      0.064851  0.018617        917556  1_1150438_A_T_b37  variant   \n",
       "1      0.014073  0.018617        713441  1_1150438_A_T_b37  variant   \n",
       "2      0.059729  0.013298        833254  1_1270251_C_T_b37  variant   \n",
       "3      0.657328  0.159574        872888  1_1309885_A_G_b37  variant   \n",
       "4      0.948010  0.018617        585996  1_1150438_A_T_b37  variant   \n",
       "\n",
       "           value      gene_name                        assoc  \n",
       "0  1:1150438:A:T     AP006222.2     1:1150438:A:T_AP006222.2  \n",
       "1  1:1150438:A:T  RP4-669L17.10  1:1150438:A:T_RP4-669L17.10  \n",
       "2  1:1270251:C:T  RP4-669L17.10  1:1270251:C:T_RP4-669L17.10  \n",
       "3  1:1309885:A:G  RP4-669L17.10  1:1309885:A:G_RP4-669L17.10  \n",
       "4  1:1150438:A:T       MTND1P23       1:1150438:A:T_MTND1P23  "
      ]
     },
     "execution_count": 12,
     "metadata": {},
     "output_type": "execute_result"
    }
   ],
   "source": [
    "print(gtex.shape)\n",
    "gtex.head()"
   ]
  },
  {
   "cell_type": "markdown",
   "metadata": {},
   "source": [
    "## Combine gtex information with TCGA association information"
   ]
  },
  {
   "cell_type": "code",
   "execution_count": 14,
   "metadata": {},
   "outputs": [],
   "source": [
    "#get randomized genes\n",
    "snps=pd.read_csv(\"../data/gtex_rand.csv\",delimiter=\"\\t\")\n",
    "snps[\"gene_name\"]=snps[\"gene_id\"].map(ensembl_dict)\n",
    "snps[\"assoc\"]=snps[\"variant\"]+\"_\"+snps[\"gene_name\"]"
   ]
  },
  {
   "cell_type": "code",
   "execution_count": 15,
   "metadata": {},
   "outputs": [],
   "source": [
    "snps_gtex=pd.merge(snps[[\"assoc\"]],gtex,on=\"assoc\",how=\"left\")"
   ]
  },
  {
   "cell_type": "code",
   "execution_count": 16,
   "metadata": {},
   "outputs": [],
   "source": [
    "snps_gtex[\"assoc\"]=snps_gtex[\"assoc\"].str.replace(\"-\",\".\")"
   ]
  },
  {
   "cell_type": "code",
   "execution_count": 17,
   "metadata": {},
   "outputs": [],
   "source": [
    "snps_gtex[\"assoc2\"]=snps_gtex[\"value\"].str.rsplit(\":\",2).str[0]+\":\"+snps_gtex[\"value\"].str.split(\":\").str[3]+\":\"+snps_gtex[\"value\"].str.split(\":\").str[2]+\"_\"+snps_gtex[\"gene_name\"]"
   ]
  },
  {
   "cell_type": "code",
   "execution_count": 18,
   "metadata": {},
   "outputs": [
    {
     "data": {
      "text/plain": [
       "Index(['assoc', 'gene_id', 'slope', 'slope_se', 'ref', 'alt', 'file',\n",
       "       'pval_nominal', 'maf', 'tss_distance', 'variant_b37', 'variable',\n",
       "       'value', 'gene_name', 'assoc2'],\n",
       "      dtype='object')"
      ]
     },
     "execution_count": 18,
     "metadata": {},
     "output_type": "execute_result"
    }
   ],
   "source": [
    "snps_gtex.columns"
   ]
  },
  {
   "cell_type": "code",
   "execution_count": 19,
   "metadata": {},
   "outputs": [],
   "source": [
    "snps_gtex=pd.melt(snps_gtex,id_vars=([\"variant_b37\",\"tss_distance\",\"slope\",\"slope_se\",\"ref\",\"alt\",\"file\"]),value_vars=([\"assoc\",\"assoc2\"]))"
   ]
  },
  {
   "cell_type": "code",
   "execution_count": 20,
   "metadata": {},
   "outputs": [],
   "source": [
    "del snps_gtex[\"variable\"]"
   ]
  },
  {
   "cell_type": "code",
   "execution_count": 21,
   "metadata": {},
   "outputs": [],
   "source": [
    "snps_gtex=snps_gtex.rename(columns={\"value\":\"assoc\"})"
   ]
  },
  {
   "cell_type": "code",
   "execution_count": 22,
   "metadata": {},
   "outputs": [
    {
     "data": {
      "text/plain": [
       "2000"
      ]
     },
     "execution_count": 22,
     "metadata": {},
     "output_type": "execute_result"
    }
   ],
   "source": [
    "len(snps_gtex[\"assoc\"].unique())"
   ]
  },
  {
   "cell_type": "markdown",
   "metadata": {},
   "source": [
    "## Identify of GTEx snps that were found that are cis associations"
   ]
  },
  {
   "cell_type": "markdown",
   "metadata": {},
   "source": [
    "## See concordance between associations"
   ]
  },
  {
   "cell_type": "code",
   "execution_count": 23,
   "metadata": {},
   "outputs": [],
   "source": [
    "tpm_cancer=pd.read_csv(\"../data/tpm.rand.gtex.tsv\",delimiter=\"\\t\")\n",
    "firebrowse_cancer=pd.read_csv(\"../data/firebrowse.rand.gtex.tsv\",delimiter=\"\\t\")\n",
    "pancanatlas_cancer=pd.read_csv(\"../data/pancanatlas.rand.gtex.tsv\",delimiter=\"\\t\")"
   ]
  },
  {
   "cell_type": "code",
   "execution_count": 24,
   "metadata": {},
   "outputs": [],
   "source": [
    "#get tissue mappings\n",
    "tissue_mapping=pd.read_csv(\"../data/gtex.tcga.tissue.csv\")\n",
    "tissue_mapping[\"combo\"]=tissue_mapping[\"gtex tissues\"]+\".\"+tissue_mapping[\"TCGA\"]"
   ]
  },
  {
   "cell_type": "code",
   "execution_count": 25,
   "metadata": {},
   "outputs": [],
   "source": [
    "tissue_mapping[\"whole_blood combo\"]=\"Whole_Blood\"+\".\"+tissue_mapping[\"TCGA\"]"
   ]
  },
  {
   "cell_type": "code",
   "execution_count": 26,
   "metadata": {},
   "outputs": [],
   "source": [
    "def make_bootstrap(df,name,combos):\n",
    "    df[\"assoc\"]=df[\"ID\"]+\"_\"+df[\"pheno\"]\n",
    "    compare_beta=pd.merge(snps_gtex,df,on=\"assoc\")\n",
    "    \n",
    "    compare_beta[\"combo\"]=compare_beta[\"file\"]+\".\"+compare_beta[\"file_name\"]\n",
    "    \n",
    "    if combos == \"regular\":\n",
    "        compare_beta=compare_beta[compare_beta[\"combo\"].isin(tissue_mapping[\"combo\"].tolist())]\n",
    "    if combos == \"blood\":\n",
    "        compare_beta=compare_beta[compare_beta[\"combo\"].isin(tissue_mapping[\"whole_blood combo\"].tolist())]\n",
    "    \n",
    "    for x in compare_beta[\"combo\"].unique():\n",
    "        compare_beta_combo=compare_beta[compare_beta[\"combo\"]==x]\n",
    "        #reverse slope for cases of ref/alt mismatch\n",
    "        compare_beta_combo[\"slope\"]=np.where(compare_beta_combo[\"alt\"] != compare_beta_combo[\"ALT\"], (compare_beta_combo[\"slope\"]*-1),compare_beta_combo[\"slope\"])\n",
    "        print(x)\n",
    "        print(compare_beta_combo.shape)\n",
    "        compare_beta_combo[\"z\"]=(compare_beta_combo[\"BETA\"]-compare_beta_combo[\"slope\"])/compare_beta_combo[\"slope_se\"]\n",
    "        compare_beta_combo.to_csv(name+\".\"+x+\".csv\")\n",
    "    "
   ]
  },
  {
   "cell_type": "code",
   "execution_count": 27,
   "metadata": {
    "scrolled": true
   },
   "outputs": [
    {
     "name": "stderr",
     "output_type": "stream",
     "text": [
      "/nrnb/opt/anaconda3.7/lib/python3.7/site-packages/ipykernel_launcher.py:15: SettingWithCopyWarning: \n",
      "A value is trying to be set on a copy of a slice from a DataFrame.\n",
      "Try using .loc[row_indexer,col_indexer] = value instead\n",
      "\n",
      "See the caveats in the documentation: https://pandas.pydata.org/pandas-docs/stable/user_guide/indexing.html#returning-a-view-versus-a-copy\n",
      "  from ipykernel import kernelapp as app\n",
      "/nrnb/opt/anaconda3.7/lib/python3.7/site-packages/ipykernel_launcher.py:18: SettingWithCopyWarning: \n",
      "A value is trying to be set on a copy of a slice from a DataFrame.\n",
      "Try using .loc[row_indexer,col_indexer] = value instead\n",
      "\n",
      "See the caveats in the documentation: https://pandas.pydata.org/pandas-docs/stable/user_guide/indexing.html#returning-a-view-versus-a-copy\n"
     ]
    },
    {
     "name": "stdout",
     "output_type": "stream",
     "text": [
      "Thyroid.THCA\n",
      "(1006, 23)\n",
      "Brain_Substantia_nigra.GBM\n",
      "(988, 23)\n",
      "Brain_Substantia_nigra.LGG\n",
      "(988, 23)\n",
      "Brain_Anterior_cingulate_cortex_BA24.GBM\n",
      "(986, 23)\n",
      "Brain_Anterior_cingulate_cortex_BA24.LGG\n",
      "(986, 23)\n",
      "Brain_Spinal_cord_cervical_c-1.GBM\n",
      "(994, 23)\n",
      "Brain_Spinal_cord_cervical_c-1.LGG\n",
      "(994, 23)\n",
      "Brain_Cortex.GBM\n",
      "(987, 23)\n",
      "Brain_Cortex.LGG\n",
      "(987, 23)\n",
      "Prostate.PRAD\n",
      "(1010, 23)\n",
      "Small_Intestine_Terminal_Ileum.COAD\n",
      "(1011, 23)\n",
      "Brain_Amygdala.GBM\n",
      "(983, 23)\n",
      "Brain_Amygdala.LGG\n",
      "(983, 23)\n",
      "Lung.LUAD\n",
      "(1014, 23)\n",
      "Lung.LUSC\n",
      "(1015, 23)\n",
      "Testis.TGCT\n",
      "(1025, 23)\n",
      "Liver.LIHC\n",
      "(953, 23)\n",
      "Brain_Hippocampus.GBM\n",
      "(986, 23)\n",
      "Brain_Hippocampus.LGG\n",
      "(986, 23)\n",
      "Brain_Hypothalamus.GBM\n",
      "(997, 23)\n",
      "Brain_Hypothalamus.LGG\n",
      "(997, 23)\n",
      "Pituitary.GBM\n",
      "(1007, 23)\n",
      "Pituitary.LGG\n",
      "(1007, 23)\n",
      "Breast_Mammary_Tissue.BRCA\n",
      "(1028, 23)\n",
      "Brain_Caudate_basal_ganglia.GBM\n",
      "(989, 23)\n",
      "Brain_Caudate_basal_ganglia.LGG\n",
      "(989, 23)\n",
      "Brain_Frontal_Cortex_BA9.GBM\n",
      "(989, 23)\n",
      "Brain_Frontal_Cortex_BA9.LGG\n",
      "(989, 23)\n",
      "Kidney_Cortex.KICH\n",
      "(993, 23)\n",
      "Kidney_Cortex.KIRC\n",
      "(994, 23)\n",
      "Kidney_Cortex.KIRP\n",
      "(994, 23)\n",
      "Brain_Cerebellum.GBM\n",
      "(975, 23)\n",
      "Brain_Cerebellum.LGG\n",
      "(975, 23)\n",
      "Colon_Transverse.COAD\n",
      "(1001, 23)\n",
      "Esophagus_Mucosa.ESCA\n",
      "(982, 23)\n",
      "Brain_Putamen_basal_ganglia.GBM\n",
      "(987, 23)\n",
      "Brain_Putamen_basal_ganglia.LGG\n",
      "(987, 23)\n",
      "Skin_Sun_Exposed_Lower_leg.SKCM\n",
      "(999, 23)\n",
      "Adrenal_Gland.ACC\n",
      "(974, 23)\n",
      "Brain_Nucleus_accumbens_basal_ganglia.GBM\n",
      "(990, 23)\n",
      "Brain_Nucleus_accumbens_basal_ganglia.LGG\n",
      "(990, 23)\n",
      "Esophagus_Gastroesophageal_Junction.ESCA\n",
      "(986, 23)\n",
      "Pancreas.PAAD\n",
      "(958, 23)\n",
      "Esophagus_Muscularis.ESCA\n",
      "(983, 23)\n",
      "Colon_Sigmoid.COAD\n",
      "(991, 23)\n",
      "Uterus.UCEC\n",
      "(998, 23)\n",
      "Uterus.UCS\n",
      "(999, 23)\n",
      "Stomach.STAD\n",
      "(993, 23)\n",
      "Skin_Not_Sun_Exposed_Suprapubic.SKCM\n",
      "(1000, 23)\n",
      "Ovary.OV\n",
      "(997, 23)\n",
      "Minor_Salivary_Gland.HNSC\n",
      "(999, 23)\n",
      "Brain_Cerebellar_Hemisphere.GBM\n",
      "(971, 23)\n",
      "Brain_Cerebellar_Hemisphere.LGG\n",
      "(971, 23)\n",
      "Thyroid.THCA\n",
      "(1007, 23)\n",
      "Brain_Substantia_nigra.GBM\n",
      "(989, 23)\n",
      "Brain_Substantia_nigra.LGG\n",
      "(989, 23)\n",
      "Brain_Anterior_cingulate_cortex_BA24.GBM\n",
      "(987, 23)\n",
      "Brain_Anterior_cingulate_cortex_BA24.LGG\n",
      "(987, 23)\n",
      "Brain_Spinal_cord_cervical_c-1.GBM\n",
      "(994, 23)\n",
      "Brain_Spinal_cord_cervical_c-1.LGG\n",
      "(994, 23)\n",
      "Brain_Cortex.GBM\n",
      "(988, 23)\n",
      "Brain_Cortex.LGG\n",
      "(988, 23)\n",
      "Prostate.PRAD\n",
      "(1011, 23)\n",
      "Small_Intestine_Terminal_Ileum.COAD\n",
      "(1012, 23)\n",
      "Brain_Amygdala.GBM\n",
      "(984, 23)\n",
      "Brain_Amygdala.LGG\n",
      "(984, 23)\n",
      "Lung.LUAD\n",
      "(1015, 23)\n",
      "Lung.LUSC\n",
      "(1016, 23)\n",
      "Testis.TGCT\n",
      "(1026, 23)\n",
      "Liver.LIHC\n",
      "(954, 23)\n",
      "Brain_Hippocampus.GBM\n",
      "(987, 23)\n",
      "Brain_Hippocampus.LGG\n",
      "(987, 23)\n",
      "Brain_Hypothalamus.GBM\n",
      "(998, 23)\n",
      "Brain_Hypothalamus.LGG\n",
      "(998, 23)\n",
      "Pituitary.GBM\n",
      "(1008, 23)\n",
      "Pituitary.LGG\n",
      "(1008, 23)\n",
      "Breast_Mammary_Tissue.BRCA\n",
      "(1029, 23)\n",
      "Brain_Caudate_basal_ganglia.GBM\n",
      "(990, 23)\n",
      "Brain_Caudate_basal_ganglia.LGG\n",
      "(990, 23)\n",
      "Brain_Frontal_Cortex_BA9.GBM\n",
      "(990, 23)\n",
      "Brain_Frontal_Cortex_BA9.LGG\n",
      "(990, 23)\n",
      "Kidney_Cortex.KICH\n",
      "(994, 23)\n",
      "Kidney_Cortex.KIRC\n",
      "(995, 23)\n",
      "Kidney_Cortex.KIRP\n",
      "(995, 23)\n",
      "Brain_Cerebellum.GBM\n",
      "(976, 23)\n",
      "Brain_Cerebellum.LGG\n",
      "(976, 23)\n",
      "Colon_Transverse.COAD\n",
      "(1001, 23)\n",
      "Esophagus_Mucosa.ESCA\n",
      "(983, 23)\n",
      "Brain_Putamen_basal_ganglia.GBM\n",
      "(988, 23)\n",
      "Brain_Putamen_basal_ganglia.LGG\n",
      "(988, 23)\n",
      "Skin_Sun_Exposed_Lower_leg.SKCM\n",
      "(1000, 23)\n",
      "Adrenal_Gland.ACC\n",
      "(974, 23)\n",
      "Brain_Nucleus_accumbens_basal_ganglia.GBM\n",
      "(991, 23)\n",
      "Brain_Nucleus_accumbens_basal_ganglia.LGG\n",
      "(991, 23)\n",
      "Esophagus_Gastroesophageal_Junction.ESCA\n",
      "(986, 23)\n",
      "Pancreas.PAAD\n",
      "(959, 23)\n",
      "Esophagus_Muscularis.ESCA\n",
      "(983, 23)\n",
      "Colon_Sigmoid.COAD\n",
      "(991, 23)\n",
      "Uterus.UCEC\n",
      "(998, 23)\n",
      "Uterus.UCS\n",
      "(999, 23)\n",
      "Stomach.STAD\n",
      "(994, 23)\n",
      "Skin_Not_Sun_Exposed_Suprapubic.SKCM\n",
      "(1001, 23)\n",
      "Ovary.OV\n",
      "(997, 23)\n",
      "Minor_Salivary_Gland.HNSC\n",
      "(1000, 23)\n",
      "Brain_Cerebellar_Hemisphere.GBM\n",
      "(972, 23)\n",
      "Brain_Cerebellar_Hemisphere.LGG\n",
      "(972, 23)\n",
      "Thyroid.THCA\n",
      "(1011, 23)\n",
      "Brain_Substantia_nigra.GBM\n",
      "(993, 23)\n",
      "Brain_Substantia_nigra.LGG\n",
      "(993, 23)\n",
      "Brain_Anterior_cingulate_cortex_BA24.GBM\n",
      "(990, 23)\n",
      "Brain_Anterior_cingulate_cortex_BA24.LGG\n",
      "(990, 23)\n",
      "Brain_Spinal_cord_cervical_c-1.GBM\n",
      "(998, 23)\n",
      "Brain_Spinal_cord_cervical_c-1.LGG\n",
      "(998, 23)\n",
      "Brain_Cortex.GBM\n",
      "(991, 23)\n",
      "Brain_Cortex.LGG\n",
      "(991, 23)\n",
      "Prostate.PRAD\n",
      "(1015, 23)\n",
      "Small_Intestine_Terminal_Ileum.COAD\n",
      "(1016, 23)\n",
      "Brain_Amygdala.GBM\n",
      "(987, 23)\n",
      "Brain_Amygdala.LGG\n",
      "(987, 23)\n",
      "Lung.LUAD\n",
      "(1019, 23)\n",
      "Lung.LUSC\n",
      "(1020, 23)\n",
      "Testis.TGCT\n",
      "(1030, 23)\n",
      "Liver.LIHC\n",
      "(957, 23)\n",
      "Brain_Hippocampus.GBM\n",
      "(990, 23)\n",
      "Brain_Hippocampus.LGG\n",
      "(990, 23)\n",
      "Brain_Hypothalamus.GBM\n",
      "(1002, 23)\n",
      "Brain_Hypothalamus.LGG\n",
      "(1002, 23)\n",
      "Pituitary.GBM\n",
      "(1012, 23)\n",
      "Pituitary.LGG\n",
      "(1012, 23)\n",
      "Breast_Mammary_Tissue.BRCA\n",
      "(1033, 23)\n",
      "Brain_Caudate_basal_ganglia.GBM\n",
      "(994, 23)\n",
      "Brain_Caudate_basal_ganglia.LGG\n",
      "(994, 23)\n",
      "Brain_Frontal_Cortex_BA9.GBM\n",
      "(993, 23)\n",
      "Brain_Frontal_Cortex_BA9.LGG\n",
      "(993, 23)\n",
      "Kidney_Cortex.KICH\n",
      "(998, 23)\n",
      "Kidney_Cortex.KIRC\n",
      "(999, 23)\n",
      "Kidney_Cortex.KIRP\n",
      "(999, 23)\n",
      "Brain_Cerebellum.GBM\n",
      "(980, 23)\n",
      "Brain_Cerebellum.LGG\n",
      "(980, 23)\n",
      "Colon_Transverse.COAD\n",
      "(1005, 23)\n",
      "Esophagus_Mucosa.ESCA\n",
      "(985, 23)\n",
      "Brain_Putamen_basal_ganglia.GBM\n",
      "(992, 23)\n",
      "Brain_Putamen_basal_ganglia.LGG\n",
      "(992, 23)\n",
      "Skin_Sun_Exposed_Lower_leg.SKCM\n",
      "(1004, 23)\n",
      "Adrenal_Gland.ACC\n",
      "(978, 23)\n",
      "Brain_Nucleus_accumbens_basal_ganglia.GBM\n",
      "(995, 23)\n",
      "Brain_Nucleus_accumbens_basal_ganglia.LGG\n",
      "(995, 23)\n",
      "Esophagus_Gastroesophageal_Junction.ESCA\n",
      "(988, 23)\n",
      "Pancreas.PAAD\n",
      "(963, 23)\n",
      "Esophagus_Muscularis.ESCA\n",
      "(984, 23)\n",
      "Colon_Sigmoid.COAD\n",
      "(995, 23)\n",
      "Uterus.UCEC\n",
      "(1002, 23)\n",
      "Uterus.UCS\n",
      "(1003, 23)\n",
      "Stomach.STAD\n",
      "(997, 23)\n",
      "Skin_Not_Sun_Exposed_Suprapubic.SKCM\n",
      "(1005, 23)\n",
      "Ovary.OV\n",
      "(1000, 23)\n",
      "Minor_Salivary_Gland.HNSC\n",
      "(1004, 23)\n",
      "Brain_Cerebellar_Hemisphere.GBM\n",
      "(976, 23)\n",
      "Brain_Cerebellar_Hemisphere.LGG\n",
      "(976, 23)\n"
     ]
    }
   ],
   "source": [
    "make_bootstrap(tpm_cancer,\"../for_bootstrapping/tpm/tpm.rand\",\"regular\")\n",
    "make_bootstrap(firebrowse_cancer,\"../for_bootstrapping/firebrowse/firebrowse.rand\",\"regular\")\n",
    "make_bootstrap(pancanatlas_cancer,\"../for_bootstrapping/pancanatlas/pancanatlas.rand\",\"regular\")"
   ]
  },
  {
   "cell_type": "code",
   "execution_count": 28,
   "metadata": {
    "scrolled": true
   },
   "outputs": [
    {
     "name": "stderr",
     "output_type": "stream",
     "text": [
      "/nrnb/opt/anaconda3.7/lib/python3.7/site-packages/ipykernel_launcher.py:15: SettingWithCopyWarning: \n",
      "A value is trying to be set on a copy of a slice from a DataFrame.\n",
      "Try using .loc[row_indexer,col_indexer] = value instead\n",
      "\n",
      "See the caveats in the documentation: https://pandas.pydata.org/pandas-docs/stable/user_guide/indexing.html#returning-a-view-versus-a-copy\n",
      "  from ipykernel import kernelapp as app\n",
      "/nrnb/opt/anaconda3.7/lib/python3.7/site-packages/ipykernel_launcher.py:18: SettingWithCopyWarning: \n",
      "A value is trying to be set on a copy of a slice from a DataFrame.\n",
      "Try using .loc[row_indexer,col_indexer] = value instead\n",
      "\n",
      "See the caveats in the documentation: https://pandas.pydata.org/pandas-docs/stable/user_guide/indexing.html#returning-a-view-versus-a-copy\n"
     ]
    },
    {
     "name": "stdout",
     "output_type": "stream",
     "text": [
      "Whole_Blood.ACC\n",
      "(892, 23)\n",
      "Whole_Blood.BRCA\n",
      "(892, 23)\n",
      "Whole_Blood.COAD\n",
      "(892, 23)\n",
      "Whole_Blood.ESCA\n",
      "(891, 23)\n",
      "Whole_Blood.GBM\n",
      "(892, 23)\n",
      "Whole_Blood.HNSC\n",
      "(890, 23)\n",
      "Whole_Blood.KICH\n",
      "(891, 23)\n",
      "Whole_Blood.KIRC\n",
      "(892, 23)\n",
      "Whole_Blood.KIRP\n",
      "(892, 23)\n",
      "Whole_Blood.LGG\n",
      "(892, 23)\n",
      "Whole_Blood.LIHC\n",
      "(891, 23)\n",
      "Whole_Blood.LUAD\n",
      "(891, 23)\n",
      "Whole_Blood.LUSC\n",
      "(892, 23)\n",
      "Whole_Blood.OV\n",
      "(892, 23)\n",
      "Whole_Blood.PAAD\n",
      "(892, 23)\n",
      "Whole_Blood.PRAD\n",
      "(891, 23)\n",
      "Whole_Blood.SKCM\n",
      "(887, 23)\n",
      "Whole_Blood.STAD\n",
      "(892, 23)\n",
      "Whole_Blood.TGCT\n",
      "(892, 23)\n",
      "Whole_Blood.THCA\n",
      "(892, 23)\n",
      "Whole_Blood.UCEC\n",
      "(891, 23)\n",
      "Whole_Blood.UCS\n",
      "(892, 23)\n",
      "Whole_Blood.ACC\n",
      "(892, 23)\n",
      "Whole_Blood.BRCA\n",
      "(892, 23)\n",
      "Whole_Blood.COAD\n",
      "(892, 23)\n",
      "Whole_Blood.ESCA\n",
      "(891, 23)\n",
      "Whole_Blood.GBM\n",
      "(892, 23)\n",
      "Whole_Blood.HNSC\n",
      "(890, 23)\n",
      "Whole_Blood.KICH\n",
      "(891, 23)\n",
      "Whole_Blood.KIRC\n",
      "(892, 23)\n",
      "Whole_Blood.KIRP\n",
      "(892, 23)\n",
      "Whole_Blood.LGG\n",
      "(892, 23)\n",
      "Whole_Blood.LIHC\n",
      "(891, 23)\n",
      "Whole_Blood.LUAD\n",
      "(891, 23)\n",
      "Whole_Blood.LUSC\n",
      "(892, 23)\n",
      "Whole_Blood.OV\n",
      "(892, 23)\n",
      "Whole_Blood.PAAD\n",
      "(892, 23)\n",
      "Whole_Blood.PRAD\n",
      "(891, 23)\n",
      "Whole_Blood.SKCM\n",
      "(887, 23)\n",
      "Whole_Blood.STAD\n",
      "(892, 23)\n",
      "Whole_Blood.TGCT\n",
      "(892, 23)\n",
      "Whole_Blood.THCA\n",
      "(892, 23)\n",
      "Whole_Blood.UCEC\n",
      "(891, 23)\n",
      "Whole_Blood.UCS\n",
      "(892, 23)\n",
      "Whole_Blood.ACC\n",
      "(895, 23)\n",
      "Whole_Blood.BRCA\n",
      "(895, 23)\n",
      "Whole_Blood.COAD\n",
      "(895, 23)\n",
      "Whole_Blood.ESCA\n",
      "(893, 23)\n",
      "Whole_Blood.GBM\n",
      "(895, 23)\n",
      "Whole_Blood.HNSC\n",
      "(893, 23)\n",
      "Whole_Blood.KICH\n",
      "(894, 23)\n",
      "Whole_Blood.KIRC\n",
      "(895, 23)\n",
      "Whole_Blood.KIRP\n",
      "(895, 23)\n",
      "Whole_Blood.LGG\n",
      "(895, 23)\n",
      "Whole_Blood.LIHC\n",
      "(893, 23)\n",
      "Whole_Blood.LUAD\n",
      "(894, 23)\n",
      "Whole_Blood.LUSC\n",
      "(895, 23)\n",
      "Whole_Blood.OV\n",
      "(894, 23)\n",
      "Whole_Blood.PAAD\n",
      "(895, 23)\n",
      "Whole_Blood.PRAD\n",
      "(894, 23)\n",
      "Whole_Blood.SKCM\n",
      "(890, 23)\n",
      "Whole_Blood.STAD\n",
      "(894, 23)\n",
      "Whole_Blood.TGCT\n",
      "(895, 23)\n",
      "Whole_Blood.THCA\n",
      "(895, 23)\n",
      "Whole_Blood.UCEC\n",
      "(894, 23)\n",
      "Whole_Blood.UCS\n",
      "(895, 23)\n"
     ]
    }
   ],
   "source": [
    "make_bootstrap(tpm_cancer,\"../for_bootstrapping/tpm/tpm.rand\",\"blood\")\n",
    "make_bootstrap(firebrowse_cancer,\"../for_bootstrapping/firebrowse/firebrowse.rand\",\"blood\")\n",
    "make_bootstrap(pancanatlas_cancer,\"../for_bootstrapping/pancanatlas/pancanatlas.rand\",\"blood\")"
   ]
  },
  {
   "cell_type": "code",
   "execution_count": 30,
   "metadata": {},
   "outputs": [],
   "source": [
    "files=[x.split(\"tpm.\")[1] for x in os.listdir(\"../for_bootstrapping/tpm/\")]"
   ]
  },
  {
   "cell_type": "code",
   "execution_count": 31,
   "metadata": {},
   "outputs": [],
   "source": [
    "files=[x.replace(\"rand.\",\"\") for x in files]\n",
    "files=[x.replace(\"test.\",\"\") for x in files]"
   ]
  },
  {
   "cell_type": "code",
   "execution_count": 32,
   "metadata": {},
   "outputs": [
    {
     "data": {
      "text/plain": [
       "75"
      ]
     },
     "execution_count": 32,
     "metadata": {},
     "output_type": "execute_result"
    }
   ],
   "source": [
    "len([x for x in set(files)])"
   ]
  },
  {
   "cell_type": "code",
   "execution_count": 33,
   "metadata": {},
   "outputs": [],
   "source": [
    "direct=[]\n",
    "\n",
    "for i in range(75):\n",
    "    direct.append(\"tpm\")\n",
    "for i in range(75):\n",
    "    direct.append(\"firebrowse\")\n",
    "for i in range(75):\n",
    "    direct.append(\"pancanatlas\")"
   ]
  },
  {
   "cell_type": "code",
   "execution_count": 34,
   "metadata": {},
   "outputs": [
    {
     "data": {
      "text/plain": [
       "225"
      ]
     },
     "execution_count": 34,
     "metadata": {},
     "output_type": "execute_result"
    }
   ],
   "source": [
    "len(direct)"
   ]
  },
  {
   "cell_type": "code",
   "execution_count": 35,
   "metadata": {},
   "outputs": [
    {
     "data": {
      "text/plain": [
       "'tpm tpm tpm tpm tpm tpm tpm tpm tpm tpm tpm tpm tpm tpm tpm tpm tpm tpm tpm tpm tpm tpm tpm tpm tpm tpm tpm tpm tpm tpm tpm tpm tpm tpm tpm tpm tpm tpm tpm tpm tpm tpm tpm tpm tpm tpm tpm tpm tpm tpm tpm tpm tpm tpm tpm tpm tpm tpm tpm tpm tpm tpm tpm tpm tpm tpm tpm tpm tpm tpm tpm tpm tpm tpm tpm firebrowse firebrowse firebrowse firebrowse firebrowse firebrowse firebrowse firebrowse firebrowse firebrowse firebrowse firebrowse firebrowse firebrowse firebrowse firebrowse firebrowse firebrowse firebrowse firebrowse firebrowse firebrowse firebrowse firebrowse firebrowse firebrowse firebrowse firebrowse firebrowse firebrowse firebrowse firebrowse firebrowse firebrowse firebrowse firebrowse firebrowse firebrowse firebrowse firebrowse firebrowse firebrowse firebrowse firebrowse firebrowse firebrowse firebrowse firebrowse firebrowse firebrowse firebrowse firebrowse firebrowse firebrowse firebrowse firebrowse firebrowse firebrowse firebrowse firebrowse firebrowse firebrowse firebrowse firebrowse firebrowse firebrowse firebrowse firebrowse firebrowse firebrowse firebrowse firebrowse firebrowse firebrowse firebrowse pancanatlas pancanatlas pancanatlas pancanatlas pancanatlas pancanatlas pancanatlas pancanatlas pancanatlas pancanatlas pancanatlas pancanatlas pancanatlas pancanatlas pancanatlas pancanatlas pancanatlas pancanatlas pancanatlas pancanatlas pancanatlas pancanatlas pancanatlas pancanatlas pancanatlas pancanatlas pancanatlas pancanatlas pancanatlas pancanatlas pancanatlas pancanatlas pancanatlas pancanatlas pancanatlas pancanatlas pancanatlas pancanatlas pancanatlas pancanatlas pancanatlas pancanatlas pancanatlas pancanatlas pancanatlas pancanatlas pancanatlas pancanatlas pancanatlas pancanatlas pancanatlas pancanatlas pancanatlas pancanatlas pancanatlas pancanatlas pancanatlas pancanatlas pancanatlas pancanatlas pancanatlas pancanatlas pancanatlas pancanatlas pancanatlas pancanatlas pancanatlas pancanatlas pancanatlas pancanatlas pancanatlas pancanatlas pancanatlas pancanatlas pancanatlas'"
      ]
     },
     "execution_count": 35,
     "metadata": {},
     "output_type": "execute_result"
    }
   ],
   "source": [
    "\" \".join(direct)"
   ]
  },
  {
   "cell_type": "code",
   "execution_count": null,
   "metadata": {},
   "outputs": [],
   "source": []
  },
  {
   "cell_type": "code",
   "execution_count": null,
   "metadata": {},
   "outputs": [],
   "source": []
  }
 ],
 "metadata": {
  "kernelspec": {
   "display_name": "Python 3",
   "language": "python",
   "name": "python3"
  },
  "language_info": {
   "codemirror_mode": {
    "name": "ipython",
    "version": 3
   },
   "file_extension": ".py",
   "mimetype": "text/x-python",
   "name": "python",
   "nbconvert_exporter": "python",
   "pygments_lexer": "ipython3",
   "version": "3.7.7"
  }
 },
 "nbformat": 4,
 "nbformat_minor": 2
}
