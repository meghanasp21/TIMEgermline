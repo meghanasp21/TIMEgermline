{
 "cells": [
  {
   "cell_type": "code",
   "execution_count": 54,
   "metadata": {},
   "outputs": [],
   "source": [
    "import pandas as pd\n",
    "import os\n",
    "from matplotlib import pyplot as plt\n",
    "import numpy as np\n",
    "import seaborn as sns\n",
    "import matplotlib as mpl\n",
    "from matplotlib.pyplot import cm"
   ]
  },
  {
   "cell_type": "code",
   "execution_count": 55,
   "metadata": {},
   "outputs": [
    {
     "name": "stdout",
     "output_type": "stream",
     "text": [
      "['/data/cellardata2/users/mpagadal/projects/germline-immune/cell-type-specificity/notebooks', '/cellar/users/mpagadal/Data/gcta/scripts', '/nrnb/opt/anaconda3.7/lib/python37.zip', '/nrnb/opt/anaconda3.7/lib/python3.7', '/nrnb/opt/anaconda3.7/lib/python3.7/lib-dynload', '', '/cellar/users/mpagadal/.local/lib/python3.7/site-packages', '/nrnb/opt/anaconda3.7/lib/python3.7/site-packages', '/nrnb/opt/anaconda3.7/lib/python3.7/site-packages/IPython/extensions', '/cellar/users/mpagadal/.ipython', '/cellar/users/mpagadal/Programs/anaconda3/lib/python3.7/site-packages']\n"
     ]
    }
   ],
   "source": [
    "import sys\n",
    "print(sys.path) \n",
    "sys.path.append(\"/cellar/users/mpagadal/Programs/anaconda3/lib/python3.7/site-packages\")\n",
    "sys.path.insert(1, '/cellar/users/mpagadal/Data/gcta/scripts')"
   ]
  },
  {
   "cell_type": "code",
   "execution_count": 56,
   "metadata": {},
   "outputs": [],
   "source": [
    "import networkx as nx\n",
    "from ndex2.nice_cx_network import NiceCXNetwork \n",
    "import ndex2.client as nc\n",
    "import ndex2"
   ]
  },
  {
   "cell_type": "code",
   "execution_count": 57,
   "metadata": {},
   "outputs": [],
   "source": [
    "import matplotlib\n",
    "matplotlib.rcParams['pdf.fonttype'] = 42\n",
    "matplotlib.rcParams['ps.fonttype'] = 42"
   ]
  },
  {
   "cell_type": "code",
   "execution_count": 58,
   "metadata": {},
   "outputs": [],
   "source": [
    "import matplotlib.pyplot as plt\n",
    "from matplotlib_venn import venn2\n",
    "from matplotlib_venn import venn3"
   ]
  },
  {
   "cell_type": "code",
   "execution_count": 59,
   "metadata": {},
   "outputs": [],
   "source": [
    "import statsmodels.stats.multitest as multi\n",
    "from adjustText import adjust_text"
   ]
  },
  {
   "cell_type": "code",
   "execution_count": 60,
   "metadata": {},
   "outputs": [],
   "source": [
    "import numpy as np\n",
    "from sklearn.decomposition import PCA\n",
    "from sklearn.preprocessing import StandardScaler\n",
    "import json"
   ]
  },
  {
   "cell_type": "markdown",
   "metadata": {},
   "source": [
    "## Get GTEx summary statistics for immune microenvironment SNPs from all tissue types"
   ]
  },
  {
   "cell_type": "markdown",
   "metadata": {},
   "source": [
    "### Run compile_gtex.sh "
   ]
  },
  {
   "cell_type": "markdown",
   "metadata": {},
   "source": [
    "script will extract variants of interact from GTEx summary statistics"
   ]
  },
  {
   "cell_type": "code",
   "execution_count": 61,
   "metadata": {},
   "outputs": [],
   "source": [
    "with open('/cellar/users/mpagadal/Data/resources/tcga/ensembl_map.json', 'r') as f:\n",
    "    ensembl_dict = json.load(f)"
   ]
  },
  {
   "cell_type": "code",
   "execution_count": 62,
   "metadata": {},
   "outputs": [],
   "source": [
    "ensembl_dict={k.split(\".\")[0]:v for k,v in ensembl_dict.items()}"
   ]
  },
  {
   "cell_type": "code",
   "execution_count": 63,
   "metadata": {},
   "outputs": [],
   "source": [
    "def compile_gtex(directory,file_name,mapping):\n",
    "    gtex_files=[x for x in os.listdir(directory)]\n",
    "    total_gtex=pd.DataFrame()\n",
    "\n",
    "    for x in gtex_files:\n",
    "        cis=pd.read_csv(directory+x)\n",
    "        cis[\"file\"]=x.split(file_name)[0]\n",
    "        total_gtex=total_gtex.append(cis)\n",
    "    \n",
    "    #format variant2 and gene\n",
    "    total_gtex[\"variant2\"]=total_gtex[\"variant_b37\"].str.split(\"_\").str[0]+\":\"+total_gtex[\"variant_b37\"].str.split(\"_\").str[1]+\":\"+total_gtex[\"variant_b37\"].str.split(\"_\").str[3]+\":\"+total_gtex[\"variant_b37\"].str.split(\"_\").str[2]\n",
    "    #get gene ids for mapping\n",
    "    total_gtex[\"gene_id\"]=total_gtex[\"phenotype_id\"].str.split(\".\").str[0]\n",
    "    \n",
    "    total_gtex[\"ref\"]=total_gtex[\"variant_id\"].str.split(\"_\").str[2]\n",
    "    total_gtex[\"alt\"]=total_gtex[\"variant_id\"].str.split(\"_\").str[3]\n",
    "    \n",
    "    total_gtex_melt=pd.melt(total_gtex, id_vars=([\"gene_id\",\"slope\",\"slope_se\",\"ref\",\"alt\",\"file\",\"pval_nominal\",\"maf\",\"tss_distance\",\"variant_b37\"]),value_vars=([\"variant\",\"variant2\"]))\n",
    "    \n",
    "    total_gtex_melt[\"gene_name\"]=total_gtex_melt[\"gene_id\"].map(mapping)\n",
    "    \n",
    "    total_gtex_melt[\"assoc\"]=total_gtex_melt[\"value\"]+\"_\"+total_gtex_melt[\"gene_name\"]\n",
    "    \n",
    "    return(total_gtex_melt)"
   ]
  },
  {
   "cell_type": "code",
   "execution_count": 64,
   "metadata": {},
   "outputs": [],
   "source": [
    "gtex=compile_gtex(\"/cellar/users/mpagadal/Data/gtex/extracted_snps/\",\".snps.csv\",ensembl_dict)"
   ]
  },
  {
   "cell_type": "code",
   "execution_count": 65,
   "metadata": {},
   "outputs": [
    {
     "name": "stdout",
     "output_type": "stream",
     "text": [
      "(1549580, 14)\n"
     ]
    },
    {
     "data": {
      "text/html": [
       "<div>\n",
       "<style scoped>\n",
       "    .dataframe tbody tr th:only-of-type {\n",
       "        vertical-align: middle;\n",
       "    }\n",
       "\n",
       "    .dataframe tbody tr th {\n",
       "        vertical-align: top;\n",
       "    }\n",
       "\n",
       "    .dataframe thead th {\n",
       "        text-align: right;\n",
       "    }\n",
       "</style>\n",
       "<table border=\"1\" class=\"dataframe\">\n",
       "  <thead>\n",
       "    <tr style=\"text-align: right;\">\n",
       "      <th></th>\n",
       "      <th>gene_id</th>\n",
       "      <th>slope</th>\n",
       "      <th>slope_se</th>\n",
       "      <th>ref</th>\n",
       "      <th>alt</th>\n",
       "      <th>file</th>\n",
       "      <th>pval_nominal</th>\n",
       "      <th>maf</th>\n",
       "      <th>tss_distance</th>\n",
       "      <th>variant_b37</th>\n",
       "      <th>variable</th>\n",
       "      <th>value</th>\n",
       "      <th>gene_name</th>\n",
       "      <th>assoc</th>\n",
       "    </tr>\n",
       "  </thead>\n",
       "  <tbody>\n",
       "    <tr>\n",
       "      <th>0</th>\n",
       "      <td>ENSG00000237094</td>\n",
       "      <td>0.471558</td>\n",
       "      <td>0.461462</td>\n",
       "      <td>G</td>\n",
       "      <td>A</td>\n",
       "      <td>Kidney_Cortex</td>\n",
       "      <td>0.312301</td>\n",
       "      <td>0.053846</td>\n",
       "      <td>984755</td>\n",
       "      <td>1_1421752_G_A_b37</td>\n",
       "      <td>variant</td>\n",
       "      <td>1:1421752:G:A</td>\n",
       "      <td>RP4-669L17.10</td>\n",
       "      <td>1:1421752:G:A_RP4-669L17.10</td>\n",
       "    </tr>\n",
       "    <tr>\n",
       "      <th>1</th>\n",
       "      <td>ENSG00000225972</td>\n",
       "      <td>0.571838</td>\n",
       "      <td>0.349512</td>\n",
       "      <td>G</td>\n",
       "      <td>A</td>\n",
       "      <td>Kidney_Cortex</td>\n",
       "      <td>0.108794</td>\n",
       "      <td>0.053846</td>\n",
       "      <td>857310</td>\n",
       "      <td>1_1421752_G_A_b37</td>\n",
       "      <td>variant</td>\n",
       "      <td>1:1421752:G:A</td>\n",
       "      <td>MTND1P23</td>\n",
       "      <td>1:1421752:G:A_MTND1P23</td>\n",
       "    </tr>\n",
       "    <tr>\n",
       "      <th>2</th>\n",
       "      <td>ENSG00000225630</td>\n",
       "      <td>0.803202</td>\n",
       "      <td>0.276528</td>\n",
       "      <td>G</td>\n",
       "      <td>A</td>\n",
       "      <td>Kidney_Cortex</td>\n",
       "      <td>0.005682</td>\n",
       "      <td>0.053846</td>\n",
       "      <td>856732</td>\n",
       "      <td>1_1421752_G_A_b37</td>\n",
       "      <td>variant</td>\n",
       "      <td>1:1421752:G:A</td>\n",
       "      <td>MTND2P28</td>\n",
       "      <td>1:1421752:G:A_MTND2P28</td>\n",
       "    </tr>\n",
       "    <tr>\n",
       "      <th>3</th>\n",
       "      <td>ENSG00000237973</td>\n",
       "      <td>0.565607</td>\n",
       "      <td>0.339045</td>\n",
       "      <td>G</td>\n",
       "      <td>A</td>\n",
       "      <td>Kidney_Cortex</td>\n",
       "      <td>0.102213</td>\n",
       "      <td>0.053846</td>\n",
       "      <td>855298</td>\n",
       "      <td>1_1421752_G_A_b37</td>\n",
       "      <td>variant</td>\n",
       "      <td>1:1421752:G:A</td>\n",
       "      <td>RP5-857K21.6</td>\n",
       "      <td>1:1421752:G:A_RP5-857K21.6</td>\n",
       "    </tr>\n",
       "    <tr>\n",
       "      <th>4</th>\n",
       "      <td>ENSG00000229344</td>\n",
       "      <td>0.493088</td>\n",
       "      <td>0.346081</td>\n",
       "      <td>G</td>\n",
       "      <td>A</td>\n",
       "      <td>Kidney_Cortex</td>\n",
       "      <td>0.161121</td>\n",
       "      <td>0.053846</td>\n",
       "      <td>853615</td>\n",
       "      <td>1_1421752_G_A_b37</td>\n",
       "      <td>variant</td>\n",
       "      <td>1:1421752:G:A</td>\n",
       "      <td>RP5-857K21.7</td>\n",
       "      <td>1:1421752:G:A_RP5-857K21.7</td>\n",
       "    </tr>\n",
       "  </tbody>\n",
       "</table>\n",
       "</div>"
      ],
      "text/plain": [
       "           gene_id     slope  slope_se ref alt           file  pval_nominal  \\\n",
       "0  ENSG00000237094  0.471558  0.461462   G   A  Kidney_Cortex      0.312301   \n",
       "1  ENSG00000225972  0.571838  0.349512   G   A  Kidney_Cortex      0.108794   \n",
       "2  ENSG00000225630  0.803202  0.276528   G   A  Kidney_Cortex      0.005682   \n",
       "3  ENSG00000237973  0.565607  0.339045   G   A  Kidney_Cortex      0.102213   \n",
       "4  ENSG00000229344  0.493088  0.346081   G   A  Kidney_Cortex      0.161121   \n",
       "\n",
       "        maf  tss_distance        variant_b37 variable          value  \\\n",
       "0  0.053846        984755  1_1421752_G_A_b37  variant  1:1421752:G:A   \n",
       "1  0.053846        857310  1_1421752_G_A_b37  variant  1:1421752:G:A   \n",
       "2  0.053846        856732  1_1421752_G_A_b37  variant  1:1421752:G:A   \n",
       "3  0.053846        855298  1_1421752_G_A_b37  variant  1:1421752:G:A   \n",
       "4  0.053846        853615  1_1421752_G_A_b37  variant  1:1421752:G:A   \n",
       "\n",
       "       gene_name                        assoc  \n",
       "0  RP4-669L17.10  1:1421752:G:A_RP4-669L17.10  \n",
       "1       MTND1P23       1:1421752:G:A_MTND1P23  \n",
       "2       MTND2P28       1:1421752:G:A_MTND2P28  \n",
       "3   RP5-857K21.6   1:1421752:G:A_RP5-857K21.6  \n",
       "4   RP5-857K21.7   1:1421752:G:A_RP5-857K21.7  "
      ]
     },
     "execution_count": 65,
     "metadata": {},
     "output_type": "execute_result"
    }
   ],
   "source": [
    "print(gtex.shape)\n",
    "gtex.head()"
   ]
  },
  {
   "cell_type": "markdown",
   "metadata": {},
   "source": [
    "## Get TCGA summary statistics for immune microenvironment SNPs for all cancer types"
   ]
  },
  {
   "cell_type": "code",
   "execution_count": 66,
   "metadata": {},
   "outputs": [],
   "source": [
    "snps=pd.read_csv(\"/cellar/users/mpagadal/Data2/projects/germline-immune/snp-tables/immune-microenvironment-nonhla.tsv\",delimiter=\"\\t\")\n",
    "snps[\"assoc\"]=snps[\"snps\"]+\"_\"+snps[\"file\"]"
   ]
  },
  {
   "cell_type": "code",
   "execution_count": 67,
   "metadata": {},
   "outputs": [],
   "source": [
    "#map to minor allele frequency\n",
    "mp_maf=dict(zip(snps[\"snps\"],snps[\"maf\"]))"
   ]
  },
  {
   "cell_type": "code",
   "execution_count": 68,
   "metadata": {},
   "outputs": [],
   "source": [
    "#snps found in gtex\n",
    "gtex=gtex[gtex[\"value\"].isin(snps[\"snps\"].tolist())]"
   ]
  },
  {
   "cell_type": "code",
   "execution_count": 69,
   "metadata": {},
   "outputs": [
    {
     "name": "stdout",
     "output_type": "stream",
     "text": [
      "446\n",
      "475\n"
     ]
    }
   ],
   "source": [
    "gtex_snps=len(gtex[\"value\"].unique().tolist())\n",
    "all_snps=len(snps[\"snps\"].unique().tolist())\n",
    "print(gtex_snps)\n",
    "print(all_snps)"
   ]
  },
  {
   "cell_type": "code",
   "execution_count": 70,
   "metadata": {},
   "outputs": [
    {
     "data": {
      "text/plain": [
       "'The following snps were not found 5:69733811:T:C 19:54856354:G:A 19:54861175:G:A 19:54861462:G:T 19:54793198:G:C 19:54783035:T:G 19:54749474:T:G 5:96206416:G:T 5:96225449:G:A 5:96357030:G:T 5:96326397:T:G 6:32605437:G:C 6:32624038:C:T 5:80203678:A:C 15:45363341:G:A 19:55025471:C:A 11:65504069:A:C 1:89477830:T:C 3:48516525:A:T 5:96039895:G:T 5:96152809:A:G 10:97359625:T:C 5:79927651:G:A 5:79951030:G:A 5:96201579:A:C 5:96324943:G:T 12:8214856:A:C 7:153338633:G:A 2:212571330:A:C'"
      ]
     },
     "execution_count": 70,
     "metadata": {},
     "output_type": "execute_result"
    }
   ],
   "source": [
    "\"The following snps were not found {}\".format(\" \".join(snps[~snps[\"snps\"].isin(gtex[\"value\"].tolist())][\"snps\"].tolist()))"
   ]
  },
  {
   "cell_type": "markdown",
   "metadata": {},
   "source": [
    "### See how many snps were found"
   ]
  },
  {
   "cell_type": "code",
   "execution_count": 71,
   "metadata": {},
   "outputs": [
    {
     "data": {
      "image/png": "[encoded data removed]",
      "text/plain": [
       "<Figure size 216x216 with 1 Axes>"
      ]
     },
     "metadata": {},
     "output_type": "display_data"
    }
   ],
   "source": [
    "f=plt.figure(figsize=(3,3))\n",
    "labels = 'gtex', 'not found'\n",
    "sizes = [gtex_snps/all_snps,(1-(gtex_snps/all_snps))]\n",
    "colors = ['green', 'darkgray']\n",
    "explode = (0.1, 0.0)  # explode 1st slice\n",
    "mpl.rcParams['font.size'] = 10\n",
    "# Plot\n",
    "plt.pie(sizes, explode=explode, labels=labels, colors=colors,\n",
    "autopct='%1.1f%%', shadow=False, startangle=140)\n",
    "plt.axis('equal')\n",
    "f.savefig(\"../plots/gtex.snps.found.pdf\")"
   ]
  },
  {
   "cell_type": "markdown",
   "metadata": {},
   "source": [
    "### See how many gene ids were not mapped"
   ]
  },
  {
   "cell_type": "code",
   "execution_count": 72,
   "metadata": {},
   "outputs": [
    {
     "name": "stdout",
     "output_type": "stream",
     "text": [
      "34 gene ids were not mapped\n"
     ]
    }
   ],
   "source": [
    "#how many gene ids were not mapped\n",
    "print(\"{} gene ids were not mapped\".format(len(gtex[gtex[\"gene_name\"].isnull()][\"gene_id\"].unique().tolist())))\n",
    "#remove rows for which gene name was not mapped\n",
    "gtex=gtex[~(gtex[\"gene_name\"].isnull())]"
   ]
  },
  {
   "cell_type": "code",
   "execution_count": 73,
   "metadata": {},
   "outputs": [],
   "source": [
    "#rename columns\n",
    "gtex.columns=[\"gene_id\",\"gtex slope\",\"gtex slope_se\",\"ref\",\"alt\",\"gtex cell_type\",\"pval\",\"gtex maf\",\"tss_distance\",\"variant id\",\"variable\",\"snps\",\"gtex file\",\"assoc\"]"
   ]
  },
  {
   "cell_type": "code",
   "execution_count": 74,
   "metadata": {},
   "outputs": [],
   "source": [
    "del gtex[\"assoc\"]"
   ]
  },
  {
   "cell_type": "markdown",
   "metadata": {},
   "source": [
    "### make dataframe with gtex and tcga information"
   ]
  },
  {
   "cell_type": "code",
   "execution_count": 75,
   "metadata": {},
   "outputs": [],
   "source": [
    "snps_gtex=pd.merge(gtex,snps,on=[\"snps\"],how=\"left\")"
   ]
  },
  {
   "cell_type": "code",
   "execution_count": 76,
   "metadata": {},
   "outputs": [],
   "source": [
    "#switch gtex beta if alt allele do not align\n",
    "snps_gtex[\"gtex slope\"]=np.where(snps_gtex[\"alt\"] != snps_gtex[\"ALT\"], (snps_gtex[\"gtex slope\"]*-1),snps_gtex[\"gtex slope\"])"
   ]
  },
  {
   "cell_type": "code",
   "execution_count": 77,
   "metadata": {},
   "outputs": [],
   "source": [
    "#export results\n",
    "snps_gtex.to_csv(\"../data/gtex_variant_information.tsv\",sep=\"\\t\")"
   ]
  },
  {
   "cell_type": "markdown",
   "metadata": {},
   "source": [
    "### make cis and trans dataframes"
   ]
  },
  {
   "cell_type": "code",
   "execution_count": 78,
   "metadata": {},
   "outputs": [],
   "source": [
    "#make cis and trans dataframes\n",
    "snps_gtex_cis=snps_gtex[snps_gtex[\"gtex file\"]==snps_gtex[\"file\"]]\n",
    "snps_gtex_trans=snps_gtex[snps_gtex[\"gtex file\"]!=snps_gtex[\"file\"]]"
   ]
  },
  {
   "cell_type": "code",
   "execution_count": 79,
   "metadata": {},
   "outputs": [],
   "source": [
    "cis_trans=len(snps_gtex_trans[snps_gtex_trans[\"assoc\"].isin(snps_gtex_cis[\"assoc\"].tolist())][\"assoc\"].unique())\n",
    "trans=len(snps_gtex_trans[~snps_gtex_trans[\"assoc\"].isin(snps_gtex_cis[\"assoc\"].tolist())][\"assoc\"].unique())\n",
    "cis=len(snps_gtex_cis[~snps_gtex_cis[\"assoc\"].isin(snps_gtex_trans[\"assoc\"].tolist())][\"assoc\"].unique())\n",
    "notfound=len(snps[~snps[\"assoc\"].isin(snps_gtex[\"assoc\"].tolist())])"
   ]
  },
  {
   "cell_type": "code",
   "execution_count": 80,
   "metadata": {},
   "outputs": [
    {
     "data": {
      "image/png": "[encoded data removed]",
      "text/plain": [
       "<Figure size 216x216 with 1 Axes>"
      ]
     },
     "metadata": {},
     "output_type": "display_data"
    }
   ],
   "source": [
    "f=plt.figure(figsize=(3,3))\n",
    "labels = 'cis','trans','not found'\n",
    "sizes = [cis_trans/len(snps),trans/len(snps), notfound/len(snps)]\n",
    "colors = ['forestgreen', 'purple','silver']\n",
    "explode = (0.1, 0.1,0)  # explode 1st slice\n",
    "mpl.rcParams['font.size'] = 10\n",
    "# Plot\n",
    "plt.pie(sizes, explode=explode, labels=labels, colors=colors,\n",
    "autopct='%1.1f%%', shadow=False, startangle=140)\n",
    "plt.axis('equal')\n",
    "f.savefig(\"../plots/gtex.cis.trans.pdf\")"
   ]
  },
  {
   "cell_type": "markdown",
   "metadata": {},
   "source": [
    "## Get sample sizes for tissues"
   ]
  },
  {
   "cell_type": "code",
   "execution_count": 81,
   "metadata": {},
   "outputs": [],
   "source": [
    "tissue_num=pd.read_csv(\"/cellar/users/mpagadal/Data/gtex/GTEx.tissue.sample.size.csv\")"
   ]
  },
  {
   "cell_type": "code",
   "execution_count": 82,
   "metadata": {
    "scrolled": true
   },
   "outputs": [],
   "source": [
    "tissue_num[\"Tissue\"]=tissue_num[\"Tissue\"].str.replace(\"- \",\"\")\n",
    "tissue_num[\"Tissue\"]=tissue_num[\"Tissue\"].str.replace(\" \",\"_\")\n",
    "tissue_num[\"Tissue\"]=tissue_num[\"Tissue\"].str.replace(\"(\",\"\")\n",
    "tissue_num[\"Tissue\"]=tissue_num[\"Tissue\"].str.replace(\")\",\"\")"
   ]
  },
  {
   "cell_type": "code",
   "execution_count": 83,
   "metadata": {},
   "outputs": [],
   "source": [
    "mp_num=dict(zip(tissue_num[\"Tissue\"],tissue_num[\"# RNASeq and Genotyped samples\"]))"
   ]
  },
  {
   "cell_type": "code",
   "execution_count": 84,
   "metadata": {},
   "outputs": [
    {
     "name": "stderr",
     "output_type": "stream",
     "text": [
      "/nrnb/opt/anaconda3.7/lib/python3.7/site-packages/ipykernel_launcher.py:2: SettingWithCopyWarning: \n",
      "A value is trying to be set on a copy of a slice from a DataFrame.\n",
      "Try using .loc[row_indexer,col_indexer] = value instead\n",
      "\n",
      "See the caveats in the documentation: https://pandas.pydata.org/pandas-docs/stable/user_guide/indexing.html#returning-a-view-versus-a-copy\n",
      "  \n"
     ]
    }
   ],
   "source": [
    "#map number of samples per cell type\n",
    "snps_gtex_cis[\"number\"]=snps_gtex_cis[\"gtex cell_type\"].map(mp_num)"
   ]
  },
  {
   "cell_type": "markdown",
   "metadata": {},
   "source": [
    "## Get mapping between gtex/tcga tissues"
   ]
  },
  {
   "cell_type": "code",
   "execution_count": 85,
   "metadata": {},
   "outputs": [],
   "source": [
    "#get tissue mappings\n",
    "tissue_mapping=pd.read_csv(\"../data/gtex.tcga.tissue.csv\")\n",
    "tissue_mapping[\"combo\"]=tissue_mapping[\"gtex tissues\"]+\".\"+tissue_mapping[\"TCGA\"]"
   ]
  },
  {
   "cell_type": "code",
   "execution_count": 86,
   "metadata": {},
   "outputs": [],
   "source": [
    "tissue_mapping[\"whole_blood combo\"]=\"Whole_Blood\"+\".\"+tissue_mapping[\"TCGA\"]"
   ]
  },
  {
   "cell_type": "code",
   "execution_count": 87,
   "metadata": {},
   "outputs": [
    {
     "data": {
      "text/html": [
       "<div>\n",
       "<style scoped>\n",
       "    .dataframe tbody tr th:only-of-type {\n",
       "        vertical-align: middle;\n",
       "    }\n",
       "\n",
       "    .dataframe tbody tr th {\n",
       "        vertical-align: top;\n",
       "    }\n",
       "\n",
       "    .dataframe thead th {\n",
       "        text-align: right;\n",
       "    }\n",
       "</style>\n",
       "<table border=\"1\" class=\"dataframe\">\n",
       "  <thead>\n",
       "    <tr style=\"text-align: right;\">\n",
       "      <th></th>\n",
       "      <th>gtex tissues</th>\n",
       "      <th>TCGA</th>\n",
       "      <th>combo</th>\n",
       "      <th>whole_blood combo</th>\n",
       "    </tr>\n",
       "  </thead>\n",
       "  <tbody>\n",
       "    <tr>\n",
       "      <th>0</th>\n",
       "      <td>Small_Intestine_Terminal_Ileum</td>\n",
       "      <td>COAD</td>\n",
       "      <td>Small_Intestine_Terminal_Ileum.COAD</td>\n",
       "      <td>Whole_Blood.COAD</td>\n",
       "    </tr>\n",
       "    <tr>\n",
       "      <th>1</th>\n",
       "      <td>Kidney_Cortex</td>\n",
       "      <td>KIRP</td>\n",
       "      <td>Kidney_Cortex.KIRP</td>\n",
       "      <td>Whole_Blood.KIRP</td>\n",
       "    </tr>\n",
       "    <tr>\n",
       "      <th>2</th>\n",
       "      <td>Kidney_Cortex</td>\n",
       "      <td>KICH</td>\n",
       "      <td>Kidney_Cortex.KICH</td>\n",
       "      <td>Whole_Blood.KICH</td>\n",
       "    </tr>\n",
       "    <tr>\n",
       "      <th>3</th>\n",
       "      <td>Kidney_Cortex</td>\n",
       "      <td>KIRC</td>\n",
       "      <td>Kidney_Cortex.KIRC</td>\n",
       "      <td>Whole_Blood.KIRC</td>\n",
       "    </tr>\n",
       "    <tr>\n",
       "      <th>4</th>\n",
       "      <td>Testis</td>\n",
       "      <td>TGCT</td>\n",
       "      <td>Testis.TGCT</td>\n",
       "      <td>Whole_Blood.TGCT</td>\n",
       "    </tr>\n",
       "  </tbody>\n",
       "</table>\n",
       "</div>"
      ],
      "text/plain": [
       "                     gtex tissues  TCGA                                combo  \\\n",
       "0  Small_Intestine_Terminal_Ileum  COAD  Small_Intestine_Terminal_Ileum.COAD   \n",
       "1                   Kidney_Cortex  KIRP                   Kidney_Cortex.KIRP   \n",
       "2                   Kidney_Cortex  KICH                   Kidney_Cortex.KICH   \n",
       "3                   Kidney_Cortex  KIRC                   Kidney_Cortex.KIRC   \n",
       "4                          Testis  TGCT                          Testis.TGCT   \n",
       "\n",
       "  whole_blood combo  \n",
       "0  Whole_Blood.COAD  \n",
       "1  Whole_Blood.KIRP  \n",
       "2  Whole_Blood.KICH  \n",
       "3  Whole_Blood.KIRC  \n",
       "4  Whole_Blood.TGCT  "
      ]
     },
     "execution_count": 87,
     "metadata": {},
     "output_type": "execute_result"
    }
   ],
   "source": [
    "tissue_mapping.head()"
   ]
  },
  {
   "cell_type": "markdown",
   "metadata": {},
   "source": [
    "## PCA analysis of different cell types"
   ]
  },
  {
   "cell_type": "code",
   "execution_count": 88,
   "metadata": {},
   "outputs": [],
   "source": [
    "#make dataframe for pca analysis\n",
    "df_cell=snps_gtex_cis.pivot(index=\"gtex cell_type\",columns=\"assoc\",values=\"gtex slope\")\n",
    "df_cell=df_cell.fillna(0) #if missing, fill value with 0"
   ]
  },
  {
   "cell_type": "code",
   "execution_count": 89,
   "metadata": {},
   "outputs": [],
   "source": [
    "df_cell=df_cell[df_cell.index.isin(tissue_mapping[\"gtex tissues\"].tolist()+[\"Whole_Blood\"])]"
   ]
  },
  {
   "cell_type": "code",
   "execution_count": 90,
   "metadata": {},
   "outputs": [],
   "source": [
    "scaler=StandardScaler()\n",
    "scaler.fit(df_cell)\n",
    "X_scaled=scaler.transform(df_cell)"
   ]
  },
  {
   "cell_type": "code",
   "execution_count": 91,
   "metadata": {},
   "outputs": [],
   "source": [
    "pca = PCA(n_components=10)"
   ]
  },
  {
   "cell_type": "code",
   "execution_count": 92,
   "metadata": {},
   "outputs": [
    {
     "data": {
      "text/plain": [
       "PCA(copy=True, iterated_power='auto', n_components=10, random_state=None,\n",
       "    svd_solver='auto', tol=0.0, whiten=False)"
      ]
     },
     "execution_count": 92,
     "metadata": {},
     "output_type": "execute_result"
    }
   ],
   "source": [
    "pca.fit(X_scaled)"
   ]
  },
  {
   "cell_type": "code",
   "execution_count": 93,
   "metadata": {},
   "outputs": [],
   "source": [
    "mp_variance={}\n",
    "\n",
    "for i,val in enumerate(pca.explained_variance_ratio_.tolist()):\n",
    "    key=\"PC\"+str(i+1)\n",
    "    mp_variance[key]=val"
   ]
  },
  {
   "cell_type": "code",
   "execution_count": 94,
   "metadata": {},
   "outputs": [],
   "source": [
    "X_pca=pca.transform(X_scaled)"
   ]
  },
  {
   "cell_type": "code",
   "execution_count": 95,
   "metadata": {},
   "outputs": [],
   "source": [
    "df=pd.DataFrame(X_pca)\n",
    "df.index=df_cell.index\n",
    "df.columns=[\"PC\"+str(x+1) for x in df.columns]"
   ]
  },
  {
   "cell_type": "code",
   "execution_count": 96,
   "metadata": {},
   "outputs": [],
   "source": [
    "df[\"num\"]=df.index.map(mp_num)"
   ]
  },
  {
   "cell_type": "code",
   "execution_count": 97,
   "metadata": {},
   "outputs": [],
   "source": [
    "x=\"PC1\"\n",
    "y=\"PC2\""
   ]
  },
  {
   "cell_type": "code",
   "execution_count": 98,
   "metadata": {},
   "outputs": [],
   "source": [
    "df=df.sort_values(by=\"PC1\")"
   ]
  },
  {
   "cell_type": "code",
   "execution_count": 99,
   "metadata": {},
   "outputs": [
    {
     "data": {
      "image/png": "[encoded data removed]",
      "text/plain": [
       "<Figure size 720x720 with 1 Axes>"
      ]
     },
     "metadata": {
      "needs_background": "light"
     },
     "output_type": "display_data"
    }
   ],
   "source": [
    "f=plt.figure(figsize=(10,10))\n",
    "\n",
    "n=df.index.unique()\n",
    "color=iter(cm.rainbow(np.linspace(0,1,len(n))))\n",
    "\n",
    "for t, c in zip(n, color):\n",
    "    plt.scatter(df[df.index==t][x].values[0], df[df.index==t][y].values[0], s=df[df.index==t][\"num\"].values[0], color=c)\n",
    "\n",
    "for i, row in df.iterrows():\n",
    "    plt.annotate(i, (row[x], row[y]))\n",
    "\n",
    "plt.xlabel(x+\"=\"+\"{0:.2f}%\".format(mp_variance[x]*100),fontsize=15)\n",
    "plt.ylabel(y+\"=\"+\"{0:.2f}%\".format(mp_variance[y]*100),fontsize=15)\n",
    "f.savefig(\"../plots/gtex.pca.pdf\")"
   ]
  },
  {
   "cell_type": "markdown",
   "metadata": {},
   "source": [
    "## Plot QQ plot"
   ]
  },
  {
   "cell_type": "code",
   "execution_count": 100,
   "metadata": {},
   "outputs": [],
   "source": [
    "def ppoints(n, a):\n",
    "    \"\"\" numpy analogue or `R`'s `ppoints` function\n",
    "        see details at http://stat.ethz.ch/R-manual/R-patched/library/stats/html/ppoints.html \n",
    "        :param n: array type or number\"\"\"\n",
    "    try:\n",
    "        n = np.float(len(n))\n",
    "    except TypeError:\n",
    "        n = np.float(n)\n",
    "    return (np.arange(n) + 1 - a)/(n + 1 - 2*a)"
   ]
  },
  {
   "cell_type": "code",
   "execution_count": 101,
   "metadata": {},
   "outputs": [
    {
     "data": {
      "image/png": "[encoded data removed]",
      "text/plain": [
       "<Figure size 720x720 with 1 Axes>"
      ]
     },
     "metadata": {
      "needs_background": "light"
     },
     "output_type": "display_data"
    }
   ],
   "source": [
    "color=iter(cm.rainbow(np.linspace(0,1,len(n))))\n",
    "\n",
    "fig = plt.figure(figsize=(10,10))\n",
    "ax = fig.add_subplot(111)\n",
    "for x in n:\n",
    "    p_values=snps_gtex_cis[snps_gtex_cis[\"gtex cell_type\"]==x].sort_values(by=\"pval\")[\"pval\"].tolist()\n",
    "    c=next(color)\n",
    "    plt.scatter(-np.log10(ppoints(len(p_values), 1./2)), -np.log10(p_values),label=x,color=c)\n",
    "ax.plot([0,ax.get_xlim()[1]], [0,ax.get_xlim()[1]], ls=\"--\", c=\"k\")\n",
    "ax.set_xlabel(\"Expected -log10 P value\")\n",
    "ax.set_ylabel('Observed -log10 P value')\n",
    "plt.legend()\n",
    "fig.savefig('../plots/gtex.qq.pdf')\n"
   ]
  },
  {
   "cell_type": "code",
   "execution_count": 102,
   "metadata": {},
   "outputs": [
    {
     "data": {
      "text/plain": [
       "Small_Intestine_Terminal_Ileum           364\n",
       "Colon_Sigmoid                            364\n",
       "Pancreas                                 364\n",
       "Cells_EBV-transformed_lymphocytes        364\n",
       "Esophagus_Gastroesophageal_Junction      364\n",
       "Brain_Substantia_nigra                   364\n",
       "Minor_Salivary_Gland                     364\n",
       "Spleen                                   364\n",
       "Esophagus_Muscularis                     364\n",
       "Artery_Aorta                             364\n",
       "Brain_Hypothalamus                       364\n",
       "Colon_Transverse                         364\n",
       "Uterus                                   364\n",
       "Testis                                   364\n",
       "Adipose_Subcutaneous                     364\n",
       "Vagina                                   364\n",
       "Stomach                                  364\n",
       "Nerve_Tibial                             364\n",
       "Heart_Atrial_Appendage                   364\n",
       "Adipose_Visceral_Omentum                 364\n",
       "Thyroid                                  364\n",
       "Liver                                    364\n",
       "Prostate                                 364\n",
       "Adrenal_Gland                            364\n",
       "Skin_Sun_Exposed_Lower_leg               364\n",
       "Artery_Coronary                          364\n",
       "Kidney_Cortex                            364\n",
       "Brain_Spinal_cord_cervical_c-1           364\n",
       "Breast_Mammary_Tissue                    364\n",
       "Pituitary                                364\n",
       "Ovary                                    364\n",
       "Esophagus_Mucosa                         364\n",
       "Lung                                     364\n",
       "Skin_Not_Sun_Exposed_Suprapubic          364\n",
       "Artery_Tibial                            363\n",
       "Heart_Left_Ventricle                     363\n",
       "Brain_Cerebellar_Hemisphere              362\n",
       "Brain_Caudate_basal_ganglia              362\n",
       "Brain_Amygdala                           362\n",
       "Brain_Cortex                             362\n",
       "Brain_Nucleus_accumbens_basal_ganglia    362\n",
       "Brain_Hippocampus                        362\n",
       "Brain_Putamen_basal_ganglia              362\n",
       "Brain_Frontal_Cortex_BA9                 362\n",
       "Brain_Anterior_cingulate_cortex_BA24     362\n",
       "Brain_Cerebellum                         362\n",
       "Whole_Blood                              337\n",
       "Muscle_Skeletal                          336\n",
       "Cells_Cultured_fibroblasts               295\n",
       "Name: gtex cell_type, dtype: int64"
      ]
     },
     "execution_count": 102,
     "metadata": {},
     "output_type": "execute_result"
    }
   ],
   "source": [
    "snps_gtex_cis[\"gtex cell_type\"].value_counts()"
   ]
  },
  {
   "cell_type": "markdown",
   "metadata": {},
   "source": [
    "## Get TCGA association analyses by cancer for each RNA processing pipeline"
   ]
  },
  {
   "cell_type": "code",
   "execution_count": 103,
   "metadata": {},
   "outputs": [],
   "source": [
    "tpm_cancer=pd.read_csv(\"/cellar/users/mpagadal/Data2/projects/germline-immune/snp-tables/tpm.cancer.tsv\",delimiter=\"\\t\")\n",
    "firebrowse_cancer=pd.read_csv(\"/cellar/users/mpagadal/Data2/projects/germline-immune/snp-tables/firebrowse.cancer.tsv\",delimiter=\"\\t\")\n",
    "pancanatlas_cancer=pd.read_csv(\"/cellar/users/mpagadal/Data2/projects/germline-immune/snp-tables/pancanatlas.cancer.tsv\",delimiter=\"\\t\")"
   ]
  },
  {
   "cell_type": "markdown",
   "metadata": {},
   "source": [
    "## See concordance between associations"
   ]
  },
  {
   "cell_type": "code",
   "execution_count": 104,
   "metadata": {},
   "outputs": [],
   "source": [
    "def make_bootstrapping_df(df,name,combos):\n",
    "    compare_beta=pd.merge(snps_gtex_cis,df,on=\"assoc\")\n",
    "    compare_beta[\"combo\"]=compare_beta[\"gtex cell_type\"]+\".\"+compare_beta[\"file_name\"]\n",
    "    if combos == \"regular\":\n",
    "        compare_beta=compare_beta[compare_beta[\"combo\"].isin(tissue_mapping[\"combo\"].tolist())]\n",
    "    if combos == \"blood\":\n",
    "        compare_beta=compare_beta[compare_beta[\"combo\"].isin(tissue_mapping[\"whole_blood combo\"].tolist())]\n",
    "    \n",
    "    compare_beta[\"z_score\"]=(compare_beta[\"gtex slope\"]-compare_beta[\"BETA\"])/compare_beta[\"gtex slope_se\"]\n",
    "    \n",
    "    for x in compare_beta[\"combo\"].unique():\n",
    "        test=compare_beta[compare_beta[\"combo\"]==x]\n",
    "        test[\"z_score\"]=abs(test[\"z_score\"])\n",
    "        test.to_csv(name+\".\"+x+\".csv\")\n",
    "    \n",
    "    "
   ]
  },
  {
   "cell_type": "code",
   "execution_count": 105,
   "metadata": {},
   "outputs": [
    {
     "name": "stderr",
     "output_type": "stream",
     "text": [
      "/nrnb/opt/anaconda3.7/lib/python3.7/site-packages/ipykernel_launcher.py:13: SettingWithCopyWarning: \n",
      "A value is trying to be set on a copy of a slice from a DataFrame.\n",
      "Try using .loc[row_indexer,col_indexer] = value instead\n",
      "\n",
      "See the caveats in the documentation: https://pandas.pydata.org/pandas-docs/stable/user_guide/indexing.html#returning-a-view-versus-a-copy\n",
      "  del sys.path[0]\n"
     ]
    }
   ],
   "source": [
    "make_bootstrapping_df(tpm_cancer,\"../for_bootstrapping/tpm/tpm.test\",\"regular\")\n",
    "make_bootstrapping_df(firebrowse_cancer,\"../for_bootstrapping/firebrowse/firebrowse.test\",\"regular\")\n",
    "make_bootstrapping_df(pancanatlas_cancer,\"../for_bootstrapping/pancanatlas/pancanatlas.test\",\"regular\")"
   ]
  },
  {
   "cell_type": "code",
   "execution_count": 106,
   "metadata": {},
   "outputs": [
    {
     "name": "stderr",
     "output_type": "stream",
     "text": [
      "/nrnb/opt/anaconda3.7/lib/python3.7/site-packages/ipykernel_launcher.py:13: SettingWithCopyWarning: \n",
      "A value is trying to be set on a copy of a slice from a DataFrame.\n",
      "Try using .loc[row_indexer,col_indexer] = value instead\n",
      "\n",
      "See the caveats in the documentation: https://pandas.pydata.org/pandas-docs/stable/user_guide/indexing.html#returning-a-view-versus-a-copy\n",
      "  del sys.path[0]\n"
     ]
    }
   ],
   "source": [
    "make_bootstrapping_df(tpm_cancer,\"../for_bootstrapping/tpm/tpm.test\",\"blood\")\n",
    "make_bootstrapping_df(firebrowse_cancer,\"../for_bootstrapping/firebrowse/firebrowse.test\",\"blood\")\n",
    "make_bootstrapping_df(pancanatlas_cancer,\"../for_bootstrapping/pancanatlas/pancanatlas.test\",\"blood\")"
   ]
  },
  {
   "cell_type": "markdown",
   "metadata": {},
   "source": [
    "## Get dataframe from bootstrapping"
   ]
  },
  {
   "cell_type": "code",
   "execution_count": 107,
   "metadata": {},
   "outputs": [],
   "source": [
    "def make_deviant_df(directory,name,threshold):\n",
    "    files=[x for x in os.listdir(directory) if \"bootstrap\" in x]\n",
    "    \n",
    "    deviant=pd.DataFrame()\n",
    "\n",
    "    for x in files:\n",
    "        boot=pd.read_csv(directory+\"/\"+x)\n",
    "        df=boot[boot[\"bootstrap p\"]<threshold]\n",
    "        deviant=deviant.append(df)\n",
    "        \n",
    "    return(deviant)\n",
    "    "
   ]
  },
  {
   "cell_type": "code",
   "execution_count": 110,
   "metadata": {},
   "outputs": [],
   "source": [
    "tpm_deviant=make_deviant_df(\"../for_bootstrapping/tpm\",\"tpm\",.01)\n",
    "firebrowse_deviant=make_deviant_df(\"../for_bootstrapping/firebrowse\",\"firebrowse\",.01)\n",
    "pancanatlas_deviant=make_deviant_df(\"../for_bootstrapping/pancanatlas\",\"pancanatlas\",.01)"
   ]
  },
  {
   "cell_type": "code",
   "execution_count": 111,
   "metadata": {},
   "outputs": [],
   "source": [
    "tpm_immune_deviant=tpm_deviant[tpm_deviant[\"gtex cell_type\"]==\"Whole_Blood\"]\n",
    "tpm_match_deviant=tpm_deviant[tpm_deviant[\"gtex cell_type\"]!=\"Whole_Blood\"]"
   ]
  },
  {
   "cell_type": "code",
   "execution_count": 112,
   "metadata": {},
   "outputs": [],
   "source": [
    "firebrowse_immune_deviant=firebrowse_deviant[firebrowse_deviant[\"gtex cell_type\"]==\"Whole_Blood\"]\n",
    "firebrowse_match_deviant=firebrowse_deviant[firebrowse_deviant[\"gtex cell_type\"]!=\"Whole_Blood\"]"
   ]
  },
  {
   "cell_type": "code",
   "execution_count": 113,
   "metadata": {},
   "outputs": [],
   "source": [
    "pancanatlas_immune_deviant=pancanatlas_deviant[pancanatlas_deviant[\"gtex cell_type\"]==\"Whole_Blood\"]\n",
    "pancanatlas_match_deviant=pancanatlas_deviant[pancanatlas_deviant[\"gtex cell_type\"]!=\"Whole_Blood\"]"
   ]
  },
  {
   "cell_type": "code",
   "execution_count": 114,
   "metadata": {},
   "outputs": [
    {
     "data": {
      "text/html": [
       "<div>\n",
       "<style scoped>\n",
       "    .dataframe tbody tr th:only-of-type {\n",
       "        vertical-align: middle;\n",
       "    }\n",
       "\n",
       "    .dataframe tbody tr th {\n",
       "        vertical-align: top;\n",
       "    }\n",
       "\n",
       "    .dataframe thead th {\n",
       "        text-align: right;\n",
       "    }\n",
       "</style>\n",
       "<table border=\"1\" class=\"dataframe\">\n",
       "  <thead>\n",
       "    <tr style=\"text-align: right;\">\n",
       "      <th></th>\n",
       "      <th>Unnamed: 0</th>\n",
       "      <th>Unnamed: 0.1</th>\n",
       "      <th>gene_id</th>\n",
       "      <th>gtex slope</th>\n",
       "      <th>gtex slope_se</th>\n",
       "      <th>ref</th>\n",
       "      <th>alt</th>\n",
       "      <th>gtex cell_type</th>\n",
       "      <th>pval</th>\n",
       "      <th>gtex maf</th>\n",
       "      <th>...</th>\n",
       "      <th>OBS_CT</th>\n",
       "      <th>BETA</th>\n",
       "      <th>SE</th>\n",
       "      <th>T_STAT</th>\n",
       "      <th>P</th>\n",
       "      <th>ERRCODE</th>\n",
       "      <th>pheno</th>\n",
       "      <th>combo</th>\n",
       "      <th>z_score</th>\n",
       "      <th>bootstrap p</th>\n",
       "    </tr>\n",
       "  </thead>\n",
       "  <tbody>\n",
       "    <tr>\n",
       "      <th>187</th>\n",
       "      <td>187</td>\n",
       "      <td>274152</td>\n",
       "      <td>ENSG00000136930</td>\n",
       "      <td>0.129002</td>\n",
       "      <td>0.102281</td>\n",
       "      <td>G</td>\n",
       "      <td>A</td>\n",
       "      <td>Brain_Putamen_basal_ganglia</td>\n",
       "      <td>2.098192e-01</td>\n",
       "      <td>0.042484</td>\n",
       "      <td>...</td>\n",
       "      <td>430</td>\n",
       "      <td>-0.455842</td>\n",
       "      <td>0.150013</td>\n",
       "      <td>-3.03868</td>\n",
       "      <td>0.002526</td>\n",
       "      <td>.</td>\n",
       "      <td>PSMB7</td>\n",
       "      <td>Brain_Putamen_basal_ganglia.LGG</td>\n",
       "      <td>5.717985</td>\n",
       "      <td>0.006122</td>\n",
       "    </tr>\n",
       "    <tr>\n",
       "      <th>190</th>\n",
       "      <td>190</td>\n",
       "      <td>279702</td>\n",
       "      <td>ENSG00000133805</td>\n",
       "      <td>0.467569</td>\n",
       "      <td>0.050602</td>\n",
       "      <td>T</td>\n",
       "      <td>C</td>\n",
       "      <td>Brain_Putamen_basal_ganglia</td>\n",
       "      <td>1.749386e-15</td>\n",
       "      <td>0.421569</td>\n",
       "      <td>...</td>\n",
       "      <td>430</td>\n",
       "      <td>0.208055</td>\n",
       "      <td>0.067289</td>\n",
       "      <td>3.09197</td>\n",
       "      <td>0.002122</td>\n",
       "      <td>.</td>\n",
       "      <td>AMPD3</td>\n",
       "      <td>Brain_Putamen_basal_ganglia.LGG</td>\n",
       "      <td>5.128551</td>\n",
       "      <td>0.008105</td>\n",
       "    </tr>\n",
       "    <tr>\n",
       "      <th>321</th>\n",
       "      <td>321</td>\n",
       "      <td>470382</td>\n",
       "      <td>ENSG00000228716</td>\n",
       "      <td>0.249341</td>\n",
       "      <td>0.075830</td>\n",
       "      <td>C</td>\n",
       "      <td>T</td>\n",
       "      <td>Brain_Putamen_basal_ganglia</td>\n",
       "      <td>1.344524e-03</td>\n",
       "      <td>0.473856</td>\n",
       "      <td>...</td>\n",
       "      <td>430</td>\n",
       "      <td>-0.144567</td>\n",
       "      <td>0.070828</td>\n",
       "      <td>-2.04111</td>\n",
       "      <td>0.041871</td>\n",
       "      <td>.</td>\n",
       "      <td>DHFR</td>\n",
       "      <td>Brain_Putamen_basal_ganglia.LGG</td>\n",
       "      <td>5.194643</td>\n",
       "      <td>0.007171</td>\n",
       "    </tr>\n",
       "    <tr>\n",
       "      <th>358</th>\n",
       "      <td>358</td>\n",
       "      <td>525792</td>\n",
       "      <td>ENSG00000167613</td>\n",
       "      <td>0.097440</td>\n",
       "      <td>0.050507</td>\n",
       "      <td>C</td>\n",
       "      <td>T</td>\n",
       "      <td>Brain_Putamen_basal_ganglia</td>\n",
       "      <td>5.620810e-02</td>\n",
       "      <td>0.277778</td>\n",
       "      <td>...</td>\n",
       "      <td>430</td>\n",
       "      <td>-0.237098</td>\n",
       "      <td>0.077728</td>\n",
       "      <td>-3.05036</td>\n",
       "      <td>0.002432</td>\n",
       "      <td>.</td>\n",
       "      <td>LAIR1</td>\n",
       "      <td>Brain_Putamen_basal_ganglia.LGG</td>\n",
       "      <td>6.623623</td>\n",
       "      <td>0.003064</td>\n",
       "    </tr>\n",
       "    <tr>\n",
       "      <th>24</th>\n",
       "      <td>24</td>\n",
       "      <td>36413</td>\n",
       "      <td>ENSG00000137944</td>\n",
       "      <td>0.203298</td>\n",
       "      <td>0.153160</td>\n",
       "      <td>C</td>\n",
       "      <td>T</td>\n",
       "      <td>Skin_Sun_Exposed_Lower_leg</td>\n",
       "      <td>1.850808e-01</td>\n",
       "      <td>0.014764</td>\n",
       "      <td>...</td>\n",
       "      <td>92</td>\n",
       "      <td>NaN</td>\n",
       "      <td>NaN</td>\n",
       "      <td>NaN</td>\n",
       "      <td>NaN</td>\n",
       "      <td>CONST_ALLELE,REF</td>\n",
       "      <td>CCBL2</td>\n",
       "      <td>Skin_Sun_Exposed_Lower_leg.SKCM</td>\n",
       "      <td>NaN</td>\n",
       "      <td>0.000000</td>\n",
       "    </tr>\n",
       "  </tbody>\n",
       "</table>\n",
       "<p>5 rows × 52 columns</p>\n",
       "</div>"
      ],
      "text/plain": [
       "     Unnamed: 0  Unnamed: 0.1          gene_id  gtex slope  gtex slope_se ref  \\\n",
       "187         187        274152  ENSG00000136930    0.129002       0.102281   G   \n",
       "190         190        279702  ENSG00000133805    0.467569       0.050602   T   \n",
       "321         321        470382  ENSG00000228716    0.249341       0.075830   C   \n",
       "358         358        525792  ENSG00000167613    0.097440       0.050507   C   \n",
       "24           24         36413  ENSG00000137944    0.203298       0.153160   C   \n",
       "\n",
       "    alt               gtex cell_type          pval  gtex maf  ...  OBS_CT  \\\n",
       "187   A  Brain_Putamen_basal_ganglia  2.098192e-01  0.042484  ...     430   \n",
       "190   C  Brain_Putamen_basal_ganglia  1.749386e-15  0.421569  ...     430   \n",
       "321   T  Brain_Putamen_basal_ganglia  1.344524e-03  0.473856  ...     430   \n",
       "358   T  Brain_Putamen_basal_ganglia  5.620810e-02  0.277778  ...     430   \n",
       "24    T   Skin_Sun_Exposed_Lower_leg  1.850808e-01  0.014764  ...      92   \n",
       "\n",
       "         BETA        SE   T_STAT         P           ERRCODE  pheno  \\\n",
       "187 -0.455842  0.150013 -3.03868  0.002526                 .  PSMB7   \n",
       "190  0.208055  0.067289  3.09197  0.002122                 .  AMPD3   \n",
       "321 -0.144567  0.070828 -2.04111  0.041871                 .   DHFR   \n",
       "358 -0.237098  0.077728 -3.05036  0.002432                 .  LAIR1   \n",
       "24        NaN       NaN      NaN       NaN  CONST_ALLELE,REF  CCBL2   \n",
       "\n",
       "                               combo   z_score bootstrap p  \n",
       "187  Brain_Putamen_basal_ganglia.LGG  5.717985    0.006122  \n",
       "190  Brain_Putamen_basal_ganglia.LGG  5.128551    0.008105  \n",
       "321  Brain_Putamen_basal_ganglia.LGG  5.194643    0.007171  \n",
       "358  Brain_Putamen_basal_ganglia.LGG  6.623623    0.003064  \n",
       "24   Skin_Sun_Exposed_Lower_leg.SKCM       NaN    0.000000  \n",
       "\n",
       "[5 rows x 52 columns]"
      ]
     },
     "execution_count": 114,
     "metadata": {},
     "output_type": "execute_result"
    }
   ],
   "source": [
    "pancanatlas_match_deviant.head()"
   ]
  },
  {
   "cell_type": "code",
   "execution_count": 116,
   "metadata": {},
   "outputs": [
    {
     "name": "stderr",
     "output_type": "stream",
     "text": [
      "/nrnb/opt/anaconda3.7/lib/python3.7/site-packages/ipykernel_launcher.py:9: SettingWithCopyWarning: \n",
      "A value is trying to be set on a copy of a slice from a DataFrame.\n",
      "Try using .loc[row_indexer,col_indexer] = value instead\n",
      "\n",
      "See the caveats in the documentation: https://pandas.pydata.org/pandas-docs/stable/user_guide/indexing.html#returning-a-view-versus-a-copy\n",
      "  if __name__ == '__main__':\n",
      "/nrnb/opt/anaconda3.7/lib/python3.7/site-packages/ipykernel_launcher.py:10: SettingWithCopyWarning: \n",
      "A value is trying to be set on a copy of a slice from a DataFrame.\n",
      "Try using .loc[row_indexer,col_indexer] = value instead\n",
      "\n",
      "See the caveats in the documentation: https://pandas.pydata.org/pandas-docs/stable/user_guide/indexing.html#returning-a-view-versus-a-copy\n",
      "  # Remove the CWD from sys.path while we load stuff.\n"
     ]
    }
   ],
   "source": [
    "consensus_deviant=pd.DataFrame()\n",
    "\n",
    "for x in tpm_match_deviant[\"combo\"].unique():\n",
    "    df=tpm_match_deviant[tpm_match_deviant[\"combo\"]==x]\n",
    "    \n",
    "    fire=firebrowse_match_deviant[firebrowse_match_deviant[\"combo\"]==x][\"assoc\"].tolist()\n",
    "    pancan=pancanatlas_match_deviant[pancanatlas_match_deviant[\"combo\"]==x][\"assoc\"].tolist()\n",
    "    \n",
    "    df[\"firebrowse_support\"]=np.where(df[\"assoc\"].isin(fire),1,0)\n",
    "    df[\"pancan_support\"]=np.where(df[\"assoc\"].isin(pancan),1,0)\n",
    "    \n",
    "    consensus_deviant=consensus_deviant.append(df)"
   ]
  },
  {
   "cell_type": "code",
   "execution_count": 118,
   "metadata": {},
   "outputs": [
    {
     "name": "stderr",
     "output_type": "stream",
     "text": [
      "/nrnb/opt/anaconda3.7/lib/python3.7/site-packages/ipykernel_launcher.py:9: SettingWithCopyWarning: \n",
      "A value is trying to be set on a copy of a slice from a DataFrame.\n",
      "Try using .loc[row_indexer,col_indexer] = value instead\n",
      "\n",
      "See the caveats in the documentation: https://pandas.pydata.org/pandas-docs/stable/user_guide/indexing.html#returning-a-view-versus-a-copy\n",
      "  if __name__ == '__main__':\n",
      "/nrnb/opt/anaconda3.7/lib/python3.7/site-packages/ipykernel_launcher.py:10: SettingWithCopyWarning: \n",
      "A value is trying to be set on a copy of a slice from a DataFrame.\n",
      "Try using .loc[row_indexer,col_indexer] = value instead\n",
      "\n",
      "See the caveats in the documentation: https://pandas.pydata.org/pandas-docs/stable/user_guide/indexing.html#returning-a-view-versus-a-copy\n",
      "  # Remove the CWD from sys.path while we load stuff.\n"
     ]
    }
   ],
   "source": [
    "consensus_immune=pd.DataFrame()\n",
    "\n",
    "for x in tpm_immune_deviant[\"combo\"].unique():\n",
    "    df=tpm_immune_deviant[tpm_immune_deviant[\"combo\"]==x]\n",
    "    \n",
    "    fire=firebrowse_immune_deviant[firebrowse_immune_deviant[\"combo\"]==x][\"assoc\"].tolist()\n",
    "    pancan=pancanatlas_immune_deviant[pancanatlas_immune_deviant[\"combo\"]==x][\"assoc\"].tolist()\n",
    "    \n",
    "    df[\"firebrowse_support\"]=np.where(df[\"assoc\"].isin(fire),1,0)\n",
    "    df[\"pancan_support\"]=np.where(df[\"assoc\"].isin(pancan),1,0)\n",
    "    \n",
    "    consensus_immune=consensus_immune.append(df)"
   ]
  },
  {
   "cell_type": "code",
   "execution_count": 119,
   "metadata": {},
   "outputs": [],
   "source": [
    "consensus_deviant[\"sum\"]=consensus_deviant[\"firebrowse_support\"]+consensus_deviant[\"pancan_support\"]\n",
    "consensus_immune[\"sum\"]=consensus_immune[\"firebrowse_support\"]+consensus_immune[\"pancan_support\"]"
   ]
  },
  {
   "cell_type": "code",
   "execution_count": 120,
   "metadata": {
    "scrolled": true
   },
   "outputs": [],
   "source": [
    "consensus_deviant=consensus_deviant[(consensus_deviant[\"sum\"]>0)]\n",
    "consensus_deviant=consensus_deviant[~(consensus_deviant[\"z_score\"].isnull())]"
   ]
  },
  {
   "cell_type": "code",
   "execution_count": 121,
   "metadata": {},
   "outputs": [],
   "source": [
    "consensus_immune=consensus_immune[(consensus_immune[\"sum\"]>0)]\n",
    "consensus_immune=consensus_immune[~(consensus_immune[\"z_score\"].isnull())]"
   ]
  },
  {
   "cell_type": "code",
   "execution_count": 122,
   "metadata": {},
   "outputs": [
    {
     "data": {
      "text/html": [
       "<div>\n",
       "<style scoped>\n",
       "    .dataframe tbody tr th:only-of-type {\n",
       "        vertical-align: middle;\n",
       "    }\n",
       "\n",
       "    .dataframe tbody tr th {\n",
       "        vertical-align: top;\n",
       "    }\n",
       "\n",
       "    .dataframe thead th {\n",
       "        text-align: right;\n",
       "    }\n",
       "</style>\n",
       "<table border=\"1\" class=\"dataframe\">\n",
       "  <thead>\n",
       "    <tr style=\"text-align: right;\">\n",
       "      <th></th>\n",
       "      <th>Unnamed: 0</th>\n",
       "      <th>Unnamed: 0.1</th>\n",
       "      <th>gene_id</th>\n",
       "      <th>gtex slope</th>\n",
       "      <th>gtex slope_se</th>\n",
       "      <th>ref</th>\n",
       "      <th>alt</th>\n",
       "      <th>gtex cell_type</th>\n",
       "      <th>pval</th>\n",
       "      <th>gtex maf</th>\n",
       "      <th>...</th>\n",
       "      <th>T_STAT</th>\n",
       "      <th>P</th>\n",
       "      <th>ERRCODE</th>\n",
       "      <th>pheno</th>\n",
       "      <th>combo</th>\n",
       "      <th>z_score</th>\n",
       "      <th>bootstrap p</th>\n",
       "      <th>firebrowse_support</th>\n",
       "      <th>pancan_support</th>\n",
       "      <th>sum</th>\n",
       "    </tr>\n",
       "  </thead>\n",
       "  <tbody>\n",
       "    <tr>\n",
       "      <th>27</th>\n",
       "      <td>27</td>\n",
       "      <td>40853</td>\n",
       "      <td>ENSG00000137944</td>\n",
       "      <td>-0.248639</td>\n",
       "      <td>0.020716</td>\n",
       "      <td>T</td>\n",
       "      <td>C</td>\n",
       "      <td>Whole_Blood</td>\n",
       "      <td>2.932235e-29</td>\n",
       "      <td>0.489247</td>\n",
       "      <td>...</td>\n",
       "      <td>1.966830</td>\n",
       "      <td>5.275910e-02</td>\n",
       "      <td>.</td>\n",
       "      <td>CCBL2</td>\n",
       "      <td>Whole_Blood.SKCM</td>\n",
       "      <td>26.193563</td>\n",
       "      <td>0.009062</td>\n",
       "      <td>1</td>\n",
       "      <td>1</td>\n",
       "      <td>2</td>\n",
       "    </tr>\n",
       "    <tr>\n",
       "      <th>210</th>\n",
       "      <td>210</td>\n",
       "      <td>343163</td>\n",
       "      <td>ENSG00000166847</td>\n",
       "      <td>0.928228</td>\n",
       "      <td>0.026402</td>\n",
       "      <td>A</td>\n",
       "      <td>G</td>\n",
       "      <td>Whole_Blood</td>\n",
       "      <td>7.708809e-136</td>\n",
       "      <td>0.234767</td>\n",
       "      <td>...</td>\n",
       "      <td>-0.874267</td>\n",
       "      <td>3.846570e-01</td>\n",
       "      <td>.</td>\n",
       "      <td>DCTN5</td>\n",
       "      <td>Whole_Blood.SKCM</td>\n",
       "      <td>41.427512</td>\n",
       "      <td>0.001098</td>\n",
       "      <td>1</td>\n",
       "      <td>1</td>\n",
       "      <td>2</td>\n",
       "    </tr>\n",
       "    <tr>\n",
       "      <th>317</th>\n",
       "      <td>317</td>\n",
       "      <td>502673</td>\n",
       "      <td>ENSG00000171860</td>\n",
       "      <td>-0.757753</td>\n",
       "      <td>0.020938</td>\n",
       "      <td>A</td>\n",
       "      <td>G</td>\n",
       "      <td>Whole_Blood</td>\n",
       "      <td>2.799990e-140</td>\n",
       "      <td>0.314516</td>\n",
       "      <td>...</td>\n",
       "      <td>-0.439328</td>\n",
       "      <td>6.616390e-01</td>\n",
       "      <td>.</td>\n",
       "      <td>C3AR1</td>\n",
       "      <td>Whole_Blood.SKCM</td>\n",
       "      <td>32.592991</td>\n",
       "      <td>0.006947</td>\n",
       "      <td>1</td>\n",
       "      <td>1</td>\n",
       "      <td>2</td>\n",
       "    </tr>\n",
       "    <tr>\n",
       "      <th>318</th>\n",
       "      <td>318</td>\n",
       "      <td>504143</td>\n",
       "      <td>ENSG00000171860</td>\n",
       "      <td>-0.756348</td>\n",
       "      <td>0.021118</td>\n",
       "      <td>A</td>\n",
       "      <td>G</td>\n",
       "      <td>Whole_Blood</td>\n",
       "      <td>1.125281e-138</td>\n",
       "      <td>0.313620</td>\n",
       "      <td>...</td>\n",
       "      <td>-0.439328</td>\n",
       "      <td>6.616390e-01</td>\n",
       "      <td>.</td>\n",
       "      <td>C3AR1</td>\n",
       "      <td>Whole_Blood.SKCM</td>\n",
       "      <td>32.248831</td>\n",
       "      <td>0.008202</td>\n",
       "      <td>1</td>\n",
       "      <td>1</td>\n",
       "      <td>2</td>\n",
       "    </tr>\n",
       "    <tr>\n",
       "      <th>27</th>\n",
       "      <td>27</td>\n",
       "      <td>40841</td>\n",
       "      <td>ENSG00000137944</td>\n",
       "      <td>-0.248639</td>\n",
       "      <td>0.020716</td>\n",
       "      <td>T</td>\n",
       "      <td>C</td>\n",
       "      <td>Whole_Blood</td>\n",
       "      <td>2.932235e-29</td>\n",
       "      <td>0.489247</td>\n",
       "      <td>...</td>\n",
       "      <td>6.940220</td>\n",
       "      <td>6.004090e-11</td>\n",
       "      <td>.</td>\n",
       "      <td>CCBL2</td>\n",
       "      <td>Whole_Blood.KIRP</td>\n",
       "      <td>41.640093</td>\n",
       "      <td>0.001122</td>\n",
       "      <td>1</td>\n",
       "      <td>1</td>\n",
       "      <td>2</td>\n",
       "    </tr>\n",
       "    <tr>\n",
       "      <th>...</th>\n",
       "      <td>...</td>\n",
       "      <td>...</td>\n",
       "      <td>...</td>\n",
       "      <td>...</td>\n",
       "      <td>...</td>\n",
       "      <td>...</td>\n",
       "      <td>...</td>\n",
       "      <td>...</td>\n",
       "      <td>...</td>\n",
       "      <td>...</td>\n",
       "      <td>...</td>\n",
       "      <td>...</td>\n",
       "      <td>...</td>\n",
       "      <td>...</td>\n",
       "      <td>...</td>\n",
       "      <td>...</td>\n",
       "      <td>...</td>\n",
       "      <td>...</td>\n",
       "      <td>...</td>\n",
       "      <td>...</td>\n",
       "      <td>...</td>\n",
       "    </tr>\n",
       "    <tr>\n",
       "      <th>189</th>\n",
       "      <td>189</td>\n",
       "      <td>312283</td>\n",
       "      <td>ENSG00000090382</td>\n",
       "      <td>-0.733674</td>\n",
       "      <td>0.017838</td>\n",
       "      <td>T</td>\n",
       "      <td>C</td>\n",
       "      <td>Whole_Blood</td>\n",
       "      <td>1.043525e-160</td>\n",
       "      <td>0.490143</td>\n",
       "      <td>...</td>\n",
       "      <td>-2.832170</td>\n",
       "      <td>5.237760e-03</td>\n",
       "      <td>.</td>\n",
       "      <td>LYZ</td>\n",
       "      <td>Whole_Blood.LIHC</td>\n",
       "      <td>23.898710</td>\n",
       "      <td>0.003338</td>\n",
       "      <td>1</td>\n",
       "      <td>1</td>\n",
       "      <td>2</td>\n",
       "    </tr>\n",
       "    <tr>\n",
       "      <th>314</th>\n",
       "      <td>314</td>\n",
       "      <td>498253</td>\n",
       "      <td>ENSG00000172543</td>\n",
       "      <td>-0.321170</td>\n",
       "      <td>0.016645</td>\n",
       "      <td>A</td>\n",
       "      <td>G</td>\n",
       "      <td>Whole_Blood</td>\n",
       "      <td>4.548993e-62</td>\n",
       "      <td>0.195341</td>\n",
       "      <td>...</td>\n",
       "      <td>-5.636230</td>\n",
       "      <td>7.999690e-08</td>\n",
       "      <td>.</td>\n",
       "      <td>CTSW</td>\n",
       "      <td>Whole_Blood.LIHC</td>\n",
       "      <td>19.932937</td>\n",
       "      <td>0.007902</td>\n",
       "      <td>1</td>\n",
       "      <td>1</td>\n",
       "      <td>2</td>\n",
       "    </tr>\n",
       "    <tr>\n",
       "      <th>315</th>\n",
       "      <td>315</td>\n",
       "      <td>499723</td>\n",
       "      <td>ENSG00000172543</td>\n",
       "      <td>-0.322041</td>\n",
       "      <td>0.016673</td>\n",
       "      <td>C</td>\n",
       "      <td>A</td>\n",
       "      <td>Whole_Blood</td>\n",
       "      <td>3.647897e-62</td>\n",
       "      <td>0.194444</td>\n",
       "      <td>...</td>\n",
       "      <td>-5.636230</td>\n",
       "      <td>7.999690e-08</td>\n",
       "      <td>.</td>\n",
       "      <td>CTSW</td>\n",
       "      <td>Whole_Blood.LIHC</td>\n",
       "      <td>19.847493</td>\n",
       "      <td>0.007760</td>\n",
       "      <td>1</td>\n",
       "      <td>1</td>\n",
       "      <td>2</td>\n",
       "    </tr>\n",
       "    <tr>\n",
       "      <th>317</th>\n",
       "      <td>317</td>\n",
       "      <td>502663</td>\n",
       "      <td>ENSG00000171860</td>\n",
       "      <td>-0.757753</td>\n",
       "      <td>0.020938</td>\n",
       "      <td>A</td>\n",
       "      <td>G</td>\n",
       "      <td>Whole_Blood</td>\n",
       "      <td>2.799990e-140</td>\n",
       "      <td>0.314516</td>\n",
       "      <td>...</td>\n",
       "      <td>-0.836885</td>\n",
       "      <td>4.039460e-01</td>\n",
       "      <td>.</td>\n",
       "      <td>C3AR1</td>\n",
       "      <td>Whole_Blood.LIHC</td>\n",
       "      <td>31.697022</td>\n",
       "      <td>0.002323</td>\n",
       "      <td>1</td>\n",
       "      <td>1</td>\n",
       "      <td>2</td>\n",
       "    </tr>\n",
       "    <tr>\n",
       "      <th>318</th>\n",
       "      <td>318</td>\n",
       "      <td>504133</td>\n",
       "      <td>ENSG00000171860</td>\n",
       "      <td>-0.756348</td>\n",
       "      <td>0.021118</td>\n",
       "      <td>A</td>\n",
       "      <td>G</td>\n",
       "      <td>Whole_Blood</td>\n",
       "      <td>1.125281e-138</td>\n",
       "      <td>0.313620</td>\n",
       "      <td>...</td>\n",
       "      <td>-0.836885</td>\n",
       "      <td>4.039460e-01</td>\n",
       "      <td>.</td>\n",
       "      <td>C3AR1</td>\n",
       "      <td>Whole_Blood.LIHC</td>\n",
       "      <td>31.360495</td>\n",
       "      <td>0.002338</td>\n",
       "      <td>1</td>\n",
       "      <td>1</td>\n",
       "      <td>2</td>\n",
       "    </tr>\n",
       "  </tbody>\n",
       "</table>\n",
       "<p>192 rows × 55 columns</p>\n",
       "</div>"
      ],
      "text/plain": [
       "     Unnamed: 0  Unnamed: 0.1          gene_id  gtex slope  gtex slope_se ref  \\\n",
       "27           27         40853  ENSG00000137944   -0.248639       0.020716   T   \n",
       "210         210        343163  ENSG00000166847    0.928228       0.026402   A   \n",
       "317         317        502673  ENSG00000171860   -0.757753       0.020938   A   \n",
       "318         318        504143  ENSG00000171860   -0.756348       0.021118   A   \n",
       "27           27         40841  ENSG00000137944   -0.248639       0.020716   T   \n",
       "..          ...           ...              ...         ...            ...  ..   \n",
       "189         189        312283  ENSG00000090382   -0.733674       0.017838   T   \n",
       "314         314        498253  ENSG00000172543   -0.321170       0.016645   A   \n",
       "315         315        499723  ENSG00000172543   -0.322041       0.016673   C   \n",
       "317         317        502663  ENSG00000171860   -0.757753       0.020938   A   \n",
       "318         318        504133  ENSG00000171860   -0.756348       0.021118   A   \n",
       "\n",
       "    alt gtex cell_type           pval  gtex maf  ...    T_STAT             P  \\\n",
       "27    C    Whole_Blood   2.932235e-29  0.489247  ...  1.966830  5.275910e-02   \n",
       "210   G    Whole_Blood  7.708809e-136  0.234767  ... -0.874267  3.846570e-01   \n",
       "317   G    Whole_Blood  2.799990e-140  0.314516  ... -0.439328  6.616390e-01   \n",
       "318   G    Whole_Blood  1.125281e-138  0.313620  ... -0.439328  6.616390e-01   \n",
       "27    C    Whole_Blood   2.932235e-29  0.489247  ...  6.940220  6.004090e-11   \n",
       "..   ..            ...            ...       ...  ...       ...           ...   \n",
       "189   C    Whole_Blood  1.043525e-160  0.490143  ... -2.832170  5.237760e-03   \n",
       "314   G    Whole_Blood   4.548993e-62  0.195341  ... -5.636230  7.999690e-08   \n",
       "315   A    Whole_Blood   3.647897e-62  0.194444  ... -5.636230  7.999690e-08   \n",
       "317   G    Whole_Blood  2.799990e-140  0.314516  ... -0.836885  4.039460e-01   \n",
       "318   G    Whole_Blood  1.125281e-138  0.313620  ... -0.836885  4.039460e-01   \n",
       "\n",
       "    ERRCODE  pheno             combo    z_score bootstrap p  \\\n",
       "27        .  CCBL2  Whole_Blood.SKCM  26.193563    0.009062   \n",
       "210       .  DCTN5  Whole_Blood.SKCM  41.427512    0.001098   \n",
       "317       .  C3AR1  Whole_Blood.SKCM  32.592991    0.006947   \n",
       "318       .  C3AR1  Whole_Blood.SKCM  32.248831    0.008202   \n",
       "27        .  CCBL2  Whole_Blood.KIRP  41.640093    0.001122   \n",
       "..      ...    ...               ...        ...         ...   \n",
       "189       .    LYZ  Whole_Blood.LIHC  23.898710    0.003338   \n",
       "314       .   CTSW  Whole_Blood.LIHC  19.932937    0.007902   \n",
       "315       .   CTSW  Whole_Blood.LIHC  19.847493    0.007760   \n",
       "317       .  C3AR1  Whole_Blood.LIHC  31.697022    0.002323   \n",
       "318       .  C3AR1  Whole_Blood.LIHC  31.360495    0.002338   \n",
       "\n",
       "     firebrowse_support pancan_support sum  \n",
       "27                    1              1   2  \n",
       "210                   1              1   2  \n",
       "317                   1              1   2  \n",
       "318                   1              1   2  \n",
       "27                    1              1   2  \n",
       "..                  ...            ...  ..  \n",
       "189                   1              1   2  \n",
       "314                   1              1   2  \n",
       "315                   1              1   2  \n",
       "317                   1              1   2  \n",
       "318                   1              1   2  \n",
       "\n",
       "[192 rows x 55 columns]"
      ]
     },
     "execution_count": 122,
     "metadata": {},
     "output_type": "execute_result"
    }
   ],
   "source": [
    "consensus_immune"
   ]
  },
  {
   "cell_type": "markdown",
   "metadata": {},
   "source": [
    "## Keep only combos with least deviants"
   ]
  },
  {
   "cell_type": "code",
   "execution_count": 123,
   "metadata": {},
   "outputs": [],
   "source": [
    "select=consensus_deviant[\"combo\"].value_counts().reset_index()"
   ]
  },
  {
   "cell_type": "code",
   "execution_count": 124,
   "metadata": {},
   "outputs": [],
   "source": [
    "select[\"cancer\"]=select[\"index\"].str.split(\".\").str[-1]\n",
    "select[\"gtex\"]=select[\"index\"].str.split(\".\").str[0]"
   ]
  },
  {
   "cell_type": "code",
   "execution_count": 125,
   "metadata": {},
   "outputs": [],
   "source": [
    "combos=[]\n",
    "\n",
    "for x in select[\"cancer\"].unique():\n",
    "    df=select[select[\"cancer\"]==x]\n",
    "    combos.append(df[df[\"combo\"]==df[\"combo\"].min()][\"index\"].values[0])"
   ]
  },
  {
   "cell_type": "markdown",
   "metadata": {},
   "source": [
    "## Get brian comparison"
   ]
  },
  {
   "cell_type": "code",
   "execution_count": 126,
   "metadata": {},
   "outputs": [],
   "source": [
    "compare_beta=pd.merge(snps_gtex_cis,tpm_cancer,on=\"assoc\")\n",
    "compare_beta[\"combo\"]=compare_beta[\"gtex cell_type\"]+\".\"+compare_beta[\"file_name\"]\n",
    "compare_beta[\"z_score\"]=(compare_beta[\"gtex slope\"]-compare_beta[\"BETA\"])/compare_beta[\"gtex slope_se\"]"
   ]
  },
  {
   "cell_type": "code",
   "execution_count": 127,
   "metadata": {},
   "outputs": [
    {
     "data": {
      "text/html": [
       "<div>\n",
       "<style scoped>\n",
       "    .dataframe tbody tr th:only-of-type {\n",
       "        vertical-align: middle;\n",
       "    }\n",
       "\n",
       "    .dataframe tbody tr th {\n",
       "        vertical-align: top;\n",
       "    }\n",
       "\n",
       "    .dataframe thead th {\n",
       "        text-align: right;\n",
       "    }\n",
       "</style>\n",
       "<table border=\"1\" class=\"dataframe\">\n",
       "  <thead>\n",
       "    <tr style=\"text-align: right;\">\n",
       "      <th></th>\n",
       "      <th>gene_id</th>\n",
       "      <th>gtex slope</th>\n",
       "      <th>gtex slope_se</th>\n",
       "      <th>ref</th>\n",
       "      <th>alt</th>\n",
       "      <th>gtex cell_type</th>\n",
       "      <th>pval</th>\n",
       "      <th>gtex maf</th>\n",
       "      <th>tss_distance</th>\n",
       "      <th>variant id</th>\n",
       "      <th>...</th>\n",
       "      <th>TEST</th>\n",
       "      <th>OBS_CT</th>\n",
       "      <th>BETA</th>\n",
       "      <th>SE</th>\n",
       "      <th>T_STAT</th>\n",
       "      <th>P</th>\n",
       "      <th>ERRCODE</th>\n",
       "      <th>pheno</th>\n",
       "      <th>combo</th>\n",
       "      <th>z_score</th>\n",
       "    </tr>\n",
       "  </thead>\n",
       "  <tbody>\n",
       "    <tr>\n",
       "      <th>0</th>\n",
       "      <td>ENSG00000049245</td>\n",
       "      <td>0.230936</td>\n",
       "      <td>0.10345</td>\n",
       "      <td>G</td>\n",
       "      <td>A</td>\n",
       "      <td>Kidney_Cortex</td>\n",
       "      <td>0.030614</td>\n",
       "      <td>0.176923</td>\n",
       "      <td>10001</td>\n",
       "      <td>1_7841330_G_A_b37</td>\n",
       "      <td>...</td>\n",
       "      <td>ADD</td>\n",
       "      <td>70</td>\n",
       "      <td>0.168077</td>\n",
       "      <td>0.276697</td>\n",
       "      <td>0.607441</td>\n",
       "      <td>0.546014</td>\n",
       "      <td>.</td>\n",
       "      <td>VAMP3</td>\n",
       "      <td>Kidney_Cortex.ACC</td>\n",
       "      <td>0.607627</td>\n",
       "    </tr>\n",
       "    <tr>\n",
       "      <th>1</th>\n",
       "      <td>ENSG00000049245</td>\n",
       "      <td>0.230936</td>\n",
       "      <td>0.10345</td>\n",
       "      <td>G</td>\n",
       "      <td>A</td>\n",
       "      <td>Kidney_Cortex</td>\n",
       "      <td>0.030614</td>\n",
       "      <td>0.176923</td>\n",
       "      <td>10001</td>\n",
       "      <td>1_7841330_G_A_b37</td>\n",
       "      <td>...</td>\n",
       "      <td>ADD</td>\n",
       "      <td>322</td>\n",
       "      <td>0.225966</td>\n",
       "      <td>0.123493</td>\n",
       "      <td>1.829790</td>\n",
       "      <td>0.068248</td>\n",
       "      <td>.</td>\n",
       "      <td>VAMP3</td>\n",
       "      <td>Kidney_Cortex.BLCA</td>\n",
       "      <td>0.048045</td>\n",
       "    </tr>\n",
       "    <tr>\n",
       "      <th>2</th>\n",
       "      <td>ENSG00000049245</td>\n",
       "      <td>0.230936</td>\n",
       "      <td>0.10345</td>\n",
       "      <td>G</td>\n",
       "      <td>A</td>\n",
       "      <td>Kidney_Cortex</td>\n",
       "      <td>0.030614</td>\n",
       "      <td>0.176923</td>\n",
       "      <td>10001</td>\n",
       "      <td>1_7841330_G_A_b37</td>\n",
       "      <td>...</td>\n",
       "      <td>ADD</td>\n",
       "      <td>788</td>\n",
       "      <td>0.136816</td>\n",
       "      <td>0.074679</td>\n",
       "      <td>1.832070</td>\n",
       "      <td>0.067325</td>\n",
       "      <td>.</td>\n",
       "      <td>VAMP3</td>\n",
       "      <td>Kidney_Cortex.BRCA</td>\n",
       "      <td>0.909811</td>\n",
       "    </tr>\n",
       "    <tr>\n",
       "      <th>3</th>\n",
       "      <td>ENSG00000049245</td>\n",
       "      <td>0.230936</td>\n",
       "      <td>0.10345</td>\n",
       "      <td>G</td>\n",
       "      <td>A</td>\n",
       "      <td>Kidney_Cortex</td>\n",
       "      <td>0.030614</td>\n",
       "      <td>0.176923</td>\n",
       "      <td>10001</td>\n",
       "      <td>1_7841330_G_A_b37</td>\n",
       "      <td>...</td>\n",
       "      <td>ADD</td>\n",
       "      <td>176</td>\n",
       "      <td>0.188130</td>\n",
       "      <td>0.180666</td>\n",
       "      <td>1.041310</td>\n",
       "      <td>0.299274</td>\n",
       "      <td>.</td>\n",
       "      <td>VAMP3</td>\n",
       "      <td>Kidney_Cortex.CESC</td>\n",
       "      <td>0.413786</td>\n",
       "    </tr>\n",
       "    <tr>\n",
       "      <th>4</th>\n",
       "      <td>ENSG00000049245</td>\n",
       "      <td>0.230936</td>\n",
       "      <td>0.10345</td>\n",
       "      <td>G</td>\n",
       "      <td>A</td>\n",
       "      <td>Kidney_Cortex</td>\n",
       "      <td>0.030614</td>\n",
       "      <td>0.176923</td>\n",
       "      <td>10001</td>\n",
       "      <td>1_7841330_G_A_b37</td>\n",
       "      <td>...</td>\n",
       "      <td>ADD</td>\n",
       "      <td>30</td>\n",
       "      <td>0.075788</td>\n",
       "      <td>0.441491</td>\n",
       "      <td>0.171664</td>\n",
       "      <td>0.865854</td>\n",
       "      <td>.</td>\n",
       "      <td>VAMP3</td>\n",
       "      <td>Kidney_Cortex.CHOL</td>\n",
       "      <td>1.499736</td>\n",
       "    </tr>\n",
       "  </tbody>\n",
       "</table>\n",
       "<p>5 rows × 49 columns</p>\n",
       "</div>"
      ],
      "text/plain": [
       "           gene_id  gtex slope  gtex slope_se ref alt gtex cell_type  \\\n",
       "0  ENSG00000049245    0.230936        0.10345   G   A  Kidney_Cortex   \n",
       "1  ENSG00000049245    0.230936        0.10345   G   A  Kidney_Cortex   \n",
       "2  ENSG00000049245    0.230936        0.10345   G   A  Kidney_Cortex   \n",
       "3  ENSG00000049245    0.230936        0.10345   G   A  Kidney_Cortex   \n",
       "4  ENSG00000049245    0.230936        0.10345   G   A  Kidney_Cortex   \n",
       "\n",
       "       pval  gtex maf  tss_distance         variant id  ... TEST OBS_CT  \\\n",
       "0  0.030614  0.176923         10001  1_7841330_G_A_b37  ...  ADD     70   \n",
       "1  0.030614  0.176923         10001  1_7841330_G_A_b37  ...  ADD    322   \n",
       "2  0.030614  0.176923         10001  1_7841330_G_A_b37  ...  ADD    788   \n",
       "3  0.030614  0.176923         10001  1_7841330_G_A_b37  ...  ADD    176   \n",
       "4  0.030614  0.176923         10001  1_7841330_G_A_b37  ...  ADD     30   \n",
       "\n",
       "       BETA        SE    T_STAT         P ERRCODE  pheno               combo  \\\n",
       "0  0.168077  0.276697  0.607441  0.546014       .  VAMP3   Kidney_Cortex.ACC   \n",
       "1  0.225966  0.123493  1.829790  0.068248       .  VAMP3  Kidney_Cortex.BLCA   \n",
       "2  0.136816  0.074679  1.832070  0.067325       .  VAMP3  Kidney_Cortex.BRCA   \n",
       "3  0.188130  0.180666  1.041310  0.299274       .  VAMP3  Kidney_Cortex.CESC   \n",
       "4  0.075788  0.441491  0.171664  0.865854       .  VAMP3  Kidney_Cortex.CHOL   \n",
       "\n",
       "    z_score  \n",
       "0  0.607627  \n",
       "1  0.048045  \n",
       "2  0.909811  \n",
       "3  0.413786  \n",
       "4  1.499736  \n",
       "\n",
       "[5 rows x 49 columns]"
      ]
     },
     "execution_count": 127,
     "metadata": {},
     "output_type": "execute_result"
    }
   ],
   "source": [
    "compare_beta.head()"
   ]
  },
  {
   "cell_type": "code",
   "execution_count": 128,
   "metadata": {},
   "outputs": [],
   "source": [
    "compare_beta=compare_beta[compare_beta[\"combo\"].isin(combos)]\n",
    "compare_beta=compare_beta[compare_beta[\"assoc\"].isin(snps[\"assoc\"].tolist())]"
   ]
  },
  {
   "cell_type": "code",
   "execution_count": 129,
   "metadata": {},
   "outputs": [
    {
     "data": {
      "image/png": "[encoded data removed]",
      "text/plain": [
       "<Figure size 720x720 with 1 Axes>"
      ]
     },
     "metadata": {
      "needs_background": "light"
     },
     "output_type": "display_data"
    }
   ],
   "source": [
    "fig = plt.figure(figsize=(10,10))\n",
    "ax = fig.add_subplot(111)\n",
    "\n",
    "n=compare_beta[\"file_name\"].unique()\n",
    "color=iter(cm.rainbow(np.linspace(0,1,len(n))))\n",
    "\n",
    "for x in n:\n",
    "    c=next(color)\n",
    "    canc_filt_dev=compare_beta[compare_beta[\"file_name\"]==x]\n",
    "    plt.scatter(canc_filt_dev[\"gtex slope\"],canc_filt_dev[\"BETA\"],color=c,marker=\".\",label=x)\n",
    "\n",
    "\n",
    "ax.set_xlabel(\"gtex beta\")\n",
    "ax.plot([ax.get_xlim()[0],ax.get_xlim()[1]], [ax.get_xlim()[0],ax.get_xlim()[1]], ls=\"--\", c=\"k\")\n",
    "ax.set_ylabel(\"tcga beta\")\n",
    "plt.legend()\n",
    "fig.savefig('gtex.beta.pdf')"
   ]
  },
  {
   "cell_type": "code",
   "execution_count": 130,
   "metadata": {},
   "outputs": [
    {
     "data": {
      "text/html": [
       "<div>\n",
       "<style scoped>\n",
       "    .dataframe tbody tr th:only-of-type {\n",
       "        vertical-align: middle;\n",
       "    }\n",
       "\n",
       "    .dataframe tbody tr th {\n",
       "        vertical-align: top;\n",
       "    }\n",
       "\n",
       "    .dataframe thead th {\n",
       "        text-align: right;\n",
       "    }\n",
       "</style>\n",
       "<table border=\"1\" class=\"dataframe\">\n",
       "  <thead>\n",
       "    <tr style=\"text-align: right;\">\n",
       "      <th></th>\n",
       "      <th>gene_id</th>\n",
       "      <th>gtex slope</th>\n",
       "      <th>gtex slope_se</th>\n",
       "      <th>ref</th>\n",
       "      <th>alt</th>\n",
       "      <th>gtex cell_type</th>\n",
       "      <th>pval</th>\n",
       "      <th>gtex maf</th>\n",
       "      <th>tss_distance</th>\n",
       "      <th>variant id</th>\n",
       "      <th>...</th>\n",
       "      <th>TEST</th>\n",
       "      <th>OBS_CT</th>\n",
       "      <th>BETA</th>\n",
       "      <th>SE</th>\n",
       "      <th>T_STAT</th>\n",
       "      <th>P</th>\n",
       "      <th>ERRCODE</th>\n",
       "      <th>pheno</th>\n",
       "      <th>combo</th>\n",
       "      <th>z_score</th>\n",
       "    </tr>\n",
       "  </thead>\n",
       "  <tbody>\n",
       "    <tr>\n",
       "      <th>10</th>\n",
       "      <td>ENSG00000049245</td>\n",
       "      <td>0.230936</td>\n",
       "      <td>0.103450</td>\n",
       "      <td>G</td>\n",
       "      <td>A</td>\n",
       "      <td>Kidney_Cortex</td>\n",
       "      <td>3.061431e-02</td>\n",
       "      <td>0.176923</td>\n",
       "      <td>10001</td>\n",
       "      <td>1_7841330_G_A_b37</td>\n",
       "      <td>...</td>\n",
       "      <td>ADD</td>\n",
       "      <td>418</td>\n",
       "      <td>0.182127</td>\n",
       "      <td>0.111590</td>\n",
       "      <td>1.632110</td>\n",
       "      <td>0.103436</td>\n",
       "      <td>.</td>\n",
       "      <td>VAMP3</td>\n",
       "      <td>Kidney_Cortex.KIRC</td>\n",
       "      <td>0.471814</td>\n",
       "    </tr>\n",
       "    <tr>\n",
       "      <th>11</th>\n",
       "      <td>ENSG00000049245</td>\n",
       "      <td>0.230936</td>\n",
       "      <td>0.103450</td>\n",
       "      <td>G</td>\n",
       "      <td>A</td>\n",
       "      <td>Kidney_Cortex</td>\n",
       "      <td>3.061431e-02</td>\n",
       "      <td>0.176923</td>\n",
       "      <td>10001</td>\n",
       "      <td>1_7841330_G_A_b37</td>\n",
       "      <td>...</td>\n",
       "      <td>ADD</td>\n",
       "      <td>204</td>\n",
       "      <td>0.194364</td>\n",
       "      <td>0.156992</td>\n",
       "      <td>1.238050</td>\n",
       "      <td>0.217225</td>\n",
       "      <td>.</td>\n",
       "      <td>VAMP3</td>\n",
       "      <td>Kidney_Cortex.KIRP</td>\n",
       "      <td>0.353525</td>\n",
       "    </tr>\n",
       "    <tr>\n",
       "      <th>43</th>\n",
       "      <td>ENSG00000049245</td>\n",
       "      <td>0.172823</td>\n",
       "      <td>0.084241</td>\n",
       "      <td>G</td>\n",
       "      <td>A</td>\n",
       "      <td>Liver</td>\n",
       "      <td>4.210626e-02</td>\n",
       "      <td>0.148876</td>\n",
       "      <td>10001</td>\n",
       "      <td>1_7841330_G_A_b37</td>\n",
       "      <td>...</td>\n",
       "      <td>ADD</td>\n",
       "      <td>169</td>\n",
       "      <td>0.169693</td>\n",
       "      <td>0.186139</td>\n",
       "      <td>0.911651</td>\n",
       "      <td>0.363368</td>\n",
       "      <td>.</td>\n",
       "      <td>VAMP3</td>\n",
       "      <td>Liver.LIHC</td>\n",
       "      <td>0.037160</td>\n",
       "    </tr>\n",
       "    <tr>\n",
       "      <th>62</th>\n",
       "      <td>ENSG00000049245</td>\n",
       "      <td>0.106642</td>\n",
       "      <td>0.028678</td>\n",
       "      <td>G</td>\n",
       "      <td>A</td>\n",
       "      <td>Breast_Mammary_Tissue</td>\n",
       "      <td>2.428957e-04</td>\n",
       "      <td>0.133739</td>\n",
       "      <td>10001</td>\n",
       "      <td>1_7841330_G_A_b37</td>\n",
       "      <td>...</td>\n",
       "      <td>ADD</td>\n",
       "      <td>788</td>\n",
       "      <td>0.136816</td>\n",
       "      <td>0.074679</td>\n",
       "      <td>1.832070</td>\n",
       "      <td>0.067325</td>\n",
       "      <td>.</td>\n",
       "      <td>VAMP3</td>\n",
       "      <td>Breast_Mammary_Tissue.BRCA</td>\n",
       "      <td>-1.052165</td>\n",
       "    </tr>\n",
       "    <tr>\n",
       "      <th>200</th>\n",
       "      <td>ENSG00000049245</td>\n",
       "      <td>0.313503</td>\n",
       "      <td>0.047852</td>\n",
       "      <td>G</td>\n",
       "      <td>A</td>\n",
       "      <td>Prostate</td>\n",
       "      <td>9.748448e-10</td>\n",
       "      <td>0.154696</td>\n",
       "      <td>10001</td>\n",
       "      <td>1_7841330_G_A_b37</td>\n",
       "      <td>...</td>\n",
       "      <td>ADD</td>\n",
       "      <td>401</td>\n",
       "      <td>0.369310</td>\n",
       "      <td>0.101037</td>\n",
       "      <td>3.655200</td>\n",
       "      <td>0.000292</td>\n",
       "      <td>.</td>\n",
       "      <td>VAMP3</td>\n",
       "      <td>Prostate.PRAD</td>\n",
       "      <td>-1.166240</td>\n",
       "    </tr>\n",
       "    <tr>\n",
       "      <th>...</th>\n",
       "      <td>...</td>\n",
       "      <td>...</td>\n",
       "      <td>...</td>\n",
       "      <td>...</td>\n",
       "      <td>...</td>\n",
       "      <td>...</td>\n",
       "      <td>...</td>\n",
       "      <td>...</td>\n",
       "      <td>...</td>\n",
       "      <td>...</td>\n",
       "      <td>...</td>\n",
       "      <td>...</td>\n",
       "      <td>...</td>\n",
       "      <td>...</td>\n",
       "      <td>...</td>\n",
       "      <td>...</td>\n",
       "      <td>...</td>\n",
       "      <td>...</td>\n",
       "      <td>...</td>\n",
       "      <td>...</td>\n",
       "      <td>...</td>\n",
       "    </tr>\n",
       "    <tr>\n",
       "      <th>530243</th>\n",
       "      <td>ENSG00000160255</td>\n",
       "      <td>-0.191338</td>\n",
       "      <td>0.047046</td>\n",
       "      <td>T</td>\n",
       "      <td>C</td>\n",
       "      <td>Skin_Not_Sun_Exposed_Suprapubic</td>\n",
       "      <td>5.851649e-05</td>\n",
       "      <td>0.179070</td>\n",
       "      <td>-23805</td>\n",
       "      <td>21_46328099_T_C_b37</td>\n",
       "      <td>...</td>\n",
       "      <td>ADD</td>\n",
       "      <td>92</td>\n",
       "      <td>0.583658</td>\n",
       "      <td>0.213314</td>\n",
       "      <td>2.736150</td>\n",
       "      <td>0.007694</td>\n",
       "      <td>.</td>\n",
       "      <td>ITGB2</td>\n",
       "      <td>Skin_Not_Sun_Exposed_Suprapubic.SKCM</td>\n",
       "      <td>-16.473330</td>\n",
       "    </tr>\n",
       "    <tr>\n",
       "      <th>530258</th>\n",
       "      <td>ENSG00000160255</td>\n",
       "      <td>-0.185616</td>\n",
       "      <td>0.079188</td>\n",
       "      <td>T</td>\n",
       "      <td>C</td>\n",
       "      <td>Minor_Salivary_Gland</td>\n",
       "      <td>2.130567e-02</td>\n",
       "      <td>0.140351</td>\n",
       "      <td>-23805</td>\n",
       "      <td>21_46328099_T_C_b37</td>\n",
       "      <td>...</td>\n",
       "      <td>ADD</td>\n",
       "      <td>413</td>\n",
       "      <td>0.298984</td>\n",
       "      <td>0.090213</td>\n",
       "      <td>3.314190</td>\n",
       "      <td>0.001003</td>\n",
       "      <td>.</td>\n",
       "      <td>ITGB2</td>\n",
       "      <td>Minor_Salivary_Gland.HNSC</td>\n",
       "      <td>-6.119597</td>\n",
       "    </tr>\n",
       "    <tr>\n",
       "      <th>530435</th>\n",
       "      <td>ENSG00000160255</td>\n",
       "      <td>-0.227993</td>\n",
       "      <td>0.057100</td>\n",
       "      <td>T</td>\n",
       "      <td>C</td>\n",
       "      <td>Small_Intestine_Terminal_Ileum</td>\n",
       "      <td>1.148694e-04</td>\n",
       "      <td>0.159575</td>\n",
       "      <td>-23805</td>\n",
       "      <td>21_46328099_T_C_b37</td>\n",
       "      <td>...</td>\n",
       "      <td>ADD</td>\n",
       "      <td>339</td>\n",
       "      <td>0.225631</td>\n",
       "      <td>0.101653</td>\n",
       "      <td>2.219620</td>\n",
       "      <td>0.027135</td>\n",
       "      <td>.</td>\n",
       "      <td>ITGB2</td>\n",
       "      <td>Small_Intestine_Terminal_Ileum.COAD</td>\n",
       "      <td>-7.944427</td>\n",
       "    </tr>\n",
       "    <tr>\n",
       "      <th>530485</th>\n",
       "      <td>ENSG00000160255</td>\n",
       "      <td>-0.100479</td>\n",
       "      <td>0.051243</td>\n",
       "      <td>T</td>\n",
       "      <td>C</td>\n",
       "      <td>Testis</td>\n",
       "      <td>5.117121e-02</td>\n",
       "      <td>0.172794</td>\n",
       "      <td>-23805</td>\n",
       "      <td>21_46328099_T_C_b37</td>\n",
       "      <td>...</td>\n",
       "      <td>ADD</td>\n",
       "      <td>108</td>\n",
       "      <td>0.029083</td>\n",
       "      <td>0.190163</td>\n",
       "      <td>0.152937</td>\n",
       "      <td>0.878772</td>\n",
       "      <td>.</td>\n",
       "      <td>ITGB2</td>\n",
       "      <td>Testis.TGCT</td>\n",
       "      <td>-2.528396</td>\n",
       "    </tr>\n",
       "    <tr>\n",
       "      <th>530508</th>\n",
       "      <td>ENSG00000160255</td>\n",
       "      <td>-0.138218</td>\n",
       "      <td>0.036817</td>\n",
       "      <td>T</td>\n",
       "      <td>C</td>\n",
       "      <td>Pancreas</td>\n",
       "      <td>2.270420e-04</td>\n",
       "      <td>0.160494</td>\n",
       "      <td>-23805</td>\n",
       "      <td>21_46328099_T_C_b37</td>\n",
       "      <td>...</td>\n",
       "      <td>ADD</td>\n",
       "      <td>148</td>\n",
       "      <td>0.127147</td>\n",
       "      <td>0.165593</td>\n",
       "      <td>0.767827</td>\n",
       "      <td>0.443941</td>\n",
       "      <td>.</td>\n",
       "      <td>ITGB2</td>\n",
       "      <td>Pancreas.PAAD</td>\n",
       "      <td>-7.207687</td>\n",
       "    </tr>\n",
       "  </tbody>\n",
       "</table>\n",
       "<p>7276 rows × 49 columns</p>\n",
       "</div>"
      ],
      "text/plain": [
       "                gene_id  gtex slope  gtex slope_se ref alt  \\\n",
       "10      ENSG00000049245    0.230936       0.103450   G   A   \n",
       "11      ENSG00000049245    0.230936       0.103450   G   A   \n",
       "43      ENSG00000049245    0.172823       0.084241   G   A   \n",
       "62      ENSG00000049245    0.106642       0.028678   G   A   \n",
       "200     ENSG00000049245    0.313503       0.047852   G   A   \n",
       "...                 ...         ...            ...  ..  ..   \n",
       "530243  ENSG00000160255   -0.191338       0.047046   T   C   \n",
       "530258  ENSG00000160255   -0.185616       0.079188   T   C   \n",
       "530435  ENSG00000160255   -0.227993       0.057100   T   C   \n",
       "530485  ENSG00000160255   -0.100479       0.051243   T   C   \n",
       "530508  ENSG00000160255   -0.138218       0.036817   T   C   \n",
       "\n",
       "                         gtex cell_type          pval  gtex maf  tss_distance  \\\n",
       "10                        Kidney_Cortex  3.061431e-02  0.176923         10001   \n",
       "11                        Kidney_Cortex  3.061431e-02  0.176923         10001   \n",
       "43                                Liver  4.210626e-02  0.148876         10001   \n",
       "62                Breast_Mammary_Tissue  2.428957e-04  0.133739         10001   \n",
       "200                            Prostate  9.748448e-10  0.154696         10001   \n",
       "...                                 ...           ...       ...           ...   \n",
       "530243  Skin_Not_Sun_Exposed_Suprapubic  5.851649e-05  0.179070        -23805   \n",
       "530258             Minor_Salivary_Gland  2.130567e-02  0.140351        -23805   \n",
       "530435   Small_Intestine_Terminal_Ileum  1.148694e-04  0.159575        -23805   \n",
       "530485                           Testis  5.117121e-02  0.172794        -23805   \n",
       "530508                         Pancreas  2.270420e-04  0.160494        -23805   \n",
       "\n",
       "                 variant id  ... TEST OBS_CT      BETA        SE    T_STAT  \\\n",
       "10        1_7841330_G_A_b37  ...  ADD    418  0.182127  0.111590  1.632110   \n",
       "11        1_7841330_G_A_b37  ...  ADD    204  0.194364  0.156992  1.238050   \n",
       "43        1_7841330_G_A_b37  ...  ADD    169  0.169693  0.186139  0.911651   \n",
       "62        1_7841330_G_A_b37  ...  ADD    788  0.136816  0.074679  1.832070   \n",
       "200       1_7841330_G_A_b37  ...  ADD    401  0.369310  0.101037  3.655200   \n",
       "...                     ...  ...  ...    ...       ...       ...       ...   \n",
       "530243  21_46328099_T_C_b37  ...  ADD     92  0.583658  0.213314  2.736150   \n",
       "530258  21_46328099_T_C_b37  ...  ADD    413  0.298984  0.090213  3.314190   \n",
       "530435  21_46328099_T_C_b37  ...  ADD    339  0.225631  0.101653  2.219620   \n",
       "530485  21_46328099_T_C_b37  ...  ADD    108  0.029083  0.190163  0.152937   \n",
       "530508  21_46328099_T_C_b37  ...  ADD    148  0.127147  0.165593  0.767827   \n",
       "\n",
       "               P ERRCODE  pheno                                 combo  \\\n",
       "10      0.103436       .  VAMP3                    Kidney_Cortex.KIRC   \n",
       "11      0.217225       .  VAMP3                    Kidney_Cortex.KIRP   \n",
       "43      0.363368       .  VAMP3                            Liver.LIHC   \n",
       "62      0.067325       .  VAMP3            Breast_Mammary_Tissue.BRCA   \n",
       "200     0.000292       .  VAMP3                         Prostate.PRAD   \n",
       "...          ...     ...    ...                                   ...   \n",
       "530243  0.007694       .  ITGB2  Skin_Not_Sun_Exposed_Suprapubic.SKCM   \n",
       "530258  0.001003       .  ITGB2             Minor_Salivary_Gland.HNSC   \n",
       "530435  0.027135       .  ITGB2   Small_Intestine_Terminal_Ileum.COAD   \n",
       "530485  0.878772       .  ITGB2                           Testis.TGCT   \n",
       "530508  0.443941       .  ITGB2                         Pancreas.PAAD   \n",
       "\n",
       "          z_score  \n",
       "10       0.471814  \n",
       "11       0.353525  \n",
       "43       0.037160  \n",
       "62      -1.052165  \n",
       "200     -1.166240  \n",
       "...           ...  \n",
       "530243 -16.473330  \n",
       "530258  -6.119597  \n",
       "530435  -7.944427  \n",
       "530485  -2.528396  \n",
       "530508  -7.207687  \n",
       "\n",
       "[7276 rows x 49 columns]"
      ]
     },
     "execution_count": 130,
     "metadata": {},
     "output_type": "execute_result"
    }
   ],
   "source": [
    "compare_beta"
   ]
  },
  {
   "cell_type": "code",
   "execution_count": 131,
   "metadata": {},
   "outputs": [
    {
     "data": {
      "text/plain": [
       "Index(['Unnamed: 0', 'Unnamed: 0.1', 'gene_id', 'gtex slope', 'gtex slope_se',\n",
       "       'ref', 'alt', 'gtex cell_type', 'pval', 'gtex maf', 'tss_distance',\n",
       "       'variant id', 'variable', 'snps', 'gtex file', 'file', 'category',\n",
       "       'maf', 'variant', 'rsid', 'tpm beta', 'tpm SE', 'tpm P', 'REF_x',\n",
       "       'ALT_x', 'firebrowse beta', 'firebrowse SE', 'firebrowse P',\n",
       "       'pancan beta', 'pancan SE', 'pancan P', 'p-value', 'cis tss', 'assoc',\n",
       "       'number', 'file_name', 'POS', 'ID', 'REF_y', 'ALT_y', 'A1', 'TEST',\n",
       "       'OBS_CT', 'BETA', 'SE', 'T_STAT', 'P', 'ERRCODE', 'pheno', 'combo',\n",
       "       'z_score', 'bootstrap p', 'firebrowse_support', 'pancan_support',\n",
       "       'sum'],\n",
       "      dtype='object')"
      ]
     },
     "execution_count": 131,
     "metadata": {},
     "output_type": "execute_result"
    }
   ],
   "source": [
    "consensus_deviant.columns"
   ]
  },
  {
   "cell_type": "code",
   "execution_count": 132,
   "metadata": {},
   "outputs": [
    {
     "data": {
      "text/plain": [
       "86     COAD\n",
       "250    COAD\n",
       "269    COAD\n",
       "314    COAD\n",
       "316    COAD\n",
       "       ... \n",
       "314    TGCT\n",
       "190     LGG\n",
       "277     LGG\n",
       "289     LGG\n",
       "59      LGG\n",
       "Name: file_name, Length: 189, dtype: object"
      ]
     },
     "execution_count": 132,
     "metadata": {},
     "output_type": "execute_result"
    }
   ],
   "source": [
    "consensus_deviant[\"file_name\"]"
   ]
  },
  {
   "cell_type": "code",
   "execution_count": 133,
   "metadata": {},
   "outputs": [
    {
     "data": {
      "text/plain": [
       "27     SKCM\n",
       "210    SKCM\n",
       "317    SKCM\n",
       "318    SKCM\n",
       "27     KIRP\n",
       "       ... \n",
       "189    LIHC\n",
       "314    LIHC\n",
       "315    LIHC\n",
       "317    LIHC\n",
       "318    LIHC\n",
       "Name: file_name, Length: 192, dtype: object"
      ]
     },
     "execution_count": 133,
     "metadata": {},
     "output_type": "execute_result"
    }
   ],
   "source": [
    "consensus_immune[\"file_name\"]"
   ]
  },
  {
   "cell_type": "code",
   "execution_count": 134,
   "metadata": {},
   "outputs": [
    {
     "data": {
      "text/plain": [
       "Index(['gene_id', 'gtex slope', 'gtex slope_se', 'ref', 'alt',\n",
       "       'gtex cell_type', 'pval', 'gtex maf', 'tss_distance', 'variant id',\n",
       "       'variable', 'snps', 'gtex file', 'file', 'category', 'maf', 'variant',\n",
       "       'rsid', 'tpm beta', 'tpm SE', 'tpm P', 'REF_x', 'ALT_x',\n",
       "       'firebrowse beta', 'firebrowse SE', 'firebrowse P', 'pancan beta',\n",
       "       'pancan SE', 'pancan P', 'p-value', 'cis tss', 'assoc', 'number',\n",
       "       'file_name', 'POS', 'ID', 'REF_y', 'ALT_y', 'A1', 'TEST', 'OBS_CT',\n",
       "       'BETA', 'SE', 'T_STAT', 'P', 'ERRCODE', 'pheno', 'combo', 'z_score'],\n",
       "      dtype='object')"
      ]
     },
     "execution_count": 134,
     "metadata": {},
     "output_type": "execute_result"
    }
   ],
   "source": [
    "compare_beta.columns"
   ]
  },
  {
   "cell_type": "code",
   "execution_count": 135,
   "metadata": {},
   "outputs": [
    {
     "data": {
      "text/plain": [
       "10        KIRC\n",
       "11        KIRP\n",
       "43        LIHC\n",
       "62        BRCA\n",
       "200       PRAD\n",
       "          ... \n",
       "530243    SKCM\n",
       "530258    HNSC\n",
       "530435    COAD\n",
       "530485    TGCT\n",
       "530508    PAAD\n",
       "Name: file_name, Length: 7276, dtype: object"
      ]
     },
     "execution_count": 135,
     "metadata": {},
     "output_type": "execute_result"
    }
   ],
   "source": [
    "compare_beta[\"file_name\"]"
   ]
  },
  {
   "cell_type": "code",
   "execution_count": 136,
   "metadata": {},
   "outputs": [
    {
     "name": "stdout",
     "output_type": "stream",
     "text": [
      "KIRC\n",
      "13\n",
      "KIRP\n",
      "10\n",
      "LIHC\n",
      "5\n",
      "BRCA\n",
      "22\n",
      "PRAD\n",
      "17\n",
      "LUAD\n",
      "16\n",
      "LUSC\n",
      "13\n",
      "LGG\n",
      "8\n",
      "UCEC\n",
      "8\n",
      "STAD\n",
      "6\n",
      "OV\n",
      "7\n",
      "ESCA\n",
      "2\n",
      "GBM\n",
      "8\n"
     ]
    },
    {
     "name": "stderr",
     "output_type": "stream",
     "text": [
      "/nrnb/opt/anaconda3.7/lib/python3.7/site-packages/ipykernel_launcher.py:11: SettingWithCopyWarning: \n",
      "A value is trying to be set on a copy of a slice from a DataFrame.\n",
      "Try using .loc[row_indexer,col_indexer] = value instead\n",
      "\n",
      "See the caveats in the documentation: https://pandas.pydata.org/pandas-docs/stable/user_guide/indexing.html#returning-a-view-versus-a-copy\n",
      "  # This is added back by InteractiveShellApp.init_path()\n",
      "/nrnb/opt/anaconda3.7/lib/python3.7/site-packages/ipykernel_launcher.py:12: SettingWithCopyWarning: \n",
      "A value is trying to be set on a copy of a slice from a DataFrame.\n",
      "Try using .loc[row_indexer,col_indexer] = value instead\n",
      "\n",
      "See the caveats in the documentation: https://pandas.pydata.org/pandas-docs/stable/user_guide/indexing.html#returning-a-view-versus-a-copy\n",
      "  if sys.path[0] == '':\n"
     ]
    },
    {
     "name": "stdout",
     "output_type": "stream",
     "text": [
      "ACC\n",
      "3\n",
      "THCA\n",
      "16\n",
      "SKCM\n",
      "4\n",
      "HNSC\n",
      "11\n",
      "COAD\n",
      "11\n",
      "TGCT\n",
      "4\n",
      "PAAD\n",
      "6\n"
     ]
    }
   ],
   "source": [
    "compare_beta_annot=pd.DataFrame()\n",
    "\n",
    "for x in compare_beta[\"file_name\"].unique():\n",
    "    print(x)\n",
    "    \n",
    "    df=compare_beta[compare_beta[\"file_name\"]==x]\n",
    "    \n",
    "    deviant=consensus_deviant[consensus_deviant[\"file_name\"]==x][\"assoc\"].tolist()\n",
    "    immune=consensus_immune[consensus_immune[\"file_name\"]==x][\"assoc\"].tolist()\n",
    "    print(len(immune))\n",
    "    df[\"deviant\"]=np.where(df[\"assoc\"].isin(deviant),\"deviant\",\"not deviant\")\n",
    "    df[\"immune\"]=np.where(df[\"assoc\"].isin(immune),\"deviant\",\"not deviant\")\n",
    "    \n",
    "    compare_beta_annot=compare_beta_annot.append(df)"
   ]
  },
  {
   "cell_type": "code",
   "execution_count": 137,
   "metadata": {},
   "outputs": [
    {
     "data": {
      "text/html": [
       "<div>\n",
       "<style scoped>\n",
       "    .dataframe tbody tr th:only-of-type {\n",
       "        vertical-align: middle;\n",
       "    }\n",
       "\n",
       "    .dataframe tbody tr th {\n",
       "        vertical-align: top;\n",
       "    }\n",
       "\n",
       "    .dataframe thead th {\n",
       "        text-align: right;\n",
       "    }\n",
       "</style>\n",
       "<table border=\"1\" class=\"dataframe\">\n",
       "  <thead>\n",
       "    <tr style=\"text-align: right;\">\n",
       "      <th></th>\n",
       "      <th>gene_id</th>\n",
       "      <th>gtex slope</th>\n",
       "      <th>gtex slope_se</th>\n",
       "      <th>ref</th>\n",
       "      <th>alt</th>\n",
       "      <th>gtex cell_type</th>\n",
       "      <th>pval</th>\n",
       "      <th>gtex maf</th>\n",
       "      <th>tss_distance</th>\n",
       "      <th>variant id</th>\n",
       "      <th>...</th>\n",
       "      <th>BETA</th>\n",
       "      <th>SE</th>\n",
       "      <th>T_STAT</th>\n",
       "      <th>P</th>\n",
       "      <th>ERRCODE</th>\n",
       "      <th>pheno</th>\n",
       "      <th>combo</th>\n",
       "      <th>z_score</th>\n",
       "      <th>deviant</th>\n",
       "      <th>immune</th>\n",
       "    </tr>\n",
       "  </thead>\n",
       "  <tbody>\n",
       "    <tr>\n",
       "      <th>10</th>\n",
       "      <td>ENSG00000049245</td>\n",
       "      <td>0.230936</td>\n",
       "      <td>0.103450</td>\n",
       "      <td>G</td>\n",
       "      <td>A</td>\n",
       "      <td>Kidney_Cortex</td>\n",
       "      <td>0.030614</td>\n",
       "      <td>0.176923</td>\n",
       "      <td>10001</td>\n",
       "      <td>1_7841330_G_A_b37</td>\n",
       "      <td>...</td>\n",
       "      <td>0.182127</td>\n",
       "      <td>0.111590</td>\n",
       "      <td>1.632110</td>\n",
       "      <td>0.103436</td>\n",
       "      <td>.</td>\n",
       "      <td>VAMP3</td>\n",
       "      <td>Kidney_Cortex.KIRC</td>\n",
       "      <td>0.471814</td>\n",
       "      <td>not deviant</td>\n",
       "      <td>not deviant</td>\n",
       "    </tr>\n",
       "    <tr>\n",
       "      <th>1480</th>\n",
       "      <td>ENSG00000049245</td>\n",
       "      <td>-0.019597</td>\n",
       "      <td>0.081479</td>\n",
       "      <td>G</td>\n",
       "      <td>A</td>\n",
       "      <td>Kidney_Cortex</td>\n",
       "      <td>0.811024</td>\n",
       "      <td>0.423077</td>\n",
       "      <td>137685</td>\n",
       "      <td>1_7969014_G_A_b37</td>\n",
       "      <td>...</td>\n",
       "      <td>0.107017</td>\n",
       "      <td>0.074486</td>\n",
       "      <td>1.436750</td>\n",
       "      <td>0.151564</td>\n",
       "      <td>.</td>\n",
       "      <td>VAMP3</td>\n",
       "      <td>Kidney_Cortex.KIRC</td>\n",
       "      <td>-1.553944</td>\n",
       "      <td>not deviant</td>\n",
       "      <td>not deviant</td>\n",
       "    </tr>\n",
       "    <tr>\n",
       "      <th>2950</th>\n",
       "      <td>ENSG00000049245</td>\n",
       "      <td>-0.148097</td>\n",
       "      <td>0.113199</td>\n",
       "      <td>G</td>\n",
       "      <td>A</td>\n",
       "      <td>Kidney_Cortex</td>\n",
       "      <td>0.197416</td>\n",
       "      <td>0.146154</td>\n",
       "      <td>151487</td>\n",
       "      <td>1_7982816_G_A_b37</td>\n",
       "      <td>...</td>\n",
       "      <td>-0.216385</td>\n",
       "      <td>0.098083</td>\n",
       "      <td>-2.206160</td>\n",
       "      <td>0.027935</td>\n",
       "      <td>.</td>\n",
       "      <td>VAMP3</td>\n",
       "      <td>Kidney_Cortex.KIRC</td>\n",
       "      <td>0.603257</td>\n",
       "      <td>not deviant</td>\n",
       "      <td>not deviant</td>\n",
       "    </tr>\n",
       "    <tr>\n",
       "      <th>4420</th>\n",
       "      <td>ENSG00000137959</td>\n",
       "      <td>-0.006413</td>\n",
       "      <td>0.169628</td>\n",
       "      <td>A</td>\n",
       "      <td>T</td>\n",
       "      <td>Kidney_Cortex</td>\n",
       "      <td>0.970011</td>\n",
       "      <td>0.330769</td>\n",
       "      <td>15155</td>\n",
       "      <td>1_79100762_A_T_b37</td>\n",
       "      <td>...</td>\n",
       "      <td>-0.155153</td>\n",
       "      <td>0.075917</td>\n",
       "      <td>-2.043720</td>\n",
       "      <td>0.041629</td>\n",
       "      <td>.</td>\n",
       "      <td>IFI44L</td>\n",
       "      <td>Kidney_Cortex.KIRC</td>\n",
       "      <td>0.876860</td>\n",
       "      <td>not deviant</td>\n",
       "      <td>not deviant</td>\n",
       "    </tr>\n",
       "    <tr>\n",
       "      <th>5890</th>\n",
       "      <td>ENSG00000137944</td>\n",
       "      <td>-0.031803</td>\n",
       "      <td>0.106281</td>\n",
       "      <td>A</td>\n",
       "      <td>C</td>\n",
       "      <td>Kidney_Cortex</td>\n",
       "      <td>0.766136</td>\n",
       "      <td>0.338462</td>\n",
       "      <td>-828402</td>\n",
       "      <td>1_88625636_A_C_b37</td>\n",
       "      <td>...</td>\n",
       "      <td>0.031394</td>\n",
       "      <td>0.071461</td>\n",
       "      <td>0.439318</td>\n",
       "      <td>0.660666</td>\n",
       "      <td>.</td>\n",
       "      <td>CCBL2</td>\n",
       "      <td>Kidney_Cortex.KIRC</td>\n",
       "      <td>-0.594625</td>\n",
       "      <td>not deviant</td>\n",
       "      <td>not deviant</td>\n",
       "    </tr>\n",
       "  </tbody>\n",
       "</table>\n",
       "<p>5 rows × 51 columns</p>\n",
       "</div>"
      ],
      "text/plain": [
       "              gene_id  gtex slope  gtex slope_se ref alt gtex cell_type  \\\n",
       "10    ENSG00000049245    0.230936       0.103450   G   A  Kidney_Cortex   \n",
       "1480  ENSG00000049245   -0.019597       0.081479   G   A  Kidney_Cortex   \n",
       "2950  ENSG00000049245   -0.148097       0.113199   G   A  Kidney_Cortex   \n",
       "4420  ENSG00000137959   -0.006413       0.169628   A   T  Kidney_Cortex   \n",
       "5890  ENSG00000137944   -0.031803       0.106281   A   C  Kidney_Cortex   \n",
       "\n",
       "          pval  gtex maf  tss_distance          variant id  ...      BETA  \\\n",
       "10    0.030614  0.176923         10001   1_7841330_G_A_b37  ...  0.182127   \n",
       "1480  0.811024  0.423077        137685   1_7969014_G_A_b37  ...  0.107017   \n",
       "2950  0.197416  0.146154        151487   1_7982816_G_A_b37  ... -0.216385   \n",
       "4420  0.970011  0.330769         15155  1_79100762_A_T_b37  ... -0.155153   \n",
       "5890  0.766136  0.338462       -828402  1_88625636_A_C_b37  ...  0.031394   \n",
       "\n",
       "            SE    T_STAT         P ERRCODE   pheno               combo  \\\n",
       "10    0.111590  1.632110  0.103436       .   VAMP3  Kidney_Cortex.KIRC   \n",
       "1480  0.074486  1.436750  0.151564       .   VAMP3  Kidney_Cortex.KIRC   \n",
       "2950  0.098083 -2.206160  0.027935       .   VAMP3  Kidney_Cortex.KIRC   \n",
       "4420  0.075917 -2.043720  0.041629       .  IFI44L  Kidney_Cortex.KIRC   \n",
       "5890  0.071461  0.439318  0.660666       .   CCBL2  Kidney_Cortex.KIRC   \n",
       "\n",
       "       z_score      deviant       immune  \n",
       "10    0.471814  not deviant  not deviant  \n",
       "1480 -1.553944  not deviant  not deviant  \n",
       "2950  0.603257  not deviant  not deviant  \n",
       "4420  0.876860  not deviant  not deviant  \n",
       "5890 -0.594625  not deviant  not deviant  \n",
       "\n",
       "[5 rows x 51 columns]"
      ]
     },
     "execution_count": 137,
     "metadata": {},
     "output_type": "execute_result"
    }
   ],
   "source": [
    "compare_beta_annot.head()"
   ]
  },
  {
   "cell_type": "code",
   "execution_count": 138,
   "metadata": {},
   "outputs": [
    {
     "data": {
      "text/plain": [
       "not deviant    101\n",
       "deviant         30\n",
       "Name: immune, dtype: int64"
      ]
     },
     "execution_count": 138,
     "metadata": {},
     "output_type": "execute_result"
    }
   ],
   "source": [
    "compare_beta_annot[compare_beta_annot[\"deviant\"]==\"deviant\"][\"immune\"].value_counts()"
   ]
  },
  {
   "cell_type": "code",
   "execution_count": 139,
   "metadata": {},
   "outputs": [
    {
     "data": {
      "image/png": "[encoded data removed]",
      "text/plain": [
       "<Figure size 720x360 with 1 Axes>"
      ]
     },
     "metadata": {
      "needs_background": "light"
     },
     "output_type": "display_data"
    }
   ],
   "source": [
    "plt.figure(figsize=(10,5)) \n",
    "ax = sns.swarmplot(x=\"combo\", y=\"z_score\",hue=\"deviant\",data=compare_beta_annot)\n",
    "plt.xticks(rotation=90)\n",
    "plt.savefig(\"gtex.swarmplot.pdf\")"
   ]
  },
  {
   "cell_type": "code",
   "execution_count": 140,
   "metadata": {},
   "outputs": [],
   "source": [
    "order=[item.get_text() for item in ax.get_xticklabels()]"
   ]
  },
  {
   "cell_type": "code",
   "execution_count": 141,
   "metadata": {
    "scrolled": true
   },
   "outputs": [],
   "source": [
    "deviant_counts=compare_beta_annot.groupby([\"combo\",\"deviant\"]).size().reset_index()"
   ]
  },
  {
   "cell_type": "code",
   "execution_count": 142,
   "metadata": {
    "scrolled": true
   },
   "outputs": [],
   "source": [
    "deviant_counts=deviant_counts[deviant_counts[\"deviant\"]==\"deviant\"]"
   ]
  },
  {
   "cell_type": "code",
   "execution_count": 143,
   "metadata": {},
   "outputs": [],
   "source": [
    "compare_beta_annot[\"cancer\"]=compare_beta_annot[\"combo\"].str.split(\".\").str[1]"
   ]
  },
  {
   "cell_type": "code",
   "execution_count": 144,
   "metadata": {},
   "outputs": [],
   "source": [
    "nml_cancer=pd.read_csv(\"/cellar/users/mpagadal/Data/projects/germline-immune/snp-tables/tcga-normal-cancer-type-beta-se.tsv\",delimiter=\"\\t\")"
   ]
  },
  {
   "cell_type": "code",
   "execution_count": 145,
   "metadata": {},
   "outputs": [],
   "source": [
    "nml_cancer=nml_cancer.rename(columns={\"file_name\":\"cancer\"})"
   ]
  },
  {
   "cell_type": "code",
   "execution_count": 146,
   "metadata": {},
   "outputs": [],
   "source": [
    "compare_beta_annot=pd.merge(compare_beta_annot,nml_cancer[[\"cancer\",\"assoc\",\"BETA\",\"SE\"]],on=[\"cancer\",\"assoc\"],how=\"left\")"
   ]
  },
  {
   "cell_type": "code",
   "execution_count": 147,
   "metadata": {},
   "outputs": [],
   "source": [
    "compare_beta_annot[\"nml z\"]=(compare_beta_annot[\"BETA_y\"]-compare_beta_annot[\"gtex slope\"])/compare_beta_annot[\"gtex slope_se\"]"
   ]
  },
  {
   "cell_type": "code",
   "execution_count": 148,
   "metadata": {},
   "outputs": [],
   "source": [
    "compare_beta_annot[\"normal support\"]=np.where(abs(compare_beta_annot[\"nml z\"])<abs(compare_beta_annot[\"z_score\"]),\"normal\",\"other\")"
   ]
  },
  {
   "cell_type": "code",
   "execution_count": 149,
   "metadata": {},
   "outputs": [],
   "source": [
    "deviant_counts=compare_beta_annot.groupby([\"combo\",\"deviant\",\"normal support\"]).size().reset_index()"
   ]
  },
  {
   "cell_type": "code",
   "execution_count": 150,
   "metadata": {},
   "outputs": [],
   "source": [
    "deviant_counts=deviant_counts[deviant_counts[\"deviant\"]==\"deviant\"]"
   ]
  },
  {
   "cell_type": "code",
   "execution_count": 151,
   "metadata": {
    "scrolled": true
   },
   "outputs": [],
   "source": [
    "index=[]\n",
    "nml_support=[]\n",
    "no_support=[]\n",
    "\n",
    "for x in order:\n",
    "    index.append(x)\n",
    "    try:\n",
    "        num=deviant_counts[(deviant_counts[\"combo\"]==x)&(deviant_counts[\"normal support\"]==\"other\")][0].values[0] \n",
    "        no_support.append(num)\n",
    "    except:\n",
    "        no_support.append(0)\n",
    "    \n",
    "    try:\n",
    "        num=deviant_counts[(deviant_counts[\"combo\"]==x)&(deviant_counts[\"normal support\"]==\"normal\")][0].values[0]\n",
    "        nml_support.append(num)\n",
    "    except:\n",
    "        nml_support.append(0)\n"
   ]
  },
  {
   "cell_type": "code",
   "execution_count": 152,
   "metadata": {},
   "outputs": [
    {
     "data": {
      "text/plain": [
       "array(['BLCA', 'BRCA', 'COAD', 'HNSC', 'KIRC', 'KIRP', 'LIHC', 'LUAD',\n",
       "       'LUSC', 'PRAD', 'STAD', 'THCA', 'UCEC'], dtype=object)"
      ]
     },
     "execution_count": 152,
     "metadata": {},
     "output_type": "execute_result"
    }
   ],
   "source": [
    "nml_cancer[\"cancer\"].unique()"
   ]
  },
  {
   "cell_type": "code",
   "execution_count": 153,
   "metadata": {},
   "outputs": [
    {
     "data": {
      "text/plain": [
       "['Kidney_Cortex.KIRC',\n",
       " 'Kidney_Cortex.KIRP',\n",
       " 'Liver.LIHC',\n",
       " 'Breast_Mammary_Tissue.BRCA',\n",
       " 'Prostate.PRAD',\n",
       " 'Lung.LUAD',\n",
       " 'Lung.LUSC',\n",
       " 'Brain_Caudate_basal_ganglia.LGG',\n",
       " 'Uterus.UCEC',\n",
       " 'Stomach.STAD',\n",
       " 'Ovary.OV',\n",
       " 'Esophagus_Muscularis.ESCA',\n",
       " 'Brain_Anterior_cingulate_cortex_BA24.GBM',\n",
       " 'Adrenal_Gland.ACC',\n",
       " 'Thyroid.THCA',\n",
       " 'Skin_Not_Sun_Exposed_Suprapubic.SKCM',\n",
       " 'Minor_Salivary_Gland.HNSC',\n",
       " 'Small_Intestine_Terminal_Ileum.COAD',\n",
       " 'Testis.TGCT',\n",
       " 'Pancreas.PAAD']"
      ]
     },
     "execution_count": 153,
     "metadata": {},
     "output_type": "execute_result"
    }
   ],
   "source": [
    "order"
   ]
  },
  {
   "cell_type": "code",
   "execution_count": 154,
   "metadata": {},
   "outputs": [
    {
     "data": {
      "image/png": "[encoded data removed]",
      "text/plain": [
       "<Figure size 720x144 with 1 Axes>"
      ]
     },
     "metadata": {
      "needs_background": "light"
     },
     "output_type": "display_data"
    }
   ],
   "source": [
    "plt.figure(figsize=(10,2)) \n",
    "p1 = plt.bar(index, nml_support,label=\"normal support\")\n",
    "p2 = plt.bar(index, no_support, bottom=nml_support,label=\"no support\")\n",
    "plt.legend()\n",
    "plt.savefig(\"gtex.bar.swarmplot.pdf\")"
   ]
  },
  {
   "cell_type": "markdown",
   "metadata": {},
   "source": [
    "## Plot Venn diagram of deviant snps"
   ]
  },
  {
   "cell_type": "code",
   "execution_count": 155,
   "metadata": {},
   "outputs": [],
   "source": [
    "deviant_lst=compare_beta_annot[compare_beta_annot[\"deviant\"]==\"deviant\"]\n",
    "nml_lst=compare_beta_annot[(compare_beta_annot[\"deviant\"]==\"deviant\")&(compare_beta_annot[\"normal support\"]==\"normal\")]\n",
    "immune_lst=compare_beta_annot[(compare_beta_annot[\"deviant\"]==\"deviant\")&(compare_beta_annot[\"immune\"]==\"not deviant\")]\n",
    "                                                                       \n",
    "                                                                       "
   ]
  },
  {
   "cell_type": "code",
   "execution_count": 156,
   "metadata": {},
   "outputs": [
    {
     "name": "stderr",
     "output_type": "stream",
     "text": [
      "/cellar/users/mpagadal/.local/lib/python3.7/site-packages/matplotlib_venn/_venn3.py:117: UserWarning: Bad circle positioning\n",
      "  warnings.warn(\"Bad circle positioning\")\n"
     ]
    },
    {
     "data": {
      "image/png": "[encoded data removed]",
      "text/plain": [
       "<Figure size 432x288 with 1 Axes>"
      ]
     },
     "metadata": {},
     "output_type": "display_data"
    }
   ],
   "source": [
    "venn3([set(deviant_lst[\"assoc\"].tolist()),set(nml_lst[\"assoc\"].tolist()),set(immune_lst[\"assoc\"].tolist())],\n",
    "      set_labels=(\"deviant\",\"normal support\",\"gtex whole blood\"), set_colors=[\"blue\",\"purple\",\"green\"])\n",
    "plt.savefig(\"gtex.deviant.pie.pdf\")"
   ]
  }
 ],
 "metadata": {
  "kernelspec": {
   "display_name": "Python 3",
   "language": "python",
   "name": "python3"
  },
  "language_info": {
   "codemirror_mode": {
    "name": "ipython",
    "version": 3
   },
   "file_extension": ".py",
   "mimetype": "text/x-python",
   "name": "python",
   "nbconvert_exporter": "python",
   "pygments_lexer": "ipython3",
   "version": "3.7.7"
  }
 },
 "nbformat": 4,
 "nbformat_minor": 2
}
