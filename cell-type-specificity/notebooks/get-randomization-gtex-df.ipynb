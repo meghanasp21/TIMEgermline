{
 "cells": [
  {
   "cell_type": "code",
   "execution_count": 1,
   "metadata": {},
   "outputs": [],
   "source": [
    "import pandas as pd\n",
    "import os\n",
    "from matplotlib import pyplot as plt\n",
    "import numpy as np\n",
    "import seaborn as sns\n",
    "import matplotlib as mpl\n",
    "from matplotlib.pyplot import cm"
   ]
  },
  {
   "cell_type": "code",
   "execution_count": 2,
   "metadata": {},
   "outputs": [
    {
     "name": "stdout",
     "output_type": "stream",
     "text": [
      "['/data/cellardata/users/mpagadal/projects/germline-immune/cell-type-specificity/notebooks', '/nrnb/opt/anaconda3.7/lib/python37.zip', '/nrnb/opt/anaconda3.7/lib/python3.7', '/nrnb/opt/anaconda3.7/lib/python3.7/lib-dynload', '', '/cellar/users/mpagadal/.local/lib/python3.7/site-packages', '/nrnb/opt/anaconda3.7/lib/python3.7/site-packages', '/nrnb/opt/anaconda3.7/lib/python3.7/site-packages/IPython/extensions', '/cellar/users/mpagadal/.ipython']\n"
     ]
    }
   ],
   "source": [
    "import sys\n",
    "print(sys.path) \n",
    "sys.path.append(\"/cellar/users/mpagadal/Programs/anaconda3/lib/python3.7/site-packages\")\n",
    "sys.path.insert(1, '/cellar/users/mpagadal/Data/gcta/scripts')"
   ]
  },
  {
   "cell_type": "code",
   "execution_count": 3,
   "metadata": {},
   "outputs": [],
   "source": [
    "import networkx as nx\n",
    "from ndex2.nice_cx_network import NiceCXNetwork \n",
    "import ndex2.client as nc\n",
    "import ndex2"
   ]
  },
  {
   "cell_type": "code",
   "execution_count": 4,
   "metadata": {},
   "outputs": [],
   "source": [
    "import matplotlib\n",
    "matplotlib.rcParams['pdf.fonttype'] = 42\n",
    "matplotlib.rcParams['ps.fonttype'] = 42"
   ]
  },
  {
   "cell_type": "code",
   "execution_count": 5,
   "metadata": {},
   "outputs": [],
   "source": [
    "import matplotlib.pyplot as plt\n",
    "from matplotlib_venn import venn2\n",
    "from matplotlib_venn import venn3"
   ]
  },
  {
   "cell_type": "code",
   "execution_count": 6,
   "metadata": {},
   "outputs": [],
   "source": [
    "import statsmodels.stats.multitest as multi\n",
    "from adjustText import adjust_text"
   ]
  },
  {
   "cell_type": "code",
   "execution_count": 7,
   "metadata": {},
   "outputs": [],
   "source": [
    "import numpy as np\n",
    "from sklearn.decomposition import PCA\n",
    "from sklearn.preprocessing import StandardScaler\n",
    "import json"
   ]
  },
  {
   "cell_type": "markdown",
   "metadata": {},
   "source": [
    "## Get GTEx summary statistics for immune microenvironment SNPs from all tissue types"
   ]
  },
  {
   "cell_type": "code",
   "execution_count": 8,
   "metadata": {},
   "outputs": [],
   "source": [
    "with open('/cellar/users/mpagadal/Data/resources/tcga/ensembl_map.json', 'r') as f:\n",
    "    ensembl_dict = json.load(f)"
   ]
  },
  {
   "cell_type": "code",
   "execution_count": 9,
   "metadata": {},
   "outputs": [],
   "source": [
    "ensembl_dict={k.split(\".\")[0]:v for k,v in ensembl_dict.items()}"
   ]
  },
  {
   "cell_type": "code",
   "execution_count": 10,
   "metadata": {},
   "outputs": [],
   "source": [
    "def compile_gtex(directory,file_name,mapping):\n",
    "    gtex_files=[x for x in os.listdir(directory)]\n",
    "    total_gtex=pd.DataFrame()\n",
    "\n",
    "    for x in gtex_files:\n",
    "        cis=pd.read_csv(directory+x)\n",
    "        cis[\"file\"]=x.split(file_name)[0]\n",
    "        total_gtex=total_gtex.append(cis)\n",
    "    \n",
    "    #format variant2 and gene\n",
    "    total_gtex[\"variant2\"]=total_gtex[\"variant_b37\"].str.split(\"_\").str[0]+\":\"+total_gtex[\"variant_b37\"].str.split(\"_\").str[1]+\":\"+total_gtex[\"variant_b37\"].str.split(\"_\").str[3]+\":\"+total_gtex[\"variant_b37\"].str.split(\"_\").str[2]\n",
    "    #get gene ids for mapping\n",
    "    total_gtex[\"gene_id\"]=total_gtex[\"phenotype_id\"].str.split(\".\").str[0]\n",
    "    \n",
    "    total_gtex[\"ref\"]=total_gtex[\"variant_id\"].str.split(\"_\").str[2]\n",
    "    total_gtex[\"alt\"]=total_gtex[\"variant_id\"].str.split(\"_\").str[3]\n",
    "    \n",
    "    total_gtex_melt=pd.melt(total_gtex, id_vars=([\"gene_id\",\"slope\",\"slope_se\",\"ref\",\"alt\",\"file\",\"pval_nominal\",\"maf\",\"tss_distance\",\"variant_b37\"]),value_vars=([\"variant\",\"variant2\"]))\n",
    "    \n",
    "    total_gtex_melt[\"gene_name\"]=total_gtex_melt[\"gene_id\"].map(mapping)\n",
    "    \n",
    "    total_gtex_melt[\"assoc\"]=total_gtex_melt[\"value\"]+\"_\"+total_gtex_melt[\"gene_name\"]\n",
    "    \n",
    "    return(total_gtex_melt)\n",
    "    "
   ]
  },
  {
   "cell_type": "code",
   "execution_count": 156,
   "metadata": {},
   "outputs": [],
   "source": [
    "gtex=compile_gtex(\"./rand_extracted_snps/\",\".snps.csv\",ensembl_dict)"
   ]
  },
  {
   "cell_type": "code",
   "execution_count": 157,
   "metadata": {},
   "outputs": [
    {
     "name": "stdout",
     "output_type": "stream",
     "text": [
      "(1579454, 14)\n"
     ]
    },
    {
     "data": {
      "text/html": [
       "<div>\n",
       "<style scoped>\n",
       "    .dataframe tbody tr th:only-of-type {\n",
       "        vertical-align: middle;\n",
       "    }\n",
       "\n",
       "    .dataframe tbody tr th {\n",
       "        vertical-align: top;\n",
       "    }\n",
       "\n",
       "    .dataframe thead th {\n",
       "        text-align: right;\n",
       "    }\n",
       "</style>\n",
       "<table border=\"1\" class=\"dataframe\">\n",
       "  <thead>\n",
       "    <tr style=\"text-align: right;\">\n",
       "      <th></th>\n",
       "      <th>gene_id</th>\n",
       "      <th>slope</th>\n",
       "      <th>slope_se</th>\n",
       "      <th>ref</th>\n",
       "      <th>alt</th>\n",
       "      <th>file</th>\n",
       "      <th>pval_nominal</th>\n",
       "      <th>maf</th>\n",
       "      <th>tss_distance</th>\n",
       "      <th>variant_b37</th>\n",
       "      <th>variable</th>\n",
       "      <th>value</th>\n",
       "      <th>gene_name</th>\n",
       "      <th>assoc</th>\n",
       "    </tr>\n",
       "  </thead>\n",
       "  <tbody>\n",
       "    <tr>\n",
       "      <th>0</th>\n",
       "      <td>ENSG00000227232</td>\n",
       "      <td>0.043485</td>\n",
       "      <td>0.181287</td>\n",
       "      <td>A</td>\n",
       "      <td>C</td>\n",
       "      <td>Brain_Anterior_cingulate_cortex_BA24</td>\n",
       "      <td>0.810879</td>\n",
       "      <td>0.111111</td>\n",
       "      <td>801074</td>\n",
       "      <td>1_766007_A_C_b37</td>\n",
       "      <td>variant</td>\n",
       "      <td>1:766007:A:C</td>\n",
       "      <td>WASH7P</td>\n",
       "      <td>1:766007:A:C_WASH7P</td>\n",
       "    </tr>\n",
       "    <tr>\n",
       "      <th>1</th>\n",
       "      <td>ENSG00000186092</td>\n",
       "      <td>0.317116</td>\n",
       "      <td>0.176977</td>\n",
       "      <td>A</td>\n",
       "      <td>C</td>\n",
       "      <td>Brain_Anterior_cingulate_cortex_BA24</td>\n",
       "      <td>0.075907</td>\n",
       "      <td>0.111111</td>\n",
       "      <td>761536</td>\n",
       "      <td>1_766007_A_C_b37</td>\n",
       "      <td>variant</td>\n",
       "      <td>1:766007:A:C</td>\n",
       "      <td>OR4F5</td>\n",
       "      <td>1:766007:A:C_OR4F5</td>\n",
       "    </tr>\n",
       "    <tr>\n",
       "      <th>2</th>\n",
       "      <td>ENSG00000268903</td>\n",
       "      <td>-0.041768</td>\n",
       "      <td>0.154676</td>\n",
       "      <td>A</td>\n",
       "      <td>C</td>\n",
       "      <td>Brain_Anterior_cingulate_cortex_BA24</td>\n",
       "      <td>0.787640</td>\n",
       "      <td>0.111111</td>\n",
       "      <td>694732</td>\n",
       "      <td>1_766007_A_C_b37</td>\n",
       "      <td>variant</td>\n",
       "      <td>1:766007:A:C</td>\n",
       "      <td>RP11-34P13.15</td>\n",
       "      <td>1:766007:A:C_RP11-34P13.15</td>\n",
       "    </tr>\n",
       "    <tr>\n",
       "      <th>3</th>\n",
       "      <td>ENSG00000269981</td>\n",
       "      <td>-0.139097</td>\n",
       "      <td>0.159692</td>\n",
       "      <td>A</td>\n",
       "      <td>C</td>\n",
       "      <td>Brain_Anterior_cingulate_cortex_BA24</td>\n",
       "      <td>0.385634</td>\n",
       "      <td>0.111111</td>\n",
       "      <td>692662</td>\n",
       "      <td>1_766007_A_C_b37</td>\n",
       "      <td>variant</td>\n",
       "      <td>1:766007:A:C</td>\n",
       "      <td>RP11-34P13.16</td>\n",
       "      <td>1:766007:A:C_RP11-34P13.16</td>\n",
       "    </tr>\n",
       "    <tr>\n",
       "      <th>4</th>\n",
       "      <td>ENSG00000241860</td>\n",
       "      <td>-0.146531</td>\n",
       "      <td>0.198277</td>\n",
       "      <td>A</td>\n",
       "      <td>C</td>\n",
       "      <td>Brain_Anterior_cingulate_cortex_BA24</td>\n",
       "      <td>0.461467</td>\n",
       "      <td>0.111111</td>\n",
       "      <td>656765</td>\n",
       "      <td>1_766007_A_C_b37</td>\n",
       "      <td>variant</td>\n",
       "      <td>1:766007:A:C</td>\n",
       "      <td>RP11-34P13.13</td>\n",
       "      <td>1:766007:A:C_RP11-34P13.13</td>\n",
       "    </tr>\n",
       "  </tbody>\n",
       "</table>\n",
       "</div>"
      ],
      "text/plain": [
       "           gene_id     slope  slope_se ref alt  \\\n",
       "0  ENSG00000227232  0.043485  0.181287   A   C   \n",
       "1  ENSG00000186092  0.317116  0.176977   A   C   \n",
       "2  ENSG00000268903 -0.041768  0.154676   A   C   \n",
       "3  ENSG00000269981 -0.139097  0.159692   A   C   \n",
       "4  ENSG00000241860 -0.146531  0.198277   A   C   \n",
       "\n",
       "                                   file  pval_nominal       maf  tss_distance  \\\n",
       "0  Brain_Anterior_cingulate_cortex_BA24      0.810879  0.111111        801074   \n",
       "1  Brain_Anterior_cingulate_cortex_BA24      0.075907  0.111111        761536   \n",
       "2  Brain_Anterior_cingulate_cortex_BA24      0.787640  0.111111        694732   \n",
       "3  Brain_Anterior_cingulate_cortex_BA24      0.385634  0.111111        692662   \n",
       "4  Brain_Anterior_cingulate_cortex_BA24      0.461467  0.111111        656765   \n",
       "\n",
       "        variant_b37 variable         value      gene_name  \\\n",
       "0  1_766007_A_C_b37  variant  1:766007:A:C         WASH7P   \n",
       "1  1_766007_A_C_b37  variant  1:766007:A:C          OR4F5   \n",
       "2  1_766007_A_C_b37  variant  1:766007:A:C  RP11-34P13.15   \n",
       "3  1_766007_A_C_b37  variant  1:766007:A:C  RP11-34P13.16   \n",
       "4  1_766007_A_C_b37  variant  1:766007:A:C  RP11-34P13.13   \n",
       "\n",
       "                        assoc  \n",
       "0         1:766007:A:C_WASH7P  \n",
       "1          1:766007:A:C_OR4F5  \n",
       "2  1:766007:A:C_RP11-34P13.15  \n",
       "3  1:766007:A:C_RP11-34P13.16  \n",
       "4  1:766007:A:C_RP11-34P13.13  "
      ]
     },
     "execution_count": 157,
     "metadata": {},
     "output_type": "execute_result"
    }
   ],
   "source": [
    "print(gtex.shape)\n",
    "gtex.head()"
   ]
  },
  {
   "cell_type": "markdown",
   "metadata": {},
   "source": [
    "## Combine gtex information with TCGA association information"
   ]
  },
  {
   "cell_type": "code",
   "execution_count": 220,
   "metadata": {},
   "outputs": [],
   "source": [
    "#get randomized genes\n",
    "snps=pd.read_csv(\"gtex_rand.csv\",delimiter=\"\\t\")\n",
    "snps[\"gene_name\"]=snps[\"gene_id\"].map(ensembl_dict)\n",
    "snps[\"assoc\"]=snps[\"variant\"]+\"_\"+snps[\"gene_name\"]"
   ]
  },
  {
   "cell_type": "code",
   "execution_count": 221,
   "metadata": {},
   "outputs": [],
   "source": [
    "snps_gtex=pd.merge(snps[[\"assoc\"]],gtex,on=\"assoc\",how=\"left\")"
   ]
  },
  {
   "cell_type": "code",
   "execution_count": 223,
   "metadata": {},
   "outputs": [],
   "source": [
    "snps_gtex[\"assoc\"]=snps_gtex[\"assoc\"].str.replace(\"-\",\".\")"
   ]
  },
  {
   "cell_type": "code",
   "execution_count": 224,
   "metadata": {},
   "outputs": [],
   "source": [
    "snps_gtex[\"assoc2\"]=snps_gtex[\"value\"].str.rsplit(\":\",2).str[0]+\":\"+snps_gtex[\"value\"].str.split(\":\").str[3]+\":\"+snps_gtex[\"value\"].str.split(\":\").str[2]+\"_\"+snps_gtex[\"gene_name\"]"
   ]
  },
  {
   "cell_type": "code",
   "execution_count": 225,
   "metadata": {},
   "outputs": [
    {
     "data": {
      "text/plain": [
       "Index(['assoc', 'gene_id', 'slope', 'slope_se', 'ref', 'alt', 'file',\n",
       "       'pval_nominal', 'maf', 'tss_distance', 'variant_b37', 'variable',\n",
       "       'value', 'gene_name', 'assoc2'],\n",
       "      dtype='object')"
      ]
     },
     "execution_count": 225,
     "metadata": {},
     "output_type": "execute_result"
    }
   ],
   "source": [
    "snps_gtex.columns"
   ]
  },
  {
   "cell_type": "code",
   "execution_count": 226,
   "metadata": {},
   "outputs": [],
   "source": [
    "snps_gtex=pd.melt(snps_gtex,id_vars=([\"variant_b37\",\"tss_distance\",\"slope\",\"slope_se\",\"ref\",\"alt\",\"file\"]),value_vars=([\"assoc\",\"assoc2\"]))"
   ]
  },
  {
   "cell_type": "code",
   "execution_count": 227,
   "metadata": {},
   "outputs": [],
   "source": [
    "del snps_gtex[\"variable\"]"
   ]
  },
  {
   "cell_type": "code",
   "execution_count": 228,
   "metadata": {},
   "outputs": [],
   "source": [
    "snps_gtex=snps_gtex.rename(columns={\"value\":\"assoc\"})"
   ]
  },
  {
   "cell_type": "code",
   "execution_count": 229,
   "metadata": {},
   "outputs": [
    {
     "data": {
      "text/plain": [
       "964"
      ]
     },
     "execution_count": 229,
     "metadata": {},
     "output_type": "execute_result"
    }
   ],
   "source": [
    "len(snps_gtex[\"assoc\"].unique())"
   ]
  },
  {
   "cell_type": "markdown",
   "metadata": {},
   "source": [
    "## Identify of GTEx snps that were found that are cis associations"
   ]
  },
  {
   "cell_type": "markdown",
   "metadata": {},
   "source": [
    "## See concordance between associations"
   ]
  },
  {
   "cell_type": "code",
   "execution_count": 230,
   "metadata": {},
   "outputs": [],
   "source": [
    "tpm_cancer=pd.read_csv(\"/cellar/users/mpagadal/Data/projects/germline-immune/snp-tables/brian.rand.gtex.tsv\",delimiter=\"\\t\")\n",
    "firebrowse_cancer=pd.read_csv(\"/cellar/users/mpagadal/Data/projects/germline-immune/snp-tables/firebrowse.rand.gtex.tsv\",delimiter=\"\\t\")\n",
    "pancanatlas_cancer=pd.read_csv(\"/cellar/users/mpagadal/Data/projects/germline-immune/snp-tables/pancanatlas.rand.gtex.tsv\",delimiter=\"\\t\")"
   ]
  },
  {
   "cell_type": "code",
   "execution_count": 231,
   "metadata": {},
   "outputs": [],
   "source": [
    "#get tissue mappings\n",
    "tissue_mapping=pd.read_csv(\"gtex.tcga.tissue.csv\")\n",
    "tissue_mapping[\"combo\"]=tissue_mapping[\"gtex tissues\"]+\".\"+tissue_mapping[\"TCGA\"]"
   ]
  },
  {
   "cell_type": "code",
   "execution_count": 232,
   "metadata": {},
   "outputs": [],
   "source": [
    "tissue_mapping[\"whole_blood combo\"]=\"Whole_Blood\"+\".\"+tissue_mapping[\"TCGA\"]"
   ]
  },
  {
   "cell_type": "code",
   "execution_count": 245,
   "metadata": {},
   "outputs": [],
   "source": [
    "def make_bootstrap(df,name,combos):\n",
    "    df[\"assoc\"]=df[\"ID\"]+\"_\"+df[\"pheno\"]\n",
    "    compare_beta=pd.merge(snps_gtex,df,on=\"assoc\")\n",
    "    \n",
    "    compare_beta[\"combo\"]=compare_beta[\"file\"]+\".\"+compare_beta[\"file_name\"]\n",
    "    \n",
    "    if combos == \"regular\":\n",
    "        compare_beta=compare_beta[compare_beta[\"combo\"].isin(tissue_mapping[\"combo\"].tolist())]\n",
    "    if combos == \"blood\":\n",
    "        compare_beta=compare_beta[compare_beta[\"combo\"].isin(tissue_mapping[\"whole_blood combo\"].tolist())]\n",
    "    \n",
    "    for x in compare_beta[\"combo\"].unique():\n",
    "        compare_beta_combo=compare_beta[compare_beta[\"combo\"]==x]\n",
    "        #reverse slope for cases of ref/alt mismatch\n",
    "        compare_beta_combo[\"slope\"]=np.where(compare_beta_combo[\"alt\"] != compare_beta_combo[\"ALT\"], (compare_beta_combo[\"slope\"]*-1),compare_beta_combo[\"slope\"])\n",
    "        print(x)\n",
    "        print(compare_beta_combo.shape)\n",
    "        compare_beta_combo[\"z\"]=(compare_beta_combo[\"BETA\"]-compare_beta_combo[\"slope\"])/compare_beta_combo[\"slope_se\"]\n",
    "        compare_beta_combo.to_csv(name+\".\"+x+\".csv\")\n",
    "    "
   ]
  },
  {
   "cell_type": "code",
   "execution_count": 250,
   "metadata": {
    "scrolled": true
   },
   "outputs": [
    {
     "name": "stderr",
     "output_type": "stream",
     "text": [
      "/nrnb/opt/anaconda3.7/lib/python3.7/site-packages/ipykernel_launcher.py:15: SettingWithCopyWarning: \n",
      "A value is trying to be set on a copy of a slice from a DataFrame.\n",
      "Try using .loc[row_indexer,col_indexer] = value instead\n",
      "\n",
      "See the caveats in the documentation: https://pandas.pydata.org/pandas-docs/stable/user_guide/indexing.html#returning-a-view-versus-a-copy\n",
      "  from ipykernel import kernelapp as app\n",
      "/nrnb/opt/anaconda3.7/lib/python3.7/site-packages/ipykernel_launcher.py:18: SettingWithCopyWarning: \n",
      "A value is trying to be set on a copy of a slice from a DataFrame.\n",
      "Try using .loc[row_indexer,col_indexer] = value instead\n",
      "\n",
      "See the caveats in the documentation: https://pandas.pydata.org/pandas-docs/stable/user_guide/indexing.html#returning-a-view-versus-a-copy\n"
     ]
    },
    {
     "name": "stdout",
     "output_type": "stream",
     "text": [
      "Brain_Anterior_cingulate_cortex_BA24.GBM\n",
      "(4620, 23)\n",
      "Brain_Anterior_cingulate_cortex_BA24.LGG\n",
      "(4620, 23)\n",
      "Testis.TGCT\n",
      "(4800, 23)\n",
      "Brain_Hippocampus.GBM\n",
      "(4630, 23)\n",
      "Brain_Hippocampus.LGG\n",
      "(4630, 23)\n",
      "Brain_Hypothalamus.GBM\n",
      "(4640, 23)\n",
      "Brain_Hypothalamus.LGG\n",
      "(4640, 23)\n",
      "Brain_Amygdala.GBM\n",
      "(4600, 23)\n",
      "Brain_Amygdala.LGG\n",
      "(4600, 23)\n",
      "Brain_Cerebellum.GBM\n",
      "(4670, 23)\n",
      "Brain_Cerebellum.LGG\n",
      "(4670, 23)\n",
      "Brain_Cortex.GBM\n",
      "(4650, 23)\n",
      "Brain_Cortex.LGG\n",
      "(4650, 23)\n",
      "Pituitary.GBM\n",
      "(4720, 23)\n",
      "Pituitary.LGG\n",
      "(4720, 23)\n",
      "Colon_Transverse.COAD\n",
      "(4680, 23)\n",
      "Esophagus_Muscularis.ESCA\n",
      "(4600, 23)\n",
      "Lung.LUAD\n",
      "(4690, 23)\n",
      "Lung.LUSC\n",
      "(4690, 23)\n",
      "Adrenal_Gland.ACC\n",
      "(4550, 23)\n",
      "Stomach.STAD\n",
      "(4640, 23)\n",
      "Brain_Putamen_basal_ganglia.GBM\n",
      "(4550, 23)\n",
      "Brain_Putamen_basal_ganglia.LGG\n",
      "(4550, 23)\n",
      "Skin_Sun_Exposed_Lower_leg.SKCM\n",
      "(4640, 23)\n",
      "Prostate.PRAD\n",
      "(4740, 23)\n",
      "Minor_Salivary_Gland.HNSC\n",
      "(4660, 23)\n",
      "Brain_Nucleus_accumbens_basal_ganglia.GBM\n",
      "(4580, 23)\n",
      "Brain_Nucleus_accumbens_basal_ganglia.LGG\n",
      "(4580, 23)\n",
      "Esophagus_Mucosa.ESCA\n",
      "(4580, 23)\n",
      "Skin_Not_Sun_Exposed_Suprapubic.SKCM\n",
      "(4670, 23)\n",
      "Esophagus_Gastroesophageal_Junction.ESCA\n",
      "(4600, 23)\n",
      "Brain_Substantia_nigra.GBM\n",
      "(4600, 23)\n",
      "Brain_Substantia_nigra.LGG\n",
      "(4600, 23)\n",
      "Ovary.OV\n",
      "(4670, 23)\n",
      "Pancreas.PAAD\n",
      "(4460, 23)\n",
      "Thyroid.THCA\n",
      "(4690, 23)\n",
      "Small_Intestine_Terminal_Ileum.COAD\n",
      "(4710, 23)\n",
      "Uterus.UCEC\n",
      "(4640, 23)\n",
      "Uterus.UCS\n",
      "(4640, 23)\n",
      "Breast_Mammary_Tissue.BRCA\n",
      "(4820, 23)\n",
      "Brain_Spinal_cord_cervical_c-1.GBM\n",
      "(4660, 23)\n",
      "Brain_Spinal_cord_cervical_c-1.LGG\n",
      "(4660, 23)\n",
      "Kidney_Cortex.KICH\n",
      "(4620, 23)\n",
      "Kidney_Cortex.KIRC\n",
      "(4630, 23)\n",
      "Kidney_Cortex.KIRP\n",
      "(4620, 23)\n",
      "Brain_Frontal_Cortex_BA9.GBM\n",
      "(4620, 23)\n",
      "Brain_Frontal_Cortex_BA9.LGG\n",
      "(4620, 23)\n",
      "Brain_Caudate_basal_ganglia.GBM\n",
      "(4580, 23)\n",
      "Brain_Caudate_basal_ganglia.LGG\n",
      "(4580, 23)\n",
      "Brain_Cerebellar_Hemisphere.GBM\n",
      "(4630, 23)\n",
      "Brain_Cerebellar_Hemisphere.LGG\n",
      "(4630, 23)\n",
      "Colon_Sigmoid.COAD\n",
      "(4630, 23)\n",
      "Liver.LIHC\n",
      "(4380, 23)\n",
      "Brain_Anterior_cingulate_cortex_BA24.GBM\n",
      "(4620, 23)\n",
      "Brain_Anterior_cingulate_cortex_BA24.LGG\n",
      "(4620, 23)\n",
      "Testis.TGCT\n",
      "(4800, 23)\n",
      "Brain_Hippocampus.GBM\n",
      "(4630, 23)\n",
      "Brain_Hippocampus.LGG\n",
      "(4630, 23)\n",
      "Brain_Hypothalamus.GBM\n",
      "(4640, 23)\n",
      "Brain_Hypothalamus.LGG\n",
      "(4640, 23)\n",
      "Brain_Amygdala.GBM\n",
      "(4600, 23)\n",
      "Brain_Amygdala.LGG\n",
      "(4600, 23)\n",
      "Brain_Cerebellum.GBM\n",
      "(4670, 23)\n",
      "Brain_Cerebellum.LGG\n",
      "(4670, 23)\n",
      "Brain_Cortex.GBM\n",
      "(4650, 23)\n",
      "Brain_Cortex.LGG\n",
      "(4650, 23)\n",
      "Pituitary.GBM\n",
      "(4720, 23)\n",
      "Pituitary.LGG\n",
      "(4720, 23)\n",
      "Colon_Transverse.COAD\n",
      "(4670, 23)\n",
      "Esophagus_Muscularis.ESCA\n",
      "(4600, 23)\n",
      "Lung.LUAD\n",
      "(4700, 23)\n",
      "Lung.LUSC\n",
      "(4700, 23)\n",
      "Adrenal_Gland.ACC\n",
      "(4550, 23)\n",
      "Stomach.STAD\n",
      "(4640, 23)\n",
      "Brain_Putamen_basal_ganglia.GBM\n",
      "(4550, 23)\n",
      "Brain_Putamen_basal_ganglia.LGG\n",
      "(4550, 23)\n",
      "Skin_Sun_Exposed_Lower_leg.SKCM\n",
      "(4640, 23)\n",
      "Prostate.PRAD\n",
      "(4740, 23)\n",
      "Minor_Salivary_Gland.HNSC\n",
      "(4660, 23)\n",
      "Brain_Nucleus_accumbens_basal_ganglia.GBM\n",
      "(4580, 23)\n",
      "Brain_Nucleus_accumbens_basal_ganglia.LGG\n",
      "(4580, 23)\n",
      "Esophagus_Mucosa.ESCA\n",
      "(4580, 23)\n",
      "Skin_Not_Sun_Exposed_Suprapubic.SKCM\n",
      "(4670, 23)\n",
      "Esophagus_Gastroesophageal_Junction.ESCA\n",
      "(4600, 23)\n",
      "Brain_Substantia_nigra.GBM\n",
      "(4600, 23)\n",
      "Brain_Substantia_nigra.LGG\n",
      "(4600, 23)\n",
      "Ovary.OV\n",
      "(4670, 23)\n",
      "Pancreas.PAAD\n",
      "(4460, 23)\n",
      "Thyroid.THCA\n",
      "(4690, 23)\n",
      "Small_Intestine_Terminal_Ileum.COAD\n",
      "(4710, 23)\n",
      "Uterus.UCEC\n",
      "(4650, 23)\n",
      "Uterus.UCS\n",
      "(4650, 23)\n",
      "Breast_Mammary_Tissue.BRCA\n",
      "(4820, 23)\n",
      "Brain_Spinal_cord_cervical_c-1.GBM\n",
      "(4660, 23)\n",
      "Brain_Spinal_cord_cervical_c-1.LGG\n",
      "(4660, 23)\n",
      "Kidney_Cortex.KICH\n",
      "(4630, 23)\n",
      "Kidney_Cortex.KIRC\n",
      "(4630, 23)\n",
      "Kidney_Cortex.KIRP\n",
      "(4630, 23)\n",
      "Brain_Frontal_Cortex_BA9.GBM\n",
      "(4620, 23)\n",
      "Brain_Frontal_Cortex_BA9.LGG\n",
      "(4620, 23)\n",
      "Brain_Caudate_basal_ganglia.GBM\n",
      "(4580, 23)\n",
      "Brain_Caudate_basal_ganglia.LGG\n",
      "(4580, 23)\n",
      "Brain_Cerebellar_Hemisphere.GBM\n",
      "(4630, 23)\n",
      "Brain_Cerebellar_Hemisphere.LGG\n",
      "(4630, 23)\n",
      "Colon_Sigmoid.COAD\n",
      "(4620, 23)\n",
      "Liver.LIHC\n",
      "(4380, 23)\n",
      "Brain_Anterior_cingulate_cortex_BA24.GBM\n",
      "(4620, 23)\n",
      "Brain_Anterior_cingulate_cortex_BA24.LGG\n",
      "(4620, 23)\n",
      "Testis.TGCT\n",
      "(4800, 23)\n",
      "Brain_Hippocampus.GBM\n",
      "(4630, 23)\n",
      "Brain_Hippocampus.LGG\n",
      "(4630, 23)\n",
      "Brain_Hypothalamus.GBM\n",
      "(4640, 23)\n",
      "Brain_Hypothalamus.LGG\n",
      "(4640, 23)\n",
      "Brain_Amygdala.GBM\n",
      "(4600, 23)\n",
      "Brain_Amygdala.LGG\n",
      "(4600, 23)\n",
      "Brain_Cerebellum.GBM\n",
      "(4670, 23)\n",
      "Brain_Cerebellum.LGG\n",
      "(4670, 23)\n",
      "Brain_Cortex.GBM\n",
      "(4650, 23)\n",
      "Brain_Cortex.LGG\n",
      "(4650, 23)\n",
      "Pituitary.GBM\n",
      "(4720, 23)\n",
      "Pituitary.LGG\n",
      "(4720, 23)\n",
      "Colon_Transverse.COAD\n",
      "(4670, 23)\n",
      "Esophagus_Muscularis.ESCA\n",
      "(4590, 23)\n",
      "Lung.LUAD\n",
      "(4700, 23)\n",
      "Lung.LUSC\n",
      "(4700, 23)\n",
      "Adrenal_Gland.ACC\n",
      "(4550, 23)\n",
      "Stomach.STAD\n",
      "(4620, 23)\n",
      "Brain_Putamen_basal_ganglia.GBM\n",
      "(4550, 23)\n",
      "Brain_Putamen_basal_ganglia.LGG\n",
      "(4550, 23)\n",
      "Skin_Sun_Exposed_Lower_leg.SKCM\n",
      "(4640, 23)\n",
      "Prostate.PRAD\n",
      "(4740, 23)\n",
      "Minor_Salivary_Gland.HNSC\n",
      "(4660, 23)\n",
      "Brain_Nucleus_accumbens_basal_ganglia.GBM\n",
      "(4580, 23)\n",
      "Brain_Nucleus_accumbens_basal_ganglia.LGG\n",
      "(4580, 23)\n",
      "Esophagus_Mucosa.ESCA\n",
      "(4570, 23)\n",
      "Skin_Not_Sun_Exposed_Suprapubic.SKCM\n",
      "(4670, 23)\n",
      "Esophagus_Gastroesophageal_Junction.ESCA\n",
      "(4590, 23)\n",
      "Brain_Substantia_nigra.GBM\n",
      "(4600, 23)\n",
      "Brain_Substantia_nigra.LGG\n",
      "(4600, 23)\n",
      "Ovary.OV\n",
      "(4650, 23)\n",
      "Pancreas.PAAD\n",
      "(4460, 23)\n",
      "Thyroid.THCA\n",
      "(4690, 23)\n",
      "Small_Intestine_Terminal_Ileum.COAD\n",
      "(4710, 23)\n",
      "Uterus.UCEC\n",
      "(4650, 23)\n",
      "Uterus.UCS\n",
      "(4650, 23)\n",
      "Breast_Mammary_Tissue.BRCA\n",
      "(4820, 23)\n",
      "Brain_Spinal_cord_cervical_c-1.GBM\n",
      "(4660, 23)\n",
      "Brain_Spinal_cord_cervical_c-1.LGG\n",
      "(4660, 23)\n",
      "Kidney_Cortex.KICH\n",
      "(4630, 23)\n",
      "Kidney_Cortex.KIRC\n",
      "(4630, 23)\n",
      "Kidney_Cortex.KIRP\n",
      "(4630, 23)\n",
      "Brain_Frontal_Cortex_BA9.GBM\n",
      "(4620, 23)\n",
      "Brain_Frontal_Cortex_BA9.LGG\n",
      "(4620, 23)\n",
      "Brain_Caudate_basal_ganglia.GBM\n",
      "(4580, 23)\n",
      "Brain_Caudate_basal_ganglia.LGG\n",
      "(4580, 23)\n",
      "Brain_Cerebellar_Hemisphere.GBM\n",
      "(4630, 23)\n",
      "Brain_Cerebellar_Hemisphere.LGG\n",
      "(4630, 23)\n",
      "Colon_Sigmoid.COAD\n",
      "(4620, 23)\n",
      "Liver.LIHC\n",
      "(4380, 23)\n"
     ]
    }
   ],
   "source": [
    "make_bootstrap(tpm_cancer,\"/cellar/users/mpagadal/Data/gtex/for_bootstrapping/brian_bootstrap/brian.rand\",\"regular\")\n",
    "make_bootstrap(firebrowse_cancer,\"/cellar/users/mpagadal/Data/gtex/for_bootstrapping/firebrowse_bootstrap/firebrowse.rand\",\"regular\")\n",
    "make_bootstrap(pancanatlas_cancer,\"/cellar/users/mpagadal/Data/gtex/for_bootstrapping/pancanatlas_bootstrap/pancanatlas.rand\",\"regular\")"
   ]
  },
  {
   "cell_type": "code",
   "execution_count": 251,
   "metadata": {},
   "outputs": [
    {
     "name": "stderr",
     "output_type": "stream",
     "text": [
      "/nrnb/opt/anaconda3.7/lib/python3.7/site-packages/ipykernel_launcher.py:15: SettingWithCopyWarning: \n",
      "A value is trying to be set on a copy of a slice from a DataFrame.\n",
      "Try using .loc[row_indexer,col_indexer] = value instead\n",
      "\n",
      "See the caveats in the documentation: https://pandas.pydata.org/pandas-docs/stable/user_guide/indexing.html#returning-a-view-versus-a-copy\n",
      "  from ipykernel import kernelapp as app\n",
      "/nrnb/opt/anaconda3.7/lib/python3.7/site-packages/ipykernel_launcher.py:18: SettingWithCopyWarning: \n",
      "A value is trying to be set on a copy of a slice from a DataFrame.\n",
      "Try using .loc[row_indexer,col_indexer] = value instead\n",
      "\n",
      "See the caveats in the documentation: https://pandas.pydata.org/pandas-docs/stable/user_guide/indexing.html#returning-a-view-versus-a-copy\n"
     ]
    },
    {
     "name": "stdout",
     "output_type": "stream",
     "text": [
      "Whole_Blood.ACC\n",
      "(4070, 23)\n",
      "Whole_Blood.BRCA\n",
      "(4080, 23)\n",
      "Whole_Blood.COAD\n",
      "(4070, 23)\n",
      "Whole_Blood.ESCA\n",
      "(4070, 23)\n",
      "Whole_Blood.GBM\n",
      "(4080, 23)\n",
      "Whole_Blood.HNSC\n",
      "(4080, 23)\n",
      "Whole_Blood.KICH\n",
      "(4070, 23)\n",
      "Whole_Blood.KIRC\n",
      "(4080, 23)\n",
      "Whole_Blood.KIRP\n",
      "(4070, 23)\n",
      "Whole_Blood.LGG\n",
      "(4070, 23)\n",
      "Whole_Blood.LIHC\n",
      "(4080, 23)\n",
      "Whole_Blood.LUAD\n",
      "(4070, 23)\n",
      "Whole_Blood.LUSC\n",
      "(4070, 23)\n",
      "Whole_Blood.OV\n",
      "(4070, 23)\n",
      "Whole_Blood.PAAD\n",
      "(4070, 23)\n",
      "Whole_Blood.PRAD\n",
      "(4080, 23)\n",
      "Whole_Blood.SKCM\n",
      "(4070, 23)\n",
      "Whole_Blood.STAD\n",
      "(4080, 23)\n",
      "Whole_Blood.TGCT\n",
      "(4080, 23)\n",
      "Whole_Blood.THCA\n",
      "(4080, 23)\n",
      "Whole_Blood.UCEC\n",
      "(4070, 23)\n",
      "Whole_Blood.UCS\n",
      "(4070, 23)\n",
      "Whole_Blood.ACC\n",
      "(4080, 23)\n",
      "Whole_Blood.BRCA\n",
      "(4080, 23)\n",
      "Whole_Blood.COAD\n",
      "(4070, 23)\n",
      "Whole_Blood.ESCA\n",
      "(4080, 23)\n",
      "Whole_Blood.GBM\n",
      "(4080, 23)\n",
      "Whole_Blood.HNSC\n",
      "(4080, 23)\n",
      "Whole_Blood.KICH\n",
      "(4080, 23)\n",
      "Whole_Blood.KIRC\n",
      "(4080, 23)\n",
      "Whole_Blood.KIRP\n",
      "(4080, 23)\n",
      "Whole_Blood.LGG\n",
      "(4080, 23)\n",
      "Whole_Blood.LIHC\n",
      "(4080, 23)\n",
      "Whole_Blood.LUAD\n",
      "(4080, 23)\n",
      "Whole_Blood.LUSC\n",
      "(4080, 23)\n",
      "Whole_Blood.OV\n",
      "(4080, 23)\n",
      "Whole_Blood.PAAD\n",
      "(4080, 23)\n",
      "Whole_Blood.PRAD\n",
      "(4080, 23)\n",
      "Whole_Blood.SKCM\n",
      "(4080, 23)\n",
      "Whole_Blood.STAD\n",
      "(4080, 23)\n",
      "Whole_Blood.TGCT\n",
      "(4080, 23)\n",
      "Whole_Blood.THCA\n",
      "(4080, 23)\n",
      "Whole_Blood.UCEC\n",
      "(4080, 23)\n",
      "Whole_Blood.UCS\n",
      "(4080, 23)\n",
      "Whole_Blood.ACC\n",
      "(4080, 23)\n",
      "Whole_Blood.BRCA\n",
      "(4080, 23)\n",
      "Whole_Blood.COAD\n",
      "(4070, 23)\n",
      "Whole_Blood.ESCA\n",
      "(4070, 23)\n",
      "Whole_Blood.GBM\n",
      "(4080, 23)\n",
      "Whole_Blood.HNSC\n",
      "(4080, 23)\n",
      "Whole_Blood.KICH\n",
      "(4080, 23)\n",
      "Whole_Blood.KIRC\n",
      "(4080, 23)\n",
      "Whole_Blood.KIRP\n",
      "(4080, 23)\n",
      "Whole_Blood.LGG\n",
      "(4080, 23)\n",
      "Whole_Blood.LIHC\n",
      "(4080, 23)\n",
      "Whole_Blood.LUAD\n",
      "(4080, 23)\n",
      "Whole_Blood.LUSC\n",
      "(4080, 23)\n",
      "Whole_Blood.OV\n",
      "(4070, 23)\n",
      "Whole_Blood.PAAD\n",
      "(4080, 23)\n",
      "Whole_Blood.PRAD\n",
      "(4080, 23)\n",
      "Whole_Blood.SKCM\n",
      "(4080, 23)\n",
      "Whole_Blood.STAD\n",
      "(4070, 23)\n",
      "Whole_Blood.TGCT\n",
      "(4080, 23)\n",
      "Whole_Blood.THCA\n",
      "(4080, 23)\n",
      "Whole_Blood.UCEC\n",
      "(4080, 23)\n",
      "Whole_Blood.UCS\n",
      "(4080, 23)\n"
     ]
    }
   ],
   "source": [
    "make_bootstrap(tpm_cancer,\"/cellar/users/mpagadal/Data/gtex/for_bootstrapping/brian_bootstrap/brian.rand\",\"blood\")\n",
    "make_bootstrap(firebrowse_cancer,\"/cellar/users/mpagadal/Data/gtex/for_bootstrapping/firebrowse_bootstrap/firebrowse.rand\",\"blood\")\n",
    "make_bootstrap(pancanatlas_cancer,\"/cellar/users/mpagadal/Data/gtex/for_bootstrapping/pancanatlas_bootstrap/pancanatlas.rand\",\"blood\")"
   ]
  },
  {
   "cell_type": "code",
   "execution_count": 253,
   "metadata": {},
   "outputs": [],
   "source": [
    "files=[x.split(\"brian.\")[1] for x in os.listdir(\"/cellar/users/mpagadal/Data/gtex/for_bootstrapping/brian_bootstrap/\")]"
   ]
  },
  {
   "cell_type": "code",
   "execution_count": 256,
   "metadata": {},
   "outputs": [],
   "source": [
    "files=[x.replace(\"rand.\",\"\") for x in files]\n",
    "files=[x.replace(\"test.\",\"\") for x in files]"
   ]
  },
  {
   "cell_type": "code",
   "execution_count": 263,
   "metadata": {},
   "outputs": [
    {
     "data": {
      "text/plain": [
       "75"
      ]
     },
     "execution_count": 263,
     "metadata": {},
     "output_type": "execute_result"
    }
   ],
   "source": [
    "len([x for x in set(files)])"
   ]
  },
  {
   "cell_type": "code",
   "execution_count": 265,
   "metadata": {},
   "outputs": [],
   "source": [
    "direct=[]\n",
    "\n",
    "for i in range(75):\n",
    "    direct.append(\"brian\")\n",
    "for i in range(75):\n",
    "    direct.append(\"firebrowse\")\n",
    "for i in range(75):\n",
    "    direct.append(\"pancanatlas\")"
   ]
  },
  {
   "cell_type": "code",
   "execution_count": 267,
   "metadata": {},
   "outputs": [
    {
     "data": {
      "text/plain": [
       "225"
      ]
     },
     "execution_count": 267,
     "metadata": {},
     "output_type": "execute_result"
    }
   ],
   "source": [
    "len(direct)"
   ]
  },
  {
   "cell_type": "code",
   "execution_count": null,
   "metadata": {},
   "outputs": [],
   "source": []
  },
  {
   "cell_type": "code",
   "execution_count": null,
   "metadata": {},
   "outputs": [],
   "source": []
  }
 ],
 "metadata": {
  "kernelspec": {
   "display_name": "Python 3",
   "language": "python",
   "name": "python3"
  },
  "language_info": {
   "codemirror_mode": {
    "name": "ipython",
    "version": 3
   },
   "file_extension": ".py",
   "mimetype": "text/x-python",
   "name": "python",
   "nbconvert_exporter": "python",
   "pygments_lexer": "ipython3",
   "version": "3.7.7"
  }
 },
 "nbformat": 4,
 "nbformat_minor": 2
}
