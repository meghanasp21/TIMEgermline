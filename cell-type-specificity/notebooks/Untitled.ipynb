{
 "cells": [
  {
   "cell_type": "code",
   "execution_count": 1,
   "metadata": {},
   "outputs": [],
   "source": [
    "import sys \n",
    "sys.path.append(\"/cellar/users/mpagadal/Programs/anaconda3/lib/python3.7/site-packages\")\n",
    "sys.path.insert(1, '/cellar/users/mpagadal/Data/scripts')\n",
    "import json"
   ]
  },
  {
   "cell_type": "code",
   "execution_count": 2,
   "metadata": {},
   "outputs": [],
   "source": [
    "import pandas as pd\n",
    "import os\n",
    "import matplotlib.pyplot as plt\n",
    "import matplotlib as mpl\n",
    "from itertools import product\n",
    "import seaborn as sns\n",
    "import networkx as nx\n",
    "from ndex2.nice_cx_network import NiceCXNetwork \n",
    "import ndex2.client as nc\n",
    "import ndex2"
   ]
  },
  {
   "cell_type": "code",
   "execution_count": 3,
   "metadata": {},
   "outputs": [],
   "source": [
    "import matplotlib\n",
    "matplotlib.rcParams['pdf.fonttype'] = 42\n",
    "matplotlib.rcParams['ps.fonttype'] = 42"
   ]
  },
  {
   "cell_type": "code",
   "execution_count": 4,
   "metadata": {},
   "outputs": [],
   "source": [
    "from get_brian_rna import *"
   ]
  },
  {
   "cell_type": "code",
   "execution_count": 5,
   "metadata": {},
   "outputs": [],
   "source": [
    "from upsetplot import generate_counts\n",
    "from upsetplot import plot\n",
    "from matplotlib import pyplot"
   ]
  },
  {
   "cell_type": "markdown",
   "metadata": {},
   "source": [
    "## Collect RNA phenotypes"
   ]
  },
  {
   "cell_type": "code",
   "execution_count": 6,
   "metadata": {},
   "outputs": [],
   "source": [
    "tpm=pd.read_csv(\"/cellar/users/mpagadal/Data2/projects/germline-immune/discovery/phenotypes/processed_phenos/tpm/all.rna.tsv\",delimiter=\"\\t\")\n",
    "pancan=pd.read_csv(\"/cellar/users/mpagadal/Data2/projects/germline-immune/discovery/phenotypes/processed_phenos/pancanatlas/all.rna.tsv\",delimiter=\"\\t\")\n",
    "firebrowse=pd.read_csv(\"/cellar/users/mpagadal/Data2/projects/germline-immune/discovery/phenotypes/processed_phenos/firebrowse/all.rna.tsv\",delimiter=\"\\t\")"
   ]
  },
  {
   "cell_type": "code",
   "execution_count": 7,
   "metadata": {},
   "outputs": [],
   "source": [
    "gtex_genes=pd.read_csv(\"gtex_rand_genes.txt\")[\"genes\"].tolist()"
   ]
  },
  {
   "cell_type": "code",
   "execution_count": 8,
   "metadata": {},
   "outputs": [],
   "source": [
    "tpm_filt=tpm[tpm[\"Gene\"].isin(gtex_genes)]\n",
    "pancan_filt=pancan[pancan[\"Gene\"].isin(gtex_genes)]\n",
    "firebrowse_filt=firebrowse[firebrowse[\"Gene\"].isin(gtex_genes)]"
   ]
  },
  {
   "cell_type": "code",
   "execution_count": 9,
   "metadata": {},
   "outputs": [],
   "source": [
    "tpm_filt=tpm_filt.set_index(\"Gene\")\n",
    "pancan_filt=pancan_filt.set_index(\"Gene\")\n",
    "firebrowse_filt=firebrowse_filt.set_index(\"Gene\")"
   ]
  },
  {
   "cell_type": "code",
   "execution_count": 10,
   "metadata": {},
   "outputs": [],
   "source": [
    "tpm_filt=tpm_filt.T\n",
    "pancan_filt=pancan_filt.T\n",
    "firebrowse_filt=firebrowse_filt.T"
   ]
  },
  {
   "cell_type": "code",
   "execution_count": 11,
   "metadata": {
    "scrolled": false
   },
   "outputs": [
    {
     "data": {
      "text/plain": [
       "974"
      ]
     },
     "execution_count": 11,
     "metadata": {},
     "output_type": "execute_result"
    }
   ],
   "source": [
    "len([x.replace(\"-\",\".\") for x in set(gtex_genes)])"
   ]
  },
  {
   "cell_type": "code",
   "execution_count": 12,
   "metadata": {},
   "outputs": [],
   "source": [
    "def make_pheno(df,direct):\n",
    "    canc = pd.read_csv(\"/nrnb/users/mpagadal/tcga-genotypes/birdseed-processing/gtype.meta\", delimiter=\"\\t\", header=None)\n",
    "    mp = canc.set_index(2)[0].to_dict()\n",
    "    df=df.reset_index()\n",
    "    df=df.rename(columns={\"index\":\"FID\"})\n",
    "    df[\"cancer\"]=df[\"FID\"].map(mp)\n",
    "    \n",
    "    for x in df[\"cancer\"].unique():\n",
    "        try:\n",
    "            tumor=df[df[\"cancer\"]==x]\n",
    "            del tumor[\"cancer\"]\n",
    "            tumor.to_csv(direct+\"pheno_\"+x+\".unnorm.csv\",index=None,sep=\"\\t\")\n",
    "        except:\n",
    "            pass"
   ]
  },
  {
   "cell_type": "code",
   "execution_count": 15,
   "metadata": {},
   "outputs": [],
   "source": [
    "make_pheno(tpm_filt,\"/cellar/users/mpagadal/Data2/projects/germline-immune/cell-type-specificity/phenotypes/tpm/\")"
   ]
  },
  {
   "cell_type": "code",
   "execution_count": 16,
   "metadata": {},
   "outputs": [],
   "source": [
    "def make_pheno(direct):\n",
    "    files=[x.split(\".unnorm.csv\")[0] for x in os.listdir(direct) if \"unnorm\" in x]\n",
    "    compiled=pd.DataFrame()\n",
    "    for x in files:\n",
    "        try:\n",
    "            df=pd.read_csv(direct+x+\".rank.csv\",delimiter=\"\\t\")\n",
    "            df[\"cancer\"]=x.split(\"pheno_\")[1]\n",
    "            compiled=compiled.append(df)\n",
    "        except:\n",
    "            pass\n",
    "    return(compiled)"
   ]
  },
  {
   "cell_type": "code",
   "execution_count": 36,
   "metadata": {},
   "outputs": [],
   "source": [
    "pheno_dir=\"/cellar/users/mpagadal/Data2/projects/germline-immune/cell-type-specificity/phenotypes/pancanatlas/\""
   ]
  },
  {
   "cell_type": "code",
   "execution_count": 37,
   "metadata": {},
   "outputs": [],
   "source": [
    "compiled=make_pheno(pheno_dir)"
   ]
  },
  {
   "cell_type": "code",
   "execution_count": 38,
   "metadata": {},
   "outputs": [
    {
     "data": {
      "text/html": [
       "<div>\n",
       "<style scoped>\n",
       "    .dataframe tbody tr th:only-of-type {\n",
       "        vertical-align: middle;\n",
       "    }\n",
       "\n",
       "    .dataframe tbody tr th {\n",
       "        vertical-align: top;\n",
       "    }\n",
       "\n",
       "    .dataframe thead th {\n",
       "        text-align: right;\n",
       "    }\n",
       "</style>\n",
       "<table border=\"1\" class=\"dataframe\">\n",
       "  <thead>\n",
       "    <tr style=\"text-align: right;\">\n",
       "      <th></th>\n",
       "      <th>FID</th>\n",
       "      <th>AACS</th>\n",
       "      <th>ABCC4</th>\n",
       "      <th>ABTB2</th>\n",
       "      <th>ACOT13</th>\n",
       "      <th>ACSM4</th>\n",
       "      <th>ACSM5</th>\n",
       "      <th>ACSS3</th>\n",
       "      <th>ADAMTS15</th>\n",
       "      <th>ADAMTS18</th>\n",
       "      <th>...</th>\n",
       "      <th>ZNF775</th>\n",
       "      <th>ZNF782</th>\n",
       "      <th>ZNF793</th>\n",
       "      <th>ZNF813</th>\n",
       "      <th>ZNF845</th>\n",
       "      <th>ZNF880</th>\n",
       "      <th>ZNF91</th>\n",
       "      <th>ZNRD1</th>\n",
       "      <th>ZSWIM3</th>\n",
       "      <th>cancer</th>\n",
       "    </tr>\n",
       "  </thead>\n",
       "  <tbody>\n",
       "    <tr>\n",
       "      <th>1</th>\n",
       "      <td>TCGA-18-3406</td>\n",
       "      <td>1.373295</td>\n",
       "      <td>-0.135501</td>\n",
       "      <td>-1.277015</td>\n",
       "      <td>0.273549</td>\n",
       "      <td>-0.214266</td>\n",
       "      <td>0.278747</td>\n",
       "      <td>1.399455</td>\n",
       "      <td>-0.347064</td>\n",
       "      <td>0.825335</td>\n",
       "      <td>...</td>\n",
       "      <td>-2.748436</td>\n",
       "      <td>-0.818321</td>\n",
       "      <td>-0.191284</td>\n",
       "      <td>1.151562</td>\n",
       "      <td>2.748436</td>\n",
       "      <td>0.477882</td>\n",
       "      <td>0.868301</td>\n",
       "      <td>0.050053</td>\n",
       "      <td>-0.552161</td>\n",
       "      <td>LUSC</td>\n",
       "    </tr>\n",
       "    <tr>\n",
       "      <th>2</th>\n",
       "      <td>TCGA-18-3407</td>\n",
       "      <td>0.811348</td>\n",
       "      <td>-0.717519</td>\n",
       "      <td>-1.233029</td>\n",
       "      <td>0.811348</td>\n",
       "      <td>-0.214266</td>\n",
       "      <td>-0.433474</td>\n",
       "      <td>0.569728</td>\n",
       "      <td>-0.882983</td>\n",
       "      <td>-0.040037</td>\n",
       "      <td>...</td>\n",
       "      <td>-1.233029</td>\n",
       "      <td>0.825335</td>\n",
       "      <td>-0.593429</td>\n",
       "      <td>-1.360560</td>\n",
       "      <td>-2.226988</td>\n",
       "      <td>-0.552161</td>\n",
       "      <td>2.748436</td>\n",
       "      <td>0.150666</td>\n",
       "      <td>-0.905370</td>\n",
       "      <td>LUSC</td>\n",
       "    </tr>\n",
       "    <tr>\n",
       "      <th>3</th>\n",
       "      <td>TCGA-18-3408</td>\n",
       "      <td>-1.839319</td>\n",
       "      <td>2.291127</td>\n",
       "      <td>-1.636206</td>\n",
       "      <td>1.696346</td>\n",
       "      <td>-0.214266</td>\n",
       "      <td>0.336456</td>\n",
       "      <td>-0.170939</td>\n",
       "      <td>-0.417043</td>\n",
       "      <td>-0.534762</td>\n",
       "      <td>...</td>\n",
       "      <td>-3.090826</td>\n",
       "      <td>0.704634</td>\n",
       "      <td>0.523253</td>\n",
       "      <td>-1.068203</td>\n",
       "      <td>1.068203</td>\n",
       "      <td>-0.242512</td>\n",
       "      <td>-0.065088</td>\n",
       "      <td>0.070103</td>\n",
       "      <td>0.085158</td>\n",
       "      <td>LUSC</td>\n",
       "    </tr>\n",
       "    <tr>\n",
       "      <th>4</th>\n",
       "      <td>TCGA-18-3409</td>\n",
       "      <td>-1.077097</td>\n",
       "      <td>-0.599406</td>\n",
       "      <td>1.763333</td>\n",
       "      <td>0.201485</td>\n",
       "      <td>-0.214266</td>\n",
       "      <td>1.360560</td>\n",
       "      <td>0.711062</td>\n",
       "      <td>-0.368400</td>\n",
       "      <td>2.075674</td>\n",
       "      <td>...</td>\n",
       "      <td>0.730524</td>\n",
       "      <td>0.085158</td>\n",
       "      <td>0.191284</td>\n",
       "      <td>0.882983</td>\n",
       "      <td>1.042014</td>\n",
       "      <td>1.426609</td>\n",
       "      <td>0.711062</td>\n",
       "      <td>0.363051</td>\n",
       "      <td>1.059392</td>\n",
       "      <td>LUSC</td>\n",
       "    </tr>\n",
       "    <tr>\n",
       "      <th>5</th>\n",
       "      <td>TCGA-18-3410</td>\n",
       "      <td>1.440590</td>\n",
       "      <td>0.959463</td>\n",
       "      <td>2.291127</td>\n",
       "      <td>-2.075674</td>\n",
       "      <td>-0.214266</td>\n",
       "      <td>0.105262</td>\n",
       "      <td>1.277015</td>\n",
       "      <td>-1.399455</td>\n",
       "      <td>0.130454</td>\n",
       "      <td>...</td>\n",
       "      <td>1.181196</td>\n",
       "      <td>0.294386</td>\n",
       "      <td>-1.373295</td>\n",
       "      <td>0.818321</td>\n",
       "      <td>0.991673</td>\n",
       "      <td>-0.575623</td>\n",
       "      <td>0.352383</td>\n",
       "      <td>0.920550</td>\n",
       "      <td>0.100233</td>\n",
       "      <td>LUSC</td>\n",
       "    </tr>\n",
       "  </tbody>\n",
       "</table>\n",
       "<p>5 rows × 976 columns</p>\n",
       "</div>"
      ],
      "text/plain": [
       "            FID      AACS     ABCC4     ABTB2    ACOT13     ACSM4     ACSM5  \\\n",
       "1  TCGA-18-3406  1.373295 -0.135501 -1.277015  0.273549 -0.214266  0.278747   \n",
       "2  TCGA-18-3407  0.811348 -0.717519 -1.233029  0.811348 -0.214266 -0.433474   \n",
       "3  TCGA-18-3408 -1.839319  2.291127 -1.636206  1.696346 -0.214266  0.336456   \n",
       "4  TCGA-18-3409 -1.077097 -0.599406  1.763333  0.201485 -0.214266  1.360560   \n",
       "5  TCGA-18-3410  1.440590  0.959463  2.291127 -2.075674 -0.214266  0.105262   \n",
       "\n",
       "      ACSS3  ADAMTS15  ADAMTS18  ...    ZNF775    ZNF782    ZNF793    ZNF813  \\\n",
       "1  1.399455 -0.347064  0.825335  ... -2.748436 -0.818321 -0.191284  1.151562   \n",
       "2  0.569728 -0.882983 -0.040037  ... -1.233029  0.825335 -0.593429 -1.360560   \n",
       "3 -0.170939 -0.417043 -0.534762  ... -3.090826  0.704634  0.523253 -1.068203   \n",
       "4  0.711062 -0.368400  2.075674  ...  0.730524  0.085158  0.191284  0.882983   \n",
       "5  1.277015 -1.399455  0.130454  ...  1.181196  0.294386 -1.373295  0.818321   \n",
       "\n",
       "     ZNF845    ZNF880     ZNF91     ZNRD1    ZSWIM3  cancer  \n",
       "1  2.748436  0.477882  0.868301  0.050053 -0.552161    LUSC  \n",
       "2 -2.226988 -0.552161  2.748436  0.150666 -0.905370    LUSC  \n",
       "3  1.068203 -0.242512 -0.065088  0.070103  0.085158    LUSC  \n",
       "4  1.042014  1.426609  0.711062  0.363051  1.059392    LUSC  \n",
       "5  0.991673 -0.575623  0.352383  0.920550  0.100233    LUSC  \n",
       "\n",
       "[5 rows x 976 columns]"
      ]
     },
     "execution_count": 38,
     "metadata": {},
     "output_type": "execute_result"
    }
   ],
   "source": [
    "compiled.head()"
   ]
  },
  {
   "cell_type": "code",
   "execution_count": 39,
   "metadata": {},
   "outputs": [
    {
     "data": {
      "text/plain": [
       "Text(0.5,1,'ARF5')"
      ]
     },
     "execution_count": 39,
     "metadata": {},
     "output_type": "execute_result"
    },
    {
     "data": {
      "image/png": "[encoded data removed]",
      "text/plain": [
       "<Figure size 1440x360 with 1 Axes>"
      ]
     },
     "metadata": {},
     "output_type": "display_data"
    }
   ],
   "source": [
    "x=\"ARF5\"\n",
    "#plot rna expression by cancer type\n",
    "sns.set(style=\"whitegrid\", font_scale = 1)\n",
    "plt.figure(figsize=(20,5))\n",
    "sns.set_style(\"whitegrid\", {'axes.grid' : False})\n",
    "ax = sns.boxplot(x=\"cancer\", y=x, data=compiled)\n",
    "ax.set(xlabel=\"cancer\", ylabel='rank norm FGR')\n",
    "plt.xticks(rotation=30)\n",
    "plt.title(x)"
   ]
  },
  {
   "cell_type": "code",
   "execution_count": 40,
   "metadata": {},
   "outputs": [],
   "source": [
    "del compiled[\"cancer\"]\n",
    "compiled[\"IID\"]=compiled[\"FID\"]\n",
    "cols=[\"FID\",\"IID\"]+compiled.columns.tolist()[1:-1]\n",
    "compiled=compiled[cols]\n",
    "compiled.columns=[x.replace(\"-\",\".\") for x in compiled.columns]\n",
    "compiled=compiled.fillna(-9)"
   ]
  },
  {
   "cell_type": "code",
   "execution_count": 41,
   "metadata": {},
   "outputs": [],
   "source": [
    "compiled.to_csv(pheno_dir+\"pheno_all_zcancer\",index=None,sep=\"\\t\")"
   ]
  },
  {
   "cell_type": "code",
   "execution_count": 46,
   "metadata": {},
   "outputs": [
    {
     "data": {
      "text/plain": [
       "974"
      ]
     },
     "execution_count": 46,
     "metadata": {},
     "output_type": "execute_result"
    }
   ],
   "source": [
    "len(compiled.columns[2:].tolist())"
   ]
  }
 ],
 "metadata": {
  "kernelspec": {
   "display_name": "Python (Naga)",
   "language": "python",
   "name": "nagaenv"
  },
  "language_info": {
   "codemirror_mode": {
    "name": "ipython",
    "version": 3
   },
   "file_extension": ".py",
   "mimetype": "text/x-python",
   "name": "python",
   "nbconvert_exporter": "python",
   "pygments_lexer": "ipython3",
   "version": "3.6.11"
  }
 },
 "nbformat": 4,
 "nbformat_minor": 4
}
