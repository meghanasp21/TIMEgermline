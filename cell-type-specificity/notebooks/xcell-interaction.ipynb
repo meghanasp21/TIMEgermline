{
 "cells": [
  {
   "cell_type": "code",
   "execution_count": 1,
   "metadata": {},
   "outputs": [],
   "source": [
    "import pandas as pd\n",
    "import os\n",
    "import statsmodels.stats.multitest as multi\n",
    "from matplotlib import pyplot as plt\n",
    "import seaborn as sns"
   ]
  },
  {
   "cell_type": "code",
   "execution_count": 2,
   "metadata": {},
   "outputs": [],
   "source": [
    "import matplotlib\n",
    "matplotlib.rcParams['pdf.fonttype'] = 42\n",
    "matplotlib.rcParams['ps.fonttype'] = 42"
   ]
  },
  {
   "cell_type": "markdown",
   "metadata": {},
   "source": [
    "## Get Interaction data"
   ]
  },
  {
   "cell_type": "code",
   "execution_count": 4,
   "metadata": {},
   "outputs": [],
   "source": [
    "def get_data(directory,cov_name):\n",
    "    files=[x for x in os.listdir(directory) if \".glm.linear\" in x]\n",
    "    compiled=pd.DataFrame()\n",
    "    for x in files:\n",
    "        df=pd.read_csv(directory+\"/\"+x,delimiter=\"\\t\")\n",
    "        df=df[df[\"TEST\"].str.contains(cov_name)]\n",
    "        df[\"pheno\"]=x.split(\"_\")[0]\n",
    "        df[\"P\"]=pd.to_numeric(df[\"P\"])\n",
    "        compiled=compiled.append(df)\n",
    "    return(compiled)\n",
    "    "
   ]
  },
  {
   "cell_type": "code",
   "execution_count": 5,
   "metadata": {},
   "outputs": [],
   "source": [
    "age_interact=get_data(\"/cellar/users/mpagadal/Data/projects/germline-immune/cell-type-specificity/associations/age\",\"ADDxage\")\n",
    "sex_interact=get_data(\"/cellar/users/mpagadal/Data/projects/germline-immune/cell-type-specificity/associations/sex\",\"ADDxSEX\")"
   ]
  },
  {
   "cell_type": "markdown",
   "metadata": {},
   "source": [
    "## get association file"
   ]
  },
  {
   "cell_type": "code",
   "execution_count": 6,
   "metadata": {},
   "outputs": [],
   "source": [
    "snps=pd.read_csv(\"/cellar/users/mpagadal/Data/projects/germline-immune/snp-tables/immune-microenvironment-nonhla.tsv\",delimiter=\"\\t\")\n",
    "snps[\"assoc\"]=snps[\"snps\"]+\"_\"+snps[\"file\"]"
   ]
  },
  {
   "cell_type": "markdown",
   "metadata": {},
   "source": [
    "## Age/Sex interaction"
   ]
  },
  {
   "cell_type": "code",
   "execution_count": 7,
   "metadata": {},
   "outputs": [],
   "source": [
    "age_interact_filt=age_interact[[\"pheno\",\"ID\",\"P\"]]\n",
    "age_interact_filt.columns=[\"file\",\"snps\",\"ADDxage\"]\n",
    "sex_interact_filt=sex_interact[[\"pheno\",\"ID\",\"P\"]]\n",
    "sex_interact_filt.columns=[\"file\",\"snps\",\"ADDxSEX\"]"
   ]
  },
  {
   "cell_type": "code",
   "execution_count": 8,
   "metadata": {},
   "outputs": [],
   "source": [
    "snps=pd.merge(snps,age_interact_filt,on=[\"file\",\"snps\"],how=\"left\")\n",
    "snps=pd.merge(snps,sex_interact_filt,on=[\"file\",\"snps\"],how=\"left\")"
   ]
  },
  {
   "cell_type": "code",
   "execution_count": 9,
   "metadata": {},
   "outputs": [],
   "source": [
    "def fdr(df,P):\n",
    "    probabilities = df[P].to_numpy()\n",
    "    report = multi.multipletests(probabilities,\n",
    "                alpha=0.05,\n",
    "                method=\"fdr_bh\",\n",
    "                is_sorted=False,\n",
    "            )\n",
    "    discoveries = report[1]\n",
    "    \n",
    "    return(discoveries)"
   ]
  },
  {
   "cell_type": "code",
   "execution_count": 10,
   "metadata": {},
   "outputs": [
    {
     "name": "stderr",
     "output_type": "stream",
     "text": [
      "/nrnb/opt/anaconda3.7/lib/python3.7/site-packages/statsmodels/stats/multitest.py:325: RuntimeWarning: invalid value encountered in less_equal\n",
      "  reject = pvals_sorted <= ecdffactor*alpha\n"
     ]
    }
   ],
   "source": [
    "snps[\"fdr age\"]=fdr(snps,\"ADDxage\")\n",
    "snps[\"fdr sex\"]=fdr(snps,\"ADDxSEX\")"
   ]
  },
  {
   "cell_type": "code",
   "execution_count": 11,
   "metadata": {},
   "outputs": [
    {
     "data": {
      "text/plain": [
       "0"
      ]
     },
     "execution_count": 11,
     "metadata": {},
     "output_type": "execute_result"
    }
   ],
   "source": [
    "len(snps[snps[\"fdr age\"]<.1])"
   ]
  },
  {
   "cell_type": "code",
   "execution_count": 12,
   "metadata": {},
   "outputs": [
    {
     "data": {
      "text/plain": [
       "0"
      ]
     },
     "execution_count": 12,
     "metadata": {},
     "output_type": "execute_result"
    }
   ],
   "source": [
    "len(snps[snps[\"fdr sex\"]<.1])"
   ]
  },
  {
   "cell_type": "markdown",
   "metadata": {},
   "source": [
    "## Cell interaction"
   ]
  },
  {
   "cell_type": "code",
   "execution_count": 13,
   "metadata": {},
   "outputs": [],
   "source": [
    "def get_data(directory,cov_name):\n",
    "    files=[x for x in os.listdir(directory) if \".glm.linear\" in x]\n",
    "    compiled=pd.DataFrame()\n",
    "    for x in files:\n",
    "        df=pd.read_csv(directory+\"/\"+x,delimiter=\"\\t\")\n",
    "        df=df[df[\"TEST\"].str.contains(cov_name)]\n",
    "        df[\"pheno\"]=x.split(\"_\")[0]\n",
    "        df[\"P\"]=pd.to_numeric(df[\"P\"])\n",
    "        compiled=compiled.append(df)\n",
    "    return(compiled)\n",
    "    "
   ]
  },
  {
   "cell_type": "code",
   "execution_count": 14,
   "metadata": {},
   "outputs": [],
   "source": [
    "cell_interact=get_data(\"/cellar/users/mpagadal/Data/projects/germline-immune/cell-type-specificity/associations/cell-type\",\"ADDx\")"
   ]
  },
  {
   "cell_type": "code",
   "execution_count": 15,
   "metadata": {},
   "outputs": [],
   "source": [
    "cell_interact[\"assoc\"]=cell_interact[\"ID\"]+\"_\"+cell_interact[\"pheno\"]"
   ]
  },
  {
   "cell_type": "code",
   "execution_count": 16,
   "metadata": {},
   "outputs": [],
   "source": [
    "df_cell_interact=cell_interact.pivot_table(index=\"assoc\",columns=\"TEST\",values=\"P\")"
   ]
  },
  {
   "cell_type": "code",
   "execution_count": 17,
   "metadata": {},
   "outputs": [],
   "source": [
    "df_cell_interact=df_cell_interact.reset_index()"
   ]
  },
  {
   "cell_type": "code",
   "execution_count": 18,
   "metadata": {},
   "outputs": [
    {
     "name": "stdout",
     "output_type": "stream",
     "text": [
      "57000\n"
     ]
    },
    {
     "data": {
      "text/html": [
       "<div>\n",
       "<style scoped>\n",
       "    .dataframe tbody tr th:only-of-type {\n",
       "        vertical-align: middle;\n",
       "    }\n",
       "\n",
       "    .dataframe tbody tr th {\n",
       "        vertical-align: top;\n",
       "    }\n",
       "\n",
       "    .dataframe thead th {\n",
       "        text-align: right;\n",
       "    }\n",
       "</style>\n",
       "<table border=\"1\" class=\"dataframe\">\n",
       "  <thead>\n",
       "    <tr style=\"text-align: right;\">\n",
       "      <th>TEST</th>\n",
       "      <th>assoc</th>\n",
       "      <th>ADDxAdipocytes</th>\n",
       "      <th>ADDxAstrocytes</th>\n",
       "      <th>ADDxB.cells</th>\n",
       "      <th>ADDxBasophils</th>\n",
       "      <th>ADDxCD4..T.cells</th>\n",
       "      <th>ADDxCD4..Tcm</th>\n",
       "      <th>ADDxCD4..Tem</th>\n",
       "      <th>ADDxCD4..memory.T.cells</th>\n",
       "      <th>ADDxCD4..naive.T.cells</th>\n",
       "      <th>...</th>\n",
       "      <th>ADDxTh2.cells</th>\n",
       "      <th>ADDxTregs</th>\n",
       "      <th>ADDxaDC</th>\n",
       "      <th>ADDxcDC</th>\n",
       "      <th>ADDxiDC</th>\n",
       "      <th>ADDxly.Endothelial.cells</th>\n",
       "      <th>ADDxmv.Endothelial.cells</th>\n",
       "      <th>ADDxnaive.B.cells</th>\n",
       "      <th>ADDxpDC</th>\n",
       "      <th>ADDxpro.B.cells</th>\n",
       "    </tr>\n",
       "  </thead>\n",
       "  <tbody>\n",
       "    <tr>\n",
       "      <th>0</th>\n",
       "      <td>10:110943735:G:A_ADCY7</td>\n",
       "      <td>0.609330</td>\n",
       "      <td>0.555889</td>\n",
       "      <td>0.777050</td>\n",
       "      <td>0.752144</td>\n",
       "      <td>0.323864</td>\n",
       "      <td>0.576929</td>\n",
       "      <td>0.892900</td>\n",
       "      <td>0.326085</td>\n",
       "      <td>0.545058</td>\n",
       "      <td>...</td>\n",
       "      <td>0.265986</td>\n",
       "      <td>0.212721</td>\n",
       "      <td>0.525139</td>\n",
       "      <td>0.608400</td>\n",
       "      <td>0.458000</td>\n",
       "      <td>0.627052</td>\n",
       "      <td>0.862602</td>\n",
       "      <td>0.830329</td>\n",
       "      <td>0.895003</td>\n",
       "      <td>0.592187</td>\n",
       "    </tr>\n",
       "    <tr>\n",
       "      <th>1</th>\n",
       "      <td>10:110943735:G:A_ALOX5AP</td>\n",
       "      <td>0.915385</td>\n",
       "      <td>0.288319</td>\n",
       "      <td>0.988210</td>\n",
       "      <td>0.259637</td>\n",
       "      <td>0.689596</td>\n",
       "      <td>0.096117</td>\n",
       "      <td>0.457380</td>\n",
       "      <td>0.583244</td>\n",
       "      <td>0.866994</td>\n",
       "      <td>...</td>\n",
       "      <td>0.156365</td>\n",
       "      <td>0.521489</td>\n",
       "      <td>0.170993</td>\n",
       "      <td>0.776735</td>\n",
       "      <td>0.566088</td>\n",
       "      <td>0.600513</td>\n",
       "      <td>0.710059</td>\n",
       "      <td>0.341174</td>\n",
       "      <td>0.591989</td>\n",
       "      <td>0.519954</td>\n",
       "    </tr>\n",
       "    <tr>\n",
       "      <th>2</th>\n",
       "      <td>10:110943735:G:A_AMPD3</td>\n",
       "      <td>0.865703</td>\n",
       "      <td>0.430386</td>\n",
       "      <td>0.494999</td>\n",
       "      <td>0.281982</td>\n",
       "      <td>0.387066</td>\n",
       "      <td>0.449829</td>\n",
       "      <td>0.335490</td>\n",
       "      <td>0.586712</td>\n",
       "      <td>0.646899</td>\n",
       "      <td>...</td>\n",
       "      <td>0.101017</td>\n",
       "      <td>0.043049</td>\n",
       "      <td>0.159728</td>\n",
       "      <td>0.167748</td>\n",
       "      <td>0.824458</td>\n",
       "      <td>0.515462</td>\n",
       "      <td>0.287518</td>\n",
       "      <td>0.218920</td>\n",
       "      <td>0.106559</td>\n",
       "      <td>0.086277</td>\n",
       "    </tr>\n",
       "    <tr>\n",
       "      <th>3</th>\n",
       "      <td>10:110943735:G:A_APITD1</td>\n",
       "      <td>0.108505</td>\n",
       "      <td>0.786143</td>\n",
       "      <td>0.231741</td>\n",
       "      <td>0.591988</td>\n",
       "      <td>0.073007</td>\n",
       "      <td>0.791040</td>\n",
       "      <td>0.248551</td>\n",
       "      <td>0.968337</td>\n",
       "      <td>0.995620</td>\n",
       "      <td>...</td>\n",
       "      <td>0.651321</td>\n",
       "      <td>0.068821</td>\n",
       "      <td>0.568021</td>\n",
       "      <td>0.950883</td>\n",
       "      <td>0.826446</td>\n",
       "      <td>0.276653</td>\n",
       "      <td>0.100331</td>\n",
       "      <td>0.750492</td>\n",
       "      <td>0.235271</td>\n",
       "      <td>0.940476</td>\n",
       "    </tr>\n",
       "    <tr>\n",
       "      <th>4</th>\n",
       "      <td>10:110943735:G:A_B2M</td>\n",
       "      <td>0.094987</td>\n",
       "      <td>0.481827</td>\n",
       "      <td>0.145618</td>\n",
       "      <td>0.724579</td>\n",
       "      <td>0.362241</td>\n",
       "      <td>0.202813</td>\n",
       "      <td>0.973427</td>\n",
       "      <td>0.113049</td>\n",
       "      <td>0.956000</td>\n",
       "      <td>...</td>\n",
       "      <td>0.514111</td>\n",
       "      <td>0.344652</td>\n",
       "      <td>0.193990</td>\n",
       "      <td>0.239862</td>\n",
       "      <td>0.115610</td>\n",
       "      <td>0.597373</td>\n",
       "      <td>0.515688</td>\n",
       "      <td>0.281291</td>\n",
       "      <td>0.047115</td>\n",
       "      <td>0.018940</td>\n",
       "    </tr>\n",
       "  </tbody>\n",
       "</table>\n",
       "<p>5 rows × 65 columns</p>\n",
       "</div>"
      ],
      "text/plain": [
       "TEST                     assoc  ADDxAdipocytes  ADDxAstrocytes  ADDxB.cells  \\\n",
       "0       10:110943735:G:A_ADCY7        0.609330        0.555889     0.777050   \n",
       "1     10:110943735:G:A_ALOX5AP        0.915385        0.288319     0.988210   \n",
       "2       10:110943735:G:A_AMPD3        0.865703        0.430386     0.494999   \n",
       "3      10:110943735:G:A_APITD1        0.108505        0.786143     0.231741   \n",
       "4         10:110943735:G:A_B2M        0.094987        0.481827     0.145618   \n",
       "\n",
       "TEST  ADDxBasophils  ADDxCD4..T.cells  ADDxCD4..Tcm  ADDxCD4..Tem  \\\n",
       "0          0.752144          0.323864      0.576929      0.892900   \n",
       "1          0.259637          0.689596      0.096117      0.457380   \n",
       "2          0.281982          0.387066      0.449829      0.335490   \n",
       "3          0.591988          0.073007      0.791040      0.248551   \n",
       "4          0.724579          0.362241      0.202813      0.973427   \n",
       "\n",
       "TEST  ADDxCD4..memory.T.cells  ADDxCD4..naive.T.cells  ...  ADDxTh2.cells  \\\n",
       "0                    0.326085                0.545058  ...       0.265986   \n",
       "1                    0.583244                0.866994  ...       0.156365   \n",
       "2                    0.586712                0.646899  ...       0.101017   \n",
       "3                    0.968337                0.995620  ...       0.651321   \n",
       "4                    0.113049                0.956000  ...       0.514111   \n",
       "\n",
       "TEST  ADDxTregs   ADDxaDC   ADDxcDC   ADDxiDC  ADDxly.Endothelial.cells  \\\n",
       "0      0.212721  0.525139  0.608400  0.458000                  0.627052   \n",
       "1      0.521489  0.170993  0.776735  0.566088                  0.600513   \n",
       "2      0.043049  0.159728  0.167748  0.824458                  0.515462   \n",
       "3      0.068821  0.568021  0.950883  0.826446                  0.276653   \n",
       "4      0.344652  0.193990  0.239862  0.115610                  0.597373   \n",
       "\n",
       "TEST  ADDxmv.Endothelial.cells  ADDxnaive.B.cells   ADDxpDC  ADDxpro.B.cells  \n",
       "0                     0.862602           0.830329  0.895003         0.592187  \n",
       "1                     0.710059           0.341174  0.591989         0.519954  \n",
       "2                     0.287518           0.218920  0.106559         0.086277  \n",
       "3                     0.100331           0.750492  0.235271         0.940476  \n",
       "4                     0.515688           0.281291  0.047115         0.018940  \n",
       "\n",
       "[5 rows x 65 columns]"
      ]
     },
     "execution_count": 18,
     "metadata": {},
     "output_type": "execute_result"
    }
   ],
   "source": [
    "print(len(df_cell_interact[\"assoc\"].unique()))\n",
    "df_cell_interact.head()"
   ]
  },
  {
   "cell_type": "code",
   "execution_count": 19,
   "metadata": {},
   "outputs": [
    {
     "name": "stdout",
     "output_type": "stream",
     "text": [
      "(482, 19)\n"
     ]
    },
    {
     "data": {
      "text/html": [
       "<div>\n",
       "<style scoped>\n",
       "    .dataframe tbody tr th:only-of-type {\n",
       "        vertical-align: middle;\n",
       "    }\n",
       "\n",
       "    .dataframe tbody tr th {\n",
       "        vertical-align: top;\n",
       "    }\n",
       "\n",
       "    .dataframe thead th {\n",
       "        text-align: right;\n",
       "    }\n",
       "</style>\n",
       "<table border=\"1\" class=\"dataframe\">\n",
       "  <thead>\n",
       "    <tr style=\"text-align: right;\">\n",
       "      <th></th>\n",
       "      <th>snps</th>\n",
       "      <th>file</th>\n",
       "      <th>category</th>\n",
       "      <th>maf</th>\n",
       "      <th>variant</th>\n",
       "      <th>rsid</th>\n",
       "      <th>tpm beta</th>\n",
       "      <th>tpm SE</th>\n",
       "      <th>tpm P</th>\n",
       "      <th>REF</th>\n",
       "      <th>ALT</th>\n",
       "      <th>firebrowse beta</th>\n",
       "      <th>firebrowse SE</th>\n",
       "      <th>firebrowse P</th>\n",
       "      <th>pancan beta</th>\n",
       "      <th>pancan SE</th>\n",
       "      <th>pancan P</th>\n",
       "      <th>p-value</th>\n",
       "      <th>cis tss</th>\n",
       "      <th>assoc</th>\n",
       "    </tr>\n",
       "  </thead>\n",
       "  <tbody>\n",
       "    <tr>\n",
       "      <th>0</th>\n",
       "      <td>19:7789796:T:C</td>\n",
       "      <td>CD209</td>\n",
       "      <td>cell type</td>\n",
       "      <td>0.25930</td>\n",
       "      <td>chr19:g.7789796T&gt;C</td>\n",
       "      <td>rs10422720</td>\n",
       "      <td>-0.153826</td>\n",
       "      <td>0.018988</td>\n",
       "      <td>6.358100e-16</td>\n",
       "      <td>T</td>\n",
       "      <td>C</td>\n",
       "      <td>-0.174974</td>\n",
       "      <td>0.019221</td>\n",
       "      <td>1.126740e-19</td>\n",
       "      <td>-0.178179</td>\n",
       "      <td>0.018876</td>\n",
       "      <td>4.971470e-21</td>\n",
       "      <td>4.971470e-21</td>\n",
       "      <td>15084.0</td>\n",
       "      <td>19:7789796:T:C_CD209</td>\n",
       "    </tr>\n",
       "    <tr>\n",
       "      <th>1</th>\n",
       "      <td>19:7768298:A:G</td>\n",
       "      <td>CD209</td>\n",
       "      <td>cell type</td>\n",
       "      <td>0.15010</td>\n",
       "      <td>chr19:g.7768298A&gt;G</td>\n",
       "      <td>rs58901714</td>\n",
       "      <td>-0.143563</td>\n",
       "      <td>0.023409</td>\n",
       "      <td>9.105090e-10</td>\n",
       "      <td>A</td>\n",
       "      <td>G</td>\n",
       "      <td>-0.157023</td>\n",
       "      <td>0.023889</td>\n",
       "      <td>5.293960e-11</td>\n",
       "      <td>-0.151253</td>\n",
       "      <td>0.023379</td>\n",
       "      <td>1.047650e-10</td>\n",
       "      <td>5.293960e-11</td>\n",
       "      <td>36582.0</td>\n",
       "      <td>19:7768298:A:G_CD209</td>\n",
       "    </tr>\n",
       "    <tr>\n",
       "      <th>2</th>\n",
       "      <td>3:159633885:T:C</td>\n",
       "      <td>CD209</td>\n",
       "      <td>cell type</td>\n",
       "      <td>0.01491</td>\n",
       "      <td>chr3:g.159633885T&gt;C</td>\n",
       "      <td>rs76992466</td>\n",
       "      <td>-0.374997</td>\n",
       "      <td>0.068493</td>\n",
       "      <td>4.525630e-08</td>\n",
       "      <td>T</td>\n",
       "      <td>C</td>\n",
       "      <td>-0.340604</td>\n",
       "      <td>0.070042</td>\n",
       "      <td>1.182550e-06</td>\n",
       "      <td>-0.353152</td>\n",
       "      <td>0.068943</td>\n",
       "      <td>3.096210e-07</td>\n",
       "      <td>4.525630e-08</td>\n",
       "      <td>NaN</td>\n",
       "      <td>3:159633885:T:C_CD209</td>\n",
       "    </tr>\n",
       "    <tr>\n",
       "      <th>3</th>\n",
       "      <td>1:161508763:T:C</td>\n",
       "      <td>FCGR3B</td>\n",
       "      <td>cell type</td>\n",
       "      <td>0.36810</td>\n",
       "      <td>chr1:g.161508763T&gt;C</td>\n",
       "      <td>rs10919544</td>\n",
       "      <td>0.166431</td>\n",
       "      <td>0.017210</td>\n",
       "      <td>5.489110e-22</td>\n",
       "      <td>T</td>\n",
       "      <td>C</td>\n",
       "      <td>0.237579</td>\n",
       "      <td>0.017299</td>\n",
       "      <td>2.300510e-42</td>\n",
       "      <td>0.236799</td>\n",
       "      <td>0.016959</td>\n",
       "      <td>9.737500e-44</td>\n",
       "      <td>9.737500e-44</td>\n",
       "      <td>84224.0</td>\n",
       "      <td>1:161508763:T:C_FCGR3B</td>\n",
       "    </tr>\n",
       "    <tr>\n",
       "      <th>4</th>\n",
       "      <td>1:161572353:T:C</td>\n",
       "      <td>FCGR3B</td>\n",
       "      <td>cell type</td>\n",
       "      <td>0.14500</td>\n",
       "      <td>chr1:g.161572353T&gt;C</td>\n",
       "      <td>rs67775399</td>\n",
       "      <td>-0.136145</td>\n",
       "      <td>0.023202</td>\n",
       "      <td>4.615400e-09</td>\n",
       "      <td>T</td>\n",
       "      <td>C</td>\n",
       "      <td>-0.166241</td>\n",
       "      <td>0.023540</td>\n",
       "      <td>1.799250e-12</td>\n",
       "      <td>-0.163998</td>\n",
       "      <td>0.023030</td>\n",
       "      <td>1.174700e-12</td>\n",
       "      <td>1.174700e-12</td>\n",
       "      <td>20634.0</td>\n",
       "      <td>1:161572353:T:C_FCGR3B</td>\n",
       "    </tr>\n",
       "  </tbody>\n",
       "</table>\n",
       "</div>"
      ],
      "text/plain": [
       "              snps    file   category      maf              variant  \\\n",
       "0   19:7789796:T:C   CD209  cell type  0.25930   chr19:g.7789796T>C   \n",
       "1   19:7768298:A:G   CD209  cell type  0.15010   chr19:g.7768298A>G   \n",
       "2  3:159633885:T:C   CD209  cell type  0.01491  chr3:g.159633885T>C   \n",
       "3  1:161508763:T:C  FCGR3B  cell type  0.36810  chr1:g.161508763T>C   \n",
       "4  1:161572353:T:C  FCGR3B  cell type  0.14500  chr1:g.161572353T>C   \n",
       "\n",
       "         rsid  tpm beta    tpm SE         tpm P REF ALT  firebrowse beta  \\\n",
       "0  rs10422720 -0.153826  0.018988  6.358100e-16   T   C        -0.174974   \n",
       "1  rs58901714 -0.143563  0.023409  9.105090e-10   A   G        -0.157023   \n",
       "2  rs76992466 -0.374997  0.068493  4.525630e-08   T   C        -0.340604   \n",
       "3  rs10919544  0.166431  0.017210  5.489110e-22   T   C         0.237579   \n",
       "4  rs67775399 -0.136145  0.023202  4.615400e-09   T   C        -0.166241   \n",
       "\n",
       "   firebrowse SE  firebrowse P  pancan beta  pancan SE      pancan P  \\\n",
       "0       0.019221  1.126740e-19    -0.178179   0.018876  4.971470e-21   \n",
       "1       0.023889  5.293960e-11    -0.151253   0.023379  1.047650e-10   \n",
       "2       0.070042  1.182550e-06    -0.353152   0.068943  3.096210e-07   \n",
       "3       0.017299  2.300510e-42     0.236799   0.016959  9.737500e-44   \n",
       "4       0.023540  1.799250e-12    -0.163998   0.023030  1.174700e-12   \n",
       "\n",
       "        p-value  cis tss                   assoc  \n",
       "0  4.971470e-21  15084.0    19:7789796:T:C_CD209  \n",
       "1  5.293960e-11  36582.0    19:7768298:A:G_CD209  \n",
       "2  4.525630e-08      NaN   3:159633885:T:C_CD209  \n",
       "3  9.737500e-44  84224.0  1:161508763:T:C_FCGR3B  \n",
       "4  1.174700e-12  20634.0  1:161572353:T:C_FCGR3B  "
      ]
     },
     "execution_count": 19,
     "metadata": {},
     "output_type": "execute_result"
    }
   ],
   "source": [
    "snps=pd.read_csv(\"/cellar/users/mpagadal/Data/projects/germline-immune/snp-tables/immune-microenvironment-nonhla.tsv\",delimiter=\"\\t\")\n",
    "print(snps.shape)\n",
    "snps[\"file\"]=snps[\"file\"].replace(\"CTSL1\",\"CTSL\")\n",
    "snps[\"assoc\"]=snps[\"snps\"]+\"_\"+snps[\"file\"]\n",
    "snps.head()"
   ]
  },
  {
   "cell_type": "code",
   "execution_count": 20,
   "metadata": {},
   "outputs": [],
   "source": [
    "df=pd.merge(snps,df_cell_interact,on=\"assoc\",how=\"left\")"
   ]
  },
  {
   "cell_type": "code",
   "execution_count": 21,
   "metadata": {},
   "outputs": [],
   "source": [
    "cols=df.columns[22:].tolist()"
   ]
  },
  {
   "cell_type": "code",
   "execution_count": 22,
   "metadata": {},
   "outputs": [
    {
     "data": {
      "text/plain": [
       "62"
      ]
     },
     "execution_count": 22,
     "metadata": {},
     "output_type": "execute_result"
    }
   ],
   "source": [
    "len(cols)"
   ]
  },
  {
   "cell_type": "code",
   "execution_count": 23,
   "metadata": {},
   "outputs": [
    {
     "name": "stderr",
     "output_type": "stream",
     "text": [
      "/nrnb/opt/anaconda3.7/lib/python3.7/site-packages/ipykernel_launcher.py:7: SettingWithCopyWarning: \n",
      "A value is trying to be set on a copy of a slice from a DataFrame.\n",
      "Try using .loc[row_indexer,col_indexer] = value instead\n",
      "\n",
      "See the caveats in the documentation: https://pandas.pydata.org/pandas-docs/stable/user_guide/indexing.html#returning-a-view-versus-a-copy\n",
      "  import sys\n"
     ]
    }
   ],
   "source": [
    "cell_interact_sig=pd.DataFrame()\n",
    "\n",
    "for x in cols:\n",
    "    df[\"fdr \"+x]=fdr(df,x)\n",
    "    df_filt=df[df[\"fdr \"+x]<.1]\n",
    "    df_cell=df_filt[[\"assoc\",\"fdr \"+x]]\n",
    "    df_cell[\"cell\"]=x\n",
    "    df_cell.columns=[\"assoc\",\"fdr\",\"cell\"]\n",
    "    cell_interact_sig=cell_interact_sig.append(df_cell)"
   ]
  },
  {
   "cell_type": "code",
   "execution_count": 5,
   "metadata": {},
   "outputs": [],
   "source": [
    "df=pd.read_csv(\"../data/x-cell-interaction.tsv\",delimiter=\"\\t\")"
   ]
  },
  {
   "cell_type": "code",
   "execution_count": 6,
   "metadata": {},
   "outputs": [
    {
     "data": {
      "text/html": [
       "<div>\n",
       "<style scoped>\n",
       "    .dataframe tbody tr th:only-of-type {\n",
       "        vertical-align: middle;\n",
       "    }\n",
       "\n",
       "    .dataframe tbody tr th {\n",
       "        vertical-align: top;\n",
       "    }\n",
       "\n",
       "    .dataframe thead th {\n",
       "        text-align: right;\n",
       "    }\n",
       "</style>\n",
       "<table border=\"1\" class=\"dataframe\">\n",
       "  <thead>\n",
       "    <tr style=\"text-align: right;\">\n",
       "      <th></th>\n",
       "      <th>assoc</th>\n",
       "      <th>fdr</th>\n",
       "      <th>cell</th>\n",
       "    </tr>\n",
       "  </thead>\n",
       "  <tbody>\n",
       "    <tr>\n",
       "      <th>0</th>\n",
       "      <td>19:54860011:G:A_LAIR1</td>\n",
       "      <td>0.000839</td>\n",
       "      <td>ADDxB.cells</td>\n",
       "    </tr>\n",
       "    <tr>\n",
       "      <th>1</th>\n",
       "      <td>19:54783077:G:C_LILRB2</td>\n",
       "      <td>0.002210</td>\n",
       "      <td>ADDxB.cells</td>\n",
       "    </tr>\n",
       "    <tr>\n",
       "      <th>2</th>\n",
       "      <td>19:52267074:A:G_FPR1</td>\n",
       "      <td>0.028213</td>\n",
       "      <td>ADDxB.cells</td>\n",
       "    </tr>\n",
       "    <tr>\n",
       "      <th>3</th>\n",
       "      <td>21:46328099:C:T_ITGB2</td>\n",
       "      <td>0.030249</td>\n",
       "      <td>ADDxBasophils</td>\n",
       "    </tr>\n",
       "    <tr>\n",
       "      <th>4</th>\n",
       "      <td>5:96200770:T:A_ERAP2</td>\n",
       "      <td>0.023456</td>\n",
       "      <td>ADDxCD4..Tcm</td>\n",
       "    </tr>\n",
       "    <tr>\n",
       "      <th>...</th>\n",
       "      <td>...</td>\n",
       "      <td>...</td>\n",
       "      <td>...</td>\n",
       "    </tr>\n",
       "    <tr>\n",
       "      <th>191</th>\n",
       "      <td>19:54783077:G:C_LILRB2</td>\n",
       "      <td>0.000128</td>\n",
       "      <td>ADDxpDC</td>\n",
       "    </tr>\n",
       "    <tr>\n",
       "      <th>192</th>\n",
       "      <td>10:97603163:G:A_ENTPD1</td>\n",
       "      <td>0.097134</td>\n",
       "      <td>ADDxpDC</td>\n",
       "    </tr>\n",
       "    <tr>\n",
       "      <th>193</th>\n",
       "      <td>19:55175740:C:T_LILRB4</td>\n",
       "      <td>0.007175</td>\n",
       "      <td>ADDxpDC</td>\n",
       "    </tr>\n",
       "    <tr>\n",
       "      <th>194</th>\n",
       "      <td>19:55174498:T:C_LILRB4</td>\n",
       "      <td>0.097134</td>\n",
       "      <td>ADDxpDC</td>\n",
       "    </tr>\n",
       "    <tr>\n",
       "      <th>195</th>\n",
       "      <td>11:64908332:A:C_CTSW</td>\n",
       "      <td>0.006123</td>\n",
       "      <td>ADDxpDC</td>\n",
       "    </tr>\n",
       "  </tbody>\n",
       "</table>\n",
       "<p>196 rows × 3 columns</p>\n",
       "</div>"
      ],
      "text/plain": [
       "                      assoc       fdr           cell\n",
       "0     19:54860011:G:A_LAIR1  0.000839    ADDxB.cells\n",
       "1    19:54783077:G:C_LILRB2  0.002210    ADDxB.cells\n",
       "2      19:52267074:A:G_FPR1  0.028213    ADDxB.cells\n",
       "3     21:46328099:C:T_ITGB2  0.030249  ADDxBasophils\n",
       "4      5:96200770:T:A_ERAP2  0.023456   ADDxCD4..Tcm\n",
       "..                      ...       ...            ...\n",
       "191  19:54783077:G:C_LILRB2  0.000128        ADDxpDC\n",
       "192  10:97603163:G:A_ENTPD1  0.097134        ADDxpDC\n",
       "193  19:55175740:C:T_LILRB4  0.007175        ADDxpDC\n",
       "194  19:55174498:T:C_LILRB4  0.097134        ADDxpDC\n",
       "195    11:64908332:A:C_CTSW  0.006123        ADDxpDC\n",
       "\n",
       "[196 rows x 3 columns]"
      ]
     },
     "execution_count": 6,
     "metadata": {},
     "output_type": "execute_result"
    }
   ],
   "source": [
    "df"
   ]
  },
  {
   "cell_type": "code",
   "execution_count": 31,
   "metadata": {},
   "outputs": [],
   "source": [
    "cell_interact_sig.to_csv(\"../data/x-cell-interaction.tsv\",index=None,sep=\"\\t\")"
   ]
  },
  {
   "cell_type": "code",
   "execution_count": 33,
   "metadata": {
    "scrolled": true
   },
   "outputs": [
    {
     "data": {
      "text/plain": [
       "ADDxMacrophages.M1         36\n",
       "ADDxMacrophages            32\n",
       "ADDxDC                     21\n",
       "ADDxaDC                    18\n",
       "ADDxCLP                    14\n",
       "ADDxMonocytes               9\n",
       "ADDxCD8..Tcm                7\n",
       "ADDxpDC                     7\n",
       "ADDxcDC                     7\n",
       "ADDxCD4..memory.T.cells     5\n",
       "ADDxMEP                     4\n",
       "ADDxPlasma.cells            3\n",
       "ADDxB.cells                 3\n",
       "ADDxCD4..naive.T.cells      3\n",
       "ADDxiDC                     3\n",
       "ADDxMelanocytes             3\n",
       "ADDxMast.cells              3\n",
       "ADDxMSC                     2\n",
       "ADDxSebocytes               2\n",
       "ADDxNeurons                 2\n",
       "ADDxTregs                   2\n",
       "ADDxChondrocytes            2\n",
       "ADDxTh1.cells               2\n",
       "ADDxCD4..Tcm                1\n",
       "ADDxBasophils               1\n",
       "ADDxOsteoblast              1\n",
       "ADDxEosinophils             1\n",
       "ADDxCD8..naive.T.cells      1\n",
       "ADDxNKT                     1\n",
       "Name: cell, dtype: int64"
      ]
     },
     "execution_count": 33,
     "metadata": {},
     "output_type": "execute_result"
    }
   ],
   "source": [
    "cell_interact_sig[\"cell\"].value_counts()"
   ]
  },
  {
   "cell_type": "code",
   "execution_count": 35,
   "metadata": {
    "scrolled": true
   },
   "outputs": [
    {
     "data": {
      "text/plain": [
       "['5:68627209:T:A_MARVELD2',\n",
       " '19:54860011:G:A_LAIR1',\n",
       " '19:54856354:G:A_LAIR1',\n",
       " '19:54879975:T:C_LAIR1',\n",
       " '19:54844626:T:G_LAIR1',\n",
       " '19:54874153:G:A_LAIR1',\n",
       " '19:54783077:G:C_LILRB2',\n",
       " '19:54800371:T:C_LILRB2',\n",
       " '19:54793198:G:C_LILRB2',\n",
       " '19:54830357:C:T_LILRB2',\n",
       " '19:54754377:T:A_LILRB2',\n",
       " '19:54790306:C:T_LILRB2',\n",
       " '5:96200770:T:A_ERAP2',\n",
       " '5:95964823:A:G_ERAP2',\n",
       " '2:219259844:A:G_SLC11A1',\n",
       " '19:55175740:C:T_LILRB4',\n",
       " '19:55175983:T:A_LILRB4',\n",
       " '19:55145546:T:G_LILRB4',\n",
       " '19:55174498:T:C_LILRB4',\n",
       " '19:55188593:G:C_LILRB4',\n",
       " '19:55058552:C:T_LILRB4',\n",
       " '19:55225076:C:A_LILRB4',\n",
       " '11:65646557:A:C_CTSW',\n",
       " '11:65301603:G:A_CTSW',\n",
       " '19:52255196:G:A_FPR1',\n",
       " '1:89242080:G:C_CCBL2',\n",
       " '19:52119546:T:C_SIGLEC5',\n",
       " '19:52130638:C:A_SIGLEC5',\n",
       " '19:52157686:C:T_SIGLEC5',\n",
       " '11:65645354:G:A_CTSW',\n",
       " '11:64908332:A:C_CTSW',\n",
       " '19:52167906:G:C_SIGLEC5',\n",
       " '2:219260651:C:A_SLC11A1',\n",
       " '5:95943979:T:C_ERAP1',\n",
       " '6:58602122:A:G_LAIR1',\n",
       " '12:69642145:G:T_LYZ']"
      ]
     },
     "execution_count": 35,
     "metadata": {},
     "output_type": "execute_result"
    }
   ],
   "source": [
    "cell_interact_sig[cell_interact_sig[\"cell\"]==\"ADDxMacrophages.M1\"][\"assoc\"].tolist()"
   ]
  },
  {
   "cell_type": "code",
   "execution_count": 39,
   "metadata": {},
   "outputs": [
    {
     "data": {
      "text/plain": [
       "['5:68627209:T:A_MARVELD2', '19:54783077:G:C_LILRB2']"
      ]
     },
     "execution_count": 39,
     "metadata": {},
     "output_type": "execute_result"
    }
   ],
   "source": [
    "cell_interact_sig[cell_interact_sig[\"cell\"]==\"ADDxTh1.cells\"][\"assoc\"].tolist()"
   ]
  },
  {
   "cell_type": "code",
   "execution_count": 38,
   "metadata": {},
   "outputs": [
    {
     "data": {
      "text/plain": [
       "[]"
      ]
     },
     "execution_count": 38,
     "metadata": {},
     "output_type": "execute_result"
    }
   ],
   "source": [
    "cell_interact_sig[cell_interact_sig[\"cell\"]==\"ADDxTh1\"][\"assoc\"].tolist()"
   ]
  },
  {
   "cell_type": "code",
   "execution_count": 25,
   "metadata": {},
   "outputs": [],
   "source": [
    "def intersection(lst1, lst2): \n",
    "    return list(set(lst1) & set(lst2))"
   ]
  },
  {
   "cell_type": "code",
   "execution_count": 26,
   "metadata": {
    "scrolled": true
   },
   "outputs": [
    {
     "name": "stdout",
     "output_type": "stream",
     "text": [
      "ADDxB.cells\n",
      "ADDxBasophils\n",
      "ADDxCD4..Tcm\n",
      "ADDxCD4..memory.T.cells\n",
      "ADDxCD4..naive.T.cells\n",
      "ADDxCD8..Tcm\n",
      "ADDxCD8..naive.T.cells\n",
      "ADDxCLP\n",
      "ADDxChondrocytes\n",
      "ADDxDC\n",
      "ADDxEosinophils\n",
      "ADDxMEP\n",
      "ADDxMSC\n",
      "ADDxMacrophages\n",
      "ADDxMacrophages.M1\n",
      "ADDxMast.cells\n",
      "ADDxMelanocytes\n",
      "ADDxMonocytes\n",
      "ADDxNKT\n",
      "ADDxNeurons\n",
      "ADDxOsteoblast\n",
      "ADDxPlasma.cells\n",
      "ADDxSebocytes\n",
      "ADDxTh1.cells\n",
      "ADDxTregs\n",
      "ADDxaDC\n",
      "ADDxcDC\n",
      "ADDxiDC\n",
      "ADDxpDC\n"
     ]
    }
   ],
   "source": [
    "values=[]\n",
    "assoc=[]\n",
    "\n",
    "for z in cell_interact_sig[\"cell\"].unique():\n",
    "    print(z)\n",
    "    lst=[]\n",
    "    for y in cell_interact_sig[\"cell\"].unique():\n",
    "        group1=cell_interact_sig[cell_interact_sig[\"cell\"]==z][\"assoc\"].tolist()\n",
    "        group2=cell_interact_sig[cell_interact_sig[\"cell\"]==y][\"assoc\"].tolist()\n",
    "        lst.append(len(set(intersection(group1,group2))))\n",
    "    assoc.append(z)\n",
    "    values.append(lst)"
   ]
  },
  {
   "cell_type": "code",
   "execution_count": 27,
   "metadata": {},
   "outputs": [],
   "source": [
    "df=pd.DataFrame({\"assoc\":assoc,\"values\":values})\n",
    "df_expand = df['values'].apply(pd.Series)\n",
    "df_expand.index=df.assoc.tolist()\n",
    "df_expand.columns=df.assoc.tolist()"
   ]
  },
  {
   "cell_type": "code",
   "execution_count": 28,
   "metadata": {},
   "outputs": [
    {
     "data": {
      "text/html": [
       "<div>\n",
       "<style scoped>\n",
       "    .dataframe tbody tr th:only-of-type {\n",
       "        vertical-align: middle;\n",
       "    }\n",
       "\n",
       "    .dataframe tbody tr th {\n",
       "        vertical-align: top;\n",
       "    }\n",
       "\n",
       "    .dataframe thead th {\n",
       "        text-align: right;\n",
       "    }\n",
       "</style>\n",
       "<table border=\"1\" class=\"dataframe\">\n",
       "  <thead>\n",
       "    <tr style=\"text-align: right;\">\n",
       "      <th></th>\n",
       "      <th>ADDxB.cells</th>\n",
       "      <th>ADDxBasophils</th>\n",
       "      <th>ADDxCD4..Tcm</th>\n",
       "      <th>ADDxCD4..memory.T.cells</th>\n",
       "      <th>ADDxCD4..naive.T.cells</th>\n",
       "      <th>ADDxCD8..Tcm</th>\n",
       "      <th>ADDxCD8..naive.T.cells</th>\n",
       "      <th>ADDxCLP</th>\n",
       "      <th>ADDxChondrocytes</th>\n",
       "      <th>ADDxDC</th>\n",
       "      <th>...</th>\n",
       "      <th>ADDxNeurons</th>\n",
       "      <th>ADDxOsteoblast</th>\n",
       "      <th>ADDxPlasma.cells</th>\n",
       "      <th>ADDxSebocytes</th>\n",
       "      <th>ADDxTh1.cells</th>\n",
       "      <th>ADDxTregs</th>\n",
       "      <th>ADDxaDC</th>\n",
       "      <th>ADDxcDC</th>\n",
       "      <th>ADDxiDC</th>\n",
       "      <th>ADDxpDC</th>\n",
       "    </tr>\n",
       "  </thead>\n",
       "  <tbody>\n",
       "    <tr>\n",
       "      <th>ADDxB.cells</th>\n",
       "      <td>3</td>\n",
       "      <td>0</td>\n",
       "      <td>0</td>\n",
       "      <td>2</td>\n",
       "      <td>2</td>\n",
       "      <td>2</td>\n",
       "      <td>0</td>\n",
       "      <td>0</td>\n",
       "      <td>0</td>\n",
       "      <td>2</td>\n",
       "      <td>...</td>\n",
       "      <td>1</td>\n",
       "      <td>1</td>\n",
       "      <td>1</td>\n",
       "      <td>0</td>\n",
       "      <td>1</td>\n",
       "      <td>0</td>\n",
       "      <td>2</td>\n",
       "      <td>1</td>\n",
       "      <td>2</td>\n",
       "      <td>2</td>\n",
       "    </tr>\n",
       "    <tr>\n",
       "      <th>ADDxBasophils</th>\n",
       "      <td>0</td>\n",
       "      <td>1</td>\n",
       "      <td>0</td>\n",
       "      <td>0</td>\n",
       "      <td>0</td>\n",
       "      <td>0</td>\n",
       "      <td>0</td>\n",
       "      <td>0</td>\n",
       "      <td>0</td>\n",
       "      <td>0</td>\n",
       "      <td>...</td>\n",
       "      <td>0</td>\n",
       "      <td>0</td>\n",
       "      <td>0</td>\n",
       "      <td>0</td>\n",
       "      <td>0</td>\n",
       "      <td>0</td>\n",
       "      <td>0</td>\n",
       "      <td>0</td>\n",
       "      <td>0</td>\n",
       "      <td>0</td>\n",
       "    </tr>\n",
       "    <tr>\n",
       "      <th>ADDxCD4..Tcm</th>\n",
       "      <td>0</td>\n",
       "      <td>0</td>\n",
       "      <td>1</td>\n",
       "      <td>1</td>\n",
       "      <td>0</td>\n",
       "      <td>0</td>\n",
       "      <td>0</td>\n",
       "      <td>0</td>\n",
       "      <td>0</td>\n",
       "      <td>1</td>\n",
       "      <td>...</td>\n",
       "      <td>1</td>\n",
       "      <td>0</td>\n",
       "      <td>1</td>\n",
       "      <td>0</td>\n",
       "      <td>0</td>\n",
       "      <td>0</td>\n",
       "      <td>1</td>\n",
       "      <td>0</td>\n",
       "      <td>0</td>\n",
       "      <td>0</td>\n",
       "    </tr>\n",
       "    <tr>\n",
       "      <th>ADDxCD4..memory.T.cells</th>\n",
       "      <td>2</td>\n",
       "      <td>0</td>\n",
       "      <td>1</td>\n",
       "      <td>5</td>\n",
       "      <td>2</td>\n",
       "      <td>3</td>\n",
       "      <td>0</td>\n",
       "      <td>0</td>\n",
       "      <td>0</td>\n",
       "      <td>3</td>\n",
       "      <td>...</td>\n",
       "      <td>2</td>\n",
       "      <td>1</td>\n",
       "      <td>2</td>\n",
       "      <td>0</td>\n",
       "      <td>1</td>\n",
       "      <td>0</td>\n",
       "      <td>3</td>\n",
       "      <td>1</td>\n",
       "      <td>2</td>\n",
       "      <td>2</td>\n",
       "    </tr>\n",
       "    <tr>\n",
       "      <th>ADDxCD4..naive.T.cells</th>\n",
       "      <td>2</td>\n",
       "      <td>0</td>\n",
       "      <td>0</td>\n",
       "      <td>2</td>\n",
       "      <td>3</td>\n",
       "      <td>3</td>\n",
       "      <td>0</td>\n",
       "      <td>0</td>\n",
       "      <td>0</td>\n",
       "      <td>3</td>\n",
       "      <td>...</td>\n",
       "      <td>1</td>\n",
       "      <td>1</td>\n",
       "      <td>1</td>\n",
       "      <td>0</td>\n",
       "      <td>1</td>\n",
       "      <td>0</td>\n",
       "      <td>3</td>\n",
       "      <td>1</td>\n",
       "      <td>2</td>\n",
       "      <td>3</td>\n",
       "    </tr>\n",
       "  </tbody>\n",
       "</table>\n",
       "<p>5 rows × 29 columns</p>\n",
       "</div>"
      ],
      "text/plain": [
       "                         ADDxB.cells  ADDxBasophils  ADDxCD4..Tcm  \\\n",
       "ADDxB.cells                        3              0             0   \n",
       "ADDxBasophils                      0              1             0   \n",
       "ADDxCD4..Tcm                       0              0             1   \n",
       "ADDxCD4..memory.T.cells            2              0             1   \n",
       "ADDxCD4..naive.T.cells             2              0             0   \n",
       "\n",
       "                         ADDxCD4..memory.T.cells  ADDxCD4..naive.T.cells  \\\n",
       "ADDxB.cells                                    2                       2   \n",
       "ADDxBasophils                                  0                       0   \n",
       "ADDxCD4..Tcm                                   1                       0   \n",
       "ADDxCD4..memory.T.cells                        5                       2   \n",
       "ADDxCD4..naive.T.cells                         2                       3   \n",
       "\n",
       "                         ADDxCD8..Tcm  ADDxCD8..naive.T.cells  ADDxCLP  \\\n",
       "ADDxB.cells                         2                       0        0   \n",
       "ADDxBasophils                       0                       0        0   \n",
       "ADDxCD4..Tcm                        0                       0        0   \n",
       "ADDxCD4..memory.T.cells             3                       0        0   \n",
       "ADDxCD4..naive.T.cells              3                       0        0   \n",
       "\n",
       "                         ADDxChondrocytes  ADDxDC  ...  ADDxNeurons  \\\n",
       "ADDxB.cells                             0       2  ...            1   \n",
       "ADDxBasophils                           0       0  ...            0   \n",
       "ADDxCD4..Tcm                            0       1  ...            1   \n",
       "ADDxCD4..memory.T.cells                 0       3  ...            2   \n",
       "ADDxCD4..naive.T.cells                  0       3  ...            1   \n",
       "\n",
       "                         ADDxOsteoblast  ADDxPlasma.cells  ADDxSebocytes  \\\n",
       "ADDxB.cells                           1                 1              0   \n",
       "ADDxBasophils                         0                 0              0   \n",
       "ADDxCD4..Tcm                          0                 1              0   \n",
       "ADDxCD4..memory.T.cells               1                 2              0   \n",
       "ADDxCD4..naive.T.cells                1                 1              0   \n",
       "\n",
       "                         ADDxTh1.cells  ADDxTregs  ADDxaDC  ADDxcDC  ADDxiDC  \\\n",
       "ADDxB.cells                          1          0        2        1        2   \n",
       "ADDxBasophils                        0          0        0        0        0   \n",
       "ADDxCD4..Tcm                         0          0        1        0        0   \n",
       "ADDxCD4..memory.T.cells              1          0        3        1        2   \n",
       "ADDxCD4..naive.T.cells               1          0        3        1        2   \n",
       "\n",
       "                         ADDxpDC  \n",
       "ADDxB.cells                    2  \n",
       "ADDxBasophils                  0  \n",
       "ADDxCD4..Tcm                   0  \n",
       "ADDxCD4..memory.T.cells        2  \n",
       "ADDxCD4..naive.T.cells         3  \n",
       "\n",
       "[5 rows x 29 columns]"
      ]
     },
     "execution_count": 28,
     "metadata": {},
     "output_type": "execute_result"
    }
   ],
   "source": [
    "df_expand.head()"
   ]
  },
  {
   "cell_type": "code",
   "execution_count": 29,
   "metadata": {
    "scrolled": false
   },
   "outputs": [
    {
     "data": {
      "text/plain": [
       "<Figure size 1440x1440 with 0 Axes>"
      ]
     },
     "metadata": {},
     "output_type": "display_data"
    },
    {
     "data": {
      "image/png": "[encoded data removed]",
      "text/plain": [
       "<Figure size 720x720 with 4 Axes>"
      ]
     },
     "metadata": {
      "needs_background": "light"
     },
     "output_type": "display_data"
    }
   ],
   "source": [
    "f=plt.figure(figsize=(20,20))\n",
    "ax=sns.clustermap(df_expand,cmap=\"Purples\")\n",
    "plt.savefig(\"../plots/tcga.xcell.int.overlap.pdf\")"
   ]
  },
  {
   "cell_type": "code",
   "execution_count": 64,
   "metadata": {
    "scrolled": true
   },
   "outputs": [],
   "source": [
    "cell_interact_sig[\"pheno\"]=cell_interact_sig[\"assoc\"].str.split(\"_\").str[1]"
   ]
  },
  {
   "cell_type": "code",
   "execution_count": 79,
   "metadata": {},
   "outputs": [
    {
     "data": {
      "text/plain": [
       "['ADDxMacrophages.M1', 'ADDxMacrophages', 'ADDxDC', 'ADDxaDC', 'ADDxCLP']"
      ]
     },
     "execution_count": 79,
     "metadata": {},
     "output_type": "execute_result"
    }
   ],
   "source": [
    "cell_interact_sig[\"cell\"].value_counts().index.tolist()[0:5]"
   ]
  },
  {
   "cell_type": "code",
   "execution_count": 75,
   "metadata": {},
   "outputs": [],
   "source": [
    "cell_interact_sig_pheno=cell_interact_sig.groupby([\"pheno\",\"cell\"]).size().reset_index()"
   ]
  },
  {
   "cell_type": "code",
   "execution_count": 81,
   "metadata": {},
   "outputs": [],
   "source": [
    "cell_interact_sig_pheno=cell_interact_sig_pheno[cell_interact_sig_pheno[\"cell\"].isin(cell_interact_sig[\"cell\"].value_counts().index.tolist()[0:5])]"
   ]
  },
  {
   "cell_type": "code",
   "execution_count": 84,
   "metadata": {},
   "outputs": [
    {
     "data": {
      "text/plain": [
       "(array([0, 1, 2, 3, 4]), <a list of 5 Text xticklabel objects>)"
      ]
     },
     "execution_count": 84,
     "metadata": {},
     "output_type": "execute_result"
    },
    {
     "data": {
      "image/png": "[encoded data removed]",
      "text/plain": [
       "<Figure size 432x288 with 1 Axes>"
      ]
     },
     "metadata": {
      "needs_background": "light"
     },
     "output_type": "display_data"
    }
   ],
   "source": [
    "sns.barplot(x=\"cell\",y=0,hue=\"pheno\",data=cell_interact_sig_pheno)\n",
    "plt.xticks(rotation=90)"
   ]
  },
  {
   "cell_type": "code",
   "execution_count": 62,
   "metadata": {
    "scrolled": true
   },
   "outputs": [
    {
     "data": {
      "text/html": [
       "<div>\n",
       "<style scoped>\n",
       "    .dataframe tbody tr th:only-of-type {\n",
       "        vertical-align: middle;\n",
       "    }\n",
       "\n",
       "    .dataframe tbody tr th {\n",
       "        vertical-align: top;\n",
       "    }\n",
       "\n",
       "    .dataframe thead th {\n",
       "        text-align: right;\n",
       "    }\n",
       "</style>\n",
       "<table border=\"1\" class=\"dataframe\">\n",
       "  <thead>\n",
       "    <tr style=\"text-align: right;\">\n",
       "      <th></th>\n",
       "      <th>assoc</th>\n",
       "      <th>fdr</th>\n",
       "      <th>cell</th>\n",
       "    </tr>\n",
       "  </thead>\n",
       "  <tbody>\n",
       "    <tr>\n",
       "      <th>193</th>\n",
       "      <td>19:55175983:T:A_LILRB4</td>\n",
       "      <td>0.015107</td>\n",
       "      <td>ADDxMelanocytes</td>\n",
       "    </tr>\n",
       "    <tr>\n",
       "      <th>196</th>\n",
       "      <td>19:55188593:G:C_LILRB4</td>\n",
       "      <td>0.015107</td>\n",
       "      <td>ADDxMelanocytes</td>\n",
       "    </tr>\n",
       "    <tr>\n",
       "      <th>272</th>\n",
       "      <td>3:48516525:A:T_TREX1</td>\n",
       "      <td>0.015107</td>\n",
       "      <td>ADDxMelanocytes</td>\n",
       "    </tr>\n",
       "  </tbody>\n",
       "</table>\n",
       "</div>"
      ],
      "text/plain": [
       "                      assoc       fdr             cell\n",
       "193  19:55175983:T:A_LILRB4  0.015107  ADDxMelanocytes\n",
       "196  19:55188593:G:C_LILRB4  0.015107  ADDxMelanocytes\n",
       "272    3:48516525:A:T_TREX1  0.015107  ADDxMelanocytes"
      ]
     },
     "execution_count": 62,
     "metadata": {},
     "output_type": "execute_result"
    }
   ],
   "source": [
    "cell_interact_sig[cell_interact_sig[\"cell\"]==\"ADDxMelanocytes\"]"
   ]
  },
  {
   "cell_type": "code",
   "execution_count": null,
   "metadata": {},
   "outputs": [],
   "source": []
  },
  {
   "cell_type": "code",
   "execution_count": null,
   "metadata": {},
   "outputs": [],
   "source": []
  },
  {
   "cell_type": "code",
   "execution_count": 30,
   "metadata": {},
   "outputs": [],
   "source": [
    "cov=[]\n",
    "num=[]\n",
    "\n",
    "for x in ax.data2d.columns.tolist():\n",
    "    cov.append(x)\n",
    "    num.append(len(cell_interact_sig[cell_interact_sig[\"cell\"]==x]))"
   ]
  },
  {
   "cell_type": "code",
   "execution_count": 31,
   "metadata": {},
   "outputs": [],
   "source": [
    "df_bar=pd.DataFrame({\"cov\":cov,\"num\":num})"
   ]
  },
  {
   "cell_type": "code",
   "execution_count": 32,
   "metadata": {},
   "outputs": [
    {
     "data": {
      "image/png": "[encoded data removed]",
      "text/plain": [
       "<Figure size 720x144 with 1 Axes>"
      ]
     },
     "metadata": {
      "needs_background": "light"
     },
     "output_type": "display_data"
    }
   ],
   "source": [
    "f=plt.figure(figsize=(10,2))\n",
    "sns.barplot([x.split(\"ADDx\")[1] for x in df_bar[\"cov\"]],df_bar[\"num\"],color=\"gray\")\n",
    "plt.xticks(rotation=90)\n",
    "plt.savefig(\"../plots/tcga.xcell.num.pdf\")"
   ]
  },
  {
   "cell_type": "code",
   "execution_count": null,
   "metadata": {},
   "outputs": [],
   "source": []
  },
  {
   "cell_type": "code",
   "execution_count": null,
   "metadata": {},
   "outputs": [],
   "source": []
  },
  {
   "cell_type": "code",
   "execution_count": null,
   "metadata": {},
   "outputs": [],
   "source": []
  }
 ],
 "metadata": {
  "kernelspec": {
   "display_name": "Python 3",
   "language": "python",
   "name": "python3"
  },
  "language_info": {
   "codemirror_mode": {
    "name": "ipython",
    "version": 3
   },
   "file_extension": ".py",
   "mimetype": "text/x-python",
   "name": "python",
   "nbconvert_exporter": "python",
   "pygments_lexer": "ipython3",
   "version": "3.7.7"
  }
 },
 "nbformat": 4,
 "nbformat_minor": 4
}
