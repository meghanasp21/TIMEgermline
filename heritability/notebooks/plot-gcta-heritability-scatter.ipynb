{
 "cells": [
  {
   "cell_type": "code",
   "execution_count": 1,
   "metadata": {},
   "outputs": [],
   "source": [
    "import sys\n",
    "sys.path.append(\"/cellar/users/mpagadal/Programs/anaconda3/lib/python3.7/site-packages\")\n",
    "sys.path.insert(1, '/cellar/users/mpagadal/Data/gcta/scripts')"
   ]
  },
  {
   "cell_type": "code",
   "execution_count": 2,
   "metadata": {},
   "outputs": [],
   "source": [
    "import os\n",
    "import json\n",
    "import pandas as pd\n",
    "import numpy as np\n",
    "import matplotlib.pyplot as plt\n",
    "import matplotlib as mpl\n",
    "import seaborn as sns\n",
    "from compile_gcta_df import *\n",
    "import statsmodels.stats.multitest as multi\n",
    "from adjustText import adjust_text"
   ]
  },
  {
   "cell_type": "code",
   "execution_count": 3,
   "metadata": {},
   "outputs": [],
   "source": [
    "import scipy\n",
    "from scipy import stats"
   ]
  },
  {
   "cell_type": "code",
   "execution_count": 4,
   "metadata": {},
   "outputs": [],
   "source": [
    "import matplotlib.pyplot as plt\n",
    "from matplotlib_venn import venn2\n",
    "from matplotlib_venn import venn3"
   ]
  },
  {
   "cell_type": "code",
   "execution_count": 5,
   "metadata": {},
   "outputs": [],
   "source": [
    "import matplotlib\n",
    "matplotlib.rcParams['pdf.fonttype'] = 42\n",
    "matplotlib.rcParams['ps.fonttype'] = 42"
   ]
  },
  {
   "cell_type": "markdown",
   "metadata": {},
   "source": [
    "### run make-grm.sh"
   ]
  },
  {
   "cell_type": "markdown",
   "metadata": {},
   "source": [
    "Run script to construct GRMs for TCGA"
   ]
  },
  {
   "cell_type": "markdown",
   "metadata": {},
   "source": [
    "### run run-gcta-european.sh"
   ]
  },
  {
   "cell_type": "markdown",
   "metadata": {},
   "source": [
    "Run GREML analysis for all immune phenotypes"
   ]
  },
  {
   "cell_type": "markdown",
   "metadata": {},
   "source": [
    "### Get GCTA results for Sailfish, FireBrowse, PanCanAtlas"
   ]
  },
  {
   "cell_type": "code",
   "execution_count": 6,
   "metadata": {},
   "outputs": [],
   "source": [
    "def fdr(df,pseudo):\n",
    "    #make heritability estimate numeric\n",
    "    df[\"V(G)/Vp\"]=pd.to_numeric(df[\"V(G)/Vp\"])\n",
    "    #add pseudocount\n",
    "    if pseudo == True:\n",
    "        df[\"Pval\"]=df[\"Pval\"]+0.0000001\n",
    "    \n",
    "    #calculate benjamin-hochberg fdr\n",
    "    genes=df[\"gene\"].tolist()\n",
    "    probabilities = df[\"Pval\"].to_numpy()\n",
    "    report = multi.multipletests(probabilities,\n",
    "                alpha=0.05,\n",
    "                method=\"fdr_bh\",\n",
    "                is_sorted=False,\n",
    "            )\n",
    "    discoveries = report[1]\n",
    "    df[\"fdr\"]=discoveries\n",
    "    df[\"fdr\"]=pd.to_numeric(df[\"fdr\"])\n",
    "    df[\"-log10(fdr)\"]=-np.log10(df[\"fdr\"])\n",
    "    \n",
    "    return(df)\n"
   ]
  },
  {
   "cell_type": "code",
   "execution_count": 7,
   "metadata": {},
   "outputs": [],
   "source": [
    "pseudocount=True"
   ]
  },
  {
   "cell_type": "code",
   "execution_count": 8,
   "metadata": {},
   "outputs": [
    {
     "name": "stdout",
     "output_type": "stream",
     "text": [
      "compiling gene level heritability dataframe.....\n"
     ]
    },
    {
     "name": "stderr",
     "output_type": "stream",
     "text": [
      "/cellar/users/mpagadal/Data/gcta/scripts/compile_gcta_df.py:69: SettingWithCopyWarning: \n",
      "A value is trying to be set on a copy of a slice from a DataFrame.\n",
      "Try using .loc[row_indexer,col_indexer] = value instead\n",
      "\n",
      "See the caveats in the documentation: https://pandas.pydata.org/pandas-docs/stable/user_guide/indexing.html#returning-a-view-versus-a-copy\n",
      "  variance[\"V(G) SE\"]=se[0].tolist()\n",
      "/cellar/users/mpagadal/Data/gcta/scripts/compile_gcta_df.py:70: SettingWithCopyWarning: \n",
      "A value is trying to be set on a copy of a slice from a DataFrame.\n",
      "Try using .loc[row_indexer,col_indexer] = value instead\n",
      "\n",
      "See the caveats in the documentation: https://pandas.pydata.org/pandas-docs/stable/user_guide/indexing.html#returning-a-view-versus-a-copy\n",
      "  variance[\"V(e) SE\"]=se[1].tolist()\n",
      "/cellar/users/mpagadal/Data/gcta/scripts/compile_gcta_df.py:71: SettingWithCopyWarning: \n",
      "A value is trying to be set on a copy of a slice from a DataFrame.\n",
      "Try using .loc[row_indexer,col_indexer] = value instead\n",
      "\n",
      "See the caveats in the documentation: https://pandas.pydata.org/pandas-docs/stable/user_guide/indexing.html#returning-a-view-versus-a-copy\n",
      "  variance[\"V(p) SE\"]=se[2].tolist()\n",
      "/cellar/users/mpagadal/Data/gcta/scripts/compile_gcta_df.py:72: SettingWithCopyWarning: \n",
      "A value is trying to be set on a copy of a slice from a DataFrame.\n",
      "Try using .loc[row_indexer,col_indexer] = value instead\n",
      "\n",
      "See the caveats in the documentation: https://pandas.pydata.org/pandas-docs/stable/user_guide/indexing.html#returning-a-view-versus-a-copy\n",
      "  variance[\"V(G)/Vp SE\"]=se[3].tolist()\n"
     ]
    },
    {
     "name": "stdout",
     "output_type": "stream",
     "text": [
      "compiling gene level heritability dataframe.....\n",
      "compiling gene level heritability dataframe.....\n"
     ]
    }
   ],
   "source": [
    "results=[\"\"]\n",
    "tpm=compile_gcta_results(results,output=\"overall\",direct=\"/cellar/users/mpagadal/Data/projects/germline-immune/heritability/results/tpm/full/\")\n",
    "firebrowse=compile_gcta_results(results,output=\"overall\",direct=\"/cellar/users/mpagadal/Data/projects/germline-immune/heritability/results/firebrowse/full/\")\n",
    "pancan=compile_gcta_results(results,output=\"overall\",direct=\"/cellar/users/mpagadal/Data/projects/germline-immune/heritability/results/pancanatlas/full\")"
   ]
  },
  {
   "cell_type": "code",
   "execution_count": 9,
   "metadata": {},
   "outputs": [],
   "source": [
    "tpm=fdr(tpm,pseudocount)\n",
    "firebrowse=fdr(firebrowse,pseudocount)\n",
    "pancan=fdr(pancan,pseudocount)"
   ]
  },
  {
   "cell_type": "code",
   "execution_count": 11,
   "metadata": {},
   "outputs": [],
   "source": [
    "# rename columns to merge for total dataframe\n",
    "\n",
    "tpm=tpm.rename(columns={\"V(G)/Vp\":\"tpm V(G)/V(p)\",\"-log10(fdr)\":\"tpm -log10(fdr)\"})\n",
    "firebrowse=firebrowse.rename(columns={\"V(G)/Vp\":\"firebrowse V(G)/V(p)\",\"-log10(fdr)\":\"firebrowse -log10(fdr)\"})\n",
    "pancan=pancan.rename(columns={\"V(G)/Vp\":\"pancan V(G)/V(p)\",\"-log10(fdr)\":\"pancan -log10(fdr)\"})\n",
    "\n",
    "# merge columns\n",
    "\n",
    "total=pd.merge(tpm[[\"tpm V(G)/V(p)\",\"gene\",\"tpm -log10(fdr)\"]],firebrowse[[\"firebrowse V(G)/V(p)\",\"gene\",\"firebrowse -log10(fdr)\"]], on=\"gene\",how=\"outer\")\n",
    "total=pd.merge(total,pancan[[\"pancan V(G)/V(p)\",\"gene\",\"pancan -log10(fdr)\"]],on=\"gene\",how=\"outer\")"
   ]
  },
  {
   "cell_type": "code",
   "execution_count": 12,
   "metadata": {},
   "outputs": [],
   "source": [
    "#g et number of RNA processing pipelines that support V(G)/V(p) > 0.05 and -log10(fdr) > 1.3\n",
    "total[\"consensus V(g)/V(p)\"]=total[[\"tpm V(G)/V(p)\",\"firebrowse V(G)/V(p)\",\"pancan V(G)/V(p)\"]].apply(lambda x: len([x for x in list(x) if x>0.05]), axis=1)\n",
    "total[\"consensus fdr\"]=total[[\"tpm -log10(fdr)\",\"firebrowse -log10(fdr)\",\"pancan -log10(fdr)\"]].apply(lambda x: len([x for x in list(x) if x>1.3]), axis=1)"
   ]
  },
  {
   "cell_type": "code",
   "execution_count": 13,
   "metadata": {},
   "outputs": [],
   "source": [
    "# keep only genes with phenotype values in at least 2 datasets\n",
    "total[\"null\"]=total[[\"tpm V(G)/V(p)\",\"firebrowse V(G)/V(p)\",\"pancan V(G)/V(p)\"]].apply(lambda x: len([x for x in list(x) if np.isnan(x)]), axis=1)\n",
    "total=total[total[\"null\"]<2]\n",
    "df_genes=pd.DataFrame({\"genes\":total[\"gene\"].tolist()})\n",
    "#df_genes.to_csv(\"immune.genes.2.rna.txt\",index=None,sep=\"\\t\")"
   ]
  },
  {
   "cell_type": "code",
   "execution_count": 14,
   "metadata": {},
   "outputs": [
    {
     "data": {
      "text/plain": [
       "741"
      ]
     },
     "execution_count": 14,
     "metadata": {},
     "output_type": "execute_result"
    }
   ],
   "source": [
    "len(df_genes)"
   ]
  },
  {
   "cell_type": "code",
   "execution_count": 15,
   "metadata": {},
   "outputs": [],
   "source": [
    "# make column of size of scatterplot\n",
    "total[\"size\"]=(total[\"consensus V(g)/V(p)\"]*30)+10"
   ]
  },
  {
   "cell_type": "code",
   "execution_count": 17,
   "metadata": {},
   "outputs": [],
   "source": [
    "# map to category\n",
    "with open('/cellar/users/mpagadal/Data/projects/germline-immune/discovery/data/pheno_dictionary.json', 'r') as f:\n",
    "    pheno_dict = json.load(f)\n",
    "total[\"category\"]=total[\"gene\"].map(pheno_dict)"
   ]
  },
  {
   "cell_type": "code",
   "execution_count": 18,
   "metadata": {},
   "outputs": [],
   "source": [
    "# significant heritability genes\n",
    "# at least 2 rna sources with heritability estimates > 0.05\n",
    "# at least 1 of the heritability estimates must have FDR > 10%\n",
    "sig=total[(total[\"consensus V(g)/V(p)\"]>1)&(total[\"consensus fdr\"]>0)][\"gene\"].tolist()"
   ]
  },
  {
   "cell_type": "code",
   "execution_count": 19,
   "metadata": {},
   "outputs": [
    {
     "data": {
      "text/plain": [
       "137"
      ]
     },
     "execution_count": 19,
     "metadata": {},
     "output_type": "execute_result"
    }
   ],
   "source": [
    "len(sig)"
   ]
  },
  {
   "cell_type": "code",
   "execution_count": 23,
   "metadata": {},
   "outputs": [],
   "source": [
    "# export significant heritable genes\n",
    "gcta_sig=pd.DataFrame({\"genes\":sig})\n",
    "gcta_sig.to_csv(\"../data/gcta_significant_genes.txt\",header=None,index=None)"
   ]
  },
  {
   "cell_type": "code",
   "execution_count": 24,
   "metadata": {},
   "outputs": [
    {
     "data": {
      "text/plain": [
       "'There are 137 heritable immune traits'"
      ]
     },
     "execution_count": 24,
     "metadata": {},
     "output_type": "execute_result"
    }
   ],
   "source": [
    "\"There are {} heritable immune traits\".format(len(sig))"
   ]
  },
  {
   "cell_type": "code",
   "execution_count": 25,
   "metadata": {},
   "outputs": [
    {
     "data": {
      "text/plain": [
       "'The following immune genes are heritable: FCGR2A PSMD2 FPR1 CYBA IL1A CTSS PSMD11 C3AR1 LNPEP MICA COX17 LYN CD86 IFI44L CSF3R SKIL TAP2 ERAP1 ENTPD1 SLC25A40 ENO1 OAS3 HLA.C UAP1 KIF2A APITD1 MARCH1 PLEK DYNLT1 IL10 MARVELD2 RNF41 LYZ SEC24C ITGAV CD80 TRA2B MYO1F DBNDD1 CCBL2 CAPZB PSMC1 WDR54 B2M NUTF2 DHFR MNDA HLA.DQA1 VAMP3 IGF2R FCGR3A TAB1 PSMB9 BTN3A2 LM22.Macrophages.M2 PSMB7 LAIR1 SAMHD1 IL2RA ALOX5AP CLEC4A MS4A4A DCTN5 IL12A HLA.B PIK3CG SLC11A1 HLA.DRB5 HCK CANX FCGR3B GNPTAB LILRB2 ADCY7 HLA.A CD44 HLA.F GPLD1 PGM2 OAS1 HLA.DRB1 HAUS1 SMAD4 CBX1 NEO1 CTSD BSG IFI6 STAT1 CD84 SEC31A TNFRSF1A COL8A1 CD209 RAB35 CHUK CTNNB1 RBM14 VSIG4 FPR3 HLA.DQA2 NCF2 EIF2AK1 PLOD2 ITGB2 SEC22B CSF1R CAPZA2 SIGLEC5 FAM167A LILRB4 TNFSF13B TREX1 AMPD3 CD14 CD68 FCGR2B IL1B IL10RA CYBB MICB CTSW CD163 SLC25A5 CD53 ERLIN1 SH3BP5L CTSL ISG15 TRAF6 TLR2 ERAP2 HLA.DQB1 SEC24A HLA.DQB2 HLA.G HLA.H'"
      ]
     },
     "execution_count": 25,
     "metadata": {},
     "output_type": "execute_result"
    }
   ],
   "source": [
    "\"The following immune genes are heritable: {}\".format(\" \".join(sig))"
   ]
  },
  {
   "cell_type": "code",
   "execution_count": 26,
   "metadata": {},
   "outputs": [
    {
     "data": {
      "text/plain": [
       "immunomodulators       70\n",
       "antigen present        41\n",
       "immune checkpoint      11\n",
       "cell type              10\n",
       "TGFbeta                 3\n",
       "immune infiltration     1\n",
       "IFNG                    1\n",
       "Name: category, dtype: int64"
      ]
     },
     "execution_count": 26,
     "metadata": {},
     "output_type": "execute_result"
    }
   ],
   "source": [
    "total[total[\"gene\"].isin(sig)][\"category\"].value_counts()"
   ]
  },
  {
   "cell_type": "code",
   "execution_count": 27,
   "metadata": {},
   "outputs": [],
   "source": [
    "# color based on category\n",
    "total[\"color\"]=\"silver\"\n",
    "total[\"color\"]=np.where((total['consensus V(g)/V(p)']>1), \"silver\",total.color)\n",
    "total[\"color\"]=np.where((total['consensus V(g)/V(p)']>1)&(total[\"consensus fdr\"]>0)&(total['category']==\"antigen present\"),\"#66c2a5\",total.color)\n",
    "total[\"color\"]=np.where((total['consensus V(g)/V(p)']>1)&(total[\"consensus fdr\"]>0)&(total['category']==\"immunomodulators\"),\"#fc8d62\",total.color)\n",
    "total[\"color\"]=np.where((total['consensus V(g)/V(p)']>1)&(total[\"consensus fdr\"]>0)&(total['category']==\"immune checkpoint\"),\"#8da0cb\",total.color)\n",
    "total[\"color\"]=np.where((total['consensus V(g)/V(p)']>1)&(total[\"consensus fdr\"]>0)&(total['category']==\"cell type\"),\"#e78ac3\",total.color)\n",
    "total[\"color\"]=np.where((total['consensus V(g)/V(p)']>1)&(total[\"consensus fdr\"]>0)&(total['category']==\"TGFbeta\"),\"#a6d854\",total.color)\n",
    "total[\"color\"]=np.where((total['consensus V(g)/V(p)']>1)&(total[\"consensus fdr\"]>0)&(total['category']==\"IFNG\"),\"#ffd92f\",total.color)\n",
    "total[\"color\"]=np.where((total['consensus V(g)/V(p)']>1)&(total[\"consensus fdr\"]>0)&(total['category']==\"immune infiltration\"),\"#e5c494\",total.color)"
   ]
  },
  {
   "cell_type": "code",
   "execution_count": 29,
   "metadata": {},
   "outputs": [],
   "source": [
    "# label only genes with heritability > 0.10\n",
    "df_label=total[(total[\"color\"]!=\"silver\")&(total[\"tpm V(G)/V(p)\"]>0.10)]"
   ]
  },
  {
   "cell_type": "code",
   "execution_count": 30,
   "metadata": {},
   "outputs": [],
   "source": [
    "mp_color={\"#66c2a5\":\"antigen present\",\"#fc8d62\":\"immunomodulators\",\"#8da0cb\":\"immune checkpoint\",\"#e78ac3\":\"cell type\",\"#a6d854\":\"TGFbeta\",\"#ffd92f\":\"IFNG\",\"#e5c494\":\"immune infiltration\",\"silver\":\"\"}"
   ]
  },
  {
   "cell_type": "code",
   "execution_count": 31,
   "metadata": {},
   "outputs": [],
   "source": [
    "# get max heritability and log10 FDR\n",
    "total[\"max V(g)/V(p)\"]=total[[\"tpm V(G)/V(p)\", \"firebrowse V(G)/V(p)\",\"pancan V(G)/V(p)\"]].max(axis=1)\n",
    "total[\"max log10fdr\"]=total[[\"tpm -log10(fdr)\", \"firebrowse -log10(fdr)\",\"pancan -log10(fdr)\"]].max(axis=1)"
   ]
  },
  {
   "cell_type": "code",
   "execution_count": 33,
   "metadata": {},
   "outputs": [
    {
     "data": {
      "image/png": "[encoded data removed]",
      "text/plain": [
       "<Figure size 720x720 with 1 Axes>"
      ]
     },
     "metadata": {
      "needs_background": "light"
     },
     "output_type": "display_data"
    }
   ],
   "source": [
    "f=plt.figure(figsize=(10,10))\n",
    "for x in total[\"color\"].unique():\n",
    "    sc=plt.scatter(total[total[\"color\"]==x][\"max log10fdr\"],total[total[\"color\"]==x][\"max V(g)/V(p)\"],\n",
    "                color=total[total[\"color\"]==x][\"color\"],s=total[total[\"color\"]==x][\"size\"],label=mp_color[x])\n",
    "\n",
    "plt.ylabel(\"V(g)/V(p)\",fontsize=15)\n",
    "plt.xlabel(\"-log10(FDR)\",fontsize=15)\n",
    "plt.axvline(x=1.3,color=\"k\",linestyle=\"--\")\n",
    "plt.axhline(y=0.05,color=\"k\",linestyle=\"--\")\n",
    "\n",
    "texts=[]\n",
    "for i,row in df_label.iterrows(): \n",
    "    texts.append(plt.text(float(row[\"tpm -log10(fdr)\"]),float(row[\"tpm V(G)/V(p)\"]),row[\"gene\"],color=\"black\"))\n",
    "    \n",
    "adjust_text(texts,only_move={'points':'y', 'texts':'y'}, color='black', lw=0.5)\n",
    "\n",
    "# kw = dict(prop=\"sizes\", num=5, color=\"k\",\n",
    "#           func=lambda s: (s-10)/30)\n",
    "# plt.legend(*sc.legend_elements(**kw),\n",
    "#                     loc=\"upper left\", title=\"Consensus\")\n",
    "\n",
    "f.savefig(\"../plots/consensus-heritability-barplot.pdf\", bbox_inches='tight')\n"
   ]
  },
  {
   "cell_type": "markdown",
   "metadata": {},
   "source": [
    "## Get HLA-nonHLA information"
   ]
  },
  {
   "cell_type": "code",
   "execution_count": 35,
   "metadata": {},
   "outputs": [],
   "source": [
    "# get heritability results from two-state nonHLA and HLA analysis\n",
    "nonhla=pd.read_csv(\"../data/nonhla_gcta_results.tsv\",delimiter=\"\\t\")\n",
    "hla=pd.read_csv(\"../data/hla_gcta_results.tsv\",delimiter=\"\\t\")\n",
    "df_hla=pd.merge(nonhla,hla,on=[\"gene\"],suffixes=(\"_nonhla\",\"_hla\"))"
   ]
  },
  {
   "cell_type": "code",
   "execution_count": 36,
   "metadata": {},
   "outputs": [],
   "source": [
    "df_hla[\"tpm diff\"]=df_hla[\"tpm V(G)/V(p)_nonhla\"]-df_hla[\"tpm V(G)/V(p)_hla\"]\n",
    "df_hla[\"firebrowse diff\"]=df_hla[\"firebrowse V(G)/V(p)_nonhla\"]-df_hla[\"firebrowse V(G)/V(p)_hla\"]\n",
    "df_hla[\"pancan diff\"]=df_hla[\"pancan V(G)/V(p)_nonhla\"]-df_hla[\"pancan V(G)/V(p)_hla\"]"
   ]
  },
  {
   "cell_type": "code",
   "execution_count": 37,
   "metadata": {},
   "outputs": [],
   "source": [
    "df_hla[\"consensus nonhla\"]=df_hla[[\"tpm diff\",\"firebrowse diff\",\"pancan diff\"]].apply(lambda x: len([x for x in list(x) if x>0]), axis=1)"
   ]
  },
  {
   "cell_type": "code",
   "execution_count": 38,
   "metadata": {},
   "outputs": [
    {
     "name": "stdout",
     "output_type": "stream",
     "text": [
      "17\n"
     ]
    },
    {
     "data": {
      "text/plain": [
       "'TAP2 PSMB9 MICA HLA.B HLA.C HLA.DQA1 HLA.DRB5 HLA.DRB1 HLA.DQA2 BTN3A2 HLA.DQB1 MICB HLA.A HLA.F HLA.DQB2 HLA.H HLA.G'"
      ]
     },
     "execution_count": 38,
     "metadata": {},
     "output_type": "execute_result"
    }
   ],
   "source": [
    "hla_genes=df_hla[(df_hla[\"gene\"].isin(sig))&(df_hla[\"consensus nonhla\"]<=2)][\"gene\"].tolist()\n",
    "print(len(hla_genes))\n",
    "\" \".join(hla_genes)"
   ]
  },
  {
   "cell_type": "code",
   "execution_count": 39,
   "metadata": {},
   "outputs": [
    {
     "name": "stdout",
     "output_type": "stream",
     "text": [
      "120\n"
     ]
    },
    {
     "data": {
      "text/plain": [
       "'LAIR1 PSMB7 EIF2AK1 FCGR3B IL2RA LYZ CD86 LILRB2 SKIL GNPTAB SIGLEC5 FAM167A CTSS DCTN5 B2M IL12A FPR1 CYBA IL1A TRA2B IL10 PLEK CCBL2 MYO1F SEC31A RNF41 ITGAV MARVELD2 SLC25A5 SLC25A40 VAMP3 COL8A1 UAP1 SH3BP5L CTNNB1 IGF2R OAS3 PSMC1 WDR54 CAPZB NUTF2 ENO1 KIF2A LYN DHFR MNDA SEC22B CAPZA2 LILRB4 CD80 C3AR1 COX17 IL10RA LNPEP FCGR2B PSMD2 ERLIN1 ERAP1 CSF3R SEC24A TAB1 OAS1 FCGR2A CD163 PGM2 PSMD11 CD44 ERAP2 IFI44L CANX ENTPD1 ISG15 TRAF6 ITGB2 FPR3 ALOX5AP PLOD2 APITD1 CHUK AMPD3 CD84 MARCH1 TNFRSF1A IFI6 SLC11A1 CSF1R CBX1 TREX1 NEO1 DYNLT1 CTSD SEC24C TNFSF13B HCK SMAD4 STAT1 DBNDD1 RBM14 VSIG4 RAB35 CD209 NCF2 FCGR3A TLR2 ADCY7 SAMHD1 CTSL MS4A4A LM22.Macrophages.M2 CD53 BSG CLEC4A GPLD1 PIK3CG HAUS1 CTSW IL1B CYBB CD14 CD68'"
      ]
     },
     "execution_count": 39,
     "metadata": {},
     "output_type": "execute_result"
    }
   ],
   "source": [
    "nonhla_genes=df_hla[(df_hla[\"gene\"].isin(sig))&(df_hla[\"consensus nonhla\"]>2)][\"gene\"].tolist()\n",
    "print(len(nonhla_genes))\n",
    "\" \".join(nonhla_genes)"
   ]
  },
  {
   "cell_type": "code",
   "execution_count": 40,
   "metadata": {},
   "outputs": [],
   "source": [
    "df_hla[\"max hla V(g)/V(p)\"]=df_hla[[\"tpm V(G)/V(p)_hla\", \"firebrowse V(G)/V(p)_hla\",\"pancan V(G)/V(p)_hla\"]].max(axis=1)\n",
    "df_hla[\"max nonhla V(g)/V(p)\"]=df_hla[[\"tpm V(G)/V(p)_nonhla\", \"firebrowse V(G)/V(p)_nonhla\",\"pancan V(G)/V(p)_nonhla\"]].max(axis=1)"
   ]
  },
  {
   "cell_type": "code",
   "execution_count": 41,
   "metadata": {},
   "outputs": [],
   "source": [
    "df_hla[\"difference\"]=df_hla[\"max hla V(g)/V(p)\"]-df_hla[\"max nonhla V(g)/V(p)\"]"
   ]
  },
  {
   "cell_type": "markdown",
   "metadata": {},
   "source": [
    "### Make HLA-nonHLA GCTA dataframe"
   ]
  },
  {
   "cell_type": "code",
   "execution_count": 42,
   "metadata": {},
   "outputs": [
    {
     "data": {
      "text/plain": [
       "(137, 24)"
      ]
     },
     "execution_count": 42,
     "metadata": {},
     "output_type": "execute_result"
    }
   ],
   "source": [
    "plot_hla=df_hla.sort_values(by=\"difference\",ascending=False)\n",
    "plot_hla=plot_hla[plot_hla[\"gene\"].isin(sig)]\n",
    "plot_hla.shape"
   ]
  },
  {
   "cell_type": "code",
   "execution_count": 43,
   "metadata": {},
   "outputs": [],
   "source": [
    "plot_hla=pd.melt(plot_hla, id_vars=['gene'], value_vars=['max hla V(g)/V(p)', 'max nonhla V(g)/V(p)'])"
   ]
  },
  {
   "cell_type": "code",
   "execution_count": 45,
   "metadata": {},
   "outputs": [
    {
     "data": {
      "text/plain": [
       "([], <a list of 0 Text xticklabel objects>)"
      ]
     },
     "execution_count": 45,
     "metadata": {},
     "output_type": "execute_result"
    },
    {
     "data": {
      "image/png": "[encoded data removed]",
      "text/plain": [
       "<Figure size 720x720 with 1 Axes>"
      ]
     },
     "metadata": {
      "needs_background": "light"
     },
     "output_type": "display_data"
    }
   ],
   "source": [
    "f=plt.figure(figsize=(10,10))\n",
    "sns.barplot(x=\"gene\", hue=\"variable\", y=\"value\", data=plot_hla)\n",
    "plt.xticks(rotation=90)\n",
    "f.savefig(\"../plots/heritability-hla-difference-barplot.pdf\", bbox_inches='tight')\n",
    "plt.xticks([])"
   ]
  },
  {
   "cell_type": "markdown",
   "metadata": {},
   "source": [
    "## Export dataframe"
   ]
  },
  {
   "cell_type": "code",
   "execution_count": 47,
   "metadata": {},
   "outputs": [
    {
     "ename": "KeyError",
     "evalue": "\"None of ['gene'] are in the columns\"",
     "output_type": "error",
     "traceback": [
      "\u001b[0;31m---------------------------------------------------------------------------\u001b[0m",
      "\u001b[0;31mKeyError\u001b[0m                                  Traceback (most recent call last)",
      "\u001b[0;32m<ipython-input-47-e30a3ad8a376>\u001b[0m in \u001b[0;36m<module>\u001b[0;34m\u001b[0m\n\u001b[0;32m----> 1\u001b[0;31m \u001b[0mtotal\u001b[0m\u001b[0;34m=\u001b[0m\u001b[0mtotal\u001b[0m\u001b[0;34m.\u001b[0m\u001b[0mset_index\u001b[0m\u001b[0;34m(\u001b[0m\u001b[0;34m\"gene\"\u001b[0m\u001b[0;34m)\u001b[0m\u001b[0;34m\u001b[0m\u001b[0;34m\u001b[0m\u001b[0m\n\u001b[0m\u001b[1;32m      2\u001b[0m \u001b[0mtotal\u001b[0m\u001b[0;34m.\u001b[0m\u001b[0mhead\u001b[0m\u001b[0;34m(\u001b[0m\u001b[0;34m)\u001b[0m\u001b[0;34m\u001b[0m\u001b[0;34m\u001b[0m\u001b[0m\n",
      "\u001b[0;32m/nrnb/opt/anaconda3.7/lib/python3.7/site-packages/pandas/core/frame.py\u001b[0m in \u001b[0;36mset_index\u001b[0;34m(self, keys, drop, append, inplace, verify_integrity)\u001b[0m\n\u001b[1;32m   4301\u001b[0m \u001b[0;34m\u001b[0m\u001b[0m\n\u001b[1;32m   4302\u001b[0m         \u001b[0;32mif\u001b[0m \u001b[0mmissing\u001b[0m\u001b[0;34m:\u001b[0m\u001b[0;34m\u001b[0m\u001b[0;34m\u001b[0m\u001b[0m\n\u001b[0;32m-> 4303\u001b[0;31m             \u001b[0;32mraise\u001b[0m \u001b[0mKeyError\u001b[0m\u001b[0;34m(\u001b[0m\u001b[0;34mf\"None of {missing} are in the columns\"\u001b[0m\u001b[0;34m)\u001b[0m\u001b[0;34m\u001b[0m\u001b[0;34m\u001b[0m\u001b[0m\n\u001b[0m\u001b[1;32m   4304\u001b[0m \u001b[0;34m\u001b[0m\u001b[0m\n\u001b[1;32m   4305\u001b[0m         \u001b[0;32mif\u001b[0m \u001b[0minplace\u001b[0m\u001b[0;34m:\u001b[0m\u001b[0;34m\u001b[0m\u001b[0;34m\u001b[0m\u001b[0m\n",
      "\u001b[0;31mKeyError\u001b[0m: \"None of ['gene'] are in the columns\""
     ]
    }
   ],
   "source": [
    "total=total.set_index(\"gene\")\n",
    "total.head()"
   ]
  },
  {
   "cell_type": "code",
   "execution_count": 48,
   "metadata": {},
   "outputs": [],
   "source": [
    "df_gcta=pd.merge(total, df_hla[[\"gene\",\"max hla V(g)/V(p)\",\"max nonhla V(g)/V(p)\"]].set_index(\"gene\"),left_index=True,right_index=True,how=\"left\")"
   ]
  },
  {
   "cell_type": "code",
   "execution_count": 49,
   "metadata": {},
   "outputs": [],
   "source": [
    "df_gcta.to_csv(\"../data/tcga_gcta_analysis.csv\")"
   ]
  },
  {
   "cell_type": "code",
   "execution_count": null,
   "metadata": {},
   "outputs": [],
   "source": []
  },
  {
   "cell_type": "code",
   "execution_count": null,
   "metadata": {},
   "outputs": [],
   "source": []
  },
  {
   "cell_type": "code",
   "execution_count": null,
   "metadata": {},
   "outputs": [],
   "source": []
  },
  {
   "cell_type": "code",
   "execution_count": null,
   "metadata": {},
   "outputs": [],
   "source": []
  },
  {
   "cell_type": "code",
   "execution_count": null,
   "metadata": {},
   "outputs": [],
   "source": []
  }
 ],
 "metadata": {
  "kernelspec": {
   "display_name": "Python 3",
   "language": "python",
   "name": "python3"
  },
  "language_info": {
   "codemirror_mode": {
    "name": "ipython",
    "version": 3
   },
   "file_extension": ".py",
   "mimetype": "text/x-python",
   "name": "python",
   "nbconvert_exporter": "python",
   "pygments_lexer": "ipython3",
   "version": "3.7.7"
  }
 },
 "nbformat": 4,
 "nbformat_minor": 2
}
