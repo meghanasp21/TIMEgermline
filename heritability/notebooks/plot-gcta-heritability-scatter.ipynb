{
 "cells": [
  {
   "cell_type": "code",
   "execution_count": 1,
   "metadata": {},
   "outputs": [],
   "source": [
    "import sys\n",
    "sys.path.append(\"/cellar/users/mpagadal/Programs/anaconda3/lib/python3.7/site-packages\")\n",
    "sys.path.insert(1, '/cellar/users/mpagadal/Data/gcta/scripts')"
   ]
  },
  {
   "cell_type": "code",
   "execution_count": 2,
   "metadata": {},
   "outputs": [],
   "source": [
    "import os\n",
    "import json\n",
    "import pandas as pd\n",
    "import numpy as np\n",
    "import matplotlib.pyplot as plt\n",
    "import matplotlib as mpl\n",
    "import seaborn as sns\n",
    "from compile_gcta_df import *\n",
    "import statsmodels.stats.multitest as multi\n",
    "from adjustText import adjust_text"
   ]
  },
  {
   "cell_type": "code",
   "execution_count": 3,
   "metadata": {},
   "outputs": [],
   "source": [
    "import scipy\n",
    "from scipy import stats"
   ]
  },
  {
   "cell_type": "code",
   "execution_count": 4,
   "metadata": {},
   "outputs": [],
   "source": [
    "import matplotlib.pyplot as plt\n",
    "from matplotlib_venn import venn2\n",
    "from matplotlib_venn import venn3"
   ]
  },
  {
   "cell_type": "code",
   "execution_count": 5,
   "metadata": {},
   "outputs": [],
   "source": [
    "import matplotlib\n",
    "matplotlib.rcParams['pdf.fonttype'] = 42\n",
    "matplotlib.rcParams['ps.fonttype'] = 42"
   ]
  },
  {
   "cell_type": "markdown",
   "metadata": {},
   "source": [
    "### run make-grm.sh"
   ]
  },
  {
   "cell_type": "markdown",
   "metadata": {},
   "source": [
    "Run script to construct GRMs for TCGA"
   ]
  },
  {
   "cell_type": "markdown",
   "metadata": {},
   "source": [
    "### run run-gcta-european.sh"
   ]
  },
  {
   "cell_type": "markdown",
   "metadata": {},
   "source": [
    "Run GREML analysis for all immune phenotypes"
   ]
  },
  {
   "cell_type": "markdown",
   "metadata": {},
   "source": [
    "### Get GCTA results for Sailfish, FireBrowse, PanCanAtlas"
   ]
  },
  {
   "cell_type": "code",
   "execution_count": 6,
   "metadata": {},
   "outputs": [],
   "source": [
    "def fdr(df,pseudo):\n",
    "    #make heritability estimate numeric\n",
    "    df[\"V(G)/Vp\"]=pd.to_numeric(df[\"V(G)/Vp\"])\n",
    "    #add pseudocount\n",
    "    if pseudo == True:\n",
    "        df[\"Pval\"]=df[\"Pval\"]+0.0000001\n",
    "    \n",
    "    #calculate benjamin-hochberg fdr\n",
    "    genes=df[\"gene\"].tolist()\n",
    "    probabilities = df[\"Pval\"].to_numpy()\n",
    "    report = multi.multipletests(probabilities,\n",
    "                alpha=0.05,\n",
    "                method=\"fdr_bh\",\n",
    "                is_sorted=False,\n",
    "            )\n",
    "    discoveries = report[1]\n",
    "    df[\"fdr\"]=discoveries\n",
    "    df[\"fdr\"]=pd.to_numeric(df[\"fdr\"])\n",
    "    df[\"-log10(fdr)\"]=-np.log10(df[\"fdr\"])\n",
    "    \n",
    "    return(df)\n"
   ]
  },
  {
   "cell_type": "code",
   "execution_count": 7,
   "metadata": {},
   "outputs": [],
   "source": [
    "pseudocount=True"
   ]
  },
  {
   "cell_type": "code",
   "execution_count": 8,
   "metadata": {},
   "outputs": [
    {
     "name": "stdout",
     "output_type": "stream",
     "text": [
      "compiling gene level heritability dataframe.....\n"
     ]
    },
    {
     "name": "stderr",
     "output_type": "stream",
     "text": [
      "/cellar/users/mpagadal/Data/gcta/scripts/compile_gcta_df.py:69: SettingWithCopyWarning: \n",
      "A value is trying to be set on a copy of a slice from a DataFrame.\n",
      "Try using .loc[row_indexer,col_indexer] = value instead\n",
      "\n",
      "See the caveats in the documentation: https://pandas.pydata.org/pandas-docs/stable/user_guide/indexing.html#returning-a-view-versus-a-copy\n",
      "  variance[\"V(G) SE\"]=se[0].tolist()\n",
      "/cellar/users/mpagadal/Data/gcta/scripts/compile_gcta_df.py:70: SettingWithCopyWarning: \n",
      "A value is trying to be set on a copy of a slice from a DataFrame.\n",
      "Try using .loc[row_indexer,col_indexer] = value instead\n",
      "\n",
      "See the caveats in the documentation: https://pandas.pydata.org/pandas-docs/stable/user_guide/indexing.html#returning-a-view-versus-a-copy\n",
      "  variance[\"V(e) SE\"]=se[1].tolist()\n",
      "/cellar/users/mpagadal/Data/gcta/scripts/compile_gcta_df.py:71: SettingWithCopyWarning: \n",
      "A value is trying to be set on a copy of a slice from a DataFrame.\n",
      "Try using .loc[row_indexer,col_indexer] = value instead\n",
      "\n",
      "See the caveats in the documentation: https://pandas.pydata.org/pandas-docs/stable/user_guide/indexing.html#returning-a-view-versus-a-copy\n",
      "  variance[\"V(p) SE\"]=se[2].tolist()\n",
      "/cellar/users/mpagadal/Data/gcta/scripts/compile_gcta_df.py:72: SettingWithCopyWarning: \n",
      "A value is trying to be set on a copy of a slice from a DataFrame.\n",
      "Try using .loc[row_indexer,col_indexer] = value instead\n",
      "\n",
      "See the caveats in the documentation: https://pandas.pydata.org/pandas-docs/stable/user_guide/indexing.html#returning-a-view-versus-a-copy\n",
      "  variance[\"V(G)/Vp SE\"]=se[3].tolist()\n"
     ]
    },
    {
     "name": "stdout",
     "output_type": "stream",
     "text": [
      "compiling gene level heritability dataframe.....\n",
      "compiling gene level heritability dataframe.....\n"
     ]
    }
   ],
   "source": [
    "results=[\"\"]\n",
    "sailfish=compile_gcta_results(results,output=\"overall\",direct=\"/cellar/users/mpagadal/Data/gcta/results/tcga/brian-tpm/full/\")\n",
    "firebrowse=compile_gcta_results(results,output=\"overall\",direct=\"/cellar/users/mpagadal/Data/gcta/results/tcga/FireBrowse/full/\")\n",
    "pancan=compile_gcta_results(results,output=\"overall\",direct=\"/cellar/users/mpagadal/Data/gcta/results/tcga/PanCanAtlas/full/\")"
   ]
  },
  {
   "cell_type": "code",
   "execution_count": 9,
   "metadata": {},
   "outputs": [],
   "source": [
    "sailfish=fdr(sailfish,pseudocount)\n",
    "firebrowse=fdr(firebrowse,pseudocount)\n",
    "pancan=fdr(pancan,pseudocount)"
   ]
  },
  {
   "cell_type": "code",
   "execution_count": 10,
   "metadata": {},
   "outputs": [],
   "source": [
    "# standardize gene ids\n",
    "\n",
    "mp_ids={\"CMC2\":\"C16orf61\", \"ADGRE5\":\"CD97\", \"SPRYD7\":\"C13orf1\", \"JCHAIN\":\"IGJ\", \"CTSL\":\"CTSL1\", \"CTSV\":\"CTSL2\", \"TEX30\":\"C13orf27\", \"CENPU\":\"MLF1IP\", \"CMSS1\":\"C3orf26\", \"FAM216A\":\"C12orf24\", \"HACD2\":\"PTPLB\", \"MARCHF1\":\"MARCH1\"}\n",
    "mp_ids= {v: k for k, v in mp_ids.items()}\n",
    "\n",
    "sailfish[\"gene\"].replace(mp_ids, inplace=True)\n",
    "firebrowse[\"gene\"].replace(mp_ids, inplace=True)\n",
    "pancan[\"gene\"].replace(mp_ids, inplace=True)"
   ]
  },
  {
   "cell_type": "code",
   "execution_count": 11,
   "metadata": {},
   "outputs": [],
   "source": [
    "# rename columns to merge for total dataframe\n",
    "\n",
    "sailfish=sailfish.rename(columns={\"V(G)/Vp\":\"sailfish V(G)/V(p)\",\"-log10(fdr)\":\"sailfish -log10(fdr)\"})\n",
    "firebrowse=firebrowse.rename(columns={\"V(G)/Vp\":\"firebrowse V(G)/V(p)\",\"-log10(fdr)\":\"firebrowse -log10(fdr)\"})\n",
    "pancan=pancan.rename(columns={\"V(G)/Vp\":\"pancan V(G)/V(p)\",\"-log10(fdr)\":\"pancan -log10(fdr)\"})\n",
    "\n",
    "# merge columns\n",
    "\n",
    "total=pd.merge(sailfish[[\"sailfish V(G)/V(p)\",\"gene\",\"sailfish -log10(fdr)\"]],firebrowse[[\"firebrowse V(G)/V(p)\",\"gene\",\"firebrowse -log10(fdr)\"]], on=\"gene\",how=\"outer\")\n",
    "total=pd.merge(total,pancan[[\"pancan V(G)/V(p)\",\"gene\",\"pancan -log10(fdr)\"]],on=\"gene\",how=\"outer\")"
   ]
  },
  {
   "cell_type": "code",
   "execution_count": 12,
   "metadata": {},
   "outputs": [],
   "source": [
    "#g et number of RNA processing pipelines that support V(G)/V(p) > 0.05 and -log10(fdr) > 1.3\n",
    "total[\"consensus V(g)/V(p)\"]=total[[\"sailfish V(G)/V(p)\",\"firebrowse V(G)/V(p)\",\"pancan V(G)/V(p)\"]].apply(lambda x: len([x for x in list(x) if x>0.05]), axis=1)\n",
    "total[\"consensus fdr\"]=total[[\"sailfish -log10(fdr)\",\"firebrowse -log10(fdr)\",\"pancan -log10(fdr)\"]].apply(lambda x: len([x for x in list(x) if x>1.3]), axis=1)"
   ]
  },
  {
   "cell_type": "code",
   "execution_count": 13,
   "metadata": {},
   "outputs": [],
   "source": [
    "# keep only genes with phenotype values in at least 2 datasets\n",
    "total[\"null\"]=total[[\"sailfish V(G)/V(p)\",\"firebrowse V(G)/V(p)\",\"pancan V(G)/V(p)\"]].apply(lambda x: len([x for x in list(x) if np.isnan(x)]), axis=1)\n",
    "total=total[total[\"null\"]<2]\n",
    "df_genes=pd.DataFrame({\"genes\":total[\"gene\"].tolist()})\n",
    "df_genes.to_csv(\"immune.genes.2.rna.txt\",index=None,sep=\"\\t\")"
   ]
  },
  {
   "cell_type": "code",
   "execution_count": 14,
   "metadata": {},
   "outputs": [],
   "source": [
    "# make column of size of scatterplot\n",
    "total[\"size\"]=(total[\"consensus V(g)/V(p)\"]*30)+10"
   ]
  },
  {
   "cell_type": "code",
   "execution_count": 15,
   "metadata": {},
   "outputs": [],
   "source": [
    "# map to category\n",
    "with open('/cellar/users/mpagadal/Data/projects/germline-immune/notebooks/pheno_dictionary.json', 'r') as f:\n",
    "    pheno_dict = json.load(f)\n",
    "total[\"category\"]=total[\"gene\"].map(pheno_dict)"
   ]
  },
  {
   "cell_type": "code",
   "execution_count": 16,
   "metadata": {},
   "outputs": [],
   "source": [
    "# significant heritability genes\n",
    "# at least 2 rna sources with heritability estimates > 0.05\n",
    "# at least 1 of the heritability estimates must have FDR > 10%\n",
    "sig=total[(total[\"consensus V(g)/V(p)\"]>1)&(total[\"consensus fdr\"]>0)][\"gene\"].tolist()"
   ]
  },
  {
   "cell_type": "code",
   "execution_count": 17,
   "metadata": {},
   "outputs": [],
   "source": [
    "# export significant heritable genes\n",
    "gcta_sig=pd.DataFrame({\"genes\":sig})\n",
    "gcta_sig.to_csv(\"gcta_significant_genes.txt\",header=None,index=None)"
   ]
  },
  {
   "cell_type": "code",
   "execution_count": 18,
   "metadata": {},
   "outputs": [
    {
     "data": {
      "text/plain": [
       "'There are 137 heritable immune traits'"
      ]
     },
     "execution_count": 18,
     "metadata": {},
     "output_type": "execute_result"
    }
   ],
   "source": [
    "\"There are {} heritable immune traits\".format(len(sig))"
   ]
  },
  {
   "cell_type": "code",
   "execution_count": 19,
   "metadata": {},
   "outputs": [
    {
     "data": {
      "text/plain": [
       "'The following immune genes are heritable: CD44 SEC24C ITGB2 OAS1 PLOD2 PGM2 DBNDD1 SLC25A40 HCK MARVELD2 CANX AMPD3 TREX1 CSF1R CD163 FCGR3A BTN3A2 CHUK SAMHD1 BSG MS4A4A CLEC4A FPR3 IFI6 ERAP2 PIK3CG CBX1 NEO1 CTSD ISG15 TRAF6 CD84 SLC11A1 ADCY7 FCGR2A PSMD11 HLA.DRB5 IFI44L HAUS1 GPLD1 NCF2 ALOX5AP HLA.F ENTPD1 HLA.A CTSL CD53 STAT1 TLR2 SMAD4 APITD1 CYBB IL1B RBM14 CD14 VSIG4 MARCHF1 CD68 HLA.DQA1 CD209 MICB RAB35 CTSW DYNLT1 MYO1F TAP2 LYN CCBL2 CD86 TNFRSF1A SKIL TRA2B ITGAV RNF41 SEC22B CAPZA2 IGF2R HLA.DQA2 LILRB4 VAMP3 IL1A FPR1 CYBA NUTF2 MICA CAPZB CTSS PSMC1 WDR54 IL2RA PSMB7 IL10RA LAIR1 FCGR2B PSMB9 IL10 PLEK OAS3 ERLIN1 HLA.DRB1 ENO1 HLA.B UAP1 SEC24A DCTN5 IL12A LNPEP COX17 DHFR MNDA FCGR3B C3AR1 SH3BP5L PSMD2 LYZ LILRB2 GNPTAB ERAP1 HLA.DQB1 SLC25A5 CD80 CSF3R B2M HLA.C KIF2A SEC31A SIGLEC5 FAM167A COL8A1 CTNNB1 TAB1 TNFSF13B EIF2AK1 LM22.Macrophages.M2 HLA.G HLA.H HLA.DQB2'"
      ]
     },
     "execution_count": 19,
     "metadata": {},
     "output_type": "execute_result"
    }
   ],
   "source": [
    "\"The following immune genes are heritable: {}\".format(\" \".join(sig))"
   ]
  },
  {
   "cell_type": "code",
   "execution_count": 20,
   "metadata": {},
   "outputs": [
    {
     "data": {
      "text/plain": [
       "immunomodulators       70\n",
       "antigen present        41\n",
       "immune checkpoint      11\n",
       "cell type              10\n",
       "TGFbeta                 3\n",
       "immune infiltration     1\n",
       "IFNG                    1\n",
       "Name: category, dtype: int64"
      ]
     },
     "execution_count": 20,
     "metadata": {},
     "output_type": "execute_result"
    }
   ],
   "source": [
    "total[total[\"gene\"].isin(sig)][\"category\"].value_counts()"
   ]
  },
  {
   "cell_type": "code",
   "execution_count": 21,
   "metadata": {},
   "outputs": [],
   "source": [
    "# color based on category\n",
    "total[\"color\"]=\"silver\"\n",
    "total[\"color\"]=np.where((total['consensus V(g)/V(p)']>1), \"silver\",total.color)\n",
    "total[\"color\"]=np.where((total['consensus V(g)/V(p)']>1)&(total[\"consensus fdr\"]>0)&(total['category']==\"antigen present\"),\"#66c2a5\",total.color)\n",
    "total[\"color\"]=np.where((total['consensus V(g)/V(p)']>1)&(total[\"consensus fdr\"]>0)&(total['category']==\"immunomodulators\"),\"#fc8d62\",total.color)\n",
    "total[\"color\"]=np.where((total['consensus V(g)/V(p)']>1)&(total[\"consensus fdr\"]>0)&(total['category']==\"immune checkpoint\"),\"#8da0cb\",total.color)\n",
    "total[\"color\"]=np.where((total['consensus V(g)/V(p)']>1)&(total[\"consensus fdr\"]>0)&(total['category']==\"cell type\"),\"#e78ac3\",total.color)\n",
    "total[\"color\"]=np.where((total['consensus V(g)/V(p)']>1)&(total[\"consensus fdr\"]>0)&(total['category']==\"TGFbeta\"),\"#a6d854\",total.color)\n",
    "total[\"color\"]=np.where((total['consensus V(g)/V(p)']>1)&(total[\"consensus fdr\"]>0)&(total['category']==\"IFNG\"),\"#ffd92f\",total.color)\n",
    "total[\"color\"]=np.where((total['consensus V(g)/V(p)']>1)&(total[\"consensus fdr\"]>0)&(total['category']==\"immune infiltration\"),\"#e5c494\",total.color)"
   ]
  },
  {
   "cell_type": "code",
   "execution_count": 22,
   "metadata": {},
   "outputs": [],
   "source": [
    "# label only genes with heritability > 0.10\n",
    "df_label=total[(total[\"color\"]!=\"silver\")&(total[\"sailfish V(G)/V(p)\"]>0.10)]"
   ]
  },
  {
   "cell_type": "code",
   "execution_count": 23,
   "metadata": {},
   "outputs": [],
   "source": [
    "mp_color={\"#66c2a5\":\"antigen present\",\"#fc8d62\":\"immunomodulators\",\"#8da0cb\":\"immune checkpoint\",\"#e78ac3\":\"cell type\",\"#a6d854\":\"TGFbeta\",\"#ffd92f\":\"IFNG\",\"#e5c494\":\"immune infiltration\",\"silver\":\"\"}"
   ]
  },
  {
   "cell_type": "code",
   "execution_count": 24,
   "metadata": {},
   "outputs": [],
   "source": [
    "# get max heritability and log10 FDR\n",
    "total[\"max V(g)/V(p)\"]=total[[\"sailfish V(G)/V(p)\", \"firebrowse V(G)/V(p)\",\"pancan V(G)/V(p)\"]].max(axis=1)\n",
    "total[\"max log10fdr\"]=total[[\"sailfish -log10(fdr)\", \"firebrowse -log10(fdr)\",\"pancan -log10(fdr)\"]].max(axis=1)"
   ]
  },
  {
   "cell_type": "code",
   "execution_count": 27,
   "metadata": {},
   "outputs": [
    {
     "data": {
      "image/png": "[encoded data removed]",
      "text/plain": [
       "<Figure size 720x720 with 1 Axes>"
      ]
     },
     "metadata": {
      "needs_background": "light"
     },
     "output_type": "display_data"
    }
   ],
   "source": [
    "f=plt.figure(figsize=(10,10))\n",
    "for x in total[\"color\"].unique():\n",
    "    sc=plt.scatter(total[total[\"color\"]==x][\"max log10fdr\"],total[total[\"color\"]==x][\"max V(g)/V(p)\"],\n",
    "                color=total[total[\"color\"]==x][\"color\"],s=total[total[\"color\"]==x][\"size\"],label=mp_color[x])\n",
    "\n",
    "plt.ylabel(\"V(g)/V(p)\",fontsize=15)\n",
    "plt.xlabel(\"-log10(FDR)\",fontsize=15)\n",
    "plt.axvline(x=1.3,color=\"k\",linestyle=\"--\")\n",
    "plt.axhline(y=0.05,color=\"k\",linestyle=\"--\")\n",
    "\n",
    "texts=[]\n",
    "for i,row in df_label.iterrows(): \n",
    "    texts.append(plt.text(float(row[\"sailfish -log10(fdr)\"]),float(row[\"sailfish V(G)/V(p)\"]),row[\"gene\"],color=\"black\"))\n",
    "    \n",
    "adjust_text(texts,only_move={'points':'y', 'texts':'y'}, color='black', lw=0.5)\n",
    "\n",
    "# kw = dict(prop=\"sizes\", num=5, color=\"k\",\n",
    "#           func=lambda s: (s-10)/30)\n",
    "# plt.legend(*sc.legend_elements(**kw),\n",
    "#                     loc=\"upper left\", title=\"Consensus\")\n",
    "\n",
    "f.savefig(\"../plots/consensus-heritability-barplot.pdf\", bbox_inches='tight')\n"
   ]
  },
  {
   "cell_type": "markdown",
   "metadata": {},
   "source": [
    "## Get HLA-nonHLA information"
   ]
  },
  {
   "cell_type": "code",
   "execution_count": 29,
   "metadata": {},
   "outputs": [],
   "source": [
    "# get heritability results from two-state nonHLA and HLA analysis\n",
    "nonhla=pd.read_csv(\"nonhla_gcta_results.tsv\",delimiter=\"\\t\")\n",
    "hla=pd.read_csv(\"hla_gcta_results.tsv\",delimiter=\"\\t\")\n",
    "df_hla=pd.merge(nonhla,hla,on=[\"gene\"],suffixes=(\"_nonhla\",\"_hla\"))"
   ]
  },
  {
   "cell_type": "code",
   "execution_count": 30,
   "metadata": {},
   "outputs": [],
   "source": [
    "df_hla[\"brian diff\"]=df_hla[\"brian V(G)/V(p)_nonhla\"]-df_hla[\"brian V(G)/V(p)_hla\"]\n",
    "df_hla[\"firebrowse diff\"]=df_hla[\"firebrowse V(G)/V(p)_nonhla\"]-df_hla[\"firebrowse V(G)/V(p)_hla\"]\n",
    "df_hla[\"pancan diff\"]=df_hla[\"pancan V(G)/V(p)_nonhla\"]-df_hla[\"pancan V(G)/V(p)_hla\"]"
   ]
  },
  {
   "cell_type": "code",
   "execution_count": 31,
   "metadata": {},
   "outputs": [],
   "source": [
    "df_hla[\"consensus nonhla\"]=df_hla[[\"brian diff\",\"firebrowse diff\",\"pancan diff\"]].apply(lambda x: len([x for x in list(x) if x>0]), axis=1)"
   ]
  },
  {
   "cell_type": "code",
   "execution_count": 32,
   "metadata": {},
   "outputs": [
    {
     "name": "stdout",
     "output_type": "stream",
     "text": [
      "17\n"
     ]
    },
    {
     "data": {
      "text/plain": [
       "'HLA.DRB5 MICB HLA.A HLA.F HLA.DQA1 BTN3A2 HLA.DQB1 HLA.C HLA.DQA2 PSMB9 TAP2 HLA.DRB1 MICA HLA.B HLA.G HLA.H HLA.DQB2'"
      ]
     },
     "execution_count": 32,
     "metadata": {},
     "output_type": "execute_result"
    }
   ],
   "source": [
    "hla_genes=df_hla[(df_hla[\"gene\"].isin(sig))&(df_hla[\"consensus nonhla\"]<=2)][\"gene\"].tolist()\n",
    "print(len(hla_genes))\n",
    "\" \".join(hla_genes)"
   ]
  },
  {
   "cell_type": "code",
   "execution_count": 33,
   "metadata": {},
   "outputs": [
    {
     "name": "stdout",
     "output_type": "stream",
     "text": [
      "120\n"
     ]
    },
    {
     "data": {
      "text/plain": [
       "'TLR2 APITD1 ADCY7 CD53 CTSL DYNLT1 GPLD1 CTSW HCK HAUS1 CD14 MARCHF1 CD68 IL1B CYBB PSMD11 SMAD4 FCGR2A STAT1 RBM14 BSG VSIG4 ENTPD1 NCF2 RAB35 CD209 IFI44L CLEC4A ITGB2 FPR3 MS4A4A SIGLEC5 SAMHD1 FAM167A CHUK PLOD2 MARVELD2 FCGR3A CD84 EIF2AK1 SLC25A40 AMPD3 CBX1 NEO1 PIK3CG CTSD CSF1R TREX1 IFI6 DBNDD1 PGM2 CD163 OAS1 SH3BP5L SEC24C CD44 ERAP2 CANX SLC25A5 ISG15 TRAF6 C3AR1 COX17 SEC31A LNPEP PSMD2 LM22.Macrophages.M2 ERAP1 LYN CSF3R CTNNB1 TAB1 COL8A1 GNPTAB LILRB2 KIF2A TNFSF13B FCGR3B DHFR MNDA CD80 PLEK TRA2B B2M CCBL2 IL10 MYO1F FCGR2B RNF41 IL10RA ITGAV SEC24A UAP1 VAMP3 LYZ IGF2R TNFRSF1A WDR54 PSMC1 CAPZB ENO1 OAS3 NUTF2 ERLIN1 LAIR1 SEC22B PSMB7 IL2RA SLC11A1 CD86 SKIL CTSS DCTN5 IL12A LILRB4 FPR1 CYBA IL1A CAPZA2 ALOX5AP'"
      ]
     },
     "execution_count": 33,
     "metadata": {},
     "output_type": "execute_result"
    }
   ],
   "source": [
    "nonhla_genes=df_hla[(df_hla[\"gene\"].isin(sig))&(df_hla[\"consensus nonhla\"]>2)][\"gene\"].tolist()\n",
    "print(len(nonhla_genes))\n",
    "\" \".join(nonhla_genes)"
   ]
  },
  {
   "cell_type": "code",
   "execution_count": 44,
   "metadata": {},
   "outputs": [],
   "source": [
    "df_hla[\"max hla V(g)/V(p)\"]=df_hla[[\"brian V(G)/V(p)_hla\", \"firebrowse V(G)/V(p)_hla\",\"pancan V(G)/V(p)_hla\"]].max(axis=1)\n",
    "df_hla[\"max nonhla V(g)/V(p)\"]=df_hla[[\"brian V(G)/V(p)_nonhla\", \"firebrowse V(G)/V(p)_nonhla\",\"pancan V(G)/V(p)_nonhla\"]].max(axis=1)"
   ]
  },
  {
   "cell_type": "code",
   "execution_count": 45,
   "metadata": {},
   "outputs": [],
   "source": [
    "df_hla[\"difference\"]=df_hla[\"max hla V(g)/V(p)\"]-df_hla[\"max nonhla V(g)/V(p)\"]"
   ]
  },
  {
   "cell_type": "markdown",
   "metadata": {},
   "source": [
    "### Make HLA-nonHLA GCTA dataframe"
   ]
  },
  {
   "cell_type": "code",
   "execution_count": 50,
   "metadata": {},
   "outputs": [
    {
     "data": {
      "text/plain": [
       "(137, 24)"
      ]
     },
     "execution_count": 50,
     "metadata": {},
     "output_type": "execute_result"
    }
   ],
   "source": [
    "plot_hla=df_hla.sort_values(by=\"difference\",ascending=False)\n",
    "plot_hla=plot_hla[plot_hla[\"gene\"].isin(sig)]\n",
    "plot_hla.shape"
   ]
  },
  {
   "cell_type": "code",
   "execution_count": 51,
   "metadata": {},
   "outputs": [],
   "source": [
    "plot_hla=pd.melt(plot_hla, id_vars=['gene'], value_vars=['max hla V(g)/V(p)', 'max nonhla V(g)/V(p)'])"
   ]
  },
  {
   "cell_type": "code",
   "execution_count": 56,
   "metadata": {},
   "outputs": [
    {
     "data": {
      "text/html": [
       "<div>\n",
       "<style scoped>\n",
       "    .dataframe tbody tr th:only-of-type {\n",
       "        vertical-align: middle;\n",
       "    }\n",
       "\n",
       "    .dataframe tbody tr th {\n",
       "        vertical-align: top;\n",
       "    }\n",
       "\n",
       "    .dataframe thead th {\n",
       "        text-align: right;\n",
       "    }\n",
       "</style>\n",
       "<table border=\"1\" class=\"dataframe\">\n",
       "  <thead>\n",
       "    <tr style=\"text-align: right;\">\n",
       "      <th></th>\n",
       "      <th>gene</th>\n",
       "      <th>variable</th>\n",
       "      <th>value</th>\n",
       "    </tr>\n",
       "  </thead>\n",
       "  <tbody>\n",
       "    <tr>\n",
       "      <th>0</th>\n",
       "      <td>TAP2</td>\n",
       "      <td>max hla V(g)/V(p)</td>\n",
       "      <td>0.559842</td>\n",
       "    </tr>\n",
       "    <tr>\n",
       "      <th>1</th>\n",
       "      <td>HLA.B</td>\n",
       "      <td>max hla V(g)/V(p)</td>\n",
       "      <td>0.558462</td>\n",
       "    </tr>\n",
       "    <tr>\n",
       "      <th>2</th>\n",
       "      <td>HLA.DQB1</td>\n",
       "      <td>max hla V(g)/V(p)</td>\n",
       "      <td>0.458634</td>\n",
       "    </tr>\n",
       "    <tr>\n",
       "      <th>3</th>\n",
       "      <td>PSMB9</td>\n",
       "      <td>max hla V(g)/V(p)</td>\n",
       "      <td>0.397869</td>\n",
       "    </tr>\n",
       "    <tr>\n",
       "      <th>4</th>\n",
       "      <td>HLA.A</td>\n",
       "      <td>max hla V(g)/V(p)</td>\n",
       "      <td>0.401450</td>\n",
       "    </tr>\n",
       "  </tbody>\n",
       "</table>\n",
       "</div>"
      ],
      "text/plain": [
       "       gene           variable     value\n",
       "0      TAP2  max hla V(g)/V(p)  0.559842\n",
       "1     HLA.B  max hla V(g)/V(p)  0.558462\n",
       "2  HLA.DQB1  max hla V(g)/V(p)  0.458634\n",
       "3     PSMB9  max hla V(g)/V(p)  0.397869\n",
       "4     HLA.A  max hla V(g)/V(p)  0.401450"
      ]
     },
     "execution_count": 56,
     "metadata": {},
     "output_type": "execute_result"
    }
   ],
   "source": [
    "plot_hla.head()"
   ]
  },
  {
   "cell_type": "code",
   "execution_count": 55,
   "metadata": {},
   "outputs": [
    {
     "data": {
      "text/plain": [
       "([], <a list of 0 Text xticklabel objects>)"
      ]
     },
     "execution_count": 55,
     "metadata": {},
     "output_type": "execute_result"
    },
    {
     "data": {
      "image/png": "[encoded data removed]",
      "text/plain": [
       "<Figure size 720x720 with 1 Axes>"
      ]
     },
     "metadata": {
      "needs_background": "light"
     },
     "output_type": "display_data"
    }
   ],
   "source": [
    "f=plt.figure(figsize=(10,10))\n",
    "sns.barplot(x=\"gene\", hue=\"variable\", y=\"value\", data=plot_hla)\n",
    "plt.xticks(rotation=90)\n",
    "f.savefig(\"../plots/heritability-hla-difference-barplot.pdf\", bbox_inches='tight')\n",
    "plt.xticks([])"
   ]
  },
  {
   "cell_type": "code",
   "execution_count": 58,
   "metadata": {},
   "outputs": [
    {
     "data": {
      "text/html": [
       "<div>\n",
       "<style scoped>\n",
       "    .dataframe tbody tr th:only-of-type {\n",
       "        vertical-align: middle;\n",
       "    }\n",
       "\n",
       "    .dataframe tbody tr th {\n",
       "        vertical-align: top;\n",
       "    }\n",
       "\n",
       "    .dataframe thead th {\n",
       "        text-align: right;\n",
       "    }\n",
       "</style>\n",
       "<table border=\"1\" class=\"dataframe\">\n",
       "  <thead>\n",
       "    <tr style=\"text-align: right;\">\n",
       "      <th></th>\n",
       "      <th>sailfish V(G)/V(p)</th>\n",
       "      <th>sailfish -log10(fdr)</th>\n",
       "      <th>firebrowse V(G)/V(p)</th>\n",
       "      <th>firebrowse -log10(fdr)</th>\n",
       "      <th>pancan V(G)/V(p)</th>\n",
       "      <th>pancan -log10(fdr)</th>\n",
       "      <th>consensus V(g)/V(p)</th>\n",
       "      <th>consensus fdr</th>\n",
       "      <th>null</th>\n",
       "      <th>size</th>\n",
       "      <th>category</th>\n",
       "      <th>color</th>\n",
       "      <th>max V(g)/V(p)</th>\n",
       "      <th>max log10fdr</th>\n",
       "    </tr>\n",
       "    <tr>\n",
       "      <th>gene</th>\n",
       "      <th></th>\n",
       "      <th></th>\n",
       "      <th></th>\n",
       "      <th></th>\n",
       "      <th></th>\n",
       "      <th></th>\n",
       "      <th></th>\n",
       "      <th></th>\n",
       "      <th></th>\n",
       "      <th></th>\n",
       "      <th></th>\n",
       "      <th></th>\n",
       "      <th></th>\n",
       "      <th></th>\n",
       "    </tr>\n",
       "  </thead>\n",
       "  <tbody>\n",
       "    <tr>\n",
       "      <th>COL6A3</th>\n",
       "      <td>0.000001</td>\n",
       "      <td>0.301030</td>\n",
       "      <td>0.000486</td>\n",
       "      <td>0.301030</td>\n",
       "      <td>0.000001</td>\n",
       "      <td>0.301030</td>\n",
       "      <td>0</td>\n",
       "      <td>0</td>\n",
       "      <td>0</td>\n",
       "      <td>10</td>\n",
       "      <td>immunomodulators</td>\n",
       "      <td>silver</td>\n",
       "      <td>0.000486</td>\n",
       "      <td>0.301030</td>\n",
       "    </tr>\n",
       "    <tr>\n",
       "      <th>SEC24D</th>\n",
       "      <td>0.052471</td>\n",
       "      <td>1.113814</td>\n",
       "      <td>0.029511</td>\n",
       "      <td>0.375324</td>\n",
       "      <td>0.047352</td>\n",
       "      <td>0.601686</td>\n",
       "      <td>1</td>\n",
       "      <td>0</td>\n",
       "      <td>0</td>\n",
       "      <td>40</td>\n",
       "      <td>antigen present</td>\n",
       "      <td>silver</td>\n",
       "      <td>0.052471</td>\n",
       "      <td>1.113814</td>\n",
       "    </tr>\n",
       "    <tr>\n",
       "      <th>ITGB5</th>\n",
       "      <td>0.078043</td>\n",
       "      <td>2.092649</td>\n",
       "      <td>0.028979</td>\n",
       "      <td>0.411689</td>\n",
       "      <td>0.015662</td>\n",
       "      <td>0.301030</td>\n",
       "      <td>1</td>\n",
       "      <td>1</td>\n",
       "      <td>0</td>\n",
       "      <td>40</td>\n",
       "      <td>immunomodulators</td>\n",
       "      <td>silver</td>\n",
       "      <td>0.078043</td>\n",
       "      <td>2.092649</td>\n",
       "    </tr>\n",
       "    <tr>\n",
       "      <th>CD44</th>\n",
       "      <td>0.127365</td>\n",
       "      <td>1.844916</td>\n",
       "      <td>0.061509</td>\n",
       "      <td>0.438583</td>\n",
       "      <td>0.069927</td>\n",
       "      <td>0.526651</td>\n",
       "      <td>3</td>\n",
       "      <td>1</td>\n",
       "      <td>0</td>\n",
       "      <td>100</td>\n",
       "      <td>immunomodulators</td>\n",
       "      <td>#fc8d62</td>\n",
       "      <td>0.127365</td>\n",
       "      <td>1.844916</td>\n",
       "    </tr>\n",
       "    <tr>\n",
       "      <th>DCK</th>\n",
       "      <td>0.024742</td>\n",
       "      <td>0.475918</td>\n",
       "      <td>0.067392</td>\n",
       "      <td>0.568615</td>\n",
       "      <td>0.078741</td>\n",
       "      <td>0.802715</td>\n",
       "      <td>2</td>\n",
       "      <td>0</td>\n",
       "      <td>0</td>\n",
       "      <td>70</td>\n",
       "      <td>immunomodulators</td>\n",
       "      <td>silver</td>\n",
       "      <td>0.078741</td>\n",
       "      <td>0.802715</td>\n",
       "    </tr>\n",
       "  </tbody>\n",
       "</table>\n",
       "</div>"
      ],
      "text/plain": [
       "        sailfish V(G)/V(p)  sailfish -log10(fdr)  firebrowse V(G)/V(p)  \\\n",
       "gene                                                                     \n",
       "COL6A3            0.000001              0.301030              0.000486   \n",
       "SEC24D            0.052471              1.113814              0.029511   \n",
       "ITGB5             0.078043              2.092649              0.028979   \n",
       "CD44              0.127365              1.844916              0.061509   \n",
       "DCK               0.024742              0.475918              0.067392   \n",
       "\n",
       "        firebrowse -log10(fdr)  pancan V(G)/V(p)  pancan -log10(fdr)  \\\n",
       "gene                                                                   \n",
       "COL6A3                0.301030          0.000001            0.301030   \n",
       "SEC24D                0.375324          0.047352            0.601686   \n",
       "ITGB5                 0.411689          0.015662            0.301030   \n",
       "CD44                  0.438583          0.069927            0.526651   \n",
       "DCK                   0.568615          0.078741            0.802715   \n",
       "\n",
       "        consensus V(g)/V(p)  consensus fdr  null  size          category  \\\n",
       "gene                                                                       \n",
       "COL6A3                    0              0     0    10  immunomodulators   \n",
       "SEC24D                    1              0     0    40   antigen present   \n",
       "ITGB5                     1              1     0    40  immunomodulators   \n",
       "CD44                      3              1     0   100  immunomodulators   \n",
       "DCK                       2              0     0    70  immunomodulators   \n",
       "\n",
       "          color  max V(g)/V(p)  max log10fdr  \n",
       "gene                                          \n",
       "COL6A3   silver       0.000486      0.301030  \n",
       "SEC24D   silver       0.052471      1.113814  \n",
       "ITGB5    silver       0.078043      2.092649  \n",
       "CD44    #fc8d62       0.127365      1.844916  \n",
       "DCK      silver       0.078741      0.802715  "
      ]
     },
     "execution_count": 58,
     "metadata": {},
     "output_type": "execute_result"
    }
   ],
   "source": [
    "total=total.set_index(\"gene\")\n",
    "total.head()"
   ]
  },
  {
   "cell_type": "code",
   "execution_count": 64,
   "metadata": {},
   "outputs": [
    {
     "data": {
      "text/html": [
       "<div>\n",
       "<style scoped>\n",
       "    .dataframe tbody tr th:only-of-type {\n",
       "        vertical-align: middle;\n",
       "    }\n",
       "\n",
       "    .dataframe tbody tr th {\n",
       "        vertical-align: top;\n",
       "    }\n",
       "\n",
       "    .dataframe thead th {\n",
       "        text-align: right;\n",
       "    }\n",
       "</style>\n",
       "<table border=\"1\" class=\"dataframe\">\n",
       "  <thead>\n",
       "    <tr style=\"text-align: right;\">\n",
       "      <th></th>\n",
       "      <th>max hla V(g)/V(p)</th>\n",
       "      <th>max nonhla V(g)/V(p)</th>\n",
       "    </tr>\n",
       "    <tr>\n",
       "      <th>gene</th>\n",
       "      <th></th>\n",
       "      <th></th>\n",
       "    </tr>\n",
       "  </thead>\n",
       "  <tbody>\n",
       "    <tr>\n",
       "      <th>PDCD1LG2</th>\n",
       "      <td>0.000001</td>\n",
       "      <td>0.025464</td>\n",
       "    </tr>\n",
       "    <tr>\n",
       "      <th>MR1</th>\n",
       "      <td>0.000083</td>\n",
       "      <td>0.064347</td>\n",
       "    </tr>\n",
       "    <tr>\n",
       "      <th>TLR2</th>\n",
       "      <td>0.000001</td>\n",
       "      <td>0.111007</td>\n",
       "    </tr>\n",
       "    <tr>\n",
       "      <th>TGFB3</th>\n",
       "      <td>0.003997</td>\n",
       "      <td>0.000001</td>\n",
       "    </tr>\n",
       "    <tr>\n",
       "      <th>APITD1</th>\n",
       "      <td>0.000697</td>\n",
       "      <td>0.181961</td>\n",
       "    </tr>\n",
       "    <tr>\n",
       "      <th>...</th>\n",
       "      <td>...</td>\n",
       "      <td>...</td>\n",
       "    </tr>\n",
       "    <tr>\n",
       "      <th>HLA.DOA</th>\n",
       "      <td>0.006690</td>\n",
       "      <td>0.031719</td>\n",
       "    </tr>\n",
       "    <tr>\n",
       "      <th>HLA.DRA</th>\n",
       "      <td>0.000483</td>\n",
       "      <td>0.013879</td>\n",
       "    </tr>\n",
       "    <tr>\n",
       "      <th>PSMB3</th>\n",
       "      <td>0.000001</td>\n",
       "      <td>0.023927</td>\n",
       "    </tr>\n",
       "    <tr>\n",
       "      <th>HLA.H</th>\n",
       "      <td>0.039355</td>\n",
       "      <td>0.000001</td>\n",
       "    </tr>\n",
       "    <tr>\n",
       "      <th>HLA.DQB2</th>\n",
       "      <td>0.089970</td>\n",
       "      <td>0.027897</td>\n",
       "    </tr>\n",
       "  </tbody>\n",
       "</table>\n",
       "<p>758 rows × 2 columns</p>\n",
       "</div>"
      ],
      "text/plain": [
       "          max hla V(g)/V(p)  max nonhla V(g)/V(p)\n",
       "gene                                             \n",
       "PDCD1LG2           0.000001              0.025464\n",
       "MR1                0.000083              0.064347\n",
       "TLR2               0.000001              0.111007\n",
       "TGFB3              0.003997              0.000001\n",
       "APITD1             0.000697              0.181961\n",
       "...                     ...                   ...\n",
       "HLA.DOA            0.006690              0.031719\n",
       "HLA.DRA            0.000483              0.013879\n",
       "PSMB3              0.000001              0.023927\n",
       "HLA.H              0.039355              0.000001\n",
       "HLA.DQB2           0.089970              0.027897\n",
       "\n",
       "[758 rows x 2 columns]"
      ]
     },
     "execution_count": 64,
     "metadata": {},
     "output_type": "execute_result"
    }
   ],
   "source": [
    "df_hla[[\"gene\",\"max hla V(g)/V(p)\",\"max nonhla V(g)/V(p)\"]].set_index(\"gene\")"
   ]
  },
  {
   "cell_type": "code",
   "execution_count": 68,
   "metadata": {},
   "outputs": [],
   "source": [
    "df_gcta=pd.merge(total, df_hla[[\"gene\",\"max hla V(g)/V(p)\",\"max nonhla V(g)/V(p)\"]].set_index(\"gene\"),left_index=True,right_index=True,how=\"left\")"
   ]
  },
  {
   "cell_type": "code",
   "execution_count": 70,
   "metadata": {},
   "outputs": [],
   "source": [
    "df_gcta.to_csv(\"tcga_gcta_analysis.csv\")"
   ]
  },
  {
   "cell_type": "code",
   "execution_count": null,
   "metadata": {},
   "outputs": [],
   "source": []
  },
  {
   "cell_type": "code",
   "execution_count": null,
   "metadata": {},
   "outputs": [],
   "source": []
  },
  {
   "cell_type": "code",
   "execution_count": null,
   "metadata": {},
   "outputs": [],
   "source": []
  },
  {
   "cell_type": "code",
   "execution_count": null,
   "metadata": {},
   "outputs": [],
   "source": []
  },
  {
   "cell_type": "code",
   "execution_count": null,
   "metadata": {},
   "outputs": [],
   "source": []
  },
  {
   "cell_type": "code",
   "execution_count": null,
   "metadata": {},
   "outputs": [],
   "source": []
  }
 ],
 "metadata": {
  "kernelspec": {
   "display_name": "Python 3",
   "language": "python",
   "name": "python3"
  },
  "language_info": {
   "codemirror_mode": {
    "name": "ipython",
    "version": 3
   },
   "file_extension": ".py",
   "mimetype": "text/x-python",
   "name": "python",
   "nbconvert_exporter": "python",
   "pygments_lexer": "ipython3",
   "version": "3.7.7"
  }
 },
 "nbformat": 4,
 "nbformat_minor": 2
}
