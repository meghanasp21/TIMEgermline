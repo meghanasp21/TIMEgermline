{
 "cells": [
  {
   "cell_type": "code",
   "execution_count": 1,
   "metadata": {},
   "outputs": [],
   "source": [
    "import sys\n",
    "sys.path.append(\"/cellar/users/mpagadal/Programs/anaconda3/lib/python3.7/site-packages\")\n",
    "sys.path.insert(1, '/cellar/users/mpagadal/Data/gcta/scripts')"
   ]
  },
  {
   "cell_type": "code",
   "execution_count": 2,
   "metadata": {},
   "outputs": [],
   "source": [
    "import os\n",
    "import json\n",
    "import pandas as pd\n",
    "import numpy as np\n",
    "import matplotlib.pyplot as plt\n",
    "import matplotlib as mpl\n",
    "import seaborn as sns\n",
    "from compile_gcta_df import *\n",
    "import statsmodels.stats.multitest as multi\n",
    "from adjustText import adjust_text"
   ]
  },
  {
   "cell_type": "code",
   "execution_count": 3,
   "metadata": {},
   "outputs": [],
   "source": [
    "import scipy\n",
    "from scipy import stats"
   ]
  },
  {
   "cell_type": "code",
   "execution_count": 4,
   "metadata": {},
   "outputs": [],
   "source": [
    "import matplotlib.pyplot as plt\n",
    "from matplotlib_venn import venn2\n",
    "from matplotlib_venn import venn3"
   ]
  },
  {
   "cell_type": "code",
   "execution_count": 5,
   "metadata": {},
   "outputs": [],
   "source": [
    "import matplotlib\n",
    "matplotlib.rcParams['pdf.fonttype'] = 42\n",
    "matplotlib.rcParams['ps.fonttype'] = 42"
   ]
  },
  {
   "cell_type": "markdown",
   "metadata": {},
   "source": [
    "## Get GCTA results for TPM, FireBrowse, PanCanAtlas"
   ]
  },
  {
   "cell_type": "code",
   "execution_count": 6,
   "metadata": {},
   "outputs": [],
   "source": [
    "def fdr(df,pseudo):\n",
    "    #make heritability estimate numeric\n",
    "    df[\"V(G)/Vp\"]=pd.to_numeric(df[\"V(G)/Vp\"])\n",
    "    #add pseudocount\n",
    "    if pseudo == True:\n",
    "        df[\"Pval\"]=df[\"Pval\"]+0.0000001\n",
    "    \n",
    "    #calculate benjamin-hochberg fdr\n",
    "    genes=df[\"gene\"].tolist()\n",
    "    probabilities = df[\"Pval\"].to_numpy()\n",
    "    report = multi.multipletests(probabilities,\n",
    "                alpha=0.05,\n",
    "                method=\"fdr_bh\",\n",
    "                is_sorted=False,\n",
    "            )\n",
    "    discoveries = report[1]\n",
    "    df[\"fdr\"]=discoveries\n",
    "    df[\"fdr\"]=pd.to_numeric(df[\"fdr\"])\n",
    "    df[\"-log10(fdr)\"]=-np.log10(df[\"fdr\"])\n",
    "    \n",
    "    return(df)\n"
   ]
  },
  {
   "cell_type": "code",
   "execution_count": 7,
   "metadata": {},
   "outputs": [],
   "source": [
    "pseudocount=True"
   ]
  },
  {
   "cell_type": "code",
   "execution_count": 8,
   "metadata": {},
   "outputs": [
    {
     "name": "stdout",
     "output_type": "stream",
     "text": [
      "compiling gene level heritability dataframe.....\n"
     ]
    },
    {
     "name": "stderr",
     "output_type": "stream",
     "text": [
      "/cellar/users/mpagadal/Data/gcta/scripts/compile_gcta_df.py:69: SettingWithCopyWarning: \n",
      "A value is trying to be set on a copy of a slice from a DataFrame.\n",
      "Try using .loc[row_indexer,col_indexer] = value instead\n",
      "\n",
      "See the caveats in the documentation: https://pandas.pydata.org/pandas-docs/stable/user_guide/indexing.html#returning-a-view-versus-a-copy\n",
      "  variance[\"V(G) SE\"]=se[0].tolist()\n",
      "/cellar/users/mpagadal/Data/gcta/scripts/compile_gcta_df.py:70: SettingWithCopyWarning: \n",
      "A value is trying to be set on a copy of a slice from a DataFrame.\n",
      "Try using .loc[row_indexer,col_indexer] = value instead\n",
      "\n",
      "See the caveats in the documentation: https://pandas.pydata.org/pandas-docs/stable/user_guide/indexing.html#returning-a-view-versus-a-copy\n",
      "  variance[\"V(e) SE\"]=se[1].tolist()\n",
      "/cellar/users/mpagadal/Data/gcta/scripts/compile_gcta_df.py:71: SettingWithCopyWarning: \n",
      "A value is trying to be set on a copy of a slice from a DataFrame.\n",
      "Try using .loc[row_indexer,col_indexer] = value instead\n",
      "\n",
      "See the caveats in the documentation: https://pandas.pydata.org/pandas-docs/stable/user_guide/indexing.html#returning-a-view-versus-a-copy\n",
      "  variance[\"V(p) SE\"]=se[2].tolist()\n",
      "/cellar/users/mpagadal/Data/gcta/scripts/compile_gcta_df.py:72: SettingWithCopyWarning: \n",
      "A value is trying to be set on a copy of a slice from a DataFrame.\n",
      "Try using .loc[row_indexer,col_indexer] = value instead\n",
      "\n",
      "See the caveats in the documentation: https://pandas.pydata.org/pandas-docs/stable/user_guide/indexing.html#returning-a-view-versus-a-copy\n",
      "  variance[\"V(G)/Vp SE\"]=se[3].tolist()\n"
     ]
    },
    {
     "name": "stdout",
     "output_type": "stream",
     "text": [
      "compiling gene level heritability dataframe.....\n"
     ]
    }
   ],
   "source": [
    "results=[\"\"]\n",
    "cis=compile_gcta_results(results,output=\"overall\",direct=\"/cellar/users/mpagadal/Data/gcta/results/tcga/brian-tpm/cis2/\")\n",
    "sig=compile_gcta_results(results,output=\"overall\",direct=\"/cellar/users/mpagadal/Data/gcta/results/tcga/brian-tpm/sig2/\")"
   ]
  },
  {
   "cell_type": "code",
   "execution_count": 9,
   "metadata": {},
   "outputs": [],
   "source": [
    "cis=cis.rename(columns={\"V(G)/Vp\":\"cis V(G)/Vp\"})\n",
    "sig=sig.rename(columns={\"V(G)/Vp\":\"sig V(G)/Vp\"})"
   ]
  },
  {
   "cell_type": "code",
   "execution_count": 10,
   "metadata": {},
   "outputs": [],
   "source": [
    "df_plot=pd.merge(cis[[\"gene\",\"cis V(G)/Vp\"]],sig[[\"gene\",\"sig V(G)/Vp\"]])"
   ]
  },
  {
   "cell_type": "code",
   "execution_count": 11,
   "metadata": {},
   "outputs": [
    {
     "data": {
      "text/html": [
       "<div>\n",
       "<style scoped>\n",
       "    .dataframe tbody tr th:only-of-type {\n",
       "        vertical-align: middle;\n",
       "    }\n",
       "\n",
       "    .dataframe tbody tr th {\n",
       "        vertical-align: top;\n",
       "    }\n",
       "\n",
       "    .dataframe thead th {\n",
       "        text-align: right;\n",
       "    }\n",
       "</style>\n",
       "<table border=\"1\" class=\"dataframe\">\n",
       "  <thead>\n",
       "    <tr style=\"text-align: right;\">\n",
       "      <th></th>\n",
       "      <th>gene</th>\n",
       "      <th>cis V(G)/Vp</th>\n",
       "      <th>sig V(G)/Vp</th>\n",
       "    </tr>\n",
       "  </thead>\n",
       "  <tbody>\n",
       "    <tr>\n",
       "      <th>0</th>\n",
       "      <td>CAPZA2</td>\n",
       "      <td>1e-06</td>\n",
       "      <td>0.018654</td>\n",
       "    </tr>\n",
       "    <tr>\n",
       "      <th>1</th>\n",
       "      <td>SKIL</td>\n",
       "      <td>1e-06</td>\n",
       "      <td>0.006544</td>\n",
       "    </tr>\n",
       "    <tr>\n",
       "      <th>2</th>\n",
       "      <td>CD86</td>\n",
       "      <td>0.00167</td>\n",
       "      <td>0.035573</td>\n",
       "    </tr>\n",
       "    <tr>\n",
       "      <th>3</th>\n",
       "      <td>TAP2</td>\n",
       "      <td>1e-06</td>\n",
       "      <td>0.012591</td>\n",
       "    </tr>\n",
       "    <tr>\n",
       "      <th>4</th>\n",
       "      <td>LILRB4</td>\n",
       "      <td>0.182968</td>\n",
       "      <td>0.203615</td>\n",
       "    </tr>\n",
       "  </tbody>\n",
       "</table>\n",
       "</div>"
      ],
      "text/plain": [
       "     gene cis V(G)/Vp sig V(G)/Vp\n",
       "0  CAPZA2       1e-06    0.018654\n",
       "1    SKIL       1e-06    0.006544\n",
       "2    CD86     0.00167    0.035573\n",
       "3    TAP2       1e-06    0.012591\n",
       "4  LILRB4    0.182968    0.203615"
      ]
     },
     "execution_count": 11,
     "metadata": {},
     "output_type": "execute_result"
    }
   ],
   "source": [
    "df_plot.head()"
   ]
  },
  {
   "cell_type": "code",
   "execution_count": 12,
   "metadata": {},
   "outputs": [],
   "source": [
    "df_plot[\"cis V(G)/Vp\"]=pd.to_numeric(df_plot[\"cis V(G)/Vp\"])\n",
    "df_plot[\"sig V(G)/Vp\"]=pd.to_numeric(df_plot[\"sig V(G)/Vp\"])"
   ]
  },
  {
   "cell_type": "code",
   "execution_count": 13,
   "metadata": {},
   "outputs": [],
   "source": [
    "df_plot_sum=pd.merge(df_plot.mean().reset_index(),df_plot.std().reset_index(),left_index=True, right_index=True)"
   ]
  },
  {
   "cell_type": "code",
   "execution_count": 14,
   "metadata": {},
   "outputs": [],
   "source": [
    "df_plot_sum[\"se\"]=df_plot_sum[\"0_y\"]/np.sqrt(134)"
   ]
  },
  {
   "cell_type": "code",
   "execution_count": 15,
   "metadata": {},
   "outputs": [
    {
     "data": {
      "text/html": [
       "<div>\n",
       "<style scoped>\n",
       "    .dataframe tbody tr th:only-of-type {\n",
       "        vertical-align: middle;\n",
       "    }\n",
       "\n",
       "    .dataframe tbody tr th {\n",
       "        vertical-align: top;\n",
       "    }\n",
       "\n",
       "    .dataframe thead th {\n",
       "        text-align: right;\n",
       "    }\n",
       "</style>\n",
       "<table border=\"1\" class=\"dataframe\">\n",
       "  <thead>\n",
       "    <tr style=\"text-align: right;\">\n",
       "      <th></th>\n",
       "      <th>index_x</th>\n",
       "      <th>0_x</th>\n",
       "      <th>index_y</th>\n",
       "      <th>0_y</th>\n",
       "      <th>se</th>\n",
       "    </tr>\n",
       "  </thead>\n",
       "  <tbody>\n",
       "    <tr>\n",
       "      <th>0</th>\n",
       "      <td>cis V(G)/Vp</td>\n",
       "      <td>0.016269</td>\n",
       "      <td>cis V(G)/Vp</td>\n",
       "      <td>0.046308</td>\n",
       "      <td>0.004000</td>\n",
       "    </tr>\n",
       "    <tr>\n",
       "      <th>1</th>\n",
       "      <td>sig V(G)/Vp</td>\n",
       "      <td>0.040598</td>\n",
       "      <td>sig V(G)/Vp</td>\n",
       "      <td>0.067986</td>\n",
       "      <td>0.005873</td>\n",
       "    </tr>\n",
       "  </tbody>\n",
       "</table>\n",
       "</div>"
      ],
      "text/plain": [
       "       index_x       0_x      index_y       0_y        se\n",
       "0  cis V(G)/Vp  0.016269  cis V(G)/Vp  0.046308  0.004000\n",
       "1  sig V(G)/Vp  0.040598  sig V(G)/Vp  0.067986  0.005873"
      ]
     },
     "execution_count": 15,
     "metadata": {},
     "output_type": "execute_result"
    }
   ],
   "source": [
    "df_plot_sum"
   ]
  },
  {
   "cell_type": "code",
   "execution_count": 16,
   "metadata": {},
   "outputs": [
    {
     "data": {
      "image/png": "[encoded data removed]",
      "text/plain": [
       "<Figure size 360x360 with 1 Axes>"
      ]
     },
     "metadata": {
      "needs_background": "light"
     },
     "output_type": "display_data"
    }
   ],
   "source": [
    "f=plt.figure(figsize=(5,5))\n",
    "for i,row in df_plot.iterrows():\n",
    "    plt.plot([\"cis\",\"all\"], [row[\"cis V(G)/Vp\"],row[\"sig V(G)/Vp\"]],color=\"lightgray\")\n",
    "plt.errorbar([\"cis\",\"all\"],df_plot_sum[\"0_x\"],yerr=df_plot_sum[\"se\"],linewidth=4,elinewidth=4,capsize=5)\n",
    "plt.ylabel(\"V(G)/Vp\")\n",
    "plt.xlabel(\"snp group\")\n",
    "plt.savefig(\"variance.explained.pdf\")"
   ]
  },
  {
   "cell_type": "code",
   "execution_count": 18,
   "metadata": {},
   "outputs": [
    {
     "data": {
      "text/html": [
       "<div>\n",
       "<style scoped>\n",
       "    .dataframe tbody tr th:only-of-type {\n",
       "        vertical-align: middle;\n",
       "    }\n",
       "\n",
       "    .dataframe tbody tr th {\n",
       "        vertical-align: top;\n",
       "    }\n",
       "\n",
       "    .dataframe thead th {\n",
       "        text-align: right;\n",
       "    }\n",
       "</style>\n",
       "<table border=\"1\" class=\"dataframe\">\n",
       "  <thead>\n",
       "    <tr style=\"text-align: right;\">\n",
       "      <th></th>\n",
       "      <th>gene</th>\n",
       "      <th>cis V(G)/Vp</th>\n",
       "      <th>sig V(G)/Vp</th>\n",
       "    </tr>\n",
       "  </thead>\n",
       "  <tbody>\n",
       "    <tr>\n",
       "      <th>39</th>\n",
       "      <td>IL12A</td>\n",
       "      <td>0.000001</td>\n",
       "      <td>0.000001</td>\n",
       "    </tr>\n",
       "    <tr>\n",
       "      <th>23</th>\n",
       "      <td>ENO1</td>\n",
       "      <td>0.000001</td>\n",
       "      <td>0.000939</td>\n",
       "    </tr>\n",
       "    <tr>\n",
       "      <th>53</th>\n",
       "      <td>PSMC1</td>\n",
       "      <td>0.000001</td>\n",
       "      <td>0.002239</td>\n",
       "    </tr>\n",
       "    <tr>\n",
       "      <th>30</th>\n",
       "      <td>UAP1</td>\n",
       "      <td>0.000001</td>\n",
       "      <td>0.003366</td>\n",
       "    </tr>\n",
       "    <tr>\n",
       "      <th>132</th>\n",
       "      <td>APITD1</td>\n",
       "      <td>0.004016</td>\n",
       "      <td>0.005722</td>\n",
       "    </tr>\n",
       "    <tr>\n",
       "      <th>...</th>\n",
       "      <td>...</td>\n",
       "      <td>...</td>\n",
       "      <td>...</td>\n",
       "    </tr>\n",
       "    <tr>\n",
       "      <th>4</th>\n",
       "      <td>LILRB4</td>\n",
       "      <td>0.182968</td>\n",
       "      <td>0.203615</td>\n",
       "    </tr>\n",
       "    <tr>\n",
       "      <th>129</th>\n",
       "      <td>HLA.DRB5</td>\n",
       "      <td>0.005858</td>\n",
       "      <td>0.246238</td>\n",
       "    </tr>\n",
       "    <tr>\n",
       "      <th>48</th>\n",
       "      <td>LAIR1</td>\n",
       "      <td>0.228718</td>\n",
       "      <td>0.248075</td>\n",
       "    </tr>\n",
       "    <tr>\n",
       "      <th>108</th>\n",
       "      <td>ERAP2</td>\n",
       "      <td>0.345087</td>\n",
       "      <td>0.345357</td>\n",
       "    </tr>\n",
       "    <tr>\n",
       "      <th>113</th>\n",
       "      <td>HLA.DQA1</td>\n",
       "      <td>0.007805</td>\n",
       "      <td>0.567996</td>\n",
       "    </tr>\n",
       "  </tbody>\n",
       "</table>\n",
       "<p>134 rows × 3 columns</p>\n",
       "</div>"
      ],
      "text/plain": [
       "         gene  cis V(G)/Vp  sig V(G)/Vp\n",
       "39      IL12A     0.000001     0.000001\n",
       "23       ENO1     0.000001     0.000939\n",
       "53      PSMC1     0.000001     0.002239\n",
       "30       UAP1     0.000001     0.003366\n",
       "132    APITD1     0.004016     0.005722\n",
       "..        ...          ...          ...\n",
       "4      LILRB4     0.182968     0.203615\n",
       "129  HLA.DRB5     0.005858     0.246238\n",
       "48      LAIR1     0.228718     0.248075\n",
       "108     ERAP2     0.345087     0.345357\n",
       "113  HLA.DQA1     0.007805     0.567996\n",
       "\n",
       "[134 rows x 3 columns]"
      ]
     },
     "execution_count": 18,
     "metadata": {},
     "output_type": "execute_result"
    }
   ],
   "source": [
    "df_plot.sort_values(by=\"sig V(G)/Vp\")"
   ]
  },
  {
   "cell_type": "code",
   "execution_count": 21,
   "metadata": {},
   "outputs": [],
   "source": [
    "df_plot[\"diff\"]=df_plot[\"sig V(G)/Vp\"]-df_plot[\"cis V(G)/Vp\"]"
   ]
  },
  {
   "cell_type": "code",
   "execution_count": 23,
   "metadata": {},
   "outputs": [
    {
     "data": {
      "text/html": [
       "<div>\n",
       "<style scoped>\n",
       "    .dataframe tbody tr th:only-of-type {\n",
       "        vertical-align: middle;\n",
       "    }\n",
       "\n",
       "    .dataframe tbody tr th {\n",
       "        vertical-align: top;\n",
       "    }\n",
       "\n",
       "    .dataframe thead th {\n",
       "        text-align: right;\n",
       "    }\n",
       "</style>\n",
       "<table border=\"1\" class=\"dataframe\">\n",
       "  <thead>\n",
       "    <tr style=\"text-align: right;\">\n",
       "      <th></th>\n",
       "      <th>gene</th>\n",
       "      <th>cis V(G)/Vp</th>\n",
       "      <th>sig V(G)/Vp</th>\n",
       "      <th>diff</th>\n",
       "    </tr>\n",
       "  </thead>\n",
       "  <tbody>\n",
       "    <tr>\n",
       "      <th>0</th>\n",
       "      <td>CAPZA2</td>\n",
       "      <td>0.000001</td>\n",
       "      <td>0.018654</td>\n",
       "      <td>0.018653</td>\n",
       "    </tr>\n",
       "    <tr>\n",
       "      <th>1</th>\n",
       "      <td>SKIL</td>\n",
       "      <td>0.000001</td>\n",
       "      <td>0.006544</td>\n",
       "      <td>0.006543</td>\n",
       "    </tr>\n",
       "    <tr>\n",
       "      <th>2</th>\n",
       "      <td>CD86</td>\n",
       "      <td>0.001670</td>\n",
       "      <td>0.035573</td>\n",
       "      <td>0.033903</td>\n",
       "    </tr>\n",
       "    <tr>\n",
       "      <th>3</th>\n",
       "      <td>TAP2</td>\n",
       "      <td>0.000001</td>\n",
       "      <td>0.012591</td>\n",
       "      <td>0.012590</td>\n",
       "    </tr>\n",
       "    <tr>\n",
       "      <th>4</th>\n",
       "      <td>LILRB4</td>\n",
       "      <td>0.182968</td>\n",
       "      <td>0.203615</td>\n",
       "      <td>0.020647</td>\n",
       "    </tr>\n",
       "    <tr>\n",
       "      <th>...</th>\n",
       "      <td>...</td>\n",
       "      <td>...</td>\n",
       "      <td>...</td>\n",
       "      <td>...</td>\n",
       "    </tr>\n",
       "    <tr>\n",
       "      <th>129</th>\n",
       "      <td>HLA.DRB5</td>\n",
       "      <td>0.005858</td>\n",
       "      <td>0.246238</td>\n",
       "      <td>0.240380</td>\n",
       "    </tr>\n",
       "    <tr>\n",
       "      <th>130</th>\n",
       "      <td>CTSW</td>\n",
       "      <td>0.061723</td>\n",
       "      <td>0.080945</td>\n",
       "      <td>0.019222</td>\n",
       "    </tr>\n",
       "    <tr>\n",
       "      <th>131</th>\n",
       "      <td>MICB</td>\n",
       "      <td>0.005936</td>\n",
       "      <td>0.026681</td>\n",
       "      <td>0.020745</td>\n",
       "    </tr>\n",
       "    <tr>\n",
       "      <th>132</th>\n",
       "      <td>APITD1</td>\n",
       "      <td>0.004016</td>\n",
       "      <td>0.005722</td>\n",
       "      <td>0.001706</td>\n",
       "    </tr>\n",
       "    <tr>\n",
       "      <th>133</th>\n",
       "      <td>ITGB2</td>\n",
       "      <td>0.019496</td>\n",
       "      <td>0.059038</td>\n",
       "      <td>0.039542</td>\n",
       "    </tr>\n",
       "  </tbody>\n",
       "</table>\n",
       "<p>134 rows × 4 columns</p>\n",
       "</div>"
      ],
      "text/plain": [
       "         gene  cis V(G)/Vp  sig V(G)/Vp      diff\n",
       "0      CAPZA2     0.000001     0.018654  0.018653\n",
       "1        SKIL     0.000001     0.006544  0.006543\n",
       "2        CD86     0.001670     0.035573  0.033903\n",
       "3        TAP2     0.000001     0.012591  0.012590\n",
       "4      LILRB4     0.182968     0.203615  0.020647\n",
       "..        ...          ...          ...       ...\n",
       "129  HLA.DRB5     0.005858     0.246238  0.240380\n",
       "130      CTSW     0.061723     0.080945  0.019222\n",
       "131      MICB     0.005936     0.026681  0.020745\n",
       "132    APITD1     0.004016     0.005722  0.001706\n",
       "133     ITGB2     0.019496     0.059038  0.039542\n",
       "\n",
       "[134 rows x 4 columns]"
      ]
     },
     "execution_count": 23,
     "metadata": {},
     "output_type": "execute_result"
    }
   ],
   "source": [
    "df_plot"
   ]
  },
  {
   "cell_type": "code",
   "execution_count": null,
   "metadata": {},
   "outputs": [],
   "source": []
  },
  {
   "cell_type": "code",
   "execution_count": 13,
   "metadata": {},
   "outputs": [
    {
     "data": {
      "text/html": [
       "<div>\n",
       "<style scoped>\n",
       "    .dataframe tbody tr th:only-of-type {\n",
       "        vertical-align: middle;\n",
       "    }\n",
       "\n",
       "    .dataframe tbody tr th {\n",
       "        vertical-align: top;\n",
       "    }\n",
       "\n",
       "    .dataframe thead th {\n",
       "        text-align: right;\n",
       "    }\n",
       "</style>\n",
       "<table border=\"1\" class=\"dataframe\">\n",
       "  <thead>\n",
       "    <tr style=\"text-align: right;\">\n",
       "      <th></th>\n",
       "      <th>V(G)</th>\n",
       "      <th>V(e)</th>\n",
       "      <th>Vp</th>\n",
       "      <th>V(G)/Vp</th>\n",
       "      <th>logL</th>\n",
       "      <th>logL0</th>\n",
       "      <th>LRT</th>\n",
       "      <th>df</th>\n",
       "      <th>Pval</th>\n",
       "      <th>n</th>\n",
       "      <th>gene</th>\n",
       "      <th>category</th>\n",
       "      <th>V(G) SE</th>\n",
       "      <th>V(e) SE</th>\n",
       "      <th>V(p) SE</th>\n",
       "      <th>V(G)/Vp SE</th>\n",
       "    </tr>\n",
       "  </thead>\n",
       "  <tbody>\n",
       "    <tr>\n",
       "      <th>Variance</th>\n",
       "      <td>0.211433</td>\n",
       "      <td>0.756725</td>\n",
       "      <td>0.968159</td>\n",
       "      <td>0.218387</td>\n",
       "      <td>-3095.8</td>\n",
       "      <td>-3542.66</td>\n",
       "      <td>893.735</td>\n",
       "      <td>1</td>\n",
       "      <td>0</td>\n",
       "      <td>7113</td>\n",
       "      <td>CD86</td>\n",
       "      <td></td>\n",
       "      <td>0.014637</td>\n",
       "      <td>0.013624</td>\n",
       "      <td>0.018687</td>\n",
       "      <td>0.012582</td>\n",
       "    </tr>\n",
       "    <tr>\n",
       "      <th>Variance</th>\n",
       "      <td>0.124564</td>\n",
       "      <td>0.866076</td>\n",
       "      <td>0.99064</td>\n",
       "      <td>0.125741</td>\n",
       "      <td>-3392.36</td>\n",
       "      <td>-3547.83</td>\n",
       "      <td>310.94</td>\n",
       "      <td>1</td>\n",
       "      <td>0</td>\n",
       "      <td>7113</td>\n",
       "      <td>RNF41</td>\n",
       "      <td></td>\n",
       "      <td>0.011478</td>\n",
       "      <td>0.015561</td>\n",
       "      <td>0.017567</td>\n",
       "      <td>0.010669</td>\n",
       "    </tr>\n",
       "    <tr>\n",
       "      <th>Variance</th>\n",
       "      <td>0.114225</td>\n",
       "      <td>0.878772</td>\n",
       "      <td>0.992997</td>\n",
       "      <td>0.115031</td>\n",
       "      <td>-3420.81</td>\n",
       "      <td>-3546.97</td>\n",
       "      <td>252.321</td>\n",
       "      <td>1</td>\n",
       "      <td>0</td>\n",
       "      <td>7113</td>\n",
       "      <td>SKIL</td>\n",
       "      <td></td>\n",
       "      <td>0.011178</td>\n",
       "      <td>0.015802</td>\n",
       "      <td>0.017482</td>\n",
       "      <td>0.010475</td>\n",
       "    </tr>\n",
       "    <tr>\n",
       "      <th>Variance</th>\n",
       "      <td>0.106744</td>\n",
       "      <td>0.889489</td>\n",
       "      <td>0.996234</td>\n",
       "      <td>0.107148</td>\n",
       "      <td>-3446.4</td>\n",
       "      <td>-3547.63</td>\n",
       "      <td>202.469</td>\n",
       "      <td>1</td>\n",
       "      <td>0</td>\n",
       "      <td>7113</td>\n",
       "      <td>SEC31A</td>\n",
       "      <td></td>\n",
       "      <td>0.011062</td>\n",
       "      <td>0.016022</td>\n",
       "      <td>0.017461</td>\n",
       "      <td>0.010412</td>\n",
       "    </tr>\n",
       "    <tr>\n",
       "      <th>Variance</th>\n",
       "      <td>0.147483</td>\n",
       "      <td>0.842969</td>\n",
       "      <td>0.990452</td>\n",
       "      <td>0.148905</td>\n",
       "      <td>-3344.77</td>\n",
       "      <td>-3552.3</td>\n",
       "      <td>415.052</td>\n",
       "      <td>1</td>\n",
       "      <td>0</td>\n",
       "      <td>7113</td>\n",
       "      <td>ITGAV</td>\n",
       "      <td></td>\n",
       "      <td>0.012446</td>\n",
       "      <td>0.015168</td>\n",
       "      <td>0.017914</td>\n",
       "      <td>0.011307</td>\n",
       "    </tr>\n",
       "    <tr>\n",
       "      <th>...</th>\n",
       "      <td>...</td>\n",
       "      <td>...</td>\n",
       "      <td>...</td>\n",
       "      <td>...</td>\n",
       "      <td>...</td>\n",
       "      <td>...</td>\n",
       "      <td>...</td>\n",
       "      <td>...</td>\n",
       "      <td>...</td>\n",
       "      <td>...</td>\n",
       "      <td>...</td>\n",
       "      <td>...</td>\n",
       "      <td>...</td>\n",
       "      <td>...</td>\n",
       "      <td>...</td>\n",
       "      <td>...</td>\n",
       "    </tr>\n",
       "    <tr>\n",
       "      <th>Variance</th>\n",
       "      <td>0.179221</td>\n",
       "      <td>0.793494</td>\n",
       "      <td>0.972715</td>\n",
       "      <td>0.184249</td>\n",
       "      <td>-3199.99</td>\n",
       "      <td>-3541.33</td>\n",
       "      <td>682.676</td>\n",
       "      <td>1</td>\n",
       "      <td>0</td>\n",
       "      <td>7113</td>\n",
       "      <td>VSIG4</td>\n",
       "      <td></td>\n",
       "      <td>0.013370</td>\n",
       "      <td>0.014263</td>\n",
       "      <td>0.018125</td>\n",
       "      <td>0.011897</td>\n",
       "    </tr>\n",
       "    <tr>\n",
       "      <th>Variance</th>\n",
       "      <td>0.076228</td>\n",
       "      <td>0.919424</td>\n",
       "      <td>0.995652</td>\n",
       "      <td>0.076561</td>\n",
       "      <td>-3492.5</td>\n",
       "      <td>-3549.76</td>\n",
       "      <td>114.516</td>\n",
       "      <td>1</td>\n",
       "      <td>0</td>\n",
       "      <td>7113</td>\n",
       "      <td>RBM14</td>\n",
       "      <td></td>\n",
       "      <td>0.009697</td>\n",
       "      <td>0.016522</td>\n",
       "      <td>0.017100</td>\n",
       "      <td>0.009371</td>\n",
       "    </tr>\n",
       "    <tr>\n",
       "      <th>Variance</th>\n",
       "      <td>0.092865</td>\n",
       "      <td>0.875076</td>\n",
       "      <td>0.967941</td>\n",
       "      <td>0.09594</td>\n",
       "      <td>-3362.81</td>\n",
       "      <td>-3463.97</td>\n",
       "      <td>202.324</td>\n",
       "      <td>1</td>\n",
       "      <td>0</td>\n",
       "      <td>7113</td>\n",
       "      <td>MICB</td>\n",
       "      <td></td>\n",
       "      <td>0.010102</td>\n",
       "      <td>0.015715</td>\n",
       "      <td>0.016810</td>\n",
       "      <td>0.009879</td>\n",
       "    </tr>\n",
       "    <tr>\n",
       "      <th>Variance</th>\n",
       "      <td>0.219379</td>\n",
       "      <td>0.734561</td>\n",
       "      <td>0.95394</td>\n",
       "      <td>0.229972</td>\n",
       "      <td>-3011.4</td>\n",
       "      <td>-3393.01</td>\n",
       "      <td>763.222</td>\n",
       "      <td>1</td>\n",
       "      <td>0</td>\n",
       "      <td>7113</td>\n",
       "      <td>HLA.DQA2</td>\n",
       "      <td></td>\n",
       "      <td>0.015291</td>\n",
       "      <td>0.013286</td>\n",
       "      <td>0.018798</td>\n",
       "      <td>0.013179</td>\n",
       "    </tr>\n",
       "    <tr>\n",
       "      <th>Variance</th>\n",
       "      <td>0.144118</td>\n",
       "      <td>0.816452</td>\n",
       "      <td>0.96057</td>\n",
       "      <td>0.150034</td>\n",
       "      <td>-3233.46</td>\n",
       "      <td>-3554.2</td>\n",
       "      <td>641.481</td>\n",
       "      <td>1</td>\n",
       "      <td>0</td>\n",
       "      <td>7113</td>\n",
       "      <td>CTSW</td>\n",
       "      <td></td>\n",
       "      <td>0.011697</td>\n",
       "      <td>0.014623</td>\n",
       "      <td>0.017303</td>\n",
       "      <td>0.010929</td>\n",
       "    </tr>\n",
       "  </tbody>\n",
       "</table>\n",
       "<p>134 rows × 16 columns</p>\n",
       "</div>"
      ],
      "text/plain": [
       "              V(G)      V(e)        Vp   V(G)/Vp     logL    logL0      LRT  \\\n",
       "Variance  0.211433  0.756725  0.968159  0.218387  -3095.8 -3542.66  893.735   \n",
       "Variance  0.124564  0.866076   0.99064  0.125741 -3392.36 -3547.83   310.94   \n",
       "Variance  0.114225  0.878772  0.992997  0.115031 -3420.81 -3546.97  252.321   \n",
       "Variance  0.106744  0.889489  0.996234  0.107148  -3446.4 -3547.63  202.469   \n",
       "Variance  0.147483  0.842969  0.990452  0.148905 -3344.77  -3552.3  415.052   \n",
       "...            ...       ...       ...       ...      ...      ...      ...   \n",
       "Variance  0.179221  0.793494  0.972715  0.184249 -3199.99 -3541.33  682.676   \n",
       "Variance  0.076228  0.919424  0.995652  0.076561  -3492.5 -3549.76  114.516   \n",
       "Variance  0.092865  0.875076  0.967941   0.09594 -3362.81 -3463.97  202.324   \n",
       "Variance  0.219379  0.734561   0.95394  0.229972  -3011.4 -3393.01  763.222   \n",
       "Variance  0.144118  0.816452   0.96057  0.150034 -3233.46  -3554.2  641.481   \n",
       "\n",
       "         df Pval     n      gene category   V(G) SE   V(e) SE   V(p) SE  \\\n",
       "Variance  1    0  7113      CD86           0.014637  0.013624  0.018687   \n",
       "Variance  1    0  7113     RNF41           0.011478  0.015561  0.017567   \n",
       "Variance  1    0  7113      SKIL           0.011178  0.015802  0.017482   \n",
       "Variance  1    0  7113    SEC31A           0.011062  0.016022  0.017461   \n",
       "Variance  1    0  7113     ITGAV           0.012446  0.015168  0.017914   \n",
       "...      ..  ...   ...       ...      ...       ...       ...       ...   \n",
       "Variance  1    0  7113     VSIG4           0.013370  0.014263  0.018125   \n",
       "Variance  1    0  7113     RBM14           0.009697  0.016522  0.017100   \n",
       "Variance  1    0  7113      MICB           0.010102  0.015715  0.016810   \n",
       "Variance  1    0  7113  HLA.DQA2           0.015291  0.013286  0.018798   \n",
       "Variance  1    0  7113      CTSW           0.011697  0.014623  0.017303   \n",
       "\n",
       "          V(G)/Vp SE  \n",
       "Variance    0.012582  \n",
       "Variance    0.010669  \n",
       "Variance    0.010475  \n",
       "Variance    0.010412  \n",
       "Variance    0.011307  \n",
       "...              ...  \n",
       "Variance    0.011897  \n",
       "Variance    0.009371  \n",
       "Variance    0.009879  \n",
       "Variance    0.013179  \n",
       "Variance    0.010929  \n",
       "\n",
       "[134 rows x 16 columns]"
      ]
     },
     "execution_count": 13,
     "metadata": {},
     "output_type": "execute_result"
    }
   ],
   "source": [
    "sig"
   ]
  },
  {
   "cell_type": "code",
   "execution_count": 13,
   "metadata": {},
   "outputs": [],
   "source": [
    "pca=fdr(pca,True)"
   ]
  },
  {
   "cell_type": "code",
   "execution_count": 21,
   "metadata": {},
   "outputs": [],
   "source": [
    "pca=pca.sort_values(by=\"V(G)/Vp\")"
   ]
  },
  {
   "cell_type": "code",
   "execution_count": 22,
   "metadata": {},
   "outputs": [
    {
     "data": {
      "text/html": [
       "<div>\n",
       "<style scoped>\n",
       "    .dataframe tbody tr th:only-of-type {\n",
       "        vertical-align: middle;\n",
       "    }\n",
       "\n",
       "    .dataframe tbody tr th {\n",
       "        vertical-align: top;\n",
       "    }\n",
       "\n",
       "    .dataframe thead th {\n",
       "        text-align: right;\n",
       "    }\n",
       "</style>\n",
       "<table border=\"1\" class=\"dataframe\">\n",
       "  <thead>\n",
       "    <tr style=\"text-align: right;\">\n",
       "      <th></th>\n",
       "      <th>V(G)</th>\n",
       "      <th>V(e)</th>\n",
       "      <th>Vp</th>\n",
       "      <th>V(G)/Vp</th>\n",
       "      <th>logL</th>\n",
       "      <th>logL0</th>\n",
       "      <th>LRT</th>\n",
       "      <th>df</th>\n",
       "      <th>Pval</th>\n",
       "      <th>n</th>\n",
       "      <th>gene</th>\n",
       "      <th>category</th>\n",
       "      <th>V(G) SE</th>\n",
       "      <th>V(e) SE</th>\n",
       "      <th>V(p) SE</th>\n",
       "      <th>V(G)/Vp SE</th>\n",
       "      <th>fdr</th>\n",
       "      <th>-log10(fdr)</th>\n",
       "    </tr>\n",
       "  </thead>\n",
       "  <tbody>\n",
       "    <tr>\n",
       "      <th>Variance</th>\n",
       "      <td>2.7e-05</td>\n",
       "      <td>27.1258</td>\n",
       "      <td>27.1258</td>\n",
       "      <td>0.000001</td>\n",
       "      <td>-17501.3</td>\n",
       "      <td>-17501.3</td>\n",
       "      <td>0</td>\n",
       "      <td>1</td>\n",
       "      <td>0.5</td>\n",
       "      <td>8135</td>\n",
       "      <td>PC4</td>\n",
       "      <td></td>\n",
       "      <td>1.058435</td>\n",
       "      <td>1.139892</td>\n",
       "      <td>0.425399</td>\n",
       "      <td>0.039019</td>\n",
       "      <td>0.500000</td>\n",
       "      <td>0.301030</td>\n",
       "    </tr>\n",
       "    <tr>\n",
       "      <th>Variance</th>\n",
       "      <td>1e-05</td>\n",
       "      <td>9.59697</td>\n",
       "      <td>9.59698</td>\n",
       "      <td>0.000001</td>\n",
       "      <td>-13276.5</td>\n",
       "      <td>-13276.5</td>\n",
       "      <td>0</td>\n",
       "      <td>1</td>\n",
       "      <td>0.5</td>\n",
       "      <td>8135</td>\n",
       "      <td>PC8</td>\n",
       "      <td></td>\n",
       "      <td>0.382781</td>\n",
       "      <td>0.411505</td>\n",
       "      <td>0.150505</td>\n",
       "      <td>0.039886</td>\n",
       "      <td>0.500000</td>\n",
       "      <td>0.301030</td>\n",
       "    </tr>\n",
       "    <tr>\n",
       "      <th>Variance</th>\n",
       "      <td>0.362975</td>\n",
       "      <td>19.677</td>\n",
       "      <td>20.04</td>\n",
       "      <td>0.018113</td>\n",
       "      <td>-16270.3</td>\n",
       "      <td>-16270.4</td>\n",
       "      <td>0.23</td>\n",
       "      <td>1</td>\n",
       "      <td>0.31571</td>\n",
       "      <td>8135</td>\n",
       "      <td>PC5</td>\n",
       "      <td></td>\n",
       "      <td>0.793325</td>\n",
       "      <td>0.850309</td>\n",
       "      <td>0.314280</td>\n",
       "      <td>0.039585</td>\n",
       "      <td>0.394638</td>\n",
       "      <td>0.403802</td>\n",
       "    </tr>\n",
       "    <tr>\n",
       "      <th>Variance</th>\n",
       "      <td>1.02209</td>\n",
       "      <td>43.1328</td>\n",
       "      <td>44.1549</td>\n",
       "      <td>0.023148</td>\n",
       "      <td>-19482.3</td>\n",
       "      <td>-19482.5</td>\n",
       "      <td>0.419</td>\n",
       "      <td>1</td>\n",
       "      <td>0.25872</td>\n",
       "      <td>8135</td>\n",
       "      <td>PC3</td>\n",
       "      <td></td>\n",
       "      <td>1.723871</td>\n",
       "      <td>1.848537</td>\n",
       "      <td>0.692469</td>\n",
       "      <td>0.039038</td>\n",
       "      <td>0.369600</td>\n",
       "      <td>0.432268</td>\n",
       "    </tr>\n",
       "    <tr>\n",
       "      <th>Variance</th>\n",
       "      <td>2.49063</td>\n",
       "      <td>62.9135</td>\n",
       "      <td>65.4041</td>\n",
       "      <td>0.038081</td>\n",
       "      <td>-21079.5</td>\n",
       "      <td>-21081</td>\n",
       "      <td>2.829</td>\n",
       "      <td>1</td>\n",
       "      <td>0.0462941</td>\n",
       "      <td>8135</td>\n",
       "      <td>PC2</td>\n",
       "      <td></td>\n",
       "      <td>2.137801</td>\n",
       "      <td>2.345869</td>\n",
       "      <td>1.025743</td>\n",
       "      <td>0.032675</td>\n",
       "      <td>0.103236</td>\n",
       "      <td>0.986168</td>\n",
       "    </tr>\n",
       "    <tr>\n",
       "      <th>Variance</th>\n",
       "      <td>5.69313</td>\n",
       "      <td>135.653</td>\n",
       "      <td>141.346</td>\n",
       "      <td>0.040278</td>\n",
       "      <td>-24212.9</td>\n",
       "      <td>-24214.2</td>\n",
       "      <td>2.715</td>\n",
       "      <td>1</td>\n",
       "      <td>0.0496891</td>\n",
       "      <td>8135</td>\n",
       "      <td>PC1</td>\n",
       "      <td></td>\n",
       "      <td>4.844027</td>\n",
       "      <td>5.269542</td>\n",
       "      <td>2.216771</td>\n",
       "      <td>0.034259</td>\n",
       "      <td>0.103236</td>\n",
       "      <td>0.986168</td>\n",
       "    </tr>\n",
       "    <tr>\n",
       "      <th>Variance</th>\n",
       "      <td>0.710563</td>\n",
       "      <td>16.4925</td>\n",
       "      <td>17.2031</td>\n",
       "      <td>0.041304</td>\n",
       "      <td>-15649.3</td>\n",
       "      <td>-15650</td>\n",
       "      <td>1.377</td>\n",
       "      <td>1</td>\n",
       "      <td>0.12034</td>\n",
       "      <td>8135</td>\n",
       "      <td>PC6</td>\n",
       "      <td></td>\n",
       "      <td>0.694718</td>\n",
       "      <td>0.738155</td>\n",
       "      <td>0.269807</td>\n",
       "      <td>0.040370</td>\n",
       "      <td>0.200567</td>\n",
       "      <td>0.697741</td>\n",
       "    </tr>\n",
       "    <tr>\n",
       "      <th>Variance</th>\n",
       "      <td>0.457453</td>\n",
       "      <td>6.97318</td>\n",
       "      <td>7.43063</td>\n",
       "      <td>0.061563</td>\n",
       "      <td>-12235.5</td>\n",
       "      <td>-12236.9</td>\n",
       "      <td>2.655</td>\n",
       "      <td>1</td>\n",
       "      <td>0.0516181</td>\n",
       "      <td>8135</td>\n",
       "      <td>PC10</td>\n",
       "      <td></td>\n",
       "      <td>0.314668</td>\n",
       "      <td>0.330820</td>\n",
       "      <td>0.116555</td>\n",
       "      <td>0.042317</td>\n",
       "      <td>0.103236</td>\n",
       "      <td>0.986168</td>\n",
       "    </tr>\n",
       "    <tr>\n",
       "      <th>Variance</th>\n",
       "      <td>0.581965</td>\n",
       "      <td>8.52802</td>\n",
       "      <td>9.10999</td>\n",
       "      <td>0.063882</td>\n",
       "      <td>-13063.9</td>\n",
       "      <td>-13065.9</td>\n",
       "      <td>3.847</td>\n",
       "      <td>1</td>\n",
       "      <td>0.0249151</td>\n",
       "      <td>8135</td>\n",
       "      <td>PC9</td>\n",
       "      <td></td>\n",
       "      <td>0.357662</td>\n",
       "      <td>0.379118</td>\n",
       "      <td>0.142895</td>\n",
       "      <td>0.039228</td>\n",
       "      <td>0.103236</td>\n",
       "      <td>0.986168</td>\n",
       "    </tr>\n",
       "    <tr>\n",
       "      <th>Variance</th>\n",
       "      <td>1.04916</td>\n",
       "      <td>13.1088</td>\n",
       "      <td>14.1579</td>\n",
       "      <td>0.074104</td>\n",
       "      <td>-14856.3</td>\n",
       "      <td>-14861.6</td>\n",
       "      <td>10.647</td>\n",
       "      <td>1</td>\n",
       "      <td>0.00055126</td>\n",
       "      <td>8135</td>\n",
       "      <td>PC7</td>\n",
       "      <td></td>\n",
       "      <td>0.510171</td>\n",
       "      <td>0.545447</td>\n",
       "      <td>0.222082</td>\n",
       "      <td>0.035991</td>\n",
       "      <td>0.005513</td>\n",
       "      <td>2.258644</td>\n",
       "    </tr>\n",
       "  </tbody>\n",
       "</table>\n",
       "</div>"
      ],
      "text/plain": [
       "              V(G)     V(e)       Vp   V(G)/Vp     logL    logL0     LRT df  \\\n",
       "Variance   2.7e-05  27.1258  27.1258  0.000001 -17501.3 -17501.3       0  1   \n",
       "Variance     1e-05  9.59697  9.59698  0.000001 -13276.5 -13276.5       0  1   \n",
       "Variance  0.362975   19.677    20.04  0.018113 -16270.3 -16270.4    0.23  1   \n",
       "Variance   1.02209  43.1328  44.1549  0.023148 -19482.3 -19482.5   0.419  1   \n",
       "Variance   2.49063  62.9135  65.4041  0.038081 -21079.5   -21081   2.829  1   \n",
       "Variance   5.69313  135.653  141.346  0.040278 -24212.9 -24214.2   2.715  1   \n",
       "Variance  0.710563  16.4925  17.2031  0.041304 -15649.3   -15650   1.377  1   \n",
       "Variance  0.457453  6.97318  7.43063  0.061563 -12235.5 -12236.9   2.655  1   \n",
       "Variance  0.581965  8.52802  9.10999  0.063882 -13063.9 -13065.9   3.847  1   \n",
       "Variance   1.04916  13.1088  14.1579  0.074104 -14856.3 -14861.6  10.647  1   \n",
       "\n",
       "                Pval     n  gene category   V(G) SE   V(e) SE   V(p) SE  \\\n",
       "Variance         0.5  8135   PC4           1.058435  1.139892  0.425399   \n",
       "Variance         0.5  8135   PC8           0.382781  0.411505  0.150505   \n",
       "Variance     0.31571  8135   PC5           0.793325  0.850309  0.314280   \n",
       "Variance     0.25872  8135   PC3           1.723871  1.848537  0.692469   \n",
       "Variance   0.0462941  8135   PC2           2.137801  2.345869  1.025743   \n",
       "Variance   0.0496891  8135   PC1           4.844027  5.269542  2.216771   \n",
       "Variance     0.12034  8135   PC6           0.694718  0.738155  0.269807   \n",
       "Variance   0.0516181  8135  PC10           0.314668  0.330820  0.116555   \n",
       "Variance   0.0249151  8135   PC9           0.357662  0.379118  0.142895   \n",
       "Variance  0.00055126  8135   PC7           0.510171  0.545447  0.222082   \n",
       "\n",
       "          V(G)/Vp SE       fdr  -log10(fdr)  \n",
       "Variance    0.039019  0.500000     0.301030  \n",
       "Variance    0.039886  0.500000     0.301030  \n",
       "Variance    0.039585  0.394638     0.403802  \n",
       "Variance    0.039038  0.369600     0.432268  \n",
       "Variance    0.032675  0.103236     0.986168  \n",
       "Variance    0.034259  0.103236     0.986168  \n",
       "Variance    0.040370  0.200567     0.697741  \n",
       "Variance    0.042317  0.103236     0.986168  \n",
       "Variance    0.039228  0.103236     0.986168  \n",
       "Variance    0.035991  0.005513     2.258644  "
      ]
     },
     "execution_count": 22,
     "metadata": {},
     "output_type": "execute_result"
    }
   ],
   "source": [
    "pca"
   ]
  },
  {
   "cell_type": "code",
   "execution_count": 24,
   "metadata": {},
   "outputs": [
    {
     "data": {
      "text/plain": [
       "(array([-0.06, -0.04, -0.02,  0.  ,  0.02,  0.04,  0.06,  0.08,  0.1 ,\n",
       "         0.12]),\n",
       " <a list of 10 Text xticklabel objects>)"
      ]
     },
     "execution_count": 24,
     "metadata": {},
     "output_type": "execute_result"
    },
    {
     "data": {
      "image/png": "[encoded data removed]",
      "text/plain": [
       "<Figure size 360x360 with 1 Axes>"
      ]
     },
     "metadata": {
      "needs_background": "light"
     },
     "output_type": "display_data"
    }
   ],
   "source": [
    "f=plt.figure(figsize=(5,5))\n",
    "plt.barh(pca[\"gene\"], pca[\"V(G)/Vp\"],xerr=pca[\"V(G)/Vp SE\"],capsize=5)\n",
    "plt.yticks(fontsize=10)\n",
    "plt.xlabel(\"V(G)/Vp\",fontsize=15)\n",
    "plt.xticks(fontsize=10)\n",
    "#plt.xticks(y_pos, bars)\n",
    "plt.xticks(rotation=90)"
   ]
  },
  {
   "cell_type": "code",
   "execution_count": 9,
   "metadata": {},
   "outputs": [],
   "source": [
    "brian=fdr(brian,pseudocount)\n",
    "firebrowse=fdr(firebrowse,pseudocount)\n",
    "pancan=fdr(pancan,pseudocount)"
   ]
  },
  {
   "cell_type": "code",
   "execution_count": 10,
   "metadata": {},
   "outputs": [],
   "source": [
    "#map all ids to standard\n",
    "\n",
    "mp_ids={\"CMC2\":\"C16orf61\",\n",
    "    \"ADGRE5\":\"CD97\",\n",
    "    \"SPRYD7\":\"C13orf1\",\n",
    "    \"JCHAIN\":\"IGJ\",\n",
    "    \"CTSL\":\"CTSL1\",\n",
    "    \"CTSV\":\"CTSL2\",\n",
    "     \"TEX30\":\"C13orf27\",\n",
    "     \"CENPU\":\"MLF1IP\",\n",
    "     \"CMSS1\":\"C3orf26\",\n",
    "     \"FAM216A\":\"C12orf24\",\n",
    "     \"HACD2\":\"PTPLB\", \"MARCHF1\":\"MARCH1\"}\n",
    "mp_ids= {v: k for k, v in mp_ids.items()}\n",
    "\n",
    "brian[\"gene\"].replace(mp_ids, inplace=True)\n",
    "firebrowse[\"gene\"].replace(mp_ids, inplace=True)\n",
    "pancan[\"gene\"].replace(mp_ids, inplace=True)"
   ]
  },
  {
   "cell_type": "code",
   "execution_count": 11,
   "metadata": {},
   "outputs": [],
   "source": [
    "#rename columns\n",
    "brian=brian.rename(columns={\"V(G)/Vp\":\"brian V(G)/V(p)\",\"-log10(fdr)\":\"brian -log10(fdr)\"})\n",
    "firebrowse=firebrowse.rename(columns={\"V(G)/Vp\":\"firebrowse V(G)/V(p)\",\"-log10(fdr)\":\"firebrowse -log10(fdr)\"})\n",
    "pancan=pancan.rename(columns={\"V(G)/Vp\":\"pancan V(G)/V(p)\",\"-log10(fdr)\":\"pancan -log10(fdr)\"})"
   ]
  },
  {
   "cell_type": "code",
   "execution_count": 12,
   "metadata": {},
   "outputs": [],
   "source": [
    "#merge columns\n",
    "total=pd.merge(brian[[\"brian V(G)/V(p)\",\"gene\",\"brian -log10(fdr)\"]],firebrowse[[\"firebrowse V(G)/V(p)\",\"gene\",\"firebrowse -log10(fdr)\"]], on=\"gene\",how=\"outer\")\n",
    "total=pd.merge(total,pancan[[\"pancan V(G)/V(p)\",\"gene\",\"pancan -log10(fdr)\"]],on=\"gene\",how=\"outer\")"
   ]
  },
  {
   "cell_type": "code",
   "execution_count": 13,
   "metadata": {},
   "outputs": [
    {
     "data": {
      "text/html": [
       "<div>\n",
       "<style scoped>\n",
       "    .dataframe tbody tr th:only-of-type {\n",
       "        vertical-align: middle;\n",
       "    }\n",
       "\n",
       "    .dataframe tbody tr th {\n",
       "        vertical-align: top;\n",
       "    }\n",
       "\n",
       "    .dataframe thead th {\n",
       "        text-align: right;\n",
       "    }\n",
       "</style>\n",
       "<table border=\"1\" class=\"dataframe\">\n",
       "  <thead>\n",
       "    <tr style=\"text-align: right;\">\n",
       "      <th></th>\n",
       "      <th>brian V(G)/V(p)</th>\n",
       "      <th>gene</th>\n",
       "      <th>brian -log10(fdr)</th>\n",
       "      <th>firebrowse V(G)/V(p)</th>\n",
       "      <th>firebrowse -log10(fdr)</th>\n",
       "      <th>pancan V(G)/V(p)</th>\n",
       "      <th>pancan -log10(fdr)</th>\n",
       "    </tr>\n",
       "  </thead>\n",
       "  <tbody>\n",
       "    <tr>\n",
       "      <th>646</th>\n",
       "      <td>0.221138</td>\n",
       "      <td>B2M</td>\n",
       "      <td>3.949372</td>\n",
       "      <td>0.071132</td>\n",
       "      <td>0.615906</td>\n",
       "      <td>0.05796</td>\n",
       "      <td>0.516996</td>\n",
       "    </tr>\n",
       "  </tbody>\n",
       "</table>\n",
       "</div>"
      ],
      "text/plain": [
       "     brian V(G)/V(p) gene  brian -log10(fdr)  firebrowse V(G)/V(p)  \\\n",
       "646         0.221138  B2M           3.949372              0.071132   \n",
       "\n",
       "     firebrowse -log10(fdr)  pancan V(G)/V(p)  pancan -log10(fdr)  \n",
       "646                0.615906           0.05796            0.516996  "
      ]
     },
     "execution_count": 13,
     "metadata": {},
     "output_type": "execute_result"
    }
   ],
   "source": [
    "total[total[\"gene\"]==\"B2M\"]"
   ]
  },
  {
   "cell_type": "code",
   "execution_count": 14,
   "metadata": {},
   "outputs": [],
   "source": [
    "#get consensus\n",
    "total[\"consensus V(g)/V(p)\"]=total[[\"brian V(G)/V(p)\",\"firebrowse V(G)/V(p)\",\"pancan V(G)/V(p)\"]].apply(lambda x: len([x for x in list(x) if x>0.05]), axis=1)\n",
    "total[\"consensus fdr\"]=total[[\"brian -log10(fdr)\",\"firebrowse -log10(fdr)\",\"pancan -log10(fdr)\"]].apply(lambda x: len([x for x in list(x) if x>1.3]), axis=1)"
   ]
  },
  {
   "cell_type": "code",
   "execution_count": 15,
   "metadata": {},
   "outputs": [],
   "source": [
    "#keep only genes with phenotype values in at least 2 datasets\n",
    "total[\"null\"]=total[[\"brian V(G)/V(p)\",\"firebrowse V(G)/V(p)\",\"pancan V(G)/V(p)\"]].apply(lambda x: len([x for x in list(x) if np.isnan(x)]), axis=1)\n",
    "total=total[total[\"null\"]<2]\n",
    "df_genes=pd.DataFrame({\"genes\":total[\"gene\"].tolist()})\n",
    "df_genes.to_csv(\"immune.genes.2.rna.txt\",index=None,sep=\"\\t\")"
   ]
  },
  {
   "cell_type": "code",
   "execution_count": 16,
   "metadata": {},
   "outputs": [],
   "source": [
    "#make column of size of scatterplot\n",
    "total[\"size\"]=(total[\"consensus V(g)/V(p)\"]*30)+10"
   ]
  },
  {
   "cell_type": "code",
   "execution_count": 17,
   "metadata": {},
   "outputs": [],
   "source": [
    "with open('/cellar/users/mpagadal/Data/projects/germline-immune/notebooks/pheno_dictionary.json', 'r') as f:\n",
    "    pheno_dict = json.load(f)\n",
    "total[\"category\"]=total[\"gene\"].map(pheno_dict)"
   ]
  },
  {
   "cell_type": "code",
   "execution_count": 18,
   "metadata": {},
   "outputs": [],
   "source": [
    "#significant heritability genes\n",
    "# at least 2 rna sources with heritability estimates > 0.05\n",
    "# at least 1 of the heritability estimates must have FDR > 10%\n",
    "sig=total[(total[\"consensus V(g)/V(p)\"]>1)&(total[\"consensus fdr\"]>0)][\"gene\"].tolist()"
   ]
  },
  {
   "cell_type": "code",
   "execution_count": 19,
   "metadata": {},
   "outputs": [],
   "source": [
    "gcta_sig=pd.DataFrame({\"genes\":sig})\n",
    "gcta_sig.to_csv(\"gcta_significant_genes.txt\",header=None,index=None)"
   ]
  },
  {
   "cell_type": "code",
   "execution_count": 20,
   "metadata": {},
   "outputs": [
    {
     "data": {
      "text/plain": [
       "'There are 137 heritable immune traits'"
      ]
     },
     "execution_count": 20,
     "metadata": {},
     "output_type": "execute_result"
    }
   ],
   "source": [
    "\"There are {} heritable immune traits\".format(len(sig))"
   ]
  },
  {
   "cell_type": "code",
   "execution_count": 21,
   "metadata": {},
   "outputs": [
    {
     "data": {
      "text/plain": [
       "'The following immune genes are heritable: CD44 SEC24C ITGB2 OAS1 PLOD2 PGM2 DBNDD1 SLC25A40 HCK MARVELD2 CANX AMPD3 TREX1 CSF1R CD163 FCGR3A BTN3A2 CHUK SAMHD1 BSG MS4A4A CLEC4A FPR3 IFI6 ERAP2 PIK3CG CBX1 NEO1 CTSD ISG15 TRAF6 CD84 SLC11A1 ADCY7 FCGR2A PSMD11 HLA.DRB5 IFI44L HAUS1 GPLD1 NCF2 ALOX5AP HLA.F ENTPD1 HLA.A CTSL CD53 STAT1 TLR2 SMAD4 APITD1 CYBB IL1B RBM14 CD14 VSIG4 MARCHF1 CD68 HLA.DQA1 CD209 MICB RAB35 CTSW DYNLT1 MYO1F TAP2 LYN CCBL2 CD86 TNFRSF1A SKIL TRA2B ITGAV RNF41 SEC22B CAPZA2 IGF2R HLA.DQA2 LILRB4 VAMP3 IL1A FPR1 CYBA NUTF2 MICA CAPZB CTSS PSMC1 WDR54 IL2RA PSMB7 IL10RA LAIR1 FCGR2B PSMB9 IL10 PLEK OAS3 ERLIN1 HLA.DRB1 ENO1 HLA.B UAP1 SEC24A DCTN5 IL12A LNPEP COX17 DHFR MNDA FCGR3B C3AR1 SH3BP5L PSMD2 LYZ LILRB2 GNPTAB ERAP1 HLA.DQB1 SLC25A5 CD80 CSF3R B2M HLA.C KIF2A SEC31A SIGLEC5 FAM167A COL8A1 CTNNB1 TAB1 TNFSF13B EIF2AK1 LM22.Macrophages.M2 HLA.G HLA.H HLA.DQB2'"
      ]
     },
     "execution_count": 21,
     "metadata": {},
     "output_type": "execute_result"
    }
   ],
   "source": [
    "\"The following immune genes are heritable: {}\".format(\" \".join(sig))"
   ]
  },
  {
   "cell_type": "code",
   "execution_count": 22,
   "metadata": {},
   "outputs": [
    {
     "data": {
      "text/plain": [
       "immunomodulators       70\n",
       "antigen present        41\n",
       "immune checkpoint      11\n",
       "cell type              10\n",
       "TGFbeta                 3\n",
       "immune infiltration     1\n",
       "IFNG                    1\n",
       "Name: category, dtype: int64"
      ]
     },
     "execution_count": 22,
     "metadata": {},
     "output_type": "execute_result"
    }
   ],
   "source": [
    "total[total[\"gene\"].isin(sig)][\"category\"].value_counts()"
   ]
  },
  {
   "cell_type": "code",
   "execution_count": 23,
   "metadata": {},
   "outputs": [
    {
     "data": {
      "text/html": [
       "<div>\n",
       "<style scoped>\n",
       "    .dataframe tbody tr th:only-of-type {\n",
       "        vertical-align: middle;\n",
       "    }\n",
       "\n",
       "    .dataframe tbody tr th {\n",
       "        vertical-align: top;\n",
       "    }\n",
       "\n",
       "    .dataframe thead th {\n",
       "        text-align: right;\n",
       "    }\n",
       "</style>\n",
       "<table border=\"1\" class=\"dataframe\">\n",
       "  <thead>\n",
       "    <tr style=\"text-align: right;\">\n",
       "      <th></th>\n",
       "      <th>brian V(G)/V(p)</th>\n",
       "      <th>gene</th>\n",
       "      <th>brian -log10(fdr)</th>\n",
       "      <th>firebrowse V(G)/V(p)</th>\n",
       "      <th>firebrowse -log10(fdr)</th>\n",
       "      <th>pancan V(G)/V(p)</th>\n",
       "      <th>pancan -log10(fdr)</th>\n",
       "      <th>consensus V(g)/V(p)</th>\n",
       "      <th>consensus fdr</th>\n",
       "      <th>null</th>\n",
       "      <th>size</th>\n",
       "      <th>category</th>\n",
       "    </tr>\n",
       "  </thead>\n",
       "  <tbody>\n",
       "    <tr>\n",
       "      <th>0</th>\n",
       "      <td>0.000001</td>\n",
       "      <td>COL6A3</td>\n",
       "      <td>0.301030</td>\n",
       "      <td>0.000486</td>\n",
       "      <td>0.301030</td>\n",
       "      <td>0.000001</td>\n",
       "      <td>0.301030</td>\n",
       "      <td>0</td>\n",
       "      <td>0</td>\n",
       "      <td>0</td>\n",
       "      <td>10</td>\n",
       "      <td>immunomodulators</td>\n",
       "    </tr>\n",
       "    <tr>\n",
       "      <th>1</th>\n",
       "      <td>0.052471</td>\n",
       "      <td>SEC24D</td>\n",
       "      <td>1.113814</td>\n",
       "      <td>0.029511</td>\n",
       "      <td>0.375324</td>\n",
       "      <td>0.047352</td>\n",
       "      <td>0.601686</td>\n",
       "      <td>1</td>\n",
       "      <td>0</td>\n",
       "      <td>0</td>\n",
       "      <td>40</td>\n",
       "      <td>antigen present</td>\n",
       "    </tr>\n",
       "    <tr>\n",
       "      <th>2</th>\n",
       "      <td>0.078043</td>\n",
       "      <td>ITGB5</td>\n",
       "      <td>2.092649</td>\n",
       "      <td>0.028979</td>\n",
       "      <td>0.411689</td>\n",
       "      <td>0.015662</td>\n",
       "      <td>0.301030</td>\n",
       "      <td>1</td>\n",
       "      <td>1</td>\n",
       "      <td>0</td>\n",
       "      <td>40</td>\n",
       "      <td>immunomodulators</td>\n",
       "    </tr>\n",
       "    <tr>\n",
       "      <th>3</th>\n",
       "      <td>0.127365</td>\n",
       "      <td>CD44</td>\n",
       "      <td>1.844916</td>\n",
       "      <td>0.061509</td>\n",
       "      <td>0.438583</td>\n",
       "      <td>0.069927</td>\n",
       "      <td>0.526651</td>\n",
       "      <td>3</td>\n",
       "      <td>1</td>\n",
       "      <td>0</td>\n",
       "      <td>100</td>\n",
       "      <td>immunomodulators</td>\n",
       "    </tr>\n",
       "    <tr>\n",
       "      <th>4</th>\n",
       "      <td>0.024742</td>\n",
       "      <td>DCK</td>\n",
       "      <td>0.475918</td>\n",
       "      <td>0.067392</td>\n",
       "      <td>0.568615</td>\n",
       "      <td>0.078741</td>\n",
       "      <td>0.802715</td>\n",
       "      <td>2</td>\n",
       "      <td>0</td>\n",
       "      <td>0</td>\n",
       "      <td>70</td>\n",
       "      <td>immunomodulators</td>\n",
       "    </tr>\n",
       "  </tbody>\n",
       "</table>\n",
       "</div>"
      ],
      "text/plain": [
       "   brian V(G)/V(p)    gene  brian -log10(fdr)  firebrowse V(G)/V(p)  \\\n",
       "0         0.000001  COL6A3           0.301030              0.000486   \n",
       "1         0.052471  SEC24D           1.113814              0.029511   \n",
       "2         0.078043   ITGB5           2.092649              0.028979   \n",
       "3         0.127365    CD44           1.844916              0.061509   \n",
       "4         0.024742     DCK           0.475918              0.067392   \n",
       "\n",
       "   firebrowse -log10(fdr)  pancan V(G)/V(p)  pancan -log10(fdr)  \\\n",
       "0                0.301030          0.000001            0.301030   \n",
       "1                0.375324          0.047352            0.601686   \n",
       "2                0.411689          0.015662            0.301030   \n",
       "3                0.438583          0.069927            0.526651   \n",
       "4                0.568615          0.078741            0.802715   \n",
       "\n",
       "   consensus V(g)/V(p)  consensus fdr  null  size          category  \n",
       "0                    0              0     0    10  immunomodulators  \n",
       "1                    1              0     0    40   antigen present  \n",
       "2                    1              1     0    40  immunomodulators  \n",
       "3                    3              1     0   100  immunomodulators  \n",
       "4                    2              0     0    70  immunomodulators  "
      ]
     },
     "execution_count": 23,
     "metadata": {},
     "output_type": "execute_result"
    }
   ],
   "source": [
    "total.head()"
   ]
  },
  {
   "cell_type": "code",
   "execution_count": 24,
   "metadata": {},
   "outputs": [],
   "source": [
    "total[\"color\"]=\"silver\"\n",
    "total[\"color\"]=np.where((total['consensus V(g)/V(p)']>1), \"silver\",total.color)\n",
    "total[\"color\"]=np.where((total['consensus V(g)/V(p)']>1)&(total[\"consensus fdr\"]>0)&(total['category']==\"antigen present\"),\"#66c2a5\",total.color)\n",
    "total[\"color\"]=np.where((total['consensus V(g)/V(p)']>1)&(total[\"consensus fdr\"]>0)&(total['category']==\"immunomodulators\"),\"#fc8d62\",total.color)\n",
    "total[\"color\"]=np.where((total['consensus V(g)/V(p)']>1)&(total[\"consensus fdr\"]>0)&(total['category']==\"immune checkpoint\"),\"#8da0cb\",total.color)\n",
    "total[\"color\"]=np.where((total['consensus V(g)/V(p)']>1)&(total[\"consensus fdr\"]>0)&(total['category']==\"cell type\"),\"#e78ac3\",total.color)\n",
    "total[\"color\"]=np.where((total['consensus V(g)/V(p)']>1)&(total[\"consensus fdr\"]>0)&(total['category']==\"TGFbeta\"),\"#a6d854\",total.color)\n",
    "total[\"color\"]=np.where((total['consensus V(g)/V(p)']>1)&(total[\"consensus fdr\"]>0)&(total['category']==\"IFNG\"),\"#ffd92f\",total.color)\n",
    "total[\"color\"]=np.where((total['consensus V(g)/V(p)']>1)&(total[\"consensus fdr\"]>0)&(total['category']==\"immune infiltration\"),\"#e5c494\",total.color)"
   ]
  },
  {
   "cell_type": "code",
   "execution_count": 25,
   "metadata": {},
   "outputs": [],
   "source": [
    "df_label=total[(total[\"color\"]!=\"silver\")&(total[\"brian V(G)/V(p)\"]>0.10)]"
   ]
  },
  {
   "cell_type": "code",
   "execution_count": 26,
   "metadata": {},
   "outputs": [],
   "source": [
    "mp_color={\"#66c2a5\":\"antigen present\",\"#fc8d62\":\"immunomodulators\",\"#8da0cb\":\"immune checkpoint\",\"#e78ac3\":\"cell type\",\"#a6d854\":\"TGFbeta\",\"#ffd92f\":\"IFNG\",\"#e5c494\":\"immune infiltration\",\"silver\":\"\"}"
   ]
  },
  {
   "cell_type": "code",
   "execution_count": 27,
   "metadata": {},
   "outputs": [],
   "source": [
    "total[\"max V(g)/V(p)\"]=total[[\"brian V(G)/V(p)\", \"firebrowse V(G)/V(p)\",\"pancan V(G)/V(p)\"]].max(axis=1)\n",
    "total[\"max log10fdr\"]=total[[\"brian -log10(fdr)\", \"firebrowse -log10(fdr)\",\"pancan -log10(fdr)\"]].max(axis=1)"
   ]
  },
  {
   "cell_type": "code",
   "execution_count": 28,
   "metadata": {},
   "outputs": [
    {
     "data": {
      "text/html": [
       "<div>\n",
       "<style scoped>\n",
       "    .dataframe tbody tr th:only-of-type {\n",
       "        vertical-align: middle;\n",
       "    }\n",
       "\n",
       "    .dataframe tbody tr th {\n",
       "        vertical-align: top;\n",
       "    }\n",
       "\n",
       "    .dataframe thead th {\n",
       "        text-align: right;\n",
       "    }\n",
       "</style>\n",
       "<table border=\"1\" class=\"dataframe\">\n",
       "  <thead>\n",
       "    <tr style=\"text-align: right;\">\n",
       "      <th></th>\n",
       "      <th>brian V(G)/V(p)</th>\n",
       "      <th>gene</th>\n",
       "      <th>brian -log10(fdr)</th>\n",
       "      <th>firebrowse V(G)/V(p)</th>\n",
       "      <th>firebrowse -log10(fdr)</th>\n",
       "      <th>pancan V(G)/V(p)</th>\n",
       "      <th>pancan -log10(fdr)</th>\n",
       "      <th>consensus V(g)/V(p)</th>\n",
       "      <th>consensus fdr</th>\n",
       "      <th>null</th>\n",
       "      <th>size</th>\n",
       "      <th>category</th>\n",
       "      <th>color</th>\n",
       "      <th>max V(g)/V(p)</th>\n",
       "      <th>max log10fdr</th>\n",
       "    </tr>\n",
       "  </thead>\n",
       "  <tbody>\n",
       "    <tr>\n",
       "      <th>0</th>\n",
       "      <td>0.000001</td>\n",
       "      <td>COL6A3</td>\n",
       "      <td>0.301030</td>\n",
       "      <td>0.000486</td>\n",
       "      <td>0.301030</td>\n",
       "      <td>0.000001</td>\n",
       "      <td>0.301030</td>\n",
       "      <td>0</td>\n",
       "      <td>0</td>\n",
       "      <td>0</td>\n",
       "      <td>10</td>\n",
       "      <td>immunomodulators</td>\n",
       "      <td>silver</td>\n",
       "      <td>0.000486</td>\n",
       "      <td>0.301030</td>\n",
       "    </tr>\n",
       "    <tr>\n",
       "      <th>1</th>\n",
       "      <td>0.052471</td>\n",
       "      <td>SEC24D</td>\n",
       "      <td>1.113814</td>\n",
       "      <td>0.029511</td>\n",
       "      <td>0.375324</td>\n",
       "      <td>0.047352</td>\n",
       "      <td>0.601686</td>\n",
       "      <td>1</td>\n",
       "      <td>0</td>\n",
       "      <td>0</td>\n",
       "      <td>40</td>\n",
       "      <td>antigen present</td>\n",
       "      <td>silver</td>\n",
       "      <td>0.052471</td>\n",
       "      <td>1.113814</td>\n",
       "    </tr>\n",
       "    <tr>\n",
       "      <th>2</th>\n",
       "      <td>0.078043</td>\n",
       "      <td>ITGB5</td>\n",
       "      <td>2.092649</td>\n",
       "      <td>0.028979</td>\n",
       "      <td>0.411689</td>\n",
       "      <td>0.015662</td>\n",
       "      <td>0.301030</td>\n",
       "      <td>1</td>\n",
       "      <td>1</td>\n",
       "      <td>0</td>\n",
       "      <td>40</td>\n",
       "      <td>immunomodulators</td>\n",
       "      <td>silver</td>\n",
       "      <td>0.078043</td>\n",
       "      <td>2.092649</td>\n",
       "    </tr>\n",
       "    <tr>\n",
       "      <th>3</th>\n",
       "      <td>0.127365</td>\n",
       "      <td>CD44</td>\n",
       "      <td>1.844916</td>\n",
       "      <td>0.061509</td>\n",
       "      <td>0.438583</td>\n",
       "      <td>0.069927</td>\n",
       "      <td>0.526651</td>\n",
       "      <td>3</td>\n",
       "      <td>1</td>\n",
       "      <td>0</td>\n",
       "      <td>100</td>\n",
       "      <td>immunomodulators</td>\n",
       "      <td>#fc8d62</td>\n",
       "      <td>0.127365</td>\n",
       "      <td>1.844916</td>\n",
       "    </tr>\n",
       "    <tr>\n",
       "      <th>4</th>\n",
       "      <td>0.024742</td>\n",
       "      <td>DCK</td>\n",
       "      <td>0.475918</td>\n",
       "      <td>0.067392</td>\n",
       "      <td>0.568615</td>\n",
       "      <td>0.078741</td>\n",
       "      <td>0.802715</td>\n",
       "      <td>2</td>\n",
       "      <td>0</td>\n",
       "      <td>0</td>\n",
       "      <td>70</td>\n",
       "      <td>immunomodulators</td>\n",
       "      <td>silver</td>\n",
       "      <td>0.078741</td>\n",
       "      <td>0.802715</td>\n",
       "    </tr>\n",
       "  </tbody>\n",
       "</table>\n",
       "</div>"
      ],
      "text/plain": [
       "   brian V(G)/V(p)    gene  brian -log10(fdr)  firebrowse V(G)/V(p)  \\\n",
       "0         0.000001  COL6A3           0.301030              0.000486   \n",
       "1         0.052471  SEC24D           1.113814              0.029511   \n",
       "2         0.078043   ITGB5           2.092649              0.028979   \n",
       "3         0.127365    CD44           1.844916              0.061509   \n",
       "4         0.024742     DCK           0.475918              0.067392   \n",
       "\n",
       "   firebrowse -log10(fdr)  pancan V(G)/V(p)  pancan -log10(fdr)  \\\n",
       "0                0.301030          0.000001            0.301030   \n",
       "1                0.375324          0.047352            0.601686   \n",
       "2                0.411689          0.015662            0.301030   \n",
       "3                0.438583          0.069927            0.526651   \n",
       "4                0.568615          0.078741            0.802715   \n",
       "\n",
       "   consensus V(g)/V(p)  consensus fdr  null  size          category    color  \\\n",
       "0                    0              0     0    10  immunomodulators   silver   \n",
       "1                    1              0     0    40   antigen present   silver   \n",
       "2                    1              1     0    40  immunomodulators   silver   \n",
       "3                    3              1     0   100  immunomodulators  #fc8d62   \n",
       "4                    2              0     0    70  immunomodulators   silver   \n",
       "\n",
       "   max V(g)/V(p)  max log10fdr  \n",
       "0       0.000486      0.301030  \n",
       "1       0.052471      1.113814  \n",
       "2       0.078043      2.092649  \n",
       "3       0.127365      1.844916  \n",
       "4       0.078741      0.802715  "
      ]
     },
     "execution_count": 28,
     "metadata": {},
     "output_type": "execute_result"
    }
   ],
   "source": [
    "total.head()"
   ]
  },
  {
   "cell_type": "code",
   "execution_count": 29,
   "metadata": {},
   "outputs": [
    {
     "data": {
      "image/png": "[encoded data removed]",
      "text/plain": [
       "<Figure size 720x720 with 1 Axes>"
      ]
     },
     "metadata": {
      "needs_background": "light"
     },
     "output_type": "display_data"
    }
   ],
   "source": [
    "f=plt.figure(figsize=(10,10))\n",
    "for x in total[\"color\"].unique():\n",
    "    sc=plt.scatter(total[total[\"color\"]==x][\"max log10fdr\"],total[total[\"color\"]==x][\"max V(g)/V(p)\"],\n",
    "                color=total[total[\"color\"]==x][\"color\"],s=total[total[\"color\"]==x][\"size\"],label=mp_color[x])\n",
    "\n",
    "plt.ylabel(\"V(g)/V(p)\",fontsize=15)\n",
    "plt.xlabel(\"-log10(FDR)\",fontsize=15)\n",
    "plt.axvline(x=1.3,color=\"k\",linestyle=\"--\")\n",
    "plt.axhline(y=0.05,color=\"k\",linestyle=\"--\")\n",
    "\n",
    "texts=[]\n",
    "for i,row in df_label.iterrows(): \n",
    "    texts.append(plt.text(float(row[\"brian -log10(fdr)\"]),float(row[\"brian V(G)/V(p)\"]),row[\"gene\"],color=\"black\"))\n",
    "    \n",
    "adjust_text(texts,only_move={'points':'y', 'texts':'y'}, color='black', lw=0.5)\n",
    "\n",
    "kw = dict(prop=\"sizes\", num=5, color=\"k\",\n",
    "          func=lambda s: (s-10)/30)\n",
    "plt.legend(*sc.legend_elements(**kw),\n",
    "                    loc=\"upper left\", title=\"Consensus\")\n",
    "\n",
    "f.savefig(\"../plots/consensus-heritability-barplot.pdf\", bbox_inches='tight')\n"
   ]
  },
  {
   "cell_type": "markdown",
   "metadata": {},
   "source": [
    "## Get HLA-nonHLA information"
   ]
  },
  {
   "cell_type": "code",
   "execution_count": 30,
   "metadata": {},
   "outputs": [],
   "source": [
    "nonhla=pd.read_csv(\"nonhla_gcta_results.tsv\",delimiter=\"\\t\")\n",
    "hla=pd.read_csv(\"hla_gcta_results.tsv\",delimiter=\"\\t\")"
   ]
  },
  {
   "cell_type": "code",
   "execution_count": 31,
   "metadata": {},
   "outputs": [],
   "source": [
    "df_hla=pd.merge(nonhla,hla,on=[\"gene\"],suffixes=(\"_nonhla\",\"_hla\"))"
   ]
  },
  {
   "cell_type": "code",
   "execution_count": 32,
   "metadata": {},
   "outputs": [],
   "source": [
    "df_hla[\"brian diff\"]=df_hla[\"brian V(G)/V(p)_nonhla\"]-df_hla[\"brian V(G)/V(p)_hla\"]\n",
    "df_hla[\"firebrowse diff\"]=df_hla[\"firebrowse V(G)/V(p)_nonhla\"]-df_hla[\"firebrowse V(G)/V(p)_hla\"]\n",
    "df_hla[\"pancan diff\"]=df_hla[\"pancan V(G)/V(p)_nonhla\"]-df_hla[\"pancan V(G)/V(p)_hla\"]"
   ]
  },
  {
   "cell_type": "code",
   "execution_count": 33,
   "metadata": {},
   "outputs": [],
   "source": [
    "df_hla[\"consensus nonhla\"]=df_hla[[\"brian diff\",\"firebrowse diff\",\"pancan diff\"]].apply(lambda x: len([x for x in list(x) if x>0]), axis=1)"
   ]
  },
  {
   "cell_type": "code",
   "execution_count": 34,
   "metadata": {},
   "outputs": [
    {
     "name": "stdout",
     "output_type": "stream",
     "text": [
      "17\n"
     ]
    },
    {
     "data": {
      "text/plain": [
       "'HLA.DRB5 MICB HLA.A HLA.F HLA.DQA1 BTN3A2 HLA.DQB1 HLA.C HLA.DQA2 PSMB9 TAP2 HLA.DRB1 MICA HLA.B HLA.G HLA.H HLA.DQB2'"
      ]
     },
     "execution_count": 34,
     "metadata": {},
     "output_type": "execute_result"
    }
   ],
   "source": [
    "hla_genes=df_hla[(df_hla[\"gene\"].isin(sig))&(df_hla[\"consensus nonhla\"]<=2)][\"gene\"].tolist()\n",
    "print(len(hla_genes))\n",
    "\" \".join(hla_genes)"
   ]
  },
  {
   "cell_type": "code",
   "execution_count": 35,
   "metadata": {},
   "outputs": [
    {
     "data": {
      "text/plain": [
       "14"
      ]
     },
     "execution_count": 35,
     "metadata": {},
     "output_type": "execute_result"
    }
   ],
   "source": [
    "len([x for x in hla_genes if x in df_hla[~(df_hla[\"brian V(G)/V(p)_hla\"].isnull())][\"gene\"].tolist()])"
   ]
  },
  {
   "cell_type": "code",
   "execution_count": 36,
   "metadata": {},
   "outputs": [
    {
     "data": {
      "text/plain": [
       "17"
      ]
     },
     "execution_count": 36,
     "metadata": {},
     "output_type": "execute_result"
    }
   ],
   "source": [
    "len([x for x in hla_genes if x in df_hla[~(df_hla[\"pancan V(G)/V(p)_hla\"].isnull())][\"gene\"].tolist()])"
   ]
  },
  {
   "cell_type": "code",
   "execution_count": 37,
   "metadata": {},
   "outputs": [
    {
     "name": "stdout",
     "output_type": "stream",
     "text": [
      "120\n"
     ]
    },
    {
     "data": {
      "text/plain": [
       "'TLR2 APITD1 ADCY7 CD53 CTSL DYNLT1 GPLD1 CTSW HCK HAUS1 CD14 MARCHF1 CD68 IL1B CYBB PSMD11 SMAD4 FCGR2A STAT1 RBM14 BSG VSIG4 ENTPD1 NCF2 RAB35 CD209 IFI44L CLEC4A ITGB2 FPR3 MS4A4A SIGLEC5 SAMHD1 FAM167A CHUK PLOD2 MARVELD2 FCGR3A CD84 EIF2AK1 SLC25A40 AMPD3 CBX1 NEO1 PIK3CG CTSD CSF1R TREX1 IFI6 DBNDD1 PGM2 CD163 OAS1 SH3BP5L SEC24C CD44 ERAP2 CANX SLC25A5 ISG15 TRAF6 C3AR1 COX17 SEC31A LNPEP PSMD2 LM22.Macrophages.M2 ERAP1 LYN CSF3R CTNNB1 TAB1 COL8A1 GNPTAB LILRB2 KIF2A TNFSF13B FCGR3B DHFR MNDA CD80 PLEK TRA2B B2M CCBL2 IL10 MYO1F FCGR2B RNF41 IL10RA ITGAV SEC24A UAP1 VAMP3 LYZ IGF2R TNFRSF1A WDR54 PSMC1 CAPZB ENO1 OAS3 NUTF2 ERLIN1 LAIR1 SEC22B PSMB7 IL2RA SLC11A1 CD86 SKIL CTSS DCTN5 IL12A LILRB4 FPR1 CYBA IL1A CAPZA2 ALOX5AP'"
      ]
     },
     "execution_count": 37,
     "metadata": {},
     "output_type": "execute_result"
    }
   ],
   "source": [
    "nonhla_genes=df_hla[(df_hla[\"gene\"].isin(sig))&(df_hla[\"consensus nonhla\"]>2)][\"gene\"].tolist()\n",
    "print(len(nonhla_genes))\n",
    "\" \".join(nonhla_genes)"
   ]
  },
  {
   "cell_type": "code",
   "execution_count": 39,
   "metadata": {},
   "outputs": [],
   "source": [
    "df_hla[\"max hla V(g)/V(p)\"]=df_hla[[\"brian V(G)/V(p)_hla\", \"firebrowse V(G)/V(p)_hla\",\"pancan V(G)/V(p)_hla\"]].max(axis=1)\n",
    "df_hla[\"max nonhla V(g)/V(p)\"]=df_hla[[\"brian V(G)/V(p)_nonhla\", \"firebrowse V(G)/V(p)_nonhla\",\"pancan V(G)/V(p)_nonhla\"]].max(axis=1)"
   ]
  },
  {
   "cell_type": "code",
   "execution_count": 46,
   "metadata": {},
   "outputs": [],
   "source": [
    "df_hla[\"difference\"]=df_hla[\"max hla V(g)/V(p)\"]"
   ]
  },
  {
   "cell_type": "code",
   "execution_count": 47,
   "metadata": {},
   "outputs": [],
   "source": [
    "df_hla=df_hla.sort_values(by=\"difference\")"
   ]
  },
  {
   "cell_type": "code",
   "execution_count": 48,
   "metadata": {},
   "outputs": [],
   "source": [
    "df_hla=df_hla[df_hla[\"gene\"].isin(sig)]"
   ]
  },
  {
   "cell_type": "code",
   "execution_count": 49,
   "metadata": {},
   "outputs": [],
   "source": [
    "df_hla_plot=pd.melt(df_hla, id_vars=['gene','difference'], value_vars=['max hla V(g)/V(p)', 'max nonhla V(g)/V(p)'])"
   ]
  },
  {
   "cell_type": "code",
   "execution_count": 50,
   "metadata": {},
   "outputs": [],
   "source": [
    "df_hla_plot=df_hla_plot.sort_values(by=\"difference\")"
   ]
  },
  {
   "cell_type": "code",
   "execution_count": 51,
   "metadata": {},
   "outputs": [
    {
     "data": {
      "text/html": [
       "<div>\n",
       "<style scoped>\n",
       "    .dataframe tbody tr th:only-of-type {\n",
       "        vertical-align: middle;\n",
       "    }\n",
       "\n",
       "    .dataframe tbody tr th {\n",
       "        vertical-align: top;\n",
       "    }\n",
       "\n",
       "    .dataframe thead th {\n",
       "        text-align: right;\n",
       "    }\n",
       "</style>\n",
       "<table border=\"1\" class=\"dataframe\">\n",
       "  <thead>\n",
       "    <tr style=\"text-align: right;\">\n",
       "      <th></th>\n",
       "      <th>gene</th>\n",
       "      <th>difference</th>\n",
       "      <th>variable</th>\n",
       "      <th>value</th>\n",
       "    </tr>\n",
       "  </thead>\n",
       "  <tbody>\n",
       "    <tr>\n",
       "      <th>0</th>\n",
       "      <td>FAM167A</td>\n",
       "      <td>0.000001</td>\n",
       "      <td>max hla V(g)/V(p)</td>\n",
       "      <td>0.000001</td>\n",
       "    </tr>\n",
       "    <tr>\n",
       "      <th>170</th>\n",
       "      <td>CD163</td>\n",
       "      <td>0.000001</td>\n",
       "      <td>max nonhla V(g)/V(p)</td>\n",
       "      <td>0.106940</td>\n",
       "    </tr>\n",
       "    <tr>\n",
       "      <th>171</th>\n",
       "      <td>MS4A4A</td>\n",
       "      <td>0.000001</td>\n",
       "      <td>max nonhla V(g)/V(p)</td>\n",
       "      <td>0.081905</td>\n",
       "    </tr>\n",
       "    <tr>\n",
       "      <th>172</th>\n",
       "      <td>HAUS1</td>\n",
       "      <td>0.000001</td>\n",
       "      <td>max nonhla V(g)/V(p)</td>\n",
       "      <td>0.128579</td>\n",
       "    </tr>\n",
       "    <tr>\n",
       "      <th>173</th>\n",
       "      <td>EIF2AK1</td>\n",
       "      <td>0.000001</td>\n",
       "      <td>max nonhla V(g)/V(p)</td>\n",
       "      <td>0.113756</td>\n",
       "    </tr>\n",
       "    <tr>\n",
       "      <th>...</th>\n",
       "      <td>...</td>\n",
       "      <td>...</td>\n",
       "      <td>...</td>\n",
       "      <td>...</td>\n",
       "    </tr>\n",
       "    <tr>\n",
       "      <th>134</th>\n",
       "      <td>HLA.DRB5</td>\n",
       "      <td>0.513854</td>\n",
       "      <td>max hla V(g)/V(p)</td>\n",
       "      <td>0.513854</td>\n",
       "    </tr>\n",
       "    <tr>\n",
       "      <th>272</th>\n",
       "      <td>HLA.B</td>\n",
       "      <td>0.558462</td>\n",
       "      <td>max nonhla V(g)/V(p)</td>\n",
       "      <td>0.077809</td>\n",
       "    </tr>\n",
       "    <tr>\n",
       "      <th>135</th>\n",
       "      <td>HLA.B</td>\n",
       "      <td>0.558462</td>\n",
       "      <td>max hla V(g)/V(p)</td>\n",
       "      <td>0.558462</td>\n",
       "    </tr>\n",
       "    <tr>\n",
       "      <th>136</th>\n",
       "      <td>TAP2</td>\n",
       "      <td>0.559842</td>\n",
       "      <td>max hla V(g)/V(p)</td>\n",
       "      <td>0.559842</td>\n",
       "    </tr>\n",
       "    <tr>\n",
       "      <th>273</th>\n",
       "      <td>TAP2</td>\n",
       "      <td>0.559842</td>\n",
       "      <td>max nonhla V(g)/V(p)</td>\n",
       "      <td>0.051296</td>\n",
       "    </tr>\n",
       "  </tbody>\n",
       "</table>\n",
       "<p>274 rows × 4 columns</p>\n",
       "</div>"
      ],
      "text/plain": [
       "         gene  difference              variable     value\n",
       "0     FAM167A    0.000001     max hla V(g)/V(p)  0.000001\n",
       "170     CD163    0.000001  max nonhla V(g)/V(p)  0.106940\n",
       "171    MS4A4A    0.000001  max nonhla V(g)/V(p)  0.081905\n",
       "172     HAUS1    0.000001  max nonhla V(g)/V(p)  0.128579\n",
       "173   EIF2AK1    0.000001  max nonhla V(g)/V(p)  0.113756\n",
       "..        ...         ...                   ...       ...\n",
       "134  HLA.DRB5    0.513854     max hla V(g)/V(p)  0.513854\n",
       "272     HLA.B    0.558462  max nonhla V(g)/V(p)  0.077809\n",
       "135     HLA.B    0.558462     max hla V(g)/V(p)  0.558462\n",
       "136      TAP2    0.559842     max hla V(g)/V(p)  0.559842\n",
       "273      TAP2    0.559842  max nonhla V(g)/V(p)  0.051296\n",
       "\n",
       "[274 rows x 4 columns]"
      ]
     },
     "execution_count": 51,
     "metadata": {},
     "output_type": "execute_result"
    }
   ],
   "source": [
    "df_hla_plot"
   ]
  },
  {
   "cell_type": "code",
   "execution_count": 52,
   "metadata": {},
   "outputs": [
    {
     "data": {
      "image/png": "[encoded data removed]",
      "text/plain": [
       "<Figure size 720x720 with 1 Axes>"
      ]
     },
     "metadata": {
      "needs_background": "light"
     },
     "output_type": "display_data"
    }
   ],
   "source": [
    "f=plt.figure(figsize=(10,10))\n",
    "sns.barplot(x=\"gene\", hue=\"variable\", y=\"value\", data=df_hla_plot)\n",
    "plt.xticks(rotation=90)\n",
    "f.savefig(\"../plots/heritability-hla-difference-barplot.pdf\", bbox_inches='tight')"
   ]
  },
  {
   "cell_type": "code",
   "execution_count": 53,
   "metadata": {},
   "outputs": [
    {
     "name": "stdout",
     "output_type": "stream",
     "text": [
      "CTSL\n",
      "MARCHF1\n"
     ]
    }
   ],
   "source": [
    "for x in sig:\n",
    "    if x in [y for y in mp_ids.values()]:\n",
    "        print(x)"
   ]
  },
  {
   "cell_type": "code",
   "execution_count": null,
   "metadata": {},
   "outputs": [],
   "source": []
  },
  {
   "cell_type": "code",
   "execution_count": null,
   "metadata": {},
   "outputs": [],
   "source": []
  },
  {
   "cell_type": "code",
   "execution_count": null,
   "metadata": {},
   "outputs": [],
   "source": []
  },
  {
   "cell_type": "code",
   "execution_count": null,
   "metadata": {},
   "outputs": [],
   "source": []
  },
  {
   "cell_type": "code",
   "execution_count": null,
   "metadata": {},
   "outputs": [],
   "source": []
  },
  {
   "cell_type": "code",
   "execution_count": null,
   "metadata": {},
   "outputs": [],
   "source": []
  },
  {
   "cell_type": "code",
   "execution_count": null,
   "metadata": {},
   "outputs": [],
   "source": []
  }
 ],
 "metadata": {
  "kernelspec": {
   "display_name": "Python 3",
   "language": "python",
   "name": "python3"
  },
  "language_info": {
   "codemirror_mode": {
    "name": "ipython",
    "version": 3
   },
   "file_extension": ".py",
   "mimetype": "text/x-python",
   "name": "python",
   "nbconvert_exporter": "python",
   "pygments_lexer": "ipython3",
   "version": "3.7.7"
  }
 },
 "nbformat": 4,
 "nbformat_minor": 2
}
