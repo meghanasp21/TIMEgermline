{
 "cells": [
  {
   "cell_type": "code",
   "execution_count": 1,
   "metadata": {},
   "outputs": [],
   "source": [
    "import os\n",
    "import pandas as pd\n",
    "import numpy as np\n",
    "import matplotlib.pyplot as plt\n",
    "import matplotlib as mpl\n",
    "import seaborn as sns"
   ]
  },
  {
   "cell_type": "code",
   "execution_count": 2,
   "metadata": {},
   "outputs": [
    {
     "name": "stdout",
     "output_type": "stream",
     "text": [
      "['/data/cellardata/users/mpagadal/projects/germline-immune/heritability/notebooks', '/nrnb/opt/anaconda3.7/lib/python37.zip', '/nrnb/opt/anaconda3.7/lib/python3.7', '/nrnb/opt/anaconda3.7/lib/python3.7/lib-dynload', '', '/cellar/users/mpagadal/.local/lib/python3.7/site-packages', '/nrnb/opt/anaconda3.7/lib/python3.7/site-packages', '/nrnb/opt/anaconda3.7/lib/python3.7/site-packages/IPython/extensions', '/cellar/users/mpagadal/.ipython']\n"
     ]
    }
   ],
   "source": [
    "import sys\n",
    "print(sys.path) \n",
    "sys.path.append(\"/cellar/users/mpagadal/Programs/anaconda3/lib/python3.7/site-packages\")\n",
    "sys.path.insert(1, '/cellar/users/mpagadal/Data/gcta/scripts')\n",
    "import json"
   ]
  },
  {
   "cell_type": "code",
   "execution_count": 3,
   "metadata": {},
   "outputs": [],
   "source": [
    "from compile_gcta_df import *"
   ]
  },
  {
   "cell_type": "markdown",
   "metadata": {},
   "source": [
    "## Get nonhla and nonkir data"
   ]
  },
  {
   "cell_type": "code",
   "execution_count": 4,
   "metadata": {},
   "outputs": [],
   "source": [
    "def fdr(df,pseudo):\n",
    "    #make heritability estimate numeric\n",
    "    df[\"V(G)/Vp\"]=pd.to_numeric(df[\"V(G)/Vp\"])\n",
    "    #add pseudocount\n",
    "    if pseudo == True:\n",
    "        df[\"Pval\"]=df[\"Pval\"]+0.0000001\n",
    "    \n",
    "    #calculate benjamin-hochberg fdr\n",
    "    genes=df[\"gene\"].tolist()\n",
    "    probabilities = df[\"Pval\"].to_numpy()\n",
    "    report = multi.multipletests(probabilities,\n",
    "                alpha=0.05,\n",
    "                method=\"fdr_bh\",\n",
    "                is_sorted=False,\n",
    "            )\n",
    "    discoveries = report[1]\n",
    "    df[\"fdr\"]=discoveries\n",
    "    df[\"fdr\"]=pd.to_numeric(df[\"fdr\"])\n",
    "    df[\"-log10(fdr)\"]=-np.log10(df[\"fdr\"])\n",
    "    \n",
    "    return(df)"
   ]
  },
  {
   "cell_type": "code",
   "execution_count": 5,
   "metadata": {},
   "outputs": [],
   "source": [
    "results=[\"\"]"
   ]
  },
  {
   "cell_type": "code",
   "execution_count": 7,
   "metadata": {},
   "outputs": [
    {
     "name": "stdout",
     "output_type": "stream",
     "text": [
      "compiling gene level heritability dataframe.....\n"
     ]
    },
    {
     "name": "stderr",
     "output_type": "stream",
     "text": [
      "/cellar/users/mpagadal/Data/gcta/scripts/compile_gcta_df.py:69: SettingWithCopyWarning: \n",
      "A value is trying to be set on a copy of a slice from a DataFrame.\n",
      "Try using .loc[row_indexer,col_indexer] = value instead\n",
      "\n",
      "See the caveats in the documentation: https://pandas.pydata.org/pandas-docs/stable/user_guide/indexing.html#returning-a-view-versus-a-copy\n",
      "  variance[\"V(G) SE\"]=se[0].tolist()\n",
      "/cellar/users/mpagadal/Data/gcta/scripts/compile_gcta_df.py:70: SettingWithCopyWarning: \n",
      "A value is trying to be set on a copy of a slice from a DataFrame.\n",
      "Try using .loc[row_indexer,col_indexer] = value instead\n",
      "\n",
      "See the caveats in the documentation: https://pandas.pydata.org/pandas-docs/stable/user_guide/indexing.html#returning-a-view-versus-a-copy\n",
      "  variance[\"V(e) SE\"]=se[1].tolist()\n",
      "/cellar/users/mpagadal/Data/gcta/scripts/compile_gcta_df.py:71: SettingWithCopyWarning: \n",
      "A value is trying to be set on a copy of a slice from a DataFrame.\n",
      "Try using .loc[row_indexer,col_indexer] = value instead\n",
      "\n",
      "See the caveats in the documentation: https://pandas.pydata.org/pandas-docs/stable/user_guide/indexing.html#returning-a-view-versus-a-copy\n",
      "  variance[\"V(p) SE\"]=se[2].tolist()\n",
      "/cellar/users/mpagadal/Data/gcta/scripts/compile_gcta_df.py:72: SettingWithCopyWarning: \n",
      "A value is trying to be set on a copy of a slice from a DataFrame.\n",
      "Try using .loc[row_indexer,col_indexer] = value instead\n",
      "\n",
      "See the caveats in the documentation: https://pandas.pydata.org/pandas-docs/stable/user_guide/indexing.html#returning-a-view-versus-a-copy\n",
      "  variance[\"V(G)/Vp SE\"]=se[3].tolist()\n"
     ]
    },
    {
     "name": "stdout",
     "output_type": "stream",
     "text": [
      "compiling gene level heritability dataframe.....\n",
      "compiling gene level heritability dataframe.....\n"
     ]
    }
   ],
   "source": [
    "nonhla_tpm=compile_gcta_results(results,output=\"overall\",direct=\"/cellar/users/mpagadal/Data/projects/germline-immune/heritability/results/tpm/no-hla-kir\")\n",
    "nonhla_firebrowse=compile_gcta_results(results,output=\"overall\",direct=\"/cellar/users/mpagadal/Data/projects/germline-immune/heritability/results/firebrowse/no-hla-kir\")\n",
    "nonhla_pancan=compile_gcta_results(results,output=\"overall\",direct=\"/cellar/users/mpagadal/Data/projects/germline-immune/heritability/results/pancanatlas/no-hla-kir\")"
   ]
  },
  {
   "cell_type": "code",
   "execution_count": 8,
   "metadata": {},
   "outputs": [
    {
     "name": "stdout",
     "output_type": "stream",
     "text": [
      "compiling gene level heritability dataframe.....\n",
      "compiling gene level heritability dataframe.....\n",
      "compiling gene level heritability dataframe.....\n"
     ]
    }
   ],
   "source": [
    "hla_tpm=compile_gcta_results(results,output=\"overall\",direct=\"/cellar/users/mpagadal/Data/projects/germline-immune/heritability/results/tpm/hla-kir\")\n",
    "hla_firebrowse=compile_gcta_results(results,output=\"overall\",direct=\"/cellar/users/mpagadal/Data/projects/germline-immune/heritability/results/firebrowse/hla-kir\")\n",
    "hla_pancan=compile_gcta_results(results,output=\"overall\",direct=\"/cellar/users/mpagadal/Data/projects/germline-immune/heritability/results/pancanatlas/hla-kir\")"
   ]
  },
  {
   "cell_type": "code",
   "execution_count": 10,
   "metadata": {},
   "outputs": [
    {
     "name": "stdout",
     "output_type": "stream",
     "text": [
      "(746, 16)\n",
      "(738, 16)\n",
      "(741, 16)\n"
     ]
    }
   ],
   "source": [
    "print(nonhla_tpm.shape)\n",
    "print(nonhla_firebrowse.shape)\n",
    "print(nonhla_pancan.shape)"
   ]
  },
  {
   "cell_type": "code",
   "execution_count": 11,
   "metadata": {},
   "outputs": [],
   "source": [
    "pseudocount=True\n",
    "nonhla_tpm=fdr(nonhla_tpm,pseudocount)\n",
    "nonhla_firebrowse=fdr(nonhla_firebrowse,pseudocount)\n",
    "nonhla_pancan=fdr(nonhla_pancan,pseudocount)"
   ]
  },
  {
   "cell_type": "code",
   "execution_count": 12,
   "metadata": {},
   "outputs": [],
   "source": [
    "pseudocount=True\n",
    "hla_tpm=fdr(hla_tpm,pseudocount)\n",
    "hla_firebrowse=fdr(hla_firebrowse,pseudocount)\n",
    "hla_pancan=fdr(hla_pancan,pseudocount)"
   ]
  },
  {
   "cell_type": "code",
   "execution_count": 13,
   "metadata": {},
   "outputs": [],
   "source": [
    "nonhla_tpm=nonhla_tpm.rename(columns={\"V(G)/Vp\":\"tpm V(G)/V(p)\",\"-log10(fdr)\":\"tpm -log10(fdr)\"})\n",
    "nonhla_firebrowse=nonhla_firebrowse.rename(columns={\"V(G)/Vp\":\"firebrowse V(G)/V(p)\",\"-log10(fdr)\":\"firebrowse -log10(fdr)\"})\n",
    "nonhla_pancan=nonhla_pancan.rename(columns={\"V(G)/Vp\":\"pancan V(G)/V(p)\",\"-log10(fdr)\":\"pancan -log10(fdr)\"})\n"
   ]
  },
  {
   "cell_type": "code",
   "execution_count": 14,
   "metadata": {},
   "outputs": [],
   "source": [
    "hla_tpm=hla_tpm.rename(columns={\"V(G)/Vp\":\"tpm V(G)/V(p)\",\"-log10(fdr)\":\"tpm -log10(fdr)\"})\n",
    "hla_firebrowse=hla_firebrowse.rename(columns={\"V(G)/Vp\":\"firebrowse V(G)/V(p)\",\"-log10(fdr)\":\"firebrowse -log10(fdr)\"})\n",
    "hla_pancan=hla_pancan.rename(columns={\"V(G)/Vp\":\"pancan V(G)/V(p)\",\"-log10(fdr)\":\"pancan -log10(fdr)\"})\n"
   ]
  },
  {
   "cell_type": "code",
   "execution_count": 15,
   "metadata": {},
   "outputs": [],
   "source": [
    "total_nonhla=pd.merge(nonhla_tpm[[\"tpm V(G)/V(p)\",\"gene\",\"tpm -log10(fdr)\"]],nonhla_firebrowse[[\"firebrowse V(G)/V(p)\",\"gene\",\"firebrowse -log10(fdr)\"]], on=\"gene\",how=\"outer\")\n",
    "total_nonhla=pd.merge(total_nonhla,nonhla_pancan[[\"pancan V(G)/V(p)\",\"gene\",\"pancan -log10(fdr)\"]],on=\"gene\",how=\"outer\")\n"
   ]
  },
  {
   "cell_type": "code",
   "execution_count": 16,
   "metadata": {},
   "outputs": [],
   "source": [
    "total_hla=pd.merge(hla_tpm[[\"tpm V(G)/V(p)\",\"gene\",\"tpm -log10(fdr)\"]],hla_firebrowse[[\"firebrowse V(G)/V(p)\",\"gene\",\"firebrowse -log10(fdr)\"]], on=\"gene\",how=\"outer\")\n",
    "total_hla=pd.merge(total_hla,hla_pancan[[\"pancan V(G)/V(p)\",\"gene\",\"pancan -log10(fdr)\"]],on=\"gene\",how=\"outer\")"
   ]
  },
  {
   "cell_type": "code",
   "execution_count": 17,
   "metadata": {},
   "outputs": [],
   "source": [
    "total_nonhla[\"consensus V(g)/V(p)\"]=total_nonhla[[\"firebrowse V(G)/V(p)\",\"pancan V(G)/V(p)\"]].apply(lambda x: len([x for x in list(x) if x>0.05]), axis=1)\n",
    "total_nonhla[\"consensus fdr\"]=total_nonhla[[\"firebrowse -log10(fdr)\",\"pancan -log10(fdr)\"]].apply(lambda x: len([x for x in list(x) if x>1]), axis=1)"
   ]
  },
  {
   "cell_type": "code",
   "execution_count": 18,
   "metadata": {},
   "outputs": [],
   "source": [
    "total_hla[\"consensus V(g)/V(p)\"]=total_hla[[\"firebrowse V(G)/V(p)\",\"pancan V(G)/V(p)\"]].apply(lambda x: len([x for x in list(x) if x>0.05]), axis=1)\n",
    "total_hla[\"consensus fdr\"]=total_hla[[\"firebrowse -log10(fdr)\",\"pancan -log10(fdr)\"]].apply(lambda x: len([x for x in list(x) if x>1]), axis=1)"
   ]
  },
  {
   "cell_type": "code",
   "execution_count": 21,
   "metadata": {},
   "outputs": [],
   "source": [
    "total_nonhla.to_csv(\"../data/nonhla_gcta_results.tsv\",sep=\"\\t\",index=None)\n",
    "total_hla.to_csv(\"../data/hla_gcta_results.tsv\",sep=\"\\t\",index=None)"
   ]
  },
  {
   "cell_type": "code",
   "execution_count": null,
   "metadata": {},
   "outputs": [],
   "source": []
  }
 ],
 "metadata": {
  "kernelspec": {
   "display_name": "Python 3",
   "language": "python",
   "name": "python3"
  },
  "language_info": {
   "codemirror_mode": {
    "name": "ipython",
    "version": 3
   },
   "file_extension": ".py",
   "mimetype": "text/x-python",
   "name": "python",
   "nbconvert_exporter": "python",
   "pygments_lexer": "ipython3",
   "version": "3.7.7"
  }
 },
 "nbformat": 4,
 "nbformat_minor": 2
}
