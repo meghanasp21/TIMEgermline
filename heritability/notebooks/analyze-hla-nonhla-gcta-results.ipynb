{
 "cells": [
  {
   "cell_type": "code",
   "execution_count": 20,
   "metadata": {},
   "outputs": [],
   "source": [
    "import os\n",
    "import pandas as pd\n",
    "import numpy as np\n",
    "import matplotlib.pyplot as plt\n",
    "import matplotlib as mpl\n",
    "import seaborn as sns"
   ]
  },
  {
   "cell_type": "code",
   "execution_count": 21,
   "metadata": {},
   "outputs": [
    {
     "name": "stdout",
     "output_type": "stream",
     "text": [
      "['/data/cellardata/users/mpagadal/gcta/notebooks', '/cellar/users/mpagadal/Data/gcta/scripts', '/nrnb/opt/anaconda3.7/lib/python37.zip', '/nrnb/opt/anaconda3.7/lib/python3.7', '/nrnb/opt/anaconda3.7/lib/python3.7/lib-dynload', '', '/cellar/users/mpagadal/.local/lib/python3.7/site-packages', '/nrnb/opt/anaconda3.7/lib/python3.7/site-packages', '/nrnb/opt/anaconda3.7/lib/python3.7/site-packages/IPython/extensions', '/cellar/users/mpagadal/.ipython', '/cellar/users/mpagadal/Programs/anaconda3/lib/python3.7/site-packages']\n"
     ]
    }
   ],
   "source": [
    "import sys\n",
    "print(sys.path) \n",
    "sys.path.append(\"/cellar/users/mpagadal/Programs/anaconda3/lib/python3.7/site-packages\")\n",
    "sys.path.insert(1, '/cellar/users/mpagadal/Data/gcta/scripts')\n",
    "import json"
   ]
  },
  {
   "cell_type": "code",
   "execution_count": 22,
   "metadata": {},
   "outputs": [],
   "source": [
    "from compile_gcta_df import *"
   ]
  },
  {
   "cell_type": "markdown",
   "metadata": {},
   "source": [
    "## Get nonhla and nonkir data"
   ]
  },
  {
   "cell_type": "code",
   "execution_count": 23,
   "metadata": {},
   "outputs": [],
   "source": [
    "def fdr(df,pseudo):\n",
    "    #make heritability estimate numeric\n",
    "    df[\"V(G)/Vp\"]=pd.to_numeric(df[\"V(G)/Vp\"])\n",
    "    #add pseudocount\n",
    "    if pseudo == True:\n",
    "        df[\"Pval\"]=df[\"Pval\"]+0.0000001\n",
    "    \n",
    "    #calculate benjamin-hochberg fdr\n",
    "    genes=df[\"gene\"].tolist()\n",
    "    probabilities = df[\"Pval\"].to_numpy()\n",
    "    report = multi.multipletests(probabilities,\n",
    "                alpha=0.05,\n",
    "                method=\"fdr_bh\",\n",
    "                is_sorted=False,\n",
    "            )\n",
    "    discoveries = report[1]\n",
    "    df[\"fdr\"]=discoveries\n",
    "    df[\"fdr\"]=pd.to_numeric(df[\"fdr\"])\n",
    "    df[\"-log10(fdr)\"]=-np.log10(df[\"fdr\"])\n",
    "    \n",
    "    return(df)"
   ]
  },
  {
   "cell_type": "code",
   "execution_count": 24,
   "metadata": {},
   "outputs": [],
   "source": [
    "results=[\"\"]"
   ]
  },
  {
   "cell_type": "code",
   "execution_count": 25,
   "metadata": {},
   "outputs": [
    {
     "name": "stdout",
     "output_type": "stream",
     "text": [
      "compiling gene level heritability dataframe.....\n",
      "compiling gene level heritability dataframe.....\n",
      "compiling gene level heritability dataframe.....\n"
     ]
    }
   ],
   "source": [
    "nonhla_brian=compile_gcta_results(results,output=\"overall\",direct=\"/cellar/users/mpagadal/Data/gcta/results/tcga/brian-tpm/no-hla-kir\")\n",
    "nonhla_firebrowse=compile_gcta_results(results,output=\"overall\",direct=\"/cellar/users/mpagadal/Data/gcta/results/tcga/FireBrowse/no-hla-kir\")\n",
    "nonhla_pancan=compile_gcta_results(results,output=\"overall\",direct=\"/cellar/users/mpagadal/Data/gcta/results/tcga/PanCanAtlas/no-hla-kir\")"
   ]
  },
  {
   "cell_type": "code",
   "execution_count": 26,
   "metadata": {},
   "outputs": [
    {
     "name": "stdout",
     "output_type": "stream",
     "text": [
      "compiling gene level heritability dataframe.....\n",
      "compiling gene level heritability dataframe.....\n",
      "compiling gene level heritability dataframe.....\n"
     ]
    }
   ],
   "source": [
    "hla_brian=compile_gcta_results(results,output=\"overall\",direct=\"/cellar/users/mpagadal/Data/gcta/results/tcga/brian-tpm/hla-kir\")\n",
    "hla_firebrowse=compile_gcta_results(results,output=\"overall\",direct=\"/cellar/users/mpagadal/Data/gcta/results/tcga/FireBrowse/hla-kir\")\n",
    "hla_pancan=compile_gcta_results(results,output=\"overall\",direct=\"/cellar/users/mpagadal/Data/gcta/results/tcga/PanCanAtlas/hla-kir\")"
   ]
  },
  {
   "cell_type": "code",
   "execution_count": 27,
   "metadata": {},
   "outputs": [
    {
     "name": "stdout",
     "output_type": "stream",
     "text": [
      "(746, 16)\n",
      "(738, 16)\n",
      "(741, 16)\n"
     ]
    }
   ],
   "source": [
    "print(nonhla_brian.shape)\n",
    "print(nonhla_firebrowse.shape)\n",
    "print(nonhla_pancan.shape)"
   ]
  },
  {
   "cell_type": "code",
   "execution_count": 28,
   "metadata": {},
   "outputs": [],
   "source": [
    "pseudocount=True\n",
    "nonhla_brian=fdr(nonhla_brian,pseudocount)\n",
    "nonhla_firebrowse=fdr(nonhla_firebrowse,pseudocount)\n",
    "nonhla_pancan=fdr(nonhla_pancan,pseudocount)"
   ]
  },
  {
   "cell_type": "code",
   "execution_count": 29,
   "metadata": {},
   "outputs": [],
   "source": [
    "pseudocount=True\n",
    "hla_brian=fdr(hla_brian,pseudocount)\n",
    "hla_firebrowse=fdr(hla_firebrowse,pseudocount)\n",
    "hla_pancan=fdr(hla_pancan,pseudocount)"
   ]
  },
  {
   "cell_type": "code",
   "execution_count": 30,
   "metadata": {},
   "outputs": [],
   "source": [
    "#standardize values\n",
    "mp_ids={\"CMC2\":\"C16orf61\",\n",
    "    \"ADGRE5\":\"CD97\",\n",
    "    \"SPRYD7\":\"C13orf1\",\n",
    "    \"JCHAIN\":\"IGJ\",\n",
    "    \"CTSL\":\"CTSL1\",\n",
    "    \"CTSV\":\"CTSL2\",\n",
    "     \"TEX30\":\"C13orf27\",\n",
    "     \"CENPU\":\"MLF1IP\",\n",
    "     \"CMSS1\":\"C3orf26\",\n",
    "     \"FAM216A\":\"C12orf24\",\n",
    "     \"HACD2\":\"PTPLB\",\n",
    "    \"MARCHF1\":\"MARCH1\"}\n",
    "mp_ids= {v: k for k, v in mp_ids.items()}"
   ]
  },
  {
   "cell_type": "code",
   "execution_count": 31,
   "metadata": {},
   "outputs": [],
   "source": [
    "nonhla_brian[\"gene\"].replace(mp_ids, inplace=True)\n",
    "nonhla_firebrowse[\"gene\"].replace(mp_ids, inplace=True)\n",
    "nonhla_pancan[\"gene\"].replace(mp_ids, inplace=True)\n",
    "\n",
    "hla_brian[\"gene\"].replace(mp_ids, inplace=True)\n",
    "hla_firebrowse[\"gene\"].replace(mp_ids, inplace=True)\n",
    "hla_pancan[\"gene\"].replace(mp_ids, inplace=True)"
   ]
  },
  {
   "cell_type": "code",
   "execution_count": 32,
   "metadata": {},
   "outputs": [],
   "source": [
    "nonhla_brian=nonhla_brian.rename(columns={\"V(G)/Vp\":\"brian V(G)/V(p)\",\"-log10(fdr)\":\"brian -log10(fdr)\"})\n",
    "nonhla_firebrowse=nonhla_firebrowse.rename(columns={\"V(G)/Vp\":\"firebrowse V(G)/V(p)\",\"-log10(fdr)\":\"firebrowse -log10(fdr)\"})\n",
    "nonhla_pancan=nonhla_pancan.rename(columns={\"V(G)/Vp\":\"pancan V(G)/V(p)\",\"-log10(fdr)\":\"pancan -log10(fdr)\"})\n"
   ]
  },
  {
   "cell_type": "code",
   "execution_count": 33,
   "metadata": {},
   "outputs": [],
   "source": [
    "hla_brian=hla_brian.rename(columns={\"V(G)/Vp\":\"brian V(G)/V(p)\",\"-log10(fdr)\":\"brian -log10(fdr)\"})\n",
    "hla_firebrowse=hla_firebrowse.rename(columns={\"V(G)/Vp\":\"firebrowse V(G)/V(p)\",\"-log10(fdr)\":\"firebrowse -log10(fdr)\"})\n",
    "hla_pancan=hla_pancan.rename(columns={\"V(G)/Vp\":\"pancan V(G)/V(p)\",\"-log10(fdr)\":\"pancan -log10(fdr)\"})\n"
   ]
  },
  {
   "cell_type": "code",
   "execution_count": 34,
   "metadata": {},
   "outputs": [],
   "source": [
    "total_nonhla=pd.merge(nonhla_brian[[\"brian V(G)/V(p)\",\"gene\",\"brian -log10(fdr)\"]],nonhla_firebrowse[[\"firebrowse V(G)/V(p)\",\"gene\",\"firebrowse -log10(fdr)\"]], on=\"gene\",how=\"outer\")\n",
    "total_nonhla=pd.merge(total_nonhla,nonhla_pancan[[\"pancan V(G)/V(p)\",\"gene\",\"pancan -log10(fdr)\"]],on=\"gene\",how=\"outer\")\n"
   ]
  },
  {
   "cell_type": "code",
   "execution_count": 35,
   "metadata": {},
   "outputs": [],
   "source": [
    "total_hla=pd.merge(hla_brian[[\"brian V(G)/V(p)\",\"gene\",\"brian -log10(fdr)\"]],hla_firebrowse[[\"firebrowse V(G)/V(p)\",\"gene\",\"firebrowse -log10(fdr)\"]], on=\"gene\",how=\"outer\")\n",
    "total_hla=pd.merge(total_hla,hla_pancan[[\"pancan V(G)/V(p)\",\"gene\",\"pancan -log10(fdr)\"]],on=\"gene\",how=\"outer\")\n"
   ]
  },
  {
   "cell_type": "code",
   "execution_count": 36,
   "metadata": {},
   "outputs": [],
   "source": [
    "total_nonhla[\"consensus V(g)/V(p)\"]=total_nonhla[[\"firebrowse V(G)/V(p)\",\"pancan V(G)/V(p)\"]].apply(lambda x: len([x for x in list(x) if x>0.05]), axis=1)\n",
    "total_nonhla[\"consensus fdr\"]=total_nonhla[[\"firebrowse -log10(fdr)\",\"pancan -log10(fdr)\"]].apply(lambda x: len([x for x in list(x) if x>1]), axis=1)\n"
   ]
  },
  {
   "cell_type": "code",
   "execution_count": 37,
   "metadata": {},
   "outputs": [],
   "source": [
    "total_hla[\"consensus V(g)/V(p)\"]=total_hla[[\"firebrowse V(G)/V(p)\",\"pancan V(G)/V(p)\"]].apply(lambda x: len([x for x in list(x) if x>0.05]), axis=1)\n",
    "total_hla[\"consensus fdr\"]=total_hla[[\"firebrowse -log10(fdr)\",\"pancan -log10(fdr)\"]].apply(lambda x: len([x for x in list(x) if x>1]), axis=1)\n"
   ]
  },
  {
   "cell_type": "code",
   "execution_count": 38,
   "metadata": {},
   "outputs": [],
   "source": [
    "total_nonhla.to_csv(\"nonhla_gcta_results.tsv\",sep=\"\\t\",index=None)\n",
    "total_hla.to_csv(\"hla_gcta_results.tsv\",sep=\"\\t\",index=None)"
   ]
  },
  {
   "cell_type": "code",
   "execution_count": 41,
   "metadata": {},
   "outputs": [
    {
     "data": {
      "text/html": [
       "<div>\n",
       "<style scoped>\n",
       "    .dataframe tbody tr th:only-of-type {\n",
       "        vertical-align: middle;\n",
       "    }\n",
       "\n",
       "    .dataframe tbody tr th {\n",
       "        vertical-align: top;\n",
       "    }\n",
       "\n",
       "    .dataframe thead th {\n",
       "        text-align: right;\n",
       "    }\n",
       "</style>\n",
       "<table border=\"1\" class=\"dataframe\">\n",
       "  <thead>\n",
       "    <tr style=\"text-align: right;\">\n",
       "      <th></th>\n",
       "      <th>brian V(G)/V(p)</th>\n",
       "      <th>gene</th>\n",
       "      <th>brian -log10(fdr)</th>\n",
       "      <th>firebrowse V(G)/V(p)</th>\n",
       "      <th>firebrowse -log10(fdr)</th>\n",
       "      <th>pancan V(G)/V(p)</th>\n",
       "      <th>pancan -log10(fdr)</th>\n",
       "      <th>consensus V(g)/V(p)</th>\n",
       "      <th>consensus fdr</th>\n",
       "    </tr>\n",
       "  </thead>\n",
       "  <tbody>\n",
       "    <tr>\n",
       "      <th>0</th>\n",
       "      <td>0.050055</td>\n",
       "      <td>PDIA3</td>\n",
       "      <td>0.664149</td>\n",
       "      <td>0.006458</td>\n",
       "      <td>0.301030</td>\n",
       "      <td>0.028543</td>\n",
       "      <td>0.324669</td>\n",
       "      <td>0</td>\n",
       "      <td>0</td>\n",
       "    </tr>\n",
       "    <tr>\n",
       "      <th>1</th>\n",
       "      <td>0.029649</td>\n",
       "      <td>TNFRSF9</td>\n",
       "      <td>0.572291</td>\n",
       "      <td>0.035394</td>\n",
       "      <td>0.426960</td>\n",
       "      <td>0.032488</td>\n",
       "      <td>0.420132</td>\n",
       "      <td>0</td>\n",
       "      <td>0</td>\n",
       "    </tr>\n",
       "    <tr>\n",
       "      <th>2</th>\n",
       "      <td>0.070778</td>\n",
       "      <td>CTSS</td>\n",
       "      <td>1.277438</td>\n",
       "      <td>0.037974</td>\n",
       "      <td>0.339425</td>\n",
       "      <td>0.057679</td>\n",
       "      <td>0.521608</td>\n",
       "      <td>1</td>\n",
       "      <td>0</td>\n",
       "    </tr>\n",
       "    <tr>\n",
       "      <th>3</th>\n",
       "      <td>0.000001</td>\n",
       "      <td>Proliferation</td>\n",
       "      <td>0.301030</td>\n",
       "      <td>0.000001</td>\n",
       "      <td>0.301030</td>\n",
       "      <td>0.000001</td>\n",
       "      <td>0.301030</td>\n",
       "      <td>0</td>\n",
       "      <td>0</td>\n",
       "    </tr>\n",
       "    <tr>\n",
       "      <th>4</th>\n",
       "      <td>0.000001</td>\n",
       "      <td>XCL1</td>\n",
       "      <td>0.301030</td>\n",
       "      <td>0.000001</td>\n",
       "      <td>0.301030</td>\n",
       "      <td>0.000001</td>\n",
       "      <td>0.301030</td>\n",
       "      <td>0</td>\n",
       "      <td>0</td>\n",
       "    </tr>\n",
       "  </tbody>\n",
       "</table>\n",
       "</div>"
      ],
      "text/plain": [
       "   brian V(G)/V(p)           gene  brian -log10(fdr)  firebrowse V(G)/V(p)  \\\n",
       "0         0.050055          PDIA3           0.664149              0.006458   \n",
       "1         0.029649        TNFRSF9           0.572291              0.035394   \n",
       "2         0.070778           CTSS           1.277438              0.037974   \n",
       "3         0.000001  Proliferation           0.301030              0.000001   \n",
       "4         0.000001           XCL1           0.301030              0.000001   \n",
       "\n",
       "   firebrowse -log10(fdr)  pancan V(G)/V(p)  pancan -log10(fdr)  \\\n",
       "0                0.301030          0.028543            0.324669   \n",
       "1                0.426960          0.032488            0.420132   \n",
       "2                0.339425          0.057679            0.521608   \n",
       "3                0.301030          0.000001            0.301030   \n",
       "4                0.301030          0.000001            0.301030   \n",
       "\n",
       "   consensus V(g)/V(p)  consensus fdr  \n",
       "0                    0              0  \n",
       "1                    0              0  \n",
       "2                    1              0  \n",
       "3                    0              0  \n",
       "4                    0              0  "
      ]
     },
     "execution_count": 41,
     "metadata": {},
     "output_type": "execute_result"
    }
   ],
   "source": [
    "total_nonhla.head()"
   ]
  },
  {
   "cell_type": "code",
   "execution_count": null,
   "metadata": {},
   "outputs": [],
   "source": []
  }
 ],
 "metadata": {
  "kernelspec": {
   "display_name": "Python 3",
   "language": "python",
   "name": "python3"
  },
  "language_info": {
   "codemirror_mode": {
    "name": "ipython",
    "version": 3
   },
   "file_extension": ".py",
   "mimetype": "text/x-python",
   "name": "python",
   "nbconvert_exporter": "python",
   "pygments_lexer": "ipython3",
   "version": "3.7.7"
  }
 },
 "nbformat": 4,
 "nbformat_minor": 2
}
